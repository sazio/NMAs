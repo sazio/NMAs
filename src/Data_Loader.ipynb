{
  "nbformat": 4,
  "nbformat_minor": 0,
  "metadata": {
    "colab": {
      "name": "Data_Loader.ipynb",
      "provenance": [],
      "collapsed_sections": [],
      "include_colab_link": true
    },
    "kernelspec": {
      "name": "python3",
      "display_name": "Python 3"
    },
    "language_info": {
      "name": "python"
    },
    "accelerator": "GPU",
    "widgets": {
      "application/vnd.jupyter.widget-state+json": {
        "89c1cb5a99704e0a9e384f61f26cad18": {
          "model_module": "@jupyter-widgets/controls",
          "model_name": "HBoxModel",
          "model_module_version": "1.5.0",
          "state": {
            "_view_name": "HBoxView",
            "_dom_classes": [],
            "_model_name": "HBoxModel",
            "_view_module": "@jupyter-widgets/controls",
            "_model_module_version": "1.5.0",
            "_view_count": null,
            "_view_module_version": "1.5.0",
            "box_style": "",
            "layout": "IPY_MODEL_12e45bdd2d024d9fa618c566b092c1ba",
            "_model_module": "@jupyter-widgets/controls",
            "children": [
              "IPY_MODEL_f96fb882e6bc4e08aca9faddfb0e42cc",
              "IPY_MODEL_f147e5cfa920495d90664f55e51c6597"
            ]
          }
        },
        "12e45bdd2d024d9fa618c566b092c1ba": {
          "model_module": "@jupyter-widgets/base",
          "model_name": "LayoutModel",
          "model_module_version": "1.2.0",
          "state": {
            "_view_name": "LayoutView",
            "grid_template_rows": null,
            "right": null,
            "justify_content": null,
            "_view_module": "@jupyter-widgets/base",
            "overflow": null,
            "_model_module_version": "1.2.0",
            "_view_count": null,
            "flex_flow": null,
            "width": null,
            "min_width": null,
            "border": null,
            "align_items": null,
            "bottom": null,
            "_model_module": "@jupyter-widgets/base",
            "top": null,
            "grid_column": null,
            "overflow_y": null,
            "overflow_x": null,
            "grid_auto_flow": null,
            "grid_area": null,
            "grid_template_columns": null,
            "flex": null,
            "_model_name": "LayoutModel",
            "justify_items": null,
            "grid_row": null,
            "max_height": null,
            "align_content": null,
            "visibility": null,
            "align_self": null,
            "height": null,
            "min_height": null,
            "padding": null,
            "grid_auto_rows": null,
            "grid_gap": null,
            "max_width": null,
            "order": null,
            "_view_module_version": "1.2.0",
            "grid_template_areas": null,
            "object_position": null,
            "object_fit": null,
            "grid_auto_columns": null,
            "margin": null,
            "display": null,
            "left": null
          }
        },
        "f96fb882e6bc4e08aca9faddfb0e42cc": {
          "model_module": "@jupyter-widgets/controls",
          "model_name": "FloatProgressModel",
          "model_module_version": "1.5.0",
          "state": {
            "_view_name": "ProgressView",
            "style": "IPY_MODEL_3f07b7b6779e4fc68c0ad94151c76e8f",
            "_dom_classes": [],
            "description": "  1%",
            "_model_name": "FloatProgressModel",
            "bar_style": "danger",
            "max": 100000,
            "_view_module": "@jupyter-widgets/controls",
            "_model_module_version": "1.5.0",
            "value": 632,
            "_view_count": null,
            "_view_module_version": "1.5.0",
            "orientation": "horizontal",
            "min": 0,
            "description_tooltip": null,
            "_model_module": "@jupyter-widgets/controls",
            "layout": "IPY_MODEL_2777fc92b62844e881c5acf2a98eaa2e"
          }
        },
        "f147e5cfa920495d90664f55e51c6597": {
          "model_module": "@jupyter-widgets/controls",
          "model_name": "HTMLModel",
          "model_module_version": "1.5.0",
          "state": {
            "_view_name": "HTMLView",
            "style": "IPY_MODEL_9be31ba8ace74b06991a27ca945de8eb",
            "_dom_classes": [],
            "description": "",
            "_model_name": "HTMLModel",
            "placeholder": "​",
            "_view_module": "@jupyter-widgets/controls",
            "_model_module_version": "1.5.0",
            "value": " 632/100000 [02:47&lt;7:14:25,  3.81it/s]",
            "_view_count": null,
            "_view_module_version": "1.5.0",
            "description_tooltip": null,
            "_model_module": "@jupyter-widgets/controls",
            "layout": "IPY_MODEL_610f726b6e2a4ed8a0d830cf454f6e1e"
          }
        },
        "3f07b7b6779e4fc68c0ad94151c76e8f": {
          "model_module": "@jupyter-widgets/controls",
          "model_name": "ProgressStyleModel",
          "model_module_version": "1.5.0",
          "state": {
            "_view_name": "StyleView",
            "_model_name": "ProgressStyleModel",
            "description_width": "initial",
            "_view_module": "@jupyter-widgets/base",
            "_model_module_version": "1.5.0",
            "_view_count": null,
            "_view_module_version": "1.2.0",
            "bar_color": null,
            "_model_module": "@jupyter-widgets/controls"
          }
        },
        "2777fc92b62844e881c5acf2a98eaa2e": {
          "model_module": "@jupyter-widgets/base",
          "model_name": "LayoutModel",
          "model_module_version": "1.2.0",
          "state": {
            "_view_name": "LayoutView",
            "grid_template_rows": null,
            "right": null,
            "justify_content": null,
            "_view_module": "@jupyter-widgets/base",
            "overflow": null,
            "_model_module_version": "1.2.0",
            "_view_count": null,
            "flex_flow": null,
            "width": null,
            "min_width": null,
            "border": null,
            "align_items": null,
            "bottom": null,
            "_model_module": "@jupyter-widgets/base",
            "top": null,
            "grid_column": null,
            "overflow_y": null,
            "overflow_x": null,
            "grid_auto_flow": null,
            "grid_area": null,
            "grid_template_columns": null,
            "flex": null,
            "_model_name": "LayoutModel",
            "justify_items": null,
            "grid_row": null,
            "max_height": null,
            "align_content": null,
            "visibility": null,
            "align_self": null,
            "height": null,
            "min_height": null,
            "padding": null,
            "grid_auto_rows": null,
            "grid_gap": null,
            "max_width": null,
            "order": null,
            "_view_module_version": "1.2.0",
            "grid_template_areas": null,
            "object_position": null,
            "object_fit": null,
            "grid_auto_columns": null,
            "margin": null,
            "display": null,
            "left": null
          }
        },
        "9be31ba8ace74b06991a27ca945de8eb": {
          "model_module": "@jupyter-widgets/controls",
          "model_name": "DescriptionStyleModel",
          "model_module_version": "1.5.0",
          "state": {
            "_view_name": "StyleView",
            "_model_name": "DescriptionStyleModel",
            "description_width": "",
            "_view_module": "@jupyter-widgets/base",
            "_model_module_version": "1.5.0",
            "_view_count": null,
            "_view_module_version": "1.2.0",
            "_model_module": "@jupyter-widgets/controls"
          }
        },
        "610f726b6e2a4ed8a0d830cf454f6e1e": {
          "model_module": "@jupyter-widgets/base",
          "model_name": "LayoutModel",
          "model_module_version": "1.2.0",
          "state": {
            "_view_name": "LayoutView",
            "grid_template_rows": null,
            "right": null,
            "justify_content": null,
            "_view_module": "@jupyter-widgets/base",
            "overflow": null,
            "_model_module_version": "1.2.0",
            "_view_count": null,
            "flex_flow": null,
            "width": null,
            "min_width": null,
            "border": null,
            "align_items": null,
            "bottom": null,
            "_model_module": "@jupyter-widgets/base",
            "top": null,
            "grid_column": null,
            "overflow_y": null,
            "overflow_x": null,
            "grid_auto_flow": null,
            "grid_area": null,
            "grid_template_columns": null,
            "flex": null,
            "_model_name": "LayoutModel",
            "justify_items": null,
            "grid_row": null,
            "max_height": null,
            "align_content": null,
            "visibility": null,
            "align_self": null,
            "height": null,
            "min_height": null,
            "padding": null,
            "grid_auto_rows": null,
            "grid_gap": null,
            "max_width": null,
            "order": null,
            "_view_module_version": "1.2.0",
            "grid_template_areas": null,
            "object_position": null,
            "object_fit": null,
            "grid_auto_columns": null,
            "margin": null,
            "display": null,
            "left": null
          }
        }
      }
    }
  },
  "cells": [
    {
      "cell_type": "markdown",
      "metadata": {
        "id": "view-in-github",
        "colab_type": "text"
      },
      "source": [
        "<a href=\"https://colab.research.google.com/github/sazio/NMAs/blob/main/src/Data_Loader.ipynb\" target=\"_parent\"><img src=\"https://colab.research.google.com/assets/colab-badge.svg\" alt=\"Open In Colab\"/></a>"
      ]
    },
    {
      "cell_type": "markdown",
      "metadata": {
        "id": "ji-aTo7SA1AB"
      },
      "source": [
        "#Exploratory Data Analysis of Stringer Dataset \n",
        "@authors: Simone Azeglio, Chetan Dhulipalla , Khalid Saifullah \n",
        "\n",
        "\n",
        "Part of the code here has been taken from [Neuromatch Academy's Computational Neuroscience Course](https://compneuro.neuromatch.io/projects/neurons/README.html), and specifically from [this notebook](https://colab.research.google.com/github/NeuromatchAcademy/course-content/blob/master/projects/neurons/load_stringer_spontaneous.ipynb)"
      ]
    },
    {
      "cell_type": "markdown",
      "metadata": {
        "id": "x2LTF6oe-U8R"
      },
      "source": [
        "# to do list\n",
        "\n",
        "1. custom normalization: dividing by mean value per neuron\n",
        "1a. downsampling: convolve then downsample by 5\n",
        "2. training validation split: withhold last 20 percent of time series for testing\n",
        "3. RNN for each layer: a way to capture the dynamics inside each layer instead of capturing extra dynamics from inter-layer interactions. it will be OK to compare the different RNNs. maintain same neuron count in each layer to reduce potential bias \n",
        "4. layer weight regularization: L2 \n",
        "5. early stopping , dropout?"
      ]
    },
    {
      "cell_type": "markdown",
      "metadata": {
        "id": "vs7e5ppCMYCK"
      },
      "source": [
        "## Loading of Stringer spontaneous data\n",
        "\n"
      ]
    },
    {
      "cell_type": "code",
      "metadata": {
        "id": "u0nA90QhJurD",
        "cellView": "form"
      },
      "source": [
        "#@title Data retrieval\n",
        "import os, requests\n",
        "\n",
        "fname = \"stringer_spontaneous.npy\"\n",
        "url = \"https://osf.io/dpqaj/download\"\n",
        "\n",
        "if not os.path.isfile(fname):\n",
        "  try:\n",
        "    r = requests.get(url)\n",
        "  except requests.ConnectionError:\n",
        "    print(\"!!! Failed to download data !!!\")\n",
        "  else:\n",
        "    if r.status_code != requests.codes.ok:\n",
        "      print(\"!!! Failed to download data !!!\")\n",
        "    else:\n",
        "      with open(fname, \"wb\") as fid:\n",
        "        fid.write(r.content)"
      ],
      "execution_count": 1,
      "outputs": []
    },
    {
      "cell_type": "code",
      "metadata": {
        "id": "FgbdwXWDSUpO",
        "cellView": "form"
      },
      "source": [
        "#@title Import matplotlib and set defaults\n",
        "from matplotlib import rcParams \n",
        "from matplotlib import pyplot as plt\n",
        "rcParams['figure.figsize'] = [20, 4]\n",
        "rcParams['font.size'] =15\n",
        "rcParams['axes.spines.top'] = False\n",
        "rcParams['axes.spines.right'] = False\n",
        "rcParams['figure.autolayout'] = True"
      ],
      "execution_count": 2,
      "outputs": []
    },
    {
      "cell_type": "markdown",
      "metadata": {
        "id": "SRWWoEX0-sYp"
      },
      "source": [
        "## Exploratory Data Analysis (EDA)"
      ]
    },
    {
      "cell_type": "code",
      "metadata": {
        "id": "6ulJ34TyRZo6",
        "colab": {
          "base_uri": "https://localhost:8080/"
        },
        "outputId": "4bce68f0-7de1-4404-c8f1-d59e70ddc748"
      },
      "source": [
        "#@title Data loading\n",
        "import numpy as np\n",
        "dat = np.load('stringer_spontaneous.npy', allow_pickle=True).item()\n",
        "print(dat.keys())"
      ],
      "execution_count": 3,
      "outputs": [
        {
          "output_type": "stream",
          "text": [
            "dict_keys(['sresp', 'run', 'beh_svd_time', 'beh_svd_mask', 'stat', 'pupilArea', 'pupilCOM', 'xyz'])\n"
          ],
          "name": "stdout"
        }
      ]
    },
    {
      "cell_type": "code",
      "metadata": {
        "id": "KGn2iJGmFpLC"
      },
      "source": [
        "# functions \n",
        "\n",
        "def moving_avg(array, factor = 5):\n",
        "  \"\"\"Reducing the number of compontents by averaging of N = factor\n",
        "  subsequent elements of array\"\"\"\n",
        "  zeros_ = np.zeros((array.shape[0], 2))\n",
        "  array = np.hstack((array, zeros_))\n",
        "\n",
        "  array = np.reshape(array, (array.shape[0],  int(array.shape[1]/factor), factor))\n",
        "  array = np.mean(array, axis = 2)\n",
        "\n",
        "  return array"
      ],
      "execution_count": 4,
      "outputs": []
    },
    {
      "cell_type": "markdown",
      "metadata": {
        "id": "ZdjYTZeV-yhR"
      },
      "source": [
        "## Extracting Data for RNN (or LFADS)\n",
        "The first problem to address is that for each layer we don't have the exact same number of neurons. We'd like to have a single RNN encoding all the different layers activities, to make it easier we can take the number of neurons ($N_{neurons} = 1131$ of the least represented class (layer) and level out each remaining class. "
      ]
    },
    {
      "cell_type": "code",
      "metadata": {
        "id": "mEy_qiyKY1xG"
      },
      "source": [
        "# Extract labels from z - coordinate\n",
        "from sklearn import preprocessing\n",
        "x, y, z = dat['xyz']\n",
        "\n",
        "le = preprocessing.LabelEncoder()\n",
        "labels = le.fit_transform(z)\n",
        "### least represented class (layer with less neurons)\n",
        "n_samples = np.histogram(labels, bins=9)[0][-1]"
      ],
      "execution_count": 5,
      "outputs": []
    },
    {
      "cell_type": "code",
      "metadata": {
        "id": "lb3M2PSOZpMW"
      },
      "source": [
        "### Data for LFADS / RNN \n",
        "import pandas as pd \n",
        "dataSet = pd.DataFrame(dat[\"sresp\"])\n",
        "dataSet[\"label\"] = labels "
      ],
      "execution_count": 6,
      "outputs": []
    },
    {
      "cell_type": "code",
      "metadata": {
        "id": "fYThvxV-2Nl6"
      },
      "source": [
        "# it can be done in one loop ... \n",
        "data_ = []\n",
        "for i in range(0, 9):\n",
        "  data_.append(dataSet[dataSet[\"label\"] == i].sample(n = n_samples).iloc[:,:-1])\n",
        "\n",
        "dataRNN = np.zeros((n_samples*9, dataSet.shape[1]-1))\n",
        "for i in range(0,9):\n",
        "  dataRNN[n_samples*i:n_samples*(i+1), :] = data_[i]\n",
        "\n",
        "## shuffling for training purposes\n",
        "\n",
        "#np.random.shuffle(dataRNN)"
      ],
      "execution_count": 7,
      "outputs": []
    },
    {
      "cell_type": "code",
      "metadata": {
        "id": "3WAqcnCTrZAz"
      },
      "source": [
        "unshuffled = np.array(data_)"
      ],
      "execution_count": 8,
      "outputs": []
    },
    {
      "cell_type": "code",
      "metadata": {
        "id": "680ch36_-e0m",
        "cellView": "form"
      },
      "source": [
        "#@title Convolutions code\n",
        "\n",
        "# convolution moving average\n",
        "\n",
        "# kernel_length = 50\n",
        "# averaging_kernel = np.ones(kernel_length) / kernel_length\n",
        "\n",
        "# dataRNN.shape\n",
        "\n",
        "# avgd_dataRNN = list()\n",
        "\n",
        "# for neuron in dataRNN:\n",
        "#   avgd_dataRNN.append(np.convolve(neuron, averaging_kernel))\n",
        "\n",
        "# avg_dataRNN = np.array(avgd_dataRNN)\n",
        "\n",
        "# print(avg_dataRNN.shape)"
      ],
      "execution_count": 9,
      "outputs": []
    },
    {
      "cell_type": "code",
      "metadata": {
        "id": "63S3144a31FI",
        "cellView": "form"
      },
      "source": [
        "# @title Z Score Code \n",
        "\n",
        "\n",
        "# from scipy.stats import zscore\n",
        "\n",
        "\n",
        "# neuron = 500\n",
        "\n",
        "# scaled_all = zscore(avg_dataRNN)\n",
        "# scaled_per_neuron = zscore(avg_dataRNN[neuron, :])\n",
        "\n",
        "# scaled_per_layer = list()\n",
        "\n",
        "# for layer in unshuffled:\n",
        "#   scaled_per_layer.append(zscore(layer))\n",
        "\n",
        "# scaled_per_layer = np.array(scaled_per_layer)\n",
        "\n",
        "\n",
        "\n",
        "# plt.plot(avg_dataRNN[neuron, :])\n",
        "# plt.plot(avg_dataRNN[2500, :])\n",
        "# plt.figure()\n",
        "# plt.plot(dataRNN[neuron, :])\n",
        "# plt.figure()\n",
        "# plt.plot(scaled_all[neuron, :])\n",
        "# plt.plot(scaled_per_neuron)\n",
        "# plt.figure()\n",
        "# plt.plot(scaled_per_layer[0,neuron,:])\n"
      ],
      "execution_count": 10,
      "outputs": []
    },
    {
      "cell_type": "code",
      "metadata": {
        "id": "hE-4w_4V-Gzx"
      },
      "source": [
        "# custom normalization\n",
        "\n",
        "normed_dataRNN = list()\n",
        "for neuron in dataRNN:\n",
        "  normed_dataRNN.append(neuron / neuron.mean())\n",
        "normed_dataRNN = np.array(normed_dataRNN)\n",
        "\n",
        "# downsampling and averaging \n",
        "\n",
        "avgd_normed_dataRNN = moving_avg(normed_dataRNN, factor=5)"
      ],
      "execution_count": 11,
      "outputs": []
    },
    {
      "cell_type": "markdown",
      "metadata": {
        "id": "SeNxo6vsv1Oq"
      },
      "source": [
        "issue: does the individual scaling by layer introduce bias that may artificially increase performance of the network?"
      ]
    },
    {
      "cell_type": "markdown",
      "metadata": {
        "id": "0MrXC5QIiyhJ"
      },
      "source": [
        "## Data Loader \n"
      ]
    },
    {
      "cell_type": "code",
      "metadata": {
        "id": "255tz5iqmSq1"
      },
      "source": [
        "import torch\n",
        "import torch.nn as nn\n",
        "import torch.nn.functional as F"
      ],
      "execution_count": 12,
      "outputs": []
    },
    {
      "cell_type": "code",
      "metadata": {
        "id": "467WOHhtmXmb"
      },
      "source": [
        "device = torch.device('cuda' if torch.cuda.is_available() else 'cpu')"
      ],
      "execution_count": 13,
      "outputs": []
    },
    {
      "cell_type": "code",
      "metadata": {
        "id": "Dcb5vW2joVW_"
      },
      "source": [
        "# set the seed\n",
        "np.random.seed(42)\n",
        "\n",
        "# number of neurons \n",
        "NN = dataRNN.shape[0]\n",
        "\n",
        "# let's use 270 latent components\n",
        "ncomp = 10"
      ],
      "execution_count": 14,
      "outputs": []
    },
    {
      "cell_type": "code",
      "metadata": {
        "id": "bXJPQdu17Ns5",
        "colab": {
          "base_uri": "https://localhost:8080/"
        },
        "outputId": "9f63cfd4-ae34-4603-86a7-1c70f38f4d1e"
      },
      "source": [
        "# swapping the axes to maintain consistency with seq2seq notebook in the following code - the network takes all the neurons at a time step as input, not just one neuron\n",
        "\n",
        "# avgd_normed_dataRNN = np.swapaxes(avgd_normed_dataRNN, 0, 1)\n",
        "avgd_normed_dataRNN.shape"
      ],
      "execution_count": 15,
      "outputs": [
        {
          "output_type": "execute_result",
          "data": {
            "text/plain": [
              "(10179, 1404)"
            ]
          },
          "metadata": {
            "tags": []
          },
          "execution_count": 15
        }
      ]
    },
    {
      "cell_type": "code",
      "metadata": {
        "id": "Prl0OxLZkka9"
      },
      "source": [
        "frac = 5/6\n",
        "#x1 = torch.from_numpy(dataRNN[:,:int(frac*dataRNN.shape[1])]).to(device).float().unsqueeze(0)\n",
        "#x2 = torch.from_numpy(dataRNN[:,int(frac*dataRNN.shape[1]):]).to(device).float().unsqueeze(0)\n",
        "x1 = torch.from_numpy(avgd_normed_dataRNN[:50,:]).to(device).float().unsqueeze(2)\n",
        "x2 = torch.from_numpy(avgd_normed_dataRNN[:50,:]).to(device).float().unsqueeze(2)\n",
        "\n",
        "NN1 = x1.shape[-1]\n",
        "NN2 = x2.shape[-1]"
      ],
      "execution_count": 16,
      "outputs": []
    },
    {
      "cell_type": "code",
      "metadata": {
        "id": "M-wyjRkUWGN7",
        "colab": {
          "base_uri": "https://localhost:8080/"
        },
        "outputId": "ee928aa4-1616-4d93-993d-fc57ee1a88ac"
      },
      "source": [
        "x1.shape"
      ],
      "execution_count": 17,
      "outputs": [
        {
          "output_type": "execute_result",
          "data": {
            "text/plain": [
              "torch.Size([50, 1404, 1])"
            ]
          },
          "metadata": {
            "tags": []
          },
          "execution_count": 17
        }
      ]
    },
    {
      "cell_type": "code",
      "metadata": {
        "id": "01IvhjPzk-Jw"
      },
      "source": [
        "class Net(nn.Module):\n",
        "  def __init__(self, ncomp, NN1, NN2, bidi=True):\n",
        "    super(Net, self).__init__()\n",
        "\n",
        "    self.ncomp = ncomp\n",
        "    # play with some of the options in the RNN!\n",
        "    self.rnn = nn.RNN(NN1, ncomp, num_layers = 1, dropout = 0,\n",
        "                      bidirectional = bidi, nonlinearity = 'tanh')\n",
        "    self.fc = nn.Linear(ncomp, NN2)\n",
        "\n",
        "  def forward(self, x):\n",
        "    x = x.permute(1, 0, 2)\n",
        "    # print(x.shape)\n",
        "    h_0 = torch.zeros(2, x.size()[1], self.ncomp).to(device)\n",
        "    \n",
        "    y, h_n = self.rnn(x, h_0)\n",
        "\n",
        "    # print(y.shape)\n",
        "    # print(h_n.shape)\n",
        "    if self.rnn.bidirectional:\n",
        "      # if the rnn is bidirectional, it concatenates the activations from the forward and backward pass\n",
        "      # we want to add them instead, so as to enforce the latents to match between the forward and backward pass\n",
        "      q = (y[:, :, :ncomp] + y[:, :, ncomp:])/2\n",
        "    else:\n",
        "      q = y\n",
        "\n",
        "    \n",
        "    # the softplus function is just like a relu but it's smoothed out so we can't predict 0\n",
        "    # if we predict 0 and there was a spike, that's an instant Inf in the Poisson log-likelihood which leads to failure\n",
        "    #z = F.softplus(self.fc(q), 10)\n",
        "    # print(q.shape)\n",
        "    z = self.fc(q).permute(1, 0, 2)\n",
        "    # print(z.shape)\n",
        "    return z, q"
      ],
      "execution_count": 27,
      "outputs": []
    },
    {
      "cell_type": "code",
      "metadata": {
        "id": "xZTIVEn7aas9",
        "colab": {
          "base_uri": "https://localhost:8080/"
        },
        "outputId": "dfca66b9-64a6-43ad-e39f-15a6a46aac18"
      },
      "source": [
        "NN2"
      ],
      "execution_count": 19,
      "outputs": [
        {
          "output_type": "execute_result",
          "data": {
            "text/plain": [
              "1"
            ]
          },
          "metadata": {
            "tags": []
          },
          "execution_count": 19
        }
      ]
    },
    {
      "cell_type": "code",
      "metadata": {
        "id": "sQGEVQaGmwV6"
      },
      "source": [
        "# we initialize the neural network\n",
        "net = Net(ncomp, NN1, NN2, bidi = True).to(device)\n",
        "\n",
        "# special thing:  we initialize the biases of the last layer in the neural network\n",
        "# we set them as the mean firing rates of the neurons.\n",
        "# this should make the initial predictions close to the mean, because the latents don't contribute much\n",
        "net.fc.bias.data[:] = x1.mean(axis = (0,1))\n",
        "\n",
        "# we set up the optimizer. Adjust the learning rate if the training is slow or if it explodes.\n",
        "optimizer = torch.optim.Adam(net.parameters(), lr=.02)"
      ],
      "execution_count": 28,
      "outputs": []
    },
    {
      "cell_type": "code",
      "metadata": {
        "id": "SzvKjuTvmwYa",
        "colab": {
          "base_uri": "https://localhost:8080/"
        },
        "outputId": "b0fdb686-324a-489d-8de0-5a53db0ff926"
      },
      "source": [
        "# forward check \n",
        "net(x1)"
      ],
      "execution_count": null,
      "outputs": [
        {
          "output_type": "execute_result",
          "data": {
            "text/plain": [
              "(tensor([[[0.8459],\n",
              "          [0.9829],\n",
              "          [1.0113],\n",
              "          ...,\n",
              "          [0.8708],\n",
              "          [0.8506],\n",
              "          [0.8611]],\n",
              " \n",
              "         [[0.8900],\n",
              "          [0.8911],\n",
              "          [0.8882],\n",
              "          ...,\n",
              "          [0.8926],\n",
              "          [0.8718],\n",
              "          [0.8626]],\n",
              " \n",
              "         [[0.8724],\n",
              "          [0.8529],\n",
              "          [0.8814],\n",
              "          ...,\n",
              "          [0.8817],\n",
              "          [0.8866],\n",
              "          [0.8575]],\n",
              " \n",
              "         ...,\n",
              " \n",
              "         [[0.8678],\n",
              "          [0.8886],\n",
              "          [0.8712],\n",
              "          ...,\n",
              "          [0.8766],\n",
              "          [0.8976],\n",
              "          [0.8676]],\n",
              " \n",
              "         [[0.8832],\n",
              "          [0.8506],\n",
              "          [0.8820],\n",
              "          ...,\n",
              "          [0.8764],\n",
              "          [0.8675],\n",
              "          [0.8821]],\n",
              " \n",
              "         [[0.8438],\n",
              "          [0.8363],\n",
              "          [0.8385],\n",
              "          ...,\n",
              "          [0.8735],\n",
              "          [1.0125],\n",
              "          [0.8889]]], device='cuda:0', grad_fn=<PermuteBackward>),\n",
              " tensor([[[-1.2445e-01,  1.6058e-01, -2.4614e-01,  ..., -6.2405e-02,\n",
              "            4.6387e-01,  1.3908e-01],\n",
              "          [-1.6934e-01,  1.9838e-01, -3.6772e-01,  ..., -1.5093e-01,\n",
              "            5.6711e-01, -2.8999e-02],\n",
              "          [-1.4480e-01,  1.1895e-01, -3.3654e-01,  ..., -1.5602e-01,\n",
              "            4.9616e-01,  2.8342e-03],\n",
              "          ...,\n",
              "          [-1.4829e-01,  1.4391e-01, -3.3346e-01,  ..., -1.3529e-01,\n",
              "            5.1226e-01,  2.5630e-02],\n",
              "          [-1.6455e-01,  1.3722e-01, -3.5763e-01,  ..., -1.7662e-01,\n",
              "            5.2756e-01, -4.3456e-02],\n",
              "          [-1.0705e-01,  3.2166e-02, -2.9321e-01,  ..., -1.3782e-01,\n",
              "            3.8729e-01,  8.4578e-02]],\n",
              " \n",
              "         [[-2.6915e-01,  4.1783e-01, -5.1178e-01,  ..., -2.0307e-01,\n",
              "            7.4244e-01, -2.6887e-01],\n",
              "          [-1.6715e-01,  1.9044e-01, -4.3003e-01,  ..., -1.8548e-01,\n",
              "            5.3127e-01, -2.8364e-02],\n",
              "          [-1.2201e-01,  9.3914e-02, -3.5116e-01,  ..., -1.4591e-01,\n",
              "            4.2077e-01,  7.4744e-02],\n",
              "          ...,\n",
              "          [-1.5934e-01,  1.6198e-01, -3.9660e-01,  ..., -1.8615e-01,\n",
              "            5.1027e-01, -3.0764e-02],\n",
              "          [-9.7194e-02,  7.1332e-02, -3.3657e-01,  ..., -1.3468e-01,\n",
              "            3.7756e-01,  1.1723e-01],\n",
              "          [-9.4538e-02,  9.3630e-04, -2.9348e-01,  ..., -1.4469e-01,\n",
              "            3.2286e-01,  9.9613e-02]],\n",
              " \n",
              "         [[-2.2139e-01,  4.4891e-01, -6.2232e-01,  ..., -2.4416e-01,\n",
              "            7.3638e-01, -2.5125e-01],\n",
              "          [-9.5784e-02,  1.1823e-01, -3.9982e-01,  ..., -1.6156e-01,\n",
              "            4.2275e-01,  7.2956e-05],\n",
              "          [-1.1961e-01,  1.1005e-01, -3.6556e-01,  ..., -1.6488e-01,\n",
              "            4.4489e-01, -3.3886e-02],\n",
              "          ...,\n",
              "          [-9.9594e-02,  1.3443e-01, -3.8807e-01,  ..., -1.3621e-01,\n",
              "            4.2912e-01,  4.6322e-02],\n",
              "          [-1.1576e-01,  1.2965e-01, -3.6465e-01,  ..., -1.4797e-01,\n",
              "            4.5036e-01, -2.8065e-02],\n",
              "          [-9.1794e-02,  1.9654e-02, -2.8930e-01,  ..., -1.3272e-01,\n",
              "            3.4399e-01,  6.9781e-02]],\n",
              " \n",
              "         ...,\n",
              " \n",
              "         [[-4.7311e-02, -5.9116e-02, -2.5940e-01,  ..., -1.0223e-01,\n",
              "            2.6776e-01,  2.5040e-02],\n",
              "          [-1.6260e-01,  1.2106e-01, -3.4672e-01,  ..., -1.8381e-01,\n",
              "            4.6572e-01, -8.8779e-02],\n",
              "          [-1.2366e-01,  9.6310e-02, -3.1802e-01,  ..., -1.4873e-01,\n",
              "            4.2627e-01, -2.5432e-02],\n",
              "          ...,\n",
              "          [-8.9418e-02,  5.7346e-02, -3.0011e-01,  ..., -1.1491e-01,\n",
              "            3.7956e-01,  1.8252e-02],\n",
              "          [-1.2082e-01,  4.6716e-02, -2.7685e-01,  ..., -1.4209e-01,\n",
              "            4.0942e-01, -3.9486e-02],\n",
              "          [-1.3736e-01,  1.8141e-01, -3.2975e-01,  ..., -8.7722e-02,\n",
              "            4.8026e-01,  3.4121e-02]],\n",
              " \n",
              "         [[-1.0791e-01,  5.7449e-02, -2.3731e-01,  ..., -1.2451e-01,\n",
              "            3.5525e-01,  7.1859e-02],\n",
              "          [-7.3615e-02,  9.5300e-02, -2.8155e-01,  ..., -1.4275e-01,\n",
              "            3.2308e-01,  8.6865e-02],\n",
              "          [-1.2182e-01,  1.4004e-01, -3.1518e-01,  ..., -1.6902e-01,\n",
              "            4.1631e-01, -4.0327e-03],\n",
              "          ...,\n",
              "          [-1.5030e-01,  1.7606e-01, -3.3390e-01,  ..., -1.7113e-01,\n",
              "            4.8566e-01, -5.6605e-02],\n",
              "          [-1.1752e-01,  1.3772e-01, -2.8845e-01,  ..., -1.4863e-01,\n",
              "            4.1672e-01,  5.5324e-02],\n",
              "          [-2.4301e-01,  3.9745e-01, -5.2002e-01,  ..., -2.6899e-01,\n",
              "            7.3717e-01, -3.6564e-01]],\n",
              " \n",
              "         [[-1.9054e-01,  9.2860e-02, -2.8205e-01,  ..., -1.4445e-01,\n",
              "            3.0917e-01, -9.7779e-02],\n",
              "          [-1.3482e-01,  4.4870e-02, -2.5971e-01,  ..., -1.0336e-01,\n",
              "            2.3188e-01, -5.2446e-02],\n",
              "          [-1.3019e-01,  4.1089e-02, -2.6995e-01,  ..., -1.0648e-01,\n",
              "            2.1250e-01, -1.4588e-02],\n",
              "          ...,\n",
              "          [-1.6147e-01,  9.0441e-02, -3.1281e-01,  ..., -1.3151e-01,\n",
              "            2.8671e-01, -5.4165e-02],\n",
              "          [-1.8425e-01,  1.3195e-01, -3.2325e-01,  ..., -1.4543e-01,\n",
              "            3.4867e-01, -1.3127e-01],\n",
              "          [-1.2983e-01,  1.4173e-01, -3.9915e-01,  ..., -1.3022e-01,\n",
              "            2.8998e-01, -4.3117e-03]]], device='cuda:0', grad_fn=<DivBackward0>))"
            ]
          },
          "metadata": {
            "tags": []
          },
          "execution_count": 126
        }
      ]
    },
    {
      "cell_type": "markdown",
      "metadata": {
        "id": "2hlfx8Ltp5jJ"
      },
      "source": [
        "## Training "
      ]
    },
    {
      "cell_type": "code",
      "metadata": {
        "id": "KjzD06B9ta3n"
      },
      "source": [
        "from tqdm.notebook import tqdm"
      ],
      "execution_count": 29,
      "outputs": []
    },
    {
      "cell_type": "code",
      "metadata": {
        "colab": {
          "base_uri": "https://localhost:8080/",
          "height": 457,
          "referenced_widgets": [
            "89c1cb5a99704e0a9e384f61f26cad18",
            "12e45bdd2d024d9fa618c566b092c1ba",
            "f96fb882e6bc4e08aca9faddfb0e42cc",
            "f147e5cfa920495d90664f55e51c6597",
            "3f07b7b6779e4fc68c0ad94151c76e8f",
            "2777fc92b62844e881c5acf2a98eaa2e",
            "9be31ba8ace74b06991a27ca945de8eb",
            "610f726b6e2a4ed8a0d830cf454f6e1e"
          ]
        },
        "id": "aNG8yY9fp6sg",
        "outputId": "8c9cb93c-75d8-4333-b869-e12c1cba9194"
      },
      "source": [
        "# you can keep re-running this cell if you think the cost might decrease further\n",
        "\n",
        "cost = nn.MSELoss()\n",
        "\n",
        "niter = 100000\n",
        "for k in tqdm(range(niter)):\n",
        "  # the network outputs the single-neuron prediction and the latents\n",
        "  z, y = net(x1)\n",
        "\n",
        "  # our cost\n",
        "  loss = cost(z, x2)\n",
        "\n",
        "  # train the network as usual\n",
        "  loss.backward()\n",
        "  optimizer.step()\n",
        "  optimizer.zero_grad()\n",
        "\n",
        "  if k % 250 == 0:\n",
        "    print(f' iteration {k}, cost {loss.item():.4f}')"
      ],
      "execution_count": 30,
      "outputs": [
        {
          "output_type": "display_data",
          "data": {
            "application/vnd.jupyter.widget-view+json": {
              "model_id": "89c1cb5a99704e0a9e384f61f26cad18",
              "version_minor": 0,
              "version_major": 2
            },
            "text/plain": [
              "HBox(children=(FloatProgress(value=0.0, max=100000.0), HTML(value='')))"
            ]
          },
          "metadata": {
            "tags": []
          }
        },
        {
          "output_type": "stream",
          "text": [
            " iteration 0, cost 0.6120\n",
            " iteration 250, cost 0.0016\n",
            " iteration 500, cost 0.0009\n"
          ],
          "name": "stdout"
        },
        {
          "output_type": "error",
          "ename": "KeyboardInterrupt",
          "evalue": "ignored",
          "traceback": [
            "\u001b[0;31m---------------------------------------------------------------------------\u001b[0m",
            "\u001b[0;31mKeyboardInterrupt\u001b[0m                         Traceback (most recent call last)",
            "\u001b[0;32m<ipython-input-30-24e13ccdf4ed>\u001b[0m in \u001b[0;36m<module>\u001b[0;34m()\u001b[0m\n\u001b[1;32m     12\u001b[0m \u001b[0;34m\u001b[0m\u001b[0m\n\u001b[1;32m     13\u001b[0m   \u001b[0;31m# train the network as usual\u001b[0m\u001b[0;34m\u001b[0m\u001b[0;34m\u001b[0m\u001b[0;34m\u001b[0m\u001b[0m\n\u001b[0;32m---> 14\u001b[0;31m   \u001b[0mloss\u001b[0m\u001b[0;34m.\u001b[0m\u001b[0mbackward\u001b[0m\u001b[0;34m(\u001b[0m\u001b[0;34m)\u001b[0m\u001b[0;34m\u001b[0m\u001b[0;34m\u001b[0m\u001b[0m\n\u001b[0m\u001b[1;32m     15\u001b[0m   \u001b[0moptimizer\u001b[0m\u001b[0;34m.\u001b[0m\u001b[0mstep\u001b[0m\u001b[0;34m(\u001b[0m\u001b[0;34m)\u001b[0m\u001b[0;34m\u001b[0m\u001b[0;34m\u001b[0m\u001b[0m\n\u001b[1;32m     16\u001b[0m   \u001b[0moptimizer\u001b[0m\u001b[0;34m.\u001b[0m\u001b[0mzero_grad\u001b[0m\u001b[0;34m(\u001b[0m\u001b[0;34m)\u001b[0m\u001b[0;34m\u001b[0m\u001b[0;34m\u001b[0m\u001b[0m\n",
            "\u001b[0;32m/usr/local/lib/python3.7/dist-packages/torch/_tensor.py\u001b[0m in \u001b[0;36mbackward\u001b[0;34m(self, gradient, retain_graph, create_graph, inputs)\u001b[0m\n\u001b[1;32m    253\u001b[0m                 \u001b[0mcreate_graph\u001b[0m\u001b[0;34m=\u001b[0m\u001b[0mcreate_graph\u001b[0m\u001b[0;34m,\u001b[0m\u001b[0;34m\u001b[0m\u001b[0;34m\u001b[0m\u001b[0m\n\u001b[1;32m    254\u001b[0m                 inputs=inputs)\n\u001b[0;32m--> 255\u001b[0;31m         \u001b[0mtorch\u001b[0m\u001b[0;34m.\u001b[0m\u001b[0mautograd\u001b[0m\u001b[0;34m.\u001b[0m\u001b[0mbackward\u001b[0m\u001b[0;34m(\u001b[0m\u001b[0mself\u001b[0m\u001b[0;34m,\u001b[0m \u001b[0mgradient\u001b[0m\u001b[0;34m,\u001b[0m \u001b[0mretain_graph\u001b[0m\u001b[0;34m,\u001b[0m \u001b[0mcreate_graph\u001b[0m\u001b[0;34m,\u001b[0m \u001b[0minputs\u001b[0m\u001b[0;34m=\u001b[0m\u001b[0minputs\u001b[0m\u001b[0;34m)\u001b[0m\u001b[0;34m\u001b[0m\u001b[0;34m\u001b[0m\u001b[0m\n\u001b[0m\u001b[1;32m    256\u001b[0m \u001b[0;34m\u001b[0m\u001b[0m\n\u001b[1;32m    257\u001b[0m     \u001b[0;32mdef\u001b[0m \u001b[0mregister_hook\u001b[0m\u001b[0;34m(\u001b[0m\u001b[0mself\u001b[0m\u001b[0;34m,\u001b[0m \u001b[0mhook\u001b[0m\u001b[0;34m)\u001b[0m\u001b[0;34m:\u001b[0m\u001b[0;34m\u001b[0m\u001b[0;34m\u001b[0m\u001b[0m\n",
            "\u001b[0;32m/usr/local/lib/python3.7/dist-packages/torch/autograd/__init__.py\u001b[0m in \u001b[0;36mbackward\u001b[0;34m(tensors, grad_tensors, retain_graph, create_graph, grad_variables, inputs)\u001b[0m\n\u001b[1;32m    147\u001b[0m     Variable._execution_engine.run_backward(\n\u001b[1;32m    148\u001b[0m         \u001b[0mtensors\u001b[0m\u001b[0;34m,\u001b[0m \u001b[0mgrad_tensors_\u001b[0m\u001b[0;34m,\u001b[0m \u001b[0mretain_graph\u001b[0m\u001b[0;34m,\u001b[0m \u001b[0mcreate_graph\u001b[0m\u001b[0;34m,\u001b[0m \u001b[0minputs\u001b[0m\u001b[0;34m,\u001b[0m\u001b[0;34m\u001b[0m\u001b[0;34m\u001b[0m\u001b[0m\n\u001b[0;32m--> 149\u001b[0;31m         allow_unreachable=True, accumulate_grad=True)  # allow_unreachable flag\n\u001b[0m\u001b[1;32m    150\u001b[0m \u001b[0;34m\u001b[0m\u001b[0m\n\u001b[1;32m    151\u001b[0m \u001b[0;34m\u001b[0m\u001b[0m\n",
            "\u001b[0;31mKeyboardInterrupt\u001b[0m: "
          ]
        }
      ]
    },
    {
      "cell_type": "code",
      "metadata": {
        "id": "jryOMKdDJoEh"
      },
      "source": [
        "test, hidden = net(x1)"
      ],
      "execution_count": 34,
      "outputs": []
    },
    {
      "cell_type": "code",
      "metadata": {
        "colab": {
          "base_uri": "https://localhost:8080/"
        },
        "id": "ZyHNVJf86Ryh",
        "outputId": "4eb42e14-6eac-41bd-ebba-114536b23705"
      },
      "source": [
        "test.shape"
      ],
      "execution_count": 35,
      "outputs": [
        {
          "output_type": "execute_result",
          "data": {
            "text/plain": [
              "torch.Size([50, 1404, 1])"
            ]
          },
          "metadata": {
            "tags": []
          },
          "execution_count": 35
        }
      ]
    },
    {
      "cell_type": "code",
      "metadata": {
        "id": "HY_xlS8k7BF8",
        "colab": {
          "base_uri": "https://localhost:8080/",
          "height": 304
        },
        "outputId": "46a45af9-a28b-4ee0-f495-4581489166df"
      },
      "source": [
        "plt.plot(x1[25,:,0].cpu().detach().numpy())\n",
        "plt.plot(test[25,:,0].cpu().detach().numpy())"
      ],
      "execution_count": 36,
      "outputs": [
        {
          "output_type": "execute_result",
          "data": {
            "text/plain": [
              "[<matplotlib.lines.Line2D at 0x7fa304ba7090>]"
            ]
          },
          "metadata": {
            "tags": []
          },
          "execution_count": 36
        },
        {
          "output_type": "display_data",
          "data": {
            "image/png": "[encoded data removed]",
            "text/plain": [
              "<Figure size 1440x288 with 1 Axes>"
            ]
          },
          "metadata": {
            "tags": [],
            "needs_background": "light"
          }
        }
      ]
    }
  ]
}