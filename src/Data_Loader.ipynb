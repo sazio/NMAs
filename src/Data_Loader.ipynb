{
 "cells": [
  {
   "cell_type": "markdown",
   "metadata": {
    "colab_type": "text",
    "id": "view-in-github"
   },
   "source": [
    "<a href=\"https://colab.research.google.com/github/sazio/NMAs/blob/main/Data_Loader.ipynb\" target=\"_parent\"><img src=\"https://colab.research.google.com/assets/colab-badge.svg\" alt=\"Open In Colab\"/></a>"
   ]
  },
  {
   "cell_type": "markdown",
   "metadata": {
    "id": "ji-aTo7SA1AB"
   },
   "source": [
    "#Exploratory Data Analysis of Stringer Dataset \n",
    "@authors: Simone Azeglio, Chetan Dhulipalla , Khalid Saifullah \n",
    "\n",
    "\n",
    "Part of the code here has been taken from [Neuromatch Academy's Computational Neuroscience Course](https://compneuro.neuromatch.io/projects/neurons/README.html), and specifically from [this notebook](https://colab.research.google.com/github/NeuromatchAcademy/course-content/blob/master/projects/neurons/load_stringer_spontaneous.ipynb)"
   ]
  },
  {
   "cell_type": "markdown",
   "metadata": {
    "id": "x2LTF6oe-U8R"
   },
   "source": [
    "# to do list\n",
    "\n",
    "1. custom normalization: dividing by mean value per neuron\n",
    "1a. downsampling: convolve then downsample by 5\n",
    "2. training validation split: withhold last 20 percent of time series for testing\n",
    "3. RNN for each layer: a way to capture the dynamics inside each layer instead of capturing extra dynamics from inter-layer interactions. it will be OK to compare the different RNNs. maintain same neuron count in each layer to reduce potential bias \n",
    "4. layer weight regularization: L2 \n",
    "5. early stopping , dropout?"
   ]
  },
  {
   "cell_type": "markdown",
   "metadata": {
    "id": "vs7e5ppCMYCK"
   },
   "source": [
    "## Loading of Stringer spontaneous data\n",
    "\n"
   ]
  },
  {
   "cell_type": "code",
   "execution_count": 4,
   "metadata": {
    "cellView": "form",
    "id": "u0nA90QhJurD"
   },
   "outputs": [],
   "source": [
    "#@title Data retrieval\n",
    "import os, requests\n",
    "\n",
    "fname = \"stringer_spontaneous.npy\"\n",
    "url = \"https://osf.io/dpqaj/download\"\n",
    "\n",
    "if not os.path.isfile(fname):\n",
    "    try:\n",
    "        r = requests.get(url)\n",
    "    except requests.ConnectionError:\n",
    "        print(\"!!! Failed to download data !!!\")\n",
    "    else:\n",
    "        if r.status_code != requests.codes.ok:\n",
    "            print(\"!!! Failed to download data !!!\")\n",
    "        else:\n",
    "            with open(fname, \"wb\") as fid:\n",
    "                fid.write(r.content)"
   ]
  },
  {
   "cell_type": "code",
   "execution_count": 5,
   "metadata": {
    "cellView": "form",
    "id": "FgbdwXWDSUpO"
   },
   "outputs": [],
   "source": [
    "#@title Import matplotlib and set defaults\n",
    "from matplotlib import rcParams \n",
    "from matplotlib import pyplot as plt\n",
    "rcParams['figure.figsize'] = [20, 4]\n",
    "rcParams['font.size'] =15\n",
    "rcParams['axes.spines.top'] = False\n",
    "rcParams['axes.spines.right'] = False\n",
    "rcParams['figure.autolayout'] = True"
   ]
  },
  {
   "cell_type": "markdown",
   "metadata": {
    "id": "SRWWoEX0-sYp"
   },
   "source": [
    "## Exploratory Data Analysis (EDA)"
   ]
  },
  {
   "cell_type": "code",
   "execution_count": 6,
   "metadata": {
    "colab": {
     "base_uri": "https://localhost:8080/"
    },
    "id": "6ulJ34TyRZo6",
    "outputId": "df56f72e-e25f-4702-b021-bf6959e018c7"
   },
   "outputs": [
    {
     "name": "stdout",
     "output_type": "stream",
     "text": [
      "dict_keys(['sresp', 'run', 'beh_svd_time', 'beh_svd_mask', 'stat', 'pupilArea', 'pupilCOM', 'xyz'])\n"
     ]
    }
   ],
   "source": [
    "#@title Data loading\n",
    "import numpy as np\n",
    "dat = np.load('stringer_spontaneous.npy', allow_pickle=True).item()\n",
    "print(dat.keys())"
   ]
  },
  {
   "cell_type": "code",
   "execution_count": 7,
   "metadata": {
    "id": "KGn2iJGmFpLC"
   },
   "outputs": [],
   "source": [
    "# functions \n",
    "\n",
    "def moving_avg(array, factor = 5):\n",
    "    \"\"\"Reducing the number of compontents by averaging of N = factor\n",
    "    subsequent elements of array\"\"\"\n",
    "    zeros_ = np.zeros((array.shape[0], 2))\n",
    "    array = np.hstack((array, zeros_))\n",
    "\n",
    "    array = np.reshape(array, (array.shape[0],  int(array.shape[1]/factor), factor))\n",
    "    array = np.mean(array, axis = 2)\n",
    "\n",
    "    return array"
   ]
  },
  {
   "cell_type": "markdown",
   "metadata": {
    "id": "ZdjYTZeV-yhR"
   },
   "source": [
    "## Extracting Data for RNN (or LFADS)\n",
    "The first problem to address is that for each layer we don't have the exact same number of neurons. We'd like to have a single RNN encoding all the different layers activities, to make it easier we can take the number of neurons ($N_{neurons} = 1131$ of the least represented class (layer) and level out each remaining class. "
   ]
  },
  {
   "cell_type": "code",
   "execution_count": 8,
   "metadata": {
    "id": "mEy_qiyKY1xG"
   },
   "outputs": [],
   "source": [
    "# Extract labels from z - coordinate\n",
    "from sklearn import preprocessing\n",
    "x, y, z = dat['xyz']\n",
    "\n",
    "le = preprocessing.LabelEncoder()\n",
    "labels = le.fit_transform(z)\n",
    "### least represented class (layer with less neurons)\n",
    "n_samples = np.histogram(labels, bins=9)[0][-1]"
   ]
  },
  {
   "cell_type": "code",
   "execution_count": 9,
   "metadata": {
    "id": "lb3M2PSOZpMW"
   },
   "outputs": [],
   "source": [
    "### Data for LFADS / RNN \n",
    "import pandas as pd \n",
    "dataSet = pd.DataFrame(dat[\"sresp\"])\n",
    "dataSet[\"label\"] = labels "
   ]
  },
  {
   "cell_type": "code",
   "execution_count": 10,
   "metadata": {
    "id": "fYThvxV-2Nl6"
   },
   "outputs": [],
   "source": [
    "# it can be done in one loop ... \n",
    "data_ = []\n",
    "for i in range(0, 9):\n",
    "    data_.append(dataSet[dataSet[\"label\"] == i].sample(n = n_samples).iloc[:,:-1])\n",
    "\n",
    "dataRNN = np.zeros((n_samples*9, dataSet.shape[1]-1))\n",
    "for i in range(0,9):\n",
    "    dataRNN[n_samples*i:n_samples*(i+1), :] = data_[i]\n",
    "\n",
    "## shuffling for training purposes\n",
    "\n",
    "#np.random.shuffle(dataRNN)"
   ]
  },
  {
   "cell_type": "code",
   "execution_count": 11,
   "metadata": {
    "id": "3WAqcnCTrZAz"
   },
   "outputs": [],
   "source": [
    "#unshuffled = np.array(data_)"
   ]
  },
  {
   "cell_type": "code",
   "execution_count": 12,
   "metadata": {
    "cellView": "form",
    "id": "680ch36_-e0m"
   },
   "outputs": [],
   "source": [
    "#@title Convolutions code\n",
    "\n",
    "# convolution moving average\n",
    "\n",
    "# kernel_length = 50\n",
    "# averaging_kernel = np.ones(kernel_length) / kernel_length\n",
    "\n",
    "# dataRNN.shape\n",
    "\n",
    "# avgd_dataRNN = list()\n",
    "\n",
    "# for neuron in dataRNN:\n",
    "#   avgd_dataRNN.append(np.convolve(neuron, averaging_kernel))\n",
    "\n",
    "# avg_dataRNN = np.array(avgd_dataRNN)\n",
    "\n",
    "# print(avg_dataRNN.shape)"
   ]
  },
  {
   "cell_type": "code",
   "execution_count": 13,
   "metadata": {
    "cellView": "form",
    "id": "63S3144a31FI"
   },
   "outputs": [],
   "source": [
    "# @title Z Score Code \n",
    "\n",
    "\n",
    "# from scipy.stats import zscore\n",
    "\n",
    "\n",
    "# neuron = 500\n",
    "\n",
    "# scaled_all = zscore(avg_dataRNN)\n",
    "# scaled_per_neuron = zscore(avg_dataRNN[neuron, :])\n",
    "\n",
    "# scaled_per_layer = list()\n",
    "\n",
    "# for layer in unshuffled:\n",
    "#   scaled_per_layer.append(zscore(layer))\n",
    "\n",
    "# scaled_per_layer = np.array(scaled_per_layer)\n",
    "\n",
    "\n",
    "\n",
    "# plt.plot(avg_dataRNN[neuron, :])\n",
    "# plt.plot(avg_dataRNN[2500, :])\n",
    "# plt.figure()\n",
    "# plt.plot(dataRNN[neuron, :])\n",
    "# plt.figure()\n",
    "# plt.plot(scaled_all[neuron, :])\n",
    "# plt.plot(scaled_per_neuron)\n",
    "# plt.figure()\n",
    "# plt.plot(scaled_per_layer[0,neuron,:])\n"
   ]
  },
  {
   "cell_type": "code",
   "execution_count": 14,
   "metadata": {
    "id": "hE-4w_4V-Gzx"
   },
   "outputs": [],
   "source": [
    "# custom normalization\n",
    "\n",
    "normed_dataRNN = list()\n",
    "for neuron in dataRNN:\n",
    "    normed_dataRNN.append(neuron / neuron.mean())\n",
    "normed_dataRNN = np.array(normed_dataRNN)\n",
    "\n",
    "# downsampling and averaging \n",
    "\n",
    "avgd_normed_dataRNN = moving_avg(normed_dataRNN, factor=5)"
   ]
  },
  {
   "cell_type": "markdown",
   "metadata": {
    "id": "SeNxo6vsv1Oq"
   },
   "source": [
    "issue: does the individual scaling by layer introduce bias that may artificially increase performance of the network?"
   ]
  },
  {
   "cell_type": "markdown",
   "metadata": {
    "id": "0MrXC5QIiyhJ"
   },
   "source": [
    "## Data Loader \n"
   ]
  },
  {
   "cell_type": "code",
   "execution_count": 15,
   "metadata": {
    "id": "255tz5iqmSq1"
   },
   "outputs": [],
   "source": [
    "import torch\n",
    "import torch.nn as nn\n",
    "import torch.nn.functional as F"
   ]
  },
  {
   "cell_type": "code",
   "execution_count": 16,
   "metadata": {
    "id": "467WOHhtmXmb"
   },
   "outputs": [],
   "source": [
    "device = torch.device('cuda' if torch.cuda.is_available() else 'cpu')"
   ]
  },
  {
   "cell_type": "code",
   "execution_count": 164,
   "metadata": {
    "id": "Dcb5vW2joVW_"
   },
   "outputs": [],
   "source": [
    "# set the seed\n",
    "np.random.seed(42)\n",
    "\n",
    "# number of neurons \n",
    "NN = dataRNN.shape[0]\n",
    "\n",
    "# let's use 270 latent components\n",
    "ncomp = int(1131/2)\n",
    "ncomp1 = int(ncomp/2)"
   ]
  },
  {
   "cell_type": "code",
   "execution_count": 161,
   "metadata": {
    "colab": {
     "base_uri": "https://localhost:8080/"
    },
    "id": "bXJPQdu17Ns5",
    "outputId": "18b700ff-0126-458f-a300-7488e457013f"
   },
   "outputs": [
    {
     "data": {
      "text/plain": [
       "(10179, 1404)"
      ]
     },
     "execution_count": 161,
     "metadata": {},
     "output_type": "execute_result"
    }
   ],
   "source": [
    "# swapping the axes to maintain consistency with seq2seq notebook in the following code - the network takes all the neurons at a time step as input, not just one neuron\n",
    "\n",
    "# avgd_normed_dataRNN = np.swapaxes(avgd_normed_dataRNN, 0, 1)\n",
    "avgd_normed_dataRNN.shape"
   ]
  },
  {
   "cell_type": "code",
   "execution_count": 163,
   "metadata": {
    "id": "Prl0OxLZkka9"
   },
   "outputs": [],
   "source": [
    "frac = 5/6\n",
    "#x1 = torch.from_numpy(dataRNN[:,:int(frac*dataRNN.shape[1])]).to(device).float().unsqueeze(0)\n",
    "#x2 = torch.from_numpy(dataRNN[:,int(frac*dataRNN.shape[1]):]).to(device).float().unsqueeze(0)\n",
    "x1 = torch.from_numpy(avgd_normed_dataRNN[:1131,:]).to(device).float().unsqueeze(2)\n",
    "x2 = torch.from_numpy(avgd_normed_dataRNN[:1131,:]).to(device).float().unsqueeze(2)\n",
    "\n",
    "#x1_train = torch.from_numpy(avgd_normed_dataRNN[:1131,:int(frac*avgd_normed_dataRNN.shape[1])]).to(device).float().unsqueeze(2)\n",
    "#x2_train = torch.from_numpy(avgd_normed_dataRNN[:1131,:]).to(device).float().unsqueeze(2)\n",
    "\n",
    "NN1 = x1.shape[0]\n",
    "NN2 = x2.shape[0]"
   ]
  },
  {
   "cell_type": "code",
   "execution_count": 178,
   "metadata": {
    "id": "01IvhjPzk-Jw"
   },
   "outputs": [],
   "source": [
    "class Net(nn.Module):\n",
    "    def __init__(self, ncomp, NN1, NN2, bidi=True):\n",
    "        super(Net, self).__init__()\n",
    "\n",
    "        self.ncomp = ncomp\n",
    "        # play with some of the options in the RNN!\n",
    "        self.rnn = nn.RNN(NN1, ncomp, num_layers = 1, dropout = 0,\n",
    "                    bidirectional = bidi, nonlinearity = 'tanh')\n",
    "        \n",
    "        self.rnn2 = nn.RNN(ncomp, ncomp1, num_layers = 1, dropout = 0,\n",
    "                    bidirectional = bidi, nonlinearity = 'tanh')\n",
    "        \"\"\"\n",
    "        self.rnn = nn.LSTM(NN1, ncomp, num_layers = 1, dropout = 0,\n",
    "                         bidirectional = bidi)\n",
    "        self.rnn = nn.GRU(NN1, ncomp, num_layers = 1, dropout = 0,\n",
    "                         bidirectional = bidi)\n",
    "        \"\"\"\n",
    "        self.fc = nn.Linear(ncomp1, NN2)\n",
    "\n",
    "    def forward(self, x):\n",
    "        x = x.permute(1, 2, 0)\n",
    "        print(x.shape)\n",
    "        # h_0 = torch.zeros(2, x.size()[1], self.ncomp).to(device)\n",
    "        \n",
    "        y1, h_n1 = self.rnn(x)\n",
    "        print(y1.shape)\n",
    "        y, h_n = self.rnn2(y1, h_n1)\n",
    "\n",
    "        # print(y.shape)\n",
    "        # print(h_n.shape)\n",
    "        if self.rnn.bidirectional:\n",
    "          # if the rnn is bidirectional, it concatenates the activations from the forward and backward pass\n",
    "          # we want to add them instead, so as to enforce the latents to match between the forward and backward pass\n",
    "            q = (y[:, :, :ncomp] + y[:, :, ncomp:])/2\n",
    "        else:\n",
    "            q = y\n",
    "\n",
    "\n",
    "        # the softplus function is just like a relu but it's smoothed out so we can't predict 0\n",
    "        # if we predict 0 and there was a spike, that's an instant Inf in the Poisson log-likelihood which leads to failure\n",
    "        #z = F.softplus(self.fc(q), 10)\n",
    "        # print(q.shape)\n",
    "        z = self.fc(q).permute(2, 0, 1)\n",
    "        # print(z.shape)\n",
    "        return z, q"
   ]
  },
  {
   "cell_type": "code",
   "execution_count": 179,
   "metadata": {
    "id": "sQGEVQaGmwV6"
   },
   "outputs": [],
   "source": [
    "# we initialize the neural network\n",
    "net = Net(ncomp, NN1, NN2, bidi = True).to(device)\n",
    "\n",
    "# special thing:  we initialize the biases of the last layer in the neural network\n",
    "# we set them as the mean firing rates of the neurons.\n",
    "# this should make the initial predictions close to the mean, because the latents don't contribute much\n",
    "net.fc.bias.data[:] = x1.mean(axis = (0,1))\n",
    "\n",
    "# we set up the optimizer. Adjust the learning rate if the training is slow or if it explodes.\n",
    "optimizer1 = torch.optim.Adam(net.parameters(), lr=.0001)\n",
    "# optimizer2 = torch.optim.SGD(net.parameters(), lr = 0.0001, momentum = 0.9, weight_decay = 0.01, )\n",
    "# optimizer3 = torch.optim."
   ]
  },
  {
   "cell_type": "code",
   "execution_count": 180,
   "metadata": {
    "colab": {
     "base_uri": "https://localhost:8080/"
    },
    "id": "SzvKjuTvmwYa",
    "outputId": "63095320-91b6-4d1b-9e77-7332360a7c86"
   },
   "outputs": [
    {
     "name": "stdout",
     "output_type": "stream",
     "text": [
      "torch.Size([1404, 1, 1131])\n",
      "torch.Size([1404, 1, 1130])\n"
     ]
    },
    {
     "ename": "RuntimeError",
     "evalue": "input.size(-1) must be equal to input_size. Expected 565, got 1130",
     "output_type": "error",
     "traceback": [
      "\u001b[0;31m---------------------------------------------------------------------------\u001b[0m",
      "\u001b[0;31mRuntimeError\u001b[0m                              Traceback (most recent call last)",
      "\u001b[0;32m<ipython-input-180-38cc9b4e1e0c>\u001b[0m in \u001b[0;36m<module>\u001b[0;34m\u001b[0m\n\u001b[1;32m      1\u001b[0m \u001b[0;31m# forward check\u001b[0m\u001b[0;34m\u001b[0m\u001b[0;34m\u001b[0m\u001b[0;34m\u001b[0m\u001b[0m\n\u001b[0;32m----> 2\u001b[0;31m \u001b[0mnet\u001b[0m\u001b[0;34m(\u001b[0m\u001b[0mx1\u001b[0m\u001b[0;34m)\u001b[0m\u001b[0;34m\u001b[0m\u001b[0;34m\u001b[0m\u001b[0m\n\u001b[0m",
      "\u001b[0;32m/usr/local/lib/python3.8/dist-packages/torch/nn/modules/module.py\u001b[0m in \u001b[0;36m_call_impl\u001b[0;34m(self, *input, **kwargs)\u001b[0m\n\u001b[1;32m    725\u001b[0m             \u001b[0mresult\u001b[0m \u001b[0;34m=\u001b[0m \u001b[0mself\u001b[0m\u001b[0;34m.\u001b[0m\u001b[0m_slow_forward\u001b[0m\u001b[0;34m(\u001b[0m\u001b[0;34m*\u001b[0m\u001b[0minput\u001b[0m\u001b[0;34m,\u001b[0m \u001b[0;34m**\u001b[0m\u001b[0mkwargs\u001b[0m\u001b[0;34m)\u001b[0m\u001b[0;34m\u001b[0m\u001b[0;34m\u001b[0m\u001b[0m\n\u001b[1;32m    726\u001b[0m         \u001b[0;32melse\u001b[0m\u001b[0;34m:\u001b[0m\u001b[0;34m\u001b[0m\u001b[0;34m\u001b[0m\u001b[0m\n\u001b[0;32m--> 727\u001b[0;31m             \u001b[0mresult\u001b[0m \u001b[0;34m=\u001b[0m \u001b[0mself\u001b[0m\u001b[0;34m.\u001b[0m\u001b[0mforward\u001b[0m\u001b[0;34m(\u001b[0m\u001b[0;34m*\u001b[0m\u001b[0minput\u001b[0m\u001b[0;34m,\u001b[0m \u001b[0;34m**\u001b[0m\u001b[0mkwargs\u001b[0m\u001b[0;34m)\u001b[0m\u001b[0;34m\u001b[0m\u001b[0;34m\u001b[0m\u001b[0m\n\u001b[0m\u001b[1;32m    728\u001b[0m         for hook in itertools.chain(\n\u001b[1;32m    729\u001b[0m                 \u001b[0m_global_forward_hooks\u001b[0m\u001b[0;34m.\u001b[0m\u001b[0mvalues\u001b[0m\u001b[0;34m(\u001b[0m\u001b[0;34m)\u001b[0m\u001b[0;34m,\u001b[0m\u001b[0;34m\u001b[0m\u001b[0;34m\u001b[0m\u001b[0m\n",
      "\u001b[0;32m<ipython-input-178-ffd15f94c7c6>\u001b[0m in \u001b[0;36mforward\u001b[0;34m(self, x)\u001b[0m\n\u001b[1;32m     25\u001b[0m         \u001b[0my1\u001b[0m\u001b[0;34m,\u001b[0m \u001b[0mh_n1\u001b[0m \u001b[0;34m=\u001b[0m \u001b[0mself\u001b[0m\u001b[0;34m.\u001b[0m\u001b[0mrnn\u001b[0m\u001b[0;34m(\u001b[0m\u001b[0mx\u001b[0m\u001b[0;34m)\u001b[0m\u001b[0;34m\u001b[0m\u001b[0;34m\u001b[0m\u001b[0m\n\u001b[1;32m     26\u001b[0m         \u001b[0mprint\u001b[0m\u001b[0;34m(\u001b[0m\u001b[0my1\u001b[0m\u001b[0;34m.\u001b[0m\u001b[0mshape\u001b[0m\u001b[0;34m)\u001b[0m\u001b[0;34m\u001b[0m\u001b[0;34m\u001b[0m\u001b[0m\n\u001b[0;32m---> 27\u001b[0;31m         \u001b[0my\u001b[0m\u001b[0;34m,\u001b[0m \u001b[0mh_n\u001b[0m \u001b[0;34m=\u001b[0m \u001b[0mself\u001b[0m\u001b[0;34m.\u001b[0m\u001b[0mrnn2\u001b[0m\u001b[0;34m(\u001b[0m\u001b[0my1\u001b[0m\u001b[0;34m,\u001b[0m \u001b[0mh_n1\u001b[0m\u001b[0;34m)\u001b[0m\u001b[0;34m\u001b[0m\u001b[0;34m\u001b[0m\u001b[0m\n\u001b[0m\u001b[1;32m     28\u001b[0m \u001b[0;34m\u001b[0m\u001b[0m\n\u001b[1;32m     29\u001b[0m         \u001b[0;31m# print(y.shape)\u001b[0m\u001b[0;34m\u001b[0m\u001b[0;34m\u001b[0m\u001b[0;34m\u001b[0m\u001b[0m\n",
      "\u001b[0;32m/usr/local/lib/python3.8/dist-packages/torch/nn/modules/module.py\u001b[0m in \u001b[0;36m_call_impl\u001b[0;34m(self, *input, **kwargs)\u001b[0m\n\u001b[1;32m    725\u001b[0m             \u001b[0mresult\u001b[0m \u001b[0;34m=\u001b[0m \u001b[0mself\u001b[0m\u001b[0;34m.\u001b[0m\u001b[0m_slow_forward\u001b[0m\u001b[0;34m(\u001b[0m\u001b[0;34m*\u001b[0m\u001b[0minput\u001b[0m\u001b[0;34m,\u001b[0m \u001b[0;34m**\u001b[0m\u001b[0mkwargs\u001b[0m\u001b[0;34m)\u001b[0m\u001b[0;34m\u001b[0m\u001b[0;34m\u001b[0m\u001b[0m\n\u001b[1;32m    726\u001b[0m         \u001b[0;32melse\u001b[0m\u001b[0;34m:\u001b[0m\u001b[0;34m\u001b[0m\u001b[0;34m\u001b[0m\u001b[0m\n\u001b[0;32m--> 727\u001b[0;31m             \u001b[0mresult\u001b[0m \u001b[0;34m=\u001b[0m \u001b[0mself\u001b[0m\u001b[0;34m.\u001b[0m\u001b[0mforward\u001b[0m\u001b[0;34m(\u001b[0m\u001b[0;34m*\u001b[0m\u001b[0minput\u001b[0m\u001b[0;34m,\u001b[0m \u001b[0;34m**\u001b[0m\u001b[0mkwargs\u001b[0m\u001b[0;34m)\u001b[0m\u001b[0;34m\u001b[0m\u001b[0;34m\u001b[0m\u001b[0m\n\u001b[0m\u001b[1;32m    728\u001b[0m         for hook in itertools.chain(\n\u001b[1;32m    729\u001b[0m                 \u001b[0m_global_forward_hooks\u001b[0m\u001b[0;34m.\u001b[0m\u001b[0mvalues\u001b[0m\u001b[0;34m(\u001b[0m\u001b[0;34m)\u001b[0m\u001b[0;34m,\u001b[0m\u001b[0;34m\u001b[0m\u001b[0;34m\u001b[0m\u001b[0m\n",
      "\u001b[0;32m/usr/local/lib/python3.8/dist-packages/torch/nn/modules/rnn.py\u001b[0m in \u001b[0;36mforward\u001b[0;34m(self, input, hx)\u001b[0m\n\u001b[1;32m    229\u001b[0m             \u001b[0mhx\u001b[0m \u001b[0;34m=\u001b[0m \u001b[0mself\u001b[0m\u001b[0;34m.\u001b[0m\u001b[0mpermute_hidden\u001b[0m\u001b[0;34m(\u001b[0m\u001b[0mhx\u001b[0m\u001b[0;34m,\u001b[0m \u001b[0msorted_indices\u001b[0m\u001b[0;34m)\u001b[0m\u001b[0;34m\u001b[0m\u001b[0;34m\u001b[0m\u001b[0m\n\u001b[1;32m    230\u001b[0m \u001b[0;34m\u001b[0m\u001b[0m\n\u001b[0;32m--> 231\u001b[0;31m         \u001b[0mself\u001b[0m\u001b[0;34m.\u001b[0m\u001b[0mcheck_forward_args\u001b[0m\u001b[0;34m(\u001b[0m\u001b[0minput\u001b[0m\u001b[0;34m,\u001b[0m \u001b[0mhx\u001b[0m\u001b[0;34m,\u001b[0m \u001b[0mbatch_sizes\u001b[0m\u001b[0;34m)\u001b[0m\u001b[0;34m\u001b[0m\u001b[0;34m\u001b[0m\u001b[0m\n\u001b[0m\u001b[1;32m    232\u001b[0m         \u001b[0m_impl\u001b[0m \u001b[0;34m=\u001b[0m \u001b[0m_rnn_impls\u001b[0m\u001b[0;34m[\u001b[0m\u001b[0mself\u001b[0m\u001b[0;34m.\u001b[0m\u001b[0mmode\u001b[0m\u001b[0;34m]\u001b[0m\u001b[0;34m\u001b[0m\u001b[0;34m\u001b[0m\u001b[0m\n\u001b[1;32m    233\u001b[0m         \u001b[0;32mif\u001b[0m \u001b[0mbatch_sizes\u001b[0m \u001b[0;32mis\u001b[0m \u001b[0;32mNone\u001b[0m\u001b[0;34m:\u001b[0m\u001b[0;34m\u001b[0m\u001b[0;34m\u001b[0m\u001b[0m\n",
      "\u001b[0;32m/usr/local/lib/python3.8/dist-packages/torch/nn/modules/rnn.py\u001b[0m in \u001b[0;36mcheck_forward_args\u001b[0;34m(self, input, hidden, batch_sizes)\u001b[0m\n\u001b[1;32m    197\u001b[0m \u001b[0;34m\u001b[0m\u001b[0m\n\u001b[1;32m    198\u001b[0m     \u001b[0;32mdef\u001b[0m \u001b[0mcheck_forward_args\u001b[0m\u001b[0;34m(\u001b[0m\u001b[0mself\u001b[0m\u001b[0;34m,\u001b[0m \u001b[0minput\u001b[0m\u001b[0;34m:\u001b[0m \u001b[0mTensor\u001b[0m\u001b[0;34m,\u001b[0m \u001b[0mhidden\u001b[0m\u001b[0;34m:\u001b[0m \u001b[0mTensor\u001b[0m\u001b[0;34m,\u001b[0m \u001b[0mbatch_sizes\u001b[0m\u001b[0;34m:\u001b[0m \u001b[0mOptional\u001b[0m\u001b[0;34m[\u001b[0m\u001b[0mTensor\u001b[0m\u001b[0;34m]\u001b[0m\u001b[0;34m)\u001b[0m\u001b[0;34m:\u001b[0m\u001b[0;34m\u001b[0m\u001b[0;34m\u001b[0m\u001b[0m\n\u001b[0;32m--> 199\u001b[0;31m         \u001b[0mself\u001b[0m\u001b[0;34m.\u001b[0m\u001b[0mcheck_input\u001b[0m\u001b[0;34m(\u001b[0m\u001b[0minput\u001b[0m\u001b[0;34m,\u001b[0m \u001b[0mbatch_sizes\u001b[0m\u001b[0;34m)\u001b[0m\u001b[0;34m\u001b[0m\u001b[0;34m\u001b[0m\u001b[0m\n\u001b[0m\u001b[1;32m    200\u001b[0m         \u001b[0mexpected_hidden_size\u001b[0m \u001b[0;34m=\u001b[0m \u001b[0mself\u001b[0m\u001b[0;34m.\u001b[0m\u001b[0mget_expected_hidden_size\u001b[0m\u001b[0;34m(\u001b[0m\u001b[0minput\u001b[0m\u001b[0;34m,\u001b[0m \u001b[0mbatch_sizes\u001b[0m\u001b[0;34m)\u001b[0m\u001b[0;34m\u001b[0m\u001b[0;34m\u001b[0m\u001b[0m\n\u001b[1;32m    201\u001b[0m \u001b[0;34m\u001b[0m\u001b[0m\n",
      "\u001b[0;32m/usr/local/lib/python3.8/dist-packages/torch/nn/modules/rnn.py\u001b[0m in \u001b[0;36mcheck_input\u001b[0;34m(self, input, batch_sizes)\u001b[0m\n\u001b[1;32m    176\u001b[0m                     expected_input_dim, input.dim()))\n\u001b[1;32m    177\u001b[0m         \u001b[0;32mif\u001b[0m \u001b[0mself\u001b[0m\u001b[0;34m.\u001b[0m\u001b[0minput_size\u001b[0m \u001b[0;34m!=\u001b[0m \u001b[0minput\u001b[0m\u001b[0;34m.\u001b[0m\u001b[0msize\u001b[0m\u001b[0;34m(\u001b[0m\u001b[0;34m-\u001b[0m\u001b[0;36m1\u001b[0m\u001b[0;34m)\u001b[0m\u001b[0;34m:\u001b[0m\u001b[0;34m\u001b[0m\u001b[0;34m\u001b[0m\u001b[0m\n\u001b[0;32m--> 178\u001b[0;31m             raise RuntimeError(\n\u001b[0m\u001b[1;32m    179\u001b[0m                 'input.size(-1) must be equal to input_size. Expected {}, got {}'.format(\n\u001b[1;32m    180\u001b[0m                     self.input_size, input.size(-1)))\n",
      "\u001b[0;31mRuntimeError\u001b[0m: input.size(-1) must be equal to input_size. Expected 565, got 1130"
     ]
    }
   ],
   "source": [
    "# forward check \n",
    "net(x1)"
   ]
  },
  {
   "cell_type": "markdown",
   "metadata": {
    "id": "2hlfx8Ltp5jJ"
   },
   "source": [
    "## Training "
   ]
  },
  {
   "cell_type": "code",
   "execution_count": 157,
   "metadata": {
    "id": "KjzD06B9ta3n"
   },
   "outputs": [],
   "source": [
    "from tqdm import tqdm"
   ]
  },
  {
   "cell_type": "code",
   "execution_count": 158,
   "metadata": {
    "colab": {
     "base_uri": "https://localhost:8080/",
     "height": 406,
     "referenced_widgets": [
      "4e573a939d0c445b9e11bdcaf3c8098b",
      "a22204bd65224165bf9a0ea65d1e5592",
      "e47ef23e2b144ea3ac0d313d52ab158d",
      "6b88c683452f46869fa8d3431ce8c0f2",
      "d626a6d0d4ca442da18e75016ca4603e",
      "32dcf54089bc45cbbc7ace38a12d88ff",
      "5dd4e738c49542eab4ee6833cc62b146",
      "8598ad26b4ee4da58c65a2b2741cd880"
     ]
    },
    "id": "aNG8yY9fp6sg",
    "outputId": "7c10c4c9-b6ec-4321-e35c-980ad4c23e0f",
    "scrolled": true
   },
   "outputs": [
    {
     "name": "stderr",
     "output_type": "stream",
     "text": [
      "\n",
      "  0%|          | 0/5000 [00:00<?, ?it/s]\u001b[A\n",
      "  0%|          | 3/5000 [00:00<03:08, 26.56it/s]\u001b[A\n",
      "  0%|          | 6/5000 [00:00<03:09, 26.33it/s]\u001b[A"
     ]
    },
    {
     "name": "stdout",
     "output_type": "stream",
     "text": [
      " iteration 0, cost 0.5634\n"
     ]
    },
    {
     "name": "stderr",
     "output_type": "stream",
     "text": [
      "\n",
      "  0%|          | 9/5000 [00:00<03:07, 26.66it/s]\u001b[A\n",
      "  0%|          | 12/5000 [00:00<03:02, 27.36it/s]\u001b[A\n",
      "  0%|          | 15/5000 [00:00<03:00, 27.60it/s]\u001b[A\n",
      "  0%|          | 18/5000 [00:00<02:58, 27.95it/s]\u001b[A\n",
      "  0%|          | 21/5000 [00:00<02:57, 28.00it/s]\u001b[A\n",
      "  0%|          | 24/5000 [00:00<02:57, 28.05it/s]\u001b[A\n",
      "  1%|          | 27/5000 [00:00<02:55, 28.41it/s]\u001b[A\n",
      "  1%|          | 30/5000 [00:01<02:54, 28.46it/s]\u001b[A\n",
      "  1%|          | 33/5000 [00:01<02:53, 28.67it/s]\u001b[A\n",
      "  1%|          | 36/5000 [00:01<02:52, 28.81it/s]\u001b[A\n",
      "  1%|          | 39/5000 [00:01<02:53, 28.61it/s]\u001b[A\n",
      "  1%|          | 42/5000 [00:01<02:51, 28.88it/s]\u001b[A\n",
      "  1%|          | 45/5000 [00:01<02:52, 28.67it/s]\u001b[A\n",
      "  1%|          | 48/5000 [00:01<02:53, 28.61it/s]\u001b[A\n",
      "  1%|          | 51/5000 [00:01<02:56, 28.10it/s]\u001b[A\n",
      "  1%|          | 54/5000 [00:01<02:54, 28.30it/s]\u001b[A"
     ]
    },
    {
     "name": "stdout",
     "output_type": "stream",
     "text": [
      " iteration 50, cost 0.4741\n"
     ]
    },
    {
     "name": "stderr",
     "output_type": "stream",
     "text": [
      "\n",
      "  1%|          | 57/5000 [00:02<02:52, 28.69it/s]\u001b[A\n",
      "  1%|          | 60/5000 [00:02<02:50, 29.00it/s]\u001b[A\n",
      "  1%|▏         | 63/5000 [00:02<02:52, 28.55it/s]\u001b[A\n",
      "  1%|▏         | 66/5000 [00:02<02:50, 28.88it/s]\u001b[A\n",
      "  1%|▏         | 69/5000 [00:02<02:49, 29.06it/s]\u001b[A\n",
      "  1%|▏         | 72/5000 [00:02<02:48, 29.19it/s]\u001b[A\n",
      "  2%|▏         | 75/5000 [00:02<02:47, 29.34it/s]\u001b[A\n",
      "  2%|▏         | 78/5000 [00:02<02:47, 29.32it/s]\u001b[A\n",
      "  2%|▏         | 81/5000 [00:02<02:48, 29.25it/s]\u001b[A\n",
      "  2%|▏         | 84/5000 [00:02<02:49, 29.01it/s]\u001b[A\n",
      "  2%|▏         | 87/5000 [00:03<02:48, 29.10it/s]\u001b[A\n",
      "  2%|▏         | 90/5000 [00:03<02:48, 29.12it/s]\u001b[A\n",
      "  2%|▏         | 93/5000 [00:03<02:48, 29.19it/s]\u001b[A\n",
      "  2%|▏         | 96/5000 [00:03<02:50, 28.75it/s]\u001b[A\n",
      "  2%|▏         | 99/5000 [00:03<02:49, 28.93it/s]\u001b[A\n",
      "  2%|▏         | 102/5000 [00:03<02:49, 28.97it/s]\u001b[A\n",
      "  2%|▏         | 105/5000 [00:03<02:47, 29.14it/s]\u001b[A"
     ]
    },
    {
     "name": "stdout",
     "output_type": "stream",
     "text": [
      " iteration 100, cost 0.4713\n"
     ]
    },
    {
     "name": "stderr",
     "output_type": "stream",
     "text": [
      "\n",
      "  2%|▏         | 108/5000 [00:03<02:48, 29.00it/s]\u001b[A\n",
      "  2%|▏         | 111/5000 [00:03<02:52, 28.29it/s]\u001b[A\n",
      "  2%|▏         | 114/5000 [00:03<02:52, 28.40it/s]\u001b[A\n",
      "  2%|▏         | 117/5000 [00:04<02:49, 28.84it/s]\u001b[A\n",
      "  2%|▏         | 120/5000 [00:04<02:49, 28.82it/s]\u001b[A\n",
      "  2%|▏         | 123/5000 [00:04<02:48, 28.95it/s]\u001b[A\n",
      "  3%|▎         | 126/5000 [00:04<02:47, 29.12it/s]\u001b[A\n",
      "  3%|▎         | 129/5000 [00:04<02:46, 29.25it/s]\u001b[A\n",
      "  3%|▎         | 132/5000 [00:04<02:46, 29.31it/s]\u001b[A\n",
      "  3%|▎         | 135/5000 [00:04<02:44, 29.50it/s]\u001b[A\n",
      "  3%|▎         | 139/5000 [00:04<02:42, 29.95it/s]\u001b[A\n",
      "  3%|▎         | 142/5000 [00:04<02:42, 29.90it/s]\u001b[A\n",
      "  3%|▎         | 145/5000 [00:05<02:43, 29.65it/s]\u001b[A\n",
      "  3%|▎         | 148/5000 [00:05<02:44, 29.55it/s]\u001b[A\n",
      "  3%|▎         | 151/5000 [00:05<02:47, 28.93it/s]\u001b[A\n",
      "  3%|▎         | 154/5000 [00:05<02:46, 29.15it/s]\u001b[A"
     ]
    },
    {
     "name": "stdout",
     "output_type": "stream",
     "text": [
      " iteration 150, cost 0.4659\n"
     ]
    },
    {
     "name": "stderr",
     "output_type": "stream",
     "text": [
      "\n",
      "  3%|▎         | 157/5000 [00:05<02:45, 29.35it/s]\u001b[A\n",
      "  3%|▎         | 160/5000 [00:05<02:43, 29.52it/s]\u001b[A\n",
      "  3%|▎         | 163/5000 [00:05<02:44, 29.42it/s]\u001b[A\n",
      "  3%|▎         | 166/5000 [00:05<02:46, 29.09it/s]\u001b[A\n",
      "  3%|▎         | 169/5000 [00:05<02:47, 28.88it/s]\u001b[A\n",
      "  3%|▎         | 172/5000 [00:05<02:47, 28.74it/s]\u001b[A\n",
      "  4%|▎         | 175/5000 [00:06<02:48, 28.64it/s]\u001b[A\n",
      "  4%|▎         | 178/5000 [00:06<02:49, 28.46it/s]\u001b[A\n",
      "  4%|▎         | 181/5000 [00:06<02:47, 28.79it/s]\u001b[A\n",
      "  4%|▎         | 184/5000 [00:06<02:45, 29.03it/s]\u001b[A\n",
      "  4%|▎         | 187/5000 [00:06<02:45, 29.13it/s]\u001b[A\n",
      "  4%|▍         | 190/5000 [00:06<02:46, 28.96it/s]\u001b[A\n",
      "  4%|▍         | 193/5000 [00:06<02:45, 28.96it/s]\u001b[A\n",
      "  4%|▍         | 196/5000 [00:06<02:47, 28.74it/s]\u001b[A\n",
      "  4%|▍         | 199/5000 [00:06<02:45, 28.94it/s]\u001b[A\n",
      "  4%|▍         | 202/5000 [00:07<02:45, 29.04it/s]\u001b[A\n",
      "  4%|▍         | 205/5000 [00:07<02:45, 29.00it/s]\u001b[A"
     ]
    },
    {
     "name": "stdout",
     "output_type": "stream",
     "text": [
      " iteration 200, cost 0.4546\n"
     ]
    },
    {
     "name": "stderr",
     "output_type": "stream",
     "text": [
      "\n",
      "  4%|▍         | 208/5000 [00:07<02:45, 28.91it/s]\u001b[A\n",
      "  4%|▍         | 211/5000 [00:07<02:45, 28.92it/s]\u001b[A\n",
      "  4%|▍         | 214/5000 [00:07<02:46, 28.80it/s]\u001b[A\n",
      "  4%|▍         | 217/5000 [00:07<02:47, 28.63it/s]\u001b[A\n",
      "  4%|▍         | 220/5000 [00:07<02:48, 28.34it/s]\u001b[A\n",
      "  4%|▍         | 223/5000 [00:07<02:49, 28.22it/s]\u001b[A\n",
      "  5%|▍         | 226/5000 [00:07<02:49, 28.11it/s]\u001b[A\n",
      "  5%|▍         | 229/5000 [00:07<02:48, 28.29it/s]\u001b[A\n",
      "  5%|▍         | 232/5000 [00:08<02:46, 28.61it/s]\u001b[A\n",
      "  5%|▍         | 235/5000 [00:08<02:47, 28.38it/s]\u001b[A\n",
      "  5%|▍         | 238/5000 [00:08<02:46, 28.60it/s]\u001b[A\n",
      "  5%|▍         | 241/5000 [00:08<02:47, 28.49it/s]\u001b[A\n",
      "  5%|▍         | 244/5000 [00:08<02:47, 28.39it/s]\u001b[A\n",
      "  5%|▍         | 247/5000 [00:08<02:46, 28.56it/s]\u001b[A\n",
      "  5%|▌         | 250/5000 [00:08<02:44, 28.81it/s]\u001b[A\n",
      "  5%|▌         | 253/5000 [00:08<02:45, 28.65it/s]\u001b[A\n",
      "  5%|▌         | 256/5000 [00:08<02:48, 28.20it/s]\u001b[A"
     ]
    },
    {
     "name": "stdout",
     "output_type": "stream",
     "text": [
      " iteration 250, cost 0.4395\n"
     ]
    },
    {
     "name": "stderr",
     "output_type": "stream",
     "text": [
      "\n",
      "  5%|▌         | 259/5000 [00:09<02:46, 28.42it/s]\u001b[A\n",
      "  5%|▌         | 262/5000 [00:09<02:46, 28.45it/s]\u001b[A\n",
      "  5%|▌         | 265/5000 [00:09<02:45, 28.65it/s]\u001b[A\n",
      "  5%|▌         | 268/5000 [00:09<02:46, 28.47it/s]\u001b[A\n",
      "  5%|▌         | 271/5000 [00:09<02:45, 28.51it/s]\u001b[A\n",
      "  5%|▌         | 274/5000 [00:09<02:46, 28.44it/s]\u001b[A\n",
      "  6%|▌         | 277/5000 [00:09<02:45, 28.46it/s]\u001b[A\n",
      "  6%|▌         | 280/5000 [00:09<02:45, 28.47it/s]\u001b[A\n",
      "  6%|▌         | 283/5000 [00:09<02:48, 28.01it/s]\u001b[A\n",
      "  6%|▌         | 286/5000 [00:09<02:46, 28.30it/s]\u001b[A\n",
      "  6%|▌         | 289/5000 [00:10<02:45, 28.45it/s]\u001b[A\n",
      "  6%|▌         | 292/5000 [00:10<02:44, 28.59it/s]\u001b[A\n",
      "  6%|▌         | 295/5000 [00:10<02:44, 28.68it/s]\u001b[A\n",
      "  6%|▌         | 298/5000 [00:10<02:43, 28.72it/s]\u001b[A\n",
      "  6%|▌         | 301/5000 [00:10<02:43, 28.77it/s]\u001b[A\n",
      "  6%|▌         | 304/5000 [00:10<02:43, 28.74it/s]\u001b[A"
     ]
    },
    {
     "name": "stdout",
     "output_type": "stream",
     "text": [
      " iteration 300, cost 0.4241\n"
     ]
    },
    {
     "name": "stderr",
     "output_type": "stream",
     "text": [
      "\n",
      "  6%|▌         | 307/5000 [00:10<02:43, 28.74it/s]\u001b[A\n",
      "  6%|▌         | 310/5000 [00:10<02:43, 28.74it/s]\u001b[A\n",
      "  6%|▋         | 313/5000 [00:10<02:45, 28.37it/s]\u001b[A\n",
      "  6%|▋         | 316/5000 [00:11<02:44, 28.52it/s]\u001b[A\n",
      "  6%|▋         | 319/5000 [00:11<02:43, 28.59it/s]\u001b[A\n",
      "  6%|▋         | 322/5000 [00:11<02:44, 28.40it/s]\u001b[A\n",
      "  6%|▋         | 325/5000 [00:11<02:43, 28.52it/s]\u001b[A\n",
      "  7%|▋         | 328/5000 [00:11<02:43, 28.60it/s]\u001b[A\n",
      "  7%|▋         | 331/5000 [00:11<02:44, 28.35it/s]\u001b[A\n",
      "  7%|▋         | 334/5000 [00:11<02:43, 28.56it/s]\u001b[A\n",
      "  7%|▋         | 337/5000 [00:11<02:42, 28.70it/s]\u001b[A\n",
      "  7%|▋         | 340/5000 [00:11<02:41, 28.79it/s]\u001b[A\n",
      "  7%|▋         | 343/5000 [00:11<02:42, 28.58it/s]\u001b[A\n",
      "  7%|▋         | 346/5000 [00:12<02:42, 28.69it/s]\u001b[A\n",
      "  7%|▋         | 349/5000 [00:12<02:42, 28.64it/s]\u001b[A\n",
      "  7%|▋         | 352/5000 [00:12<02:42, 28.53it/s]\u001b[A\n",
      "  7%|▋         | 355/5000 [00:12<02:42, 28.66it/s]\u001b[A"
     ]
    },
    {
     "name": "stdout",
     "output_type": "stream",
     "text": [
      " iteration 350, cost 0.4105\n"
     ]
    },
    {
     "name": "stderr",
     "output_type": "stream",
     "text": [
      "\n",
      "  7%|▋         | 358/5000 [00:12<02:41, 28.69it/s]\u001b[A\n",
      "  7%|▋         | 361/5000 [00:12<02:40, 28.82it/s]\u001b[A\n",
      "  7%|▋         | 364/5000 [00:12<02:41, 28.63it/s]\u001b[A\n",
      "  7%|▋         | 367/5000 [00:12<02:42, 28.52it/s]\u001b[A\n",
      "  7%|▋         | 370/5000 [00:12<02:45, 27.95it/s]\u001b[A\n",
      "  7%|▋         | 373/5000 [00:13<02:44, 28.17it/s]\u001b[A\n",
      "  8%|▊         | 376/5000 [00:13<02:42, 28.37it/s]\u001b[A\n",
      "  8%|▊         | 379/5000 [00:13<02:41, 28.57it/s]\u001b[A\n",
      "  8%|▊         | 382/5000 [00:13<02:41, 28.66it/s]\u001b[A\n",
      "  8%|▊         | 385/5000 [00:13<02:42, 28.38it/s]\u001b[A\n",
      "  8%|▊         | 388/5000 [00:13<02:41, 28.52it/s]\u001b[A\n",
      "  8%|▊         | 391/5000 [00:13<02:41, 28.54it/s]\u001b[A\n",
      "  8%|▊         | 394/5000 [00:13<02:40, 28.63it/s]\u001b[A\n",
      "  8%|▊         | 397/5000 [00:13<02:40, 28.71it/s]\u001b[A\n",
      "  8%|▊         | 400/5000 [00:13<02:42, 28.28it/s]\u001b[A\n",
      "  8%|▊         | 403/5000 [00:14<02:42, 28.33it/s]\u001b[A\n",
      "  8%|▊         | 406/5000 [00:14<02:41, 28.50it/s]\u001b[A"
     ]
    },
    {
     "name": "stdout",
     "output_type": "stream",
     "text": [
      " iteration 400, cost 0.3985\n"
     ]
    },
    {
     "name": "stderr",
     "output_type": "stream",
     "text": [
      "\n",
      "  8%|▊         | 409/5000 [00:14<02:41, 28.51it/s]\u001b[A\n",
      "  8%|▊         | 412/5000 [00:14<02:39, 28.80it/s]\u001b[A\n",
      "  8%|▊         | 415/5000 [00:14<02:37, 29.05it/s]\u001b[A\n",
      "  8%|▊         | 418/5000 [00:14<02:36, 29.25it/s]\u001b[A\n",
      "  8%|▊         | 421/5000 [00:14<02:39, 28.73it/s]\u001b[A\n",
      "  8%|▊         | 424/5000 [00:14<02:40, 28.53it/s]\u001b[A\n",
      "  9%|▊         | 427/5000 [00:14<02:40, 28.53it/s]\u001b[A\n",
      "  9%|▊         | 430/5000 [00:14<02:40, 28.42it/s]\u001b[A\n",
      "  9%|▊         | 433/5000 [00:15<02:41, 28.31it/s]\u001b[A\n",
      "  9%|▊         | 436/5000 [00:15<02:41, 28.32it/s]\u001b[A\n",
      "  9%|▉         | 439/5000 [00:15<02:42, 28.09it/s]\u001b[A\n",
      "  9%|▉         | 443/5000 [00:15<02:37, 28.90it/s]\u001b[A\n",
      "  9%|▉         | 446/5000 [00:15<02:36, 29.15it/s]\u001b[A\n",
      "  9%|▉         | 449/5000 [00:15<02:34, 29.39it/s]\u001b[A\n",
      "  9%|▉         | 452/5000 [00:15<02:38, 28.74it/s]\u001b[A\n",
      "  9%|▉         | 455/5000 [00:15<02:37, 28.85it/s]\u001b[A"
     ]
    },
    {
     "name": "stdout",
     "output_type": "stream",
     "text": [
      " iteration 450, cost 0.3876\n"
     ]
    },
    {
     "name": "stderr",
     "output_type": "stream",
     "text": [
      "\n",
      "  9%|▉         | 458/5000 [00:15<02:38, 28.65it/s]\u001b[A\n",
      "  9%|▉         | 461/5000 [00:16<02:38, 28.55it/s]\u001b[A\n",
      "  9%|▉         | 464/5000 [00:16<02:39, 28.45it/s]\u001b[A\n",
      "  9%|▉         | 467/5000 [00:16<02:38, 28.51it/s]\u001b[A\n",
      "  9%|▉         | 470/5000 [00:16<02:37, 28.68it/s]\u001b[A\n",
      "  9%|▉         | 473/5000 [00:16<02:38, 28.51it/s]\u001b[A\n",
      " 10%|▉         | 476/5000 [00:16<02:38, 28.49it/s]\u001b[A\n",
      " 10%|▉         | 479/5000 [00:16<02:39, 28.43it/s]\u001b[A\n",
      " 10%|▉         | 482/5000 [00:16<02:39, 28.36it/s]\u001b[A\n",
      " 10%|▉         | 485/5000 [00:16<02:39, 28.31it/s]\u001b[A\n",
      " 10%|▉         | 488/5000 [00:17<02:39, 28.35it/s]\u001b[A\n",
      " 10%|▉         | 491/5000 [00:17<02:39, 28.33it/s]\u001b[A\n",
      " 10%|▉         | 494/5000 [00:17<02:39, 28.22it/s]\u001b[A\n",
      " 10%|▉         | 498/5000 [00:17<02:36, 28.74it/s]\u001b[A\n",
      " 10%|█         | 501/5000 [00:17<02:39, 28.22it/s]\u001b[A\n",
      " 10%|█         | 504/5000 [00:17<02:36, 28.70it/s]\u001b[A"
     ]
    },
    {
     "name": "stdout",
     "output_type": "stream",
     "text": [
      " iteration 500, cost 0.3777\n"
     ]
    },
    {
     "name": "stderr",
     "output_type": "stream",
     "text": [
      "\n",
      " 10%|█         | 507/5000 [00:17<02:38, 28.42it/s]\u001b[A\n",
      " 10%|█         | 510/5000 [00:17<02:38, 28.27it/s]\u001b[A\n",
      " 10%|█         | 513/5000 [00:17<02:38, 28.25it/s]\u001b[A\n",
      " 10%|█         | 516/5000 [00:18<02:38, 28.29it/s]\u001b[A\n",
      " 10%|█         | 519/5000 [00:18<02:37, 28.48it/s]\u001b[A\n",
      " 10%|█         | 522/5000 [00:18<02:39, 28.12it/s]\u001b[A\n",
      " 10%|█         | 525/5000 [00:18<02:39, 28.08it/s]\u001b[A\n",
      " 11%|█         | 528/5000 [00:18<02:37, 28.42it/s]\u001b[A\n",
      " 11%|█         | 531/5000 [00:18<02:36, 28.55it/s]\u001b[A\n",
      " 11%|█         | 534/5000 [00:18<02:34, 28.89it/s]\u001b[A\n",
      " 11%|█         | 537/5000 [00:18<02:33, 29.05it/s]\u001b[A\n",
      " 11%|█         | 540/5000 [00:18<02:33, 29.12it/s]\u001b[A\n",
      " 11%|█         | 543/5000 [00:18<02:34, 28.79it/s]\u001b[A\n",
      " 11%|█         | 546/5000 [00:19<02:35, 28.68it/s]\u001b[A\n",
      " 11%|█         | 550/5000 [00:19<02:32, 29.19it/s]\u001b[A\n",
      " 11%|█         | 553/5000 [00:19<02:33, 28.94it/s]\u001b[A\n",
      " 11%|█         | 556/5000 [00:19<02:33, 28.86it/s]\u001b[A"
     ]
    },
    {
     "name": "stdout",
     "output_type": "stream",
     "text": [
      " iteration 550, cost 0.3687\n"
     ]
    },
    {
     "name": "stderr",
     "output_type": "stream",
     "text": [
      "\n",
      " 11%|█         | 559/5000 [00:19<02:34, 28.81it/s]\u001b[A\n",
      " 11%|█         | 562/5000 [00:19<02:32, 29.08it/s]\u001b[A\n",
      " 11%|█▏        | 565/5000 [00:19<02:34, 28.69it/s]\u001b[A\n",
      " 11%|█▏        | 568/5000 [00:19<02:35, 28.59it/s]\u001b[A\n",
      " 11%|█▏        | 571/5000 [00:19<02:36, 28.33it/s]\u001b[A\n",
      " 11%|█▏        | 574/5000 [00:20<02:35, 28.41it/s]\u001b[A\n",
      " 12%|█▏        | 577/5000 [00:20<02:36, 28.28it/s]\u001b[A\n",
      " 12%|█▏        | 580/5000 [00:20<02:37, 28.15it/s]\u001b[A\n",
      " 12%|█▏        | 583/5000 [00:20<02:35, 28.45it/s]\u001b[A\n",
      " 12%|█▏        | 586/5000 [00:20<02:33, 28.76it/s]\u001b[A\n",
      " 12%|█▏        | 589/5000 [00:20<02:32, 29.00it/s]\u001b[A\n",
      " 12%|█▏        | 592/5000 [00:20<02:31, 29.05it/s]\u001b[A\n",
      " 12%|█▏        | 595/5000 [00:20<02:33, 28.77it/s]\u001b[A\n",
      " 12%|█▏        | 598/5000 [00:20<02:33, 28.65it/s]\u001b[A\n",
      " 12%|█▏        | 601/5000 [00:20<02:35, 28.24it/s]\u001b[A\n",
      " 12%|█▏        | 604/5000 [00:21<02:34, 28.54it/s]\u001b[A"
     ]
    },
    {
     "name": "stdout",
     "output_type": "stream",
     "text": [
      " iteration 600, cost 0.3602\n"
     ]
    },
    {
     "name": "stderr",
     "output_type": "stream",
     "text": [
      "\n",
      " 12%|█▏        | 607/5000 [00:21<02:32, 28.84it/s]\u001b[A\n",
      " 12%|█▏        | 610/5000 [00:21<02:31, 28.89it/s]\u001b[A\n",
      " 12%|█▏        | 613/5000 [00:21<02:33, 28.61it/s]\u001b[A\n",
      " 12%|█▏        | 616/5000 [00:21<02:32, 28.71it/s]\u001b[A\n",
      " 12%|█▏        | 619/5000 [00:21<02:31, 29.00it/s]\u001b[A\n",
      " 12%|█▏        | 622/5000 [00:21<02:30, 29.18it/s]\u001b[A\n",
      " 12%|█▎        | 625/5000 [00:21<02:29, 29.26it/s]\u001b[A\n",
      " 13%|█▎        | 628/5000 [00:21<02:30, 29.15it/s]\u001b[A\n",
      " 13%|█▎        | 631/5000 [00:22<02:30, 29.09it/s]\u001b[A\n",
      " 13%|█▎        | 634/5000 [00:22<02:29, 29.12it/s]\u001b[A\n",
      " 13%|█▎        | 637/5000 [00:22<02:31, 28.84it/s]\u001b[A\n",
      " 13%|█▎        | 640/5000 [00:22<02:31, 28.73it/s]\u001b[A\n",
      " 13%|█▎        | 643/5000 [00:22<02:32, 28.53it/s]\u001b[A\n",
      " 13%|█▎        | 646/5000 [00:22<02:33, 28.40it/s]\u001b[A\n",
      " 13%|█▎        | 649/5000 [00:22<02:33, 28.40it/s]\u001b[A\n",
      " 13%|█▎        | 652/5000 [00:22<02:34, 28.11it/s]\u001b[A\n",
      " 13%|█▎        | 655/5000 [00:22<02:31, 28.61it/s]\u001b[A"
     ]
    },
    {
     "name": "stdout",
     "output_type": "stream",
     "text": [
      " iteration 650, cost 0.3522\n"
     ]
    },
    {
     "name": "stderr",
     "output_type": "stream",
     "text": [
      "\n",
      " 13%|█▎        | 658/5000 [00:22<02:32, 28.39it/s]\u001b[A\n",
      " 13%|█▎        | 661/5000 [00:23<02:33, 28.28it/s]\u001b[A\n",
      " 13%|█▎        | 664/5000 [00:23<02:33, 28.32it/s]\u001b[A\n",
      " 13%|█▎        | 667/5000 [00:23<02:33, 28.30it/s]\u001b[A\n",
      " 13%|█▎        | 670/5000 [00:23<02:33, 28.15it/s]\u001b[A\n",
      " 13%|█▎        | 673/5000 [00:23<02:32, 28.33it/s]\u001b[A\n",
      " 14%|█▎        | 676/5000 [00:23<02:32, 28.44it/s]\u001b[A\n",
      " 14%|█▎        | 679/5000 [00:23<02:32, 28.34it/s]\u001b[A\n",
      " 14%|█▎        | 682/5000 [00:23<02:32, 28.40it/s]\u001b[A\n",
      " 14%|█▎        | 685/5000 [00:23<02:32, 28.28it/s]\u001b[A\n",
      " 14%|█▍        | 688/5000 [00:24<02:32, 28.23it/s]\u001b[A\n",
      " 14%|█▍        | 691/5000 [00:24<02:32, 28.28it/s]\u001b[A\n",
      " 14%|█▍        | 694/5000 [00:24<02:31, 28.36it/s]\u001b[A\n",
      " 14%|█▍        | 697/5000 [00:24<02:32, 28.27it/s]\u001b[A\n",
      " 14%|█▍        | 700/5000 [00:24<02:31, 28.29it/s]\u001b[A\n",
      " 14%|█▍        | 703/5000 [00:24<02:32, 28.16it/s]\u001b[A\n",
      " 14%|█▍        | 706/5000 [00:24<02:31, 28.31it/s]\u001b[A"
     ]
    },
    {
     "name": "stdout",
     "output_type": "stream",
     "text": [
      " iteration 700, cost 0.3447\n"
     ]
    },
    {
     "name": "stderr",
     "output_type": "stream",
     "text": [
      "\n",
      " 14%|█▍        | 709/5000 [00:24<02:33, 28.03it/s]\u001b[A\n",
      " 14%|█▍        | 712/5000 [00:24<02:31, 28.31it/s]\u001b[A\n",
      " 14%|█▍        | 715/5000 [00:24<02:30, 28.55it/s]\u001b[A\n",
      " 14%|█▍        | 718/5000 [00:25<02:29, 28.62it/s]\u001b[A\n",
      " 14%|█▍        | 721/5000 [00:25<02:31, 28.15it/s]\u001b[A\n",
      " 14%|█▍        | 724/5000 [00:25<02:30, 28.38it/s]\u001b[A\n",
      " 15%|█▍        | 727/5000 [00:25<02:31, 28.29it/s]\u001b[A\n",
      " 15%|█▍        | 730/5000 [00:25<02:31, 28.21it/s]\u001b[A\n",
      " 15%|█▍        | 733/5000 [00:25<02:30, 28.34it/s]\u001b[A\n",
      " 15%|█▍        | 736/5000 [00:25<02:28, 28.74it/s]\u001b[A\n",
      " 15%|█▍        | 739/5000 [00:25<02:27, 28.98it/s]\u001b[A\n",
      " 15%|█▍        | 742/5000 [00:25<02:26, 29.06it/s]\u001b[A\n",
      " 15%|█▍        | 745/5000 [00:26<02:25, 29.18it/s]\u001b[A\n",
      " 15%|█▍        | 748/5000 [00:26<02:27, 28.92it/s]\u001b[A\n",
      " 15%|█▌        | 751/5000 [00:26<02:25, 29.19it/s]\u001b[A\n",
      " 15%|█▌        | 754/5000 [00:26<02:25, 29.11it/s]\u001b[A"
     ]
    },
    {
     "name": "stdout",
     "output_type": "stream",
     "text": [
      " iteration 750, cost 0.3377\n"
     ]
    },
    {
     "name": "stderr",
     "output_type": "stream",
     "text": [
      "\n",
      " 15%|█▌        | 757/5000 [00:26<02:25, 29.22it/s]\u001b[A\n",
      " 15%|█▌        | 760/5000 [00:26<02:25, 29.11it/s]\u001b[A\n",
      " 15%|█▌        | 763/5000 [00:26<02:25, 29.17it/s]\u001b[A\n",
      " 15%|█▌        | 766/5000 [00:26<02:25, 29.15it/s]\u001b[A\n",
      " 15%|█▌        | 769/5000 [00:26<02:24, 29.19it/s]\u001b[A\n",
      " 15%|█▌        | 772/5000 [00:26<02:26, 28.88it/s]\u001b[A\n",
      " 16%|█▌        | 775/5000 [00:27<02:25, 29.04it/s]\u001b[A\n",
      " 16%|█▌        | 778/5000 [00:27<02:24, 29.20it/s]\u001b[A\n",
      " 16%|█▌        | 781/5000 [00:27<02:23, 29.33it/s]\u001b[A\n",
      " 16%|█▌        | 784/5000 [00:27<02:24, 29.14it/s]\u001b[A\n",
      " 16%|█▌        | 787/5000 [00:27<02:26, 28.78it/s]\u001b[A\n",
      " 16%|█▌        | 790/5000 [00:27<02:24, 29.08it/s]\u001b[A\n",
      " 16%|█▌        | 793/5000 [00:27<02:23, 29.33it/s]\u001b[A\n",
      " 16%|█▌        | 796/5000 [00:27<02:22, 29.43it/s]\u001b[A\n",
      " 16%|█▌        | 799/5000 [00:27<02:22, 29.48it/s]\u001b[A\n",
      " 16%|█▌        | 802/5000 [00:27<02:24, 29.13it/s]\u001b[A\n",
      " 16%|█▌        | 805/5000 [00:28<02:23, 29.18it/s]\u001b[A"
     ]
    },
    {
     "name": "stdout",
     "output_type": "stream",
     "text": [
      " iteration 800, cost 0.3310\n"
     ]
    },
    {
     "name": "stderr",
     "output_type": "stream",
     "text": [
      "\n",
      " 16%|█▌        | 808/5000 [00:28<02:23, 29.22it/s]\u001b[A\n",
      " 16%|█▌        | 811/5000 [00:28<02:24, 29.07it/s]\u001b[A\n",
      " 16%|█▋        | 814/5000 [00:28<02:24, 28.89it/s]\u001b[A\n",
      " 16%|█▋        | 817/5000 [00:28<02:24, 28.89it/s]\u001b[A\n",
      " 16%|█▋        | 820/5000 [00:28<02:24, 28.83it/s]\u001b[A\n",
      " 16%|█▋        | 823/5000 [00:28<02:24, 28.93it/s]\u001b[A\n",
      " 17%|█▋        | 826/5000 [00:28<02:24, 28.91it/s]\u001b[A\n",
      " 17%|█▋        | 829/5000 [00:28<02:24, 28.78it/s]\u001b[A\n",
      " 17%|█▋        | 832/5000 [00:29<02:24, 28.75it/s]\u001b[A\n",
      " 17%|█▋        | 835/5000 [00:29<02:25, 28.66it/s]\u001b[A\n",
      " 17%|█▋        | 838/5000 [00:29<02:25, 28.67it/s]\u001b[A\n",
      " 17%|█▋        | 841/5000 [00:29<02:25, 28.63it/s]\u001b[A\n",
      " 17%|█▋        | 844/5000 [00:29<02:25, 28.51it/s]\u001b[A\n",
      " 17%|█▋        | 847/5000 [00:29<02:25, 28.59it/s]\u001b[A\n",
      " 17%|█▋        | 850/5000 [00:29<02:24, 28.75it/s]\u001b[A\n",
      " 17%|█▋        | 853/5000 [00:29<02:25, 28.46it/s]\u001b[A\n",
      " 17%|█▋        | 856/5000 [00:29<02:23, 28.83it/s]\u001b[A"
     ]
    },
    {
     "name": "stdout",
     "output_type": "stream",
     "text": [
      " iteration 850, cost 0.3248\n"
     ]
    },
    {
     "name": "stderr",
     "output_type": "stream",
     "text": [
      "\n",
      " 17%|█▋        | 859/5000 [00:29<02:22, 29.06it/s]\u001b[A\n",
      " 17%|█▋        | 862/5000 [00:30<02:21, 29.28it/s]\u001b[A\n",
      " 17%|█▋        | 865/5000 [00:30<02:20, 29.36it/s]\u001b[A\n",
      " 17%|█▋        | 868/5000 [00:30<02:20, 29.43it/s]\u001b[A\n",
      " 17%|█▋        | 871/5000 [00:30<02:20, 29.32it/s]\u001b[A\n",
      " 17%|█▋        | 874/5000 [00:30<02:21, 29.25it/s]\u001b[A\n",
      " 18%|█▊        | 877/5000 [00:30<02:20, 29.31it/s]\u001b[A\n",
      " 18%|█▊        | 880/5000 [00:30<02:20, 29.24it/s]\u001b[A\n",
      " 18%|█▊        | 883/5000 [00:30<02:20, 29.21it/s]\u001b[A\n",
      " 18%|█▊        | 886/5000 [00:30<02:20, 29.28it/s]\u001b[A\n",
      " 18%|█▊        | 889/5000 [00:30<02:20, 29.35it/s]\u001b[A\n",
      " 18%|█▊        | 892/5000 [00:31<02:19, 29.41it/s]\u001b[A\n",
      " 18%|█▊        | 895/5000 [00:31<02:20, 29.22it/s]\u001b[A\n",
      " 18%|█▊        | 898/5000 [00:31<02:21, 29.07it/s]\u001b[A\n",
      " 18%|█▊        | 901/5000 [00:31<02:21, 29.05it/s]\u001b[A\n",
      " 18%|█▊        | 904/5000 [00:31<02:20, 29.12it/s]\u001b[A"
     ]
    },
    {
     "name": "stdout",
     "output_type": "stream",
     "text": [
      " iteration 900, cost 0.3188\n"
     ]
    },
    {
     "name": "stderr",
     "output_type": "stream",
     "text": [
      "\n",
      " 18%|█▊        | 907/5000 [00:31<02:20, 29.09it/s]\u001b[A\n",
      " 18%|█▊        | 910/5000 [00:31<02:21, 28.98it/s]\u001b[A\n",
      " 18%|█▊        | 913/5000 [00:31<02:20, 29.01it/s]\u001b[A\n",
      " 18%|█▊        | 916/5000 [00:31<02:20, 28.98it/s]\u001b[A\n",
      " 18%|█▊        | 919/5000 [00:32<02:20, 29.07it/s]\u001b[A\n",
      " 18%|█▊        | 922/5000 [00:32<02:19, 29.15it/s]\u001b[A\n",
      " 18%|█▊        | 925/5000 [00:32<02:19, 29.25it/s]\u001b[A\n",
      " 19%|█▊        | 928/5000 [00:32<02:19, 29.11it/s]\u001b[A\n",
      " 19%|█▊        | 931/5000 [00:32<02:19, 29.22it/s]\u001b[A\n",
      " 19%|█▊        | 934/5000 [00:32<02:18, 29.35it/s]\u001b[A\n",
      " 19%|█▊        | 937/5000 [00:32<02:18, 29.28it/s]\u001b[A\n",
      " 19%|█▉        | 940/5000 [00:32<02:18, 29.40it/s]\u001b[A\n",
      " 19%|█▉        | 943/5000 [00:32<02:18, 29.24it/s]\u001b[A\n",
      " 19%|█▉        | 946/5000 [00:32<02:19, 29.04it/s]\u001b[A\n",
      " 19%|█▉        | 949/5000 [00:33<02:19, 29.13it/s]\u001b[A\n",
      " 19%|█▉        | 952/5000 [00:33<02:19, 29.02it/s]\u001b[A\n",
      " 19%|█▉        | 955/5000 [00:33<02:19, 29.02it/s]\u001b[A"
     ]
    },
    {
     "name": "stdout",
     "output_type": "stream",
     "text": [
      " iteration 950, cost 0.3133\n"
     ]
    },
    {
     "name": "stderr",
     "output_type": "stream",
     "text": [
      "\n",
      " 19%|█▉        | 958/5000 [00:33<02:19, 29.00it/s]\u001b[A\n",
      " 19%|█▉        | 961/5000 [00:33<02:19, 28.93it/s]\u001b[A\n",
      " 19%|█▉        | 964/5000 [00:33<02:19, 29.01it/s]\u001b[A\n",
      " 19%|█▉        | 967/5000 [00:33<02:19, 28.91it/s]\u001b[A\n",
      " 19%|█▉        | 970/5000 [00:33<02:20, 28.76it/s]\u001b[A\n",
      " 19%|█▉        | 973/5000 [00:33<02:20, 28.65it/s]\u001b[A\n",
      " 20%|█▉        | 976/5000 [00:33<02:20, 28.71it/s]\u001b[A\n",
      " 20%|█▉        | 979/5000 [00:34<02:20, 28.60it/s]\u001b[A\n",
      " 20%|█▉        | 982/5000 [00:34<02:20, 28.50it/s]\u001b[A\n",
      " 20%|█▉        | 985/5000 [00:34<02:19, 28.69it/s]\u001b[A\n",
      " 20%|█▉        | 988/5000 [00:34<02:19, 28.71it/s]\u001b[A\n",
      " 20%|█▉        | 991/5000 [00:34<02:20, 28.60it/s]\u001b[A\n",
      " 20%|█▉        | 994/5000 [00:34<02:19, 28.72it/s]\u001b[A\n",
      " 20%|█▉        | 997/5000 [00:34<02:19, 28.72it/s]\u001b[A\n",
      " 20%|██        | 1000/5000 [00:34<02:19, 28.73it/s]\u001b[A\n",
      " 20%|██        | 1003/5000 [00:34<02:18, 28.86it/s]\u001b[A\n",
      " 20%|██        | 1006/5000 [00:35<02:16, 29.16it/s]\u001b[A"
     ]
    },
    {
     "name": "stdout",
     "output_type": "stream",
     "text": [
      " iteration 1000, cost 0.3081\n"
     ]
    },
    {
     "name": "stderr",
     "output_type": "stream",
     "text": [
      "\n",
      " 20%|██        | 1009/5000 [00:35<02:18, 28.84it/s]\u001b[A\n",
      " 20%|██        | 1012/5000 [00:35<02:18, 28.80it/s]\u001b[A\n",
      " 20%|██        | 1015/5000 [00:35<02:18, 28.84it/s]\u001b[A\n",
      " 20%|██        | 1018/5000 [00:35<02:18, 28.80it/s]\u001b[A\n",
      " 20%|██        | 1021/5000 [00:35<02:18, 28.65it/s]\u001b[A\n",
      " 20%|██        | 1024/5000 [00:35<02:18, 28.69it/s]\u001b[A\n",
      " 21%|██        | 1027/5000 [00:35<02:18, 28.68it/s]\u001b[A\n",
      " 21%|██        | 1030/5000 [00:35<02:20, 28.33it/s]\u001b[A\n",
      " 21%|██        | 1033/5000 [00:35<02:18, 28.54it/s]\u001b[A\n",
      " 21%|██        | 1036/5000 [00:36<02:18, 28.71it/s]\u001b[A\n",
      " 21%|██        | 1039/5000 [00:36<02:17, 28.78it/s]\u001b[A\n",
      " 21%|██        | 1042/5000 [00:36<02:18, 28.60it/s]\u001b[A\n",
      " 21%|██        | 1045/5000 [00:36<02:20, 28.19it/s]\u001b[A\n",
      " 21%|██        | 1048/5000 [00:36<02:19, 28.38it/s]\u001b[A\n",
      " 21%|██        | 1051/5000 [00:36<02:18, 28.54it/s]\u001b[A\n",
      " 21%|██        | 1054/5000 [00:36<02:18, 28.50it/s]\u001b[A"
     ]
    },
    {
     "name": "stdout",
     "output_type": "stream",
     "text": [
      " iteration 1050, cost 0.3031\n"
     ]
    },
    {
     "name": "stderr",
     "output_type": "stream",
     "text": [
      "\n",
      " 21%|██        | 1057/5000 [00:36<02:19, 28.23it/s]\u001b[A\n",
      " 21%|██        | 1060/5000 [00:36<02:18, 28.50it/s]\u001b[A\n",
      " 21%|██▏       | 1063/5000 [00:37<02:17, 28.69it/s]\u001b[A\n",
      " 21%|██▏       | 1066/5000 [00:37<02:17, 28.66it/s]\u001b[A\n",
      " 21%|██▏       | 1069/5000 [00:37<02:17, 28.62it/s]\u001b[A\n",
      " 21%|██▏       | 1072/5000 [00:37<02:17, 28.49it/s]\u001b[A\n",
      " 22%|██▏       | 1075/5000 [00:37<02:18, 28.36it/s]\u001b[A\n",
      " 22%|██▏       | 1078/5000 [00:37<02:18, 28.30it/s]\u001b[A\n",
      " 22%|██▏       | 1081/5000 [00:37<02:18, 28.32it/s]\u001b[A\n",
      " 22%|██▏       | 1084/5000 [00:37<02:18, 28.37it/s]\u001b[A\n",
      " 22%|██▏       | 1087/5000 [00:37<02:19, 28.13it/s]\u001b[A\n",
      " 22%|██▏       | 1090/5000 [00:37<02:17, 28.43it/s]\u001b[A\n",
      " 22%|██▏       | 1093/5000 [00:38<02:16, 28.55it/s]\u001b[A\n",
      " 22%|██▏       | 1096/5000 [00:38<02:16, 28.62it/s]\u001b[A\n",
      " 22%|██▏       | 1099/5000 [00:38<02:15, 28.68it/s]\u001b[A\n",
      " 22%|██▏       | 1102/5000 [00:38<02:17, 28.37it/s]\u001b[A\n",
      " 22%|██▏       | 1105/5000 [00:38<02:15, 28.71it/s]\u001b[A"
     ]
    },
    {
     "name": "stdout",
     "output_type": "stream",
     "text": [
      " iteration 1100, cost 0.2986\n"
     ]
    },
    {
     "name": "stderr",
     "output_type": "stream",
     "text": [
      "\n",
      " 22%|██▏       | 1108/5000 [00:38<02:14, 28.90it/s]\u001b[A\n",
      " 22%|██▏       | 1111/5000 [00:38<02:15, 28.64it/s]\u001b[A\n",
      " 22%|██▏       | 1114/5000 [00:38<02:15, 28.61it/s]\u001b[A\n",
      " 22%|██▏       | 1117/5000 [00:38<02:17, 28.28it/s]\u001b[A\n",
      " 22%|██▏       | 1120/5000 [00:39<02:15, 28.69it/s]\u001b[A\n",
      " 22%|██▏       | 1123/5000 [00:39<02:13, 29.03it/s]\u001b[A\n",
      " 23%|██▎       | 1126/5000 [00:39<02:12, 29.15it/s]\u001b[A\n",
      " 23%|██▎       | 1129/5000 [00:39<02:14, 28.86it/s]\u001b[A\n",
      " 23%|██▎       | 1132/5000 [00:39<02:13, 28.89it/s]\u001b[A\n",
      " 23%|██▎       | 1135/5000 [00:39<02:14, 28.83it/s]\u001b[A\n",
      " 23%|██▎       | 1138/5000 [00:39<02:12, 29.08it/s]\u001b[A\n",
      " 23%|██▎       | 1141/5000 [00:39<02:13, 28.98it/s]\u001b[A\n",
      " 23%|██▎       | 1144/5000 [00:39<02:14, 28.71it/s]\u001b[A\n",
      " 23%|██▎       | 1147/5000 [00:39<02:14, 28.64it/s]\u001b[A\n",
      " 23%|██▎       | 1150/5000 [00:40<02:13, 28.93it/s]\u001b[A\n",
      " 23%|██▎       | 1153/5000 [00:40<02:14, 28.53it/s]\u001b[A\n",
      " 23%|██▎       | 1156/5000 [00:40<02:14, 28.66it/s]\u001b[A"
     ]
    },
    {
     "name": "stdout",
     "output_type": "stream",
     "text": [
      " iteration 1150, cost 0.2943\n"
     ]
    },
    {
     "name": "stderr",
     "output_type": "stream",
     "text": [
      "\n",
      " 23%|██▎       | 1159/5000 [00:40<02:13, 28.71it/s]\u001b[A\n",
      " 23%|██▎       | 1162/5000 [00:40<02:12, 28.97it/s]\u001b[A\n",
      " 23%|██▎       | 1165/5000 [00:40<02:13, 28.77it/s]\u001b[A\n",
      " 23%|██▎       | 1168/5000 [00:40<02:12, 28.89it/s]\u001b[A\n",
      " 23%|██▎       | 1171/5000 [00:40<02:11, 29.10it/s]\u001b[A\n",
      " 23%|██▎       | 1174/5000 [00:40<02:12, 28.96it/s]\u001b[A\n",
      " 24%|██▎       | 1177/5000 [00:40<02:13, 28.71it/s]\u001b[A\n",
      " 24%|██▎       | 1180/5000 [00:41<02:12, 28.85it/s]\u001b[A\n",
      " 24%|██▎       | 1183/5000 [00:41<02:12, 28.89it/s]\u001b[A\n",
      " 24%|██▎       | 1186/5000 [00:41<02:12, 28.73it/s]\u001b[A\n",
      " 24%|██▍       | 1189/5000 [00:41<02:13, 28.53it/s]\u001b[A\n",
      " 24%|██▍       | 1192/5000 [00:41<02:13, 28.51it/s]\u001b[A\n",
      " 24%|██▍       | 1195/5000 [00:41<02:13, 28.59it/s]\u001b[A\n",
      " 24%|██▍       | 1198/5000 [00:41<02:12, 28.64it/s]\u001b[A\n",
      " 24%|██▍       | 1201/5000 [00:41<02:13, 28.44it/s]\u001b[A\n",
      " 24%|██▍       | 1204/5000 [00:41<02:12, 28.74it/s]\u001b[A"
     ]
    },
    {
     "name": "stdout",
     "output_type": "stream",
     "text": [
      " iteration 1200, cost 0.2902\n"
     ]
    },
    {
     "name": "stderr",
     "output_type": "stream",
     "text": [
      "\n",
      " 24%|██▍       | 1207/5000 [00:42<02:12, 28.63it/s]\u001b[A\n",
      " 24%|██▍       | 1210/5000 [00:42<02:12, 28.58it/s]\u001b[A\n",
      " 24%|██▍       | 1213/5000 [00:42<02:13, 28.39it/s]\u001b[A\n",
      " 24%|██▍       | 1216/5000 [00:42<02:12, 28.58it/s]\u001b[A\n",
      " 24%|██▍       | 1219/5000 [00:42<02:14, 28.08it/s]\u001b[A\n",
      " 24%|██▍       | 1222/5000 [00:42<02:13, 28.31it/s]\u001b[A\n",
      " 24%|██▍       | 1225/5000 [00:42<02:13, 28.22it/s]\u001b[A\n",
      " 25%|██▍       | 1228/5000 [00:42<02:12, 28.57it/s]\u001b[A\n",
      " 25%|██▍       | 1231/5000 [00:42<02:10, 28.81it/s]\u001b[A\n",
      " 25%|██▍       | 1234/5000 [00:42<02:09, 28.98it/s]\u001b[A\n",
      " 25%|██▍       | 1237/5000 [00:43<02:10, 28.80it/s]\u001b[A\n",
      " 25%|██▍       | 1240/5000 [00:43<02:09, 28.93it/s]\u001b[A\n",
      " 25%|██▍       | 1243/5000 [00:43<02:10, 28.69it/s]\u001b[A\n",
      " 25%|██▍       | 1246/5000 [00:43<02:10, 28.66it/s]\u001b[A\n",
      " 25%|██▍       | 1249/5000 [00:43<02:11, 28.54it/s]\u001b[A\n",
      " 25%|██▌       | 1252/5000 [00:43<02:13, 28.13it/s]\u001b[A\n",
      " 25%|██▌       | 1255/5000 [00:43<02:11, 28.45it/s]\u001b[A"
     ]
    },
    {
     "name": "stdout",
     "output_type": "stream",
     "text": [
      " iteration 1250, cost 0.2864\n"
     ]
    },
    {
     "name": "stderr",
     "output_type": "stream",
     "text": [
      "\n",
      " 25%|██▌       | 1258/5000 [00:43<02:11, 28.36it/s]\u001b[A\n",
      " 25%|██▌       | 1261/5000 [00:43<02:10, 28.57it/s]\u001b[A\n",
      " 25%|██▌       | 1264/5000 [00:44<02:09, 28.80it/s]\u001b[A\n",
      " 25%|██▌       | 1267/5000 [00:44<02:09, 28.85it/s]\u001b[A\n",
      " 25%|██▌       | 1270/5000 [00:44<02:08, 28.98it/s]\u001b[A\n",
      " 25%|██▌       | 1273/5000 [00:44<02:08, 29.08it/s]\u001b[A\n",
      " 26%|██▌       | 1276/5000 [00:44<02:07, 29.22it/s]\u001b[A\n",
      " 26%|██▌       | 1279/5000 [00:44<02:07, 29.29it/s]\u001b[A\n",
      " 26%|██▌       | 1282/5000 [00:44<02:06, 29.31it/s]\u001b[A\n",
      " 26%|██▌       | 1285/5000 [00:44<02:08, 28.97it/s]\u001b[A\n",
      " 26%|██▌       | 1288/5000 [00:44<02:08, 28.87it/s]\u001b[A\n",
      " 26%|██▌       | 1291/5000 [00:44<02:08, 28.78it/s]\u001b[A\n",
      " 26%|██▌       | 1294/5000 [00:45<02:07, 29.08it/s]\u001b[A\n",
      " 26%|██▌       | 1297/5000 [00:45<02:07, 28.95it/s]\u001b[A\n",
      " 26%|██▌       | 1300/5000 [00:45<02:07, 28.95it/s]\u001b[A\n",
      " 26%|██▌       | 1303/5000 [00:45<02:08, 28.68it/s]\u001b[A\n",
      " 26%|██▌       | 1306/5000 [00:45<02:07, 28.91it/s]\u001b[A"
     ]
    },
    {
     "name": "stdout",
     "output_type": "stream",
     "text": [
      " iteration 1300, cost 0.2828\n"
     ]
    },
    {
     "name": "stderr",
     "output_type": "stream",
     "text": [
      "\n",
      " 26%|██▌       | 1309/5000 [00:45<02:08, 28.78it/s]\u001b[A\n",
      " 26%|██▌       | 1312/5000 [00:45<02:08, 28.69it/s]\u001b[A\n",
      " 26%|██▋       | 1315/5000 [00:45<02:09, 28.50it/s]\u001b[A\n",
      " 26%|██▋       | 1318/5000 [00:45<02:09, 28.54it/s]\u001b[A\n",
      " 26%|██▋       | 1321/5000 [00:46<02:10, 28.26it/s]\u001b[A\n",
      " 26%|██▋       | 1324/5000 [00:46<02:08, 28.60it/s]\u001b[A\n",
      " 27%|██▋       | 1327/5000 [00:46<02:07, 28.83it/s]\u001b[A\n",
      " 27%|██▋       | 1330/5000 [00:46<02:07, 28.77it/s]\u001b[A\n",
      " 27%|██▋       | 1333/5000 [00:46<02:09, 28.42it/s]\u001b[A\n",
      " 27%|██▋       | 1336/5000 [00:46<02:07, 28.67it/s]\u001b[A\n",
      " 27%|██▋       | 1339/5000 [00:46<02:06, 28.96it/s]\u001b[A\n",
      " 27%|██▋       | 1342/5000 [00:46<02:06, 29.01it/s]\u001b[A\n",
      " 27%|██▋       | 1345/5000 [00:46<02:07, 28.61it/s]\u001b[A\n",
      " 27%|██▋       | 1348/5000 [00:46<02:07, 28.62it/s]\u001b[A\n",
      " 27%|██▋       | 1351/5000 [00:47<02:09, 28.20it/s]\u001b[A\n",
      " 27%|██▋       | 1354/5000 [00:47<02:07, 28.54it/s]\u001b[A"
     ]
    },
    {
     "name": "stdout",
     "output_type": "stream",
     "text": [
      " iteration 1350, cost 0.2794\n"
     ]
    },
    {
     "name": "stderr",
     "output_type": "stream",
     "text": [
      "\n",
      " 27%|██▋       | 1357/5000 [00:47<02:06, 28.89it/s]\u001b[A\n",
      " 27%|██▋       | 1360/5000 [00:47<02:05, 28.94it/s]\u001b[A\n",
      " 27%|██▋       | 1363/5000 [00:47<02:05, 28.94it/s]\u001b[A\n",
      " 27%|██▋       | 1366/5000 [00:47<02:06, 28.75it/s]\u001b[A\n",
      " 27%|██▋       | 1369/5000 [00:47<02:06, 28.67it/s]\u001b[A\n",
      " 27%|██▋       | 1372/5000 [00:47<02:06, 28.66it/s]\u001b[A\n",
      " 28%|██▊       | 1375/5000 [00:47<02:06, 28.56it/s]\u001b[A\n",
      " 28%|██▊       | 1378/5000 [00:47<02:07, 28.51it/s]\u001b[A\n",
      " 28%|██▊       | 1381/5000 [00:48<02:07, 28.49it/s]\u001b[A\n",
      " 28%|██▊       | 1384/5000 [00:48<02:07, 28.44it/s]\u001b[A\n",
      " 28%|██▊       | 1387/5000 [00:48<02:07, 28.37it/s]\u001b[A\n",
      " 28%|██▊       | 1390/5000 [00:48<02:07, 28.40it/s]\u001b[A\n",
      " 28%|██▊       | 1393/5000 [00:48<02:07, 28.39it/s]\u001b[A\n",
      " 28%|██▊       | 1396/5000 [00:48<02:06, 28.50it/s]\u001b[A\n",
      " 28%|██▊       | 1399/5000 [00:48<02:06, 28.48it/s]\u001b[A\n",
      " 28%|██▊       | 1402/5000 [00:48<02:06, 28.44it/s]\u001b[A\n",
      " 28%|██▊       | 1405/5000 [00:48<02:06, 28.39it/s]\u001b[A"
     ]
    },
    {
     "name": "stdout",
     "output_type": "stream",
     "text": [
      " iteration 1400, cost 0.2762\n"
     ]
    },
    {
     "name": "stderr",
     "output_type": "stream",
     "text": [
      "\n",
      " 28%|██▊       | 1408/5000 [00:49<02:06, 28.49it/s]\u001b[A\n",
      " 28%|██▊       | 1411/5000 [00:49<02:05, 28.60it/s]\u001b[A\n",
      " 28%|██▊       | 1414/5000 [00:49<02:04, 28.79it/s]\u001b[A\n",
      " 28%|██▊       | 1417/5000 [00:49<02:04, 28.76it/s]\u001b[A\n",
      " 28%|██▊       | 1420/5000 [00:49<02:04, 28.72it/s]\u001b[A\n",
      " 28%|██▊       | 1423/5000 [00:49<02:05, 28.56it/s]\u001b[A\n",
      " 29%|██▊       | 1426/5000 [00:49<02:05, 28.50it/s]\u001b[A\n",
      " 29%|██▊       | 1429/5000 [00:49<02:06, 28.32it/s]\u001b[A\n",
      " 29%|██▊       | 1432/5000 [00:49<02:06, 28.21it/s]\u001b[A\n",
      " 29%|██▊       | 1435/5000 [00:49<02:06, 28.27it/s]\u001b[A\n",
      " 29%|██▉       | 1438/5000 [00:50<02:05, 28.28it/s]\u001b[A\n",
      " 29%|██▉       | 1441/5000 [00:50<02:06, 28.22it/s]\u001b[A\n",
      " 29%|██▉       | 1444/5000 [00:50<02:06, 28.07it/s]\u001b[A\n",
      " 29%|██▉       | 1447/5000 [00:50<02:06, 28.15it/s]\u001b[A\n",
      " 29%|██▉       | 1450/5000 [00:50<02:04, 28.57it/s]\u001b[A\n",
      " 29%|██▉       | 1453/5000 [00:50<02:04, 28.53it/s]\u001b[A\n",
      " 29%|██▉       | 1456/5000 [00:50<02:03, 28.58it/s]\u001b[A"
     ]
    },
    {
     "name": "stdout",
     "output_type": "stream",
     "text": [
      " iteration 1450, cost 0.2732\n"
     ]
    },
    {
     "name": "stderr",
     "output_type": "stream",
     "text": [
      "\n",
      " 29%|██▉       | 1459/5000 [00:50<02:04, 28.49it/s]\u001b[A\n",
      " 29%|██▉       | 1462/5000 [00:50<02:03, 28.62it/s]\u001b[A\n",
      " 29%|██▉       | 1465/5000 [00:51<02:03, 28.55it/s]\u001b[A\n",
      " 29%|██▉       | 1468/5000 [00:51<02:10, 27.06it/s]\u001b[A\n",
      " 29%|██▉       | 1471/5000 [00:51<02:10, 27.08it/s]\u001b[A\n",
      " 29%|██▉       | 1474/5000 [00:51<02:09, 27.27it/s]\u001b[A\n",
      " 30%|██▉       | 1477/5000 [00:51<02:06, 27.79it/s]\u001b[A\n",
      " 30%|██▉       | 1480/5000 [00:51<02:04, 28.17it/s]\u001b[A\n",
      " 30%|██▉       | 1483/5000 [00:51<02:04, 28.15it/s]\u001b[A\n",
      " 30%|██▉       | 1486/5000 [00:51<02:04, 28.22it/s]\u001b[A\n",
      " 30%|██▉       | 1489/5000 [00:51<02:04, 28.13it/s]\u001b[A\n",
      " 30%|██▉       | 1492/5000 [00:52<02:05, 27.92it/s]\u001b[A\n",
      " 30%|██▉       | 1495/5000 [00:52<02:04, 28.20it/s]\u001b[A\n",
      " 30%|██▉       | 1498/5000 [00:52<02:02, 28.48it/s]\u001b[A\n",
      " 30%|███       | 1501/5000 [00:52<02:02, 28.57it/s]\u001b[A\n",
      " 30%|███       | 1504/5000 [00:52<02:01, 28.77it/s]\u001b[A"
     ]
    },
    {
     "name": "stdout",
     "output_type": "stream",
     "text": [
      " iteration 1500, cost 0.2703\n"
     ]
    },
    {
     "name": "stderr",
     "output_type": "stream",
     "text": [
      "\n",
      " 30%|███       | 1507/5000 [00:52<02:01, 28.83it/s]\u001b[A\n",
      " 30%|███       | 1510/5000 [00:52<02:00, 28.87it/s]\u001b[A\n",
      " 30%|███       | 1513/5000 [00:52<02:01, 28.69it/s]\u001b[A\n",
      " 30%|███       | 1516/5000 [00:52<02:02, 28.45it/s]\u001b[A\n",
      " 30%|███       | 1519/5000 [00:52<02:01, 28.66it/s]\u001b[A\n",
      " 30%|███       | 1522/5000 [00:53<02:01, 28.66it/s]\u001b[A\n",
      " 30%|███       | 1525/5000 [00:53<02:01, 28.56it/s]\u001b[A\n",
      " 31%|███       | 1528/5000 [00:53<02:02, 28.34it/s]\u001b[A\n",
      " 31%|███       | 1531/5000 [00:53<02:03, 28.19it/s]\u001b[A\n",
      " 31%|███       | 1534/5000 [00:53<02:01, 28.45it/s]\u001b[A\n",
      " 31%|███       | 1537/5000 [00:53<02:02, 28.37it/s]\u001b[A\n",
      " 31%|███       | 1540/5000 [00:53<02:01, 28.41it/s]\u001b[A\n",
      " 31%|███       | 1543/5000 [00:53<02:02, 28.27it/s]\u001b[A\n",
      " 31%|███       | 1546/5000 [00:53<02:03, 27.99it/s]\u001b[A\n",
      " 31%|███       | 1549/5000 [00:54<02:01, 28.39it/s]\u001b[A\n",
      " 31%|███       | 1552/5000 [00:54<02:01, 28.43it/s]\u001b[A\n",
      " 31%|███       | 1555/5000 [00:54<01:59, 28.72it/s]\u001b[A"
     ]
    },
    {
     "name": "stdout",
     "output_type": "stream",
     "text": [
      " iteration 1550, cost 0.2676\n"
     ]
    },
    {
     "name": "stderr",
     "output_type": "stream",
     "text": [
      "\n",
      " 31%|███       | 1558/5000 [00:54<02:00, 28.54it/s]\u001b[A\n",
      " 31%|███       | 1561/5000 [00:54<02:01, 28.34it/s]\u001b[A\n",
      " 31%|███▏      | 1564/5000 [00:54<02:01, 28.36it/s]\u001b[A\n",
      " 31%|███▏      | 1567/5000 [00:54<02:02, 27.95it/s]\u001b[A\n",
      " 31%|███▏      | 1570/5000 [00:54<02:02, 28.07it/s]\u001b[A\n",
      " 31%|███▏      | 1573/5000 [00:54<02:00, 28.48it/s]\u001b[A\n",
      " 32%|███▏      | 1576/5000 [00:54<01:59, 28.74it/s]\u001b[A\n",
      " 32%|███▏      | 1579/5000 [00:55<01:58, 28.97it/s]\u001b[A\n",
      " 32%|███▏      | 1582/5000 [00:55<01:58, 28.90it/s]\u001b[A\n",
      " 32%|███▏      | 1585/5000 [00:55<01:59, 28.59it/s]\u001b[A\n",
      " 32%|███▏      | 1588/5000 [00:55<01:58, 28.74it/s]\u001b[A\n",
      " 32%|███▏      | 1591/5000 [00:55<01:57, 28.97it/s]\u001b[A\n",
      " 32%|███▏      | 1594/5000 [00:55<01:56, 29.20it/s]\u001b[A\n",
      " 32%|███▏      | 1597/5000 [00:55<01:56, 29.10it/s]\u001b[A\n",
      " 32%|███▏      | 1600/5000 [00:55<01:57, 28.91it/s]\u001b[A\n",
      " 32%|███▏      | 1603/5000 [00:55<01:59, 28.42it/s]\u001b[A\n",
      " 32%|███▏      | 1606/5000 [00:56<01:58, 28.60it/s]\u001b[A"
     ]
    },
    {
     "name": "stdout",
     "output_type": "stream",
     "text": [
      " iteration 1600, cost 0.2650\n"
     ]
    },
    {
     "name": "stderr",
     "output_type": "stream",
     "text": [
      "\n",
      " 32%|███▏      | 1609/5000 [00:56<01:57, 28.87it/s]\u001b[A\n",
      " 32%|███▏      | 1612/5000 [00:56<01:56, 29.00it/s]\u001b[A\n",
      " 32%|███▏      | 1615/5000 [00:56<01:56, 29.14it/s]\u001b[A\n",
      " 32%|███▏      | 1618/5000 [00:56<01:55, 29.28it/s]\u001b[A\n",
      " 32%|███▏      | 1621/5000 [00:56<01:54, 29.44it/s]\u001b[A\n",
      " 32%|███▏      | 1624/5000 [00:56<01:54, 29.40it/s]\u001b[A\n",
      " 33%|███▎      | 1627/5000 [00:56<01:54, 29.35it/s]\u001b[A\n",
      " 33%|███▎      | 1630/5000 [00:56<01:56, 28.85it/s]\u001b[A\n",
      " 33%|███▎      | 1633/5000 [00:56<01:56, 28.83it/s]\u001b[A\n",
      " 33%|███▎      | 1636/5000 [00:57<01:57, 28.69it/s]\u001b[A\n",
      " 33%|███▎      | 1639/5000 [00:57<01:57, 28.55it/s]\u001b[A\n",
      " 33%|███▎      | 1642/5000 [00:57<01:58, 28.35it/s]\u001b[A\n",
      " 33%|███▎      | 1645/5000 [00:57<01:58, 28.40it/s]\u001b[A\n",
      " 33%|███▎      | 1648/5000 [00:57<01:57, 28.44it/s]\u001b[A\n",
      " 33%|███▎      | 1651/5000 [00:57<01:59, 27.98it/s]\u001b[A\n",
      " 33%|███▎      | 1654/5000 [00:57<01:59, 27.93it/s]\u001b[A"
     ]
    },
    {
     "name": "stdout",
     "output_type": "stream",
     "text": [
      " iteration 1650, cost 0.2626\n"
     ]
    },
    {
     "name": "stderr",
     "output_type": "stream",
     "text": [
      "\n",
      " 33%|███▎      | 1657/5000 [00:57<01:59, 28.05it/s]\u001b[A\n",
      " 33%|███▎      | 1660/5000 [00:57<01:57, 28.48it/s]\u001b[A\n",
      " 33%|███▎      | 1663/5000 [00:57<01:56, 28.73it/s]\u001b[A\n",
      " 33%|███▎      | 1666/5000 [00:58<01:56, 28.57it/s]\u001b[A\n",
      " 33%|███▎      | 1669/5000 [00:58<01:57, 28.46it/s]\u001b[A\n",
      " 33%|███▎      | 1672/5000 [00:58<01:56, 28.50it/s]\u001b[A\n",
      " 34%|███▎      | 1675/5000 [00:58<01:56, 28.45it/s]\u001b[A\n",
      " 34%|███▎      | 1678/5000 [00:58<01:55, 28.69it/s]\u001b[A\n",
      " 34%|███▎      | 1681/5000 [00:58<01:54, 28.91it/s]\u001b[A\n",
      " 34%|███▎      | 1684/5000 [00:58<01:54, 28.87it/s]\u001b[A\n",
      " 34%|███▎      | 1687/5000 [00:58<01:55, 28.73it/s]\u001b[A\n",
      " 34%|███▍      | 1690/5000 [00:58<01:54, 28.87it/s]\u001b[A\n",
      " 34%|███▍      | 1693/5000 [00:59<01:55, 28.72it/s]\u001b[A\n",
      " 34%|███▍      | 1696/5000 [00:59<01:54, 28.95it/s]\u001b[A\n",
      " 34%|███▍      | 1699/5000 [00:59<01:53, 29.03it/s]\u001b[A\n",
      " 34%|███▍      | 1702/5000 [00:59<01:55, 28.47it/s]\u001b[A\n",
      " 34%|███▍      | 1705/5000 [00:59<01:56, 28.25it/s]\u001b[A"
     ]
    },
    {
     "name": "stdout",
     "output_type": "stream",
     "text": [
      " iteration 1700, cost 0.2602\n"
     ]
    },
    {
     "name": "stderr",
     "output_type": "stream",
     "text": [
      "\n",
      " 34%|███▍      | 1708/5000 [00:59<01:56, 28.30it/s]\u001b[A\n",
      " 34%|███▍      | 1711/5000 [00:59<01:55, 28.53it/s]\u001b[A\n",
      " 34%|███▍      | 1714/5000 [00:59<01:55, 28.57it/s]\u001b[A\n",
      " 34%|███▍      | 1717/5000 [00:59<01:55, 28.42it/s]\u001b[A\n",
      " 34%|███▍      | 1720/5000 [00:59<01:54, 28.64it/s]\u001b[A\n",
      " 34%|███▍      | 1723/5000 [01:00<01:53, 28.86it/s]\u001b[A\n",
      " 35%|███▍      | 1726/5000 [01:00<01:53, 28.97it/s]\u001b[A\n",
      " 35%|███▍      | 1729/5000 [01:00<01:54, 28.59it/s]\u001b[A\n",
      " 35%|███▍      | 1732/5000 [01:00<01:54, 28.50it/s]\u001b[A\n",
      " 35%|███▍      | 1735/5000 [01:00<01:54, 28.42it/s]\u001b[A\n",
      " 35%|███▍      | 1738/5000 [01:00<01:54, 28.37it/s]\u001b[A\n",
      " 35%|███▍      | 1741/5000 [01:00<01:54, 28.35it/s]\u001b[A\n",
      " 35%|███▍      | 1744/5000 [01:00<01:54, 28.40it/s]\u001b[A\n",
      " 35%|███▍      | 1747/5000 [01:00<01:53, 28.63it/s]\u001b[A\n",
      " 35%|███▌      | 1750/5000 [01:01<01:54, 28.51it/s]\u001b[A\n",
      " 35%|███▌      | 1753/5000 [01:01<01:53, 28.55it/s]\u001b[A\n",
      " 35%|███▌      | 1756/5000 [01:01<01:53, 28.47it/s]\u001b[A"
     ]
    },
    {
     "name": "stdout",
     "output_type": "stream",
     "text": [
      " iteration 1750, cost 0.2579\n"
     ]
    },
    {
     "name": "stderr",
     "output_type": "stream",
     "text": [
      "\n",
      " 35%|███▌      | 1759/5000 [01:01<01:53, 28.59it/s]\u001b[A\n",
      " 35%|███▌      | 1762/5000 [01:01<01:53, 28.65it/s]\u001b[A\n",
      " 35%|███▌      | 1765/5000 [01:01<01:52, 28.82it/s]\u001b[A\n",
      " 35%|███▌      | 1768/5000 [01:01<01:51, 29.04it/s]\u001b[A\n",
      " 35%|███▌      | 1771/5000 [01:01<01:51, 28.88it/s]\u001b[A\n",
      " 35%|███▌      | 1774/5000 [01:01<01:52, 28.73it/s]\u001b[A\n",
      " 36%|███▌      | 1777/5000 [01:01<01:53, 28.51it/s]\u001b[A\n",
      " 36%|███▌      | 1780/5000 [01:02<01:54, 28.19it/s]\u001b[A\n",
      " 36%|███▌      | 1783/5000 [01:02<01:53, 28.31it/s]\u001b[A\n",
      " 36%|███▌      | 1786/5000 [01:02<01:53, 28.40it/s]\u001b[A\n",
      " 36%|███▌      | 1789/5000 [01:02<01:52, 28.62it/s]\u001b[A\n",
      " 36%|███▌      | 1792/5000 [01:02<01:52, 28.51it/s]\u001b[A\n",
      " 36%|███▌      | 1795/5000 [01:02<01:52, 28.50it/s]\u001b[A\n",
      " 36%|███▌      | 1798/5000 [01:02<01:51, 28.63it/s]\u001b[A\n",
      " 36%|███▌      | 1801/5000 [01:02<01:50, 28.87it/s]\u001b[A\n",
      " 36%|███▌      | 1804/5000 [01:02<01:50, 28.98it/s]\u001b[A"
     ]
    },
    {
     "name": "stdout",
     "output_type": "stream",
     "text": [
      " iteration 1800, cost 0.2558\n"
     ]
    },
    {
     "name": "stderr",
     "output_type": "stream",
     "text": [
      "\n",
      " 36%|███▌      | 1807/5000 [01:03<01:49, 29.19it/s]\u001b[A\n",
      " 36%|███▌      | 1810/5000 [01:03<01:50, 28.83it/s]\u001b[A\n",
      " 36%|███▋      | 1813/5000 [01:03<01:50, 28.74it/s]\u001b[A\n",
      " 36%|███▋      | 1816/5000 [01:03<01:51, 28.60it/s]\u001b[A\n",
      " 36%|███▋      | 1819/5000 [01:03<01:51, 28.45it/s]\u001b[A\n",
      " 36%|███▋      | 1822/5000 [01:03<01:51, 28.47it/s]\u001b[A\n",
      " 36%|███▋      | 1825/5000 [01:03<01:51, 28.44it/s]\u001b[A\n",
      " 37%|███▋      | 1828/5000 [01:03<01:51, 28.38it/s]\u001b[A\n",
      " 37%|███▋      | 1831/5000 [01:03<01:51, 28.40it/s]\u001b[A\n",
      " 37%|███▋      | 1834/5000 [01:03<01:51, 28.47it/s]\u001b[A\n",
      " 37%|███▋      | 1837/5000 [01:04<01:50, 28.58it/s]\u001b[A\n",
      " 37%|███▋      | 1840/5000 [01:04<01:50, 28.56it/s]\u001b[A\n",
      " 37%|███▋      | 1843/5000 [01:04<01:51, 28.36it/s]\u001b[A\n",
      " 37%|███▋      | 1846/5000 [01:04<01:51, 28.36it/s]\u001b[A\n",
      " 37%|███▋      | 1849/5000 [01:04<01:51, 28.28it/s]\u001b[A\n",
      " 37%|███▋      | 1852/5000 [01:04<01:52, 27.95it/s]\u001b[A\n",
      " 37%|███▋      | 1855/5000 [01:04<01:50, 28.42it/s]\u001b[A"
     ]
    },
    {
     "name": "stdout",
     "output_type": "stream",
     "text": [
      " iteration 1850, cost 0.2538\n"
     ]
    },
    {
     "name": "stderr",
     "output_type": "stream",
     "text": [
      "\n",
      " 37%|███▋      | 1858/5000 [01:04<01:50, 28.46it/s]\u001b[A\n",
      " 37%|███▋      | 1861/5000 [01:04<01:49, 28.69it/s]\u001b[A\n",
      " 37%|███▋      | 1864/5000 [01:05<01:48, 28.87it/s]\u001b[A\n",
      " 37%|███▋      | 1868/5000 [01:05<01:47, 29.14it/s]\u001b[A\n",
      " 37%|███▋      | 1871/5000 [01:05<01:48, 28.89it/s]\u001b[A\n",
      " 37%|███▋      | 1874/5000 [01:05<01:48, 28.70it/s]\u001b[A\n",
      " 38%|███▊      | 1877/5000 [01:05<01:49, 28.51it/s]\u001b[A\n",
      " 38%|███▊      | 1880/5000 [01:05<01:49, 28.51it/s]\u001b[A\n",
      " 38%|███▊      | 1883/5000 [01:05<01:49, 28.43it/s]\u001b[A\n",
      " 38%|███▊      | 1886/5000 [01:05<01:49, 28.42it/s]\u001b[A\n",
      " 38%|███▊      | 1889/5000 [01:05<01:49, 28.39it/s]\u001b[A\n",
      " 38%|███▊      | 1892/5000 [01:06<01:49, 28.42it/s]\u001b[A\n",
      " 38%|███▊      | 1895/5000 [01:06<01:49, 28.38it/s]\u001b[A\n",
      " 38%|███▊      | 1898/5000 [01:06<01:49, 28.32it/s]\u001b[A\n",
      " 38%|███▊      | 1901/5000 [01:06<01:51, 27.92it/s]\u001b[A\n",
      " 38%|███▊      | 1904/5000 [01:06<01:49, 28.40it/s]\u001b[A"
     ]
    },
    {
     "name": "stdout",
     "output_type": "stream",
     "text": [
      " iteration 1900, cost 0.2519\n"
     ]
    },
    {
     "name": "stderr",
     "output_type": "stream",
     "text": [
      "\n",
      " 38%|███▊      | 1907/5000 [01:06<01:48, 28.40it/s]\u001b[A\n",
      " 38%|███▊      | 1910/5000 [01:06<01:48, 28.53it/s]\u001b[A\n",
      " 38%|███▊      | 1913/5000 [01:06<01:48, 28.43it/s]\u001b[A\n",
      " 38%|███▊      | 1916/5000 [01:06<01:48, 28.34it/s]\u001b[A\n",
      " 38%|███▊      | 1919/5000 [01:06<01:48, 28.41it/s]\u001b[A\n",
      " 38%|███▊      | 1922/5000 [01:07<01:48, 28.39it/s]\u001b[A\n",
      " 38%|███▊      | 1925/5000 [01:07<01:48, 28.35it/s]\u001b[A\n",
      " 39%|███▊      | 1928/5000 [01:07<01:49, 28.18it/s]\u001b[A\n",
      " 39%|███▊      | 1931/5000 [01:07<01:48, 28.22it/s]\u001b[A\n",
      " 39%|███▊      | 1934/5000 [01:07<01:48, 28.23it/s]\u001b[A\n",
      " 39%|███▊      | 1937/5000 [01:07<01:48, 28.22it/s]\u001b[A\n",
      " 39%|███▉      | 1940/5000 [01:07<01:48, 28.21it/s]\u001b[A\n",
      " 39%|███▉      | 1943/5000 [01:07<01:48, 28.20it/s]\u001b[A\n",
      " 39%|███▉      | 1946/5000 [01:07<01:48, 28.21it/s]\u001b[A\n",
      " 39%|███▉      | 1949/5000 [01:08<01:48, 28.13it/s]\u001b[A\n",
      " 39%|███▉      | 1952/5000 [01:08<01:48, 28.04it/s]\u001b[A\n",
      " 39%|███▉      | 1955/5000 [01:08<01:46, 28.48it/s]\u001b[A"
     ]
    },
    {
     "name": "stdout",
     "output_type": "stream",
     "text": [
      " iteration 1950, cost 0.2501\n"
     ]
    },
    {
     "name": "stderr",
     "output_type": "stream",
     "text": [
      "\n",
      " 39%|███▉      | 1958/5000 [01:08<01:46, 28.64it/s]\u001b[A\n",
      " 39%|███▉      | 1961/5000 [01:08<01:45, 28.88it/s]\u001b[A\n",
      " 39%|███▉      | 1964/5000 [01:08<01:44, 29.07it/s]\u001b[A\n",
      " 39%|███▉      | 1968/5000 [01:08<01:43, 29.23it/s]\u001b[A\n",
      " 39%|███▉      | 1971/5000 [01:08<01:44, 28.87it/s]\u001b[A\n",
      " 39%|███▉      | 1974/5000 [01:08<01:45, 28.67it/s]\u001b[A\n",
      " 40%|███▉      | 1977/5000 [01:08<01:46, 28.48it/s]\u001b[A\n",
      " 40%|███▉      | 1980/5000 [01:09<01:45, 28.50it/s]\u001b[A\n",
      " 40%|███▉      | 1983/5000 [01:09<01:46, 28.32it/s]\u001b[A\n",
      " 40%|███▉      | 1986/5000 [01:09<01:46, 28.35it/s]\u001b[A\n",
      " 40%|███▉      | 1989/5000 [01:09<01:46, 28.28it/s]\u001b[A\n",
      " 40%|███▉      | 1992/5000 [01:09<01:46, 28.15it/s]\u001b[A\n",
      " 40%|███▉      | 1995/5000 [01:09<01:45, 28.60it/s]\u001b[A\n",
      " 40%|███▉      | 1998/5000 [01:09<01:44, 28.77it/s]\u001b[A\n",
      " 40%|████      | 2001/5000 [01:09<01:44, 28.72it/s]\u001b[A\n",
      " 40%|████      | 2004/5000 [01:09<01:44, 28.58it/s]\u001b[A"
     ]
    },
    {
     "name": "stdout",
     "output_type": "stream",
     "text": [
      " iteration 2000, cost 0.2483\n"
     ]
    },
    {
     "name": "stderr",
     "output_type": "stream",
     "text": [
      "\n",
      " 40%|████      | 2007/5000 [01:10<01:44, 28.77it/s]\u001b[A\n",
      " 40%|████      | 2010/5000 [01:10<01:43, 29.02it/s]\u001b[A\n",
      " 40%|████      | 2013/5000 [01:10<01:42, 29.21it/s]\u001b[A\n",
      " 40%|████      | 2016/5000 [01:10<01:41, 29.28it/s]\u001b[A\n",
      " 40%|████      | 2019/5000 [01:10<01:41, 29.29it/s]\u001b[A\n",
      " 40%|████      | 2022/5000 [01:10<01:42, 28.97it/s]\u001b[A\n",
      " 40%|████      | 2025/5000 [01:10<01:43, 28.80it/s]\u001b[A\n",
      " 41%|████      | 2028/5000 [01:10<01:43, 28.62it/s]\u001b[A\n",
      " 41%|████      | 2031/5000 [01:10<01:44, 28.37it/s]\u001b[A\n",
      " 41%|████      | 2034/5000 [01:10<01:44, 28.42it/s]\u001b[A\n",
      " 41%|████      | 2037/5000 [01:11<01:44, 28.34it/s]\u001b[A\n",
      " 41%|████      | 2040/5000 [01:11<01:44, 28.30it/s]\u001b[A\n",
      " 41%|████      | 2043/5000 [01:11<01:45, 28.15it/s]\u001b[A\n",
      " 41%|████      | 2046/5000 [01:11<01:44, 28.21it/s]\u001b[A\n",
      " 41%|████      | 2049/5000 [01:11<01:44, 28.26it/s]\u001b[A\n",
      " 41%|████      | 2052/5000 [01:11<01:45, 28.00it/s]\u001b[A\n",
      " 41%|████      | 2055/5000 [01:11<01:43, 28.37it/s]\u001b[A"
     ]
    },
    {
     "name": "stdout",
     "output_type": "stream",
     "text": [
      " iteration 2050, cost 0.2467\n"
     ]
    },
    {
     "name": "stderr",
     "output_type": "stream",
     "text": [
      "\n",
      " 41%|████      | 2058/5000 [01:11<01:43, 28.31it/s]\u001b[A\n",
      " 41%|████      | 2061/5000 [01:11<01:43, 28.39it/s]\u001b[A\n",
      " 41%|████▏     | 2064/5000 [01:12<01:43, 28.45it/s]\u001b[A\n",
      " 41%|████▏     | 2067/5000 [01:12<01:43, 28.42it/s]\u001b[A\n",
      " 41%|████▏     | 2070/5000 [01:12<01:43, 28.39it/s]\u001b[A\n",
      " 41%|████▏     | 2073/5000 [01:12<01:43, 28.33it/s]\u001b[A\n",
      " 42%|████▏     | 2076/5000 [01:12<01:43, 28.31it/s]\u001b[A\n",
      " 42%|████▏     | 2079/5000 [01:12<01:43, 28.19it/s]\u001b[A\n",
      " 42%|████▏     | 2082/5000 [01:12<01:43, 28.30it/s]\u001b[A\n",
      " 42%|████▏     | 2085/5000 [01:12<01:43, 28.28it/s]\u001b[A\n",
      " 42%|████▏     | 2088/5000 [01:12<01:43, 28.26it/s]\u001b[A\n",
      " 42%|████▏     | 2091/5000 [01:13<01:42, 28.26it/s]\u001b[A\n",
      " 42%|████▏     | 2094/5000 [01:13<01:42, 28.30it/s]\u001b[A\n",
      " 42%|████▏     | 2097/5000 [01:13<01:42, 28.31it/s]\u001b[A\n",
      " 42%|████▏     | 2100/5000 [01:13<01:42, 28.22it/s]\u001b[A\n",
      " 42%|████▏     | 2103/5000 [01:13<01:43, 28.07it/s]\u001b[A\n",
      " 42%|████▏     | 2106/5000 [01:13<01:41, 28.52it/s]\u001b[A"
     ]
    },
    {
     "name": "stdout",
     "output_type": "stream",
     "text": [
      " iteration 2100, cost 0.2452\n"
     ]
    },
    {
     "name": "stderr",
     "output_type": "stream",
     "text": [
      "\n",
      " 42%|████▏     | 2109/5000 [01:13<01:40, 28.73it/s]\u001b[A\n",
      " 42%|████▏     | 2112/5000 [01:13<01:39, 28.99it/s]\u001b[A\n",
      " 42%|████▏     | 2115/5000 [01:13<01:39, 29.04it/s]\u001b[A\n",
      " 42%|████▏     | 2118/5000 [01:13<01:39, 29.06it/s]\u001b[A\n",
      " 42%|████▏     | 2121/5000 [01:14<01:38, 29.20it/s]\u001b[A\n",
      " 42%|████▎     | 2125/5000 [01:14<01:37, 29.35it/s]\u001b[A\n",
      " 43%|████▎     | 2128/5000 [01:14<01:38, 29.09it/s]\u001b[A\n",
      " 43%|████▎     | 2131/5000 [01:14<01:39, 28.84it/s]\u001b[A\n",
      " 43%|████▎     | 2134/5000 [01:14<01:40, 28.52it/s]\u001b[A\n",
      " 43%|████▎     | 2137/5000 [01:14<01:40, 28.51it/s]\u001b[A\n",
      " 43%|████▎     | 2140/5000 [01:14<01:40, 28.47it/s]\u001b[A\n",
      " 43%|████▎     | 2143/5000 [01:14<01:40, 28.39it/s]\u001b[A\n",
      " 43%|████▎     | 2146/5000 [01:14<01:40, 28.34it/s]\u001b[A\n",
      " 43%|████▎     | 2149/5000 [01:15<01:40, 28.32it/s]\u001b[A\n",
      " 43%|████▎     | 2152/5000 [01:15<01:41, 28.04it/s]\u001b[A\n",
      " 43%|████▎     | 2155/5000 [01:15<01:39, 28.56it/s]\u001b[A"
     ]
    },
    {
     "name": "stdout",
     "output_type": "stream",
     "text": [
      " iteration 2150, cost 0.2437\n"
     ]
    },
    {
     "name": "stderr",
     "output_type": "stream",
     "text": [
      "\n",
      " 43%|████▎     | 2158/5000 [01:15<01:40, 28.34it/s]\u001b[A\n",
      " 43%|████▎     | 2161/5000 [01:15<01:40, 28.38it/s]\u001b[A\n",
      " 43%|████▎     | 2164/5000 [01:15<01:39, 28.39it/s]\u001b[A\n",
      " 43%|████▎     | 2167/5000 [01:15<01:40, 28.32it/s]\u001b[A\n",
      " 43%|████▎     | 2170/5000 [01:15<01:40, 28.25it/s]\u001b[A\n",
      " 43%|████▎     | 2173/5000 [01:15<01:39, 28.27it/s]\u001b[A\n",
      " 44%|████▎     | 2176/5000 [01:15<01:40, 28.23it/s]\u001b[A\n",
      " 44%|████▎     | 2179/5000 [01:16<01:40, 28.11it/s]\u001b[A\n",
      " 44%|████▎     | 2182/5000 [01:16<01:39, 28.18it/s]\u001b[A\n",
      " 44%|████▎     | 2185/5000 [01:16<01:39, 28.18it/s]\u001b[A\n",
      " 44%|████▍     | 2188/5000 [01:16<01:39, 28.23it/s]\u001b[A\n",
      " 44%|████▍     | 2191/5000 [01:16<01:39, 28.27it/s]\u001b[A\n",
      " 44%|████▍     | 2194/5000 [01:16<01:39, 28.34it/s]\u001b[A\n",
      " 44%|████▍     | 2197/5000 [01:16<01:38, 28.35it/s]\u001b[A\n",
      " 44%|████▍     | 2200/5000 [01:16<01:39, 28.27it/s]\u001b[A\n",
      " 44%|████▍     | 2203/5000 [01:16<01:39, 28.18it/s]\u001b[A\n",
      " 44%|████▍     | 2206/5000 [01:17<01:37, 28.54it/s]\u001b[A"
     ]
    },
    {
     "name": "stdout",
     "output_type": "stream",
     "text": [
      " iteration 2200, cost 0.2424\n"
     ]
    },
    {
     "name": "stderr",
     "output_type": "stream",
     "text": [
      "\n",
      " 44%|████▍     | 2209/5000 [01:17<01:37, 28.65it/s]\u001b[A\n",
      " 44%|████▍     | 2212/5000 [01:17<01:37, 28.69it/s]\u001b[A\n",
      " 44%|████▍     | 2215/5000 [01:17<01:37, 28.61it/s]\u001b[A\n",
      " 44%|████▍     | 2218/5000 [01:17<01:37, 28.56it/s]\u001b[A\n",
      " 44%|████▍     | 2221/5000 [01:17<01:36, 28.77it/s]\u001b[A\n",
      " 44%|████▍     | 2224/5000 [01:17<01:37, 28.60it/s]\u001b[A\n",
      " 45%|████▍     | 2227/5000 [01:17<01:37, 28.54it/s]\u001b[A\n",
      " 45%|████▍     | 2230/5000 [01:17<01:37, 28.48it/s]\u001b[A\n",
      " 45%|████▍     | 2233/5000 [01:17<01:37, 28.34it/s]\u001b[A\n",
      " 45%|████▍     | 2236/5000 [01:18<01:37, 28.34it/s]\u001b[A\n",
      " 45%|████▍     | 2239/5000 [01:18<01:37, 28.35it/s]\u001b[A\n",
      " 45%|████▍     | 2242/5000 [01:18<01:37, 28.33it/s]\u001b[A\n",
      " 45%|████▍     | 2245/5000 [01:18<01:37, 28.26it/s]\u001b[A\n",
      " 45%|████▍     | 2248/5000 [01:18<01:37, 28.34it/s]\u001b[A\n",
      " 45%|████▌     | 2251/5000 [01:18<01:38, 27.92it/s]\u001b[A\n",
      " 45%|████▌     | 2254/5000 [01:18<01:37, 28.23it/s]\u001b[A"
     ]
    },
    {
     "name": "stdout",
     "output_type": "stream",
     "text": [
      " iteration 2250, cost 0.2411\n"
     ]
    },
    {
     "name": "stderr",
     "output_type": "stream",
     "text": [
      "\n",
      " 45%|████▌     | 2257/5000 [01:18<01:37, 28.21it/s]\u001b[A\n",
      " 45%|████▌     | 2260/5000 [01:18<01:36, 28.28it/s]\u001b[A\n",
      " 45%|████▌     | 2263/5000 [01:19<01:36, 28.33it/s]\u001b[A\n",
      " 45%|████▌     | 2266/5000 [01:19<01:36, 28.23it/s]\u001b[A\n",
      " 45%|████▌     | 2269/5000 [01:19<01:36, 28.36it/s]\u001b[A\n",
      " 45%|████▌     | 2272/5000 [01:19<01:36, 28.36it/s]\u001b[A\n",
      " 46%|████▌     | 2275/5000 [01:19<01:36, 28.36it/s]\u001b[A\n",
      " 46%|████▌     | 2278/5000 [01:19<01:36, 28.21it/s]\u001b[A\n",
      " 46%|████▌     | 2281/5000 [01:19<01:36, 28.29it/s]\u001b[A\n",
      " 46%|████▌     | 2284/5000 [01:19<01:35, 28.30it/s]\u001b[A\n",
      " 46%|████▌     | 2287/5000 [01:19<01:35, 28.28it/s]\u001b[A\n",
      " 46%|████▌     | 2290/5000 [01:20<01:36, 28.20it/s]\u001b[A\n",
      " 46%|████▌     | 2293/5000 [01:20<01:35, 28.31it/s]\u001b[A\n",
      " 46%|████▌     | 2296/5000 [01:20<01:35, 28.42it/s]\u001b[A\n",
      " 46%|████▌     | 2299/5000 [01:20<01:34, 28.45it/s]\u001b[A\n",
      " 46%|████▌     | 2302/5000 [01:20<01:34, 28.44it/s]\u001b[A\n",
      " 46%|████▌     | 2305/5000 [01:20<01:34, 28.39it/s]\u001b[A"
     ]
    },
    {
     "name": "stdout",
     "output_type": "stream",
     "text": [
      " iteration 2300, cost 0.2399\n"
     ]
    },
    {
     "name": "stderr",
     "output_type": "stream",
     "text": [
      "\n",
      " 46%|████▌     | 2308/5000 [01:20<01:35, 28.14it/s]\u001b[A\n",
      " 46%|████▌     | 2311/5000 [01:20<01:34, 28.49it/s]\u001b[A\n",
      " 46%|████▋     | 2314/5000 [01:20<01:33, 28.61it/s]\u001b[A\n",
      " 46%|████▋     | 2317/5000 [01:20<01:33, 28.68it/s]\u001b[A\n",
      " 46%|████▋     | 2320/5000 [01:21<01:32, 28.82it/s]\u001b[A\n",
      " 46%|████▋     | 2323/5000 [01:21<01:32, 28.91it/s]\u001b[A\n",
      " 47%|████▋     | 2326/5000 [01:21<01:33, 28.70it/s]\u001b[A\n",
      " 47%|████▋     | 2329/5000 [01:21<01:32, 28.78it/s]\u001b[A\n",
      " 47%|████▋     | 2332/5000 [01:21<01:32, 28.90it/s]\u001b[A\n",
      " 47%|████▋     | 2335/5000 [01:21<01:31, 29.10it/s]\u001b[A\n",
      " 47%|████▋     | 2338/5000 [01:21<01:30, 29.29it/s]\u001b[A\n",
      " 47%|████▋     | 2341/5000 [01:21<01:30, 29.44it/s]\u001b[A\n",
      " 47%|████▋     | 2344/5000 [01:21<01:34, 28.01it/s]\u001b[A\n",
      " 47%|████▋     | 2347/5000 [01:21<01:33, 28.42it/s]\u001b[A\n",
      " 47%|████▋     | 2350/5000 [01:22<01:31, 28.86it/s]\u001b[A\n",
      " 47%|████▋     | 2353/5000 [01:22<01:31, 28.77it/s]\u001b[A\n",
      " 47%|████▋     | 2356/5000 [01:22<01:31, 29.05it/s]\u001b[A"
     ]
    },
    {
     "name": "stdout",
     "output_type": "stream",
     "text": [
      " iteration 2350, cost 0.2387\n"
     ]
    },
    {
     "name": "stderr",
     "output_type": "stream",
     "text": [
      "\n",
      " 47%|████▋     | 2359/5000 [01:22<01:31, 28.95it/s]\u001b[A\n",
      " 47%|████▋     | 2362/5000 [01:22<01:31, 28.78it/s]\u001b[A\n",
      " 47%|████▋     | 2365/5000 [01:22<01:32, 28.54it/s]\u001b[A\n",
      " 47%|████▋     | 2368/5000 [01:22<01:32, 28.56it/s]\u001b[A\n",
      " 47%|████▋     | 2371/5000 [01:22<01:32, 28.54it/s]\u001b[A\n",
      " 47%|████▋     | 2374/5000 [01:22<01:32, 28.46it/s]\u001b[A\n",
      " 48%|████▊     | 2377/5000 [01:23<01:32, 28.37it/s]\u001b[A\n",
      " 48%|████▊     | 2380/5000 [01:23<01:32, 28.40it/s]\u001b[A\n",
      " 48%|████▊     | 2383/5000 [01:23<01:32, 28.40it/s]\u001b[A\n",
      " 48%|████▊     | 2386/5000 [01:23<01:31, 28.46it/s]\u001b[A\n",
      " 48%|████▊     | 2389/5000 [01:23<01:32, 28.34it/s]\u001b[A\n",
      " 48%|████▊     | 2392/5000 [01:23<01:31, 28.43it/s]\u001b[A\n",
      " 48%|████▊     | 2395/5000 [01:23<01:31, 28.44it/s]\u001b[A\n",
      " 48%|████▊     | 2398/5000 [01:23<01:31, 28.43it/s]\u001b[A\n",
      " 48%|████▊     | 2401/5000 [01:23<01:34, 27.44it/s]\u001b[A\n",
      " 48%|████▊     | 2404/5000 [01:23<01:33, 27.88it/s]\u001b[A"
     ]
    },
    {
     "name": "stdout",
     "output_type": "stream",
     "text": [
      " iteration 2400, cost 0.2376\n"
     ]
    },
    {
     "name": "stderr",
     "output_type": "stream",
     "text": [
      "\n",
      " 48%|████▊     | 2407/5000 [01:24<01:31, 28.38it/s]\u001b[A\n",
      " 48%|████▊     | 2410/5000 [01:24<01:30, 28.67it/s]\u001b[A\n",
      " 48%|████▊     | 2413/5000 [01:24<01:29, 29.04it/s]\u001b[A\n",
      " 48%|████▊     | 2416/5000 [01:24<01:28, 29.25it/s]\u001b[A\n",
      " 48%|████▊     | 2419/5000 [01:24<01:27, 29.41it/s]\u001b[A\n",
      " 48%|████▊     | 2422/5000 [01:24<01:27, 29.57it/s]\u001b[A\n",
      " 48%|████▊     | 2425/5000 [01:24<01:28, 29.19it/s]\u001b[A\n",
      " 49%|████▊     | 2428/5000 [01:24<01:28, 28.96it/s]\u001b[A\n",
      " 49%|████▊     | 2431/5000 [01:24<01:29, 28.81it/s]\u001b[A\n",
      " 49%|████▊     | 2434/5000 [01:25<01:29, 28.68it/s]\u001b[A\n",
      " 49%|████▊     | 2437/5000 [01:25<01:29, 28.62it/s]\u001b[A\n",
      " 49%|████▉     | 2440/5000 [01:25<01:29, 28.47it/s]\u001b[A\n",
      " 49%|████▉     | 2443/5000 [01:25<01:30, 28.34it/s]\u001b[A\n",
      " 49%|████▉     | 2446/5000 [01:25<01:29, 28.41it/s]\u001b[A\n",
      " 49%|████▉     | 2449/5000 [01:25<01:30, 28.31it/s]\u001b[A\n",
      " 49%|████▉     | 2452/5000 [01:25<01:30, 28.06it/s]\u001b[A\n",
      " 49%|████▉     | 2455/5000 [01:25<01:29, 28.59it/s]\u001b[A"
     ]
    },
    {
     "name": "stdout",
     "output_type": "stream",
     "text": [
      " iteration 2450, cost 0.2366\n"
     ]
    },
    {
     "name": "stderr",
     "output_type": "stream",
     "text": [
      "\n",
      " 49%|████▉     | 2458/5000 [01:25<01:29, 28.33it/s]\u001b[A\n",
      " 49%|████▉     | 2461/5000 [01:25<01:29, 28.50it/s]\u001b[A\n",
      " 49%|████▉     | 2464/5000 [01:26<01:29, 28.47it/s]\u001b[A\n",
      " 49%|████▉     | 2467/5000 [01:26<01:29, 28.29it/s]\u001b[A\n",
      " 49%|████▉     | 2470/5000 [01:26<01:29, 28.34it/s]\u001b[A\n",
      " 49%|████▉     | 2473/5000 [01:26<01:29, 28.28it/s]\u001b[A\n",
      " 50%|████▉     | 2476/5000 [01:26<01:29, 28.34it/s]\u001b[A\n",
      " 50%|████▉     | 2479/5000 [01:26<01:28, 28.44it/s]\u001b[A\n",
      " 50%|████▉     | 2483/5000 [01:26<01:27, 28.81it/s]\u001b[A\n",
      " 50%|████▉     | 2486/5000 [01:26<01:27, 28.71it/s]\u001b[A\n",
      " 50%|████▉     | 2489/5000 [01:26<01:27, 28.54it/s]\u001b[A\n",
      " 50%|████▉     | 2492/5000 [01:27<01:28, 28.47it/s]\u001b[A\n",
      " 50%|████▉     | 2495/5000 [01:27<01:27, 28.59it/s]\u001b[A\n",
      " 50%|████▉     | 2498/5000 [01:27<01:28, 28.43it/s]\u001b[A\n",
      " 50%|█████     | 2501/5000 [01:27<01:27, 28.46it/s]\u001b[A\n",
      " 50%|█████     | 2504/5000 [01:27<01:27, 28.51it/s]\u001b[A"
     ]
    },
    {
     "name": "stdout",
     "output_type": "stream",
     "text": [
      " iteration 2500, cost 0.2356\n"
     ]
    },
    {
     "name": "stderr",
     "output_type": "stream",
     "text": [
      "\n",
      " 50%|█████     | 2507/5000 [01:27<01:27, 28.42it/s]\u001b[A\n",
      " 50%|█████     | 2510/5000 [01:27<01:27, 28.57it/s]\u001b[A\n",
      " 50%|█████     | 2513/5000 [01:27<01:26, 28.64it/s]\u001b[A\n",
      " 50%|█████     | 2516/5000 [01:27<01:26, 28.59it/s]\u001b[A\n",
      " 50%|█████     | 2519/5000 [01:28<01:27, 28.49it/s]\u001b[A\n",
      " 50%|█████     | 2522/5000 [01:28<01:26, 28.58it/s]\u001b[A\n",
      " 50%|█████     | 2525/5000 [01:28<01:26, 28.71it/s]\u001b[A\n",
      " 51%|█████     | 2528/5000 [01:28<01:26, 28.57it/s]\u001b[A\n",
      " 51%|█████     | 2531/5000 [01:28<01:26, 28.50it/s]\u001b[A\n",
      " 51%|█████     | 2534/5000 [01:28<01:26, 28.47it/s]\u001b[A\n",
      " 51%|█████     | 2537/5000 [01:28<01:26, 28.33it/s]\u001b[A\n",
      " 51%|█████     | 2540/5000 [01:28<01:26, 28.56it/s]\u001b[A\n",
      " 51%|█████     | 2543/5000 [01:28<01:26, 28.25it/s]\u001b[A\n",
      " 51%|█████     | 2546/5000 [01:28<01:27, 28.19it/s]\u001b[A\n",
      " 51%|█████     | 2549/5000 [01:29<01:26, 28.46it/s]\u001b[A\n",
      " 51%|█████     | 2552/5000 [01:29<01:25, 28.66it/s]\u001b[A\n",
      " 51%|█████     | 2555/5000 [01:29<01:25, 28.66it/s]\u001b[A"
     ]
    },
    {
     "name": "stdout",
     "output_type": "stream",
     "text": [
      " iteration 2550, cost 0.2347\n"
     ]
    },
    {
     "name": "stderr",
     "output_type": "stream",
     "text": [
      "\n",
      " 51%|█████     | 2558/5000 [01:29<01:25, 28.63it/s]\u001b[A\n",
      " 51%|█████     | 2561/5000 [01:29<01:24, 28.84it/s]\u001b[A\n",
      " 51%|█████▏    | 2564/5000 [01:29<01:23, 29.03it/s]\u001b[A\n",
      " 51%|█████▏    | 2567/5000 [01:29<01:23, 29.20it/s]\u001b[A\n",
      " 51%|█████▏    | 2570/5000 [01:29<01:22, 29.29it/s]\u001b[A\n",
      " 51%|█████▏    | 2573/5000 [01:29<01:23, 29.10it/s]\u001b[A\n",
      " 52%|█████▏    | 2577/5000 [01:30<01:22, 29.25it/s]\u001b[A\n",
      " 52%|█████▏    | 2580/5000 [01:30<01:23, 29.06it/s]\u001b[A\n",
      " 52%|█████▏    | 2583/5000 [01:30<01:23, 28.81it/s]\u001b[A\n",
      " 52%|█████▏    | 2586/5000 [01:30<01:24, 28.67it/s]\u001b[A\n",
      " 52%|█████▏    | 2589/5000 [01:30<01:24, 28.51it/s]\u001b[A\n",
      " 52%|█████▏    | 2592/5000 [01:30<01:24, 28.48it/s]\u001b[A\n",
      " 52%|█████▏    | 2595/5000 [01:30<01:24, 28.48it/s]\u001b[A\n",
      " 52%|█████▏    | 2598/5000 [01:30<01:24, 28.36it/s]\u001b[A\n",
      " 52%|█████▏    | 2601/5000 [01:30<01:25, 28.00it/s]\u001b[A\n",
      " 52%|█████▏    | 2604/5000 [01:30<01:24, 28.33it/s]\u001b[A"
     ]
    },
    {
     "name": "stdout",
     "output_type": "stream",
     "text": [
      " iteration 2600, cost 0.2339\n"
     ]
    },
    {
     "name": "stderr",
     "output_type": "stream",
     "text": [
      "\n",
      " 52%|█████▏    | 2607/5000 [01:31<01:24, 28.20it/s]\u001b[A\n",
      " 52%|█████▏    | 2610/5000 [01:31<01:24, 28.30it/s]\u001b[A\n",
      " 52%|█████▏    | 2613/5000 [01:31<01:23, 28.49it/s]\u001b[A\n",
      " 52%|█████▏    | 2616/5000 [01:31<01:23, 28.63it/s]\u001b[A\n",
      " 52%|█████▏    | 2619/5000 [01:31<01:22, 28.73it/s]\u001b[A\n",
      " 52%|█████▏    | 2622/5000 [01:31<01:23, 28.65it/s]\u001b[A\n",
      " 52%|█████▎    | 2625/5000 [01:31<01:22, 28.71it/s]\u001b[A\n",
      " 53%|█████▎    | 2628/5000 [01:31<01:23, 28.54it/s]\u001b[A\n",
      " 53%|█████▎    | 2631/5000 [01:31<01:23, 28.35it/s]\u001b[A\n",
      " 53%|█████▎    | 2634/5000 [01:32<01:23, 28.43it/s]\u001b[A\n",
      " 53%|█████▎    | 2637/5000 [01:32<01:23, 28.42it/s]\u001b[A\n",
      " 53%|█████▎    | 2640/5000 [01:32<01:22, 28.57it/s]\u001b[A\n",
      " 53%|█████▎    | 2643/5000 [01:32<01:22, 28.43it/s]\u001b[A\n",
      " 53%|█████▎    | 2646/5000 [01:32<01:22, 28.41it/s]\u001b[A\n",
      " 53%|█████▎    | 2649/5000 [01:32<01:22, 28.45it/s]\u001b[A\n",
      " 53%|█████▎    | 2652/5000 [01:32<01:22, 28.30it/s]\u001b[A\n",
      " 53%|█████▎    | 2655/5000 [01:32<01:22, 28.28it/s]\u001b[A"
     ]
    },
    {
     "name": "stdout",
     "output_type": "stream",
     "text": [
      " iteration 2650, cost 0.2331\n"
     ]
    },
    {
     "name": "stderr",
     "output_type": "stream",
     "text": [
      "\n",
      " 53%|█████▎    | 2658/5000 [01:32<01:23, 28.16it/s]\u001b[A\n",
      " 53%|█████▎    | 2661/5000 [01:32<01:22, 28.46it/s]\u001b[A\n",
      " 53%|█████▎    | 2664/5000 [01:33<01:21, 28.69it/s]\u001b[A\n",
      " 53%|█████▎    | 2667/5000 [01:33<01:21, 28.64it/s]\u001b[A\n",
      " 53%|█████▎    | 2670/5000 [01:33<01:20, 29.00it/s]\u001b[A\n",
      " 53%|█████▎    | 2673/5000 [01:33<01:20, 29.00it/s]\u001b[A\n",
      " 54%|█████▎    | 2676/5000 [01:33<01:20, 28.91it/s]\u001b[A\n",
      " 54%|█████▎    | 2679/5000 [01:33<01:20, 28.81it/s]\u001b[A\n",
      " 54%|█████▎    | 2682/5000 [01:33<01:20, 28.96it/s]\u001b[A\n",
      " 54%|█████▎    | 2685/5000 [01:33<01:19, 28.97it/s]\u001b[A\n",
      " 54%|█████▍    | 2688/5000 [01:33<01:20, 28.84it/s]\u001b[A\n",
      " 54%|█████▍    | 2691/5000 [01:34<01:20, 28.69it/s]\u001b[A\n",
      " 54%|█████▍    | 2694/5000 [01:34<01:20, 28.69it/s]\u001b[A\n",
      " 54%|█████▍    | 2697/5000 [01:34<01:20, 28.62it/s]\u001b[A\n",
      " 54%|█████▍    | 2700/5000 [01:34<01:21, 28.21it/s]\u001b[A\n",
      " 54%|█████▍    | 2703/5000 [01:34<01:21, 28.22it/s]\u001b[A\n",
      " 54%|█████▍    | 2706/5000 [01:34<01:20, 28.50it/s]\u001b[A"
     ]
    },
    {
     "name": "stdout",
     "output_type": "stream",
     "text": [
      " iteration 2700, cost 0.2323\n"
     ]
    },
    {
     "name": "stderr",
     "output_type": "stream",
     "text": [
      "\n",
      " 54%|█████▍    | 2709/5000 [01:34<01:20, 28.63it/s]\u001b[A\n",
      " 54%|█████▍    | 2712/5000 [01:34<01:20, 28.53it/s]\u001b[A\n",
      " 54%|█████▍    | 2715/5000 [01:34<01:19, 28.77it/s]\u001b[A\n",
      " 54%|█████▍    | 2718/5000 [01:34<01:18, 29.05it/s]\u001b[A\n",
      " 54%|█████▍    | 2721/5000 [01:35<01:19, 28.85it/s]\u001b[A\n",
      " 54%|█████▍    | 2724/5000 [01:35<01:19, 28.72it/s]\u001b[A\n",
      " 55%|█████▍    | 2727/5000 [01:35<01:19, 28.60it/s]\u001b[A\n",
      " 55%|█████▍    | 2730/5000 [01:35<01:19, 28.45it/s]\u001b[A\n",
      " 55%|█████▍    | 2733/5000 [01:35<01:19, 28.53it/s]\u001b[A\n",
      " 55%|█████▍    | 2736/5000 [01:35<01:19, 28.56it/s]\u001b[A\n",
      " 55%|█████▍    | 2739/5000 [01:35<01:19, 28.51it/s]\u001b[A\n",
      " 55%|█████▍    | 2742/5000 [01:35<01:19, 28.36it/s]\u001b[A\n",
      " 55%|█████▍    | 2745/5000 [01:35<01:19, 28.37it/s]\u001b[A\n",
      " 55%|█████▍    | 2748/5000 [01:36<01:19, 28.43it/s]\u001b[A\n",
      " 55%|█████▌    | 2751/5000 [01:36<01:20, 27.89it/s]\u001b[A\n",
      " 55%|█████▌    | 2754/5000 [01:36<01:19, 28.28it/s]\u001b[A"
     ]
    },
    {
     "name": "stdout",
     "output_type": "stream",
     "text": [
      " iteration 2750, cost 0.2315\n"
     ]
    },
    {
     "name": "stderr",
     "output_type": "stream",
     "text": [
      "\n",
      " 55%|█████▌    | 2757/5000 [01:36<01:18, 28.50it/s]\u001b[A\n",
      " 55%|█████▌    | 2760/5000 [01:36<01:18, 28.48it/s]\u001b[A\n",
      " 55%|█████▌    | 2763/5000 [01:36<01:18, 28.42it/s]\u001b[A\n",
      " 55%|█████▌    | 2766/5000 [01:36<01:18, 28.53it/s]\u001b[A\n",
      " 55%|█████▌    | 2769/5000 [01:36<01:18, 28.52it/s]\u001b[A\n",
      " 55%|█████▌    | 2772/5000 [01:36<01:18, 28.37it/s]\u001b[A\n",
      " 56%|█████▌    | 2775/5000 [01:36<01:18, 28.41it/s]\u001b[A\n",
      " 56%|█████▌    | 2778/5000 [01:37<01:18, 28.43it/s]\u001b[A\n",
      " 56%|█████▌    | 2781/5000 [01:37<01:18, 28.42it/s]\u001b[A\n",
      " 56%|█████▌    | 2784/5000 [01:37<01:18, 28.33it/s]\u001b[A\n",
      " 56%|█████▌    | 2787/5000 [01:37<01:17, 28.43it/s]\u001b[A\n",
      " 56%|█████▌    | 2790/5000 [01:37<01:17, 28.44it/s]\u001b[A\n",
      " 56%|█████▌    | 2793/5000 [01:37<01:17, 28.41it/s]\u001b[A\n",
      " 56%|█████▌    | 2796/5000 [01:37<01:16, 28.67it/s]\u001b[A\n",
      " 56%|█████▌    | 2799/5000 [01:37<01:16, 28.61it/s]\u001b[A\n",
      " 56%|█████▌    | 2802/5000 [01:37<01:17, 28.25it/s]\u001b[A\n",
      " 56%|█████▌    | 2805/5000 [01:38<01:16, 28.53it/s]\u001b[A"
     ]
    },
    {
     "name": "stdout",
     "output_type": "stream",
     "text": [
      " iteration 2800, cost 0.2308\n"
     ]
    },
    {
     "name": "stderr",
     "output_type": "stream",
     "text": [
      "\n",
      " 56%|█████▌    | 2808/5000 [01:38<01:17, 28.29it/s]\u001b[A\n",
      " 56%|█████▌    | 2811/5000 [01:38<01:16, 28.66it/s]\u001b[A\n",
      " 56%|█████▋    | 2814/5000 [01:38<01:15, 28.92it/s]\u001b[A\n",
      " 56%|█████▋    | 2817/5000 [01:38<01:15, 28.91it/s]\u001b[A\n",
      " 56%|█████▋    | 2820/5000 [01:38<01:15, 28.97it/s]\u001b[A\n",
      " 56%|█████▋    | 2823/5000 [01:38<01:14, 29.16it/s]\u001b[A\n",
      " 57%|█████▋    | 2826/5000 [01:38<01:15, 28.93it/s]\u001b[A\n",
      " 57%|█████▋    | 2829/5000 [01:38<01:15, 28.77it/s]\u001b[A\n",
      " 57%|█████▋    | 2832/5000 [01:38<01:15, 28.77it/s]\u001b[A\n",
      " 57%|█████▋    | 2835/5000 [01:39<01:15, 28.67it/s]\u001b[A\n",
      " 57%|█████▋    | 2838/5000 [01:39<01:15, 28.62it/s]\u001b[A\n",
      " 57%|█████▋    | 2841/5000 [01:39<01:15, 28.61it/s]\u001b[A\n",
      " 57%|█████▋    | 2844/5000 [01:39<01:15, 28.55it/s]\u001b[A\n",
      " 57%|█████▋    | 2847/5000 [01:39<01:15, 28.39it/s]\u001b[A\n",
      " 57%|█████▋    | 2850/5000 [01:39<01:15, 28.46it/s]\u001b[A\n",
      " 57%|█████▋    | 2853/5000 [01:39<01:15, 28.32it/s]\u001b[A\n",
      " 57%|█████▋    | 2856/5000 [01:39<01:14, 28.67it/s]\u001b[A"
     ]
    },
    {
     "name": "stdout",
     "output_type": "stream",
     "text": [
      " iteration 2850, cost 0.2302\n"
     ]
    },
    {
     "name": "stderr",
     "output_type": "stream",
     "text": [
      "\n",
      " 57%|█████▋    | 2859/5000 [01:39<01:14, 28.87it/s]\u001b[A\n",
      " 57%|█████▋    | 2862/5000 [01:40<01:13, 29.04it/s]\u001b[A\n",
      " 57%|█████▋    | 2865/5000 [01:40<01:13, 28.94it/s]\u001b[A\n",
      " 57%|█████▋    | 2868/5000 [01:40<01:13, 28.82it/s]\u001b[A\n",
      " 57%|█████▋    | 2871/5000 [01:40<01:14, 28.73it/s]\u001b[A\n",
      " 57%|█████▋    | 2874/5000 [01:40<01:14, 28.56it/s]\u001b[A\n",
      " 58%|█████▊    | 2877/5000 [01:40<01:14, 28.45it/s]\u001b[A\n",
      " 58%|█████▊    | 2880/5000 [01:40<01:14, 28.46it/s]\u001b[A\n",
      " 58%|█████▊    | 2883/5000 [01:40<01:14, 28.47it/s]\u001b[A\n",
      " 58%|█████▊    | 2886/5000 [01:40<01:14, 28.41it/s]\u001b[A\n",
      " 58%|█████▊    | 2889/5000 [01:40<01:14, 28.26it/s]\u001b[A\n",
      " 58%|█████▊    | 2892/5000 [01:41<01:14, 28.39it/s]\u001b[A\n",
      " 58%|█████▊    | 2895/5000 [01:41<01:14, 28.39it/s]\u001b[A\n",
      " 58%|█████▊    | 2898/5000 [01:41<01:13, 28.42it/s]\u001b[A\n",
      " 58%|█████▊    | 2901/5000 [01:41<01:14, 28.03it/s]\u001b[A\n",
      " 58%|█████▊    | 2904/5000 [01:41<01:13, 28.52it/s]\u001b[A"
     ]
    },
    {
     "name": "stdout",
     "output_type": "stream",
     "text": [
      " iteration 2900, cost 0.2295\n"
     ]
    },
    {
     "name": "stderr",
     "output_type": "stream",
     "text": [
      "\n",
      " 58%|█████▊    | 2907/5000 [01:41<01:14, 28.26it/s]\u001b[A\n",
      " 58%|█████▊    | 2910/5000 [01:41<01:13, 28.35it/s]\u001b[A\n",
      " 58%|█████▊    | 2913/5000 [01:41<01:13, 28.32it/s]\u001b[A\n",
      " 58%|█████▊    | 2916/5000 [01:41<01:13, 28.31it/s]\u001b[A\n",
      " 58%|█████▊    | 2919/5000 [01:42<01:13, 28.35it/s]\u001b[A\n",
      " 58%|█████▊    | 2922/5000 [01:42<01:13, 28.37it/s]\u001b[A\n",
      " 58%|█████▊    | 2925/5000 [01:42<01:13, 28.36it/s]\u001b[A\n",
      " 59%|█████▊    | 2928/5000 [01:42<01:13, 28.26it/s]\u001b[A\n",
      " 59%|█████▊    | 2931/5000 [01:42<01:13, 28.28it/s]\u001b[A\n",
      " 59%|█████▊    | 2934/5000 [01:42<01:12, 28.35it/s]\u001b[A\n",
      " 59%|█████▊    | 2937/5000 [01:42<01:12, 28.34it/s]\u001b[A\n",
      " 59%|█████▉    | 2940/5000 [01:42<01:13, 28.20it/s]\u001b[A\n",
      " 59%|█████▉    | 2943/5000 [01:42<01:12, 28.25it/s]\u001b[A\n",
      " 59%|█████▉    | 2946/5000 [01:42<01:12, 28.33it/s]\u001b[A\n",
      " 59%|█████▉    | 2949/5000 [01:43<01:12, 28.27it/s]\u001b[A\n",
      " 59%|█████▉    | 2952/5000 [01:43<01:12, 28.11it/s]\u001b[A\n",
      " 59%|█████▉    | 2955/5000 [01:43<01:12, 28.34it/s]\u001b[A"
     ]
    },
    {
     "name": "stdout",
     "output_type": "stream",
     "text": [
      " iteration 2950, cost 0.2289\n"
     ]
    },
    {
     "name": "stderr",
     "output_type": "stream",
     "text": [
      "\n",
      " 59%|█████▉    | 2958/5000 [01:43<01:12, 28.22it/s]\u001b[A\n",
      " 59%|█████▉    | 2961/5000 [01:43<01:11, 28.50it/s]\u001b[A\n",
      " 59%|█████▉    | 2964/5000 [01:43<01:11, 28.55it/s]\u001b[A\n",
      " 59%|█████▉    | 2967/5000 [01:43<01:11, 28.52it/s]\u001b[A\n",
      " 59%|█████▉    | 2970/5000 [01:43<01:10, 28.84it/s]\u001b[A\n",
      " 59%|█████▉    | 2973/5000 [01:43<01:10, 28.68it/s]\u001b[A\n",
      " 60%|█████▉    | 2976/5000 [01:44<01:10, 28.67it/s]\u001b[A\n",
      " 60%|█████▉    | 2979/5000 [01:44<01:10, 28.53it/s]\u001b[A\n",
      " 60%|█████▉    | 2982/5000 [01:44<01:11, 28.40it/s]\u001b[A\n",
      " 60%|█████▉    | 2985/5000 [01:44<01:10, 28.44it/s]\u001b[A\n",
      " 60%|█████▉    | 2988/5000 [01:44<01:10, 28.44it/s]\u001b[A\n",
      " 60%|█████▉    | 2991/5000 [01:44<01:10, 28.43it/s]\u001b[A\n",
      " 60%|█████▉    | 2994/5000 [01:44<01:10, 28.33it/s]\u001b[A\n",
      " 60%|█████▉    | 2997/5000 [01:44<01:10, 28.33it/s]\u001b[A\n",
      " 60%|██████    | 3000/5000 [01:44<01:10, 28.36it/s]\u001b[A\n",
      " 60%|██████    | 3003/5000 [01:44<01:10, 28.22it/s]\u001b[A\n",
      " 60%|██████    | 3006/5000 [01:45<01:10, 28.48it/s]\u001b[A"
     ]
    },
    {
     "name": "stdout",
     "output_type": "stream",
     "text": [
      " iteration 3000, cost 0.2283\n"
     ]
    },
    {
     "name": "stderr",
     "output_type": "stream",
     "text": [
      "\n",
      " 60%|██████    | 3009/5000 [01:45<01:09, 28.47it/s]\u001b[A\n",
      " 60%|██████    | 3012/5000 [01:45<01:09, 28.48it/s]\u001b[A\n",
      " 60%|██████    | 3015/5000 [01:45<01:09, 28.47it/s]\u001b[A\n",
      " 60%|██████    | 3018/5000 [01:45<01:09, 28.42it/s]\u001b[A\n",
      " 60%|██████    | 3021/5000 [01:45<01:09, 28.37it/s]\u001b[A\n",
      " 60%|██████    | 3024/5000 [01:45<01:09, 28.37it/s]\u001b[A\n",
      " 61%|██████    | 3027/5000 [01:45<01:09, 28.35it/s]\u001b[A\n",
      " 61%|██████    | 3030/5000 [01:45<01:09, 28.27it/s]\u001b[A\n",
      " 61%|██████    | 3033/5000 [01:46<01:09, 28.33it/s]\u001b[A\n",
      " 61%|██████    | 3036/5000 [01:46<01:09, 28.31it/s]\u001b[A\n",
      " 61%|██████    | 3039/5000 [01:46<01:09, 28.21it/s]\u001b[A\n",
      " 61%|██████    | 3042/5000 [01:46<01:09, 28.14it/s]\u001b[A\n",
      " 61%|██████    | 3045/5000 [01:46<01:08, 28.49it/s]\u001b[A\n",
      " 61%|██████    | 3048/5000 [01:46<01:08, 28.41it/s]\u001b[A\n",
      " 61%|██████    | 3051/5000 [01:46<01:09, 27.95it/s]\u001b[A\n",
      " 61%|██████    | 3054/5000 [01:46<01:08, 28.40it/s]\u001b[A"
     ]
    },
    {
     "name": "stdout",
     "output_type": "stream",
     "text": [
      " iteration 3050, cost 0.2278\n"
     ]
    },
    {
     "name": "stderr",
     "output_type": "stream",
     "text": [
      "\n",
      " 61%|██████    | 3058/5000 [01:46<01:07, 28.79it/s]\u001b[A\n",
      " 61%|██████    | 3061/5000 [01:47<01:07, 28.70it/s]\u001b[A\n",
      " 61%|██████▏   | 3064/5000 [01:47<01:07, 28.59it/s]\u001b[A\n",
      " 61%|██████▏   | 3067/5000 [01:47<01:08, 28.43it/s]\u001b[A\n",
      " 61%|██████▏   | 3070/5000 [01:47<01:07, 28.43it/s]\u001b[A\n",
      " 61%|██████▏   | 3073/5000 [01:47<01:07, 28.40it/s]\u001b[A\n",
      " 62%|██████▏   | 3076/5000 [01:47<01:07, 28.36it/s]\u001b[A\n",
      " 62%|██████▏   | 3079/5000 [01:47<01:08, 28.23it/s]\u001b[A\n",
      " 62%|██████▏   | 3082/5000 [01:47<01:07, 28.25it/s]\u001b[A\n",
      " 62%|██████▏   | 3085/5000 [01:47<01:07, 28.24it/s]\u001b[A\n",
      " 62%|██████▏   | 3088/5000 [01:47<01:07, 28.19it/s]\u001b[A\n",
      " 62%|██████▏   | 3091/5000 [01:48<01:07, 28.30it/s]\u001b[A\n",
      " 62%|██████▏   | 3094/5000 [01:48<01:07, 28.35it/s]\u001b[A\n",
      " 62%|██████▏   | 3097/5000 [01:48<01:07, 28.36it/s]\u001b[A\n",
      " 62%|██████▏   | 3100/5000 [01:48<01:07, 28.35it/s]\u001b[A\n",
      " 62%|██████▏   | 3103/5000 [01:48<01:06, 28.47it/s]\u001b[A\n",
      " 62%|██████▏   | 3107/5000 [01:48<01:04, 29.18it/s]\u001b[A"
     ]
    },
    {
     "name": "stdout",
     "output_type": "stream",
     "text": [
      " iteration 3100, cost 0.2272\n"
     ]
    },
    {
     "name": "stderr",
     "output_type": "stream",
     "text": [
      "\n",
      " 62%|██████▏   | 3111/5000 [01:48<01:03, 29.63it/s]\u001b[A\n",
      " 62%|██████▏   | 3114/5000 [01:48<01:03, 29.48it/s]\u001b[A\n",
      " 62%|██████▏   | 3117/5000 [01:48<01:04, 29.28it/s]\u001b[A\n",
      " 62%|██████▏   | 3120/5000 [01:49<01:04, 29.08it/s]\u001b[A\n",
      " 62%|██████▏   | 3123/5000 [01:49<01:04, 28.90it/s]\u001b[A\n",
      " 63%|██████▎   | 3126/5000 [01:49<01:05, 28.77it/s]\u001b[A\n",
      " 63%|██████▎   | 3129/5000 [01:49<01:05, 28.72it/s]\u001b[A\n",
      " 63%|██████▎   | 3132/5000 [01:49<01:05, 28.66it/s]\u001b[A\n",
      " 63%|██████▎   | 3135/5000 [01:49<01:05, 28.60it/s]\u001b[A\n",
      " 63%|██████▎   | 3138/5000 [01:49<01:05, 28.56it/s]\u001b[A\n",
      " 63%|██████▎   | 3141/5000 [01:49<01:05, 28.59it/s]\u001b[A\n",
      " 63%|██████▎   | 3144/5000 [01:49<01:04, 28.61it/s]\u001b[A\n",
      " 63%|██████▎   | 3147/5000 [01:50<01:04, 28.58it/s]\u001b[A\n",
      " 63%|██████▎   | 3150/5000 [01:50<01:05, 28.41it/s]\u001b[A\n",
      " 63%|██████▎   | 3153/5000 [01:50<01:04, 28.42it/s]\u001b[A\n",
      " 63%|██████▎   | 3156/5000 [01:50<01:04, 28.68it/s]\u001b[A"
     ]
    },
    {
     "name": "stdout",
     "output_type": "stream",
     "text": [
      " iteration 3150, cost 0.2267\n"
     ]
    },
    {
     "name": "stderr",
     "output_type": "stream",
     "text": [
      "\n",
      " 63%|██████▎   | 3159/5000 [01:50<01:04, 28.73it/s]\u001b[A\n",
      " 63%|██████▎   | 3162/5000 [01:50<01:03, 29.02it/s]\u001b[A\n",
      " 63%|██████▎   | 3165/5000 [01:50<01:02, 29.17it/s]\u001b[A\n",
      " 63%|██████▎   | 3168/5000 [01:50<01:02, 29.30it/s]\u001b[A\n",
      " 63%|██████▎   | 3171/5000 [01:50<01:03, 28.87it/s]\u001b[A\n",
      " 63%|██████▎   | 3174/5000 [01:50<01:03, 28.81it/s]\u001b[A\n",
      " 64%|██████▎   | 3177/5000 [01:51<01:03, 28.68it/s]\u001b[A\n",
      " 64%|██████▎   | 3180/5000 [01:51<01:03, 28.60it/s]\u001b[A\n",
      " 64%|██████▎   | 3183/5000 [01:51<01:03, 28.53it/s]\u001b[A\n",
      " 64%|██████▎   | 3186/5000 [01:51<01:03, 28.47it/s]\u001b[A\n",
      " 64%|██████▍   | 3189/5000 [01:51<01:03, 28.44it/s]\u001b[A\n",
      " 64%|██████▍   | 3192/5000 [01:51<01:04, 28.22it/s]\u001b[A\n",
      " 64%|██████▍   | 3196/5000 [01:51<01:02, 28.75it/s]\u001b[A\n",
      " 64%|██████▍   | 3199/5000 [01:51<01:02, 28.65it/s]\u001b[A\n",
      " 64%|██████▍   | 3202/5000 [01:51<01:03, 28.34it/s]\u001b[A\n",
      " 64%|██████▍   | 3205/5000 [01:52<01:02, 28.77it/s]\u001b[A"
     ]
    },
    {
     "name": "stdout",
     "output_type": "stream",
     "text": [
      " iteration 3200, cost 0.2263\n"
     ]
    },
    {
     "name": "stderr",
     "output_type": "stream",
     "text": [
      "\n",
      " 64%|██████▍   | 3208/5000 [01:52<01:01, 28.98it/s]\u001b[A\n",
      " 64%|██████▍   | 3211/5000 [01:52<01:01, 29.06it/s]\u001b[A\n",
      " 64%|██████▍   | 3214/5000 [01:52<01:01, 28.92it/s]\u001b[A\n",
      " 64%|██████▍   | 3217/5000 [01:52<01:01, 28.77it/s]\u001b[A\n",
      " 64%|██████▍   | 3220/5000 [01:52<01:02, 28.69it/s]\u001b[A\n",
      " 64%|██████▍   | 3223/5000 [01:52<01:02, 28.59it/s]\u001b[A\n",
      " 65%|██████▍   | 3226/5000 [01:52<01:02, 28.51it/s]\u001b[A\n",
      " 65%|██████▍   | 3229/5000 [01:52<01:02, 28.49it/s]\u001b[A\n",
      " 65%|██████▍   | 3232/5000 [01:52<01:01, 28.53it/s]\u001b[A\n",
      " 65%|██████▍   | 3235/5000 [01:53<01:02, 28.43it/s]\u001b[A\n",
      " 65%|██████▍   | 3238/5000 [01:53<01:01, 28.48it/s]\u001b[A\n",
      " 65%|██████▍   | 3241/5000 [01:53<01:01, 28.47it/s]\u001b[A\n",
      " 65%|██████▍   | 3244/5000 [01:53<01:01, 28.42it/s]\u001b[A\n",
      " 65%|██████▍   | 3247/5000 [01:53<01:01, 28.38it/s]\u001b[A\n",
      " 65%|██████▌   | 3250/5000 [01:53<01:01, 28.40it/s]\u001b[A\n",
      " 65%|██████▌   | 3253/5000 [01:53<01:01, 28.26it/s]\u001b[A\n",
      " 65%|██████▌   | 3256/5000 [01:53<01:01, 28.42it/s]\u001b[A"
     ]
    },
    {
     "name": "stdout",
     "output_type": "stream",
     "text": [
      " iteration 3250, cost 0.2258\n"
     ]
    },
    {
     "name": "stderr",
     "output_type": "stream",
     "text": [
      "\n",
      " 65%|██████▌   | 3259/5000 [01:53<01:01, 28.38it/s]\u001b[A\n",
      " 65%|██████▌   | 3262/5000 [01:54<01:00, 28.51it/s]\u001b[A\n",
      " 65%|██████▌   | 3265/5000 [01:54<01:00, 28.72it/s]\u001b[A\n",
      " 65%|██████▌   | 3268/5000 [01:54<00:59, 28.94it/s]\u001b[A\n",
      " 65%|██████▌   | 3271/5000 [01:54<00:59, 28.88it/s]\u001b[A\n",
      " 65%|██████▌   | 3274/5000 [01:54<00:59, 29.01it/s]\u001b[A\n",
      " 66%|██████▌   | 3277/5000 [01:54<00:58, 29.21it/s]\u001b[A\n",
      " 66%|██████▌   | 3280/5000 [01:54<00:58, 29.32it/s]\u001b[A\n",
      " 66%|██████▌   | 3283/5000 [01:54<00:59, 29.00it/s]\u001b[A\n",
      " 66%|██████▌   | 3286/5000 [01:54<00:59, 28.81it/s]\u001b[A\n",
      " 66%|██████▌   | 3289/5000 [01:54<00:59, 28.68it/s]\u001b[A\n",
      " 66%|██████▌   | 3292/5000 [01:55<01:00, 28.45it/s]\u001b[A\n",
      " 66%|██████▌   | 3295/5000 [01:55<00:59, 28.49it/s]\u001b[A\n",
      " 66%|██████▌   | 3298/5000 [01:55<00:59, 28.52it/s]\u001b[A\n",
      " 66%|██████▌   | 3301/5000 [01:55<01:00, 28.04it/s]\u001b[A\n",
      " 66%|██████▌   | 3304/5000 [01:55<00:59, 28.40it/s]\u001b[A"
     ]
    },
    {
     "name": "stdout",
     "output_type": "stream",
     "text": [
      " iteration 3300, cost 0.2253\n"
     ]
    },
    {
     "name": "stderr",
     "output_type": "stream",
     "text": [
      "\n",
      " 66%|██████▌   | 3307/5000 [01:55<00:58, 28.81it/s]\u001b[A\n",
      " 66%|██████▌   | 3310/5000 [01:55<00:58, 28.85it/s]\u001b[A\n",
      " 66%|██████▋   | 3313/5000 [01:55<00:58, 28.67it/s]\u001b[A\n",
      " 66%|██████▋   | 3316/5000 [01:55<00:58, 28.60it/s]\u001b[A\n",
      " 66%|██████▋   | 3319/5000 [01:56<00:59, 28.41it/s]\u001b[A\n",
      " 66%|██████▋   | 3322/5000 [01:56<00:58, 28.58it/s]\u001b[A\n",
      " 66%|██████▋   | 3325/5000 [01:56<00:58, 28.60it/s]\u001b[A\n",
      " 67%|██████▋   | 3328/5000 [01:56<00:58, 28.54it/s]\u001b[A\n",
      " 67%|██████▋   | 3331/5000 [01:56<00:58, 28.43it/s]\u001b[A\n",
      " 67%|██████▋   | 3334/5000 [01:56<00:58, 28.51it/s]\u001b[A\n",
      " 67%|██████▋   | 3337/5000 [01:56<00:58, 28.46it/s]\u001b[A\n",
      " 67%|██████▋   | 3340/5000 [01:56<00:58, 28.38it/s]\u001b[A\n",
      " 67%|██████▋   | 3343/5000 [01:56<00:58, 28.34it/s]\u001b[A\n",
      " 67%|██████▋   | 3346/5000 [01:56<00:58, 28.29it/s]\u001b[A\n",
      " 67%|██████▋   | 3349/5000 [01:57<00:58, 28.31it/s]\u001b[A\n",
      " 67%|██████▋   | 3352/5000 [01:57<00:58, 28.11it/s]\u001b[A\n",
      " 67%|██████▋   | 3355/5000 [01:57<00:57, 28.45it/s]\u001b[A"
     ]
    },
    {
     "name": "stdout",
     "output_type": "stream",
     "text": [
      " iteration 3350, cost 0.2250\n"
     ]
    },
    {
     "name": "stderr",
     "output_type": "stream",
     "text": [
      "\n",
      " 67%|██████▋   | 3358/5000 [01:57<00:57, 28.49it/s]\u001b[A\n",
      " 67%|██████▋   | 3361/5000 [01:57<00:57, 28.46it/s]\u001b[A\n",
      " 67%|██████▋   | 3364/5000 [01:57<00:57, 28.45it/s]\u001b[A\n",
      " 67%|██████▋   | 3367/5000 [01:57<00:57, 28.38it/s]\u001b[A\n",
      " 67%|██████▋   | 3370/5000 [01:57<00:57, 28.36it/s]\u001b[A\n",
      " 67%|██████▋   | 3373/5000 [01:57<00:57, 28.40it/s]\u001b[A\n",
      " 68%|██████▊   | 3376/5000 [01:58<00:56, 28.80it/s]\u001b[A\n",
      " 68%|██████▊   | 3379/5000 [01:58<00:56, 28.58it/s]\u001b[A\n",
      " 68%|██████▊   | 3382/5000 [01:58<00:56, 28.57it/s]\u001b[A\n",
      " 68%|██████▊   | 3385/5000 [01:58<00:56, 28.41it/s]\u001b[A\n",
      " 68%|██████▊   | 3388/5000 [01:58<00:56, 28.58it/s]\u001b[A\n",
      " 68%|██████▊   | 3391/5000 [01:58<00:56, 28.53it/s]\u001b[A\n",
      " 68%|██████▊   | 3394/5000 [01:58<00:56, 28.46it/s]\u001b[A\n",
      " 68%|██████▊   | 3397/5000 [01:58<00:56, 28.39it/s]\u001b[A\n",
      " 68%|██████▊   | 3400/5000 [01:58<00:56, 28.55it/s]\u001b[A\n",
      " 68%|██████▊   | 3403/5000 [01:58<00:55, 28.62it/s]\u001b[A\n",
      " 68%|██████▊   | 3406/5000 [01:59<00:55, 28.86it/s]\u001b[A"
     ]
    },
    {
     "name": "stdout",
     "output_type": "stream",
     "text": [
      " iteration 3400, cost 0.2245\n"
     ]
    },
    {
     "name": "stderr",
     "output_type": "stream",
     "text": [
      "\n",
      " 68%|██████▊   | 3409/5000 [01:59<00:55, 28.71it/s]\u001b[A\n",
      " 68%|██████▊   | 3412/5000 [01:59<00:55, 28.73it/s]\u001b[A\n",
      " 68%|██████▊   | 3415/5000 [01:59<00:55, 28.65it/s]\u001b[A\n",
      " 68%|██████▊   | 3418/5000 [01:59<00:55, 28.65it/s]\u001b[A\n",
      " 68%|██████▊   | 3421/5000 [01:59<00:54, 28.83it/s]\u001b[A\n",
      " 68%|██████▊   | 3424/5000 [01:59<00:54, 29.02it/s]\u001b[A\n",
      " 69%|██████▊   | 3427/5000 [01:59<00:54, 29.07it/s]\u001b[A\n",
      " 69%|██████▊   | 3430/5000 [01:59<00:54, 28.97it/s]\u001b[A\n",
      " 69%|██████▊   | 3433/5000 [02:00<00:54, 28.85it/s]\u001b[A\n",
      " 69%|██████▊   | 3436/5000 [02:00<00:54, 28.93it/s]\u001b[A\n",
      " 69%|██████▉   | 3439/5000 [02:00<00:53, 28.93it/s]\u001b[A\n",
      " 69%|██████▉   | 3442/5000 [02:00<00:54, 28.70it/s]\u001b[A\n",
      " 69%|██████▉   | 3445/5000 [02:00<00:53, 28.85it/s]\u001b[A\n",
      " 69%|██████▉   | 3449/5000 [02:00<00:53, 29.09it/s]\u001b[A\n",
      " 69%|██████▉   | 3452/5000 [02:00<00:54, 28.60it/s]\u001b[A\n",
      " 69%|██████▉   | 3455/5000 [02:00<00:53, 28.83it/s]\u001b[A"
     ]
    },
    {
     "name": "stdout",
     "output_type": "stream",
     "text": [
      " iteration 3450, cost 0.2241\n"
     ]
    },
    {
     "name": "stderr",
     "output_type": "stream",
     "text": [
      "\n",
      " 69%|██████▉   | 3458/5000 [02:00<00:52, 29.10it/s]\u001b[A\n",
      " 69%|██████▉   | 3461/5000 [02:00<00:52, 29.27it/s]\u001b[A\n",
      " 69%|██████▉   | 3464/5000 [02:01<00:53, 28.88it/s]\u001b[A\n",
      " 69%|██████▉   | 3467/5000 [02:01<00:53, 28.80it/s]\u001b[A\n",
      " 69%|██████▉   | 3470/5000 [02:01<00:53, 28.64it/s]\u001b[A\n",
      " 69%|██████▉   | 3473/5000 [02:01<00:53, 28.50it/s]\u001b[A\n",
      " 70%|██████▉   | 3476/5000 [02:01<00:53, 28.50it/s]\u001b[A\n",
      " 70%|██████▉   | 3479/5000 [02:01<00:53, 28.44it/s]\u001b[A\n",
      " 70%|██████▉   | 3482/5000 [02:01<00:53, 28.33it/s]\u001b[A\n",
      " 70%|██████▉   | 3485/5000 [02:01<00:53, 28.33it/s]\u001b[A\n",
      " 70%|██████▉   | 3488/5000 [02:01<00:53, 28.36it/s]\u001b[A\n",
      " 70%|██████▉   | 3491/5000 [02:02<00:53, 28.19it/s]\u001b[A\n",
      " 70%|██████▉   | 3494/5000 [02:02<00:52, 28.44it/s]\u001b[A\n",
      " 70%|██████▉   | 3497/5000 [02:02<00:52, 28.71it/s]\u001b[A\n",
      " 70%|███████   | 3500/5000 [02:02<00:51, 28.94it/s]\u001b[A\n",
      " 70%|███████   | 3503/5000 [02:02<00:52, 28.56it/s]\u001b[A\n",
      " 70%|███████   | 3506/5000 [02:02<00:52, 28.71it/s]\u001b[A"
     ]
    },
    {
     "name": "stdout",
     "output_type": "stream",
     "text": [
      " iteration 3500, cost 0.2237\n"
     ]
    },
    {
     "name": "stderr",
     "output_type": "stream",
     "text": [
      "\n",
      " 70%|███████   | 3509/5000 [02:02<00:51, 28.84it/s]\u001b[A\n",
      " 70%|███████   | 3512/5000 [02:02<00:51, 28.98it/s]\u001b[A\n",
      " 70%|███████   | 3515/5000 [02:02<00:51, 28.69it/s]\u001b[A\n",
      " 70%|███████   | 3518/5000 [02:02<00:51, 28.60it/s]\u001b[A\n",
      " 70%|███████   | 3521/5000 [02:03<00:51, 28.52it/s]\u001b[A\n",
      " 70%|███████   | 3524/5000 [02:03<00:51, 28.40it/s]\u001b[A\n",
      " 71%|███████   | 3527/5000 [02:03<00:51, 28.41it/s]\u001b[A\n",
      " 71%|███████   | 3530/5000 [02:03<00:51, 28.39it/s]\u001b[A\n",
      " 71%|███████   | 3533/5000 [02:03<00:51, 28.35it/s]\u001b[A\n",
      " 71%|███████   | 3536/5000 [02:03<00:51, 28.42it/s]\u001b[A\n",
      " 71%|███████   | 3539/5000 [02:03<00:51, 28.52it/s]\u001b[A\n",
      " 71%|███████   | 3542/5000 [02:03<00:51, 28.50it/s]\u001b[A\n",
      " 71%|███████   | 3545/5000 [02:03<00:51, 28.52it/s]\u001b[A\n",
      " 71%|███████   | 3548/5000 [02:04<00:51, 28.46it/s]\u001b[A\n",
      " 71%|███████   | 3551/5000 [02:04<00:51, 28.04it/s]\u001b[A\n",
      " 71%|███████   | 3554/5000 [02:04<00:50, 28.49it/s]\u001b[A"
     ]
    },
    {
     "name": "stdout",
     "output_type": "stream",
     "text": [
      " iteration 3550, cost 0.2234\n"
     ]
    },
    {
     "name": "stderr",
     "output_type": "stream",
     "text": [
      "\n",
      " 71%|███████   | 3557/5000 [02:04<00:51, 28.19it/s]\u001b[A\n",
      " 71%|███████   | 3560/5000 [02:04<00:50, 28.30it/s]\u001b[A\n",
      " 71%|███████▏  | 3563/5000 [02:04<00:50, 28.42it/s]\u001b[A\n",
      " 71%|███████▏  | 3566/5000 [02:04<00:50, 28.45it/s]\u001b[A\n",
      " 71%|███████▏  | 3569/5000 [02:04<00:50, 28.55it/s]\u001b[A\n",
      " 71%|███████▏  | 3572/5000 [02:04<00:50, 28.39it/s]\u001b[A\n",
      " 72%|███████▏  | 3575/5000 [02:04<00:50, 28.37it/s]\u001b[A\n",
      " 72%|███████▏  | 3578/5000 [02:05<00:50, 28.40it/s]\u001b[A\n",
      " 72%|███████▏  | 3581/5000 [02:05<00:49, 28.55it/s]\u001b[A\n",
      " 72%|███████▏  | 3585/5000 [02:05<00:48, 29.03it/s]\u001b[A\n",
      " 72%|███████▏  | 3588/5000 [02:05<00:48, 28.97it/s]\u001b[A\n",
      " 72%|███████▏  | 3591/5000 [02:05<00:49, 28.66it/s]\u001b[A\n",
      " 72%|███████▏  | 3594/5000 [02:05<00:49, 28.52it/s]\u001b[A\n",
      " 72%|███████▏  | 3597/5000 [02:05<00:48, 28.91it/s]\u001b[A\n",
      " 72%|███████▏  | 3600/5000 [02:05<00:48, 28.95it/s]\u001b[A\n",
      " 72%|███████▏  | 3603/5000 [02:05<00:48, 28.93it/s]\u001b[A\n",
      " 72%|███████▏  | 3606/5000 [02:06<00:47, 29.19it/s]\u001b[A"
     ]
    },
    {
     "name": "stdout",
     "output_type": "stream",
     "text": [
      " iteration 3600, cost 0.2230\n"
     ]
    },
    {
     "name": "stderr",
     "output_type": "stream",
     "text": [
      "\n",
      " 72%|███████▏  | 3609/5000 [02:06<00:48, 28.80it/s]\u001b[A\n",
      " 72%|███████▏  | 3612/5000 [02:06<00:48, 28.91it/s]\u001b[A\n",
      " 72%|███████▏  | 3615/5000 [02:06<00:48, 28.65it/s]\u001b[A\n",
      " 72%|███████▏  | 3618/5000 [02:06<00:48, 28.49it/s]\u001b[A\n",
      " 72%|███████▏  | 3621/5000 [02:06<00:48, 28.50it/s]\u001b[A\n",
      " 72%|███████▏  | 3624/5000 [02:06<00:48, 28.36it/s]\u001b[A\n",
      " 73%|███████▎  | 3627/5000 [02:06<00:48, 28.44it/s]\u001b[A\n",
      " 73%|███████▎  | 3630/5000 [02:06<00:47, 28.80it/s]\u001b[A\n",
      " 73%|███████▎  | 3633/5000 [02:06<00:47, 28.86it/s]\u001b[A\n",
      " 73%|███████▎  | 3636/5000 [02:07<00:47, 28.79it/s]\u001b[A\n",
      " 73%|███████▎  | 3639/5000 [02:07<00:47, 28.67it/s]\u001b[A\n",
      " 73%|███████▎  | 3642/5000 [02:07<00:47, 28.54it/s]\u001b[A\n",
      " 73%|███████▎  | 3645/5000 [02:07<00:47, 28.49it/s]\u001b[A\n",
      " 73%|███████▎  | 3648/5000 [02:07<00:47, 28.54it/s]\u001b[A\n",
      " 73%|███████▎  | 3651/5000 [02:07<00:48, 28.10it/s]\u001b[A\n",
      " 73%|███████▎  | 3654/5000 [02:07<00:47, 28.10it/s]\u001b[A"
     ]
    },
    {
     "name": "stdout",
     "output_type": "stream",
     "text": [
      " iteration 3650, cost 0.2227\n"
     ]
    },
    {
     "name": "stderr",
     "output_type": "stream",
     "text": [
      "\n",
      " 73%|███████▎  | 3657/5000 [02:07<00:47, 28.26it/s]\u001b[A\n",
      " 73%|███████▎  | 3660/5000 [02:07<00:46, 28.64it/s]\u001b[A\n",
      " 73%|███████▎  | 3663/5000 [02:08<00:46, 28.91it/s]\u001b[A\n",
      " 73%|███████▎  | 3666/5000 [02:08<00:45, 29.01it/s]\u001b[A\n",
      " 73%|███████▎  | 3669/5000 [02:08<00:45, 29.15it/s]\u001b[A\n",
      " 73%|███████▎  | 3672/5000 [02:08<00:45, 28.91it/s]\u001b[A\n",
      " 74%|███████▎  | 3675/5000 [02:08<00:45, 29.19it/s]\u001b[A\n",
      " 74%|███████▎  | 3678/5000 [02:08<00:45, 28.93it/s]\u001b[A\n",
      " 74%|███████▎  | 3681/5000 [02:08<00:45, 28.76it/s]\u001b[A\n",
      " 74%|███████▎  | 3684/5000 [02:08<00:45, 28.76it/s]\u001b[A\n",
      " 74%|███████▎  | 3687/5000 [02:08<00:46, 28.53it/s]\u001b[A\n",
      " 74%|███████▍  | 3690/5000 [02:08<00:45, 28.55it/s]\u001b[A\n",
      " 74%|███████▍  | 3693/5000 [02:09<00:45, 28.53it/s]\u001b[A\n",
      " 74%|███████▍  | 3696/5000 [02:09<00:45, 28.56it/s]\u001b[A\n",
      " 74%|███████▍  | 3699/5000 [02:09<00:45, 28.39it/s]\u001b[A\n",
      " 74%|███████▍  | 3702/5000 [02:09<00:45, 28.34it/s]\u001b[A\n",
      " 74%|███████▍  | 3705/5000 [02:09<00:45, 28.61it/s]\u001b[A"
     ]
    },
    {
     "name": "stdout",
     "output_type": "stream",
     "text": [
      " iteration 3700, cost 0.2224\n"
     ]
    },
    {
     "name": "stderr",
     "output_type": "stream",
     "text": [
      "\n",
      " 74%|███████▍  | 3708/5000 [02:09<00:45, 28.60it/s]\u001b[A\n",
      " 74%|███████▍  | 3711/5000 [02:09<00:44, 28.80it/s]\u001b[A\n",
      " 74%|███████▍  | 3714/5000 [02:09<00:44, 28.83it/s]\u001b[A\n",
      " 74%|███████▍  | 3717/5000 [02:09<00:44, 28.64it/s]\u001b[A\n",
      " 74%|███████▍  | 3720/5000 [02:10<00:44, 28.71it/s]\u001b[A\n",
      " 74%|███████▍  | 3723/5000 [02:10<00:44, 28.78it/s]\u001b[A\n",
      " 75%|███████▍  | 3726/5000 [02:10<00:44, 28.70it/s]\u001b[A\n",
      " 75%|███████▍  | 3729/5000 [02:10<00:44, 28.64it/s]\u001b[A\n",
      " 75%|███████▍  | 3732/5000 [02:10<00:44, 28.64it/s]\u001b[A\n",
      " 75%|███████▍  | 3735/5000 [02:10<00:44, 28.49it/s]\u001b[A\n",
      " 75%|███████▍  | 3738/5000 [02:10<00:44, 28.46it/s]\u001b[A\n",
      " 75%|███████▍  | 3741/5000 [02:10<00:44, 28.52it/s]\u001b[A\n",
      " 75%|███████▍  | 3744/5000 [02:10<00:44, 27.95it/s]\u001b[A\n",
      " 75%|███████▍  | 3747/5000 [02:10<00:44, 27.99it/s]\u001b[A\n",
      " 75%|███████▌  | 3750/5000 [02:11<00:44, 28.24it/s]\u001b[A\n",
      " 75%|███████▌  | 3753/5000 [02:11<00:44, 28.25it/s]\u001b[A\n",
      " 75%|███████▌  | 3756/5000 [02:11<00:43, 28.69it/s]\u001b[A"
     ]
    },
    {
     "name": "stdout",
     "output_type": "stream",
     "text": [
      " iteration 3750, cost 0.2221\n"
     ]
    },
    {
     "name": "stderr",
     "output_type": "stream",
     "text": [
      "\n",
      " 75%|███████▌  | 3759/5000 [02:11<00:42, 28.94it/s]\u001b[A\n",
      " 75%|███████▌  | 3762/5000 [02:11<00:43, 28.69it/s]\u001b[A\n",
      " 75%|███████▌  | 3765/5000 [02:11<00:43, 28.68it/s]\u001b[A\n",
      " 75%|███████▌  | 3768/5000 [02:11<00:42, 28.65it/s]\u001b[A\n",
      " 75%|███████▌  | 3771/5000 [02:11<00:43, 28.54it/s]\u001b[A\n",
      " 75%|███████▌  | 3774/5000 [02:11<00:43, 28.50it/s]\u001b[A\n",
      " 76%|███████▌  | 3777/5000 [02:12<00:42, 28.47it/s]\u001b[A\n",
      " 76%|███████▌  | 3780/5000 [02:12<00:42, 28.51it/s]\u001b[A\n",
      " 76%|███████▌  | 3783/5000 [02:12<00:42, 28.43it/s]\u001b[A\n",
      " 76%|███████▌  | 3786/5000 [02:12<00:42, 28.33it/s]\u001b[A\n",
      " 76%|███████▌  | 3789/5000 [02:12<00:42, 28.36it/s]\u001b[A\n",
      " 76%|███████▌  | 3792/5000 [02:12<00:42, 28.39it/s]\u001b[A\n",
      " 76%|███████▌  | 3795/5000 [02:12<00:42, 28.36it/s]\u001b[A\n",
      " 76%|███████▌  | 3798/5000 [02:12<00:42, 28.33it/s]\u001b[A\n",
      " 76%|███████▌  | 3801/5000 [02:12<00:42, 27.97it/s]\u001b[A\n",
      " 76%|███████▌  | 3804/5000 [02:12<00:42, 28.47it/s]\u001b[A"
     ]
    },
    {
     "name": "stdout",
     "output_type": "stream",
     "text": [
      " iteration 3800, cost 0.2218\n"
     ]
    },
    {
     "name": "stderr",
     "output_type": "stream",
     "text": [
      "\n",
      " 76%|███████▌  | 3807/5000 [02:13<00:41, 28.88it/s]\u001b[A\n",
      " 76%|███████▌  | 3810/5000 [02:13<00:40, 29.13it/s]\u001b[A\n",
      " 76%|███████▋  | 3813/5000 [02:13<00:40, 29.01it/s]\u001b[A\n",
      " 76%|███████▋  | 3816/5000 [02:13<00:41, 28.85it/s]\u001b[A\n",
      " 76%|███████▋  | 3819/5000 [02:13<00:40, 29.03it/s]\u001b[A\n",
      " 76%|███████▋  | 3822/5000 [02:13<00:40, 28.89it/s]\u001b[A\n",
      " 76%|███████▋  | 3825/5000 [02:13<00:40, 28.76it/s]\u001b[A\n",
      " 77%|███████▋  | 3828/5000 [02:13<00:40, 28.65it/s]\u001b[A\n",
      " 77%|███████▋  | 3831/5000 [02:13<00:41, 28.36it/s]\u001b[A\n",
      " 77%|███████▋  | 3834/5000 [02:14<00:41, 28.42it/s]\u001b[A\n",
      " 77%|███████▋  | 3837/5000 [02:14<00:40, 28.39it/s]\u001b[A\n",
      " 77%|███████▋  | 3840/5000 [02:14<00:40, 28.35it/s]\u001b[A\n",
      " 77%|███████▋  | 3843/5000 [02:14<00:40, 28.26it/s]\u001b[A\n",
      " 77%|███████▋  | 3846/5000 [02:14<00:40, 28.29it/s]\u001b[A\n",
      " 77%|███████▋  | 3849/5000 [02:14<00:40, 28.49it/s]\u001b[A\n",
      " 77%|███████▋  | 3852/5000 [02:14<00:40, 28.27it/s]\u001b[A\n",
      " 77%|███████▋  | 3855/5000 [02:14<00:40, 28.46it/s]\u001b[A"
     ]
    },
    {
     "name": "stdout",
     "output_type": "stream",
     "text": [
      " iteration 3850, cost 0.2215\n"
     ]
    },
    {
     "name": "stderr",
     "output_type": "stream",
     "text": [
      "\n",
      " 77%|███████▋  | 3858/5000 [02:14<00:40, 28.39it/s]\u001b[A\n",
      " 77%|███████▋  | 3861/5000 [02:14<00:39, 28.71it/s]\u001b[A\n",
      " 77%|███████▋  | 3864/5000 [02:15<00:39, 28.86it/s]\u001b[A\n",
      " 77%|███████▋  | 3867/5000 [02:15<00:38, 29.06it/s]\u001b[A\n",
      " 77%|███████▋  | 3870/5000 [02:15<00:38, 29.21it/s]\u001b[A\n",
      " 77%|███████▋  | 3873/5000 [02:15<00:38, 29.21it/s]\u001b[A\n",
      " 78%|███████▊  | 3876/5000 [02:15<00:38, 28.93it/s]\u001b[A\n",
      " 78%|███████▊  | 3879/5000 [02:15<00:38, 28.87it/s]\u001b[A\n",
      " 78%|███████▊  | 3882/5000 [02:15<00:38, 28.75it/s]\u001b[A\n",
      " 78%|███████▊  | 3885/5000 [02:15<00:38, 28.68it/s]\u001b[A\n",
      " 78%|███████▊  | 3888/5000 [02:15<00:38, 28.65it/s]\u001b[A\n",
      " 78%|███████▊  | 3891/5000 [02:16<00:38, 28.72it/s]\u001b[A\n",
      " 78%|███████▊  | 3894/5000 [02:16<00:38, 28.65it/s]\u001b[A\n",
      " 78%|███████▊  | 3897/5000 [02:16<00:38, 28.65it/s]\u001b[A\n",
      " 78%|███████▊  | 3900/5000 [02:16<00:38, 28.62it/s]\u001b[A\n",
      " 78%|███████▊  | 3903/5000 [02:16<00:38, 28.50it/s]\u001b[A\n",
      " 78%|███████▊  | 3906/5000 [02:16<00:37, 28.88it/s]\u001b[A"
     ]
    },
    {
     "name": "stdout",
     "output_type": "stream",
     "text": [
      " iteration 3900, cost 0.2212\n"
     ]
    },
    {
     "name": "stderr",
     "output_type": "stream",
     "text": [
      "\n",
      " 78%|███████▊  | 3909/5000 [02:16<00:37, 29.05it/s]\u001b[A\n",
      " 78%|███████▊  | 3912/5000 [02:16<00:37, 29.31it/s]\u001b[A\n",
      " 78%|███████▊  | 3915/5000 [02:16<00:37, 28.99it/s]\u001b[A\n",
      " 78%|███████▊  | 3918/5000 [02:16<00:37, 28.87it/s]\u001b[A\n",
      " 78%|███████▊  | 3921/5000 [02:17<00:37, 28.77it/s]\u001b[A\n",
      " 78%|███████▊  | 3924/5000 [02:17<00:37, 28.60it/s]\u001b[A\n",
      " 79%|███████▊  | 3927/5000 [02:17<00:37, 28.73it/s]\u001b[A\n",
      " 79%|███████▊  | 3930/5000 [02:17<00:37, 28.46it/s]\u001b[A\n",
      " 79%|███████▊  | 3933/5000 [02:17<00:37, 28.50it/s]\u001b[A\n",
      " 79%|███████▊  | 3936/5000 [02:17<00:36, 28.79it/s]\u001b[A\n",
      " 79%|███████▉  | 3939/5000 [02:17<00:36, 28.91it/s]\u001b[A\n",
      " 79%|███████▉  | 3942/5000 [02:17<00:36, 28.80it/s]\u001b[A\n",
      " 79%|███████▉  | 3945/5000 [02:17<00:36, 28.75it/s]\u001b[A\n",
      " 79%|███████▉  | 3948/5000 [02:17<00:36, 28.82it/s]\u001b[A\n",
      " 79%|███████▉  | 3951/5000 [02:18<00:36, 28.43it/s]\u001b[A\n",
      " 79%|███████▉  | 3954/5000 [02:18<00:36, 28.53it/s]\u001b[A"
     ]
    },
    {
     "name": "stdout",
     "output_type": "stream",
     "text": [
      " iteration 3950, cost 0.2209\n"
     ]
    },
    {
     "name": "stderr",
     "output_type": "stream",
     "text": [
      "\n",
      " 79%|███████▉  | 3957/5000 [02:18<00:36, 28.59it/s]\u001b[A\n",
      " 79%|███████▉  | 3960/5000 [02:18<00:36, 28.76it/s]\u001b[A\n",
      " 79%|███████▉  | 3963/5000 [02:18<00:35, 28.86it/s]\u001b[A\n",
      " 79%|███████▉  | 3966/5000 [02:18<00:35, 29.03it/s]\u001b[A\n",
      " 79%|███████▉  | 3969/5000 [02:18<00:35, 29.09it/s]\u001b[A\n",
      " 79%|███████▉  | 3972/5000 [02:18<00:35, 28.81it/s]\u001b[A\n",
      " 80%|███████▉  | 3975/5000 [02:18<00:35, 28.75it/s]\u001b[A\n",
      " 80%|███████▉  | 3978/5000 [02:19<00:35, 28.69it/s]\u001b[A\n",
      " 80%|███████▉  | 3981/5000 [02:19<00:35, 28.60it/s]\u001b[A\n",
      " 80%|███████▉  | 3984/5000 [02:19<00:35, 28.48it/s]\u001b[A\n",
      " 80%|███████▉  | 3987/5000 [02:19<00:35, 28.43it/s]\u001b[A\n",
      " 80%|███████▉  | 3990/5000 [02:19<00:35, 28.60it/s]\u001b[A\n",
      " 80%|███████▉  | 3993/5000 [02:19<00:34, 28.92it/s]\u001b[A\n",
      " 80%|███████▉  | 3996/5000 [02:19<00:34, 29.10it/s]\u001b[A\n",
      " 80%|███████▉  | 3999/5000 [02:19<00:34, 28.99it/s]\u001b[A\n",
      " 80%|████████  | 4002/5000 [02:19<00:35, 28.48it/s]\u001b[A\n",
      " 80%|████████  | 4005/5000 [02:19<00:34, 28.71it/s]\u001b[A"
     ]
    },
    {
     "name": "stdout",
     "output_type": "stream",
     "text": [
      " iteration 4000, cost 0.2207\n"
     ]
    },
    {
     "name": "stderr",
     "output_type": "stream",
     "text": [
      "\n",
      " 80%|████████  | 4008/5000 [02:20<00:34, 28.68it/s]\u001b[A\n",
      " 80%|████████  | 4011/5000 [02:20<00:34, 28.84it/s]\u001b[A\n",
      " 80%|████████  | 4014/5000 [02:20<00:33, 29.05it/s]\u001b[A\n",
      " 80%|████████  | 4017/5000 [02:20<00:33, 29.13it/s]\u001b[A\n",
      " 80%|████████  | 4020/5000 [02:20<00:33, 29.06it/s]\u001b[A\n",
      " 80%|████████  | 4023/5000 [02:20<00:33, 28.86it/s]\u001b[A\n",
      " 81%|████████  | 4026/5000 [02:20<00:33, 28.90it/s]\u001b[A\n",
      " 81%|████████  | 4029/5000 [02:20<00:33, 28.60it/s]\u001b[A\n",
      " 81%|████████  | 4032/5000 [02:20<00:33, 28.76it/s]\u001b[A\n",
      " 81%|████████  | 4035/5000 [02:21<00:33, 28.51it/s]\u001b[A\n",
      " 81%|████████  | 4038/5000 [02:21<00:33, 28.54it/s]\u001b[A\n",
      " 81%|████████  | 4041/5000 [02:21<00:33, 28.54it/s]\u001b[A\n",
      " 81%|████████  | 4044/5000 [02:21<00:33, 28.50it/s]\u001b[A\n",
      " 81%|████████  | 4047/5000 [02:21<00:33, 28.32it/s]\u001b[A\n",
      " 81%|████████  | 4050/5000 [02:21<00:33, 28.48it/s]\u001b[A\n",
      " 81%|████████  | 4053/5000 [02:21<00:33, 28.37it/s]\u001b[A\n",
      " 81%|████████  | 4056/5000 [02:21<00:32, 28.61it/s]\u001b[A"
     ]
    },
    {
     "name": "stdout",
     "output_type": "stream",
     "text": [
      " iteration 4050, cost 0.2205\n"
     ]
    },
    {
     "name": "stderr",
     "output_type": "stream",
     "text": [
      "\n",
      " 81%|████████  | 4059/5000 [02:21<00:33, 28.18it/s]\u001b[A\n",
      " 81%|████████  | 4062/5000 [02:21<00:32, 28.61it/s]\u001b[A\n",
      " 81%|████████▏ | 4066/5000 [02:22<00:32, 29.04it/s]\u001b[A\n",
      " 81%|████████▏ | 4069/5000 [02:22<00:32, 28.80it/s]\u001b[A\n",
      " 81%|████████▏ | 4072/5000 [02:22<00:32, 28.85it/s]\u001b[A\n",
      " 82%|████████▏ | 4075/5000 [02:22<00:32, 28.73it/s]\u001b[A\n",
      " 82%|████████▏ | 4078/5000 [02:22<00:32, 28.62it/s]\u001b[A\n",
      " 82%|████████▏ | 4081/5000 [02:22<00:32, 28.56it/s]\u001b[A\n",
      " 82%|████████▏ | 4084/5000 [02:22<00:31, 28.72it/s]\u001b[A\n",
      " 82%|████████▏ | 4087/5000 [02:22<00:31, 28.72it/s]\u001b[A\n",
      " 82%|████████▏ | 4090/5000 [02:22<00:31, 28.62it/s]\u001b[A\n",
      " 82%|████████▏ | 4093/5000 [02:23<00:31, 28.75it/s]\u001b[A\n",
      " 82%|████████▏ | 4096/5000 [02:23<00:31, 28.78it/s]\u001b[A\n",
      " 82%|████████▏ | 4099/5000 [02:23<00:31, 28.80it/s]\u001b[A\n",
      " 82%|████████▏ | 4102/5000 [02:23<00:31, 28.69it/s]\u001b[A\n",
      " 82%|████████▏ | 4105/5000 [02:23<00:31, 28.79it/s]\u001b[A"
     ]
    },
    {
     "name": "stdout",
     "output_type": "stream",
     "text": [
      " iteration 4100, cost 0.2202\n"
     ]
    },
    {
     "name": "stderr",
     "output_type": "stream",
     "text": [
      "\n",
      " 82%|████████▏ | 4108/5000 [02:23<00:30, 28.84it/s]\u001b[A\n",
      " 82%|████████▏ | 4111/5000 [02:23<00:30, 28.99it/s]\u001b[A\n",
      " 82%|████████▏ | 4114/5000 [02:23<00:31, 28.56it/s]\u001b[A\n",
      " 82%|████████▏ | 4117/5000 [02:23<00:30, 28.55it/s]\u001b[A\n",
      " 82%|████████▏ | 4120/5000 [02:23<00:31, 28.38it/s]\u001b[A\n",
      " 82%|████████▏ | 4123/5000 [02:24<00:30, 28.38it/s]\u001b[A\n",
      " 83%|████████▎ | 4126/5000 [02:24<00:30, 28.36it/s]\u001b[A\n",
      " 83%|████████▎ | 4129/5000 [02:24<00:30, 28.25it/s]\u001b[A\n",
      " 83%|████████▎ | 4132/5000 [02:24<00:30, 28.27it/s]\u001b[A\n",
      " 83%|████████▎ | 4135/5000 [02:24<00:30, 28.33it/s]\u001b[A\n",
      " 83%|████████▎ | 4138/5000 [02:24<00:30, 28.36it/s]\u001b[A\n",
      " 83%|████████▎ | 4141/5000 [02:24<00:30, 28.12it/s]\u001b[A\n",
      " 83%|████████▎ | 4144/5000 [02:24<00:30, 27.61it/s]\u001b[A\n",
      " 83%|████████▎ | 4147/5000 [02:24<00:30, 27.78it/s]\u001b[A\n",
      " 83%|████████▎ | 4150/5000 [02:25<00:30, 28.10it/s]\u001b[A\n",
      " 83%|████████▎ | 4153/5000 [02:25<00:29, 28.29it/s]\u001b[A\n",
      " 83%|████████▎ | 4156/5000 [02:25<00:29, 28.35it/s]\u001b[A"
     ]
    },
    {
     "name": "stdout",
     "output_type": "stream",
     "text": [
      " iteration 4150, cost 0.2200\n"
     ]
    },
    {
     "name": "stderr",
     "output_type": "stream",
     "text": [
      "\n",
      " 83%|████████▎ | 4159/5000 [02:25<00:30, 28.02it/s]\u001b[A\n",
      " 83%|████████▎ | 4162/5000 [02:25<00:29, 27.95it/s]\u001b[A\n",
      " 83%|████████▎ | 4165/5000 [02:25<00:29, 28.32it/s]\u001b[A\n",
      " 83%|████████▎ | 4168/5000 [02:25<00:29, 28.24it/s]\u001b[A\n",
      " 83%|████████▎ | 4171/5000 [02:25<00:29, 28.32it/s]\u001b[A\n",
      " 83%|████████▎ | 4174/5000 [02:25<00:29, 28.15it/s]\u001b[A\n",
      " 84%|████████▎ | 4177/5000 [02:26<00:29, 28.21it/s]\u001b[A\n",
      " 84%|████████▎ | 4180/5000 [02:26<00:29, 28.24it/s]\u001b[A\n",
      " 84%|████████▎ | 4183/5000 [02:26<00:28, 28.45it/s]\u001b[A\n",
      " 84%|████████▎ | 4186/5000 [02:26<00:28, 28.71it/s]\u001b[A\n",
      " 84%|████████▍ | 4189/5000 [02:26<00:28, 28.93it/s]\u001b[A\n",
      " 84%|████████▍ | 4192/5000 [02:26<00:28, 28.84it/s]\u001b[A\n",
      " 84%|████████▍ | 4195/5000 [02:26<00:28, 28.74it/s]\u001b[A\n",
      " 84%|████████▍ | 4198/5000 [02:26<00:27, 28.70it/s]\u001b[A\n",
      " 84%|████████▍ | 4201/5000 [02:26<00:28, 28.26it/s]\u001b[A\n",
      " 84%|████████▍ | 4204/5000 [02:26<00:27, 28.61it/s]\u001b[A"
     ]
    },
    {
     "name": "stdout",
     "output_type": "stream",
     "text": [
      " iteration 4200, cost 0.2197\n"
     ]
    },
    {
     "name": "stderr",
     "output_type": "stream",
     "text": [
      "\n",
      " 84%|████████▍ | 4207/5000 [02:27<00:27, 28.94it/s]\u001b[A\n",
      " 84%|████████▍ | 4210/5000 [02:27<00:27, 29.16it/s]\u001b[A\n",
      " 84%|████████▍ | 4213/5000 [02:27<00:27, 28.93it/s]\u001b[A\n",
      " 84%|████████▍ | 4216/5000 [02:27<00:27, 28.73it/s]\u001b[A\n",
      " 84%|████████▍ | 4219/5000 [02:27<00:27, 28.75it/s]\u001b[A\n",
      " 84%|████████▍ | 4223/5000 [02:27<00:26, 29.09it/s]\u001b[A\n",
      " 85%|████████▍ | 4226/5000 [02:27<00:26, 28.91it/s]\u001b[A\n",
      " 85%|████████▍ | 4229/5000 [02:27<00:26, 28.64it/s]\u001b[A\n",
      " 85%|████████▍ | 4232/5000 [02:27<00:27, 28.29it/s]\u001b[A\n",
      " 85%|████████▍ | 4235/5000 [02:28<00:26, 28.52it/s]\u001b[A\n",
      " 85%|████████▍ | 4238/5000 [02:28<00:26, 28.33it/s]\u001b[A\n",
      " 85%|████████▍ | 4241/5000 [02:28<00:26, 28.47it/s]\u001b[A\n",
      " 85%|████████▍ | 4244/5000 [02:28<00:26, 28.88it/s]\u001b[A\n",
      " 85%|████████▍ | 4247/5000 [02:28<00:25, 29.10it/s]\u001b[A\n",
      " 85%|████████▌ | 4250/5000 [02:28<00:25, 29.33it/s]\u001b[A\n",
      " 85%|████████▌ | 4253/5000 [02:28<00:25, 29.31it/s]\u001b[A\n",
      " 85%|████████▌ | 4256/5000 [02:28<00:25, 29.13it/s]\u001b[A"
     ]
    },
    {
     "name": "stdout",
     "output_type": "stream",
     "text": [
      " iteration 4250, cost 0.2195\n"
     ]
    },
    {
     "name": "stderr",
     "output_type": "stream",
     "text": [
      "\n",
      " 85%|████████▌ | 4259/5000 [02:28<00:25, 28.75it/s]\u001b[A\n",
      " 85%|████████▌ | 4262/5000 [02:28<00:25, 28.70it/s]\u001b[A\n",
      " 85%|████████▌ | 4265/5000 [02:29<00:25, 28.68it/s]\u001b[A\n",
      " 85%|████████▌ | 4268/5000 [02:29<00:25, 28.59it/s]\u001b[A\n",
      " 85%|████████▌ | 4271/5000 [02:29<00:25, 28.48it/s]\u001b[A\n",
      " 85%|████████▌ | 4274/5000 [02:29<00:25, 28.39it/s]\u001b[A\n",
      " 86%|████████▌ | 4277/5000 [02:29<00:25, 28.32it/s]\u001b[A\n",
      " 86%|████████▌ | 4280/5000 [02:29<00:25, 28.36it/s]\u001b[A\n",
      " 86%|████████▌ | 4283/5000 [02:29<00:25, 28.37it/s]\u001b[A\n",
      " 86%|████████▌ | 4286/5000 [02:29<00:25, 28.33it/s]\u001b[A\n",
      " 86%|████████▌ | 4289/5000 [02:29<00:25, 28.23it/s]\u001b[A\n",
      " 86%|████████▌ | 4292/5000 [02:30<00:25, 28.27it/s]\u001b[A\n",
      " 86%|████████▌ | 4295/5000 [02:30<00:24, 28.30it/s]\u001b[A\n",
      " 86%|████████▌ | 4298/5000 [02:30<00:24, 28.30it/s]\u001b[A\n",
      " 86%|████████▌ | 4301/5000 [02:30<00:25, 27.87it/s]\u001b[A\n",
      " 86%|████████▌ | 4304/5000 [02:30<00:24, 28.17it/s]\u001b[A"
     ]
    },
    {
     "name": "stdout",
     "output_type": "stream",
     "text": [
      " iteration 4300, cost 0.2193\n"
     ]
    },
    {
     "name": "stderr",
     "output_type": "stream",
     "text": [
      "\n",
      " 86%|████████▌ | 4307/5000 [02:30<00:24, 28.21it/s]\u001b[A\n",
      " 86%|████████▌ | 4310/5000 [02:30<00:24, 28.28it/s]\u001b[A\n",
      " 86%|████████▋ | 4313/5000 [02:30<00:24, 28.21it/s]\u001b[A\n",
      " 86%|████████▋ | 4316/5000 [02:30<00:24, 28.17it/s]\u001b[A\n",
      " 86%|████████▋ | 4319/5000 [02:30<00:24, 28.22it/s]\u001b[A\n",
      " 86%|████████▋ | 4322/5000 [02:31<00:24, 28.18it/s]\u001b[A\n",
      " 86%|████████▋ | 4325/5000 [02:31<00:23, 28.13it/s]\u001b[A\n",
      " 87%|████████▋ | 4328/5000 [02:31<00:23, 28.16it/s]\u001b[A\n",
      " 87%|████████▋ | 4331/5000 [02:31<00:23, 28.22it/s]\u001b[A\n",
      " 87%|████████▋ | 4334/5000 [02:31<00:23, 28.18it/s]\u001b[A\n",
      " 87%|████████▋ | 4337/5000 [02:31<00:23, 28.24it/s]\u001b[A\n",
      " 87%|████████▋ | 4340/5000 [02:31<00:23, 28.28it/s]\u001b[A\n",
      " 87%|████████▋ | 4343/5000 [02:31<00:23, 28.30it/s]\u001b[A\n",
      " 87%|████████▋ | 4346/5000 [02:31<00:23, 28.19it/s]\u001b[A\n",
      " 87%|████████▋ | 4349/5000 [02:32<00:23, 28.13it/s]\u001b[A\n",
      " 87%|████████▋ | 4352/5000 [02:32<00:22, 28.51it/s]\u001b[A\n",
      " 87%|████████▋ | 4355/5000 [02:32<00:22, 28.65it/s]\u001b[A"
     ]
    },
    {
     "name": "stdout",
     "output_type": "stream",
     "text": [
      " iteration 4350, cost 0.2192\n"
     ]
    },
    {
     "name": "stderr",
     "output_type": "stream",
     "text": [
      "\n",
      " 87%|████████▋ | 4358/5000 [02:32<00:22, 28.70it/s]\u001b[A\n",
      " 87%|████████▋ | 4361/5000 [02:32<00:22, 28.83it/s]\u001b[A\n",
      " 87%|████████▋ | 4364/5000 [02:32<00:21, 29.12it/s]\u001b[A\n",
      " 87%|████████▋ | 4367/5000 [02:32<00:21, 29.30it/s]\u001b[A\n",
      " 87%|████████▋ | 4370/5000 [02:32<00:21, 29.40it/s]\u001b[A\n",
      " 87%|████████▋ | 4373/5000 [02:32<00:21, 29.55it/s]\u001b[A\n",
      " 88%|████████▊ | 4376/5000 [02:32<00:21, 29.57it/s]\u001b[A\n",
      " 88%|████████▊ | 4379/5000 [02:33<00:20, 29.66it/s]\u001b[A\n",
      " 88%|████████▊ | 4382/5000 [02:33<00:20, 29.65it/s]\u001b[A\n",
      " 88%|████████▊ | 4385/5000 [02:33<00:20, 29.30it/s]\u001b[A\n",
      " 88%|████████▊ | 4388/5000 [02:33<00:21, 28.64it/s]\u001b[A\n",
      " 88%|████████▊ | 4391/5000 [02:33<00:21, 28.63it/s]\u001b[A\n",
      " 88%|████████▊ | 4395/5000 [02:33<00:20, 29.25it/s]\u001b[A\n",
      " 88%|████████▊ | 4398/5000 [02:33<00:20, 29.41it/s]\u001b[A\n",
      " 88%|████████▊ | 4401/5000 [02:33<00:20, 29.47it/s]\u001b[A\n",
      " 88%|████████▊ | 4404/5000 [02:33<00:20, 29.17it/s]\u001b[A"
     ]
    },
    {
     "name": "stdout",
     "output_type": "stream",
     "text": [
      " iteration 4400, cost 0.2189\n"
     ]
    },
    {
     "name": "stderr",
     "output_type": "stream",
     "text": [
      "\n",
      " 88%|████████▊ | 4407/5000 [02:34<00:20, 28.78it/s]\u001b[A\n",
      " 88%|████████▊ | 4410/5000 [02:34<00:20, 28.90it/s]\u001b[A\n",
      " 88%|████████▊ | 4413/5000 [02:34<00:20, 29.09it/s]\u001b[A\n",
      " 88%|████████▊ | 4416/5000 [02:34<00:20, 28.79it/s]\u001b[A\n",
      " 88%|████████▊ | 4419/5000 [02:34<00:20, 28.76it/s]\u001b[A\n",
      " 88%|████████▊ | 4422/5000 [02:34<00:20, 28.82it/s]\u001b[A\n",
      " 88%|████████▊ | 4425/5000 [02:34<00:19, 29.00it/s]\u001b[A\n",
      " 89%|████████▊ | 4428/5000 [02:34<00:19, 29.26it/s]\u001b[A\n",
      " 89%|████████▊ | 4431/5000 [02:34<00:19, 29.12it/s]\u001b[A\n",
      " 89%|████████▊ | 4434/5000 [02:34<00:19, 28.84it/s]\u001b[A\n",
      " 89%|████████▊ | 4437/5000 [02:35<00:19, 28.67it/s]\u001b[A\n",
      " 89%|████████▉ | 4440/5000 [02:35<00:19, 28.54it/s]\u001b[A\n",
      " 89%|████████▉ | 4443/5000 [02:35<00:19, 28.39it/s]\u001b[A\n",
      " 89%|████████▉ | 4446/5000 [02:35<00:19, 28.45it/s]\u001b[A\n",
      " 89%|████████▉ | 4449/5000 [02:35<00:19, 28.39it/s]\u001b[A\n",
      " 89%|████████▉ | 4452/5000 [02:35<00:19, 28.09it/s]\u001b[A\n",
      " 89%|████████▉ | 4455/5000 [02:35<00:19, 28.49it/s]\u001b[A"
     ]
    },
    {
     "name": "stdout",
     "output_type": "stream",
     "text": [
      " iteration 4450, cost 0.2188\n"
     ]
    },
    {
     "name": "stderr",
     "output_type": "stream",
     "text": [
      "\n",
      " 89%|████████▉ | 4458/5000 [02:35<00:19, 28.26it/s]\u001b[A\n",
      " 89%|████████▉ | 4461/5000 [02:35<00:18, 28.37it/s]\u001b[A\n",
      " 89%|████████▉ | 4464/5000 [02:36<00:18, 28.23it/s]\u001b[A\n",
      " 89%|████████▉ | 4467/5000 [02:36<00:18, 28.26it/s]\u001b[A\n",
      " 89%|████████▉ | 4470/5000 [02:36<00:18, 28.26it/s]\u001b[A\n",
      " 89%|████████▉ | 4473/5000 [02:36<00:18, 28.31it/s]\u001b[A\n",
      " 90%|████████▉ | 4476/5000 [02:36<00:18, 28.20it/s]\u001b[A\n",
      " 90%|████████▉ | 4479/5000 [02:36<00:18, 28.35it/s]\u001b[A\n",
      " 90%|████████▉ | 4482/5000 [02:36<00:18, 28.34it/s]\u001b[A\n",
      " 90%|████████▉ | 4485/5000 [02:36<00:18, 28.32it/s]\u001b[A\n",
      " 90%|████████▉ | 4488/5000 [02:36<00:18, 28.28it/s]\u001b[A\n",
      " 90%|████████▉ | 4491/5000 [02:36<00:17, 28.31it/s]\u001b[A\n",
      " 90%|████████▉ | 4494/5000 [02:37<00:17, 28.28it/s]\u001b[A\n",
      " 90%|████████▉ | 4497/5000 [02:37<00:17, 28.27it/s]\u001b[A\n",
      " 90%|█████████ | 4500/5000 [02:37<00:17, 28.20it/s]\u001b[A\n",
      " 90%|█████████ | 4503/5000 [02:37<00:17, 28.19it/s]\u001b[A\n",
      " 90%|█████████ | 4506/5000 [02:37<00:17, 28.53it/s]\u001b[A"
     ]
    },
    {
     "name": "stdout",
     "output_type": "stream",
     "text": [
      " iteration 4500, cost 0.2186\n"
     ]
    },
    {
     "name": "stderr",
     "output_type": "stream",
     "text": [
      "\n",
      " 90%|█████████ | 4509/5000 [02:37<00:17, 28.63it/s]\u001b[A\n",
      " 90%|█████████ | 4512/5000 [02:37<00:16, 29.01it/s]\u001b[A\n",
      " 90%|█████████ | 4515/5000 [02:37<00:16, 28.85it/s]\u001b[A\n",
      " 90%|█████████ | 4518/5000 [02:37<00:16, 28.80it/s]\u001b[A\n",
      " 90%|█████████ | 4521/5000 [02:38<00:16, 28.64it/s]\u001b[A\n",
      " 90%|█████████ | 4524/5000 [02:38<00:16, 28.47it/s]\u001b[A\n",
      " 91%|█████████ | 4527/5000 [02:38<00:16, 28.52it/s]\u001b[A\n",
      " 91%|█████████ | 4530/5000 [02:38<00:16, 28.08it/s]\u001b[A\n",
      " 91%|█████████ | 4533/5000 [02:38<00:16, 28.36it/s]\u001b[A\n",
      " 91%|█████████ | 4536/5000 [02:38<00:16, 28.55it/s]\u001b[A\n",
      " 91%|█████████ | 4539/5000 [02:38<00:16, 28.73it/s]\u001b[A\n",
      " 91%|█████████ | 4542/5000 [02:38<00:15, 28.82it/s]\u001b[A\n",
      " 91%|█████████ | 4545/5000 [02:38<00:15, 28.74it/s]\u001b[A\n",
      " 91%|█████████ | 4548/5000 [02:38<00:15, 29.08it/s]\u001b[A\n",
      " 91%|█████████ | 4551/5000 [02:39<00:15, 28.49it/s]\u001b[A\n",
      " 91%|█████████ | 4554/5000 [02:39<00:15, 28.76it/s]\u001b[A"
     ]
    },
    {
     "name": "stdout",
     "output_type": "stream",
     "text": [
      " iteration 4550, cost 0.2184\n"
     ]
    },
    {
     "name": "stderr",
     "output_type": "stream",
     "text": [
      "\n",
      " 91%|█████████ | 4557/5000 [02:39<00:15, 28.60it/s]\u001b[A\n",
      " 91%|█████████ | 4560/5000 [02:39<00:15, 28.54it/s]\u001b[A\n",
      " 91%|█████████▏| 4563/5000 [02:39<00:15, 28.27it/s]\u001b[A\n",
      " 91%|█████████▏| 4566/5000 [02:39<00:15, 28.62it/s]\u001b[A\n",
      " 91%|█████████▏| 4569/5000 [02:39<00:14, 28.97it/s]\u001b[A\n",
      " 91%|█████████▏| 4572/5000 [02:39<00:14, 28.92it/s]\u001b[A\n",
      " 92%|█████████▏| 4575/5000 [02:39<00:14, 28.72it/s]\u001b[A\n",
      " 92%|█████████▏| 4578/5000 [02:40<00:14, 28.57it/s]\u001b[A\n",
      " 92%|█████████▏| 4581/5000 [02:40<00:14, 28.44it/s]\u001b[A\n",
      " 92%|█████████▏| 4584/5000 [02:40<00:14, 28.36it/s]\u001b[A\n",
      " 92%|█████████▏| 4587/5000 [02:40<00:14, 28.37it/s]\u001b[A\n",
      " 92%|█████████▏| 4590/5000 [02:40<00:14, 28.43it/s]\u001b[A\n",
      " 92%|█████████▏| 4593/5000 [02:40<00:14, 28.32it/s]\u001b[A\n",
      " 92%|█████████▏| 4596/5000 [02:40<00:14, 28.38it/s]\u001b[A\n",
      " 92%|█████████▏| 4599/5000 [02:40<00:14, 28.39it/s]\u001b[A\n",
      " 92%|█████████▏| 4602/5000 [02:40<00:14, 28.07it/s]\u001b[A\n",
      " 92%|█████████▏| 4605/5000 [02:40<00:13, 28.45it/s]\u001b[A"
     ]
    },
    {
     "name": "stdout",
     "output_type": "stream",
     "text": [
      " iteration 4600, cost 0.2182\n"
     ]
    },
    {
     "name": "stderr",
     "output_type": "stream",
     "text": [
      "\n",
      " 92%|█████████▏| 4608/5000 [02:41<00:13, 28.34it/s]\u001b[A\n",
      " 92%|█████████▏| 4611/5000 [02:41<00:13, 28.33it/s]\u001b[A\n",
      " 92%|█████████▏| 4614/5000 [02:41<00:13, 28.33it/s]\u001b[A\n",
      " 92%|█████████▏| 4617/5000 [02:41<00:13, 28.21it/s]\u001b[A\n",
      " 92%|█████████▏| 4620/5000 [02:41<00:13, 28.32it/s]\u001b[A\n",
      " 92%|█████████▏| 4623/5000 [02:41<00:13, 28.37it/s]\u001b[A\n",
      " 93%|█████████▎| 4626/5000 [02:41<00:13, 28.37it/s]\u001b[A\n",
      " 93%|█████████▎| 4629/5000 [02:41<00:13, 28.31it/s]\u001b[A\n",
      " 93%|█████████▎| 4632/5000 [02:41<00:12, 28.51it/s]\u001b[A\n",
      " 93%|█████████▎| 4635/5000 [02:42<00:12, 28.50it/s]\u001b[A\n",
      " 93%|█████████▎| 4638/5000 [02:42<00:12, 28.43it/s]\u001b[A\n",
      " 93%|█████████▎| 4641/5000 [02:42<00:12, 28.35it/s]\u001b[A\n",
      " 93%|█████████▎| 4644/5000 [02:42<00:12, 28.34it/s]\u001b[A\n",
      " 93%|█████████▎| 4647/5000 [02:42<00:12, 28.39it/s]\u001b[A\n",
      " 93%|█████████▎| 4650/5000 [02:42<00:12, 28.42it/s]\u001b[A\n",
      " 93%|█████████▎| 4653/5000 [02:42<00:12, 28.04it/s]\u001b[A\n",
      " 93%|█████████▎| 4656/5000 [02:42<00:12, 28.36it/s]\u001b[A"
     ]
    },
    {
     "name": "stdout",
     "output_type": "stream",
     "text": [
      " iteration 4650, cost 0.2181\n"
     ]
    },
    {
     "name": "stderr",
     "output_type": "stream",
     "text": [
      "\n",
      " 93%|█████████▎| 4659/5000 [02:42<00:12, 28.35it/s]\u001b[A\n",
      " 93%|█████████▎| 4662/5000 [02:42<00:11, 28.36it/s]\u001b[A\n",
      " 93%|█████████▎| 4665/5000 [02:43<00:11, 28.67it/s]\u001b[A\n",
      " 93%|█████████▎| 4668/5000 [02:43<00:11, 28.95it/s]\u001b[A\n",
      " 93%|█████████▎| 4671/5000 [02:43<00:11, 28.91it/s]\u001b[A\n",
      " 93%|█████████▎| 4674/5000 [02:43<00:11, 28.70it/s]\u001b[A\n",
      " 94%|█████████▎| 4677/5000 [02:43<00:11, 28.73it/s]\u001b[A\n",
      " 94%|█████████▎| 4680/5000 [02:43<00:11, 28.52it/s]\u001b[A\n",
      " 94%|█████████▎| 4683/5000 [02:43<00:11, 28.49it/s]\u001b[A\n",
      " 94%|█████████▎| 4686/5000 [02:43<00:11, 28.53it/s]\u001b[A\n",
      " 94%|█████████▍| 4689/5000 [02:43<00:10, 28.46it/s]\u001b[A\n",
      " 94%|█████████▍| 4692/5000 [02:44<00:10, 28.32it/s]\u001b[A\n",
      " 94%|█████████▍| 4695/5000 [02:44<00:10, 28.35it/s]\u001b[A\n",
      " 94%|█████████▍| 4698/5000 [02:44<00:10, 28.32it/s]\u001b[A\n",
      " 94%|█████████▍| 4701/5000 [02:44<00:10, 27.86it/s]\u001b[A\n",
      " 94%|█████████▍| 4704/5000 [02:44<00:10, 28.02it/s]\u001b[A"
     ]
    },
    {
     "name": "stdout",
     "output_type": "stream",
     "text": [
      " iteration 4700, cost 0.2180\n"
     ]
    },
    {
     "name": "stderr",
     "output_type": "stream",
     "text": [
      "\n",
      " 94%|█████████▍| 4707/5000 [02:44<00:10, 28.38it/s]\u001b[A\n",
      " 94%|█████████▍| 4710/5000 [02:44<00:10, 28.59it/s]\u001b[A\n",
      " 94%|█████████▍| 4713/5000 [02:44<00:10, 28.52it/s]\u001b[A\n",
      " 94%|█████████▍| 4716/5000 [02:44<00:09, 28.48it/s]\u001b[A\n",
      " 94%|█████████▍| 4719/5000 [02:44<00:09, 28.27it/s]\u001b[A\n",
      " 94%|█████████▍| 4722/5000 [02:45<00:09, 28.35it/s]\u001b[A\n",
      " 94%|█████████▍| 4725/5000 [02:45<00:09, 28.34it/s]\u001b[A\n",
      " 95%|█████████▍| 4728/5000 [02:45<00:09, 28.29it/s]\u001b[A\n",
      " 95%|█████████▍| 4731/5000 [02:45<00:09, 28.30it/s]\u001b[A\n",
      " 95%|█████████▍| 4734/5000 [02:45<00:09, 28.30it/s]\u001b[A\n",
      " 95%|█████████▍| 4737/5000 [02:45<00:09, 28.35it/s]\u001b[A\n",
      " 95%|█████████▍| 4740/5000 [02:45<00:09, 28.33it/s]\u001b[A\n",
      " 95%|█████████▍| 4743/5000 [02:45<00:09, 28.22it/s]\u001b[A\n",
      " 95%|█████████▍| 4746/5000 [02:45<00:09, 28.20it/s]\u001b[A\n",
      " 95%|█████████▍| 4749/5000 [02:46<00:08, 28.25it/s]\u001b[A\n",
      " 95%|█████████▌| 4752/5000 [02:46<00:08, 27.85it/s]\u001b[A\n",
      " 95%|█████████▌| 4755/5000 [02:46<00:08, 28.35it/s]\u001b[A"
     ]
    },
    {
     "name": "stdout",
     "output_type": "stream",
     "text": [
      " iteration 4750, cost 0.2178\n"
     ]
    },
    {
     "name": "stderr",
     "output_type": "stream",
     "text": [
      "\n",
      " 95%|█████████▌| 4758/5000 [02:46<00:08, 28.41it/s]\u001b[A\n",
      " 95%|█████████▌| 4761/5000 [02:46<00:08, 28.65it/s]\u001b[A\n",
      " 95%|█████████▌| 4764/5000 [02:46<00:08, 28.64it/s]\u001b[A\n",
      " 95%|█████████▌| 4767/5000 [02:46<00:08, 28.89it/s]\u001b[A\n",
      " 95%|█████████▌| 4770/5000 [02:46<00:07, 29.05it/s]\u001b[A\n",
      " 95%|█████████▌| 4773/5000 [02:46<00:07, 29.13it/s]\u001b[A\n",
      " 96%|█████████▌| 4776/5000 [02:46<00:07, 29.12it/s]\u001b[A\n",
      " 96%|█████████▌| 4779/5000 [02:47<00:07, 29.22it/s]\u001b[A\n",
      " 96%|█████████▌| 4782/5000 [02:47<00:07, 29.32it/s]\u001b[A\n",
      " 96%|█████████▌| 4785/5000 [02:47<00:07, 29.27it/s]\u001b[A\n",
      " 96%|█████████▌| 4788/5000 [02:47<00:07, 29.17it/s]\u001b[A\n",
      " 96%|█████████▌| 4791/5000 [02:47<00:07, 29.24it/s]\u001b[A\n",
      " 96%|█████████▌| 4794/5000 [02:47<00:07, 29.28it/s]\u001b[A\n",
      " 96%|█████████▌| 4797/5000 [02:47<00:06, 29.08it/s]\u001b[A\n",
      " 96%|█████████▌| 4800/5000 [02:47<00:06, 28.88it/s]\u001b[A\n",
      " 96%|█████████▌| 4803/5000 [02:47<00:06, 28.89it/s]\u001b[A\n",
      " 96%|█████████▌| 4806/5000 [02:48<00:06, 28.83it/s]\u001b[A"
     ]
    },
    {
     "name": "stdout",
     "output_type": "stream",
     "text": [
      " iteration 4800, cost 0.2176\n"
     ]
    },
    {
     "name": "stderr",
     "output_type": "stream",
     "text": [
      "\n",
      " 96%|█████████▌| 4809/5000 [02:48<00:06, 28.61it/s]\u001b[A\n",
      " 96%|█████████▌| 4812/5000 [02:48<00:06, 28.83it/s]\u001b[A\n",
      " 96%|█████████▋| 4815/5000 [02:48<00:06, 28.42it/s]\u001b[A\n",
      " 96%|█████████▋| 4818/5000 [02:48<00:06, 28.63it/s]\u001b[A\n",
      " 96%|█████████▋| 4821/5000 [02:48<00:06, 28.70it/s]\u001b[A\n",
      " 96%|█████████▋| 4824/5000 [02:48<00:06, 28.84it/s]\u001b[A\n",
      " 97%|█████████▋| 4827/5000 [02:48<00:05, 28.86it/s]\u001b[A\n",
      " 97%|█████████▋| 4830/5000 [02:48<00:05, 28.48it/s]\u001b[A\n",
      " 97%|█████████▋| 4833/5000 [02:48<00:05, 28.37it/s]\u001b[A\n",
      " 97%|█████████▋| 4836/5000 [02:49<00:05, 28.33it/s]\u001b[A\n",
      " 97%|█████████▋| 4839/5000 [02:49<00:05, 28.61it/s]\u001b[A\n",
      " 97%|█████████▋| 4842/5000 [02:49<00:05, 28.65it/s]\u001b[A\n",
      " 97%|█████████▋| 4845/5000 [02:49<00:05, 28.76it/s]\u001b[A\n",
      " 97%|█████████▋| 4848/5000 [02:49<00:05, 28.84it/s]\u001b[A\n",
      " 97%|█████████▋| 4851/5000 [02:49<00:05, 28.85it/s]\u001b[A\n",
      " 97%|█████████▋| 4854/5000 [02:49<00:05, 29.14it/s]\u001b[A"
     ]
    },
    {
     "name": "stdout",
     "output_type": "stream",
     "text": [
      " iteration 4850, cost 0.2175\n"
     ]
    },
    {
     "name": "stderr",
     "output_type": "stream",
     "text": [
      "\n",
      " 97%|█████████▋| 4857/5000 [02:49<00:04, 29.14it/s]\u001b[A\n",
      " 97%|█████████▋| 4860/5000 [02:49<00:04, 29.18it/s]\u001b[A\n",
      " 97%|█████████▋| 4863/5000 [02:50<00:04, 29.28it/s]\u001b[A\n",
      " 97%|█████████▋| 4866/5000 [02:50<00:04, 29.38it/s]\u001b[A\n",
      " 97%|█████████▋| 4869/5000 [02:50<00:04, 29.50it/s]\u001b[A\n",
      " 97%|█████████▋| 4872/5000 [02:50<00:04, 29.51it/s]\u001b[A\n",
      " 98%|█████████▊| 4875/5000 [02:50<00:04, 29.27it/s]\u001b[A\n",
      " 98%|█████████▊| 4878/5000 [02:50<00:04, 29.36it/s]\u001b[A\n",
      " 98%|█████████▊| 4881/5000 [02:50<00:04, 29.51it/s]\u001b[A\n",
      " 98%|█████████▊| 4884/5000 [02:50<00:03, 29.06it/s]\u001b[A\n",
      " 98%|█████████▊| 4887/5000 [02:50<00:03, 28.88it/s]\u001b[A\n",
      " 98%|█████████▊| 4890/5000 [02:50<00:03, 28.94it/s]\u001b[A\n",
      " 98%|█████████▊| 4893/5000 [02:51<00:03, 28.72it/s]\u001b[A\n",
      " 98%|█████████▊| 4896/5000 [02:51<00:03, 28.61it/s]\u001b[A\n",
      " 98%|█████████▊| 4899/5000 [02:51<00:03, 27.86it/s]\u001b[A\n",
      " 98%|█████████▊| 4902/5000 [02:51<00:03, 28.05it/s]\u001b[A\n",
      " 98%|█████████▊| 4905/5000 [02:51<00:03, 28.41it/s]\u001b[A"
     ]
    },
    {
     "name": "stdout",
     "output_type": "stream",
     "text": [
      " iteration 4900, cost 0.2174\n"
     ]
    },
    {
     "name": "stderr",
     "output_type": "stream",
     "text": [
      "\n",
      " 98%|█████████▊| 4908/5000 [02:51<00:03, 28.63it/s]\u001b[A\n",
      " 98%|█████████▊| 4911/5000 [02:51<00:03, 28.70it/s]\u001b[A\n",
      " 98%|█████████▊| 4914/5000 [02:51<00:02, 28.83it/s]\u001b[A\n",
      " 98%|█████████▊| 4917/5000 [02:51<00:02, 28.93it/s]\u001b[A\n",
      " 98%|█████████▊| 4920/5000 [02:51<00:02, 28.88it/s]\u001b[A\n",
      " 98%|█████████▊| 4923/5000 [02:52<00:02, 28.65it/s]\u001b[A\n",
      " 99%|█████████▊| 4926/5000 [02:52<00:02, 28.80it/s]\u001b[A\n",
      " 99%|█████████▊| 4929/5000 [02:52<00:02, 28.74it/s]\u001b[A\n",
      " 99%|█████████▊| 4932/5000 [02:52<00:02, 28.70it/s]\u001b[A\n",
      " 99%|█████████▊| 4935/5000 [02:52<00:02, 28.70it/s]\u001b[A\n",
      " 99%|█████████▉| 4938/5000 [02:52<00:02, 28.94it/s]\u001b[A\n",
      " 99%|█████████▉| 4941/5000 [02:52<00:02, 28.75it/s]\u001b[A\n",
      " 99%|█████████▉| 4944/5000 [02:52<00:01, 28.64it/s]\u001b[A\n",
      " 99%|█████████▉| 4947/5000 [02:52<00:01, 28.54it/s]\u001b[A\n",
      " 99%|█████████▉| 4950/5000 [02:53<00:01, 28.33it/s]\u001b[A\n",
      " 99%|█████████▉| 4953/5000 [02:53<00:01, 28.34it/s]\u001b[A\n",
      " 99%|█████████▉| 4956/5000 [02:53<00:01, 28.53it/s]\u001b[A"
     ]
    },
    {
     "name": "stdout",
     "output_type": "stream",
     "text": [
      " iteration 4950, cost 0.2172\n"
     ]
    },
    {
     "name": "stderr",
     "output_type": "stream",
     "text": [
      "\n",
      " 99%|█████████▉| 4959/5000 [02:53<00:01, 28.38it/s]\u001b[A\n",
      " 99%|█████████▉| 4962/5000 [02:53<00:01, 28.81it/s]\u001b[A\n",
      " 99%|█████████▉| 4965/5000 [02:53<00:01, 28.56it/s]\u001b[A\n",
      " 99%|█████████▉| 4968/5000 [02:53<00:01, 28.48it/s]\u001b[A\n",
      " 99%|█████████▉| 4971/5000 [02:53<00:01, 28.43it/s]\u001b[A\n",
      " 99%|█████████▉| 4974/5000 [02:53<00:00, 28.27it/s]\u001b[A\n",
      "100%|█████████▉| 4977/5000 [02:53<00:00, 28.34it/s]\u001b[A\n",
      "100%|█████████▉| 4980/5000 [02:54<00:00, 28.38it/s]\u001b[A\n",
      "100%|█████████▉| 4983/5000 [02:54<00:00, 28.36it/s]\u001b[A\n",
      "100%|█████████▉| 4986/5000 [02:54<00:00, 28.23it/s]\u001b[A\n",
      "100%|█████████▉| 4989/5000 [02:54<00:00, 28.36it/s]\u001b[A\n",
      "100%|█████████▉| 4992/5000 [02:54<00:00, 28.35it/s]\u001b[A\n",
      "100%|█████████▉| 4995/5000 [02:54<00:00, 28.24it/s]\u001b[A\n",
      "100%|██████████| 5000/5000 [02:54<00:00, 28.61it/s]\u001b[A\n"
     ]
    }
   ],
   "source": [
    "# you can keep re-running this cell if you think the cost might decrease further\n",
    "\n",
    "cost = nn.MSELoss()\n",
    "\n",
    "niter = 5000 \n",
    "#niter = 5000\n",
    "#RNN_loss = 0.2173: LSTM_loss = 0.2144 ; GRU_loss = 0.2170\n",
    "for k in tqdm(range(niter)):\n",
    "    # the network outputs the single-neuron prediction and the latents\n",
    "    z, y = net(x1)\n",
    "\n",
    "    # our cost\n",
    "    loss = cost(z, x2)\n",
    "\n",
    "    # train the network as usual\n",
    "    loss.backward()\n",
    "    optimizer1.step()\n",
    "    optimizer1.zero_grad()\n",
    "\n",
    "    if k % 50 == 0:\n",
    "        print(f' iteration {k}, cost {loss.item():.4f}')"
   ]
  },
  {
   "cell_type": "code",
   "execution_count": 143,
   "metadata": {
    "id": "jryOMKdDJoEh"
   },
   "outputs": [],
   "source": [
    "test, hidden = net(x1)"
   ]
  },
  {
   "cell_type": "code",
   "execution_count": 144,
   "metadata": {
    "id": "EWMgTq0MAFTE"
   },
   "outputs": [],
   "source": [
    "x_test = torch.from_numpy(avgd_normed_dataRNN[10000,:]).to(device).float().unsqueeze(0).unsqueeze(2)"
   ]
  },
  {
   "cell_type": "code",
   "execution_count": 145,
   "metadata": {
    "colab": {
     "base_uri": "https://localhost:8080/",
     "height": 303
    },
    "id": "HY_xlS8k7BF8",
    "outputId": "ba25dab1-8bd5-4a86-94f5-1ae09a1b672f"
   },
   "outputs": [
    {
     "data": {
      "text/plain": [
       "[<matplotlib.lines.Line2D at 0x7f13c9bb16a0>]"
      ]
     },
     "execution_count": 145,
     "metadata": {},
     "output_type": "execute_result"
    },
    {
     "data": {
      "image/png": "[encoded data removed]",
      "text/plain": [
       "<Figure size 1440x288 with 1 Axes>"
      ]
     },
     "metadata": {
      "needs_background": "light"
     },
     "output_type": "display_data"
    }
   ],
   "source": [
    "plt.plot(x1[1,:,0].cpu().detach().numpy())\n",
    "plt.plot(test[1,:,0].cpu().detach().numpy())"
   ]
  },
  {
   "cell_type": "code",
   "execution_count": 47,
   "metadata": {
    "colab": {
     "base_uri": "https://localhost:8080/"
    },
    "collapsed": true,
    "id": "vvDDlEMhBad6",
    "outputId": "abd41fbd-b1f6-4cb4-ccd8-47ec05aaa335"
   },
   "outputs": [
    {
     "data": {
      "text/plain": [
       "torch.Size([10, 1])"
      ]
     },
     "execution_count": 47,
     "metadata": {
      "tags": []
     },
     "output_type": "execute_result"
    }
   ],
   "source": [
    "net.rnn.weight_ih_l0.shape"
   ]
  },
  {
   "cell_type": "code",
   "execution_count": 48,
   "metadata": {
    "colab": {
     "base_uri": "https://localhost:8080/"
    },
    "id": "Y096JCsBCN4Y",
    "outputId": "9dfea480-f41f-4d54-db85-1da2509c6660"
   },
   "outputs": [
    {
     "data": {
      "text/plain": [
       "torch.Size([10, 10])"
      ]
     },
     "execution_count": 48,
     "metadata": {
      "tags": []
     },
     "output_type": "execute_result"
    }
   ],
   "source": [
    "net.rnn.weight_hh_l0.shape"
   ]
  },
  {
   "cell_type": "code",
   "execution_count": 49,
   "metadata": {
    "id": "KdIwyjlmCk4x"
   },
   "outputs": [],
   "source": [
    "net2 = Net(ncomp, NN1, NN2, bidi = True).to(device)"
   ]
  },
  {
   "cell_type": "code",
   "execution_count": 52,
   "metadata": {
    "colab": {
     "base_uri": "https://localhost:8080/"
    },
    "id": "jpzgfTrzCtxp",
    "outputId": "c5c8b22c-a4e6-421d-ab84-88d41d1c69d6"
   },
   "outputs": [
    {
     "data": {
      "text/plain": [
       "(1, 1)"
      ]
     },
     "execution_count": 52,
     "metadata": {
      "tags": []
     },
     "output_type": "execute_result"
    }
   ],
   "source": [
    "NN1, NN2"
   ]
  },
  {
   "cell_type": "code",
   "execution_count": 50,
   "metadata": {
    "colab": {
     "base_uri": "https://localhost:8080/"
    },
    "id": "HvQbw3ukCm4B",
    "outputId": "89491c8f-3eb5-49ac-c90c-0e97c14bbeb0"
   },
   "outputs": [
    {
     "data": {
      "text/plain": [
       "torch.Size([10, 1])"
      ]
     },
     "execution_count": 50,
     "metadata": {
      "tags": []
     },
     "output_type": "execute_result"
    }
   ],
   "source": [
    "net2.rnn.weight_ih_l0.shape"
   ]
  }
 ],
 "metadata": {
  "accelerator": "GPU",
  "colab": {
   "collapsed_sections": [],
   "include_colab_link": true,
   "name": "Data_Loader.ipynb",
   "provenance": []
  },
  "kernelspec": {
   "display_name": "Python 3",
   "language": "python",
   "name": "python3"
  },
  "language_info": {
   "codemirror_mode": {
    "name": "ipython",
    "version": 3
   },
   "file_extension": ".py",
   "mimetype": "text/x-python",
   "name": "python",
   "nbconvert_exporter": "python",
   "pygments_lexer": "ipython3",
   "version": "3.8.10"
  },
  "widgets": {
   "application/vnd.jupyter.widget-state+json": {
    "32dcf54089bc45cbbc7ace38a12d88ff": {
     "model_module": "@jupyter-widgets/base",
     "model_module_version": "1.2.0",
     "model_name": "LayoutModel",
     "state": {
      "_model_module": "@jupyter-widgets/base",
      "_model_module_version": "1.2.0",
      "_model_name": "LayoutModel",
      "_view_count": null,
      "_view_module": "@jupyter-widgets/base",
      "_view_module_version": "1.2.0",
      "_view_name": "LayoutView",
      "align_content": null,
      "align_items": null,
      "align_self": null,
      "border": null,
      "bottom": null,
      "display": null,
      "flex": null,
      "flex_flow": null,
      "grid_area": null,
      "grid_auto_columns": null,
      "grid_auto_flow": null,
      "grid_auto_rows": null,
      "grid_column": null,
      "grid_gap": null,
      "grid_row": null,
      "grid_template_areas": null,
      "grid_template_columns": null,
      "grid_template_rows": null,
      "height": null,
      "justify_content": null,
      "justify_items": null,
      "left": null,
      "margin": null,
      "max_height": null,
      "max_width": null,
      "min_height": null,
      "min_width": null,
      "object_fit": null,
      "object_position": null,
      "order": null,
      "overflow": null,
      "overflow_x": null,
      "overflow_y": null,
      "padding": null,
      "right": null,
      "top": null,
      "visibility": null,
      "width": null
     }
    },
    "4e573a939d0c445b9e11bdcaf3c8098b": {
     "model_module": "@jupyter-widgets/controls",
     "model_module_version": "1.5.0",
     "model_name": "HBoxModel",
     "state": {
      "_dom_classes": [],
      "_model_module": "@jupyter-widgets/controls",
      "_model_module_version": "1.5.0",
      "_model_name": "HBoxModel",
      "_view_count": null,
      "_view_module": "@jupyter-widgets/controls",
      "_view_module_version": "1.5.0",
      "_view_name": "HBoxView",
      "box_style": "",
      "children": [
       "IPY_MODEL_e47ef23e2b144ea3ac0d313d52ab158d",
       "IPY_MODEL_6b88c683452f46869fa8d3431ce8c0f2"
      ],
      "layout": "IPY_MODEL_a22204bd65224165bf9a0ea65d1e5592"
     }
    },
    "5dd4e738c49542eab4ee6833cc62b146": {
     "model_module": "@jupyter-widgets/controls",
     "model_module_version": "1.5.0",
     "model_name": "DescriptionStyleModel",
     "state": {
      "_model_module": "@jupyter-widgets/controls",
      "_model_module_version": "1.5.0",
      "_model_name": "DescriptionStyleModel",
      "_view_count": null,
      "_view_module": "@jupyter-widgets/base",
      "_view_module_version": "1.2.0",
      "_view_name": "StyleView",
      "description_width": ""
     }
    },
    "6b88c683452f46869fa8d3431ce8c0f2": {
     "model_module": "@jupyter-widgets/controls",
     "model_module_version": "1.5.0",
     "model_name": "HTMLModel",
     "state": {
      "_dom_classes": [],
      "_model_module": "@jupyter-widgets/controls",
      "_model_module_version": "1.5.0",
      "_model_name": "HTMLModel",
      "_view_count": null,
      "_view_module": "@jupyter-widgets/controls",
      "_view_module_version": "1.5.0",
      "_view_name": "HTMLView",
      "description": "",
      "description_tooltip": null,
      "layout": "IPY_MODEL_8598ad26b4ee4da58c65a2b2741cd880",
      "placeholder": "​",
      "style": "IPY_MODEL_5dd4e738c49542eab4ee6833cc62b146",
      "value": " 1000/1000 [04:50&lt;00:00,  3.44it/s]"
     }
    },
    "8598ad26b4ee4da58c65a2b2741cd880": {
     "model_module": "@jupyter-widgets/base",
     "model_module_version": "1.2.0",
     "model_name": "LayoutModel",
     "state": {
      "_model_module": "@jupyter-widgets/base",
      "_model_module_version": "1.2.0",
      "_model_name": "LayoutModel",
      "_view_count": null,
      "_view_module": "@jupyter-widgets/base",
      "_view_module_version": "1.2.0",
      "_view_name": "LayoutView",
      "align_content": null,
      "align_items": null,
      "align_self": null,
      "border": null,
      "bottom": null,
      "display": null,
      "flex": null,
      "flex_flow": null,
      "grid_area": null,
      "grid_auto_columns": null,
      "grid_auto_flow": null,
      "grid_auto_rows": null,
      "grid_column": null,
      "grid_gap": null,
      "grid_row": null,
      "grid_template_areas": null,
      "grid_template_columns": null,
      "grid_template_rows": null,
      "height": null,
      "justify_content": null,
      "justify_items": null,
      "left": null,
      "margin": null,
      "max_height": null,
      "max_width": null,
      "min_height": null,
      "min_width": null,
      "object_fit": null,
      "object_position": null,
      "order": null,
      "overflow": null,
      "overflow_x": null,
      "overflow_y": null,
      "padding": null,
      "right": null,
      "top": null,
      "visibility": null,
      "width": null
     }
    },
    "a22204bd65224165bf9a0ea65d1e5592": {
     "model_module": "@jupyter-widgets/base",
     "model_module_version": "1.2.0",
     "model_name": "LayoutModel",
     "state": {
      "_model_module": "@jupyter-widgets/base",
      "_model_module_version": "1.2.0",
      "_model_name": "LayoutModel",
      "_view_count": null,
      "_view_module": "@jupyter-widgets/base",
      "_view_module_version": "1.2.0",
      "_view_name": "LayoutView",
      "align_content": null,
      "align_items": null,
      "align_self": null,
      "border": null,
      "bottom": null,
      "display": null,
      "flex": null,
      "flex_flow": null,
      "grid_area": null,
      "grid_auto_columns": null,
      "grid_auto_flow": null,
      "grid_auto_rows": null,
      "grid_column": null,
      "grid_gap": null,
      "grid_row": null,
      "grid_template_areas": null,
      "grid_template_columns": null,
      "grid_template_rows": null,
      "height": null,
      "justify_content": null,
      "justify_items": null,
      "left": null,
      "margin": null,
      "max_height": null,
      "max_width": null,
      "min_height": null,
      "min_width": null,
      "object_fit": null,
      "object_position": null,
      "order": null,
      "overflow": null,
      "overflow_x": null,
      "overflow_y": null,
      "padding": null,
      "right": null,
      "top": null,
      "visibility": null,
      "width": null
     }
    },
    "d626a6d0d4ca442da18e75016ca4603e": {
     "model_module": "@jupyter-widgets/controls",
     "model_module_version": "1.5.0",
     "model_name": "ProgressStyleModel",
     "state": {
      "_model_module": "@jupyter-widgets/controls",
      "_model_module_version": "1.5.0",
      "_model_name": "ProgressStyleModel",
      "_view_count": null,
      "_view_module": "@jupyter-widgets/base",
      "_view_module_version": "1.2.0",
      "_view_name": "StyleView",
      "bar_color": null,
      "description_width": "initial"
     }
    },
    "e47ef23e2b144ea3ac0d313d52ab158d": {
     "model_module": "@jupyter-widgets/controls",
     "model_module_version": "1.5.0",
     "model_name": "FloatProgressModel",
     "state": {
      "_dom_classes": [],
      "_model_module": "@jupyter-widgets/controls",
      "_model_module_version": "1.5.0",
      "_model_name": "FloatProgressModel",
      "_view_count": null,
      "_view_module": "@jupyter-widgets/controls",
      "_view_module_version": "1.5.0",
      "_view_name": "ProgressView",
      "bar_style": "success",
      "description": "100%",
      "description_tooltip": null,
      "layout": "IPY_MODEL_32dcf54089bc45cbbc7ace38a12d88ff",
      "max": 1000,
      "min": 0,
      "orientation": "horizontal",
      "style": "IPY_MODEL_d626a6d0d4ca442da18e75016ca4603e",
      "value": 1000
     }
    }
   }
  }
 },
 "nbformat": 4,
 "nbformat_minor": 1
}
