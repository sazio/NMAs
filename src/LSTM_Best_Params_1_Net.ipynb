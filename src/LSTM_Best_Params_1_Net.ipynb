{
 "cells": [
  {
   "cell_type": "markdown",
   "metadata": {
    "colab_type": "text",
    "id": "view-in-github"
   },
   "source": [
    "<a href=\"https://colab.research.google.com/github/sazio/NMAs/blob/main/src/LSTM_Best_Params_1_Net.ipynb\" target=\"_parent\"><img src=\"https://colab.research.google.com/assets/colab-badge.svg\" alt=\"Open In Colab\"/></a>"
   ]
  },
  {
   "cell_type": "markdown",
   "metadata": {
    "id": "ji-aTo7SA1AB"
   },
   "source": [
    "# Training LSTM Architecture: Unique Net for 9 Layers - with Best Params from Weight and Biases\n",
    "@authors: Simone Azeglio, Chetan Dhulipalla , Khalid Saifullah \n",
    "\n",
    "\n",
    "Part of the code here has been taken from [Neuromatch Academy's Computational Neuroscience Course](https://compneuro.neuromatch.io/projects/neurons/README.html), and specifically from [this notebook](https://colab.research.google.com/github/NeuromatchAcademy/course-content/blob/master/projects/neurons/load_stringer_spontaneous.ipynb)"
   ]
  },
  {
   "cell_type": "markdown",
   "metadata": {
    "id": "vs7e5ppCMYCK"
   },
   "source": [
    "## Loading of Stringer spontaneous data\n",
    "\n"
   ]
  },
  {
   "cell_type": "code",
   "execution_count": 1,
   "metadata": {
    "cellView": "form",
    "id": "u0nA90QhJurD"
   },
   "outputs": [],
   "source": [
    "#@title Data retrieval\n",
    "import os, requests\n",
    "\n",
    "fname = \"stringer_spontaneous.npy\"\n",
    "url = \"https://osf.io/dpqaj/download\"\n",
    "\n",
    "if not os.path.isfile(fname):\n",
    "    try:\n",
    "        r = requests.get(url)\n",
    "    except requests.ConnectionError:\n",
    "        print(\"!!! Failed to download data !!!\")\n",
    "    else:\n",
    "        if r.status_code != requests.codes.ok:\n",
    "            print(\"!!! Failed to download data !!!\")\n",
    "        else:\n",
    "            with open(fname, \"wb\") as fid:\n",
    "                fid.write(r.content)"
   ]
  },
  {
   "cell_type": "code",
   "execution_count": 2,
   "metadata": {
    "cellView": "form",
    "id": "FgbdwXWDSUpO"
   },
   "outputs": [],
   "source": [
    "#@title Import matplotlib and set defaults\n",
    "from matplotlib import rcParams \n",
    "from matplotlib import pyplot as plt\n",
    "rcParams['figure.figsize'] = [20, 4]\n",
    "rcParams['font.size'] =15\n",
    "rcParams['axes.spines.top'] = False\n",
    "rcParams['axes.spines.right'] = False\n",
    "rcParams['figure.autolayout'] = True"
   ]
  },
  {
   "cell_type": "markdown",
   "metadata": {
    "id": "SRWWoEX0-sYp"
   },
   "source": [
    "## Exploratory Data Analysis (EDA)"
   ]
  },
  {
   "cell_type": "code",
   "execution_count": 3,
   "metadata": {
    "colab": {
     "base_uri": "https://localhost:8080/"
    },
    "id": "6ulJ34TyRZo6",
    "outputId": "03b21ba5-b7f5-4448-ee01-5cae945d4dfe"
   },
   "outputs": [
    {
     "name": "stdout",
     "output_type": "stream",
     "text": [
      "dict_keys(['sresp', 'run', 'beh_svd_time', 'beh_svd_mask', 'stat', 'pupilArea', 'pupilCOM', 'xyz'])\n"
     ]
    }
   ],
   "source": [
    "#@title Data loading\n",
    "import numpy as np\n",
    "dat = np.load('stringer_spontaneous.npy', allow_pickle=True).item()\n",
    "print(dat.keys())"
   ]
  },
  {
   "cell_type": "markdown",
   "metadata": {
    "id": "ZdjYTZeV-yhR"
   },
   "source": [
    "## Extracting Data for RNN (or LFADS)\n",
    "The first problem to address is that for each layer we don't have the exact same number of neurons. We'd like to have a single RNN encoding all the different layers activities, to make it easier we can take the number of neurons ($N_{neurons} = 1131$ of the least represented class (layer) and level out each remaining class. "
   ]
  },
  {
   "cell_type": "code",
   "execution_count": 4,
   "metadata": {
    "id": "mEy_qiyKY1xG"
   },
   "outputs": [],
   "source": [
    "# Extract labels from z - coordinate\n",
    "from sklearn import preprocessing\n",
    "x, y, z = dat['xyz']\n",
    "\n",
    "le = preprocessing.LabelEncoder()\n",
    "labels = le.fit_transform(z)\n",
    "### least represented class (layer with less neurons)\n",
    "n_samples = np.histogram(labels, bins=9)[0][-1]"
   ]
  },
  {
   "cell_type": "code",
   "execution_count": 5,
   "metadata": {
    "id": "lb3M2PSOZpMW"
   },
   "outputs": [],
   "source": [
    "### Data for LFADS / RNN \n",
    "import pandas as pd \n",
    "dataSet = pd.DataFrame(dat[\"sresp\"])\n",
    "dataSet[\"label\"] = labels "
   ]
  },
  {
   "cell_type": "code",
   "execution_count": 6,
   "metadata": {
    "id": "fYThvxV-2Nl6"
   },
   "outputs": [],
   "source": [
    "# it can be done in one loop ... \n",
    "data_ = []\n",
    "for i in range(0, 9):\n",
    "    data_.append(dataSet[dataSet[\"label\"] == i].sample(n = n_samples).iloc[:,:-1].values)\n",
    "\n",
    "dataRNN = np.zeros((n_samples, dataSet.shape[1]-1, 9))\n",
    "for i in range(0,9):\n",
    "    \n",
    "    # dataRNN[n_samples*i:n_samples*(i+1), :] = data_[i]\n",
    "    ## normalized by layer\n",
    "    dataRNN[:, :, i] = data_[i]/np.mean(np.asarray(data_)[i,:,:], axis = 0)\n",
    "\n"
   ]
  },
  {
   "cell_type": "code",
   "execution_count": 7,
   "metadata": {
    "id": "5RxJwEXgLCiW"
   },
   "outputs": [],
   "source": [
    "# functions \n",
    "\n",
    "def moving_avg(array, factor = 2):\n",
    "    \"\"\"Reducing the number of compontents by averaging of N = factor\n",
    "    subsequent elements of array\"\"\"\n",
    "    #zeros_ = np.zeros((array.shape[0], 2))\n",
    "    #array = np.hstack((array, zeros_))\n",
    "    \n",
    "    array = np.reshape(array, (array.shape[0],  int(array.shape[1]/factor), factor, array.shape[2]))\n",
    "    array = np.mean(array, axis = 2)\n",
    "\n",
    "    return array"
   ]
  },
  {
   "cell_type": "code",
   "execution_count": 8,
   "metadata": {
    "id": "hE-4w_4V-Gzx"
   },
   "outputs": [],
   "source": [
    "# downsampling and averaging \n",
    "avgd_normed_dataRNN = moving_avg(dataRNN, factor=2)"
   ]
  },
  {
   "cell_type": "code",
   "execution_count": 9,
   "metadata": {
    "colab": {
     "base_uri": "https://localhost:8080/"
    },
    "id": "plDmPhFzLCiW",
    "outputId": "cbe11e4d-4e68-406e-8223-88ada0bd6202"
   },
   "outputs": [
    {
     "data": {
      "text/plain": [
       "(1131, 3509, 9)"
      ]
     },
     "execution_count": 9,
     "metadata": {},
     "output_type": "execute_result"
    }
   ],
   "source": [
    "avgd_normed_dataRNN.shape"
   ]
  },
  {
   "cell_type": "code",
   "execution_count": 10,
   "metadata": {
    "colab": {
     "base_uri": "https://localhost:8080/",
     "height": 284
    },
    "id": "rIoBNGiFHZFy",
    "outputId": "0c81713f-cbcb-446e-ebc3-aa971415fb70"
   },
   "outputs": [
    {
     "data": {
      "text/plain": [
       "[<matplotlib.lines.Line2D at 0x7f5e83873210>]"
      ]
     },
     "execution_count": 10,
     "metadata": {},
     "output_type": "execute_result"
    },
    {
     "data": {
      "image/png": "[encoded data removed]",
      "text/plain": [
       "<Figure size 1440x288 with 1 Axes>"
      ]
     },
     "metadata": {
      "needs_background": "light"
     },
     "output_type": "display_data"
    }
   ],
   "source": [
    "plt.plot(avgd_normed_dataRNN[1,:, 0])"
   ]
  },
  {
   "cell_type": "markdown",
   "metadata": {
    "id": "SeNxo6vsv1Oq"
   },
   "source": [
    "issue: does the individual scaling by layer introduce bias that may artificially increase performance of the network?"
   ]
  },
  {
   "cell_type": "markdown",
   "metadata": {
    "id": "0MrXC5QIiyhJ"
   },
   "source": [
    "## Data Loader \n"
   ]
  },
  {
   "cell_type": "code",
   "execution_count": 11,
   "metadata": {
    "id": "255tz5iqmSq1"
   },
   "outputs": [],
   "source": [
    "import torch\n",
    "import torch.nn as nn\n",
    "import torch.nn.functional as F\n",
    "torch.cuda.empty_cache()"
   ]
  },
  {
   "cell_type": "code",
   "execution_count": 12,
   "metadata": {
    "colab": {
     "base_uri": "https://localhost:8080/",
     "height": 35
    },
    "id": "YzrlwO9SLCiY",
    "outputId": "ef4e0180-15a8-4846-83dd-84b4878d2851"
   },
   "outputs": [
    {
     "data": {
      "application/vnd.google.colaboratory.intrinsic+json": {
       "type": "string"
      },
      "text/plain": [
       "'1.9.0+cu102'"
      ]
     },
     "execution_count": 12,
     "metadata": {},
     "output_type": "execute_result"
    }
   ],
   "source": [
    "torch.__version__"
   ]
  },
  {
   "cell_type": "code",
   "execution_count": 13,
   "metadata": {
    "id": "467WOHhtmXmb"
   },
   "outputs": [],
   "source": [
    "device = torch.device('cuda' if torch.cuda.is_available() else 'cpu')"
   ]
  },
  {
   "cell_type": "code",
   "execution_count": 14,
   "metadata": {
    "id": "Dcb5vW2joVW_"
   },
   "outputs": [],
   "source": [
    "# set the seed\n",
    "np.random.seed(42)\n",
    "\n",
    "# number of neurons \n",
    "NN = dataRNN.shape[0]"
   ]
  },
  {
   "cell_type": "code",
   "execution_count": 15,
   "metadata": {
    "colab": {
     "base_uri": "https://localhost:8080/"
    },
    "id": "bXJPQdu17Ns5",
    "outputId": "771b218e-5fc7-44a2-b6bf-46501f031ecf"
   },
   "outputs": [
    {
     "data": {
      "text/plain": [
       "(1131, 3509, 9)"
      ]
     },
     "execution_count": 15,
     "metadata": {},
     "output_type": "execute_result"
    }
   ],
   "source": [
    "# swapping the axes to maintain consistency with seq2seq notebook in the following code - the network takes all the neurons at a time step as input, not just one neuron\n",
    "\n",
    "# avgd_normed_dataRNN = np.swapaxes(avgd_normed_dataRNN, 0, 1)\n",
    "avgd_normed_dataRNN.shape"
   ]
  },
  {
   "cell_type": "code",
   "execution_count": 16,
   "metadata": {
    "id": "Prl0OxLZkka9"
   },
   "outputs": [],
   "source": [
    "frac = 4/5\n",
    "\n",
    "#x1 = torch.from_numpy(dataRNN[:,:int(frac*dataRNN.shape[1])]).to(device).float().unsqueeze(0)\n",
    "#x2 = torch.from_numpy(dataRNN[:,int(frac*dataRNN.shape[1]):]).to(device).float().unsqueeze(0)\n",
    "#x1 = torch.from_numpy(avgd_normed_dataRNN[:1131,:]).to(device).float().unsqueeze(2)\n",
    "#x2 = torch.from_numpy(avgd_normed_dataRNN[:1131,:]).to(device).float().unsqueeze(2)\n",
    "\n",
    "#n_neurs = 1131\n",
    "# let's use n_neurs/10 latent components\n",
    "ncomp = 75 #int(n_neurs/10)\n",
    "\n",
    "x1_train = torch.from_numpy(avgd_normed_dataRNN[:,:int(frac*avgd_normed_dataRNN.shape[1]), : ]).to(device).float()\n",
    "x2_train = torch.from_numpy(avgd_normed_dataRNN[:,:int(frac*avgd_normed_dataRNN.shape[1]),: ]).to(device).float()\n",
    "\n",
    "x1_valid = torch.from_numpy(avgd_normed_dataRNN[:,int(frac*avgd_normed_dataRNN.shape[1]):, :] ).to(device).float()\n",
    "x2_valid = torch.from_numpy(avgd_normed_dataRNN[:,int(frac*avgd_normed_dataRNN.shape[1]):, :]).to(device).float()\n",
    "\n",
    "NN1 = x1_train.shape[0]\n",
    "NN2 = x2_train.shape[0]\n"
   ]
  },
  {
   "cell_type": "code",
   "execution_count": 17,
   "metadata": {
    "id": "01IvhjPzk-Jw"
   },
   "outputs": [],
   "source": [
    "class Net(nn.Module):\n",
    "    def __init__(self, ncomp, NN1, NN2, bidi=True):\n",
    "        super(Net, self).__init__()\n",
    "\n",
    "        # play with some of the options in the RNN!\n",
    "        \n",
    "        self.rnn = nn.LSTM(NN1, ncomp, num_layers = 1, dropout = 0.3,\n",
    "                         bidirectional = bidi)\n",
    "        \"\"\"\n",
    "        self.rnn = nn.RNN(NN1, ncomp, num_layers = 1, dropout = 0,\n",
    "                    bidirectional = bidi, nonlinearity = 'tanh')\n",
    "        self.rnn = nn.GRU(NN1, ncomp, num_layers = 1, dropout = 0,\n",
    "                         bidirectional = bidi)\n",
    "        \"\"\"\n",
    "        \n",
    "        self.mlp = nn.Sequential(\n",
    "                    nn.Linear(ncomp, ncomp*2),\n",
    "                    nn.Mish(),\n",
    "                    nn.Linear(ncomp*2, ncomp*2),\n",
    "                    nn.Mish(),\n",
    "                    nn.Dropout(0.25),\n",
    "                    nn.Linear(ncomp*2, ncomp), \n",
    "                    nn.Mish())\n",
    "        \n",
    "        self.fc = nn.Linear(ncomp, NN2)\n",
    "\n",
    "    def forward(self, x):\n",
    "        x = x.permute(1, 2, 0)\n",
    "        #print(x.shape)\n",
    "        # h_0 = torch.zeros(2, x.size()[1], self.ncomp).to(device)\n",
    "        \n",
    "        y, h_n = self.rnn(x)\n",
    "\n",
    "        #print(y.shape)\n",
    "        #print(h_n.shape)\n",
    "        if self.rnn.bidirectional:\n",
    "          # if the rnn is bidirectional, it concatenates the activations from the forward and backward pass\n",
    "          # we want to add them instead, so as to enforce the latents to match between the forward and backward pass\n",
    "            q = (y[:, :, :ncomp] + y[:, :, ncomp:])/2\n",
    "        else:\n",
    "            q = y\n",
    "        \n",
    "        q = self.mlp(q)\n",
    "\n",
    "        # the softplus function is just like a relu but it's smoothed out so we can't predict 0\n",
    "        # if we predict 0 and there was a spike, that's an instant Inf in the Poisson log-likelihood which leads to failure\n",
    "        #z = F.softplus(self.fc(q), 10)\n",
    "        #print(q.shape)\n",
    "        z = self.fc(q).permute(2, 0, 1)\n",
    "        # print(z.shape)\n",
    "        return z, q"
   ]
  },
  {
   "cell_type": "code",
   "execution_count": 18,
   "metadata": {
    "colab": {
     "base_uri": "https://localhost:8080/"
    },
    "id": "sQGEVQaGmwV6",
    "outputId": "cedeb082-e84e-4c1c-92d2-590d8a99696c"
   },
   "outputs": [
    {
     "name": "stderr",
     "output_type": "stream",
     "text": [
      "/usr/local/lib/python3.7/dist-packages/torch/nn/modules/rnn.py:65: UserWarning: dropout option adds dropout after all but last recurrent layer, so non-zero dropout expects num_layers greater than 1, but got dropout=0.3 and num_layers=1\n",
      "  \"num_layers={}\".format(dropout, num_layers))\n"
     ]
    }
   ],
   "source": [
    "# we initialize the neural network\n",
    "net = Net(ncomp, NN1, NN2, bidi = True).to(device)\n",
    "\n",
    "# special thing:  we initialize the biases of the last layer in the neural network\n",
    "# we set them as the mean firing rates of the neurons.\n",
    "# this should make the initial predictions close to the mean, because the latents don't contribute much\n",
    "# net.fc.bias.data[:] = x1_train.mean(axis = (0,1))\n",
    "\n",
    "# we set up the optimizer. Adjust the learning rate if the training is slow or if it explodes.\n",
    "#optimizer1 = torch.optim.Adam(net.parameters(), lr= 0.0003795, weight_decay= 10e-6)\n",
    "# optimizer2 = torch.optim.SGD(net.parameters(), lr = 0.0001, momentum = 0.9, weight_decay = 0.01, )\n",
    "# optimizer3 = torch.optim."
   ]
  },
  {
   "cell_type": "code",
   "execution_count": 19,
   "metadata": {
    "colab": {
     "base_uri": "https://localhost:8080/"
    },
    "id": "SzvKjuTvmwYa",
    "outputId": "e502b8ad-abef-4f80-d428-9cd39dd345dc"
   },
   "outputs": [
    {
     "data": {
      "text/plain": [
       "(tensor([[[ 0.0264,  0.0243,  0.0226,  ...,  0.0161,  0.0247,  0.0277],\n",
       "          [ 0.0217,  0.0291,  0.0340,  ...,  0.0323,  0.0254,  0.0321],\n",
       "          [ 0.0277,  0.0204,  0.0317,  ...,  0.0137,  0.0123,  0.0190],\n",
       "          ...,\n",
       "          [ 0.0372,  0.0203,  0.0197,  ...,  0.0166,  0.0295,  0.0270],\n",
       "          [ 0.0362,  0.0068,  0.0120,  ...,  0.0203,  0.0225,  0.0380],\n",
       "          [ 0.0349,  0.0112,  0.0343,  ...,  0.0291,  0.0241,  0.0356]],\n",
       " \n",
       "         [[-0.0509, -0.0417, -0.0363,  ..., -0.0456, -0.0503, -0.0309],\n",
       "          [-0.0431, -0.0398, -0.0485,  ..., -0.0542, -0.0413, -0.0549],\n",
       "          [-0.0483, -0.0355, -0.0446,  ..., -0.0443, -0.0438, -0.0453],\n",
       "          ...,\n",
       "          [-0.0432, -0.0429, -0.0338,  ..., -0.0419, -0.0375, -0.0406],\n",
       "          [-0.0533, -0.0416, -0.0533,  ..., -0.0471, -0.0390, -0.0343],\n",
       "          [-0.0474, -0.0401, -0.0412,  ..., -0.0453, -0.0385, -0.0362]],\n",
       " \n",
       "         [[ 0.0296,  0.0065,  0.0104,  ...,  0.0178,  0.0268,  0.0223],\n",
       "          [ 0.0153,  0.0090,  0.0081,  ...,  0.0310,  0.0205,  0.0217],\n",
       "          [ 0.0150,  0.0072,  0.0122,  ...,  0.0158,  0.0138,  0.0196],\n",
       "          ...,\n",
       "          [ 0.0086,  0.0026,  0.0215,  ...,  0.0133,  0.0049,  0.0218],\n",
       "          [ 0.0099,  0.0086,  0.0139,  ...,  0.0217, -0.0003,  0.0332],\n",
       "          [ 0.0164,  0.0173,  0.0190,  ...,  0.0144,  0.0113,  0.0249]],\n",
       " \n",
       "         ...,\n",
       " \n",
       "         [[-0.0430, -0.0616, -0.0495,  ..., -0.0477, -0.0490, -0.0506],\n",
       "          [-0.0506, -0.0399, -0.0360,  ..., -0.0446, -0.0441, -0.0637],\n",
       "          [-0.0431, -0.0573, -0.0416,  ..., -0.0633, -0.0528, -0.0766],\n",
       "          ...,\n",
       "          [-0.0477, -0.0585, -0.0532,  ..., -0.0598, -0.0533, -0.0536],\n",
       "          [-0.0517, -0.0526, -0.0500,  ..., -0.0526, -0.0558, -0.0438],\n",
       "          [-0.0452, -0.0519, -0.0623,  ..., -0.0538, -0.0530, -0.0544]],\n",
       " \n",
       "         [[-0.0963, -0.0938, -0.0856,  ..., -0.0852, -0.0924, -0.0897],\n",
       "          [-0.0969, -0.0736, -0.0890,  ..., -0.0789, -0.0954, -0.0982],\n",
       "          [-0.0966, -0.1033, -0.0918,  ..., -0.0858, -0.1033, -0.0954],\n",
       "          ...,\n",
       "          [-0.0973, -0.0898, -0.0939,  ..., -0.0921, -0.0806, -0.0942],\n",
       "          [-0.0919, -0.0797, -0.0998,  ..., -0.1022, -0.0952, -0.0888],\n",
       "          [-0.0849, -0.0917, -0.0994,  ..., -0.0898, -0.1003, -0.1039]],\n",
       " \n",
       "         [[-0.0259,  0.0017, -0.0128,  ..., -0.0124, -0.0116, -0.0210],\n",
       "          [-0.0194, -0.0136, -0.0258,  ..., -0.0259, -0.0134, -0.0216],\n",
       "          [-0.0212, -0.0104, -0.0191,  ..., -0.0050, -0.0038, -0.0209],\n",
       "          ...,\n",
       "          [-0.0239, -0.0091, -0.0116,  ..., -0.0243, -0.0172, -0.0218],\n",
       "          [-0.0241,  0.0055, -0.0126,  ..., -0.0281, -0.0182, -0.0321],\n",
       "          [-0.0230, -0.0002, -0.0277,  ..., -0.0229, -0.0147, -0.0304]]],\n",
       "        device='cuda:0', grad_fn=<PermuteBackward>),\n",
       " tensor([[[-9.5238e-03, -5.6166e-02, -1.4161e-02,  ...,  1.1195e-02,\n",
       "           -3.0719e-03, -2.1223e-02],\n",
       "          [-3.0547e-02, -6.8735e-02,  1.5063e-02,  ..., -5.7297e-03,\n",
       "           -1.8385e-02, -2.5464e-02],\n",
       "          [-7.4769e-03, -6.2890e-02, -3.5519e-03,  ...,  1.4758e-02,\n",
       "           -2.9621e-02, -1.0054e-02],\n",
       "          ...,\n",
       "          [-1.7908e-02, -6.7367e-02, -2.7838e-04,  ...,  9.9029e-03,\n",
       "           -3.0112e-02, -4.0345e-02],\n",
       "          [-1.7750e-03, -6.0075e-02,  4.0819e-03,  ...,  3.7147e-02,\n",
       "           -2.4269e-02, -1.7135e-03],\n",
       "          [-2.6449e-02, -3.5557e-02,  1.3879e-02,  ...,  1.2253e-02,\n",
       "           -2.3393e-02, -1.9826e-02]],\n",
       " \n",
       "         [[-2.7373e-03, -5.4071e-02, -1.5496e-03,  ...,  2.7867e-02,\n",
       "           -3.0828e-02, -3.5051e-02],\n",
       "          [-3.3773e-02, -5.1644e-02, -7.4087e-03,  ..., -9.9527e-04,\n",
       "           -2.2312e-02, -3.3135e-04],\n",
       "          [-5.9627e-03, -4.9831e-02, -2.2756e-02,  ..., -1.7291e-03,\n",
       "            4.7853e-03, -2.4245e-02],\n",
       "          ...,\n",
       "          [-2.2297e-02, -6.3652e-02, -1.6214e-02,  ...,  2.2298e-02,\n",
       "           -3.4788e-02, -4.7672e-02],\n",
       "          [-2.5527e-02, -5.9509e-02,  5.9079e-03,  ...,  1.5905e-02,\n",
       "           -2.6699e-02, -3.9294e-02],\n",
       "          [-1.4835e-02, -7.3437e-02,  1.4473e-02,  ...,  2.5595e-02,\n",
       "           -2.2129e-02, -4.1185e-02]],\n",
       " \n",
       "         [[-6.0222e-03, -5.8831e-02, -8.3258e-03,  ...,  1.0927e-02,\n",
       "           -2.4500e-02, -1.6409e-02],\n",
       "          [-2.0102e-02, -7.4358e-02,  2.4878e-02,  ...,  1.0612e-02,\n",
       "           -1.1724e-02, -2.5881e-02],\n",
       "          [ 3.5869e-05, -6.0804e-02, -1.1818e-02,  ...,  4.4156e-04,\n",
       "           -1.7178e-02, -2.9710e-02],\n",
       "          ...,\n",
       "          [-8.9501e-03, -6.3660e-02,  1.3949e-02,  ...,  1.0380e-02,\n",
       "           -3.8716e-02, -3.1963e-02],\n",
       "          [-1.9033e-02, -6.8261e-02,  2.3023e-02,  ...,  1.2525e-02,\n",
       "           -5.4144e-03,  2.1643e-03],\n",
       "          [-8.4785e-03, -7.2343e-02,  5.7615e-03,  ...,  4.8771e-02,\n",
       "           -2.5478e-02, -3.6370e-02]],\n",
       " \n",
       "         ...,\n",
       " \n",
       "         [[-6.6954e-03, -8.3329e-02, -6.0982e-03,  ..., -8.4499e-03,\n",
       "           -1.8151e-02,  8.9550e-03],\n",
       "          [-1.0750e-02, -6.2704e-02, -1.9676e-02,  ...,  1.6352e-02,\n",
       "           -1.2179e-02, -9.6237e-03],\n",
       "          [-6.2080e-04, -5.1182e-02,  1.3784e-02,  ...,  1.4189e-02,\n",
       "           -3.4990e-02, -3.5342e-02],\n",
       "          ...,\n",
       "          [-1.7743e-02, -5.3877e-02,  1.2960e-02,  ...,  3.2450e-02,\n",
       "           -2.6801e-02, -2.2754e-02],\n",
       "          [-3.0544e-02, -4.6871e-02,  7.8550e-03,  ..., -3.0181e-03,\n",
       "           -3.0850e-02, -1.7125e-02],\n",
       "          [-1.0090e-02, -6.2432e-02,  4.2162e-04,  ...,  2.8738e-02,\n",
       "           -1.1030e-02, -3.0020e-02]],\n",
       " \n",
       "         [[-2.8931e-02, -6.9238e-02, -7.3846e-03,  ...,  1.4666e-02,\n",
       "           -1.8249e-02, -1.3113e-02],\n",
       "          [ 8.6836e-04, -6.3413e-02,  5.6984e-03,  ...,  2.3951e-02,\n",
       "           -2.8278e-02, -1.1860e-02],\n",
       "          [-1.3902e-02, -8.5512e-02, -1.6921e-02,  ...,  1.1097e-02,\n",
       "           -7.9550e-03, -3.4485e-02],\n",
       "          ...,\n",
       "          [-3.1525e-02, -5.4486e-02,  1.0966e-02,  ...,  2.2773e-02,\n",
       "           -1.7799e-02, -3.3985e-02],\n",
       "          [-3.6482e-02, -3.8961e-02,  3.9609e-02,  ...,  1.8110e-02,\n",
       "           -3.5057e-03, -8.9765e-03],\n",
       "          [-6.0208e-03, -4.5071e-02, -5.9443e-03,  ...,  3.1637e-02,\n",
       "           -1.3587e-02, -4.6734e-02]],\n",
       " \n",
       "         [[-2.4989e-02, -7.7709e-02, -1.1282e-02,  ...,  3.1109e-02,\n",
       "           -2.1804e-02, -1.0728e-02],\n",
       "          [-1.9826e-02, -6.5158e-02,  1.2139e-03,  ..., -4.1239e-06,\n",
       "           -4.9709e-02, -2.8257e-02],\n",
       "          [-3.0692e-02, -6.1843e-02, -1.2256e-02,  ...,  2.9128e-02,\n",
       "           -7.9167e-03, -9.3662e-03],\n",
       "          ...,\n",
       "          [-2.2202e-02, -5.5624e-02, -6.6139e-03,  ...,  1.4727e-02,\n",
       "           -1.5210e-02, -2.6660e-02],\n",
       "          [-1.3328e-02, -4.4542e-02,  3.9118e-03,  ..., -1.4619e-03,\n",
       "            4.9087e-04, -1.4446e-02],\n",
       "          [-1.7126e-02, -5.4298e-02,  1.9954e-02,  ...,  3.2777e-02,\n",
       "           -2.8462e-02, -3.3927e-02]]], device='cuda:0', grad_fn=<MishBackward>))"
      ]
     },
     "execution_count": 19,
     "metadata": {},
     "output_type": "execute_result"
    }
   ],
   "source": [
    "# forward check \n",
    "# net(x1)\n",
    "net(x1_train)"
   ]
  },
  {
   "cell_type": "markdown",
   "metadata": {
    "id": "2hlfx8Ltp5jJ"
   },
   "source": [
    "## Training "
   ]
  },
  {
   "cell_type": "code",
   "execution_count": null,
   "metadata": {
    "id": "jrQkQxGdMFsX"
   },
   "outputs": [],
   "source": [
    "!pip3 install tqdm --quiet"
   ]
  },
  {
   "cell_type": "code",
   "execution_count": 20,
   "metadata": {
    "id": "KjzD06B9ta3n"
   },
   "outputs": [],
   "source": []
  },
  {
   "cell_type": "code",
   "execution_count": 22,
   "metadata": {
    "colab": {
     "base_uri": "https://localhost:8080/",
     "height": 426
    },
    "id": "e5REhdgsHZF2",
    "outputId": "2b476ccb-1508-4585-9d98-a288a27e9e7a",
    "scrolled": true
   },
   "outputs": [
    {
     "name": "stderr",
     "output_type": "stream",
     "text": [
      "  0%|          | 1/50000 [00:01<16:17:27,  1.17s/it]"
     ]
    },
    {
     "name": "stdout",
     "output_type": "stream",
     "text": [
      " iteration 0, train cost 3.5253, valid cost 3.6255\n"
     ]
    },
    {
     "name": "stderr",
     "output_type": "stream",
     "text": [
      "  0%|          | 33/50000 [00:32<13:39:01,  1.02it/s]\n"
     ]
    },
    {
     "ename": "KeyboardInterrupt",
     "evalue": "ignored",
     "output_type": "error",
     "traceback": [
      "\u001b[0;31m---------------------------------------------------------------------------\u001b[0m",
      "\u001b[0;31mKeyboardInterrupt\u001b[0m                         Traceback (most recent call last)",
      "\u001b[0;32m<ipython-input-22-b196cfbc461c>\u001b[0m in \u001b[0;36m<module>\u001b[0;34m()\u001b[0m\n\u001b[1;32m     24\u001b[0m     \u001b[0mloss\u001b[0m\u001b[0;34m.\u001b[0m\u001b[0mbackward\u001b[0m\u001b[0;34m(\u001b[0m\u001b[0;34m)\u001b[0m\u001b[0;34m\u001b[0m\u001b[0;34m\u001b[0m\u001b[0m\n\u001b[1;32m     25\u001b[0m     \u001b[0moptimizer\u001b[0m\u001b[0;34m.\u001b[0m\u001b[0mfirst_step\u001b[0m\u001b[0;34m(\u001b[0m\u001b[0mzero_grad\u001b[0m \u001b[0;34m=\u001b[0m \u001b[0;32mTrue\u001b[0m\u001b[0;34m)\u001b[0m\u001b[0;34m\u001b[0m\u001b[0;34m\u001b[0m\u001b[0m\n\u001b[0;32m---> 26\u001b[0;31m     \u001b[0mcost\u001b[0m\u001b[0;34m(\u001b[0m\u001b[0mnet\u001b[0m\u001b[0;34m(\u001b[0m\u001b[0mx1_train\u001b[0m\u001b[0;34m)\u001b[0m\u001b[0;34m[\u001b[0m\u001b[0;36m0\u001b[0m\u001b[0;34m]\u001b[0m\u001b[0;34m,\u001b[0m\u001b[0mx2_train\u001b[0m\u001b[0;34m)\u001b[0m\u001b[0;34m.\u001b[0m\u001b[0mbackward\u001b[0m\u001b[0;34m(\u001b[0m\u001b[0;34m)\u001b[0m\u001b[0;34m\u001b[0m\u001b[0;34m\u001b[0m\u001b[0m\n\u001b[0m\u001b[1;32m     27\u001b[0m \u001b[0;34m\u001b[0m\u001b[0m\n\u001b[1;32m     28\u001b[0m     \u001b[0moptimizer\u001b[0m\u001b[0;34m.\u001b[0m\u001b[0msecond_step\u001b[0m\u001b[0;34m(\u001b[0m\u001b[0mzero_grad\u001b[0m\u001b[0;34m=\u001b[0m\u001b[0;32mTrue\u001b[0m\u001b[0;34m)\u001b[0m\u001b[0;34m\u001b[0m\u001b[0;34m\u001b[0m\u001b[0m\n",
      "\u001b[0;32m/usr/local/lib/python3.7/dist-packages/torch/nn/modules/module.py\u001b[0m in \u001b[0;36m_call_impl\u001b[0;34m(self, *input, **kwargs)\u001b[0m\n\u001b[1;32m   1049\u001b[0m         if not (self._backward_hooks or self._forward_hooks or self._forward_pre_hooks or _global_backward_hooks\n\u001b[1;32m   1050\u001b[0m                 or _global_forward_hooks or _global_forward_pre_hooks):\n\u001b[0;32m-> 1051\u001b[0;31m             \u001b[0;32mreturn\u001b[0m \u001b[0mforward_call\u001b[0m\u001b[0;34m(\u001b[0m\u001b[0;34m*\u001b[0m\u001b[0minput\u001b[0m\u001b[0;34m,\u001b[0m \u001b[0;34m**\u001b[0m\u001b[0mkwargs\u001b[0m\u001b[0;34m)\u001b[0m\u001b[0;34m\u001b[0m\u001b[0;34m\u001b[0m\u001b[0m\n\u001b[0m\u001b[1;32m   1052\u001b[0m         \u001b[0;31m# Do not call functions when jit is used\u001b[0m\u001b[0;34m\u001b[0m\u001b[0;34m\u001b[0m\u001b[0;34m\u001b[0m\u001b[0m\n\u001b[1;32m   1053\u001b[0m         \u001b[0mfull_backward_hooks\u001b[0m\u001b[0;34m,\u001b[0m \u001b[0mnon_full_backward_hooks\u001b[0m \u001b[0;34m=\u001b[0m \u001b[0;34m[\u001b[0m\u001b[0;34m]\u001b[0m\u001b[0;34m,\u001b[0m \u001b[0;34m[\u001b[0m\u001b[0;34m]\u001b[0m\u001b[0;34m\u001b[0m\u001b[0;34m\u001b[0m\u001b[0m\n",
      "\u001b[0;32m<ipython-input-17-8fb8bd8029c4>\u001b[0m in \u001b[0;36mforward\u001b[0;34m(self, x)\u001b[0m\n\u001b[1;32m     37\u001b[0m           \u001b[0;31m# if the rnn is bidirectional, it concatenates the activations from the forward and backward pass\u001b[0m\u001b[0;34m\u001b[0m\u001b[0;34m\u001b[0m\u001b[0;34m\u001b[0m\u001b[0m\n\u001b[1;32m     38\u001b[0m           \u001b[0;31m# we want to add them instead, so as to enforce the latents to match between the forward and backward pass\u001b[0m\u001b[0;34m\u001b[0m\u001b[0;34m\u001b[0m\u001b[0;34m\u001b[0m\u001b[0m\n\u001b[0;32m---> 39\u001b[0;31m             \u001b[0mq\u001b[0m \u001b[0;34m=\u001b[0m \u001b[0;34m(\u001b[0m\u001b[0my\u001b[0m\u001b[0;34m[\u001b[0m\u001b[0;34m:\u001b[0m\u001b[0;34m,\u001b[0m \u001b[0;34m:\u001b[0m\u001b[0;34m,\u001b[0m \u001b[0;34m:\u001b[0m\u001b[0mncomp\u001b[0m\u001b[0;34m]\u001b[0m \u001b[0;34m+\u001b[0m \u001b[0my\u001b[0m\u001b[0;34m[\u001b[0m\u001b[0;34m:\u001b[0m\u001b[0;34m,\u001b[0m \u001b[0;34m:\u001b[0m\u001b[0;34m,\u001b[0m \u001b[0mncomp\u001b[0m\u001b[0;34m:\u001b[0m\u001b[0;34m]\u001b[0m\u001b[0;34m)\u001b[0m\u001b[0;34m/\u001b[0m\u001b[0;36m2\u001b[0m\u001b[0;34m\u001b[0m\u001b[0;34m\u001b[0m\u001b[0m\n\u001b[0m\u001b[1;32m     40\u001b[0m         \u001b[0;32melse\u001b[0m\u001b[0;34m:\u001b[0m\u001b[0;34m\u001b[0m\u001b[0;34m\u001b[0m\u001b[0m\n\u001b[1;32m     41\u001b[0m             \u001b[0mq\u001b[0m \u001b[0;34m=\u001b[0m \u001b[0my\u001b[0m\u001b[0;34m\u001b[0m\u001b[0;34m\u001b[0m\u001b[0m\n",
      "\u001b[0;31mKeyboardInterrupt\u001b[0m: "
     ]
    }
   ],
   "source": [
    "from tqdm.notebook import tqdm\n",
    "from sam import SAM\n",
    "\n",
    "base_optimizer = torch.optim.Adam  # define an optimizer for the \"sharpness-aware\" update\n",
    "optimizer = SAM(net.parameters(), base_optimizer, lr=0.000974, weight_decay = 0.00001)#, momentum=0.9)\n",
    "\n",
    "# you can keep re-running this cell if you think the cost might decrease further\n",
    "\n",
    "cost = nn.MSELoss()\n",
    "\n",
    "#train_save = []\n",
    "#valid_save = []\n",
    "\n",
    "niter = 50000 #+30000 # \n",
    "# rnn_loss = 0.2372, lstm_loss = 0.2340, gru_lstm = 0.2370\n",
    "for k in tqdm(range(niter)):\n",
    "    net.train()\n",
    "    # the network outputs the single-neuron prediction and the latents\n",
    "    z, y = net(x1_train)\n",
    "\n",
    "    # our cost\n",
    "    loss = cost(z, x2_train)\n",
    "\n",
    "    # train the network as usual\n",
    "    loss.backward()\n",
    "    optimizer.first_step(zero_grad = True)\n",
    "    cost(net(x1_train)[0],x2_train).backward()\n",
    "    \n",
    "    optimizer.second_step(zero_grad=True)\n",
    "    \n",
    "    \"\"\"\n",
    "    # this can be run in a first phase, before wandb finetuning\n",
    "    with torch.no_grad():\n",
    "        net.eval()\n",
    "        train_save.append(loss.item())\n",
    "        valid_loss = cost(net(x1_valid)[0], x2_valid)\n",
    "        valid_save.append(valid_loss.item())\n",
    "    \"\"\";\n",
    "\n",
    "    if k % 50 == 0:\n",
    "        with torch.no_grad():\n",
    "            net.eval()\n",
    "            valid_loss = cost(net(x1_valid)[0], x2_valid)\n",
    "            \n",
    "            print(f' iteration {k}, train cost {loss.item():.4f}, valid cost {valid_loss.item():.4f}')"
   ]
  },
  {
   "cell_type": "code",
   "execution_count": null,
   "metadata": {
    "id": "nW4j2gM2HZF2"
   },
   "outputs": [],
   "source": [
    "#plt.plot(train_save)\n",
    "#plt.plot(valid_save)"
   ]
  },
  {
   "cell_type": "code",
   "execution_count": null,
   "metadata": {
    "id": "LqXQ06exLCib"
   },
   "outputs": [],
   "source": [
    "torch.save(net.state_dict(), \"/home/sazeglio/NMAs/SavedModels/Unique_Net/Net_Complete.pt\")"
   ]
  },
  {
   "cell_type": "markdown",
   "metadata": {
    "id": "yZ72H9j3LCib"
   },
   "source": [
    "### Saving Model "
   ]
  },
  {
   "cell_type": "markdown",
   "metadata": {
    "id": "MkvwOHwjHZF2"
   },
   "source": [
    "## Validation from same neurons"
   ]
  },
  {
   "cell_type": "code",
   "execution_count": null,
   "metadata": {
    "id": "jryOMKdDJoEh"
   },
   "outputs": [],
   "source": [
    "test, hidden = net(x1_valid)"
   ]
  },
  {
   "cell_type": "code",
   "execution_count": null,
   "metadata": {
    "id": "HY_xlS8k7BF8",
    "outputId": "0105bddd-22d2-480e-c33e-28c2c2cbf35e",
    "scrolled": true
   },
   "outputs": [
    {
     "data": {
      "text/plain": [
       "[<matplotlib.lines.Line2D at 0x7fa743fc6760>]"
      ]
     },
     "execution_count": 65,
     "metadata": {},
     "output_type": "execute_result"
    },
    {
     "data": {
      "image/png": "[encoded data removed]",
      "text/plain": [
       "<Figure size 1080x288 with 1 Axes>"
      ]
     },
     "metadata": {
      "needs_background": "light"
     },
     "output_type": "display_data"
    }
   ],
   "source": [
    "%matplotlib inline\n",
    "plt.figure(figsize = (15, 4))\n",
    "plt.plot(x2_valid[4,:,0].cpu().detach().numpy())\n",
    "plt.plot(test[4,:,0].cpu().detach().numpy())"
   ]
  },
  {
   "cell_type": "code",
   "execution_count": null,
   "metadata": {
    "id": "btaMfJrULCic"
   },
   "outputs": [],
   "source": []
  }
 ],
 "metadata": {
  "accelerator": "GPU",
  "colab": {
   "collapsed_sections": [],
   "include_colab_link": true,
   "name": "Data_Loader.ipynb",
   "provenance": []
  },
  "kernelspec": {
   "display_name": "Python 3",
   "language": "python",
   "name": "python3"
  },
  "language_info": {
   "codemirror_mode": {
    "name": "ipython",
    "version": 3
   },
   "file_extension": ".py",
   "mimetype": "text/x-python",
   "name": "python",
   "nbconvert_exporter": "python",
   "pygments_lexer": "ipython3",
   "version": "3.8.5"
  }
 },
 "nbformat": 4,
 "nbformat_minor": 4
}
