{
 "cells": [
  {
   "cell_type": "markdown",
   "metadata": {
    "colab_type": "text",
    "id": "view-in-github"
   },
   "source": [
    "<a href=\"https://colab.research.google.com/github/sazio/NMAs/blob/main/Data_Loader.ipynb\" target=\"_parent\"><img src=\"https://colab.research.google.com/assets/colab-badge.svg\" alt=\"Open In Colab\"/></a>"
   ]
  },
  {
   "cell_type": "markdown",
   "metadata": {
    "id": "ji-aTo7SA1AB"
   },
   "source": [
    "# Exploratory Data Analysis of Stringer Dataset \n",
    "@authors: Simone Azeglio, Chetan Dhulipalla , Khalid Saifullah \n",
    "\n",
    "\n",
    "Part of the code here has been taken from [Neuromatch Academy's Computational Neuroscience Course](https://compneuro.neuromatch.io/projects/neurons/README.html), and specifically from [this notebook](https://colab.research.google.com/github/NeuromatchAcademy/course-content/blob/master/projects/neurons/load_stringer_spontaneous.ipynb)"
   ]
  },
  {
   "cell_type": "markdown",
   "metadata": {
    "id": "x2LTF6oe-U8R"
   },
   "source": [
    "# to do list\n",
    "\n",
    "1. custom normalization: dividing by mean value per neuron\n",
    "1a. downsampling: convolve then downsample by 5\n",
    "2. training validation split: withhold last 20 percent of time series for testing\n",
    "3. RNN for each layer: a way to capture the dynamics inside each layer instead of capturing extra dynamics from inter-layer interactions. it will be OK to compare the different RNNs. maintain same neuron count in each layer to reduce potential bias \n",
    "4. layer weight regularization: L2 \n",
    "5. early stopping , dropout?"
   ]
  },
  {
   "cell_type": "code",
   "execution_count": 1,
   "metadata": {},
   "outputs": [],
   "source": [
    "#%%capture\n",
    "#!pip install wandb --upgrade --quiet"
   ]
  },
  {
   "cell_type": "code",
   "execution_count": 2,
   "metadata": {},
   "outputs": [
    {
     "name": "stderr",
     "output_type": "stream",
     "text": [
      "Failed to detect the name of this notebook, you can set it manually with the WANDB_NOTEBOOK_NAME environment variable to enable code saving.\n",
      "wandb: Currently logged in as: sazio (use `wandb login --relogin` to force relogin)\n"
     ]
    },
    {
     "data": {
      "text/plain": [
       "True"
      ]
     },
     "execution_count": 2,
     "metadata": {},
     "output_type": "execute_result"
    }
   ],
   "source": [
    "import wandb\n",
    "\n",
    "wandb.login()"
   ]
  },
  {
   "cell_type": "markdown",
   "metadata": {
    "id": "vs7e5ppCMYCK"
   },
   "source": [
    "## Loading of Stringer spontaneous data\n",
    "\n"
   ]
  },
  {
   "cell_type": "code",
   "execution_count": 3,
   "metadata": {
    "cellView": "form",
    "id": "u0nA90QhJurD"
   },
   "outputs": [],
   "source": [
    "#@title Data retrieval\n",
    "import os, requests\n",
    "\n",
    "fname = \"stringer_spontaneous.npy\"\n",
    "url = \"https://osf.io/dpqaj/download\"\n",
    "\n",
    "if not os.path.isfile(fname):\n",
    "    try:\n",
    "        r = requests.get(url)\n",
    "    except requests.ConnectionError:\n",
    "        print(\"!!! Failed to download data !!!\")\n",
    "    else:\n",
    "        if r.status_code != requests.codes.ok:\n",
    "            print(\"!!! Failed to download data !!!\")\n",
    "        else:\n",
    "            with open(fname, \"wb\") as fid:\n",
    "                fid.write(r.content)"
   ]
  },
  {
   "cell_type": "code",
   "execution_count": 4,
   "metadata": {
    "cellView": "form",
    "id": "FgbdwXWDSUpO"
   },
   "outputs": [],
   "source": [
    "#@title Import matplotlib and set defaults\n",
    "from matplotlib import rcParams \n",
    "from matplotlib import pyplot as plt\n",
    "rcParams['figure.figsize'] = [20, 4]\n",
    "rcParams['font.size'] =15\n",
    "rcParams['axes.spines.top'] = False\n",
    "rcParams['axes.spines.right'] = False\n",
    "rcParams['figure.autolayout'] = True"
   ]
  },
  {
   "cell_type": "markdown",
   "metadata": {
    "id": "SRWWoEX0-sYp"
   },
   "source": [
    "## Exploratory Data Analysis (EDA)"
   ]
  },
  {
   "cell_type": "code",
   "execution_count": 5,
   "metadata": {
    "colab": {
     "base_uri": "https://localhost:8080/"
    },
    "id": "6ulJ34TyRZo6",
    "outputId": "df56f72e-e25f-4702-b021-bf6959e018c7"
   },
   "outputs": [
    {
     "name": "stdout",
     "output_type": "stream",
     "text": [
      "dict_keys(['sresp', 'run', 'beh_svd_time', 'beh_svd_mask', 'stat', 'pupilArea', 'pupilCOM', 'xyz'])\n"
     ]
    }
   ],
   "source": [
    "#@title Data loading\n",
    "import numpy as np\n",
    "dat = np.load('stringer_spontaneous.npy', allow_pickle=True).item()\n",
    "print(dat.keys())"
   ]
  },
  {
   "cell_type": "code",
   "execution_count": 6,
   "metadata": {
    "id": "KGn2iJGmFpLC"
   },
   "outputs": [],
   "source": [
    "# functions \n",
    "\n",
    "def moving_avg(array, factor = 5):\n",
    "    \"\"\"Reducing the number of compontents by averaging of N = factor\n",
    "    subsequent elements of array\"\"\"\n",
    "    zeros_ = np.zeros((array.shape[0], 2))\n",
    "    array = np.hstack((array, zeros_))\n",
    "\n",
    "    array = np.reshape(array, (array.shape[0],  int(array.shape[1]/factor), factor))\n",
    "    array = np.mean(array, axis = 2)\n",
    "\n",
    "    return array"
   ]
  },
  {
   "cell_type": "markdown",
   "metadata": {
    "id": "ZdjYTZeV-yhR"
   },
   "source": [
    "## Extracting Data for RNN (or LFADS)\n",
    "The first problem to address is that for each layer we don't have the exact same number of neurons. We'd like to have a single RNN encoding all the different layers activities, to make it easier we can take the number of neurons ($N_{neurons} = 1131$ of the least represented class (layer) and level out each remaining class. "
   ]
  },
  {
   "cell_type": "code",
   "execution_count": 7,
   "metadata": {
    "id": "mEy_qiyKY1xG"
   },
   "outputs": [],
   "source": [
    "# Extract labels from z - coordinate\n",
    "from sklearn import preprocessing\n",
    "x, y, z = dat['xyz']\n",
    "\n",
    "le = preprocessing.LabelEncoder()\n",
    "labels = le.fit_transform(z)\n",
    "### least represented class (layer with less neurons)\n",
    "n_samples = np.histogram(labels, bins=9)[0][-1]"
   ]
  },
  {
   "cell_type": "code",
   "execution_count": 8,
   "metadata": {
    "id": "lb3M2PSOZpMW"
   },
   "outputs": [],
   "source": [
    "### Data for LFADS / RNN \n",
    "import pandas as pd \n",
    "dataSet = pd.DataFrame(dat[\"sresp\"])\n",
    "dataSet[\"label\"] = labels "
   ]
  },
  {
   "cell_type": "code",
   "execution_count": 9,
   "metadata": {
    "id": "fYThvxV-2Nl6"
   },
   "outputs": [],
   "source": [
    "# it can be done in one loop ... \n",
    "data_ = []\n",
    "for i in range(0, 9):\n",
    "    data_.append(dataSet[dataSet[\"label\"] == i].sample(n = n_samples).iloc[:,:-1].values)\n",
    "\n",
    "dataRNN = np.zeros((n_samples*9, dataSet.shape[1]-1))\n",
    "for i in range(0,9):\n",
    "    \n",
    "    # dataRNN[n_samples*i:n_samples*(i+1), :] = data_[i]\n",
    "    ## normalized by layer\n",
    "    dataRNN[n_samples*i:n_samples*(i+1), :] = data_[i]/np.mean(np.asarray(data_)[i,:,:], axis = 0)\n",
    "\n",
    "## shuffling for training purposes\n",
    "\n",
    "#np.random.shuffle(dataRNN)"
   ]
  },
  {
   "cell_type": "code",
   "execution_count": 10,
   "metadata": {
    "id": "3WAqcnCTrZAz"
   },
   "outputs": [],
   "source": [
    "#unshuffled = np.array(data_)"
   ]
  },
  {
   "cell_type": "code",
   "execution_count": 11,
   "metadata": {
    "cellView": "form",
    "id": "680ch36_-e0m"
   },
   "outputs": [],
   "source": [
    "#@title Convolutions code\n",
    "\n",
    "# convolution moving average\n",
    "\n",
    "# kernel_length = 50\n",
    "# averaging_kernel = np.ones(kernel_length) / kernel_length\n",
    "\n",
    "# dataRNN.shape\n",
    "\n",
    "# avgd_dataRNN = list()\n",
    "\n",
    "# for neuron in dataRNN:\n",
    "#   avgd_dataRNN.append(np.convolve(neuron, averaging_kernel))\n",
    "\n",
    "# avg_dataRNN = np.array(avgd_dataRNN)\n",
    "\n",
    "# print(avg_dataRNN.shape)"
   ]
  },
  {
   "cell_type": "code",
   "execution_count": 12,
   "metadata": {
    "cellView": "form",
    "id": "63S3144a31FI"
   },
   "outputs": [],
   "source": [
    "# @title Z Score Code \n",
    "\n",
    "\n",
    "# from scipy.stats import zscore\n",
    "\n",
    "\n",
    "# neuron = 500\n",
    "\n",
    "# scaled_all = zscore(avg_dataRNN)\n",
    "# scaled_per_neuron = zscore(avg_dataRNN[neuron, :])\n",
    "\n",
    "# scaled_per_layer = list()\n",
    "\n",
    "# for layer in unshuffled:\n",
    "#   scaled_per_layer.append(zscore(layer))\n",
    "\n",
    "# scaled_per_layer = np.array(scaled_per_layer)\n",
    "\n",
    "\n",
    "\n",
    "# plt.plot(avg_dataRNN[neuron, :])\n",
    "# plt.plot(avg_dataRNN[2500, :])\n",
    "# plt.figure()\n",
    "# plt.plot(dataRNN[neuron, :])\n",
    "# plt.figure()\n",
    "# plt.plot(scaled_all[neuron, :])\n",
    "# plt.plot(scaled_per_neuron)\n",
    "# plt.figure()\n",
    "# plt.plot(scaled_per_layer[0,neuron,:])\n"
   ]
  },
  {
   "cell_type": "code",
   "execution_count": 13,
   "metadata": {
    "id": "hE-4w_4V-Gzx"
   },
   "outputs": [],
   "source": [
    "# custom normalization\n",
    "\n",
    "normed_dataRNN = list()\n",
    "for neuron in dataRNN:\n",
    "    normed_dataRNN.append(neuron)# / neuron.mean())\n",
    "normed_dataRNN = np.array(normed_dataRNN)\n",
    "\n",
    "# downsampling and averaging \n",
    "#avgd_normed_dataRNN = dataRNN#\n",
    "avgd_normed_dataRNN = dataRNN #moving_avg(dataRNN, factor=2)"
   ]
  },
  {
   "cell_type": "code",
   "execution_count": 14,
   "metadata": {},
   "outputs": [
    {
     "data": {
      "text/plain": [
       "[<matplotlib.lines.Line2D at 0x7f08b748f4f0>]"
      ]
     },
     "execution_count": 14,
     "metadata": {},
     "output_type": "execute_result"
    },
    {
     "data": {
      "image/png": "[encoded data removed]",
      "text/plain": [
       "<Figure size 1440x288 with 1 Axes>"
      ]
     },
     "metadata": {
      "needs_background": "light"
     },
     "output_type": "display_data"
    }
   ],
   "source": [
    "plt.plot(avgd_normed_dataRNN[0,:])"
   ]
  },
  {
   "cell_type": "markdown",
   "metadata": {
    "id": "SeNxo6vsv1Oq"
   },
   "source": [
    "issue: does the individual scaling by layer introduce bias that may artificially increase performance of the network?"
   ]
  },
  {
   "cell_type": "markdown",
   "metadata": {
    "id": "0MrXC5QIiyhJ"
   },
   "source": [
    "## Data Loader \n"
   ]
  },
  {
   "cell_type": "code",
   "execution_count": 15,
   "metadata": {
    "id": "255tz5iqmSq1"
   },
   "outputs": [],
   "source": [
    "import torch\n",
    "import torch.nn as nn\n",
    "import torch.nn.functional as F\n",
    "torch.cuda.empty_cache()"
   ]
  },
  {
   "cell_type": "code",
   "execution_count": 16,
   "metadata": {
    "id": "467WOHhtmXmb"
   },
   "outputs": [],
   "source": [
    "device = torch.device('cuda' if torch.cuda.is_available() else 'cpu')"
   ]
  },
  {
   "cell_type": "code",
   "execution_count": 17,
   "metadata": {
    "id": "Dcb5vW2joVW_"
   },
   "outputs": [],
   "source": [
    "# set the seed\n",
    "np.random.seed(42)\n",
    "\n",
    "# number of neurons \n",
    "NN = dataRNN.shape[0]"
   ]
  },
  {
   "cell_type": "code",
   "execution_count": 18,
   "metadata": {
    "colab": {
     "base_uri": "https://localhost:8080/"
    },
    "id": "bXJPQdu17Ns5",
    "outputId": "18b700ff-0126-458f-a300-7488e457013f"
   },
   "outputs": [
    {
     "data": {
      "text/plain": [
       "(10179, 7018)"
      ]
     },
     "execution_count": 18,
     "metadata": {},
     "output_type": "execute_result"
    }
   ],
   "source": [
    "# swapping the axes to maintain consistency with seq2seq notebook in the following code - the network takes all the neurons at a time step as input, not just one neuron\n",
    "\n",
    "# avgd_normed_dataRNN = np.swapaxes(avgd_normed_dataRNN, 0, 1)\n",
    "avgd_normed_dataRNN.shape"
   ]
  },
  {
   "cell_type": "code",
   "execution_count": 19,
   "metadata": {
    "id": "Prl0OxLZkka9"
   },
   "outputs": [],
   "source": [
    "frac = 4/5\n",
    "\n",
    "#x1 = torch.from_numpy(dataRNN[:,:int(frac*dataRNN.shape[1])]).to(device).float().unsqueeze(0)\n",
    "#x2 = torch.from_numpy(dataRNN[:,int(frac*dataRNN.shape[1]):]).to(device).float().unsqueeze(0)\n",
    "#x1 = torch.from_numpy(avgd_normed_dataRNN[:1131,:]).to(device).float().unsqueeze(2)\n",
    "#x2 = torch.from_numpy(avgd_normed_dataRNN[:1131,:]).to(device).float().unsqueeze(2)\n",
    "\n",
    "n_neurs = 1131\n",
    "# let's use n_neurs/10 latent components\n",
    "ncomp = int(n_neurs/10)\n",
    "\n",
    "x1_train = torch.from_numpy(avgd_normed_dataRNN[:n_neurs,:int(frac*avgd_normed_dataRNN.shape[1])]).to(device).float().unsqueeze(2)\n",
    "x2_train = torch.from_numpy(avgd_normed_dataRNN[:n_neurs,:int(frac*avgd_normed_dataRNN.shape[1])]).to(device).float().unsqueeze(2)\n",
    "\n",
    "x1_valid = torch.from_numpy(avgd_normed_dataRNN[:n_neurs,int(frac*avgd_normed_dataRNN.shape[1]):]).to(device).float().unsqueeze(2)\n",
    "x2_valid = torch.from_numpy(avgd_normed_dataRNN[:n_neurs,int(frac*avgd_normed_dataRNN.shape[1]):]).to(device).float().unsqueeze(2)\n",
    "\n",
    "NN1 = x1_train.shape[0]\n",
    "NN2 = x2_train.shape[0]\n"
   ]
  },
  {
   "cell_type": "code",
   "execution_count": 20,
   "metadata": {
    "id": "01IvhjPzk-Jw"
   },
   "outputs": [],
   "source": [
    "class Net(nn.Module):\n",
    "    def __init__(self, ncomp, NN1, NN2, num_layers = 1, n_comp = 50, dropout= 0,  bidi=True):\n",
    "        super(Net, self).__init__()\n",
    "\n",
    "        # play with some of the options in the RNN!\n",
    "        \n",
    "        self.rnn = nn.LSTM(NN1, ncomp, num_layers = num_layers, dropout = dropout,\n",
    "                         bidirectional = bidi)\n",
    "        \"\"\"\n",
    "        self.rnn = nn.RNN(NN1, ncomp, num_layers = 1, dropout = 0,\n",
    "                    bidirectional = bidi, nonlinearity = 'tanh')\n",
    "        self.rnn = nn.GRU(NN1, ncomp, num_layers = 1, dropout = 0,\n",
    "                         bidirectional = bidi)\n",
    "        \"\"\"\n",
    "        \n",
    "        self.mlp = nn.Sequential(\n",
    "                    nn.Linear(ncomp, ncomp*2),\n",
    "                    nn.Mish(),\n",
    "                    nn.Linear(ncomp*2, ncomp*2),\n",
    "                    nn.Mish(),\n",
    "                    nn.Dropout(0.25),\n",
    "                    nn.Linear(ncomp*2, ncomp), \n",
    "                    nn.Mish())\n",
    "        \n",
    "        self.fc = nn.Linear(ncomp, NN2)\n",
    "\n",
    "    def forward(self, x):\n",
    "        x = x.permute(1, 2, 0)\n",
    "        #print(x.shape)\n",
    "        # h_0 = torch.zeros(2, x.size()[1], self.ncomp).to(device)\n",
    "        \n",
    "        y, h_n = self.rnn(x)\n",
    "\n",
    "        #print(y.shape)\n",
    "        #print(h_n.shape)\n",
    "        if self.rnn.bidirectional:\n",
    "          # if the rnn is bidirectional, it concatenates the activations from the forward and backward pass\n",
    "          # we want to add them instead, so as to enforce the latents to match between the forward and backward pass\n",
    "            q = (y[:, :, :ncomp] + y[:, :, ncomp:])/2\n",
    "        else:\n",
    "            q = y\n",
    "        \n",
    "        q = self.mlp(q)\n",
    "\n",
    "        # the softplus function is just like a relu but it's smoothed out so we can't predict 0\n",
    "        # if we predict 0 and there was a spike, that's an instant Inf in the Poisson log-likelihood which leads to failure\n",
    "        #z = F.softplus(self.fc(q), 10)\n",
    "        #print(q.shape)\n",
    "        z = self.fc(q).permute(2, 0, 1)\n",
    "        # print(z.shape)\n",
    "        return z, q"
   ]
  },
  {
   "cell_type": "code",
   "execution_count": 21,
   "metadata": {},
   "outputs": [
    {
     "name": "stdout",
     "output_type": "stream",
     "text": [
      "{'method': 'random',\n",
      " 'metric': {'goal': 'minimize', 'name': 'loss'},\n",
      " 'parameters': {'dropout': {'values': [0.1, 0.2, 0.3, 0.5]},\n",
      "                'epochs': {'value': 4000},\n",
      "                'learning_rate': {'distribution': 'log_uniform',\n",
      "                                  'max': -5.3,\n",
      "                                  'min': -9.9},\n",
      "                'n_comp': {'values': [100, 200, 300, 400, 500]},\n",
      "                'num_layers': {'values': [1]},\n",
      "                'optimizer': {'values': ['adam']},\n",
      "                'weight_decay': {'values': [0.0, 1e-05, 5e-05, 1e-06]}}}\n"
     ]
    }
   ],
   "source": [
    "sweep_config = {\n",
    "    'method': 'random'\n",
    "    }\n",
    "\n",
    "metric = {\n",
    "    'name': 'loss',\n",
    "    'goal': 'minimize'   \n",
    "    }\n",
    "\n",
    "sweep_config['metric'] = metric\n",
    "\n",
    "parameters_dict = {\n",
    "    'optimizer': {\n",
    "        'values': ['adam']\n",
    "        },\n",
    "    'num_layers': {\n",
    "        'values': [1]\n",
    "        },\n",
    "    'n_comp': {\n",
    "        'values': [100, 200, 300, 400, 500]#[50, 75, 100, 125, 150]\n",
    "        },\n",
    "    \n",
    "    'dropout': {\n",
    "          'values': [0.1, 0.2, 0.3, 0.5]\n",
    "        },\n",
    "    'weight_decay': {\n",
    "          'values': [0., 1e-5, 5e-5, 1e-6]\n",
    "        },\n",
    "    }\n",
    "\n",
    "sweep_config['parameters'] = parameters_dict\n",
    "\n",
    "parameters_dict.update({\n",
    "    'epochs': {\n",
    "        'value': 4000}\n",
    "    })\n",
    "\n",
    "import math\n",
    "\n",
    "parameters_dict.update({\n",
    "    'learning_rate': {\n",
    "        # a flat distribution between 0 and 0.1\n",
    "        'distribution': 'log_uniform',\n",
    "        'min': -9.9,\n",
    "        'max': -5.3\n",
    "    },\n",
    "})\n",
    "\n",
    "import pprint\n",
    "\n",
    "pprint.pprint(sweep_config)"
   ]
  },
  {
   "cell_type": "code",
   "execution_count": 22,
   "metadata": {},
   "outputs": [
    {
     "name": "stdout",
     "output_type": "stream",
     "text": [
      "Create sweep with ID: cbewt4f6\n",
      "Sweep URL: https://wandb.ai/sazio/NMAs-Full-Signals/sweeps/cbewt4f6\n"
     ]
    }
   ],
   "source": [
    "sweep_id = wandb.sweep(sweep_config, project=\"NMAs-Full-Signals\")"
   ]
  },
  {
   "cell_type": "code",
   "execution_count": 23,
   "metadata": {},
   "outputs": [],
   "source": [
    "# you can keep re-running this cell if you think the cost might decrease further\n",
    "cost = nn.MSELoss()\n",
    "\n",
    "# rnn_loss = 0.2372, lstm_loss = 0.2340, gru_lstm = 0.2370"
   ]
  },
  {
   "cell_type": "code",
   "execution_count": null,
   "metadata": {},
   "outputs": [],
   "source": []
  },
  {
   "cell_type": "markdown",
   "metadata": {
    "id": "2hlfx8Ltp5jJ"
   },
   "source": [
    "## Training "
   ]
  },
  {
   "cell_type": "code",
   "execution_count": 24,
   "metadata": {
    "id": "KjzD06B9ta3n"
   },
   "outputs": [],
   "source": [
    "from tqdm import tqdm"
   ]
  },
  {
   "cell_type": "code",
   "execution_count": 25,
   "metadata": {
    "scrolled": true
   },
   "outputs": [],
   "source": [
    "def build_optimizer(network, optimizer, learning_rate, weight_decay): \n",
    "    optimizer = torch.optim.Adam(network.parameters(),\n",
    "                               lr=learning_rate, weight_decay=weight_decay)\n",
    "    return optimizer\n",
    "\n",
    "def train(config=None):\n",
    "    # Initialize a new wandb run\n",
    "    with wandb.init(config=config):\n",
    "        # If called by wandb.agent, as below,\n",
    "        # this config will be set by Sweep Controller\n",
    "        config = wandb.config\n",
    "\n",
    "        # loader = build_dataset(config.batch_size)\n",
    "        # Net(ncomp, NN1, NN2, bidi = True).to(device)\n",
    "        network = Net(ncomp, NN1, NN2, config.num_layers, config.dropout).to(device)\n",
    "        optimizer = build_optimizer(network, config.optimizer, config.learning_rate, config.weight_decay)\n",
    "\n",
    "        for epoch in range(config.epochs):\n",
    "            # avg_loss = train_epoch(network, loader, optimizer)\n",
    "            network.train()\n",
    "            # the networkwork outputs the single-neuron prediction and the latents\n",
    "            z, y = network(x1_train)\n",
    "\n",
    "            # our cost\n",
    "            loss = cost(z, x2_train)\n",
    "\n",
    "            # train the networkwork as usual\n",
    "            loss.backward()\n",
    "            optimizer.step()\n",
    "            optimizer.zero_grad()\n",
    "            with torch.no_grad():\n",
    "                network.eval()\n",
    "                valid_loss = cost(network(x1_valid)[0], x2_valid)\n",
    "\n",
    "            if epoch % 50 == 0:\n",
    "                with torch.no_grad():\n",
    "                    network.eval()\n",
    "                    valid_loss = cost(network(x1_valid)[0], x2_valid)\n",
    "                    \n",
    "                    print(f' iteration {epoch}, train cost {loss.item():.4f}, valid cost {valid_loss.item():.4f}')\n",
    "            wandb.log({\"train_loss\": loss.item(), 'valid_loss': valid_loss.item(), \"epoch\": epoch})"
   ]
  },
  {
   "cell_type": "code",
   "execution_count": 26,
   "metadata": {
    "scrolled": true
   },
   "outputs": [
    {
     "name": "stderr",
     "output_type": "stream",
     "text": [
      "wandb: Agent Starting Run: pldymmld with config:\n",
      "wandb: \tdropout: 0.1\n",
      "wandb: \tepochs: 4000\n",
      "wandb: \tlearning_rate: 0.00011563659857483612\n",
      "wandb: \tn_comp: 300\n",
      "wandb: \tnum_layers: 1\n",
      "wandb: \toptimizer: adam\n",
      "wandb: \tweight_decay: 5e-05\n",
      "Failed to detect the name of this notebook, you can set it manually with the WANDB_NOTEBOOK_NAME environment variable to enable code saving.\n"
     ]
    },
    {
     "data": {
      "text/html": [
       "\n",
       "                Tracking run with wandb version 0.12.0<br/>\n",
       "                Syncing run <strong style=\"color:#cdcd00\">glad-sweep-1</strong> to <a href=\"https://wandb.ai\" target=\"_blank\">Weights & Biases</a> <a href=\"https://docs.wandb.com/integrations/jupyter.html\" target=\"_blank\">(Documentation)</a>.<br/>\n",
       "                Project page: <a href=\"https://wandb.ai/sazio/NMAs-Full-Signals\" target=\"_blank\">https://wandb.ai/sazio/NMAs-Full-Signals</a><br/>\n",
       "                Sweep page: <a href=\"https://wandb.ai/sazio/NMAs-Full-Signals/sweeps/cbewt4f6\" target=\"_blank\">https://wandb.ai/sazio/NMAs-Full-Signals/sweeps/cbewt4f6</a><br/>\n",
       "Run page: <a href=\"https://wandb.ai/sazio/NMAs-Full-Signals/runs/pldymmld\" target=\"_blank\">https://wandb.ai/sazio/NMAs-Full-Signals/runs/pldymmld</a><br/>\n",
       "                Run data is saved locally in <code>/home/sazeglio/NMAs/src/wandb/run-20210815_013915-pldymmld</code><br/><br/>\n",
       "            "
      ],
      "text/plain": [
       "<IPython.core.display.HTML object>"
      ]
     },
     "metadata": {},
     "output_type": "display_data"
    },
    {
     "name": "stdout",
     "output_type": "stream",
     "text": [
      " iteration 0, train cost 4.9297, valid cost 5.0318\n",
      " iteration 50, train cost 4.2799, valid cost 4.3479\n",
      " iteration 100, train cost 3.4613, valid cost 3.5393\n",
      " iteration 150, train cost 3.3112, valid cost 3.3891\n",
      " iteration 200, train cost 3.2903, valid cost 3.3662\n",
      " iteration 250, train cost 3.2833, valid cost 3.3603\n",
      " iteration 300, train cost 3.2793, valid cost 3.3574\n",
      " iteration 350, train cost 3.2753, valid cost 3.3545\n",
      " iteration 400, train cost 3.2691, valid cost 3.3494\n",
      " iteration 450, train cost 3.2578, valid cost 3.3388\n",
      " iteration 500, train cost 3.2335, valid cost 3.3141\n",
      " iteration 550, train cost 3.1907, valid cost 3.2714\n",
      " iteration 600, train cost 3.1484, valid cost 3.2294\n",
      " iteration 650, train cost 3.1054, valid cost 3.1839\n",
      " iteration 700, train cost 3.0612, valid cost 3.1361\n",
      " iteration 750, train cost 3.0267, valid cost 3.0977\n",
      " iteration 800, train cost 2.9998, valid cost 3.0672\n",
      " iteration 850, train cost 2.9754, valid cost 3.0394\n",
      " iteration 900, train cost 2.9503, valid cost 3.0123\n",
      " iteration 950, train cost 2.9245, valid cost 2.9860\n",
      " iteration 1000, train cost 2.8986, valid cost 2.9615\n",
      " iteration 1050, train cost 2.8737, valid cost 2.9382\n",
      " iteration 1100, train cost 2.8469, valid cost 2.9139\n",
      " iteration 1150, train cost 2.8195, valid cost 2.8882\n",
      " iteration 1200, train cost 2.7907, valid cost 2.8611\n",
      " iteration 1250, train cost 2.7613, valid cost 2.8347\n",
      " iteration 1300, train cost 2.7351, valid cost 2.8101\n",
      " iteration 1350, train cost 2.7091, valid cost 2.7871\n",
      " iteration 1400, train cost 2.6838, valid cost 2.7644\n",
      " iteration 1450, train cost 2.6599, valid cost 2.7415\n",
      " iteration 1500, train cost 2.6364, valid cost 2.7202\n",
      " iteration 1550, train cost 2.6158, valid cost 2.6999\n",
      " iteration 1600, train cost 2.5957, valid cost 2.6808\n",
      " iteration 1650, train cost 2.5773, valid cost 2.6628\n",
      " iteration 1700, train cost 2.5594, valid cost 2.6456\n",
      " iteration 1750, train cost 2.5425, valid cost 2.6293\n",
      " iteration 1800, train cost 2.5265, valid cost 2.6134\n",
      " iteration 1850, train cost 2.5111, valid cost 2.5985\n",
      " iteration 1900, train cost 2.4982, valid cost 2.5844\n",
      " iteration 1950, train cost 2.4829, valid cost 2.5704\n",
      " iteration 2000, train cost 2.4682, valid cost 2.5571\n",
      " iteration 2050, train cost 2.4539, valid cost 2.5442\n",
      " iteration 2100, train cost 2.4415, valid cost 2.5321\n",
      " iteration 2150, train cost 2.4306, valid cost 2.5206\n",
      " iteration 2200, train cost 2.4171, valid cost 2.5095\n",
      " iteration 2250, train cost 2.4067, valid cost 2.4992\n",
      " iteration 2300, train cost 2.3945, valid cost 2.4890\n",
      " iteration 2350, train cost 2.3847, valid cost 2.4797\n",
      " iteration 2400, train cost 2.3741, valid cost 2.4702\n",
      " iteration 2450, train cost 2.3652, valid cost 2.4618\n",
      " iteration 2500, train cost 2.3545, valid cost 2.4534\n",
      " iteration 2550, train cost 2.3461, valid cost 2.4455\n",
      " iteration 2600, train cost 2.3375, valid cost 2.4373\n",
      " iteration 2650, train cost 2.3298, valid cost 2.4294\n",
      " iteration 2700, train cost 2.3208, valid cost 2.4222\n",
      " iteration 2750, train cost 2.3122, valid cost 2.4152\n",
      " iteration 2800, train cost 2.3052, valid cost 2.4086\n",
      " iteration 2850, train cost 2.2982, valid cost 2.4017\n",
      " iteration 2900, train cost 2.2904, valid cost 2.3956\n",
      " iteration 2950, train cost 2.2842, valid cost 2.3890\n",
      " iteration 3000, train cost 2.2778, valid cost 2.3832\n",
      " iteration 3050, train cost 2.2718, valid cost 2.3771\n",
      " iteration 3100, train cost 2.2663, valid cost 2.3718\n",
      " iteration 3150, train cost 2.2581, valid cost 2.3664\n",
      " iteration 3200, train cost 2.2534, valid cost 2.3610\n",
      " iteration 3250, train cost 2.2483, valid cost 2.3562\n",
      " iteration 3300, train cost 2.2420, valid cost 2.3515\n",
      " iteration 3350, train cost 2.2364, valid cost 2.3459\n",
      " iteration 3400, train cost 2.2308, valid cost 2.3408\n",
      " iteration 3450, train cost 2.2246, valid cost 2.3364\n",
      " iteration 3500, train cost 2.2216, valid cost 2.3313\n",
      " iteration 3550, train cost 2.2164, valid cost 2.3263\n",
      " iteration 3600, train cost 2.2094, valid cost 2.3213\n",
      " iteration 3650, train cost 2.2049, valid cost 2.3165\n",
      " iteration 3700, train cost 2.2000, valid cost 2.3117\n",
      " iteration 3750, train cost 2.1956, valid cost 2.3070\n",
      " iteration 3800, train cost 2.1896, valid cost 2.3022\n",
      " iteration 3850, train cost 2.1853, valid cost 2.2975\n",
      " iteration 3900, train cost 2.1802, valid cost 2.2933\n",
      " iteration 3950, train cost 2.1759, valid cost 2.2889\n"
     ]
    },
    {
     "data": {
      "text/html": [
       "<br/>Waiting for W&B process to finish, PID 191368<br/>Program ended successfully."
      ],
      "text/plain": [
       "<IPython.core.display.HTML object>"
      ]
     },
     "metadata": {},
     "output_type": "display_data"
    },
    {
     "name": "stderr",
     "output_type": "stream",
     "text": [
      "Widget Javascript not detected.  It may not be installed or enabled properly.\n"
     ]
    },
    {
     "data": {
      "application/vnd.jupyter.widget-view+json": {
       "model_id": "23e7fade8e394004945c8fb480d13db3"
      }
     },
     "metadata": {},
     "output_type": "display_data"
    },
    {
     "data": {
      "text/html": [
       "Find user logs for this run at: <code>/home/sazeglio/NMAs/src/wandb/run-20210815_013915-pldymmld/logs/debug.log</code>"
      ],
      "text/plain": [
       "<IPython.core.display.HTML object>"
      ]
     },
     "metadata": {},
     "output_type": "display_data"
    },
    {
     "data": {
      "text/html": [
       "Find internal logs for this run at: <code>/home/sazeglio/NMAs/src/wandb/run-20210815_013915-pldymmld/logs/debug-internal.log</code>"
      ],
      "text/plain": [
       "<IPython.core.display.HTML object>"
      ]
     },
     "metadata": {},
     "output_type": "display_data"
    },
    {
     "data": {
      "text/html": [
       "<h3>Run summary:</h3><br/><style>\n",
       "    table.wandb td:nth-child(1) { padding: 0 10px; text-align: right }\n",
       "    </style><table class=\"wandb\">\n",
       "<tr><td>train_loss</td><td>2.1707</td></tr><tr><td>valid_loss</td><td>2.28533</td></tr><tr><td>epoch</td><td>3999</td></tr><tr><td>_runtime</td><td>1235</td></tr><tr><td>_timestamp</td><td>1628985590</td></tr><tr><td>_step</td><td>3999</td></tr></table>"
      ],
      "text/plain": [
       "<IPython.core.display.HTML object>"
      ]
     },
     "metadata": {},
     "output_type": "display_data"
    },
    {
     "data": {
      "text/html": [
       "<h3>Run history:</h3><br/><style>\n",
       "    table.wandb td:nth-child(1) { padding: 0 10px; text-align: right }\n",
       "    </style><table class=\"wandb\">\n",
       "<tr><td>train_loss</td><td>█▄▄▄▄▄▄▃▃▃▃▃▃▂▂▂▂▂▂▂▂▂▂▂▁▁▁▁▁▁▁▁▁▁▁▁▁▁▁▁</td></tr><tr><td>valid_loss</td><td>█▄▄▄▄▄▃▃▃▃▃▃▂▂▂▂▂▂▂▂▂▂▂▂▁▁▁▁▁▁▁▁▁▁▁▁▁▁▁▁</td></tr><tr><td>epoch</td><td>▁▁▁▂▂▂▂▂▂▃▃▃▃▃▄▄▄▄▄▄▅▅▅▅▅▅▆▆▆▆▆▇▇▇▇▇▇███</td></tr><tr><td>_runtime</td><td>▁▁▁▂▂▂▂▂▂▃▃▃▃▃▄▄▄▄▄▄▅▅▅▅▅▅▆▆▆▆▆▇▇▇▇▇▇███</td></tr><tr><td>_timestamp</td><td>▁▁▁▂▂▂▂▂▂▃▃▃▃▃▄▄▄▄▄▄▅▅▅▅▅▅▆▆▆▆▆▇▇▇▇▇▇███</td></tr><tr><td>_step</td><td>▁▁▁▂▂▂▂▂▂▃▃▃▃▃▄▄▄▄▄▄▅▅▅▅▅▅▆▆▆▆▆▇▇▇▇▇▇███</td></tr></table><br/>"
      ],
      "text/plain": [
       "<IPython.core.display.HTML object>"
      ]
     },
     "metadata": {},
     "output_type": "display_data"
    },
    {
     "data": {
      "text/html": [
       "Synced 5 W&B file(s), 0 media file(s), 0 artifact file(s) and 0 other file(s)"
      ],
      "text/plain": [
       "<IPython.core.display.HTML object>"
      ]
     },
     "metadata": {},
     "output_type": "display_data"
    },
    {
     "data": {
      "text/html": [
       "\n",
       "                    <br/>Synced <strong style=\"color:#cdcd00\">glad-sweep-1</strong>: <a href=\"https://wandb.ai/sazio/NMAs-Full-Signals/runs/pldymmld\" target=\"_blank\">https://wandb.ai/sazio/NMAs-Full-Signals/runs/pldymmld</a><br/>\n",
       "                "
      ],
      "text/plain": [
       "<IPython.core.display.HTML object>"
      ]
     },
     "metadata": {},
     "output_type": "display_data"
    },
    {
     "name": "stderr",
     "output_type": "stream",
     "text": [
      "wandb: Agent Starting Run: 6voyndhc with config:\n",
      "wandb: \tdropout: 0.2\n",
      "wandb: \tepochs: 4000\n",
      "wandb: \tlearning_rate: 0.003024210109662325\n",
      "wandb: \tn_comp: 100\n",
      "wandb: \tnum_layers: 1\n",
      "wandb: \toptimizer: adam\n",
      "wandb: \tweight_decay: 1e-06\n",
      "Failed to detect the name of this notebook, you can set it manually with the WANDB_NOTEBOOK_NAME environment variable to enable code saving.\n"
     ]
    },
    {
     "data": {
      "text/html": [
       "\n",
       "                Tracking run with wandb version 0.12.0<br/>\n",
       "                Syncing run <strong style=\"color:#cdcd00\">crisp-sweep-2</strong> to <a href=\"https://wandb.ai\" target=\"_blank\">Weights & Biases</a> <a href=\"https://docs.wandb.com/integrations/jupyter.html\" target=\"_blank\">(Documentation)</a>.<br/>\n",
       "                Project page: <a href=\"https://wandb.ai/sazio/NMAs-Full-Signals\" target=\"_blank\">https://wandb.ai/sazio/NMAs-Full-Signals</a><br/>\n",
       "                Sweep page: <a href=\"https://wandb.ai/sazio/NMAs-Full-Signals/sweeps/cbewt4f6\" target=\"_blank\">https://wandb.ai/sazio/NMAs-Full-Signals/sweeps/cbewt4f6</a><br/>\n",
       "Run page: <a href=\"https://wandb.ai/sazio/NMAs-Full-Signals/runs/6voyndhc\" target=\"_blank\">https://wandb.ai/sazio/NMAs-Full-Signals/runs/6voyndhc</a><br/>\n",
       "                Run data is saved locally in <code>/home/sazeglio/NMAs/src/wandb/run-20210815_015954-6voyndhc</code><br/><br/>\n",
       "            "
      ],
      "text/plain": [
       "<IPython.core.display.HTML object>"
      ]
     },
     "metadata": {},
     "output_type": "display_data"
    },
    {
     "name": "stdout",
     "output_type": "stream",
     "text": [
      " iteration 0, train cost 4.9301, valid cost 4.9887\n",
      " iteration 50, train cost 3.2790, valid cost 3.3649\n",
      " iteration 100, train cost 3.2680, valid cost 3.3546\n",
      " iteration 150, train cost 3.2210, valid cost 3.2910\n",
      " iteration 200, train cost 3.1661, valid cost 3.2338\n",
      " iteration 250, train cost 3.0759, valid cost 3.1510\n",
      " iteration 300, train cost 3.0278, valid cost 3.0868\n",
      " iteration 350, train cost 2.9463, valid cost 3.0161\n",
      " iteration 400, train cost 2.8736, valid cost 2.9498\n",
      " iteration 450, train cost 2.8245, valid cost 2.9102\n",
      " iteration 500, train cost 2.7774, valid cost 2.8821\n",
      " iteration 550, train cost 2.7491, valid cost 2.8641\n",
      " iteration 600, train cost 2.7539, valid cost 2.8583\n",
      " iteration 650, train cost 2.7084, valid cost 2.8712\n",
      " iteration 700, train cost 2.6402, valid cost 2.7868\n",
      " iteration 750, train cost 2.5990, valid cost 2.7622\n",
      " iteration 800, train cost 2.6171, valid cost 2.7663\n",
      " iteration 850, train cost 2.5413, valid cost 2.7195\n",
      " iteration 900, train cost 2.5049, valid cost 2.6942\n",
      " iteration 950, train cost 2.5189, valid cost 2.6976\n",
      " iteration 1000, train cost 2.5066, valid cost 2.6827\n",
      " iteration 1050, train cost 2.4746, valid cost 2.6601\n",
      " iteration 1100, train cost 2.4236, valid cost 2.6312\n",
      " iteration 1150, train cost 2.4259, valid cost 2.6122\n",
      " iteration 1200, train cost 2.3808, valid cost 2.5980\n",
      " iteration 1250, train cost 2.3474, valid cost 2.5854\n",
      " iteration 1300, train cost 2.3269, valid cost 2.5755\n",
      " iteration 1350, train cost 2.3082, valid cost 2.5698\n",
      " iteration 1400, train cost 2.2904, valid cost 2.5617\n",
      " iteration 1450, train cost 2.2762, valid cost 2.5552\n",
      " iteration 1500, train cost 2.2725, valid cost 2.5456\n",
      " iteration 1550, train cost 2.2436, valid cost 2.5400\n",
      " iteration 1600, train cost 2.2481, valid cost 2.5372\n",
      " iteration 1650, train cost 2.2223, valid cost 2.5275\n",
      " iteration 1700, train cost 2.2643, valid cost 2.5568\n",
      " iteration 1750, train cost 2.2073, valid cost 2.5162\n",
      " iteration 1800, train cost 2.2691, valid cost 2.5375\n",
      " iteration 1850, train cost 2.1904, valid cost 2.5068\n",
      " iteration 1900, train cost 2.2309, valid cost 2.5242\n",
      " iteration 1950, train cost 2.1993, valid cost 2.5056\n",
      " iteration 2000, train cost 2.1641, valid cost 2.4912\n",
      " iteration 2050, train cost 2.1508, valid cost 2.4897\n",
      " iteration 2100, train cost 2.1444, valid cost 2.4885\n",
      " iteration 2150, train cost 2.1297, valid cost 2.4764\n",
      " iteration 2200, train cost 2.1205, valid cost 2.4709\n",
      " iteration 2250, train cost 2.2490, valid cost 2.6368\n",
      " iteration 2300, train cost 2.1148, valid cost 2.4663\n",
      " iteration 2350, train cost 2.0961, valid cost 2.4593\n",
      " iteration 2400, train cost 2.1134, valid cost 2.4817\n",
      " iteration 2450, train cost 2.0792, valid cost 2.4498\n",
      " iteration 2500, train cost 2.0691, valid cost 2.4471\n",
      " iteration 2550, train cost 2.0636, valid cost 2.4415\n",
      " iteration 2600, train cost 2.1333, valid cost 2.4646\n",
      " iteration 2650, train cost 2.1034, valid cost 2.4545\n",
      " iteration 2700, train cost 2.2269, valid cost 2.4728\n",
      " iteration 2750, train cost 2.0607, valid cost 2.4363\n",
      " iteration 2800, train cost 2.1241, valid cost 2.4618\n",
      " iteration 2850, train cost 2.1011, valid cost 2.4406\n",
      " iteration 2900, train cost 2.0580, valid cost 2.4290\n",
      " iteration 2950, train cost 2.0459, valid cost 2.4242\n",
      " iteration 3000, train cost 2.0405, valid cost 2.4182\n",
      " iteration 3050, train cost 2.1471, valid cost 2.4798\n",
      " iteration 3100, train cost 2.0305, valid cost 2.4089\n",
      " iteration 3150, train cost 2.0179, valid cost 2.4058\n",
      " iteration 3200, train cost 2.0102, valid cost 2.4004\n",
      " iteration 3250, train cost 2.0069, valid cost 2.4021\n",
      " iteration 3300, train cost 2.1727, valid cost 2.4972\n",
      " iteration 3350, train cost 2.0202, valid cost 2.3889\n",
      " iteration 3400, train cost 1.9941, valid cost 2.3798\n",
      " iteration 3450, train cost 2.2892, valid cost 2.4466\n",
      " iteration 3500, train cost 1.9871, valid cost 2.3675\n",
      " iteration 3550, train cost 1.9726, valid cost 2.3649\n",
      " iteration 3600, train cost 2.0868, valid cost 2.3988\n",
      " iteration 3650, train cost 2.0165, valid cost 2.3768\n",
      " iteration 3700, train cost 1.9939, valid cost 2.3697\n",
      " iteration 3750, train cost 2.0789, valid cost 2.4102\n",
      " iteration 3800, train cost 1.9852, valid cost 2.3600\n",
      " iteration 3850, train cost 1.9758, valid cost 2.3578\n",
      " iteration 3900, train cost 1.9796, valid cost 2.3589\n",
      " iteration 3950, train cost 1.9592, valid cost 2.3467\n"
     ]
    },
    {
     "data": {
      "text/html": [
       "<br/>Waiting for W&B process to finish, PID 191794<br/>Program ended successfully."
      ],
      "text/plain": [
       "<IPython.core.display.HTML object>"
      ]
     },
     "metadata": {},
     "output_type": "display_data"
    },
    {
     "name": "stderr",
     "output_type": "stream",
     "text": [
      "Widget Javascript not detected.  It may not be installed or enabled properly.\n"
     ]
    },
    {
     "data": {
      "application/vnd.jupyter.widget-view+json": {
       "model_id": "6485fbd8c897473f8e244b0511b689b1"
      }
     },
     "metadata": {},
     "output_type": "display_data"
    },
    {
     "data": {
      "text/html": [
       "Find user logs for this run at: <code>/home/sazeglio/NMAs/src/wandb/run-20210815_015954-6voyndhc/logs/debug.log</code>"
      ],
      "text/plain": [
       "<IPython.core.display.HTML object>"
      ]
     },
     "metadata": {},
     "output_type": "display_data"
    },
    {
     "data": {
      "text/html": [
       "Find internal logs for this run at: <code>/home/sazeglio/NMAs/src/wandb/run-20210815_015954-6voyndhc/logs/debug-internal.log</code>"
      ],
      "text/plain": [
       "<IPython.core.display.HTML object>"
      ]
     },
     "metadata": {},
     "output_type": "display_data"
    },
    {
     "data": {
      "text/html": [
       "<h3>Run summary:</h3><br/><style>\n",
       "    table.wandb td:nth-child(1) { padding: 0 10px; text-align: right }\n",
       "    </style><table class=\"wandb\">\n",
       "<tr><td>train_loss</td><td>1.9582</td></tr><tr><td>valid_loss</td><td>2.34771</td></tr><tr><td>epoch</td><td>3999</td></tr><tr><td>_runtime</td><td>1235</td></tr><tr><td>_timestamp</td><td>1628986829</td></tr><tr><td>_step</td><td>3999</td></tr></table>"
      ],
      "text/plain": [
       "<IPython.core.display.HTML object>"
      ]
     },
     "metadata": {},
     "output_type": "display_data"
    },
    {
     "data": {
      "text/html": [
       "<h3>Run history:</h3><br/><style>\n",
       "    table.wandb td:nth-child(1) { padding: 0 10px; text-align: right }\n",
       "    </style><table class=\"wandb\">\n",
       "<tr><td>train_loss</td><td>██▇▇▆▅▅▄▄▄▄▃▃▃▃▃▂▂▂▂▂▂▂▂▂▂▂▂▂▁▂▁▁▁▁▂▁▁▁▁</td></tr><tr><td>valid_loss</td><td>██▇▆▅▅▄▄▄▃▃▃▃▃▂▂▂▂▂▂▂▂▂▂▂▂▂▃▂▂▁▁▁▁▁▂▁▁▁▁</td></tr><tr><td>epoch</td><td>▁▁▁▂▂▂▂▂▂▃▃▃▃▃▄▄▄▄▄▄▅▅▅▅▅▅▆▆▆▆▆▇▇▇▇▇▇███</td></tr><tr><td>_runtime</td><td>▁▁▁▂▂▂▂▂▂▃▃▃▃▃▄▄▄▄▄▄▅▅▅▅▅▅▆▆▆▆▆▇▇▇▇▇▇███</td></tr><tr><td>_timestamp</td><td>▁▁▁▂▂▂▂▂▂▃▃▃▃▃▄▄▄▄▄▄▅▅▅▅▅▅▆▆▆▆▆▇▇▇▇▇▇███</td></tr><tr><td>_step</td><td>▁▁▁▂▂▂▂▂▂▃▃▃▃▃▄▄▄▄▄▄▅▅▅▅▅▅▆▆▆▆▆▇▇▇▇▇▇███</td></tr></table><br/>"
      ],
      "text/plain": [
       "<IPython.core.display.HTML object>"
      ]
     },
     "metadata": {},
     "output_type": "display_data"
    },
    {
     "data": {
      "text/html": [
       "Synced 5 W&B file(s), 0 media file(s), 0 artifact file(s) and 0 other file(s)"
      ],
      "text/plain": [
       "<IPython.core.display.HTML object>"
      ]
     },
     "metadata": {},
     "output_type": "display_data"
    },
    {
     "data": {
      "text/html": [
       "\n",
       "                    <br/>Synced <strong style=\"color:#cdcd00\">crisp-sweep-2</strong>: <a href=\"https://wandb.ai/sazio/NMAs-Full-Signals/runs/6voyndhc\" target=\"_blank\">https://wandb.ai/sazio/NMAs-Full-Signals/runs/6voyndhc</a><br/>\n",
       "                "
      ],
      "text/plain": [
       "<IPython.core.display.HTML object>"
      ]
     },
     "metadata": {},
     "output_type": "display_data"
    },
    {
     "name": "stderr",
     "output_type": "stream",
     "text": [
      "wandb: Agent Starting Run: 1lcugb4t with config:\n",
      "wandb: \tdropout: 0.2\n",
      "wandb: \tepochs: 4000\n",
      "wandb: \tlearning_rate: 5.406403573394386e-05\n",
      "wandb: \tn_comp: 100\n",
      "wandb: \tnum_layers: 1\n",
      "wandb: \toptimizer: adam\n",
      "wandb: \tweight_decay: 0\n",
      "Failed to detect the name of this notebook, you can set it manually with the WANDB_NOTEBOOK_NAME environment variable to enable code saving.\n"
     ]
    },
    {
     "data": {
      "text/html": [
       "\n",
       "                Tracking run with wandb version 0.12.0<br/>\n",
       "                Syncing run <strong style=\"color:#cdcd00\">absurd-sweep-3</strong> to <a href=\"https://wandb.ai\" target=\"_blank\">Weights & Biases</a> <a href=\"https://docs.wandb.com/integrations/jupyter.html\" target=\"_blank\">(Documentation)</a>.<br/>\n",
       "                Project page: <a href=\"https://wandb.ai/sazio/NMAs-Full-Signals\" target=\"_blank\">https://wandb.ai/sazio/NMAs-Full-Signals</a><br/>\n",
       "                Sweep page: <a href=\"https://wandb.ai/sazio/NMAs-Full-Signals/sweeps/cbewt4f6\" target=\"_blank\">https://wandb.ai/sazio/NMAs-Full-Signals/sweeps/cbewt4f6</a><br/>\n",
       "Run page: <a href=\"https://wandb.ai/sazio/NMAs-Full-Signals/runs/1lcugb4t\" target=\"_blank\">https://wandb.ai/sazio/NMAs-Full-Signals/runs/1lcugb4t</a><br/>\n",
       "                Run data is saved locally in <code>/home/sazeglio/NMAs/src/wandb/run-20210815_022033-1lcugb4t</code><br/><br/>\n",
       "            "
      ],
      "text/plain": [
       "<IPython.core.display.HTML object>"
      ]
     },
     "metadata": {},
     "output_type": "display_data"
    },
    {
     "name": "stdout",
     "output_type": "stream",
     "text": [
      " iteration 0, train cost 4.9332, valid cost 5.0362\n",
      " iteration 50, train cost 4.8146, valid cost 4.9101\n",
      " iteration 100, train cost 4.0673, valid cost 4.1402\n",
      " iteration 150, train cost 3.5902, valid cost 3.6634\n",
      " iteration 200, train cost 3.4047, valid cost 3.4759\n",
      " iteration 250, train cost 3.3387, valid cost 3.4073\n",
      " iteration 300, train cost 3.3141, valid cost 3.3811\n",
      " iteration 350, train cost 3.3015, valid cost 3.3704\n",
      " iteration 400, train cost 3.2952, valid cost 3.3655\n",
      " iteration 450, train cost 3.2914, valid cost 3.3630\n",
      " iteration 500, train cost 3.2884, valid cost 3.3614\n",
      " iteration 550, train cost 3.2860, valid cost 3.3603\n",
      " iteration 600, train cost 3.2843, valid cost 3.3596\n",
      " iteration 650, train cost 3.2825, valid cost 3.3588\n",
      " iteration 700, train cost 3.2807, valid cost 3.3580\n",
      " iteration 750, train cost 3.2794, valid cost 3.3572\n",
      " iteration 800, train cost 3.2780, valid cost 3.3564\n",
      " iteration 850, train cost 3.2764, valid cost 3.3553\n",
      " iteration 900, train cost 3.2745, valid cost 3.3539\n",
      " iteration 950, train cost 3.2725, valid cost 3.3517\n",
      " iteration 1000, train cost 3.2692, valid cost 3.3484\n",
      " iteration 1050, train cost 3.2647, valid cost 3.3434\n",
      " iteration 1100, train cost 3.2577, valid cost 3.3352\n",
      " iteration 1150, train cost 3.2464, valid cost 3.3221\n",
      " iteration 1200, train cost 3.2302, valid cost 3.3026\n",
      " iteration 1250, train cost 3.2084, valid cost 3.2767\n",
      " iteration 1300, train cost 3.1818, valid cost 3.2476\n",
      " iteration 1350, train cost 3.1537, valid cost 3.2181\n",
      " iteration 1400, train cost 3.1291, valid cost 3.1933\n",
      " iteration 1450, train cost 3.1110, valid cost 3.1756\n",
      " iteration 1500, train cost 3.0992, valid cost 3.1634\n",
      " iteration 1550, train cost 3.0897, valid cost 3.1540\n",
      " iteration 1600, train cost 3.0814, valid cost 3.1462\n",
      " iteration 1650, train cost 3.0734, valid cost 3.1386\n",
      " iteration 1700, train cost 3.0650, valid cost 3.1300\n",
      " iteration 1750, train cost 3.0545, valid cost 3.1197\n",
      " iteration 1800, train cost 3.0417, valid cost 3.1069\n",
      " iteration 1850, train cost 3.0269, valid cost 3.0917\n",
      " iteration 1900, train cost 3.0109, valid cost 3.0749\n",
      " iteration 1950, train cost 2.9942, valid cost 3.0567\n",
      " iteration 2000, train cost 2.9770, valid cost 3.0381\n",
      " iteration 2050, train cost 2.9596, valid cost 3.0204\n",
      " iteration 2100, train cost 2.9437, valid cost 3.0045\n",
      " iteration 2150, train cost 2.9282, valid cost 2.9898\n",
      " iteration 2200, train cost 2.9128, valid cost 2.9751\n",
      " iteration 2250, train cost 2.8969, valid cost 2.9606\n",
      " iteration 2300, train cost 2.8808, valid cost 2.9460\n",
      " iteration 2350, train cost 2.8652, valid cost 2.9314\n",
      " iteration 2400, train cost 2.8495, valid cost 2.9173\n",
      " iteration 2450, train cost 2.8353, valid cost 2.9037\n",
      " iteration 2500, train cost 2.8206, valid cost 2.8905\n",
      " iteration 2550, train cost 2.8060, valid cost 2.8773\n",
      " iteration 2600, train cost 2.7916, valid cost 2.8641\n",
      " iteration 2650, train cost 2.7776, valid cost 2.8509\n",
      " iteration 2700, train cost 2.7636, valid cost 2.8379\n",
      " iteration 2750, train cost 2.7490, valid cost 2.8251\n",
      " iteration 2800, train cost 2.7364, valid cost 2.8129\n",
      " iteration 2850, train cost 2.7231, valid cost 2.8009\n",
      " iteration 2900, train cost 2.7107, valid cost 2.7892\n",
      " iteration 2950, train cost 2.6984, valid cost 2.7777\n",
      " iteration 3000, train cost 2.6864, valid cost 2.7660\n",
      " iteration 3050, train cost 2.6740, valid cost 2.7542\n",
      " iteration 3100, train cost 2.6625, valid cost 2.7427\n",
      " iteration 3150, train cost 2.6502, valid cost 2.7315\n",
      " iteration 3200, train cost 2.6386, valid cost 2.7199\n",
      " iteration 3250, train cost 2.6273, valid cost 2.7091\n",
      " iteration 3300, train cost 2.6167, valid cost 2.6982\n",
      " iteration 3350, train cost 2.6065, valid cost 2.6881\n",
      " iteration 3400, train cost 2.5962, valid cost 2.6784\n",
      " iteration 3450, train cost 2.5869, valid cost 2.6691\n",
      " iteration 3500, train cost 2.5776, valid cost 2.6600\n",
      " iteration 3550, train cost 2.5681, valid cost 2.6513\n",
      " iteration 3600, train cost 2.5600, valid cost 2.6431\n",
      " iteration 3650, train cost 2.5518, valid cost 2.6349\n",
      " iteration 3700, train cost 2.5431, valid cost 2.6274\n",
      " iteration 3750, train cost 2.5345, valid cost 2.6200\n",
      " iteration 3800, train cost 2.5273, valid cost 2.6128\n",
      " iteration 3850, train cost 2.5195, valid cost 2.6056\n",
      " iteration 3900, train cost 2.5118, valid cost 2.5982\n",
      " iteration 3950, train cost 2.5045, valid cost 2.5910\n"
     ]
    },
    {
     "data": {
      "text/html": [
       "<br/>Waiting for W&B process to finish, PID 192114<br/>Program ended successfully."
      ],
      "text/plain": [
       "<IPython.core.display.HTML object>"
      ]
     },
     "metadata": {},
     "output_type": "display_data"
    },
    {
     "name": "stderr",
     "output_type": "stream",
     "text": [
      "Widget Javascript not detected.  It may not be installed or enabled properly.\n"
     ]
    },
    {
     "data": {
      "application/vnd.jupyter.widget-view+json": {
       "model_id": "b40eb31f7052411ea4a35172a8d89de8"
      }
     },
     "metadata": {},
     "output_type": "display_data"
    },
    {
     "data": {
      "text/html": [
       "Find user logs for this run at: <code>/home/sazeglio/NMAs/src/wandb/run-20210815_022033-1lcugb4t/logs/debug.log</code>"
      ],
      "text/plain": [
       "<IPython.core.display.HTML object>"
      ]
     },
     "metadata": {},
     "output_type": "display_data"
    },
    {
     "data": {
      "text/html": [
       "Find internal logs for this run at: <code>/home/sazeglio/NMAs/src/wandb/run-20210815_022033-1lcugb4t/logs/debug-internal.log</code>"
      ],
      "text/plain": [
       "<IPython.core.display.HTML object>"
      ]
     },
     "metadata": {},
     "output_type": "display_data"
    },
    {
     "data": {
      "text/html": [
       "<h3>Run summary:</h3><br/><style>\n",
       "    table.wandb td:nth-child(1) { padding: 0 10px; text-align: right }\n",
       "    </style><table class=\"wandb\">\n",
       "<tr><td>train_loss</td><td>2.49588</td></tr><tr><td>valid_loss</td><td>2.58365</td></tr><tr><td>epoch</td><td>3999</td></tr><tr><td>_runtime</td><td>1237</td></tr><tr><td>_timestamp</td><td>1628988070</td></tr><tr><td>_step</td><td>3999</td></tr></table>"
      ],
      "text/plain": [
       "<IPython.core.display.HTML object>"
      ]
     },
     "metadata": {},
     "output_type": "display_data"
    },
    {
     "data": {
      "text/html": [
       "<h3>Run history:</h3><br/><style>\n",
       "    table.wandb td:nth-child(1) { padding: 0 10px; text-align: right }\n",
       "    </style><table class=\"wandb\">\n",
       "<tr><td>train_loss</td><td>█▅▄▃▃▃▃▃▃▃▃▃▃▃▃▃▃▃▃▂▂▂▂▂▂▂▂▂▂▂▁▁▁▁▁▁▁▁▁▁</td></tr><tr><td>valid_loss</td><td>█▅▃▃▃▃▃▃▃▃▃▃▃▃▃▃▃▃▂▂▂▂▂▂▂▂▂▂▂▂▁▁▁▁▁▁▁▁▁▁</td></tr><tr><td>epoch</td><td>▁▁▁▂▂▂▂▂▂▃▃▃▃▃▄▄▄▄▄▄▅▅▅▅▅▅▆▆▆▆▆▇▇▇▇▇▇███</td></tr><tr><td>_runtime</td><td>▁▁▁▂▂▂▂▂▂▃▃▃▃▃▄▄▄▄▄▄▅▅▅▅▅▅▆▆▆▆▆▇▇▇▇▇▇███</td></tr><tr><td>_timestamp</td><td>▁▁▁▂▂▂▂▂▂▃▃▃▃▃▄▄▄▄▄▄▅▅▅▅▅▅▆▆▆▆▆▇▇▇▇▇▇███</td></tr><tr><td>_step</td><td>▁▁▁▂▂▂▂▂▂▃▃▃▃▃▄▄▄▄▄▄▅▅▅▅▅▅▆▆▆▆▆▇▇▇▇▇▇███</td></tr></table><br/>"
      ],
      "text/plain": [
       "<IPython.core.display.HTML object>"
      ]
     },
     "metadata": {},
     "output_type": "display_data"
    },
    {
     "data": {
      "text/html": [
       "Synced 5 W&B file(s), 0 media file(s), 0 artifact file(s) and 0 other file(s)"
      ],
      "text/plain": [
       "<IPython.core.display.HTML object>"
      ]
     },
     "metadata": {},
     "output_type": "display_data"
    },
    {
     "data": {
      "text/html": [
       "\n",
       "                    <br/>Synced <strong style=\"color:#cdcd00\">absurd-sweep-3</strong>: <a href=\"https://wandb.ai/sazio/NMAs-Full-Signals/runs/1lcugb4t\" target=\"_blank\">https://wandb.ai/sazio/NMAs-Full-Signals/runs/1lcugb4t</a><br/>\n",
       "                "
      ],
      "text/plain": [
       "<IPython.core.display.HTML object>"
      ]
     },
     "metadata": {},
     "output_type": "display_data"
    },
    {
     "name": "stderr",
     "output_type": "stream",
     "text": [
      "wandb: Agent Starting Run: u6lfj0hn with config:\n",
      "wandb: \tdropout: 0.3\n",
      "wandb: \tepochs: 4000\n",
      "wandb: \tlearning_rate: 8.268778791940804e-05\n",
      "wandb: \tn_comp: 100\n",
      "wandb: \tnum_layers: 1\n",
      "wandb: \toptimizer: adam\n",
      "wandb: \tweight_decay: 1e-06\n",
      "Failed to detect the name of this notebook, you can set it manually with the WANDB_NOTEBOOK_NAME environment variable to enable code saving.\n"
     ]
    },
    {
     "data": {
      "text/html": [
       "\n",
       "                Tracking run with wandb version 0.12.0<br/>\n",
       "                Syncing run <strong style=\"color:#cdcd00\">tough-sweep-4</strong> to <a href=\"https://wandb.ai\" target=\"_blank\">Weights & Biases</a> <a href=\"https://docs.wandb.com/integrations/jupyter.html\" target=\"_blank\">(Documentation)</a>.<br/>\n",
       "                Project page: <a href=\"https://wandb.ai/sazio/NMAs-Full-Signals\" target=\"_blank\">https://wandb.ai/sazio/NMAs-Full-Signals</a><br/>\n",
       "                Sweep page: <a href=\"https://wandb.ai/sazio/NMAs-Full-Signals/sweeps/cbewt4f6\" target=\"_blank\">https://wandb.ai/sazio/NMAs-Full-Signals/sweeps/cbewt4f6</a><br/>\n",
       "Run page: <a href=\"https://wandb.ai/sazio/NMAs-Full-Signals/runs/u6lfj0hn\" target=\"_blank\">https://wandb.ai/sazio/NMAs-Full-Signals/runs/u6lfj0hn</a><br/>\n",
       "                Run data is saved locally in <code>/home/sazeglio/NMAs/src/wandb/run-20210815_024114-u6lfj0hn</code><br/><br/>\n",
       "            "
      ],
      "text/plain": [
       "<IPython.core.display.HTML object>"
      ]
     },
     "metadata": {},
     "output_type": "display_data"
    },
    {
     "name": "stdout",
     "output_type": "stream",
     "text": [
      " iteration 0, train cost 4.9277, valid cost 5.0296\n",
      " iteration 50, train cost 4.5277, valid cost 4.6036\n",
      " iteration 100, train cost 3.7113, valid cost 3.7823\n",
      " iteration 150, train cost 3.3935, valid cost 3.4657\n",
      " iteration 200, train cost 3.3151, valid cost 3.3867\n",
      " iteration 250, train cost 3.2972, valid cost 3.3690\n",
      " iteration 300, train cost 3.2902, valid cost 3.3634\n",
      " iteration 350, train cost 3.2852, valid cost 3.3605\n",
      " iteration 400, train cost 3.2817, valid cost 3.3585\n",
      " iteration 450, train cost 3.2786, valid cost 3.3566\n",
      " iteration 500, train cost 3.2752, valid cost 3.3539\n",
      " iteration 550, train cost 3.2706, valid cost 3.3495\n",
      " iteration 600, train cost 3.2638, valid cost 3.3424\n",
      " iteration 650, train cost 3.2543, valid cost 3.3314\n",
      " iteration 700, train cost 3.2401, valid cost 3.3143\n",
      " iteration 750, train cost 3.2203, valid cost 3.2900\n",
      " iteration 800, train cost 3.1961, valid cost 3.2613\n",
      " iteration 850, train cost 3.1693, valid cost 3.2303\n",
      " iteration 900, train cost 3.1393, valid cost 3.1972\n",
      " iteration 950, train cost 3.1089, valid cost 3.1672\n",
      " iteration 1000, train cost 3.0845, valid cost 3.1438\n",
      " iteration 1050, train cost 3.0624, valid cost 3.1244\n",
      " iteration 1100, train cost 3.0436, valid cost 3.1074\n",
      " iteration 1150, train cost 3.0262, valid cost 3.0919\n",
      " iteration 1200, train cost 3.0102, valid cost 3.0773\n",
      " iteration 1250, train cost 2.9927, valid cost 3.0615\n",
      " iteration 1300, train cost 2.9724, valid cost 3.0427\n",
      " iteration 1350, train cost 2.9481, valid cost 3.0200\n",
      " iteration 1400, train cost 2.9221, valid cost 2.9948\n",
      " iteration 1450, train cost 2.8956, valid cost 2.9690\n",
      " iteration 1500, train cost 2.8691, valid cost 2.9439\n",
      " iteration 1550, train cost 2.8447, valid cost 2.9204\n",
      " iteration 1600, train cost 2.8205, valid cost 2.8985\n",
      " iteration 1650, train cost 2.7985, valid cost 2.8782\n",
      " iteration 1700, train cost 2.7761, valid cost 2.8586\n",
      " iteration 1750, train cost 2.7554, valid cost 2.8394\n",
      " iteration 1800, train cost 2.7348, valid cost 2.8209\n",
      " iteration 1850, train cost 2.7163, valid cost 2.8039\n",
      " iteration 1900, train cost 2.6986, valid cost 2.7875\n",
      " iteration 1950, train cost 2.6821, valid cost 2.7721\n",
      " iteration 2000, train cost 2.6661, valid cost 2.7581\n",
      " iteration 2050, train cost 2.6511, valid cost 2.7445\n",
      " iteration 2100, train cost 2.6373, valid cost 2.7319\n",
      " iteration 2150, train cost 2.6246, valid cost 2.7199\n",
      " iteration 2200, train cost 2.6110, valid cost 2.7084\n",
      " iteration 2250, train cost 2.5990, valid cost 2.6970\n",
      " iteration 2300, train cost 2.5863, valid cost 2.6856\n",
      " iteration 2350, train cost 2.5748, valid cost 2.6748\n",
      " iteration 2400, train cost 2.5624, valid cost 2.6638\n",
      " iteration 2450, train cost 2.5521, valid cost 2.6531\n",
      " iteration 2500, train cost 2.5394, valid cost 2.6428\n",
      " iteration 2550, train cost 2.5295, valid cost 2.6327\n",
      " iteration 2600, train cost 2.5186, valid cost 2.6221\n",
      " iteration 2650, train cost 2.5067, valid cost 2.6121\n",
      " iteration 2700, train cost 2.4957, valid cost 2.6022\n",
      " iteration 2750, train cost 2.4861, valid cost 2.5927\n",
      " iteration 2800, train cost 2.4764, valid cost 2.5832\n",
      " iteration 2850, train cost 2.4666, valid cost 2.5745\n",
      " iteration 2900, train cost 2.4577, valid cost 2.5658\n",
      " iteration 2950, train cost 2.4481, valid cost 2.5575\n",
      " iteration 3000, train cost 2.4397, valid cost 2.5493\n",
      " iteration 3050, train cost 2.4312, valid cost 2.5413\n",
      " iteration 3100, train cost 2.4226, valid cost 2.5329\n",
      " iteration 3150, train cost 2.4154, valid cost 2.5247\n",
      " iteration 3200, train cost 2.4061, valid cost 2.5168\n",
      " iteration 3250, train cost 2.3979, valid cost 2.5095\n",
      " iteration 3300, train cost 2.3904, valid cost 2.5026\n",
      " iteration 3350, train cost 2.3832, valid cost 2.4958\n",
      " iteration 3400, train cost 2.3752, valid cost 2.4887\n",
      " iteration 3450, train cost 2.3692, valid cost 2.4824\n",
      " iteration 3500, train cost 2.3621, valid cost 2.4756\n",
      " iteration 3550, train cost 2.3558, valid cost 2.4693\n",
      " iteration 3600, train cost 2.3487, valid cost 2.4627\n",
      " iteration 3650, train cost 2.3431, valid cost 2.4563\n",
      " iteration 3700, train cost 2.3340, valid cost 2.4502\n",
      " iteration 3750, train cost 2.3288, valid cost 2.4435\n",
      " iteration 3800, train cost 2.3211, valid cost 2.4375\n",
      " iteration 3850, train cost 2.3144, valid cost 2.4316\n",
      " iteration 3900, train cost 2.3084, valid cost 2.4258\n",
      " iteration 3950, train cost 2.3018, valid cost 2.4203\n"
     ]
    },
    {
     "data": {
      "text/html": [
       "<br/>Waiting for W&B process to finish, PID 192388<br/>Program ended successfully."
      ],
      "text/plain": [
       "<IPython.core.display.HTML object>"
      ]
     },
     "metadata": {},
     "output_type": "display_data"
    },
    {
     "name": "stderr",
     "output_type": "stream",
     "text": [
      "Widget Javascript not detected.  It may not be installed or enabled properly.\n"
     ]
    },
    {
     "data": {
      "application/vnd.jupyter.widget-view+json": {
       "model_id": "fe6dcb831a0449f98353978a6e194337"
      }
     },
     "metadata": {},
     "output_type": "display_data"
    },
    {
     "data": {
      "text/html": [
       "Find user logs for this run at: <code>/home/sazeglio/NMAs/src/wandb/run-20210815_024114-u6lfj0hn/logs/debug.log</code>"
      ],
      "text/plain": [
       "<IPython.core.display.HTML object>"
      ]
     },
     "metadata": {},
     "output_type": "display_data"
    },
    {
     "data": {
      "text/html": [
       "Find internal logs for this run at: <code>/home/sazeglio/NMAs/src/wandb/run-20210815_024114-u6lfj0hn/logs/debug-internal.log</code>"
      ],
      "text/plain": [
       "<IPython.core.display.HTML object>"
      ]
     },
     "metadata": {},
     "output_type": "display_data"
    },
    {
     "data": {
      "text/html": [
       "<h3>Run summary:</h3><br/><style>\n",
       "    table.wandb td:nth-child(1) { padding: 0 10px; text-align: right }\n",
       "    </style><table class=\"wandb\">\n",
       "<tr><td>train_loss</td><td>2.29541</td></tr><tr><td>valid_loss</td><td>2.4149</td></tr><tr><td>epoch</td><td>3999</td></tr><tr><td>_runtime</td><td>1232</td></tr><tr><td>_timestamp</td><td>1628989306</td></tr><tr><td>_step</td><td>3999</td></tr></table>"
      ],
      "text/plain": [
       "<IPython.core.display.HTML object>"
      ]
     },
     "metadata": {},
     "output_type": "display_data"
    },
    {
     "data": {
      "text/html": [
       "<h3>Run history:</h3><br/><style>\n",
       "    table.wandb td:nth-child(1) { padding: 0 10px; text-align: right }\n",
       "    </style><table class=\"wandb\">\n",
       "<tr><td>train_loss</td><td>█▄▄▄▄▄▄▄▃▃▃▃▃▃▃▃▂▂▂▂▂▂▂▂▂▂▂▂▁▁▁▁▁▁▁▁▁▁▁▁</td></tr><tr><td>valid_loss</td><td>█▄▄▄▄▄▄▃▃▃▃▃▃▃▃▂▂▂▂▂▂▂▂▂▂▂▂▁▁▁▁▁▁▁▁▁▁▁▁▁</td></tr><tr><td>epoch</td><td>▁▁▁▂▂▂▂▂▂▃▃▃▃▃▄▄▄▄▄▄▅▅▅▅▅▅▆▆▆▆▆▇▇▇▇▇▇███</td></tr><tr><td>_runtime</td><td>▁▁▁▂▂▂▂▂▂▃▃▃▃▃▃▄▄▄▄▄▅▅▅▅▅▅▆▆▆▆▆▇▇▇▇▇▇███</td></tr><tr><td>_timestamp</td><td>▁▁▁▂▂▂▂▂▂▃▃▃▃▃▃▄▄▄▄▄▅▅▅▅▅▅▆▆▆▆▆▇▇▇▇▇▇███</td></tr><tr><td>_step</td><td>▁▁▁▂▂▂▂▂▂▃▃▃▃▃▄▄▄▄▄▄▅▅▅▅▅▅▆▆▆▆▆▇▇▇▇▇▇███</td></tr></table><br/>"
      ],
      "text/plain": [
       "<IPython.core.display.HTML object>"
      ]
     },
     "metadata": {},
     "output_type": "display_data"
    },
    {
     "data": {
      "text/html": [
       "Synced 5 W&B file(s), 0 media file(s), 0 artifact file(s) and 0 other file(s)"
      ],
      "text/plain": [
       "<IPython.core.display.HTML object>"
      ]
     },
     "metadata": {},
     "output_type": "display_data"
    },
    {
     "data": {
      "text/html": [
       "\n",
       "                    <br/>Synced <strong style=\"color:#cdcd00\">tough-sweep-4</strong>: <a href=\"https://wandb.ai/sazio/NMAs-Full-Signals/runs/u6lfj0hn\" target=\"_blank\">https://wandb.ai/sazio/NMAs-Full-Signals/runs/u6lfj0hn</a><br/>\n",
       "                "
      ],
      "text/plain": [
       "<IPython.core.display.HTML object>"
      ]
     },
     "metadata": {},
     "output_type": "display_data"
    },
    {
     "name": "stderr",
     "output_type": "stream",
     "text": [
      "wandb: Agent Starting Run: oeu68pls with config:\n",
      "wandb: \tdropout: 0.3\n",
      "wandb: \tepochs: 4000\n",
      "wandb: \tlearning_rate: 0.0011022032206845556\n",
      "wandb: \tn_comp: 100\n",
      "wandb: \tnum_layers: 1\n",
      "wandb: \toptimizer: adam\n",
      "wandb: \tweight_decay: 1e-05\n",
      "Failed to detect the name of this notebook, you can set it manually with the WANDB_NOTEBOOK_NAME environment variable to enable code saving.\n"
     ]
    },
    {
     "data": {
      "text/html": [
       "\n",
       "                Tracking run with wandb version 0.12.0<br/>\n",
       "                Syncing run <strong style=\"color:#cdcd00\">chocolate-sweep-5</strong> to <a href=\"https://wandb.ai\" target=\"_blank\">Weights & Biases</a> <a href=\"https://docs.wandb.com/integrations/jupyter.html\" target=\"_blank\">(Documentation)</a>.<br/>\n",
       "                Project page: <a href=\"https://wandb.ai/sazio/NMAs-Full-Signals\" target=\"_blank\">https://wandb.ai/sazio/NMAs-Full-Signals</a><br/>\n",
       "                Sweep page: <a href=\"https://wandb.ai/sazio/NMAs-Full-Signals/sweeps/cbewt4f6\" target=\"_blank\">https://wandb.ai/sazio/NMAs-Full-Signals/sweeps/cbewt4f6</a><br/>\n",
       "Run page: <a href=\"https://wandb.ai/sazio/NMAs-Full-Signals/runs/oeu68pls\" target=\"_blank\">https://wandb.ai/sazio/NMAs-Full-Signals/runs/oeu68pls</a><br/>\n",
       "                Run data is saved locally in <code>/home/sazeglio/NMAs/src/wandb/run-20210815_030150-oeu68pls</code><br/><br/>\n",
       "            "
      ],
      "text/plain": [
       "<IPython.core.display.HTML object>"
      ]
     },
     "metadata": {},
     "output_type": "display_data"
    },
    {
     "name": "stdout",
     "output_type": "stream",
     "text": [
      " iteration 0, train cost 4.9286, valid cost 5.0178\n",
      " iteration 50, train cost 3.2854, valid cost 3.3659\n",
      " iteration 100, train cost 3.2693, valid cost 3.3540\n",
      " iteration 150, train cost 3.1595, valid cost 3.2373\n",
      " iteration 200, train cost 3.0332, valid cost 3.1025\n",
      " iteration 250, train cost 2.9437, valid cost 3.0125\n",
      " iteration 300, train cost 2.8874, valid cost 2.9678\n",
      " iteration 350, train cost 2.8094, valid cost 2.8905\n",
      " iteration 400, train cost 2.8039, valid cost 2.8310\n",
      " iteration 450, train cost 2.6714, valid cost 2.7601\n",
      " iteration 500, train cost 2.6057, valid cost 2.6960\n",
      " iteration 550, train cost 2.5524, valid cost 2.6452\n",
      " iteration 600, train cost 2.5182, valid cost 2.6100\n",
      " iteration 650, train cost 2.4801, valid cost 2.5752\n",
      " iteration 700, train cost 2.4428, valid cost 2.5430\n",
      " iteration 750, train cost 2.4057, valid cost 2.5093\n",
      " iteration 800, train cost 2.3718, valid cost 2.4792\n",
      " iteration 850, train cost 2.3390, valid cost 2.4508\n",
      " iteration 900, train cost 2.3137, valid cost 2.4296\n",
      " iteration 950, train cost 2.2843, valid cost 2.4083\n",
      " iteration 1000, train cost 2.2601, valid cost 2.3851\n",
      " iteration 1050, train cost 2.2332, valid cost 2.3600\n",
      " iteration 1100, train cost 2.2134, valid cost 2.3416\n",
      " iteration 1150, train cost 2.1944, valid cost 2.3241\n",
      " iteration 1200, train cost 2.1756, valid cost 2.3084\n",
      " iteration 1250, train cost 2.1594, valid cost 2.2934\n",
      " iteration 1300, train cost 2.1434, valid cost 2.2795\n",
      " iteration 1350, train cost 2.1295, valid cost 2.2680\n",
      " iteration 1400, train cost 2.1220, valid cost 2.2605\n",
      " iteration 1450, train cost 2.1010, valid cost 2.2455\n",
      " iteration 1500, train cost 2.0929, valid cost 2.2380\n",
      " iteration 1550, train cost 2.0809, valid cost 2.2265\n",
      " iteration 1600, train cost 2.0647, valid cost 2.2130\n",
      " iteration 1650, train cost 2.0542, valid cost 2.2050\n",
      " iteration 1700, train cost 2.0413, valid cost 2.1922\n",
      " iteration 1750, train cost 2.0287, valid cost 2.1832\n",
      " iteration 1800, train cost 2.0189, valid cost 2.1759\n",
      " iteration 1850, train cost 2.0064, valid cost 2.1664\n",
      " iteration 1900, train cost 1.9968, valid cost 2.1584\n",
      " iteration 1950, train cost 1.9887, valid cost 2.1514\n",
      " iteration 2000, train cost 1.9753, valid cost 2.1426\n",
      " iteration 2050, train cost 1.9661, valid cost 2.1346\n",
      " iteration 2100, train cost 1.9560, valid cost 2.1280\n",
      " iteration 2150, train cost 1.9503, valid cost 2.1215\n",
      " iteration 2200, train cost 2.0492, valid cost 2.1853\n",
      " iteration 2250, train cost 1.9297, valid cost 2.1057\n",
      " iteration 2300, train cost 1.9203, valid cost 2.0998\n",
      " iteration 2350, train cost 2.0105, valid cost 2.1754\n",
      " iteration 2400, train cost 1.9103, valid cost 2.0891\n",
      " iteration 2450, train cost 1.9043, valid cost 2.0858\n",
      " iteration 2500, train cost 1.8954, valid cost 2.0819\n",
      " iteration 2550, train cost 1.8944, valid cost 2.0779\n",
      " iteration 2600, train cost 1.8841, valid cost 2.0712\n",
      " iteration 2650, train cost 1.8774, valid cost 2.0681\n",
      " iteration 2700, train cost 1.8728, valid cost 2.0657\n",
      " iteration 2750, train cost 1.8671, valid cost 2.0609\n",
      " iteration 2800, train cost 1.8624, valid cost 2.0547\n",
      " iteration 2850, train cost 1.8563, valid cost 2.0513\n",
      " iteration 2900, train cost 1.8534, valid cost 2.0504\n",
      " iteration 2950, train cost 1.8463, valid cost 2.0440\n",
      " iteration 3000, train cost 1.8454, valid cost 2.0444\n",
      " iteration 3050, train cost 1.8367, valid cost 2.0339\n",
      " iteration 3100, train cost 1.8304, valid cost 2.0312\n",
      " iteration 3150, train cost 1.8253, valid cost 2.0289\n",
      " iteration 3200, train cost 1.8320, valid cost 2.0282\n",
      " iteration 3250, train cost 1.8195, valid cost 2.0186\n",
      " iteration 3300, train cost 1.8145, valid cost 2.0168\n",
      " iteration 3350, train cost 1.8518, valid cost 2.0499\n",
      " iteration 3400, train cost 1.8094, valid cost 2.0136\n",
      " iteration 3450, train cost 1.8030, valid cost 2.0112\n",
      " iteration 3500, train cost 1.8072, valid cost 2.0144\n",
      " iteration 3550, train cost 1.7983, valid cost 2.0090\n",
      " iteration 3600, train cost 1.7946, valid cost 2.0084\n",
      " iteration 3650, train cost 1.7914, valid cost 2.0056\n",
      " iteration 3700, train cost 1.7936, valid cost 2.0119\n",
      " iteration 3750, train cost 1.7864, valid cost 2.0033\n",
      " iteration 3800, train cost 1.7842, valid cost 2.0015\n",
      " iteration 3850, train cost 1.7799, valid cost 1.9999\n",
      " iteration 3900, train cost 1.7772, valid cost 2.0006\n",
      " iteration 3950, train cost 1.7994, valid cost 2.0083\n"
     ]
    },
    {
     "data": {
      "text/html": [
       "<br/>Waiting for W&B process to finish, PID 192647<br/>Program ended successfully."
      ],
      "text/plain": [
       "<IPython.core.display.HTML object>"
      ]
     },
     "metadata": {},
     "output_type": "display_data"
    },
    {
     "name": "stderr",
     "output_type": "stream",
     "text": [
      "Widget Javascript not detected.  It may not be installed or enabled properly.\n"
     ]
    },
    {
     "data": {
      "application/vnd.jupyter.widget-view+json": {
       "model_id": "5e957b2f45c64b539417785db5b86700"
      }
     },
     "metadata": {},
     "output_type": "display_data"
    },
    {
     "data": {
      "text/html": [
       "Find user logs for this run at: <code>/home/sazeglio/NMAs/src/wandb/run-20210815_030150-oeu68pls/logs/debug.log</code>"
      ],
      "text/plain": [
       "<IPython.core.display.HTML object>"
      ]
     },
     "metadata": {},
     "output_type": "display_data"
    },
    {
     "data": {
      "text/html": [
       "Find internal logs for this run at: <code>/home/sazeglio/NMAs/src/wandb/run-20210815_030150-oeu68pls/logs/debug-internal.log</code>"
      ],
      "text/plain": [
       "<IPython.core.display.HTML object>"
      ]
     },
     "metadata": {},
     "output_type": "display_data"
    },
    {
     "data": {
      "text/html": [
       "<h3>Run summary:</h3><br/><style>\n",
       "    table.wandb td:nth-child(1) { padding: 0 10px; text-align: right }\n",
       "    </style><table class=\"wandb\">\n",
       "<tr><td>train_loss</td><td>1.78558</td></tr><tr><td>valid_loss</td><td>1.99505</td></tr><tr><td>epoch</td><td>3999</td></tr><tr><td>_runtime</td><td>1238</td></tr><tr><td>_timestamp</td><td>1628990548</td></tr><tr><td>_step</td><td>3999</td></tr></table>"
      ],
      "text/plain": [
       "<IPython.core.display.HTML object>"
      ]
     },
     "metadata": {},
     "output_type": "display_data"
    },
    {
     "data": {
      "text/html": [
       "<h3>Run history:</h3><br/><style>\n",
       "    table.wandb td:nth-child(1) { padding: 0 10px; text-align: right }\n",
       "    </style><table class=\"wandb\">\n",
       "<tr><td>train_loss</td><td>██▆▆▅▅▄▄▄▃▃▃▃▃▂▂▂▂▂▂▂▂▂▂▂▂▁▁▁▁▁▁▁▁▁▁▁▁▁▂</td></tr><tr><td>valid_loss</td><td>██▆▆▅▄▄▄▃▃▃▃▂▂▂▂▂▂▂▂▂▂▂▂▁▁▁▁▁▁▁▁▁▁▁▁▁▁▁▁</td></tr><tr><td>epoch</td><td>▁▁▁▂▂▂▂▂▂▃▃▃▃▃▄▄▄▄▄▄▅▅▅▅▅▅▆▆▆▆▆▇▇▇▇▇▇███</td></tr><tr><td>_runtime</td><td>▁▁▁▂▂▂▂▂▂▃▃▃▃▃▄▄▄▄▄▄▅▅▅▅▅▅▆▆▆▆▆▇▇▇▇▇▇███</td></tr><tr><td>_timestamp</td><td>▁▁▁▂▂▂▂▂▂▃▃▃▃▃▄▄▄▄▄▄▅▅▅▅▅▅▆▆▆▆▆▇▇▇▇▇▇███</td></tr><tr><td>_step</td><td>▁▁▁▂▂▂▂▂▂▃▃▃▃▃▄▄▄▄▄▄▅▅▅▅▅▅▆▆▆▆▆▇▇▇▇▇▇███</td></tr></table><br/>"
      ],
      "text/plain": [
       "<IPython.core.display.HTML object>"
      ]
     },
     "metadata": {},
     "output_type": "display_data"
    },
    {
     "data": {
      "text/html": [
       "Synced 5 W&B file(s), 0 media file(s), 0 artifact file(s) and 0 other file(s)"
      ],
      "text/plain": [
       "<IPython.core.display.HTML object>"
      ]
     },
     "metadata": {},
     "output_type": "display_data"
    },
    {
     "data": {
      "text/html": [
       "\n",
       "                    <br/>Synced <strong style=\"color:#cdcd00\">chocolate-sweep-5</strong>: <a href=\"https://wandb.ai/sazio/NMAs-Full-Signals/runs/oeu68pls\" target=\"_blank\">https://wandb.ai/sazio/NMAs-Full-Signals/runs/oeu68pls</a><br/>\n",
       "                "
      ],
      "text/plain": [
       "<IPython.core.display.HTML object>"
      ]
     },
     "metadata": {},
     "output_type": "display_data"
    },
    {
     "name": "stderr",
     "output_type": "stream",
     "text": [
      "wandb: Agent Starting Run: hemibm0h with config:\n",
      "wandb: \tdropout: 0.1\n",
      "wandb: \tepochs: 4000\n",
      "wandb: \tlearning_rate: 0.0001435728411819347\n",
      "wandb: \tn_comp: 500\n",
      "wandb: \tnum_layers: 1\n",
      "wandb: \toptimizer: adam\n",
      "wandb: \tweight_decay: 5e-05\n",
      "Failed to detect the name of this notebook, you can set it manually with the WANDB_NOTEBOOK_NAME environment variable to enable code saving.\n"
     ]
    },
    {
     "data": {
      "text/html": [
       "\n",
       "                Tracking run with wandb version 0.12.0<br/>\n",
       "                Syncing run <strong style=\"color:#cdcd00\">glamorous-sweep-6</strong> to <a href=\"https://wandb.ai\" target=\"_blank\">Weights & Biases</a> <a href=\"https://docs.wandb.com/integrations/jupyter.html\" target=\"_blank\">(Documentation)</a>.<br/>\n",
       "                Project page: <a href=\"https://wandb.ai/sazio/NMAs-Full-Signals\" target=\"_blank\">https://wandb.ai/sazio/NMAs-Full-Signals</a><br/>\n",
       "                Sweep page: <a href=\"https://wandb.ai/sazio/NMAs-Full-Signals/sweeps/cbewt4f6\" target=\"_blank\">https://wandb.ai/sazio/NMAs-Full-Signals/sweeps/cbewt4f6</a><br/>\n",
       "Run page: <a href=\"https://wandb.ai/sazio/NMAs-Full-Signals/runs/hemibm0h\" target=\"_blank\">https://wandb.ai/sazio/NMAs-Full-Signals/runs/hemibm0h</a><br/>\n",
       "                Run data is saved locally in <code>/home/sazeglio/NMAs/src/wandb/run-20210815_032233-hemibm0h</code><br/><br/>\n",
       "            "
      ],
      "text/plain": [
       "<IPython.core.display.HTML object>"
      ]
     },
     "metadata": {},
     "output_type": "display_data"
    },
    {
     "name": "stdout",
     "output_type": "stream",
     "text": [
      " iteration 0, train cost 4.9341, valid cost 5.0358\n",
      " iteration 50, train cost 4.1297, valid cost 4.1962\n",
      " iteration 100, train cost 3.4081, valid cost 3.4835\n",
      " iteration 150, train cost 3.3006, valid cost 3.3763\n",
      " iteration 200, train cost 3.2854, valid cost 3.3622\n",
      " iteration 250, train cost 3.2802, valid cost 3.3583\n",
      " iteration 300, train cost 3.2759, valid cost 3.3556\n",
      " iteration 350, train cost 3.2706, valid cost 3.3519\n",
      " iteration 400, train cost 3.2622, valid cost 3.3437\n",
      " iteration 450, train cost 3.2442, valid cost 3.3252\n",
      " iteration 500, train cost 3.2065, valid cost 3.2845\n",
      " iteration 550, train cost 3.1430, valid cost 3.2171\n",
      " iteration 600, train cost 3.0867, valid cost 3.1558\n",
      " iteration 650, train cost 3.0431, valid cost 3.1066\n",
      " iteration 700, train cost 3.0024, valid cost 3.0633\n",
      " iteration 750, train cost 2.9656, valid cost 3.0277\n",
      " iteration 800, train cost 2.9368, valid cost 3.0019\n",
      " iteration 850, train cost 2.9092, valid cost 2.9778\n",
      " iteration 900, train cost 2.8780, valid cost 2.9510\n",
      " iteration 950, train cost 2.8445, valid cost 2.9203\n",
      " iteration 1000, train cost 2.8090, valid cost 2.8876\n",
      " iteration 1050, train cost 2.7745, valid cost 2.8534\n",
      " iteration 1100, train cost 2.7397, valid cost 2.8193\n",
      " iteration 1150, train cost 2.7083, valid cost 2.7883\n",
      " iteration 1200, train cost 2.6796, valid cost 2.7612\n",
      " iteration 1250, train cost 2.6547, valid cost 2.7364\n",
      " iteration 1300, train cost 2.6304, valid cost 2.7117\n",
      " iteration 1350, train cost 2.6056, valid cost 2.6877\n",
      " iteration 1400, train cost 2.5834, valid cost 2.6659\n",
      " iteration 1450, train cost 2.5630, valid cost 2.6462\n",
      " iteration 1500, train cost 2.5446, valid cost 2.6277\n",
      " iteration 1550, train cost 2.5271, valid cost 2.6111\n",
      " iteration 1600, train cost 2.5123, valid cost 2.5967\n",
      " iteration 1650, train cost 2.4980, valid cost 2.5834\n",
      " iteration 1700, train cost 2.4840, valid cost 2.5702\n",
      " iteration 1750, train cost 2.4709, valid cost 2.5569\n",
      " iteration 1800, train cost 2.4585, valid cost 2.5452\n",
      " iteration 1850, train cost 2.4463, valid cost 2.5341\n",
      " iteration 1900, train cost 2.4354, valid cost 2.5231\n",
      " iteration 1950, train cost 2.4237, valid cost 2.5109\n",
      " iteration 2000, train cost 2.4114, valid cost 2.4995\n",
      " iteration 2050, train cost 2.4010, valid cost 2.4884\n",
      " iteration 2100, train cost 2.3911, valid cost 2.4784\n",
      " iteration 2150, train cost 2.3810, valid cost 2.4693\n",
      " iteration 2200, train cost 2.3717, valid cost 2.4608\n",
      " iteration 2250, train cost 2.3641, valid cost 2.4516\n",
      " iteration 2300, train cost 2.3555, valid cost 2.4431\n",
      " iteration 2350, train cost 2.3482, valid cost 2.4346\n",
      " iteration 2400, train cost 2.3396, valid cost 2.4263\n",
      " iteration 2450, train cost 2.3315, valid cost 2.4180\n",
      " iteration 2500, train cost 2.3230, valid cost 2.4097\n",
      " iteration 2550, train cost 2.3169, valid cost 2.4025\n",
      " iteration 2600, train cost 2.3085, valid cost 2.3948\n",
      " iteration 2650, train cost 2.3005, valid cost 2.3876\n",
      " iteration 2700, train cost 2.2939, valid cost 2.3799\n",
      " iteration 2750, train cost 2.2854, valid cost 2.3730\n",
      " iteration 2800, train cost 2.2792, valid cost 2.3662\n",
      " iteration 2850, train cost 2.2731, valid cost 2.3597\n",
      " iteration 2900, train cost 2.2658, valid cost 2.3539\n",
      " iteration 2950, train cost 2.2597, valid cost 2.3475\n",
      " iteration 3000, train cost 2.2542, valid cost 2.3408\n",
      " iteration 3050, train cost 2.2473, valid cost 2.3345\n",
      " iteration 3100, train cost 2.2420, valid cost 2.3293\n",
      " iteration 3150, train cost 2.2343, valid cost 2.3232\n",
      " iteration 3200, train cost 2.2283, valid cost 2.3174\n",
      " iteration 3250, train cost 2.2231, valid cost 2.3117\n",
      " iteration 3300, train cost 2.2176, valid cost 2.3059\n",
      " iteration 3350, train cost 2.2121, valid cost 2.3010\n",
      " iteration 3400, train cost 2.2071, valid cost 2.2958\n",
      " iteration 3450, train cost 2.2020, valid cost 2.2925\n",
      " iteration 3500, train cost 2.1981, valid cost 2.2882\n",
      " iteration 3550, train cost 2.1946, valid cost 2.2846\n",
      " iteration 3600, train cost 2.1890, valid cost 2.2809\n",
      " iteration 3650, train cost 2.1858, valid cost 2.2770\n",
      " iteration 3700, train cost 2.1812, valid cost 2.2737\n",
      " iteration 3750, train cost 2.1773, valid cost 2.2704\n",
      " iteration 3800, train cost 2.1721, valid cost 2.2668\n",
      " iteration 3850, train cost 2.1688, valid cost 2.2632\n",
      " iteration 3900, train cost 2.1638, valid cost 2.2597\n",
      " iteration 3950, train cost 2.1598, valid cost 2.2559\n"
     ]
    },
    {
     "data": {
      "text/html": [
       "<br/>Waiting for W&B process to finish, PID 192937<br/>Program ended successfully."
      ],
      "text/plain": [
       "<IPython.core.display.HTML object>"
      ]
     },
     "metadata": {},
     "output_type": "display_data"
    },
    {
     "name": "stderr",
     "output_type": "stream",
     "text": [
      "Widget Javascript not detected.  It may not be installed or enabled properly.\n"
     ]
    },
    {
     "data": {
      "application/vnd.jupyter.widget-view+json": {
       "model_id": "98cdba0825d946b0905ba483c71d8c03"
      }
     },
     "metadata": {},
     "output_type": "display_data"
    },
    {
     "data": {
      "text/html": [
       "Find user logs for this run at: <code>/home/sazeglio/NMAs/src/wandb/run-20210815_032233-hemibm0h/logs/debug.log</code>"
      ],
      "text/plain": [
       "<IPython.core.display.HTML object>"
      ]
     },
     "metadata": {},
     "output_type": "display_data"
    },
    {
     "data": {
      "text/html": [
       "Find internal logs for this run at: <code>/home/sazeglio/NMAs/src/wandb/run-20210815_032233-hemibm0h/logs/debug-internal.log</code>"
      ],
      "text/plain": [
       "<IPython.core.display.HTML object>"
      ]
     },
     "metadata": {},
     "output_type": "display_data"
    },
    {
     "data": {
      "text/html": [
       "<h3>Run summary:</h3><br/><style>\n",
       "    table.wandb td:nth-child(1) { padding: 0 10px; text-align: right }\n",
       "    </style><table class=\"wandb\">\n",
       "<tr><td>train_loss</td><td>2.15543</td></tr><tr><td>valid_loss</td><td>2.25247</td></tr><tr><td>epoch</td><td>3999</td></tr><tr><td>_runtime</td><td>1239</td></tr><tr><td>_timestamp</td><td>1628991792</td></tr><tr><td>_step</td><td>3999</td></tr></table>"
      ],
      "text/plain": [
       "<IPython.core.display.HTML object>"
      ]
     },
     "metadata": {},
     "output_type": "display_data"
    },
    {
     "data": {
      "text/html": [
       "<h3>Run history:</h3><br/><style>\n",
       "    table.wandb td:nth-child(1) { padding: 0 10px; text-align: right }\n",
       "    </style><table class=\"wandb\">\n",
       "<tr><td>train_loss</td><td>█▄▄▄▄▄▃▃▃▃▃▃▂▂▂▂▂▂▂▂▂▂▂▂▁▁▁▁▁▁▁▁▁▁▁▁▁▁▁▁</td></tr><tr><td>valid_loss</td><td>█▄▄▄▄▄▃▃▃▃▃▃▂▂▂▂▂▂▂▂▂▂▂▁▁▁▁▁▁▁▁▁▁▁▁▁▁▁▁▁</td></tr><tr><td>epoch</td><td>▁▁▁▂▂▂▂▂▂▃▃▃▃▃▄▄▄▄▄▄▅▅▅▅▅▅▆▆▆▆▆▇▇▇▇▇▇███</td></tr><tr><td>_runtime</td><td>▁▁▁▂▂▂▂▂▂▃▃▃▃▃▃▄▄▄▄▄▅▅▅▅▅▅▆▆▆▆▆▇▇▇▇▇▇███</td></tr><tr><td>_timestamp</td><td>▁▁▁▂▂▂▂▂▂▃▃▃▃▃▃▄▄▄▄▄▅▅▅▅▅▅▆▆▆▆▆▇▇▇▇▇▇███</td></tr><tr><td>_step</td><td>▁▁▁▂▂▂▂▂▂▃▃▃▃▃▄▄▄▄▄▄▅▅▅▅▅▅▆▆▆▆▆▇▇▇▇▇▇███</td></tr></table><br/>"
      ],
      "text/plain": [
       "<IPython.core.display.HTML object>"
      ]
     },
     "metadata": {},
     "output_type": "display_data"
    },
    {
     "data": {
      "text/html": [
       "Synced 5 W&B file(s), 0 media file(s), 0 artifact file(s) and 0 other file(s)"
      ],
      "text/plain": [
       "<IPython.core.display.HTML object>"
      ]
     },
     "metadata": {},
     "output_type": "display_data"
    },
    {
     "data": {
      "text/html": [
       "\n",
       "                    <br/>Synced <strong style=\"color:#cdcd00\">glamorous-sweep-6</strong>: <a href=\"https://wandb.ai/sazio/NMAs-Full-Signals/runs/hemibm0h\" target=\"_blank\">https://wandb.ai/sazio/NMAs-Full-Signals/runs/hemibm0h</a><br/>\n",
       "                "
      ],
      "text/plain": [
       "<IPython.core.display.HTML object>"
      ]
     },
     "metadata": {},
     "output_type": "display_data"
    },
    {
     "name": "stderr",
     "output_type": "stream",
     "text": [
      "wandb: Agent Starting Run: j9vsj2x7 with config:\n",
      "wandb: \tdropout: 0.3\n",
      "wandb: \tepochs: 4000\n",
      "wandb: \tlearning_rate: 0.0001383658338557298\n",
      "wandb: \tn_comp: 400\n",
      "wandb: \tnum_layers: 1\n",
      "wandb: \toptimizer: adam\n",
      "wandb: \tweight_decay: 1e-05\n",
      "Failed to detect the name of this notebook, you can set it manually with the WANDB_NOTEBOOK_NAME environment variable to enable code saving.\n"
     ]
    },
    {
     "data": {
      "text/html": [
       "\n",
       "                Tracking run with wandb version 0.12.0<br/>\n",
       "                Syncing run <strong style=\"color:#cdcd00\">giddy-sweep-7</strong> to <a href=\"https://wandb.ai\" target=\"_blank\">Weights & Biases</a> <a href=\"https://docs.wandb.com/integrations/jupyter.html\" target=\"_blank\">(Documentation)</a>.<br/>\n",
       "                Project page: <a href=\"https://wandb.ai/sazio/NMAs-Full-Signals\" target=\"_blank\">https://wandb.ai/sazio/NMAs-Full-Signals</a><br/>\n",
       "                Sweep page: <a href=\"https://wandb.ai/sazio/NMAs-Full-Signals/sweeps/cbewt4f6\" target=\"_blank\">https://wandb.ai/sazio/NMAs-Full-Signals/sweeps/cbewt4f6</a><br/>\n",
       "Run page: <a href=\"https://wandb.ai/sazio/NMAs-Full-Signals/runs/j9vsj2x7\" target=\"_blank\">https://wandb.ai/sazio/NMAs-Full-Signals/runs/j9vsj2x7</a><br/>\n",
       "                Run data is saved locally in <code>/home/sazeglio/NMAs/src/wandb/run-20210815_034316-j9vsj2x7</code><br/><br/>\n",
       "            "
      ],
      "text/plain": [
       "<IPython.core.display.HTML object>"
      ]
     },
     "metadata": {},
     "output_type": "display_data"
    },
    {
     "name": "stdout",
     "output_type": "stream",
     "text": [
      " iteration 0, train cost 4.9297, valid cost 5.0309\n",
      " iteration 50, train cost 4.0539, valid cost 4.0999\n",
      " iteration 100, train cost 3.3850, valid cost 3.4559\n",
      " iteration 150, train cost 3.3025, valid cost 3.3744\n",
      " iteration 200, train cost 3.2882, valid cost 3.3624\n",
      " iteration 250, train cost 3.2826, valid cost 3.3590\n",
      " iteration 300, train cost 3.2780, valid cost 3.3565\n",
      " iteration 350, train cost 3.2727, valid cost 3.3524\n",
      " iteration 400, train cost 3.2628, valid cost 3.3430\n",
      " iteration 450, train cost 3.2405, valid cost 3.3193\n",
      " iteration 500, train cost 3.1894, valid cost 3.2628\n",
      " iteration 550, train cost 3.1305, valid cost 3.1993\n",
      " iteration 600, train cost 3.0967, valid cost 3.1641\n",
      " iteration 650, train cost 3.0761, valid cost 3.1417\n",
      " iteration 700, train cost 3.0507, valid cost 3.1151\n",
      " iteration 750, train cost 3.0130, valid cost 3.0764\n",
      " iteration 800, train cost 2.9791, valid cost 3.0410\n",
      " iteration 850, train cost 2.9508, valid cost 3.0116\n",
      " iteration 900, train cost 2.9224, valid cost 2.9856\n",
      " iteration 950, train cost 2.8936, valid cost 2.9597\n",
      " iteration 1000, train cost 2.8649, valid cost 2.9330\n",
      " iteration 1050, train cost 2.8375, valid cost 2.9068\n",
      " iteration 1100, train cost 2.8103, valid cost 2.8818\n",
      " iteration 1150, train cost 2.7843, valid cost 2.8585\n",
      " iteration 1200, train cost 2.7585, valid cost 2.8358\n",
      " iteration 1250, train cost 2.7318, valid cost 2.8117\n",
      " iteration 1300, train cost 2.7043, valid cost 2.7869\n",
      " iteration 1350, train cost 2.6772, valid cost 2.7631\n",
      " iteration 1400, train cost 2.6519, valid cost 2.7401\n",
      " iteration 1450, train cost 2.6281, valid cost 2.7172\n",
      " iteration 1500, train cost 2.6038, valid cost 2.6950\n",
      " iteration 1550, train cost 2.5810, valid cost 2.6739\n",
      " iteration 1600, train cost 2.5604, valid cost 2.6547\n",
      " iteration 1650, train cost 2.5410, valid cost 2.6370\n",
      " iteration 1700, train cost 2.5237, valid cost 2.6201\n",
      " iteration 1750, train cost 2.5067, valid cost 2.6043\n",
      " iteration 1800, train cost 2.4893, valid cost 2.5888\n",
      " iteration 1850, train cost 2.4740, valid cost 2.5732\n",
      " iteration 1900, train cost 2.4574, valid cost 2.5580\n",
      " iteration 1950, train cost 2.4429, valid cost 2.5429\n",
      " iteration 2000, train cost 2.4271, valid cost 2.5286\n",
      " iteration 2050, train cost 2.4116, valid cost 2.5154\n",
      " iteration 2100, train cost 2.3994, valid cost 2.5032\n",
      " iteration 2150, train cost 2.3868, valid cost 2.4922\n",
      " iteration 2200, train cost 2.3769, valid cost 2.4832\n",
      " iteration 2250, train cost 2.3663, valid cost 2.4744\n",
      " iteration 2300, train cost 2.3552, valid cost 2.4662\n",
      " iteration 2350, train cost 2.3466, valid cost 2.4589\n",
      " iteration 2400, train cost 2.3374, valid cost 2.4514\n",
      " iteration 2450, train cost 2.3292, valid cost 2.4450\n",
      " iteration 2500, train cost 2.3200, valid cost 2.4383\n",
      " iteration 2550, train cost 2.3134, valid cost 2.4310\n",
      " iteration 2600, train cost 2.3041, valid cost 2.4247\n",
      " iteration 2650, train cost 2.2965, valid cost 2.4186\n",
      " iteration 2700, train cost 2.2888, valid cost 2.4126\n",
      " iteration 2750, train cost 2.2815, valid cost 2.4066\n",
      " iteration 2800, train cost 2.2750, valid cost 2.4007\n",
      " iteration 2850, train cost 2.2668, valid cost 2.3950\n",
      " iteration 2900, train cost 2.2599, valid cost 2.3884\n",
      " iteration 2950, train cost 2.2533, valid cost 2.3824\n",
      " iteration 3000, train cost 2.2458, valid cost 2.3763\n",
      " iteration 3050, train cost 2.2391, valid cost 2.3700\n",
      " iteration 3100, train cost 2.2310, valid cost 2.3643\n",
      " iteration 3150, train cost 2.2247, valid cost 2.3584\n",
      " iteration 3200, train cost 2.2181, valid cost 2.3532\n",
      " iteration 3250, train cost 2.2120, valid cost 2.3476\n",
      " iteration 3300, train cost 2.2047, valid cost 2.3429\n",
      " iteration 3350, train cost 2.1986, valid cost 2.3374\n",
      " iteration 3400, train cost 2.1921, valid cost 2.3322\n",
      " iteration 3450, train cost 2.1865, valid cost 2.3271\n",
      " iteration 3500, train cost 2.1810, valid cost 2.3215\n",
      " iteration 3550, train cost 2.1760, valid cost 2.3166\n",
      " iteration 3600, train cost 2.1694, valid cost 2.3119\n",
      " iteration 3650, train cost 2.1636, valid cost 2.3075\n",
      " iteration 3700, train cost 2.1576, valid cost 2.3035\n",
      " iteration 3750, train cost 2.1539, valid cost 2.2993\n",
      " iteration 3800, train cost 2.1490, valid cost 2.2951\n",
      " iteration 3850, train cost 2.1438, valid cost 2.2919\n",
      " iteration 3900, train cost 2.1383, valid cost 2.2881\n",
      " iteration 3950, train cost 2.1346, valid cost 2.2846\n"
     ]
    },
    {
     "data": {
      "text/html": [
       "<br/>Waiting for W&B process to finish, PID 193242<br/>Program ended successfully."
      ],
      "text/plain": [
       "<IPython.core.display.HTML object>"
      ]
     },
     "metadata": {},
     "output_type": "display_data"
    },
    {
     "name": "stderr",
     "output_type": "stream",
     "text": [
      "Widget Javascript not detected.  It may not be installed or enabled properly.\n"
     ]
    },
    {
     "data": {
      "application/vnd.jupyter.widget-view+json": {
       "model_id": "c73c0f138ccc4b0d992fc402810ea2db"
      }
     },
     "metadata": {},
     "output_type": "display_data"
    },
    {
     "data": {
      "text/html": [
       "Find user logs for this run at: <code>/home/sazeglio/NMAs/src/wandb/run-20210815_034316-j9vsj2x7/logs/debug.log</code>"
      ],
      "text/plain": [
       "<IPython.core.display.HTML object>"
      ]
     },
     "metadata": {},
     "output_type": "display_data"
    },
    {
     "data": {
      "text/html": [
       "Find internal logs for this run at: <code>/home/sazeglio/NMAs/src/wandb/run-20210815_034316-j9vsj2x7/logs/debug-internal.log</code>"
      ],
      "text/plain": [
       "<IPython.core.display.HTML object>"
      ]
     },
     "metadata": {},
     "output_type": "display_data"
    },
    {
     "data": {
      "text/html": [
       "<h3>Run summary:</h3><br/><style>\n",
       "    table.wandb td:nth-child(1) { padding: 0 10px; text-align: right }\n",
       "    </style><table class=\"wandb\">\n",
       "<tr><td>train_loss</td><td>2.13089</td></tr><tr><td>valid_loss</td><td>2.28127</td></tr><tr><td>epoch</td><td>3999</td></tr><tr><td>_runtime</td><td>1239</td></tr><tr><td>_timestamp</td><td>1628993035</td></tr><tr><td>_step</td><td>3999</td></tr></table>"
      ],
      "text/plain": [
       "<IPython.core.display.HTML object>"
      ]
     },
     "metadata": {},
     "output_type": "display_data"
    },
    {
     "data": {
      "text/html": [
       "<h3>Run history:</h3><br/><style>\n",
       "    table.wandb td:nth-child(1) { padding: 0 10px; text-align: right }\n",
       "    </style><table class=\"wandb\">\n",
       "<tr><td>train_loss</td><td>█▄▄▄▄▄▄▄▃▃▃▃▃▃▂▂▂▂▂▂▂▂▂▂▂▁▁▁▁▁▁▁▁▁▁▁▁▁▁▁</td></tr><tr><td>valid_loss</td><td>█▄▄▄▄▄▄▃▃▃▃▃▃▂▂▂▂▂▂▂▂▂▂▂▁▁▁▁▁▁▁▁▁▁▁▁▁▁▁▁</td></tr><tr><td>epoch</td><td>▁▁▁▂▂▂▂▂▂▃▃▃▃▃▄▄▄▄▄▄▅▅▅▅▅▅▆▆▆▆▆▇▇▇▇▇▇███</td></tr><tr><td>_runtime</td><td>▁▁▁▂▂▂▂▂▂▃▃▃▃▃▄▄▄▄▄▄▅▅▅▅▅▅▆▆▆▆▆▇▇▇▇▇▇███</td></tr><tr><td>_timestamp</td><td>▁▁▁▂▂▂▂▂▂▃▃▃▃▃▄▄▄▄▄▄▅▅▅▅▅▅▆▆▆▆▆▇▇▇▇▇▇███</td></tr><tr><td>_step</td><td>▁▁▁▂▂▂▂▂▂▃▃▃▃▃▄▄▄▄▄▄▅▅▅▅▅▅▆▆▆▆▆▇▇▇▇▇▇███</td></tr></table><br/>"
      ],
      "text/plain": [
       "<IPython.core.display.HTML object>"
      ]
     },
     "metadata": {},
     "output_type": "display_data"
    },
    {
     "data": {
      "text/html": [
       "Synced 5 W&B file(s), 0 media file(s), 0 artifact file(s) and 0 other file(s)"
      ],
      "text/plain": [
       "<IPython.core.display.HTML object>"
      ]
     },
     "metadata": {},
     "output_type": "display_data"
    },
    {
     "data": {
      "text/html": [
       "\n",
       "                    <br/>Synced <strong style=\"color:#cdcd00\">giddy-sweep-7</strong>: <a href=\"https://wandb.ai/sazio/NMAs-Full-Signals/runs/j9vsj2x7\" target=\"_blank\">https://wandb.ai/sazio/NMAs-Full-Signals/runs/j9vsj2x7</a><br/>\n",
       "                "
      ],
      "text/plain": [
       "<IPython.core.display.HTML object>"
      ]
     },
     "metadata": {},
     "output_type": "display_data"
    },
    {
     "name": "stderr",
     "output_type": "stream",
     "text": [
      "wandb: Agent Starting Run: 33cd12lv with config:\n",
      "wandb: \tdropout: 0.1\n",
      "wandb: \tepochs: 4000\n",
      "wandb: \tlearning_rate: 0.00029884782179273676\n",
      "wandb: \tn_comp: 400\n",
      "wandb: \tnum_layers: 1\n",
      "wandb: \toptimizer: adam\n",
      "wandb: \tweight_decay: 1e-05\n",
      "Failed to detect the name of this notebook, you can set it manually with the WANDB_NOTEBOOK_NAME environment variable to enable code saving.\n"
     ]
    },
    {
     "data": {
      "text/html": [
       "\n",
       "                Tracking run with wandb version 0.12.0<br/>\n",
       "                Syncing run <strong style=\"color:#cdcd00\">neat-sweep-8</strong> to <a href=\"https://wandb.ai\" target=\"_blank\">Weights & Biases</a> <a href=\"https://docs.wandb.com/integrations/jupyter.html\" target=\"_blank\">(Documentation)</a>.<br/>\n",
       "                Project page: <a href=\"https://wandb.ai/sazio/NMAs-Full-Signals\" target=\"_blank\">https://wandb.ai/sazio/NMAs-Full-Signals</a><br/>\n",
       "                Sweep page: <a href=\"https://wandb.ai/sazio/NMAs-Full-Signals/sweeps/cbewt4f6\" target=\"_blank\">https://wandb.ai/sazio/NMAs-Full-Signals/sweeps/cbewt4f6</a><br/>\n",
       "Run page: <a href=\"https://wandb.ai/sazio/NMAs-Full-Signals/runs/33cd12lv\" target=\"_blank\">https://wandb.ai/sazio/NMAs-Full-Signals/runs/33cd12lv</a><br/>\n",
       "                Run data is saved locally in <code>/home/sazeglio/NMAs/src/wandb/run-20210815_040400-33cd12lv</code><br/><br/>\n",
       "            "
      ],
      "text/plain": [
       "<IPython.core.display.HTML object>"
      ]
     },
     "metadata": {},
     "output_type": "display_data"
    },
    {
     "name": "stdout",
     "output_type": "stream",
     "text": [
      " iteration 0, train cost 4.9274, valid cost 5.0265\n",
      " iteration 50, train cost 3.4326, valid cost 3.4909\n",
      " iteration 100, train cost 3.2882, valid cost 3.3623\n",
      " iteration 150, train cost 3.2795, valid cost 3.3584\n",
      " iteration 200, train cost 3.2736, valid cost 3.3543\n",
      " iteration 250, train cost 3.2534, valid cost 3.3320\n",
      " iteration 300, train cost 3.1836, valid cost 3.2490\n",
      " iteration 350, train cost 3.1055, valid cost 3.1662\n",
      " iteration 400, train cost 3.0600, valid cost 3.1232\n",
      " iteration 450, train cost 3.0033, valid cost 3.0709\n",
      " iteration 500, train cost 2.9508, valid cost 3.0181\n",
      " iteration 550, train cost 2.8971, valid cost 2.9628\n",
      " iteration 600, train cost 2.8509, valid cost 2.9179\n",
      " iteration 650, train cost 2.8029, valid cost 2.8735\n",
      " iteration 700, train cost 2.7565, valid cost 2.8329\n",
      " iteration 750, train cost 2.7151, valid cost 2.7970\n",
      " iteration 800, train cost 2.6753, valid cost 2.7592\n",
      " iteration 850, train cost 2.6367, valid cost 2.7229\n",
      " iteration 900, train cost 2.6001, valid cost 2.6892\n",
      " iteration 950, train cost 2.5643, valid cost 2.6582\n",
      " iteration 1000, train cost 2.5326, valid cost 2.6278\n",
      " iteration 1050, train cost 2.5006, valid cost 2.5992\n",
      " iteration 1100, train cost 2.4710, valid cost 2.5728\n",
      " iteration 1150, train cost 2.4464, valid cost 2.5476\n",
      " iteration 1200, train cost 2.4215, valid cost 2.5246\n",
      " iteration 1250, train cost 2.4006, valid cost 2.5050\n",
      " iteration 1300, train cost 2.3820, valid cost 2.4877\n",
      " iteration 1350, train cost 2.3640, valid cost 2.4710\n",
      " iteration 1400, train cost 2.3469, valid cost 2.4554\n",
      " iteration 1450, train cost 2.3314, valid cost 2.4429\n",
      " iteration 1500, train cost 2.3187, valid cost 2.4319\n",
      " iteration 1550, train cost 2.3073, valid cost 2.4231\n",
      " iteration 1600, train cost 2.2952, valid cost 2.4140\n",
      " iteration 1650, train cost 2.2844, valid cost 2.4038\n",
      " iteration 1700, train cost 2.2709, valid cost 2.3918\n",
      " iteration 1750, train cost 2.2604, valid cost 2.3814\n",
      " iteration 1800, train cost 2.2501, valid cost 2.3712\n",
      " iteration 1850, train cost 2.2401, valid cost 2.3619\n",
      " iteration 1900, train cost 2.2297, valid cost 2.3528\n",
      " iteration 1950, train cost 2.2202, valid cost 2.3432\n",
      " iteration 2000, train cost 2.2108, valid cost 2.3330\n",
      " iteration 2050, train cost 2.1994, valid cost 2.3235\n",
      " iteration 2100, train cost 2.1880, valid cost 2.3141\n",
      " iteration 2150, train cost 2.1779, valid cost 2.3048\n",
      " iteration 2200, train cost 2.1696, valid cost 2.2954\n",
      " iteration 2250, train cost 2.1596, valid cost 2.2872\n",
      " iteration 2300, train cost 2.1506, valid cost 2.2797\n",
      " iteration 2350, train cost 2.1407, valid cost 2.2732\n",
      " iteration 2400, train cost 2.1335, valid cost 2.2660\n",
      " iteration 2450, train cost 2.1263, valid cost 2.2591\n",
      " iteration 2500, train cost 2.1193, valid cost 2.2530\n",
      " iteration 2550, train cost 2.1107, valid cost 2.2472\n",
      " iteration 2600, train cost 2.1043, valid cost 2.2419\n",
      " iteration 2650, train cost 2.0967, valid cost 2.2365\n",
      " iteration 2700, train cost 2.0916, valid cost 2.2319\n",
      " iteration 2750, train cost 2.0855, valid cost 2.2268\n",
      " iteration 2800, train cost 2.0776, valid cost 2.2224\n",
      " iteration 2850, train cost 2.0737, valid cost 2.2178\n",
      " iteration 2900, train cost 2.0694, valid cost 2.2134\n",
      " iteration 2950, train cost 2.0615, valid cost 2.2090\n",
      " iteration 3000, train cost 2.0572, valid cost 2.2039\n",
      " iteration 3050, train cost 2.0507, valid cost 2.1993\n",
      " iteration 3100, train cost 2.0451, valid cost 2.1952\n",
      " iteration 3150, train cost 2.0416, valid cost 2.1901\n",
      " iteration 3200, train cost 2.0344, valid cost 2.1850\n",
      " iteration 3250, train cost 2.0279, valid cost 2.1803\n",
      " iteration 3300, train cost 2.0237, valid cost 2.1755\n",
      " iteration 3350, train cost 2.0153, valid cost 2.1718\n",
      " iteration 3400, train cost 2.0119, valid cost 2.1667\n",
      " iteration 3450, train cost 2.0059, valid cost 2.1617\n",
      " iteration 3500, train cost 2.0003, valid cost 2.1586\n",
      " iteration 3550, train cost 1.9943, valid cost 2.1546\n",
      " iteration 3600, train cost 1.9897, valid cost 2.1503\n",
      " iteration 3650, train cost 1.9847, valid cost 2.1474\n",
      " iteration 3700, train cost 1.9803, valid cost 2.1440\n",
      " iteration 3750, train cost 1.9772, valid cost 2.1409\n",
      " iteration 3800, train cost 1.9736, valid cost 2.1374\n",
      " iteration 3850, train cost 1.9677, valid cost 2.1344\n",
      " iteration 3900, train cost 1.9648, valid cost 2.1312\n",
      " iteration 3950, train cost 1.9606, valid cost 2.1275\n"
     ]
    },
    {
     "data": {
      "text/html": [
       "<br/>Waiting for W&B process to finish, PID 193493<br/>Program ended successfully."
      ],
      "text/plain": [
       "<IPython.core.display.HTML object>"
      ]
     },
     "metadata": {},
     "output_type": "display_data"
    },
    {
     "name": "stderr",
     "output_type": "stream",
     "text": [
      "Widget Javascript not detected.  It may not be installed or enabled properly.\n"
     ]
    },
    {
     "data": {
      "application/vnd.jupyter.widget-view+json": {
       "model_id": "38b21298a9a64b81b62bea72c73d8913"
      }
     },
     "metadata": {},
     "output_type": "display_data"
    },
    {
     "data": {
      "text/html": [
       "Find user logs for this run at: <code>/home/sazeglio/NMAs/src/wandb/run-20210815_040400-33cd12lv/logs/debug.log</code>"
      ],
      "text/plain": [
       "<IPython.core.display.HTML object>"
      ]
     },
     "metadata": {},
     "output_type": "display_data"
    },
    {
     "data": {
      "text/html": [
       "Find internal logs for this run at: <code>/home/sazeglio/NMAs/src/wandb/run-20210815_040400-33cd12lv/logs/debug-internal.log</code>"
      ],
      "text/plain": [
       "<IPython.core.display.HTML object>"
      ]
     },
     "metadata": {},
     "output_type": "display_data"
    },
    {
     "data": {
      "text/html": [
       "<h3>Run summary:</h3><br/><style>\n",
       "    table.wandb td:nth-child(1) { padding: 0 10px; text-align: right }\n",
       "    </style><table class=\"wandb\">\n",
       "<tr><td>train_loss</td><td>1.9558</td></tr><tr><td>valid_loss</td><td>2.12468</td></tr><tr><td>epoch</td><td>3999</td></tr><tr><td>_runtime</td><td>1240</td></tr><tr><td>_timestamp</td><td>1628994280</td></tr><tr><td>_step</td><td>3999</td></tr></table>"
      ],
      "text/plain": [
       "<IPython.core.display.HTML object>"
      ]
     },
     "metadata": {},
     "output_type": "display_data"
    },
    {
     "data": {
      "text/html": [
       "<h3>Run history:</h3><br/><style>\n",
       "    table.wandb td:nth-child(1) { padding: 0 10px; text-align: right }\n",
       "    </style><table class=\"wandb\">\n",
       "<tr><td>train_loss</td><td>█▆▆▅▅▄▄▄▃▃▃▃▃▂▂▂▂▂▂▂▂▂▂▂▂▂▁▁▁▁▁▁▁▁▁▁▁▁▁▁</td></tr><tr><td>valid_loss</td><td>█▆▆▅▅▄▄▄▃▃▃▃▂▂▂▂▂▂▂▂▂▂▂▂▁▁▁▁▁▁▁▁▁▁▁▁▁▁▁▁</td></tr><tr><td>epoch</td><td>▁▁▁▂▂▂▂▂▂▃▃▃▃▃▄▄▄▄▄▄▅▅▅▅▅▅▆▆▆▆▆▇▇▇▇▇▇███</td></tr><tr><td>_runtime</td><td>▁▁▁▂▂▂▂▂▂▃▃▃▃▃▄▄▄▄▄▄▅▅▅▅▅▅▆▆▆▆▆▇▇▇▇▇▇███</td></tr><tr><td>_timestamp</td><td>▁▁▁▂▂▂▂▂▂▃▃▃▃▃▄▄▄▄▄▄▅▅▅▅▅▅▆▆▆▆▆▇▇▇▇▇▇███</td></tr><tr><td>_step</td><td>▁▁▁▂▂▂▂▂▂▃▃▃▃▃▄▄▄▄▄▄▅▅▅▅▅▅▆▆▆▆▆▇▇▇▇▇▇███</td></tr></table><br/>"
      ],
      "text/plain": [
       "<IPython.core.display.HTML object>"
      ]
     },
     "metadata": {},
     "output_type": "display_data"
    },
    {
     "data": {
      "text/html": [
       "Synced 5 W&B file(s), 0 media file(s), 0 artifact file(s) and 0 other file(s)"
      ],
      "text/plain": [
       "<IPython.core.display.HTML object>"
      ]
     },
     "metadata": {},
     "output_type": "display_data"
    },
    {
     "data": {
      "text/html": [
       "\n",
       "                    <br/>Synced <strong style=\"color:#cdcd00\">neat-sweep-8</strong>: <a href=\"https://wandb.ai/sazio/NMAs-Full-Signals/runs/33cd12lv\" target=\"_blank\">https://wandb.ai/sazio/NMAs-Full-Signals/runs/33cd12lv</a><br/>\n",
       "                "
      ],
      "text/plain": [
       "<IPython.core.display.HTML object>"
      ]
     },
     "metadata": {},
     "output_type": "display_data"
    },
    {
     "name": "stderr",
     "output_type": "stream",
     "text": [
      "wandb: Agent Starting Run: 97hv4m5o with config:\n",
      "wandb: \tdropout: 0.3\n",
      "wandb: \tepochs: 4000\n",
      "wandb: \tlearning_rate: 0.0030161874561139973\n",
      "wandb: \tn_comp: 500\n",
      "wandb: \tnum_layers: 1\n",
      "wandb: \toptimizer: adam\n",
      "wandb: \tweight_decay: 0\n",
      "Failed to detect the name of this notebook, you can set it manually with the WANDB_NOTEBOOK_NAME environment variable to enable code saving.\n"
     ]
    },
    {
     "data": {
      "text/html": [
       "\n",
       "                Tracking run with wandb version 0.12.0<br/>\n",
       "                Syncing run <strong style=\"color:#cdcd00\">balmy-sweep-9</strong> to <a href=\"https://wandb.ai\" target=\"_blank\">Weights & Biases</a> <a href=\"https://docs.wandb.com/integrations/jupyter.html\" target=\"_blank\">(Documentation)</a>.<br/>\n",
       "                Project page: <a href=\"https://wandb.ai/sazio/NMAs-Full-Signals\" target=\"_blank\">https://wandb.ai/sazio/NMAs-Full-Signals</a><br/>\n",
       "                Sweep page: <a href=\"https://wandb.ai/sazio/NMAs-Full-Signals/sweeps/cbewt4f6\" target=\"_blank\">https://wandb.ai/sazio/NMAs-Full-Signals/sweeps/cbewt4f6</a><br/>\n",
       "Run page: <a href=\"https://wandb.ai/sazio/NMAs-Full-Signals/runs/97hv4m5o\" target=\"_blank\">https://wandb.ai/sazio/NMAs-Full-Signals/runs/97hv4m5o</a><br/>\n",
       "                Run data is saved locally in <code>/home/sazeglio/NMAs/src/wandb/run-20210815_042444-97hv4m5o</code><br/><br/>\n",
       "            "
      ],
      "text/plain": [
       "<IPython.core.display.HTML object>"
      ]
     },
     "metadata": {},
     "output_type": "display_data"
    },
    {
     "name": "stdout",
     "output_type": "stream",
     "text": [
      " iteration 0, train cost 4.9377, valid cost 5.0067\n",
      " iteration 50, train cost 3.2799, valid cost 3.3652\n",
      " iteration 100, train cost 3.2728, valid cost 3.3589\n",
      " iteration 150, train cost 3.2073, valid cost 3.2785\n",
      " iteration 200, train cost 3.1180, valid cost 3.1917\n",
      " iteration 250, train cost 3.0444, valid cost 3.1191\n",
      " iteration 300, train cost 3.0111, valid cost 3.0890\n",
      " iteration 350, train cost 2.9504, valid cost 3.0330\n",
      " iteration 400, train cost 2.8846, valid cost 2.9735\n",
      " iteration 450, train cost 2.8291, valid cost 2.9346\n",
      " iteration 500, train cost 2.7793, valid cost 2.9046\n",
      " iteration 550, train cost 2.7483, valid cost 2.8836\n",
      " iteration 600, train cost 2.7016, valid cost 2.8644\n",
      " iteration 650, train cost 2.6668, valid cost 2.8479\n",
      " iteration 700, train cost 2.6301, valid cost 2.8259\n",
      " iteration 750, train cost 2.5918, valid cost 2.8021\n",
      " iteration 800, train cost 2.5582, valid cost 2.7823\n",
      " iteration 850, train cost 2.5279, valid cost 2.7677\n",
      " iteration 900, train cost 2.5036, valid cost 2.7559\n",
      " iteration 950, train cost 2.4809, valid cost 2.7418\n",
      " iteration 1000, train cost 2.4476, valid cost 2.7178\n",
      " iteration 1050, train cost 2.4229, valid cost 2.7023\n",
      " iteration 1100, train cost 2.4142, valid cost 2.7000\n",
      " iteration 1150, train cost 2.3722, valid cost 2.6777\n",
      " iteration 1200, train cost 2.3557, valid cost 2.6693\n",
      " iteration 1250, train cost 2.3415, valid cost 2.6705\n",
      " iteration 1300, train cost 2.3274, valid cost 2.6616\n",
      " iteration 1350, train cost 2.3177, valid cost 2.6637\n",
      " iteration 1400, train cost 2.2935, valid cost 2.6492\n",
      " iteration 1450, train cost 2.2767, valid cost 2.6434\n",
      " iteration 1500, train cost 2.2656, valid cost 2.6386\n",
      " iteration 1550, train cost 2.2518, valid cost 2.6338\n",
      " iteration 1600, train cost 2.2405, valid cost 2.6298\n",
      " iteration 1650, train cost 2.2296, valid cost 2.6292\n",
      " iteration 1700, train cost 2.2175, valid cost 2.6198\n",
      " iteration 1750, train cost 2.2114, valid cost 2.6143\n",
      " iteration 1800, train cost 2.2022, valid cost 2.6095\n",
      " iteration 1850, train cost 2.1890, valid cost 2.5993\n",
      " iteration 1900, train cost 2.1877, valid cost 2.6000\n",
      " iteration 1950, train cost 2.1757, valid cost 2.5949\n",
      " iteration 2000, train cost 2.1692, valid cost 2.5848\n",
      " iteration 2050, train cost 2.1617, valid cost 2.5855\n",
      " iteration 2100, train cost 2.1584, valid cost 2.5867\n",
      " iteration 2150, train cost 2.1464, valid cost 2.5765\n",
      " iteration 2200, train cost 2.1378, valid cost 2.5714\n",
      " iteration 2250, train cost 2.1285, valid cost 2.5663\n",
      " iteration 2300, train cost 2.1240, valid cost 2.5595\n",
      " iteration 2350, train cost 2.1212, valid cost 2.5610\n",
      " iteration 2400, train cost 2.1109, valid cost 2.5528\n",
      " iteration 2450, train cost 2.1086, valid cost 2.5532\n",
      " iteration 2500, train cost 2.1034, valid cost 2.5496\n",
      " iteration 2550, train cost 2.1100, valid cost 2.5447\n",
      " iteration 2600, train cost 2.0874, valid cost 2.5386\n",
      " iteration 2650, train cost 2.0895, valid cost 2.5366\n",
      " iteration 2700, train cost 2.0770, valid cost 2.5334\n",
      " iteration 2750, train cost 2.0713, valid cost 2.5267\n",
      " iteration 2800, train cost 2.0672, valid cost 2.5276\n",
      " iteration 2850, train cost 2.0617, valid cost 2.5242\n",
      " iteration 2900, train cost 2.0664, valid cost 2.5328\n",
      " iteration 2950, train cost 2.0576, valid cost 2.5174\n",
      " iteration 3000, train cost 2.0510, valid cost 2.5130\n",
      " iteration 3050, train cost 2.0436, valid cost 2.5111\n",
      " iteration 3100, train cost 2.0389, valid cost 2.5068\n",
      " iteration 3150, train cost 2.0363, valid cost 2.5017\n",
      " iteration 3200, train cost 2.0318, valid cost 2.5052\n",
      " iteration 3250, train cost 2.0317, valid cost 2.5016\n",
      " iteration 3300, train cost 2.0248, valid cost 2.5034\n",
      " iteration 3350, train cost 2.0199, valid cost 2.4950\n",
      " iteration 3400, train cost 2.0140, valid cost 2.4870\n",
      " iteration 3450, train cost 2.0159, valid cost 2.4871\n",
      " iteration 3500, train cost 2.0089, valid cost 2.4865\n",
      " iteration 3550, train cost 2.0157, valid cost 2.4880\n",
      " iteration 3600, train cost 1.9992, valid cost 2.4738\n",
      " iteration 3650, train cost 1.9961, valid cost 2.4723\n",
      " iteration 3700, train cost 1.9929, valid cost 2.4701\n",
      " iteration 3750, train cost 1.9909, valid cost 2.4707\n",
      " iteration 3800, train cost 1.9848, valid cost 2.4692\n",
      " iteration 3850, train cost 1.9922, valid cost 2.4667\n",
      " iteration 3900, train cost 1.9871, valid cost 2.4651\n",
      " iteration 3950, train cost 1.9754, valid cost 2.4627\n"
     ]
    },
    {
     "data": {
      "text/html": [
       "<br/>Waiting for W&B process to finish, PID 193813<br/>Program ended successfully."
      ],
      "text/plain": [
       "<IPython.core.display.HTML object>"
      ]
     },
     "metadata": {},
     "output_type": "display_data"
    },
    {
     "name": "stderr",
     "output_type": "stream",
     "text": [
      "Widget Javascript not detected.  It may not be installed or enabled properly.\n"
     ]
    },
    {
     "data": {
      "application/vnd.jupyter.widget-view+json": {
       "model_id": "2e296be333a04b9fbf230023a2c81829"
      }
     },
     "metadata": {},
     "output_type": "display_data"
    },
    {
     "data": {
      "text/html": [
       "Find user logs for this run at: <code>/home/sazeglio/NMAs/src/wandb/run-20210815_042444-97hv4m5o/logs/debug.log</code>"
      ],
      "text/plain": [
       "<IPython.core.display.HTML object>"
      ]
     },
     "metadata": {},
     "output_type": "display_data"
    },
    {
     "data": {
      "text/html": [
       "Find internal logs for this run at: <code>/home/sazeglio/NMAs/src/wandb/run-20210815_042444-97hv4m5o/logs/debug-internal.log</code>"
      ],
      "text/plain": [
       "<IPython.core.display.HTML object>"
      ]
     },
     "metadata": {},
     "output_type": "display_data"
    },
    {
     "data": {
      "text/html": [
       "<h3>Run summary:</h3><br/><style>\n",
       "    table.wandb td:nth-child(1) { padding: 0 10px; text-align: right }\n",
       "    </style><table class=\"wandb\">\n",
       "<tr><td>train_loss</td><td>1.96907</td></tr><tr><td>valid_loss</td><td>2.45602</td></tr><tr><td>epoch</td><td>3999</td></tr><tr><td>_runtime</td><td>1239</td></tr><tr><td>_timestamp</td><td>1628995523</td></tr><tr><td>_step</td><td>3999</td></tr></table>"
      ],
      "text/plain": [
       "<IPython.core.display.HTML object>"
      ]
     },
     "metadata": {},
     "output_type": "display_data"
    },
    {
     "data": {
      "text/html": [
       "<h3>Run history:</h3><br/><style>\n",
       "    table.wandb td:nth-child(1) { padding: 0 10px; text-align: right }\n",
       "    </style><table class=\"wandb\">\n",
       "<tr><td>train_loss</td><td>██▇▆▆▅▅▄▄▄▃▃▃▃▃▂▂▂▂▂▂▂▂▂▂▂▂▁▁▁▁▁▁▁▁▁▁▁▁▁</td></tr><tr><td>valid_loss</td><td>██▆▆▅▄▄▄▃▃▃▃▃▃▂▂▂▂▂▂▂▂▂▂▂▂▂▂▁▁▁▁▁▁▁▁▁▁▁▁</td></tr><tr><td>epoch</td><td>▁▁▁▂▂▂▂▂▂▃▃▃▃▃▄▄▄▄▄▄▅▅▅▅▅▅▆▆▆▆▆▇▇▇▇▇▇███</td></tr><tr><td>_runtime</td><td>▁▁▁▂▂▂▂▂▂▃▃▃▃▃▄▄▄▄▄▄▅▅▅▅▅▅▆▆▆▆▆▇▇▇▇▇▇███</td></tr><tr><td>_timestamp</td><td>▁▁▁▂▂▂▂▂▂▃▃▃▃▃▄▄▄▄▄▄▅▅▅▅▅▅▆▆▆▆▆▇▇▇▇▇▇███</td></tr><tr><td>_step</td><td>▁▁▁▂▂▂▂▂▂▃▃▃▃▃▄▄▄▄▄▄▅▅▅▅▅▅▆▆▆▆▆▇▇▇▇▇▇███</td></tr></table><br/>"
      ],
      "text/plain": [
       "<IPython.core.display.HTML object>"
      ]
     },
     "metadata": {},
     "output_type": "display_data"
    },
    {
     "data": {
      "text/html": [
       "Synced 5 W&B file(s), 0 media file(s), 0 artifact file(s) and 0 other file(s)"
      ],
      "text/plain": [
       "<IPython.core.display.HTML object>"
      ]
     },
     "metadata": {},
     "output_type": "display_data"
    },
    {
     "data": {
      "text/html": [
       "\n",
       "                    <br/>Synced <strong style=\"color:#cdcd00\">balmy-sweep-9</strong>: <a href=\"https://wandb.ai/sazio/NMAs-Full-Signals/runs/97hv4m5o\" target=\"_blank\">https://wandb.ai/sazio/NMAs-Full-Signals/runs/97hv4m5o</a><br/>\n",
       "                "
      ],
      "text/plain": [
       "<IPython.core.display.HTML object>"
      ]
     },
     "metadata": {},
     "output_type": "display_data"
    },
    {
     "name": "stderr",
     "output_type": "stream",
     "text": [
      "wandb: Agent Starting Run: 94lp0nyl with config:\n",
      "wandb: \tdropout: 0.3\n",
      "wandb: \tepochs: 4000\n",
      "wandb: \tlearning_rate: 0.0004786530328312789\n",
      "wandb: \tn_comp: 500\n",
      "wandb: \tnum_layers: 1\n",
      "wandb: \toptimizer: adam\n",
      "wandb: \tweight_decay: 1e-06\n",
      "Failed to detect the name of this notebook, you can set it manually with the WANDB_NOTEBOOK_NAME environment variable to enable code saving.\n"
     ]
    },
    {
     "data": {
      "text/html": [
       "\n",
       "                Tracking run with wandb version 0.12.0<br/>\n",
       "                Syncing run <strong style=\"color:#cdcd00\">lunar-sweep-10</strong> to <a href=\"https://wandb.ai\" target=\"_blank\">Weights & Biases</a> <a href=\"https://docs.wandb.com/integrations/jupyter.html\" target=\"_blank\">(Documentation)</a>.<br/>\n",
       "                Project page: <a href=\"https://wandb.ai/sazio/NMAs-Full-Signals\" target=\"_blank\">https://wandb.ai/sazio/NMAs-Full-Signals</a><br/>\n",
       "                Sweep page: <a href=\"https://wandb.ai/sazio/NMAs-Full-Signals/sweeps/cbewt4f6\" target=\"_blank\">https://wandb.ai/sazio/NMAs-Full-Signals/sweeps/cbewt4f6</a><br/>\n",
       "Run page: <a href=\"https://wandb.ai/sazio/NMAs-Full-Signals/runs/94lp0nyl\" target=\"_blank\">https://wandb.ai/sazio/NMAs-Full-Signals/runs/94lp0nyl</a><br/>\n",
       "                Run data is saved locally in <code>/home/sazeglio/NMAs/src/wandb/run-20210815_044527-94lp0nyl</code><br/><br/>\n",
       "            "
      ],
      "text/plain": [
       "<IPython.core.display.HTML object>"
      ]
     },
     "metadata": {},
     "output_type": "display_data"
    },
    {
     "name": "stdout",
     "output_type": "stream",
     "text": [
      " iteration 0, train cost 4.9285, valid cost 5.0251\n",
      " iteration 50, train cost 3.3266, valid cost 3.4038\n",
      " iteration 100, train cost 3.2819, valid cost 3.3613\n",
      " iteration 150, train cost 3.2753, valid cost 3.3569\n",
      " iteration 200, train cost 3.2677, valid cost 3.3492\n",
      " iteration 250, train cost 3.2272, valid cost 3.2982\n",
      " iteration 300, train cost 3.1476, valid cost 3.2080\n",
      " iteration 350, train cost 3.0578, valid cost 3.1219\n",
      " iteration 400, train cost 2.9976, valid cost 3.0653\n",
      " iteration 450, train cost 2.9394, valid cost 3.0143\n",
      " iteration 500, train cost 2.8895, valid cost 2.9709\n",
      " iteration 550, train cost 2.8423, valid cost 2.9312\n",
      " iteration 600, train cost 2.8002, valid cost 2.8940\n",
      " iteration 650, train cost 2.7573, valid cost 2.8553\n",
      " iteration 700, train cost 2.7125, valid cost 2.8142\n",
      " iteration 750, train cost 2.6660, valid cost 2.7740\n",
      " iteration 800, train cost 2.6229, valid cost 2.7366\n",
      " iteration 850, train cost 2.5840, valid cost 2.7070\n",
      " iteration 900, train cost 2.5507, valid cost 2.6784\n",
      " iteration 950, train cost 2.5290, valid cost 2.6957\n",
      " iteration 1000, train cost 2.4954, valid cost 2.6315\n",
      " iteration 1050, train cost 2.4727, valid cost 2.6128\n",
      " iteration 1100, train cost 2.4490, valid cost 2.5930\n",
      " iteration 1150, train cost 2.4247, valid cost 2.5719\n",
      " iteration 1200, train cost 2.3976, valid cost 2.5486\n",
      " iteration 1250, train cost 2.3743, valid cost 2.5261\n",
      " iteration 1300, train cost 2.3511, valid cost 2.5061\n",
      " iteration 1350, train cost 2.3313, valid cost 2.4880\n",
      " iteration 1400, train cost 2.3123, valid cost 2.4706\n",
      " iteration 1450, train cost 2.2919, valid cost 2.4539\n",
      " iteration 1500, train cost 2.2739, valid cost 2.4380\n",
      " iteration 1550, train cost 2.2552, valid cost 2.4226\n",
      " iteration 1600, train cost 2.2402, valid cost 2.4085\n",
      " iteration 1650, train cost 2.2224, valid cost 2.3946\n",
      " iteration 1700, train cost 2.2108, valid cost 2.3814\n",
      " iteration 1750, train cost 2.1971, valid cost 2.3722\n",
      " iteration 1800, train cost 2.1860, valid cost 2.3627\n",
      " iteration 1850, train cost 2.1733, valid cost 2.3541\n",
      " iteration 1900, train cost 2.1637, valid cost 2.3448\n",
      " iteration 1950, train cost 2.1508, valid cost 2.3358\n",
      " iteration 2000, train cost 2.1385, valid cost 2.3262\n",
      " iteration 2050, train cost 2.1259, valid cost 2.3169\n",
      " iteration 2100, train cost 2.1163, valid cost 2.3070\n",
      " iteration 2150, train cost 2.1039, valid cost 2.2978\n",
      " iteration 2200, train cost 2.0952, valid cost 2.2883\n",
      " iteration 2250, train cost 2.0833, valid cost 2.2787\n",
      " iteration 2300, train cost 2.0728, valid cost 2.2700\n",
      " iteration 2350, train cost 2.0632, valid cost 2.2621\n",
      " iteration 2400, train cost 2.0542, valid cost 2.2545\n",
      " iteration 2450, train cost 2.0460, valid cost 2.2469\n",
      " iteration 2500, train cost 2.0365, valid cost 2.2402\n",
      " iteration 2550, train cost 2.0285, valid cost 2.2335\n",
      " iteration 2600, train cost 2.0214, valid cost 2.2268\n",
      " iteration 2650, train cost 2.0126, valid cost 2.2204\n",
      " iteration 2700, train cost 2.0086, valid cost 2.2189\n",
      " iteration 2750, train cost 1.9978, valid cost 2.2090\n",
      " iteration 2800, train cost 1.9920, valid cost 2.2036\n",
      " iteration 2850, train cost 1.9851, valid cost 2.1990\n",
      " iteration 2900, train cost 1.9809, valid cost 2.1944\n",
      " iteration 2950, train cost 1.9753, valid cost 2.1901\n",
      " iteration 3000, train cost 1.9699, valid cost 2.1860\n",
      " iteration 3050, train cost 1.9635, valid cost 2.1821\n",
      " iteration 3100, train cost 1.9979, valid cost 2.1956\n",
      " iteration 3150, train cost 1.9535, valid cost 2.1742\n",
      " iteration 3200, train cost 1.9495, valid cost 2.1712\n",
      " iteration 3250, train cost 1.9436, valid cost 2.1679\n",
      " iteration 3300, train cost 1.9372, valid cost 2.1647\n",
      " iteration 3350, train cost 1.9327, valid cost 2.1624\n",
      " iteration 3400, train cost 1.9280, valid cost 2.1579\n",
      " iteration 3450, train cost 1.9218, valid cost 2.1573\n",
      " iteration 3500, train cost 1.9168, valid cost 2.1527\n",
      " iteration 3550, train cost 1.9114, valid cost 2.1495\n",
      " iteration 3600, train cost 1.9060, valid cost 2.1480\n",
      " iteration 3650, train cost 1.9028, valid cost 2.1438\n",
      " iteration 3700, train cost 1.8975, valid cost 2.1396\n",
      " iteration 3750, train cost 1.8918, valid cost 2.1355\n",
      " iteration 3800, train cost 1.8879, valid cost 2.1338\n",
      " iteration 3850, train cost 1.8835, valid cost 2.1335\n",
      " iteration 3900, train cost 1.8780, valid cost 2.1304\n",
      " iteration 3950, train cost 1.8767, valid cost 2.1268\n"
     ]
    },
    {
     "data": {
      "text/html": [
       "<br/>Waiting for W&B process to finish, PID 194131<br/>Program ended successfully."
      ],
      "text/plain": [
       "<IPython.core.display.HTML object>"
      ]
     },
     "metadata": {},
     "output_type": "display_data"
    },
    {
     "name": "stderr",
     "output_type": "stream",
     "text": [
      "Widget Javascript not detected.  It may not be installed or enabled properly.\n"
     ]
    },
    {
     "data": {
      "application/vnd.jupyter.widget-view+json": {
       "model_id": "e5ed765856164210a2e16a76b8f32b98"
      }
     },
     "metadata": {},
     "output_type": "display_data"
    },
    {
     "data": {
      "text/html": [
       "Find user logs for this run at: <code>/home/sazeglio/NMAs/src/wandb/run-20210815_044527-94lp0nyl/logs/debug.log</code>"
      ],
      "text/plain": [
       "<IPython.core.display.HTML object>"
      ]
     },
     "metadata": {},
     "output_type": "display_data"
    },
    {
     "data": {
      "text/html": [
       "Find internal logs for this run at: <code>/home/sazeglio/NMAs/src/wandb/run-20210815_044527-94lp0nyl/logs/debug-internal.log</code>"
      ],
      "text/plain": [
       "<IPython.core.display.HTML object>"
      ]
     },
     "metadata": {},
     "output_type": "display_data"
    },
    {
     "data": {
      "text/html": [
       "<h3>Run summary:</h3><br/><style>\n",
       "    table.wandb td:nth-child(1) { padding: 0 10px; text-align: right }\n",
       "    </style><table class=\"wandb\">\n",
       "<tr><td>train_loss</td><td>1.87021</td></tr><tr><td>valid_loss</td><td>2.12637</td></tr><tr><td>epoch</td><td>3999</td></tr><tr><td>_runtime</td><td>1232</td></tr><tr><td>_timestamp</td><td>1628996759</td></tr><tr><td>_step</td><td>3999</td></tr></table>"
      ],
      "text/plain": [
       "<IPython.core.display.HTML object>"
      ]
     },
     "metadata": {},
     "output_type": "display_data"
    },
    {
     "data": {
      "text/html": [
       "<h3>Run history:</h3><br/><style>\n",
       "    table.wandb td:nth-child(1) { padding: 0 10px; text-align: right }\n",
       "    </style><table class=\"wandb\">\n",
       "<tr><td>train_loss</td><td>█▇▇▆▆▅▅▄▄▄▄▃▃▃▃▃▂▂▂▂▂▂▂▂▂▂▂▂▁▁▁▁▁▁▁▁▁▁▁▁</td></tr><tr><td>valid_loss</td><td>█▇▇▆▅▅▄▄▄▄▃▃▃▃▃▂▂▂▂▂▂▂▂▂▂▁▁▁▁▁▁▁▁▁▁▁▁▁▁▁</td></tr><tr><td>epoch</td><td>▁▁▁▂▂▂▂▂▂▃▃▃▃▃▄▄▄▄▄▄▅▅▅▅▅▅▆▆▆▆▆▇▇▇▇▇▇███</td></tr><tr><td>_runtime</td><td>▁▁▁▂▂▂▂▂▂▃▃▃▃▃▄▄▄▄▄▄▅▅▅▅▅▆▆▆▆▆▆▇▇▇▇▇▇███</td></tr><tr><td>_timestamp</td><td>▁▁▁▂▂▂▂▂▂▃▃▃▃▃▄▄▄▄▄▄▅▅▅▅▅▆▆▆▆▆▆▇▇▇▇▇▇███</td></tr><tr><td>_step</td><td>▁▁▁▂▂▂▂▂▂▃▃▃▃▃▄▄▄▄▄▄▅▅▅▅▅▅▆▆▆▆▆▇▇▇▇▇▇███</td></tr></table><br/>"
      ],
      "text/plain": [
       "<IPython.core.display.HTML object>"
      ]
     },
     "metadata": {},
     "output_type": "display_data"
    },
    {
     "data": {
      "text/html": [
       "Synced 5 W&B file(s), 0 media file(s), 0 artifact file(s) and 0 other file(s)"
      ],
      "text/plain": [
       "<IPython.core.display.HTML object>"
      ]
     },
     "metadata": {},
     "output_type": "display_data"
    },
    {
     "data": {
      "text/html": [
       "\n",
       "                    <br/>Synced <strong style=\"color:#cdcd00\">lunar-sweep-10</strong>: <a href=\"https://wandb.ai/sazio/NMAs-Full-Signals/runs/94lp0nyl\" target=\"_blank\">https://wandb.ai/sazio/NMAs-Full-Signals/runs/94lp0nyl</a><br/>\n",
       "                "
      ],
      "text/plain": [
       "<IPython.core.display.HTML object>"
      ]
     },
     "metadata": {},
     "output_type": "display_data"
    },
    {
     "name": "stderr",
     "output_type": "stream",
     "text": [
      "wandb: Agent Starting Run: vc9sue1g with config:\n",
      "wandb: \tdropout: 0.3\n",
      "wandb: \tepochs: 4000\n",
      "wandb: \tlearning_rate: 0.0018102133932468016\n",
      "wandb: \tn_comp: 300\n",
      "wandb: \tnum_layers: 1\n",
      "wandb: \toptimizer: adam\n",
      "wandb: \tweight_decay: 1e-06\n",
      "Failed to detect the name of this notebook, you can set it manually with the WANDB_NOTEBOOK_NAME environment variable to enable code saving.\n"
     ]
    },
    {
     "data": {
      "text/html": [
       "\n",
       "                Tracking run with wandb version 0.12.0<br/>\n",
       "                Syncing run <strong style=\"color:#cdcd00\">earthy-sweep-11</strong> to <a href=\"https://wandb.ai\" target=\"_blank\">Weights & Biases</a> <a href=\"https://docs.wandb.com/integrations/jupyter.html\" target=\"_blank\">(Documentation)</a>.<br/>\n",
       "                Project page: <a href=\"https://wandb.ai/sazio/NMAs-Full-Signals\" target=\"_blank\">https://wandb.ai/sazio/NMAs-Full-Signals</a><br/>\n",
       "                Sweep page: <a href=\"https://wandb.ai/sazio/NMAs-Full-Signals/sweeps/cbewt4f6\" target=\"_blank\">https://wandb.ai/sazio/NMAs-Full-Signals/sweeps/cbewt4f6</a><br/>\n",
       "Run page: <a href=\"https://wandb.ai/sazio/NMAs-Full-Signals/runs/vc9sue1g\" target=\"_blank\">https://wandb.ai/sazio/NMAs-Full-Signals/runs/vc9sue1g</a><br/>\n",
       "                Run data is saved locally in <code>/home/sazeglio/NMAs/src/wandb/run-20210815_050604-vc9sue1g</code><br/><br/>\n",
       "            "
      ],
      "text/plain": [
       "<IPython.core.display.HTML object>"
      ]
     },
     "metadata": {},
     "output_type": "display_data"
    },
    {
     "name": "stdout",
     "output_type": "stream",
     "text": [
      " iteration 0, train cost 4.9371, valid cost 5.0175\n",
      " iteration 50, train cost 3.2809, valid cost 3.3655\n",
      " iteration 100, train cost 3.2689, valid cost 3.3533\n",
      " iteration 150, train cost 3.1819, valid cost 3.2518\n",
      " iteration 200, train cost 3.0588, valid cost 3.1273\n",
      " iteration 250, train cost 2.9535, valid cost 3.0243\n",
      " iteration 300, train cost 2.8660, valid cost 2.9462\n",
      " iteration 350, train cost 2.8075, valid cost 2.8943\n",
      " iteration 400, train cost 2.7497, valid cost 2.8419\n",
      " iteration 450, train cost 2.6878, valid cost 2.7912\n",
      " iteration 500, train cost 2.6524, valid cost 2.7695\n",
      " iteration 550, train cost 2.5856, valid cost 2.7219\n",
      " iteration 600, train cost 2.5445, valid cost 2.6947\n",
      " iteration 650, train cost 2.5054, valid cost 2.6675\n",
      " iteration 700, train cost 2.4616, valid cost 2.6325\n",
      " iteration 750, train cost 2.4296, valid cost 2.6041\n",
      " iteration 800, train cost 2.3881, valid cost 2.5760\n",
      " iteration 850, train cost 2.3599, valid cost 2.5788\n",
      " iteration 900, train cost 2.3341, valid cost 2.5330\n",
      " iteration 950, train cost 2.3161, valid cost 2.5194\n",
      " iteration 1000, train cost 2.2912, valid cost 2.5034\n",
      " iteration 1050, train cost 2.2744, valid cost 2.4922\n",
      " iteration 1100, train cost 2.2535, valid cost 2.4769\n",
      " iteration 1150, train cost 2.2359, valid cost 2.4730\n",
      " iteration 1200, train cost 2.2125, valid cost 2.4517\n",
      " iteration 1250, train cost 2.1910, valid cost 2.4369\n",
      " iteration 1300, train cost 2.1759, valid cost 2.4290\n",
      " iteration 1350, train cost 2.1579, valid cost 2.4122\n",
      " iteration 1400, train cost 2.1381, valid cost 2.4019\n",
      " iteration 1450, train cost 2.1287, valid cost 2.3947\n",
      " iteration 1500, train cost 2.1163, valid cost 2.3822\n",
      " iteration 1550, train cost 2.0910, valid cost 2.3686\n",
      " iteration 1600, train cost 2.1079, valid cost 2.3713\n",
      " iteration 1650, train cost 2.0723, valid cost 2.3486\n",
      " iteration 1700, train cost 2.0565, valid cost 2.3395\n",
      " iteration 1750, train cost 2.0417, valid cost 2.3335\n",
      " iteration 1800, train cost 2.0297, valid cost 2.3259\n",
      " iteration 1850, train cost 2.0344, valid cost 2.3226\n",
      " iteration 1900, train cost 2.0145, valid cost 2.3081\n",
      " iteration 1950, train cost 2.0020, valid cost 2.3004\n",
      " iteration 2000, train cost 1.9894, valid cost 2.2950\n",
      " iteration 2050, train cost 2.0063, valid cost 2.2876\n",
      " iteration 2100, train cost 1.9751, valid cost 2.2754\n",
      " iteration 2150, train cost 1.9665, valid cost 2.2720\n",
      " iteration 2200, train cost 1.9595, valid cost 2.2677\n",
      " iteration 2250, train cost 1.9491, valid cost 2.2619\n",
      " iteration 2300, train cost 1.9547, valid cost 2.2558\n",
      " iteration 2350, train cost 1.9452, valid cost 2.2545\n",
      " iteration 2400, train cost 1.9330, valid cost 2.2477\n",
      " iteration 2450, train cost 1.9286, valid cost 2.2442\n",
      " iteration 2500, train cost 1.9315, valid cost 2.2488\n",
      " iteration 2550, train cost 1.9132, valid cost 2.2359\n",
      " iteration 2600, train cost 1.9113, valid cost 2.2316\n",
      " iteration 2650, train cost 1.9150, valid cost 2.2366\n",
      " iteration 2700, train cost 1.8979, valid cost 2.2255\n",
      " iteration 2750, train cost 1.9287, valid cost 2.2323\n",
      " iteration 2800, train cost 1.8981, valid cost 2.2204\n",
      " iteration 2850, train cost 1.8895, valid cost 2.2175\n",
      " iteration 2900, train cost 1.9960, valid cost 2.2755\n",
      " iteration 2950, train cost 1.8814, valid cost 2.2066\n",
      " iteration 3000, train cost 1.8730, valid cost 2.2070\n",
      " iteration 3050, train cost 1.8708, valid cost 2.2037\n",
      " iteration 3100, train cost 1.8651, valid cost 2.2032\n",
      " iteration 3150, train cost 1.8594, valid cost 2.1996\n",
      " iteration 3200, train cost 1.8553, valid cost 2.1963\n",
      " iteration 3250, train cost 1.8536, valid cost 2.1938\n",
      " iteration 3300, train cost 1.8465, valid cost 2.1914\n",
      " iteration 3350, train cost 1.8440, valid cost 2.1908\n",
      " iteration 3400, train cost 1.8355, valid cost 2.1835\n",
      " iteration 3450, train cost 1.8418, valid cost 2.1816\n",
      " iteration 3500, train cost 1.8301, valid cost 2.1761\n",
      " iteration 3550, train cost 1.8330, valid cost 2.1739\n",
      " iteration 3600, train cost 1.8241, valid cost 2.1746\n",
      " iteration 3650, train cost 1.8590, valid cost 2.1924\n",
      " iteration 3700, train cost 1.8218, valid cost 2.1610\n",
      " iteration 3750, train cost 1.8118, valid cost 2.1639\n",
      " iteration 3800, train cost 1.8077, valid cost 2.1607\n",
      " iteration 3850, train cost 1.8224, valid cost 2.1692\n",
      " iteration 3900, train cost 1.8033, valid cost 2.1573\n",
      " iteration 3950, train cost 1.7979, valid cost 2.1533\n"
     ]
    },
    {
     "data": {
      "text/html": [
       "<br/>Waiting for W&B process to finish, PID 194427<br/>Program ended successfully."
      ],
      "text/plain": [
       "<IPython.core.display.HTML object>"
      ]
     },
     "metadata": {},
     "output_type": "display_data"
    },
    {
     "name": "stderr",
     "output_type": "stream",
     "text": [
      "Widget Javascript not detected.  It may not be installed or enabled properly.\n"
     ]
    },
    {
     "data": {
      "application/vnd.jupyter.widget-view+json": {
       "model_id": "23a58e3cdc4446abb5d5a7caa6effdfb"
      }
     },
     "metadata": {},
     "output_type": "display_data"
    },
    {
     "data": {
      "text/html": [
       "Find user logs for this run at: <code>/home/sazeglio/NMAs/src/wandb/run-20210815_050604-vc9sue1g/logs/debug.log</code>"
      ],
      "text/plain": [
       "<IPython.core.display.HTML object>"
      ]
     },
     "metadata": {},
     "output_type": "display_data"
    },
    {
     "data": {
      "text/html": [
       "Find internal logs for this run at: <code>/home/sazeglio/NMAs/src/wandb/run-20210815_050604-vc9sue1g/logs/debug-internal.log</code>"
      ],
      "text/plain": [
       "<IPython.core.display.HTML object>"
      ]
     },
     "metadata": {},
     "output_type": "display_data"
    },
    {
     "data": {
      "text/html": [
       "<h3>Run summary:</h3><br/><style>\n",
       "    table.wandb td:nth-child(1) { padding: 0 10px; text-align: right }\n",
       "    </style><table class=\"wandb\">\n",
       "<tr><td>train_loss</td><td>1.79705</td></tr><tr><td>valid_loss</td><td>2.15498</td></tr><tr><td>epoch</td><td>3999</td></tr><tr><td>_runtime</td><td>1240</td></tr><tr><td>_timestamp</td><td>1628998004</td></tr><tr><td>_step</td><td>3999</td></tr></table>"
      ],
      "text/plain": [
       "<IPython.core.display.HTML object>"
      ]
     },
     "metadata": {},
     "output_type": "display_data"
    },
    {
     "data": {
      "text/html": [
       "<h3>Run history:</h3><br/><style>\n",
       "    table.wandb td:nth-child(1) { padding: 0 10px; text-align: right }\n",
       "    </style><table class=\"wandb\">\n",
       "<tr><td>train_loss</td><td>██▇▆▅▅▄▄▄▃▃▃▃▃▃▂▂▂▂▂▂▂▂▂▂▂▂▂▁▁▁▁▁▁▁▁▁▁▁▁</td></tr><tr><td>valid_loss</td><td>██▆▅▅▄▄▄▃▃▃▃▃▃▂▂▂▂▂▂▂▂▂▂▁▂▁▁▁▁▁▁▁▁▁▁▁▁▁▁</td></tr><tr><td>epoch</td><td>▁▁▁▂▂▂▂▂▂▃▃▃▃▃▄▄▄▄▄▄▅▅▅▅▅▅▆▆▆▆▆▇▇▇▇▇▇███</td></tr><tr><td>_runtime</td><td>▁▁▁▂▂▂▂▂▂▃▃▃▃▃▄▄▄▄▄▄▅▅▅▅▅▅▆▆▆▆▆▇▇▇▇▇▇███</td></tr><tr><td>_timestamp</td><td>▁▁▁▂▂▂▂▂▂▃▃▃▃▃▄▄▄▄▄▄▅▅▅▅▅▅▆▆▆▆▆▇▇▇▇▇▇███</td></tr><tr><td>_step</td><td>▁▁▁▂▂▂▂▂▂▃▃▃▃▃▄▄▄▄▄▄▅▅▅▅▅▅▆▆▆▆▆▇▇▇▇▇▇███</td></tr></table><br/>"
      ],
      "text/plain": [
       "<IPython.core.display.HTML object>"
      ]
     },
     "metadata": {},
     "output_type": "display_data"
    },
    {
     "data": {
      "text/html": [
       "Synced 5 W&B file(s), 0 media file(s), 0 artifact file(s) and 0 other file(s)"
      ],
      "text/plain": [
       "<IPython.core.display.HTML object>"
      ]
     },
     "metadata": {},
     "output_type": "display_data"
    },
    {
     "data": {
      "text/html": [
       "\n",
       "                    <br/>Synced <strong style=\"color:#cdcd00\">earthy-sweep-11</strong>: <a href=\"https://wandb.ai/sazio/NMAs-Full-Signals/runs/vc9sue1g\" target=\"_blank\">https://wandb.ai/sazio/NMAs-Full-Signals/runs/vc9sue1g</a><br/>\n",
       "                "
      ],
      "text/plain": [
       "<IPython.core.display.HTML object>"
      ]
     },
     "metadata": {},
     "output_type": "display_data"
    },
    {
     "name": "stderr",
     "output_type": "stream",
     "text": [
      "wandb: Agent Starting Run: rzmaigbd with config:\n",
      "wandb: \tdropout: 0.1\n",
      "wandb: \tepochs: 4000\n",
      "wandb: \tlearning_rate: 0.0004885494600036471\n",
      "wandb: \tn_comp: 200\n",
      "wandb: \tnum_layers: 1\n",
      "wandb: \toptimizer: adam\n",
      "wandb: \tweight_decay: 1e-05\n",
      "Failed to detect the name of this notebook, you can set it manually with the WANDB_NOTEBOOK_NAME environment variable to enable code saving.\n"
     ]
    },
    {
     "data": {
      "text/html": [
       "\n",
       "                Tracking run with wandb version 0.12.0<br/>\n",
       "                Syncing run <strong style=\"color:#cdcd00\">graceful-sweep-12</strong> to <a href=\"https://wandb.ai\" target=\"_blank\">Weights & Biases</a> <a href=\"https://docs.wandb.com/integrations/jupyter.html\" target=\"_blank\">(Documentation)</a>.<br/>\n",
       "                Project page: <a href=\"https://wandb.ai/sazio/NMAs-Full-Signals\" target=\"_blank\">https://wandb.ai/sazio/NMAs-Full-Signals</a><br/>\n",
       "                Sweep page: <a href=\"https://wandb.ai/sazio/NMAs-Full-Signals/sweeps/cbewt4f6\" target=\"_blank\">https://wandb.ai/sazio/NMAs-Full-Signals/sweeps/cbewt4f6</a><br/>\n",
       "Run page: <a href=\"https://wandb.ai/sazio/NMAs-Full-Signals/runs/rzmaigbd\" target=\"_blank\">https://wandb.ai/sazio/NMAs-Full-Signals/runs/rzmaigbd</a><br/>\n",
       "                Run data is saved locally in <code>/home/sazeglio/NMAs/src/wandb/run-20210815_052648-rzmaigbd</code><br/><br/>\n",
       "            "
      ],
      "text/plain": [
       "<IPython.core.display.HTML object>"
      ]
     },
     "metadata": {},
     "output_type": "display_data"
    },
    {
     "name": "stdout",
     "output_type": "stream",
     "text": [
      " iteration 0, train cost 4.9295, valid cost 5.0272\n",
      " iteration 50, train cost 3.3190, valid cost 3.3949\n",
      " iteration 100, train cost 3.2820, valid cost 3.3611\n",
      " iteration 150, train cost 3.2734, valid cost 3.3552\n",
      " iteration 200, train cost 3.2540, valid cost 3.3357\n",
      " iteration 250, train cost 3.1578, valid cost 3.2288\n",
      " iteration 300, train cost 3.0480, valid cost 3.1131\n",
      " iteration 350, train cost 2.9689, valid cost 3.0324\n",
      " iteration 400, train cost 2.9084, valid cost 2.9758\n",
      " iteration 450, train cost 2.8520, valid cost 2.9260\n",
      " iteration 500, train cost 2.7937, valid cost 2.8724\n",
      " iteration 550, train cost 2.7288, valid cost 2.8114\n",
      " iteration 600, train cost 2.6701, valid cost 2.7587\n",
      " iteration 650, train cost 2.6228, valid cost 2.7155\n",
      " iteration 700, train cost 2.5817, valid cost 2.6774\n",
      " iteration 750, train cost 2.5405, valid cost 2.6385\n",
      " iteration 800, train cost 2.5003, valid cost 2.6004\n",
      " iteration 850, train cost 2.4629, valid cost 2.5648\n",
      " iteration 900, train cost 2.4314, valid cost 2.5351\n",
      " iteration 950, train cost 2.4037, valid cost 2.5096\n",
      " iteration 1000, train cost 2.3796, valid cost 2.4878\n",
      " iteration 1050, train cost 2.3542, valid cost 2.4645\n",
      " iteration 1100, train cost 2.3319, valid cost 2.4445\n",
      " iteration 1150, train cost 2.3126, valid cost 2.4266\n",
      " iteration 1200, train cost 2.2929, valid cost 2.4109\n",
      " iteration 1250, train cost 2.2761, valid cost 2.3949\n",
      " iteration 1300, train cost 2.2593, valid cost 2.3809\n",
      " iteration 1350, train cost 2.2435, valid cost 2.3673\n",
      " iteration 1400, train cost 2.2271, valid cost 2.3517\n",
      " iteration 1450, train cost 2.2128, valid cost 2.3379\n",
      " iteration 1500, train cost 2.2006, valid cost 2.3261\n",
      " iteration 1550, train cost 2.1883, valid cost 2.3147\n",
      " iteration 1600, train cost 2.1768, valid cost 2.3058\n",
      " iteration 1650, train cost 2.1649, valid cost 2.2963\n",
      " iteration 1700, train cost 2.1534, valid cost 2.2877\n",
      " iteration 1750, train cost 2.1426, valid cost 2.2767\n",
      " iteration 1800, train cost 2.1301, valid cost 2.2640\n",
      " iteration 1850, train cost 2.1189, valid cost 2.2528\n",
      " iteration 1900, train cost 2.1076, valid cost 2.2425\n",
      " iteration 1950, train cost 2.0970, valid cost 2.2347\n",
      " iteration 2000, train cost 2.0905, valid cost 2.2275\n",
      " iteration 2050, train cost 2.0793, valid cost 2.2205\n",
      " iteration 2100, train cost 2.0722, valid cost 2.2148\n",
      " iteration 2150, train cost 2.0642, valid cost 2.2072\n",
      " iteration 2200, train cost 2.0567, valid cost 2.2020\n",
      " iteration 2250, train cost 2.0486, valid cost 2.1961\n",
      " iteration 2300, train cost 2.0430, valid cost 2.1912\n",
      " iteration 2350, train cost 2.0349, valid cost 2.1864\n",
      " iteration 2400, train cost 2.0283, valid cost 2.1811\n",
      " iteration 2450, train cost 2.0217, valid cost 2.1761\n",
      " iteration 2500, train cost 2.0156, valid cost 2.1700\n",
      " iteration 2550, train cost 2.0080, valid cost 2.1630\n",
      " iteration 2600, train cost 1.9998, valid cost 2.1570\n",
      " iteration 2650, train cost 1.9933, valid cost 2.1500\n",
      " iteration 2700, train cost 1.9873, valid cost 2.1450\n",
      " iteration 2750, train cost 1.9793, valid cost 2.1385\n",
      " iteration 2800, train cost 1.9725, valid cost 2.1342\n",
      " iteration 2850, train cost 1.9690, valid cost 2.1288\n",
      " iteration 2900, train cost 1.9611, valid cost 2.1236\n",
      " iteration 2950, train cost 1.9553, valid cost 2.1195\n",
      " iteration 3000, train cost 1.9491, valid cost 2.1136\n",
      " iteration 3050, train cost 1.9445, valid cost 2.1091\n",
      " iteration 3100, train cost 1.9393, valid cost 2.1052\n",
      " iteration 3150, train cost 1.9337, valid cost 2.1009\n",
      " iteration 3200, train cost 1.9288, valid cost 2.0968\n",
      " iteration 3250, train cost 1.9255, valid cost 2.0936\n",
      " iteration 3300, train cost 1.9204, valid cost 2.0906\n",
      " iteration 3350, train cost 1.9141, valid cost 2.0868\n",
      " iteration 3400, train cost 1.9102, valid cost 2.0827\n",
      " iteration 3450, train cost 1.9065, valid cost 2.0785\n",
      " iteration 3500, train cost 1.8989, valid cost 2.0751\n",
      " iteration 3550, train cost 1.8943, valid cost 2.0721\n",
      " iteration 3600, train cost 1.8938, valid cost 2.0677\n",
      " iteration 3650, train cost 1.8849, valid cost 2.0646\n",
      " iteration 3700, train cost 1.8801, valid cost 2.0615\n",
      " iteration 3750, train cost 1.8731, valid cost 2.0588\n",
      " iteration 3800, train cost 1.8719, valid cost 2.0550\n",
      " iteration 3850, train cost 1.8655, valid cost 2.0520\n",
      " iteration 3900, train cost 1.8609, valid cost 2.0494\n",
      " iteration 3950, train cost 1.8562, valid cost 2.0458\n"
     ]
    },
    {
     "data": {
      "text/html": [
       "<br/>Waiting for W&B process to finish, PID 194724<br/>Program ended successfully."
      ],
      "text/plain": [
       "<IPython.core.display.HTML object>"
      ]
     },
     "metadata": {},
     "output_type": "display_data"
    },
    {
     "name": "stderr",
     "output_type": "stream",
     "text": [
      "Widget Javascript not detected.  It may not be installed or enabled properly.\n"
     ]
    },
    {
     "data": {
      "application/vnd.jupyter.widget-view+json": {
       "model_id": "f08b3533e13e436197e6e699c93622fb"
      }
     },
     "metadata": {},
     "output_type": "display_data"
    },
    {
     "data": {
      "text/html": [
       "Find user logs for this run at: <code>/home/sazeglio/NMAs/src/wandb/run-20210815_052648-rzmaigbd/logs/debug.log</code>"
      ],
      "text/plain": [
       "<IPython.core.display.HTML object>"
      ]
     },
     "metadata": {},
     "output_type": "display_data"
    },
    {
     "data": {
      "text/html": [
       "Find internal logs for this run at: <code>/home/sazeglio/NMAs/src/wandb/run-20210815_052648-rzmaigbd/logs/debug-internal.log</code>"
      ],
      "text/plain": [
       "<IPython.core.display.HTML object>"
      ]
     },
     "metadata": {},
     "output_type": "display_data"
    },
    {
     "data": {
      "text/html": [
       "<h3>Run summary:</h3><br/><style>\n",
       "    table.wandb td:nth-child(1) { padding: 0 10px; text-align: right }\n",
       "    </style><table class=\"wandb\">\n",
       "<tr><td>train_loss</td><td>1.85334</td></tr><tr><td>valid_loss</td><td>2.0425</td></tr><tr><td>epoch</td><td>3999</td></tr><tr><td>_runtime</td><td>1240</td></tr><tr><td>_timestamp</td><td>1628999248</td></tr><tr><td>_step</td><td>3999</td></tr></table>"
      ],
      "text/plain": [
       "<IPython.core.display.HTML object>"
      ]
     },
     "metadata": {},
     "output_type": "display_data"
    },
    {
     "data": {
      "text/html": [
       "<h3>Run history:</h3><br/><style>\n",
       "    table.wandb td:nth-child(1) { padding: 0 10px; text-align: right }\n",
       "    </style><table class=\"wandb\">\n",
       "<tr><td>train_loss</td><td>█▇▇▆▅▅▄▄▄▃▃▃▃▃▂▂▂▂▂▂▂▂▂▂▂▂▂▁▁▁▁▁▁▁▁▁▁▁▁▁</td></tr><tr><td>valid_loss</td><td>█▇▇▆▅▅▄▄▃▃▃▃▃▂▂▂▂▂▂▂▂▂▂▂▂▂▁▁▁▁▁▁▁▁▁▁▁▁▁▁</td></tr><tr><td>epoch</td><td>▁▁▁▂▂▂▂▂▂▃▃▃▃▃▄▄▄▄▄▄▅▅▅▅▅▅▆▆▆▆▆▇▇▇▇▇▇███</td></tr><tr><td>_runtime</td><td>▁▁▁▂▂▂▂▂▂▃▃▃▃▃▄▄▄▄▄▄▅▅▅▅▅▅▆▆▆▆▆▇▇▇▇▇▇███</td></tr><tr><td>_timestamp</td><td>▁▁▁▂▂▂▂▂▂▃▃▃▃▃▄▄▄▄▄▄▅▅▅▅▅▅▆▆▆▆▆▇▇▇▇▇▇███</td></tr><tr><td>_step</td><td>▁▁▁▂▂▂▂▂▂▃▃▃▃▃▄▄▄▄▄▄▅▅▅▅▅▅▆▆▆▆▆▇▇▇▇▇▇███</td></tr></table><br/>"
      ],
      "text/plain": [
       "<IPython.core.display.HTML object>"
      ]
     },
     "metadata": {},
     "output_type": "display_data"
    },
    {
     "data": {
      "text/html": [
       "Synced 5 W&B file(s), 0 media file(s), 0 artifact file(s) and 0 other file(s)"
      ],
      "text/plain": [
       "<IPython.core.display.HTML object>"
      ]
     },
     "metadata": {},
     "output_type": "display_data"
    },
    {
     "data": {
      "text/html": [
       "\n",
       "                    <br/>Synced <strong style=\"color:#cdcd00\">graceful-sweep-12</strong>: <a href=\"https://wandb.ai/sazio/NMAs-Full-Signals/runs/rzmaigbd\" target=\"_blank\">https://wandb.ai/sazio/NMAs-Full-Signals/runs/rzmaigbd</a><br/>\n",
       "                "
      ],
      "text/plain": [
       "<IPython.core.display.HTML object>"
      ]
     },
     "metadata": {},
     "output_type": "display_data"
    },
    {
     "name": "stderr",
     "output_type": "stream",
     "text": [
      "wandb: Agent Starting Run: yrt4fksh with config:\n",
      "wandb: \tdropout: 0.2\n",
      "wandb: \tepochs: 4000\n",
      "wandb: \tlearning_rate: 0.004748567238598436\n",
      "wandb: \tn_comp: 300\n",
      "wandb: \tnum_layers: 1\n",
      "wandb: \toptimizer: adam\n",
      "wandb: \tweight_decay: 5e-05\n",
      "Failed to detect the name of this notebook, you can set it manually with the WANDB_NOTEBOOK_NAME environment variable to enable code saving.\n"
     ]
    },
    {
     "data": {
      "text/html": [
       "\n",
       "                Tracking run with wandb version 0.12.0<br/>\n",
       "                Syncing run <strong style=\"color:#cdcd00\">vibrant-sweep-13</strong> to <a href=\"https://wandb.ai\" target=\"_blank\">Weights & Biases</a> <a href=\"https://docs.wandb.com/integrations/jupyter.html\" target=\"_blank\">(Documentation)</a>.<br/>\n",
       "                Project page: <a href=\"https://wandb.ai/sazio/NMAs-Full-Signals\" target=\"_blank\">https://wandb.ai/sazio/NMAs-Full-Signals</a><br/>\n",
       "                Sweep page: <a href=\"https://wandb.ai/sazio/NMAs-Full-Signals/sweeps/cbewt4f6\" target=\"_blank\">https://wandb.ai/sazio/NMAs-Full-Signals/sweeps/cbewt4f6</a><br/>\n",
       "Run page: <a href=\"https://wandb.ai/sazio/NMAs-Full-Signals/runs/yrt4fksh\" target=\"_blank\">https://wandb.ai/sazio/NMAs-Full-Signals/runs/yrt4fksh</a><br/>\n",
       "                Run data is saved locally in <code>/home/sazeglio/NMAs/src/wandb/run-20210815_054732-yrt4fksh</code><br/><br/>\n",
       "            "
      ],
      "text/plain": [
       "<IPython.core.display.HTML object>"
      ]
     },
     "metadata": {},
     "output_type": "display_data"
    },
    {
     "name": "stdout",
     "output_type": "stream",
     "text": [
      " iteration 0, train cost 4.9341, valid cost 4.9830\n",
      " iteration 50, train cost 3.2726, valid cost 3.3573\n",
      " iteration 100, train cost 3.2181, valid cost 3.2824\n",
      " iteration 150, train cost 3.1437, valid cost 3.2015\n",
      " iteration 200, train cost 3.0088, valid cost 3.0717\n",
      " iteration 250, train cost 2.9416, valid cost 3.0122\n",
      " iteration 300, train cost 2.8865, valid cost 2.9657\n",
      " iteration 350, train cost 2.8394, valid cost 2.9303\n",
      " iteration 400, train cost 2.8043, valid cost 2.9009\n",
      " iteration 450, train cost 2.7442, valid cost 2.8619\n",
      " iteration 500, train cost 2.6908, valid cost 2.8193\n",
      " iteration 550, train cost 2.6297, valid cost 2.7747\n",
      " iteration 600, train cost 2.6345, valid cost 2.7683\n",
      " iteration 650, train cost 2.5506, valid cost 2.7126\n",
      " iteration 700, train cost 2.5742, valid cost 2.7255\n",
      " iteration 750, train cost 2.4991, valid cost 2.6750\n",
      " iteration 800, train cost 2.4605, valid cost 2.6523\n",
      " iteration 850, train cost 2.4271, valid cost 2.6301\n",
      " iteration 900, train cost 2.3880, valid cost 2.5997\n",
      " iteration 950, train cost 2.4354, valid cost 2.6167\n",
      " iteration 1000, train cost 2.3651, valid cost 2.5757\n",
      " iteration 1050, train cost 2.3747, valid cost 2.5723\n",
      " iteration 1100, train cost 2.4010, valid cost 2.5884\n",
      " iteration 1150, train cost 2.3212, valid cost 2.5560\n",
      " iteration 1200, train cost 2.2829, valid cost 2.5808\n",
      " iteration 1250, train cost 2.2846, valid cost 2.5166\n",
      " iteration 1300, train cost 2.2847, valid cost 2.5231\n",
      " iteration 1350, train cost 2.2406, valid cost 2.4955\n",
      " iteration 1400, train cost 2.2303, valid cost 2.4883\n",
      " iteration 1450, train cost 2.2116, valid cost 2.4708\n",
      " iteration 1500, train cost 2.1940, valid cost 2.4484\n",
      " iteration 1550, train cost 2.1749, valid cost 2.4505\n",
      " iteration 1600, train cost 2.1704, valid cost 2.4213\n",
      " iteration 1650, train cost 2.1724, valid cost 2.4165\n",
      " iteration 1700, train cost 2.1338, valid cost 2.3926\n",
      " iteration 1750, train cost 2.1207, valid cost 2.3834\n",
      " iteration 1800, train cost 2.1263, valid cost 2.3852\n",
      " iteration 1850, train cost 2.0942, valid cost 2.3543\n",
      " iteration 1900, train cost 2.3039, valid cost 2.4757\n",
      " iteration 1950, train cost 2.1167, valid cost 2.3533\n",
      " iteration 2000, train cost 2.0841, valid cost 2.3360\n",
      " iteration 2050, train cost 2.0761, valid cost 2.3288\n",
      " iteration 2100, train cost 2.0833, valid cost 2.3213\n",
      " iteration 2150, train cost 2.0537, valid cost 2.3021\n",
      " iteration 2200, train cost 2.0361, valid cost 2.2833\n",
      " iteration 2250, train cost 2.0272, valid cost 2.2713\n",
      " iteration 2300, train cost 2.0271, valid cost 2.2723\n",
      " iteration 2350, train cost 2.0138, valid cost 2.2560\n",
      " iteration 2400, train cost 2.0305, valid cost 2.2569\n",
      " iteration 2450, train cost 2.0353, valid cost 2.2685\n",
      " iteration 2500, train cost 2.0025, valid cost 2.2352\n",
      " iteration 2550, train cost 1.9943, valid cost 2.2320\n",
      " iteration 2600, train cost 2.0044, valid cost 2.2277\n",
      " iteration 2650, train cost 1.9780, valid cost 2.2174\n",
      " iteration 2700, train cost 2.0134, valid cost 2.2279\n",
      " iteration 2750, train cost 1.9641, valid cost 2.1965\n",
      " iteration 2800, train cost 1.9783, valid cost 2.1988\n",
      " iteration 2850, train cost 1.9690, valid cost 2.2113\n",
      " iteration 2900, train cost 1.9625, valid cost 2.1944\n",
      " iteration 2950, train cost 1.9607, valid cost 2.1763\n",
      " iteration 3000, train cost 1.9932, valid cost 2.1910\n",
      " iteration 3050, train cost 1.9487, valid cost 2.1718\n",
      " iteration 3100, train cost 1.9421, valid cost 2.1639\n",
      " iteration 3150, train cost 1.9380, valid cost 2.1552\n",
      " iteration 3200, train cost 1.9736, valid cost 2.1703\n",
      " iteration 3250, train cost 1.9365, valid cost 2.1428\n",
      " iteration 3300, train cost 1.9453, valid cost 2.1459\n",
      " iteration 3350, train cost 2.0101, valid cost 2.1823\n",
      " iteration 3400, train cost 1.9112, valid cost 2.1185\n",
      " iteration 3450, train cost 1.9051, valid cost 2.1126\n",
      " iteration 3500, train cost 1.9360, valid cost 2.1228\n",
      " iteration 3550, train cost 1.9135, valid cost 2.1127\n",
      " iteration 3600, train cost 1.8980, valid cost 2.0954\n",
      " iteration 3650, train cost 1.9922, valid cost 2.1568\n",
      " iteration 3700, train cost 1.9194, valid cost 2.1053\n",
      " iteration 3750, train cost 1.9129, valid cost 2.1010\n",
      " iteration 3800, train cost 1.8968, valid cost 2.0847\n",
      " iteration 3850, train cost 1.8975, valid cost 2.0775\n",
      " iteration 3900, train cost 2.0397, valid cost 2.3991\n",
      " iteration 3950, train cost 1.9659, valid cost 2.1230\n"
     ]
    },
    {
     "data": {
      "text/html": [
       "<br/>Waiting for W&B process to finish, PID 195009<br/>Program ended successfully."
      ],
      "text/plain": [
       "<IPython.core.display.HTML object>"
      ]
     },
     "metadata": {},
     "output_type": "display_data"
    },
    {
     "name": "stderr",
     "output_type": "stream",
     "text": [
      "Widget Javascript not detected.  It may not be installed or enabled properly.\n"
     ]
    },
    {
     "data": {
      "application/vnd.jupyter.widget-view+json": {
       "model_id": "3a34e12e157143c7a5fcc2ace4fc54c9"
      }
     },
     "metadata": {},
     "output_type": "display_data"
    },
    {
     "data": {
      "text/html": [
       "Find user logs for this run at: <code>/home/sazeglio/NMAs/src/wandb/run-20210815_054732-yrt4fksh/logs/debug.log</code>"
      ],
      "text/plain": [
       "<IPython.core.display.HTML object>"
      ]
     },
     "metadata": {},
     "output_type": "display_data"
    },
    {
     "data": {
      "text/html": [
       "Find internal logs for this run at: <code>/home/sazeglio/NMAs/src/wandb/run-20210815_054732-yrt4fksh/logs/debug-internal.log</code>"
      ],
      "text/plain": [
       "<IPython.core.display.HTML object>"
      ]
     },
     "metadata": {},
     "output_type": "display_data"
    },
    {
     "data": {
      "text/html": [
       "<h3>Run summary:</h3><br/><style>\n",
       "    table.wandb td:nth-child(1) { padding: 0 10px; text-align: right }\n",
       "    </style><table class=\"wandb\">\n",
       "<tr><td>train_loss</td><td>1.9064</td></tr><tr><td>valid_loss</td><td>2.08598</td></tr><tr><td>epoch</td><td>3999</td></tr><tr><td>_runtime</td><td>1240</td></tr><tr><td>_timestamp</td><td>1629000492</td></tr><tr><td>_step</td><td>3999</td></tr></table>"
      ],
      "text/plain": [
       "<IPython.core.display.HTML object>"
      ]
     },
     "metadata": {},
     "output_type": "display_data"
    },
    {
     "data": {
      "text/html": [
       "<h3>Run history:</h3><br/><style>\n",
       "    table.wandb td:nth-child(1) { padding: 0 10px; text-align: right }\n",
       "    </style><table class=\"wandb\">\n",
       "<tr><td>train_loss</td><td>█▇▆▆▅▅▄▄▄▄▃▃▃▃▃▂▂▂▂▂▂▂▂▂▂▁▁▁▁▁▁▁▁▁▁▁▁▁▂▁</td></tr><tr><td>valid_loss</td><td>█▇▆▆▅▅▄▄▄▄▄▃▃▃▃▃▃▃▂▂▂▂▂▂▂▂▂▂▁▁▁▁▁▁▁▁▁▁▁▁</td></tr><tr><td>epoch</td><td>▁▁▁▂▂▂▂▂▂▃▃▃▃▃▄▄▄▄▄▄▅▅▅▅▅▅▆▆▆▆▆▇▇▇▇▇▇███</td></tr><tr><td>_runtime</td><td>▁▁▁▂▂▂▂▂▂▃▃▃▃▃▄▄▄▄▄▄▅▅▅▅▅▅▆▆▆▆▆▇▇▇▇▇▇███</td></tr><tr><td>_timestamp</td><td>▁▁▁▂▂▂▂▂▂▃▃▃▃▃▄▄▄▄▄▄▅▅▅▅▅▅▆▆▆▆▆▇▇▇▇▇▇███</td></tr><tr><td>_step</td><td>▁▁▁▂▂▂▂▂▂▃▃▃▃▃▄▄▄▄▄▄▅▅▅▅▅▅▆▆▆▆▆▇▇▇▇▇▇███</td></tr></table><br/>"
      ],
      "text/plain": [
       "<IPython.core.display.HTML object>"
      ]
     },
     "metadata": {},
     "output_type": "display_data"
    },
    {
     "data": {
      "text/html": [
       "Synced 5 W&B file(s), 0 media file(s), 0 artifact file(s) and 0 other file(s)"
      ],
      "text/plain": [
       "<IPython.core.display.HTML object>"
      ]
     },
     "metadata": {},
     "output_type": "display_data"
    },
    {
     "data": {
      "text/html": [
       "\n",
       "                    <br/>Synced <strong style=\"color:#cdcd00\">vibrant-sweep-13</strong>: <a href=\"https://wandb.ai/sazio/NMAs-Full-Signals/runs/yrt4fksh\" target=\"_blank\">https://wandb.ai/sazio/NMAs-Full-Signals/runs/yrt4fksh</a><br/>\n",
       "                "
      ],
      "text/plain": [
       "<IPython.core.display.HTML object>"
      ]
     },
     "metadata": {},
     "output_type": "display_data"
    },
    {
     "name": "stderr",
     "output_type": "stream",
     "text": [
      "wandb: Agent Starting Run: w2p5b5pn with config:\n",
      "wandb: \tdropout: 0.1\n",
      "wandb: \tepochs: 4000\n",
      "wandb: \tlearning_rate: 0.00013162890250026257\n",
      "wandb: \tn_comp: 200\n",
      "wandb: \tnum_layers: 1\n",
      "wandb: \toptimizer: adam\n",
      "wandb: \tweight_decay: 5e-05\n",
      "Failed to detect the name of this notebook, you can set it manually with the WANDB_NOTEBOOK_NAME environment variable to enable code saving.\n"
     ]
    },
    {
     "data": {
      "text/html": [
       "\n",
       "                Tracking run with wandb version 0.12.0<br/>\n",
       "                Syncing run <strong style=\"color:#cdcd00\">balmy-sweep-14</strong> to <a href=\"https://wandb.ai\" target=\"_blank\">Weights & Biases</a> <a href=\"https://docs.wandb.com/integrations/jupyter.html\" target=\"_blank\">(Documentation)</a>.<br/>\n",
       "                Project page: <a href=\"https://wandb.ai/sazio/NMAs-Full-Signals\" target=\"_blank\">https://wandb.ai/sazio/NMAs-Full-Signals</a><br/>\n",
       "                Sweep page: <a href=\"https://wandb.ai/sazio/NMAs-Full-Signals/sweeps/cbewt4f6\" target=\"_blank\">https://wandb.ai/sazio/NMAs-Full-Signals/sweeps/cbewt4f6</a><br/>\n",
       "Run page: <a href=\"https://wandb.ai/sazio/NMAs-Full-Signals/runs/w2p5b5pn\" target=\"_blank\">https://wandb.ai/sazio/NMAs-Full-Signals/runs/w2p5b5pn</a><br/>\n",
       "                Run data is saved locally in <code>/home/sazeglio/NMAs/src/wandb/run-20210815_060816-w2p5b5pn</code><br/><br/>\n",
       "            "
      ],
      "text/plain": [
       "<IPython.core.display.HTML object>"
      ]
     },
     "metadata": {},
     "output_type": "display_data"
    },
    {
     "name": "stdout",
     "output_type": "stream",
     "text": [
      " iteration 0, train cost 4.9283, valid cost 5.0301\n",
      " iteration 50, train cost 4.0825, valid cost 4.1357\n",
      " iteration 100, train cost 3.3839, valid cost 3.4459\n",
      " iteration 150, train cost 3.3011, valid cost 3.3682\n",
      " iteration 200, train cost 3.2889, valid cost 3.3607\n",
      " iteration 250, train cost 3.2830, valid cost 3.3583\n",
      " iteration 300, train cost 3.2786, valid cost 3.3564\n",
      " iteration 350, train cost 3.2739, valid cost 3.3536\n",
      " iteration 400, train cost 3.2674, valid cost 3.3475\n",
      " iteration 450, train cost 3.2528, valid cost 3.3329\n",
      " iteration 500, train cost 3.2207, valid cost 3.2986\n",
      " iteration 550, train cost 3.1654, valid cost 3.2398\n",
      " iteration 600, train cost 3.1046, valid cost 3.1752\n",
      " iteration 650, train cost 3.0526, valid cost 3.1166\n",
      " iteration 700, train cost 3.0094, valid cost 3.0695\n",
      " iteration 750, train cost 2.9739, valid cost 3.0314\n",
      " iteration 800, train cost 2.9448, valid cost 3.0023\n",
      " iteration 850, train cost 2.9193, valid cost 2.9782\n",
      " iteration 900, train cost 2.8928, valid cost 2.9547\n",
      " iteration 950, train cost 2.8657, valid cost 2.9304\n",
      " iteration 1000, train cost 2.8369, valid cost 2.9056\n",
      " iteration 1050, train cost 2.8073, valid cost 2.8794\n",
      " iteration 1100, train cost 2.7772, valid cost 2.8509\n",
      " iteration 1150, train cost 2.7453, valid cost 2.8209\n",
      " iteration 1200, train cost 2.7164, valid cost 2.7922\n",
      " iteration 1250, train cost 2.6893, valid cost 2.7663\n",
      " iteration 1300, train cost 2.6634, valid cost 2.7431\n",
      " iteration 1350, train cost 2.6418, valid cost 2.7213\n",
      " iteration 1400, train cost 2.6213, valid cost 2.7018\n",
      " iteration 1450, train cost 2.6023, valid cost 2.6834\n",
      " iteration 1500, train cost 2.5843, valid cost 2.6656\n",
      " iteration 1550, train cost 2.5645, valid cost 2.6471\n",
      " iteration 1600, train cost 2.5459, valid cost 2.6282\n",
      " iteration 1650, train cost 2.5264, valid cost 2.6100\n",
      " iteration 1700, train cost 2.5097, valid cost 2.5922\n",
      " iteration 1750, train cost 2.4924, valid cost 2.5749\n",
      " iteration 1800, train cost 2.4763, valid cost 2.5576\n",
      " iteration 1850, train cost 2.4576, valid cost 2.5402\n",
      " iteration 1900, train cost 2.4440, valid cost 2.5232\n",
      " iteration 1950, train cost 2.4280, valid cost 2.5074\n",
      " iteration 2000, train cost 2.4117, valid cost 2.4919\n",
      " iteration 2050, train cost 2.3971, valid cost 2.4768\n",
      " iteration 2100, train cost 2.3831, valid cost 2.4628\n",
      " iteration 2150, train cost 2.3719, valid cost 2.4503\n",
      " iteration 2200, train cost 2.3596, valid cost 2.4398\n",
      " iteration 2250, train cost 2.3499, valid cost 2.4299\n",
      " iteration 2300, train cost 2.3398, valid cost 2.4215\n",
      " iteration 2350, train cost 2.3309, valid cost 2.4142\n",
      " iteration 2400, train cost 2.3231, valid cost 2.4066\n",
      " iteration 2450, train cost 2.3158, valid cost 2.3997\n",
      " iteration 2500, train cost 2.3085, valid cost 2.3932\n",
      " iteration 2550, train cost 2.3011, valid cost 2.3867\n",
      " iteration 2600, train cost 2.2942, valid cost 2.3798\n",
      " iteration 2650, train cost 2.2865, valid cost 2.3736\n",
      " iteration 2700, train cost 2.2805, valid cost 2.3676\n",
      " iteration 2750, train cost 2.2714, valid cost 2.3618\n",
      " iteration 2800, train cost 2.2668, valid cost 2.3559\n",
      " iteration 2850, train cost 2.2612, valid cost 2.3504\n",
      " iteration 2900, train cost 2.2540, valid cost 2.3448\n",
      " iteration 2950, train cost 2.2486, valid cost 2.3398\n",
      " iteration 3000, train cost 2.2438, valid cost 2.3345\n",
      " iteration 3050, train cost 2.2374, valid cost 2.3293\n",
      " iteration 3100, train cost 2.2333, valid cost 2.3245\n",
      " iteration 3150, train cost 2.2277, valid cost 2.3196\n",
      " iteration 3200, train cost 2.2245, valid cost 2.3145\n",
      " iteration 3250, train cost 2.2166, valid cost 2.3090\n",
      " iteration 3300, train cost 2.2105, valid cost 2.3037\n",
      " iteration 3350, train cost 2.2061, valid cost 2.2976\n",
      " iteration 3400, train cost 2.1995, valid cost 2.2918\n",
      " iteration 3450, train cost 2.1941, valid cost 2.2867\n",
      " iteration 3500, train cost 2.1909, valid cost 2.2813\n",
      " iteration 3550, train cost 2.1849, valid cost 2.2763\n",
      " iteration 3600, train cost 2.1782, valid cost 2.2716\n",
      " iteration 3650, train cost 2.1744, valid cost 2.2665\n",
      " iteration 3700, train cost 2.1701, valid cost 2.2614\n",
      " iteration 3750, train cost 2.1661, valid cost 2.2562\n",
      " iteration 3800, train cost 2.1598, valid cost 2.2515\n",
      " iteration 3850, train cost 2.1545, valid cost 2.2468\n",
      " iteration 3900, train cost 2.1493, valid cost 2.2422\n",
      " iteration 3950, train cost 2.1444, valid cost 2.2373\n"
     ]
    },
    {
     "data": {
      "text/html": [
       "<br/>Waiting for W&B process to finish, PID 195275<br/>Program ended successfully."
      ],
      "text/plain": [
       "<IPython.core.display.HTML object>"
      ]
     },
     "metadata": {},
     "output_type": "display_data"
    },
    {
     "name": "stderr",
     "output_type": "stream",
     "text": [
      "Widget Javascript not detected.  It may not be installed or enabled properly.\n"
     ]
    },
    {
     "data": {
      "application/vnd.jupyter.widget-view+json": {
       "model_id": "5b98ac5e5db1411c9ca15b506820628e"
      }
     },
     "metadata": {},
     "output_type": "display_data"
    },
    {
     "data": {
      "text/html": [
       "Find user logs for this run at: <code>/home/sazeglio/NMAs/src/wandb/run-20210815_060816-w2p5b5pn/logs/debug.log</code>"
      ],
      "text/plain": [
       "<IPython.core.display.HTML object>"
      ]
     },
     "metadata": {},
     "output_type": "display_data"
    },
    {
     "data": {
      "text/html": [
       "Find internal logs for this run at: <code>/home/sazeglio/NMAs/src/wandb/run-20210815_060816-w2p5b5pn/logs/debug-internal.log</code>"
      ],
      "text/plain": [
       "<IPython.core.display.HTML object>"
      ]
     },
     "metadata": {},
     "output_type": "display_data"
    },
    {
     "data": {
      "text/html": [
       "<h3>Run summary:</h3><br/><style>\n",
       "    table.wandb td:nth-child(1) { padding: 0 10px; text-align: right }\n",
       "    </style><table class=\"wandb\">\n",
       "<tr><td>train_loss</td><td>2.13904</td></tr><tr><td>valid_loss</td><td>2.23269</td></tr><tr><td>epoch</td><td>3999</td></tr><tr><td>_runtime</td><td>1238</td></tr><tr><td>_timestamp</td><td>1629001735</td></tr><tr><td>_step</td><td>3999</td></tr></table>"
      ],
      "text/plain": [
       "<IPython.core.display.HTML object>"
      ]
     },
     "metadata": {},
     "output_type": "display_data"
    },
    {
     "data": {
      "text/html": [
       "<h3>Run history:</h3><br/><style>\n",
       "    table.wandb td:nth-child(1) { padding: 0 10px; text-align: right }\n",
       "    </style><table class=\"wandb\">\n",
       "<tr><td>train_loss</td><td>█▄▄▄▄▄▄▃▃▃▃▃▃▂▂▂▂▂▂▂▂▂▂▂▁▁▁▁▁▁▁▁▁▁▁▁▁▁▁▁</td></tr><tr><td>valid_loss</td><td>█▄▄▄▄▄▃▃▃▃▃▃▂▂▂▂▂▂▂▂▂▂▂▁▁▁▁▁▁▁▁▁▁▁▁▁▁▁▁▁</td></tr><tr><td>epoch</td><td>▁▁▁▂▂▂▂▂▂▃▃▃▃▃▄▄▄▄▄▄▅▅▅▅▅▅▆▆▆▆▆▇▇▇▇▇▇███</td></tr><tr><td>_runtime</td><td>▁▁▁▂▂▂▂▂▂▃▃▃▃▃▄▄▄▄▄▄▅▅▅▅▅▅▆▆▆▆▆▇▇▇▇▇▇███</td></tr><tr><td>_timestamp</td><td>▁▁▁▂▂▂▂▂▂▃▃▃▃▃▄▄▄▄▄▄▅▅▅▅▅▅▆▆▆▆▆▇▇▇▇▇▇███</td></tr><tr><td>_step</td><td>▁▁▁▂▂▂▂▂▂▃▃▃▃▃▄▄▄▄▄▄▅▅▅▅▅▅▆▆▆▆▆▇▇▇▇▇▇███</td></tr></table><br/>"
      ],
      "text/plain": [
       "<IPython.core.display.HTML object>"
      ]
     },
     "metadata": {},
     "output_type": "display_data"
    },
    {
     "data": {
      "text/html": [
       "Synced 5 W&B file(s), 0 media file(s), 0 artifact file(s) and 0 other file(s)"
      ],
      "text/plain": [
       "<IPython.core.display.HTML object>"
      ]
     },
     "metadata": {},
     "output_type": "display_data"
    },
    {
     "data": {
      "text/html": [
       "\n",
       "                    <br/>Synced <strong style=\"color:#cdcd00\">balmy-sweep-14</strong>: <a href=\"https://wandb.ai/sazio/NMAs-Full-Signals/runs/w2p5b5pn\" target=\"_blank\">https://wandb.ai/sazio/NMAs-Full-Signals/runs/w2p5b5pn</a><br/>\n",
       "                "
      ],
      "text/plain": [
       "<IPython.core.display.HTML object>"
      ]
     },
     "metadata": {},
     "output_type": "display_data"
    },
    {
     "name": "stderr",
     "output_type": "stream",
     "text": [
      "wandb: Agent Starting Run: 25fkhh96 with config:\n",
      "wandb: \tdropout: 0.2\n",
      "wandb: \tepochs: 4000\n",
      "wandb: \tlearning_rate: 0.0001447441918317269\n",
      "wandb: \tn_comp: 200\n",
      "wandb: \tnum_layers: 1\n",
      "wandb: \toptimizer: adam\n",
      "wandb: \tweight_decay: 1e-06\n",
      "Failed to detect the name of this notebook, you can set it manually with the WANDB_NOTEBOOK_NAME environment variable to enable code saving.\n"
     ]
    },
    {
     "data": {
      "text/html": [
       "\n",
       "                Tracking run with wandb version 0.12.0<br/>\n",
       "                Syncing run <strong style=\"color:#cdcd00\">northern-sweep-15</strong> to <a href=\"https://wandb.ai\" target=\"_blank\">Weights & Biases</a> <a href=\"https://docs.wandb.com/integrations/jupyter.html\" target=\"_blank\">(Documentation)</a>.<br/>\n",
       "                Project page: <a href=\"https://wandb.ai/sazio/NMAs-Full-Signals\" target=\"_blank\">https://wandb.ai/sazio/NMAs-Full-Signals</a><br/>\n",
       "                Sweep page: <a href=\"https://wandb.ai/sazio/NMAs-Full-Signals/sweeps/cbewt4f6\" target=\"_blank\">https://wandb.ai/sazio/NMAs-Full-Signals/sweeps/cbewt4f6</a><br/>\n",
       "Run page: <a href=\"https://wandb.ai/sazio/NMAs-Full-Signals/runs/25fkhh96\" target=\"_blank\">https://wandb.ai/sazio/NMAs-Full-Signals/runs/25fkhh96</a><br/>\n",
       "                Run data is saved locally in <code>/home/sazeglio/NMAs/src/wandb/run-20210815_062859-25fkhh96</code><br/><br/>\n",
       "            "
      ],
      "text/plain": [
       "<IPython.core.display.HTML object>"
      ]
     },
     "metadata": {},
     "output_type": "display_data"
    },
    {
     "name": "stdout",
     "output_type": "stream",
     "text": [
      " iteration 0, train cost 4.9302, valid cost 5.0316\n",
      " iteration 50, train cost 3.9813, valid cost 4.0252\n",
      " iteration 100, train cost 3.3611, valid cost 3.4273\n",
      " iteration 150, train cost 3.2962, valid cost 3.3674\n",
      " iteration 200, train cost 3.2871, valid cost 3.3618\n",
      " iteration 250, train cost 3.2832, valid cost 3.3600\n",
      " iteration 300, train cost 3.2803, valid cost 3.3584\n",
      " iteration 350, train cost 3.2772, valid cost 3.3568\n",
      " iteration 400, train cost 3.2740, valid cost 3.3546\n",
      " iteration 450, train cost 3.2691, valid cost 3.3495\n",
      " iteration 500, train cost 3.2574, valid cost 3.3350\n",
      " iteration 550, train cost 3.2319, valid cost 3.3037\n",
      " iteration 600, train cost 3.1982, valid cost 3.2628\n",
      " iteration 650, train cost 3.1547, valid cost 3.2141\n",
      " iteration 700, train cost 3.0981, valid cost 3.1533\n",
      " iteration 750, train cost 3.0537, valid cost 3.1073\n",
      " iteration 800, train cost 3.0161, valid cost 3.0692\n",
      " iteration 850, train cost 2.9853, valid cost 3.0376\n",
      " iteration 900, train cost 2.9607, valid cost 3.0158\n",
      " iteration 950, train cost 2.9408, valid cost 2.9991\n",
      " iteration 1000, train cost 2.9208, valid cost 2.9834\n",
      " iteration 1050, train cost 2.8994, valid cost 2.9668\n",
      " iteration 1100, train cost 2.8762, valid cost 2.9486\n",
      " iteration 1150, train cost 2.8528, valid cost 2.9295\n",
      " iteration 1200, train cost 2.8299, valid cost 2.9096\n",
      " iteration 1250, train cost 2.8057, valid cost 2.8879\n",
      " iteration 1300, train cost 2.7805, valid cost 2.8645\n",
      " iteration 1350, train cost 2.7547, valid cost 2.8397\n",
      " iteration 1400, train cost 2.7282, valid cost 2.8143\n",
      " iteration 1450, train cost 2.7033, valid cost 2.7893\n",
      " iteration 1500, train cost 2.6791, valid cost 2.7663\n",
      " iteration 1550, train cost 2.6588, valid cost 2.7463\n",
      " iteration 1600, train cost 2.6401, valid cost 2.7265\n",
      " iteration 1650, train cost 2.6186, valid cost 2.7070\n",
      " iteration 1700, train cost 2.5979, valid cost 2.6868\n",
      " iteration 1750, train cost 2.5784, valid cost 2.6679\n",
      " iteration 1800, train cost 2.5601, valid cost 2.6511\n",
      " iteration 1850, train cost 2.5434, valid cost 2.6357\n",
      " iteration 1900, train cost 2.5266, valid cost 2.6217\n",
      " iteration 1950, train cost 2.5130, valid cost 2.6095\n",
      " iteration 2000, train cost 2.4992, valid cost 2.5979\n",
      " iteration 2050, train cost 2.4866, valid cost 2.5870\n",
      " iteration 2100, train cost 2.4736, valid cost 2.5757\n",
      " iteration 2150, train cost 2.4613, valid cost 2.5641\n",
      " iteration 2200, train cost 2.4484, valid cost 2.5516\n",
      " iteration 2250, train cost 2.4352, valid cost 2.5394\n",
      " iteration 2300, train cost 2.4232, valid cost 2.5282\n",
      " iteration 2350, train cost 2.4117, valid cost 2.5182\n",
      " iteration 2400, train cost 2.4004, valid cost 2.5088\n",
      " iteration 2450, train cost 2.3902, valid cost 2.4997\n",
      " iteration 2500, train cost 2.3811, valid cost 2.4906\n",
      " iteration 2550, train cost 2.3707, valid cost 2.4824\n",
      " iteration 2600, train cost 2.3618, valid cost 2.4740\n",
      " iteration 2650, train cost 2.3526, valid cost 2.4653\n",
      " iteration 2700, train cost 2.3418, valid cost 2.4567\n",
      " iteration 2750, train cost 2.3319, valid cost 2.4476\n",
      " iteration 2800, train cost 2.3223, valid cost 2.4388\n",
      " iteration 2850, train cost 2.3145, valid cost 2.4296\n",
      " iteration 2900, train cost 2.3058, valid cost 2.4215\n",
      " iteration 2950, train cost 2.2957, valid cost 2.4140\n",
      " iteration 3000, train cost 2.2884, valid cost 2.4073\n",
      " iteration 3050, train cost 2.2803, valid cost 2.4021\n",
      " iteration 3100, train cost 2.2740, valid cost 2.3965\n",
      " iteration 3150, train cost 2.2675, valid cost 2.3913\n",
      " iteration 3200, train cost 2.2618, valid cost 2.3861\n",
      " iteration 3250, train cost 2.2536, valid cost 2.3811\n",
      " iteration 3300, train cost 2.2477, valid cost 2.3759\n",
      " iteration 3350, train cost 2.2408, valid cost 2.3702\n",
      " iteration 3400, train cost 2.2345, valid cost 2.3646\n",
      " iteration 3450, train cost 2.2278, valid cost 2.3589\n",
      " iteration 3500, train cost 2.2221, valid cost 2.3528\n",
      " iteration 3550, train cost 2.2154, valid cost 2.3469\n",
      " iteration 3600, train cost 2.2074, valid cost 2.3406\n",
      " iteration 3650, train cost 2.2021, valid cost 2.3358\n",
      " iteration 3700, train cost 2.1957, valid cost 2.3303\n",
      " iteration 3750, train cost 2.1899, valid cost 2.3252\n",
      " iteration 3800, train cost 2.1840, valid cost 2.3202\n",
      " iteration 3850, train cost 2.1789, valid cost 2.3155\n",
      " iteration 3900, train cost 2.1737, valid cost 2.3112\n",
      " iteration 3950, train cost 2.1663, valid cost 2.3071\n"
     ]
    },
    {
     "data": {
      "text/html": [
       "<br/>Waiting for W&B process to finish, PID 195634<br/>Program ended successfully."
      ],
      "text/plain": [
       "<IPython.core.display.HTML object>"
      ]
     },
     "metadata": {},
     "output_type": "display_data"
    },
    {
     "name": "stderr",
     "output_type": "stream",
     "text": [
      "Widget Javascript not detected.  It may not be installed or enabled properly.\n"
     ]
    },
    {
     "data": {
      "application/vnd.jupyter.widget-view+json": {
       "model_id": "1fcb79670e6b4170ae4a4df3b51a3606"
      }
     },
     "metadata": {},
     "output_type": "display_data"
    },
    {
     "data": {
      "text/html": [
       "Find user logs for this run at: <code>/home/sazeglio/NMAs/src/wandb/run-20210815_062859-25fkhh96/logs/debug.log</code>"
      ],
      "text/plain": [
       "<IPython.core.display.HTML object>"
      ]
     },
     "metadata": {},
     "output_type": "display_data"
    },
    {
     "data": {
      "text/html": [
       "Find internal logs for this run at: <code>/home/sazeglio/NMAs/src/wandb/run-20210815_062859-25fkhh96/logs/debug-internal.log</code>"
      ],
      "text/plain": [
       "<IPython.core.display.HTML object>"
      ]
     },
     "metadata": {},
     "output_type": "display_data"
    },
    {
     "data": {
      "text/html": [
       "<h3>Run summary:</h3><br/><style>\n",
       "    table.wandb td:nth-child(1) { padding: 0 10px; text-align: right }\n",
       "    </style><table class=\"wandb\">\n",
       "<tr><td>train_loss</td><td>2.16185</td></tr><tr><td>valid_loss</td><td>2.30324</td></tr><tr><td>epoch</td><td>3999</td></tr><tr><td>_runtime</td><td>1239</td></tr><tr><td>_timestamp</td><td>1629002979</td></tr><tr><td>_step</td><td>3999</td></tr></table>"
      ],
      "text/plain": [
       "<IPython.core.display.HTML object>"
      ]
     },
     "metadata": {},
     "output_type": "display_data"
    },
    {
     "data": {
      "text/html": [
       "<h3>Run history:</h3><br/><style>\n",
       "    table.wandb td:nth-child(1) { padding: 0 10px; text-align: right }\n",
       "    </style><table class=\"wandb\">\n",
       "<tr><td>train_loss</td><td>█▄▄▄▄▄▄▄▃▃▃▃▃▃▃▂▂▂▂▂▂▂▂▂▂▂▂▁▁▁▁▁▁▁▁▁▁▁▁▁</td></tr><tr><td>valid_loss</td><td>█▄▄▄▄▄▄▃▃▃▃▃▃▃▂▂▂▂▂▂▂▂▂▂▂▂▁▁▁▁▁▁▁▁▁▁▁▁▁▁</td></tr><tr><td>epoch</td><td>▁▁▁▂▂▂▂▂▂▃▃▃▃▃▄▄▄▄▄▄▅▅▅▅▅▅▆▆▆▆▆▇▇▇▇▇▇███</td></tr><tr><td>_runtime</td><td>▁▁▁▂▂▂▂▂▂▃▃▃▃▃▄▄▄▄▄▄▅▅▅▅▅▅▆▆▆▆▆▇▇▇▇▇▇███</td></tr><tr><td>_timestamp</td><td>▁▁▁▂▂▂▂▂▂▃▃▃▃▃▄▄▄▄▄▄▅▅▅▅▅▅▆▆▆▆▆▇▇▇▇▇▇███</td></tr><tr><td>_step</td><td>▁▁▁▂▂▂▂▂▂▃▃▃▃▃▄▄▄▄▄▄▅▅▅▅▅▅▆▆▆▆▆▇▇▇▇▇▇███</td></tr></table><br/>"
      ],
      "text/plain": [
       "<IPython.core.display.HTML object>"
      ]
     },
     "metadata": {},
     "output_type": "display_data"
    },
    {
     "data": {
      "text/html": [
       "Synced 5 W&B file(s), 0 media file(s), 0 artifact file(s) and 0 other file(s)"
      ],
      "text/plain": [
       "<IPython.core.display.HTML object>"
      ]
     },
     "metadata": {},
     "output_type": "display_data"
    },
    {
     "data": {
      "text/html": [
       "\n",
       "                    <br/>Synced <strong style=\"color:#cdcd00\">northern-sweep-15</strong>: <a href=\"https://wandb.ai/sazio/NMAs-Full-Signals/runs/25fkhh96\" target=\"_blank\">https://wandb.ai/sazio/NMAs-Full-Signals/runs/25fkhh96</a><br/>\n",
       "                "
      ],
      "text/plain": [
       "<IPython.core.display.HTML object>"
      ]
     },
     "metadata": {},
     "output_type": "display_data"
    },
    {
     "name": "stderr",
     "output_type": "stream",
     "text": [
      "wandb: Agent Starting Run: 8m1r06l1 with config:\n",
      "wandb: \tdropout: 0.5\n",
      "wandb: \tepochs: 4000\n",
      "wandb: \tlearning_rate: 0.0024829470859160786\n",
      "wandb: \tn_comp: 100\n",
      "wandb: \tnum_layers: 1\n",
      "wandb: \toptimizer: adam\n",
      "wandb: \tweight_decay: 1e-05\n",
      "Failed to detect the name of this notebook, you can set it manually with the WANDB_NOTEBOOK_NAME environment variable to enable code saving.\n"
     ]
    },
    {
     "data": {
      "text/html": [
       "\n",
       "                Tracking run with wandb version 0.12.0<br/>\n",
       "                Syncing run <strong style=\"color:#cdcd00\">glamorous-sweep-16</strong> to <a href=\"https://wandb.ai\" target=\"_blank\">Weights & Biases</a> <a href=\"https://docs.wandb.com/integrations/jupyter.html\" target=\"_blank\">(Documentation)</a>.<br/>\n",
       "                Project page: <a href=\"https://wandb.ai/sazio/NMAs-Full-Signals\" target=\"_blank\">https://wandb.ai/sazio/NMAs-Full-Signals</a><br/>\n",
       "                Sweep page: <a href=\"https://wandb.ai/sazio/NMAs-Full-Signals/sweeps/cbewt4f6\" target=\"_blank\">https://wandb.ai/sazio/NMAs-Full-Signals/sweeps/cbewt4f6</a><br/>\n",
       "Run page: <a href=\"https://wandb.ai/sazio/NMAs-Full-Signals/runs/8m1r06l1\" target=\"_blank\">https://wandb.ai/sazio/NMAs-Full-Signals/runs/8m1r06l1</a><br/>\n",
       "                Run data is saved locally in <code>/home/sazeglio/NMAs/src/wandb/run-20210815_064943-8m1r06l1</code><br/><br/>\n",
       "            "
      ],
      "text/plain": [
       "<IPython.core.display.HTML object>"
      ]
     },
     "metadata": {},
     "output_type": "display_data"
    },
    {
     "name": "stdout",
     "output_type": "stream",
     "text": [
      " iteration 0, train cost 4.9345, valid cost 5.0062\n",
      " iteration 50, train cost 3.2754, valid cost 3.3612\n",
      " iteration 100, train cost 3.2332, valid cost 3.3121\n",
      " iteration 150, train cost 3.0512, valid cost 3.1197\n",
      " iteration 200, train cost 2.9579, valid cost 3.0318\n",
      " iteration 250, train cost 2.8873, valid cost 2.9619\n",
      " iteration 300, train cost 2.8148, valid cost 2.8944\n",
      " iteration 350, train cost 2.7433, valid cost 2.8437\n",
      " iteration 400, train cost 2.6678, valid cost 2.7628\n",
      " iteration 450, train cost 2.6021, valid cost 2.7031\n",
      " iteration 500, train cost 2.5470, valid cost 2.6554\n",
      " iteration 550, train cost 2.4982, valid cost 2.6302\n",
      " iteration 600, train cost 2.4417, valid cost 2.5755\n",
      " iteration 650, train cost 2.3971, valid cost 2.5478\n",
      " iteration 700, train cost 2.3574, valid cost 2.5136\n",
      " iteration 750, train cost 2.3895, valid cost 2.5440\n",
      " iteration 800, train cost 2.2907, valid cost 2.4595\n",
      " iteration 850, train cost 2.2524, valid cost 2.4626\n",
      " iteration 900, train cost 2.2266, valid cost 2.4172\n",
      " iteration 950, train cost 2.1994, valid cost 2.3969\n",
      " iteration 1000, train cost 2.1696, valid cost 2.3756\n",
      " iteration 1050, train cost 2.1579, valid cost 2.4058\n",
      " iteration 1100, train cost 2.1228, valid cost 2.3378\n",
      " iteration 1150, train cost 2.1324, valid cost 2.3388\n",
      " iteration 1200, train cost 2.0920, valid cost 2.3114\n",
      " iteration 1250, train cost 2.0754, valid cost 2.3010\n",
      " iteration 1300, train cost 2.0656, valid cost 2.2900\n",
      " iteration 1350, train cost 2.0510, valid cost 2.2797\n",
      " iteration 1400, train cost 2.0345, valid cost 2.2701\n",
      " iteration 1450, train cost 2.0244, valid cost 2.2614\n",
      " iteration 1500, train cost 2.0216, valid cost 2.2497\n",
      " iteration 1550, train cost 2.0135, valid cost 2.2758\n",
      " iteration 1600, train cost 1.9905, valid cost 2.2313\n",
      " iteration 1650, train cost 1.9769, valid cost 2.2178\n",
      " iteration 1700, train cost 1.9982, valid cost 2.2356\n",
      " iteration 1750, train cost 1.9815, valid cost 2.2139\n",
      " iteration 1800, train cost 1.9613, valid cost 2.2098\n",
      " iteration 1850, train cost 1.9509, valid cost 2.1996\n",
      " iteration 1900, train cost 1.9360, valid cost 2.1874\n",
      " iteration 1950, train cost 1.9228, valid cost 2.1786\n",
      " iteration 2000, train cost 1.9159, valid cost 2.1741\n",
      " iteration 2050, train cost 1.9276, valid cost 2.1694\n",
      " iteration 2100, train cost 1.9042, valid cost 2.1594\n",
      " iteration 2150, train cost 1.8935, valid cost 2.1549\n",
      " iteration 2200, train cost 1.8854, valid cost 2.1469\n",
      " iteration 2250, train cost 1.8971, valid cost 2.1474\n",
      " iteration 2300, train cost 1.8725, valid cost 2.1359\n",
      " iteration 2350, train cost 1.8640, valid cost 2.1303\n",
      " iteration 2400, train cost 1.8982, valid cost 2.1434\n",
      " iteration 2450, train cost 1.8670, valid cost 2.1280\n",
      " iteration 2500, train cost 1.9232, valid cost 2.1600\n",
      " iteration 2550, train cost 1.8523, valid cost 2.1140\n",
      " iteration 2600, train cost 1.8456, valid cost 2.1144\n",
      " iteration 2650, train cost 1.8435, valid cost 2.1097\n",
      " iteration 2700, train cost 1.8813, valid cost 2.1201\n",
      " iteration 2750, train cost 1.8352, valid cost 2.1211\n",
      " iteration 2800, train cost 1.8239, valid cost 2.0943\n",
      " iteration 2850, train cost 1.8226, valid cost 2.0918\n",
      " iteration 2900, train cost 1.8187, valid cost 2.0913\n",
      " iteration 2950, train cost 1.8296, valid cost 2.0926\n",
      " iteration 3000, train cost 1.8088, valid cost 2.0797\n",
      " iteration 3050, train cost 1.8021, valid cost 2.0758\n",
      " iteration 3100, train cost 1.8035, valid cost 2.0714\n",
      " iteration 3150, train cost 1.7980, valid cost 2.0663\n",
      " iteration 3200, train cost 1.8036, valid cost 2.0677\n",
      " iteration 3250, train cost 1.8067, valid cost 2.0626\n",
      " iteration 3300, train cost 1.7825, valid cost 2.0522\n",
      " iteration 3350, train cost 1.7893, valid cost 2.0571\n",
      " iteration 3400, train cost 1.7779, valid cost 2.0460\n",
      " iteration 3450, train cost 1.7976, valid cost 2.0529\n",
      " iteration 3500, train cost 1.7790, valid cost 2.0481\n",
      " iteration 3550, train cost 1.7741, valid cost 2.0427\n",
      " iteration 3600, train cost 1.7638, valid cost 2.0325\n",
      " iteration 3650, train cost 1.7642, valid cost 2.0288\n",
      " iteration 3700, train cost 1.8241, valid cost 2.0702\n",
      " iteration 3750, train cost 1.7653, valid cost 2.0305\n",
      " iteration 3800, train cost 1.7825, valid cost 2.0348\n",
      " iteration 3850, train cost 1.7580, valid cost 2.0206\n",
      " iteration 3900, train cost 1.7556, valid cost 2.0227\n",
      " iteration 3950, train cost 1.7509, valid cost 2.0123\n"
     ]
    },
    {
     "data": {
      "text/html": [
       "<br/>Waiting for W&B process to finish, PID 195893<br/>Program ended successfully."
      ],
      "text/plain": [
       "<IPython.core.display.HTML object>"
      ]
     },
     "metadata": {},
     "output_type": "display_data"
    },
    {
     "name": "stderr",
     "output_type": "stream",
     "text": [
      "Widget Javascript not detected.  It may not be installed or enabled properly.\n"
     ]
    },
    {
     "data": {
      "application/vnd.jupyter.widget-view+json": {
       "model_id": "3b83dd3c5ca442a786ab57a14657272f"
      }
     },
     "metadata": {},
     "output_type": "display_data"
    },
    {
     "data": {
      "text/html": [
       "Find user logs for this run at: <code>/home/sazeglio/NMAs/src/wandb/run-20210815_064943-8m1r06l1/logs/debug.log</code>"
      ],
      "text/plain": [
       "<IPython.core.display.HTML object>"
      ]
     },
     "metadata": {},
     "output_type": "display_data"
    },
    {
     "data": {
      "text/html": [
       "Find internal logs for this run at: <code>/home/sazeglio/NMAs/src/wandb/run-20210815_064943-8m1r06l1/logs/debug-internal.log</code>"
      ],
      "text/plain": [
       "<IPython.core.display.HTML object>"
      ]
     },
     "metadata": {},
     "output_type": "display_data"
    },
    {
     "data": {
      "text/html": [
       "<h3>Run summary:</h3><br/><style>\n",
       "    table.wandb td:nth-child(1) { padding: 0 10px; text-align: right }\n",
       "    </style><table class=\"wandb\">\n",
       "<tr><td>train_loss</td><td>1.74652</td></tr><tr><td>valid_loss</td><td>2.0094</td></tr><tr><td>epoch</td><td>3999</td></tr><tr><td>_runtime</td><td>1239</td></tr><tr><td>_timestamp</td><td>1629004222</td></tr><tr><td>_step</td><td>3999</td></tr></table>"
      ],
      "text/plain": [
       "<IPython.core.display.HTML object>"
      ]
     },
     "metadata": {},
     "output_type": "display_data"
    },
    {
     "data": {
      "text/html": [
       "<h3>Run history:</h3><br/><style>\n",
       "    table.wandb td:nth-child(1) { padding: 0 10px; text-align: right }\n",
       "    </style><table class=\"wandb\">\n",
       "<tr><td>train_loss</td><td>█▇▆▆▅▅▄▄▃▃▃▃▂▂▂▂▂▂▂▂▂▂▂▂▂▁▁▁▁▁▁▁▁▁▁▁▁▁▁▁</td></tr><tr><td>valid_loss</td><td>█▇▆▅▅▄▄▃▃▃▃▃▂▂▂▂▂▂▂▂▂▂▂▂▂▂▁▂▁▁▁▁▁▁▁▁▁▁▁▁</td></tr><tr><td>epoch</td><td>▁▁▁▂▂▂▂▂▂▃▃▃▃▃▄▄▄▄▄▄▅▅▅▅▅▅▆▆▆▆▆▇▇▇▇▇▇███</td></tr><tr><td>_runtime</td><td>▁▁▁▂▂▂▂▂▂▃▃▃▃▃▄▄▄▄▄▄▅▅▅▅▅▅▆▆▆▆▆▇▇▇▇▇▇███</td></tr><tr><td>_timestamp</td><td>▁▁▁▂▂▂▂▂▂▃▃▃▃▃▄▄▄▄▄▄▅▅▅▅▅▅▆▆▆▆▆▇▇▇▇▇▇███</td></tr><tr><td>_step</td><td>▁▁▁▂▂▂▂▂▂▃▃▃▃▃▄▄▄▄▄▄▅▅▅▅▅▅▆▆▆▆▆▇▇▇▇▇▇███</td></tr></table><br/>"
      ],
      "text/plain": [
       "<IPython.core.display.HTML object>"
      ]
     },
     "metadata": {},
     "output_type": "display_data"
    },
    {
     "data": {
      "text/html": [
       "Synced 5 W&B file(s), 0 media file(s), 0 artifact file(s) and 0 other file(s)"
      ],
      "text/plain": [
       "<IPython.core.display.HTML object>"
      ]
     },
     "metadata": {},
     "output_type": "display_data"
    },
    {
     "data": {
      "text/html": [
       "\n",
       "                    <br/>Synced <strong style=\"color:#cdcd00\">glamorous-sweep-16</strong>: <a href=\"https://wandb.ai/sazio/NMAs-Full-Signals/runs/8m1r06l1\" target=\"_blank\">https://wandb.ai/sazio/NMAs-Full-Signals/runs/8m1r06l1</a><br/>\n",
       "                "
      ],
      "text/plain": [
       "<IPython.core.display.HTML object>"
      ]
     },
     "metadata": {},
     "output_type": "display_data"
    },
    {
     "name": "stderr",
     "output_type": "stream",
     "text": [
      "wandb: Agent Starting Run: 70fh2n0j with config:\n",
      "wandb: \tdropout: 0.1\n",
      "wandb: \tepochs: 4000\n",
      "wandb: \tlearning_rate: 5.330792759715102e-05\n",
      "wandb: \tn_comp: 300\n",
      "wandb: \tnum_layers: 1\n",
      "wandb: \toptimizer: adam\n",
      "wandb: \tweight_decay: 5e-05\n",
      "Failed to detect the name of this notebook, you can set it manually with the WANDB_NOTEBOOK_NAME environment variable to enable code saving.\n"
     ]
    },
    {
     "data": {
      "text/html": [
       "\n",
       "                Tracking run with wandb version 0.12.0<br/>\n",
       "                Syncing run <strong style=\"color:#cdcd00\">magic-sweep-17</strong> to <a href=\"https://wandb.ai\" target=\"_blank\">Weights & Biases</a> <a href=\"https://docs.wandb.com/integrations/jupyter.html\" target=\"_blank\">(Documentation)</a>.<br/>\n",
       "                Project page: <a href=\"https://wandb.ai/sazio/NMAs-Full-Signals\" target=\"_blank\">https://wandb.ai/sazio/NMAs-Full-Signals</a><br/>\n",
       "                Sweep page: <a href=\"https://wandb.ai/sazio/NMAs-Full-Signals/sweeps/cbewt4f6\" target=\"_blank\">https://wandb.ai/sazio/NMAs-Full-Signals/sweeps/cbewt4f6</a><br/>\n",
       "Run page: <a href=\"https://wandb.ai/sazio/NMAs-Full-Signals/runs/70fh2n0j\" target=\"_blank\">https://wandb.ai/sazio/NMAs-Full-Signals/runs/70fh2n0j</a><br/>\n",
       "                Run data is saved locally in <code>/home/sazeglio/NMAs/src/wandb/run-20210815_071026-70fh2n0j</code><br/><br/>\n",
       "            "
      ],
      "text/plain": [
       "<IPython.core.display.HTML object>"
      ]
     },
     "metadata": {},
     "output_type": "display_data"
    },
    {
     "name": "stdout",
     "output_type": "stream",
     "text": [
      " iteration 0, train cost 4.9319, valid cost 5.0346\n",
      " iteration 50, train cost 4.8275, valid cost 4.9243\n",
      " iteration 100, train cost 4.1202, valid cost 4.1852\n",
      " iteration 150, train cost 3.6205, valid cost 3.6784\n",
      " iteration 200, train cost 3.4153, valid cost 3.4738\n",
      " iteration 250, train cost 3.3398, valid cost 3.4015\n",
      " iteration 300, train cost 3.3101, valid cost 3.3763\n",
      " iteration 350, train cost 3.2979, valid cost 3.3670\n",
      " iteration 400, train cost 3.2913, valid cost 3.3632\n",
      " iteration 450, train cost 3.2877, valid cost 3.3612\n",
      " iteration 500, train cost 3.2848, valid cost 3.3600\n",
      " iteration 550, train cost 3.2828, valid cost 3.3591\n",
      " iteration 600, train cost 3.2808, valid cost 3.3583\n",
      " iteration 650, train cost 3.2791, valid cost 3.3573\n",
      " iteration 700, train cost 3.2773, valid cost 3.3564\n",
      " iteration 750, train cost 3.2754, valid cost 3.3551\n",
      " iteration 800, train cost 3.2731, valid cost 3.3533\n",
      " iteration 850, train cost 3.2703, valid cost 3.3511\n",
      " iteration 900, train cost 3.2672, valid cost 3.3481\n",
      " iteration 950, train cost 3.2625, valid cost 3.3440\n",
      " iteration 1000, train cost 3.2565, valid cost 3.3381\n",
      " iteration 1050, train cost 3.2479, valid cost 3.3297\n",
      " iteration 1100, train cost 3.2355, valid cost 3.3168\n",
      " iteration 1150, train cost 3.2177, valid cost 3.2985\n",
      " iteration 1200, train cost 3.1956, valid cost 3.2753\n",
      " iteration 1250, train cost 3.1709, valid cost 3.2503\n",
      " iteration 1300, train cost 3.1471, valid cost 3.2253\n",
      " iteration 1350, train cost 3.1251, valid cost 3.2017\n",
      " iteration 1400, train cost 3.1050, valid cost 3.1795\n",
      " iteration 1450, train cost 3.0867, valid cost 3.1581\n",
      " iteration 1500, train cost 3.0676, valid cost 3.1357\n",
      " iteration 1550, train cost 3.0466, valid cost 3.1109\n",
      " iteration 1600, train cost 3.0244, valid cost 3.0842\n",
      " iteration 1650, train cost 3.0027, valid cost 3.0587\n",
      " iteration 1700, train cost 2.9835, valid cost 3.0383\n",
      " iteration 1750, train cost 2.9682, valid cost 3.0232\n",
      " iteration 1800, train cost 2.9553, valid cost 3.0121\n",
      " iteration 1850, train cost 2.9456, valid cost 3.0025\n",
      " iteration 1900, train cost 2.9354, valid cost 2.9940\n",
      " iteration 1950, train cost 2.9248, valid cost 2.9851\n",
      " iteration 2000, train cost 2.9135, valid cost 2.9753\n",
      " iteration 2050, train cost 2.9015, valid cost 2.9644\n",
      " iteration 2100, train cost 2.8886, valid cost 2.9524\n",
      " iteration 2150, train cost 2.8751, valid cost 2.9401\n",
      " iteration 2200, train cost 2.8616, valid cost 2.9273\n",
      " iteration 2250, train cost 2.8476, valid cost 2.9140\n",
      " iteration 2300, train cost 2.8328, valid cost 2.9004\n",
      " iteration 2350, train cost 2.8185, valid cost 2.8862\n",
      " iteration 2400, train cost 2.8036, valid cost 2.8724\n",
      " iteration 2450, train cost 2.7904, valid cost 2.8593\n",
      " iteration 2500, train cost 2.7770, valid cost 2.8466\n",
      " iteration 2550, train cost 2.7640, valid cost 2.8338\n",
      " iteration 2600, train cost 2.7510, valid cost 2.8214\n",
      " iteration 2650, train cost 2.7370, valid cost 2.8089\n",
      " iteration 2700, train cost 2.7243, valid cost 2.7967\n",
      " iteration 2750, train cost 2.7116, valid cost 2.7846\n",
      " iteration 2800, train cost 2.6990, valid cost 2.7728\n",
      " iteration 2850, train cost 2.6869, valid cost 2.7614\n",
      " iteration 2900, train cost 2.6750, valid cost 2.7501\n",
      " iteration 2950, train cost 2.6629, valid cost 2.7392\n",
      " iteration 3000, train cost 2.6517, valid cost 2.7285\n",
      " iteration 3050, train cost 2.6418, valid cost 2.7182\n",
      " iteration 3100, train cost 2.6303, valid cost 2.7081\n",
      " iteration 3150, train cost 2.6200, valid cost 2.6982\n",
      " iteration 3200, train cost 2.6092, valid cost 2.6888\n",
      " iteration 3250, train cost 2.6004, valid cost 2.6792\n",
      " iteration 3300, train cost 2.5903, valid cost 2.6697\n",
      " iteration 3350, train cost 2.5805, valid cost 2.6607\n",
      " iteration 3400, train cost 2.5720, valid cost 2.6517\n",
      " iteration 3450, train cost 2.5631, valid cost 2.6432\n",
      " iteration 3500, train cost 2.5545, valid cost 2.6348\n",
      " iteration 3550, train cost 2.5458, valid cost 2.6267\n",
      " iteration 3600, train cost 2.5376, valid cost 2.6184\n",
      " iteration 3650, train cost 2.5293, valid cost 2.6097\n",
      " iteration 3700, train cost 2.5201, valid cost 2.6006\n",
      " iteration 3750, train cost 2.5108, valid cost 2.5919\n",
      " iteration 3800, train cost 2.5026, valid cost 2.5826\n",
      " iteration 3850, train cost 2.4933, valid cost 2.5736\n",
      " iteration 3900, train cost 2.4837, valid cost 2.5645\n",
      " iteration 3950, train cost 2.4752, valid cost 2.5553\n"
     ]
    },
    {
     "data": {
      "text/html": [
       "<br/>Waiting for W&B process to finish, PID 196155<br/>Program ended successfully."
      ],
      "text/plain": [
       "<IPython.core.display.HTML object>"
      ]
     },
     "metadata": {},
     "output_type": "display_data"
    },
    {
     "name": "stderr",
     "output_type": "stream",
     "text": [
      "Widget Javascript not detected.  It may not be installed or enabled properly.\n"
     ]
    },
    {
     "data": {
      "application/vnd.jupyter.widget-view+json": {
       "model_id": "158a37b64fe046aea63e1a67445c75a6"
      }
     },
     "metadata": {},
     "output_type": "display_data"
    },
    {
     "data": {
      "text/html": [
       "Find user logs for this run at: <code>/home/sazeglio/NMAs/src/wandb/run-20210815_071026-70fh2n0j/logs/debug.log</code>"
      ],
      "text/plain": [
       "<IPython.core.display.HTML object>"
      ]
     },
     "metadata": {},
     "output_type": "display_data"
    },
    {
     "data": {
      "text/html": [
       "Find internal logs for this run at: <code>/home/sazeglio/NMAs/src/wandb/run-20210815_071026-70fh2n0j/logs/debug-internal.log</code>"
      ],
      "text/plain": [
       "<IPython.core.display.HTML object>"
      ]
     },
     "metadata": {},
     "output_type": "display_data"
    },
    {
     "data": {
      "text/html": [
       "<h3>Run summary:</h3><br/><style>\n",
       "    table.wandb td:nth-child(1) { padding: 0 10px; text-align: right }\n",
       "    </style><table class=\"wandb\">\n",
       "<tr><td>train_loss</td><td>2.46529</td></tr><tr><td>valid_loss</td><td>2.54629</td></tr><tr><td>epoch</td><td>3999</td></tr><tr><td>_runtime</td><td>1234</td></tr><tr><td>_timestamp</td><td>1629005460</td></tr><tr><td>_step</td><td>3999</td></tr></table>"
      ],
      "text/plain": [
       "<IPython.core.display.HTML object>"
      ]
     },
     "metadata": {},
     "output_type": "display_data"
    },
    {
     "data": {
      "text/html": [
       "<h3>Run history:</h3><br/><style>\n",
       "    table.wandb td:nth-child(1) { padding: 0 10px; text-align: right }\n",
       "    </style><table class=\"wandb\">\n",
       "<tr><td>train_loss</td><td>█▅▄▃▃▃▃▃▃▃▃▃▃▃▃▃▃▂▂▂▂▂▂▂▂▂▂▂▂▂▁▁▁▁▁▁▁▁▁▁</td></tr><tr><td>valid_loss</td><td>█▅▄▃▃▃▃▃▃▃▃▃▃▃▃▃▂▂▂▂▂▂▂▂▂▂▂▂▂▂▁▁▁▁▁▁▁▁▁▁</td></tr><tr><td>epoch</td><td>▁▁▁▂▂▂▂▂▂▃▃▃▃▃▄▄▄▄▄▄▅▅▅▅▅▅▆▆▆▆▆▇▇▇▇▇▇███</td></tr><tr><td>_runtime</td><td>▁▁▁▂▂▂▂▂▂▃▃▃▃▃▃▄▄▄▄▄▅▅▅▅▅▅▆▆▆▆▆▇▇▇▇▇▇███</td></tr><tr><td>_timestamp</td><td>▁▁▁▂▂▂▂▂▂▃▃▃▃▃▃▄▄▄▄▄▅▅▅▅▅▅▆▆▆▆▆▇▇▇▇▇▇███</td></tr><tr><td>_step</td><td>▁▁▁▂▂▂▂▂▂▃▃▃▃▃▄▄▄▄▄▄▅▅▅▅▅▅▆▆▆▆▆▇▇▇▇▇▇███</td></tr></table><br/>"
      ],
      "text/plain": [
       "<IPython.core.display.HTML object>"
      ]
     },
     "metadata": {},
     "output_type": "display_data"
    },
    {
     "data": {
      "text/html": [
       "Synced 5 W&B file(s), 0 media file(s), 0 artifact file(s) and 0 other file(s)"
      ],
      "text/plain": [
       "<IPython.core.display.HTML object>"
      ]
     },
     "metadata": {},
     "output_type": "display_data"
    },
    {
     "data": {
      "text/html": [
       "\n",
       "                    <br/>Synced <strong style=\"color:#cdcd00\">magic-sweep-17</strong>: <a href=\"https://wandb.ai/sazio/NMAs-Full-Signals/runs/70fh2n0j\" target=\"_blank\">https://wandb.ai/sazio/NMAs-Full-Signals/runs/70fh2n0j</a><br/>\n",
       "                "
      ],
      "text/plain": [
       "<IPython.core.display.HTML object>"
      ]
     },
     "metadata": {},
     "output_type": "display_data"
    },
    {
     "name": "stderr",
     "output_type": "stream",
     "text": [
      "wandb: Agent Starting Run: jpy4ug1w with config:\n",
      "wandb: \tdropout: 0.1\n",
      "wandb: \tepochs: 4000\n",
      "wandb: \tlearning_rate: 0.0012831869276291401\n",
      "wandb: \tn_comp: 100\n",
      "wandb: \tnum_layers: 1\n",
      "wandb: \toptimizer: adam\n",
      "wandb: \tweight_decay: 1e-05\n",
      "Failed to detect the name of this notebook, you can set it manually with the WANDB_NOTEBOOK_NAME environment variable to enable code saving.\n"
     ]
    },
    {
     "data": {
      "text/html": [
       "\n",
       "                Tracking run with wandb version 0.12.0<br/>\n",
       "                Syncing run <strong style=\"color:#cdcd00\">legendary-sweep-18</strong> to <a href=\"https://wandb.ai\" target=\"_blank\">Weights & Biases</a> <a href=\"https://docs.wandb.com/integrations/jupyter.html\" target=\"_blank\">(Documentation)</a>.<br/>\n",
       "                Project page: <a href=\"https://wandb.ai/sazio/NMAs-Full-Signals\" target=\"_blank\">https://wandb.ai/sazio/NMAs-Full-Signals</a><br/>\n",
       "                Sweep page: <a href=\"https://wandb.ai/sazio/NMAs-Full-Signals/sweeps/cbewt4f6\" target=\"_blank\">https://wandb.ai/sazio/NMAs-Full-Signals/sweeps/cbewt4f6</a><br/>\n",
       "Run page: <a href=\"https://wandb.ai/sazio/NMAs-Full-Signals/runs/jpy4ug1w\" target=\"_blank\">https://wandb.ai/sazio/NMAs-Full-Signals/runs/jpy4ug1w</a><br/>\n",
       "                Run data is saved locally in <code>/home/sazeglio/NMAs/src/wandb/run-20210815_073104-jpy4ug1w</code><br/><br/>\n",
       "            "
      ],
      "text/plain": [
       "<IPython.core.display.HTML object>"
      ]
     },
     "metadata": {},
     "output_type": "display_data"
    },
    {
     "name": "stdout",
     "output_type": "stream",
     "text": [
      " iteration 0, train cost 4.9264, valid cost 5.0113\n",
      " iteration 50, train cost 3.2841, valid cost 3.3662\n",
      " iteration 100, train cost 3.2682, valid cost 3.3521\n",
      " iteration 150, train cost 3.1472, valid cost 3.2217\n",
      " iteration 200, train cost 3.0419, valid cost 3.1035\n",
      " iteration 250, train cost 2.9481, valid cost 3.0179\n",
      " iteration 300, train cost 2.8840, valid cost 2.9536\n",
      " iteration 350, train cost 2.8100, valid cost 2.8886\n",
      " iteration 400, train cost 2.7462, valid cost 2.8269\n",
      " iteration 450, train cost 2.6725, valid cost 2.7598\n",
      " iteration 500, train cost 2.6150, valid cost 2.7046\n",
      " iteration 550, train cost 2.5653, valid cost 2.6586\n",
      " iteration 600, train cost 2.5153, valid cost 2.6117\n",
      " iteration 650, train cost 2.4711, valid cost 2.5735\n",
      " iteration 700, train cost 2.4352, valid cost 2.5313\n",
      " iteration 750, train cost 2.3910, valid cost 2.4967\n",
      " iteration 800, train cost 2.3559, valid cost 2.4653\n",
      " iteration 850, train cost 2.3294, valid cost 2.4391\n",
      " iteration 900, train cost 2.3123, valid cost 2.4196\n",
      " iteration 950, train cost 2.2743, valid cost 2.3867\n",
      " iteration 1000, train cost 2.2502, valid cost 2.3658\n",
      " iteration 1050, train cost 2.2258, valid cost 2.3468\n",
      " iteration 1100, train cost 2.2043, valid cost 2.3287\n",
      " iteration 1150, train cost 2.1895, valid cost 2.3143\n",
      " iteration 1200, train cost 2.1678, valid cost 2.2984\n",
      " iteration 1250, train cost 2.2111, valid cost 2.3013\n",
      " iteration 1300, train cost 2.1363, valid cost 2.2737\n",
      " iteration 1350, train cost 2.1225, valid cost 2.2653\n",
      " iteration 1400, train cost 2.1214, valid cost 2.2614\n",
      " iteration 1450, train cost 2.0939, valid cost 2.2411\n",
      " iteration 1500, train cost 2.0812, valid cost 2.2309\n",
      " iteration 1550, train cost 2.0712, valid cost 2.2219\n",
      " iteration 1600, train cost 2.0584, valid cost 2.2141\n",
      " iteration 1650, train cost 2.0476, valid cost 2.2067\n",
      " iteration 1700, train cost 2.0342, valid cost 2.1955\n",
      " iteration 1750, train cost 2.0256, valid cost 2.1904\n",
      " iteration 1800, train cost 2.0128, valid cost 2.1800\n",
      " iteration 1850, train cost 2.0022, valid cost 2.1725\n",
      " iteration 1900, train cost 1.9946, valid cost 2.1657\n",
      " iteration 1950, train cost 1.9828, valid cost 2.1590\n",
      " iteration 2000, train cost 1.9747, valid cost 2.1527\n",
      " iteration 2050, train cost 1.9640, valid cost 2.1475\n",
      " iteration 2100, train cost 1.9931, valid cost 2.3775\n",
      " iteration 2150, train cost 1.9545, valid cost 2.1318\n",
      " iteration 2200, train cost 1.9434, valid cost 2.1277\n",
      " iteration 2250, train cost 1.9361, valid cost 2.1231\n",
      " iteration 2300, train cost 1.9603, valid cost 2.1407\n",
      " iteration 2350, train cost 1.9216, valid cost 2.1109\n",
      " iteration 2400, train cost 1.9255, valid cost 2.1163\n",
      " iteration 2450, train cost 1.9113, valid cost 2.1050\n",
      " iteration 2500, train cost 1.9035, valid cost 2.0983\n",
      " iteration 2550, train cost 1.8957, valid cost 2.0941\n",
      " iteration 2600, train cost 1.8920, valid cost 2.0902\n",
      " iteration 2650, train cost 1.8878, valid cost 2.0877\n",
      " iteration 2700, train cost 1.8890, valid cost 2.0886\n",
      " iteration 2750, train cost 1.9177, valid cost 2.1091\n",
      " iteration 2800, train cost 1.8850, valid cost 2.0834\n",
      " iteration 2850, train cost 1.8803, valid cost 2.0790\n",
      " iteration 2900, train cost 1.8629, valid cost 2.0676\n",
      " iteration 2950, train cost 1.8588, valid cost 2.0664\n",
      " iteration 3000, train cost 1.8538, valid cost 2.0655\n",
      " iteration 3050, train cost 1.8517, valid cost 2.0637\n",
      " iteration 3100, train cost 1.8462, valid cost 2.0606\n",
      " iteration 3150, train cost 1.9205, valid cost 2.1021\n",
      " iteration 3200, train cost 1.8478, valid cost 2.0502\n",
      " iteration 3250, train cost 1.8390, valid cost 2.0490\n",
      " iteration 3300, train cost 1.8336, valid cost 2.0476\n",
      " iteration 3350, train cost 1.8286, valid cost 2.0462\n",
      " iteration 3400, train cost 1.8279, valid cost 2.0457\n",
      " iteration 3450, train cost 1.8226, valid cost 2.0434\n",
      " iteration 3500, train cost 1.8185, valid cost 2.0413\n",
      " iteration 3550, train cost 1.8756, valid cost 2.0717\n",
      " iteration 3600, train cost 1.8176, valid cost 2.0326\n",
      " iteration 3650, train cost 1.8137, valid cost 2.0311\n",
      " iteration 3700, train cost 1.8079, valid cost 2.0304\n",
      " iteration 3750, train cost 1.8382, valid cost 2.0456\n",
      " iteration 3800, train cost 1.8026, valid cost 2.0251\n",
      " iteration 3850, train cost 1.8000, valid cost 2.0261\n",
      " iteration 3900, train cost 1.7972, valid cost 2.0237\n",
      " iteration 3950, train cost 1.7951, valid cost 2.0214\n"
     ]
    },
    {
     "data": {
      "text/html": [
       "<br/>Waiting for W&B process to finish, PID 196395<br/>Program ended successfully."
      ],
      "text/plain": [
       "<IPython.core.display.HTML object>"
      ]
     },
     "metadata": {},
     "output_type": "display_data"
    },
    {
     "name": "stderr",
     "output_type": "stream",
     "text": [
      "Widget Javascript not detected.  It may not be installed or enabled properly.\n"
     ]
    },
    {
     "data": {
      "application/vnd.jupyter.widget-view+json": {
       "model_id": "fce3fa9a48fb4f2cac6fa71354c40e2f"
      }
     },
     "metadata": {},
     "output_type": "display_data"
    },
    {
     "data": {
      "text/html": [
       "Find user logs for this run at: <code>/home/sazeglio/NMAs/src/wandb/run-20210815_073104-jpy4ug1w/logs/debug.log</code>"
      ],
      "text/plain": [
       "<IPython.core.display.HTML object>"
      ]
     },
     "metadata": {},
     "output_type": "display_data"
    },
    {
     "data": {
      "text/html": [
       "Find internal logs for this run at: <code>/home/sazeglio/NMAs/src/wandb/run-20210815_073104-jpy4ug1w/logs/debug-internal.log</code>"
      ],
      "text/plain": [
       "<IPython.core.display.HTML object>"
      ]
     },
     "metadata": {},
     "output_type": "display_data"
    },
    {
     "data": {
      "text/html": [
       "<h3>Run summary:</h3><br/><style>\n",
       "    table.wandb td:nth-child(1) { padding: 0 10px; text-align: right }\n",
       "    </style><table class=\"wandb\">\n",
       "<tr><td>train_loss</td><td>1.79279</td></tr><tr><td>valid_loss</td><td>2.02018</td></tr><tr><td>epoch</td><td>3999</td></tr><tr><td>_runtime</td><td>1240</td></tr><tr><td>_timestamp</td><td>1629006704</td></tr><tr><td>_step</td><td>3999</td></tr></table>"
      ],
      "text/plain": [
       "<IPython.core.display.HTML object>"
      ]
     },
     "metadata": {},
     "output_type": "display_data"
    },
    {
     "data": {
      "text/html": [
       "<h3>Run history:</h3><br/><style>\n",
       "    table.wandb td:nth-child(1) { padding: 0 10px; text-align: right }\n",
       "    </style><table class=\"wandb\">\n",
       "<tr><td>train_loss</td><td>██▇▆▅▅▄▄▄▃▃▃▃▃▂▂▂▂▂▂▂▂▂▂▂▁▁▂▁▁▁▁▁▁▁▁▁▁▁▁</td></tr><tr><td>valid_loss</td><td>██▆▆▅▄▄▃▃▃▃▃▂▂▂▂▂▂▂▂▂▂▂▁▁▁▁▁▁▁▁▁▁▁▁▁▁▁▁▁</td></tr><tr><td>epoch</td><td>▁▁▁▂▂▂▂▂▂▃▃▃▃▃▄▄▄▄▄▄▅▅▅▅▅▅▆▆▆▆▆▇▇▇▇▇▇███</td></tr><tr><td>_runtime</td><td>▁▁▁▂▂▂▂▂▂▃▃▃▃▃▄▄▄▄▄▄▅▅▅▅▅▅▆▆▆▆▆▇▇▇▇▇▇███</td></tr><tr><td>_timestamp</td><td>▁▁▁▂▂▂▂▂▂▃▃▃▃▃▄▄▄▄▄▄▅▅▅▅▅▅▆▆▆▆▆▇▇▇▇▇▇███</td></tr><tr><td>_step</td><td>▁▁▁▂▂▂▂▂▂▃▃▃▃▃▄▄▄▄▄▄▅▅▅▅▅▅▆▆▆▆▆▇▇▇▇▇▇███</td></tr></table><br/>"
      ],
      "text/plain": [
       "<IPython.core.display.HTML object>"
      ]
     },
     "metadata": {},
     "output_type": "display_data"
    },
    {
     "data": {
      "text/html": [
       "Synced 5 W&B file(s), 0 media file(s), 0 artifact file(s) and 0 other file(s)"
      ],
      "text/plain": [
       "<IPython.core.display.HTML object>"
      ]
     },
     "metadata": {},
     "output_type": "display_data"
    },
    {
     "data": {
      "text/html": [
       "\n",
       "                    <br/>Synced <strong style=\"color:#cdcd00\">legendary-sweep-18</strong>: <a href=\"https://wandb.ai/sazio/NMAs-Full-Signals/runs/jpy4ug1w\" target=\"_blank\">https://wandb.ai/sazio/NMAs-Full-Signals/runs/jpy4ug1w</a><br/>\n",
       "                "
      ],
      "text/plain": [
       "<IPython.core.display.HTML object>"
      ]
     },
     "metadata": {},
     "output_type": "display_data"
    },
    {
     "name": "stderr",
     "output_type": "stream",
     "text": [
      "wandb: Agent Starting Run: hfqdohd1 with config:\n",
      "wandb: \tdropout: 0.5\n",
      "wandb: \tepochs: 4000\n",
      "wandb: \tlearning_rate: 0.0038515633187785336\n",
      "wandb: \tn_comp: 100\n",
      "wandb: \tnum_layers: 1\n",
      "wandb: \toptimizer: adam\n",
      "wandb: \tweight_decay: 1e-05\n",
      "Failed to detect the name of this notebook, you can set it manually with the WANDB_NOTEBOOK_NAME environment variable to enable code saving.\n"
     ]
    },
    {
     "data": {
      "text/html": [
       "\n",
       "                Tracking run with wandb version 0.12.0<br/>\n",
       "                Syncing run <strong style=\"color:#cdcd00\">zesty-sweep-19</strong> to <a href=\"https://wandb.ai\" target=\"_blank\">Weights & Biases</a> <a href=\"https://docs.wandb.com/integrations/jupyter.html\" target=\"_blank\">(Documentation)</a>.<br/>\n",
       "                Project page: <a href=\"https://wandb.ai/sazio/NMAs-Full-Signals\" target=\"_blank\">https://wandb.ai/sazio/NMAs-Full-Signals</a><br/>\n",
       "                Sweep page: <a href=\"https://wandb.ai/sazio/NMAs-Full-Signals/sweeps/cbewt4f6\" target=\"_blank\">https://wandb.ai/sazio/NMAs-Full-Signals/sweeps/cbewt4f6</a><br/>\n",
       "Run page: <a href=\"https://wandb.ai/sazio/NMAs-Full-Signals/runs/hfqdohd1\" target=\"_blank\">https://wandb.ai/sazio/NMAs-Full-Signals/runs/hfqdohd1</a><br/>\n",
       "                Run data is saved locally in <code>/home/sazeglio/NMAs/src/wandb/run-20210815_075148-hfqdohd1</code><br/><br/>\n",
       "            "
      ],
      "text/plain": [
       "<IPython.core.display.HTML object>"
      ]
     },
     "metadata": {},
     "output_type": "display_data"
    },
    {
     "name": "stdout",
     "output_type": "stream",
     "text": [
      " iteration 0, train cost 4.9206, valid cost 4.9710\n",
      " iteration 50, train cost 3.2738, valid cost 3.3648\n",
      " iteration 100, train cost 3.2847, valid cost 3.3696\n",
      " iteration 150, train cost 3.1907, valid cost 3.2534\n",
      " iteration 200, train cost 3.0990, valid cost 3.1615\n",
      " iteration 250, train cost 3.0379, valid cost 3.1009\n",
      " iteration 300, train cost 3.0120, valid cost 3.0702\n",
      " iteration 350, train cost 2.9403, valid cost 3.0497\n",
      " iteration 400, train cost 2.8781, valid cost 2.9620\n",
      " iteration 450, train cost 2.8418, valid cost 2.9349\n",
      " iteration 500, train cost 2.8067, valid cost 2.9140\n",
      " iteration 550, train cost 2.7638, valid cost 2.8830\n",
      " iteration 600, train cost 2.7287, valid cost 2.8582\n",
      " iteration 650, train cost 2.6909, valid cost 2.8671\n",
      " iteration 700, train cost 2.6792, valid cost 2.9115\n",
      " iteration 750, train cost 2.7199, valid cost 2.8441\n",
      " iteration 800, train cost 2.6767, valid cost 2.8105\n",
      " iteration 850, train cost 2.6396, valid cost 2.7997\n",
      " iteration 900, train cost 2.5799, valid cost 2.7665\n",
      " iteration 950, train cost 2.5630, valid cost 2.7557\n",
      " iteration 1000, train cost 2.5313, valid cost 2.7425\n",
      " iteration 1050, train cost 2.5099, valid cost 2.7295\n",
      " iteration 1100, train cost 2.5251, valid cost 2.7293\n",
      " iteration 1150, train cost 2.4658, valid cost 2.7051\n",
      " iteration 1200, train cost 2.4663, valid cost 2.7073\n",
      " iteration 1250, train cost 2.4574, valid cost 2.6926\n",
      " iteration 1300, train cost 2.4337, valid cost 2.6826\n",
      " iteration 1350, train cost 2.4040, valid cost 2.6737\n",
      " iteration 1400, train cost 2.3940, valid cost 2.6721\n",
      " iteration 1450, train cost 2.4316, valid cost 2.6710\n",
      " iteration 1500, train cost 2.3772, valid cost 2.6576\n",
      " iteration 1550, train cost 2.3489, valid cost 2.6460\n",
      " iteration 1600, train cost 2.3938, valid cost 2.6500\n",
      " iteration 1650, train cost 2.3209, valid cost 2.6370\n",
      " iteration 1700, train cost 2.3059, valid cost 2.6211\n",
      " iteration 1750, train cost 2.3500, valid cost 2.6302\n",
      " iteration 1800, train cost 2.2990, valid cost 2.6078\n",
      " iteration 1850, train cost 2.2783, valid cost 2.8087\n",
      " iteration 1900, train cost 2.2689, valid cost 2.5832\n",
      " iteration 1950, train cost 2.2515, valid cost 2.5778\n",
      " iteration 2000, train cost 2.2628, valid cost 2.5895\n",
      " iteration 2050, train cost 2.2434, valid cost 2.5773\n",
      " iteration 2100, train cost 2.2250, valid cost 2.5578\n",
      " iteration 2150, train cost 2.2060, valid cost 2.5516\n",
      " iteration 2200, train cost 2.1984, valid cost 2.5425\n",
      " iteration 2250, train cost 2.1797, valid cost 2.5313\n",
      " iteration 2300, train cost 2.1676, valid cost 2.5195\n",
      " iteration 2350, train cost 2.1989, valid cost 2.5487\n",
      " iteration 2400, train cost 2.1511, valid cost 2.5091\n",
      " iteration 2450, train cost 2.1471, valid cost 2.4987\n",
      " iteration 2500, train cost 2.1319, valid cost 2.4968\n",
      " iteration 2550, train cost 2.4034, valid cost 2.5623\n",
      " iteration 2600, train cost 2.1268, valid cost 2.4788\n",
      " iteration 2650, train cost 2.1030, valid cost 2.4710\n",
      " iteration 2700, train cost 2.3218, valid cost 2.5722\n",
      " iteration 2750, train cost 2.1410, valid cost 2.4759\n",
      " iteration 2800, train cost 2.1171, valid cost 2.4636\n",
      " iteration 2850, train cost 2.0982, valid cost 2.4603\n",
      " iteration 2900, train cost 2.0970, valid cost 2.4549\n",
      " iteration 2950, train cost 2.0839, valid cost 2.4455\n",
      " iteration 3000, train cost 2.0699, valid cost 2.4366\n",
      " iteration 3050, train cost 2.0744, valid cost 2.4338\n",
      " iteration 3100, train cost 2.0472, valid cost 2.4215\n",
      " iteration 3150, train cost 2.0648, valid cost 2.4163\n",
      " iteration 3200, train cost 2.0396, valid cost 2.4087\n",
      " iteration 3250, train cost 2.0306, valid cost 2.4065\n",
      " iteration 3300, train cost 2.0185, valid cost 2.4001\n",
      " iteration 3350, train cost 2.0151, valid cost 2.3900\n",
      " iteration 3400, train cost 2.0102, valid cost 2.3875\n",
      " iteration 3450, train cost 2.0010, valid cost 2.3768\n",
      " iteration 3500, train cost 2.0195, valid cost 2.3713\n",
      " iteration 3550, train cost 2.0173, valid cost 2.3713\n",
      " iteration 3600, train cost 2.6313, valid cost 2.7686\n",
      " iteration 3650, train cost 2.0474, valid cost 2.3806\n",
      " iteration 3700, train cost 2.0111, valid cost 2.3654\n",
      " iteration 3750, train cost 2.0012, valid cost 2.3580\n",
      " iteration 3800, train cost 1.9846, valid cost 2.3514\n",
      " iteration 3850, train cost 1.9950, valid cost 2.3603\n",
      " iteration 3900, train cost 2.0155, valid cost 2.3677\n",
      " iteration 3950, train cost 1.9692, valid cost 2.3467\n"
     ]
    },
    {
     "data": {
      "text/html": [
       "<br/>Waiting for W&B process to finish, PID 197041<br/>Program ended successfully."
      ],
      "text/plain": [
       "<IPython.core.display.HTML object>"
      ]
     },
     "metadata": {},
     "output_type": "display_data"
    },
    {
     "name": "stderr",
     "output_type": "stream",
     "text": [
      "Widget Javascript not detected.  It may not be installed or enabled properly.\n"
     ]
    },
    {
     "data": {
      "application/vnd.jupyter.widget-view+json": {
       "model_id": "a6e3021b92204c50b2adb01648f94cb3"
      }
     },
     "metadata": {},
     "output_type": "display_data"
    },
    {
     "data": {
      "text/html": [
       "Find user logs for this run at: <code>/home/sazeglio/NMAs/src/wandb/run-20210815_075148-hfqdohd1/logs/debug.log</code>"
      ],
      "text/plain": [
       "<IPython.core.display.HTML object>"
      ]
     },
     "metadata": {},
     "output_type": "display_data"
    },
    {
     "data": {
      "text/html": [
       "Find internal logs for this run at: <code>/home/sazeglio/NMAs/src/wandb/run-20210815_075148-hfqdohd1/logs/debug-internal.log</code>"
      ],
      "text/plain": [
       "<IPython.core.display.HTML object>"
      ]
     },
     "metadata": {},
     "output_type": "display_data"
    },
    {
     "data": {
      "text/html": [
       "<h3>Run summary:</h3><br/><style>\n",
       "    table.wandb td:nth-child(1) { padding: 0 10px; text-align: right }\n",
       "    </style><table class=\"wandb\">\n",
       "<tr><td>train_loss</td><td>2.12301</td></tr><tr><td>valid_loss</td><td>2.39977</td></tr><tr><td>epoch</td><td>3999</td></tr><tr><td>_runtime</td><td>1239</td></tr><tr><td>_timestamp</td><td>1629007947</td></tr><tr><td>_step</td><td>3999</td></tr></table>"
      ],
      "text/plain": [
       "<IPython.core.display.HTML object>"
      ]
     },
     "metadata": {},
     "output_type": "display_data"
    },
    {
     "data": {
      "text/html": [
       "<h3>Run history:</h3><br/><style>\n",
       "    table.wandb td:nth-child(1) { padding: 0 10px; text-align: right }\n",
       "    </style><table class=\"wandb\">\n",
       "<tr><td>train_loss</td><td>██▇▆▆▅▅▅▄▄▄▄▄▃▄▃▃▃▃▂▃▂▂▂▂▂▂▂▂▂▁▁▁▁▂▁▁▁▁▁</td></tr><tr><td>valid_loss</td><td>█▇▆▆▅▅▄▄▄▄▄▄▃▃▄▃▃▃▃▃▃▂▂▂▂▂▂▂▂▂▂▁▁▁▁▁▁▁▁▁</td></tr><tr><td>epoch</td><td>▁▁▁▂▂▂▂▂▂▃▃▃▃▃▄▄▄▄▄▄▅▅▅▅▅▅▆▆▆▆▆▇▇▇▇▇▇███</td></tr><tr><td>_runtime</td><td>▁▁▁▂▂▂▂▂▂▃▃▃▃▃▄▄▄▄▄▄▅▅▅▅▅▅▆▆▆▆▆▇▇▇▇▇▇███</td></tr><tr><td>_timestamp</td><td>▁▁▁▂▂▂▂▂▂▃▃▃▃▃▄▄▄▄▄▄▅▅▅▅▅▅▆▆▆▆▆▇▇▇▇▇▇███</td></tr><tr><td>_step</td><td>▁▁▁▂▂▂▂▂▂▃▃▃▃▃▄▄▄▄▄▄▅▅▅▅▅▅▆▆▆▆▆▇▇▇▇▇▇███</td></tr></table><br/>"
      ],
      "text/plain": [
       "<IPython.core.display.HTML object>"
      ]
     },
     "metadata": {},
     "output_type": "display_data"
    },
    {
     "data": {
      "text/html": [
       "Synced 5 W&B file(s), 0 media file(s), 0 artifact file(s) and 0 other file(s)"
      ],
      "text/plain": [
       "<IPython.core.display.HTML object>"
      ]
     },
     "metadata": {},
     "output_type": "display_data"
    },
    {
     "data": {
      "text/html": [
       "\n",
       "                    <br/>Synced <strong style=\"color:#cdcd00\">zesty-sweep-19</strong>: <a href=\"https://wandb.ai/sazio/NMAs-Full-Signals/runs/hfqdohd1\" target=\"_blank\">https://wandb.ai/sazio/NMAs-Full-Signals/runs/hfqdohd1</a><br/>\n",
       "                "
      ],
      "text/plain": [
       "<IPython.core.display.HTML object>"
      ]
     },
     "metadata": {},
     "output_type": "display_data"
    },
    {
     "name": "stderr",
     "output_type": "stream",
     "text": [
      "wandb: Agent Starting Run: gbnx4k3e with config:\n",
      "wandb: \tdropout: 0.1\n",
      "wandb: \tepochs: 4000\n",
      "wandb: \tlearning_rate: 0.0005600925048744197\n",
      "wandb: \tn_comp: 100\n",
      "wandb: \tnum_layers: 1\n",
      "wandb: \toptimizer: adam\n",
      "wandb: \tweight_decay: 1e-05\n",
      "Failed to detect the name of this notebook, you can set it manually with the WANDB_NOTEBOOK_NAME environment variable to enable code saving.\n"
     ]
    },
    {
     "data": {
      "text/html": [
       "\n",
       "                Tracking run with wandb version 0.12.0<br/>\n",
       "                Syncing run <strong style=\"color:#cdcd00\">olive-sweep-20</strong> to <a href=\"https://wandb.ai\" target=\"_blank\">Weights & Biases</a> <a href=\"https://docs.wandb.com/integrations/jupyter.html\" target=\"_blank\">(Documentation)</a>.<br/>\n",
       "                Project page: <a href=\"https://wandb.ai/sazio/NMAs-Full-Signals\" target=\"_blank\">https://wandb.ai/sazio/NMAs-Full-Signals</a><br/>\n",
       "                Sweep page: <a href=\"https://wandb.ai/sazio/NMAs-Full-Signals/sweeps/cbewt4f6\" target=\"_blank\">https://wandb.ai/sazio/NMAs-Full-Signals/sweeps/cbewt4f6</a><br/>\n",
       "Run page: <a href=\"https://wandb.ai/sazio/NMAs-Full-Signals/runs/gbnx4k3e\" target=\"_blank\">https://wandb.ai/sazio/NMAs-Full-Signals/runs/gbnx4k3e</a><br/>\n",
       "                Run data is saved locally in <code>/home/sazeglio/NMAs/src/wandb/run-20210815_081232-gbnx4k3e</code><br/><br/>\n",
       "            "
      ],
      "text/plain": [
       "<IPython.core.display.HTML object>"
      ]
     },
     "metadata": {},
     "output_type": "display_data"
    },
    {
     "name": "stdout",
     "output_type": "stream",
     "text": [
      " iteration 0, train cost 4.9324, valid cost 5.0295\n",
      " iteration 50, train cost 3.3072, valid cost 3.3823\n",
      " iteration 100, train cost 3.2787, valid cost 3.3595\n",
      " iteration 150, train cost 3.2692, valid cost 3.3510\n",
      " iteration 200, train cost 3.2035, valid cost 3.2774\n",
      " iteration 250, train cost 3.0779, valid cost 3.1446\n",
      " iteration 300, train cost 3.0045, valid cost 3.0685\n",
      " iteration 350, train cost 2.9414, valid cost 3.0055\n",
      " iteration 400, train cost 2.8736, valid cost 2.9437\n",
      " iteration 450, train cost 2.7945, valid cost 2.8743\n",
      " iteration 500, train cost 2.7234, valid cost 2.8098\n",
      " iteration 550, train cost 2.6607, valid cost 2.7535\n",
      " iteration 600, train cost 2.6058, valid cost 2.7018\n",
      " iteration 650, train cost 2.5603, valid cost 2.6583\n",
      " iteration 700, train cost 2.5178, valid cost 2.6185\n",
      " iteration 750, train cost 2.4784, valid cost 2.5800\n",
      " iteration 800, train cost 2.4422, valid cost 2.5451\n",
      " iteration 850, train cost 2.4111, valid cost 2.5140\n",
      " iteration 900, train cost 2.3809, valid cost 2.4853\n",
      " iteration 950, train cost 2.3536, valid cost 2.4598\n",
      " iteration 1000, train cost 2.3253, valid cost 2.4335\n",
      " iteration 1050, train cost 2.3037, valid cost 2.4176\n",
      " iteration 1100, train cost 2.2736, valid cost 2.3856\n",
      " iteration 1150, train cost 2.2518, valid cost 2.3667\n",
      " iteration 1200, train cost 2.2310, valid cost 2.3482\n",
      " iteration 1250, train cost 2.2116, valid cost 2.3323\n",
      " iteration 1300, train cost 2.1957, valid cost 2.3163\n",
      " iteration 1350, train cost 2.1789, valid cost 2.3014\n",
      " iteration 1400, train cost 2.1629, valid cost 2.2888\n",
      " iteration 1450, train cost 2.1507, valid cost 2.2770\n",
      " iteration 1500, train cost 2.1373, valid cost 2.2642\n",
      " iteration 1550, train cost 2.1247, valid cost 2.2532\n",
      " iteration 1600, train cost 2.1113, valid cost 2.2436\n",
      " iteration 1650, train cost 2.1006, valid cost 2.2337\n",
      " iteration 1700, train cost 2.0910, valid cost 2.2255\n",
      " iteration 1750, train cost 2.0829, valid cost 2.2168\n",
      " iteration 1800, train cost 2.0686, valid cost 2.2066\n",
      " iteration 1850, train cost 2.0605, valid cost 2.1965\n",
      " iteration 1900, train cost 2.0511, valid cost 2.1893\n",
      " iteration 1950, train cost 2.0418, valid cost 2.1802\n",
      " iteration 2000, train cost 2.0314, valid cost 2.1728\n",
      " iteration 2050, train cost 2.0261, valid cost 2.1665\n",
      " iteration 2100, train cost 2.0154, valid cost 2.1603\n",
      " iteration 2150, train cost 2.0049, valid cost 2.1530\n",
      " iteration 2200, train cost 1.9998, valid cost 2.1467\n",
      " iteration 2250, train cost 1.9908, valid cost 2.1401\n",
      " iteration 2300, train cost 1.9829, valid cost 2.1336\n",
      " iteration 2350, train cost 1.9756, valid cost 2.1269\n",
      " iteration 2400, train cost 1.9701, valid cost 2.1229\n",
      " iteration 2450, train cost 1.9637, valid cost 2.1181\n",
      " iteration 2500, train cost 1.9585, valid cost 2.1138\n",
      " iteration 2550, train cost 1.9519, valid cost 2.1100\n",
      " iteration 2600, train cost 1.9481, valid cost 2.1053\n",
      " iteration 2650, train cost 1.9433, valid cost 2.1000\n",
      " iteration 2700, train cost 1.9364, valid cost 2.0965\n",
      " iteration 2750, train cost 1.9275, valid cost 2.0910\n",
      " iteration 2800, train cost 1.9193, valid cost 2.0849\n",
      " iteration 2850, train cost 1.9175, valid cost 2.0809\n",
      " iteration 2900, train cost 1.9109, valid cost 2.0753\n",
      " iteration 2950, train cost 1.9033, valid cost 2.0686\n",
      " iteration 3000, train cost 1.8977, valid cost 2.0637\n",
      " iteration 3050, train cost 1.8905, valid cost 2.0589\n",
      " iteration 3100, train cost 1.8835, valid cost 2.0551\n",
      " iteration 3150, train cost 1.8813, valid cost 2.0517\n",
      " iteration 3200, train cost 1.8761, valid cost 2.0482\n",
      " iteration 3250, train cost 1.8695, valid cost 2.0437\n",
      " iteration 3300, train cost 1.8677, valid cost 2.0399\n",
      " iteration 3350, train cost 1.8620, valid cost 2.0355\n",
      " iteration 3400, train cost 1.8572, valid cost 2.0326\n",
      " iteration 3450, train cost 1.8544, valid cost 2.0281\n",
      " iteration 3500, train cost 1.8495, valid cost 2.0241\n",
      " iteration 3550, train cost 1.8454, valid cost 2.0228\n",
      " iteration 3600, train cost 1.8412, valid cost 2.0193\n",
      " iteration 3650, train cost 1.8370, valid cost 2.0151\n",
      " iteration 3700, train cost 1.8346, valid cost 2.0134\n",
      " iteration 3750, train cost 1.8298, valid cost 2.0105\n",
      " iteration 3800, train cost 1.8254, valid cost 2.0078\n",
      " iteration 3850, train cost 1.8231, valid cost 2.0052\n",
      " iteration 3900, train cost 1.8242, valid cost 2.0056\n",
      " iteration 3950, train cost 1.8161, valid cost 1.9977\n"
     ]
    },
    {
     "data": {
      "text/html": [
       "<br/>Waiting for W&B process to finish, PID 197300<br/>Program ended successfully."
      ],
      "text/plain": [
       "<IPython.core.display.HTML object>"
      ]
     },
     "metadata": {},
     "output_type": "display_data"
    },
    {
     "name": "stderr",
     "output_type": "stream",
     "text": [
      "Widget Javascript not detected.  It may not be installed or enabled properly.\n"
     ]
    },
    {
     "data": {
      "application/vnd.jupyter.widget-view+json": {
       "model_id": "70a8a20e8b704222a1dc82f159287338"
      }
     },
     "metadata": {},
     "output_type": "display_data"
    },
    {
     "data": {
      "text/html": [
       "Find user logs for this run at: <code>/home/sazeglio/NMAs/src/wandb/run-20210815_081232-gbnx4k3e/logs/debug.log</code>"
      ],
      "text/plain": [
       "<IPython.core.display.HTML object>"
      ]
     },
     "metadata": {},
     "output_type": "display_data"
    },
    {
     "data": {
      "text/html": [
       "Find internal logs for this run at: <code>/home/sazeglio/NMAs/src/wandb/run-20210815_081232-gbnx4k3e/logs/debug-internal.log</code>"
      ],
      "text/plain": [
       "<IPython.core.display.HTML object>"
      ]
     },
     "metadata": {},
     "output_type": "display_data"
    },
    {
     "data": {
      "text/html": [
       "<h3>Run summary:</h3><br/><style>\n",
       "    table.wandb td:nth-child(1) { padding: 0 10px; text-align: right }\n",
       "    </style><table class=\"wandb\">\n",
       "<tr><td>train_loss</td><td>1.81246</td></tr><tr><td>valid_loss</td><td>1.99584</td></tr><tr><td>epoch</td><td>3999</td></tr><tr><td>_runtime</td><td>1240</td></tr><tr><td>_timestamp</td><td>1629009192</td></tr><tr><td>_step</td><td>3999</td></tr></table>"
      ],
      "text/plain": [
       "<IPython.core.display.HTML object>"
      ]
     },
     "metadata": {},
     "output_type": "display_data"
    },
    {
     "data": {
      "text/html": [
       "<h3>Run history:</h3><br/><style>\n",
       "    table.wandb td:nth-child(1) { padding: 0 10px; text-align: right }\n",
       "    </style><table class=\"wandb\">\n",
       "<tr><td>train_loss</td><td>█▇▇▆▅▅▄▄▄▃▃▃▃▃▂▂▂▂▂▂▂▂▂▂▂▂▂▁▁▁▁▁▁▁▁▁▁▁▁▁</td></tr><tr><td>valid_loss</td><td>█▇▇▆▅▅▄▄▃▃▃▃▃▂▂▂▂▂▂▂▂▂▂▂▂▂▁▁▁▁▁▁▁▁▁▁▁▁▁▁</td></tr><tr><td>epoch</td><td>▁▁▁▂▂▂▂▂▂▃▃▃▃▃▄▄▄▄▄▄▅▅▅▅▅▅▆▆▆▆▆▇▇▇▇▇▇███</td></tr><tr><td>_runtime</td><td>▁▁▁▂▂▂▂▂▂▃▃▃▃▃▄▄▄▄▄▄▅▅▅▅▅▅▆▆▆▆▆▇▇▇▇▇▇███</td></tr><tr><td>_timestamp</td><td>▁▁▁▂▂▂▂▂▂▃▃▃▃▃▄▄▄▄▄▄▅▅▅▅▅▅▆▆▆▆▆▇▇▇▇▇▇███</td></tr><tr><td>_step</td><td>▁▁▁▂▂▂▂▂▂▃▃▃▃▃▄▄▄▄▄▄▅▅▅▅▅▅▆▆▆▆▆▇▇▇▇▇▇███</td></tr></table><br/>"
      ],
      "text/plain": [
       "<IPython.core.display.HTML object>"
      ]
     },
     "metadata": {},
     "output_type": "display_data"
    },
    {
     "data": {
      "text/html": [
       "Synced 5 W&B file(s), 0 media file(s), 0 artifact file(s) and 0 other file(s)"
      ],
      "text/plain": [
       "<IPython.core.display.HTML object>"
      ]
     },
     "metadata": {},
     "output_type": "display_data"
    },
    {
     "data": {
      "text/html": [
       "\n",
       "                    <br/>Synced <strong style=\"color:#cdcd00\">olive-sweep-20</strong>: <a href=\"https://wandb.ai/sazio/NMAs-Full-Signals/runs/gbnx4k3e\" target=\"_blank\">https://wandb.ai/sazio/NMAs-Full-Signals/runs/gbnx4k3e</a><br/>\n",
       "                "
      ],
      "text/plain": [
       "<IPython.core.display.HTML object>"
      ]
     },
     "metadata": {},
     "output_type": "display_data"
    },
    {
     "name": "stderr",
     "output_type": "stream",
     "text": [
      "wandb: Agent Starting Run: vhuq027w with config:\n",
      "wandb: \tdropout: 0.2\n",
      "wandb: \tepochs: 4000\n",
      "wandb: \tlearning_rate: 0.0006070141369881178\n",
      "wandb: \tn_comp: 200\n",
      "wandb: \tnum_layers: 1\n",
      "wandb: \toptimizer: adam\n",
      "wandb: \tweight_decay: 0\n",
      "Failed to detect the name of this notebook, you can set it manually with the WANDB_NOTEBOOK_NAME environment variable to enable code saving.\n"
     ]
    },
    {
     "data": {
      "text/html": [
       "\n",
       "                Tracking run with wandb version 0.12.0<br/>\n",
       "                Syncing run <strong style=\"color:#cdcd00\">worthy-sweep-21</strong> to <a href=\"https://wandb.ai\" target=\"_blank\">Weights & Biases</a> <a href=\"https://docs.wandb.com/integrations/jupyter.html\" target=\"_blank\">(Documentation)</a>.<br/>\n",
       "                Project page: <a href=\"https://wandb.ai/sazio/NMAs-Full-Signals\" target=\"_blank\">https://wandb.ai/sazio/NMAs-Full-Signals</a><br/>\n",
       "                Sweep page: <a href=\"https://wandb.ai/sazio/NMAs-Full-Signals/sweeps/cbewt4f6\" target=\"_blank\">https://wandb.ai/sazio/NMAs-Full-Signals/sweeps/cbewt4f6</a><br/>\n",
       "Run page: <a href=\"https://wandb.ai/sazio/NMAs-Full-Signals/runs/vhuq027w\" target=\"_blank\">https://wandb.ai/sazio/NMAs-Full-Signals/runs/vhuq027w</a><br/>\n",
       "                Run data is saved locally in <code>/home/sazeglio/NMAs/src/wandb/run-20210815_083316-vhuq027w</code><br/><br/>\n",
       "            "
      ],
      "text/plain": [
       "<IPython.core.display.HTML object>"
      ]
     },
     "metadata": {},
     "output_type": "display_data"
    },
    {
     "name": "stdout",
     "output_type": "stream",
     "text": [
      " iteration 0, train cost 4.9299, valid cost 5.0255\n",
      " iteration 50, train cost 3.3038, valid cost 3.3811\n",
      " iteration 100, train cost 3.2802, valid cost 3.3614\n",
      " iteration 150, train cost 3.2733, valid cost 3.3565\n",
      " iteration 200, train cost 3.2540, valid cost 3.3334\n",
      " iteration 250, train cost 3.1917, valid cost 3.2577\n",
      " iteration 300, train cost 3.1428, valid cost 3.2039\n",
      " iteration 350, train cost 3.0448, valid cost 3.1142\n",
      " iteration 400, train cost 2.9794, valid cost 3.0474\n",
      " iteration 450, train cost 2.9391, valid cost 3.0090\n",
      " iteration 500, train cost 2.9026, valid cost 2.9808\n",
      " iteration 550, train cost 2.8641, valid cost 2.9490\n",
      " iteration 600, train cost 2.8235, valid cost 2.9103\n",
      " iteration 650, train cost 2.7727, valid cost 2.8647\n",
      " iteration 700, train cost 2.7291, valid cost 2.8259\n",
      " iteration 750, train cost 2.6893, valid cost 2.7928\n",
      " iteration 800, train cost 2.6534, valid cost 2.7622\n",
      " iteration 850, train cost 2.6168, valid cost 2.7313\n",
      " iteration 900, train cost 2.5838, valid cost 2.7049\n",
      " iteration 950, train cost 2.5557, valid cost 2.6823\n",
      " iteration 1000, train cost 2.5276, valid cost 2.6599\n",
      " iteration 1050, train cost 2.5007, valid cost 2.6368\n",
      " iteration 1100, train cost 2.4746, valid cost 2.6151\n",
      " iteration 1150, train cost 2.4481, valid cost 2.5912\n",
      " iteration 1200, train cost 2.4231, valid cost 2.5677\n",
      " iteration 1250, train cost 2.3982, valid cost 2.5461\n",
      " iteration 1300, train cost 2.3757, valid cost 2.5265\n",
      " iteration 1350, train cost 2.3548, valid cost 2.5070\n",
      " iteration 1400, train cost 2.3312, valid cost 2.4866\n",
      " iteration 1450, train cost 2.3103, valid cost 2.4686\n",
      " iteration 1500, train cost 2.2898, valid cost 2.4483\n",
      " iteration 1550, train cost 2.2703, valid cost 2.4299\n",
      " iteration 1600, train cost 2.2486, valid cost 2.4127\n",
      " iteration 1650, train cost 2.2315, valid cost 2.3965\n",
      " iteration 1700, train cost 2.2122, valid cost 2.3815\n",
      " iteration 1750, train cost 2.1948, valid cost 2.3677\n",
      " iteration 1800, train cost 2.1799, valid cost 2.3540\n",
      " iteration 1850, train cost 2.1645, valid cost 2.3400\n",
      " iteration 1900, train cost 2.1491, valid cost 2.3284\n",
      " iteration 1950, train cost 2.1339, valid cost 2.3172\n",
      " iteration 2000, train cost 2.1217, valid cost 2.3072\n",
      " iteration 2050, train cost 2.1080, valid cost 2.2978\n",
      " iteration 2100, train cost 2.0954, valid cost 2.2890\n",
      " iteration 2150, train cost 2.0842, valid cost 2.2809\n",
      " iteration 2200, train cost 2.0714, valid cost 2.2717\n",
      " iteration 2250, train cost 2.0606, valid cost 2.2649\n",
      " iteration 2300, train cost 2.0515, valid cost 2.2574\n",
      " iteration 2350, train cost 2.0413, valid cost 2.2496\n",
      " iteration 2400, train cost 2.0299, valid cost 2.2433\n",
      " iteration 2450, train cost 2.0206, valid cost 2.2353\n",
      " iteration 2500, train cost 2.0114, valid cost 2.2283\n",
      " iteration 2550, train cost 2.0036, valid cost 2.2226\n",
      " iteration 2600, train cost 1.9948, valid cost 2.2160\n",
      " iteration 2650, train cost 1.9859, valid cost 2.2092\n",
      " iteration 2700, train cost 1.9785, valid cost 2.2041\n",
      " iteration 2750, train cost 1.9722, valid cost 2.1992\n",
      " iteration 2800, train cost 1.9624, valid cost 2.1935\n",
      " iteration 2850, train cost 1.9547, valid cost 2.1886\n",
      " iteration 2900, train cost 1.9491, valid cost 2.1849\n",
      " iteration 2950, train cost 1.9427, valid cost 2.1799\n",
      " iteration 3000, train cost 1.9351, valid cost 2.1773\n",
      " iteration 3050, train cost 1.9302, valid cost 2.1712\n",
      " iteration 3100, train cost 1.9223, valid cost 2.1676\n",
      " iteration 3150, train cost 1.9165, valid cost 2.1637\n",
      " iteration 3200, train cost 1.9116, valid cost 2.1602\n",
      " iteration 3250, train cost 1.9063, valid cost 2.1568\n",
      " iteration 3300, train cost 1.9006, valid cost 2.1525\n",
      " iteration 3350, train cost 1.8959, valid cost 2.1499\n",
      " iteration 3400, train cost 1.8908, valid cost 2.1474\n",
      " iteration 3450, train cost 1.8859, valid cost 2.1446\n",
      " iteration 3500, train cost 1.8807, valid cost 2.1411\n",
      " iteration 3550, train cost 1.8801, valid cost 2.1401\n",
      " iteration 3600, train cost 1.8724, valid cost 2.1368\n",
      " iteration 3650, train cost 1.8700, valid cost 2.1347\n",
      " iteration 3700, train cost 1.8652, valid cost 2.1312\n",
      " iteration 3750, train cost 1.8588, valid cost 2.1285\n",
      " iteration 3800, train cost 1.8568, valid cost 2.1264\n",
      " iteration 3850, train cost 1.8526, valid cost 2.1239\n",
      " iteration 3900, train cost 1.8480, valid cost 2.1209\n",
      " iteration 3950, train cost 1.8442, valid cost 2.1191\n"
     ]
    },
    {
     "data": {
      "text/html": [
       "<br/>Waiting for W&B process to finish, PID 197506<br/>Program ended successfully."
      ],
      "text/plain": [
       "<IPython.core.display.HTML object>"
      ]
     },
     "metadata": {},
     "output_type": "display_data"
    },
    {
     "name": "stderr",
     "output_type": "stream",
     "text": [
      "Widget Javascript not detected.  It may not be installed or enabled properly.\n"
     ]
    },
    {
     "data": {
      "application/vnd.jupyter.widget-view+json": {
       "model_id": "97182482bc314a0db70d8b219fda03e9"
      }
     },
     "metadata": {},
     "output_type": "display_data"
    },
    {
     "data": {
      "text/html": [
       "Find user logs for this run at: <code>/home/sazeglio/NMAs/src/wandb/run-20210815_083316-vhuq027w/logs/debug.log</code>"
      ],
      "text/plain": [
       "<IPython.core.display.HTML object>"
      ]
     },
     "metadata": {},
     "output_type": "display_data"
    },
    {
     "data": {
      "text/html": [
       "Find internal logs for this run at: <code>/home/sazeglio/NMAs/src/wandb/run-20210815_083316-vhuq027w/logs/debug-internal.log</code>"
      ],
      "text/plain": [
       "<IPython.core.display.HTML object>"
      ]
     },
     "metadata": {},
     "output_type": "display_data"
    },
    {
     "data": {
      "text/html": [
       "<h3>Run summary:</h3><br/><style>\n",
       "    table.wandb td:nth-child(1) { padding: 0 10px; text-align: right }\n",
       "    </style><table class=\"wandb\">\n",
       "<tr><td>train_loss</td><td>1.84142</td></tr><tr><td>valid_loss</td><td>2.11708</td></tr><tr><td>epoch</td><td>3999</td></tr><tr><td>_runtime</td><td>1238</td></tr><tr><td>_timestamp</td><td>1629010434</td></tr><tr><td>_step</td><td>3999</td></tr></table>"
      ],
      "text/plain": [
       "<IPython.core.display.HTML object>"
      ]
     },
     "metadata": {},
     "output_type": "display_data"
    },
    {
     "data": {
      "text/html": [
       "<h3>Run history:</h3><br/><style>\n",
       "    table.wandb td:nth-child(1) { padding: 0 10px; text-align: right }\n",
       "    </style><table class=\"wandb\">\n",
       "<tr><td>train_loss</td><td>█▇▇▇▆▆▅▅▄▄▄▄▃▃▃▃▃▃▂▂▂▂▂▂▂▂▂▂▁▁▁▁▁▁▁▁▁▁▁▁</td></tr><tr><td>valid_loss</td><td>█▇▇▆▆▅▅▄▄▄▄▃▃▃▃▃▂▂▂▂▂▂▂▂▂▂▁▁▁▁▁▁▁▁▁▁▁▁▁▁</td></tr><tr><td>epoch</td><td>▁▁▁▂▂▂▂▂▂▃▃▃▃▃▄▄▄▄▄▄▅▅▅▅▅▅▆▆▆▆▆▇▇▇▇▇▇███</td></tr><tr><td>_runtime</td><td>▁▁▁▂▂▂▂▂▂▃▃▃▃▃▄▄▄▄▄▄▅▅▅▅▅▅▆▆▆▆▆▇▇▇▇▇▇███</td></tr><tr><td>_timestamp</td><td>▁▁▁▂▂▂▂▂▂▃▃▃▃▃▄▄▄▄▄▄▅▅▅▅▅▅▆▆▆▆▆▇▇▇▇▇▇███</td></tr><tr><td>_step</td><td>▁▁▁▂▂▂▂▂▂▃▃▃▃▃▄▄▄▄▄▄▅▅▅▅▅▅▆▆▆▆▆▇▇▇▇▇▇███</td></tr></table><br/>"
      ],
      "text/plain": [
       "<IPython.core.display.HTML object>"
      ]
     },
     "metadata": {},
     "output_type": "display_data"
    },
    {
     "data": {
      "text/html": [
       "Synced 5 W&B file(s), 0 media file(s), 0 artifact file(s) and 0 other file(s)"
      ],
      "text/plain": [
       "<IPython.core.display.HTML object>"
      ]
     },
     "metadata": {},
     "output_type": "display_data"
    },
    {
     "data": {
      "text/html": [
       "\n",
       "                    <br/>Synced <strong style=\"color:#cdcd00\">worthy-sweep-21</strong>: <a href=\"https://wandb.ai/sazio/NMAs-Full-Signals/runs/vhuq027w\" target=\"_blank\">https://wandb.ai/sazio/NMAs-Full-Signals/runs/vhuq027w</a><br/>\n",
       "                "
      ],
      "text/plain": [
       "<IPython.core.display.HTML object>"
      ]
     },
     "metadata": {},
     "output_type": "display_data"
    },
    {
     "name": "stderr",
     "output_type": "stream",
     "text": [
      "wandb: Agent Starting Run: cs2dpwoc with config:\n",
      "wandb: \tdropout: 0.2\n",
      "wandb: \tepochs: 4000\n",
      "wandb: \tlearning_rate: 0.0001513073212798232\n",
      "wandb: \tn_comp: 200\n",
      "wandb: \tnum_layers: 1\n",
      "wandb: \toptimizer: adam\n",
      "wandb: \tweight_decay: 5e-05\n",
      "Failed to detect the name of this notebook, you can set it manually with the WANDB_NOTEBOOK_NAME environment variable to enable code saving.\n"
     ]
    },
    {
     "data": {
      "text/html": [
       "\n",
       "                Tracking run with wandb version 0.12.0<br/>\n",
       "                Syncing run <strong style=\"color:#cdcd00\">floral-sweep-22</strong> to <a href=\"https://wandb.ai\" target=\"_blank\">Weights & Biases</a> <a href=\"https://docs.wandb.com/integrations/jupyter.html\" target=\"_blank\">(Documentation)</a>.<br/>\n",
       "                Project page: <a href=\"https://wandb.ai/sazio/NMAs-Full-Signals\" target=\"_blank\">https://wandb.ai/sazio/NMAs-Full-Signals</a><br/>\n",
       "                Sweep page: <a href=\"https://wandb.ai/sazio/NMAs-Full-Signals/sweeps/cbewt4f6\" target=\"_blank\">https://wandb.ai/sazio/NMAs-Full-Signals/sweeps/cbewt4f6</a><br/>\n",
       "Run page: <a href=\"https://wandb.ai/sazio/NMAs-Full-Signals/runs/cs2dpwoc\" target=\"_blank\">https://wandb.ai/sazio/NMAs-Full-Signals/runs/cs2dpwoc</a><br/>\n",
       "                Run data is saved locally in <code>/home/sazeglio/NMAs/src/wandb/run-20210815_085359-cs2dpwoc</code><br/><br/>\n",
       "            "
      ],
      "text/plain": [
       "<IPython.core.display.HTML object>"
      ]
     },
     "metadata": {},
     "output_type": "display_data"
    },
    {
     "name": "stdout",
     "output_type": "stream",
     "text": [
      " iteration 0, train cost 4.9339, valid cost 5.0356\n",
      " iteration 50, train cost 4.0321, valid cost 4.0769\n",
      " iteration 100, train cost 3.3621, valid cost 3.4312\n",
      " iteration 150, train cost 3.2945, valid cost 3.3678\n",
      " iteration 200, train cost 3.2839, valid cost 3.3594\n",
      " iteration 250, train cost 3.2780, valid cost 3.3554\n",
      " iteration 300, train cost 3.2709, valid cost 3.3497\n",
      " iteration 350, train cost 3.2597, valid cost 3.3385\n",
      " iteration 400, train cost 3.2374, valid cost 3.3136\n",
      " iteration 450, train cost 3.1953, valid cost 3.2672\n",
      " iteration 500, train cost 3.1432, valid cost 3.2102\n",
      " iteration 550, train cost 3.0941, valid cost 3.1571\n",
      " iteration 600, train cost 3.0533, valid cost 3.1144\n",
      " iteration 650, train cost 3.0122, valid cost 3.0727\n",
      " iteration 700, train cost 2.9695, valid cost 3.0281\n",
      " iteration 750, train cost 2.9261, valid cost 2.9839\n",
      " iteration 800, train cost 2.8884, valid cost 2.9464\n",
      " iteration 850, train cost 2.8561, valid cost 2.9158\n",
      " iteration 900, train cost 2.8260, valid cost 2.8885\n",
      " iteration 950, train cost 2.7971, valid cost 2.8613\n",
      " iteration 1000, train cost 2.7657, valid cost 2.8332\n",
      " iteration 1050, train cost 2.7353, valid cost 2.8048\n",
      " iteration 1100, train cost 2.7048, valid cost 2.7779\n",
      " iteration 1150, train cost 2.6767, valid cost 2.7525\n",
      " iteration 1200, train cost 2.6497, valid cost 2.7275\n",
      " iteration 1250, train cost 2.6227, valid cost 2.7021\n",
      " iteration 1300, train cost 2.5976, valid cost 2.6785\n",
      " iteration 1350, train cost 2.5749, valid cost 2.6569\n",
      " iteration 1400, train cost 2.5533, valid cost 2.6376\n",
      " iteration 1450, train cost 2.5336, valid cost 2.6190\n",
      " iteration 1500, train cost 2.5154, valid cost 2.6021\n",
      " iteration 1550, train cost 2.4982, valid cost 2.5864\n",
      " iteration 1600, train cost 2.4838, valid cost 2.5724\n",
      " iteration 1650, train cost 2.4683, valid cost 2.5586\n",
      " iteration 1700, train cost 2.4537, valid cost 2.5455\n",
      " iteration 1750, train cost 2.4398, valid cost 2.5321\n",
      " iteration 1800, train cost 2.4256, valid cost 2.5194\n",
      " iteration 1850, train cost 2.4127, valid cost 2.5071\n",
      " iteration 1900, train cost 2.3991, valid cost 2.4951\n",
      " iteration 1950, train cost 2.3878, valid cost 2.4835\n",
      " iteration 2000, train cost 2.3756, valid cost 2.4723\n",
      " iteration 2050, train cost 2.3657, valid cost 2.4607\n",
      " iteration 2100, train cost 2.3537, valid cost 2.4500\n",
      " iteration 2150, train cost 2.3431, valid cost 2.4396\n",
      " iteration 2200, train cost 2.3353, valid cost 2.4298\n",
      " iteration 2250, train cost 2.3257, valid cost 2.4211\n",
      " iteration 2300, train cost 2.3174, valid cost 2.4125\n",
      " iteration 2350, train cost 2.3083, valid cost 2.4041\n",
      " iteration 2400, train cost 2.3004, valid cost 2.3961\n",
      " iteration 2450, train cost 2.2911, valid cost 2.3880\n",
      " iteration 2500, train cost 2.2828, valid cost 2.3799\n",
      " iteration 2550, train cost 2.2757, valid cost 2.3727\n",
      " iteration 2600, train cost 2.2687, valid cost 2.3660\n",
      " iteration 2650, train cost 2.2635, valid cost 2.3595\n",
      " iteration 2700, train cost 2.2555, valid cost 2.3532\n",
      " iteration 2750, train cost 2.2490, valid cost 2.3465\n",
      " iteration 2800, train cost 2.2433, valid cost 2.3396\n",
      " iteration 2850, train cost 2.2352, valid cost 2.3328\n",
      " iteration 2900, train cost 2.2290, valid cost 2.3261\n",
      " iteration 2950, train cost 2.2233, valid cost 2.3194\n",
      " iteration 3000, train cost 2.2151, valid cost 2.3134\n",
      " iteration 3050, train cost 2.2101, valid cost 2.3071\n",
      " iteration 3100, train cost 2.2027, valid cost 2.3018\n",
      " iteration 3150, train cost 2.1975, valid cost 2.2953\n",
      " iteration 3200, train cost 2.1925, valid cost 2.2905\n",
      " iteration 3250, train cost 2.1861, valid cost 2.2855\n",
      " iteration 3300, train cost 2.1805, valid cost 2.2805\n",
      " iteration 3350, train cost 2.1766, valid cost 2.2757\n",
      " iteration 3400, train cost 2.1693, valid cost 2.2718\n",
      " iteration 3450, train cost 2.1653, valid cost 2.2670\n",
      " iteration 3500, train cost 2.1595, valid cost 2.2626\n",
      " iteration 3550, train cost 2.1539, valid cost 2.2583\n",
      " iteration 3600, train cost 2.1507, valid cost 2.2538\n",
      " iteration 3650, train cost 2.1430, valid cost 2.2500\n",
      " iteration 3700, train cost 2.1408, valid cost 2.2461\n",
      " iteration 3750, train cost 2.1357, valid cost 2.2421\n",
      " iteration 3800, train cost 2.1313, valid cost 2.2383\n",
      " iteration 3850, train cost 2.1272, valid cost 2.2345\n",
      " iteration 3900, train cost 2.1222, valid cost 2.2317\n",
      " iteration 3950, train cost 2.1200, valid cost 2.2277\n"
     ]
    },
    {
     "data": {
      "text/html": [
       "<br/>Waiting for W&B process to finish, PID 197825<br/>Program ended successfully."
      ],
      "text/plain": [
       "<IPython.core.display.HTML object>"
      ]
     },
     "metadata": {},
     "output_type": "display_data"
    },
    {
     "name": "stderr",
     "output_type": "stream",
     "text": [
      "Widget Javascript not detected.  It may not be installed or enabled properly.\n"
     ]
    },
    {
     "data": {
      "application/vnd.jupyter.widget-view+json": {
       "model_id": "064fce36e6014136be54fd5e7443f461"
      }
     },
     "metadata": {},
     "output_type": "display_data"
    },
    {
     "data": {
      "text/html": [
       "Find user logs for this run at: <code>/home/sazeglio/NMAs/src/wandb/run-20210815_085359-cs2dpwoc/logs/debug.log</code>"
      ],
      "text/plain": [
       "<IPython.core.display.HTML object>"
      ]
     },
     "metadata": {},
     "output_type": "display_data"
    },
    {
     "data": {
      "text/html": [
       "Find internal logs for this run at: <code>/home/sazeglio/NMAs/src/wandb/run-20210815_085359-cs2dpwoc/logs/debug-internal.log</code>"
      ],
      "text/plain": [
       "<IPython.core.display.HTML object>"
      ]
     },
     "metadata": {},
     "output_type": "display_data"
    },
    {
     "data": {
      "text/html": [
       "<h3>Run summary:</h3><br/><style>\n",
       "    table.wandb td:nth-child(1) { padding: 0 10px; text-align: right }\n",
       "    </style><table class=\"wandb\">\n",
       "<tr><td>train_loss</td><td>2.11524</td></tr><tr><td>valid_loss</td><td>2.22567</td></tr><tr><td>epoch</td><td>3999</td></tr><tr><td>_runtime</td><td>1240</td></tr><tr><td>_timestamp</td><td>1629011679</td></tr><tr><td>_step</td><td>3999</td></tr></table>"
      ],
      "text/plain": [
       "<IPython.core.display.HTML object>"
      ]
     },
     "metadata": {},
     "output_type": "display_data"
    },
    {
     "data": {
      "text/html": [
       "<h3>Run history:</h3><br/><style>\n",
       "    table.wandb td:nth-child(1) { padding: 0 10px; text-align: right }\n",
       "    </style><table class=\"wandb\">\n",
       "<tr><td>train_loss</td><td>█▄▄▄▄▄▃▃▃▃▃▃▂▂▂▂▂▂▂▂▂▂▂▂▁▁▁▁▁▁▁▁▁▁▁▁▁▁▁▁</td></tr><tr><td>valid_loss</td><td>█▄▄▄▄▄▃▃▃▃▃▃▂▂▂▂▂▂▂▂▂▂▂▁▁▁▁▁▁▁▁▁▁▁▁▁▁▁▁▁</td></tr><tr><td>epoch</td><td>▁▁▁▂▂▂▂▂▂▃▃▃▃▃▄▄▄▄▄▄▅▅▅▅▅▅▆▆▆▆▆▇▇▇▇▇▇███</td></tr><tr><td>_runtime</td><td>▁▁▁▂▂▂▂▂▂▃▃▃▃▃▄▄▄▄▄▄▅▅▅▅▅▅▆▆▆▆▆▇▇▇▇▇▇███</td></tr><tr><td>_timestamp</td><td>▁▁▁▂▂▂▂▂▂▃▃▃▃▃▄▄▄▄▄▄▅▅▅▅▅▅▆▆▆▆▆▇▇▇▇▇▇███</td></tr><tr><td>_step</td><td>▁▁▁▂▂▂▂▂▂▃▃▃▃▃▄▄▄▄▄▄▅▅▅▅▅▅▆▆▆▆▆▇▇▇▇▇▇███</td></tr></table><br/>"
      ],
      "text/plain": [
       "<IPython.core.display.HTML object>"
      ]
     },
     "metadata": {},
     "output_type": "display_data"
    },
    {
     "data": {
      "text/html": [
       "Synced 5 W&B file(s), 0 media file(s), 0 artifact file(s) and 0 other file(s)"
      ],
      "text/plain": [
       "<IPython.core.display.HTML object>"
      ]
     },
     "metadata": {},
     "output_type": "display_data"
    },
    {
     "data": {
      "text/html": [
       "\n",
       "                    <br/>Synced <strong style=\"color:#cdcd00\">floral-sweep-22</strong>: <a href=\"https://wandb.ai/sazio/NMAs-Full-Signals/runs/cs2dpwoc\" target=\"_blank\">https://wandb.ai/sazio/NMAs-Full-Signals/runs/cs2dpwoc</a><br/>\n",
       "                "
      ],
      "text/plain": [
       "<IPython.core.display.HTML object>"
      ]
     },
     "metadata": {},
     "output_type": "display_data"
    },
    {
     "name": "stderr",
     "output_type": "stream",
     "text": [
      "wandb: Agent Starting Run: v7spqkvp with config:\n",
      "wandb: \tdropout: 0.5\n",
      "wandb: \tepochs: 4000\n",
      "wandb: \tlearning_rate: 0.0034307820630174388\n",
      "wandb: \tn_comp: 500\n",
      "wandb: \tnum_layers: 1\n",
      "wandb: \toptimizer: adam\n",
      "wandb: \tweight_decay: 5e-05\n",
      "Failed to detect the name of this notebook, you can set it manually with the WANDB_NOTEBOOK_NAME environment variable to enable code saving.\n"
     ]
    },
    {
     "data": {
      "text/html": [
       "\n",
       "                Tracking run with wandb version 0.12.0<br/>\n",
       "                Syncing run <strong style=\"color:#cdcd00\">summer-sweep-23</strong> to <a href=\"https://wandb.ai\" target=\"_blank\">Weights & Biases</a> <a href=\"https://docs.wandb.com/integrations/jupyter.html\" target=\"_blank\">(Documentation)</a>.<br/>\n",
       "                Project page: <a href=\"https://wandb.ai/sazio/NMAs-Full-Signals\" target=\"_blank\">https://wandb.ai/sazio/NMAs-Full-Signals</a><br/>\n",
       "                Sweep page: <a href=\"https://wandb.ai/sazio/NMAs-Full-Signals/sweeps/cbewt4f6\" target=\"_blank\">https://wandb.ai/sazio/NMAs-Full-Signals/sweeps/cbewt4f6</a><br/>\n",
       "Run page: <a href=\"https://wandb.ai/sazio/NMAs-Full-Signals/runs/v7spqkvp\" target=\"_blank\">https://wandb.ai/sazio/NMAs-Full-Signals/runs/v7spqkvp</a><br/>\n",
       "                Run data is saved locally in <code>/home/sazeglio/NMAs/src/wandb/run-20210815_091443-v7spqkvp</code><br/><br/>\n",
       "            "
      ],
      "text/plain": [
       "<IPython.core.display.HTML object>"
      ]
     },
     "metadata": {},
     "output_type": "display_data"
    },
    {
     "name": "stdout",
     "output_type": "stream",
     "text": [
      " iteration 0, train cost 4.9340, valid cost 4.9949\n",
      " iteration 50, train cost 3.2704, valid cost 3.3563\n",
      " iteration 100, train cost 3.1329, valid cost 3.2025\n",
      " iteration 150, train cost 3.0220, valid cost 3.0809\n",
      " iteration 200, train cost 2.9226, valid cost 2.9869\n",
      " iteration 250, train cost 2.8255, valid cost 2.9040\n",
      " iteration 300, train cost 2.7461, valid cost 2.8405\n",
      " iteration 350, train cost 2.6916, valid cost 2.7877\n",
      " iteration 400, train cost 2.7260, valid cost 2.8223\n",
      " iteration 450, train cost 2.5862, valid cost 2.7149\n",
      " iteration 500, train cost 2.5303, valid cost 2.6789\n",
      " iteration 550, train cost 2.4855, valid cost 2.6525\n",
      " iteration 600, train cost 2.4567, valid cost 2.6162\n",
      " iteration 650, train cost 2.4237, valid cost 2.5980\n",
      " iteration 700, train cost 2.3710, valid cost 2.5548\n",
      " iteration 750, train cost 2.3353, valid cost 2.5275\n",
      " iteration 800, train cost 2.3089, valid cost 2.5041\n",
      " iteration 850, train cost 2.2823, valid cost 2.4820\n",
      " iteration 900, train cost 2.4574, valid cost 2.6145\n",
      " iteration 950, train cost 2.2494, valid cost 2.4465\n",
      " iteration 1000, train cost 2.2176, valid cost 2.4210\n",
      " iteration 1050, train cost 2.2014, valid cost 2.4072\n",
      " iteration 1100, train cost 2.1809, valid cost 2.3914\n",
      " iteration 1150, train cost 2.1557, valid cost 2.3682\n",
      " iteration 1200, train cost 2.1488, valid cost 2.3544\n",
      " iteration 1250, train cost 2.2429, valid cost 2.4105\n",
      " iteration 1300, train cost 2.1554, valid cost 2.3513\n",
      " iteration 1350, train cost 2.1243, valid cost 2.3307\n",
      " iteration 1400, train cost 2.1110, valid cost 2.3179\n",
      " iteration 1450, train cost 2.1028, valid cost 2.3131\n",
      " iteration 1500, train cost 2.0795, valid cost 2.2958\n",
      " iteration 1550, train cost 2.0595, valid cost 2.2806\n",
      " iteration 1600, train cost 2.0550, valid cost 2.2740\n",
      " iteration 1650, train cost 2.0438, valid cost 2.2609\n",
      " iteration 1700, train cost 2.0392, valid cost 2.2585\n",
      " iteration 1750, train cost 2.0742, valid cost 2.2860\n",
      " iteration 1800, train cost 2.0297, valid cost 2.2417\n",
      " iteration 1850, train cost 2.2378, valid cost 2.3743\n",
      " iteration 1900, train cost 2.0379, valid cost 2.2364\n",
      " iteration 1950, train cost 2.0143, valid cost 2.2196\n",
      " iteration 2000, train cost 2.0202, valid cost 2.2247\n",
      " iteration 2050, train cost 1.9946, valid cost 2.1999\n",
      " iteration 2100, train cost 1.9792, valid cost 2.1867\n",
      " iteration 2150, train cost 1.9777, valid cost 2.1853\n",
      " iteration 2200, train cost 1.9669, valid cost 2.1688\n",
      " iteration 2250, train cost 2.0270, valid cost 2.2130\n",
      " iteration 2300, train cost 1.9914, valid cost 2.1747\n",
      " iteration 2350, train cost 1.9457, valid cost 2.1477\n",
      " iteration 2400, train cost 1.9448, valid cost 2.1485\n",
      " iteration 2450, train cost 1.9366, valid cost 2.1346\n",
      " iteration 2500, train cost 1.9315, valid cost 2.1291\n",
      " iteration 2550, train cost 1.9252, valid cost 2.1222\n",
      " iteration 2600, train cost 1.9277, valid cost 2.1185\n",
      " iteration 2650, train cost 1.9221, valid cost 2.1161\n",
      " iteration 2700, train cost 1.9099, valid cost 2.1045\n",
      " iteration 2750, train cost 1.9136, valid cost 2.1019\n",
      " iteration 2800, train cost 1.9189, valid cost 2.1076\n",
      " iteration 2850, train cost 1.9034, valid cost 2.0964\n",
      " iteration 2900, train cost 1.9171, valid cost 2.1032\n",
      " iteration 2950, train cost 1.8994, valid cost 2.0941\n",
      " iteration 3000, train cost 1.8935, valid cost 2.0805\n",
      " iteration 3050, train cost 1.8925, valid cost 2.0771\n",
      " iteration 3100, train cost 1.8842, valid cost 2.0725\n",
      " iteration 3150, train cost 1.8848, valid cost 2.0693\n",
      " iteration 3200, train cost 1.8855, valid cost 2.0672\n",
      " iteration 3250, train cost 1.8769, valid cost 2.0593\n",
      " iteration 3300, train cost 1.8755, valid cost 2.0559\n",
      " iteration 3350, train cost 1.8785, valid cost 2.0570\n",
      " iteration 3400, train cost 1.8688, valid cost 2.0491\n",
      " iteration 3450, train cost 1.8739, valid cost 2.0525\n",
      " iteration 3500, train cost 1.8826, valid cost 2.0620\n",
      " iteration 3550, train cost 1.8599, valid cost 2.0401\n",
      " iteration 3600, train cost 1.8589, valid cost 2.0364\n",
      " iteration 3650, train cost 1.8551, valid cost 2.0345\n",
      " iteration 3700, train cost 1.8604, valid cost 2.0343\n",
      " iteration 3750, train cost 1.8573, valid cost 2.0336\n",
      " iteration 3800, train cost 1.9063, valid cost 2.0607\n",
      " iteration 3850, train cost 1.8517, valid cost 2.0249\n",
      " iteration 3900, train cost 1.8524, valid cost 2.0204\n",
      " iteration 3950, train cost 1.8590, valid cost 2.0207\n"
     ]
    },
    {
     "data": {
      "text/html": [
       "<br/>Waiting for W&B process to finish, PID 198096<br/>Program ended successfully."
      ],
      "text/plain": [
       "<IPython.core.display.HTML object>"
      ]
     },
     "metadata": {},
     "output_type": "display_data"
    },
    {
     "name": "stderr",
     "output_type": "stream",
     "text": [
      "Widget Javascript not detected.  It may not be installed or enabled properly.\n"
     ]
    },
    {
     "data": {
      "application/vnd.jupyter.widget-view+json": {
       "model_id": "9a89588adf594a81a8e852a52a7902eb"
      }
     },
     "metadata": {},
     "output_type": "display_data"
    },
    {
     "data": {
      "text/html": [
       "Find user logs for this run at: <code>/home/sazeglio/NMAs/src/wandb/run-20210815_091443-v7spqkvp/logs/debug.log</code>"
      ],
      "text/plain": [
       "<IPython.core.display.HTML object>"
      ]
     },
     "metadata": {},
     "output_type": "display_data"
    },
    {
     "data": {
      "text/html": [
       "Find internal logs for this run at: <code>/home/sazeglio/NMAs/src/wandb/run-20210815_091443-v7spqkvp/logs/debug-internal.log</code>"
      ],
      "text/plain": [
       "<IPython.core.display.HTML object>"
      ]
     },
     "metadata": {},
     "output_type": "display_data"
    },
    {
     "data": {
      "text/html": [
       "<h3>Run summary:</h3><br/><style>\n",
       "    table.wandb td:nth-child(1) { padding: 0 10px; text-align: right }\n",
       "    </style><table class=\"wandb\">\n",
       "<tr><td>train_loss</td><td>1.86148</td></tr><tr><td>valid_loss</td><td>2.01454</td></tr><tr><td>epoch</td><td>3999</td></tr><tr><td>_runtime</td><td>1234</td></tr><tr><td>_timestamp</td><td>1629012917</td></tr><tr><td>_step</td><td>3999</td></tr></table>"
      ],
      "text/plain": [
       "<IPython.core.display.HTML object>"
      ]
     },
     "metadata": {},
     "output_type": "display_data"
    },
    {
     "data": {
      "text/html": [
       "<h3>Run history:</h3><br/><style>\n",
       "    table.wandb td:nth-child(1) { padding: 0 10px; text-align: right }\n",
       "    </style><table class=\"wandb\">\n",
       "<tr><td>train_loss</td><td>█▇▆▅▅▄▄▃▃▃▃▃▃▂▂▂▂▂▃▂▂▂▂▁▁▁▁▁▁▁▁▁▁▁▁▁▁▁▁▁</td></tr><tr><td>valid_loss</td><td>█▇▆▅▅▄▄▄▃▃▃▃▃▃▃▂▂▂▃▂▂▂▂▂▂▂▂▁▁▁▁▁▁▁▁▁▁▃▁▁</td></tr><tr><td>epoch</td><td>▁▁▁▂▂▂▂▂▂▃▃▃▃▃▄▄▄▄▄▄▅▅▅▅▅▅▆▆▆▆▆▇▇▇▇▇▇███</td></tr><tr><td>_runtime</td><td>▁▁▁▂▂▂▂▂▂▃▃▃▃▃▄▄▄▄▄▄▅▅▅▅▅▆▆▆▆▆▆▇▇▇▇▇▇███</td></tr><tr><td>_timestamp</td><td>▁▁▁▂▂▂▂▂▂▃▃▃▃▃▄▄▄▄▄▄▅▅▅▅▅▆▆▆▆▆▆▇▇▇▇▇▇███</td></tr><tr><td>_step</td><td>▁▁▁▂▂▂▂▂▂▃▃▃▃▃▄▄▄▄▄▄▅▅▅▅▅▅▆▆▆▆▆▇▇▇▇▇▇███</td></tr></table><br/>"
      ],
      "text/plain": [
       "<IPython.core.display.HTML object>"
      ]
     },
     "metadata": {},
     "output_type": "display_data"
    },
    {
     "data": {
      "text/html": [
       "Synced 5 W&B file(s), 0 media file(s), 0 artifact file(s) and 0 other file(s)"
      ],
      "text/plain": [
       "<IPython.core.display.HTML object>"
      ]
     },
     "metadata": {},
     "output_type": "display_data"
    },
    {
     "data": {
      "text/html": [
       "\n",
       "                    <br/>Synced <strong style=\"color:#cdcd00\">summer-sweep-23</strong>: <a href=\"https://wandb.ai/sazio/NMAs-Full-Signals/runs/v7spqkvp\" target=\"_blank\">https://wandb.ai/sazio/NMAs-Full-Signals/runs/v7spqkvp</a><br/>\n",
       "                "
      ],
      "text/plain": [
       "<IPython.core.display.HTML object>"
      ]
     },
     "metadata": {},
     "output_type": "display_data"
    },
    {
     "name": "stderr",
     "output_type": "stream",
     "text": [
      "wandb: Agent Starting Run: mcikhqcv with config:\n",
      "wandb: \tdropout: 0.3\n",
      "wandb: \tepochs: 4000\n",
      "wandb: \tlearning_rate: 0.00013505605458436637\n",
      "wandb: \tn_comp: 100\n",
      "wandb: \tnum_layers: 1\n",
      "wandb: \toptimizer: adam\n",
      "wandb: \tweight_decay: 1e-05\n",
      "Failed to detect the name of this notebook, you can set it manually with the WANDB_NOTEBOOK_NAME environment variable to enable code saving.\n"
     ]
    },
    {
     "data": {
      "text/html": [
       "\n",
       "                Tracking run with wandb version 0.12.0<br/>\n",
       "                Syncing run <strong style=\"color:#cdcd00\">faithful-sweep-24</strong> to <a href=\"https://wandb.ai\" target=\"_blank\">Weights & Biases</a> <a href=\"https://docs.wandb.com/integrations/jupyter.html\" target=\"_blank\">(Documentation)</a>.<br/>\n",
       "                Project page: <a href=\"https://wandb.ai/sazio/NMAs-Full-Signals\" target=\"_blank\">https://wandb.ai/sazio/NMAs-Full-Signals</a><br/>\n",
       "                Sweep page: <a href=\"https://wandb.ai/sazio/NMAs-Full-Signals/sweeps/cbewt4f6\" target=\"_blank\">https://wandb.ai/sazio/NMAs-Full-Signals/sweeps/cbewt4f6</a><br/>\n",
       "Run page: <a href=\"https://wandb.ai/sazio/NMAs-Full-Signals/runs/mcikhqcv\" target=\"_blank\">https://wandb.ai/sazio/NMAs-Full-Signals/runs/mcikhqcv</a><br/>\n",
       "                Run data is saved locally in <code>/home/sazeglio/NMAs/src/wandb/run-20210815_093521-mcikhqcv</code><br/><br/>\n",
       "            "
      ],
      "text/plain": [
       "<IPython.core.display.HTML object>"
      ]
     },
     "metadata": {},
     "output_type": "display_data"
    },
    {
     "name": "stdout",
     "output_type": "stream",
     "text": [
      " iteration 0, train cost 4.9290, valid cost 5.0299\n",
      " iteration 50, train cost 4.0384, valid cost 4.0938\n",
      " iteration 100, train cost 3.3654, valid cost 3.4382\n",
      " iteration 150, train cost 3.2979, valid cost 3.3700\n",
      " iteration 200, train cost 3.2887, valid cost 3.3632\n",
      " iteration 250, train cost 3.2841, valid cost 3.3605\n",
      " iteration 300, train cost 3.2800, valid cost 3.3586\n",
      " iteration 350, train cost 3.2767, valid cost 3.3568\n",
      " iteration 400, train cost 3.2722, valid cost 3.3536\n",
      " iteration 450, train cost 3.2628, valid cost 3.3454\n",
      " iteration 500, train cost 3.2385, valid cost 3.3218\n",
      " iteration 550, train cost 3.1874, valid cost 3.2711\n",
      " iteration 600, train cost 3.1319, valid cost 3.2147\n",
      " iteration 650, train cost 3.0847, valid cost 3.1627\n",
      " iteration 700, train cost 3.0452, valid cost 3.1173\n",
      " iteration 750, train cost 3.0075, valid cost 3.0740\n",
      " iteration 800, train cost 2.9718, valid cost 3.0342\n",
      " iteration 850, train cost 2.9392, valid cost 3.0011\n",
      " iteration 900, train cost 2.9084, valid cost 2.9722\n",
      " iteration 950, train cost 2.8768, valid cost 2.9453\n",
      " iteration 1000, train cost 2.8449, valid cost 2.9186\n",
      " iteration 1050, train cost 2.8140, valid cost 2.8921\n",
      " iteration 1100, train cost 2.7847, valid cost 2.8664\n",
      " iteration 1150, train cost 2.7585, valid cost 2.8424\n",
      " iteration 1200, train cost 2.7325, valid cost 2.8181\n",
      " iteration 1250, train cost 2.7073, valid cost 2.7949\n",
      " iteration 1300, train cost 2.6828, valid cost 2.7733\n",
      " iteration 1350, train cost 2.6598, valid cost 2.7530\n",
      " iteration 1400, train cost 2.6367, valid cost 2.7336\n",
      " iteration 1450, train cost 2.6160, valid cost 2.7153\n",
      " iteration 1500, train cost 2.5965, valid cost 2.6980\n",
      " iteration 1550, train cost 2.5770, valid cost 2.6811\n",
      " iteration 1600, train cost 2.5574, valid cost 2.6640\n",
      " iteration 1650, train cost 2.5387, valid cost 2.6467\n",
      " iteration 1700, train cost 2.5198, valid cost 2.6290\n",
      " iteration 1750, train cost 2.5026, valid cost 2.6123\n",
      " iteration 1800, train cost 2.4844, valid cost 2.5964\n",
      " iteration 1850, train cost 2.4682, valid cost 2.5816\n",
      " iteration 1900, train cost 2.4528, valid cost 2.5678\n",
      " iteration 1950, train cost 2.4386, valid cost 2.5552\n",
      " iteration 2000, train cost 2.4259, valid cost 2.5433\n",
      " iteration 2050, train cost 2.4126, valid cost 2.5304\n",
      " iteration 2100, train cost 2.3981, valid cost 2.5175\n",
      " iteration 2150, train cost 2.3841, valid cost 2.5036\n",
      " iteration 2200, train cost 2.3699, valid cost 2.4898\n",
      " iteration 2250, train cost 2.3568, valid cost 2.4764\n",
      " iteration 2300, train cost 2.3442, valid cost 2.4636\n",
      " iteration 2350, train cost 2.3334, valid cost 2.4524\n",
      " iteration 2400, train cost 2.3226, valid cost 2.4423\n",
      " iteration 2450, train cost 2.3127, valid cost 2.4326\n",
      " iteration 2500, train cost 2.3025, valid cost 2.4235\n",
      " iteration 2550, train cost 2.2931, valid cost 2.4149\n",
      " iteration 2600, train cost 2.2853, valid cost 2.4069\n",
      " iteration 2650, train cost 2.2777, valid cost 2.4006\n",
      " iteration 2700, train cost 2.2700, valid cost 2.3933\n",
      " iteration 2750, train cost 2.2604, valid cost 2.3864\n",
      " iteration 2800, train cost 2.2536, valid cost 2.3800\n",
      " iteration 2850, train cost 2.2459, valid cost 2.3728\n",
      " iteration 2900, train cost 2.2380, valid cost 2.3655\n",
      " iteration 2950, train cost 2.2312, valid cost 2.3578\n",
      " iteration 3000, train cost 2.2229, valid cost 2.3506\n",
      " iteration 3050, train cost 2.2162, valid cost 2.3444\n",
      " iteration 3100, train cost 2.2099, valid cost 2.3386\n",
      " iteration 3150, train cost 2.2036, valid cost 2.3324\n",
      " iteration 3200, train cost 2.1969, valid cost 2.3270\n",
      " iteration 3250, train cost 2.1907, valid cost 2.3219\n",
      " iteration 3300, train cost 2.1852, valid cost 2.3169\n",
      " iteration 3350, train cost 2.1788, valid cost 2.3121\n",
      " iteration 3400, train cost 2.1738, valid cost 2.3073\n",
      " iteration 3450, train cost 2.1690, valid cost 2.3021\n",
      " iteration 3500, train cost 2.1619, valid cost 2.2984\n",
      " iteration 3550, train cost 2.1578, valid cost 2.2940\n",
      " iteration 3600, train cost 2.1536, valid cost 2.2890\n",
      " iteration 3650, train cost 2.1469, valid cost 2.2854\n",
      " iteration 3700, train cost 2.1424, valid cost 2.2816\n",
      " iteration 3750, train cost 2.1371, valid cost 2.2768\n",
      " iteration 3800, train cost 2.1321, valid cost 2.2722\n",
      " iteration 3850, train cost 2.1246, valid cost 2.2671\n",
      " iteration 3900, train cost 2.1210, valid cost 2.2621\n",
      " iteration 3950, train cost 2.1126, valid cost 2.2565\n"
     ]
    },
    {
     "data": {
      "text/html": [
       "<br/>Waiting for W&B process to finish, PID 198393<br/>Program ended successfully."
      ],
      "text/plain": [
       "<IPython.core.display.HTML object>"
      ]
     },
     "metadata": {},
     "output_type": "display_data"
    },
    {
     "name": "stderr",
     "output_type": "stream",
     "text": [
      "Widget Javascript not detected.  It may not be installed or enabled properly.\n"
     ]
    },
    {
     "data": {
      "application/vnd.jupyter.widget-view+json": {
       "model_id": "b99cb59a896845ba9e6abcead4929d33"
      }
     },
     "metadata": {},
     "output_type": "display_data"
    },
    {
     "data": {
      "text/html": [
       "Find user logs for this run at: <code>/home/sazeglio/NMAs/src/wandb/run-20210815_093521-mcikhqcv/logs/debug.log</code>"
      ],
      "text/plain": [
       "<IPython.core.display.HTML object>"
      ]
     },
     "metadata": {},
     "output_type": "display_data"
    },
    {
     "data": {
      "text/html": [
       "Find internal logs for this run at: <code>/home/sazeglio/NMAs/src/wandb/run-20210815_093521-mcikhqcv/logs/debug-internal.log</code>"
      ],
      "text/plain": [
       "<IPython.core.display.HTML object>"
      ]
     },
     "metadata": {},
     "output_type": "display_data"
    },
    {
     "data": {
      "text/html": [
       "<h3>Run summary:</h3><br/><style>\n",
       "    table.wandb td:nth-child(1) { padding: 0 10px; text-align: right }\n",
       "    </style><table class=\"wandb\">\n",
       "<tr><td>train_loss</td><td>2.10752</td></tr><tr><td>valid_loss</td><td>2.25129</td></tr><tr><td>epoch</td><td>3999</td></tr><tr><td>_runtime</td><td>1240</td></tr><tr><td>_timestamp</td><td>1629014161</td></tr><tr><td>_step</td><td>3999</td></tr></table>"
      ],
      "text/plain": [
       "<IPython.core.display.HTML object>"
      ]
     },
     "metadata": {},
     "output_type": "display_data"
    },
    {
     "data": {
      "text/html": [
       "<h3>Run history:</h3><br/><style>\n",
       "    table.wandb td:nth-child(1) { padding: 0 10px; text-align: right }\n",
       "    </style><table class=\"wandb\">\n",
       "<tr><td>train_loss</td><td>█▄▄▄▄▄▄▃▃▃▃▃▃▃▂▂▂▂▂▂▂▂▂▂▂▁▁▁▁▁▁▁▁▁▁▁▁▁▁▁</td></tr><tr><td>valid_loss</td><td>█▄▄▄▄▄▄▃▃▃▃▃▃▂▂▂▂▂▂▂▂▂▂▂▁▁▁▁▁▁▁▁▁▁▁▁▁▁▁▁</td></tr><tr><td>epoch</td><td>▁▁▁▂▂▂▂▂▂▃▃▃▃▃▄▄▄▄▄▄▅▅▅▅▅▅▆▆▆▆▆▇▇▇▇▇▇███</td></tr><tr><td>_runtime</td><td>▁▁▁▂▂▂▂▂▂▃▃▃▃▃▄▄▄▄▄▄▅▅▅▅▅▅▆▆▆▆▆▇▇▇▇▇▇███</td></tr><tr><td>_timestamp</td><td>▁▁▁▂▂▂▂▂▂▃▃▃▃▃▄▄▄▄▄▄▅▅▅▅▅▅▆▆▆▆▆▇▇▇▇▇▇███</td></tr><tr><td>_step</td><td>▁▁▁▂▂▂▂▂▂▃▃▃▃▃▄▄▄▄▄▄▅▅▅▅▅▅▆▆▆▆▆▇▇▇▇▇▇███</td></tr></table><br/>"
      ],
      "text/plain": [
       "<IPython.core.display.HTML object>"
      ]
     },
     "metadata": {},
     "output_type": "display_data"
    },
    {
     "data": {
      "text/html": [
       "Synced 5 W&B file(s), 0 media file(s), 0 artifact file(s) and 0 other file(s)"
      ],
      "text/plain": [
       "<IPython.core.display.HTML object>"
      ]
     },
     "metadata": {},
     "output_type": "display_data"
    },
    {
     "data": {
      "text/html": [
       "\n",
       "                    <br/>Synced <strong style=\"color:#cdcd00\">faithful-sweep-24</strong>: <a href=\"https://wandb.ai/sazio/NMAs-Full-Signals/runs/mcikhqcv\" target=\"_blank\">https://wandb.ai/sazio/NMAs-Full-Signals/runs/mcikhqcv</a><br/>\n",
       "                "
      ],
      "text/plain": [
       "<IPython.core.display.HTML object>"
      ]
     },
     "metadata": {},
     "output_type": "display_data"
    },
    {
     "name": "stderr",
     "output_type": "stream",
     "text": [
      "wandb: Agent Starting Run: q4qp0v3j with config:\n",
      "wandb: \tdropout: 0.2\n",
      "wandb: \tepochs: 4000\n",
      "wandb: \tlearning_rate: 0.001028257630735163\n",
      "wandb: \tn_comp: 400\n",
      "wandb: \tnum_layers: 1\n",
      "wandb: \toptimizer: adam\n",
      "wandb: \tweight_decay: 1e-06\n",
      "Failed to detect the name of this notebook, you can set it manually with the WANDB_NOTEBOOK_NAME environment variable to enable code saving.\n"
     ]
    },
    {
     "data": {
      "text/html": [
       "\n",
       "                Tracking run with wandb version 0.12.0<br/>\n",
       "                Syncing run <strong style=\"color:#cdcd00\">zany-sweep-25</strong> to <a href=\"https://wandb.ai\" target=\"_blank\">Weights & Biases</a> <a href=\"https://docs.wandb.com/integrations/jupyter.html\" target=\"_blank\">(Documentation)</a>.<br/>\n",
       "                Project page: <a href=\"https://wandb.ai/sazio/NMAs-Full-Signals\" target=\"_blank\">https://wandb.ai/sazio/NMAs-Full-Signals</a><br/>\n",
       "                Sweep page: <a href=\"https://wandb.ai/sazio/NMAs-Full-Signals/sweeps/cbewt4f6\" target=\"_blank\">https://wandb.ai/sazio/NMAs-Full-Signals/sweeps/cbewt4f6</a><br/>\n",
       "Run page: <a href=\"https://wandb.ai/sazio/NMAs-Full-Signals/runs/q4qp0v3j\" target=\"_blank\">https://wandb.ai/sazio/NMAs-Full-Signals/runs/q4qp0v3j</a><br/>\n",
       "                Run data is saved locally in <code>/home/sazeglio/NMAs/src/wandb/run-20210815_095606-q4qp0v3j</code><br/><br/>\n",
       "            "
      ],
      "text/plain": [
       "<IPython.core.display.HTML object>"
      ]
     },
     "metadata": {},
     "output_type": "display_data"
    },
    {
     "name": "stdout",
     "output_type": "stream",
     "text": [
      " iteration 0, train cost 4.9279, valid cost 5.0194\n",
      " iteration 50, train cost 3.2872, valid cost 3.3667\n",
      " iteration 100, train cost 3.2752, valid cost 3.3597\n",
      " iteration 150, train cost 3.2628, valid cost 3.3458\n",
      " iteration 200, train cost 3.1797, valid cost 3.2440\n",
      " iteration 250, train cost 3.0556, valid cost 3.1185\n",
      " iteration 300, train cost 2.9654, valid cost 3.0249\n",
      " iteration 350, train cost 2.9209, valid cost 2.9874\n",
      " iteration 400, train cost 2.8761, valid cost 2.9534\n",
      " iteration 450, train cost 2.8301, valid cost 2.9132\n",
      " iteration 500, train cost 2.7853, valid cost 2.8623\n",
      " iteration 550, train cost 2.7233, valid cost 2.8229\n",
      " iteration 600, train cost 2.6816, valid cost 2.7945\n",
      " iteration 650, train cost 2.6463, valid cost 2.7641\n",
      " iteration 700, train cost 2.6001, valid cost 2.7292\n",
      " iteration 750, train cost 2.5567, valid cost 2.6941\n",
      " iteration 800, train cost 2.5210, valid cost 2.6642\n",
      " iteration 850, train cost 2.4861, valid cost 2.6330\n",
      " iteration 900, train cost 2.4535, valid cost 2.6038\n",
      " iteration 950, train cost 2.4230, valid cost 2.5763\n",
      " iteration 1000, train cost 2.3927, valid cost 2.5483\n",
      " iteration 1050, train cost 2.3620, valid cost 2.5151\n",
      " iteration 1100, train cost 2.3284, valid cost 2.4846\n",
      " iteration 1150, train cost 2.3019, valid cost 2.4578\n",
      " iteration 1200, train cost 2.2729, valid cost 2.4333\n",
      " iteration 1250, train cost 2.2476, valid cost 2.4123\n",
      " iteration 1300, train cost 2.2247, valid cost 2.3949\n",
      " iteration 1350, train cost 2.2016, valid cost 2.3748\n",
      " iteration 1400, train cost 2.1807, valid cost 2.3577\n",
      " iteration 1450, train cost 2.1597, valid cost 2.3385\n",
      " iteration 1500, train cost 2.1384, valid cost 2.3204\n",
      " iteration 1550, train cost 2.1196, valid cost 2.3058\n",
      " iteration 1600, train cost 2.1015, valid cost 2.2889\n",
      " iteration 1650, train cost 2.0825, valid cost 2.2750\n",
      " iteration 1700, train cost 2.0670, valid cost 2.2625\n",
      " iteration 1750, train cost 2.0478, valid cost 2.2478\n",
      " iteration 1800, train cost 2.0501, valid cost 2.2460\n",
      " iteration 1850, train cost 2.0179, valid cost 2.2247\n",
      " iteration 1900, train cost 2.0046, valid cost 2.2162\n",
      " iteration 1950, train cost 1.9948, valid cost 2.2089\n",
      " iteration 2000, train cost 1.9819, valid cost 2.1986\n",
      " iteration 2050, train cost 1.9673, valid cost 2.1898\n",
      " iteration 2100, train cost 1.9582, valid cost 2.1846\n",
      " iteration 2150, train cost 1.9474, valid cost 2.1736\n",
      " iteration 2200, train cost 2.0174, valid cost 2.1901\n",
      " iteration 2250, train cost 1.9373, valid cost 2.1597\n",
      " iteration 2300, train cost 1.9241, valid cost 2.1521\n",
      " iteration 2350, train cost 1.9258, valid cost 2.1541\n",
      " iteration 2400, train cost 1.9123, valid cost 2.1454\n",
      " iteration 2450, train cost 1.9039, valid cost 2.1412\n",
      " iteration 2500, train cost 1.8973, valid cost 2.1364\n",
      " iteration 2550, train cost 1.8902, valid cost 2.1329\n",
      " iteration 2600, train cost 1.8839, valid cost 2.1285\n",
      " iteration 2650, train cost 1.8766, valid cost 2.1245\n",
      " iteration 2700, train cost 1.8702, valid cost 2.1198\n",
      " iteration 2750, train cost 1.8645, valid cost 2.1148\n",
      " iteration 2800, train cost 1.8581, valid cost 2.1116\n",
      " iteration 2850, train cost 1.8502, valid cost 2.1073\n",
      " iteration 2900, train cost 1.8483, valid cost 2.1014\n",
      " iteration 2950, train cost 1.8462, valid cost 2.0975\n",
      " iteration 3000, train cost 1.8587, valid cost 2.1028\n",
      " iteration 3050, train cost 1.8339, valid cost 2.0887\n",
      " iteration 3100, train cost 1.8278, valid cost 2.0839\n",
      " iteration 3150, train cost 1.8230, valid cost 2.0820\n",
      " iteration 3200, train cost 1.9150, valid cost 2.1419\n",
      " iteration 3250, train cost 1.8170, valid cost 2.0717\n",
      " iteration 3300, train cost 1.8141, valid cost 2.0689\n",
      " iteration 3350, train cost 1.8076, valid cost 2.0662\n",
      " iteration 3400, train cost 1.8049, valid cost 2.0650\n",
      " iteration 3450, train cost 1.7992, valid cost 2.0631\n",
      " iteration 3500, train cost 1.7973, valid cost 2.0606\n",
      " iteration 3550, train cost 1.7929, valid cost 2.0581\n",
      " iteration 3600, train cost 1.7887, valid cost 2.0559\n",
      " iteration 3650, train cost 1.7888, valid cost 2.0527\n",
      " iteration 3700, train cost 1.7842, valid cost 2.0504\n",
      " iteration 3750, train cost 1.7799, valid cost 2.0494\n",
      " iteration 3800, train cost 1.7757, valid cost 2.0482\n",
      " iteration 3850, train cost 1.8439, valid cost 2.0760\n",
      " iteration 3900, train cost 1.7724, valid cost 2.0372\n",
      " iteration 3950, train cost 1.7704, valid cost 2.0370\n"
     ]
    },
    {
     "data": {
      "text/html": [
       "<br/>Waiting for W&B process to finish, PID 198701<br/>Program ended successfully."
      ],
      "text/plain": [
       "<IPython.core.display.HTML object>"
      ]
     },
     "metadata": {},
     "output_type": "display_data"
    },
    {
     "name": "stderr",
     "output_type": "stream",
     "text": [
      "Widget Javascript not detected.  It may not be installed or enabled properly.\n"
     ]
    },
    {
     "data": {
      "application/vnd.jupyter.widget-view+json": {
       "model_id": "9c44410fa2494d7c89819eecd2fd4438"
      }
     },
     "metadata": {},
     "output_type": "display_data"
    },
    {
     "data": {
      "text/html": [
       "Find user logs for this run at: <code>/home/sazeglio/NMAs/src/wandb/run-20210815_095606-q4qp0v3j/logs/debug.log</code>"
      ],
      "text/plain": [
       "<IPython.core.display.HTML object>"
      ]
     },
     "metadata": {},
     "output_type": "display_data"
    },
    {
     "data": {
      "text/html": [
       "Find internal logs for this run at: <code>/home/sazeglio/NMAs/src/wandb/run-20210815_095606-q4qp0v3j/logs/debug-internal.log</code>"
      ],
      "text/plain": [
       "<IPython.core.display.HTML object>"
      ]
     },
     "metadata": {},
     "output_type": "display_data"
    },
    {
     "data": {
      "text/html": [
       "<h3>Run summary:</h3><br/><style>\n",
       "    table.wandb td:nth-child(1) { padding: 0 10px; text-align: right }\n",
       "    </style><table class=\"wandb\">\n",
       "<tr><td>train_loss</td><td>1.76542</td></tr><tr><td>valid_loss</td><td>2.037</td></tr><tr><td>epoch</td><td>3999</td></tr><tr><td>_runtime</td><td>1240</td></tr><tr><td>_timestamp</td><td>1629015406</td></tr><tr><td>_step</td><td>3999</td></tr></table>"
      ],
      "text/plain": [
       "<IPython.core.display.HTML object>"
      ]
     },
     "metadata": {},
     "output_type": "display_data"
    },
    {
     "data": {
      "text/html": [
       "<h3>Run history:</h3><br/><style>\n",
       "    table.wandb td:nth-child(1) { padding: 0 10px; text-align: right }\n",
       "    </style><table class=\"wandb\">\n",
       "<tr><td>train_loss</td><td>██▇▆▆▅▅▅▄▄▄▃▃▃▃▃▂▂▂▂▂▂▂▂▂▂▁▁▁▁▁▁▁▁▁▁▁▁▁▁</td></tr><tr><td>valid_loss</td><td>██▇▆▆▅▅▄▄▄▄▃▃▃▃▂▂▂▂▂▂▂▂▂▂▁▁▁▁▁▁▁▁▁▁▁▁▁▁▁</td></tr><tr><td>epoch</td><td>▁▁▁▂▂▂▂▂▂▃▃▃▃▃▄▄▄▄▄▄▅▅▅▅▅▅▆▆▆▆▆▇▇▇▇▇▇███</td></tr><tr><td>_runtime</td><td>▁▁▁▂▂▂▂▂▂▃▃▃▃▃▄▄▄▄▄▄▅▅▅▅▅▅▆▆▆▆▆▇▇▇▇▇▇███</td></tr><tr><td>_timestamp</td><td>▁▁▁▂▂▂▂▂▂▃▃▃▃▃▄▄▄▄▄▄▅▅▅▅▅▅▆▆▆▆▆▇▇▇▇▇▇███</td></tr><tr><td>_step</td><td>▁▁▁▂▂▂▂▂▂▃▃▃▃▃▄▄▄▄▄▄▅▅▅▅▅▅▆▆▆▆▆▇▇▇▇▇▇███</td></tr></table><br/>"
      ],
      "text/plain": [
       "<IPython.core.display.HTML object>"
      ]
     },
     "metadata": {},
     "output_type": "display_data"
    },
    {
     "data": {
      "text/html": [
       "Synced 5 W&B file(s), 0 media file(s), 0 artifact file(s) and 0 other file(s)"
      ],
      "text/plain": [
       "<IPython.core.display.HTML object>"
      ]
     },
     "metadata": {},
     "output_type": "display_data"
    },
    {
     "data": {
      "text/html": [
       "\n",
       "                    <br/>Synced <strong style=\"color:#cdcd00\">zany-sweep-25</strong>: <a href=\"https://wandb.ai/sazio/NMAs-Full-Signals/runs/q4qp0v3j\" target=\"_blank\">https://wandb.ai/sazio/NMAs-Full-Signals/runs/q4qp0v3j</a><br/>\n",
       "                "
      ],
      "text/plain": [
       "<IPython.core.display.HTML object>"
      ]
     },
     "metadata": {},
     "output_type": "display_data"
    },
    {
     "name": "stderr",
     "output_type": "stream",
     "text": [
      "wandb: Agent Starting Run: oj7n4aho with config:\n",
      "wandb: \tdropout: 0.3\n",
      "wandb: \tepochs: 4000\n",
      "wandb: \tlearning_rate: 0.00028886963348329254\n",
      "wandb: \tn_comp: 300\n",
      "wandb: \tnum_layers: 1\n",
      "wandb: \toptimizer: adam\n",
      "wandb: \tweight_decay: 1e-05\n",
      "Failed to detect the name of this notebook, you can set it manually with the WANDB_NOTEBOOK_NAME environment variable to enable code saving.\n"
     ]
    },
    {
     "data": {
      "text/html": [
       "\n",
       "                Tracking run with wandb version 0.12.0<br/>\n",
       "                Syncing run <strong style=\"color:#cdcd00\">fine-sweep-26</strong> to <a href=\"https://wandb.ai\" target=\"_blank\">Weights & Biases</a> <a href=\"https://docs.wandb.com/integrations/jupyter.html\" target=\"_blank\">(Documentation)</a>.<br/>\n",
       "                Project page: <a href=\"https://wandb.ai/sazio/NMAs-Full-Signals\" target=\"_blank\">https://wandb.ai/sazio/NMAs-Full-Signals</a><br/>\n",
       "                Sweep page: <a href=\"https://wandb.ai/sazio/NMAs-Full-Signals/sweeps/cbewt4f6\" target=\"_blank\">https://wandb.ai/sazio/NMAs-Full-Signals/sweeps/cbewt4f6</a><br/>\n",
       "Run page: <a href=\"https://wandb.ai/sazio/NMAs-Full-Signals/runs/oj7n4aho\" target=\"_blank\">https://wandb.ai/sazio/NMAs-Full-Signals/runs/oj7n4aho</a><br/>\n",
       "                Run data is saved locally in <code>/home/sazeglio/NMAs/src/wandb/run-20210815_101650-oj7n4aho</code><br/><br/>\n",
       "            "
      ],
      "text/plain": [
       "<IPython.core.display.HTML object>"
      ]
     },
     "metadata": {},
     "output_type": "display_data"
    },
    {
     "name": "stdout",
     "output_type": "stream",
     "text": [
      " iteration 0, train cost 4.9290, valid cost 5.0292\n",
      " iteration 50, train cost 3.4975, valid cost 3.5600\n",
      " iteration 100, train cost 3.2929, valid cost 3.3679\n",
      " iteration 150, train cost 3.2832, valid cost 3.3612\n",
      " iteration 200, train cost 3.2777, valid cost 3.3582\n",
      " iteration 250, train cost 3.2738, valid cost 3.3552\n",
      " iteration 300, train cost 3.2660, valid cost 3.3476\n",
      " iteration 350, train cost 3.2387, valid cost 3.3148\n",
      " iteration 400, train cost 3.1894, valid cost 3.2559\n",
      " iteration 450, train cost 3.1234, valid cost 3.1827\n",
      " iteration 500, train cost 3.0632, valid cost 3.1259\n",
      " iteration 550, train cost 3.0057, valid cost 3.0702\n",
      " iteration 600, train cost 2.9305, valid cost 2.9934\n",
      " iteration 650, train cost 2.8656, valid cost 2.9302\n",
      " iteration 700, train cost 2.8160, valid cost 2.8869\n",
      " iteration 750, train cost 2.7676, valid cost 2.8465\n",
      " iteration 800, train cost 2.7227, valid cost 2.8065\n",
      " iteration 850, train cost 2.6790, valid cost 2.7659\n",
      " iteration 900, train cost 2.6371, valid cost 2.7253\n",
      " iteration 950, train cost 2.5963, valid cost 2.6864\n",
      " iteration 1000, train cost 2.5602, valid cost 2.6531\n",
      " iteration 1050, train cost 2.5299, valid cost 2.6220\n",
      " iteration 1100, train cost 2.5017, valid cost 2.5942\n",
      " iteration 1150, train cost 2.4763, valid cost 2.5683\n",
      " iteration 1200, train cost 2.4554, valid cost 2.5459\n",
      " iteration 1250, train cost 2.4368, valid cost 2.5263\n",
      " iteration 1300, train cost 2.4186, valid cost 2.5070\n",
      " iteration 1350, train cost 2.4010, valid cost 2.4891\n",
      " iteration 1400, train cost 2.3854, valid cost 2.4736\n",
      " iteration 1450, train cost 2.3709, valid cost 2.4598\n",
      " iteration 1500, train cost 2.3557, valid cost 2.4468\n",
      " iteration 1550, train cost 2.3413, valid cost 2.4327\n",
      " iteration 1600, train cost 2.3259, valid cost 2.4170\n",
      " iteration 1650, train cost 2.3100, valid cost 2.4031\n",
      " iteration 1700, train cost 2.2974, valid cost 2.3902\n",
      " iteration 1750, train cost 2.2823, valid cost 2.3790\n",
      " iteration 1800, train cost 2.2711, valid cost 2.3664\n",
      " iteration 1850, train cost 2.2584, valid cost 2.3545\n",
      " iteration 1900, train cost 2.2449, valid cost 2.3436\n",
      " iteration 1950, train cost 2.2346, valid cost 2.3332\n",
      " iteration 2000, train cost 2.2210, valid cost 2.3246\n",
      " iteration 2050, train cost 2.2100, valid cost 2.3155\n",
      " iteration 2100, train cost 2.2001, valid cost 2.3060\n",
      " iteration 2150, train cost 2.1888, valid cost 2.2969\n",
      " iteration 2200, train cost 2.1789, valid cost 2.2882\n",
      " iteration 2250, train cost 2.1703, valid cost 2.2805\n",
      " iteration 2300, train cost 2.1609, valid cost 2.2721\n",
      " iteration 2350, train cost 2.1505, valid cost 2.2642\n",
      " iteration 2400, train cost 2.1425, valid cost 2.2568\n",
      " iteration 2450, train cost 2.1337, valid cost 2.2496\n",
      " iteration 2500, train cost 2.1249, valid cost 2.2420\n",
      " iteration 2550, train cost 2.1157, valid cost 2.2358\n",
      " iteration 2600, train cost 2.1075, valid cost 2.2306\n",
      " iteration 2650, train cost 2.0998, valid cost 2.2252\n",
      " iteration 2700, train cost 2.0926, valid cost 2.2206\n",
      " iteration 2750, train cost 2.0854, valid cost 2.2161\n",
      " iteration 2800, train cost 2.0770, valid cost 2.2116\n",
      " iteration 2850, train cost 2.0725, valid cost 2.2068\n",
      " iteration 2900, train cost 2.0644, valid cost 2.2016\n",
      " iteration 2950, train cost 2.0563, valid cost 2.1969\n",
      " iteration 3000, train cost 2.0498, valid cost 2.1920\n",
      " iteration 3050, train cost 2.0453, valid cost 2.1871\n",
      " iteration 3100, train cost 2.0387, valid cost 2.1834\n",
      " iteration 3150, train cost 2.0335, valid cost 2.1799\n",
      " iteration 3200, train cost 2.0284, valid cost 2.1759\n",
      " iteration 3250, train cost 2.0237, valid cost 2.1727\n",
      " iteration 3300, train cost 2.0203, valid cost 2.1703\n",
      " iteration 3350, train cost 2.0135, valid cost 2.1659\n",
      " iteration 3400, train cost 2.0068, valid cost 2.1632\n",
      " iteration 3450, train cost 2.0032, valid cost 2.1599\n",
      " iteration 3500, train cost 1.9993, valid cost 2.1563\n",
      " iteration 3550, train cost 1.9928, valid cost 2.1527\n",
      " iteration 3600, train cost 1.9882, valid cost 2.1496\n",
      " iteration 3650, train cost 1.9862, valid cost 2.1464\n",
      " iteration 3700, train cost 1.9831, valid cost 2.1433\n",
      " iteration 3750, train cost 1.9777, valid cost 2.1401\n",
      " iteration 3800, train cost 1.9745, valid cost 2.1373\n",
      " iteration 3850, train cost 1.9693, valid cost 2.1342\n",
      " iteration 3900, train cost 1.9675, valid cost 2.1319\n",
      " iteration 3950, train cost 1.9631, valid cost 2.1291\n"
     ]
    },
    {
     "data": {
      "text/html": [
       "<br/>Waiting for W&B process to finish, PID 198962<br/>Program ended successfully."
      ],
      "text/plain": [
       "<IPython.core.display.HTML object>"
      ]
     },
     "metadata": {},
     "output_type": "display_data"
    },
    {
     "name": "stderr",
     "output_type": "stream",
     "text": [
      "Widget Javascript not detected.  It may not be installed or enabled properly.\n"
     ]
    },
    {
     "data": {
      "application/vnd.jupyter.widget-view+json": {
       "model_id": "90ed6f7fde4a4e658963d6699879076c"
      }
     },
     "metadata": {},
     "output_type": "display_data"
    },
    {
     "data": {
      "text/html": [
       "Find user logs for this run at: <code>/home/sazeglio/NMAs/src/wandb/run-20210815_101650-oj7n4aho/logs/debug.log</code>"
      ],
      "text/plain": [
       "<IPython.core.display.HTML object>"
      ]
     },
     "metadata": {},
     "output_type": "display_data"
    },
    {
     "data": {
      "text/html": [
       "Find internal logs for this run at: <code>/home/sazeglio/NMAs/src/wandb/run-20210815_101650-oj7n4aho/logs/debug-internal.log</code>"
      ],
      "text/plain": [
       "<IPython.core.display.HTML object>"
      ]
     },
     "metadata": {},
     "output_type": "display_data"
    },
    {
     "data": {
      "text/html": [
       "<h3>Run summary:</h3><br/><style>\n",
       "    table.wandb td:nth-child(1) { padding: 0 10px; text-align: right }\n",
       "    </style><table class=\"wandb\">\n",
       "<tr><td>train_loss</td><td>1.96058</td></tr><tr><td>valid_loss</td><td>2.12672</td></tr><tr><td>epoch</td><td>3999</td></tr><tr><td>_runtime</td><td>1240</td></tr><tr><td>_timestamp</td><td>1629016650</td></tr><tr><td>_step</td><td>3999</td></tr></table>"
      ],
      "text/plain": [
       "<IPython.core.display.HTML object>"
      ]
     },
     "metadata": {},
     "output_type": "display_data"
    },
    {
     "data": {
      "text/html": [
       "<h3>Run history:</h3><br/><style>\n",
       "    table.wandb td:nth-child(1) { padding: 0 10px; text-align: right }\n",
       "    </style><table class=\"wandb\">\n",
       "<tr><td>train_loss</td><td>█▆▆▅▅▅▄▄▄▃▃▃▃▃▂▂▂▂▂▂▂▂▂▂▂▂▁▁▁▁▁▁▁▁▁▁▁▁▁▁</td></tr><tr><td>valid_loss</td><td>█▆▅▅▅▅▄▄▃▃▃▃▂▂▂▂▂▂▂▂▂▂▂▁▁▁▁▁▁▁▁▁▁▁▁▁▁▁▁▁</td></tr><tr><td>epoch</td><td>▁▁▁▂▂▂▂▂▂▃▃▃▃▃▄▄▄▄▄▄▅▅▅▅▅▅▆▆▆▆▆▇▇▇▇▇▇███</td></tr><tr><td>_runtime</td><td>▁▁▁▂▂▂▂▂▂▃▃▃▃▃▄▄▄▄▄▄▅▅▅▅▅▅▆▆▆▆▆▇▇▇▇▇▇███</td></tr><tr><td>_timestamp</td><td>▁▁▁▂▂▂▂▂▂▃▃▃▃▃▄▄▄▄▄▄▅▅▅▅▅▅▆▆▆▆▆▇▇▇▇▇▇███</td></tr><tr><td>_step</td><td>▁▁▁▂▂▂▂▂▂▃▃▃▃▃▄▄▄▄▄▄▅▅▅▅▅▅▆▆▆▆▆▇▇▇▇▇▇███</td></tr></table><br/>"
      ],
      "text/plain": [
       "<IPython.core.display.HTML object>"
      ]
     },
     "metadata": {},
     "output_type": "display_data"
    },
    {
     "data": {
      "text/html": [
       "Synced 5 W&B file(s), 0 media file(s), 0 artifact file(s) and 0 other file(s)"
      ],
      "text/plain": [
       "<IPython.core.display.HTML object>"
      ]
     },
     "metadata": {},
     "output_type": "display_data"
    },
    {
     "data": {
      "text/html": [
       "\n",
       "                    <br/>Synced <strong style=\"color:#cdcd00\">fine-sweep-26</strong>: <a href=\"https://wandb.ai/sazio/NMAs-Full-Signals/runs/oj7n4aho\" target=\"_blank\">https://wandb.ai/sazio/NMAs-Full-Signals/runs/oj7n4aho</a><br/>\n",
       "                "
      ],
      "text/plain": [
       "<IPython.core.display.HTML object>"
      ]
     },
     "metadata": {},
     "output_type": "display_data"
    },
    {
     "name": "stderr",
     "output_type": "stream",
     "text": [
      "wandb: Agent Starting Run: xai2pomk with config:\n",
      "wandb: \tdropout: 0.1\n",
      "wandb: \tepochs: 4000\n",
      "wandb: \tlearning_rate: 0.0003862173416734931\n",
      "wandb: \tn_comp: 100\n",
      "wandb: \tnum_layers: 1\n",
      "wandb: \toptimizer: adam\n",
      "wandb: \tweight_decay: 1e-05\n",
      "Failed to detect the name of this notebook, you can set it manually with the WANDB_NOTEBOOK_NAME environment variable to enable code saving.\n"
     ]
    },
    {
     "data": {
      "text/html": [
       "\n",
       "                Tracking run with wandb version 0.12.0<br/>\n",
       "                Syncing run <strong style=\"color:#cdcd00\">smooth-sweep-27</strong> to <a href=\"https://wandb.ai\" target=\"_blank\">Weights & Biases</a> <a href=\"https://docs.wandb.com/integrations/jupyter.html\" target=\"_blank\">(Documentation)</a>.<br/>\n",
       "                Project page: <a href=\"https://wandb.ai/sazio/NMAs-Full-Signals\" target=\"_blank\">https://wandb.ai/sazio/NMAs-Full-Signals</a><br/>\n",
       "                Sweep page: <a href=\"https://wandb.ai/sazio/NMAs-Full-Signals/sweeps/cbewt4f6\" target=\"_blank\">https://wandb.ai/sazio/NMAs-Full-Signals/sweeps/cbewt4f6</a><br/>\n",
       "Run page: <a href=\"https://wandb.ai/sazio/NMAs-Full-Signals/runs/xai2pomk\" target=\"_blank\">https://wandb.ai/sazio/NMAs-Full-Signals/runs/xai2pomk</a><br/>\n",
       "                Run data is saved locally in <code>/home/sazeglio/NMAs/src/wandb/run-20210815_103735-xai2pomk</code><br/><br/>\n",
       "            "
      ],
      "text/plain": [
       "<IPython.core.display.HTML object>"
      ]
     },
     "metadata": {},
     "output_type": "display_data"
    },
    {
     "name": "stdout",
     "output_type": "stream",
     "text": [
      " iteration 0, train cost 4.9293, valid cost 5.0286\n",
      " iteration 50, train cost 3.3714, valid cost 3.4467\n",
      " iteration 100, train cost 3.2843, valid cost 3.3621\n",
      " iteration 150, train cost 3.2763, valid cost 3.3569\n",
      " iteration 200, train cost 3.2677, valid cost 3.3487\n",
      " iteration 250, train cost 3.2281, valid cost 3.3040\n",
      " iteration 300, train cost 3.1124, valid cost 3.1782\n",
      " iteration 350, train cost 3.0403, valid cost 3.1049\n",
      " iteration 400, train cost 2.9882, valid cost 3.0523\n",
      " iteration 450, train cost 2.9257, valid cost 2.9912\n",
      " iteration 500, train cost 2.8654, valid cost 2.9365\n",
      " iteration 550, train cost 2.8137, valid cost 2.8933\n",
      " iteration 600, train cost 2.7550, valid cost 2.8405\n",
      " iteration 650, train cost 2.6983, valid cost 2.7896\n",
      " iteration 700, train cost 2.6533, valid cost 2.7494\n",
      " iteration 750, train cost 2.6112, valid cost 2.7109\n",
      " iteration 800, train cost 2.5695, valid cost 2.6717\n",
      " iteration 850, train cost 2.5294, valid cost 2.6360\n",
      " iteration 900, train cost 2.4935, valid cost 2.6055\n",
      " iteration 950, train cost 2.4641, valid cost 2.5805\n",
      " iteration 1000, train cost 2.4381, valid cost 2.5594\n",
      " iteration 1050, train cost 2.4151, valid cost 2.5390\n",
      " iteration 1100, train cost 2.3911, valid cost 2.5186\n",
      " iteration 1150, train cost 2.3711, valid cost 2.4994\n",
      " iteration 1200, train cost 2.3521, valid cost 2.4821\n",
      " iteration 1250, train cost 2.3364, valid cost 2.4672\n",
      " iteration 1300, train cost 2.3185, valid cost 2.4527\n",
      " iteration 1350, train cost 2.3037, valid cost 2.4387\n",
      " iteration 1400, train cost 2.2881, valid cost 2.4239\n",
      " iteration 1450, train cost 2.2713, valid cost 2.4077\n",
      " iteration 1500, train cost 2.2549, valid cost 2.3927\n",
      " iteration 1550, train cost 2.2399, valid cost 2.3797\n",
      " iteration 1600, train cost 2.2277, valid cost 2.3673\n",
      " iteration 1650, train cost 2.2138, valid cost 2.3561\n",
      " iteration 1700, train cost 2.2024, valid cost 2.3464\n",
      " iteration 1750, train cost 2.1928, valid cost 2.3366\n",
      " iteration 1800, train cost 2.1813, valid cost 2.3287\n",
      " iteration 1850, train cost 2.1724, valid cost 2.3204\n",
      " iteration 1900, train cost 2.1628, valid cost 2.3127\n",
      " iteration 1950, train cost 2.1535, valid cost 2.3056\n",
      " iteration 2000, train cost 2.1433, valid cost 2.2978\n",
      " iteration 2050, train cost 2.1368, valid cost 2.2904\n",
      " iteration 2100, train cost 2.1268, valid cost 2.2833\n",
      " iteration 2150, train cost 2.1183, valid cost 2.2759\n",
      " iteration 2200, train cost 2.1067, valid cost 2.2685\n",
      " iteration 2250, train cost 2.0987, valid cost 2.2613\n",
      " iteration 2300, train cost 2.0906, valid cost 2.2546\n",
      " iteration 2350, train cost 2.0840, valid cost 2.2485\n",
      " iteration 2400, train cost 2.0769, valid cost 2.2426\n",
      " iteration 2450, train cost 2.0687, valid cost 2.2366\n",
      " iteration 2500, train cost 2.0620, valid cost 2.2310\n",
      " iteration 2550, train cost 2.0599, valid cost 2.2293\n",
      " iteration 2600, train cost 2.0483, valid cost 2.2193\n",
      " iteration 2650, train cost 2.0421, valid cost 2.2144\n",
      " iteration 2700, train cost 2.0354, valid cost 2.2099\n",
      " iteration 2750, train cost 2.0301, valid cost 2.2048\n",
      " iteration 2800, train cost 2.0257, valid cost 2.1994\n",
      " iteration 2850, train cost 2.0176, valid cost 2.1942\n",
      " iteration 2900, train cost 2.0135, valid cost 2.1890\n",
      " iteration 2950, train cost 2.0059, valid cost 2.1842\n",
      " iteration 3000, train cost 2.0023, valid cost 2.1789\n",
      " iteration 3050, train cost 1.9966, valid cost 2.1745\n",
      " iteration 3100, train cost 1.9912, valid cost 2.1696\n",
      " iteration 3150, train cost 1.9869, valid cost 2.1659\n",
      " iteration 3200, train cost 1.9807, valid cost 2.1610\n",
      " iteration 3250, train cost 1.9754, valid cost 2.1568\n",
      " iteration 3300, train cost 1.9727, valid cost 2.1523\n",
      " iteration 3350, train cost 1.9656, valid cost 2.1487\n",
      " iteration 3400, train cost 1.9613, valid cost 2.1454\n",
      " iteration 3450, train cost 1.9563, valid cost 2.1416\n",
      " iteration 3500, train cost 1.9513, valid cost 2.1387\n",
      " iteration 3550, train cost 1.9494, valid cost 2.1351\n",
      " iteration 3600, train cost 1.9425, valid cost 2.1310\n",
      " iteration 3650, train cost 1.9371, valid cost 2.1271\n",
      " iteration 3700, train cost 1.9315, valid cost 2.1207\n",
      " iteration 3750, train cost 1.9271, valid cost 2.1180\n",
      " iteration 3800, train cost 1.9222, valid cost 2.1160\n",
      " iteration 3850, train cost 1.9181, valid cost 2.1131\n",
      " iteration 3900, train cost 1.9128, valid cost 2.1099\n",
      " iteration 3950, train cost 1.9093, valid cost 2.1070\n"
     ]
    },
    {
     "data": {
      "text/html": [
       "<br/>Waiting for W&B process to finish, PID 199177<br/>Program ended successfully."
      ],
      "text/plain": [
       "<IPython.core.display.HTML object>"
      ]
     },
     "metadata": {},
     "output_type": "display_data"
    },
    {
     "name": "stderr",
     "output_type": "stream",
     "text": [
      "Widget Javascript not detected.  It may not be installed or enabled properly.\n"
     ]
    },
    {
     "data": {
      "application/vnd.jupyter.widget-view+json": {
       "model_id": "8e79f8123e974d84a947112d52f58adb"
      }
     },
     "metadata": {},
     "output_type": "display_data"
    },
    {
     "data": {
      "text/html": [
       "Find user logs for this run at: <code>/home/sazeglio/NMAs/src/wandb/run-20210815_103735-xai2pomk/logs/debug.log</code>"
      ],
      "text/plain": [
       "<IPython.core.display.HTML object>"
      ]
     },
     "metadata": {},
     "output_type": "display_data"
    },
    {
     "data": {
      "text/html": [
       "Find internal logs for this run at: <code>/home/sazeglio/NMAs/src/wandb/run-20210815_103735-xai2pomk/logs/debug-internal.log</code>"
      ],
      "text/plain": [
       "<IPython.core.display.HTML object>"
      ]
     },
     "metadata": {},
     "output_type": "display_data"
    },
    {
     "data": {
      "text/html": [
       "<h3>Run summary:</h3><br/><style>\n",
       "    table.wandb td:nth-child(1) { padding: 0 10px; text-align: right }\n",
       "    </style><table class=\"wandb\">\n",
       "<tr><td>train_loss</td><td>1.90539</td></tr><tr><td>valid_loss</td><td>2.10374</td></tr><tr><td>epoch</td><td>3999</td></tr><tr><td>_runtime</td><td>1239</td></tr><tr><td>_timestamp</td><td>1629017894</td></tr><tr><td>_step</td><td>3999</td></tr></table>"
      ],
      "text/plain": [
       "<IPython.core.display.HTML object>"
      ]
     },
     "metadata": {},
     "output_type": "display_data"
    },
    {
     "data": {
      "text/html": [
       "<h3>Run history:</h3><br/><style>\n",
       "    table.wandb td:nth-child(1) { padding: 0 10px; text-align: right }\n",
       "    </style><table class=\"wandb\">\n",
       "<tr><td>train_loss</td><td>█▆▆▅▅▅▄▄▃▃▃▃▃▃▂▂▂▂▂▂▂▂▂▂▂▂▂▁▁▁▁▁▁▁▁▁▁▁▁▁</td></tr><tr><td>valid_loss</td><td>█▆▆▅▅▄▄▄▃▃▃▃▃▂▂▂▂▂▂▂▂▂▂▂▂▁▁▁▁▁▁▁▁▁▁▁▁▁▁▁</td></tr><tr><td>epoch</td><td>▁▁▁▂▂▂▂▂▂▃▃▃▃▃▄▄▄▄▄▄▅▅▅▅▅▅▆▆▆▆▆▇▇▇▇▇▇███</td></tr><tr><td>_runtime</td><td>▁▁▁▂▂▂▂▂▂▃▃▃▃▃▄▄▄▄▄▄▅▅▅▅▅▅▆▆▆▆▆▇▇▇▇▇▇███</td></tr><tr><td>_timestamp</td><td>▁▁▁▂▂▂▂▂▂▃▃▃▃▃▄▄▄▄▄▄▅▅▅▅▅▅▆▆▆▆▆▇▇▇▇▇▇███</td></tr><tr><td>_step</td><td>▁▁▁▂▂▂▂▂▂▃▃▃▃▃▄▄▄▄▄▄▅▅▅▅▅▅▆▆▆▆▆▇▇▇▇▇▇███</td></tr></table><br/>"
      ],
      "text/plain": [
       "<IPython.core.display.HTML object>"
      ]
     },
     "metadata": {},
     "output_type": "display_data"
    },
    {
     "data": {
      "text/html": [
       "Synced 5 W&B file(s), 0 media file(s), 0 artifact file(s) and 0 other file(s)"
      ],
      "text/plain": [
       "<IPython.core.display.HTML object>"
      ]
     },
     "metadata": {},
     "output_type": "display_data"
    },
    {
     "data": {
      "text/html": [
       "\n",
       "                    <br/>Synced <strong style=\"color:#cdcd00\">smooth-sweep-27</strong>: <a href=\"https://wandb.ai/sazio/NMAs-Full-Signals/runs/xai2pomk\" target=\"_blank\">https://wandb.ai/sazio/NMAs-Full-Signals/runs/xai2pomk</a><br/>\n",
       "                "
      ],
      "text/plain": [
       "<IPython.core.display.HTML object>"
      ]
     },
     "metadata": {},
     "output_type": "display_data"
    },
    {
     "name": "stderr",
     "output_type": "stream",
     "text": [
      "wandb: Agent Starting Run: yygvk29v with config:\n",
      "wandb: \tdropout: 0.2\n",
      "wandb: \tepochs: 4000\n",
      "wandb: \tlearning_rate: 0.0009133101407846635\n",
      "wandb: \tn_comp: 500\n",
      "wandb: \tnum_layers: 1\n",
      "wandb: \toptimizer: adam\n",
      "wandb: \tweight_decay: 5e-05\n",
      "Failed to detect the name of this notebook, you can set it manually with the WANDB_NOTEBOOK_NAME environment variable to enable code saving.\n"
     ]
    },
    {
     "data": {
      "text/html": [
       "\n",
       "                Tracking run with wandb version 0.12.0<br/>\n",
       "                Syncing run <strong style=\"color:#cdcd00\">rural-sweep-28</strong> to <a href=\"https://wandb.ai\" target=\"_blank\">Weights & Biases</a> <a href=\"https://docs.wandb.com/integrations/jupyter.html\" target=\"_blank\">(Documentation)</a>.<br/>\n",
       "                Project page: <a href=\"https://wandb.ai/sazio/NMAs-Full-Signals\" target=\"_blank\">https://wandb.ai/sazio/NMAs-Full-Signals</a><br/>\n",
       "                Sweep page: <a href=\"https://wandb.ai/sazio/NMAs-Full-Signals/sweeps/cbewt4f6\" target=\"_blank\">https://wandb.ai/sazio/NMAs-Full-Signals/sweeps/cbewt4f6</a><br/>\n",
       "Run page: <a href=\"https://wandb.ai/sazio/NMAs-Full-Signals/runs/yygvk29v\" target=\"_blank\">https://wandb.ai/sazio/NMAs-Full-Signals/runs/yygvk29v</a><br/>\n",
       "                Run data is saved locally in <code>/home/sazeglio/NMAs/src/wandb/run-20210815_105819-yygvk29v</code><br/><br/>\n",
       "            "
      ],
      "text/plain": [
       "<IPython.core.display.HTML object>"
      ]
     },
     "metadata": {},
     "output_type": "display_data"
    },
    {
     "name": "stdout",
     "output_type": "stream",
     "text": [
      " iteration 0, train cost 4.9328, valid cost 5.0262\n",
      " iteration 50, train cost 3.2896, valid cost 3.3707\n",
      " iteration 100, train cost 3.2702, valid cost 3.3532\n",
      " iteration 150, train cost 3.2036, valid cost 3.2732\n",
      " iteration 200, train cost 3.0486, valid cost 3.1118\n",
      " iteration 250, train cost 2.9382, valid cost 3.0102\n",
      " iteration 300, train cost 2.8307, valid cost 2.9055\n",
      " iteration 350, train cost 2.7374, valid cost 2.8198\n",
      " iteration 400, train cost 2.6556, valid cost 2.7389\n",
      " iteration 450, train cost 2.5899, valid cost 2.6738\n",
      " iteration 500, train cost 2.5360, valid cost 2.6229\n",
      " iteration 550, train cost 2.4897, valid cost 2.5749\n",
      " iteration 600, train cost 2.4490, valid cost 2.5356\n",
      " iteration 650, train cost 2.4149, valid cost 2.5022\n",
      " iteration 700, train cost 2.3800, valid cost 2.4703\n",
      " iteration 750, train cost 2.3505, valid cost 2.4405\n",
      " iteration 800, train cost 2.3268, valid cost 2.4198\n",
      " iteration 850, train cost 2.3046, valid cost 2.3998\n",
      " iteration 900, train cost 2.2854, valid cost 2.3807\n",
      " iteration 950, train cost 2.2649, valid cost 2.3623\n",
      " iteration 1000, train cost 2.2463, valid cost 2.3450\n",
      " iteration 1050, train cost 2.2286, valid cost 2.3275\n",
      " iteration 1100, train cost 2.2127, valid cost 2.3121\n",
      " iteration 1150, train cost 2.1968, valid cost 2.2979\n",
      " iteration 1200, train cost 2.1828, valid cost 2.2828\n",
      " iteration 1250, train cost 2.1684, valid cost 2.2731\n",
      " iteration 1300, train cost 2.1553, valid cost 2.2578\n",
      " iteration 1350, train cost 2.1406, valid cost 2.2464\n",
      " iteration 1400, train cost 2.1291, valid cost 2.2341\n",
      " iteration 1450, train cost 2.1185, valid cost 2.2211\n",
      " iteration 1500, train cost 2.1035, valid cost 2.2113\n",
      " iteration 1550, train cost 2.0966, valid cost 2.2011\n",
      " iteration 1600, train cost 2.0876, valid cost 2.1947\n",
      " iteration 1650, train cost 2.0825, valid cost 2.1929\n",
      " iteration 1700, train cost 2.0684, valid cost 2.1792\n",
      " iteration 1750, train cost 2.0600, valid cost 2.1710\n",
      " iteration 1800, train cost 2.0538, valid cost 2.1643\n",
      " iteration 1850, train cost 2.0449, valid cost 2.1553\n",
      " iteration 1900, train cost 2.0390, valid cost 2.1485\n",
      " iteration 1950, train cost 2.0329, valid cost 2.1427\n",
      " iteration 2000, train cost 2.0251, valid cost 2.1368\n",
      " iteration 2050, train cost 2.0229, valid cost 2.1321\n",
      " iteration 2100, train cost 2.0154, valid cost 2.1256\n",
      " iteration 2150, train cost 2.0103, valid cost 2.1192\n",
      " iteration 2200, train cost 2.0018, valid cost 2.1148\n",
      " iteration 2250, train cost 1.9986, valid cost 2.1089\n",
      " iteration 2300, train cost 1.9916, valid cost 2.1041\n",
      " iteration 2350, train cost 1.9919, valid cost 2.1042\n",
      " iteration 2400, train cost 1.9827, valid cost 2.0940\n",
      " iteration 2450, train cost 1.9775, valid cost 2.0904\n",
      " iteration 2500, train cost 1.9742, valid cost 2.0863\n",
      " iteration 2550, train cost 1.9725, valid cost 2.0820\n",
      " iteration 2600, train cost 1.9670, valid cost 2.0779\n",
      " iteration 2650, train cost 1.9626, valid cost 2.0736\n",
      " iteration 2700, train cost 1.9586, valid cost 2.0702\n",
      " iteration 2750, train cost 1.9557, valid cost 2.0666\n",
      " iteration 2800, train cost 1.9523, valid cost 2.0628\n",
      " iteration 2850, train cost 1.9471, valid cost 2.0573\n",
      " iteration 2900, train cost 1.9438, valid cost 2.0530\n",
      " iteration 2950, train cost 1.9396, valid cost 2.0478\n",
      " iteration 3000, train cost 1.9345, valid cost 2.0412\n",
      " iteration 3050, train cost 1.9323, valid cost 2.0390\n",
      " iteration 3100, train cost 1.9279, valid cost 2.0340\n",
      " iteration 3150, train cost 1.9247, valid cost 2.0295\n",
      " iteration 3200, train cost 1.9225, valid cost 2.0254\n",
      " iteration 3250, train cost 1.9175, valid cost 2.0236\n",
      " iteration 3300, train cost 1.9162, valid cost 2.0210\n",
      " iteration 3350, train cost 1.9161, valid cost 2.0198\n",
      " iteration 3400, train cost 1.9121, valid cost 2.0155\n",
      " iteration 3450, train cost 1.9117, valid cost 2.0163\n",
      " iteration 3500, train cost 1.9096, valid cost 2.0131\n",
      " iteration 3550, train cost 1.9097, valid cost 2.0117\n",
      " iteration 3600, train cost 1.9063, valid cost 2.0080\n",
      " iteration 3650, train cost 1.9069, valid cost 2.0120\n",
      " iteration 3700, train cost 1.9070, valid cost 2.0106\n",
      " iteration 3750, train cost 1.9028, valid cost 2.0058\n",
      " iteration 3800, train cost 1.9705, valid cost 2.0484\n",
      " iteration 3850, train cost 1.9021, valid cost 2.0011\n",
      " iteration 3900, train cost 1.9003, valid cost 1.9995\n",
      " iteration 3950, train cost 1.8983, valid cost 1.9991\n"
     ]
    },
    {
     "data": {
      "text/html": [
       "<br/>Waiting for W&B process to finish, PID 199467<br/>Program ended successfully."
      ],
      "text/plain": [
       "<IPython.core.display.HTML object>"
      ]
     },
     "metadata": {},
     "output_type": "display_data"
    },
    {
     "name": "stderr",
     "output_type": "stream",
     "text": [
      "Widget Javascript not detected.  It may not be installed or enabled properly.\n"
     ]
    },
    {
     "data": {
      "application/vnd.jupyter.widget-view+json": {
       "model_id": "8137bdaf5bf64695851aa70b8f7b7870"
      }
     },
     "metadata": {},
     "output_type": "display_data"
    },
    {
     "data": {
      "text/html": [
       "Find user logs for this run at: <code>/home/sazeglio/NMAs/src/wandb/run-20210815_105819-yygvk29v/logs/debug.log</code>"
      ],
      "text/plain": [
       "<IPython.core.display.HTML object>"
      ]
     },
     "metadata": {},
     "output_type": "display_data"
    },
    {
     "data": {
      "text/html": [
       "Find internal logs for this run at: <code>/home/sazeglio/NMAs/src/wandb/run-20210815_105819-yygvk29v/logs/debug-internal.log</code>"
      ],
      "text/plain": [
       "<IPython.core.display.HTML object>"
      ]
     },
     "metadata": {},
     "output_type": "display_data"
    },
    {
     "data": {
      "text/html": [
       "<h3>Run summary:</h3><br/><style>\n",
       "    table.wandb td:nth-child(1) { padding: 0 10px; text-align: right }\n",
       "    </style><table class=\"wandb\">\n",
       "<tr><td>train_loss</td><td>1.89759</td></tr><tr><td>valid_loss</td><td>1.99942</td></tr><tr><td>epoch</td><td>3999</td></tr><tr><td>_runtime</td><td>1239</td></tr><tr><td>_timestamp</td><td>1629019138</td></tr><tr><td>_step</td><td>3999</td></tr></table>"
      ],
      "text/plain": [
       "<IPython.core.display.HTML object>"
      ]
     },
     "metadata": {},
     "output_type": "display_data"
    },
    {
     "data": {
      "text/html": [
       "<h3>Run history:</h3><br/><style>\n",
       "    table.wandb td:nth-child(1) { padding: 0 10px; text-align: right }\n",
       "    </style><table class=\"wandb\">\n",
       "<tr><td>train_loss</td><td>██▆▅▅▄▄▃▃▃▃▂▂▂▂▂▂▂▂▂▂▂▁▁▁▁▁▁▁▁▁▁▁▁▁▁▁▁▁▁</td></tr><tr><td>valid_loss</td><td>██▆▅▅▄▄▃▃▃▃▃▂▂▂▂▂▂▂▂▂▂▂▁▁▁▁▁▁▁▁▁▁▁▁▁▁▁▁▁</td></tr><tr><td>epoch</td><td>▁▁▁▂▂▂▂▂▂▃▃▃▃▃▄▄▄▄▄▄▅▅▅▅▅▅▆▆▆▆▆▇▇▇▇▇▇███</td></tr><tr><td>_runtime</td><td>▁▁▁▂▂▂▂▂▂▃▃▃▃▃▄▄▄▄▄▄▅▅▅▅▅▅▆▆▆▆▆▇▇▇▇▇▇███</td></tr><tr><td>_timestamp</td><td>▁▁▁▂▂▂▂▂▂▃▃▃▃▃▄▄▄▄▄▄▅▅▅▅▅▅▆▆▆▆▆▇▇▇▇▇▇███</td></tr><tr><td>_step</td><td>▁▁▁▂▂▂▂▂▂▃▃▃▃▃▄▄▄▄▄▄▅▅▅▅▅▅▆▆▆▆▆▇▇▇▇▇▇███</td></tr></table><br/>"
      ],
      "text/plain": [
       "<IPython.core.display.HTML object>"
      ]
     },
     "metadata": {},
     "output_type": "display_data"
    },
    {
     "data": {
      "text/html": [
       "Synced 5 W&B file(s), 0 media file(s), 0 artifact file(s) and 0 other file(s)"
      ],
      "text/plain": [
       "<IPython.core.display.HTML object>"
      ]
     },
     "metadata": {},
     "output_type": "display_data"
    },
    {
     "data": {
      "text/html": [
       "\n",
       "                    <br/>Synced <strong style=\"color:#cdcd00\">rural-sweep-28</strong>: <a href=\"https://wandb.ai/sazio/NMAs-Full-Signals/runs/yygvk29v\" target=\"_blank\">https://wandb.ai/sazio/NMAs-Full-Signals/runs/yygvk29v</a><br/>\n",
       "                "
      ],
      "text/plain": [
       "<IPython.core.display.HTML object>"
      ]
     },
     "metadata": {},
     "output_type": "display_data"
    },
    {
     "name": "stderr",
     "output_type": "stream",
     "text": [
      "wandb: Agent Starting Run: hrnfz76s with config:\n",
      "wandb: \tdropout: 0.5\n",
      "wandb: \tepochs: 4000\n",
      "wandb: \tlearning_rate: 7.232842044551257e-05\n",
      "wandb: \tn_comp: 500\n",
      "wandb: \tnum_layers: 1\n",
      "wandb: \toptimizer: adam\n",
      "wandb: \tweight_decay: 5e-05\n",
      "Failed to detect the name of this notebook, you can set it manually with the WANDB_NOTEBOOK_NAME environment variable to enable code saving.\n"
     ]
    },
    {
     "data": {
      "text/html": [
       "\n",
       "                Tracking run with wandb version 0.12.0<br/>\n",
       "                Syncing run <strong style=\"color:#cdcd00\">vital-sweep-29</strong> to <a href=\"https://wandb.ai\" target=\"_blank\">Weights & Biases</a> <a href=\"https://docs.wandb.com/integrations/jupyter.html\" target=\"_blank\">(Documentation)</a>.<br/>\n",
       "                Project page: <a href=\"https://wandb.ai/sazio/NMAs-Full-Signals\" target=\"_blank\">https://wandb.ai/sazio/NMAs-Full-Signals</a><br/>\n",
       "                Sweep page: <a href=\"https://wandb.ai/sazio/NMAs-Full-Signals/sweeps/cbewt4f6\" target=\"_blank\">https://wandb.ai/sazio/NMAs-Full-Signals/sweeps/cbewt4f6</a><br/>\n",
       "Run page: <a href=\"https://wandb.ai/sazio/NMAs-Full-Signals/runs/hrnfz76s\" target=\"_blank\">https://wandb.ai/sazio/NMAs-Full-Signals/runs/hrnfz76s</a><br/>\n",
       "                Run data is saved locally in <code>/home/sazeglio/NMAs/src/wandb/run-20210815_111902-hrnfz76s</code><br/><br/>\n",
       "            "
      ],
      "text/plain": [
       "<IPython.core.display.HTML object>"
      ]
     },
     "metadata": {},
     "output_type": "display_data"
    },
    {
     "name": "stdout",
     "output_type": "stream",
     "text": [
      " iteration 0, train cost 4.9219, valid cost 5.0240\n",
      " iteration 50, train cost 4.6939, valid cost 4.7781\n",
      " iteration 100, train cost 3.7830, valid cost 3.8370\n",
      " iteration 150, train cost 3.4164, valid cost 3.4775\n",
      " iteration 200, train cost 3.3244, valid cost 3.3925\n",
      " iteration 250, train cost 3.3011, valid cost 3.3719\n",
      " iteration 300, train cost 3.2918, valid cost 3.3647\n",
      " iteration 350, train cost 3.2870, valid cost 3.3615\n",
      " iteration 400, train cost 3.2841, valid cost 3.3595\n",
      " iteration 450, train cost 3.2809, valid cost 3.3579\n",
      " iteration 500, train cost 3.2788, valid cost 3.3566\n",
      " iteration 550, train cost 3.2767, valid cost 3.3550\n",
      " iteration 600, train cost 3.2739, valid cost 3.3529\n",
      " iteration 650, train cost 3.2703, valid cost 3.3497\n",
      " iteration 700, train cost 3.2650, valid cost 3.3445\n",
      " iteration 750, train cost 3.2573, valid cost 3.3362\n",
      " iteration 800, train cost 3.2442, valid cost 3.3216\n",
      " iteration 850, train cost 3.2224, valid cost 3.2969\n",
      " iteration 900, train cost 3.1900, valid cost 3.2594\n",
      " iteration 950, train cost 3.1496, valid cost 3.2134\n",
      " iteration 1000, train cost 3.1139, valid cost 3.1723\n",
      " iteration 1050, train cost 3.0870, valid cost 3.1444\n",
      " iteration 1100, train cost 3.0665, valid cost 3.1236\n",
      " iteration 1150, train cost 3.0449, valid cost 3.1024\n",
      " iteration 1200, train cost 3.0201, valid cost 3.0780\n",
      " iteration 1250, train cost 2.9960, valid cost 3.0539\n",
      " iteration 1300, train cost 2.9749, valid cost 3.0338\n",
      " iteration 1350, train cost 2.9587, valid cost 3.0179\n",
      " iteration 1400, train cost 2.9449, valid cost 3.0053\n",
      " iteration 1450, train cost 2.9311, valid cost 2.9932\n",
      " iteration 1500, train cost 2.9172, valid cost 2.9805\n",
      " iteration 1550, train cost 2.9012, valid cost 2.9660\n",
      " iteration 1600, train cost 2.8852, valid cost 2.9498\n",
      " iteration 1650, train cost 2.8660, valid cost 2.9317\n",
      " iteration 1700, train cost 2.8462, valid cost 2.9118\n",
      " iteration 1750, train cost 2.8256, valid cost 2.8907\n",
      " iteration 1800, train cost 2.8048, valid cost 2.8707\n",
      " iteration 1850, train cost 2.7853, valid cost 2.8518\n",
      " iteration 1900, train cost 2.7669, valid cost 2.8339\n",
      " iteration 1950, train cost 2.7483, valid cost 2.8170\n",
      " iteration 2000, train cost 2.7315, valid cost 2.8004\n",
      " iteration 2050, train cost 2.7148, valid cost 2.7850\n",
      " iteration 2100, train cost 2.6987, valid cost 2.7703\n",
      " iteration 2150, train cost 2.6832, valid cost 2.7557\n",
      " iteration 2200, train cost 2.6673, valid cost 2.7419\n",
      " iteration 2250, train cost 2.6539, valid cost 2.7285\n",
      " iteration 2300, train cost 2.6391, valid cost 2.7156\n",
      " iteration 2350, train cost 2.6263, valid cost 2.7032\n",
      " iteration 2400, train cost 2.6124, valid cost 2.6907\n",
      " iteration 2450, train cost 2.5991, valid cost 2.6783\n",
      " iteration 2500, train cost 2.5866, valid cost 2.6653\n",
      " iteration 2550, train cost 2.5727, valid cost 2.6530\n",
      " iteration 2600, train cost 2.5593, valid cost 2.6400\n",
      " iteration 2650, train cost 2.5465, valid cost 2.6273\n",
      " iteration 2700, train cost 2.5349, valid cost 2.6147\n",
      " iteration 2750, train cost 2.5225, valid cost 2.6031\n",
      " iteration 2800, train cost 2.5109, valid cost 2.5915\n",
      " iteration 2850, train cost 2.4980, valid cost 2.5800\n",
      " iteration 2900, train cost 2.4876, valid cost 2.5688\n",
      " iteration 2950, train cost 2.4760, valid cost 2.5578\n",
      " iteration 3000, train cost 2.4661, valid cost 2.5478\n",
      " iteration 3050, train cost 2.4548, valid cost 2.5382\n",
      " iteration 3100, train cost 2.4477, valid cost 2.5295\n",
      " iteration 3150, train cost 2.4395, valid cost 2.5212\n",
      " iteration 3200, train cost 2.4312, valid cost 2.5137\n",
      " iteration 3250, train cost 2.4236, valid cost 2.5066\n",
      " iteration 3300, train cost 2.4163, valid cost 2.4994\n",
      " iteration 3350, train cost 2.4086, valid cost 2.4929\n",
      " iteration 3400, train cost 2.4030, valid cost 2.4864\n",
      " iteration 3450, train cost 2.3960, valid cost 2.4805\n",
      " iteration 3500, train cost 2.3922, valid cost 2.4746\n",
      " iteration 3550, train cost 2.3855, valid cost 2.4688\n",
      " iteration 3600, train cost 2.3786, valid cost 2.4628\n",
      " iteration 3650, train cost 2.3723, valid cost 2.4574\n",
      " iteration 3700, train cost 2.3668, valid cost 2.4516\n",
      " iteration 3750, train cost 2.3622, valid cost 2.4462\n",
      " iteration 3800, train cost 2.3565, valid cost 2.4413\n",
      " iteration 3850, train cost 2.3509, valid cost 2.4365\n",
      " iteration 3900, train cost 2.3445, valid cost 2.4317\n",
      " iteration 3950, train cost 2.3400, valid cost 2.4262\n"
     ]
    },
    {
     "data": {
      "text/html": [
       "<br/>Waiting for W&B process to finish, PID 199753<br/>Program ended successfully."
      ],
      "text/plain": [
       "<IPython.core.display.HTML object>"
      ]
     },
     "metadata": {},
     "output_type": "display_data"
    },
    {
     "name": "stderr",
     "output_type": "stream",
     "text": [
      "Widget Javascript not detected.  It may not be installed or enabled properly.\n"
     ]
    },
    {
     "data": {
      "application/vnd.jupyter.widget-view+json": {
       "model_id": "8ecec6762d9e46bca4ccae5dbea49ed8"
      }
     },
     "metadata": {},
     "output_type": "display_data"
    },
    {
     "data": {
      "text/html": [
       "Find user logs for this run at: <code>/home/sazeglio/NMAs/src/wandb/run-20210815_111902-hrnfz76s/logs/debug.log</code>"
      ],
      "text/plain": [
       "<IPython.core.display.HTML object>"
      ]
     },
     "metadata": {},
     "output_type": "display_data"
    },
    {
     "data": {
      "text/html": [
       "Find internal logs for this run at: <code>/home/sazeglio/NMAs/src/wandb/run-20210815_111902-hrnfz76s/logs/debug-internal.log</code>"
      ],
      "text/plain": [
       "<IPython.core.display.HTML object>"
      ]
     },
     "metadata": {},
     "output_type": "display_data"
    },
    {
     "data": {
      "text/html": [
       "<h3>Run summary:</h3><br/><style>\n",
       "    table.wandb td:nth-child(1) { padding: 0 10px; text-align: right }\n",
       "    </style><table class=\"wandb\">\n",
       "<tr><td>train_loss</td><td>2.33455</td></tr><tr><td>valid_loss</td><td>2.42115</td></tr><tr><td>epoch</td><td>3999</td></tr><tr><td>_runtime</td><td>1240</td></tr><tr><td>_timestamp</td><td>1629020382</td></tr><tr><td>_step</td><td>3999</td></tr></table>"
      ],
      "text/plain": [
       "<IPython.core.display.HTML object>"
      ]
     },
     "metadata": {},
     "output_type": "display_data"
    },
    {
     "data": {
      "text/html": [
       "<h3>Run history:</h3><br/><style>\n",
       "    table.wandb td:nth-child(1) { padding: 0 10px; text-align: right }\n",
       "    </style><table class=\"wandb\">\n",
       "<tr><td>train_loss</td><td>█▄▄▄▄▄▄▄▃▃▃▃▃▃▃▃▂▂▂▂▂▂▂▂▂▂▂▂▁▁▁▁▁▁▁▁▁▁▁▁</td></tr><tr><td>valid_loss</td><td>█▄▄▄▄▄▄▄▃▃▃▃▃▃▃▃▂▂▂▂▂▂▂▂▂▂▂▁▁▁▁▁▁▁▁▁▁▁▁▁</td></tr><tr><td>epoch</td><td>▁▁▁▂▂▂▂▂▂▃▃▃▃▃▄▄▄▄▄▄▅▅▅▅▅▅▆▆▆▆▆▇▇▇▇▇▇███</td></tr><tr><td>_runtime</td><td>▁▁▁▂▂▂▂▂▂▃▃▃▃▃▄▄▄▄▄▄▅▅▅▅▅▅▆▆▆▆▆▇▇▇▇▇▇███</td></tr><tr><td>_timestamp</td><td>▁▁▁▂▂▂▂▂▂▃▃▃▃▃▄▄▄▄▄▄▅▅▅▅▅▅▆▆▆▆▆▇▇▇▇▇▇███</td></tr><tr><td>_step</td><td>▁▁▁▂▂▂▂▂▂▃▃▃▃▃▄▄▄▄▄▄▅▅▅▅▅▅▆▆▆▆▆▇▇▇▇▇▇███</td></tr></table><br/>"
      ],
      "text/plain": [
       "<IPython.core.display.HTML object>"
      ]
     },
     "metadata": {},
     "output_type": "display_data"
    },
    {
     "data": {
      "text/html": [
       "Synced 5 W&B file(s), 0 media file(s), 0 artifact file(s) and 0 other file(s)"
      ],
      "text/plain": [
       "<IPython.core.display.HTML object>"
      ]
     },
     "metadata": {},
     "output_type": "display_data"
    },
    {
     "data": {
      "text/html": [
       "\n",
       "                    <br/>Synced <strong style=\"color:#cdcd00\">vital-sweep-29</strong>: <a href=\"https://wandb.ai/sazio/NMAs-Full-Signals/runs/hrnfz76s\" target=\"_blank\">https://wandb.ai/sazio/NMAs-Full-Signals/runs/hrnfz76s</a><br/>\n",
       "                "
      ],
      "text/plain": [
       "<IPython.core.display.HTML object>"
      ]
     },
     "metadata": {},
     "output_type": "display_data"
    },
    {
     "name": "stderr",
     "output_type": "stream",
     "text": [
      "wandb: Agent Starting Run: 866w06h6 with config:\n",
      "wandb: \tdropout: 0.2\n",
      "wandb: \tepochs: 4000\n",
      "wandb: \tlearning_rate: 0.0002868161709432789\n",
      "wandb: \tn_comp: 400\n",
      "wandb: \tnum_layers: 1\n",
      "wandb: \toptimizer: adam\n",
      "wandb: \tweight_decay: 1e-05\n",
      "Failed to detect the name of this notebook, you can set it manually with the WANDB_NOTEBOOK_NAME environment variable to enable code saving.\n"
     ]
    },
    {
     "data": {
      "text/html": [
       "\n",
       "                Tracking run with wandb version 0.12.0<br/>\n",
       "                Syncing run <strong style=\"color:#cdcd00\">young-sweep-30</strong> to <a href=\"https://wandb.ai\" target=\"_blank\">Weights & Biases</a> <a href=\"https://docs.wandb.com/integrations/jupyter.html\" target=\"_blank\">(Documentation)</a>.<br/>\n",
       "                Project page: <a href=\"https://wandb.ai/sazio/NMAs-Full-Signals\" target=\"_blank\">https://wandb.ai/sazio/NMAs-Full-Signals</a><br/>\n",
       "                Sweep page: <a href=\"https://wandb.ai/sazio/NMAs-Full-Signals/sweeps/cbewt4f6\" target=\"_blank\">https://wandb.ai/sazio/NMAs-Full-Signals/sweeps/cbewt4f6</a><br/>\n",
       "Run page: <a href=\"https://wandb.ai/sazio/NMAs-Full-Signals/runs/866w06h6\" target=\"_blank\">https://wandb.ai/sazio/NMAs-Full-Signals/runs/866w06h6</a><br/>\n",
       "                Run data is saved locally in <code>/home/sazeglio/NMAs/src/wandb/run-20210815_113946-866w06h6</code><br/><br/>\n",
       "            "
      ],
      "text/plain": [
       "<IPython.core.display.HTML object>"
      ]
     },
     "metadata": {},
     "output_type": "display_data"
    },
    {
     "name": "stdout",
     "output_type": "stream",
     "text": [
      " iteration 0, train cost 4.9315, valid cost 5.0308\n",
      " iteration 50, train cost 3.4793, valid cost 3.5448\n",
      " iteration 100, train cost 3.2921, valid cost 3.3669\n",
      " iteration 150, train cost 3.2828, valid cost 3.3607\n",
      " iteration 200, train cost 3.2771, valid cost 3.3572\n",
      " iteration 250, train cost 3.2715, valid cost 3.3527\n",
      " iteration 300, train cost 3.2529, valid cost 3.3319\n",
      " iteration 350, train cost 3.1799, valid cost 3.2499\n",
      " iteration 400, train cost 3.1040, valid cost 3.1736\n",
      " iteration 450, train cost 3.0482, valid cost 3.1187\n",
      " iteration 500, train cost 2.9916, valid cost 3.0632\n",
      " iteration 550, train cost 2.9326, valid cost 3.0022\n",
      " iteration 600, train cost 2.8822, valid cost 2.9495\n",
      " iteration 650, train cost 2.8413, valid cost 2.9139\n",
      " iteration 700, train cost 2.8062, valid cost 2.8828\n",
      " iteration 750, train cost 2.7667, valid cost 2.8450\n",
      " iteration 800, train cost 2.7205, valid cost 2.8025\n",
      " iteration 850, train cost 2.6797, valid cost 2.7672\n",
      " iteration 900, train cost 2.6420, valid cost 2.7339\n",
      " iteration 950, train cost 2.6074, valid cost 2.7019\n",
      " iteration 1000, train cost 2.5753, valid cost 2.6716\n",
      " iteration 1050, train cost 2.5441, valid cost 2.6408\n",
      " iteration 1100, train cost 2.5107, valid cost 2.6072\n",
      " iteration 1150, train cost 2.4762, valid cost 2.5723\n",
      " iteration 1200, train cost 2.4449, valid cost 2.5418\n",
      " iteration 1250, train cost 2.4198, valid cost 2.5180\n",
      " iteration 1300, train cost 2.3976, valid cost 2.4993\n",
      " iteration 1350, train cost 2.3809, valid cost 2.4836\n",
      " iteration 1400, train cost 2.3623, valid cost 2.4691\n",
      " iteration 1450, train cost 2.3463, valid cost 2.4540\n",
      " iteration 1500, train cost 2.3310, valid cost 2.4405\n",
      " iteration 1550, train cost 2.3160, valid cost 2.4280\n",
      " iteration 1600, train cost 2.3018, valid cost 2.4157\n",
      " iteration 1650, train cost 2.2878, valid cost 2.4031\n",
      " iteration 1700, train cost 2.2746, valid cost 2.3907\n",
      " iteration 1750, train cost 2.2632, valid cost 2.3790\n",
      " iteration 1800, train cost 2.2492, valid cost 2.3668\n",
      " iteration 1850, train cost 2.2374, valid cost 2.3556\n",
      " iteration 1900, train cost 2.2243, valid cost 2.3447\n",
      " iteration 1950, train cost 2.2168, valid cost 2.3361\n",
      " iteration 2000, train cost 2.2051, valid cost 2.3266\n",
      " iteration 2050, train cost 2.1959, valid cost 2.3178\n",
      " iteration 2100, train cost 2.1859, valid cost 2.3089\n",
      " iteration 2150, train cost 2.1764, valid cost 2.3003\n",
      " iteration 2200, train cost 2.1669, valid cost 2.2915\n",
      " iteration 2250, train cost 2.1573, valid cost 2.2829\n",
      " iteration 2300, train cost 2.1477, valid cost 2.2747\n",
      " iteration 2350, train cost 2.1388, valid cost 2.2663\n",
      " iteration 2400, train cost 2.1309, valid cost 2.2595\n",
      " iteration 2450, train cost 2.1198, valid cost 2.2513\n",
      " iteration 2500, train cost 2.1127, valid cost 2.2433\n",
      " iteration 2550, train cost 2.1032, valid cost 2.2358\n",
      " iteration 2600, train cost 2.0931, valid cost 2.2292\n",
      " iteration 2650, train cost 2.0871, valid cost 2.2215\n",
      " iteration 2700, train cost 2.0793, valid cost 2.2150\n",
      " iteration 2750, train cost 2.0719, valid cost 2.2097\n",
      " iteration 2800, train cost 2.0650, valid cost 2.2045\n",
      " iteration 2850, train cost 2.0608, valid cost 2.1993\n",
      " iteration 2900, train cost 2.0527, valid cost 2.1945\n",
      " iteration 2950, train cost 2.0468, valid cost 2.1894\n",
      " iteration 3000, train cost 2.0401, valid cost 2.1854\n",
      " iteration 3050, train cost 2.0375, valid cost 2.1799\n",
      " iteration 3100, train cost 2.0302, valid cost 2.1761\n",
      " iteration 3150, train cost 2.0256, valid cost 2.1715\n",
      " iteration 3200, train cost 2.0191, valid cost 2.1679\n",
      " iteration 3250, train cost 2.0154, valid cost 2.1637\n",
      " iteration 3300, train cost 2.0113, valid cost 2.1605\n",
      " iteration 3350, train cost 2.0066, valid cost 2.1568\n",
      " iteration 3400, train cost 2.0033, valid cost 2.1533\n",
      " iteration 3450, train cost 1.9983, valid cost 2.1497\n",
      " iteration 3500, train cost 1.9945, valid cost 2.1462\n",
      " iteration 3550, train cost 1.9902, valid cost 2.1432\n",
      " iteration 3600, train cost 1.9854, valid cost 2.1395\n",
      " iteration 3650, train cost 1.9808, valid cost 2.1356\n",
      " iteration 3700, train cost 1.9784, valid cost 2.1321\n",
      " iteration 3750, train cost 1.9733, valid cost 2.1285\n",
      " iteration 3800, train cost 1.9682, valid cost 2.1248\n",
      " iteration 3850, train cost 1.9635, valid cost 2.1204\n",
      " iteration 3900, train cost 1.9577, valid cost 2.1170\n",
      " iteration 3950, train cost 1.9538, valid cost 2.1120\n"
     ]
    },
    {
     "data": {
      "text/html": [
       "<br/>Waiting for W&B process to finish, PID 200054<br/>Program ended successfully."
      ],
      "text/plain": [
       "<IPython.core.display.HTML object>"
      ]
     },
     "metadata": {},
     "output_type": "display_data"
    },
    {
     "name": "stderr",
     "output_type": "stream",
     "text": [
      "Widget Javascript not detected.  It may not be installed or enabled properly.\n"
     ]
    },
    {
     "data": {
      "application/vnd.jupyter.widget-view+json": {
       "model_id": "33685ff23bc44905998aced03bd4dbe3"
      }
     },
     "metadata": {},
     "output_type": "display_data"
    },
    {
     "data": {
      "text/html": [
       "Find user logs for this run at: <code>/home/sazeglio/NMAs/src/wandb/run-20210815_113946-866w06h6/logs/debug.log</code>"
      ],
      "text/plain": [
       "<IPython.core.display.HTML object>"
      ]
     },
     "metadata": {},
     "output_type": "display_data"
    },
    {
     "data": {
      "text/html": [
       "Find internal logs for this run at: <code>/home/sazeglio/NMAs/src/wandb/run-20210815_113946-866w06h6/logs/debug-internal.log</code>"
      ],
      "text/plain": [
       "<IPython.core.display.HTML object>"
      ]
     },
     "metadata": {},
     "output_type": "display_data"
    },
    {
     "data": {
      "text/html": [
       "<h3>Run summary:</h3><br/><style>\n",
       "    table.wandb td:nth-child(1) { padding: 0 10px; text-align: right }\n",
       "    </style><table class=\"wandb\">\n",
       "<tr><td>train_loss</td><td>1.94879</td></tr><tr><td>valid_loss</td><td>2.11021</td></tr><tr><td>epoch</td><td>3999</td></tr><tr><td>_runtime</td><td>1234</td></tr><tr><td>_timestamp</td><td>1629021620</td></tr><tr><td>_step</td><td>3999</td></tr></table>"
      ],
      "text/plain": [
       "<IPython.core.display.HTML object>"
      ]
     },
     "metadata": {},
     "output_type": "display_data"
    },
    {
     "data": {
      "text/html": [
       "<h3>Run history:</h3><br/><style>\n",
       "    table.wandb td:nth-child(1) { padding: 0 10px; text-align: right }\n",
       "    </style><table class=\"wandb\">\n",
       "<tr><td>train_loss</td><td>█▆▆▅▅▄▄▄▄▃▃▃▃▂▂▂▂▂▂▂▂▂▂▂▂▂▁▁▁▁▁▁▁▁▁▁▁▁▁▁</td></tr><tr><td>valid_loss</td><td>█▆▆▅▅▄▄▄▃▃▃▃▂▂▂▂▂▂▂▂▂▂▂▂▂▁▁▁▁▁▁▁▁▁▁▁▁▁▁▁</td></tr><tr><td>epoch</td><td>▁▁▁▂▂▂▂▂▂▃▃▃▃▃▄▄▄▄▄▄▅▅▅▅▅▅▆▆▆▆▆▇▇▇▇▇▇███</td></tr><tr><td>_runtime</td><td>▁▁▁▂▂▂▂▂▂▃▃▃▃▃▃▄▄▄▄▄▅▅▅▅▅▅▆▆▆▆▆▇▇▇▇▇▇███</td></tr><tr><td>_timestamp</td><td>▁▁▁▂▂▂▂▂▂▃▃▃▃▃▃▄▄▄▄▄▅▅▅▅▅▅▆▆▆▆▆▇▇▇▇▇▇███</td></tr><tr><td>_step</td><td>▁▁▁▂▂▂▂▂▂▃▃▃▃▃▄▄▄▄▄▄▅▅▅▅▅▅▆▆▆▆▆▇▇▇▇▇▇███</td></tr></table><br/>"
      ],
      "text/plain": [
       "<IPython.core.display.HTML object>"
      ]
     },
     "metadata": {},
     "output_type": "display_data"
    },
    {
     "data": {
      "text/html": [
       "Synced 5 W&B file(s), 0 media file(s), 0 artifact file(s) and 0 other file(s)"
      ],
      "text/plain": [
       "<IPython.core.display.HTML object>"
      ]
     },
     "metadata": {},
     "output_type": "display_data"
    },
    {
     "data": {
      "text/html": [
       "\n",
       "                    <br/>Synced <strong style=\"color:#cdcd00\">young-sweep-30</strong>: <a href=\"https://wandb.ai/sazio/NMAs-Full-Signals/runs/866w06h6\" target=\"_blank\">https://wandb.ai/sazio/NMAs-Full-Signals/runs/866w06h6</a><br/>\n",
       "                "
      ],
      "text/plain": [
       "<IPython.core.display.HTML object>"
      ]
     },
     "metadata": {},
     "output_type": "display_data"
    },
    {
     "name": "stderr",
     "output_type": "stream",
     "text": [
      "wandb: Agent Starting Run: nu8qc4sf with config:\n",
      "wandb: \tdropout: 0.2\n",
      "wandb: \tepochs: 4000\n",
      "wandb: \tlearning_rate: 0.002033128675671464\n",
      "wandb: \tn_comp: 300\n",
      "wandb: \tnum_layers: 1\n",
      "wandb: \toptimizer: adam\n",
      "wandb: \tweight_decay: 1e-06\n",
      "Failed to detect the name of this notebook, you can set it manually with the WANDB_NOTEBOOK_NAME environment variable to enable code saving.\n"
     ]
    },
    {
     "data": {
      "text/html": [
       "\n",
       "                Tracking run with wandb version 0.12.0<br/>\n",
       "                Syncing run <strong style=\"color:#cdcd00\">iconic-sweep-31</strong> to <a href=\"https://wandb.ai\" target=\"_blank\">Weights & Biases</a> <a href=\"https://docs.wandb.com/integrations/jupyter.html\" target=\"_blank\">(Documentation)</a>.<br/>\n",
       "                Project page: <a href=\"https://wandb.ai/sazio/NMAs-Full-Signals\" target=\"_blank\">https://wandb.ai/sazio/NMAs-Full-Signals</a><br/>\n",
       "                Sweep page: <a href=\"https://wandb.ai/sazio/NMAs-Full-Signals/sweeps/cbewt4f6\" target=\"_blank\">https://wandb.ai/sazio/NMAs-Full-Signals/sweeps/cbewt4f6</a><br/>\n",
       "Run page: <a href=\"https://wandb.ai/sazio/NMAs-Full-Signals/runs/nu8qc4sf\" target=\"_blank\">https://wandb.ai/sazio/NMAs-Full-Signals/runs/nu8qc4sf</a><br/>\n",
       "                Run data is saved locally in <code>/home/sazeglio/NMAs/src/wandb/run-20210815_120026-nu8qc4sf</code><br/><br/>\n",
       "            "
      ],
      "text/plain": [
       "<IPython.core.display.HTML object>"
      ]
     },
     "metadata": {},
     "output_type": "display_data"
    },
    {
     "name": "stdout",
     "output_type": "stream",
     "text": [
      " iteration 0, train cost 4.9285, valid cost 5.0050\n",
      " iteration 50, train cost 3.2794, valid cost 3.3644\n",
      " iteration 100, train cost 3.2525, valid cost 3.3315\n",
      " iteration 150, train cost 3.1787, valid cost 3.2422\n",
      " iteration 200, train cost 3.0681, valid cost 3.1235\n",
      " iteration 250, train cost 2.9936, valid cost 3.0688\n",
      " iteration 300, train cost 2.9502, valid cost 3.0257\n",
      " iteration 350, train cost 2.8967, valid cost 2.9816\n",
      " iteration 400, train cost 2.8179, valid cost 2.9106\n",
      " iteration 450, train cost 2.7469, valid cost 2.8453\n",
      " iteration 500, train cost 2.6862, valid cost 2.8039\n",
      " iteration 550, train cost 2.6364, valid cost 2.7667\n",
      " iteration 600, train cost 2.5923, valid cost 2.7340\n",
      " iteration 650, train cost 2.5511, valid cost 2.7035\n",
      " iteration 700, train cost 2.5395, valid cost 2.6856\n",
      " iteration 750, train cost 2.4760, valid cost 2.6476\n",
      " iteration 800, train cost 2.4447, valid cost 2.6251\n",
      " iteration 850, train cost 2.4172, valid cost 2.6046\n",
      " iteration 900, train cost 2.3795, valid cost 2.5848\n",
      " iteration 950, train cost 2.3543, valid cost 2.5649\n",
      " iteration 1000, train cost 2.3247, valid cost 2.5425\n",
      " iteration 1050, train cost 2.2877, valid cost 2.5205\n",
      " iteration 1100, train cost 2.2672, valid cost 2.5044\n",
      " iteration 1150, train cost 2.2444, valid cost 2.4921\n",
      " iteration 1200, train cost 2.2897, valid cost 2.5021\n",
      " iteration 1250, train cost 2.2643, valid cost 2.4961\n",
      " iteration 1300, train cost 2.2142, valid cost 2.4646\n",
      " iteration 1350, train cost 2.1953, valid cost 2.4566\n",
      " iteration 1400, train cost 2.1805, valid cost 2.4473\n",
      " iteration 1450, train cost 2.1633, valid cost 2.4387\n",
      " iteration 1500, train cost 2.1519, valid cost 2.4289\n",
      " iteration 1550, train cost 2.1442, valid cost 2.4227\n",
      " iteration 1600, train cost 2.1228, valid cost 2.4117\n",
      " iteration 1650, train cost 2.1214, valid cost 2.4078\n",
      " iteration 1700, train cost 2.1008, valid cost 2.3969\n",
      " iteration 1750, train cost 2.0972, valid cost 2.3888\n",
      " iteration 1800, train cost 2.1372, valid cost 2.4004\n",
      " iteration 1850, train cost 2.0744, valid cost 2.3796\n",
      " iteration 1900, train cost 2.0631, valid cost 2.3752\n",
      " iteration 1950, train cost 2.1433, valid cost 2.4008\n",
      " iteration 2000, train cost 2.0556, valid cost 2.3628\n",
      " iteration 2050, train cost 2.0434, valid cost 2.3589\n",
      " iteration 2100, train cost 2.0333, valid cost 2.3562\n",
      " iteration 2150, train cost 2.0250, valid cost 2.3517\n",
      " iteration 2200, train cost 2.0607, valid cost 2.3703\n",
      " iteration 2250, train cost 2.0084, valid cost 2.3390\n",
      " iteration 2300, train cost 2.0195, valid cost 2.3466\n",
      " iteration 2350, train cost 2.0632, valid cost 2.3615\n",
      " iteration 2400, train cost 2.0108, valid cost 2.3316\n",
      " iteration 2450, train cost 1.9864, valid cost 2.3231\n",
      " iteration 2500, train cost 1.9780, valid cost 2.3187\n",
      " iteration 2550, train cost 1.9698, valid cost 2.3152\n",
      " iteration 2600, train cost 1.9668, valid cost 2.3121\n",
      " iteration 2650, train cost 1.9556, valid cost 2.3055\n",
      " iteration 2700, train cost 1.9478, valid cost 2.3001\n",
      " iteration 2750, train cost 1.9495, valid cost 2.2926\n",
      " iteration 2800, train cost 1.9717, valid cost 2.3012\n",
      " iteration 2850, train cost 1.9388, valid cost 2.2859\n",
      " iteration 2900, train cost 1.9291, valid cost 2.2860\n",
      " iteration 2950, train cost 1.9285, valid cost 2.2790\n",
      " iteration 3000, train cost 1.9193, valid cost 2.2768\n",
      " iteration 3050, train cost 1.9107, valid cost 2.2740\n",
      " iteration 3100, train cost 1.9062, valid cost 2.2720\n",
      " iteration 3150, train cost 1.9567, valid cost 2.2921\n",
      " iteration 3200, train cost 1.8937, valid cost 2.2620\n",
      " iteration 3250, train cost 1.9547, valid cost 2.2738\n",
      " iteration 3300, train cost 1.9544, valid cost 2.2729\n",
      " iteration 3350, train cost 1.8874, valid cost 2.2459\n",
      " iteration 3400, train cost 1.8845, valid cost 2.2471\n",
      " iteration 3450, train cost 1.8777, valid cost 2.2464\n",
      " iteration 3500, train cost 1.8758, valid cost 2.2457\n",
      " iteration 3550, train cost 1.8684, valid cost 2.2442\n",
      " iteration 3600, train cost 1.9672, valid cost 2.2769\n",
      " iteration 3650, train cost 1.8776, valid cost 2.2390\n",
      " iteration 3700, train cost 1.8672, valid cost 2.2357\n",
      " iteration 3750, train cost 1.8605, valid cost 2.2347\n",
      " iteration 3800, train cost 1.8619, valid cost 2.2341\n",
      " iteration 3850, train cost 1.9080, valid cost 2.2475\n",
      " iteration 3900, train cost 1.8561, valid cost 2.2300\n",
      " iteration 3950, train cost 1.8551, valid cost 2.2240\n"
     ]
    },
    {
     "data": {
      "text/html": [
       "<br/>Waiting for W&B process to finish, PID 200302<br/>Program ended successfully."
      ],
      "text/plain": [
       "<IPython.core.display.HTML object>"
      ]
     },
     "metadata": {},
     "output_type": "display_data"
    },
    {
     "name": "stderr",
     "output_type": "stream",
     "text": [
      "Widget Javascript not detected.  It may not be installed or enabled properly.\n"
     ]
    },
    {
     "data": {
      "application/vnd.jupyter.widget-view+json": {
       "model_id": "d1fec39b884d4c02866cf7ad21d8e8ca"
      }
     },
     "metadata": {},
     "output_type": "display_data"
    },
    {
     "data": {
      "text/html": [
       "Find user logs for this run at: <code>/home/sazeglio/NMAs/src/wandb/run-20210815_120026-nu8qc4sf/logs/debug.log</code>"
      ],
      "text/plain": [
       "<IPython.core.display.HTML object>"
      ]
     },
     "metadata": {},
     "output_type": "display_data"
    },
    {
     "data": {
      "text/html": [
       "Find internal logs for this run at: <code>/home/sazeglio/NMAs/src/wandb/run-20210815_120026-nu8qc4sf/logs/debug-internal.log</code>"
      ],
      "text/plain": [
       "<IPython.core.display.HTML object>"
      ]
     },
     "metadata": {},
     "output_type": "display_data"
    },
    {
     "data": {
      "text/html": [
       "<h3>Run summary:</h3><br/><style>\n",
       "    table.wandb td:nth-child(1) { padding: 0 10px; text-align: right }\n",
       "    </style><table class=\"wandb\">\n",
       "<tr><td>train_loss</td><td>1.84744</td></tr><tr><td>valid_loss</td><td>2.22473</td></tr><tr><td>epoch</td><td>3999</td></tr><tr><td>_runtime</td><td>1240</td></tr><tr><td>_timestamp</td><td>1629022866</td></tr><tr><td>_step</td><td>3999</td></tr></table>"
      ],
      "text/plain": [
       "<IPython.core.display.HTML object>"
      ]
     },
     "metadata": {},
     "output_type": "display_data"
    },
    {
     "data": {
      "text/html": [
       "<h3>Run history:</h3><br/><style>\n",
       "    table.wandb td:nth-child(1) { padding: 0 10px; text-align: right }\n",
       "    </style><table class=\"wandb\">\n",
       "<tr><td>train_loss</td><td>██▇▆▆▅▄▄▄▃▃▃▃▃▃▂▃▂▂▂▂▂▂▂▂▂▂▁▁▁▁▁▁▁▁▂▁▁▁▁</td></tr><tr><td>valid_loss</td><td>█▇▆▆▅▄▄▄▃▃▃▃▃▂▂▂▂▂▂▂▂▂▂▂▂▂▁▁▁▁▁▁▁▁▁▂▁▁▁▁</td></tr><tr><td>epoch</td><td>▁▁▁▂▂▂▂▂▂▃▃▃▃▃▄▄▄▄▄▄▅▅▅▅▅▅▆▆▆▆▆▇▇▇▇▇▇███</td></tr><tr><td>_runtime</td><td>▁▁▁▂▂▂▂▂▂▃▃▃▃▃▄▄▄▄▄▄▅▅▅▅▅▅▆▆▆▆▆▇▇▇▇▇▇███</td></tr><tr><td>_timestamp</td><td>▁▁▁▂▂▂▂▂▂▃▃▃▃▃▄▄▄▄▄▄▅▅▅▅▅▅▆▆▆▆▆▇▇▇▇▇▇███</td></tr><tr><td>_step</td><td>▁▁▁▂▂▂▂▂▂▃▃▃▃▃▄▄▄▄▄▄▅▅▅▅▅▅▆▆▆▆▆▇▇▇▇▇▇███</td></tr></table><br/>"
      ],
      "text/plain": [
       "<IPython.core.display.HTML object>"
      ]
     },
     "metadata": {},
     "output_type": "display_data"
    },
    {
     "data": {
      "text/html": [
       "Synced 5 W&B file(s), 0 media file(s), 0 artifact file(s) and 0 other file(s)"
      ],
      "text/plain": [
       "<IPython.core.display.HTML object>"
      ]
     },
     "metadata": {},
     "output_type": "display_data"
    },
    {
     "data": {
      "text/html": [
       "\n",
       "                    <br/>Synced <strong style=\"color:#cdcd00\">iconic-sweep-31</strong>: <a href=\"https://wandb.ai/sazio/NMAs-Full-Signals/runs/nu8qc4sf\" target=\"_blank\">https://wandb.ai/sazio/NMAs-Full-Signals/runs/nu8qc4sf</a><br/>\n",
       "                "
      ],
      "text/plain": [
       "<IPython.core.display.HTML object>"
      ]
     },
     "metadata": {},
     "output_type": "display_data"
    },
    {
     "name": "stderr",
     "output_type": "stream",
     "text": [
      "wandb: Agent Starting Run: wuy1mamg with config:\n",
      "wandb: \tdropout: 0.5\n",
      "wandb: \tepochs: 4000\n",
      "wandb: \tlearning_rate: 0.0004568612509166671\n",
      "wandb: \tn_comp: 500\n",
      "wandb: \tnum_layers: 1\n",
      "wandb: \toptimizer: adam\n",
      "wandb: \tweight_decay: 1e-06\n",
      "Failed to detect the name of this notebook, you can set it manually with the WANDB_NOTEBOOK_NAME environment variable to enable code saving.\n"
     ]
    },
    {
     "data": {
      "text/html": [
       "\n",
       "                Tracking run with wandb version 0.12.0<br/>\n",
       "                Syncing run <strong style=\"color:#cdcd00\">jumping-sweep-32</strong> to <a href=\"https://wandb.ai\" target=\"_blank\">Weights & Biases</a> <a href=\"https://docs.wandb.com/integrations/jupyter.html\" target=\"_blank\">(Documentation)</a>.<br/>\n",
       "                Project page: <a href=\"https://wandb.ai/sazio/NMAs-Full-Signals\" target=\"_blank\">https://wandb.ai/sazio/NMAs-Full-Signals</a><br/>\n",
       "                Sweep page: <a href=\"https://wandb.ai/sazio/NMAs-Full-Signals/sweeps/cbewt4f6\" target=\"_blank\">https://wandb.ai/sazio/NMAs-Full-Signals/sweeps/cbewt4f6</a><br/>\n",
       "Run page: <a href=\"https://wandb.ai/sazio/NMAs-Full-Signals/runs/wuy1mamg\" target=\"_blank\">https://wandb.ai/sazio/NMAs-Full-Signals/runs/wuy1mamg</a><br/>\n",
       "                Run data is saved locally in <code>/home/sazeglio/NMAs/src/wandb/run-20210815_122113-wuy1mamg</code><br/><br/>\n",
       "            "
      ],
      "text/plain": [
       "<IPython.core.display.HTML object>"
      ]
     },
     "metadata": {},
     "output_type": "display_data"
    },
    {
     "name": "stdout",
     "output_type": "stream",
     "text": [
      " iteration 0, train cost 4.9361, valid cost 5.0332\n",
      " iteration 50, train cost 3.3307, valid cost 3.4013\n",
      " iteration 100, train cost 3.2822, valid cost 3.3614\n",
      " iteration 150, train cost 3.2749, valid cost 3.3563\n",
      " iteration 200, train cost 3.2545, valid cost 3.3353\n",
      " iteration 250, train cost 3.1779, valid cost 3.2602\n",
      " iteration 300, train cost 3.1169, valid cost 3.1960\n",
      " iteration 350, train cost 3.0604, valid cost 3.1324\n",
      " iteration 400, train cost 2.9914, valid cost 3.0622\n",
      " iteration 450, train cost 2.9205, valid cost 2.9950\n",
      " iteration 500, train cost 2.8618, valid cost 2.9421\n",
      " iteration 550, train cost 2.8193, valid cost 2.9058\n",
      " iteration 600, train cost 2.7770, valid cost 2.8673\n",
      " iteration 650, train cost 2.7314, valid cost 2.8238\n",
      " iteration 700, train cost 2.6871, valid cost 2.7810\n",
      " iteration 750, train cost 2.6462, valid cost 2.7457\n",
      " iteration 800, train cost 2.6089, valid cost 2.7130\n",
      " iteration 850, train cost 2.5705, valid cost 2.6824\n",
      " iteration 900, train cost 2.5355, valid cost 2.6524\n",
      " iteration 950, train cost 2.5034, valid cost 2.6243\n",
      " iteration 1000, train cost 2.4726, valid cost 2.5952\n",
      " iteration 1050, train cost 2.4437, valid cost 2.5690\n",
      " iteration 1100, train cost 2.4172, valid cost 2.5449\n",
      " iteration 1150, train cost 2.3907, valid cost 2.5221\n",
      " iteration 1200, train cost 2.3670, valid cost 2.5025\n",
      " iteration 1250, train cost 2.3444, valid cost 2.4849\n",
      " iteration 1300, train cost 2.3243, valid cost 2.4677\n",
      " iteration 1350, train cost 2.3041, valid cost 2.4529\n",
      " iteration 1400, train cost 2.2864, valid cost 2.4381\n",
      " iteration 1450, train cost 2.2707, valid cost 2.4243\n",
      " iteration 1500, train cost 2.2539, valid cost 2.4104\n",
      " iteration 1550, train cost 2.2387, valid cost 2.3967\n",
      " iteration 1600, train cost 2.2242, valid cost 2.3837\n",
      " iteration 1650, train cost 2.2087, valid cost 2.3696\n",
      " iteration 1700, train cost 2.2117, valid cost 2.3651\n",
      " iteration 1750, train cost 2.1828, valid cost 2.3460\n",
      " iteration 1800, train cost 2.1704, valid cost 2.3363\n",
      " iteration 1850, train cost 2.1610, valid cost 2.3280\n",
      " iteration 1900, train cost 2.1504, valid cost 2.3192\n",
      " iteration 1950, train cost 2.1391, valid cost 2.3122\n",
      " iteration 2000, train cost 2.1295, valid cost 2.3042\n",
      " iteration 2050, train cost 2.1196, valid cost 2.2975\n",
      " iteration 2100, train cost 2.1108, valid cost 2.2907\n",
      " iteration 2150, train cost 2.1001, valid cost 2.2840\n",
      " iteration 2200, train cost 2.0923, valid cost 2.2769\n",
      " iteration 2250, train cost 2.0851, valid cost 2.2699\n",
      " iteration 2300, train cost 2.0758, valid cost 2.2634\n",
      " iteration 2350, train cost 2.0670, valid cost 2.2577\n",
      " iteration 2400, train cost 2.0606, valid cost 2.2516\n",
      " iteration 2450, train cost 2.0510, valid cost 2.2440\n",
      " iteration 2500, train cost 2.0425, valid cost 2.2378\n",
      " iteration 2550, train cost 2.0361, valid cost 2.2311\n",
      " iteration 2600, train cost 2.0274, valid cost 2.2248\n",
      " iteration 2650, train cost 2.0199, valid cost 2.2190\n",
      " iteration 2700, train cost 2.0120, valid cost 2.2128\n",
      " iteration 2750, train cost 2.0041, valid cost 2.2085\n",
      " iteration 2800, train cost 1.9987, valid cost 2.2023\n",
      " iteration 2850, train cost 1.9913, valid cost 2.1976\n",
      " iteration 2900, train cost 1.9842, valid cost 2.1914\n",
      " iteration 2950, train cost 1.9771, valid cost 2.1874\n",
      " iteration 3000, train cost 1.9707, valid cost 2.1817\n",
      " iteration 3050, train cost 1.9657, valid cost 2.1762\n",
      " iteration 3100, train cost 1.9591, valid cost 2.1728\n",
      " iteration 3150, train cost 1.9521, valid cost 2.1681\n",
      " iteration 3200, train cost 1.9497, valid cost 2.1644\n",
      " iteration 3250, train cost 1.9444, valid cost 2.1624\n",
      " iteration 3300, train cost 1.9380, valid cost 2.1562\n",
      " iteration 3350, train cost 1.9335, valid cost 2.1520\n",
      " iteration 3400, train cost 1.9268, valid cost 2.1484\n",
      " iteration 3450, train cost 1.9214, valid cost 2.1458\n",
      " iteration 3500, train cost 1.9153, valid cost 2.1414\n",
      " iteration 3550, train cost 1.9121, valid cost 2.1370\n",
      " iteration 3600, train cost 1.9085, valid cost 2.1327\n",
      " iteration 3650, train cost 1.8996, valid cost 2.1297\n",
      " iteration 3700, train cost 1.8969, valid cost 2.1271\n",
      " iteration 3750, train cost 1.8910, valid cost 2.1241\n",
      " iteration 3800, train cost 1.8886, valid cost 2.1220\n",
      " iteration 3850, train cost 1.8823, valid cost 2.1184\n",
      " iteration 3900, train cost 1.8785, valid cost 2.1154\n",
      " iteration 3950, train cost 1.8742, valid cost 2.1134\n"
     ]
    },
    {
     "data": {
      "text/html": [
       "<br/>Waiting for W&B process to finish, PID 200542<br/>Program ended successfully."
      ],
      "text/plain": [
       "<IPython.core.display.HTML object>"
      ]
     },
     "metadata": {},
     "output_type": "display_data"
    },
    {
     "name": "stderr",
     "output_type": "stream",
     "text": [
      "Widget Javascript not detected.  It may not be installed or enabled properly.\n"
     ]
    },
    {
     "data": {
      "application/vnd.jupyter.widget-view+json": {
       "model_id": "337303f0e4614f0bbd008e5ad98b7b75"
      }
     },
     "metadata": {},
     "output_type": "display_data"
    },
    {
     "data": {
      "text/html": [
       "Find user logs for this run at: <code>/home/sazeglio/NMAs/src/wandb/run-20210815_122113-wuy1mamg/logs/debug.log</code>"
      ],
      "text/plain": [
       "<IPython.core.display.HTML object>"
      ]
     },
     "metadata": {},
     "output_type": "display_data"
    },
    {
     "data": {
      "text/html": [
       "Find internal logs for this run at: <code>/home/sazeglio/NMAs/src/wandb/run-20210815_122113-wuy1mamg/logs/debug-internal.log</code>"
      ],
      "text/plain": [
       "<IPython.core.display.HTML object>"
      ]
     },
     "metadata": {},
     "output_type": "display_data"
    },
    {
     "data": {
      "text/html": [
       "<h3>Run summary:</h3><br/><style>\n",
       "    table.wandb td:nth-child(1) { padding: 0 10px; text-align: right }\n",
       "    </style><table class=\"wandb\">\n",
       "<tr><td>train_loss</td><td>1.86983</td></tr><tr><td>valid_loss</td><td>2.11194</td></tr><tr><td>epoch</td><td>3999</td></tr><tr><td>_runtime</td><td>1239</td></tr><tr><td>_timestamp</td><td>1629024112</td></tr><tr><td>_step</td><td>3999</td></tr></table>"
      ],
      "text/plain": [
       "<IPython.core.display.HTML object>"
      ]
     },
     "metadata": {},
     "output_type": "display_data"
    },
    {
     "data": {
      "text/html": [
       "<h3>Run history:</h3><br/><style>\n",
       "    table.wandb td:nth-child(1) { padding: 0 10px; text-align: right }\n",
       "    </style><table class=\"wandb\">\n",
       "<tr><td>train_loss</td><td>█▇▇▆▅▅▅▄▄▄▃▃▃▃▃▃▂▂▂▂▂▂▂▂▂▂▂▂▁▁▁▁▁▁▁▁▁▁▁▁</td></tr><tr><td>valid_loss</td><td>█▇▆▆▅▅▄▄▄▃▃▃▃▃▂▂▂▂▂▂▂▂▂▂▂▂▁▁▁▁▁▁▁▁▁▁▁▁▁▁</td></tr><tr><td>epoch</td><td>▁▁▁▂▂▂▂▂▂▃▃▃▃▃▄▄▄▄▄▄▅▅▅▅▅▅▆▆▆▆▆▇▇▇▇▇▇███</td></tr><tr><td>_runtime</td><td>▁▁▁▂▂▂▂▂▂▃▃▃▃▃▄▄▄▄▄▄▅▅▅▅▅▅▆▆▆▆▆▇▇▇▇▇▇███</td></tr><tr><td>_timestamp</td><td>▁▁▁▂▂▂▂▂▂▃▃▃▃▃▄▄▄▄▄▄▅▅▅▅▅▅▆▆▆▆▆▇▇▇▇▇▇███</td></tr><tr><td>_step</td><td>▁▁▁▂▂▂▂▂▂▃▃▃▃▃▄▄▄▄▄▄▅▅▅▅▅▅▆▆▆▆▆▇▇▇▇▇▇███</td></tr></table><br/>"
      ],
      "text/plain": [
       "<IPython.core.display.HTML object>"
      ]
     },
     "metadata": {},
     "output_type": "display_data"
    },
    {
     "data": {
      "text/html": [
       "Synced 5 W&B file(s), 0 media file(s), 0 artifact file(s) and 0 other file(s)"
      ],
      "text/plain": [
       "<IPython.core.display.HTML object>"
      ]
     },
     "metadata": {},
     "output_type": "display_data"
    },
    {
     "data": {
      "text/html": [
       "\n",
       "                    <br/>Synced <strong style=\"color:#cdcd00\">jumping-sweep-32</strong>: <a href=\"https://wandb.ai/sazio/NMAs-Full-Signals/runs/wuy1mamg\" target=\"_blank\">https://wandb.ai/sazio/NMAs-Full-Signals/runs/wuy1mamg</a><br/>\n",
       "                "
      ],
      "text/plain": [
       "<IPython.core.display.HTML object>"
      ]
     },
     "metadata": {},
     "output_type": "display_data"
    },
    {
     "name": "stderr",
     "output_type": "stream",
     "text": [
      "wandb: Agent Starting Run: r135yjrk with config:\n",
      "wandb: \tdropout: 0.3\n",
      "wandb: \tepochs: 4000\n",
      "wandb: \tlearning_rate: 0.0008094594802771242\n",
      "wandb: \tn_comp: 400\n",
      "wandb: \tnum_layers: 1\n",
      "wandb: \toptimizer: adam\n",
      "wandb: \tweight_decay: 5e-05\n",
      "Failed to detect the name of this notebook, you can set it manually with the WANDB_NOTEBOOK_NAME environment variable to enable code saving.\n"
     ]
    },
    {
     "data": {
      "text/html": [
       "\n",
       "                Tracking run with wandb version 0.12.0<br/>\n",
       "                Syncing run <strong style=\"color:#cdcd00\">autumn-sweep-33</strong> to <a href=\"https://wandb.ai\" target=\"_blank\">Weights & Biases</a> <a href=\"https://docs.wandb.com/integrations/jupyter.html\" target=\"_blank\">(Documentation)</a>.<br/>\n",
       "                Project page: <a href=\"https://wandb.ai/sazio/NMAs-Full-Signals\" target=\"_blank\">https://wandb.ai/sazio/NMAs-Full-Signals</a><br/>\n",
       "                Sweep page: <a href=\"https://wandb.ai/sazio/NMAs-Full-Signals/sweeps/cbewt4f6\" target=\"_blank\">https://wandb.ai/sazio/NMAs-Full-Signals/sweeps/cbewt4f6</a><br/>\n",
       "Run page: <a href=\"https://wandb.ai/sazio/NMAs-Full-Signals/runs/r135yjrk\" target=\"_blank\">https://wandb.ai/sazio/NMAs-Full-Signals/runs/r135yjrk</a><br/>\n",
       "                Run data is saved locally in <code>/home/sazeglio/NMAs/src/wandb/run-20210815_124157-r135yjrk</code><br/><br/>\n",
       "            "
      ],
      "text/plain": [
       "<IPython.core.display.HTML object>"
      ]
     },
     "metadata": {},
     "output_type": "display_data"
    },
    {
     "name": "stdout",
     "output_type": "stream",
     "text": [
      " iteration 0, train cost 4.9387, valid cost 5.0323\n",
      " iteration 50, train cost 3.2916, valid cost 3.3716\n",
      " iteration 100, train cost 3.2736, valid cost 3.3561\n",
      " iteration 150, train cost 3.2502, valid cost 3.3304\n",
      " iteration 200, train cost 3.0925, valid cost 3.1588\n",
      " iteration 250, train cost 2.9545, valid cost 3.0172\n",
      " iteration 300, train cost 2.8717, valid cost 2.9362\n",
      " iteration 350, train cost 2.7706, valid cost 2.8338\n",
      " iteration 400, train cost 2.6931, valid cost 2.7625\n",
      " iteration 450, train cost 2.6250, valid cost 2.7022\n",
      " iteration 500, train cost 2.5605, valid cost 2.6446\n",
      " iteration 550, train cost 2.5054, valid cost 2.5928\n",
      " iteration 600, train cost 2.4606, valid cost 2.5498\n",
      " iteration 650, train cost 2.4236, valid cost 2.5170\n",
      " iteration 700, train cost 2.3956, valid cost 2.4912\n",
      " iteration 750, train cost 2.3678, valid cost 2.4642\n",
      " iteration 800, train cost 2.3417, valid cost 2.4391\n",
      " iteration 850, train cost 2.3164, valid cost 2.4154\n",
      " iteration 900, train cost 2.2928, valid cost 2.3936\n",
      " iteration 950, train cost 2.2729, valid cost 2.3775\n",
      " iteration 1000, train cost 2.2498, valid cost 2.3544\n",
      " iteration 1050, train cost 2.2303, valid cost 2.3376\n",
      " iteration 1100, train cost 2.2131, valid cost 2.3224\n",
      " iteration 1150, train cost 2.1989, valid cost 2.3079\n",
      " iteration 1200, train cost 2.1810, valid cost 2.2902\n",
      " iteration 1250, train cost 2.1642, valid cost 2.2753\n",
      " iteration 1300, train cost 2.1497, valid cost 2.2625\n",
      " iteration 1350, train cost 2.1380, valid cost 2.2489\n",
      " iteration 1400, train cost 2.1248, valid cost 2.2352\n",
      " iteration 1450, train cost 2.1155, valid cost 2.2264\n",
      " iteration 1500, train cost 2.1015, valid cost 2.2150\n",
      " iteration 1550, train cost 2.0914, valid cost 2.2047\n",
      " iteration 1600, train cost 2.0830, valid cost 2.1957\n",
      " iteration 1650, train cost 2.0692, valid cost 2.1828\n",
      " iteration 1700, train cost 2.0601, valid cost 2.1732\n",
      " iteration 1750, train cost 2.0507, valid cost 2.1676\n",
      " iteration 1800, train cost 2.0424, valid cost 2.1586\n",
      " iteration 1850, train cost 2.0349, valid cost 2.1487\n",
      " iteration 1900, train cost 2.0254, valid cost 2.1414\n",
      " iteration 1950, train cost 2.0155, valid cost 2.1337\n",
      " iteration 2000, train cost 2.0068, valid cost 2.1243\n",
      " iteration 2050, train cost 1.9984, valid cost 2.1147\n",
      " iteration 2100, train cost 1.9946, valid cost 2.1094\n",
      " iteration 2150, train cost 1.9834, valid cost 2.1009\n",
      " iteration 2200, train cost 1.9756, valid cost 2.0920\n",
      " iteration 2250, train cost 1.9679, valid cost 2.0864\n",
      " iteration 2300, train cost 1.9629, valid cost 2.0815\n",
      " iteration 2350, train cost 1.9573, valid cost 2.0761\n",
      " iteration 2400, train cost 1.9508, valid cost 2.0700\n",
      " iteration 2450, train cost 1.9468, valid cost 2.0660\n",
      " iteration 2500, train cost 1.9431, valid cost 2.0602\n",
      " iteration 2550, train cost 1.9348, valid cost 2.0549\n",
      " iteration 2600, train cost 1.9295, valid cost 2.0517\n",
      " iteration 2650, train cost 1.9275, valid cost 2.0501\n",
      " iteration 2700, train cost 1.9225, valid cost 2.0465\n",
      " iteration 2750, train cost 1.9203, valid cost 2.0454\n",
      " iteration 2800, train cost 1.9179, valid cost 2.0397\n",
      " iteration 2850, train cost 1.9124, valid cost 2.0343\n",
      " iteration 2900, train cost 1.9079, valid cost 2.0340\n",
      " iteration 2950, train cost 1.9082, valid cost 2.0288\n",
      " iteration 3000, train cost 1.9039, valid cost 2.0278\n",
      " iteration 3050, train cost 1.9001, valid cost 2.0245\n",
      " iteration 3100, train cost 1.8986, valid cost 2.0238\n",
      " iteration 3150, train cost 1.8953, valid cost 2.0197\n",
      " iteration 3200, train cost 1.8938, valid cost 2.0190\n",
      " iteration 3250, train cost 1.8886, valid cost 2.0139\n",
      " iteration 3300, train cost 1.8886, valid cost 2.0132\n",
      " iteration 3350, train cost 1.8858, valid cost 2.0107\n",
      " iteration 3400, train cost 1.8803, valid cost 2.0069\n",
      " iteration 3450, train cost 1.8791, valid cost 2.0038\n",
      " iteration 3500, train cost 1.8759, valid cost 2.0015\n",
      " iteration 3550, train cost 1.8750, valid cost 2.0012\n",
      " iteration 3600, train cost 1.8723, valid cost 1.9968\n",
      " iteration 3650, train cost 1.8719, valid cost 1.9952\n",
      " iteration 3700, train cost 1.8698, valid cost 1.9952\n",
      " iteration 3750, train cost 1.8662, valid cost 1.9925\n",
      " iteration 3800, train cost 1.8662, valid cost 1.9896\n",
      " iteration 3850, train cost 1.8651, valid cost 1.9876\n",
      " iteration 3900, train cost 1.8644, valid cost 1.9883\n",
      " iteration 3950, train cost 1.8595, valid cost 1.9846\n"
     ]
    },
    {
     "data": {
      "text/html": [
       "<br/>Waiting for W&B process to finish, PID 200781<br/>Program ended successfully."
      ],
      "text/plain": [
       "<IPython.core.display.HTML object>"
      ]
     },
     "metadata": {},
     "output_type": "display_data"
    },
    {
     "name": "stderr",
     "output_type": "stream",
     "text": [
      "Widget Javascript not detected.  It may not be installed or enabled properly.\n"
     ]
    },
    {
     "data": {
      "application/vnd.jupyter.widget-view+json": {
       "model_id": "2972de7eceec4b28ac62a7a35c2c3efe"
      }
     },
     "metadata": {},
     "output_type": "display_data"
    },
    {
     "data": {
      "text/html": [
       "Find user logs for this run at: <code>/home/sazeglio/NMAs/src/wandb/run-20210815_124157-r135yjrk/logs/debug.log</code>"
      ],
      "text/plain": [
       "<IPython.core.display.HTML object>"
      ]
     },
     "metadata": {},
     "output_type": "display_data"
    },
    {
     "data": {
      "text/html": [
       "Find internal logs for this run at: <code>/home/sazeglio/NMAs/src/wandb/run-20210815_124157-r135yjrk/logs/debug-internal.log</code>"
      ],
      "text/plain": [
       "<IPython.core.display.HTML object>"
      ]
     },
     "metadata": {},
     "output_type": "display_data"
    },
    {
     "data": {
      "text/html": [
       "<h3>Run summary:</h3><br/><style>\n",
       "    table.wandb td:nth-child(1) { padding: 0 10px; text-align: right }\n",
       "    </style><table class=\"wandb\">\n",
       "<tr><td>train_loss</td><td>1.85996</td></tr><tr><td>valid_loss</td><td>1.98439</td></tr><tr><td>epoch</td><td>3999</td></tr><tr><td>_runtime</td><td>1240</td></tr><tr><td>_timestamp</td><td>1629025357</td></tr><tr><td>_step</td><td>3999</td></tr></table>"
      ],
      "text/plain": [
       "<IPython.core.display.HTML object>"
      ]
     },
     "metadata": {},
     "output_type": "display_data"
    },
    {
     "data": {
      "text/html": [
       "<h3>Run history:</h3><br/><style>\n",
       "    table.wandb td:nth-child(1) { padding: 0 10px; text-align: right }\n",
       "    </style><table class=\"wandb\">\n",
       "<tr><td>train_loss</td><td>██▆▆▅▄▄▃▃▃▃▃▂▂▂▂▂▂▂▂▂▂▂▁▁▁▁▁▁▁▁▁▁▁▁▁▁▁▁▁</td></tr><tr><td>valid_loss</td><td>██▆▅▅▄▄▃▃▃▃▃▂▂▂▂▂▂▂▂▂▂▂▁▁▁▁▁▁▁▁▁▁▁▁▁▁▁▁▁</td></tr><tr><td>epoch</td><td>▁▁▁▂▂▂▂▂▂▃▃▃▃▃▄▄▄▄▄▄▅▅▅▅▅▅▆▆▆▆▆▇▇▇▇▇▇███</td></tr><tr><td>_runtime</td><td>▁▁▁▂▂▂▂▂▂▃▃▃▃▃▄▄▄▄▄▄▅▅▅▅▅▅▆▆▆▆▆▇▇▇▇▇▇███</td></tr><tr><td>_timestamp</td><td>▁▁▁▂▂▂▂▂▂▃▃▃▃▃▄▄▄▄▄▄▅▅▅▅▅▅▆▆▆▆▆▇▇▇▇▇▇███</td></tr><tr><td>_step</td><td>▁▁▁▂▂▂▂▂▂▃▃▃▃▃▄▄▄▄▄▄▅▅▅▅▅▅▆▆▆▆▆▇▇▇▇▇▇███</td></tr></table><br/>"
      ],
      "text/plain": [
       "<IPython.core.display.HTML object>"
      ]
     },
     "metadata": {},
     "output_type": "display_data"
    },
    {
     "data": {
      "text/html": [
       "Synced 5 W&B file(s), 0 media file(s), 0 artifact file(s) and 0 other file(s)"
      ],
      "text/plain": [
       "<IPython.core.display.HTML object>"
      ]
     },
     "metadata": {},
     "output_type": "display_data"
    },
    {
     "data": {
      "text/html": [
       "\n",
       "                    <br/>Synced <strong style=\"color:#cdcd00\">autumn-sweep-33</strong>: <a href=\"https://wandb.ai/sazio/NMAs-Full-Signals/runs/r135yjrk\" target=\"_blank\">https://wandb.ai/sazio/NMAs-Full-Signals/runs/r135yjrk</a><br/>\n",
       "                "
      ],
      "text/plain": [
       "<IPython.core.display.HTML object>"
      ]
     },
     "metadata": {},
     "output_type": "display_data"
    },
    {
     "name": "stderr",
     "output_type": "stream",
     "text": [
      "wandb: Agent Starting Run: 1aejvn7w with config:\n",
      "wandb: \tdropout: 0.2\n",
      "wandb: \tepochs: 4000\n",
      "wandb: \tlearning_rate: 0.0011598945134275228\n",
      "wandb: \tn_comp: 500\n",
      "wandb: \tnum_layers: 1\n",
      "wandb: \toptimizer: adam\n",
      "wandb: \tweight_decay: 5e-05\n",
      "Failed to detect the name of this notebook, you can set it manually with the WANDB_NOTEBOOK_NAME environment variable to enable code saving.\n"
     ]
    },
    {
     "data": {
      "text/html": [
       "\n",
       "                Tracking run with wandb version 0.12.0<br/>\n",
       "                Syncing run <strong style=\"color:#cdcd00\">fallen-sweep-34</strong> to <a href=\"https://wandb.ai\" target=\"_blank\">Weights & Biases</a> <a href=\"https://docs.wandb.com/integrations/jupyter.html\" target=\"_blank\">(Documentation)</a>.<br/>\n",
       "                Project page: <a href=\"https://wandb.ai/sazio/NMAs-Full-Signals\" target=\"_blank\">https://wandb.ai/sazio/NMAs-Full-Signals</a><br/>\n",
       "                Sweep page: <a href=\"https://wandb.ai/sazio/NMAs-Full-Signals/sweeps/cbewt4f6\" target=\"_blank\">https://wandb.ai/sazio/NMAs-Full-Signals/sweeps/cbewt4f6</a><br/>\n",
       "Run page: <a href=\"https://wandb.ai/sazio/NMAs-Full-Signals/runs/1aejvn7w\" target=\"_blank\">https://wandb.ai/sazio/NMAs-Full-Signals/runs/1aejvn7w</a><br/>\n",
       "                Run data is saved locally in <code>/home/sazeglio/NMAs/src/wandb/run-20210815_130241-1aejvn7w</code><br/><br/>\n",
       "            "
      ],
      "text/plain": [
       "<IPython.core.display.HTML object>"
      ]
     },
     "metadata": {},
     "output_type": "display_data"
    },
    {
     "name": "stdout",
     "output_type": "stream",
     "text": [
      " iteration 0, train cost 4.9326, valid cost 5.0215\n",
      " iteration 50, train cost 3.2839, valid cost 3.3664\n",
      " iteration 100, train cost 3.2677, valid cost 3.3513\n",
      " iteration 150, train cost 3.1464, valid cost 3.2094\n",
      " iteration 200, train cost 3.0106, valid cost 3.0742\n",
      " iteration 250, train cost 2.9093, valid cost 2.9778\n",
      " iteration 300, train cost 2.8070, valid cost 2.8727\n",
      " iteration 350, train cost 2.7335, valid cost 2.8034\n",
      " iteration 400, train cost 2.6535, valid cost 2.7242\n",
      " iteration 450, train cost 2.5781, valid cost 2.6524\n",
      " iteration 500, train cost 2.5294, valid cost 2.6060\n",
      " iteration 550, train cost 2.4919, valid cost 2.5713\n",
      " iteration 600, train cost 2.4576, valid cost 2.5377\n",
      " iteration 650, train cost 2.4233, valid cost 2.5050\n",
      " iteration 700, train cost 2.3903, valid cost 2.4738\n",
      " iteration 750, train cost 2.3564, valid cost 2.4391\n",
      " iteration 800, train cost 2.3266, valid cost 2.4175\n",
      " iteration 850, train cost 2.3010, valid cost 2.3826\n",
      " iteration 900, train cost 2.2759, valid cost 2.3580\n",
      " iteration 950, train cost 2.2552, valid cost 2.3405\n",
      " iteration 1000, train cost 2.2385, valid cost 2.3242\n",
      " iteration 1050, train cost 2.2289, valid cost 2.3116\n",
      " iteration 1100, train cost 2.2079, valid cost 2.2974\n",
      " iteration 1150, train cost 2.1985, valid cost 2.2859\n",
      " iteration 1200, train cost 2.1773, valid cost 2.2680\n",
      " iteration 1250, train cost 2.1646, valid cost 2.2552\n",
      " iteration 1300, train cost 2.1538, valid cost 2.2443\n",
      " iteration 1350, train cost 2.1402, valid cost 2.2318\n",
      " iteration 1400, train cost 2.1527, valid cost 2.2379\n",
      " iteration 1450, train cost 2.1184, valid cost 2.2129\n",
      " iteration 1500, train cost 2.1102, valid cost 2.2030\n",
      " iteration 1550, train cost 2.0983, valid cost 2.1930\n",
      " iteration 1600, train cost 2.0882, valid cost 2.1830\n",
      " iteration 1650, train cost 2.0778, valid cost 2.1755\n",
      " iteration 1700, train cost 2.0682, valid cost 2.1663\n",
      " iteration 1750, train cost 2.0655, valid cost 2.1624\n",
      " iteration 1800, train cost 2.0568, valid cost 2.1551\n",
      " iteration 1850, train cost 2.0488, valid cost 2.1497\n",
      " iteration 1900, train cost 2.0467, valid cost 2.1471\n",
      " iteration 1950, train cost 2.0383, valid cost 2.1394\n",
      " iteration 2000, train cost 2.0323, valid cost 2.1357\n",
      " iteration 2050, train cost 2.0301, valid cost 2.1309\n",
      " iteration 2100, train cost 2.0217, valid cost 2.1224\n",
      " iteration 2150, train cost 2.0161, valid cost 2.1167\n",
      " iteration 2200, train cost 2.0130, valid cost 2.1118\n",
      " iteration 2250, train cost 2.0050, valid cost 2.1066\n",
      " iteration 2300, train cost 2.0010, valid cost 2.0985\n",
      " iteration 2350, train cost 1.9929, valid cost 2.0956\n",
      " iteration 2400, train cost 1.9880, valid cost 2.0907\n",
      " iteration 2450, train cost 1.9861, valid cost 2.0869\n",
      " iteration 2500, train cost 1.9821, valid cost 2.0794\n",
      " iteration 2550, train cost 1.9780, valid cost 2.0750\n",
      " iteration 2600, train cost 1.9707, valid cost 2.0712\n",
      " iteration 2650, train cost 1.9682, valid cost 2.0666\n",
      " iteration 2700, train cost 1.9620, valid cost 2.0621\n",
      " iteration 2750, train cost 1.9587, valid cost 2.0561\n",
      " iteration 2800, train cost 1.9552, valid cost 2.0524\n",
      " iteration 2850, train cost 1.9865, valid cost 2.0866\n",
      " iteration 2900, train cost 1.9468, valid cost 2.0459\n",
      " iteration 2950, train cost 2.0606, valid cost 2.1386\n",
      " iteration 3000, train cost 1.9459, valid cost 2.0432\n",
      " iteration 3050, train cost 1.9397, valid cost 2.0398\n",
      " iteration 3100, train cost 1.9367, valid cost 2.0376\n",
      " iteration 3150, train cost 1.9362, valid cost 2.0377\n",
      " iteration 3200, train cost 1.9354, valid cost 2.0337\n",
      " iteration 3250, train cost 1.9312, valid cost 2.0317\n",
      " iteration 3300, train cost 1.9288, valid cost 2.0279\n",
      " iteration 3350, train cost 1.9285, valid cost 2.0323\n",
      " iteration 3400, train cost 1.9242, valid cost 2.0266\n",
      " iteration 3450, train cost 1.9210, valid cost 2.0248\n",
      " iteration 3500, train cost 1.9210, valid cost 2.0270\n",
      " iteration 3550, train cost 1.9190, valid cost 2.0212\n",
      " iteration 3600, train cost 1.9199, valid cost 2.0206\n",
      " iteration 3650, train cost 1.9150, valid cost 2.0186\n",
      " iteration 3700, train cost 1.9167, valid cost 2.0230\n",
      " iteration 3750, train cost 1.9155, valid cost 2.0172\n",
      " iteration 3800, train cost 1.9127, valid cost 2.0162\n",
      " iteration 3850, train cost 1.9118, valid cost 2.0162\n",
      " iteration 3900, train cost 1.9100, valid cost 2.0156\n",
      " iteration 3950, train cost 1.9115, valid cost 2.0145\n"
     ]
    },
    {
     "data": {
      "text/html": [
       "<br/>Waiting for W&B process to finish, PID 200977<br/>Program ended successfully."
      ],
      "text/plain": [
       "<IPython.core.display.HTML object>"
      ]
     },
     "metadata": {},
     "output_type": "display_data"
    },
    {
     "name": "stderr",
     "output_type": "stream",
     "text": [
      "Widget Javascript not detected.  It may not be installed or enabled properly.\n"
     ]
    },
    {
     "data": {
      "application/vnd.jupyter.widget-view+json": {
       "model_id": "234532ef26b34cbc8268406ced257359"
      }
     },
     "metadata": {},
     "output_type": "display_data"
    },
    {
     "data": {
      "text/html": [
       "Find user logs for this run at: <code>/home/sazeglio/NMAs/src/wandb/run-20210815_130241-1aejvn7w/logs/debug.log</code>"
      ],
      "text/plain": [
       "<IPython.core.display.HTML object>"
      ]
     },
     "metadata": {},
     "output_type": "display_data"
    },
    {
     "data": {
      "text/html": [
       "Find internal logs for this run at: <code>/home/sazeglio/NMAs/src/wandb/run-20210815_130241-1aejvn7w/logs/debug-internal.log</code>"
      ],
      "text/plain": [
       "<IPython.core.display.HTML object>"
      ]
     },
     "metadata": {},
     "output_type": "display_data"
    },
    {
     "data": {
      "text/html": [
       "<h3>Run summary:</h3><br/><style>\n",
       "    table.wandb td:nth-child(1) { padding: 0 10px; text-align: right }\n",
       "    </style><table class=\"wandb\">\n",
       "<tr><td>train_loss</td><td>1.91004</td></tr><tr><td>valid_loss</td><td>2.0142</td></tr><tr><td>epoch</td><td>3999</td></tr><tr><td>_runtime</td><td>1239</td></tr><tr><td>_timestamp</td><td>1629026600</td></tr><tr><td>_step</td><td>3999</td></tr></table>"
      ],
      "text/plain": [
       "<IPython.core.display.HTML object>"
      ]
     },
     "metadata": {},
     "output_type": "display_data"
    },
    {
     "data": {
      "text/html": [
       "<h3>Run history:</h3><br/><style>\n",
       "    table.wandb td:nth-child(1) { padding: 0 10px; text-align: right }\n",
       "    </style><table class=\"wandb\">\n",
       "<tr><td>train_loss</td><td>██▆▅▅▄▄▃▃▃▃▂▂▂▂▂▂▂▂▂▂▂▁▁▁▁▁▁▁▁▁▁▁▁▁▁▁▁▁▁</td></tr><tr><td>valid_loss</td><td>██▆▅▄▄▄▃▃▃▃▂▂▂▂▂▂▂▂▂▂▂▁▁▁▁▁▁▁▁▁▁▁▁▁▁▁▁▁▁</td></tr><tr><td>epoch</td><td>▁▁▁▂▂▂▂▂▂▃▃▃▃▃▄▄▄▄▄▄▅▅▅▅▅▅▆▆▆▆▆▇▇▇▇▇▇███</td></tr><tr><td>_runtime</td><td>▁▁▁▂▂▂▂▂▂▃▃▃▃▃▄▄▄▄▄▄▅▅▅▅▅▅▆▆▆▆▆▇▇▇▇▇▇███</td></tr><tr><td>_timestamp</td><td>▁▁▁▂▂▂▂▂▂▃▃▃▃▃▄▄▄▄▄▄▅▅▅▅▅▅▆▆▆▆▆▇▇▇▇▇▇███</td></tr><tr><td>_step</td><td>▁▁▁▂▂▂▂▂▂▃▃▃▃▃▄▄▄▄▄▄▅▅▅▅▅▅▆▆▆▆▆▇▇▇▇▇▇███</td></tr></table><br/>"
      ],
      "text/plain": [
       "<IPython.core.display.HTML object>"
      ]
     },
     "metadata": {},
     "output_type": "display_data"
    },
    {
     "data": {
      "text/html": [
       "Synced 5 W&B file(s), 0 media file(s), 0 artifact file(s) and 0 other file(s)"
      ],
      "text/plain": [
       "<IPython.core.display.HTML object>"
      ]
     },
     "metadata": {},
     "output_type": "display_data"
    },
    {
     "data": {
      "text/html": [
       "\n",
       "                    <br/>Synced <strong style=\"color:#cdcd00\">fallen-sweep-34</strong>: <a href=\"https://wandb.ai/sazio/NMAs-Full-Signals/runs/1aejvn7w\" target=\"_blank\">https://wandb.ai/sazio/NMAs-Full-Signals/runs/1aejvn7w</a><br/>\n",
       "                "
      ],
      "text/plain": [
       "<IPython.core.display.HTML object>"
      ]
     },
     "metadata": {},
     "output_type": "display_data"
    },
    {
     "name": "stderr",
     "output_type": "stream",
     "text": [
      "wandb: Agent Starting Run: 5t5hjh0o with config:\n",
      "wandb: \tdropout: 0.1\n",
      "wandb: \tepochs: 4000\n",
      "wandb: \tlearning_rate: 0.0007341433648093577\n",
      "wandb: \tn_comp: 200\n",
      "wandb: \tnum_layers: 1\n",
      "wandb: \toptimizer: adam\n",
      "wandb: \tweight_decay: 1e-06\n",
      "Failed to detect the name of this notebook, you can set it manually with the WANDB_NOTEBOOK_NAME environment variable to enable code saving.\n"
     ]
    },
    {
     "data": {
      "text/html": [
       "\n",
       "                Tracking run with wandb version 0.12.0<br/>\n",
       "                Syncing run <strong style=\"color:#cdcd00\">lunar-sweep-35</strong> to <a href=\"https://wandb.ai\" target=\"_blank\">Weights & Biases</a> <a href=\"https://docs.wandb.com/integrations/jupyter.html\" target=\"_blank\">(Documentation)</a>.<br/>\n",
       "                Project page: <a href=\"https://wandb.ai/sazio/NMAs-Full-Signals\" target=\"_blank\">https://wandb.ai/sazio/NMAs-Full-Signals</a><br/>\n",
       "                Sweep page: <a href=\"https://wandb.ai/sazio/NMAs-Full-Signals/sweeps/cbewt4f6\" target=\"_blank\">https://wandb.ai/sazio/NMAs-Full-Signals/sweeps/cbewt4f6</a><br/>\n",
       "Run page: <a href=\"https://wandb.ai/sazio/NMAs-Full-Signals/runs/5t5hjh0o\" target=\"_blank\">https://wandb.ai/sazio/NMAs-Full-Signals/runs/5t5hjh0o</a><br/>\n",
       "                Run data is saved locally in <code>/home/sazeglio/NMAs/src/wandb/run-20210815_132325-5t5hjh0o</code><br/><br/>\n",
       "            "
      ],
      "text/plain": [
       "<IPython.core.display.HTML object>"
      ]
     },
     "metadata": {},
     "output_type": "display_data"
    },
    {
     "name": "stdout",
     "output_type": "stream",
     "text": [
      " iteration 0, train cost 4.9389, valid cost 5.0337\n",
      " iteration 50, train cost 3.2954, valid cost 3.3710\n",
      " iteration 100, train cost 3.2781, valid cost 3.3599\n",
      " iteration 150, train cost 3.2698, valid cost 3.3521\n",
      " iteration 200, train cost 3.2045, valid cost 3.2704\n",
      " iteration 250, train cost 3.0858, valid cost 3.1450\n",
      " iteration 300, train cost 3.0163, valid cost 3.0825\n",
      " iteration 350, train cost 2.9377, valid cost 3.0144\n",
      " iteration 400, train cost 2.8814, valid cost 2.9593\n",
      " iteration 450, train cost 2.8317, valid cost 2.9180\n",
      " iteration 500, train cost 2.7841, valid cost 2.8766\n",
      " iteration 550, train cost 2.7284, valid cost 2.8223\n",
      " iteration 600, train cost 2.6731, valid cost 2.7685\n",
      " iteration 650, train cost 2.6290, valid cost 2.7293\n",
      " iteration 700, train cost 2.5893, valid cost 2.6955\n",
      " iteration 750, train cost 2.5506, valid cost 2.6628\n",
      " iteration 800, train cost 2.5110, valid cost 2.6263\n",
      " iteration 850, train cost 2.4743, valid cost 2.5944\n",
      " iteration 900, train cost 2.4392, valid cost 2.5639\n",
      " iteration 950, train cost 2.4035, valid cost 2.5304\n",
      " iteration 1000, train cost 2.3701, valid cost 2.4988\n",
      " iteration 1050, train cost 2.3402, valid cost 2.4711\n",
      " iteration 1100, train cost 2.3142, valid cost 2.4482\n",
      " iteration 1150, train cost 2.2892, valid cost 2.4268\n",
      " iteration 1200, train cost 2.2675, valid cost 2.4079\n",
      " iteration 1250, train cost 2.2449, valid cost 2.3892\n",
      " iteration 1300, train cost 2.2247, valid cost 2.3719\n",
      " iteration 1350, train cost 2.2066, valid cost 2.3550\n",
      " iteration 1400, train cost 2.1875, valid cost 2.3385\n",
      " iteration 1450, train cost 2.1718, valid cost 2.3230\n",
      " iteration 1500, train cost 2.1927, valid cost 2.3348\n",
      " iteration 1550, train cost 2.1465, valid cost 2.2993\n",
      " iteration 1600, train cost 2.1342, valid cost 2.2888\n",
      " iteration 1650, train cost 2.1210, valid cost 2.2784\n",
      " iteration 1700, train cost 2.1191, valid cost 2.2776\n",
      " iteration 1750, train cost 2.0962, valid cost 2.2587\n",
      " iteration 1800, train cost 2.0841, valid cost 2.2477\n",
      " iteration 1850, train cost 2.0755, valid cost 2.2390\n",
      " iteration 1900, train cost 2.0623, valid cost 2.2293\n",
      " iteration 1950, train cost 2.0530, valid cost 2.2203\n",
      " iteration 2000, train cost 2.0458, valid cost 2.2148\n",
      " iteration 2050, train cost 2.0306, valid cost 2.2025\n",
      " iteration 2100, train cost 2.0205, valid cost 2.1952\n",
      " iteration 2150, train cost 2.0108, valid cost 2.1864\n",
      " iteration 2200, train cost 2.0002, valid cost 2.1773\n",
      " iteration 2250, train cost 1.9929, valid cost 2.1709\n",
      " iteration 2300, train cost 1.9828, valid cost 2.1617\n",
      " iteration 2350, train cost 1.9741, valid cost 2.1538\n",
      " iteration 2400, train cost 1.9644, valid cost 2.1486\n",
      " iteration 2450, train cost 1.9544, valid cost 2.1417\n",
      " iteration 2500, train cost 1.9454, valid cost 2.1344\n",
      " iteration 2550, train cost 1.9364, valid cost 2.1303\n",
      " iteration 2600, train cost 1.9356, valid cost 2.1260\n",
      " iteration 2650, train cost 1.9210, valid cost 2.1150\n",
      " iteration 2700, train cost 1.9111, valid cost 2.1111\n",
      " iteration 2750, train cost 1.9049, valid cost 2.1055\n",
      " iteration 2800, train cost 1.8973, valid cost 2.0992\n",
      " iteration 2850, train cost 1.9026, valid cost 2.1133\n",
      " iteration 2900, train cost 1.8836, valid cost 2.0879\n",
      " iteration 2950, train cost 1.8824, valid cost 2.0876\n",
      " iteration 3000, train cost 1.8739, valid cost 2.0814\n",
      " iteration 3050, train cost 1.8651, valid cost 2.0768\n",
      " iteration 3100, train cost 1.8593, valid cost 2.0736\n",
      " iteration 3150, train cost 1.8553, valid cost 2.0696\n",
      " iteration 3200, train cost 1.8502, valid cost 2.0671\n",
      " iteration 3250, train cost 1.8758, valid cost 2.1050\n",
      " iteration 3300, train cost 1.8421, valid cost 2.0594\n",
      " iteration 3350, train cost 1.8364, valid cost 2.0564\n",
      " iteration 3400, train cost 1.8439, valid cost 2.0659\n",
      " iteration 3450, train cost 1.8967, valid cost 2.3436\n",
      " iteration 3500, train cost 1.8259, valid cost 2.0432\n",
      " iteration 3550, train cost 1.8188, valid cost 2.0426\n",
      " iteration 3600, train cost 1.8154, valid cost 2.0420\n",
      " iteration 3650, train cost 1.8110, valid cost 2.0405\n",
      " iteration 3700, train cost 1.8085, valid cost 2.0391\n",
      " iteration 3750, train cost 1.8032, valid cost 2.0377\n",
      " iteration 3800, train cost 1.7989, valid cost 2.0360\n",
      " iteration 3850, train cost 1.7962, valid cost 2.0351\n",
      " iteration 3900, train cost 1.7964, valid cost 2.0312\n",
      " iteration 3950, train cost 1.8122, valid cost 2.0466\n"
     ]
    },
    {
     "data": {
      "text/html": [
       "<br/>Waiting for W&B process to finish, PID 201236<br/>Program ended successfully."
      ],
      "text/plain": [
       "<IPython.core.display.HTML object>"
      ]
     },
     "metadata": {},
     "output_type": "display_data"
    },
    {
     "name": "stderr",
     "output_type": "stream",
     "text": [
      "Widget Javascript not detected.  It may not be installed or enabled properly.\n"
     ]
    },
    {
     "data": {
      "application/vnd.jupyter.widget-view+json": {
       "model_id": "7fc6d7d5d8224d61884d10e231e468c1"
      }
     },
     "metadata": {},
     "output_type": "display_data"
    },
    {
     "data": {
      "text/html": [
       "Find user logs for this run at: <code>/home/sazeglio/NMAs/src/wandb/run-20210815_132325-5t5hjh0o/logs/debug.log</code>"
      ],
      "text/plain": [
       "<IPython.core.display.HTML object>"
      ]
     },
     "metadata": {},
     "output_type": "display_data"
    },
    {
     "data": {
      "text/html": [
       "Find internal logs for this run at: <code>/home/sazeglio/NMAs/src/wandb/run-20210815_132325-5t5hjh0o/logs/debug-internal.log</code>"
      ],
      "text/plain": [
       "<IPython.core.display.HTML object>"
      ]
     },
     "metadata": {},
     "output_type": "display_data"
    },
    {
     "data": {
      "text/html": [
       "<h3>Run summary:</h3><br/><style>\n",
       "    table.wandb td:nth-child(1) { padding: 0 10px; text-align: right }\n",
       "    </style><table class=\"wandb\">\n",
       "<tr><td>train_loss</td><td>1.78866</td></tr><tr><td>valid_loss</td><td>2.02927</td></tr><tr><td>epoch</td><td>3999</td></tr><tr><td>_runtime</td><td>1240</td></tr><tr><td>_timestamp</td><td>1629027845</td></tr><tr><td>_step</td><td>3999</td></tr></table>"
      ],
      "text/plain": [
       "<IPython.core.display.HTML object>"
      ]
     },
     "metadata": {},
     "output_type": "display_data"
    },
    {
     "data": {
      "text/html": [
       "<h3>Run history:</h3><br/><style>\n",
       "    table.wandb td:nth-child(1) { padding: 0 10px; text-align: right }\n",
       "    </style><table class=\"wandb\">\n",
       "<tr><td>train_loss</td><td>██▇▆▆▅▅▄▄▄▃▃▃▃▃▃▂▂▂▂▂▂▂▂▂▂▂▁▁▁▁▁▁▁▁▁▁▁▁▁</td></tr><tr><td>valid_loss</td><td>██▇▆▆▅▅▄▄▄▃▃▃▃▂▂▂▂▂▂▂▂▂▂▂▁▁▁▁▁▁▁▁▁▁▁▁▁▁▁</td></tr><tr><td>epoch</td><td>▁▁▁▂▂▂▂▂▂▃▃▃▃▃▄▄▄▄▄▄▅▅▅▅▅▅▆▆▆▆▆▇▇▇▇▇▇███</td></tr><tr><td>_runtime</td><td>▁▁▁▂▂▂▂▂▂▃▃▃▃▃▄▄▄▄▄▄▅▅▅▅▅▅▆▆▆▆▆▇▇▇▇▇▇███</td></tr><tr><td>_timestamp</td><td>▁▁▁▂▂▂▂▂▂▃▃▃▃▃▄▄▄▄▄▄▅▅▅▅▅▅▆▆▆▆▆▇▇▇▇▇▇███</td></tr><tr><td>_step</td><td>▁▁▁▂▂▂▂▂▂▃▃▃▃▃▄▄▄▄▄▄▅▅▅▅▅▅▆▆▆▆▆▇▇▇▇▇▇███</td></tr></table><br/>"
      ],
      "text/plain": [
       "<IPython.core.display.HTML object>"
      ]
     },
     "metadata": {},
     "output_type": "display_data"
    },
    {
     "data": {
      "text/html": [
       "Synced 5 W&B file(s), 0 media file(s), 0 artifact file(s) and 0 other file(s)"
      ],
      "text/plain": [
       "<IPython.core.display.HTML object>"
      ]
     },
     "metadata": {},
     "output_type": "display_data"
    },
    {
     "data": {
      "text/html": [
       "\n",
       "                    <br/>Synced <strong style=\"color:#cdcd00\">lunar-sweep-35</strong>: <a href=\"https://wandb.ai/sazio/NMAs-Full-Signals/runs/5t5hjh0o\" target=\"_blank\">https://wandb.ai/sazio/NMAs-Full-Signals/runs/5t5hjh0o</a><br/>\n",
       "                "
      ],
      "text/plain": [
       "<IPython.core.display.HTML object>"
      ]
     },
     "metadata": {},
     "output_type": "display_data"
    },
    {
     "name": "stderr",
     "output_type": "stream",
     "text": [
      "wandb: Agent Starting Run: iurdru4r with config:\n",
      "wandb: \tdropout: 0.5\n",
      "wandb: \tepochs: 4000\n",
      "wandb: \tlearning_rate: 0.0008642078096951154\n",
      "wandb: \tn_comp: 500\n",
      "wandb: \tnum_layers: 1\n",
      "wandb: \toptimizer: adam\n",
      "wandb: \tweight_decay: 1e-05\n",
      "Failed to detect the name of this notebook, you can set it manually with the WANDB_NOTEBOOK_NAME environment variable to enable code saving.\n"
     ]
    },
    {
     "data": {
      "text/html": [
       "\n",
       "                Tracking run with wandb version 0.12.0<br/>\n",
       "                Syncing run <strong style=\"color:#cdcd00\">sandy-sweep-36</strong> to <a href=\"https://wandb.ai\" target=\"_blank\">Weights & Biases</a> <a href=\"https://docs.wandb.com/integrations/jupyter.html\" target=\"_blank\">(Documentation)</a>.<br/>\n",
       "                Project page: <a href=\"https://wandb.ai/sazio/NMAs-Full-Signals\" target=\"_blank\">https://wandb.ai/sazio/NMAs-Full-Signals</a><br/>\n",
       "                Sweep page: <a href=\"https://wandb.ai/sazio/NMAs-Full-Signals/sweeps/cbewt4f6\" target=\"_blank\">https://wandb.ai/sazio/NMAs-Full-Signals/sweeps/cbewt4f6</a><br/>\n",
       "Run page: <a href=\"https://wandb.ai/sazio/NMAs-Full-Signals/runs/iurdru4r\" target=\"_blank\">https://wandb.ai/sazio/NMAs-Full-Signals/runs/iurdru4r</a><br/>\n",
       "                Run data is saved locally in <code>/home/sazeglio/NMAs/src/wandb/run-20210815_134409-iurdru4r</code><br/><br/>\n",
       "            "
      ],
      "text/plain": [
       "<IPython.core.display.HTML object>"
      ]
     },
     "metadata": {},
     "output_type": "display_data"
    },
    {
     "name": "stdout",
     "output_type": "stream",
     "text": [
      " iteration 0, train cost 4.9326, valid cost 5.0247\n",
      " iteration 50, train cost 3.2908, valid cost 3.3697\n",
      " iteration 100, train cost 3.2733, valid cost 3.3564\n",
      " iteration 150, train cost 3.2458, valid cost 3.3253\n",
      " iteration 200, train cost 3.1006, valid cost 3.1692\n",
      " iteration 250, train cost 3.0208, valid cost 3.0842\n",
      " iteration 300, train cost 2.9265, valid cost 2.9940\n",
      " iteration 350, train cost 2.8585, valid cost 2.9342\n",
      " iteration 400, train cost 2.7864, valid cost 2.8692\n",
      " iteration 450, train cost 2.7190, valid cost 2.8060\n",
      " iteration 500, train cost 2.6580, valid cost 2.7518\n",
      " iteration 550, train cost 2.6096, valid cost 2.7042\n",
      " iteration 600, train cost 2.5630, valid cost 2.6586\n",
      " iteration 650, train cost 2.5160, valid cost 2.6158\n",
      " iteration 700, train cost 2.4715, valid cost 2.5739\n",
      " iteration 750, train cost 2.4290, valid cost 2.5362\n",
      " iteration 800, train cost 2.3932, valid cost 2.4991\n",
      " iteration 850, train cost 2.3611, valid cost 2.4678\n",
      " iteration 900, train cost 2.3304, valid cost 2.4390\n",
      " iteration 950, train cost 2.3038, valid cost 2.4114\n",
      " iteration 1000, train cost 2.2785, valid cost 2.3869\n",
      " iteration 1050, train cost 2.2568, valid cost 2.3670\n",
      " iteration 1100, train cost 2.2343, valid cost 2.3437\n",
      " iteration 1150, train cost 2.2157, valid cost 2.3247\n",
      " iteration 1200, train cost 2.1970, valid cost 2.3092\n",
      " iteration 1250, train cost 2.1816, valid cost 2.2946\n",
      " iteration 1300, train cost 2.1626, valid cost 2.2788\n",
      " iteration 1350, train cost 2.1460, valid cost 2.2625\n",
      " iteration 1400, train cost 2.1316, valid cost 2.2460\n",
      " iteration 1450, train cost 2.1145, valid cost 2.2315\n",
      " iteration 1500, train cost 2.1007, valid cost 2.2184\n",
      " iteration 1550, train cost 2.1028, valid cost 2.2169\n",
      " iteration 1600, train cost 2.0772, valid cost 2.1959\n",
      " iteration 1650, train cost 2.0663, valid cost 2.1873\n",
      " iteration 1700, train cost 2.0683, valid cost 2.1853\n",
      " iteration 1750, train cost 2.0496, valid cost 2.1717\n",
      " iteration 1800, train cost 2.0371, valid cost 2.1629\n",
      " iteration 1850, train cost 2.0440, valid cost 2.1597\n",
      " iteration 1900, train cost 2.0220, valid cost 2.1469\n",
      " iteration 1950, train cost 2.0126, valid cost 2.1412\n",
      " iteration 2000, train cost 2.0054, valid cost 2.1361\n",
      " iteration 2050, train cost 1.9977, valid cost 2.1316\n",
      " iteration 2100, train cost 1.9886, valid cost 2.1258\n",
      " iteration 2150, train cost 1.9833, valid cost 2.1214\n",
      " iteration 2200, train cost 1.9801, valid cost 2.1193\n",
      " iteration 2250, train cost 1.9705, valid cost 2.1123\n",
      " iteration 2300, train cost 1.9616, valid cost 2.1087\n",
      " iteration 2350, train cost 1.9556, valid cost 2.1039\n",
      " iteration 2400, train cost 1.9496, valid cost 2.1002\n",
      " iteration 2450, train cost 1.9422, valid cost 2.0941\n",
      " iteration 2500, train cost 1.9357, valid cost 2.0901\n",
      " iteration 2550, train cost 1.9324, valid cost 2.0853\n",
      " iteration 2600, train cost 1.9234, valid cost 2.0799\n",
      " iteration 2650, train cost 1.9189, valid cost 2.0764\n",
      " iteration 2700, train cost 1.9128, valid cost 2.0711\n",
      " iteration 2750, train cost 1.9202, valid cost 2.0783\n",
      " iteration 2800, train cost 1.8998, valid cost 2.0627\n",
      " iteration 2850, train cost 1.8904, valid cost 2.0568\n",
      " iteration 2900, train cost 1.8883, valid cost 2.0558\n",
      " iteration 2950, train cost 1.8854, valid cost 2.0530\n",
      " iteration 3000, train cost 1.8838, valid cost 2.0511\n",
      " iteration 3050, train cost 1.8688, valid cost 2.0424\n",
      " iteration 3100, train cost 1.8654, valid cost 2.0370\n",
      " iteration 3150, train cost 1.8627, valid cost 2.0377\n",
      " iteration 3200, train cost 1.8533, valid cost 2.0303\n",
      " iteration 3250, train cost 1.8513, valid cost 2.0265\n",
      " iteration 3300, train cost 1.8439, valid cost 2.0215\n",
      " iteration 3350, train cost 1.8410, valid cost 2.0201\n",
      " iteration 3400, train cost 1.8351, valid cost 2.0153\n",
      " iteration 3450, train cost 1.8322, valid cost 2.0111\n",
      " iteration 3500, train cost 1.8282, valid cost 2.0090\n",
      " iteration 3550, train cost 1.8247, valid cost 2.0052\n",
      " iteration 3600, train cost 1.8208, valid cost 2.0010\n",
      " iteration 3650, train cost 1.8145, valid cost 1.9976\n",
      " iteration 3700, train cost 1.8122, valid cost 1.9943\n",
      " iteration 3750, train cost 1.8083, valid cost 1.9925\n",
      " iteration 3800, train cost 1.8034, valid cost 1.9899\n",
      " iteration 3850, train cost 1.8015, valid cost 1.9879\n",
      " iteration 3900, train cost 1.7958, valid cost 1.9855\n",
      " iteration 3950, train cost 1.7947, valid cost 1.9816\n"
     ]
    },
    {
     "data": {
      "text/html": [
       "<br/>Waiting for W&B process to finish, PID 201514<br/>Program ended successfully."
      ],
      "text/plain": [
       "<IPython.core.display.HTML object>"
      ]
     },
     "metadata": {},
     "output_type": "display_data"
    },
    {
     "name": "stderr",
     "output_type": "stream",
     "text": [
      "Widget Javascript not detected.  It may not be installed or enabled properly.\n"
     ]
    },
    {
     "data": {
      "application/vnd.jupyter.widget-view+json": {
       "model_id": "67bd7832809540c7a91c602421bbef45"
      }
     },
     "metadata": {},
     "output_type": "display_data"
    },
    {
     "data": {
      "text/html": [
       "Find user logs for this run at: <code>/home/sazeglio/NMAs/src/wandb/run-20210815_134409-iurdru4r/logs/debug.log</code>"
      ],
      "text/plain": [
       "<IPython.core.display.HTML object>"
      ]
     },
     "metadata": {},
     "output_type": "display_data"
    },
    {
     "data": {
      "text/html": [
       "Find internal logs for this run at: <code>/home/sazeglio/NMAs/src/wandb/run-20210815_134409-iurdru4r/logs/debug-internal.log</code>"
      ],
      "text/plain": [
       "<IPython.core.display.HTML object>"
      ]
     },
     "metadata": {},
     "output_type": "display_data"
    },
    {
     "data": {
      "text/html": [
       "<h3>Run summary:</h3><br/><style>\n",
       "    table.wandb td:nth-child(1) { padding: 0 10px; text-align: right }\n",
       "    </style><table class=\"wandb\">\n",
       "<tr><td>train_loss</td><td>1.7912</td></tr><tr><td>valid_loss</td><td>1.98047</td></tr><tr><td>epoch</td><td>3999</td></tr><tr><td>_runtime</td><td>1232</td></tr><tr><td>_timestamp</td><td>1629029081</td></tr><tr><td>_step</td><td>3999</td></tr></table>"
      ],
      "text/plain": [
       "<IPython.core.display.HTML object>"
      ]
     },
     "metadata": {},
     "output_type": "display_data"
    },
    {
     "data": {
      "text/html": [
       "<h3>Run history:</h3><br/><style>\n",
       "    table.wandb td:nth-child(1) { padding: 0 10px; text-align: right }\n",
       "    </style><table class=\"wandb\">\n",
       "<tr><td>train_loss</td><td>██▇▆▅▅▄▄▄▃▃▃▃▃▂▂▂▂▂▂▂▂▂▂▂▂▂▂▁▁▁▁▁▁▁▁▁▁▁▁</td></tr><tr><td>valid_loss</td><td>██▇▆▅▅▄▄▃▃▃▃▃▂▂▂▂▂▂▂▂▂▂▂▂▁▁▁▁▁▁▁▁▁▁▁▁▁▁▁</td></tr><tr><td>epoch</td><td>▁▁▁▂▂▂▂▂▂▃▃▃▃▃▄▄▄▄▄▄▅▅▅▅▅▅▆▆▆▆▆▇▇▇▇▇▇███</td></tr><tr><td>_runtime</td><td>▁▁▁▂▂▂▂▂▂▃▃▃▃▃▄▄▄▄▄▄▅▅▅▅▅▅▆▆▆▆▆▇▇▇▇▇▇███</td></tr><tr><td>_timestamp</td><td>▁▁▁▂▂▂▂▂▂▃▃▃▃▃▄▄▄▄▄▄▅▅▅▅▅▅▆▆▆▆▆▇▇▇▇▇▇███</td></tr><tr><td>_step</td><td>▁▁▁▂▂▂▂▂▂▃▃▃▃▃▄▄▄▄▄▄▅▅▅▅▅▅▆▆▆▆▆▇▇▇▇▇▇███</td></tr></table><br/>"
      ],
      "text/plain": [
       "<IPython.core.display.HTML object>"
      ]
     },
     "metadata": {},
     "output_type": "display_data"
    },
    {
     "data": {
      "text/html": [
       "Synced 5 W&B file(s), 0 media file(s), 0 artifact file(s) and 0 other file(s)"
      ],
      "text/plain": [
       "<IPython.core.display.HTML object>"
      ]
     },
     "metadata": {},
     "output_type": "display_data"
    },
    {
     "data": {
      "text/html": [
       "\n",
       "                    <br/>Synced <strong style=\"color:#cdcd00\">sandy-sweep-36</strong>: <a href=\"https://wandb.ai/sazio/NMAs-Full-Signals/runs/iurdru4r\" target=\"_blank\">https://wandb.ai/sazio/NMAs-Full-Signals/runs/iurdru4r</a><br/>\n",
       "                "
      ],
      "text/plain": [
       "<IPython.core.display.HTML object>"
      ]
     },
     "metadata": {},
     "output_type": "display_data"
    },
    {
     "name": "stderr",
     "output_type": "stream",
     "text": [
      "wandb: Agent Starting Run: n5of1k8r with config:\n",
      "wandb: \tdropout: 0.3\n",
      "wandb: \tepochs: 4000\n",
      "wandb: \tlearning_rate: 0.0003881355326272633\n",
      "wandb: \tn_comp: 500\n",
      "wandb: \tnum_layers: 1\n",
      "wandb: \toptimizer: adam\n",
      "wandb: \tweight_decay: 1e-06\n",
      "Failed to detect the name of this notebook, you can set it manually with the WANDB_NOTEBOOK_NAME environment variable to enable code saving.\n"
     ]
    },
    {
     "data": {
      "text/html": [
       "\n",
       "                Tracking run with wandb version 0.12.0<br/>\n",
       "                Syncing run <strong style=\"color:#cdcd00\">serene-sweep-37</strong> to <a href=\"https://wandb.ai\" target=\"_blank\">Weights & Biases</a> <a href=\"https://docs.wandb.com/integrations/jupyter.html\" target=\"_blank\">(Documentation)</a>.<br/>\n",
       "                Project page: <a href=\"https://wandb.ai/sazio/NMAs-Full-Signals\" target=\"_blank\">https://wandb.ai/sazio/NMAs-Full-Signals</a><br/>\n",
       "                Sweep page: <a href=\"https://wandb.ai/sazio/NMAs-Full-Signals/sweeps/cbewt4f6\" target=\"_blank\">https://wandb.ai/sazio/NMAs-Full-Signals/sweeps/cbewt4f6</a><br/>\n",
       "Run page: <a href=\"https://wandb.ai/sazio/NMAs-Full-Signals/runs/n5of1k8r\" target=\"_blank\">https://wandb.ai/sazio/NMAs-Full-Signals/runs/n5of1k8r</a><br/>\n",
       "                Run data is saved locally in <code>/home/sazeglio/NMAs/src/wandb/run-20210815_140445-n5of1k8r</code><br/><br/>\n",
       "            "
      ],
      "text/plain": [
       "<IPython.core.display.HTML object>"
      ]
     },
     "metadata": {},
     "output_type": "display_data"
    },
    {
     "name": "stdout",
     "output_type": "stream",
     "text": [
      " iteration 0, train cost 4.9306, valid cost 5.0302\n",
      " iteration 50, train cost 3.3516, valid cost 3.4188\n",
      " iteration 100, train cost 3.2860, valid cost 3.3625\n",
      " iteration 150, train cost 3.2785, valid cost 3.3586\n",
      " iteration 200, train cost 3.2728, valid cost 3.3546\n",
      " iteration 250, train cost 3.2440, valid cost 3.3215\n",
      " iteration 300, train cost 3.1579, valid cost 3.2234\n",
      " iteration 350, train cost 3.0709, valid cost 3.1342\n",
      " iteration 400, train cost 3.0221, valid cost 3.0829\n",
      " iteration 450, train cost 2.9716, valid cost 3.0363\n",
      " iteration 500, train cost 2.9221, valid cost 2.9967\n",
      " iteration 550, train cost 2.8801, valid cost 2.9589\n",
      " iteration 600, train cost 2.8349, valid cost 2.9187\n",
      " iteration 650, train cost 2.7910, valid cost 2.8820\n",
      " iteration 700, train cost 2.7422, valid cost 2.8365\n",
      " iteration 750, train cost 2.6956, valid cost 2.7927\n",
      " iteration 800, train cost 2.6533, valid cost 2.7534\n",
      " iteration 850, train cost 2.6123, valid cost 2.7119\n",
      " iteration 900, train cost 2.5704, valid cost 2.6754\n",
      " iteration 950, train cost 2.5341, valid cost 2.6435\n",
      " iteration 1000, train cost 2.5033, valid cost 2.6170\n",
      " iteration 1050, train cost 2.4768, valid cost 2.5930\n",
      " iteration 1100, train cost 2.4514, valid cost 2.5709\n",
      " iteration 1150, train cost 2.4269, valid cost 2.5478\n",
      " iteration 1200, train cost 2.4038, valid cost 2.5267\n",
      " iteration 1250, train cost 2.3821, valid cost 2.5073\n",
      " iteration 1300, train cost 2.3603, valid cost 2.4885\n",
      " iteration 1350, train cost 2.3407, valid cost 2.4711\n",
      " iteration 1400, train cost 2.3220, valid cost 2.4557\n",
      " iteration 1450, train cost 2.3053, valid cost 2.4402\n",
      " iteration 1500, train cost 2.2857, valid cost 2.4242\n",
      " iteration 1550, train cost 2.2692, valid cost 2.4087\n",
      " iteration 1600, train cost 2.2515, valid cost 2.3948\n",
      " iteration 1650, train cost 2.2374, valid cost 2.3814\n",
      " iteration 1700, train cost 2.2204, valid cost 2.3686\n",
      " iteration 1750, train cost 2.2070, valid cost 2.3565\n",
      " iteration 1800, train cost 2.1936, valid cost 2.3454\n",
      " iteration 1850, train cost 2.1794, valid cost 2.3331\n",
      " iteration 1900, train cost 2.1657, valid cost 2.3214\n",
      " iteration 1950, train cost 2.1525, valid cost 2.3082\n",
      " iteration 2000, train cost 2.1396, valid cost 2.2955\n",
      " iteration 2050, train cost 2.1272, valid cost 2.2844\n",
      " iteration 2100, train cost 2.1165, valid cost 2.2726\n",
      " iteration 2150, train cost 2.1055, valid cost 2.2626\n",
      " iteration 2200, train cost 2.0945, valid cost 2.2528\n",
      " iteration 2250, train cost 2.0835, valid cost 2.2445\n",
      " iteration 2300, train cost 2.0744, valid cost 2.2367\n",
      " iteration 2350, train cost 2.0646, valid cost 2.2286\n",
      " iteration 2400, train cost 2.0568, valid cost 2.2207\n",
      " iteration 2450, train cost 2.0498, valid cost 2.2151\n",
      " iteration 2500, train cost 2.0432, valid cost 2.2084\n",
      " iteration 2550, train cost 2.0362, valid cost 2.2027\n",
      " iteration 2600, train cost 2.0290, valid cost 2.1970\n",
      " iteration 2650, train cost 2.0199, valid cost 2.1909\n",
      " iteration 2700, train cost 2.0141, valid cost 2.1858\n",
      " iteration 2750, train cost 2.0082, valid cost 2.1797\n",
      " iteration 2800, train cost 1.9987, valid cost 2.1745\n",
      " iteration 2850, train cost 1.9931, valid cost 2.1692\n",
      " iteration 2900, train cost 1.9848, valid cost 2.1643\n",
      " iteration 2950, train cost 1.9802, valid cost 2.1585\n",
      " iteration 3000, train cost 1.9723, valid cost 2.1542\n",
      " iteration 3050, train cost 1.9685, valid cost 2.1487\n",
      " iteration 3100, train cost 1.9628, valid cost 2.1443\n",
      " iteration 3150, train cost 1.9555, valid cost 2.1394\n",
      " iteration 3200, train cost 1.9509, valid cost 2.1342\n",
      " iteration 3250, train cost 1.9422, valid cost 2.1293\n",
      " iteration 3300, train cost 1.9373, valid cost 2.1234\n",
      " iteration 3350, train cost 1.9318, valid cost 2.1191\n",
      " iteration 3400, train cost 1.9271, valid cost 2.1138\n",
      " iteration 3450, train cost 1.9193, valid cost 2.1097\n",
      " iteration 3500, train cost 1.9143, valid cost 2.1059\n",
      " iteration 3550, train cost 1.9103, valid cost 2.1011\n",
      " iteration 3600, train cost 1.9030, valid cost 2.0968\n",
      " iteration 3650, train cost 1.8994, valid cost 2.0940\n",
      " iteration 3700, train cost 1.8949, valid cost 2.0897\n",
      " iteration 3750, train cost 1.8898, valid cost 2.0857\n",
      " iteration 3800, train cost 1.8844, valid cost 2.0824\n",
      " iteration 3850, train cost 1.8808, valid cost 2.0802\n",
      " iteration 3900, train cost 1.8761, valid cost 2.0763\n",
      " iteration 3950, train cost 1.8735, valid cost 2.0741\n"
     ]
    },
    {
     "data": {
      "text/html": [
       "<br/>Waiting for W&B process to finish, PID 201787<br/>Program ended successfully."
      ],
      "text/plain": [
       "<IPython.core.display.HTML object>"
      ]
     },
     "metadata": {},
     "output_type": "display_data"
    },
    {
     "name": "stderr",
     "output_type": "stream",
     "text": [
      "Widget Javascript not detected.  It may not be installed or enabled properly.\n"
     ]
    },
    {
     "data": {
      "application/vnd.jupyter.widget-view+json": {
       "model_id": "4c0c82ded63c4adc915a4d69b2a47dfd"
      }
     },
     "metadata": {},
     "output_type": "display_data"
    },
    {
     "data": {
      "text/html": [
       "Find user logs for this run at: <code>/home/sazeglio/NMAs/src/wandb/run-20210815_140445-n5of1k8r/logs/debug.log</code>"
      ],
      "text/plain": [
       "<IPython.core.display.HTML object>"
      ]
     },
     "metadata": {},
     "output_type": "display_data"
    },
    {
     "data": {
      "text/html": [
       "Find internal logs for this run at: <code>/home/sazeglio/NMAs/src/wandb/run-20210815_140445-n5of1k8r/logs/debug-internal.log</code>"
      ],
      "text/plain": [
       "<IPython.core.display.HTML object>"
      ]
     },
     "metadata": {},
     "output_type": "display_data"
    },
    {
     "data": {
      "text/html": [
       "<h3>Run summary:</h3><br/><style>\n",
       "    table.wandb td:nth-child(1) { padding: 0 10px; text-align: right }\n",
       "    </style><table class=\"wandb\">\n",
       "<tr><td>train_loss</td><td>1.87055</td></tr><tr><td>valid_loss</td><td>2.07005</td></tr><tr><td>epoch</td><td>3999</td></tr><tr><td>_runtime</td><td>1239</td></tr><tr><td>_timestamp</td><td>1629030324</td></tr><tr><td>_step</td><td>3999</td></tr></table>"
      ],
      "text/plain": [
       "<IPython.core.display.HTML object>"
      ]
     },
     "metadata": {},
     "output_type": "display_data"
    },
    {
     "data": {
      "text/html": [
       "<h3>Run history:</h3><br/><style>\n",
       "    table.wandb td:nth-child(1) { padding: 0 10px; text-align: right }\n",
       "    </style><table class=\"wandb\">\n",
       "<tr><td>train_loss</td><td>█▆▆▆▅▅▅▄▄▄▃▃▃▃▃▃▂▂▂▂▂▂▂▂▂▂▂▂▁▁▁▁▁▁▁▁▁▁▁▁</td></tr><tr><td>valid_loss</td><td>█▆▆▆▅▅▄▄▄▃▃▃▃▃▃▂▂▂▂▂▂▂▂▂▂▂▂▁▁▁▁▁▁▁▁▁▁▁▁▁</td></tr><tr><td>epoch</td><td>▁▁▁▂▂▂▂▂▂▃▃▃▃▃▄▄▄▄▄▄▅▅▅▅▅▅▆▆▆▆▆▇▇▇▇▇▇███</td></tr><tr><td>_runtime</td><td>▁▁▁▂▂▂▂▂▂▃▃▃▃▃▄▄▄▄▄▄▅▅▅▅▅▅▆▆▆▆▆▇▇▇▇▇▇███</td></tr><tr><td>_timestamp</td><td>▁▁▁▂▂▂▂▂▂▃▃▃▃▃▄▄▄▄▄▄▅▅▅▅▅▅▆▆▆▆▆▇▇▇▇▇▇███</td></tr><tr><td>_step</td><td>▁▁▁▂▂▂▂▂▂▃▃▃▃▃▄▄▄▄▄▄▅▅▅▅▅▅▆▆▆▆▆▇▇▇▇▇▇███</td></tr></table><br/>"
      ],
      "text/plain": [
       "<IPython.core.display.HTML object>"
      ]
     },
     "metadata": {},
     "output_type": "display_data"
    },
    {
     "data": {
      "text/html": [
       "Synced 5 W&B file(s), 0 media file(s), 0 artifact file(s) and 0 other file(s)"
      ],
      "text/plain": [
       "<IPython.core.display.HTML object>"
      ]
     },
     "metadata": {},
     "output_type": "display_data"
    },
    {
     "data": {
      "text/html": [
       "\n",
       "                    <br/>Synced <strong style=\"color:#cdcd00\">serene-sweep-37</strong>: <a href=\"https://wandb.ai/sazio/NMAs-Full-Signals/runs/n5of1k8r\" target=\"_blank\">https://wandb.ai/sazio/NMAs-Full-Signals/runs/n5of1k8r</a><br/>\n",
       "                "
      ],
      "text/plain": [
       "<IPython.core.display.HTML object>"
      ]
     },
     "metadata": {},
     "output_type": "display_data"
    },
    {
     "name": "stderr",
     "output_type": "stream",
     "text": [
      "wandb: Agent Starting Run: uwzmxmrx with config:\n",
      "wandb: \tdropout: 0.1\n",
      "wandb: \tepochs: 4000\n",
      "wandb: \tlearning_rate: 0.0013781145446326952\n",
      "wandb: \tn_comp: 300\n",
      "wandb: \tnum_layers: 1\n",
      "wandb: \toptimizer: adam\n",
      "wandb: \tweight_decay: 0\n",
      "Failed to detect the name of this notebook, you can set it manually with the WANDB_NOTEBOOK_NAME environment variable to enable code saving.\n"
     ]
    },
    {
     "data": {
      "text/html": [
       "\n",
       "                Tracking run with wandb version 0.12.0<br/>\n",
       "                Syncing run <strong style=\"color:#cdcd00\">honest-sweep-38</strong> to <a href=\"https://wandb.ai\" target=\"_blank\">Weights & Biases</a> <a href=\"https://docs.wandb.com/integrations/jupyter.html\" target=\"_blank\">(Documentation)</a>.<br/>\n",
       "                Project page: <a href=\"https://wandb.ai/sazio/NMAs-Full-Signals\" target=\"_blank\">https://wandb.ai/sazio/NMAs-Full-Signals</a><br/>\n",
       "                Sweep page: <a href=\"https://wandb.ai/sazio/NMAs-Full-Signals/sweeps/cbewt4f6\" target=\"_blank\">https://wandb.ai/sazio/NMAs-Full-Signals/sweeps/cbewt4f6</a><br/>\n",
       "Run page: <a href=\"https://wandb.ai/sazio/NMAs-Full-Signals/runs/uwzmxmrx\" target=\"_blank\">https://wandb.ai/sazio/NMAs-Full-Signals/runs/uwzmxmrx</a><br/>\n",
       "                Run data is saved locally in <code>/home/sazeglio/NMAs/src/wandb/run-20210815_142528-uwzmxmrx</code><br/><br/>\n",
       "            "
      ],
      "text/plain": [
       "<IPython.core.display.HTML object>"
      ]
     },
     "metadata": {},
     "output_type": "display_data"
    },
    {
     "name": "stdout",
     "output_type": "stream",
     "text": [
      " iteration 0, train cost 4.9295, valid cost 5.0160\n",
      " iteration 50, train cost 3.2830, valid cost 3.3655\n",
      " iteration 100, train cost 3.2722, valid cost 3.3575\n",
      " iteration 150, train cost 3.2356, valid cost 3.3135\n",
      " iteration 200, train cost 3.1731, valid cost 3.2376\n",
      " iteration 250, train cost 3.0601, valid cost 3.1234\n",
      " iteration 300, train cost 3.0057, valid cost 3.0721\n",
      " iteration 350, train cost 2.9396, valid cost 3.0176\n",
      " iteration 400, train cost 2.8847, valid cost 2.9689\n",
      " iteration 450, train cost 2.8441, valid cost 2.9347\n",
      " iteration 500, train cost 2.8107, valid cost 2.9119\n",
      " iteration 550, train cost 2.7822, valid cost 2.8922\n",
      " iteration 600, train cost 2.7413, valid cost 2.8621\n",
      " iteration 650, train cost 2.6996, valid cost 2.8355\n",
      " iteration 700, train cost 2.6629, valid cost 2.8091\n",
      " iteration 750, train cost 2.6304, valid cost 2.7863\n",
      " iteration 800, train cost 2.5971, valid cost 2.7630\n",
      " iteration 850, train cost 2.5570, valid cost 2.7355\n",
      " iteration 900, train cost 2.5277, valid cost 2.7180\n",
      " iteration 950, train cost 2.4990, valid cost 2.6987\n",
      " iteration 1000, train cost 2.4719, valid cost 2.6826\n",
      " iteration 1050, train cost 2.4442, valid cost 2.6621\n",
      " iteration 1100, train cost 2.4199, valid cost 2.6479\n",
      " iteration 1150, train cost 2.3973, valid cost 2.6333\n",
      " iteration 1200, train cost 2.3759, valid cost 2.6216\n",
      " iteration 1250, train cost 2.3581, valid cost 2.6098\n",
      " iteration 1300, train cost 2.3380, valid cost 2.6014\n",
      " iteration 1350, train cost 2.3183, valid cost 2.5904\n",
      " iteration 1400, train cost 2.3030, valid cost 2.5824\n",
      " iteration 1450, train cost 2.2851, valid cost 2.5714\n",
      " iteration 1500, train cost 2.2730, valid cost 2.5652\n",
      " iteration 1550, train cost 2.2621, valid cost 2.5538\n",
      " iteration 1600, train cost 2.2427, valid cost 2.5465\n",
      " iteration 1650, train cost 2.2310, valid cost 2.5373\n",
      " iteration 1700, train cost 2.2202, valid cost 2.5347\n",
      " iteration 1750, train cost 2.2070, valid cost 2.5259\n",
      " iteration 1800, train cost 2.1922, valid cost 2.5158\n",
      " iteration 1850, train cost 2.1844, valid cost 2.5118\n",
      " iteration 1900, train cost 2.1713, valid cost 2.5038\n",
      " iteration 1950, train cost 2.1599, valid cost 2.4957\n",
      " iteration 2000, train cost 2.1493, valid cost 2.4886\n",
      " iteration 2050, train cost 2.1488, valid cost 2.4865\n",
      " iteration 2100, train cost 2.1297, valid cost 2.4785\n",
      " iteration 2150, train cost 2.1205, valid cost 2.4679\n",
      " iteration 2200, train cost 2.1077, valid cost 2.4631\n",
      " iteration 2250, train cost 2.1019, valid cost 2.4549\n",
      " iteration 2300, train cost 2.0948, valid cost 2.4506\n",
      " iteration 2350, train cost 2.0849, valid cost 2.4481\n",
      " iteration 2400, train cost 2.0760, valid cost 2.4416\n",
      " iteration 2450, train cost 2.0645, valid cost 2.4368\n",
      " iteration 2500, train cost 2.0561, valid cost 2.4295\n",
      " iteration 2550, train cost 2.0514, valid cost 2.4251\n",
      " iteration 2600, train cost 2.0482, valid cost 2.4238\n",
      " iteration 2650, train cost 2.0358, valid cost 2.4143\n",
      " iteration 2700, train cost 2.0285, valid cost 2.4114\n",
      " iteration 2750, train cost 2.0219, valid cost 2.4044\n",
      " iteration 2800, train cost 2.0115, valid cost 2.3972\n",
      " iteration 2850, train cost 2.0079, valid cost 2.3932\n",
      " iteration 2900, train cost 2.0006, valid cost 2.3899\n",
      " iteration 2950, train cost 1.9945, valid cost 2.3882\n",
      " iteration 3000, train cost 1.9890, valid cost 2.3840\n",
      " iteration 3050, train cost 1.9812, valid cost 2.3804\n",
      " iteration 3100, train cost 1.9767, valid cost 2.3748\n",
      " iteration 3150, train cost 1.9730, valid cost 2.3723\n",
      " iteration 3200, train cost 1.9663, valid cost 2.3694\n",
      " iteration 3250, train cost 1.9658, valid cost 2.3654\n",
      " iteration 3300, train cost 1.9564, valid cost 2.3615\n",
      " iteration 3350, train cost 1.9507, valid cost 2.3618\n",
      " iteration 3400, train cost 1.9502, valid cost 2.3614\n",
      " iteration 3450, train cost 1.9410, valid cost 2.3536\n",
      " iteration 3500, train cost 1.9415, valid cost 2.3522\n",
      " iteration 3550, train cost 1.9334, valid cost 2.3497\n",
      " iteration 3600, train cost 1.9318, valid cost 2.3475\n",
      " iteration 3650, train cost 1.9236, valid cost 2.3456\n",
      " iteration 3700, train cost 1.9199, valid cost 2.3395\n",
      " iteration 3750, train cost 1.9185, valid cost 2.3375\n",
      " iteration 3800, train cost 1.9137, valid cost 2.3371\n",
      " iteration 3850, train cost 1.9114, valid cost 2.3354\n",
      " iteration 3900, train cost 1.9053, valid cost 2.3319\n",
      " iteration 3950, train cost 1.9099, valid cost 2.3404\n"
     ]
    },
    {
     "data": {
      "text/html": [
       "<br/>Waiting for W&B process to finish, PID 202060<br/>Program ended successfully."
      ],
      "text/plain": [
       "<IPython.core.display.HTML object>"
      ]
     },
     "metadata": {},
     "output_type": "display_data"
    },
    {
     "name": "stderr",
     "output_type": "stream",
     "text": [
      "Widget Javascript not detected.  It may not be installed or enabled properly.\n"
     ]
    },
    {
     "data": {
      "application/vnd.jupyter.widget-view+json": {
       "model_id": "e425f8c7b7ad4de595b2d2603761e462"
      }
     },
     "metadata": {},
     "output_type": "display_data"
    },
    {
     "data": {
      "text/html": [
       "Find user logs for this run at: <code>/home/sazeglio/NMAs/src/wandb/run-20210815_142528-uwzmxmrx/logs/debug.log</code>"
      ],
      "text/plain": [
       "<IPython.core.display.HTML object>"
      ]
     },
     "metadata": {},
     "output_type": "display_data"
    },
    {
     "data": {
      "text/html": [
       "Find internal logs for this run at: <code>/home/sazeglio/NMAs/src/wandb/run-20210815_142528-uwzmxmrx/logs/debug-internal.log</code>"
      ],
      "text/plain": [
       "<IPython.core.display.HTML object>"
      ]
     },
     "metadata": {},
     "output_type": "display_data"
    },
    {
     "data": {
      "text/html": [
       "<h3>Run summary:</h3><br/><style>\n",
       "    table.wandb td:nth-child(1) { padding: 0 10px; text-align: right }\n",
       "    </style><table class=\"wandb\">\n",
       "<tr><td>train_loss</td><td>1.90206</td></tr><tr><td>valid_loss</td><td>2.33073</td></tr><tr><td>epoch</td><td>3999</td></tr><tr><td>_runtime</td><td>1238</td></tr><tr><td>_timestamp</td><td>1629031567</td></tr><tr><td>_step</td><td>3999</td></tr></table>"
      ],
      "text/plain": [
       "<IPython.core.display.HTML object>"
      ]
     },
     "metadata": {},
     "output_type": "display_data"
    },
    {
     "data": {
      "text/html": [
       "<h3>Run history:</h3><br/><style>\n",
       "    table.wandb td:nth-child(1) { padding: 0 10px; text-align: right }\n",
       "    </style><table class=\"wandb\">\n",
       "<tr><td>train_loss</td><td>██▇▆▆▅▅▅▄▄▄▄▃▃▃▃▃▂▂▂▂▂▂▂▂▂▂▂▁▁▁▁▁▁▁▁▁▁▁▁</td></tr><tr><td>valid_loss</td><td>██▇▆▅▅▄▄▄▃▃▃▃▃▃▂▂▂▂▂▂▂▂▂▂▂▂▂▁▁▁▁▁▁▁▁▁▁▁▁</td></tr><tr><td>epoch</td><td>▁▁▁▂▂▂▂▂▂▃▃▃▃▃▄▄▄▄▄▄▅▅▅▅▅▅▆▆▆▆▆▇▇▇▇▇▇███</td></tr><tr><td>_runtime</td><td>▁▁▁▂▂▂▂▂▂▃▃▃▃▃▄▄▄▄▄▄▅▅▅▅▅▅▆▆▆▆▆▇▇▇▇▇▇███</td></tr><tr><td>_timestamp</td><td>▁▁▁▂▂▂▂▂▂▃▃▃▃▃▄▄▄▄▄▄▅▅▅▅▅▅▆▆▆▆▆▇▇▇▇▇▇███</td></tr><tr><td>_step</td><td>▁▁▁▂▂▂▂▂▂▃▃▃▃▃▄▄▄▄▄▄▅▅▅▅▅▅▆▆▆▆▆▇▇▇▇▇▇███</td></tr></table><br/>"
      ],
      "text/plain": [
       "<IPython.core.display.HTML object>"
      ]
     },
     "metadata": {},
     "output_type": "display_data"
    },
    {
     "data": {
      "text/html": [
       "Synced 5 W&B file(s), 0 media file(s), 0 artifact file(s) and 0 other file(s)"
      ],
      "text/plain": [
       "<IPython.core.display.HTML object>"
      ]
     },
     "metadata": {},
     "output_type": "display_data"
    },
    {
     "data": {
      "text/html": [
       "\n",
       "                    <br/>Synced <strong style=\"color:#cdcd00\">honest-sweep-38</strong>: <a href=\"https://wandb.ai/sazio/NMAs-Full-Signals/runs/uwzmxmrx\" target=\"_blank\">https://wandb.ai/sazio/NMAs-Full-Signals/runs/uwzmxmrx</a><br/>\n",
       "                "
      ],
      "text/plain": [
       "<IPython.core.display.HTML object>"
      ]
     },
     "metadata": {},
     "output_type": "display_data"
    },
    {
     "name": "stderr",
     "output_type": "stream",
     "text": [
      "wandb: Agent Starting Run: 6x9u88g5 with config:\n",
      "wandb: \tdropout: 0.2\n",
      "wandb: \tepochs: 4000\n",
      "wandb: \tlearning_rate: 0.0013585368939310518\n",
      "wandb: \tn_comp: 100\n",
      "wandb: \tnum_layers: 1\n",
      "wandb: \toptimizer: adam\n",
      "wandb: \tweight_decay: 1e-06\n",
      "Failed to detect the name of this notebook, you can set it manually with the WANDB_NOTEBOOK_NAME environment variable to enable code saving.\n"
     ]
    },
    {
     "data": {
      "text/html": [
       "\n",
       "                Tracking run with wandb version 0.12.0<br/>\n",
       "                Syncing run <strong style=\"color:#cdcd00\">astral-sweep-39</strong> to <a href=\"https://wandb.ai\" target=\"_blank\">Weights & Biases</a> <a href=\"https://docs.wandb.com/integrations/jupyter.html\" target=\"_blank\">(Documentation)</a>.<br/>\n",
       "                Project page: <a href=\"https://wandb.ai/sazio/NMAs-Full-Signals\" target=\"_blank\">https://wandb.ai/sazio/NMAs-Full-Signals</a><br/>\n",
       "                Sweep page: <a href=\"https://wandb.ai/sazio/NMAs-Full-Signals/sweeps/cbewt4f6\" target=\"_blank\">https://wandb.ai/sazio/NMAs-Full-Signals/sweeps/cbewt4f6</a><br/>\n",
       "Run page: <a href=\"https://wandb.ai/sazio/NMAs-Full-Signals/runs/6x9u88g5\" target=\"_blank\">https://wandb.ai/sazio/NMAs-Full-Signals/runs/6x9u88g5</a><br/>\n",
       "                Run data is saved locally in <code>/home/sazeglio/NMAs/src/wandb/run-20210815_144611-6x9u88g5</code><br/><br/>\n",
       "            "
      ],
      "text/plain": [
       "<IPython.core.display.HTML object>"
      ]
     },
     "metadata": {},
     "output_type": "display_data"
    },
    {
     "name": "stdout",
     "output_type": "stream",
     "text": [
      " iteration 0, train cost 4.9282, valid cost 5.0162\n",
      " iteration 50, train cost 3.2835, valid cost 3.3661\n",
      " iteration 100, train cost 3.2698, valid cost 3.3531\n",
      " iteration 150, train cost 3.1968, valid cost 3.2592\n",
      " iteration 200, train cost 3.1082, valid cost 3.1728\n",
      " iteration 250, train cost 3.0066, valid cost 3.0713\n",
      " iteration 300, train cost 2.9396, valid cost 3.0084\n",
      " iteration 350, train cost 2.8765, valid cost 2.9577\n",
      " iteration 400, train cost 2.8192, valid cost 2.9095\n",
      " iteration 450, train cost 2.7589, valid cost 2.8552\n",
      " iteration 500, train cost 2.7029, valid cost 2.8113\n",
      " iteration 550, train cost 2.6464, valid cost 2.7599\n",
      " iteration 600, train cost 2.5961, valid cost 2.7234\n",
      " iteration 650, train cost 2.5612, valid cost 2.6961\n",
      " iteration 700, train cost 2.5251, valid cost 2.6709\n",
      " iteration 750, train cost 2.4892, valid cost 2.6454\n",
      " iteration 800, train cost 2.4567, valid cost 2.6184\n",
      " iteration 850, train cost 2.4265, valid cost 2.5947\n",
      " iteration 900, train cost 2.3935, valid cost 2.5709\n",
      " iteration 950, train cost 2.3656, valid cost 2.5464\n",
      " iteration 1000, train cost 2.3391, valid cost 2.5249\n",
      " iteration 1050, train cost 2.3119, valid cost 2.5004\n",
      " iteration 1100, train cost 2.2863, valid cost 2.4767\n",
      " iteration 1150, train cost 2.2588, valid cost 2.4540\n",
      " iteration 1200, train cost 2.2339, valid cost 2.4344\n",
      " iteration 1250, train cost 2.2114, valid cost 2.4155\n",
      " iteration 1300, train cost 2.1913, valid cost 2.4025\n",
      " iteration 1350, train cost 2.1710, valid cost 2.3884\n",
      " iteration 1400, train cost 2.1507, valid cost 2.3732\n",
      " iteration 1450, train cost 2.1375, valid cost 2.3683\n",
      " iteration 1500, train cost 2.1230, valid cost 2.3538\n",
      " iteration 1550, train cost 2.1246, valid cost 2.3427\n",
      " iteration 1600, train cost 2.0849, valid cost 2.3203\n",
      " iteration 1650, train cost 2.0667, valid cost 2.3111\n",
      " iteration 1700, train cost 2.0562, valid cost 2.3014\n",
      " iteration 1750, train cost 2.0397, valid cost 2.2879\n",
      " iteration 1800, train cost 2.0574, valid cost 2.4144\n",
      " iteration 1850, train cost 2.0141, valid cost 2.2650\n",
      " iteration 1900, train cost 2.0001, valid cost 2.2581\n",
      " iteration 1950, train cost 2.0154, valid cost 2.2675\n",
      " iteration 2000, train cost 1.9948, valid cost 2.2474\n",
      " iteration 2050, train cost 1.9714, valid cost 2.2349\n",
      " iteration 2100, train cost 1.9609, valid cost 2.2288\n",
      " iteration 2150, train cost 1.9534, valid cost 2.2213\n",
      " iteration 2200, train cost 1.9421, valid cost 2.2170\n",
      " iteration 2250, train cost 1.9355, valid cost 2.2132\n",
      " iteration 2300, train cost 1.9280, valid cost 2.2089\n",
      " iteration 2350, train cost 1.9184, valid cost 2.2033\n",
      " iteration 2400, train cost 1.9286, valid cost 2.2069\n",
      " iteration 2450, train cost 1.9049, valid cost 2.1909\n",
      " iteration 2500, train cost 1.8986, valid cost 2.1892\n",
      " iteration 2550, train cost 1.8993, valid cost 2.1806\n",
      " iteration 2600, train cost 1.8930, valid cost 2.1753\n",
      " iteration 2650, train cost 1.8827, valid cost 2.1734\n",
      " iteration 2700, train cost 1.8752, valid cost 2.1718\n",
      " iteration 2750, train cost 1.8719, valid cost 2.1698\n",
      " iteration 2800, train cost 1.8649, valid cost 2.1686\n",
      " iteration 2850, train cost 1.8606, valid cost 2.1651\n",
      " iteration 2900, train cost 1.8677, valid cost 2.1710\n",
      " iteration 2950, train cost 1.8536, valid cost 2.1604\n",
      " iteration 3000, train cost 1.8614, valid cost 2.1584\n",
      " iteration 3050, train cost 1.8476, valid cost 2.1520\n",
      " iteration 3100, train cost 1.8487, valid cost 2.1520\n",
      " iteration 3150, train cost 1.8389, valid cost 2.1481\n",
      " iteration 3200, train cost 1.8419, valid cost 2.1532\n",
      " iteration 3250, train cost 1.8370, valid cost 2.1464\n",
      " iteration 3300, train cost 1.8267, valid cost 2.1430\n",
      " iteration 3350, train cost 1.8233, valid cost 2.1422\n",
      " iteration 3400, train cost 1.8167, valid cost 2.1405\n",
      " iteration 3450, train cost 1.8188, valid cost 2.1388\n",
      " iteration 3500, train cost 1.8113, valid cost 2.1357\n",
      " iteration 3550, train cost 1.8103, valid cost 2.1345\n",
      " iteration 3600, train cost 1.8012, valid cost 2.1540\n",
      " iteration 3650, train cost 1.8041, valid cost 2.1293\n",
      " iteration 3700, train cost 1.8022, valid cost 2.1260\n",
      " iteration 3750, train cost 1.8014, valid cost 2.1257\n",
      " iteration 3800, train cost 1.8146, valid cost 2.1203\n",
      " iteration 3850, train cost 1.8596, valid cost 2.2826\n",
      " iteration 3900, train cost 1.7946, valid cost 2.1117\n",
      " iteration 3950, train cost 1.7877, valid cost 2.1115\n"
     ]
    },
    {
     "data": {
      "text/html": [
       "<br/>Waiting for W&B process to finish, PID 202334<br/>Program ended successfully."
      ],
      "text/plain": [
       "<IPython.core.display.HTML object>"
      ]
     },
     "metadata": {},
     "output_type": "display_data"
    },
    {
     "name": "stderr",
     "output_type": "stream",
     "text": [
      "Widget Javascript not detected.  It may not be installed or enabled properly.\n"
     ]
    },
    {
     "data": {
      "application/vnd.jupyter.widget-view+json": {
       "model_id": "a6af27d053bf460e958239ef90d681d4"
      }
     },
     "metadata": {},
     "output_type": "display_data"
    },
    {
     "data": {
      "text/html": [
       "Find user logs for this run at: <code>/home/sazeglio/NMAs/src/wandb/run-20210815_144611-6x9u88g5/logs/debug.log</code>"
      ],
      "text/plain": [
       "<IPython.core.display.HTML object>"
      ]
     },
     "metadata": {},
     "output_type": "display_data"
    },
    {
     "data": {
      "text/html": [
       "Find internal logs for this run at: <code>/home/sazeglio/NMAs/src/wandb/run-20210815_144611-6x9u88g5/logs/debug-internal.log</code>"
      ],
      "text/plain": [
       "<IPython.core.display.HTML object>"
      ]
     },
     "metadata": {},
     "output_type": "display_data"
    },
    {
     "data": {
      "text/html": [
       "<h3>Run summary:</h3><br/><style>\n",
       "    table.wandb td:nth-child(1) { padding: 0 10px; text-align: right }\n",
       "    </style><table class=\"wandb\">\n",
       "<tr><td>train_loss</td><td>1.78506</td></tr><tr><td>valid_loss</td><td>2.11283</td></tr><tr><td>epoch</td><td>3999</td></tr><tr><td>_runtime</td><td>1240</td></tr><tr><td>_timestamp</td><td>1629032811</td></tr><tr><td>_step</td><td>3999</td></tr></table>"
      ],
      "text/plain": [
       "<IPython.core.display.HTML object>"
      ]
     },
     "metadata": {},
     "output_type": "display_data"
    },
    {
     "data": {
      "text/html": [
       "<h3>Run history:</h3><br/><style>\n",
       "    table.wandb td:nth-child(1) { padding: 0 10px; text-align: right }\n",
       "    </style><table class=\"wandb\">\n",
       "<tr><td>train_loss</td><td>██▇▆▆▅▅▄▄▄▃▃▃▃▃▃▂▂▂▂▂▂▂▂▂▂▁▁▁▂▁▁▁▁▁▁▁▁▁▁</td></tr><tr><td>valid_loss</td><td>██▆▆▅▅▄▄▄▃▃▃▃▂▂▃▂▂▂▂▂▂▂▁▁▁▁▁▁▂▁▁▁▁▁▁▁▁▁▁</td></tr><tr><td>epoch</td><td>▁▁▁▂▂▂▂▂▂▃▃▃▃▃▄▄▄▄▄▄▅▅▅▅▅▅▆▆▆▆▆▇▇▇▇▇▇███</td></tr><tr><td>_runtime</td><td>▁▁▁▂▂▂▂▂▂▃▃▃▃▃▄▄▄▄▄▄▅▅▅▅▅▅▆▆▆▆▆▇▇▇▇▇▇███</td></tr><tr><td>_timestamp</td><td>▁▁▁▂▂▂▂▂▂▃▃▃▃▃▄▄▄▄▄▄▅▅▅▅▅▅▆▆▆▆▆▇▇▇▇▇▇███</td></tr><tr><td>_step</td><td>▁▁▁▂▂▂▂▂▂▃▃▃▃▃▄▄▄▄▄▄▅▅▅▅▅▅▆▆▆▆▆▇▇▇▇▇▇███</td></tr></table><br/>"
      ],
      "text/plain": [
       "<IPython.core.display.HTML object>"
      ]
     },
     "metadata": {},
     "output_type": "display_data"
    },
    {
     "data": {
      "text/html": [
       "Synced 5 W&B file(s), 0 media file(s), 0 artifact file(s) and 0 other file(s)"
      ],
      "text/plain": [
       "<IPython.core.display.HTML object>"
      ]
     },
     "metadata": {},
     "output_type": "display_data"
    },
    {
     "data": {
      "text/html": [
       "\n",
       "                    <br/>Synced <strong style=\"color:#cdcd00\">astral-sweep-39</strong>: <a href=\"https://wandb.ai/sazio/NMAs-Full-Signals/runs/6x9u88g5\" target=\"_blank\">https://wandb.ai/sazio/NMAs-Full-Signals/runs/6x9u88g5</a><br/>\n",
       "                "
      ],
      "text/plain": [
       "<IPython.core.display.HTML object>"
      ]
     },
     "metadata": {},
     "output_type": "display_data"
    },
    {
     "name": "stderr",
     "output_type": "stream",
     "text": [
      "wandb: Agent Starting Run: 17a6rvl2 with config:\n",
      "wandb: \tdropout: 0.1\n",
      "wandb: \tepochs: 4000\n",
      "wandb: \tlearning_rate: 0.0013433728495084543\n",
      "wandb: \tn_comp: 400\n",
      "wandb: \tnum_layers: 1\n",
      "wandb: \toptimizer: adam\n",
      "wandb: \tweight_decay: 1e-06\n",
      "Failed to detect the name of this notebook, you can set it manually with the WANDB_NOTEBOOK_NAME environment variable to enable code saving.\n"
     ]
    },
    {
     "data": {
      "text/html": [
       "\n",
       "                Tracking run with wandb version 0.12.0<br/>\n",
       "                Syncing run <strong style=\"color:#cdcd00\">deep-sweep-40</strong> to <a href=\"https://wandb.ai\" target=\"_blank\">Weights & Biases</a> <a href=\"https://docs.wandb.com/integrations/jupyter.html\" target=\"_blank\">(Documentation)</a>.<br/>\n",
       "                Project page: <a href=\"https://wandb.ai/sazio/NMAs-Full-Signals\" target=\"_blank\">https://wandb.ai/sazio/NMAs-Full-Signals</a><br/>\n",
       "                Sweep page: <a href=\"https://wandb.ai/sazio/NMAs-Full-Signals/sweeps/cbewt4f6\" target=\"_blank\">https://wandb.ai/sazio/NMAs-Full-Signals/sweeps/cbewt4f6</a><br/>\n",
       "Run page: <a href=\"https://wandb.ai/sazio/NMAs-Full-Signals/runs/17a6rvl2\" target=\"_blank\">https://wandb.ai/sazio/NMAs-Full-Signals/runs/17a6rvl2</a><br/>\n",
       "                Run data is saved locally in <code>/home/sazeglio/NMAs/src/wandb/run-20210815_150656-17a6rvl2</code><br/><br/>\n",
       "            "
      ],
      "text/plain": [
       "<IPython.core.display.HTML object>"
      ]
     },
     "metadata": {},
     "output_type": "display_data"
    },
    {
     "name": "stdout",
     "output_type": "stream",
     "text": [
      " iteration 0, train cost 4.9297, valid cost 5.0177\n",
      " iteration 50, train cost 3.2828, valid cost 3.3671\n",
      " iteration 100, train cost 3.2715, valid cost 3.3559\n",
      " iteration 150, train cost 3.2143, valid cost 3.2804\n",
      " iteration 200, train cost 3.1360, valid cost 3.1984\n",
      " iteration 250, train cost 3.0188, valid cost 3.0861\n",
      " iteration 300, train cost 2.9306, valid cost 2.9990\n",
      " iteration 350, train cost 2.8646, valid cost 2.9408\n",
      " iteration 400, train cost 2.8083, valid cost 2.8959\n",
      " iteration 450, train cost 2.7546, valid cost 2.8639\n",
      " iteration 500, train cost 2.7071, valid cost 2.8261\n",
      " iteration 550, train cost 2.6579, valid cost 2.7872\n",
      " iteration 600, train cost 2.6087, valid cost 2.7473\n",
      " iteration 650, train cost 2.5652, valid cost 2.7135\n",
      " iteration 700, train cost 2.5259, valid cost 2.6797\n",
      " iteration 750, train cost 2.4916, valid cost 2.6497\n",
      " iteration 800, train cost 2.4615, valid cost 2.6268\n",
      " iteration 850, train cost 2.4295, valid cost 2.5988\n",
      " iteration 900, train cost 2.3972, valid cost 2.5731\n",
      " iteration 950, train cost 2.3659, valid cost 2.5465\n",
      " iteration 1000, train cost 2.3469, valid cost 2.5238\n",
      " iteration 1050, train cost 2.3105, valid cost 2.4960\n",
      " iteration 1100, train cost 2.2753, valid cost 2.4670\n",
      " iteration 1150, train cost 2.2573, valid cost 2.4498\n",
      " iteration 1200, train cost 2.2298, valid cost 2.4303\n",
      " iteration 1250, train cost 2.1957, valid cost 2.4037\n",
      " iteration 1300, train cost 2.1756, valid cost 2.3897\n",
      " iteration 1350, train cost 2.1687, valid cost 2.3777\n",
      " iteration 1400, train cost 2.1426, valid cost 2.3567\n",
      " iteration 1450, train cost 2.1137, valid cost 2.3370\n",
      " iteration 1500, train cost 2.0963, valid cost 2.3247\n",
      " iteration 1550, train cost 2.0852, valid cost 2.3163\n",
      " iteration 1600, train cost 2.0643, valid cost 2.3018\n",
      " iteration 1650, train cost 2.0640, valid cost 2.3085\n",
      " iteration 1700, train cost 2.0331, valid cost 2.2799\n",
      " iteration 1750, train cost 2.0186, valid cost 2.2732\n",
      " iteration 1800, train cost 2.0054, valid cost 2.2618\n",
      " iteration 1850, train cost 1.9945, valid cost 2.2521\n",
      " iteration 1900, train cost 1.9811, valid cost 2.2487\n",
      " iteration 1950, train cost 2.0102, valid cost 2.2453\n",
      " iteration 2000, train cost 1.9960, valid cost 2.2476\n",
      " iteration 2050, train cost 1.9577, valid cost 2.2180\n",
      " iteration 2100, train cost 1.9484, valid cost 2.2136\n",
      " iteration 2150, train cost 1.9394, valid cost 2.2081\n",
      " iteration 2200, train cost 1.9528, valid cost 2.2180\n",
      " iteration 2250, train cost 1.9230, valid cost 2.1984\n",
      " iteration 2300, train cost 1.9121, valid cost 2.1922\n",
      " iteration 2350, train cost 1.9024, valid cost 2.1878\n",
      " iteration 2400, train cost 1.9104, valid cost 2.1836\n",
      " iteration 2450, train cost 1.8882, valid cost 2.1759\n",
      " iteration 2500, train cost 1.8805, valid cost 2.1724\n",
      " iteration 2550, train cost 1.8821, valid cost 2.1711\n",
      " iteration 2600, train cost 1.8857, valid cost 2.1753\n",
      " iteration 2650, train cost 1.8864, valid cost 2.1720\n",
      " iteration 2700, train cost 1.8940, valid cost 2.1748\n",
      " iteration 2750, train cost 1.8556, valid cost 2.1507\n",
      " iteration 2800, train cost 1.8499, valid cost 2.1494\n",
      " iteration 2850, train cost 1.8564, valid cost 2.1522\n",
      " iteration 2900, train cost 1.8403, valid cost 2.1440\n",
      " iteration 2950, train cost 1.8354, valid cost 2.1431\n",
      " iteration 3000, train cost 1.8413, valid cost 2.1353\n",
      " iteration 3050, train cost 1.8293, valid cost 2.1345\n",
      " iteration 3100, train cost 1.8247, valid cost 2.1351\n",
      " iteration 3150, train cost 1.8211, valid cost 2.1347\n",
      " iteration 3200, train cost 1.8170, valid cost 2.1329\n",
      " iteration 3250, train cost 1.8275, valid cost 2.1345\n",
      " iteration 3300, train cost 1.8119, valid cost 2.1260\n",
      " iteration 3350, train cost 1.8082, valid cost 2.1323\n",
      " iteration 3400, train cost 1.8128, valid cost 2.1271\n",
      " iteration 3450, train cost 1.8283, valid cost 2.1339\n",
      " iteration 3500, train cost 1.8022, valid cost 2.1198\n",
      " iteration 3550, train cost 1.7975, valid cost 2.1231\n",
      " iteration 3600, train cost 1.8103, valid cost 2.1352\n",
      " iteration 3650, train cost 1.7956, valid cost 2.1228\n",
      " iteration 3700, train cost 1.8060, valid cost 2.1316\n",
      " iteration 3750, train cost 1.7882, valid cost 2.1217\n",
      " iteration 3800, train cost 1.8072, valid cost 2.1285\n",
      " iteration 3850, train cost 1.7833, valid cost 2.1181\n",
      " iteration 3900, train cost 1.7792, valid cost 2.1179\n",
      " iteration 3950, train cost 1.8020, valid cost 2.1226\n"
     ]
    },
    {
     "data": {
      "text/html": [
       "<br/>Waiting for W&B process to finish, PID 202527<br/>Program ended successfully."
      ],
      "text/plain": [
       "<IPython.core.display.HTML object>"
      ]
     },
     "metadata": {},
     "output_type": "display_data"
    },
    {
     "name": "stderr",
     "output_type": "stream",
     "text": [
      "Widget Javascript not detected.  It may not be installed or enabled properly.\n"
     ]
    },
    {
     "data": {
      "application/vnd.jupyter.widget-view+json": {
       "model_id": "a650a55a9c054bef9b652d7caf8c4452"
      }
     },
     "metadata": {},
     "output_type": "display_data"
    },
    {
     "data": {
      "text/html": [
       "Find user logs for this run at: <code>/home/sazeglio/NMAs/src/wandb/run-20210815_150656-17a6rvl2/logs/debug.log</code>"
      ],
      "text/plain": [
       "<IPython.core.display.HTML object>"
      ]
     },
     "metadata": {},
     "output_type": "display_data"
    },
    {
     "data": {
      "text/html": [
       "Find internal logs for this run at: <code>/home/sazeglio/NMAs/src/wandb/run-20210815_150656-17a6rvl2/logs/debug-internal.log</code>"
      ],
      "text/plain": [
       "<IPython.core.display.HTML object>"
      ]
     },
     "metadata": {},
     "output_type": "display_data"
    },
    {
     "data": {
      "text/html": [
       "<h3>Run summary:</h3><br/><style>\n",
       "    table.wandb td:nth-child(1) { padding: 0 10px; text-align: right }\n",
       "    </style><table class=\"wandb\">\n",
       "<tr><td>train_loss</td><td>1.78169</td></tr><tr><td>valid_loss</td><td>2.11796</td></tr><tr><td>epoch</td><td>3999</td></tr><tr><td>_runtime</td><td>1239</td></tr><tr><td>_timestamp</td><td>1629034055</td></tr><tr><td>_step</td><td>3999</td></tr></table>"
      ],
      "text/plain": [
       "<IPython.core.display.HTML object>"
      ]
     },
     "metadata": {},
     "output_type": "display_data"
    },
    {
     "data": {
      "text/html": [
       "<h3>Run history:</h3><br/><style>\n",
       "    table.wandb td:nth-child(1) { padding: 0 10px; text-align: right }\n",
       "    </style><table class=\"wandb\">\n",
       "<tr><td>train_loss</td><td>██▇▆▆▅▅▄▄▄▃▃▃▃▃▃▂▂▂▂▂▂▂▂▁▁▁▁▁▁▁▁▁▁▁▁▁▁▁▁</td></tr><tr><td>valid_loss</td><td>██▇▆▅▅▄▄▄▃▃▃▃▃▂▂▂▂▂▂▂▂▁▁▁▁▁▁▁▁▁▁▁▁▁▁▁▁▁▁</td></tr><tr><td>epoch</td><td>▁▁▁▂▂▂▂▂▂▃▃▃▃▃▄▄▄▄▄▄▅▅▅▅▅▅▆▆▆▆▆▇▇▇▇▇▇███</td></tr><tr><td>_runtime</td><td>▁▁▁▂▂▂▂▂▂▃▃▃▃▃▄▄▄▄▄▄▅▅▅▅▅▅▆▆▆▆▆▇▇▇▇▇▇███</td></tr><tr><td>_timestamp</td><td>▁▁▁▂▂▂▂▂▂▃▃▃▃▃▄▄▄▄▄▄▅▅▅▅▅▅▆▆▆▆▆▇▇▇▇▇▇███</td></tr><tr><td>_step</td><td>▁▁▁▂▂▂▂▂▂▃▃▃▃▃▄▄▄▄▄▄▅▅▅▅▅▅▆▆▆▆▆▇▇▇▇▇▇███</td></tr></table><br/>"
      ],
      "text/plain": [
       "<IPython.core.display.HTML object>"
      ]
     },
     "metadata": {},
     "output_type": "display_data"
    },
    {
     "data": {
      "text/html": [
       "Synced 5 W&B file(s), 0 media file(s), 0 artifact file(s) and 0 other file(s)"
      ],
      "text/plain": [
       "<IPython.core.display.HTML object>"
      ]
     },
     "metadata": {},
     "output_type": "display_data"
    },
    {
     "data": {
      "text/html": [
       "\n",
       "                    <br/>Synced <strong style=\"color:#cdcd00\">deep-sweep-40</strong>: <a href=\"https://wandb.ai/sazio/NMAs-Full-Signals/runs/17a6rvl2\" target=\"_blank\">https://wandb.ai/sazio/NMAs-Full-Signals/runs/17a6rvl2</a><br/>\n",
       "                "
      ],
      "text/plain": [
       "<IPython.core.display.HTML object>"
      ]
     },
     "metadata": {},
     "output_type": "display_data"
    },
    {
     "name": "stderr",
     "output_type": "stream",
     "text": [
      "wandb: Agent Starting Run: 13c3wpvh with config:\n",
      "wandb: \tdropout: 0.1\n",
      "wandb: \tepochs: 4000\n",
      "wandb: \tlearning_rate: 0.00030947697242468075\n",
      "wandb: \tn_comp: 200\n",
      "wandb: \tnum_layers: 1\n",
      "wandb: \toptimizer: adam\n",
      "wandb: \tweight_decay: 1e-05\n",
      "Failed to detect the name of this notebook, you can set it manually with the WANDB_NOTEBOOK_NAME environment variable to enable code saving.\n"
     ]
    },
    {
     "data": {
      "text/html": [
       "\n",
       "                Tracking run with wandb version 0.12.0<br/>\n",
       "                Syncing run <strong style=\"color:#cdcd00\">apricot-sweep-41</strong> to <a href=\"https://wandb.ai\" target=\"_blank\">Weights & Biases</a> <a href=\"https://docs.wandb.com/integrations/jupyter.html\" target=\"_blank\">(Documentation)</a>.<br/>\n",
       "                Project page: <a href=\"https://wandb.ai/sazio/NMAs-Full-Signals\" target=\"_blank\">https://wandb.ai/sazio/NMAs-Full-Signals</a><br/>\n",
       "                Sweep page: <a href=\"https://wandb.ai/sazio/NMAs-Full-Signals/sweeps/cbewt4f6\" target=\"_blank\">https://wandb.ai/sazio/NMAs-Full-Signals/sweeps/cbewt4f6</a><br/>\n",
       "Run page: <a href=\"https://wandb.ai/sazio/NMAs-Full-Signals/runs/13c3wpvh\" target=\"_blank\">https://wandb.ai/sazio/NMAs-Full-Signals/runs/13c3wpvh</a><br/>\n",
       "                Run data is saved locally in <code>/home/sazeglio/NMAs/src/wandb/run-20210815_152742-13c3wpvh</code><br/><br/>\n",
       "            "
      ],
      "text/plain": [
       "<IPython.core.display.HTML object>"
      ]
     },
     "metadata": {},
     "output_type": "display_data"
    },
    {
     "name": "stdout",
     "output_type": "stream",
     "text": [
      " iteration 0, train cost 4.9302, valid cost 5.0296\n",
      " iteration 50, train cost 3.4503, valid cost 3.5142\n",
      " iteration 100, train cost 3.2908, valid cost 3.3662\n",
      " iteration 150, train cost 3.2807, valid cost 3.3593\n",
      " iteration 200, train cost 3.2739, valid cost 3.3544\n",
      " iteration 250, train cost 3.2575, valid cost 3.3373\n",
      " iteration 300, train cost 3.1984, valid cost 3.2736\n",
      " iteration 350, train cost 3.1311, valid cost 3.2005\n",
      " iteration 400, train cost 3.0584, valid cost 3.1236\n",
      " iteration 450, train cost 3.0110, valid cost 3.0790\n",
      " iteration 500, train cost 2.9586, valid cost 3.0252\n",
      " iteration 550, train cost 2.9148, valid cost 2.9844\n",
      " iteration 600, train cost 2.8771, valid cost 2.9507\n",
      " iteration 650, train cost 2.8378, valid cost 2.9145\n",
      " iteration 700, train cost 2.7900, valid cost 2.8698\n",
      " iteration 750, train cost 2.7384, valid cost 2.8206\n",
      " iteration 800, train cost 2.6877, valid cost 2.7738\n",
      " iteration 850, train cost 2.6486, valid cost 2.7402\n",
      " iteration 900, train cost 2.6171, valid cost 2.7128\n",
      " iteration 950, train cost 2.5860, valid cost 2.6841\n",
      " iteration 1000, train cost 2.5536, valid cost 2.6525\n",
      " iteration 1050, train cost 2.5240, valid cost 2.6229\n",
      " iteration 1100, train cost 2.4954, valid cost 2.5980\n",
      " iteration 1150, train cost 2.4706, valid cost 2.5756\n",
      " iteration 1200, train cost 2.4469, valid cost 2.5543\n",
      " iteration 1250, train cost 2.4249, valid cost 2.5342\n",
      " iteration 1300, train cost 2.4049, valid cost 2.5151\n",
      " iteration 1350, train cost 2.3840, valid cost 2.4952\n",
      " iteration 1400, train cost 2.3621, valid cost 2.4741\n",
      " iteration 1450, train cost 2.3420, valid cost 2.4543\n",
      " iteration 1500, train cost 2.3235, valid cost 2.4357\n",
      " iteration 1550, train cost 2.3055, valid cost 2.4193\n",
      " iteration 1600, train cost 2.2893, valid cost 2.4039\n",
      " iteration 1650, train cost 2.2741, valid cost 2.3891\n",
      " iteration 1700, train cost 2.2606, valid cost 2.3761\n",
      " iteration 1750, train cost 2.2491, valid cost 2.3652\n",
      " iteration 1800, train cost 2.2387, valid cost 2.3547\n",
      " iteration 1850, train cost 2.2272, valid cost 2.3454\n",
      " iteration 1900, train cost 2.2168, valid cost 2.3371\n",
      " iteration 1950, train cost 2.2077, valid cost 2.3278\n",
      " iteration 2000, train cost 2.1981, valid cost 2.3205\n",
      " iteration 2050, train cost 2.1884, valid cost 2.3126\n",
      " iteration 2100, train cost 2.1804, valid cost 2.3050\n",
      " iteration 2150, train cost 2.1712, valid cost 2.2981\n",
      " iteration 2200, train cost 2.1639, valid cost 2.2904\n",
      " iteration 2250, train cost 2.1563, valid cost 2.2838\n",
      " iteration 2300, train cost 2.1468, valid cost 2.2786\n",
      " iteration 2350, train cost 2.1405, valid cost 2.2717\n",
      " iteration 2400, train cost 2.1328, valid cost 2.2657\n",
      " iteration 2450, train cost 2.1248, valid cost 2.2591\n",
      " iteration 2500, train cost 2.1187, valid cost 2.2530\n",
      " iteration 2550, train cost 2.1117, valid cost 2.2470\n",
      " iteration 2600, train cost 2.1038, valid cost 2.2410\n",
      " iteration 2650, train cost 2.0958, valid cost 2.2361\n",
      " iteration 2700, train cost 2.0887, valid cost 2.2303\n",
      " iteration 2750, train cost 2.0806, valid cost 2.2248\n",
      " iteration 2800, train cost 2.0729, valid cost 2.2199\n",
      " iteration 2850, train cost 2.0671, valid cost 2.2151\n",
      " iteration 2900, train cost 2.0587, valid cost 2.2092\n",
      " iteration 2950, train cost 2.0496, valid cost 2.2037\n",
      " iteration 3000, train cost 2.0444, valid cost 2.1992\n",
      " iteration 3050, train cost 2.0379, valid cost 2.1948\n",
      " iteration 3100, train cost 2.0318, valid cost 2.1901\n",
      " iteration 3150, train cost 2.0259, valid cost 2.1861\n",
      " iteration 3200, train cost 2.0214, valid cost 2.1832\n",
      " iteration 3250, train cost 2.0158, valid cost 2.1789\n",
      " iteration 3300, train cost 2.0098, valid cost 2.1754\n",
      " iteration 3350, train cost 2.0053, valid cost 2.1715\n",
      " iteration 3400, train cost 1.9981, valid cost 2.1680\n",
      " iteration 3450, train cost 1.9911, valid cost 2.1647\n",
      " iteration 3500, train cost 1.9884, valid cost 2.1621\n",
      " iteration 3550, train cost 1.9819, valid cost 2.1573\n",
      " iteration 3600, train cost 1.9786, valid cost 2.1540\n",
      " iteration 3650, train cost 1.9715, valid cost 2.1508\n",
      " iteration 3700, train cost 1.9689, valid cost 2.1477\n",
      " iteration 3750, train cost 1.9651, valid cost 2.1444\n",
      " iteration 3800, train cost 1.9595, valid cost 2.1419\n",
      " iteration 3850, train cost 1.9542, valid cost 2.1384\n",
      " iteration 3900, train cost 1.9504, valid cost 2.1350\n",
      " iteration 3950, train cost 1.9449, valid cost 2.1319\n"
     ]
    },
    {
     "data": {
      "text/html": [
       "<br/>Waiting for W&B process to finish, PID 202807<br/>Program ended successfully."
      ],
      "text/plain": [
       "<IPython.core.display.HTML object>"
      ]
     },
     "metadata": {},
     "output_type": "display_data"
    },
    {
     "name": "stderr",
     "output_type": "stream",
     "text": [
      "Widget Javascript not detected.  It may not be installed or enabled properly.\n"
     ]
    },
    {
     "data": {
      "application/vnd.jupyter.widget-view+json": {
       "model_id": "d48e6517116a4ee69f191972feef1fe6"
      }
     },
     "metadata": {},
     "output_type": "display_data"
    },
    {
     "data": {
      "text/html": [
       "Find user logs for this run at: <code>/home/sazeglio/NMAs/src/wandb/run-20210815_152742-13c3wpvh/logs/debug.log</code>"
      ],
      "text/plain": [
       "<IPython.core.display.HTML object>"
      ]
     },
     "metadata": {},
     "output_type": "display_data"
    },
    {
     "data": {
      "text/html": [
       "Find internal logs for this run at: <code>/home/sazeglio/NMAs/src/wandb/run-20210815_152742-13c3wpvh/logs/debug-internal.log</code>"
      ],
      "text/plain": [
       "<IPython.core.display.HTML object>"
      ]
     },
     "metadata": {},
     "output_type": "display_data"
    },
    {
     "data": {
      "text/html": [
       "<h3>Run summary:</h3><br/><style>\n",
       "    table.wandb td:nth-child(1) { padding: 0 10px; text-align: right }\n",
       "    </style><table class=\"wandb\">\n",
       "<tr><td>train_loss</td><td>1.94077</td></tr><tr><td>valid_loss</td><td>2.12989</td></tr><tr><td>epoch</td><td>3999</td></tr><tr><td>_runtime</td><td>1239</td></tr><tr><td>_timestamp</td><td>1629035301</td></tr><tr><td>_step</td><td>3999</td></tr></table>"
      ],
      "text/plain": [
       "<IPython.core.display.HTML object>"
      ]
     },
     "metadata": {},
     "output_type": "display_data"
    },
    {
     "data": {
      "text/html": [
       "<h3>Run history:</h3><br/><style>\n",
       "    table.wandb td:nth-child(1) { padding: 0 10px; text-align: right }\n",
       "    </style><table class=\"wandb\">\n",
       "<tr><td>train_loss</td><td>█▆▆▅▅▅▄▄▄▃▃▃▃▃▂▂▂▂▂▂▂▂▂▂▂▂▂▁▁▁▁▁▁▁▁▁▁▁▁▁</td></tr><tr><td>valid_loss</td><td>█▆▆▅▅▄▄▄▃▃▃▃▃▂▂▂▂▂▂▂▂▂▂▂▁▁▁▁▁▁▁▁▁▁▁▁▁▁▁▁</td></tr><tr><td>epoch</td><td>▁▁▁▂▂▂▂▂▂▃▃▃▃▃▄▄▄▄▄▄▅▅▅▅▅▅▆▆▆▆▆▇▇▇▇▇▇███</td></tr><tr><td>_runtime</td><td>▁▁▁▂▂▂▂▂▂▃▃▃▃▃▄▄▄▄▄▄▅▅▅▅▅▅▆▆▆▆▆▇▇▇▇▇▇███</td></tr><tr><td>_timestamp</td><td>▁▁▁▂▂▂▂▂▂▃▃▃▃▃▄▄▄▄▄▄▅▅▅▅▅▅▆▆▆▆▆▇▇▇▇▇▇███</td></tr><tr><td>_step</td><td>▁▁▁▂▂▂▂▂▂▃▃▃▃▃▄▄▄▄▄▄▅▅▅▅▅▅▆▆▆▆▆▇▇▇▇▇▇███</td></tr></table><br/>"
      ],
      "text/plain": [
       "<IPython.core.display.HTML object>"
      ]
     },
     "metadata": {},
     "output_type": "display_data"
    },
    {
     "data": {
      "text/html": [
       "Synced 5 W&B file(s), 0 media file(s), 0 artifact file(s) and 0 other file(s)"
      ],
      "text/plain": [
       "<IPython.core.display.HTML object>"
      ]
     },
     "metadata": {},
     "output_type": "display_data"
    },
    {
     "data": {
      "text/html": [
       "\n",
       "                    <br/>Synced <strong style=\"color:#cdcd00\">apricot-sweep-41</strong>: <a href=\"https://wandb.ai/sazio/NMAs-Full-Signals/runs/13c3wpvh\" target=\"_blank\">https://wandb.ai/sazio/NMAs-Full-Signals/runs/13c3wpvh</a><br/>\n",
       "                "
      ],
      "text/plain": [
       "<IPython.core.display.HTML object>"
      ]
     },
     "metadata": {},
     "output_type": "display_data"
    },
    {
     "name": "stderr",
     "output_type": "stream",
     "text": [
      "wandb: Agent Starting Run: 47arp74h with config:\n",
      "wandb: \tdropout: 0.2\n",
      "wandb: \tepochs: 4000\n",
      "wandb: \tlearning_rate: 0.0002318312266586271\n",
      "wandb: \tn_comp: 200\n",
      "wandb: \tnum_layers: 1\n",
      "wandb: \toptimizer: adam\n",
      "wandb: \tweight_decay: 0\n",
      "Failed to detect the name of this notebook, you can set it manually with the WANDB_NOTEBOOK_NAME environment variable to enable code saving.\n"
     ]
    },
    {
     "data": {
      "text/html": [
       "\n",
       "                Tracking run with wandb version 0.12.0<br/>\n",
       "                Syncing run <strong style=\"color:#cdcd00\">faithful-sweep-42</strong> to <a href=\"https://wandb.ai\" target=\"_blank\">Weights & Biases</a> <a href=\"https://docs.wandb.com/integrations/jupyter.html\" target=\"_blank\">(Documentation)</a>.<br/>\n",
       "                Project page: <a href=\"https://wandb.ai/sazio/NMAs-Full-Signals\" target=\"_blank\">https://wandb.ai/sazio/NMAs-Full-Signals</a><br/>\n",
       "                Sweep page: <a href=\"https://wandb.ai/sazio/NMAs-Full-Signals/sweeps/cbewt4f6\" target=\"_blank\">https://wandb.ai/sazio/NMAs-Full-Signals/sweeps/cbewt4f6</a><br/>\n",
       "Run page: <a href=\"https://wandb.ai/sazio/NMAs-Full-Signals/runs/47arp74h\" target=\"_blank\">https://wandb.ai/sazio/NMAs-Full-Signals/runs/47arp74h</a><br/>\n",
       "                Run data is saved locally in <code>/home/sazeglio/NMAs/src/wandb/run-20210815_154826-47arp74h</code><br/><br/>\n",
       "            "
      ],
      "text/plain": [
       "<IPython.core.display.HTML object>"
      ]
     },
     "metadata": {},
     "output_type": "display_data"
    },
    {
     "name": "stdout",
     "output_type": "stream",
     "text": [
      " iteration 0, train cost 4.9328, valid cost 5.0331\n",
      " iteration 50, train cost 3.6257, valid cost 3.6793\n",
      " iteration 100, train cost 3.3004, valid cost 3.3724\n",
      " iteration 150, train cost 3.2860, valid cost 3.3623\n",
      " iteration 200, train cost 3.2800, valid cost 3.3591\n",
      " iteration 250, train cost 3.2752, valid cost 3.3558\n",
      " iteration 300, train cost 3.2670, valid cost 3.3476\n",
      " iteration 350, train cost 3.2399, valid cost 3.3175\n",
      " iteration 400, train cost 3.1940, valid cost 3.2690\n",
      " iteration 450, train cost 3.1666, valid cost 3.2439\n",
      " iteration 500, train cost 3.1220, valid cost 3.1969\n",
      " iteration 550, train cost 3.0815, valid cost 3.1501\n",
      " iteration 600, train cost 3.0532, valid cost 3.1180\n",
      " iteration 650, train cost 3.0113, valid cost 3.0758\n",
      " iteration 700, train cost 2.9671, valid cost 3.0333\n",
      " iteration 750, train cost 2.9351, valid cost 3.0041\n",
      " iteration 800, train cost 2.9045, valid cost 2.9759\n",
      " iteration 850, train cost 2.8678, valid cost 2.9408\n",
      " iteration 900, train cost 2.8352, valid cost 2.9104\n",
      " iteration 950, train cost 2.8059, valid cost 2.8830\n",
      " iteration 1000, train cost 2.7777, valid cost 2.8580\n",
      " iteration 1050, train cost 2.7490, valid cost 2.8312\n",
      " iteration 1100, train cost 2.7149, valid cost 2.7991\n",
      " iteration 1150, train cost 2.6808, valid cost 2.7671\n",
      " iteration 1200, train cost 2.6480, valid cost 2.7382\n",
      " iteration 1250, train cost 2.6188, valid cost 2.7121\n",
      " iteration 1300, train cost 2.5921, valid cost 2.6895\n",
      " iteration 1350, train cost 2.5673, valid cost 2.6679\n",
      " iteration 1400, train cost 2.5448, valid cost 2.6478\n",
      " iteration 1450, train cost 2.5242, valid cost 2.6294\n",
      " iteration 1500, train cost 2.5064, valid cost 2.6122\n",
      " iteration 1550, train cost 2.4873, valid cost 2.5953\n",
      " iteration 1600, train cost 2.4670, valid cost 2.5781\n",
      " iteration 1650, train cost 2.4496, valid cost 2.5607\n",
      " iteration 1700, train cost 2.4314, valid cost 2.5443\n",
      " iteration 1750, train cost 2.4151, valid cost 2.5281\n",
      " iteration 1800, train cost 2.3984, valid cost 2.5120\n",
      " iteration 1850, train cost 2.3821, valid cost 2.4970\n",
      " iteration 1900, train cost 2.3681, valid cost 2.4823\n",
      " iteration 1950, train cost 2.3527, valid cost 2.4690\n",
      " iteration 2000, train cost 2.3394, valid cost 2.4562\n",
      " iteration 2050, train cost 2.3251, valid cost 2.4446\n",
      " iteration 2100, train cost 2.3127, valid cost 2.4336\n",
      " iteration 2150, train cost 2.3010, valid cost 2.4231\n",
      " iteration 2200, train cost 2.2901, valid cost 2.4129\n",
      " iteration 2250, train cost 2.2788, valid cost 2.4034\n",
      " iteration 2300, train cost 2.2689, valid cost 2.3938\n",
      " iteration 2350, train cost 2.2591, valid cost 2.3844\n",
      " iteration 2400, train cost 2.2475, valid cost 2.3746\n",
      " iteration 2450, train cost 2.2376, valid cost 2.3648\n",
      " iteration 2500, train cost 2.2267, valid cost 2.3555\n",
      " iteration 2550, train cost 2.2172, valid cost 2.3461\n",
      " iteration 2600, train cost 2.2090, valid cost 2.3375\n",
      " iteration 2650, train cost 2.1986, valid cost 2.3299\n",
      " iteration 2700, train cost 2.1908, valid cost 2.3228\n",
      " iteration 2750, train cost 2.1833, valid cost 2.3151\n",
      " iteration 2800, train cost 2.1741, valid cost 2.3084\n",
      " iteration 2850, train cost 2.1661, valid cost 2.3027\n",
      " iteration 2900, train cost 2.1596, valid cost 2.2959\n",
      " iteration 2950, train cost 2.1516, valid cost 2.2906\n",
      " iteration 3000, train cost 2.1449, valid cost 2.2845\n",
      " iteration 3050, train cost 2.1380, valid cost 2.2792\n",
      " iteration 3100, train cost 2.1323, valid cost 2.2742\n",
      " iteration 3150, train cost 2.1243, valid cost 2.2695\n",
      " iteration 3200, train cost 2.1201, valid cost 2.2645\n",
      " iteration 3250, train cost 2.1126, valid cost 2.2601\n",
      " iteration 3300, train cost 2.1068, valid cost 2.2560\n",
      " iteration 3350, train cost 2.1020, valid cost 2.2517\n",
      " iteration 3400, train cost 2.0957, valid cost 2.2479\n",
      " iteration 3450, train cost 2.0922, valid cost 2.2438\n",
      " iteration 3500, train cost 2.0860, valid cost 2.2402\n",
      " iteration 3550, train cost 2.0803, valid cost 2.2367\n",
      " iteration 3600, train cost 2.0750, valid cost 2.2332\n",
      " iteration 3650, train cost 2.0710, valid cost 2.2289\n",
      " iteration 3700, train cost 2.0660, valid cost 2.2256\n",
      " iteration 3750, train cost 2.0610, valid cost 2.2219\n",
      " iteration 3800, train cost 2.0560, valid cost 2.2185\n",
      " iteration 3850, train cost 2.0504, valid cost 2.2145\n",
      " iteration 3900, train cost 2.0473, valid cost 2.2120\n",
      " iteration 3950, train cost 2.0427, valid cost 2.2075\n"
     ]
    },
    {
     "data": {
      "text/html": [
       "<br/>Waiting for W&B process to finish, PID 203114<br/>Program ended successfully."
      ],
      "text/plain": [
       "<IPython.core.display.HTML object>"
      ]
     },
     "metadata": {},
     "output_type": "display_data"
    },
    {
     "name": "stderr",
     "output_type": "stream",
     "text": [
      "Widget Javascript not detected.  It may not be installed or enabled properly.\n"
     ]
    },
    {
     "data": {
      "application/vnd.jupyter.widget-view+json": {
       "model_id": "c3bf571c6f624ddcb9bb072c4b0069a6"
      }
     },
     "metadata": {},
     "output_type": "display_data"
    },
    {
     "data": {
      "text/html": [
       "Find user logs for this run at: <code>/home/sazeglio/NMAs/src/wandb/run-20210815_154826-47arp74h/logs/debug.log</code>"
      ],
      "text/plain": [
       "<IPython.core.display.HTML object>"
      ]
     },
     "metadata": {},
     "output_type": "display_data"
    },
    {
     "data": {
      "text/html": [
       "Find internal logs for this run at: <code>/home/sazeglio/NMAs/src/wandb/run-20210815_154826-47arp74h/logs/debug-internal.log</code>"
      ],
      "text/plain": [
       "<IPython.core.display.HTML object>"
      ]
     },
     "metadata": {},
     "output_type": "display_data"
    },
    {
     "data": {
      "text/html": [
       "<h3>Run summary:</h3><br/><style>\n",
       "    table.wandb td:nth-child(1) { padding: 0 10px; text-align: right }\n",
       "    </style><table class=\"wandb\">\n",
       "<tr><td>train_loss</td><td>2.03723</td></tr><tr><td>valid_loss</td><td>2.20397</td></tr><tr><td>epoch</td><td>3999</td></tr><tr><td>_runtime</td><td>1239</td></tr><tr><td>_timestamp</td><td>1629036545</td></tr><tr><td>_step</td><td>3999</td></tr></table>"
      ],
      "text/plain": [
       "<IPython.core.display.HTML object>"
      ]
     },
     "metadata": {},
     "output_type": "display_data"
    },
    {
     "data": {
      "text/html": [
       "<h3>Run history:</h3><br/><style>\n",
       "    table.wandb td:nth-child(1) { padding: 0 10px; text-align: right }\n",
       "    </style><table class=\"wandb\">\n",
       "<tr><td>train_loss</td><td>█▅▅▅▅▄▄▄▄▄▃▃▃▃▃▂▂▂▂▂▂▂▂▂▂▂▂▁▁▁▁▁▁▁▁▁▁▁▁▁</td></tr><tr><td>valid_loss</td><td>█▅▅▅▅▄▄▄▄▃▃▃▃▃▂▂▂▂▂▂▂▂▂▂▂▁▁▁▁▁▁▁▁▁▁▁▁▁▁▁</td></tr><tr><td>epoch</td><td>▁▁▁▂▂▂▂▂▂▃▃▃▃▃▄▄▄▄▄▄▅▅▅▅▅▅▆▆▆▆▆▇▇▇▇▇▇███</td></tr><tr><td>_runtime</td><td>▁▁▁▂▂▂▂▂▂▃▃▃▃▃▄▄▄▄▄▄▅▅▅▅▅▅▆▆▆▆▆▇▇▇▇▇▇███</td></tr><tr><td>_timestamp</td><td>▁▁▁▂▂▂▂▂▂▃▃▃▃▃▄▄▄▄▄▄▅▅▅▅▅▅▆▆▆▆▆▇▇▇▇▇▇███</td></tr><tr><td>_step</td><td>▁▁▁▂▂▂▂▂▂▃▃▃▃▃▄▄▄▄▄▄▅▅▅▅▅▅▆▆▆▆▆▇▇▇▇▇▇███</td></tr></table><br/>"
      ],
      "text/plain": [
       "<IPython.core.display.HTML object>"
      ]
     },
     "metadata": {},
     "output_type": "display_data"
    },
    {
     "data": {
      "text/html": [
       "Synced 5 W&B file(s), 0 media file(s), 0 artifact file(s) and 0 other file(s)"
      ],
      "text/plain": [
       "<IPython.core.display.HTML object>"
      ]
     },
     "metadata": {},
     "output_type": "display_data"
    },
    {
     "data": {
      "text/html": [
       "\n",
       "                    <br/>Synced <strong style=\"color:#cdcd00\">faithful-sweep-42</strong>: <a href=\"https://wandb.ai/sazio/NMAs-Full-Signals/runs/47arp74h\" target=\"_blank\">https://wandb.ai/sazio/NMAs-Full-Signals/runs/47arp74h</a><br/>\n",
       "                "
      ],
      "text/plain": [
       "<IPython.core.display.HTML object>"
      ]
     },
     "metadata": {},
     "output_type": "display_data"
    },
    {
     "name": "stderr",
     "output_type": "stream",
     "text": [
      "wandb: Agent Starting Run: ii2ons03 with config:\n",
      "wandb: \tdropout: 0.5\n",
      "wandb: \tepochs: 4000\n",
      "wandb: \tlearning_rate: 0.0014947300865547424\n",
      "wandb: \tn_comp: 200\n",
      "wandb: \tnum_layers: 1\n",
      "wandb: \toptimizer: adam\n",
      "wandb: \tweight_decay: 0\n",
      "Failed to detect the name of this notebook, you can set it manually with the WANDB_NOTEBOOK_NAME environment variable to enable code saving.\n"
     ]
    },
    {
     "data": {
      "text/html": [
       "\n",
       "                Tracking run with wandb version 0.12.0<br/>\n",
       "                Syncing run <strong style=\"color:#cdcd00\">misunderstood-sweep-43</strong> to <a href=\"https://wandb.ai\" target=\"_blank\">Weights & Biases</a> <a href=\"https://docs.wandb.com/integrations/jupyter.html\" target=\"_blank\">(Documentation)</a>.<br/>\n",
       "                Project page: <a href=\"https://wandb.ai/sazio/NMAs-Full-Signals\" target=\"_blank\">https://wandb.ai/sazio/NMAs-Full-Signals</a><br/>\n",
       "                Sweep page: <a href=\"https://wandb.ai/sazio/NMAs-Full-Signals/sweeps/cbewt4f6\" target=\"_blank\">https://wandb.ai/sazio/NMAs-Full-Signals/sweeps/cbewt4f6</a><br/>\n",
       "Run page: <a href=\"https://wandb.ai/sazio/NMAs-Full-Signals/runs/ii2ons03\" target=\"_blank\">https://wandb.ai/sazio/NMAs-Full-Signals/runs/ii2ons03</a><br/>\n",
       "                Run data is saved locally in <code>/home/sazeglio/NMAs/src/wandb/run-20210815_160910-ii2ons03</code><br/><br/>\n",
       "            "
      ],
      "text/plain": [
       "<IPython.core.display.HTML object>"
      ]
     },
     "metadata": {},
     "output_type": "display_data"
    },
    {
     "name": "stdout",
     "output_type": "stream",
     "text": [
      " iteration 0, train cost 4.9323, valid cost 5.0157\n",
      " iteration 50, train cost 3.2825, valid cost 3.3658\n",
      " iteration 100, train cost 3.2710, valid cost 3.3556\n",
      " iteration 150, train cost 3.2057, valid cost 3.2805\n",
      " iteration 200, train cost 3.0863, valid cost 3.1590\n",
      " iteration 250, train cost 3.0451, valid cost 3.1110\n",
      " iteration 300, train cost 2.9875, valid cost 3.0525\n",
      " iteration 350, train cost 2.9164, valid cost 2.9910\n",
      " iteration 400, train cost 2.8764, valid cost 2.9594\n",
      " iteration 450, train cost 2.8374, valid cost 2.9288\n",
      " iteration 500, train cost 2.7970, valid cost 2.8949\n",
      " iteration 550, train cost 2.7608, valid cost 2.8693\n",
      " iteration 600, train cost 2.7139, valid cost 2.8374\n",
      " iteration 650, train cost 2.6765, valid cost 2.8131\n",
      " iteration 700, train cost 2.6427, valid cost 2.7948\n",
      " iteration 750, train cost 2.6176, valid cost 2.7787\n",
      " iteration 800, train cost 2.5856, valid cost 2.7555\n",
      " iteration 850, train cost 2.5520, valid cost 2.7334\n",
      " iteration 900, train cost 2.5235, valid cost 2.7131\n",
      " iteration 950, train cost 2.4946, valid cost 2.6902\n",
      " iteration 1000, train cost 2.4640, valid cost 2.6712\n",
      " iteration 1050, train cost 2.4412, valid cost 2.6590\n",
      " iteration 1100, train cost 2.4173, valid cost 2.6445\n",
      " iteration 1150, train cost 2.3928, valid cost 2.6335\n",
      " iteration 1200, train cost 2.3764, valid cost 2.6231\n",
      " iteration 1250, train cost 2.3548, valid cost 2.6141\n",
      " iteration 1300, train cost 2.3414, valid cost 2.6095\n",
      " iteration 1350, train cost 2.3169, valid cost 2.5974\n",
      " iteration 1400, train cost 2.3006, valid cost 2.5898\n",
      " iteration 1450, train cost 2.2836, valid cost 2.5802\n",
      " iteration 1500, train cost 2.2719, valid cost 2.5745\n",
      " iteration 1550, train cost 2.2568, valid cost 2.5609\n",
      " iteration 1600, train cost 2.2444, valid cost 2.5583\n",
      " iteration 1650, train cost 2.2275, valid cost 2.5480\n",
      " iteration 1700, train cost 2.2115, valid cost 2.5413\n",
      " iteration 1750, train cost 2.1983, valid cost 2.5315\n",
      " iteration 1800, train cost 2.1857, valid cost 2.5241\n",
      " iteration 1850, train cost 2.1736, valid cost 2.5164\n",
      " iteration 1900, train cost 2.1643, valid cost 2.5165\n",
      " iteration 1950, train cost 2.1489, valid cost 2.5037\n",
      " iteration 2000, train cost 2.1346, valid cost 2.4942\n",
      " iteration 2050, train cost 2.1240, valid cost 2.4888\n",
      " iteration 2100, train cost 2.1157, valid cost 2.4820\n",
      " iteration 2150, train cost 2.1057, valid cost 2.4803\n",
      " iteration 2200, train cost 2.0980, valid cost 2.4751\n",
      " iteration 2250, train cost 2.0882, valid cost 2.4718\n",
      " iteration 2300, train cost 2.0828, valid cost 2.4668\n",
      " iteration 2350, train cost 2.0738, valid cost 2.4647\n",
      " iteration 2400, train cost 2.0702, valid cost 2.4613\n",
      " iteration 2450, train cost 2.0586, valid cost 2.4555\n",
      " iteration 2500, train cost 2.0533, valid cost 2.4531\n",
      " iteration 2550, train cost 2.0442, valid cost 2.4464\n",
      " iteration 2600, train cost 2.0423, valid cost 2.4455\n",
      " iteration 2650, train cost 2.0318, valid cost 2.4440\n",
      " iteration 2700, train cost 2.0250, valid cost 2.4390\n",
      " iteration 2750, train cost 2.0231, valid cost 2.4395\n",
      " iteration 2800, train cost 2.0157, valid cost 2.4354\n",
      " iteration 2850, train cost 2.0136, valid cost 2.4349\n",
      " iteration 2900, train cost 2.0068, valid cost 2.4302\n",
      " iteration 2950, train cost 1.9995, valid cost 2.4251\n",
      " iteration 3000, train cost 1.9960, valid cost 2.4232\n",
      " iteration 3050, train cost 1.9951, valid cost 2.4243\n",
      " iteration 3100, train cost 1.9845, valid cost 2.4169\n",
      " iteration 3150, train cost 1.9860, valid cost 2.4176\n",
      " iteration 3200, train cost 1.9742, valid cost 2.4129\n",
      " iteration 3250, train cost 1.9749, valid cost 2.4129\n",
      " iteration 3300, train cost 1.9673, valid cost 2.4086\n",
      " iteration 3350, train cost 1.9676, valid cost 2.4066\n",
      " iteration 3400, train cost 1.9631, valid cost 2.4044\n",
      " iteration 3450, train cost 1.9593, valid cost 2.4058\n",
      " iteration 3500, train cost 1.9530, valid cost 2.3995\n",
      " iteration 3550, train cost 1.9499, valid cost 2.3988\n",
      " iteration 3600, train cost 1.9434, valid cost 2.3950\n",
      " iteration 3650, train cost 1.9420, valid cost 2.3949\n",
      " iteration 3700, train cost 1.9362, valid cost 2.3905\n",
      " iteration 3750, train cost 1.9316, valid cost 2.3903\n",
      " iteration 3800, train cost 1.9323, valid cost 2.3875\n",
      " iteration 3850, train cost 1.9262, valid cost 2.3864\n",
      " iteration 3900, train cost 1.9217, valid cost 2.3839\n",
      " iteration 3950, train cost 1.9181, valid cost 2.3796\n"
     ]
    },
    {
     "data": {
      "text/html": [
       "<br/>Waiting for W&B process to finish, PID 203378<br/>Program ended successfully."
      ],
      "text/plain": [
       "<IPython.core.display.HTML object>"
      ]
     },
     "metadata": {},
     "output_type": "display_data"
    },
    {
     "name": "stderr",
     "output_type": "stream",
     "text": [
      "Widget Javascript not detected.  It may not be installed or enabled properly.\n"
     ]
    },
    {
     "data": {
      "application/vnd.jupyter.widget-view+json": {
       "model_id": "39390fb4f1c9404584ee2c89d56e5901"
      }
     },
     "metadata": {},
     "output_type": "display_data"
    },
    {
     "data": {
      "text/html": [
       "Find user logs for this run at: <code>/home/sazeglio/NMAs/src/wandb/run-20210815_160910-ii2ons03/logs/debug.log</code>"
      ],
      "text/plain": [
       "<IPython.core.display.HTML object>"
      ]
     },
     "metadata": {},
     "output_type": "display_data"
    },
    {
     "data": {
      "text/html": [
       "Find internal logs for this run at: <code>/home/sazeglio/NMAs/src/wandb/run-20210815_160910-ii2ons03/logs/debug-internal.log</code>"
      ],
      "text/plain": [
       "<IPython.core.display.HTML object>"
      ]
     },
     "metadata": {},
     "output_type": "display_data"
    },
    {
     "data": {
      "text/html": [
       "<h3>Run summary:</h3><br/><style>\n",
       "    table.wandb td:nth-child(1) { padding: 0 10px; text-align: right }\n",
       "    </style><table class=\"wandb\">\n",
       "<tr><td>train_loss</td><td>1.91263</td></tr><tr><td>valid_loss</td><td>2.37989</td></tr><tr><td>epoch</td><td>3999</td></tr><tr><td>_runtime</td><td>1232</td></tr><tr><td>_timestamp</td><td>1629037782</td></tr><tr><td>_step</td><td>3999</td></tr></table>"
      ],
      "text/plain": [
       "<IPython.core.display.HTML object>"
      ]
     },
     "metadata": {},
     "output_type": "display_data"
    },
    {
     "data": {
      "text/html": [
       "<h3>Run history:</h3><br/><style>\n",
       "    table.wandb td:nth-child(1) { padding: 0 10px; text-align: right }\n",
       "    </style><table class=\"wandb\">\n",
       "<tr><td>train_loss</td><td>██▇▆▆▅▅▅▄▄▄▃▃▃▃▃▃▂▂▂▂▂▂▂▂▂▂▂▁▁▁▁▁▁▁▁▁▁▁▁</td></tr><tr><td>valid_loss</td><td>██▆▅▅▅▄▄▄▃▃▃▃▃▂▂▂▂▂▂▂▂▂▂▂▁▁▁▁▁▁▁▁▁▁▁▁▁▁▁</td></tr><tr><td>epoch</td><td>▁▁▁▂▂▂▂▂▂▃▃▃▃▃▄▄▄▄▄▄▅▅▅▅▅▅▆▆▆▆▆▇▇▇▇▇▇███</td></tr><tr><td>_runtime</td><td>▁▁▁▂▂▂▂▂▂▃▃▃▃▃▃▄▄▄▄▄▅▅▅▅▅▅▆▆▆▆▆▇▇▇▇▇▇███</td></tr><tr><td>_timestamp</td><td>▁▁▁▂▂▂▂▂▂▃▃▃▃▃▃▄▄▄▄▄▅▅▅▅▅▅▆▆▆▆▆▇▇▇▇▇▇███</td></tr><tr><td>_step</td><td>▁▁▁▂▂▂▂▂▂▃▃▃▃▃▄▄▄▄▄▄▅▅▅▅▅▅▆▆▆▆▆▇▇▇▇▇▇███</td></tr></table><br/>"
      ],
      "text/plain": [
       "<IPython.core.display.HTML object>"
      ]
     },
     "metadata": {},
     "output_type": "display_data"
    },
    {
     "data": {
      "text/html": [
       "Synced 5 W&B file(s), 0 media file(s), 0 artifact file(s) and 0 other file(s)"
      ],
      "text/plain": [
       "<IPython.core.display.HTML object>"
      ]
     },
     "metadata": {},
     "output_type": "display_data"
    },
    {
     "data": {
      "text/html": [
       "\n",
       "                    <br/>Synced <strong style=\"color:#cdcd00\">misunderstood-sweep-43</strong>: <a href=\"https://wandb.ai/sazio/NMAs-Full-Signals/runs/ii2ons03\" target=\"_blank\">https://wandb.ai/sazio/NMAs-Full-Signals/runs/ii2ons03</a><br/>\n",
       "                "
      ],
      "text/plain": [
       "<IPython.core.display.HTML object>"
      ]
     },
     "metadata": {},
     "output_type": "display_data"
    },
    {
     "name": "stderr",
     "output_type": "stream",
     "text": [
      "wandb: Agent Starting Run: 3hj3qjfh with config:\n",
      "wandb: \tdropout: 0.5\n",
      "wandb: \tepochs: 4000\n",
      "wandb: \tlearning_rate: 0.000789231310100775\n",
      "wandb: \tn_comp: 200\n",
      "wandb: \tnum_layers: 1\n",
      "wandb: \toptimizer: adam\n",
      "wandb: \tweight_decay: 1e-05\n",
      "Failed to detect the name of this notebook, you can set it manually with the WANDB_NOTEBOOK_NAME environment variable to enable code saving.\n"
     ]
    },
    {
     "data": {
      "text/html": [
       "\n",
       "                Tracking run with wandb version 0.12.0<br/>\n",
       "                Syncing run <strong style=\"color:#cdcd00\">charmed-sweep-44</strong> to <a href=\"https://wandb.ai\" target=\"_blank\">Weights & Biases</a> <a href=\"https://docs.wandb.com/integrations/jupyter.html\" target=\"_blank\">(Documentation)</a>.<br/>\n",
       "                Project page: <a href=\"https://wandb.ai/sazio/NMAs-Full-Signals\" target=\"_blank\">https://wandb.ai/sazio/NMAs-Full-Signals</a><br/>\n",
       "                Sweep page: <a href=\"https://wandb.ai/sazio/NMAs-Full-Signals/sweeps/cbewt4f6\" target=\"_blank\">https://wandb.ai/sazio/NMAs-Full-Signals/sweeps/cbewt4f6</a><br/>\n",
       "Run page: <a href=\"https://wandb.ai/sazio/NMAs-Full-Signals/runs/3hj3qjfh\" target=\"_blank\">https://wandb.ai/sazio/NMAs-Full-Signals/runs/3hj3qjfh</a><br/>\n",
       "                Run data is saved locally in <code>/home/sazeglio/NMAs/src/wandb/run-20210815_162946-3hj3qjfh</code><br/><br/>\n",
       "            "
      ],
      "text/plain": [
       "<IPython.core.display.HTML object>"
      ]
     },
     "metadata": {},
     "output_type": "display_data"
    },
    {
     "name": "stdout",
     "output_type": "stream",
     "text": [
      " iteration 0, train cost 4.9328, valid cost 5.0278\n",
      " iteration 50, train cost 3.2935, valid cost 3.3721\n",
      " iteration 100, train cost 3.2745, valid cost 3.3569\n",
      " iteration 150, train cost 3.2449, valid cost 3.3266\n",
      " iteration 200, train cost 3.1084, valid cost 3.1854\n",
      " iteration 250, train cost 3.0553, valid cost 3.1229\n",
      " iteration 300, train cost 2.9842, valid cost 3.0502\n",
      " iteration 350, train cost 2.8895, valid cost 2.9647\n",
      " iteration 400, train cost 2.8036, valid cost 2.8846\n",
      " iteration 450, train cost 2.7159, valid cost 2.8062\n",
      " iteration 500, train cost 2.6472, valid cost 2.7495\n",
      " iteration 550, train cost 2.5932, valid cost 2.7013\n",
      " iteration 600, train cost 2.5444, valid cost 2.6524\n",
      " iteration 650, train cost 2.4972, valid cost 2.6083\n",
      " iteration 700, train cost 2.4540, valid cost 2.5678\n",
      " iteration 750, train cost 2.4199, valid cost 2.5351\n",
      " iteration 800, train cost 2.3877, valid cost 2.5083\n",
      " iteration 850, train cost 2.3577, valid cost 2.4815\n",
      " iteration 900, train cost 2.3303, valid cost 2.4570\n",
      " iteration 950, train cost 2.3020, valid cost 2.4312\n",
      " iteration 1000, train cost 2.2766, valid cost 2.4144\n",
      " iteration 1050, train cost 2.2532, valid cost 2.3862\n",
      " iteration 1100, train cost 2.2301, valid cost 2.3661\n",
      " iteration 1150, train cost 2.2088, valid cost 2.3470\n",
      " iteration 1200, train cost 2.1890, valid cost 2.3314\n",
      " iteration 1250, train cost 2.1733, valid cost 2.3154\n",
      " iteration 1300, train cost 2.1568, valid cost 2.3020\n",
      " iteration 1350, train cost 2.1459, valid cost 2.2913\n",
      " iteration 1400, train cost 2.1268, valid cost 2.2745\n",
      " iteration 1450, train cost 2.1136, valid cost 2.2620\n",
      " iteration 1500, train cost 2.1027, valid cost 2.2511\n",
      " iteration 1550, train cost 2.0871, valid cost 2.2394\n",
      " iteration 1600, train cost 2.0774, valid cost 2.2302\n",
      " iteration 1650, train cost 2.0673, valid cost 2.2206\n",
      " iteration 1700, train cost 2.0561, valid cost 2.2132\n",
      " iteration 1750, train cost 2.0485, valid cost 2.2063\n",
      " iteration 1800, train cost 2.0362, valid cost 2.1969\n",
      " iteration 1850, train cost 2.0313, valid cost 2.1930\n",
      " iteration 1900, train cost 2.0204, valid cost 2.1828\n",
      " iteration 1950, train cost 2.0111, valid cost 2.1790\n",
      " iteration 2000, train cost 2.0093, valid cost 2.1731\n",
      " iteration 2050, train cost 2.0238, valid cost 2.1736\n",
      " iteration 2100, train cost 1.9879, valid cost 2.1552\n",
      " iteration 2150, train cost 1.9802, valid cost 2.1500\n",
      " iteration 2200, train cost 1.9742, valid cost 2.1446\n",
      " iteration 2250, train cost 1.9670, valid cost 2.1381\n",
      " iteration 2300, train cost 1.9615, valid cost 2.1342\n",
      " iteration 2350, train cost 1.9519, valid cost 2.1244\n",
      " iteration 2400, train cost 1.9434, valid cost 2.1183\n",
      " iteration 2450, train cost 1.9360, valid cost 2.1125\n",
      " iteration 2500, train cost 1.9729, valid cost 2.1467\n",
      " iteration 2550, train cost 1.9279, valid cost 2.0981\n",
      " iteration 2600, train cost 1.9188, valid cost 2.0946\n",
      " iteration 2650, train cost 1.9128, valid cost 2.0890\n",
      " iteration 2700, train cost 1.9082, valid cost 2.0863\n",
      " iteration 2750, train cost 1.9009, valid cost 2.0810\n",
      " iteration 2800, train cost 1.8943, valid cost 2.0759\n",
      " iteration 2850, train cost 1.9214, valid cost 2.1025\n",
      " iteration 2900, train cost 1.8851, valid cost 2.0672\n",
      " iteration 2950, train cost 1.8873, valid cost 2.0694\n",
      " iteration 3000, train cost 1.8770, valid cost 2.0601\n",
      " iteration 3050, train cost 1.8727, valid cost 2.0597\n",
      " iteration 3100, train cost 1.8670, valid cost 2.0546\n",
      " iteration 3150, train cost 1.8630, valid cost 2.0520\n",
      " iteration 3200, train cost 1.8651, valid cost 2.0551\n",
      " iteration 3250, train cost 1.8548, valid cost 2.0473\n",
      " iteration 3300, train cost 1.8724, valid cost 2.0632\n",
      " iteration 3350, train cost 1.8496, valid cost 2.0435\n",
      " iteration 3400, train cost 1.8441, valid cost 2.0398\n",
      " iteration 3450, train cost 1.8409, valid cost 2.0375\n",
      " iteration 3500, train cost 1.8374, valid cost 2.0371\n",
      " iteration 3550, train cost 1.8319, valid cost 2.0339\n",
      " iteration 3600, train cost 1.8301, valid cost 2.0311\n",
      " iteration 3650, train cost 1.8288, valid cost 2.0286\n",
      " iteration 3700, train cost 1.8226, valid cost 2.0274\n",
      " iteration 3750, train cost 1.8174, valid cost 2.0263\n",
      " iteration 3800, train cost 1.8134, valid cost 2.0209\n",
      " iteration 3850, train cost 1.8115, valid cost 2.0185\n",
      " iteration 3900, train cost 1.8070, valid cost 2.0153\n",
      " iteration 3950, train cost 1.8090, valid cost 2.0148\n"
     ]
    },
    {
     "data": {
      "text/html": [
       "<br/>Waiting for W&B process to finish, PID 203665<br/>Program ended successfully."
      ],
      "text/plain": [
       "<IPython.core.display.HTML object>"
      ]
     },
     "metadata": {},
     "output_type": "display_data"
    },
    {
     "name": "stderr",
     "output_type": "stream",
     "text": [
      "Widget Javascript not detected.  It may not be installed or enabled properly.\n"
     ]
    },
    {
     "data": {
      "application/vnd.jupyter.widget-view+json": {
       "model_id": "b85595f6fc964c7e874d145328088090"
      }
     },
     "metadata": {},
     "output_type": "display_data"
    },
    {
     "data": {
      "text/html": [
       "Find user logs for this run at: <code>/home/sazeglio/NMAs/src/wandb/run-20210815_162946-3hj3qjfh/logs/debug.log</code>"
      ],
      "text/plain": [
       "<IPython.core.display.HTML object>"
      ]
     },
     "metadata": {},
     "output_type": "display_data"
    },
    {
     "data": {
      "text/html": [
       "Find internal logs for this run at: <code>/home/sazeglio/NMAs/src/wandb/run-20210815_162946-3hj3qjfh/logs/debug-internal.log</code>"
      ],
      "text/plain": [
       "<IPython.core.display.HTML object>"
      ]
     },
     "metadata": {},
     "output_type": "display_data"
    },
    {
     "data": {
      "text/html": [
       "<h3>Run summary:</h3><br/><style>\n",
       "    table.wandb td:nth-child(1) { padding: 0 10px; text-align: right }\n",
       "    </style><table class=\"wandb\">\n",
       "<tr><td>train_loss</td><td>1.80341</td></tr><tr><td>valid_loss</td><td>2.01109</td></tr><tr><td>epoch</td><td>3999</td></tr><tr><td>_runtime</td><td>1240</td></tr><tr><td>_timestamp</td><td>1629039026</td></tr><tr><td>_step</td><td>3999</td></tr></table>"
      ],
      "text/plain": [
       "<IPython.core.display.HTML object>"
      ]
     },
     "metadata": {},
     "output_type": "display_data"
    },
    {
     "data": {
      "text/html": [
       "<h3>Run history:</h3><br/><style>\n",
       "    table.wandb td:nth-child(1) { padding: 0 10px; text-align: right }\n",
       "    </style><table class=\"wandb\">\n",
       "<tr><td>train_loss</td><td>██▇▆▅▅▄▄▄▃▃▃▃▃▂▂▂▂▂▂▂▂▂▂▂▂▁▁▁▁▁▁▁▁▁▁▁▁▁▁</td></tr><tr><td>valid_loss</td><td>██▇▆▅▅▄▄▃▃▃▃▂▂▂▂▂▂▂▂▂▂▂▂▁▁▁▁▁▁▁▁▁▁▁▁▁▁▁▁</td></tr><tr><td>epoch</td><td>▁▁▁▂▂▂▂▂▂▃▃▃▃▃▄▄▄▄▄▄▅▅▅▅▅▅▆▆▆▆▆▇▇▇▇▇▇███</td></tr><tr><td>_runtime</td><td>▁▁▁▂▂▂▂▂▂▃▃▃▃▃▄▄▄▄▄▄▅▅▅▅▅▅▆▆▆▆▆▇▇▇▇▇▇███</td></tr><tr><td>_timestamp</td><td>▁▁▁▂▂▂▂▂▂▃▃▃▃▃▄▄▄▄▄▄▅▅▅▅▅▅▆▆▆▆▆▇▇▇▇▇▇███</td></tr><tr><td>_step</td><td>▁▁▁▂▂▂▂▂▂▃▃▃▃▃▄▄▄▄▄▄▅▅▅▅▅▅▆▆▆▆▆▇▇▇▇▇▇███</td></tr></table><br/>"
      ],
      "text/plain": [
       "<IPython.core.display.HTML object>"
      ]
     },
     "metadata": {},
     "output_type": "display_data"
    },
    {
     "data": {
      "text/html": [
       "Synced 5 W&B file(s), 0 media file(s), 0 artifact file(s) and 0 other file(s)"
      ],
      "text/plain": [
       "<IPython.core.display.HTML object>"
      ]
     },
     "metadata": {},
     "output_type": "display_data"
    },
    {
     "data": {
      "text/html": [
       "\n",
       "                    <br/>Synced <strong style=\"color:#cdcd00\">charmed-sweep-44</strong>: <a href=\"https://wandb.ai/sazio/NMAs-Full-Signals/runs/3hj3qjfh\" target=\"_blank\">https://wandb.ai/sazio/NMAs-Full-Signals/runs/3hj3qjfh</a><br/>\n",
       "                "
      ],
      "text/plain": [
       "<IPython.core.display.HTML object>"
      ]
     },
     "metadata": {},
     "output_type": "display_data"
    },
    {
     "name": "stderr",
     "output_type": "stream",
     "text": [
      "wandb: Agent Starting Run: 6zm39f09 with config:\n",
      "wandb: \tdropout: 0.3\n",
      "wandb: \tepochs: 4000\n",
      "wandb: \tlearning_rate: 0.00033233836813479956\n",
      "wandb: \tn_comp: 500\n",
      "wandb: \tnum_layers: 1\n",
      "wandb: \toptimizer: adam\n",
      "wandb: \tweight_decay: 0\n",
      "Failed to detect the name of this notebook, you can set it manually with the WANDB_NOTEBOOK_NAME environment variable to enable code saving.\n"
     ]
    },
    {
     "data": {
      "text/html": [
       "\n",
       "                Tracking run with wandb version 0.12.0<br/>\n",
       "                Syncing run <strong style=\"color:#cdcd00\">summer-sweep-45</strong> to <a href=\"https://wandb.ai\" target=\"_blank\">Weights & Biases</a> <a href=\"https://docs.wandb.com/integrations/jupyter.html\" target=\"_blank\">(Documentation)</a>.<br/>\n",
       "                Project page: <a href=\"https://wandb.ai/sazio/NMAs-Full-Signals\" target=\"_blank\">https://wandb.ai/sazio/NMAs-Full-Signals</a><br/>\n",
       "                Sweep page: <a href=\"https://wandb.ai/sazio/NMAs-Full-Signals/sweeps/cbewt4f6\" target=\"_blank\">https://wandb.ai/sazio/NMAs-Full-Signals/sweeps/cbewt4f6</a><br/>\n",
       "Run page: <a href=\"https://wandb.ai/sazio/NMAs-Full-Signals/runs/6zm39f09\" target=\"_blank\">https://wandb.ai/sazio/NMAs-Full-Signals/runs/6zm39f09</a><br/>\n",
       "                Run data is saved locally in <code>/home/sazeglio/NMAs/src/wandb/run-20210815_165030-6zm39f09</code><br/><br/>\n",
       "            "
      ],
      "text/plain": [
       "<IPython.core.display.HTML object>"
      ]
     },
     "metadata": {},
     "output_type": "display_data"
    },
    {
     "name": "stdout",
     "output_type": "stream",
     "text": [
      " iteration 0, train cost 4.9328, valid cost 5.0317\n",
      " iteration 50, train cost 3.3919, valid cost 3.4611\n",
      " iteration 100, train cost 3.2864, valid cost 3.3635\n",
      " iteration 150, train cost 3.2789, valid cost 3.3589\n",
      " iteration 200, train cost 3.2735, valid cost 3.3552\n",
      " iteration 250, train cost 3.2599, valid cost 3.3424\n",
      " iteration 300, train cost 3.2095, valid cost 3.2899\n",
      " iteration 350, train cost 3.1547, valid cost 3.2314\n",
      " iteration 400, train cost 3.0865, valid cost 3.1570\n",
      " iteration 450, train cost 3.0221, valid cost 3.0860\n",
      " iteration 500, train cost 2.9641, valid cost 3.0292\n",
      " iteration 550, train cost 2.9287, valid cost 2.9985\n",
      " iteration 600, train cost 2.8985, valid cost 2.9708\n",
      " iteration 650, train cost 2.8624, valid cost 2.9372\n",
      " iteration 700, train cost 2.8263, valid cost 2.9030\n",
      " iteration 750, train cost 2.7905, valid cost 2.8688\n",
      " iteration 800, train cost 2.7549, valid cost 2.8365\n",
      " iteration 850, train cost 2.7173, valid cost 2.7997\n",
      " iteration 900, train cost 2.6793, valid cost 2.7657\n",
      " iteration 950, train cost 2.6441, valid cost 2.7363\n",
      " iteration 1000, train cost 2.6108, valid cost 2.7070\n",
      " iteration 1050, train cost 2.5785, valid cost 2.6790\n",
      " iteration 1100, train cost 2.5499, valid cost 2.6522\n",
      " iteration 1150, train cost 2.5226, valid cost 2.6259\n",
      " iteration 1200, train cost 2.4980, valid cost 2.6036\n",
      " iteration 1250, train cost 2.4777, valid cost 2.5851\n",
      " iteration 1300, train cost 2.4562, valid cost 2.5681\n",
      " iteration 1350, train cost 2.4362, valid cost 2.5502\n",
      " iteration 1400, train cost 2.4166, valid cost 2.5321\n",
      " iteration 1450, train cost 2.3966, valid cost 2.5156\n",
      " iteration 1500, train cost 2.3791, valid cost 2.5003\n",
      " iteration 1550, train cost 2.3635, valid cost 2.4861\n",
      " iteration 1600, train cost 2.3468, valid cost 2.4721\n",
      " iteration 1650, train cost 2.3310, valid cost 2.4577\n",
      " iteration 1700, train cost 2.3170, valid cost 2.4445\n",
      " iteration 1750, train cost 2.3039, valid cost 2.4327\n",
      " iteration 1800, train cost 2.2927, valid cost 2.4234\n",
      " iteration 1850, train cost 2.2826, valid cost 2.4138\n",
      " iteration 1900, train cost 2.2705, valid cost 2.4048\n",
      " iteration 1950, train cost 2.2615, valid cost 2.3960\n",
      " iteration 2000, train cost 2.2510, valid cost 2.3871\n",
      " iteration 2050, train cost 2.2407, valid cost 2.3777\n",
      " iteration 2100, train cost 2.2309, valid cost 2.3694\n",
      " iteration 2150, train cost 2.2215, valid cost 2.3616\n",
      " iteration 2200, train cost 2.2108, valid cost 2.3519\n",
      " iteration 2250, train cost 2.1994, valid cost 2.3430\n",
      " iteration 2300, train cost 2.1896, valid cost 2.3341\n",
      " iteration 2350, train cost 2.1793, valid cost 2.3258\n",
      " iteration 2400, train cost 2.1702, valid cost 2.3179\n",
      " iteration 2450, train cost 2.1622, valid cost 2.3107\n",
      " iteration 2500, train cost 2.1540, valid cost 2.3033\n",
      " iteration 2550, train cost 2.1440, valid cost 2.2966\n",
      " iteration 2600, train cost 2.1358, valid cost 2.2888\n",
      " iteration 2650, train cost 2.1283, valid cost 2.2817\n",
      " iteration 2700, train cost 2.1207, valid cost 2.2746\n",
      " iteration 2750, train cost 2.1101, valid cost 2.2679\n",
      " iteration 2800, train cost 2.1027, valid cost 2.2605\n",
      " iteration 2850, train cost 2.0937, valid cost 2.2539\n",
      " iteration 2900, train cost 2.0871, valid cost 2.2471\n",
      " iteration 2950, train cost 2.0796, valid cost 2.2407\n",
      " iteration 3000, train cost 2.0718, valid cost 2.2349\n",
      " iteration 3050, train cost 2.0636, valid cost 2.2294\n",
      " iteration 3100, train cost 2.0565, valid cost 2.2236\n",
      " iteration 3150, train cost 2.0510, valid cost 2.2192\n",
      " iteration 3200, train cost 2.0441, valid cost 2.2137\n",
      " iteration 3250, train cost 2.0381, valid cost 2.2090\n",
      " iteration 3300, train cost 2.0317, valid cost 2.2046\n",
      " iteration 3350, train cost 2.0270, valid cost 2.2008\n",
      " iteration 3400, train cost 2.0220, valid cost 2.1959\n",
      " iteration 3450, train cost 2.0174, valid cost 2.1916\n",
      " iteration 3500, train cost 2.0102, valid cost 2.1869\n",
      " iteration 3550, train cost 2.0043, valid cost 2.1830\n",
      " iteration 3600, train cost 1.9978, valid cost 2.1782\n",
      " iteration 3650, train cost 1.9940, valid cost 2.1738\n",
      " iteration 3700, train cost 1.9878, valid cost 2.1696\n",
      " iteration 3750, train cost 1.9817, valid cost 2.1647\n",
      " iteration 3800, train cost 1.9764, valid cost 2.1618\n",
      " iteration 3850, train cost 1.9723, valid cost 2.1576\n",
      " iteration 3900, train cost 1.9656, valid cost 2.1536\n",
      " iteration 3950, train cost 1.9627, valid cost 2.1502\n"
     ]
    },
    {
     "data": {
      "text/html": [
       "<br/>Waiting for W&B process to finish, PID 203963<br/>Program ended successfully."
      ],
      "text/plain": [
       "<IPython.core.display.HTML object>"
      ]
     },
     "metadata": {},
     "output_type": "display_data"
    },
    {
     "name": "stderr",
     "output_type": "stream",
     "text": [
      "Widget Javascript not detected.  It may not be installed or enabled properly.\n"
     ]
    },
    {
     "data": {
      "application/vnd.jupyter.widget-view+json": {
       "model_id": "1944ec636ba24bd9b678a763304c5c02"
      }
     },
     "metadata": {},
     "output_type": "display_data"
    },
    {
     "data": {
      "text/html": [
       "Find user logs for this run at: <code>/home/sazeglio/NMAs/src/wandb/run-20210815_165030-6zm39f09/logs/debug.log</code>"
      ],
      "text/plain": [
       "<IPython.core.display.HTML object>"
      ]
     },
     "metadata": {},
     "output_type": "display_data"
    },
    {
     "data": {
      "text/html": [
       "Find internal logs for this run at: <code>/home/sazeglio/NMAs/src/wandb/run-20210815_165030-6zm39f09/logs/debug-internal.log</code>"
      ],
      "text/plain": [
       "<IPython.core.display.HTML object>"
      ]
     },
     "metadata": {},
     "output_type": "display_data"
    },
    {
     "data": {
      "text/html": [
       "<h3>Run summary:</h3><br/><style>\n",
       "    table.wandb td:nth-child(1) { padding: 0 10px; text-align: right }\n",
       "    </style><table class=\"wandb\">\n",
       "<tr><td>train_loss</td><td>1.956</td></tr><tr><td>valid_loss</td><td>2.14694</td></tr><tr><td>epoch</td><td>3999</td></tr><tr><td>_runtime</td><td>1239</td></tr><tr><td>_timestamp</td><td>1629040269</td></tr><tr><td>_step</td><td>3999</td></tr></table>"
      ],
      "text/plain": [
       "<IPython.core.display.HTML object>"
      ]
     },
     "metadata": {},
     "output_type": "display_data"
    },
    {
     "data": {
      "text/html": [
       "<h3>Run history:</h3><br/><style>\n",
       "    table.wandb td:nth-child(1) { padding: 0 10px; text-align: right }\n",
       "    </style><table class=\"wandb\">\n",
       "<tr><td>train_loss</td><td>█▆▆▆▅▅▄▄▄▄▃▃▃▃▃▃▂▂▂▂▂▂▂▂▂▂▂▂▁▁▁▁▁▁▁▁▁▁▁▁</td></tr><tr><td>valid_loss</td><td>█▆▆▅▅▅▄▄▄▃▃▃▃▃▂▂▂▂▂▂▂▂▂▂▂▂▂▁▁▁▁▁▁▁▁▁▁▁▁▁</td></tr><tr><td>epoch</td><td>▁▁▁▂▂▂▂▂▂▃▃▃▃▃▄▄▄▄▄▄▅▅▅▅▅▅▆▆▆▆▆▇▇▇▇▇▇███</td></tr><tr><td>_runtime</td><td>▁▁▁▂▂▂▂▂▂▃▃▃▃▃▄▄▄▄▄▄▅▅▅▅▅▅▆▆▆▆▆▇▇▇▇▇▇███</td></tr><tr><td>_timestamp</td><td>▁▁▁▂▂▂▂▂▂▃▃▃▃▃▄▄▄▄▄▄▅▅▅▅▅▅▆▆▆▆▆▇▇▇▇▇▇███</td></tr><tr><td>_step</td><td>▁▁▁▂▂▂▂▂▂▃▃▃▃▃▄▄▄▄▄▄▅▅▅▅▅▅▆▆▆▆▆▇▇▇▇▇▇███</td></tr></table><br/>"
      ],
      "text/plain": [
       "<IPython.core.display.HTML object>"
      ]
     },
     "metadata": {},
     "output_type": "display_data"
    },
    {
     "data": {
      "text/html": [
       "Synced 5 W&B file(s), 0 media file(s), 0 artifact file(s) and 0 other file(s)"
      ],
      "text/plain": [
       "<IPython.core.display.HTML object>"
      ]
     },
     "metadata": {},
     "output_type": "display_data"
    },
    {
     "data": {
      "text/html": [
       "\n",
       "                    <br/>Synced <strong style=\"color:#cdcd00\">summer-sweep-45</strong>: <a href=\"https://wandb.ai/sazio/NMAs-Full-Signals/runs/6zm39f09\" target=\"_blank\">https://wandb.ai/sazio/NMAs-Full-Signals/runs/6zm39f09</a><br/>\n",
       "                "
      ],
      "text/plain": [
       "<IPython.core.display.HTML object>"
      ]
     },
     "metadata": {},
     "output_type": "display_data"
    },
    {
     "name": "stderr",
     "output_type": "stream",
     "text": [
      "wandb: Agent Starting Run: numjtzqm with config:\n",
      "wandb: \tdropout: 0.2\n",
      "wandb: \tepochs: 4000\n",
      "wandb: \tlearning_rate: 0.0022319188023122586\n",
      "wandb: \tn_comp: 100\n",
      "wandb: \tnum_layers: 1\n",
      "wandb: \toptimizer: adam\n",
      "wandb: \tweight_decay: 5e-05\n",
      "Failed to detect the name of this notebook, you can set it manually with the WANDB_NOTEBOOK_NAME environment variable to enable code saving.\n"
     ]
    },
    {
     "data": {
      "text/html": [
       "\n",
       "                Tracking run with wandb version 0.12.0<br/>\n",
       "                Syncing run <strong style=\"color:#cdcd00\">clean-sweep-46</strong> to <a href=\"https://wandb.ai\" target=\"_blank\">Weights & Biases</a> <a href=\"https://docs.wandb.com/integrations/jupyter.html\" target=\"_blank\">(Documentation)</a>.<br/>\n",
       "                Project page: <a href=\"https://wandb.ai/sazio/NMAs-Full-Signals\" target=\"_blank\">https://wandb.ai/sazio/NMAs-Full-Signals</a><br/>\n",
       "                Sweep page: <a href=\"https://wandb.ai/sazio/NMAs-Full-Signals/sweeps/cbewt4f6\" target=\"_blank\">https://wandb.ai/sazio/NMAs-Full-Signals/sweeps/cbewt4f6</a><br/>\n",
       "Run page: <a href=\"https://wandb.ai/sazio/NMAs-Full-Signals/runs/numjtzqm\" target=\"_blank\">https://wandb.ai/sazio/NMAs-Full-Signals/runs/numjtzqm</a><br/>\n",
       "                Run data is saved locally in <code>/home/sazeglio/NMAs/src/wandb/run-20210815_171113-numjtzqm</code><br/><br/>\n",
       "            "
      ],
      "text/plain": [
       "<IPython.core.display.HTML object>"
      ]
     },
     "metadata": {},
     "output_type": "display_data"
    },
    {
     "name": "stdout",
     "output_type": "stream",
     "text": [
      " iteration 0, train cost 4.9334, valid cost 5.0112\n",
      " iteration 50, train cost 3.2746, valid cost 3.3581\n",
      " iteration 100, train cost 3.2308, valid cost 3.3083\n",
      " iteration 150, train cost 3.0330, valid cost 3.0847\n",
      " iteration 200, train cost 2.9404, valid cost 2.9961\n",
      " iteration 250, train cost 2.8474, valid cost 2.9215\n",
      " iteration 300, train cost 2.7619, valid cost 2.8337\n",
      " iteration 350, train cost 2.6761, valid cost 2.7494\n",
      " iteration 400, train cost 2.5775, valid cost 2.6781\n",
      " iteration 450, train cost 2.5239, valid cost 2.6207\n",
      " iteration 500, train cost 2.4621, valid cost 2.5741\n",
      " iteration 550, train cost 2.4141, valid cost 2.5371\n",
      " iteration 600, train cost 2.4011, valid cost 2.5169\n",
      " iteration 650, train cost 2.3383, valid cost 2.4699\n",
      " iteration 700, train cost 2.2934, valid cost 2.4320\n",
      " iteration 750, train cost 2.2834, valid cost 2.4187\n",
      " iteration 800, train cost 2.2429, valid cost 2.3883\n",
      " iteration 850, train cost 2.2283, valid cost 2.3811\n",
      " iteration 900, train cost 2.1898, valid cost 2.3459\n",
      " iteration 950, train cost 2.1653, valid cost 2.3279\n",
      " iteration 1000, train cost 2.1492, valid cost 2.3086\n",
      " iteration 1050, train cost 2.1324, valid cost 2.2958\n",
      " iteration 1100, train cost 2.1244, valid cost 2.2888\n",
      " iteration 1150, train cost 2.1087, valid cost 2.2695\n",
      " iteration 1200, train cost 2.0924, valid cost 2.2582\n",
      " iteration 1250, train cost 2.0829, valid cost 2.2487\n",
      " iteration 1300, train cost 2.0699, valid cost 2.2389\n",
      " iteration 1350, train cost 2.0707, valid cost 2.2354\n",
      " iteration 1400, train cost 2.0473, valid cost 2.2171\n",
      " iteration 1450, train cost 2.0356, valid cost 2.2081\n",
      " iteration 1500, train cost 2.0306, valid cost 2.2016\n",
      " iteration 1550, train cost 2.0224, valid cost 2.1904\n",
      " iteration 1600, train cost 2.0065, valid cost 2.1793\n",
      " iteration 1650, train cost 1.9981, valid cost 2.1699\n",
      " iteration 1700, train cost 1.9914, valid cost 2.1654\n",
      " iteration 1750, train cost 1.9872, valid cost 2.1588\n",
      " iteration 1800, train cost 1.9949, valid cost 2.1645\n",
      " iteration 1850, train cost 1.9750, valid cost 2.1471\n",
      " iteration 1900, train cost 1.9703, valid cost 2.1418\n",
      " iteration 1950, train cost 1.9788, valid cost 2.1601\n",
      " iteration 2000, train cost 1.9590, valid cost 2.1292\n",
      " iteration 2050, train cost 1.9491, valid cost 2.1233\n",
      " iteration 2100, train cost 1.9466, valid cost 2.1226\n",
      " iteration 2150, train cost 1.9409, valid cost 2.1141\n",
      " iteration 2200, train cost 1.9419, valid cost 2.1106\n",
      " iteration 2250, train cost 1.9345, valid cost 2.1059\n",
      " iteration 2300, train cost 1.9283, valid cost 2.1039\n",
      " iteration 2350, train cost 1.9296, valid cost 2.1027\n",
      " iteration 2400, train cost 1.9242, valid cost 2.0939\n",
      " iteration 2450, train cost 1.9177, valid cost 2.0919\n",
      " iteration 2500, train cost 1.9210, valid cost 2.0898\n",
      " iteration 2550, train cost 1.9121, valid cost 2.0831\n",
      " iteration 2600, train cost 1.9185, valid cost 2.0904\n",
      " iteration 2650, train cost 1.9075, valid cost 2.0795\n",
      " iteration 2700, train cost 1.9060, valid cost 2.0763\n",
      " iteration 2750, train cost 1.8988, valid cost 2.0727\n",
      " iteration 2800, train cost 1.9020, valid cost 2.0752\n",
      " iteration 2850, train cost 1.9000, valid cost 2.0680\n",
      " iteration 2900, train cost 1.9191, valid cost 2.0789\n",
      " iteration 2950, train cost 1.8861, valid cost 2.0559\n",
      " iteration 3000, train cost 1.8841, valid cost 2.0549\n",
      " iteration 3050, train cost 1.8928, valid cost 2.0592\n",
      " iteration 3100, train cost 1.9030, valid cost 2.0637\n",
      " iteration 3150, train cost 1.8745, valid cost 2.0462\n",
      " iteration 3200, train cost 1.8735, valid cost 2.0419\n",
      " iteration 3250, train cost 1.8714, valid cost 2.0404\n",
      " iteration 3300, train cost 1.8649, valid cost 2.0344\n",
      " iteration 3350, train cost 1.8625, valid cost 2.0334\n",
      " iteration 3400, train cost 1.8656, valid cost 2.0342\n",
      " iteration 3450, train cost 1.8626, valid cost 2.0343\n",
      " iteration 3500, train cost 1.8552, valid cost 2.0278\n",
      " iteration 3550, train cost 1.8557, valid cost 2.0299\n",
      " iteration 3600, train cost 1.8599, valid cost 2.0285\n",
      " iteration 3650, train cost 1.8534, valid cost 2.0254\n",
      " iteration 3700, train cost 1.8492, valid cost 2.0214\n",
      " iteration 3750, train cost 1.8466, valid cost 2.0190\n",
      " iteration 3800, train cost 1.8460, valid cost 2.0195\n",
      " iteration 3850, train cost 1.8480, valid cost 2.0171\n",
      " iteration 3900, train cost 1.8426, valid cost 2.0158\n",
      " iteration 3950, train cost 1.8406, valid cost 2.0144\n"
     ]
    },
    {
     "data": {
      "text/html": [
       "<br/>Waiting for W&B process to finish, PID 204227<br/>Program ended successfully."
      ],
      "text/plain": [
       "<IPython.core.display.HTML object>"
      ]
     },
     "metadata": {},
     "output_type": "display_data"
    },
    {
     "name": "stderr",
     "output_type": "stream",
     "text": [
      "Widget Javascript not detected.  It may not be installed or enabled properly.\n"
     ]
    },
    {
     "data": {
      "application/vnd.jupyter.widget-view+json": {
       "model_id": "823595d1e4214a6caa9a050ea763ac7d"
      }
     },
     "metadata": {},
     "output_type": "display_data"
    },
    {
     "data": {
      "text/html": [
       "Find user logs for this run at: <code>/home/sazeglio/NMAs/src/wandb/run-20210815_171113-numjtzqm/logs/debug.log</code>"
      ],
      "text/plain": [
       "<IPython.core.display.HTML object>"
      ]
     },
     "metadata": {},
     "output_type": "display_data"
    },
    {
     "data": {
      "text/html": [
       "Find internal logs for this run at: <code>/home/sazeglio/NMAs/src/wandb/run-20210815_171113-numjtzqm/logs/debug-internal.log</code>"
      ],
      "text/plain": [
       "<IPython.core.display.HTML object>"
      ]
     },
     "metadata": {},
     "output_type": "display_data"
    },
    {
     "data": {
      "text/html": [
       "<h3>Run summary:</h3><br/><style>\n",
       "    table.wandb td:nth-child(1) { padding: 0 10px; text-align: right }\n",
       "    </style><table class=\"wandb\">\n",
       "<tr><td>train_loss</td><td>1.84109</td></tr><tr><td>valid_loss</td><td>2.01207</td></tr><tr><td>epoch</td><td>3999</td></tr><tr><td>_runtime</td><td>1240</td></tr><tr><td>_timestamp</td><td>1629041513</td></tr><tr><td>_step</td><td>3999</td></tr></table>"
      ],
      "text/plain": [
       "<IPython.core.display.HTML object>"
      ]
     },
     "metadata": {},
     "output_type": "display_data"
    },
    {
     "data": {
      "text/html": [
       "<h3>Run history:</h3><br/><style>\n",
       "    table.wandb td:nth-child(1) { padding: 0 10px; text-align: right }\n",
       "    </style><table class=\"wandb\">\n",
       "<tr><td>train_loss</td><td>█▇▆▅▄▄▃▃▃▃▂▃▂▂▂▂▂▂▂▂▂▁▁▁▁▁▁▁▁▁▁▁▁▁▁▁▁▁▁▁</td></tr><tr><td>valid_loss</td><td>█▇▆▅▄▄▃▃▃▃▂▃▂▂▂▂▂▂▂▂▂▂▁▁▁▁▁▁▁▁▁▁▁▁▁▁▁▁▁▁</td></tr><tr><td>epoch</td><td>▁▁▁▂▂▂▂▂▂▃▃▃▃▃▄▄▄▄▄▄▅▅▅▅▅▅▆▆▆▆▆▇▇▇▇▇▇███</td></tr><tr><td>_runtime</td><td>▁▁▁▂▂▂▂▂▂▃▃▃▃▃▄▄▄▄▄▄▅▅▅▅▅▅▆▆▆▆▆▇▇▇▇▇▇███</td></tr><tr><td>_timestamp</td><td>▁▁▁▂▂▂▂▂▂▃▃▃▃▃▄▄▄▄▄▄▅▅▅▅▅▅▆▆▆▆▆▇▇▇▇▇▇███</td></tr><tr><td>_step</td><td>▁▁▁▂▂▂▂▂▂▃▃▃▃▃▄▄▄▄▄▄▅▅▅▅▅▅▆▆▆▆▆▇▇▇▇▇▇███</td></tr></table><br/>"
      ],
      "text/plain": [
       "<IPython.core.display.HTML object>"
      ]
     },
     "metadata": {},
     "output_type": "display_data"
    },
    {
     "data": {
      "text/html": [
       "Synced 5 W&B file(s), 0 media file(s), 0 artifact file(s) and 0 other file(s)"
      ],
      "text/plain": [
       "<IPython.core.display.HTML object>"
      ]
     },
     "metadata": {},
     "output_type": "display_data"
    },
    {
     "data": {
      "text/html": [
       "\n",
       "                    <br/>Synced <strong style=\"color:#cdcd00\">clean-sweep-46</strong>: <a href=\"https://wandb.ai/sazio/NMAs-Full-Signals/runs/numjtzqm\" target=\"_blank\">https://wandb.ai/sazio/NMAs-Full-Signals/runs/numjtzqm</a><br/>\n",
       "                "
      ],
      "text/plain": [
       "<IPython.core.display.HTML object>"
      ]
     },
     "metadata": {},
     "output_type": "display_data"
    },
    {
     "name": "stderr",
     "output_type": "stream",
     "text": [
      "wandb: Agent Starting Run: h62a1u19 with config:\n",
      "wandb: \tdropout: 0.3\n",
      "wandb: \tepochs: 4000\n",
      "wandb: \tlearning_rate: 0.00023753615677696023\n",
      "wandb: \tn_comp: 200\n",
      "wandb: \tnum_layers: 1\n",
      "wandb: \toptimizer: adam\n",
      "wandb: \tweight_decay: 5e-05\n",
      "Failed to detect the name of this notebook, you can set it manually with the WANDB_NOTEBOOK_NAME environment variable to enable code saving.\n"
     ]
    },
    {
     "data": {
      "text/html": [
       "\n",
       "                Tracking run with wandb version 0.12.0<br/>\n",
       "                Syncing run <strong style=\"color:#cdcd00\">good-sweep-47</strong> to <a href=\"https://wandb.ai\" target=\"_blank\">Weights & Biases</a> <a href=\"https://docs.wandb.com/integrations/jupyter.html\" target=\"_blank\">(Documentation)</a>.<br/>\n",
       "                Project page: <a href=\"https://wandb.ai/sazio/NMAs-Full-Signals\" target=\"_blank\">https://wandb.ai/sazio/NMAs-Full-Signals</a><br/>\n",
       "                Sweep page: <a href=\"https://wandb.ai/sazio/NMAs-Full-Signals/sweeps/cbewt4f6\" target=\"_blank\">https://wandb.ai/sazio/NMAs-Full-Signals/sweeps/cbewt4f6</a><br/>\n",
       "Run page: <a href=\"https://wandb.ai/sazio/NMAs-Full-Signals/runs/h62a1u19\" target=\"_blank\">https://wandb.ai/sazio/NMAs-Full-Signals/runs/h62a1u19</a><br/>\n",
       "                Run data is saved locally in <code>/home/sazeglio/NMAs/src/wandb/run-20210815_173157-h62a1u19</code><br/><br/>\n",
       "            "
      ],
      "text/plain": [
       "<IPython.core.display.HTML object>"
      ]
     },
     "metadata": {},
     "output_type": "display_data"
    },
    {
     "name": "stdout",
     "output_type": "stream",
     "text": [
      " iteration 0, train cost 4.9279, valid cost 5.0277\n",
      " iteration 50, train cost 3.6663, valid cost 3.7312\n",
      " iteration 100, train cost 3.3021, valid cost 3.3771\n",
      " iteration 150, train cost 3.2813, valid cost 3.3594\n",
      " iteration 200, train cost 3.2758, valid cost 3.3557\n",
      " iteration 250, train cost 3.2690, valid cost 3.3500\n",
      " iteration 300, train cost 3.2527, valid cost 3.3328\n",
      " iteration 350, train cost 3.2036, valid cost 3.2777\n",
      " iteration 400, train cost 3.1259, valid cost 3.1914\n",
      " iteration 450, train cost 3.0591, valid cost 3.1224\n",
      " iteration 500, train cost 2.9964, valid cost 3.0594\n",
      " iteration 550, train cost 2.9439, valid cost 3.0056\n",
      " iteration 600, train cost 2.8938, valid cost 2.9565\n",
      " iteration 650, train cost 2.8454, valid cost 2.9107\n",
      " iteration 700, train cost 2.7973, valid cost 2.8678\n",
      " iteration 750, train cost 2.7482, valid cost 2.8231\n",
      " iteration 800, train cost 2.7044, valid cost 2.7839\n",
      " iteration 850, train cost 2.6667, valid cost 2.7489\n",
      " iteration 900, train cost 2.6323, valid cost 2.7151\n",
      " iteration 950, train cost 2.6004, valid cost 2.6850\n",
      " iteration 1000, train cost 2.5718, valid cost 2.6575\n",
      " iteration 1050, train cost 2.5460, valid cost 2.6312\n",
      " iteration 1100, train cost 2.5217, valid cost 2.6065\n",
      " iteration 1150, train cost 2.4974, valid cost 2.5818\n",
      " iteration 1200, train cost 2.4760, valid cost 2.5581\n",
      " iteration 1250, train cost 2.4542, valid cost 2.5367\n",
      " iteration 1300, train cost 2.4360, valid cost 2.5182\n",
      " iteration 1350, train cost 2.4188, valid cost 2.5011\n",
      " iteration 1400, train cost 2.4034, valid cost 2.4857\n",
      " iteration 1450, train cost 2.3892, valid cost 2.4710\n",
      " iteration 1500, train cost 2.3760, valid cost 2.4587\n",
      " iteration 1550, train cost 2.3654, valid cost 2.4471\n",
      " iteration 1600, train cost 2.3534, valid cost 2.4369\n",
      " iteration 1650, train cost 2.3447, valid cost 2.4271\n",
      " iteration 1700, train cost 2.3335, valid cost 2.4179\n",
      " iteration 1750, train cost 2.3238, valid cost 2.4090\n",
      " iteration 1800, train cost 2.3146, valid cost 2.3991\n",
      " iteration 1850, train cost 2.3029, valid cost 2.3898\n",
      " iteration 1900, train cost 2.2925, valid cost 2.3800\n",
      " iteration 1950, train cost 2.2835, valid cost 2.3710\n",
      " iteration 2000, train cost 2.2737, valid cost 2.3623\n",
      " iteration 2050, train cost 2.2644, valid cost 2.3546\n",
      " iteration 2100, train cost 2.2540, valid cost 2.3467\n",
      " iteration 2150, train cost 2.2455, valid cost 2.3387\n",
      " iteration 2200, train cost 2.2359, valid cost 2.3318\n",
      " iteration 2250, train cost 2.2291, valid cost 2.3247\n",
      " iteration 2300, train cost 2.2217, valid cost 2.3177\n",
      " iteration 2350, train cost 2.2144, valid cost 2.3105\n",
      " iteration 2400, train cost 2.2056, valid cost 2.3040\n",
      " iteration 2450, train cost 2.1985, valid cost 2.2979\n",
      " iteration 2500, train cost 2.1915, valid cost 2.2910\n",
      " iteration 2550, train cost 2.1835, valid cost 2.2847\n",
      " iteration 2600, train cost 2.1763, valid cost 2.2789\n",
      " iteration 2650, train cost 2.1700, valid cost 2.2727\n",
      " iteration 2700, train cost 2.1647, valid cost 2.2669\n",
      " iteration 2750, train cost 2.1581, valid cost 2.2620\n",
      " iteration 2800, train cost 2.1534, valid cost 2.2570\n",
      " iteration 2850, train cost 2.1468, valid cost 2.2531\n",
      " iteration 2900, train cost 2.1425, valid cost 2.2485\n",
      " iteration 2950, train cost 2.1357, valid cost 2.2448\n",
      " iteration 3000, train cost 2.1323, valid cost 2.2399\n",
      " iteration 3050, train cost 2.1281, valid cost 2.2355\n",
      " iteration 3100, train cost 2.1226, valid cost 2.2324\n",
      " iteration 3150, train cost 2.1170, valid cost 2.2295\n",
      " iteration 3200, train cost 2.1152, valid cost 2.2262\n",
      " iteration 3250, train cost 2.1115, valid cost 2.2235\n",
      " iteration 3300, train cost 2.1074, valid cost 2.2214\n",
      " iteration 3350, train cost 2.1050, valid cost 2.2190\n",
      " iteration 3400, train cost 2.1021, valid cost 2.2160\n",
      " iteration 3450, train cost 2.0984, valid cost 2.2137\n",
      " iteration 3500, train cost 2.0944, valid cost 2.2099\n",
      " iteration 3550, train cost 2.0885, valid cost 2.2056\n",
      " iteration 3600, train cost 2.0845, valid cost 2.2018\n",
      " iteration 3650, train cost 2.0800, valid cost 2.1971\n",
      " iteration 3700, train cost 2.0762, valid cost 2.1932\n",
      " iteration 3750, train cost 2.0732, valid cost 2.1894\n",
      " iteration 3800, train cost 2.0685, valid cost 2.1865\n",
      " iteration 3850, train cost 2.0644, valid cost 2.1839\n",
      " iteration 3900, train cost 2.0629, valid cost 2.1818\n",
      " iteration 3950, train cost 2.0598, valid cost 2.1794\n"
     ]
    },
    {
     "data": {
      "text/html": [
       "<br/>Waiting for W&B process to finish, PID 204392<br/>Program ended successfully."
      ],
      "text/plain": [
       "<IPython.core.display.HTML object>"
      ]
     },
     "metadata": {},
     "output_type": "display_data"
    },
    {
     "name": "stderr",
     "output_type": "stream",
     "text": [
      "Widget Javascript not detected.  It may not be installed or enabled properly.\n"
     ]
    },
    {
     "data": {
      "application/vnd.jupyter.widget-view+json": {
       "model_id": "414f00c7b9f74419b5e59e608356cb64"
      }
     },
     "metadata": {},
     "output_type": "display_data"
    },
    {
     "data": {
      "text/html": [
       "Find user logs for this run at: <code>/home/sazeglio/NMAs/src/wandb/run-20210815_173157-h62a1u19/logs/debug.log</code>"
      ],
      "text/plain": [
       "<IPython.core.display.HTML object>"
      ]
     },
     "metadata": {},
     "output_type": "display_data"
    },
    {
     "data": {
      "text/html": [
       "Find internal logs for this run at: <code>/home/sazeglio/NMAs/src/wandb/run-20210815_173157-h62a1u19/logs/debug-internal.log</code>"
      ],
      "text/plain": [
       "<IPython.core.display.HTML object>"
      ]
     },
     "metadata": {},
     "output_type": "display_data"
    },
    {
     "data": {
      "text/html": [
       "<h3>Run summary:</h3><br/><style>\n",
       "    table.wandb td:nth-child(1) { padding: 0 10px; text-align: right }\n",
       "    </style><table class=\"wandb\">\n",
       "<tr><td>train_loss</td><td>2.05829</td></tr><tr><td>valid_loss</td><td>2.17798</td></tr><tr><td>epoch</td><td>3999</td></tr><tr><td>_runtime</td><td>1241</td></tr><tr><td>_timestamp</td><td>1629042758</td></tr><tr><td>_step</td><td>3999</td></tr></table>"
      ],
      "text/plain": [
       "<IPython.core.display.HTML object>"
      ]
     },
     "metadata": {},
     "output_type": "display_data"
    },
    {
     "data": {
      "text/html": [
       "<h3>Run history:</h3><br/><style>\n",
       "    table.wandb td:nth-child(1) { padding: 0 10px; text-align: right }\n",
       "    </style><table class=\"wandb\">\n",
       "<tr><td>train_loss</td><td>█▅▅▅▄▄▄▃▃▃▃▂▂▂▂▂▂▂▂▂▂▂▂▁▁▁▁▁▁▁▁▁▁▁▁▁▁▁▁▁</td></tr><tr><td>valid_loss</td><td>█▅▅▅▄▄▃▃▃▃▃▂▂▂▂▂▂▂▂▂▂▂▁▁▁▁▁▁▁▁▁▁▁▁▁▁▁▁▁▁</td></tr><tr><td>epoch</td><td>▁▁▁▂▂▂▂▂▂▃▃▃▃▃▄▄▄▄▄▄▅▅▅▅▅▅▆▆▆▆▆▇▇▇▇▇▇███</td></tr><tr><td>_runtime</td><td>▁▁▁▂▂▂▂▂▂▃▃▃▃▃▄▄▄▄▄▄▅▅▅▅▅▅▆▆▆▆▆▇▇▇▇▇▇███</td></tr><tr><td>_timestamp</td><td>▁▁▁▂▂▂▂▂▂▃▃▃▃▃▄▄▄▄▄▄▅▅▅▅▅▅▆▆▆▆▆▇▇▇▇▇▇███</td></tr><tr><td>_step</td><td>▁▁▁▂▂▂▂▂▂▃▃▃▃▃▄▄▄▄▄▄▅▅▅▅▅▅▆▆▆▆▆▇▇▇▇▇▇███</td></tr></table><br/>"
      ],
      "text/plain": [
       "<IPython.core.display.HTML object>"
      ]
     },
     "metadata": {},
     "output_type": "display_data"
    },
    {
     "data": {
      "text/html": [
       "Synced 5 W&B file(s), 0 media file(s), 0 artifact file(s) and 0 other file(s)"
      ],
      "text/plain": [
       "<IPython.core.display.HTML object>"
      ]
     },
     "metadata": {},
     "output_type": "display_data"
    },
    {
     "data": {
      "text/html": [
       "\n",
       "                    <br/>Synced <strong style=\"color:#cdcd00\">good-sweep-47</strong>: <a href=\"https://wandb.ai/sazio/NMAs-Full-Signals/runs/h62a1u19\" target=\"_blank\">https://wandb.ai/sazio/NMAs-Full-Signals/runs/h62a1u19</a><br/>\n",
       "                "
      ],
      "text/plain": [
       "<IPython.core.display.HTML object>"
      ]
     },
     "metadata": {},
     "output_type": "display_data"
    },
    {
     "name": "stderr",
     "output_type": "stream",
     "text": [
      "wandb: Agent Starting Run: p9js90yw with config:\n",
      "wandb: \tdropout: 0.1\n",
      "wandb: \tepochs: 4000\n",
      "wandb: \tlearning_rate: 9.732634696891348e-05\n",
      "wandb: \tn_comp: 500\n",
      "wandb: \tnum_layers: 1\n",
      "wandb: \toptimizer: adam\n",
      "wandb: \tweight_decay: 1e-05\n",
      "Failed to detect the name of this notebook, you can set it manually with the WANDB_NOTEBOOK_NAME environment variable to enable code saving.\n"
     ]
    },
    {
     "data": {
      "text/html": [
       "\n",
       "                Tracking run with wandb version 0.12.0<br/>\n",
       "                Syncing run <strong style=\"color:#cdcd00\">vocal-sweep-48</strong> to <a href=\"https://wandb.ai\" target=\"_blank\">Weights & Biases</a> <a href=\"https://docs.wandb.com/integrations/jupyter.html\" target=\"_blank\">(Documentation)</a>.<br/>\n",
       "                Project page: <a href=\"https://wandb.ai/sazio/NMAs-Full-Signals\" target=\"_blank\">https://wandb.ai/sazio/NMAs-Full-Signals</a><br/>\n",
       "                Sweep page: <a href=\"https://wandb.ai/sazio/NMAs-Full-Signals/sweeps/cbewt4f6\" target=\"_blank\">https://wandb.ai/sazio/NMAs-Full-Signals/sweeps/cbewt4f6</a><br/>\n",
       "Run page: <a href=\"https://wandb.ai/sazio/NMAs-Full-Signals/runs/p9js90yw\" target=\"_blank\">https://wandb.ai/sazio/NMAs-Full-Signals/runs/p9js90yw</a><br/>\n",
       "                Run data is saved locally in <code>/home/sazeglio/NMAs/src/wandb/run-20210815_175242-p9js90yw</code><br/><br/>\n",
       "            "
      ],
      "text/plain": [
       "<IPython.core.display.HTML object>"
      ]
     },
     "metadata": {},
     "output_type": "display_data"
    },
    {
     "name": "stdout",
     "output_type": "stream",
     "text": [
      " iteration 0, train cost 4.9389, valid cost 5.0406\n",
      " iteration 50, train cost 4.4679, valid cost 4.5375\n",
      " iteration 100, train cost 3.6110, valid cost 3.6774\n",
      " iteration 150, train cost 3.3636, valid cost 3.4297\n",
      " iteration 200, train cost 3.3089, valid cost 3.3781\n",
      " iteration 250, train cost 3.2926, valid cost 3.3650\n",
      " iteration 300, train cost 3.2860, valid cost 3.3605\n",
      " iteration 350, train cost 3.2821, valid cost 3.3583\n",
      " iteration 400, train cost 3.2792, valid cost 3.3570\n",
      " iteration 450, train cost 3.2767, valid cost 3.3555\n",
      " iteration 500, train cost 3.2739, valid cost 3.3534\n",
      " iteration 550, train cost 3.2699, valid cost 3.3499\n",
      " iteration 600, train cost 3.2632, valid cost 3.3428\n",
      " iteration 650, train cost 3.2514, valid cost 3.3291\n",
      " iteration 700, train cost 3.2316, valid cost 3.3053\n",
      " iteration 750, train cost 3.2007, valid cost 3.2691\n",
      " iteration 800, train cost 3.1613, valid cost 3.2245\n",
      " iteration 850, train cost 3.1179, valid cost 3.1779\n",
      " iteration 900, train cost 3.0788, valid cost 3.1378\n",
      " iteration 950, train cost 3.0481, valid cost 3.1068\n",
      " iteration 1000, train cost 3.0229, valid cost 3.0817\n",
      " iteration 1050, train cost 3.0009, valid cost 3.0596\n",
      " iteration 1100, train cost 2.9808, valid cost 3.0391\n",
      " iteration 1150, train cost 2.9636, valid cost 3.0210\n",
      " iteration 1200, train cost 2.9481, valid cost 3.0060\n",
      " iteration 1250, train cost 2.9331, valid cost 2.9919\n",
      " iteration 1300, train cost 2.9163, valid cost 2.9769\n",
      " iteration 1350, train cost 2.8976, valid cost 2.9596\n",
      " iteration 1400, train cost 2.8772, valid cost 2.9406\n",
      " iteration 1450, train cost 2.8565, valid cost 2.9205\n",
      " iteration 1500, train cost 2.8344, valid cost 2.8997\n",
      " iteration 1550, train cost 2.8117, valid cost 2.8784\n",
      " iteration 1600, train cost 2.7895, valid cost 2.8579\n",
      " iteration 1650, train cost 2.7679, valid cost 2.8383\n",
      " iteration 1700, train cost 2.7461, valid cost 2.8189\n",
      " iteration 1750, train cost 2.7257, valid cost 2.8004\n",
      " iteration 1800, train cost 2.7056, valid cost 2.7825\n",
      " iteration 1850, train cost 2.6865, valid cost 2.7649\n",
      " iteration 1900, train cost 2.6677, valid cost 2.7470\n",
      " iteration 1950, train cost 2.6483, valid cost 2.7297\n",
      " iteration 2000, train cost 2.6302, valid cost 2.7129\n",
      " iteration 2050, train cost 2.6133, valid cost 2.6968\n",
      " iteration 2100, train cost 2.5968, valid cost 2.6821\n",
      " iteration 2150, train cost 2.5814, valid cost 2.6682\n",
      " iteration 2200, train cost 2.5656, valid cost 2.6549\n",
      " iteration 2250, train cost 2.5511, valid cost 2.6418\n",
      " iteration 2300, train cost 2.5366, valid cost 2.6284\n",
      " iteration 2350, train cost 2.5239, valid cost 2.6155\n",
      " iteration 2400, train cost 2.5105, valid cost 2.6038\n",
      " iteration 2450, train cost 2.4987, valid cost 2.5923\n",
      " iteration 2500, train cost 2.4893, valid cost 2.5818\n",
      " iteration 2550, train cost 2.4774, valid cost 2.5720\n",
      " iteration 2600, train cost 2.4679, valid cost 2.5621\n",
      " iteration 2650, train cost 2.4582, valid cost 2.5528\n",
      " iteration 2700, train cost 2.4482, valid cost 2.5438\n",
      " iteration 2750, train cost 2.4390, valid cost 2.5350\n",
      " iteration 2800, train cost 2.4292, valid cost 2.5267\n",
      " iteration 2850, train cost 2.4208, valid cost 2.5181\n",
      " iteration 2900, train cost 2.4134, valid cost 2.5106\n",
      " iteration 2950, train cost 2.4040, valid cost 2.5028\n",
      " iteration 3000, train cost 2.3967, valid cost 2.4952\n",
      " iteration 3050, train cost 2.3873, valid cost 2.4876\n",
      " iteration 3100, train cost 2.3802, valid cost 2.4796\n",
      " iteration 3150, train cost 2.3720, valid cost 2.4717\n",
      " iteration 3200, train cost 2.3632, valid cost 2.4639\n",
      " iteration 3250, train cost 2.3560, valid cost 2.4564\n",
      " iteration 3300, train cost 2.3480, valid cost 2.4492\n",
      " iteration 3350, train cost 2.3409, valid cost 2.4424\n",
      " iteration 3400, train cost 2.3344, valid cost 2.4355\n",
      " iteration 3450, train cost 2.3274, valid cost 2.4290\n",
      " iteration 3500, train cost 2.3200, valid cost 2.4225\n",
      " iteration 3550, train cost 2.3141, valid cost 2.4162\n",
      " iteration 3600, train cost 2.3059, valid cost 2.4100\n",
      " iteration 3650, train cost 2.2997, valid cost 2.4038\n",
      " iteration 3700, train cost 2.2926, valid cost 2.3977\n",
      " iteration 3750, train cost 2.2862, valid cost 2.3917\n",
      " iteration 3800, train cost 2.2806, valid cost 2.3858\n",
      " iteration 3850, train cost 2.2747, valid cost 2.3807\n",
      " iteration 3900, train cost 2.2689, valid cost 2.3751\n",
      " iteration 3950, train cost 2.2627, valid cost 2.3706\n"
     ]
    },
    {
     "data": {
      "text/html": [
       "<br/>Waiting for W&B process to finish, PID 204657<br/>Program ended successfully."
      ],
      "text/plain": [
       "<IPython.core.display.HTML object>"
      ]
     },
     "metadata": {},
     "output_type": "display_data"
    },
    {
     "name": "stderr",
     "output_type": "stream",
     "text": [
      "Widget Javascript not detected.  It may not be installed or enabled properly.\n"
     ]
    },
    {
     "data": {
      "application/vnd.jupyter.widget-view+json": {
       "model_id": "853542dcd1c346afa6406af492ae7672"
      }
     },
     "metadata": {},
     "output_type": "display_data"
    },
    {
     "data": {
      "text/html": [
       "Find user logs for this run at: <code>/home/sazeglio/NMAs/src/wandb/run-20210815_175242-p9js90yw/logs/debug.log</code>"
      ],
      "text/plain": [
       "<IPython.core.display.HTML object>"
      ]
     },
     "metadata": {},
     "output_type": "display_data"
    },
    {
     "data": {
      "text/html": [
       "Find internal logs for this run at: <code>/home/sazeglio/NMAs/src/wandb/run-20210815_175242-p9js90yw/logs/debug-internal.log</code>"
      ],
      "text/plain": [
       "<IPython.core.display.HTML object>"
      ]
     },
     "metadata": {},
     "output_type": "display_data"
    },
    {
     "data": {
      "text/html": [
       "<h3>Run summary:</h3><br/><style>\n",
       "    table.wandb td:nth-child(1) { padding: 0 10px; text-align: right }\n",
       "    </style><table class=\"wandb\">\n",
       "<tr><td>train_loss</td><td>2.2582</td></tr><tr><td>valid_loss</td><td>2.36679</td></tr><tr><td>epoch</td><td>3999</td></tr><tr><td>_runtime</td><td>1241</td></tr><tr><td>_timestamp</td><td>1629044003</td></tr><tr><td>_step</td><td>3999</td></tr></table>"
      ],
      "text/plain": [
       "<IPython.core.display.HTML object>"
      ]
     },
     "metadata": {},
     "output_type": "display_data"
    },
    {
     "data": {
      "text/html": [
       "<h3>Run history:</h3><br/><style>\n",
       "    table.wandb td:nth-child(1) { padding: 0 10px; text-align: right }\n",
       "    </style><table class=\"wandb\">\n",
       "<tr><td>train_loss</td><td>█▄▄▄▄▄▄▄▃▃▃▃▃▃▃▃▂▂▂▂▂▂▂▂▂▂▂▁▁▁▁▁▁▁▁▁▁▁▁▁</td></tr><tr><td>valid_loss</td><td>█▄▄▄▄▄▄▃▃▃▃▃▃▃▃▂▂▂▂▂▂▂▂▂▂▂▂▁▁▁▁▁▁▁▁▁▁▁▁▁</td></tr><tr><td>epoch</td><td>▁▁▁▂▂▂▂▂▂▃▃▃▃▃▄▄▄▄▄▄▅▅▅▅▅▅▆▆▆▆▆▇▇▇▇▇▇███</td></tr><tr><td>_runtime</td><td>▁▁▁▂▂▂▂▂▂▃▃▃▃▃▄▄▄▄▄▄▅▅▅▅▅▅▆▆▆▆▆▇▇▇▇▇▇███</td></tr><tr><td>_timestamp</td><td>▁▁▁▂▂▂▂▂▂▃▃▃▃▃▄▄▄▄▄▄▅▅▅▅▅▅▆▆▆▆▆▇▇▇▇▇▇███</td></tr><tr><td>_step</td><td>▁▁▁▂▂▂▂▂▂▃▃▃▃▃▄▄▄▄▄▄▅▅▅▅▅▅▆▆▆▆▆▇▇▇▇▇▇███</td></tr></table><br/>"
      ],
      "text/plain": [
       "<IPython.core.display.HTML object>"
      ]
     },
     "metadata": {},
     "output_type": "display_data"
    },
    {
     "data": {
      "text/html": [
       "Synced 5 W&B file(s), 0 media file(s), 0 artifact file(s) and 0 other file(s)"
      ],
      "text/plain": [
       "<IPython.core.display.HTML object>"
      ]
     },
     "metadata": {},
     "output_type": "display_data"
    },
    {
     "data": {
      "text/html": [
       "\n",
       "                    <br/>Synced <strong style=\"color:#cdcd00\">vocal-sweep-48</strong>: <a href=\"https://wandb.ai/sazio/NMAs-Full-Signals/runs/p9js90yw\" target=\"_blank\">https://wandb.ai/sazio/NMAs-Full-Signals/runs/p9js90yw</a><br/>\n",
       "                "
      ],
      "text/plain": [
       "<IPython.core.display.HTML object>"
      ]
     },
     "metadata": {},
     "output_type": "display_data"
    },
    {
     "name": "stderr",
     "output_type": "stream",
     "text": [
      "wandb: Agent Starting Run: uw3bl662 with config:\n",
      "wandb: \tdropout: 0.2\n",
      "wandb: \tepochs: 4000\n",
      "wandb: \tlearning_rate: 0.00023430488426398204\n",
      "wandb: \tn_comp: 300\n",
      "wandb: \tnum_layers: 1\n",
      "wandb: \toptimizer: adam\n",
      "wandb: \tweight_decay: 5e-05\n",
      "Failed to detect the name of this notebook, you can set it manually with the WANDB_NOTEBOOK_NAME environment variable to enable code saving.\n"
     ]
    },
    {
     "data": {
      "text/html": [
       "\n",
       "                Tracking run with wandb version 0.12.0<br/>\n",
       "                Syncing run <strong style=\"color:#cdcd00\">helpful-sweep-49</strong> to <a href=\"https://wandb.ai\" target=\"_blank\">Weights & Biases</a> <a href=\"https://docs.wandb.com/integrations/jupyter.html\" target=\"_blank\">(Documentation)</a>.<br/>\n",
       "                Project page: <a href=\"https://wandb.ai/sazio/NMAs-Full-Signals\" target=\"_blank\">https://wandb.ai/sazio/NMAs-Full-Signals</a><br/>\n",
       "                Sweep page: <a href=\"https://wandb.ai/sazio/NMAs-Full-Signals/sweeps/cbewt4f6\" target=\"_blank\">https://wandb.ai/sazio/NMAs-Full-Signals/sweeps/cbewt4f6</a><br/>\n",
       "Run page: <a href=\"https://wandb.ai/sazio/NMAs-Full-Signals/runs/uw3bl662\" target=\"_blank\">https://wandb.ai/sazio/NMAs-Full-Signals/runs/uw3bl662</a><br/>\n",
       "                Run data is saved locally in <code>/home/sazeglio/NMAs/src/wandb/run-20210815_181327-uw3bl662</code><br/><br/>\n",
       "            "
      ],
      "text/plain": [
       "<IPython.core.display.HTML object>"
      ]
     },
     "metadata": {},
     "output_type": "display_data"
    },
    {
     "name": "stdout",
     "output_type": "stream",
     "text": [
      " iteration 0, train cost 4.9289, valid cost 5.0292\n",
      " iteration 50, train cost 3.5801, valid cost 3.6480\n",
      " iteration 100, train cost 3.2989, valid cost 3.3724\n",
      " iteration 150, train cost 3.2836, valid cost 3.3605\n",
      " iteration 200, train cost 3.2778, valid cost 3.3574\n",
      " iteration 250, train cost 3.2715, valid cost 3.3530\n",
      " iteration 300, train cost 3.2571, valid cost 3.3390\n",
      " iteration 350, train cost 3.2101, valid cost 3.2875\n",
      " iteration 400, train cost 3.1335, valid cost 3.2015\n",
      " iteration 450, train cost 3.0483, valid cost 3.1122\n",
      " iteration 500, train cost 3.0022, valid cost 3.0697\n",
      " iteration 550, train cost 2.9597, valid cost 3.0261\n",
      " iteration 600, train cost 2.9104, valid cost 2.9748\n",
      " iteration 650, train cost 2.8599, valid cost 2.9255\n",
      " iteration 700, train cost 2.8079, valid cost 2.8751\n",
      " iteration 750, train cost 2.7579, valid cost 2.8300\n",
      " iteration 800, train cost 2.7101, valid cost 2.7861\n",
      " iteration 850, train cost 2.6693, valid cost 2.7487\n",
      " iteration 900, train cost 2.6357, valid cost 2.7167\n",
      " iteration 950, train cost 2.6035, valid cost 2.6875\n",
      " iteration 1000, train cost 2.5749, valid cost 2.6605\n",
      " iteration 1050, train cost 2.5484, valid cost 2.6352\n",
      " iteration 1100, train cost 2.5228, valid cost 2.6106\n",
      " iteration 1150, train cost 2.4969, valid cost 2.5859\n",
      " iteration 1200, train cost 2.4711, valid cost 2.5627\n",
      " iteration 1250, train cost 2.4482, valid cost 2.5406\n",
      " iteration 1300, train cost 2.4257, valid cost 2.5203\n",
      " iteration 1350, train cost 2.4060, valid cost 2.5016\n",
      " iteration 1400, train cost 2.3868, valid cost 2.4838\n",
      " iteration 1450, train cost 2.3699, valid cost 2.4668\n",
      " iteration 1500, train cost 2.3521, valid cost 2.4513\n",
      " iteration 1550, train cost 2.3363, valid cost 2.4363\n",
      " iteration 1600, train cost 2.3225, valid cost 2.4220\n",
      " iteration 1650, train cost 2.3071, valid cost 2.4067\n",
      " iteration 1700, train cost 2.2925, valid cost 2.3929\n",
      " iteration 1750, train cost 2.2781, valid cost 2.3799\n",
      " iteration 1800, train cost 2.2670, valid cost 2.3686\n",
      " iteration 1850, train cost 2.2552, valid cost 2.3587\n",
      " iteration 1900, train cost 2.2432, valid cost 2.3483\n",
      " iteration 1950, train cost 2.2334, valid cost 2.3389\n",
      " iteration 2000, train cost 2.2241, valid cost 2.3302\n",
      " iteration 2050, train cost 2.2153, valid cost 2.3219\n",
      " iteration 2100, train cost 2.2062, valid cost 2.3135\n",
      " iteration 2150, train cost 2.1976, valid cost 2.3062\n",
      " iteration 2200, train cost 2.1899, valid cost 2.2985\n",
      " iteration 2250, train cost 2.1806, valid cost 2.2909\n",
      " iteration 2300, train cost 2.1741, valid cost 2.2838\n",
      " iteration 2350, train cost 2.1655, valid cost 2.2775\n",
      " iteration 2400, train cost 2.1600, valid cost 2.2707\n",
      " iteration 2450, train cost 2.1530, valid cost 2.2642\n",
      " iteration 2500, train cost 2.1460, valid cost 2.2569\n",
      " iteration 2550, train cost 2.1384, valid cost 2.2504\n",
      " iteration 2600, train cost 2.1307, valid cost 2.2434\n",
      " iteration 2650, train cost 2.1255, valid cost 2.2382\n",
      " iteration 2700, train cost 2.1186, valid cost 2.2332\n",
      " iteration 2750, train cost 2.1160, valid cost 2.2280\n",
      " iteration 2800, train cost 2.1101, valid cost 2.2230\n",
      " iteration 2850, train cost 2.1040, valid cost 2.2182\n",
      " iteration 2900, train cost 2.0974, valid cost 2.2139\n",
      " iteration 2950, train cost 2.0930, valid cost 2.2095\n",
      " iteration 3000, train cost 2.0886, valid cost 2.2052\n",
      " iteration 3050, train cost 2.0832, valid cost 2.2006\n",
      " iteration 3100, train cost 2.0783, valid cost 2.1953\n",
      " iteration 3150, train cost 2.0733, valid cost 2.1903\n",
      " iteration 3200, train cost 2.0659, valid cost 2.1849\n",
      " iteration 3250, train cost 2.0617, valid cost 2.1795\n",
      " iteration 3300, train cost 2.0553, valid cost 2.1750\n",
      " iteration 3350, train cost 2.0502, valid cost 2.1700\n",
      " iteration 3400, train cost 2.0459, valid cost 2.1655\n",
      " iteration 3450, train cost 2.0380, valid cost 2.1610\n",
      " iteration 3500, train cost 2.0356, valid cost 2.1566\n",
      " iteration 3550, train cost 2.0299, valid cost 2.1523\n",
      " iteration 3600, train cost 2.0268, valid cost 2.1479\n",
      " iteration 3650, train cost 2.0219, valid cost 2.1432\n",
      " iteration 3700, train cost 2.0170, valid cost 2.1395\n",
      " iteration 3750, train cost 2.0120, valid cost 2.1360\n",
      " iteration 3800, train cost 2.0087, valid cost 2.1328\n",
      " iteration 3850, train cost 2.0052, valid cost 2.1298\n",
      " iteration 3900, train cost 2.0025, valid cost 2.1268\n",
      " iteration 3950, train cost 1.9995, valid cost 2.1241\n"
     ]
    },
    {
     "data": {
      "text/html": [
       "<br/>Waiting for W&B process to finish, PID 204917<br/>Program ended successfully."
      ],
      "text/plain": [
       "<IPython.core.display.HTML object>"
      ]
     },
     "metadata": {},
     "output_type": "display_data"
    },
    {
     "name": "stderr",
     "output_type": "stream",
     "text": [
      "Widget Javascript not detected.  It may not be installed or enabled properly.\n"
     ]
    },
    {
     "data": {
      "application/vnd.jupyter.widget-view+json": {
       "model_id": "a768e5bedfe440f691a575bf11576858"
      }
     },
     "metadata": {},
     "output_type": "display_data"
    },
    {
     "data": {
      "text/html": [
       "Find user logs for this run at: <code>/home/sazeglio/NMAs/src/wandb/run-20210815_181327-uw3bl662/logs/debug.log</code>"
      ],
      "text/plain": [
       "<IPython.core.display.HTML object>"
      ]
     },
     "metadata": {},
     "output_type": "display_data"
    },
    {
     "data": {
      "text/html": [
       "Find internal logs for this run at: <code>/home/sazeglio/NMAs/src/wandb/run-20210815_181327-uw3bl662/logs/debug-internal.log</code>"
      ],
      "text/plain": [
       "<IPython.core.display.HTML object>"
      ]
     },
     "metadata": {},
     "output_type": "display_data"
    },
    {
     "data": {
      "text/html": [
       "<h3>Run summary:</h3><br/><style>\n",
       "    table.wandb td:nth-child(1) { padding: 0 10px; text-align: right }\n",
       "    </style><table class=\"wandb\">\n",
       "<tr><td>train_loss</td><td>1.99598</td></tr><tr><td>valid_loss</td><td>2.12156</td></tr><tr><td>epoch</td><td>3999</td></tr><tr><td>_runtime</td><td>1234</td></tr><tr><td>_timestamp</td><td>1629045241</td></tr><tr><td>_step</td><td>3999</td></tr></table>"
      ],
      "text/plain": [
       "<IPython.core.display.HTML object>"
      ]
     },
     "metadata": {},
     "output_type": "display_data"
    },
    {
     "data": {
      "text/html": [
       "<h3>Run history:</h3><br/><style>\n",
       "    table.wandb td:nth-child(1) { padding: 0 10px; text-align: right }\n",
       "    </style><table class=\"wandb\">\n",
       "<tr><td>train_loss</td><td>█▅▅▅▅▄▄▄▃▃▃▃▂▂▂▂▂▂▂▂▂▂▂▂▂▁▁▁▁▁▁▁▁▁▁▁▁▁▁▁</td></tr><tr><td>valid_loss</td><td>█▅▅▅▅▄▄▃▃▃▃▃▂▂▂▂▂▂▂▂▂▂▂▂▁▁▁▁▁▁▁▁▁▁▁▁▁▁▁▁</td></tr><tr><td>epoch</td><td>▁▁▁▂▂▂▂▂▂▃▃▃▃▃▄▄▄▄▄▄▅▅▅▅▅▅▆▆▆▆▆▇▇▇▇▇▇███</td></tr><tr><td>_runtime</td><td>▁▁▁▂▂▂▂▂▂▃▃▃▃▃▄▄▄▄▄▄▅▅▅▅▅▅▆▆▆▆▆▇▇▇▇▇▇███</td></tr><tr><td>_timestamp</td><td>▁▁▁▂▂▂▂▂▂▃▃▃▃▃▄▄▄▄▄▄▅▅▅▅▅▅▆▆▆▆▆▇▇▇▇▇▇███</td></tr><tr><td>_step</td><td>▁▁▁▂▂▂▂▂▂▃▃▃▃▃▄▄▄▄▄▄▅▅▅▅▅▅▆▆▆▆▆▇▇▇▇▇▇███</td></tr></table><br/>"
      ],
      "text/plain": [
       "<IPython.core.display.HTML object>"
      ]
     },
     "metadata": {},
     "output_type": "display_data"
    },
    {
     "data": {
      "text/html": [
       "Synced 5 W&B file(s), 0 media file(s), 0 artifact file(s) and 0 other file(s)"
      ],
      "text/plain": [
       "<IPython.core.display.HTML object>"
      ]
     },
     "metadata": {},
     "output_type": "display_data"
    },
    {
     "data": {
      "text/html": [
       "\n",
       "                    <br/>Synced <strong style=\"color:#cdcd00\">helpful-sweep-49</strong>: <a href=\"https://wandb.ai/sazio/NMAs-Full-Signals/runs/uw3bl662\" target=\"_blank\">https://wandb.ai/sazio/NMAs-Full-Signals/runs/uw3bl662</a><br/>\n",
       "                "
      ],
      "text/plain": [
       "<IPython.core.display.HTML object>"
      ]
     },
     "metadata": {},
     "output_type": "display_data"
    },
    {
     "name": "stderr",
     "output_type": "stream",
     "text": [
      "wandb: Agent Starting Run: g3g3kdyg with config:\n",
      "wandb: \tdropout: 0.3\n",
      "wandb: \tepochs: 4000\n",
      "wandb: \tlearning_rate: 9.098436203722993e-05\n",
      "wandb: \tn_comp: 400\n",
      "wandb: \tnum_layers: 1\n",
      "wandb: \toptimizer: adam\n",
      "wandb: \tweight_decay: 1e-05\n",
      "Failed to detect the name of this notebook, you can set it manually with the WANDB_NOTEBOOK_NAME environment variable to enable code saving.\n"
     ]
    },
    {
     "data": {
      "text/html": [
       "\n",
       "                Tracking run with wandb version 0.12.0<br/>\n",
       "                Syncing run <strong style=\"color:#cdcd00\">swept-sweep-50</strong> to <a href=\"https://wandb.ai\" target=\"_blank\">Weights & Biases</a> <a href=\"https://docs.wandb.com/integrations/jupyter.html\" target=\"_blank\">(Documentation)</a>.<br/>\n",
       "                Project page: <a href=\"https://wandb.ai/sazio/NMAs-Full-Signals\" target=\"_blank\">https://wandb.ai/sazio/NMAs-Full-Signals</a><br/>\n",
       "                Sweep page: <a href=\"https://wandb.ai/sazio/NMAs-Full-Signals/sweeps/cbewt4f6\" target=\"_blank\">https://wandb.ai/sazio/NMAs-Full-Signals/sweeps/cbewt4f6</a><br/>\n",
       "Run page: <a href=\"https://wandb.ai/sazio/NMAs-Full-Signals/runs/g3g3kdyg\" target=\"_blank\">https://wandb.ai/sazio/NMAs-Full-Signals/runs/g3g3kdyg</a><br/>\n",
       "                Run data is saved locally in <code>/home/sazeglio/NMAs/src/wandb/run-20210815_183405-g3g3kdyg</code><br/><br/>\n",
       "            "
      ],
      "text/plain": [
       "<IPython.core.display.HTML object>"
      ]
     },
     "metadata": {},
     "output_type": "display_data"
    },
    {
     "name": "stdout",
     "output_type": "stream",
     "text": [
      " iteration 0, train cost 4.9286, valid cost 5.0309\n",
      " iteration 50, train cost 4.5106, valid cost 4.5820\n",
      " iteration 100, train cost 3.6032, valid cost 3.6664\n",
      " iteration 150, train cost 3.3535, valid cost 3.4245\n",
      " iteration 200, train cost 3.3045, valid cost 3.3775\n",
      " iteration 250, train cost 3.2918, valid cost 3.3661\n",
      " iteration 300, train cost 3.2866, valid cost 3.3621\n",
      " iteration 350, train cost 3.2834, valid cost 3.3600\n",
      " iteration 400, train cost 3.2805, valid cost 3.3584\n",
      " iteration 450, train cost 3.2779, valid cost 3.3568\n",
      " iteration 500, train cost 3.2750, valid cost 3.3545\n",
      " iteration 550, train cost 3.2707, valid cost 3.3504\n",
      " iteration 600, train cost 3.2641, valid cost 3.3430\n",
      " iteration 650, train cost 3.2524, valid cost 3.3292\n",
      " iteration 700, train cost 3.2322, valid cost 3.3051\n",
      " iteration 750, train cost 3.2004, valid cost 3.2676\n",
      " iteration 800, train cost 3.1582, valid cost 3.2208\n",
      " iteration 850, train cost 3.1192, valid cost 3.1802\n",
      " iteration 900, train cost 3.0937, valid cost 3.1543\n",
      " iteration 950, train cost 3.0751, valid cost 3.1356\n",
      " iteration 1000, train cost 3.0563, valid cost 3.1167\n",
      " iteration 1050, train cost 3.0342, valid cost 3.0939\n",
      " iteration 1100, train cost 3.0092, valid cost 3.0684\n",
      " iteration 1150, train cost 2.9829, valid cost 3.0430\n",
      " iteration 1200, train cost 2.9599, valid cost 3.0198\n",
      " iteration 1250, train cost 2.9370, valid cost 2.9985\n",
      " iteration 1300, train cost 2.9157, valid cost 2.9777\n",
      " iteration 1350, train cost 2.8935, valid cost 2.9571\n",
      " iteration 1400, train cost 2.8718, valid cost 2.9365\n",
      " iteration 1450, train cost 2.8500, valid cost 2.9160\n",
      " iteration 1500, train cost 2.8294, valid cost 2.8957\n",
      " iteration 1550, train cost 2.8097, valid cost 2.8767\n",
      " iteration 1600, train cost 2.7899, valid cost 2.8588\n",
      " iteration 1650, train cost 2.7726, valid cost 2.8419\n",
      " iteration 1700, train cost 2.7535, valid cost 2.8245\n",
      " iteration 1750, train cost 2.7355, valid cost 2.8073\n",
      " iteration 1800, train cost 2.7164, valid cost 2.7900\n",
      " iteration 1850, train cost 2.6978, valid cost 2.7729\n",
      " iteration 1900, train cost 2.6804, valid cost 2.7557\n",
      " iteration 1950, train cost 2.6623, valid cost 2.7393\n",
      " iteration 2000, train cost 2.6443, valid cost 2.7229\n",
      " iteration 2050, train cost 2.6283, valid cost 2.7073\n",
      " iteration 2100, train cost 2.6124, valid cost 2.6928\n",
      " iteration 2150, train cost 2.5976, valid cost 2.6785\n",
      " iteration 2200, train cost 2.5826, valid cost 2.6643\n",
      " iteration 2250, train cost 2.5682, valid cost 2.6501\n",
      " iteration 2300, train cost 2.5534, valid cost 2.6361\n",
      " iteration 2350, train cost 2.5396, valid cost 2.6224\n",
      " iteration 2400, train cost 2.5267, valid cost 2.6092\n",
      " iteration 2450, train cost 2.5130, valid cost 2.5968\n",
      " iteration 2500, train cost 2.5005, valid cost 2.5851\n",
      " iteration 2550, train cost 2.4895, valid cost 2.5744\n",
      " iteration 2600, train cost 2.4784, valid cost 2.5644\n",
      " iteration 2650, train cost 2.4683, valid cost 2.5547\n",
      " iteration 2700, train cost 2.4583, valid cost 2.5455\n",
      " iteration 2750, train cost 2.4475, valid cost 2.5365\n",
      " iteration 2800, train cost 2.4377, valid cost 2.5274\n",
      " iteration 2850, train cost 2.4279, valid cost 2.5189\n",
      " iteration 2900, train cost 2.4181, valid cost 2.5102\n",
      " iteration 2950, train cost 2.4089, valid cost 2.5022\n",
      " iteration 3000, train cost 2.3995, valid cost 2.4937\n",
      " iteration 3050, train cost 2.3912, valid cost 2.4856\n",
      " iteration 3100, train cost 2.3819, valid cost 2.4782\n",
      " iteration 3150, train cost 2.3734, valid cost 2.4709\n",
      " iteration 3200, train cost 2.3664, valid cost 2.4640\n",
      " iteration 3250, train cost 2.3576, valid cost 2.4571\n",
      " iteration 3300, train cost 2.3505, valid cost 2.4503\n",
      " iteration 3350, train cost 2.3432, valid cost 2.4434\n",
      " iteration 3400, train cost 2.3361, valid cost 2.4371\n",
      " iteration 3450, train cost 2.3291, valid cost 2.4309\n",
      " iteration 3500, train cost 2.3216, valid cost 2.4251\n",
      " iteration 3550, train cost 2.3159, valid cost 2.4191\n",
      " iteration 3600, train cost 2.3105, valid cost 2.4133\n",
      " iteration 3650, train cost 2.3038, valid cost 2.4077\n",
      " iteration 3700, train cost 2.2975, valid cost 2.4026\n",
      " iteration 3750, train cost 2.2910, valid cost 2.3974\n",
      " iteration 3800, train cost 2.2863, valid cost 2.3926\n",
      " iteration 3850, train cost 2.2811, valid cost 2.3882\n",
      " iteration 3900, train cost 2.2755, valid cost 2.3838\n",
      " iteration 3950, train cost 2.2703, valid cost 2.3793\n"
     ]
    },
    {
     "data": {
      "text/html": [
       "<br/>Waiting for W&B process to finish, PID 205250<br/>Program ended successfully."
      ],
      "text/plain": [
       "<IPython.core.display.HTML object>"
      ]
     },
     "metadata": {},
     "output_type": "display_data"
    },
    {
     "name": "stderr",
     "output_type": "stream",
     "text": [
      "Widget Javascript not detected.  It may not be installed or enabled properly.\n"
     ]
    },
    {
     "data": {
      "application/vnd.jupyter.widget-view+json": {
       "model_id": "bbcd9962ee0c40d2905ab8796f7849b8"
      }
     },
     "metadata": {},
     "output_type": "display_data"
    },
    {
     "data": {
      "text/html": [
       "Find user logs for this run at: <code>/home/sazeglio/NMAs/src/wandb/run-20210815_183405-g3g3kdyg/logs/debug.log</code>"
      ],
      "text/plain": [
       "<IPython.core.display.HTML object>"
      ]
     },
     "metadata": {},
     "output_type": "display_data"
    },
    {
     "data": {
      "text/html": [
       "Find internal logs for this run at: <code>/home/sazeglio/NMAs/src/wandb/run-20210815_183405-g3g3kdyg/logs/debug-internal.log</code>"
      ],
      "text/plain": [
       "<IPython.core.display.HTML object>"
      ]
     },
     "metadata": {},
     "output_type": "display_data"
    },
    {
     "data": {
      "text/html": [
       "<h3>Run summary:</h3><br/><style>\n",
       "    table.wandb td:nth-child(1) { padding: 0 10px; text-align: right }\n",
       "    </style><table class=\"wandb\">\n",
       "<tr><td>train_loss</td><td>2.26545</td></tr><tr><td>valid_loss</td><td>2.37499</td></tr><tr><td>epoch</td><td>3999</td></tr><tr><td>_runtime</td><td>1241</td></tr><tr><td>_timestamp</td><td>1629046486</td></tr><tr><td>_step</td><td>3999</td></tr></table>"
      ],
      "text/plain": [
       "<IPython.core.display.HTML object>"
      ]
     },
     "metadata": {},
     "output_type": "display_data"
    },
    {
     "data": {
      "text/html": [
       "<h3>Run history:</h3><br/><style>\n",
       "    table.wandb td:nth-child(1) { padding: 0 10px; text-align: right }\n",
       "    </style><table class=\"wandb\">\n",
       "<tr><td>train_loss</td><td>█▄▄▄▄▄▄▄▃▃▃▃▃▃▃▂▂▂▂▂▂▂▂▂▂▂▂▁▁▁▁▁▁▁▁▁▁▁▁▁</td></tr><tr><td>valid_loss</td><td>█▄▄▄▄▄▄▃▃▃▃▃▃▃▂▂▂▂▂▂▂▂▂▂▂▂▁▁▁▁▁▁▁▁▁▁▁▁▁▁</td></tr><tr><td>epoch</td><td>▁▁▁▂▂▂▂▂▂▃▃▃▃▃▄▄▄▄▄▄▅▅▅▅▅▅▆▆▆▆▆▇▇▇▇▇▇███</td></tr><tr><td>_runtime</td><td>▁▁▁▂▂▂▂▂▂▃▃▃▃▃▄▄▄▄▄▄▅▅▅▅▅▅▆▆▆▆▆▇▇▇▇▇▇███</td></tr><tr><td>_timestamp</td><td>▁▁▁▂▂▂▂▂▂▃▃▃▃▃▄▄▄▄▄▄▅▅▅▅▅▅▆▆▆▆▆▇▇▇▇▇▇███</td></tr><tr><td>_step</td><td>▁▁▁▂▂▂▂▂▂▃▃▃▃▃▄▄▄▄▄▄▅▅▅▅▅▅▆▆▆▆▆▇▇▇▇▇▇███</td></tr></table><br/>"
      ],
      "text/plain": [
       "<IPython.core.display.HTML object>"
      ]
     },
     "metadata": {},
     "output_type": "display_data"
    },
    {
     "data": {
      "text/html": [
       "Synced 5 W&B file(s), 0 media file(s), 0 artifact file(s) and 0 other file(s)"
      ],
      "text/plain": [
       "<IPython.core.display.HTML object>"
      ]
     },
     "metadata": {},
     "output_type": "display_data"
    },
    {
     "data": {
      "text/html": [
       "\n",
       "                    <br/>Synced <strong style=\"color:#cdcd00\">swept-sweep-50</strong>: <a href=\"https://wandb.ai/sazio/NMAs-Full-Signals/runs/g3g3kdyg\" target=\"_blank\">https://wandb.ai/sazio/NMAs-Full-Signals/runs/g3g3kdyg</a><br/>\n",
       "                "
      ],
      "text/plain": [
       "<IPython.core.display.HTML object>"
      ]
     },
     "metadata": {},
     "output_type": "display_data"
    }
   ],
   "source": [
    "wandb.agent(sweep_id, train, count= 50)"
   ]
  },
  {
   "cell_type": "code",
   "execution_count": null,
   "metadata": {},
   "outputs": [],
   "source": []
  }
 ],
 "metadata": {
  "accelerator": "GPU",
  "colab": {
   "collapsed_sections": [],
   "include_colab_link": true,
   "name": "Data_Loader.ipynb",
   "provenance": []
  },
  "kernelspec": {
   "display_name": "Python 3",
   "language": "python",
   "name": "python3"
  },
  "language_info": {
   "codemirror_mode": {
    "name": "ipython",
    "version": 3
   },
   "file_extension": ".py",
   "mimetype": "text/x-python",
   "name": "python",
   "nbconvert_exporter": "python",
   "pygments_lexer": "ipython3",
   "version": "3.8.10"
  },
  "widgets": {
   "application/vnd.jupyter.widget-state+json": {
    "32dcf54089bc45cbbc7ace38a12d88ff": {
     "model_module": "@jupyter-widgets/base",
     "model_module_version": "1.2.0",
     "model_name": "LayoutModel",
     "state": {
      "_model_module": "@jupyter-widgets/base",
      "_model_module_version": "1.2.0",
      "_model_name": "LayoutModel",
      "_view_count": null,
      "_view_module": "@jupyter-widgets/base",
      "_view_module_version": "1.2.0",
      "_view_name": "LayoutView",
      "align_content": null,
      "align_items": null,
      "align_self": null,
      "border": null,
      "bottom": null,
      "display": null,
      "flex": null,
      "flex_flow": null,
      "grid_area": null,
      "grid_auto_columns": null,
      "grid_auto_flow": null,
      "grid_auto_rows": null,
      "grid_column": null,
      "grid_gap": null,
      "grid_row": null,
      "grid_template_areas": null,
      "grid_template_columns": null,
      "grid_template_rows": null,
      "height": null,
      "justify_content": null,
      "justify_items": null,
      "left": null,
      "margin": null,
      "max_height": null,
      "max_width": null,
      "min_height": null,
      "min_width": null,
      "object_fit": null,
      "object_position": null,
      "order": null,
      "overflow": null,
      "overflow_x": null,
      "overflow_y": null,
      "padding": null,
      "right": null,
      "top": null,
      "visibility": null,
      "width": null
     }
    },
    "4e573a939d0c445b9e11bdcaf3c8098b": {
     "model_module": "@jupyter-widgets/controls",
     "model_module_version": "1.5.0",
     "model_name": "HBoxModel",
     "state": {
      "_dom_classes": [],
      "_model_module": "@jupyter-widgets/controls",
      "_model_module_version": "1.5.0",
      "_model_name": "HBoxModel",
      "_view_count": null,
      "_view_module": "@jupyter-widgets/controls",
      "_view_module_version": "1.5.0",
      "_view_name": "HBoxView",
      "box_style": "",
      "children": [
       "IPY_MODEL_e47ef23e2b144ea3ac0d313d52ab158d",
       "IPY_MODEL_6b88c683452f46869fa8d3431ce8c0f2"
      ],
      "layout": "IPY_MODEL_a22204bd65224165bf9a0ea65d1e5592"
     }
    },
    "5dd4e738c49542eab4ee6833cc62b146": {
     "model_module": "@jupyter-widgets/controls",
     "model_module_version": "1.5.0",
     "model_name": "DescriptionStyleModel",
     "state": {
      "_model_module": "@jupyter-widgets/controls",
      "_model_module_version": "1.5.0",
      "_model_name": "DescriptionStyleModel",
      "_view_count": null,
      "_view_module": "@jupyter-widgets/base",
      "_view_module_version": "1.2.0",
      "_view_name": "StyleView",
      "description_width": ""
     }
    },
    "6b88c683452f46869fa8d3431ce8c0f2": {
     "model_module": "@jupyter-widgets/controls",
     "model_module_version": "1.5.0",
     "model_name": "HTMLModel",
     "state": {
      "_dom_classes": [],
      "_model_module": "@jupyter-widgets/controls",
      "_model_module_version": "1.5.0",
      "_model_name": "HTMLModel",
      "_view_count": null,
      "_view_module": "@jupyter-widgets/controls",
      "_view_module_version": "1.5.0",
      "_view_name": "HTMLView",
      "description": "",
      "description_tooltip": null,
      "layout": "IPY_MODEL_8598ad26b4ee4da58c65a2b2741cd880",
      "placeholder": "​",
      "style": "IPY_MODEL_5dd4e738c49542eab4ee6833cc62b146",
      "value": " 1000/1000 [04:50&lt;00:00,  3.44it/s]"
     }
    },
    "8598ad26b4ee4da58c65a2b2741cd880": {
     "model_module": "@jupyter-widgets/base",
     "model_module_version": "1.2.0",
     "model_name": "LayoutModel",
     "state": {
      "_model_module": "@jupyter-widgets/base",
      "_model_module_version": "1.2.0",
      "_model_name": "LayoutModel",
      "_view_count": null,
      "_view_module": "@jupyter-widgets/base",
      "_view_module_version": "1.2.0",
      "_view_name": "LayoutView",
      "align_content": null,
      "align_items": null,
      "align_self": null,
      "border": null,
      "bottom": null,
      "display": null,
      "flex": null,
      "flex_flow": null,
      "grid_area": null,
      "grid_auto_columns": null,
      "grid_auto_flow": null,
      "grid_auto_rows": null,
      "grid_column": null,
      "grid_gap": null,
      "grid_row": null,
      "grid_template_areas": null,
      "grid_template_columns": null,
      "grid_template_rows": null,
      "height": null,
      "justify_content": null,
      "justify_items": null,
      "left": null,
      "margin": null,
      "max_height": null,
      "max_width": null,
      "min_height": null,
      "min_width": null,
      "object_fit": null,
      "object_position": null,
      "order": null,
      "overflow": null,
      "overflow_x": null,
      "overflow_y": null,
      "padding": null,
      "right": null,
      "top": null,
      "visibility": null,
      "width": null
     }
    },
    "a22204bd65224165bf9a0ea65d1e5592": {
     "model_module": "@jupyter-widgets/base",
     "model_module_version": "1.2.0",
     "model_name": "LayoutModel",
     "state": {
      "_model_module": "@jupyter-widgets/base",
      "_model_module_version": "1.2.0",
      "_model_name": "LayoutModel",
      "_view_count": null,
      "_view_module": "@jupyter-widgets/base",
      "_view_module_version": "1.2.0",
      "_view_name": "LayoutView",
      "align_content": null,
      "align_items": null,
      "align_self": null,
      "border": null,
      "bottom": null,
      "display": null,
      "flex": null,
      "flex_flow": null,
      "grid_area": null,
      "grid_auto_columns": null,
      "grid_auto_flow": null,
      "grid_auto_rows": null,
      "grid_column": null,
      "grid_gap": null,
      "grid_row": null,
      "grid_template_areas": null,
      "grid_template_columns": null,
      "grid_template_rows": null,
      "height": null,
      "justify_content": null,
      "justify_items": null,
      "left": null,
      "margin": null,
      "max_height": null,
      "max_width": null,
      "min_height": null,
      "min_width": null,
      "object_fit": null,
      "object_position": null,
      "order": null,
      "overflow": null,
      "overflow_x": null,
      "overflow_y": null,
      "padding": null,
      "right": null,
      "top": null,
      "visibility": null,
      "width": null
     }
    },
    "d626a6d0d4ca442da18e75016ca4603e": {
     "model_module": "@jupyter-widgets/controls",
     "model_module_version": "1.5.0",
     "model_name": "ProgressStyleModel",
     "state": {
      "_model_module": "@jupyter-widgets/controls",
      "_model_module_version": "1.5.0",
      "_model_name": "ProgressStyleModel",
      "_view_count": null,
      "_view_module": "@jupyter-widgets/base",
      "_view_module_version": "1.2.0",
      "_view_name": "StyleView",
      "bar_color": null,
      "description_width": "initial"
     }
    },
    "e47ef23e2b144ea3ac0d313d52ab158d": {
     "model_module": "@jupyter-widgets/controls",
     "model_module_version": "1.5.0",
     "model_name": "FloatProgressModel",
     "state": {
      "_dom_classes": [],
      "_model_module": "@jupyter-widgets/controls",
      "_model_module_version": "1.5.0",
      "_model_name": "FloatProgressModel",
      "_view_count": null,
      "_view_module": "@jupyter-widgets/controls",
      "_view_module_version": "1.5.0",
      "_view_name": "ProgressView",
      "bar_style": "success",
      "description": "100%",
      "description_tooltip": null,
      "layout": "IPY_MODEL_32dcf54089bc45cbbc7ace38a12d88ff",
      "max": 1000,
      "min": 0,
      "orientation": "horizontal",
      "style": "IPY_MODEL_d626a6d0d4ca442da18e75016ca4603e",
      "value": 1000
     }
    }
   }
  }
 },
 "nbformat": 4,
 "nbformat_minor": 1
}
