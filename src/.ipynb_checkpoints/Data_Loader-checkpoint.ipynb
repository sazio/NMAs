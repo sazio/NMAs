{
  "nbformat": 4,
  "nbformat_minor": 0,
  "metadata": {
    "accelerator": "GPU",
    "colab": {
      "name": "Data_Loader.ipynb",
      "provenance": [],
      "collapsed_sections": []
    },
    "kernelspec": {
      "display_name": "Python 3",
      "language": "python",
      "name": "python3"
    },
    "language_info": {
      "codemirror_mode": {
        "name": "ipython",
        "version": 3
      },
      "file_extension": ".py",
      "mimetype": "text/x-python",
      "name": "python",
      "nbconvert_exporter": "python",
      "pygments_lexer": "ipython3",
      "version": "3.8.10"
    }
  },
  "cells": [
    {
      "cell_type": "markdown",
      "metadata": {
        "id": "ji-aTo7SA1AB"
      },
      "source": [
        "#Exploratory Data Analysis of Stringer Dataset \n",
        "@authors: Simone Azeglio, Chetan Dhulipalla , Khalid Saifullah \n",
        "\n",
        "\n",
        "Part of the code here has been taken from [Neuromatch Academy's Computational Neuroscience Course](https://compneuro.neuromatch.io/projects/neurons/README.html), and specifically from [this notebook](https://colab.research.google.com/github/NeuromatchAcademy/course-content/blob/master/projects/neurons/load_stringer_spontaneous.ipynb)"
      ]
    },
    {
      "cell_type": "markdown",
      "metadata": {
        "id": "x2LTF6oe-U8R"
      },
      "source": [
        "# to do list\n",
        "\n",
        "1. custom normalization: dividing by mean value per neuron\n",
        "1a. downsampling: convolve then downsample by 5\n",
        "2. training validation split: withhold last 20 percent of time series for testing\n",
        "3. RNN for each layer: a way to capture the dynamics inside each layer instead of capturing extra dynamics from inter-layer interactions. it will be OK to compare the different RNNs. maintain same neuron count in each layer to reduce potential bias \n",
        "4. layer weight regularization: L2 \n",
        "5. early stopping , dropout?"
      ]
    },
    {
      "cell_type": "markdown",
      "metadata": {
        "id": "vs7e5ppCMYCK"
      },
      "source": [
        "## Loading of Stringer spontaneous data\n",
        "\n"
      ]
    },
    {
      "cell_type": "code",
      "metadata": {
        "cellView": "form",
        "id": "u0nA90QhJurD"
      },
      "source": [
        "#@title Data retrieval\n",
        "import os, requests\n",
        "\n",
        "fname = \"stringer_spontaneous.npy\"\n",
        "url = \"https://osf.io/dpqaj/download\"\n",
        "\n",
        "if not os.path.isfile(fname):\n",
        "    try:\n",
        "        r = requests.get(url)\n",
        "    except requests.ConnectionError:\n",
        "        print(\"!!! Failed to download data !!!\")\n",
        "    else:\n",
        "        if r.status_code != requests.codes.ok:\n",
        "            print(\"!!! Failed to download data !!!\")\n",
        "        else:\n",
        "            with open(fname, \"wb\") as fid:\n",
        "                fid.write(r.content)"
      ],
      "execution_count": null,
      "outputs": []
    },
    {
      "cell_type": "code",
      "metadata": {
        "cellView": "form",
        "id": "FgbdwXWDSUpO"
      },
      "source": [
        "#@title Import matplotlib and set defaults\n",
        "from matplotlib import rcParams \n",
        "from matplotlib import pyplot as plt\n",
        "rcParams['figure.figsize'] = [20, 4]\n",
        "rcParams['font.size'] =15\n",
        "rcParams['axes.spines.top'] = False\n",
        "rcParams['axes.spines.right'] = False\n",
        "rcParams['figure.autolayout'] = True"
      ],
      "execution_count": null,
      "outputs": []
    },
    {
      "cell_type": "markdown",
      "metadata": {
        "id": "SRWWoEX0-sYp"
      },
      "source": [
        "## Exploratory Data Analysis (EDA)"
      ]
    },
    {
      "cell_type": "code",
      "metadata": {
        "colab": {
          "base_uri": "https://localhost:8080/"
        },
        "id": "6ulJ34TyRZo6",
        "outputId": "df56f72e-e25f-4702-b021-bf6959e018c7"
      },
      "source": [
        "#@title Data loading\n",
        "import numpy as np\n",
        "dat = np.load('stringer_spontaneous.npy', allow_pickle=True).item()\n",
        "print(dat.keys())"
      ],
      "execution_count": null,
      "outputs": [
        {
          "output_type": "stream",
          "text": [
            "dict_keys(['sresp', 'run', 'beh_svd_time', 'beh_svd_mask', 'stat', 'pupilArea', 'pupilCOM', 'xyz'])\n"
          ],
          "name": "stdout"
        }
      ]
    },
    {
      "cell_type": "code",
      "metadata": {
        "id": "KGn2iJGmFpLC"
      },
      "source": [
        "# functions \n",
        "\n",
        "def moving_avg(array, factor = 5):\n",
        "    \"\"\"Reducing the number of compontents by averaging of N = factor\n",
        "    subsequent elements of array\"\"\"\n",
        "    zeros_ = np.zeros((array.shape[0], 2))\n",
        "    array = np.hstack((array, zeros_))\n",
        "\n",
        "    array = np.reshape(array, (array.shape[0],  int(array.shape[1]/factor), factor))\n",
        "    array = np.mean(array, axis = 2)\n",
        "\n",
        "    return array"
      ],
      "execution_count": null,
      "outputs": []
    },
    {
      "cell_type": "markdown",
      "metadata": {
        "id": "ZdjYTZeV-yhR"
      },
      "source": [
        "## Extracting Data for RNN (or LFADS)\n",
        "The first problem to address is that for each layer we don't have the exact same number of neurons. We'd like to have a single RNN encoding all the different layers activities, to make it easier we can take the number of neurons ($N_{neurons} = 1131$ of the least represented class (layer) and level out each remaining class. "
      ]
    },
    {
      "cell_type": "code",
      "metadata": {
        "id": "mEy_qiyKY1xG"
      },
      "source": [
        "# Extract labels from z - coordinate\n",
        "from sklearn import preprocessing\n",
        "x, y, z = dat['xyz']\n",
        "\n",
        "le = preprocessing.LabelEncoder()\n",
        "labels = le.fit_transform(z)\n",
        "### least represented class (layer with less neurons)\n",
        "n_samples = np.histogram(labels, bins=9)[0][-1]"
      ],
      "execution_count": null,
      "outputs": []
    },
    {
      "cell_type": "code",
      "metadata": {
        "id": "lb3M2PSOZpMW"
      },
      "source": [
        "### Data for LFADS / RNN \n",
        "import pandas as pd \n",
        "dataSet = pd.DataFrame(dat[\"sresp\"])\n",
        "dataSet[\"label\"] = labels "
      ],
      "execution_count": null,
      "outputs": []
    },
    {
      "cell_type": "code",
      "metadata": {
        "id": "fYThvxV-2Nl6"
      },
      "source": [
        "# it can be done in one loop ... \n",
        "data_ = []\n",
        "for i in range(0, 9):\n",
        "    data_.append(dataSet[dataSet[\"label\"] == i].sample(n = n_samples).iloc[:,:-1].values)\n",
        "\n",
        "dataRNN = np.zeros((n_samples*9, dataSet.shape[1]-1))\n",
        "for i in range(0,9):\n",
        "    \n",
        "    # dataRNN[n_samples*i:n_samples*(i+1), :] = data_[i]\n",
        "    ## normalized by layer\n",
        "    dataRNN[n_samples*i:n_samples*(i+1), :] = data_[i]/np.mean(np.asarray(data_)[i,:,:], axis = 0)\n",
        "\n",
        "## shuffling for training purposes\n",
        "\n",
        "#np.random.shuffle(dataRNN)"
      ],
      "execution_count": null,
      "outputs": []
    },
    {
      "cell_type": "code",
      "metadata": {
        "id": "3WAqcnCTrZAz"
      },
      "source": [
        "#unshuffled = np.array(data_)"
      ],
      "execution_count": null,
      "outputs": []
    },
    {
      "cell_type": "code",
      "metadata": {
        "cellView": "form",
        "id": "680ch36_-e0m"
      },
      "source": [
        "#@title Convolutions code\n",
        "\n",
        "# convolution moving average\n",
        "\n",
        "# kernel_length = 50\n",
        "# averaging_kernel = np.ones(kernel_length) / kernel_length\n",
        "\n",
        "# dataRNN.shape\n",
        "\n",
        "# avgd_dataRNN = list()\n",
        "\n",
        "# for neuron in dataRNN:\n",
        "#   avgd_dataRNN.append(np.convolve(neuron, averaging_kernel))\n",
        "\n",
        "# avg_dataRNN = np.array(avgd_dataRNN)\n",
        "\n",
        "# print(avg_dataRNN.shape)"
      ],
      "execution_count": null,
      "outputs": []
    },
    {
      "cell_type": "code",
      "metadata": {
        "cellView": "form",
        "id": "63S3144a31FI"
      },
      "source": [
        "# @title Z Score Code \n",
        "\n",
        "\n",
        "# from scipy.stats import zscore\n",
        "\n",
        "\n",
        "# neuron = 500\n",
        "\n",
        "# scaled_all = zscore(avg_dataRNN)\n",
        "# scaled_per_neuron = zscore(avg_dataRNN[neuron, :])\n",
        "\n",
        "# scaled_per_layer = list()\n",
        "\n",
        "# for layer in unshuffled:\n",
        "#   scaled_per_layer.append(zscore(layer))\n",
        "\n",
        "# scaled_per_layer = np.array(scaled_per_layer)\n",
        "\n",
        "\n",
        "\n",
        "# plt.plot(avg_dataRNN[neuron, :])\n",
        "# plt.plot(avg_dataRNN[2500, :])\n",
        "# plt.figure()\n",
        "# plt.plot(dataRNN[neuron, :])\n",
        "# plt.figure()\n",
        "# plt.plot(scaled_all[neuron, :])\n",
        "# plt.plot(scaled_per_neuron)\n",
        "# plt.figure()\n",
        "# plt.plot(scaled_per_layer[0,neuron,:])\n"
      ],
      "execution_count": null,
      "outputs": []
    },
    {
      "cell_type": "code",
      "metadata": {
        "id": "hE-4w_4V-Gzx"
      },
      "source": [
        "# custom normalization\n",
        "\n",
        "normed_dataRNN = list()\n",
        "for neuron in dataRNN:\n",
        "    normed_dataRNN.append(neuron)# / neuron.mean())\n",
        "normed_dataRNN = np.array(normed_dataRNN)\n",
        "\n",
        "# downsampling and averaging \n",
        "#avgd_normed_dataRNN = dataRNN#\n",
        "avgd_normed_dataRNN = moving_avg(dataRNN, factor=2)"
      ],
      "execution_count": null,
      "outputs": []
    },
    {
      "cell_type": "code",
      "metadata": {
        "id": "rIoBNGiFHZFy",
        "outputId": "46ed4fdd-e40c-4020-c2e2-51167162496b"
      },
      "source": [
        "plt.plot(avgd_normed_dataRNN[0,:])"
      ],
      "execution_count": null,
      "outputs": [
        {
          "output_type": "execute_result",
          "data": {
            "text/plain": [
              "[<matplotlib.lines.Line2D at 0x7f33a0221dc0>]"
            ]
          },
          "metadata": {
            "tags": []
          },
          "execution_count": 14
        },
        {
          "output_type": "display_data",
          "data": {
            "image/png": "[encoded data removed]",
            "text/plain": [
              "<Figure size 1440x288 with 1 Axes>"
            ]
          },
          "metadata": {
            "tags": [],
            "needs_background": "light"
          }
        }
      ]
    },
    {
      "cell_type": "markdown",
      "metadata": {
        "id": "SeNxo6vsv1Oq"
      },
      "source": [
        "issue: does the individual scaling by layer introduce bias that may artificially increase performance of the network?"
      ]
    },
    {
      "cell_type": "markdown",
      "metadata": {
        "id": "0MrXC5QIiyhJ"
      },
      "source": [
        "## Data Loader \n"
      ]
    },
    {
      "cell_type": "code",
      "metadata": {
        "id": "255tz5iqmSq1"
      },
      "source": [
        "import torch\n",
        "import torch.nn as nn\n",
        "import torch.nn.functional as F"
      ],
      "execution_count": null,
      "outputs": []
    },
    {
      "cell_type": "code",
      "metadata": {
        "id": "467WOHhtmXmb"
      },
      "source": [
        "device = torch.device('cuda' if torch.cuda.is_available() else 'cpu')"
      ],
      "execution_count": null,
      "outputs": []
    },
    {
      "cell_type": "code",
      "metadata": {
        "id": "Dcb5vW2joVW_"
      },
      "source": [
        "# set the seed\n",
        "np.random.seed(42)\n",
        "\n",
        "# number of neurons \n",
        "NN = dataRNN.shape[0]"
      ],
      "execution_count": null,
      "outputs": []
    },
    {
      "cell_type": "code",
      "metadata": {
        "colab": {
          "base_uri": "https://localhost:8080/"
        },
        "id": "bXJPQdu17Ns5",
        "outputId": "18b700ff-0126-458f-a300-7488e457013f"
      },
      "source": [
        "# swapping the axes to maintain consistency with seq2seq notebook in the following code - the network takes all the neurons at a time step as input, not just one neuron\n",
        "\n",
        "# avgd_normed_dataRNN = np.swapaxes(avgd_normed_dataRNN, 0, 1)\n",
        "avgd_normed_dataRNN.shape"
      ],
      "execution_count": null,
      "outputs": [
        {
          "output_type": "execute_result",
          "data": {
            "text/plain": [
              "(10179, 3510)"
            ]
          },
          "metadata": {
            "tags": []
          },
          "execution_count": 18
        }
      ]
    },
    {
      "cell_type": "code",
      "metadata": {
        "id": "Prl0OxLZkka9"
      },
      "source": [
        "frac = 4/5\n",
        "\n",
        "#x1 = torch.from_numpy(dataRNN[:,:int(frac*dataRNN.shape[1])]).to(device).float().unsqueeze(0)\n",
        "#x2 = torch.from_numpy(dataRNN[:,int(frac*dataRNN.shape[1]):]).to(device).float().unsqueeze(0)\n",
        "#x1 = torch.from_numpy(avgd_normed_dataRNN[:1131,:]).to(device).float().unsqueeze(2)\n",
        "#x2 = torch.from_numpy(avgd_normed_dataRNN[:1131,:]).to(device).float().unsqueeze(2)\n",
        "\n",
        "n_neurs = 1131\n",
        "# let's use n_neurs/10 latent components\n",
        "ncomp = int(n_neurs/10)\n",
        "\n",
        "x1_train = torch.from_numpy(avgd_normed_dataRNN[:n_neurs,:int(frac*avgd_normed_dataRNN.shape[1])]).to(device).float().unsqueeze(2)\n",
        "x2_train = torch.from_numpy(avgd_normed_dataRNN[:n_neurs,:int(frac*avgd_normed_dataRNN.shape[1])]).to(device).float().unsqueeze(2)\n",
        "\n",
        "x1_valid = torch.from_numpy(avgd_normed_dataRNN[:n_neurs,int(frac*avgd_normed_dataRNN.shape[1]):]).to(device).float().unsqueeze(2)\n",
        "x2_valid = torch.from_numpy(avgd_normed_dataRNN[:n_neurs,int(frac*avgd_normed_dataRNN.shape[1]):]).to(device).float().unsqueeze(2)\n",
        "\n",
        "NN1 = x1_train.shape[0]\n",
        "NN2 = x2_train.shape[0]\n"
      ],
      "execution_count": null,
      "outputs": []
    },
    {
      "cell_type": "code",
      "metadata": {
        "id": "01IvhjPzk-Jw"
      },
      "source": [
        "class Net(nn.Module):\n",
        "    def __init__(self, ncomp, NN1, NN2, bidi=True):\n",
        "        super(Net, self).__init__()\n",
        "\n",
        "        # play with some of the options in the RNN!\n",
        "        \n",
        "        self.rnn = nn.LSTM(NN1, ncomp, num_layers = 1, dropout = 0.,\n",
        "                         bidirectional = bidi)\n",
        "        \"\"\"\n",
        "        self.rnn = nn.RNN(NN1, ncomp, num_layers = 1, dropout = 0,\n",
        "                    bidirectional = bidi, nonlinearity = 'tanh')\n",
        "        self.rnn = nn.GRU(NN1, ncomp, num_layers = 1, dropout = 0,\n",
        "                         bidirectional = bidi)\n",
        "        \"\"\"\n",
        "        \n",
        "        self.mlp = nn.Sequential(\n",
        "                    nn.Linear(ncomp, ncomp*5),\n",
        "                    nn.Mish(),\n",
        "                    nn.Dropout(),\n",
        "                    nn.Linear(ncomp*5, ncomp*5),\n",
        "                    nn.Mish(),\n",
        "                    nn.Dropout(),\n",
        "                    nn.Linear(ncomp*5, ncomp), \n",
        "                    nn.Mish())\n",
        "        \n",
        "        self.fc = nn.Linear(ncomp, NN2)\n",
        "\n",
        "    def forward(self, x):\n",
        "        x = x.permute(1, 2, 0)\n",
        "        #print(x.shape)\n",
        "        # h_0 = torch.zeros(2, x.size()[1], self.ncomp).to(device)\n",
        "        \n",
        "        y, h_n = self.rnn(x)\n",
        "\n",
        "        #print(y.shape)\n",
        "        #print(h_n.shape)\n",
        "        if self.rnn.bidirectional:\n",
        "          # if the rnn is bidirectional, it concatenates the activations from the forward and backward pass\n",
        "          # we want to add them instead, so as to enforce the latents to match between the forward and backward pass\n",
        "            q = (y[:, :, :ncomp] + y[:, :, ncomp:])/2\n",
        "        else:\n",
        "            q = y\n",
        "        \n",
        "        q = self.mlp(q)\n",
        "\n",
        "        # the softplus function is just like a relu but it's smoothed out so we can't predict 0\n",
        "        # if we predict 0 and there was a spike, that's an instant Inf in the Poisson log-likelihood which leads to failure\n",
        "        #z = F.softplus(self.fc(q), 10)\n",
        "        #print(q.shape)\n",
        "        z = self.fc(q).permute(2, 0, 1)\n",
        "        # print(z.shape)\n",
        "        return z, q"
      ],
      "execution_count": null,
      "outputs": []
    },
    {
      "cell_type": "code",
      "metadata": {
        "id": "sQGEVQaGmwV6"
      },
      "source": [
        "# we initialize the neural network\n",
        "net = Net(ncomp, NN1, NN2, bidi = True).to(device)\n",
        "\n",
        "# special thing:  we initialize the biases of the last layer in the neural network\n",
        "# we set them as the mean firing rates of the neurons.\n",
        "# this should make the initial predictions close to the mean, because the latents don't contribute much\n",
        "net.fc.bias.data[:] = x1_train.mean(axis = (0,1))\n",
        "\n",
        "# we set up the optimizer. Adjust the learning rate if the training is slow or if it explodes.\n",
        "optimizer1 = torch.optim.Adam(net.parameters(), lr=.0001)\n",
        "# optimizer2 = torch.optim.SGD(net.parameters(), lr = 0.0001, momentum = 0.9, weight_decay = 0.01, )\n",
        "# optimizer3 = torch.optim."
      ],
      "execution_count": null,
      "outputs": []
    },
    {
      "cell_type": "code",
      "metadata": {
        "colab": {
          "base_uri": "https://localhost:8080/"
        },
        "id": "SzvKjuTvmwYa",
        "outputId": "63095320-91b6-4d1b-9e77-7332360a7c86"
      },
      "source": [
        "# forward check \n",
        "# net(x1)\n",
        "net(x1_train)"
      ],
      "execution_count": null,
      "outputs": [
        {
          "output_type": "execute_result",
          "data": {
            "text/plain": [
              "(tensor([[[1.0162],\n",
              "          [1.0078],\n",
              "          [1.0047],\n",
              "          ...,\n",
              "          [1.0129],\n",
              "          [0.9854],\n",
              "          [0.9999]],\n",
              " \n",
              "         [[0.9910],\n",
              "          [0.9870],\n",
              "          [0.9848],\n",
              "          ...,\n",
              "          [0.9964],\n",
              "          [0.9742],\n",
              "          [0.9620]],\n",
              " \n",
              "         [[0.9963],\n",
              "          [1.0095],\n",
              "          [1.0099],\n",
              "          ...,\n",
              "          [0.9931],\n",
              "          [1.0135],\n",
              "          [0.9941]],\n",
              " \n",
              "         ...,\n",
              " \n",
              "         [[0.9966],\n",
              "          [0.9864],\n",
              "          [0.9921],\n",
              "          ...,\n",
              "          [1.0000],\n",
              "          [1.0051],\n",
              "          [0.9897]],\n",
              " \n",
              "         [[1.0193],\n",
              "          [1.0461],\n",
              "          [1.0441],\n",
              "          ...,\n",
              "          [1.0202],\n",
              "          [1.0221],\n",
              "          [1.0148]],\n",
              " \n",
              "         [[1.0161],\n",
              "          [1.0223],\n",
              "          [1.0108],\n",
              "          ...,\n",
              "          [1.0328],\n",
              "          [0.9996],\n",
              "          [0.9928]]], device='cuda:0', grad_fn=<PermuteBackward>),\n",
              " tensor([[[ 0.0262,  0.0173, -0.0058,  ..., -0.0190,  0.0040, -0.0143]],\n",
              " \n",
              "         [[ 0.0197,  0.0872, -0.0183,  ..., -0.0022, -0.0188,  0.0197]],\n",
              " \n",
              "         [[ 0.0081,  0.0346, -0.0110,  ..., -0.0227, -0.0277, -0.0087]],\n",
              " \n",
              "         ...,\n",
              " \n",
              "         [[-0.0232,  0.0391,  0.0248,  ..., -0.0322, -0.0221, -0.0203]],\n",
              " \n",
              "         [[ 0.0124,  0.0273,  0.0149,  ..., -0.0393, -0.0373, -0.0075]],\n",
              " \n",
              "         [[ 0.0222,  0.0127, -0.0194,  ..., -0.0300, -0.0403, -0.0422]]],\n",
              "        device='cuda:0', grad_fn=<MishBackward>))"
            ]
          },
          "metadata": {
            "tags": []
          },
          "execution_count": 22
        }
      ]
    },
    {
      "cell_type": "markdown",
      "metadata": {
        "id": "2hlfx8Ltp5jJ"
      },
      "source": [
        "## Training "
      ]
    },
    {
      "cell_type": "code",
      "metadata": {
        "id": "KjzD06B9ta3n"
      },
      "source": [
        "from tqdm import tqdm"
      ],
      "execution_count": null,
      "outputs": []
    },
    {
      "cell_type": "code",
      "metadata": {
        "scrolled": true,
        "id": "e5REhdgsHZF2",
        "outputId": "6d495e15-4aa2-47fd-c362-00561efe4f9a"
      },
      "source": [
        "from sam import SAM\n",
        "\n",
        "base_optimizer = torch.optim.Adam  # define an optimizer for the \"sharpness-aware\" update\n",
        "optimizer = SAM(net.parameters(), base_optimizer, lr=0.001, weight_decay = 1e-5)#, momentum=0.9)\n",
        "\n",
        "# you can keep re-running this cell if you think the cost might decrease further\n",
        "\n",
        "cost = nn.MSELoss()\n",
        "\n",
        "#train_save = []\n",
        "#valid_save = []\n",
        "\n",
        "niter =  5500 # \n",
        "# rnn_loss = 0.2372, lstm_loss = 0.2340, gru_lstm = 0.2370\n",
        "for k in tqdm(range(niter)):\n",
        "    net.train()\n",
        "    # the network outputs the single-neuron prediction and the latents\n",
        "    z, y = net(x1_train)\n",
        "\n",
        "    # our cost\n",
        "    loss = cost(z, x2_train)\n",
        "\n",
        "    # train the network as usual\n",
        "    loss.backward()\n",
        "    optimizer.first_step(zero_grad = True)\n",
        "    \n",
        "    cost(net(x1_train)[0],x2_train).backward()\n",
        "    \n",
        "    optimizer.second_step(zero_grad=True)\n",
        "    \n",
        "    with torch.no_grad():\n",
        "        net.eval()\n",
        "        train_save.append(loss.item())\n",
        "        valid_loss = cost(net(x1_valid)[0], x2_valid)\n",
        "        valid_save.append(valid_loss.item())\n",
        "\n",
        "    if k % 50 == 0:\n",
        "        with torch.no_grad():\n",
        "            net.eval()\n",
        "            valid_loss = cost(net(x1_valid)[0], x2_valid)\n",
        "            \n",
        "            print(f' iteration {k}, train cost {loss.item():.4f}, valid cost {valid_loss.item():.4f}')"
      ],
      "execution_count": null,
      "outputs": [
        {
          "output_type": "stream",
          "text": [
            "  0%|          | 1/5500 [00:00<29:37,  3.09it/s]"
          ],
          "name": "stderr"
        },
        {
          "output_type": "stream",
          "text": [
            " iteration 0, train cost 2.6957, valid cost 2.7404\n"
          ],
          "name": "stdout"
        },
        {
          "output_type": "stream",
          "text": [
            "  1%|          | 51/5500 [00:15<28:24,  3.20it/s]"
          ],
          "name": "stderr"
        },
        {
          "output_type": "stream",
          "text": [
            " iteration 50, train cost 2.0626, valid cost 2.1206\n"
          ],
          "name": "stdout"
        },
        {
          "output_type": "stream",
          "text": [
            "  2%|▏         | 101/5500 [00:31<28:07,  3.20it/s]"
          ],
          "name": "stderr"
        },
        {
          "output_type": "stream",
          "text": [
            " iteration 100, train cost 1.8630, valid cost 1.9056\n"
          ],
          "name": "stdout"
        },
        {
          "output_type": "stream",
          "text": [
            "  3%|▎         | 151/5500 [00:46<27:45,  3.21it/s]"
          ],
          "name": "stderr"
        },
        {
          "output_type": "stream",
          "text": [
            " iteration 150, train cost 1.7417, valid cost 1.7943\n"
          ],
          "name": "stdout"
        },
        {
          "output_type": "stream",
          "text": [
            "  4%|▎         | 201/5500 [01:01<27:38,  3.19it/s]"
          ],
          "name": "stderr"
        },
        {
          "output_type": "stream",
          "text": [
            " iteration 200, train cost 1.6435, valid cost 1.7100\n"
          ],
          "name": "stdout"
        },
        {
          "output_type": "stream",
          "text": [
            "  5%|▍         | 251/5500 [01:17<27:20,  3.20it/s]"
          ],
          "name": "stderr"
        },
        {
          "output_type": "stream",
          "text": [
            " iteration 250, train cost 1.5788, valid cost 1.6504\n"
          ],
          "name": "stdout"
        },
        {
          "output_type": "stream",
          "text": [
            "  5%|▌         | 301/5500 [01:32<26:56,  3.22it/s]"
          ],
          "name": "stderr"
        },
        {
          "output_type": "stream",
          "text": [
            " iteration 300, train cost 1.5308, valid cost 1.6102\n"
          ],
          "name": "stdout"
        },
        {
          "output_type": "stream",
          "text": [
            "  6%|▋         | 351/5500 [01:47<26:40,  3.22it/s]"
          ],
          "name": "stderr"
        },
        {
          "output_type": "stream",
          "text": [
            " iteration 350, train cost 1.4915, valid cost 1.5721\n"
          ],
          "name": "stdout"
        },
        {
          "output_type": "stream",
          "text": [
            "  7%|▋         | 401/5500 [02:03<26:24,  3.22it/s]"
          ],
          "name": "stderr"
        },
        {
          "output_type": "stream",
          "text": [
            " iteration 400, train cost 1.4547, valid cost 1.5378\n"
          ],
          "name": "stdout"
        },
        {
          "output_type": "stream",
          "text": [
            "  8%|▊         | 451/5500 [02:18<26:02,  3.23it/s]"
          ],
          "name": "stderr"
        },
        {
          "output_type": "stream",
          "text": [
            " iteration 450, train cost 1.4199, valid cost 1.5093\n"
          ],
          "name": "stdout"
        },
        {
          "output_type": "stream",
          "text": [
            "  9%|▉         | 501/5500 [02:33<25:53,  3.22it/s]"
          ],
          "name": "stderr"
        },
        {
          "output_type": "stream",
          "text": [
            " iteration 500, train cost 1.3930, valid cost 1.4871\n"
          ],
          "name": "stdout"
        },
        {
          "output_type": "stream",
          "text": [
            " 10%|█         | 551/5500 [02:48<25:35,  3.22it/s]"
          ],
          "name": "stderr"
        },
        {
          "output_type": "stream",
          "text": [
            " iteration 550, train cost 1.3702, valid cost 1.4676\n"
          ],
          "name": "stdout"
        },
        {
          "output_type": "stream",
          "text": [
            " 11%|█         | 601/5500 [03:04<25:23,  3.22it/s]"
          ],
          "name": "stderr"
        },
        {
          "output_type": "stream",
          "text": [
            " iteration 600, train cost 1.3483, valid cost 1.4487\n"
          ],
          "name": "stdout"
        },
        {
          "output_type": "stream",
          "text": [
            " 12%|█▏        | 651/5500 [03:19<25:08,  3.21it/s]"
          ],
          "name": "stderr"
        },
        {
          "output_type": "stream",
          "text": [
            " iteration 650, train cost 1.3302, valid cost 1.4331\n"
          ],
          "name": "stdout"
        },
        {
          "output_type": "stream",
          "text": [
            " 13%|█▎        | 701/5500 [03:34<24:56,  3.21it/s]"
          ],
          "name": "stderr"
        },
        {
          "output_type": "stream",
          "text": [
            " iteration 700, train cost 1.3146, valid cost 1.4203\n"
          ],
          "name": "stdout"
        },
        {
          "output_type": "stream",
          "text": [
            " 14%|█▎        | 751/5500 [03:50<24:32,  3.22it/s]"
          ],
          "name": "stderr"
        },
        {
          "output_type": "stream",
          "text": [
            " iteration 750, train cost 1.2975, valid cost 1.4017\n"
          ],
          "name": "stdout"
        },
        {
          "output_type": "stream",
          "text": [
            " 15%|█▍        | 801/5500 [04:05<24:19,  3.22it/s]"
          ],
          "name": "stderr"
        },
        {
          "output_type": "stream",
          "text": [
            " iteration 800, train cost 1.2834, valid cost 1.3896\n"
          ],
          "name": "stdout"
        },
        {
          "output_type": "stream",
          "text": [
            " 15%|█▌        | 851/5500 [04:20<24:16,  3.19it/s]"
          ],
          "name": "stderr"
        },
        {
          "output_type": "stream",
          "text": [
            " iteration 850, train cost 1.2712, valid cost 1.3783\n"
          ],
          "name": "stdout"
        },
        {
          "output_type": "stream",
          "text": [
            " 16%|█▋        | 901/5500 [04:36<23:59,  3.20it/s]"
          ],
          "name": "stderr"
        },
        {
          "output_type": "stream",
          "text": [
            " iteration 900, train cost 1.2567, valid cost 1.3650\n"
          ],
          "name": "stdout"
        },
        {
          "output_type": "stream",
          "text": [
            " 17%|█▋        | 917/5500 [04:41<23:32,  3.24it/s]"
          ],
          "name": "stderr"
        }
      ]
    },
    {
      "cell_type": "code",
      "metadata": {
        "id": "nW4j2gM2HZF2"
      },
      "source": [
        "plt.plot(valid_save)\n",
        "plt.plot(loss_save)"
      ],
      "execution_count": null,
      "outputs": []
    },
    {
      "cell_type": "code",
      "metadata": {
        "id": "24uTE21zHZF2"
      },
      "source": [
        ""
      ],
      "execution_count": null,
      "outputs": []
    },
    {
      "cell_type": "code",
      "metadata": {
        "id": "aNG8yY9fp6sg",
        "scrolled": true
      },
      "source": [
        "\"\"\"\n",
        "### Original training\n",
        "# you can keep re-running this cell if you think the cost might decrease further\n",
        "\n",
        "cost = nn.MSELoss()\n",
        "\n",
        "niter = 5800\n",
        "# rnn_loss = 0.2372, lstm_loss = 0.2340, gru_lstm = 0.2370\n",
        "for k in tqdm(range(niter)):\n",
        "    net.train()\n",
        "    # the network outputs the single-neuron prediction and the latents\n",
        "    z, y = net(x1_train)\n",
        "\n",
        "    # our cost\n",
        "    loss = cost(z, x2_train)\n",
        "\n",
        "    # train the network as usual\n",
        "    loss.backward()\n",
        "    optimizer1.step()\n",
        "    optimizer1.zero_grad()\n",
        "    \n",
        "\n",
        "    if k % 50 == 0:\n",
        "        with torch.no_grad():\n",
        "            net.eval()\n",
        "            valid_loss = cost(net(x1_valid)[0], x2_valid)\n",
        "            \n",
        "            print(f' iteration {k}, train cost {loss.item():.4f}, valid cost {valid_loss.item():.4f}')\n",
        "\n",
        "\"\"\";  "
      ],
      "execution_count": null,
      "outputs": []
    },
    {
      "cell_type": "markdown",
      "metadata": {
        "id": "MkvwOHwjHZF2"
      },
      "source": [
        "## Validation from same neurons"
      ]
    },
    {
      "cell_type": "code",
      "metadata": {
        "id": "jryOMKdDJoEh"
      },
      "source": [
        "test, hidden = net(x1_valid)"
      ],
      "execution_count": null,
      "outputs": []
    },
    {
      "cell_type": "code",
      "metadata": {
        "id": "HY_xlS8k7BF8",
        "scrolled": true
      },
      "source": [
        "plt.plot(x2_valid[7,:,0].cpu().detach().numpy())\n",
        "plt.plot(test[7,:,0].cpu().detach().numpy())"
      ],
      "execution_count": null,
      "outputs": []
    },
    {
      "cell_type": "markdown",
      "metadata": {
        "id": "emfEWsfDHZF3"
      },
      "source": [
        "## Testing neurons from same layer"
      ]
    },
    {
      "cell_type": "code",
      "metadata": {
        "id": "oJ0dBUgIHZF3"
      },
      "source": [
        "test, hidden = net(torch.from_numpy(avgd_normed_dataRNN[n_neurs:2*n_neurs,:]).unsqueeze(2).to(device).float())"
      ],
      "execution_count": null,
      "outputs": []
    },
    {
      "cell_type": "code",
      "metadata": {
        "id": "RORJkXXOHZF3"
      },
      "source": [
        "test.shape"
      ],
      "execution_count": null,
      "outputs": []
    },
    {
      "cell_type": "code",
      "metadata": {
        "scrolled": true,
        "id": "rZPVIPiOHZF3"
      },
      "source": [
        "n_n = 15\n",
        "plt.plot(test[n_n,:,0].cpu().detach().numpy())\n",
        "plt.plot(avgd_normed_dataRNN[n_neurs + n_n,:])"
      ],
      "execution_count": null,
      "outputs": []
    },
    {
      "cell_type": "markdown",
      "metadata": {
        "id": "ot1-cMeeHZF4"
      },
      "source": [
        "## Testing neurons from another layer (#9)"
      ]
    },
    {
      "cell_type": "code",
      "metadata": {
        "id": "swaUYZLeHZF4"
      },
      "source": [
        "test, hidden = net(torch.from_numpy(avgd_normed_dataRNN[10000:10100,:]).unsqueeze(2).to(device).float())"
      ],
      "execution_count": null,
      "outputs": []
    },
    {
      "cell_type": "code",
      "metadata": {
        "id": "cuuFFupaHZF4"
      },
      "source": [
        "plt.plot(test[10,:,0].cpu().detach().numpy())\n",
        "plt.plot(avgd_normed_dataRNN[10010,:])"
      ],
      "execution_count": null,
      "outputs": []
    },
    {
      "cell_type": "markdown",
      "metadata": {
        "id": "hI-JJAbQHZF4"
      },
      "source": [
        "# Training 9 Networks \n",
        "Each Network corresponds to a different layer in V1"
      ]
    },
    {
      "cell_type": "code",
      "metadata": {
        "id": "q0teh-dlHZF4"
      },
      "source": [
        "# you can keep re-running this cell if you think the cost might decrease further\n",
        "\n",
        "cost = nn.MSELoss()\n",
        "\n",
        "niter = 10000\n",
        "# rnn_loss = 0.2372, lstm_loss = 0.2340, gru_lstm = 0.2370\n",
        "for k in tqdm(range(niter)):\n",
        "    net.train()\n",
        "    # the network outputs the single-neuron prediction and the latents\n",
        "    z, y = net(x1_train)\n",
        "\n",
        "    # our cost\n",
        "    loss = cost(z, x2_train)\n",
        "\n",
        "    # train the network as usual\n",
        "    loss.backward()\n",
        "    optimizer1.step()\n",
        "    optimizer1.zero_grad()\n",
        "\n",
        "    if k % 50 == 0:\n",
        "        with torch.no_grad():\n",
        "            net.eval()\n",
        "            valid_loss = cost(net(x1_valid)[0], x2_valid)\n",
        "            \n",
        "            print(f' iteration {k}, train cost {loss.item():.4f}, valid cost {valid_loss.item():.4f}')\n",
        "\n",
        "    "
      ],
      "execution_count": null,
      "outputs": []
    },
    {
      "cell_type": "code",
      "metadata": {
        "id": "kszTdz6bHZF4"
      },
      "source": [
        ""
      ],
      "execution_count": null,
      "outputs": []
    }
  ]
}