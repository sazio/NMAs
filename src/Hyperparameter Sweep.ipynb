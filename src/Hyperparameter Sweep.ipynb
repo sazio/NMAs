{
 "cells": [
  {
   "cell_type": "markdown",
   "metadata": {
    "colab_type": "text",
    "id": "view-in-github"
   },
   "source": [
    "<a href=\"https://colab.research.google.com/github/sazio/NMAs/blob/main/Data_Loader.ipynb\" target=\"_parent\"><img src=\"https://colab.research.google.com/assets/colab-badge.svg\" alt=\"Open In Colab\"/></a>"
   ]
  },
  {
   "cell_type": "markdown",
   "metadata": {
    "id": "ji-aTo7SA1AB"
   },
   "source": [
    "# Exploratory Data Analysis of Stringer Dataset \n",
    "@authors: Simone Azeglio, Chetan Dhulipalla , Khalid Saifullah \n",
    "\n",
    "\n",
    "Part of the code here has been taken from [Neuromatch Academy's Computational Neuroscience Course](https://compneuro.neuromatch.io/projects/neurons/README.html), and specifically from [this notebook](https://colab.research.google.com/github/NeuromatchAcademy/course-content/blob/master/projects/neurons/load_stringer_spontaneous.ipynb)"
   ]
  },
  {
   "cell_type": "markdown",
   "metadata": {
    "id": "x2LTF6oe-U8R"
   },
   "source": [
    "# to do list\n",
    "\n",
    "1. custom normalization: dividing by mean value per neuron\n",
    "1a. downsampling: convolve then downsample by 5\n",
    "2. training validation split: withhold last 20 percent of time series for testing\n",
    "3. RNN for each layer: a way to capture the dynamics inside each layer instead of capturing extra dynamics from inter-layer interactions. it will be OK to compare the different RNNs. maintain same neuron count in each layer to reduce potential bias \n",
    "4. layer weight regularization: L2 \n",
    "5. early stopping , dropout?"
   ]
  },
  {
   "cell_type": "code",
   "execution_count": 27,
   "metadata": {},
   "outputs": [],
   "source": [
    "#%%capture\n",
    "#!pip install wandb --upgrade --quiet"
   ]
  },
  {
   "cell_type": "code",
   "execution_count": 28,
   "metadata": {},
   "outputs": [
    {
     "data": {
      "text/plain": [
       "True"
      ]
     },
     "execution_count": 28,
     "metadata": {},
     "output_type": "execute_result"
    }
   ],
   "source": [
    "import wandb\n",
    "\n",
    "wandb.login()"
   ]
  },
  {
   "cell_type": "markdown",
   "metadata": {
    "id": "vs7e5ppCMYCK"
   },
   "source": [
    "## Loading of Stringer spontaneous data\n",
    "\n"
   ]
  },
  {
   "cell_type": "code",
   "execution_count": 29,
   "metadata": {
    "cellView": "form",
    "id": "u0nA90QhJurD"
   },
   "outputs": [],
   "source": [
    "#@title Data retrieval\n",
    "import os, requests\n",
    "\n",
    "fname = \"stringer_spontaneous.npy\"\n",
    "url = \"https://osf.io/dpqaj/download\"\n",
    "\n",
    "if not os.path.isfile(fname):\n",
    "    try:\n",
    "        r = requests.get(url)\n",
    "    except requests.ConnectionError:\n",
    "        print(\"!!! Failed to download data !!!\")\n",
    "    else:\n",
    "        if r.status_code != requests.codes.ok:\n",
    "            print(\"!!! Failed to download data !!!\")\n",
    "        else:\n",
    "            with open(fname, \"wb\") as fid:\n",
    "                fid.write(r.content)"
   ]
  },
  {
   "cell_type": "code",
   "execution_count": 30,
   "metadata": {
    "cellView": "form",
    "id": "FgbdwXWDSUpO"
   },
   "outputs": [],
   "source": [
    "#@title Import matplotlib and set defaults\n",
    "from matplotlib import rcParams \n",
    "from matplotlib import pyplot as plt\n",
    "rcParams['figure.figsize'] = [20, 4]\n",
    "rcParams['font.size'] =15\n",
    "rcParams['axes.spines.top'] = False\n",
    "rcParams['axes.spines.right'] = False\n",
    "rcParams['figure.autolayout'] = True"
   ]
  },
  {
   "cell_type": "markdown",
   "metadata": {
    "id": "SRWWoEX0-sYp"
   },
   "source": [
    "## Exploratory Data Analysis (EDA)"
   ]
  },
  {
   "cell_type": "code",
   "execution_count": 31,
   "metadata": {
    "colab": {
     "base_uri": "https://localhost:8080/"
    },
    "id": "6ulJ34TyRZo6",
    "outputId": "df56f72e-e25f-4702-b021-bf6959e018c7"
   },
   "outputs": [
    {
     "name": "stdout",
     "output_type": "stream",
     "text": [
      "dict_keys(['sresp', 'run', 'beh_svd_time', 'beh_svd_mask', 'stat', 'pupilArea', 'pupilCOM', 'xyz'])\n"
     ]
    }
   ],
   "source": [
    "#@title Data loading\n",
    "import numpy as np\n",
    "dat = np.load('stringer_spontaneous.npy', allow_pickle=True).item()\n",
    "print(dat.keys())"
   ]
  },
  {
   "cell_type": "code",
   "execution_count": 32,
   "metadata": {
    "id": "KGn2iJGmFpLC"
   },
   "outputs": [],
   "source": [
    "# functions \n",
    "\n",
    "def moving_avg(array, factor = 5):\n",
    "    \"\"\"Reducing the number of compontents by averaging of N = factor\n",
    "    subsequent elements of array\"\"\"\n",
    "    zeros_ = np.zeros((array.shape[0], 2))\n",
    "    array = np.hstack((array, zeros_))\n",
    "\n",
    "    array = np.reshape(array, (array.shape[0],  int(array.shape[1]/factor), factor))\n",
    "    array = np.mean(array, axis = 2)\n",
    "\n",
    "    return array"
   ]
  },
  {
   "cell_type": "markdown",
   "metadata": {
    "id": "ZdjYTZeV-yhR"
   },
   "source": [
    "## Extracting Data for RNN (or LFADS)\n",
    "The first problem to address is that for each layer we don't have the exact same number of neurons. We'd like to have a single RNN encoding all the different layers activities, to make it easier we can take the number of neurons ($N_{neurons} = 1131$ of the least represented class (layer) and level out each remaining class. "
   ]
  },
  {
   "cell_type": "code",
   "execution_count": 33,
   "metadata": {
    "id": "mEy_qiyKY1xG"
   },
   "outputs": [],
   "source": [
    "# Extract labels from z - coordinate\n",
    "from sklearn import preprocessing\n",
    "x, y, z = dat['xyz']\n",
    "\n",
    "le = preprocessing.LabelEncoder()\n",
    "labels = le.fit_transform(z)\n",
    "### least represented class (layer with less neurons)\n",
    "n_samples = np.histogram(labels, bins=9)[0][-1]"
   ]
  },
  {
   "cell_type": "code",
   "execution_count": 34,
   "metadata": {
    "id": "lb3M2PSOZpMW"
   },
   "outputs": [],
   "source": [
    "### Data for LFADS / RNN \n",
    "import pandas as pd \n",
    "dataSet = pd.DataFrame(dat[\"sresp\"])\n",
    "dataSet[\"label\"] = labels "
   ]
  },
  {
   "cell_type": "code",
   "execution_count": 35,
   "metadata": {
    "id": "fYThvxV-2Nl6"
   },
   "outputs": [],
   "source": [
    "# it can be done in one loop ... \n",
    "data_ = []\n",
    "for i in range(0, 9):\n",
    "    data_.append(dataSet[dataSet[\"label\"] == i].sample(n = n_samples).iloc[:,:-1].values)\n",
    "\n",
    "dataRNN = np.zeros((n_samples*9, dataSet.shape[1]-1))\n",
    "for i in range(0,9):\n",
    "    \n",
    "    # dataRNN[n_samples*i:n_samples*(i+1), :] = data_[i]\n",
    "    ## normalized by layer\n",
    "    dataRNN[n_samples*i:n_samples*(i+1), :] = data_[i]/np.mean(np.asarray(data_)[i,:,:], axis = 0)\n",
    "\n",
    "## shuffling for training purposes\n",
    "\n",
    "#np.random.shuffle(dataRNN)"
   ]
  },
  {
   "cell_type": "code",
   "execution_count": 36,
   "metadata": {
    "id": "3WAqcnCTrZAz"
   },
   "outputs": [],
   "source": [
    "#unshuffled = np.array(data_)"
   ]
  },
  {
   "cell_type": "code",
   "execution_count": 37,
   "metadata": {
    "cellView": "form",
    "id": "680ch36_-e0m"
   },
   "outputs": [],
   "source": [
    "#@title Convolutions code\n",
    "\n",
    "# convolution moving average\n",
    "\n",
    "# kernel_length = 50\n",
    "# averaging_kernel = np.ones(kernel_length) / kernel_length\n",
    "\n",
    "# dataRNN.shape\n",
    "\n",
    "# avgd_dataRNN = list()\n",
    "\n",
    "# for neuron in dataRNN:\n",
    "#   avgd_dataRNN.append(np.convolve(neuron, averaging_kernel))\n",
    "\n",
    "# avg_dataRNN = np.array(avgd_dataRNN)\n",
    "\n",
    "# print(avg_dataRNN.shape)"
   ]
  },
  {
   "cell_type": "code",
   "execution_count": 38,
   "metadata": {
    "cellView": "form",
    "id": "63S3144a31FI"
   },
   "outputs": [],
   "source": [
    "# @title Z Score Code \n",
    "\n",
    "\n",
    "# from scipy.stats import zscore\n",
    "\n",
    "\n",
    "# neuron = 500\n",
    "\n",
    "# scaled_all = zscore(avg_dataRNN)\n",
    "# scaled_per_neuron = zscore(avg_dataRNN[neuron, :])\n",
    "\n",
    "# scaled_per_layer = list()\n",
    "\n",
    "# for layer in unshuffled:\n",
    "#   scaled_per_layer.append(zscore(layer))\n",
    "\n",
    "# scaled_per_layer = np.array(scaled_per_layer)\n",
    "\n",
    "\n",
    "\n",
    "# plt.plot(avg_dataRNN[neuron, :])\n",
    "# plt.plot(avg_dataRNN[2500, :])\n",
    "# plt.figure()\n",
    "# plt.plot(dataRNN[neuron, :])\n",
    "# plt.figure()\n",
    "# plt.plot(scaled_all[neuron, :])\n",
    "# plt.plot(scaled_per_neuron)\n",
    "# plt.figure()\n",
    "# plt.plot(scaled_per_layer[0,neuron,:])\n"
   ]
  },
  {
   "cell_type": "code",
   "execution_count": 39,
   "metadata": {
    "id": "hE-4w_4V-Gzx"
   },
   "outputs": [],
   "source": [
    "# custom normalization\n",
    "\n",
    "normed_dataRNN = list()\n",
    "for neuron in dataRNN:\n",
    "    normed_dataRNN.append(neuron)# / neuron.mean())\n",
    "normed_dataRNN = np.array(normed_dataRNN)\n",
    "\n",
    "# downsampling and averaging \n",
    "#avgd_normed_dataRNN = dataRNN#\n",
    "avgd_normed_dataRNN = moving_avg(dataRNN, factor=2)"
   ]
  },
  {
   "cell_type": "code",
   "execution_count": 14,
   "metadata": {},
   "outputs": [
    {
     "data": {
      "text/plain": [
       "[<matplotlib.lines.Line2D at 0x7f17059627c0>]"
      ]
     },
     "execution_count": 14,
     "metadata": {},
     "output_type": "execute_result"
    },
    {
     "data": {
      "image/png": "[encoded data removed]",
      "text/plain": [
       "<Figure size 1440x288 with 1 Axes>"
      ]
     },
     "metadata": {
      "needs_background": "light"
     },
     "output_type": "display_data"
    }
   ],
   "source": [
    "plt.plot(avgd_normed_dataRNN[0,:])"
   ]
  },
  {
   "cell_type": "markdown",
   "metadata": {
    "id": "SeNxo6vsv1Oq"
   },
   "source": [
    "issue: does the individual scaling by layer introduce bias that may artificially increase performance of the network?"
   ]
  },
  {
   "cell_type": "markdown",
   "metadata": {
    "id": "0MrXC5QIiyhJ"
   },
   "source": [
    "## Data Loader \n"
   ]
  },
  {
   "cell_type": "code",
   "execution_count": 15,
   "metadata": {
    "id": "255tz5iqmSq1"
   },
   "outputs": [],
   "source": [
    "import torch\n",
    "import torch.nn as nn\n",
    "import torch.nn.functional as F"
   ]
  },
  {
   "cell_type": "code",
   "execution_count": 16,
   "metadata": {
    "id": "467WOHhtmXmb"
   },
   "outputs": [],
   "source": [
    "device = torch.device('cuda' if torch.cuda.is_available() else 'cpu')"
   ]
  },
  {
   "cell_type": "code",
   "execution_count": 17,
   "metadata": {
    "id": "Dcb5vW2joVW_"
   },
   "outputs": [],
   "source": [
    "# set the seed\n",
    "np.random.seed(42)\n",
    "\n",
    "# number of neurons \n",
    "NN = dataRNN.shape[0]"
   ]
  },
  {
   "cell_type": "code",
   "execution_count": 18,
   "metadata": {
    "colab": {
     "base_uri": "https://localhost:8080/"
    },
    "id": "bXJPQdu17Ns5",
    "outputId": "18b700ff-0126-458f-a300-7488e457013f"
   },
   "outputs": [
    {
     "data": {
      "text/plain": [
       "(10179, 3510)"
      ]
     },
     "execution_count": 18,
     "metadata": {},
     "output_type": "execute_result"
    }
   ],
   "source": [
    "# swapping the axes to maintain consistency with seq2seq notebook in the following code - the network takes all the neurons at a time step as input, not just one neuron\n",
    "\n",
    "# avgd_normed_dataRNN = np.swapaxes(avgd_normed_dataRNN, 0, 1)\n",
    "avgd_normed_dataRNN.shape"
   ]
  },
  {
   "cell_type": "code",
   "execution_count": 19,
   "metadata": {
    "id": "Prl0OxLZkka9"
   },
   "outputs": [],
   "source": [
    "frac = 4/5\n",
    "\n",
    "#x1 = torch.from_numpy(dataRNN[:,:int(frac*dataRNN.shape[1])]).to(device).float().unsqueeze(0)\n",
    "#x2 = torch.from_numpy(dataRNN[:,int(frac*dataRNN.shape[1]):]).to(device).float().unsqueeze(0)\n",
    "#x1 = torch.from_numpy(avgd_normed_dataRNN[:1131,:]).to(device).float().unsqueeze(2)\n",
    "#x2 = torch.from_numpy(avgd_normed_dataRNN[:1131,:]).to(device).float().unsqueeze(2)\n",
    "\n",
    "n_neurs = 1131\n",
    "# let's use n_neurs/10 latent components\n",
    "ncomp = int(n_neurs/10)\n",
    "\n",
    "x1_train = torch.from_numpy(avgd_normed_dataRNN[:n_neurs,:int(frac*avgd_normed_dataRNN.shape[1])]).to(device).float().unsqueeze(2)\n",
    "x2_train = torch.from_numpy(avgd_normed_dataRNN[:n_neurs,:int(frac*avgd_normed_dataRNN.shape[1])]).to(device).float().unsqueeze(2)\n",
    "\n",
    "x1_valid = torch.from_numpy(avgd_normed_dataRNN[:n_neurs,int(frac*avgd_normed_dataRNN.shape[1]):]).to(device).float().unsqueeze(2)\n",
    "x2_valid = torch.from_numpy(avgd_normed_dataRNN[:n_neurs,int(frac*avgd_normed_dataRNN.shape[1]):]).to(device).float().unsqueeze(2)\n",
    "\n",
    "NN1 = x1_train.shape[0]\n",
    "NN2 = x2_train.shape[0]\n"
   ]
  },
  {
   "cell_type": "code",
   "execution_count": 20,
   "metadata": {
    "id": "01IvhjPzk-Jw"
   },
   "outputs": [],
   "source": [
    "class Net(nn.Module):\n",
    "    def __init__(self, ncomp, NN1, NN2, num_layers = 1, n_comp = 50, dropout= 0,  bidi=True):\n",
    "        super(Net, self).__init__()\n",
    "\n",
    "        # play with some of the options in the RNN!\n",
    "        \n",
    "        self.rnn = nn.LSTM(NN1, ncomp, num_layers = num_layers, dropout = dropout,\n",
    "                         bidirectional = bidi)\n",
    "        \"\"\"\n",
    "        self.rnn = nn.RNN(NN1, ncomp, num_layers = 1, dropout = 0,\n",
    "                    bidirectional = bidi, nonlinearity = 'tanh')\n",
    "        self.rnn = nn.GRU(NN1, ncomp, num_layers = 1, dropout = 0,\n",
    "                         bidirectional = bidi)\n",
    "        \"\"\"\n",
    "        \n",
    "        self.mlp = nn.Sequential(\n",
    "                    nn.Linear(ncomp, ncomp*2),\n",
    "                    nn.Mish(),\n",
    "                    nn.Linear(ncomp*2, ncomp*2),\n",
    "                    nn.Mish(),\n",
    "                    nn.Dropout(0.25),\n",
    "                    nn.Linear(ncomp*2, ncomp), \n",
    "                    nn.Mish())\n",
    "        \n",
    "        self.fc = nn.Linear(ncomp, NN2)\n",
    "\n",
    "    def forward(self, x):\n",
    "        x = x.permute(1, 2, 0)\n",
    "        #print(x.shape)\n",
    "        # h_0 = torch.zeros(2, x.size()[1], self.ncomp).to(device)\n",
    "        \n",
    "        y, h_n = self.rnn(x)\n",
    "\n",
    "        #print(y.shape)\n",
    "        #print(h_n.shape)\n",
    "        if self.rnn.bidirectional:\n",
    "          # if the rnn is bidirectional, it concatenates the activations from the forward and backward pass\n",
    "          # we want to add them instead, so as to enforce the latents to match between the forward and backward pass\n",
    "            q = (y[:, :, :ncomp] + y[:, :, ncomp:])/2\n",
    "        else:\n",
    "            q = y\n",
    "        \n",
    "        q = self.mlp(q)\n",
    "\n",
    "        # the softplus function is just like a relu but it's smoothed out so we can't predict 0\n",
    "        # if we predict 0 and there was a spike, that's an instant Inf in the Poisson log-likelihood which leads to failure\n",
    "        #z = F.softplus(self.fc(q), 10)\n",
    "        #print(q.shape)\n",
    "        z = self.fc(q).permute(2, 0, 1)\n",
    "        # print(z.shape)\n",
    "        return z, q"
   ]
  },
  {
   "cell_type": "code",
   "execution_count": 21,
   "metadata": {},
   "outputs": [
    {
     "name": "stdout",
     "output_type": "stream",
     "text": [
      "{'method': 'random',\n",
      " 'metric': {'goal': 'minimize', 'name': 'loss'},\n",
      " 'parameters': {'dropout': {'values': [0.1, 0.2, 0.3, 0.5]},\n",
      "                'epochs': {'value': 4000},\n",
      "                'learning_rate': {'distribution': 'log_uniform',\n",
      "                                  'max': -5.3,\n",
      "                                  'min': -9.9},\n",
      "                'n_comp': {'values': [50, 75, 100, 125, 150]},\n",
      "                'num_layers': {'values': [1]},\n",
      "                'optimizer': {'values': ['adam']},\n",
      "                'weight_decay': {'values': [0.0, 1e-05, 5e-05, 1e-06]}}}\n"
     ]
    }
   ],
   "source": [
    "sweep_config = {\n",
    "    'method': 'random'\n",
    "    }\n",
    "\n",
    "metric = {\n",
    "    'name': 'loss',\n",
    "    'goal': 'minimize'   \n",
    "    }\n",
    "\n",
    "sweep_config['metric'] = metric\n",
    "\n",
    "parameters_dict = {\n",
    "    'optimizer': {\n",
    "        'values': ['adam']\n",
    "        },\n",
    "    'num_layers': {\n",
    "        'values': [1]\n",
    "        },\n",
    "    'n_comp': {\n",
    "        'values': [50, 75, 100, 125, 150]\n",
    "        },\n",
    "    \n",
    "    'dropout': {\n",
    "          'values': [0.1, 0.2, 0.3, 0.5]\n",
    "        },\n",
    "    'weight_decay': {\n",
    "          'values': [0., 1e-5, 5e-5, 1e-6]\n",
    "        },\n",
    "    }\n",
    "\n",
    "sweep_config['parameters'] = parameters_dict\n",
    "\n",
    "parameters_dict.update({\n",
    "    'epochs': {\n",
    "        'value': 4000}\n",
    "    })\n",
    "\n",
    "import math\n",
    "\n",
    "parameters_dict.update({\n",
    "    'learning_rate': {\n",
    "        # a flat distribution between 0 and 0.1\n",
    "        'distribution': 'log_uniform',\n",
    "        'min': -9.9,\n",
    "        'max': -5.3\n",
    "    },\n",
    "})\n",
    "\n",
    "import pprint\n",
    "\n",
    "pprint.pprint(sweep_config)"
   ]
  },
  {
   "cell_type": "code",
   "execution_count": 22,
   "metadata": {},
   "outputs": [
    {
     "name": "stdout",
     "output_type": "stream",
     "text": [
      "Create sweep with ID: 38qam6fd\n",
      "Sweep URL: https://wandb.ai/sazio/NMAs-Small-Hidden-Dims/sweeps/38qam6fd\n"
     ]
    }
   ],
   "source": [
    "sweep_id = wandb.sweep(sweep_config, project=\"NMAs-Small-Hidden-Dims\")"
   ]
  },
  {
   "cell_type": "code",
   "execution_count": 23,
   "metadata": {},
   "outputs": [],
   "source": [
    "# you can keep re-running this cell if you think the cost might decrease further\n",
    "cost = nn.MSELoss()\n",
    "\n",
    "# rnn_loss = 0.2372, lstm_loss = 0.2340, gru_lstm = 0.2370"
   ]
  },
  {
   "cell_type": "code",
   "execution_count": null,
   "metadata": {},
   "outputs": [],
   "source": []
  },
  {
   "cell_type": "markdown",
   "metadata": {
    "id": "2hlfx8Ltp5jJ"
   },
   "source": [
    "## Training "
   ]
  },
  {
   "cell_type": "code",
   "execution_count": 24,
   "metadata": {
    "id": "KjzD06B9ta3n"
   },
   "outputs": [],
   "source": [
    "from tqdm import tqdm"
   ]
  },
  {
   "cell_type": "code",
   "execution_count": 25,
   "metadata": {
    "scrolled": true
   },
   "outputs": [],
   "source": [
    "def build_optimizer(network, optimizer, learning_rate, weight_decay): \n",
    "    optimizer = torch.optim.Adam(network.parameters(),\n",
    "                               lr=learning_rate, weight_decay=weight_decay)\n",
    "    return optimizer\n",
    "\n",
    "def train(config=None):\n",
    "    # Initialize a new wandb run\n",
    "    with wandb.init(config=config):\n",
    "        # If called by wandb.agent, as below,\n",
    "        # this config will be set by Sweep Controller\n",
    "        config = wandb.config\n",
    "\n",
    "        # loader = build_dataset(config.batch_size)\n",
    "        # Net(ncomp, NN1, NN2, bidi = True).to(device)\n",
    "        network = Net(ncomp, NN1, NN2, config.num_layers, config.dropout).to(device)\n",
    "        optimizer = build_optimizer(network, config.optimizer, config.learning_rate, config.weight_decay)\n",
    "\n",
    "        for epoch in range(config.epochs):\n",
    "            # avg_loss = train_epoch(network, loader, optimizer)\n",
    "            network.train()\n",
    "            # the networkwork outputs the single-neuron prediction and the latents\n",
    "            z, y = network(x1_train)\n",
    "\n",
    "            # our cost\n",
    "            loss = cost(z, x2_train)\n",
    "\n",
    "            # train the networkwork as usual\n",
    "            loss.backward()\n",
    "            optimizer.step()\n",
    "            optimizer.zero_grad()\n",
    "            with torch.no_grad():\n",
    "                network.eval()\n",
    "                valid_loss = cost(network(x1_valid)[0], x2_valid)\n",
    "\n",
    "            if epoch % 50 == 0:\n",
    "                with torch.no_grad():\n",
    "                    network.eval()\n",
    "                    valid_loss = cost(network(x1_valid)[0], x2_valid)\n",
    "                    \n",
    "                    print(f' iteration {epoch}, train cost {loss.item():.4f}, valid cost {valid_loss.item():.4f}')\n",
    "            wandb.log({\"train_loss\": loss.item(), 'valid_loss': valid_loss.item(), \"epoch\": epoch})"
   ]
  },
  {
   "cell_type": "code",
   "execution_count": 26,
   "metadata": {
    "scrolled": true
   },
   "outputs": [
    {
     "name": "stderr",
     "output_type": "stream",
     "text": [
      "wandb: Agent Starting Run: l9b1er7s with config:\n",
      "wandb: \tdropout: 0.5\n",
      "wandb: \tepochs: 4000\n",
      "wandb: \tlearning_rate: 0.00010530036728221362\n",
      "wandb: \tn_comp: 100\n",
      "wandb: \tnum_layers: 1\n",
      "wandb: \toptimizer: adam\n",
      "wandb: \tweight_decay: 1e-06\n",
      "Failed to detect the name of this notebook, you can set it manually with the WANDB_NOTEBOOK_NAME environment variable to enable code saving.\n"
     ]
    },
    {
     "data": {
      "text/html": [
       "\n",
       "                Tracking run with wandb version 0.12.0<br/>\n",
       "                Syncing run <strong style=\"color:#cdcd00\">dandy-sweep-1</strong> to <a href=\"https://wandb.ai\" target=\"_blank\">Weights & Biases</a> <a href=\"https://docs.wandb.com/integrations/jupyter.html\" target=\"_blank\">(Documentation)</a>.<br/>\n",
       "                Project page: <a href=\"https://wandb.ai/sazio/NMAs-Small-Hidden-Dims\" target=\"_blank\">https://wandb.ai/sazio/NMAs-Small-Hidden-Dims</a><br/>\n",
       "                Sweep page: <a href=\"https://wandb.ai/sazio/NMAs-Small-Hidden-Dims/sweeps/38qam6fd\" target=\"_blank\">https://wandb.ai/sazio/NMAs-Small-Hidden-Dims/sweeps/38qam6fd</a><br/>\n",
       "Run page: <a href=\"https://wandb.ai/sazio/NMAs-Small-Hidden-Dims/runs/l9b1er7s\" target=\"_blank\">https://wandb.ai/sazio/NMAs-Small-Hidden-Dims/runs/l9b1er7s</a><br/>\n",
       "                Run data is saved locally in <code>/home/sazeglio/NMAs/src/wandb/run-20210814_165755-l9b1er7s</code><br/><br/>\n",
       "            "
      ],
      "text/plain": [
       "<IPython.core.display.HTML object>"
      ]
     },
     "metadata": {},
     "output_type": "display_data"
    },
    {
     "name": "stdout",
     "output_type": "stream",
     "text": [
      " iteration 0, train cost 3.7076, valid cost 3.8070\n",
      " iteration 50, train cost 3.1284, valid cost 3.1865\n",
      " iteration 100, train cost 2.2769, valid cost 2.3427\n",
      " iteration 150, train cost 2.1197, valid cost 2.1903\n",
      " iteration 200, train cost 2.0963, valid cost 2.1711\n",
      " iteration 250, train cost 2.0892, valid cost 2.1671\n",
      " iteration 300, train cost 2.0854, valid cost 2.1657\n",
      " iteration 350, train cost 2.0813, valid cost 2.1647\n",
      " iteration 400, train cost 2.0793, valid cost 2.1636\n",
      " iteration 450, train cost 2.0761, valid cost 2.1620\n",
      " iteration 500, train cost 2.0727, valid cost 2.1591\n",
      " iteration 550, train cost 2.0671, valid cost 2.1537\n",
      " iteration 600, train cost 2.0582, valid cost 2.1444\n",
      " iteration 650, train cost 2.0436, valid cost 2.1282\n",
      " iteration 700, train cost 2.0235, valid cost 2.1062\n",
      " iteration 750, train cost 2.0023, valid cost 2.0844\n",
      " iteration 800, train cost 1.9792, valid cost 2.0621\n",
      " iteration 850, train cost 1.9550, valid cost 2.0382\n",
      " iteration 900, train cost 1.9332, valid cost 2.0177\n",
      " iteration 950, train cost 1.9170, valid cost 2.0001\n",
      " iteration 1000, train cost 1.9015, valid cost 1.9818\n",
      " iteration 1050, train cost 1.8832, valid cost 1.9612\n",
      " iteration 1100, train cost 1.8638, valid cost 1.9403\n",
      " iteration 1150, train cost 1.8437, valid cost 1.9195\n",
      " iteration 1200, train cost 1.8252, valid cost 1.9007\n",
      " iteration 1250, train cost 1.8078, valid cost 1.8845\n",
      " iteration 1300, train cost 1.7923, valid cost 1.8706\n",
      " iteration 1350, train cost 1.7773, valid cost 1.8574\n",
      " iteration 1400, train cost 1.7622, valid cost 1.8452\n",
      " iteration 1450, train cost 1.7477, valid cost 1.8333\n",
      " iteration 1500, train cost 1.7331, valid cost 1.8218\n",
      " iteration 1550, train cost 1.7187, valid cost 1.8108\n",
      " iteration 1600, train cost 1.7042, valid cost 1.7999\n",
      " iteration 1650, train cost 1.6903, valid cost 1.7894\n",
      " iteration 1700, train cost 1.6771, valid cost 1.7783\n",
      " iteration 1750, train cost 1.6631, valid cost 1.7675\n",
      " iteration 1800, train cost 1.6511, valid cost 1.7572\n",
      " iteration 1850, train cost 1.6397, valid cost 1.7478\n",
      " iteration 1900, train cost 1.6278, valid cost 1.7387\n",
      " iteration 1950, train cost 1.6160, valid cost 1.7289\n",
      " iteration 2000, train cost 1.6042, valid cost 1.7186\n",
      " iteration 2050, train cost 1.5934, valid cost 1.7089\n",
      " iteration 2100, train cost 1.5826, valid cost 1.6998\n",
      " iteration 2150, train cost 1.5733, valid cost 1.6909\n",
      " iteration 2200, train cost 1.5627, valid cost 1.6825\n",
      " iteration 2250, train cost 1.5525, valid cost 1.6741\n",
      " iteration 2300, train cost 1.5429, valid cost 1.6659\n",
      " iteration 2350, train cost 1.5334, valid cost 1.6578\n",
      " iteration 2400, train cost 1.5236, valid cost 1.6496\n",
      " iteration 2450, train cost 1.5142, valid cost 1.6422\n",
      " iteration 2500, train cost 1.5054, valid cost 1.6339\n",
      " iteration 2550, train cost 1.4962, valid cost 1.6263\n",
      " iteration 2600, train cost 1.4883, valid cost 1.6190\n",
      " iteration 2650, train cost 1.4792, valid cost 1.6117\n",
      " iteration 2700, train cost 1.4719, valid cost 1.6049\n",
      " iteration 2750, train cost 1.4632, valid cost 1.5975\n",
      " iteration 2800, train cost 1.4554, valid cost 1.5906\n",
      " iteration 2850, train cost 1.4474, valid cost 1.5831\n",
      " iteration 2900, train cost 1.4389, valid cost 1.5761\n",
      " iteration 2950, train cost 1.4311, valid cost 1.5685\n",
      " iteration 3000, train cost 1.4235, valid cost 1.5612\n",
      " iteration 3050, train cost 1.4159, valid cost 1.5546\n",
      " iteration 3100, train cost 1.4080, valid cost 1.5482\n",
      " iteration 3150, train cost 1.4003, valid cost 1.5426\n",
      " iteration 3200, train cost 1.3949, valid cost 1.5366\n",
      " iteration 3250, train cost 1.3875, valid cost 1.5309\n",
      " iteration 3300, train cost 1.3814, valid cost 1.5262\n",
      " iteration 3350, train cost 1.3762, valid cost 1.5213\n",
      " iteration 3400, train cost 1.3692, valid cost 1.5166\n",
      " iteration 3450, train cost 1.3640, valid cost 1.5124\n",
      " iteration 3500, train cost 1.3602, valid cost 1.5084\n",
      " iteration 3550, train cost 1.3546, valid cost 1.5046\n",
      " iteration 3600, train cost 1.3492, valid cost 1.5008\n",
      " iteration 3650, train cost 1.3447, valid cost 1.4975\n",
      " iteration 3700, train cost 1.3402, valid cost 1.4938\n",
      " iteration 3750, train cost 1.3355, valid cost 1.4904\n",
      " iteration 3800, train cost 1.3314, valid cost 1.4870\n",
      " iteration 3850, train cost 1.3269, valid cost 1.4837\n",
      " iteration 3900, train cost 1.3224, valid cost 1.4803\n",
      " iteration 3950, train cost 1.3177, valid cost 1.4766\n"
     ]
    },
    {
     "data": {
      "text/html": [
       "<br/>Waiting for W&B process to finish, PID 180919<br/>Program ended successfully."
      ],
      "text/plain": [
       "<IPython.core.display.HTML object>"
      ]
     },
     "metadata": {},
     "output_type": "display_data"
    },
    {
     "name": "stderr",
     "output_type": "stream",
     "text": [
      "Widget Javascript not detected.  It may not be installed or enabled properly.\n"
     ]
    },
    {
     "data": {
      "application/vnd.jupyter.widget-view+json": {
       "model_id": "90edc40e8fd74d50b4a3b8e143a6a0c2"
      }
     },
     "metadata": {},
     "output_type": "display_data"
    },
    {
     "data": {
      "text/html": [
       "Find user logs for this run at: <code>/home/sazeglio/NMAs/src/wandb/run-20210814_165755-l9b1er7s/logs/debug.log</code>"
      ],
      "text/plain": [
       "<IPython.core.display.HTML object>"
      ]
     },
     "metadata": {},
     "output_type": "display_data"
    },
    {
     "data": {
      "text/html": [
       "Find internal logs for this run at: <code>/home/sazeglio/NMAs/src/wandb/run-20210814_165755-l9b1er7s/logs/debug-internal.log</code>"
      ],
      "text/plain": [
       "<IPython.core.display.HTML object>"
      ]
     },
     "metadata": {},
     "output_type": "display_data"
    },
    {
     "data": {
      "text/html": [
       "<h3>Run summary:</h3><br/><style>\n",
       "    table.wandb td:nth-child(1) { padding: 0 10px; text-align: right }\n",
       "    </style><table class=\"wandb\">\n",
       "<tr><td>train_loss</td><td>1.31332</td></tr><tr><td>valid_loss</td><td>1.47378</td></tr><tr><td>epoch</td><td>3999</td></tr><tr><td>_runtime</td><td>285</td></tr><tr><td>_timestamp</td><td>1628953360</td></tr><tr><td>_step</td><td>3999</td></tr></table>"
      ],
      "text/plain": [
       "<IPython.core.display.HTML object>"
      ]
     },
     "metadata": {},
     "output_type": "display_data"
    },
    {
     "data": {
      "text/html": [
       "<h3>Run history:</h3><br/><style>\n",
       "    table.wandb td:nth-child(1) { padding: 0 10px; text-align: right }\n",
       "    </style><table class=\"wandb\">\n",
       "<tr><td>train_loss</td><td>█▄▃▃▃▃▃▃▃▃▃▃▃▂▂▂▂▂▂▂▂▂▂▂▂▂▂▁▁▁▁▁▁▁▁▁▁▁▁▁</td></tr><tr><td>valid_loss</td><td>█▃▃▃▃▃▃▃▃▃▃▂▂▂▂▂▂▂▂▂▂▂▂▂▂▁▁▁▁▁▁▁▁▁▁▁▁▁▁▁</td></tr><tr><td>epoch</td><td>▁▁▁▂▂▂▂▂▂▃▃▃▃▃▄▄▄▄▄▄▅▅▅▅▅▅▆▆▆▆▆▇▇▇▇▇▇███</td></tr><tr><td>_runtime</td><td>▁▁▁▂▂▂▂▂▂▃▃▃▃▃▄▄▄▄▄▄▅▅▅▅▅▆▆▆▆▆▆▇▇▇▇▇▇███</td></tr><tr><td>_timestamp</td><td>▁▁▁▂▂▂▂▂▂▃▃▃▃▃▄▄▄▄▄▄▅▅▅▅▅▆▆▆▆▆▆▇▇▇▇▇▇███</td></tr><tr><td>_step</td><td>▁▁▁▂▂▂▂▂▂▃▃▃▃▃▄▄▄▄▄▄▅▅▅▅▅▅▆▆▆▆▆▇▇▇▇▇▇███</td></tr></table><br/>"
      ],
      "text/plain": [
       "<IPython.core.display.HTML object>"
      ]
     },
     "metadata": {},
     "output_type": "display_data"
    },
    {
     "data": {
      "text/html": [
       "Synced 5 W&B file(s), 0 media file(s), 0 artifact file(s) and 0 other file(s)"
      ],
      "text/plain": [
       "<IPython.core.display.HTML object>"
      ]
     },
     "metadata": {},
     "output_type": "display_data"
    },
    {
     "data": {
      "text/html": [
       "\n",
       "                    <br/>Synced <strong style=\"color:#cdcd00\">dandy-sweep-1</strong>: <a href=\"https://wandb.ai/sazio/NMAs-Small-Hidden-Dims/runs/l9b1er7s\" target=\"_blank\">https://wandb.ai/sazio/NMAs-Small-Hidden-Dims/runs/l9b1er7s</a><br/>\n",
       "                "
      ],
      "text/plain": [
       "<IPython.core.display.HTML object>"
      ]
     },
     "metadata": {},
     "output_type": "display_data"
    },
    {
     "name": "stderr",
     "output_type": "stream",
     "text": [
      "wandb: Agent Starting Run: 1nabwzeg with config:\n",
      "wandb: \tdropout: 0.1\n",
      "wandb: \tepochs: 4000\n",
      "wandb: \tlearning_rate: 9.557916390575377e-05\n",
      "wandb: \tn_comp: 75\n",
      "wandb: \tnum_layers: 1\n",
      "wandb: \toptimizer: adam\n",
      "wandb: \tweight_decay: 1e-06\n",
      "Failed to detect the name of this notebook, you can set it manually with the WANDB_NOTEBOOK_NAME environment variable to enable code saving.\n"
     ]
    },
    {
     "data": {
      "text/html": [
       "\n",
       "                Tracking run with wandb version 0.12.0<br/>\n",
       "                Syncing run <strong style=\"color:#cdcd00\">restful-sweep-2</strong> to <a href=\"https://wandb.ai\" target=\"_blank\">Weights & Biases</a> <a href=\"https://docs.wandb.com/integrations/jupyter.html\" target=\"_blank\">(Documentation)</a>.<br/>\n",
       "                Project page: <a href=\"https://wandb.ai/sazio/NMAs-Small-Hidden-Dims\" target=\"_blank\">https://wandb.ai/sazio/NMAs-Small-Hidden-Dims</a><br/>\n",
       "                Sweep page: <a href=\"https://wandb.ai/sazio/NMAs-Small-Hidden-Dims/sweeps/38qam6fd\" target=\"_blank\">https://wandb.ai/sazio/NMAs-Small-Hidden-Dims/sweeps/38qam6fd</a><br/>\n",
       "Run page: <a href=\"https://wandb.ai/sazio/NMAs-Small-Hidden-Dims/runs/1nabwzeg\" target=\"_blank\">https://wandb.ai/sazio/NMAs-Small-Hidden-Dims/runs/1nabwzeg</a><br/>\n",
       "                Run data is saved locally in <code>/home/sazeglio/NMAs/src/wandb/run-20210814_170244-1nabwzeg</code><br/><br/>\n",
       "            "
      ],
      "text/plain": [
       "<IPython.core.display.HTML object>"
      ]
     },
     "metadata": {},
     "output_type": "display_data"
    },
    {
     "name": "stdout",
     "output_type": "stream",
     "text": [
      " iteration 0, train cost 3.7097, valid cost 3.8090\n",
      " iteration 50, train cost 3.1941, valid cost 3.2635\n",
      " iteration 100, train cost 2.3652, valid cost 2.4428\n",
      " iteration 150, train cost 2.1432, valid cost 2.2237\n",
      " iteration 200, train cost 2.1019, valid cost 2.1821\n",
      " iteration 250, train cost 2.0913, valid cost 2.1720\n",
      " iteration 300, train cost 2.0868, valid cost 2.1685\n",
      " iteration 350, train cost 2.0838, valid cost 2.1668\n",
      " iteration 400, train cost 2.0815, valid cost 2.1658\n",
      " iteration 450, train cost 2.0793, valid cost 2.1649\n",
      " iteration 500, train cost 2.0779, valid cost 2.1640\n",
      " iteration 550, train cost 2.0756, valid cost 2.1627\n",
      " iteration 600, train cost 2.0737, valid cost 2.1607\n",
      " iteration 650, train cost 2.0700, valid cost 2.1572\n",
      " iteration 700, train cost 2.0638, valid cost 2.1508\n",
      " iteration 750, train cost 2.0536, valid cost 2.1392\n",
      " iteration 800, train cost 2.0361, valid cost 2.1195\n",
      " iteration 850, train cost 2.0110, valid cost 2.0914\n",
      " iteration 900, train cost 1.9797, valid cost 2.0572\n",
      " iteration 950, train cost 1.9505, valid cost 2.0257\n",
      " iteration 1000, train cost 1.9311, valid cost 2.0062\n",
      " iteration 1050, train cost 1.9191, valid cost 1.9944\n",
      " iteration 1100, train cost 1.9092, valid cost 1.9855\n",
      " iteration 1150, train cost 1.8990, valid cost 1.9753\n",
      " iteration 1200, train cost 1.8846, valid cost 1.9618\n",
      " iteration 1250, train cost 1.8664, valid cost 1.9441\n",
      " iteration 1300, train cost 1.8420, valid cost 1.9212\n",
      " iteration 1350, train cost 1.8160, valid cost 1.8961\n",
      " iteration 1400, train cost 1.7932, valid cost 1.8742\n",
      " iteration 1450, train cost 1.7742, valid cost 1.8565\n",
      " iteration 1500, train cost 1.7585, valid cost 1.8424\n",
      " iteration 1550, train cost 1.7445, valid cost 1.8307\n",
      " iteration 1600, train cost 1.7315, valid cost 1.8199\n",
      " iteration 1650, train cost 1.7199, valid cost 1.8100\n",
      " iteration 1700, train cost 1.7078, valid cost 1.8003\n",
      " iteration 1750, train cost 1.6962, valid cost 1.7905\n",
      " iteration 1800, train cost 1.6836, valid cost 1.7807\n",
      " iteration 1850, train cost 1.6713, valid cost 1.7711\n",
      " iteration 1900, train cost 1.6604, valid cost 1.7617\n",
      " iteration 1950, train cost 1.6485, valid cost 1.7528\n",
      " iteration 2000, train cost 1.6381, valid cost 1.7438\n",
      " iteration 2050, train cost 1.6260, valid cost 1.7341\n",
      " iteration 2100, train cost 1.6138, valid cost 1.7237\n",
      " iteration 2150, train cost 1.6024, valid cost 1.7137\n",
      " iteration 2200, train cost 1.5899, valid cost 1.7041\n",
      " iteration 2250, train cost 1.5789, valid cost 1.6950\n",
      " iteration 2300, train cost 1.5693, valid cost 1.6864\n",
      " iteration 2350, train cost 1.5599, valid cost 1.6782\n",
      " iteration 2400, train cost 1.5506, valid cost 1.6706\n",
      " iteration 2450, train cost 1.5415, valid cost 1.6630\n",
      " iteration 2500, train cost 1.5332, valid cost 1.6556\n",
      " iteration 2550, train cost 1.5235, valid cost 1.6482\n",
      " iteration 2600, train cost 1.5152, valid cost 1.6407\n",
      " iteration 2650, train cost 1.5073, valid cost 1.6331\n",
      " iteration 2700, train cost 1.4985, valid cost 1.6256\n",
      " iteration 2750, train cost 1.4906, valid cost 1.6176\n",
      " iteration 2800, train cost 1.4818, valid cost 1.6101\n",
      " iteration 2850, train cost 1.4739, valid cost 1.6026\n",
      " iteration 2900, train cost 1.4663, valid cost 1.5952\n",
      " iteration 2950, train cost 1.4590, valid cost 1.5877\n",
      " iteration 3000, train cost 1.4522, valid cost 1.5812\n",
      " iteration 3050, train cost 1.4443, valid cost 1.5748\n",
      " iteration 3100, train cost 1.4390, valid cost 1.5685\n",
      " iteration 3150, train cost 1.4319, valid cost 1.5627\n",
      " iteration 3200, train cost 1.4260, valid cost 1.5567\n",
      " iteration 3250, train cost 1.4194, valid cost 1.5509\n",
      " iteration 3300, train cost 1.4132, valid cost 1.5449\n",
      " iteration 3350, train cost 1.4064, valid cost 1.5394\n",
      " iteration 3400, train cost 1.3996, valid cost 1.5334\n",
      " iteration 3450, train cost 1.3943, valid cost 1.5281\n",
      " iteration 3500, train cost 1.3882, valid cost 1.5224\n",
      " iteration 3550, train cost 1.3818, valid cost 1.5168\n",
      " iteration 3600, train cost 1.3762, valid cost 1.5118\n",
      " iteration 3650, train cost 1.3703, valid cost 1.5068\n",
      " iteration 3700, train cost 1.3637, valid cost 1.5020\n",
      " iteration 3750, train cost 1.3592, valid cost 1.4975\n",
      " iteration 3800, train cost 1.3562, valid cost 1.4935\n",
      " iteration 3850, train cost 1.3495, valid cost 1.4894\n",
      " iteration 3900, train cost 1.3447, valid cost 1.4861\n",
      " iteration 3950, train cost 1.3422, valid cost 1.4822\n"
     ]
    },
    {
     "data": {
      "text/html": [
       "<br/>Waiting for W&B process to finish, PID 181069<br/>Program ended successfully."
      ],
      "text/plain": [
       "<IPython.core.display.HTML object>"
      ]
     },
     "metadata": {},
     "output_type": "display_data"
    },
    {
     "name": "stderr",
     "output_type": "stream",
     "text": [
      "Widget Javascript not detected.  It may not be installed or enabled properly.\n"
     ]
    },
    {
     "data": {
      "application/vnd.jupyter.widget-view+json": {
       "model_id": "20cee75282da485e9258575af02dfd96"
      }
     },
     "metadata": {},
     "output_type": "display_data"
    },
    {
     "data": {
      "text/html": [
       "Find user logs for this run at: <code>/home/sazeglio/NMAs/src/wandb/run-20210814_170244-1nabwzeg/logs/debug.log</code>"
      ],
      "text/plain": [
       "<IPython.core.display.HTML object>"
      ]
     },
     "metadata": {},
     "output_type": "display_data"
    },
    {
     "data": {
      "text/html": [
       "Find internal logs for this run at: <code>/home/sazeglio/NMAs/src/wandb/run-20210814_170244-1nabwzeg/logs/debug-internal.log</code>"
      ],
      "text/plain": [
       "<IPython.core.display.HTML object>"
      ]
     },
     "metadata": {},
     "output_type": "display_data"
    },
    {
     "data": {
      "text/html": [
       "<h3>Run summary:</h3><br/><style>\n",
       "    table.wandb td:nth-child(1) { padding: 0 10px; text-align: right }\n",
       "    </style><table class=\"wandb\">\n",
       "<tr><td>train_loss</td><td>1.33606</td></tr><tr><td>valid_loss</td><td>1.47886</td></tr><tr><td>epoch</td><td>3999</td></tr><tr><td>_runtime</td><td>284</td></tr><tr><td>_timestamp</td><td>1628953648</td></tr><tr><td>_step</td><td>3999</td></tr></table>"
      ],
      "text/plain": [
       "<IPython.core.display.HTML object>"
      ]
     },
     "metadata": {},
     "output_type": "display_data"
    },
    {
     "data": {
      "text/html": [
       "<h3>Run history:</h3><br/><style>\n",
       "    table.wandb td:nth-child(1) { padding: 0 10px; text-align: right }\n",
       "    </style><table class=\"wandb\">\n",
       "<tr><td>train_loss</td><td>█▄▃▃▃▃▃▃▃▃▃▃▃▂▂▂▂▂▂▂▂▂▂▂▂▂▂▁▁▁▁▁▁▁▁▁▁▁▁▁</td></tr><tr><td>valid_loss</td><td>█▄▃▃▃▃▃▃▃▃▃▃▂▂▂▂▂▂▂▂▂▂▂▂▂▂▁▁▁▁▁▁▁▁▁▁▁▁▁▁</td></tr><tr><td>epoch</td><td>▁▁▁▂▂▂▂▂▂▃▃▃▃▃▄▄▄▄▄▄▅▅▅▅▅▅▆▆▆▆▆▇▇▇▇▇▇███</td></tr><tr><td>_runtime</td><td>▁▁▁▂▂▂▂▂▂▃▃▃▃▃▄▄▄▄▄▄▅▅▅▅▅▆▆▆▆▆▆▇▇▇▇▇▇███</td></tr><tr><td>_timestamp</td><td>▁▁▁▂▂▂▂▂▂▃▃▃▃▃▄▄▄▄▄▄▅▅▅▅▅▆▆▆▆▆▆▇▇▇▇▇▇███</td></tr><tr><td>_step</td><td>▁▁▁▂▂▂▂▂▂▃▃▃▃▃▄▄▄▄▄▄▅▅▅▅▅▅▆▆▆▆▆▇▇▇▇▇▇███</td></tr></table><br/>"
      ],
      "text/plain": [
       "<IPython.core.display.HTML object>"
      ]
     },
     "metadata": {},
     "output_type": "display_data"
    },
    {
     "data": {
      "text/html": [
       "Synced 5 W&B file(s), 0 media file(s), 0 artifact file(s) and 0 other file(s)"
      ],
      "text/plain": [
       "<IPython.core.display.HTML object>"
      ]
     },
     "metadata": {},
     "output_type": "display_data"
    },
    {
     "data": {
      "text/html": [
       "\n",
       "                    <br/>Synced <strong style=\"color:#cdcd00\">restful-sweep-2</strong>: <a href=\"https://wandb.ai/sazio/NMAs-Small-Hidden-Dims/runs/1nabwzeg\" target=\"_blank\">https://wandb.ai/sazio/NMAs-Small-Hidden-Dims/runs/1nabwzeg</a><br/>\n",
       "                "
      ],
      "text/plain": [
       "<IPython.core.display.HTML object>"
      ]
     },
     "metadata": {},
     "output_type": "display_data"
    },
    {
     "name": "stderr",
     "output_type": "stream",
     "text": [
      "wandb: Agent Starting Run: 8w1cfu59 with config:\n",
      "wandb: \tdropout: 0.2\n",
      "wandb: \tepochs: 4000\n",
      "wandb: \tlearning_rate: 0.0024614033588095108\n",
      "wandb: \tn_comp: 50\n",
      "wandb: \tnum_layers: 1\n",
      "wandb: \toptimizer: adam\n",
      "wandb: \tweight_decay: 5e-05\n",
      "Failed to detect the name of this notebook, you can set it manually with the WANDB_NOTEBOOK_NAME environment variable to enable code saving.\n"
     ]
    },
    {
     "data": {
      "text/html": [
       "\n",
       "                Tracking run with wandb version 0.12.0<br/>\n",
       "                Syncing run <strong style=\"color:#cdcd00\">balmy-sweep-3</strong> to <a href=\"https://wandb.ai\" target=\"_blank\">Weights & Biases</a> <a href=\"https://docs.wandb.com/integrations/jupyter.html\" target=\"_blank\">(Documentation)</a>.<br/>\n",
       "                Project page: <a href=\"https://wandb.ai/sazio/NMAs-Small-Hidden-Dims\" target=\"_blank\">https://wandb.ai/sazio/NMAs-Small-Hidden-Dims</a><br/>\n",
       "                Sweep page: <a href=\"https://wandb.ai/sazio/NMAs-Small-Hidden-Dims/sweeps/38qam6fd\" target=\"_blank\">https://wandb.ai/sazio/NMAs-Small-Hidden-Dims/sweeps/38qam6fd</a><br/>\n",
       "Run page: <a href=\"https://wandb.ai/sazio/NMAs-Small-Hidden-Dims/runs/8w1cfu59\" target=\"_blank\">https://wandb.ai/sazio/NMAs-Small-Hidden-Dims/runs/8w1cfu59</a><br/>\n",
       "                Run data is saved locally in <code>/home/sazeglio/NMAs/src/wandb/run-20210814_170733-8w1cfu59</code><br/><br/>\n",
       "            "
      ],
      "text/plain": [
       "<IPython.core.display.HTML object>"
      ]
     },
     "metadata": {},
     "output_type": "display_data"
    },
    {
     "name": "stdout",
     "output_type": "stream",
     "text": [
      " iteration 0, train cost 3.6907, valid cost 3.7569\n",
      " iteration 50, train cost 2.0749, valid cost 2.1670\n",
      " iteration 100, train cost 2.0448, valid cost 2.1338\n",
      " iteration 150, train cost 1.8896, valid cost 1.9693\n",
      " iteration 200, train cost 1.7907, valid cost 1.8677\n",
      " iteration 250, train cost 1.7131, valid cost 1.8030\n",
      " iteration 300, train cost 1.6900, valid cost 1.7801\n",
      " iteration 350, train cost 1.6193, valid cost 1.7355\n",
      " iteration 400, train cost 1.5728, valid cost 1.7013\n",
      " iteration 450, train cost 1.5396, valid cost 1.6930\n",
      " iteration 500, train cost 1.5027, valid cost 1.6386\n",
      " iteration 550, train cost 1.5125, valid cost 1.6381\n",
      " iteration 600, train cost 1.4407, valid cost 1.5952\n",
      " iteration 650, train cost 1.4116, valid cost 1.5746\n",
      " iteration 700, train cost 1.3976, valid cost 1.5621\n",
      " iteration 750, train cost 1.3745, valid cost 1.5495\n",
      " iteration 800, train cost 1.3518, valid cost 1.5358\n",
      " iteration 850, train cost 1.3311, valid cost 1.5224\n",
      " iteration 900, train cost 1.3410, valid cost 1.5179\n",
      " iteration 950, train cost 1.3002, valid cost 1.5002\n",
      " iteration 1000, train cost 1.3010, valid cost 1.5063\n",
      " iteration 1050, train cost 1.2800, valid cost 1.4819\n",
      " iteration 1100, train cost 1.2805, valid cost 1.4975\n",
      " iteration 1150, train cost 1.2602, valid cost 1.4676\n",
      " iteration 1200, train cost 1.2480, valid cost 1.4552\n",
      " iteration 1250, train cost 1.2315, valid cost 1.4416\n",
      " iteration 1300, train cost 1.2559, valid cost 1.4574\n",
      " iteration 1350, train cost 1.2219, valid cost 1.4353\n",
      " iteration 1400, train cost 1.2068, valid cost 1.4204\n",
      " iteration 1450, train cost 1.2013, valid cost 1.4142\n",
      " iteration 1500, train cost 1.1970, valid cost 1.4121\n",
      " iteration 1550, train cost 1.2776, valid cost 1.4688\n",
      " iteration 1600, train cost 1.1802, valid cost 1.3979\n",
      " iteration 1650, train cost 1.1774, valid cost 1.3953\n",
      " iteration 1700, train cost 1.1702, valid cost 1.3878\n",
      " iteration 1750, train cost 1.2081, valid cost 1.4133\n",
      " iteration 1800, train cost 1.1598, valid cost 1.3784\n",
      " iteration 1850, train cost 1.1664, valid cost 1.3996\n",
      " iteration 1900, train cost 1.1499, valid cost 1.3712\n",
      " iteration 1950, train cost 1.2234, valid cost 1.4406\n",
      " iteration 2000, train cost 1.1434, valid cost 1.3612\n",
      " iteration 2050, train cost 1.1384, valid cost 1.3584\n",
      " iteration 2100, train cost 1.1339, valid cost 1.3569\n",
      " iteration 2150, train cost 1.1289, valid cost 1.3518\n",
      " iteration 2200, train cost 1.1308, valid cost 1.3479\n",
      " iteration 2250, train cost 1.1487, valid cost 1.3591\n",
      " iteration 2300, train cost 1.1246, valid cost 1.3433\n",
      " iteration 2350, train cost 1.1176, valid cost 1.3393\n",
      " iteration 2400, train cost 1.1148, valid cost 1.3381\n",
      " iteration 2450, train cost 1.1111, valid cost 1.3352\n",
      " iteration 2500, train cost 1.1060, valid cost 1.3340\n",
      " iteration 2550, train cost 1.1032, valid cost 1.3288\n",
      " iteration 2600, train cost 1.1017, valid cost 1.3246\n",
      " iteration 2650, train cost 1.0909, valid cost 1.3200\n",
      " iteration 2700, train cost 1.0909, valid cost 1.3137\n",
      " iteration 2750, train cost 1.0909, valid cost 1.3113\n",
      " iteration 2800, train cost 1.0852, valid cost 1.3097\n",
      " iteration 2850, train cost 1.0817, valid cost 1.3023\n",
      " iteration 2900, train cost 1.0839, valid cost 1.3018\n",
      " iteration 2950, train cost 1.0794, valid cost 1.2993\n",
      " iteration 3000, train cost 1.0759, valid cost 1.2930\n",
      " iteration 3050, train cost 1.0734, valid cost 1.2924\n",
      " iteration 3100, train cost 1.0695, valid cost 1.2869\n",
      " iteration 3150, train cost 1.0705, valid cost 1.2854\n",
      " iteration 3200, train cost 1.0702, valid cost 1.2820\n",
      " iteration 3250, train cost 1.0625, valid cost 1.2759\n",
      " iteration 3300, train cost 1.0703, valid cost 1.2816\n",
      " iteration 3350, train cost 1.0636, valid cost 1.2760\n",
      " iteration 3400, train cost 1.0604, valid cost 1.2710\n",
      " iteration 3450, train cost 1.0574, valid cost 1.2694\n",
      " iteration 3500, train cost 1.0570, valid cost 1.2675\n",
      " iteration 3550, train cost 1.0533, valid cost 1.2647\n",
      " iteration 3600, train cost 1.0513, valid cost 1.2634\n",
      " iteration 3650, train cost 1.0508, valid cost 1.2615\n",
      " iteration 3700, train cost 1.0468, valid cost 1.2587\n",
      " iteration 3750, train cost 1.0995, valid cost 1.2885\n",
      " iteration 3800, train cost 1.0530, valid cost 1.2630\n",
      " iteration 3850, train cost 1.0478, valid cost 1.2539\n",
      " iteration 3900, train cost 1.0449, valid cost 1.2530\n",
      " iteration 3950, train cost 1.0447, valid cost 1.2521\n"
     ]
    },
    {
     "data": {
      "text/html": [
       "<br/>Waiting for W&B process to finish, PID 181157<br/>Program ended successfully."
      ],
      "text/plain": [
       "<IPython.core.display.HTML object>"
      ]
     },
     "metadata": {},
     "output_type": "display_data"
    },
    {
     "name": "stderr",
     "output_type": "stream",
     "text": [
      "Widget Javascript not detected.  It may not be installed or enabled properly.\n"
     ]
    },
    {
     "data": {
      "application/vnd.jupyter.widget-view+json": {
       "model_id": "2f69ff206b2e4f66b5b02ff0e4551b09"
      }
     },
     "metadata": {},
     "output_type": "display_data"
    },
    {
     "data": {
      "text/html": [
       "Find user logs for this run at: <code>/home/sazeglio/NMAs/src/wandb/run-20210814_170733-8w1cfu59/logs/debug.log</code>"
      ],
      "text/plain": [
       "<IPython.core.display.HTML object>"
      ]
     },
     "metadata": {},
     "output_type": "display_data"
    },
    {
     "data": {
      "text/html": [
       "Find internal logs for this run at: <code>/home/sazeglio/NMAs/src/wandb/run-20210814_170733-8w1cfu59/logs/debug-internal.log</code>"
      ],
      "text/plain": [
       "<IPython.core.display.HTML object>"
      ]
     },
     "metadata": {},
     "output_type": "display_data"
    },
    {
     "data": {
      "text/html": [
       "<h3>Run summary:</h3><br/><style>\n",
       "    table.wandb td:nth-child(1) { padding: 0 10px; text-align: right }\n",
       "    </style><table class=\"wandb\">\n",
       "<tr><td>train_loss</td><td>1.06479</td></tr><tr><td>valid_loss</td><td>1.27439</td></tr><tr><td>epoch</td><td>3999</td></tr><tr><td>_runtime</td><td>282</td></tr><tr><td>_timestamp</td><td>1628953935</td></tr><tr><td>_step</td><td>3999</td></tr></table>"
      ],
      "text/plain": [
       "<IPython.core.display.HTML object>"
      ]
     },
     "metadata": {},
     "output_type": "display_data"
    },
    {
     "data": {
      "text/html": [
       "<h3>Run history:</h3><br/><style>\n",
       "    table.wandb td:nth-child(1) { padding: 0 10px; text-align: right }\n",
       "    </style><table class=\"wandb\">\n",
       "<tr><td>train_loss</td><td>█▇▆▅▄▄▄▃▃▃▃▂▂▂▂▂▂▂▂▂▂▂▂▁▁▁▁▁▁▁▁▁▁▁▁▁▁▁▁▁</td></tr><tr><td>valid_loss</td><td>█▇▅▅▄▄▃▃▃▃▃▃▂▂▂▂▂▂▂▂▂▂▂▂▂▂▂▁▁▁▁▁▁▁▁▁▁▁▁▁</td></tr><tr><td>epoch</td><td>▁▁▁▂▂▂▂▂▂▃▃▃▃▃▄▄▄▄▄▄▅▅▅▅▅▅▆▆▆▆▆▇▇▇▇▇▇███</td></tr><tr><td>_runtime</td><td>▁▁▁▂▂▂▂▂▂▃▃▃▃▃▄▄▄▄▄▄▅▅▅▅▅▅▆▆▆▆▆▇▇▇▇▇▇███</td></tr><tr><td>_timestamp</td><td>▁▁▁▂▂▂▂▂▂▃▃▃▃▃▄▄▄▄▄▄▅▅▅▅▅▅▆▆▆▆▆▇▇▇▇▇▇███</td></tr><tr><td>_step</td><td>▁▁▁▂▂▂▂▂▂▃▃▃▃▃▄▄▄▄▄▄▅▅▅▅▅▅▆▆▆▆▆▇▇▇▇▇▇███</td></tr></table><br/>"
      ],
      "text/plain": [
       "<IPython.core.display.HTML object>"
      ]
     },
     "metadata": {},
     "output_type": "display_data"
    },
    {
     "data": {
      "text/html": [
       "Synced 5 W&B file(s), 0 media file(s), 0 artifact file(s) and 0 other file(s)"
      ],
      "text/plain": [
       "<IPython.core.display.HTML object>"
      ]
     },
     "metadata": {},
     "output_type": "display_data"
    },
    {
     "data": {
      "text/html": [
       "\n",
       "                    <br/>Synced <strong style=\"color:#cdcd00\">balmy-sweep-3</strong>: <a href=\"https://wandb.ai/sazio/NMAs-Small-Hidden-Dims/runs/8w1cfu59\" target=\"_blank\">https://wandb.ai/sazio/NMAs-Small-Hidden-Dims/runs/8w1cfu59</a><br/>\n",
       "                "
      ],
      "text/plain": [
       "<IPython.core.display.HTML object>"
      ]
     },
     "metadata": {},
     "output_type": "display_data"
    },
    {
     "name": "stderr",
     "output_type": "stream",
     "text": [
      "wandb: Agent Starting Run: atcx8d6u with config:\n",
      "wandb: \tdropout: 0.1\n",
      "wandb: \tepochs: 4000\n",
      "wandb: \tlearning_rate: 0.0001436799026607388\n",
      "wandb: \tn_comp: 100\n",
      "wandb: \tnum_layers: 1\n",
      "wandb: \toptimizer: adam\n",
      "wandb: \tweight_decay: 1e-06\n",
      "Failed to detect the name of this notebook, you can set it manually with the WANDB_NOTEBOOK_NAME environment variable to enable code saving.\n"
     ]
    },
    {
     "data": {
      "text/html": [
       "\n",
       "                Tracking run with wandb version 0.12.0<br/>\n",
       "                Syncing run <strong style=\"color:#cdcd00\">daily-sweep-4</strong> to <a href=\"https://wandb.ai\" target=\"_blank\">Weights & Biases</a> <a href=\"https://docs.wandb.com/integrations/jupyter.html\" target=\"_blank\">(Documentation)</a>.<br/>\n",
       "                Project page: <a href=\"https://wandb.ai/sazio/NMAs-Small-Hidden-Dims\" target=\"_blank\">https://wandb.ai/sazio/NMAs-Small-Hidden-Dims</a><br/>\n",
       "                Sweep page: <a href=\"https://wandb.ai/sazio/NMAs-Small-Hidden-Dims/sweeps/38qam6fd\" target=\"_blank\">https://wandb.ai/sazio/NMAs-Small-Hidden-Dims/sweeps/38qam6fd</a><br/>\n",
       "Run page: <a href=\"https://wandb.ai/sazio/NMAs-Small-Hidden-Dims/runs/atcx8d6u\" target=\"_blank\">https://wandb.ai/sazio/NMAs-Small-Hidden-Dims/runs/atcx8d6u</a><br/>\n",
       "                Run data is saved locally in <code>/home/sazeglio/NMAs/src/wandb/run-20210814_171223-atcx8d6u</code><br/><br/>\n",
       "            "
      ],
      "text/plain": [
       "<IPython.core.display.HTML object>"
      ]
     },
     "metadata": {},
     "output_type": "display_data"
    },
    {
     "name": "stdout",
     "output_type": "stream",
     "text": [
      " iteration 0, train cost 3.7053, valid cost 3.8053\n",
      " iteration 50, train cost 2.8305, valid cost 2.8973\n",
      " iteration 100, train cost 2.1644, valid cost 2.2462\n",
      " iteration 150, train cost 2.0963, valid cost 2.1743\n",
      " iteration 200, train cost 2.0867, valid cost 2.1675\n",
      " iteration 250, train cost 2.0829, valid cost 2.1661\n",
      " iteration 300, train cost 2.0800, valid cost 2.1651\n",
      " iteration 350, train cost 2.0778, valid cost 2.1642\n",
      " iteration 400, train cost 2.0761, valid cost 2.1631\n",
      " iteration 450, train cost 2.0734, valid cost 2.1610\n",
      " iteration 500, train cost 2.0686, valid cost 2.1564\n",
      " iteration 550, train cost 2.0576, valid cost 2.1449\n",
      " iteration 600, train cost 2.0339, valid cost 2.1192\n",
      " iteration 650, train cost 1.9966, valid cost 2.0796\n",
      " iteration 700, train cost 1.9536, valid cost 2.0369\n",
      " iteration 750, train cost 1.9148, valid cost 1.9996\n",
      " iteration 800, train cost 1.8832, valid cost 1.9675\n",
      " iteration 850, train cost 1.8613, valid cost 1.9440\n",
      " iteration 900, train cost 1.8392, valid cost 1.9187\n",
      " iteration 950, train cost 1.8182, valid cost 1.8949\n",
      " iteration 1000, train cost 1.8045, valid cost 1.8810\n",
      " iteration 1050, train cost 1.7914, valid cost 1.8690\n",
      " iteration 1100, train cost 1.7736, valid cost 1.8542\n",
      " iteration 1150, train cost 1.7526, valid cost 1.8366\n",
      " iteration 1200, train cost 1.7286, valid cost 1.8176\n",
      " iteration 1250, train cost 1.7044, valid cost 1.7960\n",
      " iteration 1300, train cost 1.6817, valid cost 1.7759\n",
      " iteration 1350, train cost 1.6622, valid cost 1.7591\n",
      " iteration 1400, train cost 1.6458, valid cost 1.7448\n",
      " iteration 1450, train cost 1.6293, valid cost 1.7317\n",
      " iteration 1500, train cost 1.6156, valid cost 1.7195\n",
      " iteration 1550, train cost 1.6007, valid cost 1.7081\n",
      " iteration 1600, train cost 1.5876, valid cost 1.6969\n",
      " iteration 1650, train cost 1.5742, valid cost 1.6859\n",
      " iteration 1700, train cost 1.5610, valid cost 1.6748\n",
      " iteration 1750, train cost 1.5486, valid cost 1.6631\n",
      " iteration 1800, train cost 1.5348, valid cost 1.6512\n",
      " iteration 1850, train cost 1.5223, valid cost 1.6387\n",
      " iteration 1900, train cost 1.5087, valid cost 1.6267\n",
      " iteration 1950, train cost 1.4967, valid cost 1.6148\n",
      " iteration 2000, train cost 1.4837, valid cost 1.6035\n",
      " iteration 2050, train cost 1.4720, valid cost 1.5923\n",
      " iteration 2100, train cost 1.4601, valid cost 1.5822\n",
      " iteration 2150, train cost 1.4500, valid cost 1.5720\n",
      " iteration 2200, train cost 1.4404, valid cost 1.5629\n",
      " iteration 2250, train cost 1.4300, valid cost 1.5542\n",
      " iteration 2300, train cost 1.4199, valid cost 1.5456\n",
      " iteration 2350, train cost 1.4112, valid cost 1.5380\n",
      " iteration 2400, train cost 1.4026, valid cost 1.5307\n",
      " iteration 2450, train cost 1.3931, valid cost 1.5238\n",
      " iteration 2500, train cost 1.3861, valid cost 1.5169\n",
      " iteration 2550, train cost 1.3770, valid cost 1.5105\n",
      " iteration 2600, train cost 1.3700, valid cost 1.5043\n",
      " iteration 2650, train cost 1.3632, valid cost 1.4986\n",
      " iteration 2700, train cost 1.3544, valid cost 1.4935\n",
      " iteration 2750, train cost 1.3496, valid cost 1.4878\n",
      " iteration 2800, train cost 1.3429, valid cost 1.4834\n",
      " iteration 2850, train cost 1.3363, valid cost 1.4794\n",
      " iteration 2900, train cost 1.3318, valid cost 1.4749\n",
      " iteration 2950, train cost 1.3259, valid cost 1.4708\n",
      " iteration 3000, train cost 1.3190, valid cost 1.4675\n",
      " iteration 3050, train cost 1.3140, valid cost 1.4638\n",
      " iteration 3100, train cost 1.3091, valid cost 1.4605\n",
      " iteration 3150, train cost 1.3040, valid cost 1.4577\n",
      " iteration 3200, train cost 1.3007, valid cost 1.4546\n",
      " iteration 3250, train cost 1.2947, valid cost 1.4518\n",
      " iteration 3300, train cost 1.2896, valid cost 1.4484\n",
      " iteration 3350, train cost 1.2842, valid cost 1.4455\n",
      " iteration 3400, train cost 1.2825, valid cost 1.4427\n",
      " iteration 3450, train cost 1.2763, valid cost 1.4399\n",
      " iteration 3500, train cost 1.2722, valid cost 1.4365\n",
      " iteration 3550, train cost 1.2683, valid cost 1.4335\n",
      " iteration 3600, train cost 1.2626, valid cost 1.4307\n",
      " iteration 3650, train cost 1.2593, valid cost 1.4271\n",
      " iteration 3700, train cost 1.2536, valid cost 1.4245\n",
      " iteration 3750, train cost 1.2490, valid cost 1.4213\n",
      " iteration 3800, train cost 1.2452, valid cost 1.4180\n",
      " iteration 3850, train cost 1.2419, valid cost 1.4154\n",
      " iteration 3900, train cost 1.2360, valid cost 1.4116\n",
      " iteration 3950, train cost 1.2332, valid cost 1.4097\n"
     ]
    },
    {
     "data": {
      "text/html": [
       "<br/>Waiting for W&B process to finish, PID 181300<br/>Program ended successfully."
      ],
      "text/plain": [
       "<IPython.core.display.HTML object>"
      ]
     },
     "metadata": {},
     "output_type": "display_data"
    },
    {
     "name": "stderr",
     "output_type": "stream",
     "text": [
      "Widget Javascript not detected.  It may not be installed or enabled properly.\n"
     ]
    },
    {
     "data": {
      "application/vnd.jupyter.widget-view+json": {
       "model_id": "cb67a83d95484570a0ffb31cefd6c20f"
      }
     },
     "metadata": {},
     "output_type": "display_data"
    },
    {
     "data": {
      "text/html": [
       "Find user logs for this run at: <code>/home/sazeglio/NMAs/src/wandb/run-20210814_171223-atcx8d6u/logs/debug.log</code>"
      ],
      "text/plain": [
       "<IPython.core.display.HTML object>"
      ]
     },
     "metadata": {},
     "output_type": "display_data"
    },
    {
     "data": {
      "text/html": [
       "Find internal logs for this run at: <code>/home/sazeglio/NMAs/src/wandb/run-20210814_171223-atcx8d6u/logs/debug-internal.log</code>"
      ],
      "text/plain": [
       "<IPython.core.display.HTML object>"
      ]
     },
     "metadata": {},
     "output_type": "display_data"
    },
    {
     "data": {
      "text/html": [
       "<h3>Run summary:</h3><br/><style>\n",
       "    table.wandb td:nth-child(1) { padding: 0 10px; text-align: right }\n",
       "    </style><table class=\"wandb\">\n",
       "<tr><td>train_loss</td><td>1.22994</td></tr><tr><td>valid_loss</td><td>1.40731</td></tr><tr><td>epoch</td><td>3999</td></tr><tr><td>_runtime</td><td>282</td></tr><tr><td>_timestamp</td><td>1628954225</td></tr><tr><td>_step</td><td>3999</td></tr></table>"
      ],
      "text/plain": [
       "<IPython.core.display.HTML object>"
      ]
     },
     "metadata": {},
     "output_type": "display_data"
    },
    {
     "data": {
      "text/html": [
       "<h3>Run history:</h3><br/><style>\n",
       "    table.wandb td:nth-child(1) { padding: 0 10px; text-align: right }\n",
       "    </style><table class=\"wandb\">\n",
       "<tr><td>train_loss</td><td>█▄▄▄▄▄▃▃▃▃▃▃▃▂▂▂▂▂▂▂▂▂▂▂▂▁▁▁▁▁▁▁▁▁▁▁▁▁▁▁</td></tr><tr><td>valid_loss</td><td>█▄▄▄▄▄▃▃▃▃▃▂▂▂▂▂▂▂▂▂▂▂▁▁▁▁▁▁▁▁▁▁▁▁▁▁▁▁▁▁</td></tr><tr><td>epoch</td><td>▁▁▁▂▂▂▂▂▂▃▃▃▃▃▄▄▄▄▄▄▅▅▅▅▅▅▆▆▆▆▆▇▇▇▇▇▇███</td></tr><tr><td>_runtime</td><td>▁▁▁▂▂▂▂▂▂▃▃▃▃▃▄▄▄▄▄▄▅▅▅▅▅▅▆▆▆▆▆▇▇▇▇▇▇███</td></tr><tr><td>_timestamp</td><td>▁▁▁▂▂▂▂▂▂▃▃▃▃▃▄▄▄▄▄▄▅▅▅▅▅▅▆▆▆▆▆▇▇▇▇▇▇███</td></tr><tr><td>_step</td><td>▁▁▁▂▂▂▂▂▂▃▃▃▃▃▄▄▄▄▄▄▅▅▅▅▅▅▆▆▆▆▆▇▇▇▇▇▇███</td></tr></table><br/>"
      ],
      "text/plain": [
       "<IPython.core.display.HTML object>"
      ]
     },
     "metadata": {},
     "output_type": "display_data"
    },
    {
     "data": {
      "text/html": [
       "Synced 5 W&B file(s), 0 media file(s), 0 artifact file(s) and 0 other file(s)"
      ],
      "text/plain": [
       "<IPython.core.display.HTML object>"
      ]
     },
     "metadata": {},
     "output_type": "display_data"
    },
    {
     "data": {
      "text/html": [
       "\n",
       "                    <br/>Synced <strong style=\"color:#cdcd00\">daily-sweep-4</strong>: <a href=\"https://wandb.ai/sazio/NMAs-Small-Hidden-Dims/runs/atcx8d6u\" target=\"_blank\">https://wandb.ai/sazio/NMAs-Small-Hidden-Dims/runs/atcx8d6u</a><br/>\n",
       "                "
      ],
      "text/plain": [
       "<IPython.core.display.HTML object>"
      ]
     },
     "metadata": {},
     "output_type": "display_data"
    },
    {
     "name": "stderr",
     "output_type": "stream",
     "text": [
      "wandb: Agent Starting Run: uu81bquz with config:\n",
      "wandb: \tdropout: 0.2\n",
      "wandb: \tepochs: 4000\n",
      "wandb: \tlearning_rate: 0.004118851771109827\n",
      "wandb: \tn_comp: 125\n",
      "wandb: \tnum_layers: 1\n",
      "wandb: \toptimizer: adam\n",
      "wandb: \tweight_decay: 1e-06\n",
      "Failed to detect the name of this notebook, you can set it manually with the WANDB_NOTEBOOK_NAME environment variable to enable code saving.\n"
     ]
    },
    {
     "data": {
      "text/html": [
       "\n",
       "                Tracking run with wandb version 0.12.0<br/>\n",
       "                Syncing run <strong style=\"color:#cdcd00\">stoic-sweep-5</strong> to <a href=\"https://wandb.ai\" target=\"_blank\">Weights & Biases</a> <a href=\"https://docs.wandb.com/integrations/jupyter.html\" target=\"_blank\">(Documentation)</a>.<br/>\n",
       "                Project page: <a href=\"https://wandb.ai/sazio/NMAs-Small-Hidden-Dims\" target=\"_blank\">https://wandb.ai/sazio/NMAs-Small-Hidden-Dims</a><br/>\n",
       "                Sweep page: <a href=\"https://wandb.ai/sazio/NMAs-Small-Hidden-Dims/sweeps/38qam6fd\" target=\"_blank\">https://wandb.ai/sazio/NMAs-Small-Hidden-Dims/sweeps/38qam6fd</a><br/>\n",
       "Run page: <a href=\"https://wandb.ai/sazio/NMAs-Small-Hidden-Dims/runs/uu81bquz\" target=\"_blank\">https://wandb.ai/sazio/NMAs-Small-Hidden-Dims/runs/uu81bquz</a><br/>\n",
       "                Run data is saved locally in <code>/home/sazeglio/NMAs/src/wandb/run-20210814_171710-uu81bquz</code><br/><br/>\n",
       "            "
      ],
      "text/plain": [
       "<IPython.core.display.HTML object>"
      ]
     },
     "metadata": {},
     "output_type": "display_data"
    },
    {
     "name": "stdout",
     "output_type": "stream",
     "text": [
      " iteration 0, train cost 3.7048, valid cost 3.7475\n",
      " iteration 50, train cost 2.0764, valid cost 2.1713\n",
      " iteration 100, train cost 2.0642, valid cost 2.1592\n",
      " iteration 150, train cost 2.0075, valid cost 2.0839\n",
      " iteration 200, train cost 1.9591, valid cost 2.0382\n",
      " iteration 250, train cost 1.9110, valid cost 2.0023\n",
      " iteration 300, train cost 1.8765, valid cost 1.9918\n",
      " iteration 350, train cost 1.9140, valid cost 1.9673\n",
      " iteration 400, train cost 1.8126, valid cost 1.9070\n",
      " iteration 450, train cost 1.7602, valid cost 1.8762\n",
      " iteration 500, train cost 1.7481, valid cost 1.8641\n",
      " iteration 550, train cost 1.7161, valid cost 1.8487\n",
      " iteration 600, train cost 1.6940, valid cost 1.8357\n",
      " iteration 650, train cost 1.6647, valid cost 1.8306\n",
      " iteration 700, train cost 1.7888, valid cost 1.9156\n",
      " iteration 750, train cost 1.6833, valid cost 1.8288\n",
      " iteration 800, train cost 1.6575, valid cost 1.8502\n",
      " iteration 850, train cost 1.6988, valid cost 1.8328\n",
      " iteration 900, train cost 1.6337, valid cost 1.8114\n",
      " iteration 950, train cost 1.6114, valid cost 1.8067\n",
      " iteration 1000, train cost 1.5963, valid cost 1.8039\n",
      " iteration 1050, train cost 1.6340, valid cost 1.8209\n",
      " iteration 1100, train cost 1.5819, valid cost 1.8156\n",
      " iteration 1150, train cost 1.5659, valid cost 1.8144\n",
      " iteration 1200, train cost 1.5524, valid cost 1.8220\n",
      " iteration 1250, train cost 1.5560, valid cost 1.8187\n",
      " iteration 1300, train cost 1.6718, valid cost 1.8679\n",
      " iteration 1350, train cost 1.6475, valid cost 1.8252\n",
      " iteration 1400, train cost 1.5884, valid cost 1.8208\n",
      " iteration 1450, train cost 1.5625, valid cost 1.8144\n",
      " iteration 1500, train cost 1.5439, valid cost 1.8149\n",
      " iteration 1550, train cost 1.5279, valid cost 1.8120\n",
      " iteration 1600, train cost 1.5221, valid cost 1.8108\n",
      " iteration 1650, train cost 1.8049, valid cost 1.9407\n",
      " iteration 1700, train cost 1.6030, valid cost 1.8195\n",
      " iteration 1750, train cost 1.5649, valid cost 1.8135\n",
      " iteration 1800, train cost 1.5368, valid cost 1.8098\n",
      " iteration 1850, train cost 1.5212, valid cost 1.8161\n",
      " iteration 1900, train cost 1.6656, valid cost 1.8404\n",
      " iteration 1950, train cost 1.5988, valid cost 1.8269\n",
      " iteration 2000, train cost 1.5561, valid cost 1.8140\n",
      " iteration 2050, train cost 1.5352, valid cost 1.8039\n",
      " iteration 2100, train cost 1.5096, valid cost 1.8031\n",
      " iteration 2150, train cost 1.4993, valid cost 1.8013\n",
      " iteration 2200, train cost 1.4865, valid cost 1.8111\n",
      " iteration 2250, train cost 1.4791, valid cost 1.8105\n",
      " iteration 2300, train cost 1.5104, valid cost 1.8037\n",
      " iteration 2350, train cost 1.5502, valid cost 1.8313\n",
      " iteration 2400, train cost 1.4974, valid cost 1.8224\n",
      " iteration 2450, train cost 1.5504, valid cost 1.8210\n",
      " iteration 2500, train cost 1.4718, valid cost 1.8261\n",
      " iteration 2550, train cost 1.5230, valid cost 1.8173\n",
      " iteration 2600, train cost 1.4844, valid cost 1.8284\n",
      " iteration 2650, train cost 1.5135, valid cost 1.8237\n",
      " iteration 2700, train cost 1.4761, valid cost 1.8369\n",
      " iteration 2750, train cost 1.4896, valid cost 1.8238\n",
      " iteration 2800, train cost 1.5170, valid cost 1.8262\n",
      " iteration 2850, train cost 2.0661, valid cost 2.1619\n",
      " iteration 2900, train cost 2.0450, valid cost 2.1323\n",
      " iteration 2950, train cost 1.9729, valid cost 2.0599\n",
      " iteration 3000, train cost 1.9590, valid cost 2.0378\n",
      " iteration 3050, train cost 1.9297, valid cost 2.0088\n",
      " iteration 3100, train cost 1.9060, valid cost 1.9839\n",
      " iteration 3150, train cost 1.9284, valid cost 2.0035\n",
      " iteration 3200, train cost 1.8677, valid cost 1.9478\n",
      " iteration 3250, train cost 1.8632, valid cost 1.9475\n",
      " iteration 3300, train cost 1.8633, valid cost 1.9395\n",
      " iteration 3350, train cost 1.8340, valid cost 1.9280\n",
      " iteration 3400, train cost 1.8420, valid cost 1.9378\n",
      " iteration 3450, train cost 1.8285, valid cost 1.9211\n",
      " iteration 3500, train cost 1.8194, valid cost 1.9203\n",
      " iteration 3550, train cost 1.8053, valid cost 1.9153\n",
      " iteration 3600, train cost 1.7997, valid cost 1.9125\n",
      " iteration 3650, train cost 1.8568, valid cost 1.9485\n",
      " iteration 3700, train cost 1.8559, valid cost 1.9315\n",
      " iteration 3750, train cost 1.7999, valid cost 1.9054\n",
      " iteration 3800, train cost 1.7928, valid cost 1.9047\n",
      " iteration 3850, train cost 1.7897, valid cost 1.9074\n",
      " iteration 3900, train cost 1.7862, valid cost 1.9051\n",
      " iteration 3950, train cost 1.7790, valid cost 1.9019\n"
     ]
    },
    {
     "data": {
      "text/html": [
       "<br/>Waiting for W&B process to finish, PID 181391<br/>Program ended successfully."
      ],
      "text/plain": [
       "<IPython.core.display.HTML object>"
      ]
     },
     "metadata": {},
     "output_type": "display_data"
    },
    {
     "name": "stderr",
     "output_type": "stream",
     "text": [
      "Widget Javascript not detected.  It may not be installed or enabled properly.\n"
     ]
    },
    {
     "data": {
      "application/vnd.jupyter.widget-view+json": {
       "model_id": "403f82c5e79a46cd9e733ec5186706c7"
      }
     },
     "metadata": {},
     "output_type": "display_data"
    },
    {
     "data": {
      "text/html": [
       "Find user logs for this run at: <code>/home/sazeglio/NMAs/src/wandb/run-20210814_171710-uu81bquz/logs/debug.log</code>"
      ],
      "text/plain": [
       "<IPython.core.display.HTML object>"
      ]
     },
     "metadata": {},
     "output_type": "display_data"
    },
    {
     "data": {
      "text/html": [
       "Find internal logs for this run at: <code>/home/sazeglio/NMAs/src/wandb/run-20210814_171710-uu81bquz/logs/debug-internal.log</code>"
      ],
      "text/plain": [
       "<IPython.core.display.HTML object>"
      ]
     },
     "metadata": {},
     "output_type": "display_data"
    },
    {
     "data": {
      "text/html": [
       "<h3>Run summary:</h3><br/><style>\n",
       "    table.wandb td:nth-child(1) { padding: 0 10px; text-align: right }\n",
       "    </style><table class=\"wandb\">\n",
       "<tr><td>train_loss</td><td>1.77625</td></tr><tr><td>valid_loss</td><td>1.90292</td></tr><tr><td>epoch</td><td>3999</td></tr><tr><td>_runtime</td><td>283</td></tr><tr><td>_timestamp</td><td>1628954513</td></tr><tr><td>_step</td><td>3999</td></tr></table>"
      ],
      "text/plain": [
       "<IPython.core.display.HTML object>"
      ]
     },
     "metadata": {},
     "output_type": "display_data"
    },
    {
     "data": {
      "text/html": [
       "<h3>Run history:</h3><br/><style>\n",
       "    table.wandb td:nth-child(1) { padding: 0 10px; text-align: right }\n",
       "    </style><table class=\"wandb\">\n",
       "<tr><td>train_loss</td><td>▇▆▅▅▄▃▃▃▄▃▂▂▂▃▂▂▁▂█▂▂▁▁▁▁▁▁▁▆▆▅▅▅▄▄▄▄▄▄▄</td></tr><tr><td>valid_loss</td><td>▅▄▃▃▂▂▁▁▂▁▁▁▁▁▁▁▁▁█▁▁▁▁▁▁▁▁▁▄▄▃▃▃▂▂▂▂▂▂▂</td></tr><tr><td>epoch</td><td>▁▁▁▂▂▂▂▂▂▃▃▃▃▃▄▄▄▄▄▄▅▅▅▅▅▅▆▆▆▆▆▇▇▇▇▇▇███</td></tr><tr><td>_runtime</td><td>▁▁▁▂▂▂▂▂▂▃▃▃▃▃▄▄▄▄▄▄▅▅▅▅▅▆▆▆▆▆▆▇▇▇▇▇▇███</td></tr><tr><td>_timestamp</td><td>▁▁▁▂▂▂▂▂▂▃▃▃▃▃▄▄▄▄▄▄▅▅▅▅▅▆▆▆▆▆▆▇▇▇▇▇▇███</td></tr><tr><td>_step</td><td>▁▁▁▂▂▂▂▂▂▃▃▃▃▃▄▄▄▄▄▄▅▅▅▅▅▅▆▆▆▆▆▇▇▇▇▇▇███</td></tr></table><br/>"
      ],
      "text/plain": [
       "<IPython.core.display.HTML object>"
      ]
     },
     "metadata": {},
     "output_type": "display_data"
    },
    {
     "data": {
      "text/html": [
       "Synced 5 W&B file(s), 0 media file(s), 0 artifact file(s) and 0 other file(s)"
      ],
      "text/plain": [
       "<IPython.core.display.HTML object>"
      ]
     },
     "metadata": {},
     "output_type": "display_data"
    },
    {
     "data": {
      "text/html": [
       "\n",
       "                    <br/>Synced <strong style=\"color:#cdcd00\">stoic-sweep-5</strong>: <a href=\"https://wandb.ai/sazio/NMAs-Small-Hidden-Dims/runs/uu81bquz\" target=\"_blank\">https://wandb.ai/sazio/NMAs-Small-Hidden-Dims/runs/uu81bquz</a><br/>\n",
       "                "
      ],
      "text/plain": [
       "<IPython.core.display.HTML object>"
      ]
     },
     "metadata": {},
     "output_type": "display_data"
    },
    {
     "name": "stderr",
     "output_type": "stream",
     "text": [
      "wandb: Agent Starting Run: gu98cly5 with config:\n",
      "wandb: \tdropout: 0.3\n",
      "wandb: \tepochs: 4000\n",
      "wandb: \tlearning_rate: 0.001977050746477505\n",
      "wandb: \tn_comp: 50\n",
      "wandb: \tnum_layers: 1\n",
      "wandb: \toptimizer: adam\n",
      "wandb: \tweight_decay: 1e-05\n",
      "Failed to detect the name of this notebook, you can set it manually with the WANDB_NOTEBOOK_NAME environment variable to enable code saving.\n"
     ]
    },
    {
     "data": {
      "text/html": [
       "\n",
       "                Tracking run with wandb version 0.12.0<br/>\n",
       "                Syncing run <strong style=\"color:#cdcd00\">cerulean-sweep-6</strong> to <a href=\"https://wandb.ai\" target=\"_blank\">Weights & Biases</a> <a href=\"https://docs.wandb.com/integrations/jupyter.html\" target=\"_blank\">(Documentation)</a>.<br/>\n",
       "                Project page: <a href=\"https://wandb.ai/sazio/NMAs-Small-Hidden-Dims\" target=\"_blank\">https://wandb.ai/sazio/NMAs-Small-Hidden-Dims</a><br/>\n",
       "                Sweep page: <a href=\"https://wandb.ai/sazio/NMAs-Small-Hidden-Dims/sweeps/38qam6fd\" target=\"_blank\">https://wandb.ai/sazio/NMAs-Small-Hidden-Dims/sweeps/38qam6fd</a><br/>\n",
       "Run page: <a href=\"https://wandb.ai/sazio/NMAs-Small-Hidden-Dims/runs/gu98cly5\" target=\"_blank\">https://wandb.ai/sazio/NMAs-Small-Hidden-Dims/runs/gu98cly5</a><br/>\n",
       "                Run data is saved locally in <code>/home/sazeglio/NMAs/src/wandb/run-20210814_172200-gu98cly5</code><br/><br/>\n",
       "            "
      ],
      "text/plain": [
       "<IPython.core.display.HTML object>"
      ]
     },
     "metadata": {},
     "output_type": "display_data"
    },
    {
     "name": "stdout",
     "output_type": "stream",
     "text": [
      " iteration 0, train cost 3.7009, valid cost 3.7787\n",
      " iteration 50, train cost 2.0786, valid cost 2.1702\n",
      " iteration 100, train cost 2.0684, valid cost 2.1608\n",
      " iteration 150, train cost 1.9938, valid cost 2.0722\n",
      " iteration 200, train cost 1.8808, valid cost 1.9602\n",
      " iteration 250, train cost 1.8011, valid cost 1.8774\n",
      " iteration 300, train cost 1.7372, valid cost 1.8293\n",
      " iteration 350, train cost 1.6870, valid cost 1.7927\n",
      " iteration 400, train cost 1.6607, valid cost 1.7880\n",
      " iteration 450, train cost 1.6227, valid cost 1.7448\n",
      " iteration 500, train cost 1.5805, valid cost 1.7163\n",
      " iteration 550, train cost 1.5453, valid cost 1.6882\n",
      " iteration 600, train cost 1.5193, valid cost 1.6665\n",
      " iteration 650, train cost 1.4777, valid cost 1.6390\n",
      " iteration 700, train cost 1.4524, valid cost 1.6256\n",
      " iteration 750, train cost 1.4225, valid cost 1.6016\n",
      " iteration 800, train cost 1.4059, valid cost 1.5889\n",
      " iteration 850, train cost 1.3706, valid cost 1.5668\n",
      " iteration 900, train cost 1.3475, valid cost 1.5534\n",
      " iteration 950, train cost 1.3533, valid cost 1.5788\n",
      " iteration 1000, train cost 1.3045, valid cost 1.5232\n",
      " iteration 1050, train cost 1.2857, valid cost 1.5104\n",
      " iteration 1100, train cost 1.2726, valid cost 1.5028\n",
      " iteration 1150, train cost 1.2541, valid cost 1.4909\n",
      " iteration 1200, train cost 1.2590, valid cost 1.4895\n",
      " iteration 1250, train cost 1.2319, valid cost 1.4746\n",
      " iteration 1300, train cost 1.2239, valid cost 1.4674\n",
      " iteration 1350, train cost 1.2171, valid cost 1.4650\n",
      " iteration 1400, train cost 1.2055, valid cost 1.4590\n",
      " iteration 1450, train cost 1.1967, valid cost 1.4541\n",
      " iteration 1500, train cost 1.1842, valid cost 1.4443\n",
      " iteration 1550, train cost 1.2204, valid cost 1.4554\n",
      " iteration 1600, train cost 1.1696, valid cost 1.4298\n",
      " iteration 1650, train cost 1.1605, valid cost 1.4256\n",
      " iteration 1700, train cost 1.1540, valid cost 1.4209\n",
      " iteration 1750, train cost 1.1477, valid cost 1.4152\n",
      " iteration 1800, train cost 1.1444, valid cost 1.4122\n",
      " iteration 1850, train cost 1.1329, valid cost 1.4071\n",
      " iteration 1900, train cost 1.1235, valid cost 1.4028\n",
      " iteration 1950, train cost 1.1199, valid cost 1.3996\n",
      " iteration 2000, train cost 1.1157, valid cost 1.3946\n",
      " iteration 2050, train cost 1.1072, valid cost 1.3903\n",
      " iteration 2100, train cost 1.1216, valid cost 1.3984\n",
      " iteration 2150, train cost 1.0999, valid cost 1.3849\n",
      " iteration 2200, train cost 1.0923, valid cost 1.3809\n",
      " iteration 2250, train cost 1.0846, valid cost 1.3759\n",
      " iteration 2300, train cost 1.0803, valid cost 1.3716\n",
      " iteration 2350, train cost 1.0752, valid cost 1.3689\n",
      " iteration 2400, train cost 1.0700, valid cost 1.3642\n",
      " iteration 2450, train cost 1.0649, valid cost 1.3598\n",
      " iteration 2500, train cost 1.0594, valid cost 1.3552\n",
      " iteration 2550, train cost 1.0544, valid cost 1.3524\n",
      " iteration 2600, train cost 1.0514, valid cost 1.3479\n",
      " iteration 2650, train cost 1.0462, valid cost 1.3436\n",
      " iteration 2700, train cost 1.0410, valid cost 1.3420\n",
      " iteration 2750, train cost 1.0392, valid cost 1.3407\n",
      " iteration 2800, train cost 1.0507, valid cost 1.3428\n",
      " iteration 2850, train cost 1.0343, valid cost 1.3341\n",
      " iteration 2900, train cost 1.0280, valid cost 1.3291\n",
      " iteration 2950, train cost 1.0270, valid cost 1.3280\n",
      " iteration 3000, train cost 1.0238, valid cost 1.3255\n",
      " iteration 3050, train cost 1.0483, valid cost 1.3286\n",
      " iteration 3100, train cost 1.0249, valid cost 1.3189\n",
      " iteration 3150, train cost 1.0801, valid cost 1.3515\n",
      " iteration 3200, train cost 1.0224, valid cost 1.3154\n",
      " iteration 3250, train cost 1.0134, valid cost 1.3150\n",
      " iteration 3300, train cost 1.0135, valid cost 1.3122\n",
      " iteration 3350, train cost 1.0111, valid cost 1.3118\n",
      " iteration 3400, train cost 1.0073, valid cost 1.3106\n",
      " iteration 3450, train cost 1.0022, valid cost 1.3065\n",
      " iteration 3500, train cost 1.0016, valid cost 1.3047\n",
      " iteration 3550, train cost 1.1623, valid cost 1.3987\n",
      " iteration 3600, train cost 1.0108, valid cost 1.3014\n",
      " iteration 3650, train cost 1.0034, valid cost 1.2991\n",
      " iteration 3700, train cost 0.9966, valid cost 1.2984\n",
      " iteration 3750, train cost 0.9953, valid cost 1.2958\n",
      " iteration 3800, train cost 0.9915, valid cost 1.2950\n",
      " iteration 3850, train cost 1.0438, valid cost 1.3169\n",
      " iteration 3900, train cost 0.9968, valid cost 1.2907\n",
      " iteration 3950, train cost 0.9995, valid cost 1.2927\n"
     ]
    },
    {
     "data": {
      "text/html": [
       "<br/>Waiting for W&B process to finish, PID 181484<br/>Program ended successfully."
      ],
      "text/plain": [
       "<IPython.core.display.HTML object>"
      ]
     },
     "metadata": {},
     "output_type": "display_data"
    },
    {
     "name": "stderr",
     "output_type": "stream",
     "text": [
      "Widget Javascript not detected.  It may not be installed or enabled properly.\n"
     ]
    },
    {
     "data": {
      "application/vnd.jupyter.widget-view+json": {
       "model_id": "57e926d461014bd3b8fdb1b0e1a5f5e9"
      }
     },
     "metadata": {},
     "output_type": "display_data"
    },
    {
     "data": {
      "text/html": [
       "Find user logs for this run at: <code>/home/sazeglio/NMAs/src/wandb/run-20210814_172200-gu98cly5/logs/debug.log</code>"
      ],
      "text/plain": [
       "<IPython.core.display.HTML object>"
      ]
     },
     "metadata": {},
     "output_type": "display_data"
    },
    {
     "data": {
      "text/html": [
       "Find internal logs for this run at: <code>/home/sazeglio/NMAs/src/wandb/run-20210814_172200-gu98cly5/logs/debug-internal.log</code>"
      ],
      "text/plain": [
       "<IPython.core.display.HTML object>"
      ]
     },
     "metadata": {},
     "output_type": "display_data"
    },
    {
     "data": {
      "text/html": [
       "<h3>Run summary:</h3><br/><style>\n",
       "    table.wandb td:nth-child(1) { padding: 0 10px; text-align: right }\n",
       "    </style><table class=\"wandb\">\n",
       "<tr><td>train_loss</td><td>0.98955</td></tr><tr><td>valid_loss</td><td>1.28941</td></tr><tr><td>epoch</td><td>3999</td></tr><tr><td>_runtime</td><td>280</td></tr><tr><td>_timestamp</td><td>1628954800</td></tr><tr><td>_step</td><td>3999</td></tr></table>"
      ],
      "text/plain": [
       "<IPython.core.display.HTML object>"
      ]
     },
     "metadata": {},
     "output_type": "display_data"
    },
    {
     "data": {
      "text/html": [
       "<h3>Run history:</h3><br/><style>\n",
       "    table.wandb td:nth-child(1) { padding: 0 10px; text-align: right }\n",
       "    </style><table class=\"wandb\">\n",
       "<tr><td>train_loss</td><td>██▆▆▅▅▄▄▃▃▃▃▃▂▂▂▂▂▂▂▂▂▂▂▁▁▁▁▁▁▁▁▁▁▁▁▁▁▁▁</td></tr><tr><td>valid_loss</td><td>█▇▆▅▅▄▄▄▃▃▃▃▂▂▂▂▂▂▂▂▂▂▂▂▂▁▁▁▁▁▁▁▁▁▁▁▁▁▁▁</td></tr><tr><td>epoch</td><td>▁▁▁▂▂▂▂▂▂▃▃▃▃▃▄▄▄▄▄▄▅▅▅▅▅▅▆▆▆▆▆▇▇▇▇▇▇███</td></tr><tr><td>_runtime</td><td>▁▁▁▂▂▂▂▂▂▃▃▃▃▃▃▄▄▄▄▄▅▅▅▅▅▅▆▆▆▆▆▇▇▇▇▇▇███</td></tr><tr><td>_timestamp</td><td>▁▁▁▂▂▂▂▂▂▃▃▃▃▃▃▄▄▄▄▄▅▅▅▅▅▅▆▆▆▆▆▇▇▇▇▇▇███</td></tr><tr><td>_step</td><td>▁▁▁▂▂▂▂▂▂▃▃▃▃▃▄▄▄▄▄▄▅▅▅▅▅▅▆▆▆▆▆▇▇▇▇▇▇███</td></tr></table><br/>"
      ],
      "text/plain": [
       "<IPython.core.display.HTML object>"
      ]
     },
     "metadata": {},
     "output_type": "display_data"
    },
    {
     "data": {
      "text/html": [
       "Synced 5 W&B file(s), 0 media file(s), 0 artifact file(s) and 0 other file(s)"
      ],
      "text/plain": [
       "<IPython.core.display.HTML object>"
      ]
     },
     "metadata": {},
     "output_type": "display_data"
    },
    {
     "data": {
      "text/html": [
       "\n",
       "                    <br/>Synced <strong style=\"color:#cdcd00\">cerulean-sweep-6</strong>: <a href=\"https://wandb.ai/sazio/NMAs-Small-Hidden-Dims/runs/gu98cly5\" target=\"_blank\">https://wandb.ai/sazio/NMAs-Small-Hidden-Dims/runs/gu98cly5</a><br/>\n",
       "                "
      ],
      "text/plain": [
       "<IPython.core.display.HTML object>"
      ]
     },
     "metadata": {},
     "output_type": "display_data"
    },
    {
     "name": "stderr",
     "output_type": "stream",
     "text": [
      "wandb: Agent Starting Run: cn4vkgbo with config:\n",
      "wandb: \tdropout: 0.5\n",
      "wandb: \tepochs: 4000\n",
      "wandb: \tlearning_rate: 0.0024807559478194022\n",
      "wandb: \tn_comp: 100\n",
      "wandb: \tnum_layers: 1\n",
      "wandb: \toptimizer: adam\n",
      "wandb: \tweight_decay: 1e-06\n",
      "Failed to detect the name of this notebook, you can set it manually with the WANDB_NOTEBOOK_NAME environment variable to enable code saving.\n"
     ]
    },
    {
     "data": {
      "text/html": [
       "\n",
       "                Tracking run with wandb version 0.12.0<br/>\n",
       "                Syncing run <strong style=\"color:#cdcd00\">silvery-sweep-7</strong> to <a href=\"https://wandb.ai\" target=\"_blank\">Weights & Biases</a> <a href=\"https://docs.wandb.com/integrations/jupyter.html\" target=\"_blank\">(Documentation)</a>.<br/>\n",
       "                Project page: <a href=\"https://wandb.ai/sazio/NMAs-Small-Hidden-Dims\" target=\"_blank\">https://wandb.ai/sazio/NMAs-Small-Hidden-Dims</a><br/>\n",
       "                Sweep page: <a href=\"https://wandb.ai/sazio/NMAs-Small-Hidden-Dims/sweeps/38qam6fd\" target=\"_blank\">https://wandb.ai/sazio/NMAs-Small-Hidden-Dims/sweeps/38qam6fd</a><br/>\n",
       "Run page: <a href=\"https://wandb.ai/sazio/NMAs-Small-Hidden-Dims/runs/cn4vkgbo\" target=\"_blank\">https://wandb.ai/sazio/NMAs-Small-Hidden-Dims/runs/cn4vkgbo</a><br/>\n",
       "                Run data is saved locally in <code>/home/sazeglio/NMAs/src/wandb/run-20210814_172644-cn4vkgbo</code><br/><br/>\n",
       "            "
      ],
      "text/plain": [
       "<IPython.core.display.HTML object>"
      ]
     },
     "metadata": {},
     "output_type": "display_data"
    },
    {
     "name": "stdout",
     "output_type": "stream",
     "text": [
      " iteration 0, train cost 3.7013, valid cost 3.7712\n",
      " iteration 50, train cost 2.0777, valid cost 2.1711\n",
      " iteration 100, train cost 2.0677, valid cost 2.1619\n",
      " iteration 150, train cost 2.0147, valid cost 2.0985\n",
      " iteration 200, train cost 1.9924, valid cost 2.0731\n",
      " iteration 250, train cost 1.9000, valid cost 1.9823\n",
      " iteration 300, train cost 1.8517, valid cost 1.9328\n",
      " iteration 350, train cost 1.8329, valid cost 1.9233\n",
      " iteration 400, train cost 1.7900, valid cost 1.8849\n",
      " iteration 450, train cost 1.7590, valid cost 1.8611\n",
      " iteration 500, train cost 1.7409, valid cost 1.8439\n",
      " iteration 550, train cost 1.7057, valid cost 1.8272\n",
      " iteration 600, train cost 1.6840, valid cost 1.8177\n",
      " iteration 650, train cost 1.6611, valid cost 1.8078\n",
      " iteration 700, train cost 1.6412, valid cost 1.7958\n",
      " iteration 750, train cost 1.6105, valid cost 1.7780\n",
      " iteration 800, train cost 1.5804, valid cost 1.7608\n",
      " iteration 850, train cost 1.5519, valid cost 1.7464\n",
      " iteration 900, train cost 1.5276, valid cost 1.7342\n",
      " iteration 950, train cost 1.5129, valid cost 1.7226\n",
      " iteration 1000, train cost 1.5049, valid cost 1.7201\n",
      " iteration 1050, train cost 1.5293, valid cost 1.8271\n",
      " iteration 1100, train cost 1.4695, valid cost 1.7021\n",
      " iteration 1150, train cost 1.4468, valid cost 1.6975\n",
      " iteration 1200, train cost 1.4409, valid cost 1.7133\n",
      " iteration 1250, train cost 1.4162, valid cost 1.6914\n",
      " iteration 1300, train cost 1.4124, valid cost 1.6807\n",
      " iteration 1350, train cost 1.4126, valid cost 1.6781\n",
      " iteration 1400, train cost 1.3872, valid cost 1.6786\n",
      " iteration 1450, train cost 1.3780, valid cost 1.6752\n",
      " iteration 1500, train cost 1.3851, valid cost 1.6798\n",
      " iteration 1550, train cost 1.3651, valid cost 1.6639\n",
      " iteration 1600, train cost 1.3481, valid cost 1.6639\n",
      " iteration 1650, train cost 1.3377, valid cost 1.6598\n",
      " iteration 1700, train cost 1.3257, valid cost 1.6571\n",
      " iteration 1750, train cost 1.3161, valid cost 1.6532\n",
      " iteration 1800, train cost 1.3152, valid cost 1.6573\n",
      " iteration 1850, train cost 1.2986, valid cost 1.6446\n",
      " iteration 1900, train cost 1.2939, valid cost 1.6447\n",
      " iteration 1950, train cost 1.3651, valid cost 1.6529\n",
      " iteration 2000, train cost 1.2782, valid cost 1.6377\n",
      " iteration 2050, train cost 1.2698, valid cost 1.6316\n",
      " iteration 2100, train cost 1.3473, valid cost 1.6661\n",
      " iteration 2150, train cost 1.2668, valid cost 1.6263\n",
      " iteration 2200, train cost 1.4017, valid cost 1.6357\n",
      " iteration 2250, train cost 1.3457, valid cost 1.6465\n",
      " iteration 2300, train cost 1.2955, valid cost 1.6249\n",
      " iteration 2350, train cost 1.2573, valid cost 1.6158\n",
      " iteration 2400, train cost 1.2483, valid cost 1.6150\n",
      " iteration 2450, train cost 1.2508, valid cost 1.6105\n",
      " iteration 2500, train cost 1.2366, valid cost 1.6116\n",
      " iteration 2550, train cost 1.2612, valid cost 1.6188\n",
      " iteration 2600, train cost 1.2577, valid cost 1.6320\n",
      " iteration 2650, train cost 1.2322, valid cost 1.6164\n",
      " iteration 2700, train cost 1.2242, valid cost 1.6062\n",
      " iteration 2750, train cost 1.2122, valid cost 1.6077\n",
      " iteration 2800, train cost 1.2087, valid cost 1.6076\n",
      " iteration 2850, train cost 1.2032, valid cost 1.6092\n",
      " iteration 2900, train cost 1.1976, valid cost 1.6075\n",
      " iteration 2950, train cost 1.1936, valid cost 1.6070\n",
      " iteration 3000, train cost 1.1935, valid cost 1.5988\n",
      " iteration 3050, train cost 1.2134, valid cost 1.6029\n",
      " iteration 3100, train cost 1.2077, valid cost 1.6132\n",
      " iteration 3150, train cost 1.2069, valid cost 1.6080\n",
      " iteration 3200, train cost 1.1871, valid cost 1.6016\n",
      " iteration 3250, train cost 1.1808, valid cost 1.6012\n",
      " iteration 3300, train cost 1.1794, valid cost 1.5991\n",
      " iteration 3350, train cost 1.1868, valid cost 1.6022\n",
      " iteration 3400, train cost 1.1704, valid cost 1.5951\n",
      " iteration 3450, train cost 1.1695, valid cost 1.5961\n",
      " iteration 3500, train cost 1.1648, valid cost 1.5925\n",
      " iteration 3550, train cost 1.1763, valid cost 1.5917\n",
      " iteration 3600, train cost 1.1575, valid cost 1.5893\n",
      " iteration 3650, train cost 1.1537, valid cost 1.5892\n",
      " iteration 3700, train cost 1.4004, valid cost 1.6552\n",
      " iteration 3750, train cost 1.1617, valid cost 1.5815\n",
      " iteration 3800, train cost 1.1494, valid cost 1.5821\n",
      " iteration 3850, train cost 1.1446, valid cost 1.5828\n",
      " iteration 3900, train cost 1.1414, valid cost 1.5845\n",
      " iteration 3950, train cost 1.2683, valid cost 1.6188\n"
     ]
    },
    {
     "data": {
      "text/html": [
       "<br/>Waiting for W&B process to finish, PID 181574<br/>Program ended successfully."
      ],
      "text/plain": [
       "<IPython.core.display.HTML object>"
      ]
     },
     "metadata": {},
     "output_type": "display_data"
    },
    {
     "name": "stderr",
     "output_type": "stream",
     "text": [
      "Widget Javascript not detected.  It may not be installed or enabled properly.\n"
     ]
    },
    {
     "data": {
      "application/vnd.jupyter.widget-view+json": {
       "model_id": "ecf2a52749e4448a8c0457519d3d3b10"
      }
     },
     "metadata": {},
     "output_type": "display_data"
    },
    {
     "data": {
      "text/html": [
       "Find user logs for this run at: <code>/home/sazeglio/NMAs/src/wandb/run-20210814_172644-cn4vkgbo/logs/debug.log</code>"
      ],
      "text/plain": [
       "<IPython.core.display.HTML object>"
      ]
     },
     "metadata": {},
     "output_type": "display_data"
    },
    {
     "data": {
      "text/html": [
       "Find internal logs for this run at: <code>/home/sazeglio/NMAs/src/wandb/run-20210814_172644-cn4vkgbo/logs/debug-internal.log</code>"
      ],
      "text/plain": [
       "<IPython.core.display.HTML object>"
      ]
     },
     "metadata": {},
     "output_type": "display_data"
    },
    {
     "data": {
      "text/html": [
       "<h3>Run summary:</h3><br/><style>\n",
       "    table.wandb td:nth-child(1) { padding: 0 10px; text-align: right }\n",
       "    </style><table class=\"wandb\">\n",
       "<tr><td>train_loss</td><td>1.1564</td></tr><tr><td>valid_loss</td><td>1.57864</td></tr><tr><td>epoch</td><td>3999</td></tr><tr><td>_runtime</td><td>282</td></tr><tr><td>_timestamp</td><td>1628955086</td></tr><tr><td>_step</td><td>3999</td></tr></table>"
      ],
      "text/plain": [
       "<IPython.core.display.HTML object>"
      ]
     },
     "metadata": {},
     "output_type": "display_data"
    },
    {
     "data": {
      "text/html": [
       "<h3>Run history:</h3><br/><style>\n",
       "    table.wandb td:nth-child(1) { padding: 0 10px; text-align: right }\n",
       "    </style><table class=\"wandb\">\n",
       "<tr><td>train_loss</td><td>██▇▆▆▅▅▅▄▄▄▃▃▃▃▃▂▂▂▂▂▂▃▂▂▂▂▂▁▂▁▁▁▁▁▁▁▁▁▁</td></tr><tr><td>valid_loss</td><td>█▇▆▅▄▄▄▃▃▃▃▂▂▂▂▂▂▂▂▂▂▂▂▁▁▁▁▁▁▁▁▁▁▁▁▁▁▁▁▁</td></tr><tr><td>epoch</td><td>▁▁▁▂▂▂▂▂▂▃▃▃▃▃▄▄▄▄▄▄▅▅▅▅▅▅▆▆▆▆▆▇▇▇▇▇▇███</td></tr><tr><td>_runtime</td><td>▁▁▁▂▂▂▂▂▂▃▃▃▃▃▄▄▄▄▄▄▅▅▅▅▅▅▆▆▆▆▆▇▇▇▇▇▇███</td></tr><tr><td>_timestamp</td><td>▁▁▁▂▂▂▂▂▂▃▃▃▃▃▄▄▄▄▄▄▅▅▅▅▅▅▆▆▆▆▆▇▇▇▇▇▇███</td></tr><tr><td>_step</td><td>▁▁▁▂▂▂▂▂▂▃▃▃▃▃▄▄▄▄▄▄▅▅▅▅▅▅▆▆▆▆▆▇▇▇▇▇▇███</td></tr></table><br/>"
      ],
      "text/plain": [
       "<IPython.core.display.HTML object>"
      ]
     },
     "metadata": {},
     "output_type": "display_data"
    },
    {
     "data": {
      "text/html": [
       "Synced 5 W&B file(s), 0 media file(s), 0 artifact file(s) and 0 other file(s)"
      ],
      "text/plain": [
       "<IPython.core.display.HTML object>"
      ]
     },
     "metadata": {},
     "output_type": "display_data"
    },
    {
     "data": {
      "text/html": [
       "\n",
       "                    <br/>Synced <strong style=\"color:#cdcd00\">silvery-sweep-7</strong>: <a href=\"https://wandb.ai/sazio/NMAs-Small-Hidden-Dims/runs/cn4vkgbo\" target=\"_blank\">https://wandb.ai/sazio/NMAs-Small-Hidden-Dims/runs/cn4vkgbo</a><br/>\n",
       "                "
      ],
      "text/plain": [
       "<IPython.core.display.HTML object>"
      ]
     },
     "metadata": {},
     "output_type": "display_data"
    },
    {
     "name": "stderr",
     "output_type": "stream",
     "text": [
      "wandb: Agent Starting Run: mr41gl4p with config:\n",
      "wandb: \tdropout: 0.3\n",
      "wandb: \tepochs: 4000\n",
      "wandb: \tlearning_rate: 0.0007395423702276089\n",
      "wandb: \tn_comp: 100\n",
      "wandb: \tnum_layers: 1\n",
      "wandb: \toptimizer: adam\n",
      "wandb: \tweight_decay: 5e-05\n",
      "Failed to detect the name of this notebook, you can set it manually with the WANDB_NOTEBOOK_NAME environment variable to enable code saving.\n"
     ]
    },
    {
     "data": {
      "text/html": [
       "\n",
       "                Tracking run with wandb version 0.12.0<br/>\n",
       "                Syncing run <strong style=\"color:#cdcd00\">efficient-sweep-8</strong> to <a href=\"https://wandb.ai\" target=\"_blank\">Weights & Biases</a> <a href=\"https://docs.wandb.com/integrations/jupyter.html\" target=\"_blank\">(Documentation)</a>.<br/>\n",
       "                Project page: <a href=\"https://wandb.ai/sazio/NMAs-Small-Hidden-Dims\" target=\"_blank\">https://wandb.ai/sazio/NMAs-Small-Hidden-Dims</a><br/>\n",
       "                Sweep page: <a href=\"https://wandb.ai/sazio/NMAs-Small-Hidden-Dims/sweeps/38qam6fd\" target=\"_blank\">https://wandb.ai/sazio/NMAs-Small-Hidden-Dims/sweeps/38qam6fd</a><br/>\n",
       "Run page: <a href=\"https://wandb.ai/sazio/NMAs-Small-Hidden-Dims/runs/mr41gl4p\" target=\"_blank\">https://wandb.ai/sazio/NMAs-Small-Hidden-Dims/runs/mr41gl4p</a><br/>\n",
       "                Run data is saved locally in <code>/home/sazeglio/NMAs/src/wandb/run-20210814_173135-mr41gl4p</code><br/><br/>\n",
       "            "
      ],
      "text/plain": [
       "<IPython.core.display.HTML object>"
      ]
     },
     "metadata": {},
     "output_type": "display_data"
    },
    {
     "name": "stdout",
     "output_type": "stream",
     "text": [
      " iteration 0, train cost 3.6963, valid cost 3.7887\n",
      " iteration 50, train cost 2.0932, valid cost 2.1795\n",
      " iteration 100, train cost 2.0742, valid cost 2.1624\n",
      " iteration 150, train cost 2.0477, valid cost 2.1330\n",
      " iteration 200, train cost 1.9468, valid cost 2.0227\n",
      " iteration 250, train cost 1.8385, valid cost 1.9116\n",
      " iteration 300, train cost 1.7677, valid cost 1.8485\n",
      " iteration 350, train cost 1.7052, valid cost 1.7950\n",
      " iteration 400, train cost 1.6544, valid cost 1.7494\n",
      " iteration 450, train cost 1.6055, valid cost 1.7055\n",
      " iteration 500, train cost 1.5669, valid cost 1.6696\n",
      " iteration 550, train cost 1.5311, valid cost 1.6351\n",
      " iteration 600, train cost 1.4959, valid cost 1.6033\n",
      " iteration 650, train cost 1.4662, valid cost 1.5766\n",
      " iteration 700, train cost 1.4404, valid cost 1.5487\n",
      " iteration 750, train cost 1.4175, valid cost 1.5275\n",
      " iteration 800, train cost 1.3990, valid cost 1.5086\n",
      " iteration 850, train cost 1.3789, valid cost 1.4909\n",
      " iteration 900, train cost 1.3621, valid cost 1.4764\n",
      " iteration 950, train cost 1.3464, valid cost 1.4625\n",
      " iteration 1000, train cost 1.3323, valid cost 1.4512\n",
      " iteration 1050, train cost 1.3158, valid cost 1.4350\n",
      " iteration 1100, train cost 1.3038, valid cost 1.4253\n",
      " iteration 1150, train cost 1.2926, valid cost 1.4162\n",
      " iteration 1200, train cost 1.2805, valid cost 1.4056\n",
      " iteration 1250, train cost 1.2688, valid cost 1.3957\n",
      " iteration 1300, train cost 1.2592, valid cost 1.3901\n",
      " iteration 1350, train cost 1.2504, valid cost 1.3817\n",
      " iteration 1400, train cost 1.2369, valid cost 1.3711\n",
      " iteration 1450, train cost 1.2291, valid cost 1.3603\n",
      " iteration 1500, train cost 1.2184, valid cost 1.3525\n",
      " iteration 1550, train cost 1.2098, valid cost 1.3458\n",
      " iteration 1600, train cost 1.2001, valid cost 1.3383\n",
      " iteration 1650, train cost 1.1939, valid cost 1.3307\n",
      " iteration 1700, train cost 1.1863, valid cost 1.3260\n",
      " iteration 1750, train cost 1.1789, valid cost 1.3185\n",
      " iteration 1800, train cost 1.1720, valid cost 1.3149\n",
      " iteration 1850, train cost 1.1682, valid cost 1.3071\n",
      " iteration 1900, train cost 1.1593, valid cost 1.3037\n",
      " iteration 1950, train cost 1.1546, valid cost 1.2966\n",
      " iteration 2000, train cost 1.1487, valid cost 1.2916\n",
      " iteration 2050, train cost 1.1423, valid cost 1.2868\n",
      " iteration 2100, train cost 1.1365, valid cost 1.2833\n",
      " iteration 2150, train cost 1.1334, valid cost 1.2781\n",
      " iteration 2200, train cost 1.1288, valid cost 1.2742\n",
      " iteration 2250, train cost 1.1247, valid cost 1.2725\n",
      " iteration 2300, train cost 1.1206, valid cost 1.2678\n",
      " iteration 2350, train cost 1.1145, valid cost 1.2633\n",
      " iteration 2400, train cost 1.1106, valid cost 1.2578\n",
      " iteration 2450, train cost 1.1059, valid cost 1.2533\n",
      " iteration 2500, train cost 1.1019, valid cost 1.2511\n",
      " iteration 2550, train cost 1.0993, valid cost 1.2476\n",
      " iteration 2600, train cost 1.0944, valid cost 1.2431\n",
      " iteration 2650, train cost 1.0911, valid cost 1.2408\n",
      " iteration 2700, train cost 1.0871, valid cost 1.2382\n",
      " iteration 2750, train cost 1.0873, valid cost 1.2371\n",
      " iteration 2800, train cost 1.0806, valid cost 1.2330\n",
      " iteration 2850, train cost 1.0764, valid cost 1.2300\n",
      " iteration 2900, train cost 1.0734, valid cost 1.2286\n",
      " iteration 2950, train cost 1.0705, valid cost 1.2236\n",
      " iteration 3000, train cost 1.0684, valid cost 1.2212\n",
      " iteration 3050, train cost 1.0655, valid cost 1.2193\n",
      " iteration 3100, train cost 1.0641, valid cost 1.2166\n",
      " iteration 3150, train cost 1.0612, valid cost 1.2133\n",
      " iteration 3200, train cost 1.0598, valid cost 1.2113\n",
      " iteration 3250, train cost 1.0583, valid cost 1.2078\n",
      " iteration 3300, train cost 1.0571, valid cost 1.2067\n",
      " iteration 3350, train cost 1.0525, valid cost 1.2043\n",
      " iteration 3400, train cost 1.0500, valid cost 1.2034\n",
      " iteration 3450, train cost 1.0473, valid cost 1.1993\n",
      " iteration 3500, train cost 1.0489, valid cost 1.1975\n",
      " iteration 3550, train cost 1.0451, valid cost 1.1955\n",
      " iteration 3600, train cost 1.0431, valid cost 1.1949\n",
      " iteration 3650, train cost 1.0426, valid cost 1.1931\n",
      " iteration 3700, train cost 1.0426, valid cost 1.1933\n",
      " iteration 3750, train cost 1.0413, valid cost 1.1896\n",
      " iteration 3800, train cost 1.0395, valid cost 1.1884\n",
      " iteration 3850, train cost 1.0375, valid cost 1.1843\n",
      " iteration 3900, train cost 1.0359, valid cost 1.1846\n",
      " iteration 3950, train cost 1.0354, valid cost 1.1813\n"
     ]
    },
    {
     "data": {
      "text/html": [
       "<br/>Waiting for W&B process to finish, PID 181673<br/>Program ended successfully."
      ],
      "text/plain": [
       "<IPython.core.display.HTML object>"
      ]
     },
     "metadata": {},
     "output_type": "display_data"
    },
    {
     "name": "stderr",
     "output_type": "stream",
     "text": [
      "Widget Javascript not detected.  It may not be installed or enabled properly.\n"
     ]
    },
    {
     "data": {
      "application/vnd.jupyter.widget-view+json": {
       "model_id": "be30a66d96f341f38e6d1c29b0d3e81e"
      }
     },
     "metadata": {},
     "output_type": "display_data"
    },
    {
     "data": {
      "text/html": [
       "Find user logs for this run at: <code>/home/sazeglio/NMAs/src/wandb/run-20210814_173135-mr41gl4p/logs/debug.log</code>"
      ],
      "text/plain": [
       "<IPython.core.display.HTML object>"
      ]
     },
     "metadata": {},
     "output_type": "display_data"
    },
    {
     "data": {
      "text/html": [
       "Find internal logs for this run at: <code>/home/sazeglio/NMAs/src/wandb/run-20210814_173135-mr41gl4p/logs/debug-internal.log</code>"
      ],
      "text/plain": [
       "<IPython.core.display.HTML object>"
      ]
     },
     "metadata": {},
     "output_type": "display_data"
    },
    {
     "data": {
      "text/html": [
       "<h3>Run summary:</h3><br/><style>\n",
       "    table.wandb td:nth-child(1) { padding: 0 10px; text-align: right }\n",
       "    </style><table class=\"wandb\">\n",
       "<tr><td>train_loss</td><td>1.03545</td></tr><tr><td>valid_loss</td><td>1.17934</td></tr><tr><td>epoch</td><td>3999</td></tr><tr><td>_runtime</td><td>279</td></tr><tr><td>_timestamp</td><td>1628955374</td></tr><tr><td>_step</td><td>3999</td></tr></table>"
      ],
      "text/plain": [
       "<IPython.core.display.HTML object>"
      ]
     },
     "metadata": {},
     "output_type": "display_data"
    },
    {
     "data": {
      "text/html": [
       "<h3>Run history:</h3><br/><style>\n",
       "    table.wandb td:nth-child(1) { padding: 0 10px; text-align: right }\n",
       "    </style><table class=\"wandb\">\n",
       "<tr><td>train_loss</td><td>█▇▆▅▅▄▄▃▃▃▃▃▂▂▂▂▂▂▂▂▂▂▂▁▁▁▁▁▁▁▁▁▁▁▁▁▁▁▁▁</td></tr><tr><td>valid_loss</td><td>█▇▆▅▅▄▄▃▃▃▃▃▂▂▂▂▂▂▂▂▂▂▂▂▁▁▁▁▁▁▁▁▁▁▁▁▁▁▁▁</td></tr><tr><td>epoch</td><td>▁▁▁▂▂▂▂▂▂▃▃▃▃▃▄▄▄▄▄▄▅▅▅▅▅▅▆▆▆▆▆▇▇▇▇▇▇███</td></tr><tr><td>_runtime</td><td>▁▁▁▂▂▂▂▂▂▃▃▃▃▃▄▄▄▄▄▄▅▅▅▅▅▅▆▆▆▆▆▇▇▇▇▇▇███</td></tr><tr><td>_timestamp</td><td>▁▁▁▂▂▂▂▂▂▃▃▃▃▃▄▄▄▄▄▄▅▅▅▅▅▅▆▆▆▆▆▇▇▇▇▇▇███</td></tr><tr><td>_step</td><td>▁▁▁▂▂▂▂▂▂▃▃▃▃▃▄▄▄▄▄▄▅▅▅▅▅▅▆▆▆▆▆▇▇▇▇▇▇███</td></tr></table><br/>"
      ],
      "text/plain": [
       "<IPython.core.display.HTML object>"
      ]
     },
     "metadata": {},
     "output_type": "display_data"
    },
    {
     "data": {
      "text/html": [
       "Synced 5 W&B file(s), 0 media file(s), 0 artifact file(s) and 0 other file(s)"
      ],
      "text/plain": [
       "<IPython.core.display.HTML object>"
      ]
     },
     "metadata": {},
     "output_type": "display_data"
    },
    {
     "data": {
      "text/html": [
       "\n",
       "                    <br/>Synced <strong style=\"color:#cdcd00\">efficient-sweep-8</strong>: <a href=\"https://wandb.ai/sazio/NMAs-Small-Hidden-Dims/runs/mr41gl4p\" target=\"_blank\">https://wandb.ai/sazio/NMAs-Small-Hidden-Dims/runs/mr41gl4p</a><br/>\n",
       "                "
      ],
      "text/plain": [
       "<IPython.core.display.HTML object>"
      ]
     },
     "metadata": {},
     "output_type": "display_data"
    },
    {
     "name": "stderr",
     "output_type": "stream",
     "text": [
      "wandb: Agent Starting Run: to0ktnvl with config:\n",
      "wandb: \tdropout: 0.5\n",
      "wandb: \tepochs: 4000\n",
      "wandb: \tlearning_rate: 0.0003674757375018231\n",
      "wandb: \tn_comp: 150\n",
      "wandb: \tnum_layers: 1\n",
      "wandb: \toptimizer: adam\n",
      "wandb: \tweight_decay: 1e-05\n",
      "Failed to detect the name of this notebook, you can set it manually with the WANDB_NOTEBOOK_NAME environment variable to enable code saving.\n"
     ]
    },
    {
     "data": {
      "text/html": [
       "\n",
       "                Tracking run with wandb version 0.12.0<br/>\n",
       "                Syncing run <strong style=\"color:#cdcd00\">peach-sweep-9</strong> to <a href=\"https://wandb.ai\" target=\"_blank\">Weights & Biases</a> <a href=\"https://docs.wandb.com/integrations/jupyter.html\" target=\"_blank\">(Documentation)</a>.<br/>\n",
       "                Project page: <a href=\"https://wandb.ai/sazio/NMAs-Small-Hidden-Dims\" target=\"_blank\">https://wandb.ai/sazio/NMAs-Small-Hidden-Dims</a><br/>\n",
       "                Sweep page: <a href=\"https://wandb.ai/sazio/NMAs-Small-Hidden-Dims/sweeps/38qam6fd\" target=\"_blank\">https://wandb.ai/sazio/NMAs-Small-Hidden-Dims/sweeps/38qam6fd</a><br/>\n",
       "Run page: <a href=\"https://wandb.ai/sazio/NMAs-Small-Hidden-Dims/runs/to0ktnvl\" target=\"_blank\">https://wandb.ai/sazio/NMAs-Small-Hidden-Dims/runs/to0ktnvl</a><br/>\n",
       "                Run data is saved locally in <code>/home/sazeglio/NMAs/src/wandb/run-20210814_173619-to0ktnvl</code><br/><br/>\n",
       "            "
      ],
      "text/plain": [
       "<IPython.core.display.HTML object>"
      ]
     },
     "metadata": {},
     "output_type": "display_data"
    },
    {
     "name": "stdout",
     "output_type": "stream",
     "text": [
      " iteration 0, train cost 3.7048, valid cost 3.8013\n",
      " iteration 50, train cost 2.1687, valid cost 2.2469\n",
      " iteration 100, train cost 2.0835, valid cost 2.1676\n",
      " iteration 150, train cost 2.0774, valid cost 2.1639\n",
      " iteration 200, train cost 2.0712, valid cost 2.1593\n",
      " iteration 250, train cost 2.0509, valid cost 2.1399\n",
      " iteration 300, train cost 1.9720, valid cost 2.0581\n",
      " iteration 350, train cost 1.8977, valid cost 1.9815\n",
      " iteration 400, train cost 1.8598, valid cost 1.9430\n",
      " iteration 450, train cost 1.8258, valid cost 1.9069\n",
      " iteration 500, train cost 1.7839, valid cost 1.8628\n",
      " iteration 550, train cost 1.7482, valid cost 1.8309\n",
      " iteration 600, train cost 1.7150, valid cost 1.8054\n",
      " iteration 650, train cost 1.6838, valid cost 1.7797\n",
      " iteration 700, train cost 1.6493, valid cost 1.7503\n",
      " iteration 750, train cost 1.6172, valid cost 1.7233\n",
      " iteration 800, train cost 1.5882, valid cost 1.6982\n",
      " iteration 850, train cost 1.5610, valid cost 1.6748\n",
      " iteration 900, train cost 1.5352, valid cost 1.6532\n",
      " iteration 950, train cost 1.5115, valid cost 1.6307\n",
      " iteration 1000, train cost 1.4892, valid cost 1.6095\n",
      " iteration 1050, train cost 1.4678, valid cost 1.5891\n",
      " iteration 1100, train cost 1.4485, valid cost 1.5703\n",
      " iteration 1150, train cost 1.4295, valid cost 1.5531\n",
      " iteration 1200, train cost 1.4136, valid cost 1.5394\n",
      " iteration 1250, train cost 1.3994, valid cost 1.5278\n",
      " iteration 1300, train cost 1.3854, valid cost 1.5155\n",
      " iteration 1350, train cost 1.3726, valid cost 1.5039\n",
      " iteration 1400, train cost 1.3601, valid cost 1.4933\n",
      " iteration 1450, train cost 1.3491, valid cost 1.4842\n",
      " iteration 1500, train cost 1.3366, valid cost 1.4758\n",
      " iteration 1550, train cost 1.3260, valid cost 1.4668\n",
      " iteration 1600, train cost 1.3168, valid cost 1.4589\n",
      " iteration 1650, train cost 1.3074, valid cost 1.4512\n",
      " iteration 1700, train cost 1.2994, valid cost 1.4444\n",
      " iteration 1750, train cost 1.2903, valid cost 1.4372\n",
      " iteration 1800, train cost 1.2808, valid cost 1.4292\n",
      " iteration 1850, train cost 1.2726, valid cost 1.4220\n",
      " iteration 1900, train cost 1.2625, valid cost 1.4146\n",
      " iteration 1950, train cost 1.2554, valid cost 1.4082\n",
      " iteration 2000, train cost 1.2513, valid cost 1.4073\n",
      " iteration 2050, train cost 1.2407, valid cost 1.3967\n",
      " iteration 2100, train cost 1.2335, valid cost 1.3919\n",
      " iteration 2150, train cost 1.2285, valid cost 1.3876\n",
      " iteration 2200, train cost 1.2227, valid cost 1.3829\n",
      " iteration 2250, train cost 1.2158, valid cost 1.3793\n",
      " iteration 2300, train cost 1.2113, valid cost 1.3750\n",
      " iteration 2350, train cost 1.2029, valid cost 1.3704\n",
      " iteration 2400, train cost 1.2003, valid cost 1.3660\n",
      " iteration 2450, train cost 1.1919, valid cost 1.3616\n",
      " iteration 2500, train cost 1.1877, valid cost 1.3566\n",
      " iteration 2550, train cost 1.1821, valid cost 1.3530\n",
      " iteration 2600, train cost 1.1777, valid cost 1.3486\n",
      " iteration 2650, train cost 1.1711, valid cost 1.3444\n",
      " iteration 2700, train cost 1.1674, valid cost 1.3397\n",
      " iteration 2750, train cost 1.1609, valid cost 1.3369\n",
      " iteration 2800, train cost 1.1572, valid cost 1.3336\n",
      " iteration 2850, train cost 1.1528, valid cost 1.3298\n",
      " iteration 2900, train cost 1.1482, valid cost 1.3257\n",
      " iteration 2950, train cost 1.1420, valid cost 1.3226\n",
      " iteration 3000, train cost 1.1366, valid cost 1.3187\n",
      " iteration 3050, train cost 1.1342, valid cost 1.3139\n",
      " iteration 3100, train cost 1.1296, valid cost 1.3115\n",
      " iteration 3150, train cost 1.1245, valid cost 1.3077\n",
      " iteration 3200, train cost 1.1192, valid cost 1.3043\n",
      " iteration 3250, train cost 1.1155, valid cost 1.3014\n",
      " iteration 3300, train cost 1.1097, valid cost 1.2982\n",
      " iteration 3350, train cost 1.1067, valid cost 1.2954\n",
      " iteration 3400, train cost 1.1013, valid cost 1.2921\n",
      " iteration 3450, train cost 1.0980, valid cost 1.2880\n",
      " iteration 3500, train cost 1.0940, valid cost 1.2854\n",
      " iteration 3550, train cost 1.0890, valid cost 1.2820\n",
      " iteration 3600, train cost 1.0862, valid cost 1.2781\n",
      " iteration 3650, train cost 1.0826, valid cost 1.2761\n",
      " iteration 3700, train cost 1.0789, valid cost 1.2733\n",
      " iteration 3750, train cost 1.0756, valid cost 1.2707\n",
      " iteration 3800, train cost 1.0719, valid cost 1.2696\n",
      " iteration 3850, train cost 1.0712, valid cost 1.2665\n",
      " iteration 3900, train cost 1.0663, valid cost 1.2648\n",
      " iteration 3950, train cost 1.0643, valid cost 1.2616\n"
     ]
    },
    {
     "data": {
      "text/html": [
       "<br/>Waiting for W&B process to finish, PID 181774<br/>Program ended successfully."
      ],
      "text/plain": [
       "<IPython.core.display.HTML object>"
      ]
     },
     "metadata": {},
     "output_type": "display_data"
    },
    {
     "name": "stderr",
     "output_type": "stream",
     "text": [
      "Widget Javascript not detected.  It may not be installed or enabled properly.\n"
     ]
    },
    {
     "data": {
      "application/vnd.jupyter.widget-view+json": {
       "model_id": "cb531d29e9e2431f85aaf9c16de5d88f"
      }
     },
     "metadata": {},
     "output_type": "display_data"
    },
    {
     "data": {
      "text/html": [
       "Find user logs for this run at: <code>/home/sazeglio/NMAs/src/wandb/run-20210814_173619-to0ktnvl/logs/debug.log</code>"
      ],
      "text/plain": [
       "<IPython.core.display.HTML object>"
      ]
     },
     "metadata": {},
     "output_type": "display_data"
    },
    {
     "data": {
      "text/html": [
       "Find internal logs for this run at: <code>/home/sazeglio/NMAs/src/wandb/run-20210814_173619-to0ktnvl/logs/debug-internal.log</code>"
      ],
      "text/plain": [
       "<IPython.core.display.HTML object>"
      ]
     },
     "metadata": {},
     "output_type": "display_data"
    },
    {
     "data": {
      "text/html": [
       "<h3>Run summary:</h3><br/><style>\n",
       "    table.wandb td:nth-child(1) { padding: 0 10px; text-align: right }\n",
       "    </style><table class=\"wandb\">\n",
       "<tr><td>train_loss</td><td>1.05951</td></tr><tr><td>valid_loss</td><td>1.26022</td></tr><tr><td>epoch</td><td>3999</td></tr><tr><td>_runtime</td><td>279</td></tr><tr><td>_timestamp</td><td>1628955658</td></tr><tr><td>_step</td><td>3999</td></tr></table>"
      ],
      "text/plain": [
       "<IPython.core.display.HTML object>"
      ]
     },
     "metadata": {},
     "output_type": "display_data"
    },
    {
     "data": {
      "text/html": [
       "<h3>Run history:</h3><br/><style>\n",
       "    table.wandb td:nth-child(1) { padding: 0 10px; text-align: right }\n",
       "    </style><table class=\"wandb\">\n",
       "<tr><td>train_loss</td><td>█▆▆▅▅▄▄▄▃▃▃▃▃▂▂▂▂▂▂▂▂▂▂▂▂▂▂▁▁▁▁▁▁▁▁▁▁▁▁▁</td></tr><tr><td>valid_loss</td><td>█▆▆▅▅▄▄▃▃▃▃▃▂▂▂▂▂▂▂▂▂▂▂▂▂▁▁▁▁▁▁▁▁▁▁▁▁▁▁▁</td></tr><tr><td>epoch</td><td>▁▁▁▂▂▂▂▂▂▃▃▃▃▃▄▄▄▄▄▄▅▅▅▅▅▅▆▆▆▆▆▇▇▇▇▇▇███</td></tr><tr><td>_runtime</td><td>▁▁▁▂▂▂▂▂▂▃▃▃▃▃▃▄▄▄▄▄▅▅▅▅▅▅▆▆▆▆▆▇▇▇▇▇▇███</td></tr><tr><td>_timestamp</td><td>▁▁▁▂▂▂▂▂▂▃▃▃▃▃▃▄▄▄▄▄▅▅▅▅▅▅▆▆▆▆▆▇▇▇▇▇▇███</td></tr><tr><td>_step</td><td>▁▁▁▂▂▂▂▂▂▃▃▃▃▃▄▄▄▄▄▄▅▅▅▅▅▅▆▆▆▆▆▇▇▇▇▇▇███</td></tr></table><br/>"
      ],
      "text/plain": [
       "<IPython.core.display.HTML object>"
      ]
     },
     "metadata": {},
     "output_type": "display_data"
    },
    {
     "data": {
      "text/html": [
       "Synced 5 W&B file(s), 0 media file(s), 0 artifact file(s) and 0 other file(s)"
      ],
      "text/plain": [
       "<IPython.core.display.HTML object>"
      ]
     },
     "metadata": {},
     "output_type": "display_data"
    },
    {
     "data": {
      "text/html": [
       "\n",
       "                    <br/>Synced <strong style=\"color:#cdcd00\">peach-sweep-9</strong>: <a href=\"https://wandb.ai/sazio/NMAs-Small-Hidden-Dims/runs/to0ktnvl\" target=\"_blank\">https://wandb.ai/sazio/NMAs-Small-Hidden-Dims/runs/to0ktnvl</a><br/>\n",
       "                "
      ],
      "text/plain": [
       "<IPython.core.display.HTML object>"
      ]
     },
     "metadata": {},
     "output_type": "display_data"
    },
    {
     "name": "stderr",
     "output_type": "stream",
     "text": [
      "wandb: Agent Starting Run: qq4g0im3 with config:\n",
      "wandb: \tdropout: 0.3\n",
      "wandb: \tepochs: 4000\n",
      "wandb: \tlearning_rate: 0.0003127226333871132\n",
      "wandb: \tn_comp: 50\n",
      "wandb: \tnum_layers: 1\n",
      "wandb: \toptimizer: adam\n",
      "wandb: \tweight_decay: 1e-05\n",
      "Failed to detect the name of this notebook, you can set it manually with the WANDB_NOTEBOOK_NAME environment variable to enable code saving.\n"
     ]
    },
    {
     "data": {
      "text/html": [
       "\n",
       "                Tracking run with wandb version 0.12.0<br/>\n",
       "                Syncing run <strong style=\"color:#cdcd00\">radiant-sweep-10</strong> to <a href=\"https://wandb.ai\" target=\"_blank\">Weights & Biases</a> <a href=\"https://docs.wandb.com/integrations/jupyter.html\" target=\"_blank\">(Documentation)</a>.<br/>\n",
       "                Project page: <a href=\"https://wandb.ai/sazio/NMAs-Small-Hidden-Dims\" target=\"_blank\">https://wandb.ai/sazio/NMAs-Small-Hidden-Dims</a><br/>\n",
       "                Sweep page: <a href=\"https://wandb.ai/sazio/NMAs-Small-Hidden-Dims/sweeps/38qam6fd\" target=\"_blank\">https://wandb.ai/sazio/NMAs-Small-Hidden-Dims/sweeps/38qam6fd</a><br/>\n",
       "Run page: <a href=\"https://wandb.ai/sazio/NMAs-Small-Hidden-Dims/runs/qq4g0im3\" target=\"_blank\">https://wandb.ai/sazio/NMAs-Small-Hidden-Dims/runs/qq4g0im3</a><br/>\n",
       "                Run data is saved locally in <code>/home/sazeglio/NMAs/src/wandb/run-20210814_174103-qq4g0im3</code><br/><br/>\n",
       "            "
      ],
      "text/plain": [
       "<IPython.core.display.HTML object>"
      ]
     },
     "metadata": {},
     "output_type": "display_data"
    },
    {
     "name": "stdout",
     "output_type": "stream",
     "text": [
      " iteration 0, train cost 3.7077, valid cost 3.8042\n",
      " iteration 50, train cost 2.2171, valid cost 2.2883\n",
      " iteration 100, train cost 2.0865, valid cost 2.1687\n",
      " iteration 150, train cost 2.0788, valid cost 2.1645\n",
      " iteration 200, train cost 2.0725, valid cost 2.1602\n",
      " iteration 250, train cost 2.0497, valid cost 2.1378\n",
      " iteration 300, train cost 1.9816, valid cost 2.0641\n",
      " iteration 350, train cost 1.9187, valid cost 1.9992\n",
      " iteration 400, train cost 1.8627, valid cost 1.9400\n",
      " iteration 450, train cost 1.8177, valid cost 1.8931\n",
      " iteration 500, train cost 1.7959, valid cost 1.8743\n",
      " iteration 550, train cost 1.7693, valid cost 1.8534\n",
      " iteration 600, train cost 1.7410, valid cost 1.8318\n",
      " iteration 650, train cost 1.7064, valid cost 1.8024\n",
      " iteration 700, train cost 1.6684, valid cost 1.7674\n",
      " iteration 750, train cost 1.6343, valid cost 1.7375\n",
      " iteration 800, train cost 1.6056, valid cost 1.7119\n",
      " iteration 850, train cost 1.5794, valid cost 1.6887\n",
      " iteration 900, train cost 1.5573, valid cost 1.6682\n",
      " iteration 950, train cost 1.5363, valid cost 1.6502\n",
      " iteration 1000, train cost 1.5170, valid cost 1.6334\n",
      " iteration 1050, train cost 1.5007, valid cost 1.6187\n",
      " iteration 1100, train cost 1.4846, valid cost 1.6048\n",
      " iteration 1150, train cost 1.4704, valid cost 1.5910\n",
      " iteration 1200, train cost 1.4551, valid cost 1.5785\n",
      " iteration 1250, train cost 1.4419, valid cost 1.5657\n",
      " iteration 1300, train cost 1.4278, valid cost 1.5537\n",
      " iteration 1350, train cost 1.4149, valid cost 1.5412\n",
      " iteration 1400, train cost 1.4001, valid cost 1.5288\n",
      " iteration 1450, train cost 1.3875, valid cost 1.5166\n",
      " iteration 1500, train cost 1.3739, valid cost 1.5055\n",
      " iteration 1550, train cost 1.3633, valid cost 1.4953\n",
      " iteration 1600, train cost 1.3523, valid cost 1.4867\n",
      " iteration 1650, train cost 1.3411, valid cost 1.4778\n",
      " iteration 1700, train cost 1.3328, valid cost 1.4704\n",
      " iteration 1750, train cost 1.3239, valid cost 1.4626\n",
      " iteration 1800, train cost 1.3163, valid cost 1.4564\n",
      " iteration 1850, train cost 1.3078, valid cost 1.4497\n",
      " iteration 1900, train cost 1.2984, valid cost 1.4425\n",
      " iteration 1950, train cost 1.2918, valid cost 1.4353\n",
      " iteration 2000, train cost 1.2835, valid cost 1.4281\n",
      " iteration 2050, train cost 1.2744, valid cost 1.4221\n",
      " iteration 2100, train cost 1.2680, valid cost 1.4160\n",
      " iteration 2150, train cost 1.2599, valid cost 1.4101\n",
      " iteration 2200, train cost 1.2540, valid cost 1.4044\n",
      " iteration 2250, train cost 1.2480, valid cost 1.3993\n",
      " iteration 2300, train cost 1.2395, valid cost 1.3946\n",
      " iteration 2350, train cost 1.2361, valid cost 1.3900\n",
      " iteration 2400, train cost 1.2300, valid cost 1.3858\n",
      " iteration 2450, train cost 1.2229, valid cost 1.3818\n",
      " iteration 2500, train cost 1.2194, valid cost 1.3779\n",
      " iteration 2550, train cost 1.2138, valid cost 1.3737\n",
      " iteration 2600, train cost 1.2086, valid cost 1.3706\n",
      " iteration 2650, train cost 1.2038, valid cost 1.3668\n",
      " iteration 2700, train cost 1.1984, valid cost 1.3633\n",
      " iteration 2750, train cost 1.1945, valid cost 1.3602\n",
      " iteration 2800, train cost 1.1889, valid cost 1.3571\n",
      " iteration 2850, train cost 1.1852, valid cost 1.3540\n",
      " iteration 2900, train cost 1.1824, valid cost 1.3507\n",
      " iteration 2950, train cost 1.1761, valid cost 1.3483\n",
      " iteration 3000, train cost 1.1743, valid cost 1.3452\n",
      " iteration 3050, train cost 1.1698, valid cost 1.3533\n",
      " iteration 3100, train cost 1.1653, valid cost 1.3389\n",
      " iteration 3150, train cost 1.1613, valid cost 1.3360\n",
      " iteration 3200, train cost 1.1582, valid cost 1.3337\n",
      " iteration 3250, train cost 1.1539, valid cost 1.3307\n",
      " iteration 3300, train cost 1.1500, valid cost 1.3283\n",
      " iteration 3350, train cost 1.1469, valid cost 1.3259\n",
      " iteration 3400, train cost 1.1428, valid cost 1.3231\n",
      " iteration 3450, train cost 1.1386, valid cost 1.3212\n",
      " iteration 3500, train cost 1.1354, valid cost 1.3192\n",
      " iteration 3550, train cost 1.1324, valid cost 1.3164\n",
      " iteration 3600, train cost 1.1288, valid cost 1.3141\n",
      " iteration 3650, train cost 1.1261, valid cost 1.3124\n",
      " iteration 3700, train cost 1.1212, valid cost 1.3101\n",
      " iteration 3750, train cost 1.1174, valid cost 1.3074\n",
      " iteration 3800, train cost 1.1141, valid cost 1.3054\n",
      " iteration 3850, train cost 1.1121, valid cost 1.3023\n",
      " iteration 3900, train cost 1.1087, valid cost 1.3007\n",
      " iteration 3950, train cost 1.1040, valid cost 1.2975\n"
     ]
    },
    {
     "data": {
      "text/html": [
       "<br/>Waiting for W&B process to finish, PID 181921<br/>Program ended successfully."
      ],
      "text/plain": [
       "<IPython.core.display.HTML object>"
      ]
     },
     "metadata": {},
     "output_type": "display_data"
    },
    {
     "name": "stderr",
     "output_type": "stream",
     "text": [
      "Widget Javascript not detected.  It may not be installed or enabled properly.\n"
     ]
    },
    {
     "data": {
      "application/vnd.jupyter.widget-view+json": {
       "model_id": "6e5b2eda2b37499dae894a0ef9049b24"
      }
     },
     "metadata": {},
     "output_type": "display_data"
    },
    {
     "data": {
      "text/html": [
       "Find user logs for this run at: <code>/home/sazeglio/NMAs/src/wandb/run-20210814_174103-qq4g0im3/logs/debug.log</code>"
      ],
      "text/plain": [
       "<IPython.core.display.HTML object>"
      ]
     },
     "metadata": {},
     "output_type": "display_data"
    },
    {
     "data": {
      "text/html": [
       "Find internal logs for this run at: <code>/home/sazeglio/NMAs/src/wandb/run-20210814_174103-qq4g0im3/logs/debug-internal.log</code>"
      ],
      "text/plain": [
       "<IPython.core.display.HTML object>"
      ]
     },
     "metadata": {},
     "output_type": "display_data"
    },
    {
     "data": {
      "text/html": [
       "<h3>Run summary:</h3><br/><style>\n",
       "    table.wandb td:nth-child(1) { padding: 0 10px; text-align: right }\n",
       "    </style><table class=\"wandb\">\n",
       "<tr><td>train_loss</td><td>1.10252</td></tr><tr><td>valid_loss</td><td>1.29609</td></tr><tr><td>epoch</td><td>3999</td></tr><tr><td>_runtime</td><td>279</td></tr><tr><td>_timestamp</td><td>1628955942</td></tr><tr><td>_step</td><td>3999</td></tr></table>"
      ],
      "text/plain": [
       "<IPython.core.display.HTML object>"
      ]
     },
     "metadata": {},
     "output_type": "display_data"
    },
    {
     "data": {
      "text/html": [
       "<h3>Run history:</h3><br/><style>\n",
       "    table.wandb td:nth-child(1) { padding: 0 10px; text-align: right }\n",
       "    </style><table class=\"wandb\">\n",
       "<tr><td>train_loss</td><td>█▅▅▅▄▄▄▃▃▃▃▃▃▂▂▂▂▂▂▂▂▂▂▂▂▁▁▁▁▁▁▁▁▁▁▁▁▁▁▁</td></tr><tr><td>valid_loss</td><td>█▅▅▅▄▄▄▃▃▃▃▃▂▂▂▂▂▂▂▂▂▂▂▁▁▁▁▁▁▁▁▁▁▁▁▁▁▁▁▁</td></tr><tr><td>epoch</td><td>▁▁▁▂▂▂▂▂▂▃▃▃▃▃▄▄▄▄▄▄▅▅▅▅▅▅▆▆▆▆▆▇▇▇▇▇▇███</td></tr><tr><td>_runtime</td><td>▁▁▁▂▂▂▂▂▂▃▃▃▃▃▄▄▄▄▄▄▅▅▅▅▅▅▆▆▆▆▆▇▇▇▇▇▇███</td></tr><tr><td>_timestamp</td><td>▁▁▁▂▂▂▂▂▂▃▃▃▃▃▄▄▄▄▄▄▅▅▅▅▅▅▆▆▆▆▆▇▇▇▇▇▇███</td></tr><tr><td>_step</td><td>▁▁▁▂▂▂▂▂▂▃▃▃▃▃▄▄▄▄▄▄▅▅▅▅▅▅▆▆▆▆▆▇▇▇▇▇▇███</td></tr></table><br/>"
      ],
      "text/plain": [
       "<IPython.core.display.HTML object>"
      ]
     },
     "metadata": {},
     "output_type": "display_data"
    },
    {
     "data": {
      "text/html": [
       "Synced 5 W&B file(s), 0 media file(s), 0 artifact file(s) and 0 other file(s)"
      ],
      "text/plain": [
       "<IPython.core.display.HTML object>"
      ]
     },
     "metadata": {},
     "output_type": "display_data"
    },
    {
     "data": {
      "text/html": [
       "\n",
       "                    <br/>Synced <strong style=\"color:#cdcd00\">radiant-sweep-10</strong>: <a href=\"https://wandb.ai/sazio/NMAs-Small-Hidden-Dims/runs/qq4g0im3\" target=\"_blank\">https://wandb.ai/sazio/NMAs-Small-Hidden-Dims/runs/qq4g0im3</a><br/>\n",
       "                "
      ],
      "text/plain": [
       "<IPython.core.display.HTML object>"
      ]
     },
     "metadata": {},
     "output_type": "display_data"
    },
    {
     "name": "stderr",
     "output_type": "stream",
     "text": [
      "wandb: Agent Starting Run: v9z4wabu with config:\n",
      "wandb: \tdropout: 0.2\n",
      "wandb: \tepochs: 4000\n",
      "wandb: \tlearning_rate: 0.00011175376672372573\n",
      "wandb: \tn_comp: 150\n",
      "wandb: \tnum_layers: 1\n",
      "wandb: \toptimizer: adam\n",
      "wandb: \tweight_decay: 0\n",
      "Failed to detect the name of this notebook, you can set it manually with the WANDB_NOTEBOOK_NAME environment variable to enable code saving.\n"
     ]
    },
    {
     "data": {
      "text/html": [
       "\n",
       "                Tracking run with wandb version 0.12.0<br/>\n",
       "                Syncing run <strong style=\"color:#cdcd00\">legendary-sweep-11</strong> to <a href=\"https://wandb.ai\" target=\"_blank\">Weights & Biases</a> <a href=\"https://docs.wandb.com/integrations/jupyter.html\" target=\"_blank\">(Documentation)</a>.<br/>\n",
       "                Project page: <a href=\"https://wandb.ai/sazio/NMAs-Small-Hidden-Dims\" target=\"_blank\">https://wandb.ai/sazio/NMAs-Small-Hidden-Dims</a><br/>\n",
       "                Sweep page: <a href=\"https://wandb.ai/sazio/NMAs-Small-Hidden-Dims/sweeps/38qam6fd\" target=\"_blank\">https://wandb.ai/sazio/NMAs-Small-Hidden-Dims/sweeps/38qam6fd</a><br/>\n",
       "Run page: <a href=\"https://wandb.ai/sazio/NMAs-Small-Hidden-Dims/runs/v9z4wabu\" target=\"_blank\">https://wandb.ai/sazio/NMAs-Small-Hidden-Dims/runs/v9z4wabu</a><br/>\n",
       "                Run data is saved locally in <code>/home/sazeglio/NMAs/src/wandb/run-20210814_174548-v9z4wabu</code><br/><br/>\n",
       "            "
      ],
      "text/plain": [
       "<IPython.core.display.HTML object>"
      ]
     },
     "metadata": {},
     "output_type": "display_data"
    },
    {
     "name": "stdout",
     "output_type": "stream",
     "text": [
      " iteration 0, train cost 3.7102, valid cost 3.8097\n",
      " iteration 50, train cost 3.0949, valid cost 3.1565\n",
      " iteration 100, train cost 2.2979, valid cost 2.3605\n",
      " iteration 150, train cost 2.1244, valid cost 2.1953\n",
      " iteration 200, train cost 2.0953, valid cost 2.1707\n",
      " iteration 250, train cost 2.0879, valid cost 2.1670\n",
      " iteration 300, train cost 2.0838, valid cost 2.1657\n",
      " iteration 350, train cost 2.0812, valid cost 2.1649\n",
      " iteration 400, train cost 2.0790, valid cost 2.1640\n",
      " iteration 450, train cost 2.0766, valid cost 2.1626\n",
      " iteration 500, train cost 2.0731, valid cost 2.1604\n",
      " iteration 550, train cost 2.0687, valid cost 2.1566\n",
      " iteration 600, train cost 2.0602, valid cost 2.1492\n",
      " iteration 650, train cost 2.0441, valid cost 2.1339\n",
      " iteration 700, train cost 2.0189, valid cost 2.1091\n",
      " iteration 750, train cost 1.9939, valid cost 2.0835\n",
      " iteration 800, train cost 1.9693, valid cost 2.0578\n",
      " iteration 850, train cost 1.9465, valid cost 2.0326\n",
      " iteration 900, train cost 1.9278, valid cost 2.0123\n",
      " iteration 950, train cost 1.9111, valid cost 1.9942\n",
      " iteration 1000, train cost 1.8914, valid cost 1.9740\n",
      " iteration 1050, train cost 1.8701, valid cost 1.9524\n",
      " iteration 1100, train cost 1.8491, valid cost 1.9307\n",
      " iteration 1150, train cost 1.8296, valid cost 1.9099\n",
      " iteration 1200, train cost 1.8136, valid cost 1.8939\n",
      " iteration 1250, train cost 1.8012, valid cost 1.8821\n",
      " iteration 1300, train cost 1.7890, valid cost 1.8713\n",
      " iteration 1350, train cost 1.7755, valid cost 1.8594\n",
      " iteration 1400, train cost 1.7599, valid cost 1.8460\n",
      " iteration 1450, train cost 1.7432, valid cost 1.8321\n",
      " iteration 1500, train cost 1.7268, valid cost 1.8179\n",
      " iteration 1550, train cost 1.7098, valid cost 1.8045\n",
      " iteration 1600, train cost 1.6954, valid cost 1.7927\n",
      " iteration 1650, train cost 1.6811, valid cost 1.7817\n",
      " iteration 1700, train cost 1.6680, valid cost 1.7707\n",
      " iteration 1750, train cost 1.6553, valid cost 1.7598\n",
      " iteration 1800, train cost 1.6431, valid cost 1.7497\n",
      " iteration 1850, train cost 1.6310, valid cost 1.7399\n",
      " iteration 1900, train cost 1.6205, valid cost 1.7308\n",
      " iteration 1950, train cost 1.6094, valid cost 1.7220\n",
      " iteration 2000, train cost 1.5988, valid cost 1.7129\n",
      " iteration 2050, train cost 1.5883, valid cost 1.7036\n",
      " iteration 2100, train cost 1.5774, valid cost 1.6942\n",
      " iteration 2150, train cost 1.5663, valid cost 1.6842\n",
      " iteration 2200, train cost 1.5549, valid cost 1.6746\n",
      " iteration 2250, train cost 1.5450, valid cost 1.6648\n",
      " iteration 2300, train cost 1.5356, valid cost 1.6556\n",
      " iteration 2350, train cost 1.5263, valid cost 1.6468\n",
      " iteration 2400, train cost 1.5162, valid cost 1.6388\n",
      " iteration 2450, train cost 1.5090, valid cost 1.6315\n",
      " iteration 2500, train cost 1.5010, valid cost 1.6246\n",
      " iteration 2550, train cost 1.4934, valid cost 1.6181\n",
      " iteration 2600, train cost 1.4864, valid cost 1.6114\n",
      " iteration 2650, train cost 1.4791, valid cost 1.6041\n",
      " iteration 2700, train cost 1.4697, valid cost 1.5968\n",
      " iteration 2750, train cost 1.4615, valid cost 1.5884\n",
      " iteration 2800, train cost 1.4547, valid cost 1.5803\n",
      " iteration 2850, train cost 1.4459, valid cost 1.5725\n",
      " iteration 2900, train cost 1.4374, valid cost 1.5648\n",
      " iteration 2950, train cost 1.4303, valid cost 1.5577\n",
      " iteration 3000, train cost 1.4232, valid cost 1.5508\n",
      " iteration 3050, train cost 1.4165, valid cost 1.5449\n",
      " iteration 3100, train cost 1.4109, valid cost 1.5391\n",
      " iteration 3150, train cost 1.4043, valid cost 1.5336\n",
      " iteration 3200, train cost 1.3986, valid cost 1.5288\n",
      " iteration 3250, train cost 1.3928, valid cost 1.5237\n",
      " iteration 3300, train cost 1.3860, valid cost 1.5191\n",
      " iteration 3350, train cost 1.3818, valid cost 1.5144\n",
      " iteration 3400, train cost 1.3759, valid cost 1.5099\n",
      " iteration 3450, train cost 1.3703, valid cost 1.5056\n",
      " iteration 3500, train cost 1.3649, valid cost 1.5013\n",
      " iteration 3550, train cost 1.3602, valid cost 1.4973\n",
      " iteration 3600, train cost 1.3553, valid cost 1.4935\n",
      " iteration 3650, train cost 1.3490, valid cost 1.4895\n",
      " iteration 3700, train cost 1.3447, valid cost 1.4857\n",
      " iteration 3750, train cost 1.3390, valid cost 1.4826\n",
      " iteration 3800, train cost 1.3360, valid cost 1.4786\n",
      " iteration 3850, train cost 1.3308, valid cost 1.4757\n",
      " iteration 3900, train cost 1.3268, valid cost 1.4728\n",
      " iteration 3950, train cost 1.3215, valid cost 1.4693\n"
     ]
    },
    {
     "data": {
      "text/html": [
       "<br/>Waiting for W&B process to finish, PID 182024<br/>Program ended successfully."
      ],
      "text/plain": [
       "<IPython.core.display.HTML object>"
      ]
     },
     "metadata": {},
     "output_type": "display_data"
    },
    {
     "name": "stderr",
     "output_type": "stream",
     "text": [
      "Widget Javascript not detected.  It may not be installed or enabled properly.\n"
     ]
    },
    {
     "data": {
      "application/vnd.jupyter.widget-view+json": {
       "model_id": "40ecd41f0c9c415cabb172eeaa2253bf"
      }
     },
     "metadata": {},
     "output_type": "display_data"
    },
    {
     "data": {
      "text/html": [
       "Find user logs for this run at: <code>/home/sazeglio/NMAs/src/wandb/run-20210814_174548-v9z4wabu/logs/debug.log</code>"
      ],
      "text/plain": [
       "<IPython.core.display.HTML object>"
      ]
     },
     "metadata": {},
     "output_type": "display_data"
    },
    {
     "data": {
      "text/html": [
       "Find internal logs for this run at: <code>/home/sazeglio/NMAs/src/wandb/run-20210814_174548-v9z4wabu/logs/debug-internal.log</code>"
      ],
      "text/plain": [
       "<IPython.core.display.HTML object>"
      ]
     },
     "metadata": {},
     "output_type": "display_data"
    },
    {
     "data": {
      "text/html": [
       "<h3>Run summary:</h3><br/><style>\n",
       "    table.wandb td:nth-child(1) { padding: 0 10px; text-align: right }\n",
       "    </style><table class=\"wandb\">\n",
       "<tr><td>train_loss</td><td>1.31913</td></tr><tr><td>valid_loss</td><td>1.46665</td></tr><tr><td>epoch</td><td>3999</td></tr><tr><td>_runtime</td><td>280</td></tr><tr><td>_timestamp</td><td>1628956228</td></tr><tr><td>_step</td><td>3999</td></tr></table>"
      ],
      "text/plain": [
       "<IPython.core.display.HTML object>"
      ]
     },
     "metadata": {},
     "output_type": "display_data"
    },
    {
     "data": {
      "text/html": [
       "<h3>Run history:</h3><br/><style>\n",
       "    table.wandb td:nth-child(1) { padding: 0 10px; text-align: right }\n",
       "    </style><table class=\"wandb\">\n",
       "<tr><td>train_loss</td><td>█▄▃▃▃▃▃▃▃▃▃▃▃▂▂▂▂▂▂▂▂▂▂▂▂▂▁▁▁▁▁▁▁▁▁▁▁▁▁▁</td></tr><tr><td>valid_loss</td><td>█▃▃▃▃▃▃▃▃▃▃▂▂▂▂▂▂▂▂▂▂▂▂▂▂▁▁▁▁▁▁▁▁▁▁▁▁▁▁▁</td></tr><tr><td>epoch</td><td>▁▁▁▂▂▂▂▂▂▃▃▃▃▃▄▄▄▄▄▄▅▅▅▅▅▅▆▆▆▆▆▇▇▇▇▇▇███</td></tr><tr><td>_runtime</td><td>▁▁▁▂▂▂▂▂▂▃▃▃▃▃▄▄▄▄▄▄▅▅▅▅▅▆▆▆▆▆▆▇▇▇▇▇▇███</td></tr><tr><td>_timestamp</td><td>▁▁▁▂▂▂▂▂▂▃▃▃▃▃▄▄▄▄▄▄▅▅▅▅▅▆▆▆▆▆▆▇▇▇▇▇▇███</td></tr><tr><td>_step</td><td>▁▁▁▂▂▂▂▂▂▃▃▃▃▃▄▄▄▄▄▄▅▅▅▅▅▅▆▆▆▆▆▇▇▇▇▇▇███</td></tr></table><br/>"
      ],
      "text/plain": [
       "<IPython.core.display.HTML object>"
      ]
     },
     "metadata": {},
     "output_type": "display_data"
    },
    {
     "data": {
      "text/html": [
       "Synced 5 W&B file(s), 0 media file(s), 0 artifact file(s) and 0 other file(s)"
      ],
      "text/plain": [
       "<IPython.core.display.HTML object>"
      ]
     },
     "metadata": {},
     "output_type": "display_data"
    },
    {
     "data": {
      "text/html": [
       "\n",
       "                    <br/>Synced <strong style=\"color:#cdcd00\">legendary-sweep-11</strong>: <a href=\"https://wandb.ai/sazio/NMAs-Small-Hidden-Dims/runs/v9z4wabu\" target=\"_blank\">https://wandb.ai/sazio/NMAs-Small-Hidden-Dims/runs/v9z4wabu</a><br/>\n",
       "                "
      ],
      "text/plain": [
       "<IPython.core.display.HTML object>"
      ]
     },
     "metadata": {},
     "output_type": "display_data"
    },
    {
     "name": "stderr",
     "output_type": "stream",
     "text": [
      "wandb: Agent Starting Run: sgu9nx04 with config:\n",
      "wandb: \tdropout: 0.5\n",
      "wandb: \tepochs: 4000\n",
      "wandb: \tlearning_rate: 0.0007974986621416106\n",
      "wandb: \tn_comp: 50\n",
      "wandb: \tnum_layers: 1\n",
      "wandb: \toptimizer: adam\n",
      "wandb: \tweight_decay: 0\n",
      "Failed to detect the name of this notebook, you can set it manually with the WANDB_NOTEBOOK_NAME environment variable to enable code saving.\n"
     ]
    },
    {
     "data": {
      "text/html": [
       "\n",
       "                Tracking run with wandb version 0.12.0<br/>\n",
       "                Syncing run <strong style=\"color:#cdcd00\">swift-sweep-12</strong> to <a href=\"https://wandb.ai\" target=\"_blank\">Weights & Biases</a> <a href=\"https://docs.wandb.com/integrations/jupyter.html\" target=\"_blank\">(Documentation)</a>.<br/>\n",
       "                Project page: <a href=\"https://wandb.ai/sazio/NMAs-Small-Hidden-Dims\" target=\"_blank\">https://wandb.ai/sazio/NMAs-Small-Hidden-Dims</a><br/>\n",
       "                Sweep page: <a href=\"https://wandb.ai/sazio/NMAs-Small-Hidden-Dims/sweeps/38qam6fd\" target=\"_blank\">https://wandb.ai/sazio/NMAs-Small-Hidden-Dims/sweeps/38qam6fd</a><br/>\n",
       "Run page: <a href=\"https://wandb.ai/sazio/NMAs-Small-Hidden-Dims/runs/sgu9nx04\" target=\"_blank\">https://wandb.ai/sazio/NMAs-Small-Hidden-Dims/runs/sgu9nx04</a><br/>\n",
       "                Run data is saved locally in <code>/home/sazeglio/NMAs/src/wandb/run-20210814_175032-sgu9nx04</code><br/><br/>\n",
       "            "
      ],
      "text/plain": [
       "<IPython.core.display.HTML object>"
      ]
     },
     "metadata": {},
     "output_type": "display_data"
    },
    {
     "name": "stdout",
     "output_type": "stream",
     "text": [
      " iteration 0, train cost 3.6975, valid cost 3.7879\n",
      " iteration 50, train cost 2.0917, valid cost 2.1789\n",
      " iteration 100, train cost 2.0768, valid cost 2.1667\n",
      " iteration 150, train cost 2.0726, valid cost 2.1638\n",
      " iteration 200, train cost 2.0442, valid cost 2.1309\n",
      " iteration 250, train cost 2.0057, valid cost 2.0886\n",
      " iteration 300, train cost 1.9931, valid cost 2.0761\n",
      " iteration 350, train cost 1.9379, valid cost 2.0259\n",
      " iteration 400, train cost 1.8807, valid cost 1.9666\n",
      " iteration 450, train cost 1.8425, valid cost 1.9262\n",
      " iteration 500, train cost 1.8004, valid cost 1.8895\n",
      " iteration 550, train cost 1.7761, valid cost 1.8699\n",
      " iteration 600, train cost 1.7499, valid cost 1.8510\n",
      " iteration 650, train cost 1.7171, valid cost 1.8293\n",
      " iteration 700, train cost 1.6866, valid cost 1.8075\n",
      " iteration 750, train cost 1.6537, valid cost 1.7835\n",
      " iteration 800, train cost 1.6217, valid cost 1.7611\n",
      " iteration 850, train cost 1.5947, valid cost 1.7418\n",
      " iteration 900, train cost 1.5731, valid cost 1.7287\n",
      " iteration 950, train cost 1.5547, valid cost 1.7164\n",
      " iteration 1000, train cost 1.5360, valid cost 1.7062\n",
      " iteration 1050, train cost 1.5205, valid cost 1.6971\n",
      " iteration 1100, train cost 1.5046, valid cost 1.6892\n",
      " iteration 1150, train cost 1.4900, valid cost 1.6824\n",
      " iteration 1200, train cost 1.4748, valid cost 1.6747\n",
      " iteration 1250, train cost 1.4609, valid cost 1.6678\n",
      " iteration 1300, train cost 1.4459, valid cost 1.6605\n",
      " iteration 1350, train cost 1.4317, valid cost 1.6533\n",
      " iteration 1400, train cost 1.4165, valid cost 1.6459\n",
      " iteration 1450, train cost 1.4049, valid cost 1.6403\n",
      " iteration 1500, train cost 1.3910, valid cost 1.6308\n",
      " iteration 1550, train cost 1.3764, valid cost 1.6237\n",
      " iteration 1600, train cost 1.3628, valid cost 1.6157\n",
      " iteration 1650, train cost 1.3534, valid cost 1.6099\n",
      " iteration 1700, train cost 1.3400, valid cost 1.5996\n",
      " iteration 1750, train cost 1.3275, valid cost 1.5927\n",
      " iteration 1800, train cost 1.3167, valid cost 1.5847\n",
      " iteration 1850, train cost 1.3047, valid cost 1.5790\n",
      " iteration 1900, train cost 1.2958, valid cost 1.5740\n",
      " iteration 1950, train cost 1.2852, valid cost 1.5679\n",
      " iteration 2000, train cost 1.2784, valid cost 1.5637\n",
      " iteration 2050, train cost 1.2696, valid cost 1.5586\n",
      " iteration 2100, train cost 1.2582, valid cost 1.5553\n",
      " iteration 2150, train cost 1.2488, valid cost 1.5501\n",
      " iteration 2200, train cost 1.2420, valid cost 1.5472\n",
      " iteration 2250, train cost 1.2341, valid cost 1.5445\n",
      " iteration 2300, train cost 1.2266, valid cost 1.5418\n",
      " iteration 2350, train cost 1.2197, valid cost 1.5398\n",
      " iteration 2400, train cost 1.2124, valid cost 1.5378\n",
      " iteration 2450, train cost 1.2049, valid cost 1.5333\n",
      " iteration 2500, train cost 1.1993, valid cost 1.5292\n",
      " iteration 2550, train cost 1.1930, valid cost 1.5276\n",
      " iteration 2600, train cost 1.1856, valid cost 1.5253\n",
      " iteration 2650, train cost 1.1825, valid cost 1.5236\n",
      " iteration 2700, train cost 1.1745, valid cost 1.5208\n",
      " iteration 2750, train cost 1.1679, valid cost 1.5158\n",
      " iteration 2800, train cost 1.1638, valid cost 1.5166\n",
      " iteration 2850, train cost 1.1591, valid cost 1.5124\n",
      " iteration 2900, train cost 1.1541, valid cost 1.5110\n",
      " iteration 2950, train cost 1.1503, valid cost 1.5082\n",
      " iteration 3000, train cost 1.1443, valid cost 1.5070\n",
      " iteration 3050, train cost 1.1410, valid cost 1.5055\n",
      " iteration 3100, train cost 1.1369, valid cost 1.5021\n",
      " iteration 3150, train cost 1.1320, valid cost 1.5010\n",
      " iteration 3200, train cost 1.1278, valid cost 1.4967\n",
      " iteration 3250, train cost 1.1224, valid cost 1.4954\n",
      " iteration 3300, train cost 1.1211, valid cost 1.4930\n",
      " iteration 3350, train cost 1.1159, valid cost 1.4908\n",
      " iteration 3400, train cost 1.1129, valid cost 1.4901\n",
      " iteration 3450, train cost 1.1090, valid cost 1.4880\n",
      " iteration 3500, train cost 1.1044, valid cost 1.4837\n",
      " iteration 3550, train cost 1.1021, valid cost 1.4814\n",
      " iteration 3600, train cost 1.1001, valid cost 1.4809\n",
      " iteration 3650, train cost 1.0950, valid cost 1.4777\n",
      " iteration 3700, train cost 1.0931, valid cost 1.4752\n",
      " iteration 3750, train cost 1.0883, valid cost 1.4732\n",
      " iteration 3800, train cost 1.0884, valid cost 1.4706\n",
      " iteration 3850, train cost 1.0817, valid cost 1.4697\n",
      " iteration 3900, train cost 1.0800, valid cost 1.4662\n",
      " iteration 3950, train cost 1.0774, valid cost 1.4629\n"
     ]
    },
    {
     "data": {
      "text/html": [
       "<br/>Waiting for W&B process to finish, PID 182114<br/>Program ended successfully."
      ],
      "text/plain": [
       "<IPython.core.display.HTML object>"
      ]
     },
     "metadata": {},
     "output_type": "display_data"
    },
    {
     "name": "stderr",
     "output_type": "stream",
     "text": [
      "Widget Javascript not detected.  It may not be installed or enabled properly.\n"
     ]
    },
    {
     "data": {
      "application/vnd.jupyter.widget-view+json": {
       "model_id": "076c700d7c374990bcb10ea71a9228a2"
      }
     },
     "metadata": {},
     "output_type": "display_data"
    },
    {
     "data": {
      "text/html": [
       "Find user logs for this run at: <code>/home/sazeglio/NMAs/src/wandb/run-20210814_175032-sgu9nx04/logs/debug.log</code>"
      ],
      "text/plain": [
       "<IPython.core.display.HTML object>"
      ]
     },
     "metadata": {},
     "output_type": "display_data"
    },
    {
     "data": {
      "text/html": [
       "Find internal logs for this run at: <code>/home/sazeglio/NMAs/src/wandb/run-20210814_175032-sgu9nx04/logs/debug-internal.log</code>"
      ],
      "text/plain": [
       "<IPython.core.display.HTML object>"
      ]
     },
     "metadata": {},
     "output_type": "display_data"
    },
    {
     "data": {
      "text/html": [
       "<h3>Run summary:</h3><br/><style>\n",
       "    table.wandb td:nth-child(1) { padding: 0 10px; text-align: right }\n",
       "    </style><table class=\"wandb\">\n",
       "<tr><td>train_loss</td><td>1.07456</td></tr><tr><td>valid_loss</td><td>1.46309</td></tr><tr><td>epoch</td><td>3999</td></tr><tr><td>_runtime</td><td>280</td></tr><tr><td>_timestamp</td><td>1628956512</td></tr><tr><td>_step</td><td>3999</td></tr></table>"
      ],
      "text/plain": [
       "<IPython.core.display.HTML object>"
      ]
     },
     "metadata": {},
     "output_type": "display_data"
    },
    {
     "data": {
      "text/html": [
       "<h3>Run history:</h3><br/><style>\n",
       "    table.wandb td:nth-child(1) { padding: 0 10px; text-align: right }\n",
       "    </style><table class=\"wandb\">\n",
       "<tr><td>train_loss</td><td>█▇▇▇▆▆▅▅▄▄▄▄▄▃▃▃▃▃▂▂▂▂▂▂▂▂▂▂▂▁▁▁▁▁▁▁▁▁▁▁</td></tr><tr><td>valid_loss</td><td>█▇▇▆▅▅▄▄▄▃▃▃▃▃▃▂▂▂▂▂▂▂▂▂▂▂▂▁▁▁▁▁▁▁▁▁▁▁▁▁</td></tr><tr><td>epoch</td><td>▁▁▁▂▂▂▂▂▂▃▃▃▃▃▄▄▄▄▄▄▅▅▅▅▅▅▆▆▆▆▆▇▇▇▇▇▇███</td></tr><tr><td>_runtime</td><td>▁▁▁▂▂▂▂▂▂▃▃▃▃▃▃▄▄▄▄▄▅▅▅▅▅▅▆▆▆▆▆▇▇▇▇▇▇███</td></tr><tr><td>_timestamp</td><td>▁▁▁▂▂▂▂▂▂▃▃▃▃▃▃▄▄▄▄▄▅▅▅▅▅▅▆▆▆▆▆▇▇▇▇▇▇███</td></tr><tr><td>_step</td><td>▁▁▁▂▂▂▂▂▂▃▃▃▃▃▄▄▄▄▄▄▅▅▅▅▅▅▆▆▆▆▆▇▇▇▇▇▇███</td></tr></table><br/>"
      ],
      "text/plain": [
       "<IPython.core.display.HTML object>"
      ]
     },
     "metadata": {},
     "output_type": "display_data"
    },
    {
     "data": {
      "text/html": [
       "Synced 5 W&B file(s), 0 media file(s), 0 artifact file(s) and 0 other file(s)"
      ],
      "text/plain": [
       "<IPython.core.display.HTML object>"
      ]
     },
     "metadata": {},
     "output_type": "display_data"
    },
    {
     "data": {
      "text/html": [
       "\n",
       "                    <br/>Synced <strong style=\"color:#cdcd00\">swift-sweep-12</strong>: <a href=\"https://wandb.ai/sazio/NMAs-Small-Hidden-Dims/runs/sgu9nx04\" target=\"_blank\">https://wandb.ai/sazio/NMAs-Small-Hidden-Dims/runs/sgu9nx04</a><br/>\n",
       "                "
      ],
      "text/plain": [
       "<IPython.core.display.HTML object>"
      ]
     },
     "metadata": {},
     "output_type": "display_data"
    },
    {
     "name": "stderr",
     "output_type": "stream",
     "text": [
      "wandb: Agent Starting Run: 7fsyrlpl with config:\n",
      "wandb: \tdropout: 0.3\n",
      "wandb: \tepochs: 4000\n",
      "wandb: \tlearning_rate: 0.0004338165764738738\n",
      "wandb: \tn_comp: 75\n",
      "wandb: \tnum_layers: 1\n",
      "wandb: \toptimizer: adam\n",
      "wandb: \tweight_decay: 5e-05\n",
      "Failed to detect the name of this notebook, you can set it manually with the WANDB_NOTEBOOK_NAME environment variable to enable code saving.\n"
     ]
    },
    {
     "data": {
      "text/html": [
       "\n",
       "                Tracking run with wandb version 0.12.0<br/>\n",
       "                Syncing run <strong style=\"color:#cdcd00\">visionary-sweep-13</strong> to <a href=\"https://wandb.ai\" target=\"_blank\">Weights & Biases</a> <a href=\"https://docs.wandb.com/integrations/jupyter.html\" target=\"_blank\">(Documentation)</a>.<br/>\n",
       "                Project page: <a href=\"https://wandb.ai/sazio/NMAs-Small-Hidden-Dims\" target=\"_blank\">https://wandb.ai/sazio/NMAs-Small-Hidden-Dims</a><br/>\n",
       "                Sweep page: <a href=\"https://wandb.ai/sazio/NMAs-Small-Hidden-Dims/sweeps/38qam6fd\" target=\"_blank\">https://wandb.ai/sazio/NMAs-Small-Hidden-Dims/sweeps/38qam6fd</a><br/>\n",
       "Run page: <a href=\"https://wandb.ai/sazio/NMAs-Small-Hidden-Dims/runs/7fsyrlpl\" target=\"_blank\">https://wandb.ai/sazio/NMAs-Small-Hidden-Dims/runs/7fsyrlpl</a><br/>\n",
       "                Run data is saved locally in <code>/home/sazeglio/NMAs/src/wandb/run-20210814_175516-7fsyrlpl</code><br/><br/>\n",
       "            "
      ],
      "text/plain": [
       "<IPython.core.display.HTML object>"
      ]
     },
     "metadata": {},
     "output_type": "display_data"
    },
    {
     "name": "stdout",
     "output_type": "stream",
     "text": [
      " iteration 0, train cost 3.7098, valid cost 3.8065\n",
      " iteration 50, train cost 2.1356, valid cost 2.2170\n",
      " iteration 100, train cost 2.0812, valid cost 2.1666\n",
      " iteration 150, train cost 2.0756, valid cost 2.1633\n",
      " iteration 200, train cost 2.0674, valid cost 2.1562\n",
      " iteration 250, train cost 2.0282, valid cost 2.1115\n",
      " iteration 300, train cost 1.9129, valid cost 1.9847\n",
      " iteration 350, train cost 1.8275, valid cost 1.9005\n",
      " iteration 400, train cost 1.7749, valid cost 1.8526\n",
      " iteration 450, train cost 1.7203, valid cost 1.8073\n",
      " iteration 500, train cost 1.6771, valid cost 1.7687\n",
      " iteration 550, train cost 1.6400, valid cost 1.7326\n",
      " iteration 600, train cost 1.6047, valid cost 1.7003\n",
      " iteration 650, train cost 1.5690, valid cost 1.6684\n",
      " iteration 700, train cost 1.5386, valid cost 1.6409\n",
      " iteration 750, train cost 1.5127, valid cost 1.6170\n",
      " iteration 800, train cost 1.4879, valid cost 1.5945\n",
      " iteration 850, train cost 1.4662, valid cost 1.5742\n",
      " iteration 900, train cost 1.4452, valid cost 1.5554\n",
      " iteration 950, train cost 1.4265, valid cost 1.5393\n",
      " iteration 1000, train cost 1.4094, valid cost 1.5219\n",
      " iteration 1050, train cost 1.3940, valid cost 1.5053\n",
      " iteration 1100, train cost 1.3806, valid cost 1.4931\n",
      " iteration 1150, train cost 1.3697, valid cost 1.4844\n",
      " iteration 1200, train cost 1.3595, valid cost 1.4744\n",
      " iteration 1250, train cost 1.3489, valid cost 1.4662\n",
      " iteration 1300, train cost 1.3380, valid cost 1.4568\n",
      " iteration 1350, train cost 1.3288, valid cost 1.4479\n",
      " iteration 1400, train cost 1.3190, valid cost 1.4393\n",
      " iteration 1450, train cost 1.3086, valid cost 1.4297\n",
      " iteration 1500, train cost 1.3007, valid cost 1.4219\n",
      " iteration 1550, train cost 1.2909, valid cost 1.4150\n",
      " iteration 1600, train cost 1.2805, valid cost 1.4072\n",
      " iteration 1650, train cost 1.2727, valid cost 1.3990\n",
      " iteration 1700, train cost 1.2614, valid cost 1.3905\n",
      " iteration 1750, train cost 1.2531, valid cost 1.3829\n",
      " iteration 1800, train cost 1.2432, valid cost 1.3735\n",
      " iteration 1850, train cost 1.2355, valid cost 1.3647\n",
      " iteration 1900, train cost 1.2269, valid cost 1.3575\n",
      " iteration 1950, train cost 1.2201, valid cost 1.3514\n",
      " iteration 2000, train cost 1.2143, valid cost 1.3446\n",
      " iteration 2050, train cost 1.2050, valid cost 1.3397\n",
      " iteration 2100, train cost 1.2008, valid cost 1.3342\n",
      " iteration 2150, train cost 1.1947, valid cost 1.3294\n",
      " iteration 2200, train cost 1.1893, valid cost 1.3237\n",
      " iteration 2250, train cost 1.1842, valid cost 1.3189\n",
      " iteration 2300, train cost 1.1790, valid cost 1.3139\n",
      " iteration 2350, train cost 1.1742, valid cost 1.3092\n",
      " iteration 2400, train cost 1.1686, valid cost 1.3053\n",
      " iteration 2450, train cost 1.1654, valid cost 1.3023\n",
      " iteration 2500, train cost 1.1602, valid cost 1.2979\n",
      " iteration 2550, train cost 1.1568, valid cost 1.2930\n",
      " iteration 2600, train cost 1.1517, valid cost 1.2897\n",
      " iteration 2650, train cost 1.1471, valid cost 1.2864\n",
      " iteration 2700, train cost 1.1440, valid cost 1.2830\n",
      " iteration 2750, train cost 1.1402, valid cost 1.2786\n",
      " iteration 2800, train cost 1.1368, valid cost 1.2754\n",
      " iteration 2850, train cost 1.1326, valid cost 1.2727\n",
      " iteration 2900, train cost 1.1287, valid cost 1.2695\n",
      " iteration 2950, train cost 1.1255, valid cost 1.2666\n",
      " iteration 3000, train cost 1.1220, valid cost 1.2632\n",
      " iteration 3050, train cost 1.1188, valid cost 1.2611\n",
      " iteration 3100, train cost 1.1162, valid cost 1.2578\n",
      " iteration 3150, train cost 1.1115, valid cost 1.2551\n",
      " iteration 3200, train cost 1.1100, valid cost 1.2536\n",
      " iteration 3250, train cost 1.1056, valid cost 1.2512\n",
      " iteration 3300, train cost 1.1053, valid cost 1.2491\n",
      " iteration 3350, train cost 1.1021, valid cost 1.2458\n",
      " iteration 3400, train cost 1.1000, valid cost 1.2431\n",
      " iteration 3450, train cost 1.0968, valid cost 1.2403\n",
      " iteration 3500, train cost 1.0963, valid cost 1.2386\n",
      " iteration 3550, train cost 1.0938, valid cost 1.2363\n",
      " iteration 3600, train cost 1.0881, valid cost 1.2338\n",
      " iteration 3650, train cost 1.0884, valid cost 1.2316\n",
      " iteration 3700, train cost 1.0872, valid cost 1.2300\n",
      " iteration 3750, train cost 1.0856, valid cost 1.2275\n",
      " iteration 3800, train cost 1.0828, valid cost 1.2257\n",
      " iteration 3850, train cost 1.0788, valid cost 1.2250\n",
      " iteration 3900, train cost 1.0802, valid cost 1.2231\n",
      " iteration 3950, train cost 1.0763, valid cost 1.2202\n"
     ]
    },
    {
     "data": {
      "text/html": [
       "<br/>Waiting for W&B process to finish, PID 182214<br/>Program ended successfully."
      ],
      "text/plain": [
       "<IPython.core.display.HTML object>"
      ]
     },
     "metadata": {},
     "output_type": "display_data"
    },
    {
     "name": "stderr",
     "output_type": "stream",
     "text": [
      "Widget Javascript not detected.  It may not be installed or enabled properly.\n"
     ]
    },
    {
     "data": {
      "application/vnd.jupyter.widget-view+json": {
       "model_id": "1d637a21616141f99632cf24f5233d11"
      }
     },
     "metadata": {},
     "output_type": "display_data"
    },
    {
     "data": {
      "text/html": [
       "Find user logs for this run at: <code>/home/sazeglio/NMAs/src/wandb/run-20210814_175516-7fsyrlpl/logs/debug.log</code>"
      ],
      "text/plain": [
       "<IPython.core.display.HTML object>"
      ]
     },
     "metadata": {},
     "output_type": "display_data"
    },
    {
     "data": {
      "text/html": [
       "Find internal logs for this run at: <code>/home/sazeglio/NMAs/src/wandb/run-20210814_175516-7fsyrlpl/logs/debug-internal.log</code>"
      ],
      "text/plain": [
       "<IPython.core.display.HTML object>"
      ]
     },
     "metadata": {},
     "output_type": "display_data"
    },
    {
     "data": {
      "text/html": [
       "<h3>Run summary:</h3><br/><style>\n",
       "    table.wandb td:nth-child(1) { padding: 0 10px; text-align: right }\n",
       "    </style><table class=\"wandb\">\n",
       "<tr><td>train_loss</td><td>1.07464</td></tr><tr><td>valid_loss</td><td>1.21843</td></tr><tr><td>epoch</td><td>3999</td></tr><tr><td>_runtime</td><td>278</td></tr><tr><td>_timestamp</td><td>1628956794</td></tr><tr><td>_step</td><td>3999</td></tr></table>"
      ],
      "text/plain": [
       "<IPython.core.display.HTML object>"
      ]
     },
     "metadata": {},
     "output_type": "display_data"
    },
    {
     "data": {
      "text/html": [
       "<h3>Run history:</h3><br/><style>\n",
       "    table.wandb td:nth-child(1) { padding: 0 10px; text-align: right }\n",
       "    </style><table class=\"wandb\">\n",
       "<tr><td>train_loss</td><td>█▆▆▅▅▄▄▃▃▃▃▃▂▂▂▂▂▂▂▂▂▂▂▂▁▁▁▁▁▁▁▁▁▁▁▁▁▁▁▁</td></tr><tr><td>valid_loss</td><td>█▆▆▅▄▄▄▃▃▃▃▃▂▂▂▂▂▂▂▂▂▂▂▁▁▁▁▁▁▁▁▁▁▁▁▁▁▁▁▁</td></tr><tr><td>epoch</td><td>▁▁▁▂▂▂▂▂▂▃▃▃▃▃▄▄▄▄▄▄▅▅▅▅▅▅▆▆▆▆▆▇▇▇▇▇▇███</td></tr><tr><td>_runtime</td><td>▁▁▁▂▂▂▂▂▂▃▃▃▃▃▄▄▄▄▄▄▅▅▅▅▅▅▆▆▆▆▆▇▇▇▇▇▇███</td></tr><tr><td>_timestamp</td><td>▁▁▁▂▂▂▂▂▂▃▃▃▃▃▄▄▄▄▄▄▅▅▅▅▅▅▆▆▆▆▆▇▇▇▇▇▇███</td></tr><tr><td>_step</td><td>▁▁▁▂▂▂▂▂▂▃▃▃▃▃▄▄▄▄▄▄▅▅▅▅▅▅▆▆▆▆▆▇▇▇▇▇▇███</td></tr></table><br/>"
      ],
      "text/plain": [
       "<IPython.core.display.HTML object>"
      ]
     },
     "metadata": {},
     "output_type": "display_data"
    },
    {
     "data": {
      "text/html": [
       "Synced 5 W&B file(s), 0 media file(s), 0 artifact file(s) and 0 other file(s)"
      ],
      "text/plain": [
       "<IPython.core.display.HTML object>"
      ]
     },
     "metadata": {},
     "output_type": "display_data"
    },
    {
     "data": {
      "text/html": [
       "\n",
       "                    <br/>Synced <strong style=\"color:#cdcd00\">visionary-sweep-13</strong>: <a href=\"https://wandb.ai/sazio/NMAs-Small-Hidden-Dims/runs/7fsyrlpl\" target=\"_blank\">https://wandb.ai/sazio/NMAs-Small-Hidden-Dims/runs/7fsyrlpl</a><br/>\n",
       "                "
      ],
      "text/plain": [
       "<IPython.core.display.HTML object>"
      ]
     },
     "metadata": {},
     "output_type": "display_data"
    },
    {
     "name": "stderr",
     "output_type": "stream",
     "text": [
      "wandb: Agent Starting Run: 8y10r2gv with config:\n",
      "wandb: \tdropout: 0.5\n",
      "wandb: \tepochs: 4000\n",
      "wandb: \tlearning_rate: 0.0023018967101630134\n",
      "wandb: \tn_comp: 100\n",
      "wandb: \tnum_layers: 1\n",
      "wandb: \toptimizer: adam\n",
      "wandb: \tweight_decay: 1e-05\n",
      "Failed to detect the name of this notebook, you can set it manually with the WANDB_NOTEBOOK_NAME environment variable to enable code saving.\n"
     ]
    },
    {
     "data": {
      "text/html": [
       "\n",
       "                Tracking run with wandb version 0.12.0<br/>\n",
       "                Syncing run <strong style=\"color:#cdcd00\">cool-sweep-14</strong> to <a href=\"https://wandb.ai\" target=\"_blank\">Weights & Biases</a> <a href=\"https://docs.wandb.com/integrations/jupyter.html\" target=\"_blank\">(Documentation)</a>.<br/>\n",
       "                Project page: <a href=\"https://wandb.ai/sazio/NMAs-Small-Hidden-Dims\" target=\"_blank\">https://wandb.ai/sazio/NMAs-Small-Hidden-Dims</a><br/>\n",
       "                Sweep page: <a href=\"https://wandb.ai/sazio/NMAs-Small-Hidden-Dims/sweeps/38qam6fd\" target=\"_blank\">https://wandb.ai/sazio/NMAs-Small-Hidden-Dims/sweeps/38qam6fd</a><br/>\n",
       "Run page: <a href=\"https://wandb.ai/sazio/NMAs-Small-Hidden-Dims/runs/8y10r2gv\" target=\"_blank\">https://wandb.ai/sazio/NMAs-Small-Hidden-Dims/runs/8y10r2gv</a><br/>\n",
       "                Run data is saved locally in <code>/home/sazeglio/NMAs/src/wandb/run-20210814_175959-8y10r2gv</code><br/><br/>\n",
       "            "
      ],
      "text/plain": [
       "<IPython.core.display.HTML object>"
      ]
     },
     "metadata": {},
     "output_type": "display_data"
    },
    {
     "name": "stdout",
     "output_type": "stream",
     "text": [
      " iteration 0, train cost 3.7023, valid cost 3.7758\n",
      " iteration 50, train cost 2.0779, valid cost 2.1704\n",
      " iteration 100, train cost 2.0607, valid cost 2.1523\n",
      " iteration 150, train cost 1.9385, valid cost 2.0127\n",
      " iteration 200, train cost 1.8720, valid cost 1.9486\n",
      " iteration 250, train cost 1.8393, valid cost 1.9264\n",
      " iteration 300, train cost 1.7625, valid cost 1.8499\n",
      " iteration 350, train cost 1.7228, valid cost 1.8224\n",
      " iteration 400, train cost 1.6896, valid cost 1.7960\n",
      " iteration 450, train cost 1.6546, valid cost 1.7712\n",
      " iteration 500, train cost 1.6240, valid cost 1.7546\n",
      " iteration 550, train cost 1.5785, valid cost 1.7194\n",
      " iteration 600, train cost 1.5398, valid cost 1.6971\n",
      " iteration 650, train cost 1.5074, valid cost 1.6751\n",
      " iteration 700, train cost 1.4928, valid cost 1.6620\n",
      " iteration 750, train cost 1.4470, valid cost 1.6409\n",
      " iteration 800, train cost 1.4355, valid cost 1.6346\n",
      " iteration 850, train cost 1.4155, valid cost 1.6217\n",
      " iteration 900, train cost 1.3857, valid cost 1.6068\n",
      " iteration 950, train cost 1.3711, valid cost 1.5948\n",
      " iteration 1000, train cost 1.3486, valid cost 1.5870\n",
      " iteration 1050, train cost 1.3316, valid cost 1.5749\n",
      " iteration 1100, train cost 1.3139, valid cost 1.5656\n",
      " iteration 1150, train cost 1.3068, valid cost 1.5583\n",
      " iteration 1200, train cost 1.2891, valid cost 1.5505\n",
      " iteration 1250, train cost 1.2722, valid cost 1.5428\n",
      " iteration 1300, train cost 1.2571, valid cost 1.5337\n",
      " iteration 1350, train cost 1.2918, valid cost 1.5429\n",
      " iteration 1400, train cost 1.5992, valid cost 1.6958\n",
      " iteration 1450, train cost 1.2450, valid cost 1.5134\n",
      " iteration 1500, train cost 1.2257, valid cost 1.5096\n",
      " iteration 1550, train cost 1.2264, valid cost 1.5036\n",
      " iteration 1600, train cost 1.2113, valid cost 1.4994\n",
      " iteration 1650, train cost 1.2040, valid cost 1.4946\n",
      " iteration 1700, train cost 1.1920, valid cost 1.4904\n",
      " iteration 1750, train cost 1.1795, valid cost 1.4863\n",
      " iteration 1800, train cost 1.1729, valid cost 1.4829\n",
      " iteration 1850, train cost 1.1638, valid cost 1.4762\n",
      " iteration 1900, train cost 1.1566, valid cost 1.4720\n",
      " iteration 1950, train cost 1.1473, valid cost 1.4659\n",
      " iteration 2000, train cost 1.1429, valid cost 1.4610\n",
      " iteration 2050, train cost 1.1323, valid cost 1.4574\n",
      " iteration 2100, train cost 1.1267, valid cost 1.4509\n",
      " iteration 2150, train cost 1.1219, valid cost 1.4418\n",
      " iteration 2200, train cost 1.1459, valid cost 1.4507\n",
      " iteration 2250, train cost 1.1432, valid cost 1.4576\n",
      " iteration 2300, train cost 1.1232, valid cost 1.4358\n",
      " iteration 2350, train cost 1.1069, valid cost 1.4304\n",
      " iteration 2400, train cost 1.1647, valid cost 1.4545\n",
      " iteration 2450, train cost 1.0995, valid cost 1.4256\n",
      " iteration 2500, train cost 1.0916, valid cost 1.4217\n",
      " iteration 2550, train cost 1.0846, valid cost 1.4190\n",
      " iteration 2600, train cost 1.0800, valid cost 1.4164\n",
      " iteration 2650, train cost 1.0751, valid cost 1.4128\n",
      " iteration 2700, train cost 1.0744, valid cost 1.4100\n",
      " iteration 2750, train cost 1.0687, valid cost 1.4074\n",
      " iteration 2800, train cost 1.0632, valid cost 1.4077\n",
      " iteration 2850, train cost 1.0637, valid cost 1.4026\n",
      " iteration 2900, train cost 1.0550, valid cost 1.3985\n",
      " iteration 2950, train cost 1.0523, valid cost 1.3945\n",
      " iteration 3000, train cost 1.0506, valid cost 1.3930\n",
      " iteration 3050, train cost 1.0470, valid cost 1.3913\n",
      " iteration 3100, train cost 1.1917, valid cost 1.4630\n",
      " iteration 3150, train cost 1.2270, valid cost 1.4729\n",
      " iteration 3200, train cost 1.0562, valid cost 1.3781\n",
      " iteration 3250, train cost 1.0432, valid cost 1.3764\n",
      " iteration 3300, train cost 1.0365, valid cost 1.3748\n",
      " iteration 3350, train cost 1.0339, valid cost 1.3741\n",
      " iteration 3400, train cost 1.0281, valid cost 1.3716\n",
      " iteration 3450, train cost 1.0611, valid cost 1.3908\n",
      " iteration 3500, train cost 1.0256, valid cost 1.3687\n",
      " iteration 3550, train cost 1.0210, valid cost 1.3681\n",
      " iteration 3600, train cost 1.0202, valid cost 1.3642\n",
      " iteration 3650, train cost 1.0135, valid cost 1.3593\n",
      " iteration 3700, train cost 1.0123, valid cost 1.3564\n",
      " iteration 3750, train cost 1.0222, valid cost 1.3572\n",
      " iteration 3800, train cost 1.2346, valid cost 1.5853\n",
      " iteration 3850, train cost 1.0376, valid cost 1.3521\n",
      " iteration 3900, train cost 1.0379, valid cost 1.3497\n",
      " iteration 3950, train cost 1.0111, valid cost 1.3410\n"
     ]
    },
    {
     "data": {
      "text/html": [
       "<br/>Waiting for W&B process to finish, PID 182309<br/>Program ended successfully."
      ],
      "text/plain": [
       "<IPython.core.display.HTML object>"
      ]
     },
     "metadata": {},
     "output_type": "display_data"
    },
    {
     "name": "stderr",
     "output_type": "stream",
     "text": [
      "Widget Javascript not detected.  It may not be installed or enabled properly.\n"
     ]
    },
    {
     "data": {
      "application/vnd.jupyter.widget-view+json": {
       "model_id": "06c9ad5737384af8b586e40ff1d85c60"
      }
     },
     "metadata": {},
     "output_type": "display_data"
    },
    {
     "data": {
      "text/html": [
       "Find user logs for this run at: <code>/home/sazeglio/NMAs/src/wandb/run-20210814_175959-8y10r2gv/logs/debug.log</code>"
      ],
      "text/plain": [
       "<IPython.core.display.HTML object>"
      ]
     },
     "metadata": {},
     "output_type": "display_data"
    },
    {
     "data": {
      "text/html": [
       "Find internal logs for this run at: <code>/home/sazeglio/NMAs/src/wandb/run-20210814_175959-8y10r2gv/logs/debug-internal.log</code>"
      ],
      "text/plain": [
       "<IPython.core.display.HTML object>"
      ]
     },
     "metadata": {},
     "output_type": "display_data"
    },
    {
     "data": {
      "text/html": [
       "<h3>Run summary:</h3><br/><style>\n",
       "    table.wandb td:nth-child(1) { padding: 0 10px; text-align: right }\n",
       "    </style><table class=\"wandb\">\n",
       "<tr><td>train_loss</td><td>1.00573</td></tr><tr><td>valid_loss</td><td>1.34072</td></tr><tr><td>epoch</td><td>3999</td></tr><tr><td>_runtime</td><td>279</td></tr><tr><td>_timestamp</td><td>1628957078</td></tr><tr><td>_step</td><td>3999</td></tr></table>"
      ],
      "text/plain": [
       "<IPython.core.display.HTML object>"
      ]
     },
     "metadata": {},
     "output_type": "display_data"
    },
    {
     "data": {
      "text/html": [
       "<h3>Run history:</h3><br/><style>\n",
       "    table.wandb td:nth-child(1) { padding: 0 10px; text-align: right }\n",
       "    </style><table class=\"wandb\">\n",
       "<tr><td>train_loss</td><td>█▇▆▆▅▅▄▄▄▃▃▃▃▃▃▃▂▂▂▂▂▂▂▂▂▁▁▁▁▁▁▂▁▁▁▁▁▁▁▁</td></tr><tr><td>valid_loss</td><td>█▇▆▅▅▄▄▄▃▃▃▃▃▃▂▂▂▂▂▂▂▂▂▂▂▂▂▂▂▁▁▂▁▁▁▁▁▁▁▁</td></tr><tr><td>epoch</td><td>▁▁▁▂▂▂▂▂▂▃▃▃▃▃▄▄▄▄▄▄▅▅▅▅▅▅▆▆▆▆▆▇▇▇▇▇▇███</td></tr><tr><td>_runtime</td><td>▁▁▁▂▂▂▂▂▂▃▃▃▃▃▄▄▄▄▄▄▅▅▅▅▅▅▆▆▆▆▆▇▇▇▇▇▇███</td></tr><tr><td>_timestamp</td><td>▁▁▁▂▂▂▂▂▂▃▃▃▃▃▄▄▄▄▄▄▅▅▅▅▅▅▆▆▆▆▆▇▇▇▇▇▇███</td></tr><tr><td>_step</td><td>▁▁▁▂▂▂▂▂▂▃▃▃▃▃▄▄▄▄▄▄▅▅▅▅▅▅▆▆▆▆▆▇▇▇▇▇▇███</td></tr></table><br/>"
      ],
      "text/plain": [
       "<IPython.core.display.HTML object>"
      ]
     },
     "metadata": {},
     "output_type": "display_data"
    },
    {
     "data": {
      "text/html": [
       "Synced 5 W&B file(s), 0 media file(s), 0 artifact file(s) and 0 other file(s)"
      ],
      "text/plain": [
       "<IPython.core.display.HTML object>"
      ]
     },
     "metadata": {},
     "output_type": "display_data"
    },
    {
     "data": {
      "text/html": [
       "\n",
       "                    <br/>Synced <strong style=\"color:#cdcd00\">cool-sweep-14</strong>: <a href=\"https://wandb.ai/sazio/NMAs-Small-Hidden-Dims/runs/8y10r2gv\" target=\"_blank\">https://wandb.ai/sazio/NMAs-Small-Hidden-Dims/runs/8y10r2gv</a><br/>\n",
       "                "
      ],
      "text/plain": [
       "<IPython.core.display.HTML object>"
      ]
     },
     "metadata": {},
     "output_type": "display_data"
    },
    {
     "name": "stderr",
     "output_type": "stream",
     "text": [
      "wandb: Agent Starting Run: 0gw8e89n with config:\n",
      "wandb: \tdropout: 0.2\n",
      "wandb: \tepochs: 4000\n",
      "wandb: \tlearning_rate: 6.755910256843144e-05\n",
      "wandb: \tn_comp: 125\n",
      "wandb: \tnum_layers: 1\n",
      "wandb: \toptimizer: adam\n",
      "wandb: \tweight_decay: 1e-06\n",
      "Failed to detect the name of this notebook, you can set it manually with the WANDB_NOTEBOOK_NAME environment variable to enable code saving.\n"
     ]
    },
    {
     "data": {
      "text/html": [
       "\n",
       "                Tracking run with wandb version 0.12.0<br/>\n",
       "                Syncing run <strong style=\"color:#cdcd00\">different-sweep-15</strong> to <a href=\"https://wandb.ai\" target=\"_blank\">Weights & Biases</a> <a href=\"https://docs.wandb.com/integrations/jupyter.html\" target=\"_blank\">(Documentation)</a>.<br/>\n",
       "                Project page: <a href=\"https://wandb.ai/sazio/NMAs-Small-Hidden-Dims\" target=\"_blank\">https://wandb.ai/sazio/NMAs-Small-Hidden-Dims</a><br/>\n",
       "                Sweep page: <a href=\"https://wandb.ai/sazio/NMAs-Small-Hidden-Dims/sweeps/38qam6fd\" target=\"_blank\">https://wandb.ai/sazio/NMAs-Small-Hidden-Dims/sweeps/38qam6fd</a><br/>\n",
       "Run page: <a href=\"https://wandb.ai/sazio/NMAs-Small-Hidden-Dims/runs/0gw8e89n\" target=\"_blank\">https://wandb.ai/sazio/NMAs-Small-Hidden-Dims/runs/0gw8e89n</a><br/>\n",
       "                Run data is saved locally in <code>/home/sazeglio/NMAs/src/wandb/run-20210814_180443-0gw8e89n</code><br/><br/>\n",
       "            "
      ],
      "text/plain": [
       "<IPython.core.display.HTML object>"
      ]
     },
     "metadata": {},
     "output_type": "display_data"
    },
    {
     "name": "stdout",
     "output_type": "stream",
     "text": [
      " iteration 0, train cost 3.7005, valid cost 3.8009\n",
      " iteration 50, train cost 3.4819, valid cost 3.5676\n",
      " iteration 100, train cost 2.6343, valid cost 2.6992\n",
      " iteration 150, train cost 2.2444, valid cost 2.3103\n",
      " iteration 200, train cost 2.1342, valid cost 2.2019\n",
      " iteration 250, train cost 2.1052, valid cost 2.1775\n",
      " iteration 300, train cost 2.0953, valid cost 2.1705\n",
      " iteration 350, train cost 2.0898, valid cost 2.1678\n",
      " iteration 400, train cost 2.0866, valid cost 2.1664\n",
      " iteration 450, train cost 2.0845, valid cost 2.1656\n",
      " iteration 500, train cost 2.0819, valid cost 2.1649\n",
      " iteration 550, train cost 2.0803, valid cost 2.1643\n",
      " iteration 600, train cost 2.0788, valid cost 2.1636\n",
      " iteration 650, train cost 2.0775, valid cost 2.1628\n",
      " iteration 700, train cost 2.0757, valid cost 2.1618\n",
      " iteration 750, train cost 2.0738, valid cost 2.1604\n",
      " iteration 800, train cost 2.0712, valid cost 2.1584\n",
      " iteration 850, train cost 2.0678, valid cost 2.1553\n",
      " iteration 900, train cost 2.0631, valid cost 2.1508\n",
      " iteration 950, train cost 2.0566, valid cost 2.1440\n",
      " iteration 1000, train cost 2.0455, valid cost 2.1334\n",
      " iteration 1050, train cost 2.0307, valid cost 2.1178\n",
      " iteration 1100, train cost 2.0110, valid cost 2.0972\n",
      " iteration 1150, train cost 1.9883, valid cost 2.0728\n",
      " iteration 1200, train cost 1.9633, valid cost 2.0460\n",
      " iteration 1250, train cost 1.9387, valid cost 2.0191\n",
      " iteration 1300, train cost 1.9169, valid cost 1.9953\n",
      " iteration 1350, train cost 1.8985, valid cost 1.9762\n",
      " iteration 1400, train cost 1.8841, valid cost 1.9613\n",
      " iteration 1450, train cost 1.8711, valid cost 1.9494\n",
      " iteration 1500, train cost 1.8600, valid cost 1.9387\n",
      " iteration 1550, train cost 1.8486, valid cost 1.9281\n",
      " iteration 1600, train cost 1.8371, valid cost 1.9170\n",
      " iteration 1650, train cost 1.8267, valid cost 1.9061\n",
      " iteration 1700, train cost 1.8168, valid cost 1.8959\n",
      " iteration 1750, train cost 1.8073, valid cost 1.8866\n",
      " iteration 1800, train cost 1.7965, valid cost 1.8778\n",
      " iteration 1850, train cost 1.7874, valid cost 1.8688\n",
      " iteration 1900, train cost 1.7767, valid cost 1.8595\n",
      " iteration 1950, train cost 1.7653, valid cost 1.8499\n",
      " iteration 2000, train cost 1.7535, valid cost 1.8398\n",
      " iteration 2050, train cost 1.7409, valid cost 1.8295\n",
      " iteration 2100, train cost 1.7286, valid cost 1.8196\n",
      " iteration 2150, train cost 1.7184, valid cost 1.8101\n",
      " iteration 2200, train cost 1.7066, valid cost 1.8009\n",
      " iteration 2250, train cost 1.6952, valid cost 1.7919\n",
      " iteration 2300, train cost 1.6858, valid cost 1.7830\n",
      " iteration 2350, train cost 1.6758, valid cost 1.7742\n",
      " iteration 2400, train cost 1.6665, valid cost 1.7657\n",
      " iteration 2450, train cost 1.6574, valid cost 1.7576\n",
      " iteration 2500, train cost 1.6487, valid cost 1.7497\n",
      " iteration 2550, train cost 1.6395, valid cost 1.7418\n",
      " iteration 2600, train cost 1.6314, valid cost 1.7345\n",
      " iteration 2650, train cost 1.6243, valid cost 1.7278\n",
      " iteration 2700, train cost 1.6169, valid cost 1.7215\n",
      " iteration 2750, train cost 1.6097, valid cost 1.7152\n",
      " iteration 2800, train cost 1.6033, valid cost 1.7094\n",
      " iteration 2850, train cost 1.5952, valid cost 1.7032\n",
      " iteration 2900, train cost 1.5880, valid cost 1.6969\n",
      " iteration 2950, train cost 1.5803, valid cost 1.6904\n",
      " iteration 3000, train cost 1.5730, valid cost 1.6836\n",
      " iteration 3050, train cost 1.5643, valid cost 1.6768\n",
      " iteration 3100, train cost 1.5571, valid cost 1.6705\n",
      " iteration 3150, train cost 1.5491, valid cost 1.6640\n",
      " iteration 3200, train cost 1.5426, valid cost 1.6581\n",
      " iteration 3250, train cost 1.5349, valid cost 1.6525\n",
      " iteration 3300, train cost 1.5276, valid cost 1.6467\n",
      " iteration 3350, train cost 1.5213, valid cost 1.6410\n",
      " iteration 3400, train cost 1.5141, valid cost 1.6354\n",
      " iteration 3450, train cost 1.5071, valid cost 1.6293\n",
      " iteration 3500, train cost 1.5006, valid cost 1.6233\n",
      " iteration 3550, train cost 1.4938, valid cost 1.6172\n",
      " iteration 3600, train cost 1.4876, valid cost 1.6111\n",
      " iteration 3650, train cost 1.4806, valid cost 1.6048\n",
      " iteration 3700, train cost 1.4727, valid cost 1.5991\n",
      " iteration 3750, train cost 1.4682, valid cost 1.5930\n",
      " iteration 3800, train cost 1.4618, valid cost 1.5874\n",
      " iteration 3850, train cost 1.4554, valid cost 1.5822\n",
      " iteration 3900, train cost 1.4495, valid cost 1.5773\n",
      " iteration 3950, train cost 1.4440, valid cost 1.5727\n"
     ]
    },
    {
     "data": {
      "text/html": [
       "<br/>Waiting for W&B process to finish, PID 182410<br/>Program ended successfully."
      ],
      "text/plain": [
       "<IPython.core.display.HTML object>"
      ]
     },
     "metadata": {},
     "output_type": "display_data"
    },
    {
     "name": "stderr",
     "output_type": "stream",
     "text": [
      "Widget Javascript not detected.  It may not be installed or enabled properly.\n"
     ]
    },
    {
     "data": {
      "application/vnd.jupyter.widget-view+json": {
       "model_id": "8013a772e61b486bb5820c3b6490f5c6"
      }
     },
     "metadata": {},
     "output_type": "display_data"
    },
    {
     "data": {
      "text/html": [
       "Find user logs for this run at: <code>/home/sazeglio/NMAs/src/wandb/run-20210814_180443-0gw8e89n/logs/debug.log</code>"
      ],
      "text/plain": [
       "<IPython.core.display.HTML object>"
      ]
     },
     "metadata": {},
     "output_type": "display_data"
    },
    {
     "data": {
      "text/html": [
       "Find internal logs for this run at: <code>/home/sazeglio/NMAs/src/wandb/run-20210814_180443-0gw8e89n/logs/debug-internal.log</code>"
      ],
      "text/plain": [
       "<IPython.core.display.HTML object>"
      ]
     },
     "metadata": {},
     "output_type": "display_data"
    },
    {
     "data": {
      "text/html": [
       "<h3>Run summary:</h3><br/><style>\n",
       "    table.wandb td:nth-child(1) { padding: 0 10px; text-align: right }\n",
       "    </style><table class=\"wandb\">\n",
       "<tr><td>train_loss</td><td>1.43927</td></tr><tr><td>valid_loss</td><td>1.56774</td></tr><tr><td>epoch</td><td>3999</td></tr><tr><td>_runtime</td><td>278</td></tr><tr><td>_timestamp</td><td>1628957361</td></tr><tr><td>_step</td><td>3999</td></tr></table>"
      ],
      "text/plain": [
       "<IPython.core.display.HTML object>"
      ]
     },
     "metadata": {},
     "output_type": "display_data"
    },
    {
     "data": {
      "text/html": [
       "<h3>Run history:</h3><br/><style>\n",
       "    table.wandb td:nth-child(1) { padding: 0 10px; text-align: right }\n",
       "    </style><table class=\"wandb\">\n",
       "<tr><td>train_loss</td><td>█▄▃▃▃▃▃▃▃▃▃▃▃▂▂▂▂▂▂▂▂▂▂▂▂▂▂▂▁▁▁▁▁▁▁▁▁▁▁▁</td></tr><tr><td>valid_loss</td><td>█▄▃▃▃▃▃▃▃▃▃▃▂▂▂▂▂▂▂▂▂▂▂▂▂▂▂▁▁▁▁▁▁▁▁▁▁▁▁▁</td></tr><tr><td>epoch</td><td>▁▁▁▂▂▂▂▂▂▃▃▃▃▃▄▄▄▄▄▄▅▅▅▅▅▅▆▆▆▆▆▇▇▇▇▇▇███</td></tr><tr><td>_runtime</td><td>▁▁▁▂▂▂▂▂▂▃▃▃▃▃▃▄▄▄▄▄▅▅▅▅▅▅▆▆▆▆▆▇▇▇▇▇▇███</td></tr><tr><td>_timestamp</td><td>▁▁▁▂▂▂▂▂▂▃▃▃▃▃▃▄▄▄▄▄▅▅▅▅▅▅▆▆▆▆▆▇▇▇▇▇▇███</td></tr><tr><td>_step</td><td>▁▁▁▂▂▂▂▂▂▃▃▃▃▃▄▄▄▄▄▄▅▅▅▅▅▅▆▆▆▆▆▇▇▇▇▇▇███</td></tr></table><br/>"
      ],
      "text/plain": [
       "<IPython.core.display.HTML object>"
      ]
     },
     "metadata": {},
     "output_type": "display_data"
    },
    {
     "data": {
      "text/html": [
       "Synced 5 W&B file(s), 0 media file(s), 0 artifact file(s) and 0 other file(s)"
      ],
      "text/plain": [
       "<IPython.core.display.HTML object>"
      ]
     },
     "metadata": {},
     "output_type": "display_data"
    },
    {
     "data": {
      "text/html": [
       "\n",
       "                    <br/>Synced <strong style=\"color:#cdcd00\">different-sweep-15</strong>: <a href=\"https://wandb.ai/sazio/NMAs-Small-Hidden-Dims/runs/0gw8e89n\" target=\"_blank\">https://wandb.ai/sazio/NMAs-Small-Hidden-Dims/runs/0gw8e89n</a><br/>\n",
       "                "
      ],
      "text/plain": [
       "<IPython.core.display.HTML object>"
      ]
     },
     "metadata": {},
     "output_type": "display_data"
    },
    {
     "name": "stderr",
     "output_type": "stream",
     "text": [
      "wandb: Agent Starting Run: 9d42ypz8 with config:\n",
      "wandb: \tdropout: 0.3\n",
      "wandb: \tepochs: 4000\n",
      "wandb: \tlearning_rate: 0.00043506687718290293\n",
      "wandb: \tn_comp: 100\n",
      "wandb: \tnum_layers: 1\n",
      "wandb: \toptimizer: adam\n",
      "wandb: \tweight_decay: 1e-06\n",
      "Failed to detect the name of this notebook, you can set it manually with the WANDB_NOTEBOOK_NAME environment variable to enable code saving.\n"
     ]
    },
    {
     "data": {
      "text/html": [
       "\n",
       "                Tracking run with wandb version 0.12.0<br/>\n",
       "                Syncing run <strong style=\"color:#cdcd00\">iconic-sweep-16</strong> to <a href=\"https://wandb.ai\" target=\"_blank\">Weights & Biases</a> <a href=\"https://docs.wandb.com/integrations/jupyter.html\" target=\"_blank\">(Documentation)</a>.<br/>\n",
       "                Project page: <a href=\"https://wandb.ai/sazio/NMAs-Small-Hidden-Dims\" target=\"_blank\">https://wandb.ai/sazio/NMAs-Small-Hidden-Dims</a><br/>\n",
       "                Sweep page: <a href=\"https://wandb.ai/sazio/NMAs-Small-Hidden-Dims/sweeps/38qam6fd\" target=\"_blank\">https://wandb.ai/sazio/NMAs-Small-Hidden-Dims/sweeps/38qam6fd</a><br/>\n",
       "Run page: <a href=\"https://wandb.ai/sazio/NMAs-Small-Hidden-Dims/runs/9d42ypz8\" target=\"_blank\">https://wandb.ai/sazio/NMAs-Small-Hidden-Dims/runs/9d42ypz8</a><br/>\n",
       "                Run data is saved locally in <code>/home/sazeglio/NMAs/src/wandb/run-20210814_180926-9d42ypz8</code><br/><br/>\n",
       "            "
      ],
      "text/plain": [
       "<IPython.core.display.HTML object>"
      ]
     },
     "metadata": {},
     "output_type": "display_data"
    },
    {
     "name": "stdout",
     "output_type": "stream",
     "text": [
      " iteration 0, train cost 3.7068, valid cost 3.8026\n",
      " iteration 50, train cost 2.1376, valid cost 2.2133\n",
      " iteration 100, train cost 2.0829, valid cost 2.1686\n",
      " iteration 150, train cost 2.0773, valid cost 2.1653\n",
      " iteration 200, train cost 2.0737, valid cost 2.1630\n",
      " iteration 250, train cost 2.0653, valid cost 2.1544\n",
      " iteration 300, train cost 2.0326, valid cost 2.1161\n",
      " iteration 350, train cost 2.0001, valid cost 2.0791\n",
      " iteration 400, train cost 1.9573, valid cost 2.0326\n",
      " iteration 450, train cost 1.9070, valid cost 1.9883\n",
      " iteration 500, train cost 1.8818, valid cost 1.9623\n",
      " iteration 550, train cost 1.8583, valid cost 1.9401\n",
      " iteration 600, train cost 1.8276, valid cost 1.9105\n",
      " iteration 650, train cost 1.7882, valid cost 1.8732\n",
      " iteration 700, train cost 1.7594, valid cost 1.8488\n",
      " iteration 750, train cost 1.7289, valid cost 1.8241\n",
      " iteration 800, train cost 1.6983, valid cost 1.8020\n",
      " iteration 850, train cost 1.6713, valid cost 1.7817\n",
      " iteration 900, train cost 1.6467, valid cost 1.7617\n",
      " iteration 950, train cost 1.6252, valid cost 1.7425\n",
      " iteration 1000, train cost 1.6030, valid cost 1.7222\n",
      " iteration 1050, train cost 1.5822, valid cost 1.7027\n",
      " iteration 1100, train cost 1.5608, valid cost 1.6818\n",
      " iteration 1150, train cost 1.5389, valid cost 1.6613\n",
      " iteration 1200, train cost 1.5194, valid cost 1.6417\n",
      " iteration 1250, train cost 1.5014, valid cost 1.6233\n",
      " iteration 1300, train cost 1.4827, valid cost 1.6069\n",
      " iteration 1350, train cost 1.4658, valid cost 1.5906\n",
      " iteration 1400, train cost 1.4518, valid cost 1.5755\n",
      " iteration 1450, train cost 1.4374, valid cost 1.5630\n",
      " iteration 1500, train cost 1.4233, valid cost 1.5522\n",
      " iteration 1550, train cost 1.4114, valid cost 1.5426\n",
      " iteration 1600, train cost 1.3993, valid cost 1.5318\n",
      " iteration 1650, train cost 1.3908, valid cost 1.5260\n",
      " iteration 1700, train cost 1.3750, valid cost 1.5121\n",
      " iteration 1750, train cost 1.3637, valid cost 1.5025\n",
      " iteration 1800, train cost 1.3523, valid cost 1.4934\n",
      " iteration 1850, train cost 1.3421, valid cost 1.4849\n",
      " iteration 1900, train cost 1.3317, valid cost 1.4771\n",
      " iteration 1950, train cost 1.3207, valid cost 1.4678\n",
      " iteration 2000, train cost 1.3125, valid cost 1.4609\n",
      " iteration 2050, train cost 1.3032, valid cost 1.4539\n",
      " iteration 2100, train cost 1.2928, valid cost 1.4463\n",
      " iteration 2150, train cost 1.2831, valid cost 1.4405\n",
      " iteration 2200, train cost 1.2757, valid cost 1.4328\n",
      " iteration 2250, train cost 1.2653, valid cost 1.4257\n",
      " iteration 2300, train cost 1.2564, valid cost 1.4186\n",
      " iteration 2350, train cost 1.2454, valid cost 1.4131\n",
      " iteration 2400, train cost 1.2376, valid cost 1.4066\n",
      " iteration 2450, train cost 1.2286, valid cost 1.4013\n",
      " iteration 2500, train cost 1.2211, valid cost 1.3940\n",
      " iteration 2550, train cost 1.2136, valid cost 1.3882\n",
      " iteration 2600, train cost 1.2066, valid cost 1.3836\n",
      " iteration 2650, train cost 1.2007, valid cost 1.3776\n",
      " iteration 2700, train cost 1.1931, valid cost 1.3726\n",
      " iteration 2750, train cost 1.1866, valid cost 1.3682\n",
      " iteration 2800, train cost 1.1814, valid cost 1.3650\n",
      " iteration 2850, train cost 1.1729, valid cost 1.3592\n",
      " iteration 2900, train cost 1.1675, valid cost 1.3547\n",
      " iteration 2950, train cost 1.1611, valid cost 1.3509\n",
      " iteration 3000, train cost 1.1547, valid cost 1.3472\n",
      " iteration 3050, train cost 1.1512, valid cost 1.3444\n",
      " iteration 3100, train cost 1.1462, valid cost 1.3408\n",
      " iteration 3150, train cost 1.1405, valid cost 1.3386\n",
      " iteration 3200, train cost 1.1351, valid cost 1.3354\n",
      " iteration 3250, train cost 1.1315, valid cost 1.3321\n",
      " iteration 3300, train cost 1.1240, valid cost 1.3299\n",
      " iteration 3350, train cost 1.1207, valid cost 1.3278\n",
      " iteration 3400, train cost 1.1155, valid cost 1.3259\n",
      " iteration 3450, train cost 1.1114, valid cost 1.3227\n",
      " iteration 3500, train cost 1.1069, valid cost 1.3196\n",
      " iteration 3550, train cost 1.1035, valid cost 1.3170\n",
      " iteration 3600, train cost 1.1006, valid cost 1.3162\n",
      " iteration 3650, train cost 1.0953, valid cost 1.3133\n",
      " iteration 3700, train cost 1.0904, valid cost 1.3118\n",
      " iteration 3750, train cost 1.0874, valid cost 1.3093\n",
      " iteration 3800, train cost 1.0830, valid cost 1.3070\n",
      " iteration 3850, train cost 1.0799, valid cost 1.3067\n",
      " iteration 3900, train cost 1.0762, valid cost 1.3045\n",
      " iteration 3950, train cost 1.0722, valid cost 1.3029\n"
     ]
    },
    {
     "data": {
      "text/html": [
       "<br/>Waiting for W&B process to finish, PID 182561<br/>Program ended successfully."
      ],
      "text/plain": [
       "<IPython.core.display.HTML object>"
      ]
     },
     "metadata": {},
     "output_type": "display_data"
    },
    {
     "name": "stderr",
     "output_type": "stream",
     "text": [
      "Widget Javascript not detected.  It may not be installed or enabled properly.\n"
     ]
    },
    {
     "data": {
      "application/vnd.jupyter.widget-view+json": {
       "model_id": "5c56b9c7a15849c787cbd239e61217c8"
      }
     },
     "metadata": {},
     "output_type": "display_data"
    },
    {
     "data": {
      "text/html": [
       "Find user logs for this run at: <code>/home/sazeglio/NMAs/src/wandb/run-20210814_180926-9d42ypz8/logs/debug.log</code>"
      ],
      "text/plain": [
       "<IPython.core.display.HTML object>"
      ]
     },
     "metadata": {},
     "output_type": "display_data"
    },
    {
     "data": {
      "text/html": [
       "Find internal logs for this run at: <code>/home/sazeglio/NMAs/src/wandb/run-20210814_180926-9d42ypz8/logs/debug-internal.log</code>"
      ],
      "text/plain": [
       "<IPython.core.display.HTML object>"
      ]
     },
     "metadata": {},
     "output_type": "display_data"
    },
    {
     "data": {
      "text/html": [
       "<h3>Run summary:</h3><br/><style>\n",
       "    table.wandb td:nth-child(1) { padding: 0 10px; text-align: right }\n",
       "    </style><table class=\"wandb\">\n",
       "<tr><td>train_loss</td><td>1.06716</td></tr><tr><td>valid_loss</td><td>1.3007</td></tr><tr><td>epoch</td><td>3999</td></tr><tr><td>_runtime</td><td>279</td></tr><tr><td>_timestamp</td><td>1628957645</td></tr><tr><td>_step</td><td>3999</td></tr></table>"
      ],
      "text/plain": [
       "<IPython.core.display.HTML object>"
      ]
     },
     "metadata": {},
     "output_type": "display_data"
    },
    {
     "data": {
      "text/html": [
       "<h3>Run history:</h3><br/><style>\n",
       "    table.wandb td:nth-child(1) { padding: 0 10px; text-align: right }\n",
       "    </style><table class=\"wandb\">\n",
       "<tr><td>train_loss</td><td>█▆▆▆▅▅▅▄▄▄▄▃▃▃▃▃▃▂▂▂▂▂▂▂▂▂▂▂▂▁▁▁▁▁▁▁▁▁▁▁</td></tr><tr><td>valid_loss</td><td>█▆▆▆▅▅▄▄▄▄▃▃▃▃▃▂▂▂▂▂▂▂▂▂▂▂▁▁▁▁▁▁▁▁▁▁▁▁▁▁</td></tr><tr><td>epoch</td><td>▁▁▁▂▂▂▂▂▂▃▃▃▃▃▄▄▄▄▄▄▅▅▅▅▅▅▆▆▆▆▆▇▇▇▇▇▇███</td></tr><tr><td>_runtime</td><td>▁▁▁▂▂▂▂▂▂▃▃▃▃▃▃▄▄▄▄▄▅▅▅▅▅▅▆▆▆▆▆▇▇▇▇▇▇███</td></tr><tr><td>_timestamp</td><td>▁▁▁▂▂▂▂▂▂▃▃▃▃▃▃▄▄▄▄▄▅▅▅▅▅▅▆▆▆▆▆▇▇▇▇▇▇███</td></tr><tr><td>_step</td><td>▁▁▁▂▂▂▂▂▂▃▃▃▃▃▄▄▄▄▄▄▅▅▅▅▅▅▆▆▆▆▆▇▇▇▇▇▇███</td></tr></table><br/>"
      ],
      "text/plain": [
       "<IPython.core.display.HTML object>"
      ]
     },
     "metadata": {},
     "output_type": "display_data"
    },
    {
     "data": {
      "text/html": [
       "Synced 5 W&B file(s), 0 media file(s), 0 artifact file(s) and 0 other file(s)"
      ],
      "text/plain": [
       "<IPython.core.display.HTML object>"
      ]
     },
     "metadata": {},
     "output_type": "display_data"
    },
    {
     "data": {
      "text/html": [
       "\n",
       "                    <br/>Synced <strong style=\"color:#cdcd00\">iconic-sweep-16</strong>: <a href=\"https://wandb.ai/sazio/NMAs-Small-Hidden-Dims/runs/9d42ypz8\" target=\"_blank\">https://wandb.ai/sazio/NMAs-Small-Hidden-Dims/runs/9d42ypz8</a><br/>\n",
       "                "
      ],
      "text/plain": [
       "<IPython.core.display.HTML object>"
      ]
     },
     "metadata": {},
     "output_type": "display_data"
    },
    {
     "name": "stderr",
     "output_type": "stream",
     "text": [
      "wandb: Agent Starting Run: b98zp6vn with config:\n",
      "wandb: \tdropout: 0.3\n",
      "wandb: \tepochs: 4000\n",
      "wandb: \tlearning_rate: 0.0004447715484957242\n",
      "wandb: \tn_comp: 100\n",
      "wandb: \tnum_layers: 1\n",
      "wandb: \toptimizer: adam\n",
      "wandb: \tweight_decay: 1e-06\n",
      "Failed to detect the name of this notebook, you can set it manually with the WANDB_NOTEBOOK_NAME environment variable to enable code saving.\n"
     ]
    },
    {
     "data": {
      "text/html": [
       "\n",
       "                Tracking run with wandb version 0.12.0<br/>\n",
       "                Syncing run <strong style=\"color:#cdcd00\">sparkling-sweep-17</strong> to <a href=\"https://wandb.ai\" target=\"_blank\">Weights & Biases</a> <a href=\"https://docs.wandb.com/integrations/jupyter.html\" target=\"_blank\">(Documentation)</a>.<br/>\n",
       "                Project page: <a href=\"https://wandb.ai/sazio/NMAs-Small-Hidden-Dims\" target=\"_blank\">https://wandb.ai/sazio/NMAs-Small-Hidden-Dims</a><br/>\n",
       "                Sweep page: <a href=\"https://wandb.ai/sazio/NMAs-Small-Hidden-Dims/sweeps/38qam6fd\" target=\"_blank\">https://wandb.ai/sazio/NMAs-Small-Hidden-Dims/sweeps/38qam6fd</a><br/>\n",
       "Run page: <a href=\"https://wandb.ai/sazio/NMAs-Small-Hidden-Dims/runs/b98zp6vn\" target=\"_blank\">https://wandb.ai/sazio/NMAs-Small-Hidden-Dims/runs/b98zp6vn</a><br/>\n",
       "                Run data is saved locally in <code>/home/sazeglio/NMAs/src/wandb/run-20210814_181409-b98zp6vn</code><br/><br/>\n",
       "            "
      ],
      "text/plain": [
       "<IPython.core.display.HTML object>"
      ]
     },
     "metadata": {},
     "output_type": "display_data"
    },
    {
     "name": "stdout",
     "output_type": "stream",
     "text": [
      " iteration 0, train cost 3.7090, valid cost 3.8038\n",
      " iteration 50, train cost 2.1272, valid cost 2.2069\n",
      " iteration 100, train cost 2.0832, valid cost 2.1677\n",
      " iteration 150, train cost 2.0775, valid cost 2.1654\n",
      " iteration 200, train cost 2.0727, valid cost 2.1619\n",
      " iteration 250, train cost 2.0545, valid cost 2.1432\n",
      " iteration 300, train cost 1.9905, valid cost 2.0806\n",
      " iteration 350, train cost 1.9353, valid cost 2.0361\n",
      " iteration 400, train cost 1.8991, valid cost 1.9955\n",
      " iteration 450, train cost 1.8501, valid cost 1.9419\n",
      " iteration 500, train cost 1.8214, valid cost 1.9147\n",
      " iteration 550, train cost 1.7875, valid cost 1.8789\n",
      " iteration 600, train cost 1.7543, valid cost 1.8492\n",
      " iteration 650, train cost 1.7161, valid cost 1.8161\n",
      " iteration 700, train cost 1.6726, valid cost 1.7796\n",
      " iteration 750, train cost 1.6419, valid cost 1.7568\n",
      " iteration 800, train cost 1.6152, valid cost 1.7358\n",
      " iteration 850, train cost 1.5906, valid cost 1.7141\n",
      " iteration 900, train cost 1.5666, valid cost 1.6949\n",
      " iteration 950, train cost 1.5438, valid cost 1.6751\n",
      " iteration 1000, train cost 1.5201, valid cost 1.6544\n",
      " iteration 1050, train cost 1.4976, valid cost 1.6350\n",
      " iteration 1100, train cost 1.4795, valid cost 1.6201\n",
      " iteration 1150, train cost 1.4613, valid cost 1.6047\n",
      " iteration 1200, train cost 1.4444, valid cost 1.5914\n",
      " iteration 1250, train cost 1.4271, valid cost 1.5793\n",
      " iteration 1300, train cost 1.4117, valid cost 1.5680\n",
      " iteration 1350, train cost 1.3970, valid cost 1.5571\n",
      " iteration 1400, train cost 1.3902, valid cost 1.5614\n",
      " iteration 1450, train cost 1.3701, valid cost 1.5346\n",
      " iteration 1500, train cost 1.3568, valid cost 1.5241\n",
      " iteration 1550, train cost 1.3442, valid cost 1.5136\n",
      " iteration 1600, train cost 1.3330, valid cost 1.5053\n",
      " iteration 1650, train cost 1.3237, valid cost 1.4966\n",
      " iteration 1700, train cost 1.3127, valid cost 1.4897\n",
      " iteration 1750, train cost 1.3045, valid cost 1.4819\n",
      " iteration 1800, train cost 1.2952, valid cost 1.4756\n",
      " iteration 1850, train cost 1.2865, valid cost 1.4686\n",
      " iteration 1900, train cost 1.2761, valid cost 1.4623\n",
      " iteration 1950, train cost 1.2682, valid cost 1.4554\n",
      " iteration 2000, train cost 1.2592, valid cost 1.4491\n",
      " iteration 2050, train cost 1.2499, valid cost 1.4435\n",
      " iteration 2100, train cost 1.2428, valid cost 1.4372\n",
      " iteration 2150, train cost 1.2360, valid cost 1.4313\n",
      " iteration 2200, train cost 1.2264, valid cost 1.4258\n",
      " iteration 2250, train cost 1.2185, valid cost 1.4208\n",
      " iteration 2300, train cost 1.2147, valid cost 1.4140\n",
      " iteration 2350, train cost 1.2096, valid cost 1.4062\n",
      " iteration 2400, train cost 1.2047, valid cost 1.4028\n",
      " iteration 2450, train cost 1.1958, valid cost 1.3975\n",
      " iteration 2500, train cost 1.1887, valid cost 1.3929\n",
      " iteration 2550, train cost 1.1839, valid cost 1.3890\n",
      " iteration 2600, train cost 1.1780, valid cost 1.3856\n",
      " iteration 2650, train cost 1.1726, valid cost 1.3816\n",
      " iteration 2700, train cost 1.1693, valid cost 1.3792\n",
      " iteration 2750, train cost 1.1630, valid cost 1.3756\n",
      " iteration 2800, train cost 1.1572, valid cost 1.3724\n",
      " iteration 2850, train cost 1.1524, valid cost 1.3707\n",
      " iteration 2900, train cost 1.1476, valid cost 1.3675\n",
      " iteration 2950, train cost 1.1431, valid cost 1.3633\n",
      " iteration 3000, train cost 1.1383, valid cost 1.3603\n",
      " iteration 3050, train cost 1.1332, valid cost 1.3593\n",
      " iteration 3100, train cost 1.1293, valid cost 1.3543\n",
      " iteration 3150, train cost 1.1245, valid cost 1.3527\n",
      " iteration 3200, train cost 1.1198, valid cost 1.3495\n",
      " iteration 3250, train cost 1.1149, valid cost 1.3468\n",
      " iteration 3300, train cost 1.1102, valid cost 1.3435\n",
      " iteration 3350, train cost 1.1073, valid cost 1.3399\n",
      " iteration 3400, train cost 1.1009, valid cost 1.3384\n",
      " iteration 3450, train cost 1.0969, valid cost 1.3363\n",
      " iteration 3500, train cost 1.0948, valid cost 1.3332\n",
      " iteration 3550, train cost 1.0895, valid cost 1.3302\n",
      " iteration 3600, train cost 1.0859, valid cost 1.3288\n",
      " iteration 3650, train cost 1.0826, valid cost 1.3259\n",
      " iteration 3700, train cost 1.0785, valid cost 1.3241\n",
      " iteration 3750, train cost 1.0738, valid cost 1.3222\n",
      " iteration 3800, train cost 1.0727, valid cost 1.3190\n",
      " iteration 3850, train cost 1.0648, valid cost 1.3169\n",
      " iteration 3900, train cost 1.0655, valid cost 1.3146\n",
      " iteration 3950, train cost 1.0593, valid cost 1.3140\n"
     ]
    },
    {
     "data": {
      "text/html": [
       "<br/>Waiting for W&B process to finish, PID 182649<br/>Program ended successfully."
      ],
      "text/plain": [
       "<IPython.core.display.HTML object>"
      ]
     },
     "metadata": {},
     "output_type": "display_data"
    },
    {
     "name": "stderr",
     "output_type": "stream",
     "text": [
      "Widget Javascript not detected.  It may not be installed or enabled properly.\n"
     ]
    },
    {
     "data": {
      "application/vnd.jupyter.widget-view+json": {
       "model_id": "cc2b2c14afec4aed96dd3401df7fe5cc"
      }
     },
     "metadata": {},
     "output_type": "display_data"
    },
    {
     "data": {
      "text/html": [
       "Find user logs for this run at: <code>/home/sazeglio/NMAs/src/wandb/run-20210814_181409-b98zp6vn/logs/debug.log</code>"
      ],
      "text/plain": [
       "<IPython.core.display.HTML object>"
      ]
     },
     "metadata": {},
     "output_type": "display_data"
    },
    {
     "data": {
      "text/html": [
       "Find internal logs for this run at: <code>/home/sazeglio/NMAs/src/wandb/run-20210814_181409-b98zp6vn/logs/debug-internal.log</code>"
      ],
      "text/plain": [
       "<IPython.core.display.HTML object>"
      ]
     },
     "metadata": {},
     "output_type": "display_data"
    },
    {
     "data": {
      "text/html": [
       "<h3>Run summary:</h3><br/><style>\n",
       "    table.wandb td:nth-child(1) { padding: 0 10px; text-align: right }\n",
       "    </style><table class=\"wandb\">\n",
       "<tr><td>train_loss</td><td>1.05808</td></tr><tr><td>valid_loss</td><td>1.31005</td></tr><tr><td>epoch</td><td>3999</td></tr><tr><td>_runtime</td><td>281</td></tr><tr><td>_timestamp</td><td>1628957930</td></tr><tr><td>_step</td><td>3999</td></tr></table>"
      ],
      "text/plain": [
       "<IPython.core.display.HTML object>"
      ]
     },
     "metadata": {},
     "output_type": "display_data"
    },
    {
     "data": {
      "text/html": [
       "<h3>Run history:</h3><br/><style>\n",
       "    table.wandb td:nth-child(1) { padding: 0 10px; text-align: right }\n",
       "    </style><table class=\"wandb\">\n",
       "<tr><td>train_loss</td><td>█▆▆▆▅▅▅▄▄▄▃▃▃▃▃▃▂▂▂▂▂▂▂▂▂▂▂▂▁▁▁▁▁▁▁▁▁▁▁▁</td></tr><tr><td>valid_loss</td><td>█▆▆▆▅▅▄▄▄▃▃▃▃▃▂▂▂▂▂▂▂▂▂▂▂▁▁▁▁▁▁▁▁▁▁▁▁▁▁▁</td></tr><tr><td>epoch</td><td>▁▁▁▂▂▂▂▂▂▃▃▃▃▃▄▄▄▄▄▄▅▅▅▅▅▅▆▆▆▆▆▇▇▇▇▇▇███</td></tr><tr><td>_runtime</td><td>▁▁▁▂▂▂▂▂▂▃▃▃▃▃▃▄▄▄▄▄▅▅▅▅▅▅▆▆▆▆▆▇▇▇▇▇▇███</td></tr><tr><td>_timestamp</td><td>▁▁▁▂▂▂▂▂▂▃▃▃▃▃▃▄▄▄▄▄▅▅▅▅▅▅▆▆▆▆▆▇▇▇▇▇▇███</td></tr><tr><td>_step</td><td>▁▁▁▂▂▂▂▂▂▃▃▃▃▃▄▄▄▄▄▄▅▅▅▅▅▅▆▆▆▆▆▇▇▇▇▇▇███</td></tr></table><br/>"
      ],
      "text/plain": [
       "<IPython.core.display.HTML object>"
      ]
     },
     "metadata": {},
     "output_type": "display_data"
    },
    {
     "data": {
      "text/html": [
       "Synced 5 W&B file(s), 0 media file(s), 0 artifact file(s) and 0 other file(s)"
      ],
      "text/plain": [
       "<IPython.core.display.HTML object>"
      ]
     },
     "metadata": {},
     "output_type": "display_data"
    },
    {
     "data": {
      "text/html": [
       "\n",
       "                    <br/>Synced <strong style=\"color:#cdcd00\">sparkling-sweep-17</strong>: <a href=\"https://wandb.ai/sazio/NMAs-Small-Hidden-Dims/runs/b98zp6vn\" target=\"_blank\">https://wandb.ai/sazio/NMAs-Small-Hidden-Dims/runs/b98zp6vn</a><br/>\n",
       "                "
      ],
      "text/plain": [
       "<IPython.core.display.HTML object>"
      ]
     },
     "metadata": {},
     "output_type": "display_data"
    },
    {
     "name": "stderr",
     "output_type": "stream",
     "text": [
      "wandb: Agent Starting Run: sn3is8oj with config:\n",
      "wandb: \tdropout: 0.3\n",
      "wandb: \tepochs: 4000\n",
      "wandb: \tlearning_rate: 0.00014124832510049767\n",
      "wandb: \tn_comp: 50\n",
      "wandb: \tnum_layers: 1\n",
      "wandb: \toptimizer: adam\n",
      "wandb: \tweight_decay: 0\n",
      "Failed to detect the name of this notebook, you can set it manually with the WANDB_NOTEBOOK_NAME environment variable to enable code saving.\n"
     ]
    },
    {
     "data": {
      "text/html": [
       "\n",
       "                Tracking run with wandb version 0.12.0<br/>\n",
       "                Syncing run <strong style=\"color:#cdcd00\">treasured-sweep-18</strong> to <a href=\"https://wandb.ai\" target=\"_blank\">Weights & Biases</a> <a href=\"https://docs.wandb.com/integrations/jupyter.html\" target=\"_blank\">(Documentation)</a>.<br/>\n",
       "                Project page: <a href=\"https://wandb.ai/sazio/NMAs-Small-Hidden-Dims\" target=\"_blank\">https://wandb.ai/sazio/NMAs-Small-Hidden-Dims</a><br/>\n",
       "                Sweep page: <a href=\"https://wandb.ai/sazio/NMAs-Small-Hidden-Dims/sweeps/38qam6fd\" target=\"_blank\">https://wandb.ai/sazio/NMAs-Small-Hidden-Dims/sweeps/38qam6fd</a><br/>\n",
       "Run page: <a href=\"https://wandb.ai/sazio/NMAs-Small-Hidden-Dims/runs/sn3is8oj\" target=\"_blank\">https://wandb.ai/sazio/NMAs-Small-Hidden-Dims/runs/sn3is8oj</a><br/>\n",
       "                Run data is saved locally in <code>/home/sazeglio/NMAs/src/wandb/run-20210814_181854-sn3is8oj</code><br/><br/>\n",
       "            "
      ],
      "text/plain": [
       "<IPython.core.display.HTML object>"
      ]
     },
     "metadata": {},
     "output_type": "display_data"
    },
    {
     "name": "stdout",
     "output_type": "stream",
     "text": [
      " iteration 0, train cost 3.6954, valid cost 3.7949\n",
      " iteration 50, train cost 2.8543, valid cost 2.9095\n",
      " iteration 100, train cost 2.1741, valid cost 2.2509\n",
      " iteration 150, train cost 2.0974, valid cost 2.1764\n",
      " iteration 200, train cost 2.0869, valid cost 2.1679\n",
      " iteration 250, train cost 2.0830, valid cost 2.1661\n",
      " iteration 300, train cost 2.0801, valid cost 2.1649\n",
      " iteration 350, train cost 2.0781, valid cost 2.1637\n",
      " iteration 400, train cost 2.0754, valid cost 2.1619\n",
      " iteration 450, train cost 2.0720, valid cost 2.1581\n",
      " iteration 500, train cost 2.0658, valid cost 2.1512\n",
      " iteration 550, train cost 2.0546, valid cost 2.1371\n",
      " iteration 600, train cost 2.0334, valid cost 2.1105\n",
      " iteration 650, train cost 2.0112, valid cost 2.0852\n",
      " iteration 700, train cost 1.9948, valid cost 2.0681\n",
      " iteration 750, train cost 1.9739, valid cost 2.0479\n",
      " iteration 800, train cost 1.9364, valid cost 2.0107\n",
      " iteration 850, train cost 1.8867, valid cost 1.9630\n",
      " iteration 900, train cost 1.8488, valid cost 1.9265\n",
      " iteration 950, train cost 1.8246, valid cost 1.9032\n",
      " iteration 1000, train cost 1.8083, valid cost 1.8883\n",
      " iteration 1050, train cost 1.7948, valid cost 1.8773\n",
      " iteration 1100, train cost 1.7813, valid cost 1.8671\n",
      " iteration 1150, train cost 1.7676, valid cost 1.8565\n",
      " iteration 1200, train cost 1.7526, valid cost 1.8440\n",
      " iteration 1250, train cost 1.7338, valid cost 1.8299\n",
      " iteration 1300, train cost 1.7177, valid cost 1.8166\n",
      " iteration 1350, train cost 1.7035, valid cost 1.8052\n",
      " iteration 1400, train cost 1.6902, valid cost 1.7940\n",
      " iteration 1450, train cost 1.6755, valid cost 1.7816\n",
      " iteration 1500, train cost 1.6613, valid cost 1.7685\n",
      " iteration 1550, train cost 1.6478, valid cost 1.7561\n",
      " iteration 1600, train cost 1.6347, valid cost 1.7437\n",
      " iteration 1650, train cost 1.6204, valid cost 1.7296\n",
      " iteration 1700, train cost 1.6054, valid cost 1.7145\n",
      " iteration 1750, train cost 1.5907, valid cost 1.6999\n",
      " iteration 1800, train cost 1.5775, valid cost 1.6873\n",
      " iteration 1850, train cost 1.5653, valid cost 1.6759\n",
      " iteration 1900, train cost 1.5535, valid cost 1.6656\n",
      " iteration 1950, train cost 1.5414, valid cost 1.6557\n",
      " iteration 2000, train cost 1.5304, valid cost 1.6467\n",
      " iteration 2050, train cost 1.5215, valid cost 1.6384\n",
      " iteration 2100, train cost 1.5120, valid cost 1.6302\n",
      " iteration 2150, train cost 1.5023, valid cost 1.6227\n",
      " iteration 2200, train cost 1.4938, valid cost 1.6142\n",
      " iteration 2250, train cost 1.4850, valid cost 1.6060\n",
      " iteration 2300, train cost 1.4759, valid cost 1.5974\n",
      " iteration 2350, train cost 1.4663, valid cost 1.5892\n",
      " iteration 2400, train cost 1.4570, valid cost 1.5807\n",
      " iteration 2450, train cost 1.4482, valid cost 1.5725\n",
      " iteration 2500, train cost 1.4391, valid cost 1.5641\n",
      " iteration 2550, train cost 1.4301, valid cost 1.5560\n",
      " iteration 2600, train cost 1.4222, valid cost 1.5485\n",
      " iteration 2650, train cost 1.4143, valid cost 1.5417\n",
      " iteration 2700, train cost 1.4074, valid cost 1.5348\n",
      " iteration 2750, train cost 1.4001, valid cost 1.5291\n",
      " iteration 2800, train cost 1.3935, valid cost 1.5233\n",
      " iteration 2850, train cost 1.3870, valid cost 1.5177\n",
      " iteration 2900, train cost 1.3805, valid cost 1.5133\n",
      " iteration 2950, train cost 1.3748, valid cost 1.5078\n",
      " iteration 3000, train cost 1.3687, valid cost 1.5029\n",
      " iteration 3050, train cost 1.3619, valid cost 1.4983\n",
      " iteration 3100, train cost 1.3573, valid cost 1.4934\n",
      " iteration 3150, train cost 1.3520, valid cost 1.4890\n",
      " iteration 3200, train cost 1.3475, valid cost 1.4847\n",
      " iteration 3250, train cost 1.3417, valid cost 1.4811\n",
      " iteration 3300, train cost 1.3367, valid cost 1.4777\n",
      " iteration 3350, train cost 1.3328, valid cost 1.4738\n",
      " iteration 3400, train cost 1.3284, valid cost 1.4706\n",
      " iteration 3450, train cost 1.3226, valid cost 1.4667\n",
      " iteration 3500, train cost 1.3206, valid cost 1.4630\n",
      " iteration 3550, train cost 1.3149, valid cost 1.4596\n",
      " iteration 3600, train cost 1.3107, valid cost 1.4560\n",
      " iteration 3650, train cost 1.3068, valid cost 1.4531\n",
      " iteration 3700, train cost 1.3013, valid cost 1.4491\n",
      " iteration 3750, train cost 1.2984, valid cost 1.4457\n",
      " iteration 3800, train cost 1.2939, valid cost 1.4427\n",
      " iteration 3850, train cost 1.2896, valid cost 1.4394\n",
      " iteration 3900, train cost 1.2853, valid cost 1.4364\n",
      " iteration 3950, train cost 1.2826, valid cost 1.4333\n"
     ]
    },
    {
     "data": {
      "text/html": [
       "<br/>Waiting for W&B process to finish, PID 182768<br/>Program ended successfully."
      ],
      "text/plain": [
       "<IPython.core.display.HTML object>"
      ]
     },
     "metadata": {},
     "output_type": "display_data"
    },
    {
     "name": "stderr",
     "output_type": "stream",
     "text": [
      "Widget Javascript not detected.  It may not be installed or enabled properly.\n"
     ]
    },
    {
     "data": {
      "application/vnd.jupyter.widget-view+json": {
       "model_id": "687080af5e984f57aae5b655421a1c27"
      }
     },
     "metadata": {},
     "output_type": "display_data"
    },
    {
     "data": {
      "text/html": [
       "Find user logs for this run at: <code>/home/sazeglio/NMAs/src/wandb/run-20210814_181854-sn3is8oj/logs/debug.log</code>"
      ],
      "text/plain": [
       "<IPython.core.display.HTML object>"
      ]
     },
     "metadata": {},
     "output_type": "display_data"
    },
    {
     "data": {
      "text/html": [
       "Find internal logs for this run at: <code>/home/sazeglio/NMAs/src/wandb/run-20210814_181854-sn3is8oj/logs/debug-internal.log</code>"
      ],
      "text/plain": [
       "<IPython.core.display.HTML object>"
      ]
     },
     "metadata": {},
     "output_type": "display_data"
    },
    {
     "data": {
      "text/html": [
       "<h3>Run summary:</h3><br/><style>\n",
       "    table.wandb td:nth-child(1) { padding: 0 10px; text-align: right }\n",
       "    </style><table class=\"wandb\">\n",
       "<tr><td>train_loss</td><td>1.27856</td></tr><tr><td>valid_loss</td><td>1.43085</td></tr><tr><td>epoch</td><td>3999</td></tr><tr><td>_runtime</td><td>280</td></tr><tr><td>_timestamp</td><td>1628958214</td></tr><tr><td>_step</td><td>3999</td></tr></table>"
      ],
      "text/plain": [
       "<IPython.core.display.HTML object>"
      ]
     },
     "metadata": {},
     "output_type": "display_data"
    },
    {
     "data": {
      "text/html": [
       "<h3>Run history:</h3><br/><style>\n",
       "    table.wandb td:nth-child(1) { padding: 0 10px; text-align: right }\n",
       "    </style><table class=\"wandb\">\n",
       "<tr><td>train_loss</td><td>█▄▄▄▄▄▃▃▃▃▃▃▂▂▂▂▂▂▂▂▂▂▂▂▂▁▁▁▁▁▁▁▁▁▁▁▁▁▁▁</td></tr><tr><td>valid_loss</td><td>█▄▄▄▃▃▃▃▃▃▃▂▂▂▂▂▂▂▂▂▂▂▂▂▁▁▁▁▁▁▁▁▁▁▁▁▁▁▁▁</td></tr><tr><td>epoch</td><td>▁▁▁▂▂▂▂▂▂▃▃▃▃▃▄▄▄▄▄▄▅▅▅▅▅▅▆▆▆▆▆▇▇▇▇▇▇███</td></tr><tr><td>_runtime</td><td>▁▁▁▂▂▂▂▂▂▃▃▃▃▃▄▄▄▄▄▄▅▅▅▅▅▆▆▆▆▆▆▇▇▇▇▇▇███</td></tr><tr><td>_timestamp</td><td>▁▁▁▂▂▂▂▂▂▃▃▃▃▃▄▄▄▄▄▄▅▅▅▅▅▆▆▆▆▆▆▇▇▇▇▇▇███</td></tr><tr><td>_step</td><td>▁▁▁▂▂▂▂▂▂▃▃▃▃▃▄▄▄▄▄▄▅▅▅▅▅▅▆▆▆▆▆▇▇▇▇▇▇███</td></tr></table><br/>"
      ],
      "text/plain": [
       "<IPython.core.display.HTML object>"
      ]
     },
     "metadata": {},
     "output_type": "display_data"
    },
    {
     "data": {
      "text/html": [
       "Synced 5 W&B file(s), 0 media file(s), 0 artifact file(s) and 0 other file(s)"
      ],
      "text/plain": [
       "<IPython.core.display.HTML object>"
      ]
     },
     "metadata": {},
     "output_type": "display_data"
    },
    {
     "data": {
      "text/html": [
       "\n",
       "                    <br/>Synced <strong style=\"color:#cdcd00\">treasured-sweep-18</strong>: <a href=\"https://wandb.ai/sazio/NMAs-Small-Hidden-Dims/runs/sn3is8oj\" target=\"_blank\">https://wandb.ai/sazio/NMAs-Small-Hidden-Dims/runs/sn3is8oj</a><br/>\n",
       "                "
      ],
      "text/plain": [
       "<IPython.core.display.HTML object>"
      ]
     },
     "metadata": {},
     "output_type": "display_data"
    },
    {
     "name": "stderr",
     "output_type": "stream",
     "text": [
      "wandb: Agent Starting Run: 4qty4axw with config:\n",
      "wandb: \tdropout: 0.3\n",
      "wandb: \tepochs: 4000\n",
      "wandb: \tlearning_rate: 0.0010544370776946325\n",
      "wandb: \tn_comp: 100\n",
      "wandb: \tnum_layers: 1\n",
      "wandb: \toptimizer: adam\n",
      "wandb: \tweight_decay: 1e-06\n",
      "Failed to detect the name of this notebook, you can set it manually with the WANDB_NOTEBOOK_NAME environment variable to enable code saving.\n"
     ]
    },
    {
     "data": {
      "text/html": [
       "\n",
       "                Tracking run with wandb version 0.12.0<br/>\n",
       "                Syncing run <strong style=\"color:#cdcd00\">pious-sweep-19</strong> to <a href=\"https://wandb.ai\" target=\"_blank\">Weights & Biases</a> <a href=\"https://docs.wandb.com/integrations/jupyter.html\" target=\"_blank\">(Documentation)</a>.<br/>\n",
       "                Project page: <a href=\"https://wandb.ai/sazio/NMAs-Small-Hidden-Dims\" target=\"_blank\">https://wandb.ai/sazio/NMAs-Small-Hidden-Dims</a><br/>\n",
       "                Sweep page: <a href=\"https://wandb.ai/sazio/NMAs-Small-Hidden-Dims/sweeps/38qam6fd\" target=\"_blank\">https://wandb.ai/sazio/NMAs-Small-Hidden-Dims/sweeps/38qam6fd</a><br/>\n",
       "Run page: <a href=\"https://wandb.ai/sazio/NMAs-Small-Hidden-Dims/runs/4qty4axw\" target=\"_blank\">https://wandb.ai/sazio/NMAs-Small-Hidden-Dims/runs/4qty4axw</a><br/>\n",
       "                Run data is saved locally in <code>/home/sazeglio/NMAs/src/wandb/run-20210814_182338-4qty4axw</code><br/><br/>\n",
       "            "
      ],
      "text/plain": [
       "<IPython.core.display.HTML object>"
      ]
     },
     "metadata": {},
     "output_type": "display_data"
    },
    {
     "name": "stdout",
     "output_type": "stream",
     "text": [
      " iteration 0, train cost 3.7094, valid cost 3.7980\n",
      " iteration 50, train cost 2.0852, valid cost 2.1743\n",
      " iteration 100, train cost 2.0747, valid cost 2.1661\n",
      " iteration 150, train cost 2.0667, valid cost 2.1577\n",
      " iteration 200, train cost 1.9809, valid cost 2.0559\n",
      " iteration 250, train cost 1.9084, valid cost 1.9888\n",
      " iteration 300, train cost 1.8498, valid cost 1.9271\n",
      " iteration 350, train cost 1.7864, valid cost 1.8754\n",
      " iteration 400, train cost 1.7348, valid cost 1.8349\n",
      " iteration 450, train cost 1.6869, valid cost 1.7932\n",
      " iteration 500, train cost 1.6458, valid cost 1.7594\n",
      " iteration 550, train cost 1.6062, valid cost 1.7300\n",
      " iteration 600, train cost 1.5715, valid cost 1.7001\n",
      " iteration 650, train cost 1.5445, valid cost 1.6800\n",
      " iteration 700, train cost 1.5208, valid cost 1.6643\n",
      " iteration 750, train cost 1.4972, valid cost 1.6490\n",
      " iteration 800, train cost 1.4754, valid cost 1.6312\n",
      " iteration 850, train cost 1.4538, valid cost 1.6139\n",
      " iteration 900, train cost 1.4361, valid cost 1.6019\n",
      " iteration 950, train cost 1.4147, valid cost 1.5830\n",
      " iteration 1000, train cost 1.3957, valid cost 1.5673\n",
      " iteration 1050, train cost 1.3786, valid cost 1.5538\n",
      " iteration 1100, train cost 1.3587, valid cost 1.5398\n",
      " iteration 1150, train cost 1.3937, valid cost 1.5554\n",
      " iteration 1200, train cost 1.3344, valid cost 1.5128\n",
      " iteration 1250, train cost 1.3196, valid cost 1.5045\n",
      " iteration 1300, train cost 1.3064, valid cost 1.4945\n",
      " iteration 1350, train cost 1.2920, valid cost 1.4859\n",
      " iteration 1400, train cost 1.2795, valid cost 1.4792\n",
      " iteration 1450, train cost 1.2667, valid cost 1.4694\n",
      " iteration 1500, train cost 1.2589, valid cost 1.4631\n",
      " iteration 1550, train cost 1.2465, valid cost 1.4576\n",
      " iteration 1600, train cost 1.2329, valid cost 1.4485\n",
      " iteration 1650, train cost 1.2214, valid cost 1.4428\n",
      " iteration 1700, train cost 1.2113, valid cost 1.4369\n",
      " iteration 1750, train cost 1.2008, valid cost 1.4315\n",
      " iteration 1800, train cost 1.1918, valid cost 1.4265\n",
      " iteration 1850, train cost 1.1823, valid cost 1.4217\n",
      " iteration 1900, train cost 1.1780, valid cost 1.4375\n",
      " iteration 1950, train cost 1.1631, valid cost 1.4108\n",
      " iteration 2000, train cost 1.1548, valid cost 1.4084\n",
      " iteration 2050, train cost 1.1470, valid cost 1.4034\n",
      " iteration 2100, train cost 1.1398, valid cost 1.3972\n",
      " iteration 2150, train cost 1.1319, valid cost 1.3944\n",
      " iteration 2200, train cost 1.1245, valid cost 1.3880\n",
      " iteration 2250, train cost 1.1511, valid cost 1.4040\n",
      " iteration 2300, train cost 1.1126, valid cost 1.3802\n",
      " iteration 2350, train cost 1.1038, valid cost 1.3764\n",
      " iteration 2400, train cost 1.0994, valid cost 1.3716\n",
      " iteration 2450, train cost 1.0980, valid cost 1.3680\n",
      " iteration 2500, train cost 1.0942, valid cost 1.3632\n",
      " iteration 2550, train cost 1.0889, valid cost 1.3594\n",
      " iteration 2600, train cost 1.0795, valid cost 1.3542\n",
      " iteration 2650, train cost 1.0754, valid cost 1.3522\n",
      " iteration 2700, train cost 1.0720, valid cost 1.3491\n",
      " iteration 2750, train cost 1.0660, valid cost 1.3462\n",
      " iteration 2800, train cost 1.0647, valid cost 1.3423\n",
      " iteration 2850, train cost 1.0574, valid cost 1.3416\n",
      " iteration 2900, train cost 1.0565, valid cost 1.3362\n",
      " iteration 2950, train cost 1.0499, valid cost 1.3325\n",
      " iteration 3000, train cost 1.0478, valid cost 1.3300\n",
      " iteration 3050, train cost 1.0442, valid cost 1.3278\n",
      " iteration 3100, train cost 1.0386, valid cost 1.3240\n",
      " iteration 3150, train cost 1.0360, valid cost 1.3221\n",
      " iteration 3200, train cost 1.0341, valid cost 1.3193\n",
      " iteration 3250, train cost 1.0309, valid cost 1.3172\n",
      " iteration 3300, train cost 1.0280, valid cost 1.3158\n",
      " iteration 3350, train cost 1.0253, valid cost 1.3119\n",
      " iteration 3400, train cost 1.0239, valid cost 1.3104\n",
      " iteration 3450, train cost 1.0199, valid cost 1.3113\n",
      " iteration 3500, train cost 1.0211, valid cost 1.3088\n",
      " iteration 3550, train cost 1.0157, valid cost 1.3033\n",
      " iteration 3600, train cost 1.0705, valid cost 1.3230\n",
      " iteration 3650, train cost 1.0123, valid cost 1.2963\n",
      " iteration 3700, train cost 1.0127, valid cost 1.2996\n",
      " iteration 3750, train cost 1.0080, valid cost 1.2949\n",
      " iteration 3800, train cost 1.0053, valid cost 1.2933\n",
      " iteration 3850, train cost 1.0409, valid cost 1.3235\n",
      " iteration 3900, train cost 1.0009, valid cost 1.2882\n",
      " iteration 3950, train cost 1.0904, valid cost 1.3280\n"
     ]
    },
    {
     "data": {
      "text/html": [
       "<br/>Waiting for W&B process to finish, PID 182856<br/>Program ended successfully."
      ],
      "text/plain": [
       "<IPython.core.display.HTML object>"
      ]
     },
     "metadata": {},
     "output_type": "display_data"
    },
    {
     "name": "stderr",
     "output_type": "stream",
     "text": [
      "Widget Javascript not detected.  It may not be installed or enabled properly.\n"
     ]
    },
    {
     "data": {
      "application/vnd.jupyter.widget-view+json": {
       "model_id": "d62a6bdec8514e26a1fd4fe8bd251c6f"
      }
     },
     "metadata": {},
     "output_type": "display_data"
    },
    {
     "data": {
      "text/html": [
       "Find user logs for this run at: <code>/home/sazeglio/NMAs/src/wandb/run-20210814_182338-4qty4axw/logs/debug.log</code>"
      ],
      "text/plain": [
       "<IPython.core.display.HTML object>"
      ]
     },
     "metadata": {},
     "output_type": "display_data"
    },
    {
     "data": {
      "text/html": [
       "Find internal logs for this run at: <code>/home/sazeglio/NMAs/src/wandb/run-20210814_182338-4qty4axw/logs/debug-internal.log</code>"
      ],
      "text/plain": [
       "<IPython.core.display.HTML object>"
      ]
     },
     "metadata": {},
     "output_type": "display_data"
    },
    {
     "data": {
      "text/html": [
       "<h3>Run summary:</h3><br/><style>\n",
       "    table.wandb td:nth-child(1) { padding: 0 10px; text-align: right }\n",
       "    </style><table class=\"wandb\">\n",
       "<tr><td>train_loss</td><td>1.00046</td></tr><tr><td>valid_loss</td><td>1.28439</td></tr><tr><td>epoch</td><td>3999</td></tr><tr><td>_runtime</td><td>279</td></tr><tr><td>_timestamp</td><td>1628958497</td></tr><tr><td>_step</td><td>3999</td></tr></table>"
      ],
      "text/plain": [
       "<IPython.core.display.HTML object>"
      ]
     },
     "metadata": {},
     "output_type": "display_data"
    },
    {
     "data": {
      "text/html": [
       "<h3>Run history:</h3><br/><style>\n",
       "    table.wandb td:nth-child(1) { padding: 0 10px; text-align: right }\n",
       "    </style><table class=\"wandb\">\n",
       "<tr><td>train_loss</td><td>██▇▆▅▅▄▄▄▄▃▃▃▃▃▃▂▂▂▂▂▂▂▂▂▁▁▁▁▁▁▁▁▁▁▁▁▁▁▁</td></tr><tr><td>valid_loss</td><td>██▆▆▅▅▄▄▄▃▃▃▃▂▂▂▂▂▂▂▂▂▂▂▂▁▁▁▁▁▁▁▁▁▁▁▁▁▁▁</td></tr><tr><td>epoch</td><td>▁▁▁▂▂▂▂▂▂▃▃▃▃▃▄▄▄▄▄▄▅▅▅▅▅▅▆▆▆▆▆▇▇▇▇▇▇███</td></tr><tr><td>_runtime</td><td>▁▁▁▂▂▂▂▂▂▃▃▃▃▃▃▄▄▄▄▄▅▅▅▅▅▅▆▆▆▆▆▇▇▇▇▇▇███</td></tr><tr><td>_timestamp</td><td>▁▁▁▂▂▂▂▂▂▃▃▃▃▃▃▄▄▄▄▄▅▅▅▅▅▅▆▆▆▆▆▇▇▇▇▇▇███</td></tr><tr><td>_step</td><td>▁▁▁▂▂▂▂▂▂▃▃▃▃▃▄▄▄▄▄▄▅▅▅▅▅▅▆▆▆▆▆▇▇▇▇▇▇███</td></tr></table><br/>"
      ],
      "text/plain": [
       "<IPython.core.display.HTML object>"
      ]
     },
     "metadata": {},
     "output_type": "display_data"
    },
    {
     "data": {
      "text/html": [
       "Synced 5 W&B file(s), 0 media file(s), 0 artifact file(s) and 0 other file(s)"
      ],
      "text/plain": [
       "<IPython.core.display.HTML object>"
      ]
     },
     "metadata": {},
     "output_type": "display_data"
    },
    {
     "data": {
      "text/html": [
       "\n",
       "                    <br/>Synced <strong style=\"color:#cdcd00\">pious-sweep-19</strong>: <a href=\"https://wandb.ai/sazio/NMAs-Small-Hidden-Dims/runs/4qty4axw\" target=\"_blank\">https://wandb.ai/sazio/NMAs-Small-Hidden-Dims/runs/4qty4axw</a><br/>\n",
       "                "
      ],
      "text/plain": [
       "<IPython.core.display.HTML object>"
      ]
     },
     "metadata": {},
     "output_type": "display_data"
    },
    {
     "name": "stderr",
     "output_type": "stream",
     "text": [
      "wandb: Agent Starting Run: 3vncw26b with config:\n",
      "wandb: \tdropout: 0.5\n",
      "wandb: \tepochs: 4000\n",
      "wandb: \tlearning_rate: 8.114005980991405e-05\n",
      "wandb: \tn_comp: 50\n",
      "wandb: \tnum_layers: 1\n",
      "wandb: \toptimizer: adam\n",
      "wandb: \tweight_decay: 1e-05\n",
      "Failed to detect the name of this notebook, you can set it manually with the WANDB_NOTEBOOK_NAME environment variable to enable code saving.\n"
     ]
    },
    {
     "data": {
      "text/html": [
       "\n",
       "                Tracking run with wandb version 0.12.0<br/>\n",
       "                Syncing run <strong style=\"color:#cdcd00\">sandy-sweep-20</strong> to <a href=\"https://wandb.ai\" target=\"_blank\">Weights & Biases</a> <a href=\"https://docs.wandb.com/integrations/jupyter.html\" target=\"_blank\">(Documentation)</a>.<br/>\n",
       "                Project page: <a href=\"https://wandb.ai/sazio/NMAs-Small-Hidden-Dims\" target=\"_blank\">https://wandb.ai/sazio/NMAs-Small-Hidden-Dims</a><br/>\n",
       "                Sweep page: <a href=\"https://wandb.ai/sazio/NMAs-Small-Hidden-Dims/sweeps/38qam6fd\" target=\"_blank\">https://wandb.ai/sazio/NMAs-Small-Hidden-Dims/sweeps/38qam6fd</a><br/>\n",
       "Run page: <a href=\"https://wandb.ai/sazio/NMAs-Small-Hidden-Dims/runs/3vncw26b\" target=\"_blank\">https://wandb.ai/sazio/NMAs-Small-Hidden-Dims/runs/3vncw26b</a><br/>\n",
       "                Run data is saved locally in <code>/home/sazeglio/NMAs/src/wandb/run-20210814_182822-3vncw26b</code><br/><br/>\n",
       "            "
      ],
      "text/plain": [
       "<IPython.core.display.HTML object>"
      ]
     },
     "metadata": {},
     "output_type": "display_data"
    },
    {
     "name": "stdout",
     "output_type": "stream",
     "text": [
      " iteration 0, train cost 3.6990, valid cost 3.7992\n",
      " iteration 50, train cost 3.3569, valid cost 3.4346\n",
      " iteration 100, train cost 2.4909, valid cost 2.5569\n",
      " iteration 150, train cost 2.1908, valid cost 2.2632\n",
      " iteration 200, train cost 2.1171, valid cost 2.1928\n",
      " iteration 250, train cost 2.0965, valid cost 2.1746\n",
      " iteration 300, train cost 2.0892, valid cost 2.1686\n",
      " iteration 350, train cost 2.0849, valid cost 2.1662\n",
      " iteration 400, train cost 2.0822, valid cost 2.1650\n",
      " iteration 450, train cost 2.0802, valid cost 2.1641\n",
      " iteration 500, train cost 2.0776, valid cost 2.1630\n",
      " iteration 550, train cost 2.0755, valid cost 2.1616\n",
      " iteration 600, train cost 2.0727, valid cost 2.1594\n",
      " iteration 650, train cost 2.0690, valid cost 2.1560\n",
      " iteration 700, train cost 2.0624, valid cost 2.1499\n",
      " iteration 750, train cost 2.0525, valid cost 2.1396\n",
      " iteration 800, train cost 2.0361, valid cost 2.1216\n",
      " iteration 850, train cost 2.0100, valid cost 2.0927\n",
      " iteration 900, train cost 1.9781, valid cost 2.0572\n",
      " iteration 950, train cost 1.9481, valid cost 2.0250\n",
      " iteration 1000, train cost 1.9255, valid cost 2.0003\n",
      " iteration 1050, train cost 1.9069, valid cost 1.9816\n",
      " iteration 1100, train cost 1.8890, valid cost 1.9650\n",
      " iteration 1150, train cost 1.8714, valid cost 1.9489\n",
      " iteration 1200, train cost 1.8536, valid cost 1.9322\n",
      " iteration 1250, train cost 1.8362, valid cost 1.9159\n",
      " iteration 1300, train cost 1.8203, valid cost 1.9016\n",
      " iteration 1350, train cost 1.8062, valid cost 1.8899\n",
      " iteration 1400, train cost 1.7937, valid cost 1.8798\n",
      " iteration 1450, train cost 1.7820, valid cost 1.8700\n",
      " iteration 1500, train cost 1.7705, valid cost 1.8594\n",
      " iteration 1550, train cost 1.7568, valid cost 1.8487\n",
      " iteration 1600, train cost 1.7443, valid cost 1.8376\n",
      " iteration 1650, train cost 1.7316, valid cost 1.8273\n",
      " iteration 1700, train cost 1.7189, valid cost 1.8172\n",
      " iteration 1750, train cost 1.7066, valid cost 1.8076\n",
      " iteration 1800, train cost 1.6951, valid cost 1.7973\n",
      " iteration 1850, train cost 1.6828, valid cost 1.7873\n",
      " iteration 1900, train cost 1.6709, valid cost 1.7774\n",
      " iteration 1950, train cost 1.6592, valid cost 1.7683\n",
      " iteration 2000, train cost 1.6484, valid cost 1.7593\n",
      " iteration 2050, train cost 1.6375, valid cost 1.7503\n",
      " iteration 2100, train cost 1.6273, valid cost 1.7408\n",
      " iteration 2150, train cost 1.6166, valid cost 1.7309\n",
      " iteration 2200, train cost 1.6049, valid cost 1.7212\n",
      " iteration 2250, train cost 1.5931, valid cost 1.7110\n",
      " iteration 2300, train cost 1.5839, valid cost 1.7013\n",
      " iteration 2350, train cost 1.5725, valid cost 1.6919\n",
      " iteration 2400, train cost 1.5621, valid cost 1.6825\n",
      " iteration 2450, train cost 1.5535, valid cost 1.6733\n",
      " iteration 2500, train cost 1.5433, valid cost 1.6648\n",
      " iteration 2550, train cost 1.5337, valid cost 1.6565\n",
      " iteration 2600, train cost 1.5236, valid cost 1.6489\n",
      " iteration 2650, train cost 1.5160, valid cost 1.6417\n",
      " iteration 2700, train cost 1.5091, valid cost 1.6344\n",
      " iteration 2750, train cost 1.5009, valid cost 1.6276\n",
      " iteration 2800, train cost 1.4921, valid cost 1.6213\n",
      " iteration 2850, train cost 1.4852, valid cost 1.6144\n",
      " iteration 2900, train cost 1.4772, valid cost 1.6082\n",
      " iteration 2950, train cost 1.4710, valid cost 1.6019\n",
      " iteration 3000, train cost 1.4649, valid cost 1.5956\n",
      " iteration 3050, train cost 1.4571, valid cost 1.5894\n",
      " iteration 3100, train cost 1.4508, valid cost 1.5838\n",
      " iteration 3150, train cost 1.4437, valid cost 1.5779\n",
      " iteration 3200, train cost 1.4379, valid cost 1.5722\n",
      " iteration 3250, train cost 1.4328, valid cost 1.5671\n",
      " iteration 3300, train cost 1.4272, valid cost 1.5621\n",
      " iteration 3350, train cost 1.4217, valid cost 1.5568\n",
      " iteration 3400, train cost 1.4158, valid cost 1.5518\n",
      " iteration 3450, train cost 1.4097, valid cost 1.5467\n",
      " iteration 3500, train cost 1.4050, valid cost 1.5421\n",
      " iteration 3550, train cost 1.3995, valid cost 1.5373\n",
      " iteration 3600, train cost 1.3947, valid cost 1.5333\n",
      " iteration 3650, train cost 1.3898, valid cost 1.5291\n",
      " iteration 3700, train cost 1.3855, valid cost 1.5254\n",
      " iteration 3750, train cost 1.3812, valid cost 1.5218\n",
      " iteration 3800, train cost 1.3764, valid cost 1.5180\n",
      " iteration 3850, train cost 1.3730, valid cost 1.5143\n",
      " iteration 3900, train cost 1.3674, valid cost 1.5118\n",
      " iteration 3950, train cost 1.3628, valid cost 1.5083\n"
     ]
    },
    {
     "data": {
      "text/html": [
       "<br/>Waiting for W&B process to finish, PID 183261<br/>Program ended successfully."
      ],
      "text/plain": [
       "<IPython.core.display.HTML object>"
      ]
     },
     "metadata": {},
     "output_type": "display_data"
    },
    {
     "name": "stderr",
     "output_type": "stream",
     "text": [
      "Widget Javascript not detected.  It may not be installed or enabled properly.\n"
     ]
    },
    {
     "data": {
      "application/vnd.jupyter.widget-view+json": {
       "model_id": "b449eb3e353940bc844e85be25b14c98"
      }
     },
     "metadata": {},
     "output_type": "display_data"
    },
    {
     "data": {
      "text/html": [
       "Find user logs for this run at: <code>/home/sazeglio/NMAs/src/wandb/run-20210814_182822-3vncw26b/logs/debug.log</code>"
      ],
      "text/plain": [
       "<IPython.core.display.HTML object>"
      ]
     },
     "metadata": {},
     "output_type": "display_data"
    },
    {
     "data": {
      "text/html": [
       "Find internal logs for this run at: <code>/home/sazeglio/NMAs/src/wandb/run-20210814_182822-3vncw26b/logs/debug-internal.log</code>"
      ],
      "text/plain": [
       "<IPython.core.display.HTML object>"
      ]
     },
     "metadata": {},
     "output_type": "display_data"
    },
    {
     "data": {
      "text/html": [
       "<h3>Run summary:</h3><br/><style>\n",
       "    table.wandb td:nth-child(1) { padding: 0 10px; text-align: right }\n",
       "    </style><table class=\"wandb\">\n",
       "<tr><td>train_loss</td><td>1.35957</td></tr><tr><td>valid_loss</td><td>1.50512</td></tr><tr><td>epoch</td><td>3999</td></tr><tr><td>_runtime</td><td>280</td></tr><tr><td>_timestamp</td><td>1628958782</td></tr><tr><td>_step</td><td>3999</td></tr></table>"
      ],
      "text/plain": [
       "<IPython.core.display.HTML object>"
      ]
     },
     "metadata": {},
     "output_type": "display_data"
    },
    {
     "data": {
      "text/html": [
       "<h3>Run history:</h3><br/><style>\n",
       "    table.wandb td:nth-child(1) { padding: 0 10px; text-align: right }\n",
       "    </style><table class=\"wandb\">\n",
       "<tr><td>train_loss</td><td>█▄▃▃▃▃▃▃▃▃▃▃▂▂▂▂▂▂▂▂▂▂▂▂▂▂▁▁▁▁▁▁▁▁▁▁▁▁▁▁</td></tr><tr><td>valid_loss</td><td>█▄▃▃▃▃▃▃▃▃▃▂▂▂▂▂▂▂▂▂▂▂▂▂▂▁▁▁▁▁▁▁▁▁▁▁▁▁▁▁</td></tr><tr><td>epoch</td><td>▁▁▁▂▂▂▂▂▂▃▃▃▃▃▄▄▄▄▄▄▅▅▅▅▅▅▆▆▆▆▆▇▇▇▇▇▇███</td></tr><tr><td>_runtime</td><td>▁▁▁▂▂▂▂▂▂▃▃▃▃▃▃▄▄▄▄▄▅▅▅▅▅▆▆▆▆▆▆▇▇▇▇▇▇███</td></tr><tr><td>_timestamp</td><td>▁▁▁▂▂▂▂▂▂▃▃▃▃▃▃▄▄▄▄▄▅▅▅▅▅▆▆▆▆▆▆▇▇▇▇▇▇███</td></tr><tr><td>_step</td><td>▁▁▁▂▂▂▂▂▂▃▃▃▃▃▄▄▄▄▄▄▅▅▅▅▅▅▆▆▆▆▆▇▇▇▇▇▇███</td></tr></table><br/>"
      ],
      "text/plain": [
       "<IPython.core.display.HTML object>"
      ]
     },
     "metadata": {},
     "output_type": "display_data"
    },
    {
     "data": {
      "text/html": [
       "Synced 5 W&B file(s), 0 media file(s), 0 artifact file(s) and 0 other file(s)"
      ],
      "text/plain": [
       "<IPython.core.display.HTML object>"
      ]
     },
     "metadata": {},
     "output_type": "display_data"
    },
    {
     "data": {
      "text/html": [
       "\n",
       "                    <br/>Synced <strong style=\"color:#cdcd00\">sandy-sweep-20</strong>: <a href=\"https://wandb.ai/sazio/NMAs-Small-Hidden-Dims/runs/3vncw26b\" target=\"_blank\">https://wandb.ai/sazio/NMAs-Small-Hidden-Dims/runs/3vncw26b</a><br/>\n",
       "                "
      ],
      "text/plain": [
       "<IPython.core.display.HTML object>"
      ]
     },
     "metadata": {},
     "output_type": "display_data"
    },
    {
     "name": "stderr",
     "output_type": "stream",
     "text": [
      "wandb: Agent Starting Run: x10w3afu with config:\n",
      "wandb: \tdropout: 0.1\n",
      "wandb: \tepochs: 4000\n",
      "wandb: \tlearning_rate: 0.000657029874506181\n",
      "wandb: \tn_comp: 75\n",
      "wandb: \tnum_layers: 1\n",
      "wandb: \toptimizer: adam\n",
      "wandb: \tweight_decay: 5e-05\n",
      "Failed to detect the name of this notebook, you can set it manually with the WANDB_NOTEBOOK_NAME environment variable to enable code saving.\n"
     ]
    },
    {
     "data": {
      "text/html": [
       "\n",
       "                Tracking run with wandb version 0.12.0<br/>\n",
       "                Syncing run <strong style=\"color:#cdcd00\">skilled-sweep-21</strong> to <a href=\"https://wandb.ai\" target=\"_blank\">Weights & Biases</a> <a href=\"https://docs.wandb.com/integrations/jupyter.html\" target=\"_blank\">(Documentation)</a>.<br/>\n",
       "                Project page: <a href=\"https://wandb.ai/sazio/NMAs-Small-Hidden-Dims\" target=\"_blank\">https://wandb.ai/sazio/NMAs-Small-Hidden-Dims</a><br/>\n",
       "                Sweep page: <a href=\"https://wandb.ai/sazio/NMAs-Small-Hidden-Dims/sweeps/38qam6fd\" target=\"_blank\">https://wandb.ai/sazio/NMAs-Small-Hidden-Dims/sweeps/38qam6fd</a><br/>\n",
       "Run page: <a href=\"https://wandb.ai/sazio/NMAs-Small-Hidden-Dims/runs/x10w3afu\" target=\"_blank\">https://wandb.ai/sazio/NMAs-Small-Hidden-Dims/runs/x10w3afu</a><br/>\n",
       "                Run data is saved locally in <code>/home/sazeglio/NMAs/src/wandb/run-20210814_183306-x10w3afu</code><br/><br/>\n",
       "            "
      ],
      "text/plain": [
       "<IPython.core.display.HTML object>"
      ]
     },
     "metadata": {},
     "output_type": "display_data"
    },
    {
     "name": "stdout",
     "output_type": "stream",
     "text": [
      " iteration 0, train cost 3.6996, valid cost 3.7922\n",
      " iteration 50, train cost 2.0985, valid cost 2.1825\n",
      " iteration 100, train cost 2.0763, valid cost 2.1651\n",
      " iteration 150, train cost 2.0683, valid cost 2.1577\n",
      " iteration 200, train cost 1.9979, valid cost 2.0776\n",
      " iteration 250, train cost 1.9003, valid cost 1.9813\n",
      " iteration 300, train cost 1.8079, valid cost 1.8865\n",
      " iteration 350, train cost 1.7465, valid cost 1.8284\n",
      " iteration 400, train cost 1.6958, valid cost 1.7859\n",
      " iteration 450, train cost 1.6490, valid cost 1.7465\n",
      " iteration 500, train cost 1.6076, valid cost 1.7126\n",
      " iteration 550, train cost 1.5673, valid cost 1.6762\n",
      " iteration 600, train cost 1.5272, valid cost 1.6372\n",
      " iteration 650, train cost 1.4929, valid cost 1.6028\n",
      " iteration 700, train cost 1.4656, valid cost 1.5749\n",
      " iteration 750, train cost 1.4436, valid cost 1.5507\n",
      " iteration 800, train cost 1.4216, valid cost 1.5304\n",
      " iteration 850, train cost 1.4023, valid cost 1.5135\n",
      " iteration 900, train cost 1.3831, valid cost 1.4955\n",
      " iteration 950, train cost 1.3657, valid cost 1.4804\n",
      " iteration 1000, train cost 1.3473, valid cost 1.4650\n",
      " iteration 1050, train cost 1.3335, valid cost 1.4526\n",
      " iteration 1100, train cost 1.3175, valid cost 1.4385\n",
      " iteration 1150, train cost 1.3050, valid cost 1.4270\n",
      " iteration 1200, train cost 1.2930, valid cost 1.4175\n",
      " iteration 1250, train cost 1.2820, valid cost 1.4081\n",
      " iteration 1300, train cost 1.2711, valid cost 1.4011\n",
      " iteration 1350, train cost 1.2624, valid cost 1.3943\n",
      " iteration 1400, train cost 1.2539, valid cost 1.3874\n",
      " iteration 1450, train cost 1.2462, valid cost 1.3796\n",
      " iteration 1500, train cost 1.2367, valid cost 1.3734\n",
      " iteration 1550, train cost 1.2274, valid cost 1.3661\n",
      " iteration 1600, train cost 1.2196, valid cost 1.3592\n",
      " iteration 1650, train cost 1.2128, valid cost 1.3522\n",
      " iteration 1700, train cost 1.2053, valid cost 1.3455\n",
      " iteration 1750, train cost 1.1961, valid cost 1.3411\n",
      " iteration 1800, train cost 1.1907, valid cost 1.3342\n",
      " iteration 1850, train cost 1.1835, valid cost 1.3297\n",
      " iteration 1900, train cost 1.1748, valid cost 1.3219\n",
      " iteration 1950, train cost 1.1712, valid cost 1.3174\n",
      " iteration 2000, train cost 1.1642, valid cost 1.3129\n",
      " iteration 2050, train cost 1.1597, valid cost 1.3068\n",
      " iteration 2100, train cost 1.1546, valid cost 1.3036\n",
      " iteration 2150, train cost 1.1498, valid cost 1.2983\n",
      " iteration 2200, train cost 1.1452, valid cost 1.2943\n",
      " iteration 2250, train cost 1.1400, valid cost 1.2915\n",
      " iteration 2300, train cost 1.1340, valid cost 1.2864\n",
      " iteration 2350, train cost 1.1309, valid cost 1.2833\n",
      " iteration 2400, train cost 1.1266, valid cost 1.2796\n",
      " iteration 2450, train cost 1.1234, valid cost 1.2762\n",
      " iteration 2500, train cost 1.1165, valid cost 1.2717\n",
      " iteration 2550, train cost 1.1137, valid cost 1.2686\n",
      " iteration 2600, train cost 1.1117, valid cost 1.2657\n",
      " iteration 2650, train cost 1.1084, valid cost 1.2617\n",
      " iteration 2700, train cost 1.1021, valid cost 1.2585\n",
      " iteration 2750, train cost 1.1005, valid cost 1.2552\n",
      " iteration 2800, train cost 1.0978, valid cost 1.2529\n",
      " iteration 2850, train cost 1.0940, valid cost 1.2494\n",
      " iteration 2900, train cost 1.0905, valid cost 1.2459\n",
      " iteration 2950, train cost 1.0895, valid cost 1.2459\n",
      " iteration 3000, train cost 1.0889, valid cost 1.2426\n",
      " iteration 3050, train cost 1.0847, valid cost 1.2388\n",
      " iteration 3100, train cost 1.0810, valid cost 1.2368\n",
      " iteration 3150, train cost 1.0788, valid cost 1.2332\n",
      " iteration 3200, train cost 1.0755, valid cost 1.2320\n",
      " iteration 3250, train cost 1.0715, valid cost 1.2293\n",
      " iteration 3300, train cost 1.0746, valid cost 1.2294\n",
      " iteration 3350, train cost 1.0676, valid cost 1.2232\n",
      " iteration 3400, train cost 1.0648, valid cost 1.2202\n",
      " iteration 3450, train cost 1.0644, valid cost 1.2185\n",
      " iteration 3500, train cost 1.0601, valid cost 1.2135\n",
      " iteration 3550, train cost 1.0572, valid cost 1.2119\n",
      " iteration 3600, train cost 1.0559, valid cost 1.2097\n",
      " iteration 3650, train cost 1.0544, valid cost 1.2082\n",
      " iteration 3700, train cost 1.0538, valid cost 1.2050\n",
      " iteration 3750, train cost 1.0498, valid cost 1.2023\n",
      " iteration 3800, train cost 1.0498, valid cost 1.1998\n",
      " iteration 3850, train cost 1.0480, valid cost 1.1981\n",
      " iteration 3900, train cost 1.0450, valid cost 1.1962\n",
      " iteration 3950, train cost 1.0441, valid cost 1.1948\n"
     ]
    },
    {
     "data": {
      "text/html": [
       "<br/>Waiting for W&B process to finish, PID 183357<br/>Program ended successfully."
      ],
      "text/plain": [
       "<IPython.core.display.HTML object>"
      ]
     },
     "metadata": {},
     "output_type": "display_data"
    },
    {
     "name": "stderr",
     "output_type": "stream",
     "text": [
      "Widget Javascript not detected.  It may not be installed or enabled properly.\n"
     ]
    },
    {
     "data": {
      "application/vnd.jupyter.widget-view+json": {
       "model_id": "cdd4c7c9b850435dbfd3ddb29d005923"
      }
     },
     "metadata": {},
     "output_type": "display_data"
    },
    {
     "data": {
      "text/html": [
       "Find user logs for this run at: <code>/home/sazeglio/NMAs/src/wandb/run-20210814_183306-x10w3afu/logs/debug.log</code>"
      ],
      "text/plain": [
       "<IPython.core.display.HTML object>"
      ]
     },
     "metadata": {},
     "output_type": "display_data"
    },
    {
     "data": {
      "text/html": [
       "Find internal logs for this run at: <code>/home/sazeglio/NMAs/src/wandb/run-20210814_183306-x10w3afu/logs/debug-internal.log</code>"
      ],
      "text/plain": [
       "<IPython.core.display.HTML object>"
      ]
     },
     "metadata": {},
     "output_type": "display_data"
    },
    {
     "data": {
      "text/html": [
       "<h3>Run summary:</h3><br/><style>\n",
       "    table.wandb td:nth-child(1) { padding: 0 10px; text-align: right }\n",
       "    </style><table class=\"wandb\">\n",
       "<tr><td>train_loss</td><td>1.04202</td></tr><tr><td>valid_loss</td><td>1.19165</td></tr><tr><td>epoch</td><td>3999</td></tr><tr><td>_runtime</td><td>278</td></tr><tr><td>_timestamp</td><td>1628959064</td></tr><tr><td>_step</td><td>3999</td></tr></table>"
      ],
      "text/plain": [
       "<IPython.core.display.HTML object>"
      ]
     },
     "metadata": {},
     "output_type": "display_data"
    },
    {
     "data": {
      "text/html": [
       "<h3>Run history:</h3><br/><style>\n",
       "    table.wandb td:nth-child(1) { padding: 0 10px; text-align: right }\n",
       "    </style><table class=\"wandb\">\n",
       "<tr><td>train_loss</td><td>█▇▆▆▅▄▄▃▃▃▃▃▂▂▂▂▂▂▂▂▂▂▂▂▁▁▁▁▁▁▁▁▁▁▁▁▁▁▁▁</td></tr><tr><td>valid_loss</td><td>█▇▆▅▅▄▄▃▃▃▃▃▂▂▂▂▂▂▂▂▂▂▂▂▂▁▁▁▁▁▁▁▁▁▁▁▁▁▁▁</td></tr><tr><td>epoch</td><td>▁▁▁▂▂▂▂▂▂▃▃▃▃▃▄▄▄▄▄▄▅▅▅▅▅▅▆▆▆▆▆▇▇▇▇▇▇███</td></tr><tr><td>_runtime</td><td>▁▁▁▂▂▂▂▂▂▃▃▃▃▃▄▄▄▄▄▄▅▅▅▅▅▅▆▆▆▆▆▇▇▇▇▇▇███</td></tr><tr><td>_timestamp</td><td>▁▁▁▂▂▂▂▂▂▃▃▃▃▃▄▄▄▄▄▄▅▅▅▅▅▅▆▆▆▆▆▇▇▇▇▇▇███</td></tr><tr><td>_step</td><td>▁▁▁▂▂▂▂▂▂▃▃▃▃▃▄▄▄▄▄▄▅▅▅▅▅▅▆▆▆▆▆▇▇▇▇▇▇███</td></tr></table><br/>"
      ],
      "text/plain": [
       "<IPython.core.display.HTML object>"
      ]
     },
     "metadata": {},
     "output_type": "display_data"
    },
    {
     "data": {
      "text/html": [
       "Synced 5 W&B file(s), 0 media file(s), 0 artifact file(s) and 0 other file(s)"
      ],
      "text/plain": [
       "<IPython.core.display.HTML object>"
      ]
     },
     "metadata": {},
     "output_type": "display_data"
    },
    {
     "data": {
      "text/html": [
       "\n",
       "                    <br/>Synced <strong style=\"color:#cdcd00\">skilled-sweep-21</strong>: <a href=\"https://wandb.ai/sazio/NMAs-Small-Hidden-Dims/runs/x10w3afu\" target=\"_blank\">https://wandb.ai/sazio/NMAs-Small-Hidden-Dims/runs/x10w3afu</a><br/>\n",
       "                "
      ],
      "text/plain": [
       "<IPython.core.display.HTML object>"
      ]
     },
     "metadata": {},
     "output_type": "display_data"
    },
    {
     "name": "stderr",
     "output_type": "stream",
     "text": [
      "wandb: Agent Starting Run: 35d428qk with config:\n",
      "wandb: \tdropout: 0.1\n",
      "wandb: \tepochs: 4000\n",
      "wandb: \tlearning_rate: 0.002085808251397961\n",
      "wandb: \tn_comp: 100\n",
      "wandb: \tnum_layers: 1\n",
      "wandb: \toptimizer: adam\n",
      "wandb: \tweight_decay: 1e-06\n",
      "Failed to detect the name of this notebook, you can set it manually with the WANDB_NOTEBOOK_NAME environment variable to enable code saving.\n"
     ]
    },
    {
     "data": {
      "text/html": [
       "\n",
       "                Tracking run with wandb version 0.12.0<br/>\n",
       "                Syncing run <strong style=\"color:#cdcd00\">brisk-sweep-22</strong> to <a href=\"https://wandb.ai\" target=\"_blank\">Weights & Biases</a> <a href=\"https://docs.wandb.com/integrations/jupyter.html\" target=\"_blank\">(Documentation)</a>.<br/>\n",
       "                Project page: <a href=\"https://wandb.ai/sazio/NMAs-Small-Hidden-Dims\" target=\"_blank\">https://wandb.ai/sazio/NMAs-Small-Hidden-Dims</a><br/>\n",
       "                Sweep page: <a href=\"https://wandb.ai/sazio/NMAs-Small-Hidden-Dims/sweeps/38qam6fd\" target=\"_blank\">https://wandb.ai/sazio/NMAs-Small-Hidden-Dims/sweeps/38qam6fd</a><br/>\n",
       "Run page: <a href=\"https://wandb.ai/sazio/NMAs-Small-Hidden-Dims/runs/35d428qk\" target=\"_blank\">https://wandb.ai/sazio/NMAs-Small-Hidden-Dims/runs/35d428qk</a><br/>\n",
       "                Run data is saved locally in <code>/home/sazeglio/NMAs/src/wandb/run-20210814_183749-35d428qk</code><br/><br/>\n",
       "            "
      ],
      "text/plain": [
       "<IPython.core.display.HTML object>"
      ]
     },
     "metadata": {},
     "output_type": "display_data"
    },
    {
     "name": "stdout",
     "output_type": "stream",
     "text": [
      " iteration 0, train cost 3.7059, valid cost 3.7805\n",
      " iteration 50, train cost 2.0793, valid cost 2.1698\n",
      " iteration 100, train cost 2.0716, valid cost 2.1652\n",
      " iteration 150, train cost 2.0412, valid cost 2.1203\n",
      " iteration 200, train cost 1.9899, valid cost 2.0691\n",
      " iteration 250, train cost 1.9116, valid cost 1.9977\n",
      " iteration 300, train cost 1.8645, valid cost 1.9503\n",
      " iteration 350, train cost 1.8578, valid cost 1.9199\n",
      " iteration 400, train cost 1.7849, valid cost 1.8798\n",
      " iteration 450, train cost 1.7505, valid cost 1.8547\n",
      " iteration 500, train cost 1.7431, valid cost 1.8549\n",
      " iteration 550, train cost 1.6927, valid cost 1.8155\n",
      " iteration 600, train cost 1.6621, valid cost 1.7958\n",
      " iteration 650, train cost 1.6337, valid cost 1.7770\n",
      " iteration 700, train cost 1.6238, valid cost 1.7801\n",
      " iteration 750, train cost 1.5715, valid cost 1.7519\n",
      " iteration 800, train cost 1.5414, valid cost 1.7222\n",
      " iteration 850, train cost 1.5146, valid cost 1.7064\n",
      " iteration 900, train cost 1.5415, valid cost 1.7234\n",
      " iteration 950, train cost 1.4731, valid cost 1.6862\n",
      " iteration 1000, train cost 1.4492, valid cost 1.6764\n",
      " iteration 1050, train cost 1.4305, valid cost 1.6667\n",
      " iteration 1100, train cost 1.5444, valid cost 1.6945\n",
      " iteration 1150, train cost 1.5999, valid cost 1.8175\n",
      " iteration 1200, train cost 1.4066, valid cost 1.6420\n",
      " iteration 1250, train cost 1.3884, valid cost 1.6380\n",
      " iteration 1300, train cost 1.3789, valid cost 1.6315\n",
      " iteration 1350, train cost 1.3570, valid cost 1.6251\n",
      " iteration 1400, train cost 1.3739, valid cost 1.6409\n",
      " iteration 1450, train cost 1.3352, valid cost 1.6155\n",
      " iteration 1500, train cost 1.3225, valid cost 1.6114\n",
      " iteration 1550, train cost 1.4694, valid cost 1.6680\n",
      " iteration 1600, train cost 1.3070, valid cost 1.6005\n",
      " iteration 1650, train cost 1.3188, valid cost 1.6039\n",
      " iteration 1700, train cost 1.2908, valid cost 1.5932\n",
      " iteration 1750, train cost 1.2916, valid cost 1.5921\n",
      " iteration 1800, train cost 1.2782, valid cost 1.5902\n",
      " iteration 1850, train cost 1.2690, valid cost 1.5857\n",
      " iteration 1900, train cost 1.2612, valid cost 1.5844\n",
      " iteration 1950, train cost 1.2833, valid cost 1.5818\n",
      " iteration 2000, train cost 1.2522, valid cost 1.5771\n",
      " iteration 2050, train cost 1.2638, valid cost 1.6607\n",
      " iteration 2100, train cost 1.2464, valid cost 1.5724\n",
      " iteration 2150, train cost 1.2369, valid cost 1.5723\n",
      " iteration 2200, train cost 1.2672, valid cost 1.5985\n",
      " iteration 2250, train cost 1.2266, valid cost 1.5667\n",
      " iteration 2300, train cost 1.2208, valid cost 1.5662\n",
      " iteration 2350, train cost 1.2144, valid cost 1.5642\n",
      " iteration 2400, train cost 1.4081, valid cost 1.6084\n",
      " iteration 2450, train cost 1.2102, valid cost 1.5555\n",
      " iteration 2500, train cost 1.2041, valid cost 1.5576\n",
      " iteration 2550, train cost 1.1978, valid cost 1.5570\n",
      " iteration 2600, train cost 1.1928, valid cost 1.5553\n",
      " iteration 2650, train cost 1.1876, valid cost 1.6210\n",
      " iteration 2700, train cost 1.2220, valid cost 1.5517\n",
      " iteration 2750, train cost 1.2127, valid cost 1.5523\n",
      " iteration 2800, train cost 1.1857, valid cost 1.5479\n",
      " iteration 2850, train cost 1.1797, valid cost 1.5484\n",
      " iteration 2900, train cost 1.1749, valid cost 1.5487\n",
      " iteration 2950, train cost 1.1820, valid cost 1.5437\n",
      " iteration 3000, train cost 1.1699, valid cost 1.5430\n",
      " iteration 3050, train cost 1.1672, valid cost 1.5419\n",
      " iteration 3100, train cost 1.1620, valid cost 1.5416\n",
      " iteration 3150, train cost 1.3193, valid cost 1.6495\n",
      " iteration 3200, train cost 1.1725, valid cost 1.5333\n",
      " iteration 3250, train cost 1.1632, valid cost 1.5300\n",
      " iteration 3300, train cost 1.1736, valid cost 1.5285\n",
      " iteration 3350, train cost 1.1529, valid cost 1.5282\n",
      " iteration 3400, train cost 1.1694, valid cost 1.5323\n",
      " iteration 3450, train cost 1.1483, valid cost 1.5256\n",
      " iteration 3500, train cost 1.1419, valid cost 1.5265\n",
      " iteration 3550, train cost 1.1376, valid cost 1.5252\n",
      " iteration 3600, train cost 1.1370, valid cost 1.5245\n",
      " iteration 3650, train cost 1.1303, valid cost 1.5250\n",
      " iteration 3700, train cost 1.1278, valid cost 1.5251\n",
      " iteration 3750, train cost 1.1262, valid cost 1.5237\n",
      " iteration 3800, train cost 1.1218, valid cost 1.5221\n",
      " iteration 3850, train cost 1.1188, valid cost 1.5190\n",
      " iteration 3900, train cost 1.1145, valid cost 1.5173\n",
      " iteration 3950, train cost 1.1117, valid cost 1.5151\n"
     ]
    },
    {
     "data": {
      "text/html": [
       "<br/>Waiting for W&B process to finish, PID 183464<br/>Program ended successfully."
      ],
      "text/plain": [
       "<IPython.core.display.HTML object>"
      ]
     },
     "metadata": {},
     "output_type": "display_data"
    },
    {
     "name": "stderr",
     "output_type": "stream",
     "text": [
      "Widget Javascript not detected.  It may not be installed or enabled properly.\n"
     ]
    },
    {
     "data": {
      "application/vnd.jupyter.widget-view+json": {
       "model_id": "b523b9df75864aa2ad1aeccda0e1998a"
      }
     },
     "metadata": {},
     "output_type": "display_data"
    },
    {
     "data": {
      "text/html": [
       "Find user logs for this run at: <code>/home/sazeglio/NMAs/src/wandb/run-20210814_183749-35d428qk/logs/debug.log</code>"
      ],
      "text/plain": [
       "<IPython.core.display.HTML object>"
      ]
     },
     "metadata": {},
     "output_type": "display_data"
    },
    {
     "data": {
      "text/html": [
       "Find internal logs for this run at: <code>/home/sazeglio/NMAs/src/wandb/run-20210814_183749-35d428qk/logs/debug-internal.log</code>"
      ],
      "text/plain": [
       "<IPython.core.display.HTML object>"
      ]
     },
     "metadata": {},
     "output_type": "display_data"
    },
    {
     "data": {
      "text/html": [
       "<h3>Run summary:</h3><br/><style>\n",
       "    table.wandb td:nth-child(1) { padding: 0 10px; text-align: right }\n",
       "    </style><table class=\"wandb\">\n",
       "<tr><td>train_loss</td><td>1.10955</td></tr><tr><td>valid_loss</td><td>1.51393</td></tr><tr><td>epoch</td><td>3999</td></tr><tr><td>_runtime</td><td>283</td></tr><tr><td>_timestamp</td><td>1628959352</td></tr><tr><td>_step</td><td>3999</td></tr></table>"
      ],
      "text/plain": [
       "<IPython.core.display.HTML object>"
      ]
     },
     "metadata": {},
     "output_type": "display_data"
    },
    {
     "data": {
      "text/html": [
       "<h3>Run history:</h3><br/><style>\n",
       "    table.wandb td:nth-child(1) { padding: 0 10px; text-align: right }\n",
       "    </style><table class=\"wandb\">\n",
       "<tr><td>train_loss</td><td>██▇▆▆▅▅▄▄▄▃▃▃▃▃▂▂▂▂▂▂▂▂▂▂▂▂▂▁▁▁▂▂▁▁▁▁▁▁▁</td></tr><tr><td>valid_loss</td><td>██▆▅▅▄▄▃▃▃▃▂▂▂▂▂▂▂▂▂▂▂▂▁▁▁▂▁▁▁▁▁▁▁▁▁▁▁▁▁</td></tr><tr><td>epoch</td><td>▁▁▁▂▂▂▂▂▂▃▃▃▃▃▄▄▄▄▄▄▅▅▅▅▅▅▆▆▆▆▆▇▇▇▇▇▇███</td></tr><tr><td>_runtime</td><td>▁▁▁▂▂▂▂▂▂▃▃▃▃▃▄▄▄▄▄▄▅▅▅▅▅▅▆▆▆▆▆▇▇▇▇▇▇███</td></tr><tr><td>_timestamp</td><td>▁▁▁▂▂▂▂▂▂▃▃▃▃▃▄▄▄▄▄▄▅▅▅▅▅▅▆▆▆▆▆▇▇▇▇▇▇███</td></tr><tr><td>_step</td><td>▁▁▁▂▂▂▂▂▂▃▃▃▃▃▄▄▄▄▄▄▅▅▅▅▅▅▆▆▆▆▆▇▇▇▇▇▇███</td></tr></table><br/>"
      ],
      "text/plain": [
       "<IPython.core.display.HTML object>"
      ]
     },
     "metadata": {},
     "output_type": "display_data"
    },
    {
     "data": {
      "text/html": [
       "Synced 5 W&B file(s), 0 media file(s), 0 artifact file(s) and 0 other file(s)"
      ],
      "text/plain": [
       "<IPython.core.display.HTML object>"
      ]
     },
     "metadata": {},
     "output_type": "display_data"
    },
    {
     "data": {
      "text/html": [
       "\n",
       "                    <br/>Synced <strong style=\"color:#cdcd00\">brisk-sweep-22</strong>: <a href=\"https://wandb.ai/sazio/NMAs-Small-Hidden-Dims/runs/35d428qk\" target=\"_blank\">https://wandb.ai/sazio/NMAs-Small-Hidden-Dims/runs/35d428qk</a><br/>\n",
       "                "
      ],
      "text/plain": [
       "<IPython.core.display.HTML object>"
      ]
     },
     "metadata": {},
     "output_type": "display_data"
    },
    {
     "name": "stderr",
     "output_type": "stream",
     "text": [
      "wandb: Agent Starting Run: g7sjkikz with config:\n",
      "wandb: \tdropout: 0.1\n",
      "wandb: \tepochs: 4000\n",
      "wandb: \tlearning_rate: 0.0005954641639341583\n",
      "wandb: \tn_comp: 150\n",
      "wandb: \tnum_layers: 1\n",
      "wandb: \toptimizer: adam\n",
      "wandb: \tweight_decay: 0\n",
      "Failed to detect the name of this notebook, you can set it manually with the WANDB_NOTEBOOK_NAME environment variable to enable code saving.\n"
     ]
    },
    {
     "data": {
      "text/html": [
       "\n",
       "                Tracking run with wandb version 0.12.0<br/>\n",
       "                Syncing run <strong style=\"color:#cdcd00\">honest-sweep-23</strong> to <a href=\"https://wandb.ai\" target=\"_blank\">Weights & Biases</a> <a href=\"https://docs.wandb.com/integrations/jupyter.html\" target=\"_blank\">(Documentation)</a>.<br/>\n",
       "                Project page: <a href=\"https://wandb.ai/sazio/NMAs-Small-Hidden-Dims\" target=\"_blank\">https://wandb.ai/sazio/NMAs-Small-Hidden-Dims</a><br/>\n",
       "                Sweep page: <a href=\"https://wandb.ai/sazio/NMAs-Small-Hidden-Dims/sweeps/38qam6fd\" target=\"_blank\">https://wandb.ai/sazio/NMAs-Small-Hidden-Dims/sweeps/38qam6fd</a><br/>\n",
       "Run page: <a href=\"https://wandb.ai/sazio/NMAs-Small-Hidden-Dims/runs/g7sjkikz\" target=\"_blank\">https://wandb.ai/sazio/NMAs-Small-Hidden-Dims/runs/g7sjkikz</a><br/>\n",
       "                Run data is saved locally in <code>/home/sazeglio/NMAs/src/wandb/run-20210814_184236-g7sjkikz</code><br/><br/>\n",
       "            "
      ],
      "text/plain": [
       "<IPython.core.display.HTML object>"
      ]
     },
     "metadata": {},
     "output_type": "display_data"
    },
    {
     "name": "stdout",
     "output_type": "stream",
     "text": [
      " iteration 0, train cost 3.7066, valid cost 3.7987\n",
      " iteration 50, train cost 2.1047, valid cost 2.1863\n",
      " iteration 100, train cost 2.0807, valid cost 2.1675\n",
      " iteration 150, train cost 2.0746, valid cost 2.1640\n",
      " iteration 200, train cost 2.0622, valid cost 2.1516\n",
      " iteration 250, train cost 1.9868, valid cost 2.0649\n",
      " iteration 300, train cost 1.9222, valid cost 2.0033\n",
      " iteration 350, train cost 1.8850, valid cost 1.9663\n",
      " iteration 400, train cost 1.8214, valid cost 1.9094\n",
      " iteration 450, train cost 1.7918, valid cost 1.8874\n",
      " iteration 500, train cost 1.7676, valid cost 1.8711\n",
      " iteration 550, train cost 1.7411, valid cost 1.8548\n",
      " iteration 600, train cost 1.7115, valid cost 1.8329\n",
      " iteration 650, train cost 1.6808, valid cost 1.8085\n",
      " iteration 700, train cost 1.6510, valid cost 1.7857\n",
      " iteration 750, train cost 1.6263, valid cost 1.7677\n",
      " iteration 800, train cost 1.6043, valid cost 1.7510\n",
      " iteration 850, train cost 1.5825, valid cost 1.7358\n",
      " iteration 900, train cost 1.5633, valid cost 1.7224\n",
      " iteration 950, train cost 1.5473, valid cost 1.7128\n",
      " iteration 1000, train cost 1.5322, valid cost 1.7042\n",
      " iteration 1050, train cost 1.5164, valid cost 1.6940\n",
      " iteration 1100, train cost 1.5009, valid cost 1.6855\n",
      " iteration 1150, train cost 1.4877, valid cost 1.6750\n",
      " iteration 1200, train cost 1.4729, valid cost 1.6649\n",
      " iteration 1250, train cost 1.4588, valid cost 1.6541\n",
      " iteration 1300, train cost 1.4428, valid cost 1.6422\n",
      " iteration 1350, train cost 1.4319, valid cost 1.6335\n",
      " iteration 1400, train cost 1.4165, valid cost 1.6220\n",
      " iteration 1450, train cost 1.4041, valid cost 1.6125\n",
      " iteration 1500, train cost 1.3916, valid cost 1.6031\n",
      " iteration 1550, train cost 1.3783, valid cost 1.5943\n",
      " iteration 1600, train cost 1.3661, valid cost 1.5847\n",
      " iteration 1650, train cost 1.3543, valid cost 1.5769\n",
      " iteration 1700, train cost 1.3421, valid cost 1.5680\n",
      " iteration 1750, train cost 1.3305, valid cost 1.5605\n",
      " iteration 1800, train cost 1.3207, valid cost 1.5529\n",
      " iteration 1850, train cost 1.3097, valid cost 1.5442\n",
      " iteration 1900, train cost 1.2992, valid cost 1.5382\n",
      " iteration 1950, train cost 1.2893, valid cost 1.5294\n",
      " iteration 2000, train cost 1.2793, valid cost 1.5232\n",
      " iteration 2050, train cost 1.2693, valid cost 1.5151\n",
      " iteration 2100, train cost 1.2611, valid cost 1.5080\n",
      " iteration 2150, train cost 1.2523, valid cost 1.5011\n",
      " iteration 2200, train cost 1.2455, valid cost 1.4965\n",
      " iteration 2250, train cost 1.2349, valid cost 1.4895\n",
      " iteration 2300, train cost 1.2274, valid cost 1.4834\n",
      " iteration 2350, train cost 1.2202, valid cost 1.4794\n",
      " iteration 2400, train cost 1.2120, valid cost 1.4715\n",
      " iteration 2450, train cost 1.2039, valid cost 1.4687\n",
      " iteration 2500, train cost 1.1967, valid cost 1.4615\n",
      " iteration 2550, train cost 1.1889, valid cost 1.4566\n",
      " iteration 2600, train cost 1.1810, valid cost 1.4509\n",
      " iteration 2650, train cost 1.1729, valid cost 1.4472\n",
      " iteration 2700, train cost 1.1666, valid cost 1.4415\n",
      " iteration 2750, train cost 1.1598, valid cost 1.4362\n",
      " iteration 2800, train cost 1.1518, valid cost 1.4317\n",
      " iteration 2850, train cost 1.1457, valid cost 1.4279\n",
      " iteration 2900, train cost 1.1406, valid cost 1.4246\n",
      " iteration 2950, train cost 1.1324, valid cost 1.4191\n",
      " iteration 3000, train cost 1.1287, valid cost 1.4184\n",
      " iteration 3050, train cost 1.1215, valid cost 1.4132\n",
      " iteration 3100, train cost 1.1177, valid cost 1.4101\n",
      " iteration 3150, train cost 1.1109, valid cost 1.4051\n",
      " iteration 3200, train cost 1.1081, valid cost 1.4036\n",
      " iteration 3250, train cost 1.1025, valid cost 1.3983\n",
      " iteration 3300, train cost 1.0967, valid cost 1.3953\n",
      " iteration 3350, train cost 1.0935, valid cost 1.3920\n",
      " iteration 3400, train cost 1.0913, valid cost 1.3906\n",
      " iteration 3450, train cost 1.0860, valid cost 1.3871\n",
      " iteration 3500, train cost 1.0813, valid cost 1.3846\n",
      " iteration 3550, train cost 1.0769, valid cost 1.3801\n",
      " iteration 3600, train cost 1.0743, valid cost 1.3785\n",
      " iteration 3650, train cost 1.0687, valid cost 1.3772\n",
      " iteration 3700, train cost 1.0674, valid cost 1.3739\n",
      " iteration 3750, train cost 1.0618, valid cost 1.3709\n",
      " iteration 3800, train cost 1.0586, valid cost 1.3699\n",
      " iteration 3850, train cost 1.0565, valid cost 1.3668\n",
      " iteration 3900, train cost 1.0532, valid cost 1.3629\n",
      " iteration 3950, train cost 1.0502, valid cost 1.3617\n"
     ]
    },
    {
     "data": {
      "text/html": [
       "<br/>Waiting for W&B process to finish, PID 183614<br/>Program ended successfully."
      ],
      "text/plain": [
       "<IPython.core.display.HTML object>"
      ]
     },
     "metadata": {},
     "output_type": "display_data"
    },
    {
     "name": "stderr",
     "output_type": "stream",
     "text": [
      "Widget Javascript not detected.  It may not be installed or enabled properly.\n"
     ]
    },
    {
     "data": {
      "application/vnd.jupyter.widget-view+json": {
       "model_id": "6c6ef4b1221b48f887cd4b1e21ec0ca0"
      }
     },
     "metadata": {},
     "output_type": "display_data"
    },
    {
     "data": {
      "text/html": [
       "Find user logs for this run at: <code>/home/sazeglio/NMAs/src/wandb/run-20210814_184236-g7sjkikz/logs/debug.log</code>"
      ],
      "text/plain": [
       "<IPython.core.display.HTML object>"
      ]
     },
     "metadata": {},
     "output_type": "display_data"
    },
    {
     "data": {
      "text/html": [
       "Find internal logs for this run at: <code>/home/sazeglio/NMAs/src/wandb/run-20210814_184236-g7sjkikz/logs/debug-internal.log</code>"
      ],
      "text/plain": [
       "<IPython.core.display.HTML object>"
      ]
     },
     "metadata": {},
     "output_type": "display_data"
    },
    {
     "data": {
      "text/html": [
       "<h3>Run summary:</h3><br/><style>\n",
       "    table.wandb td:nth-child(1) { padding: 0 10px; text-align: right }\n",
       "    </style><table class=\"wandb\">\n",
       "<tr><td>train_loss</td><td>1.0478</td></tr><tr><td>valid_loss</td><td>1.36131</td></tr><tr><td>epoch</td><td>3999</td></tr><tr><td>_runtime</td><td>281</td></tr><tr><td>_timestamp</td><td>1628959637</td></tr><tr><td>_step</td><td>3999</td></tr></table>"
      ],
      "text/plain": [
       "<IPython.core.display.HTML object>"
      ]
     },
     "metadata": {},
     "output_type": "display_data"
    },
    {
     "data": {
      "text/html": [
       "<h3>Run history:</h3><br/><style>\n",
       "    table.wandb td:nth-child(1) { padding: 0 10px; text-align: right }\n",
       "    </style><table class=\"wandb\">\n",
       "<tr><td>train_loss</td><td>█▇▇▆▆▅▅▄▄▄▄▄▃▃▃▃▃▃▃▂▂▂▂▂▂▂▂▂▂▁▁▁▁▁▁▁▁▁▁▁</td></tr><tr><td>valid_loss</td><td>█▇▇▆▅▅▄▄▄▄▄▃▃▃▃▃▃▃▂▂▂▂▂▂▂▂▂▂▁▁▁▁▁▁▁▁▁▁▁▁</td></tr><tr><td>epoch</td><td>▁▁▁▂▂▂▂▂▂▃▃▃▃▃▄▄▄▄▄▄▅▅▅▅▅▅▆▆▆▆▆▇▇▇▇▇▇███</td></tr><tr><td>_runtime</td><td>▁▁▁▂▂▂▂▂▂▃▃▃▃▃▄▄▄▄▄▄▅▅▅▅▅▆▆▆▆▆▆▇▇▇▇▇▇███</td></tr><tr><td>_timestamp</td><td>▁▁▁▂▂▂▂▂▂▃▃▃▃▃▄▄▄▄▄▄▅▅▅▅▅▆▆▆▆▆▆▇▇▇▇▇▇███</td></tr><tr><td>_step</td><td>▁▁▁▂▂▂▂▂▂▃▃▃▃▃▄▄▄▄▄▄▅▅▅▅▅▅▆▆▆▆▆▇▇▇▇▇▇███</td></tr></table><br/>"
      ],
      "text/plain": [
       "<IPython.core.display.HTML object>"
      ]
     },
     "metadata": {},
     "output_type": "display_data"
    },
    {
     "data": {
      "text/html": [
       "Synced 5 W&B file(s), 0 media file(s), 0 artifact file(s) and 0 other file(s)"
      ],
      "text/plain": [
       "<IPython.core.display.HTML object>"
      ]
     },
     "metadata": {},
     "output_type": "display_data"
    },
    {
     "data": {
      "text/html": [
       "\n",
       "                    <br/>Synced <strong style=\"color:#cdcd00\">honest-sweep-23</strong>: <a href=\"https://wandb.ai/sazio/NMAs-Small-Hidden-Dims/runs/g7sjkikz\" target=\"_blank\">https://wandb.ai/sazio/NMAs-Small-Hidden-Dims/runs/g7sjkikz</a><br/>\n",
       "                "
      ],
      "text/plain": [
       "<IPython.core.display.HTML object>"
      ]
     },
     "metadata": {},
     "output_type": "display_data"
    },
    {
     "name": "stderr",
     "output_type": "stream",
     "text": [
      "wandb: Agent Starting Run: q8x77h4o with config:\n",
      "wandb: \tdropout: 0.2\n",
      "wandb: \tepochs: 4000\n",
      "wandb: \tlearning_rate: 0.0005184706800292988\n",
      "wandb: \tn_comp: 100\n",
      "wandb: \tnum_layers: 1\n",
      "wandb: \toptimizer: adam\n",
      "wandb: \tweight_decay: 0\n",
      "Failed to detect the name of this notebook, you can set it manually with the WANDB_NOTEBOOK_NAME environment variable to enable code saving.\n"
     ]
    },
    {
     "data": {
      "text/html": [
       "\n",
       "                Tracking run with wandb version 0.12.0<br/>\n",
       "                Syncing run <strong style=\"color:#cdcd00\">helpful-sweep-24</strong> to <a href=\"https://wandb.ai\" target=\"_blank\">Weights & Biases</a> <a href=\"https://docs.wandb.com/integrations/jupyter.html\" target=\"_blank\">(Documentation)</a>.<br/>\n",
       "                Project page: <a href=\"https://wandb.ai/sazio/NMAs-Small-Hidden-Dims\" target=\"_blank\">https://wandb.ai/sazio/NMAs-Small-Hidden-Dims</a><br/>\n",
       "                Sweep page: <a href=\"https://wandb.ai/sazio/NMAs-Small-Hidden-Dims/sweeps/38qam6fd\" target=\"_blank\">https://wandb.ai/sazio/NMAs-Small-Hidden-Dims/sweeps/38qam6fd</a><br/>\n",
       "Run page: <a href=\"https://wandb.ai/sazio/NMAs-Small-Hidden-Dims/runs/q8x77h4o\" target=\"_blank\">https://wandb.ai/sazio/NMAs-Small-Hidden-Dims/runs/q8x77h4o</a><br/>\n",
       "                Run data is saved locally in <code>/home/sazeglio/NMAs/src/wandb/run-20210814_184721-q8x77h4o</code><br/><br/>\n",
       "            "
      ],
      "text/plain": [
       "<IPython.core.display.HTML object>"
      ]
     },
     "metadata": {},
     "output_type": "display_data"
    },
    {
     "name": "stdout",
     "output_type": "stream",
     "text": [
      " iteration 0, train cost 3.7069, valid cost 3.8015\n",
      " iteration 50, train cost 2.1169, valid cost 2.1955\n",
      " iteration 100, train cost 2.0805, valid cost 2.1673\n",
      " iteration 150, train cost 2.0756, valid cost 2.1646\n",
      " iteration 200, train cost 2.0700, valid cost 2.1594\n",
      " iteration 250, train cost 2.0357, valid cost 2.1184\n",
      " iteration 300, train cost 1.9612, valid cost 2.0478\n",
      " iteration 350, train cost 1.9205, valid cost 2.0100\n",
      " iteration 400, train cost 1.9045, valid cost 1.9914\n",
      " iteration 450, train cost 1.8759, valid cost 1.9572\n",
      " iteration 500, train cost 1.8262, valid cost 1.9057\n",
      " iteration 550, train cost 1.7927, valid cost 1.8782\n",
      " iteration 600, train cost 1.7687, valid cost 1.8619\n",
      " iteration 650, train cost 1.7427, valid cost 1.8431\n",
      " iteration 700, train cost 1.7124, valid cost 1.8210\n",
      " iteration 750, train cost 1.6853, valid cost 1.7982\n",
      " iteration 800, train cost 1.6629, valid cost 1.7784\n",
      " iteration 850, train cost 1.6415, valid cost 1.7591\n",
      " iteration 900, train cost 1.6197, valid cost 1.7399\n",
      " iteration 950, train cost 1.5967, valid cost 1.7225\n",
      " iteration 1000, train cost 1.5762, valid cost 1.7051\n",
      " iteration 1050, train cost 1.5542, valid cost 1.6895\n",
      " iteration 1100, train cost 1.5352, valid cost 1.6757\n",
      " iteration 1150, train cost 1.5166, valid cost 1.6618\n",
      " iteration 1200, train cost 1.5009, valid cost 1.6495\n",
      " iteration 1250, train cost 1.4879, valid cost 1.6361\n",
      " iteration 1300, train cost 1.4730, valid cost 1.6242\n",
      " iteration 1350, train cost 1.4595, valid cost 1.6117\n",
      " iteration 1400, train cost 1.4458, valid cost 1.6005\n",
      " iteration 1450, train cost 1.4301, valid cost 1.5885\n",
      " iteration 1500, train cost 1.4163, valid cost 1.5776\n",
      " iteration 1550, train cost 1.4022, valid cost 1.5665\n",
      " iteration 1600, train cost 1.3883, valid cost 1.5553\n",
      " iteration 1650, train cost 1.3757, valid cost 1.5451\n",
      " iteration 1700, train cost 1.3656, valid cost 1.5355\n",
      " iteration 1750, train cost 1.3503, valid cost 1.5256\n",
      " iteration 1800, train cost 1.3408, valid cost 1.5181\n",
      " iteration 1850, train cost 1.3299, valid cost 1.5089\n",
      " iteration 1900, train cost 1.3196, valid cost 1.5018\n",
      " iteration 1950, train cost 1.3089, valid cost 1.4930\n",
      " iteration 2000, train cost 1.2983, valid cost 1.4857\n",
      " iteration 2050, train cost 1.2890, valid cost 1.4789\n",
      " iteration 2100, train cost 1.2778, valid cost 1.4704\n",
      " iteration 2150, train cost 1.2688, valid cost 1.4629\n",
      " iteration 2200, train cost 1.2580, valid cost 1.4572\n",
      " iteration 2250, train cost 1.2504, valid cost 1.4498\n",
      " iteration 2300, train cost 1.2384, valid cost 1.4435\n",
      " iteration 2350, train cost 1.2303, valid cost 1.4374\n",
      " iteration 2400, train cost 1.2204, valid cost 1.4318\n",
      " iteration 2450, train cost 1.2099, valid cost 1.4268\n",
      " iteration 2500, train cost 1.2042, valid cost 1.4213\n",
      " iteration 2550, train cost 1.1943, valid cost 1.4154\n",
      " iteration 2600, train cost 1.1882, valid cost 1.4125\n",
      " iteration 2650, train cost 1.1800, valid cost 1.4081\n",
      " iteration 2700, train cost 1.1762, valid cost 1.4035\n",
      " iteration 2750, train cost 1.1673, valid cost 1.3998\n",
      " iteration 2800, train cost 1.1621, valid cost 1.3955\n",
      " iteration 2850, train cost 1.1565, valid cost 1.3928\n",
      " iteration 2900, train cost 1.1492, valid cost 1.3897\n",
      " iteration 2950, train cost 1.1423, valid cost 1.3847\n",
      " iteration 3000, train cost 1.1374, valid cost 1.3812\n",
      " iteration 3050, train cost 1.1331, valid cost 1.3785\n",
      " iteration 3100, train cost 1.1273, valid cost 1.3753\n",
      " iteration 3150, train cost 1.1213, valid cost 1.3707\n",
      " iteration 3200, train cost 1.1183, valid cost 1.3683\n",
      " iteration 3250, train cost 1.1130, valid cost 1.3656\n",
      " iteration 3300, train cost 1.1089, valid cost 1.3627\n",
      " iteration 3350, train cost 1.1024, valid cost 1.3599\n",
      " iteration 3400, train cost 1.0994, valid cost 1.3566\n",
      " iteration 3450, train cost 1.0936, valid cost 1.3557\n",
      " iteration 3500, train cost 1.0909, valid cost 1.3526\n",
      " iteration 3550, train cost 1.0875, valid cost 1.3499\n",
      " iteration 3600, train cost 1.0841, valid cost 1.3477\n",
      " iteration 3650, train cost 1.0816, valid cost 1.3441\n",
      " iteration 3700, train cost 1.0791, valid cost 1.3437\n",
      " iteration 3750, train cost 1.0727, valid cost 1.3397\n",
      " iteration 3800, train cost 1.0716, valid cost 1.3373\n",
      " iteration 3850, train cost 1.0667, valid cost 1.3362\n",
      " iteration 3900, train cost 1.0620, valid cost 1.3340\n",
      " iteration 3950, train cost 1.0621, valid cost 1.3324\n"
     ]
    },
    {
     "data": {
      "text/html": [
       "<br/>Waiting for W&B process to finish, PID 183714<br/>Program ended successfully."
      ],
      "text/plain": [
       "<IPython.core.display.HTML object>"
      ]
     },
     "metadata": {},
     "output_type": "display_data"
    },
    {
     "name": "stderr",
     "output_type": "stream",
     "text": [
      "Widget Javascript not detected.  It may not be installed or enabled properly.\n"
     ]
    },
    {
     "data": {
      "application/vnd.jupyter.widget-view+json": {
       "model_id": "cbbaa924bac14ba59bb01a1c2981ef49"
      }
     },
     "metadata": {},
     "output_type": "display_data"
    },
    {
     "data": {
      "text/html": [
       "Find user logs for this run at: <code>/home/sazeglio/NMAs/src/wandb/run-20210814_184721-q8x77h4o/logs/debug.log</code>"
      ],
      "text/plain": [
       "<IPython.core.display.HTML object>"
      ]
     },
     "metadata": {},
     "output_type": "display_data"
    },
    {
     "data": {
      "text/html": [
       "Find internal logs for this run at: <code>/home/sazeglio/NMAs/src/wandb/run-20210814_184721-q8x77h4o/logs/debug-internal.log</code>"
      ],
      "text/plain": [
       "<IPython.core.display.HTML object>"
      ]
     },
     "metadata": {},
     "output_type": "display_data"
    },
    {
     "data": {
      "text/html": [
       "<h3>Run summary:</h3><br/><style>\n",
       "    table.wandb td:nth-child(1) { padding: 0 10px; text-align: right }\n",
       "    </style><table class=\"wandb\">\n",
       "<tr><td>train_loss</td><td>1.05674</td></tr><tr><td>valid_loss</td><td>1.32984</td></tr><tr><td>epoch</td><td>3999</td></tr><tr><td>_runtime</td><td>280</td></tr><tr><td>_timestamp</td><td>1628959921</td></tr><tr><td>_step</td><td>3999</td></tr></table>"
      ],
      "text/plain": [
       "<IPython.core.display.HTML object>"
      ]
     },
     "metadata": {},
     "output_type": "display_data"
    },
    {
     "data": {
      "text/html": [
       "<h3>Run history:</h3><br/><style>\n",
       "    table.wandb td:nth-child(1) { padding: 0 10px; text-align: right }\n",
       "    </style><table class=\"wandb\">\n",
       "<tr><td>train_loss</td><td>█▇▇▆▆▅▅▅▄▄▄▄▃▃▃▃▃▃▃▂▂▂▂▂▂▂▂▂▂▁▁▁▁▁▁▁▁▁▁▁</td></tr><tr><td>valid_loss</td><td>█▇▇▆▅▅▅▄▄▄▄▃▃▃▃▃▂▂▂▂▂▂▂▂▂▂▂▁▁▁▁▁▁▁▁▁▁▁▁▁</td></tr><tr><td>epoch</td><td>▁▁▁▂▂▂▂▂▂▃▃▃▃▃▄▄▄▄▄▄▅▅▅▅▅▅▆▆▆▆▆▇▇▇▇▇▇███</td></tr><tr><td>_runtime</td><td>▁▁▁▂▂▂▂▂▂▃▃▃▃▃▃▄▄▄▄▄▅▅▅▅▅▆▆▆▆▆▆▇▇▇▇▇▇███</td></tr><tr><td>_timestamp</td><td>▁▁▁▂▂▂▂▂▂▃▃▃▃▃▃▄▄▄▄▄▅▅▅▅▅▆▆▆▆▆▆▇▇▇▇▇▇███</td></tr><tr><td>_step</td><td>▁▁▁▂▂▂▂▂▂▃▃▃▃▃▄▄▄▄▄▄▅▅▅▅▅▅▆▆▆▆▆▇▇▇▇▇▇███</td></tr></table><br/>"
      ],
      "text/plain": [
       "<IPython.core.display.HTML object>"
      ]
     },
     "metadata": {},
     "output_type": "display_data"
    },
    {
     "data": {
      "text/html": [
       "Synced 5 W&B file(s), 0 media file(s), 0 artifact file(s) and 0 other file(s)"
      ],
      "text/plain": [
       "<IPython.core.display.HTML object>"
      ]
     },
     "metadata": {},
     "output_type": "display_data"
    },
    {
     "data": {
      "text/html": [
       "\n",
       "                    <br/>Synced <strong style=\"color:#cdcd00\">helpful-sweep-24</strong>: <a href=\"https://wandb.ai/sazio/NMAs-Small-Hidden-Dims/runs/q8x77h4o\" target=\"_blank\">https://wandb.ai/sazio/NMAs-Small-Hidden-Dims/runs/q8x77h4o</a><br/>\n",
       "                "
      ],
      "text/plain": [
       "<IPython.core.display.HTML object>"
      ]
     },
     "metadata": {},
     "output_type": "display_data"
    },
    {
     "name": "stderr",
     "output_type": "stream",
     "text": [
      "wandb: Agent Starting Run: rxni5w8y with config:\n",
      "wandb: \tdropout: 0.5\n",
      "wandb: \tepochs: 4000\n",
      "wandb: \tlearning_rate: 5.814792288653232e-05\n",
      "wandb: \tn_comp: 100\n",
      "wandb: \tnum_layers: 1\n",
      "wandb: \toptimizer: adam\n",
      "wandb: \tweight_decay: 1e-06\n",
      "Failed to detect the name of this notebook, you can set it manually with the WANDB_NOTEBOOK_NAME environment variable to enable code saving.\n"
     ]
    },
    {
     "data": {
      "text/html": [
       "\n",
       "                Tracking run with wandb version 0.12.0<br/>\n",
       "                Syncing run <strong style=\"color:#cdcd00\">avid-sweep-25</strong> to <a href=\"https://wandb.ai\" target=\"_blank\">Weights & Biases</a> <a href=\"https://docs.wandb.com/integrations/jupyter.html\" target=\"_blank\">(Documentation)</a>.<br/>\n",
       "                Project page: <a href=\"https://wandb.ai/sazio/NMAs-Small-Hidden-Dims\" target=\"_blank\">https://wandb.ai/sazio/NMAs-Small-Hidden-Dims</a><br/>\n",
       "                Sweep page: <a href=\"https://wandb.ai/sazio/NMAs-Small-Hidden-Dims/sweeps/38qam6fd\" target=\"_blank\">https://wandb.ai/sazio/NMAs-Small-Hidden-Dims/sweeps/38qam6fd</a><br/>\n",
       "Run page: <a href=\"https://wandb.ai/sazio/NMAs-Small-Hidden-Dims/runs/rxni5w8y\" target=\"_blank\">https://wandb.ai/sazio/NMAs-Small-Hidden-Dims/runs/rxni5w8y</a><br/>\n",
       "                Run data is saved locally in <code>/home/sazeglio/NMAs/src/wandb/run-20210814_185206-rxni5w8y</code><br/><br/>\n",
       "            "
      ],
      "text/plain": [
       "<IPython.core.display.HTML object>"
      ]
     },
     "metadata": {},
     "output_type": "display_data"
    },
    {
     "name": "stdout",
     "output_type": "stream",
     "text": [
      " iteration 0, train cost 3.7085, valid cost 3.8093\n",
      " iteration 50, train cost 3.5576, valid cost 3.6511\n",
      " iteration 100, train cost 2.7803, valid cost 2.8485\n",
      " iteration 150, train cost 2.3396, valid cost 2.4110\n",
      " iteration 200, train cost 2.1822, valid cost 2.2543\n",
      " iteration 250, train cost 2.1273, valid cost 2.2005\n",
      " iteration 300, train cost 2.1064, valid cost 2.1809\n",
      " iteration 350, train cost 2.0964, valid cost 2.1730\n",
      " iteration 400, train cost 2.0913, valid cost 2.1696\n",
      " iteration 450, train cost 2.0879, valid cost 2.1678\n",
      " iteration 500, train cost 2.0852, valid cost 2.1667\n",
      " iteration 550, train cost 2.0834, valid cost 2.1659\n",
      " iteration 600, train cost 2.0815, valid cost 2.1652\n",
      " iteration 650, train cost 2.0799, valid cost 2.1645\n",
      " iteration 700, train cost 2.0784, valid cost 2.1637\n",
      " iteration 750, train cost 2.0767, valid cost 2.1626\n",
      " iteration 800, train cost 2.0749, valid cost 2.1614\n",
      " iteration 850, train cost 2.0726, valid cost 2.1597\n",
      " iteration 900, train cost 2.0695, valid cost 2.1573\n",
      " iteration 950, train cost 2.0663, valid cost 2.1541\n",
      " iteration 1000, train cost 2.0612, valid cost 2.1490\n",
      " iteration 1050, train cost 2.0539, valid cost 2.1412\n",
      " iteration 1100, train cost 2.0428, valid cost 2.1296\n",
      " iteration 1150, train cost 2.0268, valid cost 2.1124\n",
      " iteration 1200, train cost 2.0048, valid cost 2.0886\n",
      " iteration 1250, train cost 1.9776, valid cost 2.0598\n",
      " iteration 1300, train cost 1.9505, valid cost 2.0305\n",
      " iteration 1350, train cost 1.9241, valid cost 2.0040\n",
      " iteration 1400, train cost 1.9032, valid cost 1.9815\n",
      " iteration 1450, train cost 1.8844, valid cost 1.9625\n",
      " iteration 1500, train cost 1.8690, valid cost 1.9461\n",
      " iteration 1550, train cost 1.8551, valid cost 1.9318\n",
      " iteration 1600, train cost 1.8434, valid cost 1.9196\n",
      " iteration 1650, train cost 1.8335, valid cost 1.9092\n",
      " iteration 1700, train cost 1.8239, valid cost 1.9010\n",
      " iteration 1750, train cost 1.8157, valid cost 1.8943\n",
      " iteration 1800, train cost 1.8096, valid cost 1.8883\n",
      " iteration 1850, train cost 1.8026, valid cost 1.8831\n",
      " iteration 1900, train cost 1.7958, valid cost 1.8777\n",
      " iteration 1950, train cost 1.7879, valid cost 1.8721\n",
      " iteration 2000, train cost 1.7801, valid cost 1.8656\n",
      " iteration 2050, train cost 1.7709, valid cost 1.8585\n",
      " iteration 2100, train cost 1.7605, valid cost 1.8497\n",
      " iteration 2150, train cost 1.7490, valid cost 1.8400\n",
      " iteration 2200, train cost 1.7384, valid cost 1.8301\n",
      " iteration 2250, train cost 1.7284, valid cost 1.8213\n",
      " iteration 2300, train cost 1.7185, valid cost 1.8134\n",
      " iteration 2350, train cost 1.7099, valid cost 1.8061\n",
      " iteration 2400, train cost 1.7007, valid cost 1.7989\n",
      " iteration 2450, train cost 1.6922, valid cost 1.7920\n",
      " iteration 2500, train cost 1.6827, valid cost 1.7855\n",
      " iteration 2550, train cost 1.6741, valid cost 1.7788\n",
      " iteration 2600, train cost 1.6652, valid cost 1.7724\n",
      " iteration 2650, train cost 1.6570, valid cost 1.7654\n",
      " iteration 2700, train cost 1.6482, valid cost 1.7588\n",
      " iteration 2750, train cost 1.6400, valid cost 1.7522\n",
      " iteration 2800, train cost 1.6306, valid cost 1.7452\n",
      " iteration 2850, train cost 1.6217, valid cost 1.7380\n",
      " iteration 2900, train cost 1.6137, valid cost 1.7305\n",
      " iteration 2950, train cost 1.6050, valid cost 1.7230\n",
      " iteration 3000, train cost 1.5967, valid cost 1.7150\n",
      " iteration 3050, train cost 1.5890, valid cost 1.7069\n",
      " iteration 3100, train cost 1.5796, valid cost 1.6987\n",
      " iteration 3150, train cost 1.5710, valid cost 1.6900\n",
      " iteration 3200, train cost 1.5629, valid cost 1.6818\n",
      " iteration 3250, train cost 1.5535, valid cost 1.6732\n",
      " iteration 3300, train cost 1.5448, valid cost 1.6651\n",
      " iteration 3350, train cost 1.5368, valid cost 1.6569\n",
      " iteration 3400, train cost 1.5286, valid cost 1.6492\n",
      " iteration 3450, train cost 1.5208, valid cost 1.6418\n",
      " iteration 3500, train cost 1.5124, valid cost 1.6350\n",
      " iteration 3550, train cost 1.5061, valid cost 1.6289\n",
      " iteration 3600, train cost 1.4992, valid cost 1.6227\n",
      " iteration 3650, train cost 1.4939, valid cost 1.6172\n",
      " iteration 3700, train cost 1.4885, valid cost 1.6120\n",
      " iteration 3750, train cost 1.4817, valid cost 1.6069\n",
      " iteration 3800, train cost 1.4764, valid cost 1.6020\n",
      " iteration 3850, train cost 1.4704, valid cost 1.5973\n",
      " iteration 3900, train cost 1.4653, valid cost 1.5923\n",
      " iteration 3950, train cost 1.4605, valid cost 1.5875\n"
     ]
    },
    {
     "data": {
      "text/html": [
       "<br/>Waiting for W&B process to finish, PID 183810<br/>Program ended successfully."
      ],
      "text/plain": [
       "<IPython.core.display.HTML object>"
      ]
     },
     "metadata": {},
     "output_type": "display_data"
    },
    {
     "name": "stderr",
     "output_type": "stream",
     "text": [
      "Widget Javascript not detected.  It may not be installed or enabled properly.\n"
     ]
    },
    {
     "data": {
      "application/vnd.jupyter.widget-view+json": {
       "model_id": "14cb61739bc4406f84dd3db5bbe64482"
      }
     },
     "metadata": {},
     "output_type": "display_data"
    },
    {
     "data": {
      "text/html": [
       "Find user logs for this run at: <code>/home/sazeglio/NMAs/src/wandb/run-20210814_185206-rxni5w8y/logs/debug.log</code>"
      ],
      "text/plain": [
       "<IPython.core.display.HTML object>"
      ]
     },
     "metadata": {},
     "output_type": "display_data"
    },
    {
     "data": {
      "text/html": [
       "Find internal logs for this run at: <code>/home/sazeglio/NMAs/src/wandb/run-20210814_185206-rxni5w8y/logs/debug-internal.log</code>"
      ],
      "text/plain": [
       "<IPython.core.display.HTML object>"
      ]
     },
     "metadata": {},
     "output_type": "display_data"
    },
    {
     "data": {
      "text/html": [
       "<h3>Run summary:</h3><br/><style>\n",
       "    table.wandb td:nth-child(1) { padding: 0 10px; text-align: right }\n",
       "    </style><table class=\"wandb\">\n",
       "<tr><td>train_loss</td><td>1.45449</td></tr><tr><td>valid_loss</td><td>1.5821</td></tr><tr><td>epoch</td><td>3999</td></tr><tr><td>_runtime</td><td>282</td></tr><tr><td>_timestamp</td><td>1628960208</td></tr><tr><td>_step</td><td>3999</td></tr></table>"
      ],
      "text/plain": [
       "<IPython.core.display.HTML object>"
      ]
     },
     "metadata": {},
     "output_type": "display_data"
    },
    {
     "data": {
      "text/html": [
       "<h3>Run history:</h3><br/><style>\n",
       "    table.wandb td:nth-child(1) { padding: 0 10px; text-align: right }\n",
       "    </style><table class=\"wandb\">\n",
       "<tr><td>train_loss</td><td>█▄▃▃▃▃▃▃▃▃▃▃▃▂▂▂▂▂▂▂▂▂▂▂▂▂▂▂▂▁▁▁▁▁▁▁▁▁▁▁</td></tr><tr><td>valid_loss</td><td>█▄▃▃▃▃▃▃▃▃▃▃▃▂▂▂▂▂▂▂▂▂▂▂▂▂▂▂▁▁▁▁▁▁▁▁▁▁▁▁</td></tr><tr><td>epoch</td><td>▁▁▁▂▂▂▂▂▂▃▃▃▃▃▄▄▄▄▄▄▅▅▅▅▅▅▆▆▆▆▆▇▇▇▇▇▇███</td></tr><tr><td>_runtime</td><td>▁▁▁▂▂▂▂▂▂▃▃▃▃▃▄▄▄▄▄▄▅▅▅▅▅▅▆▆▆▆▆▇▇▇▇▇▇███</td></tr><tr><td>_timestamp</td><td>▁▁▁▂▂▂▂▂▂▃▃▃▃▃▄▄▄▄▄▄▅▅▅▅▅▅▆▆▆▆▆▇▇▇▇▇▇███</td></tr><tr><td>_step</td><td>▁▁▁▂▂▂▂▂▂▃▃▃▃▃▄▄▄▄▄▄▅▅▅▅▅▅▆▆▆▆▆▇▇▇▇▇▇███</td></tr></table><br/>"
      ],
      "text/plain": [
       "<IPython.core.display.HTML object>"
      ]
     },
     "metadata": {},
     "output_type": "display_data"
    },
    {
     "data": {
      "text/html": [
       "Synced 5 W&B file(s), 0 media file(s), 0 artifact file(s) and 0 other file(s)"
      ],
      "text/plain": [
       "<IPython.core.display.HTML object>"
      ]
     },
     "metadata": {},
     "output_type": "display_data"
    },
    {
     "data": {
      "text/html": [
       "\n",
       "                    <br/>Synced <strong style=\"color:#cdcd00\">avid-sweep-25</strong>: <a href=\"https://wandb.ai/sazio/NMAs-Small-Hidden-Dims/runs/rxni5w8y\" target=\"_blank\">https://wandb.ai/sazio/NMAs-Small-Hidden-Dims/runs/rxni5w8y</a><br/>\n",
       "                "
      ],
      "text/plain": [
       "<IPython.core.display.HTML object>"
      ]
     },
     "metadata": {},
     "output_type": "display_data"
    },
    {
     "name": "stderr",
     "output_type": "stream",
     "text": [
      "wandb: Agent Starting Run: wmg59vio with config:\n",
      "wandb: \tdropout: 0.1\n",
      "wandb: \tepochs: 4000\n",
      "wandb: \tlearning_rate: 0.00011839180393904553\n",
      "wandb: \tn_comp: 150\n",
      "wandb: \tnum_layers: 1\n",
      "wandb: \toptimizer: adam\n",
      "wandb: \tweight_decay: 1e-05\n",
      "Failed to detect the name of this notebook, you can set it manually with the WANDB_NOTEBOOK_NAME environment variable to enable code saving.\n"
     ]
    },
    {
     "data": {
      "text/html": [
       "\n",
       "                Tracking run with wandb version 0.12.0<br/>\n",
       "                Syncing run <strong style=\"color:#cdcd00\">elated-sweep-26</strong> to <a href=\"https://wandb.ai\" target=\"_blank\">Weights & Biases</a> <a href=\"https://docs.wandb.com/integrations/jupyter.html\" target=\"_blank\">(Documentation)</a>.<br/>\n",
       "                Project page: <a href=\"https://wandb.ai/sazio/NMAs-Small-Hidden-Dims\" target=\"_blank\">https://wandb.ai/sazio/NMAs-Small-Hidden-Dims</a><br/>\n",
       "                Sweep page: <a href=\"https://wandb.ai/sazio/NMAs-Small-Hidden-Dims/sweeps/38qam6fd\" target=\"_blank\">https://wandb.ai/sazio/NMAs-Small-Hidden-Dims/sweeps/38qam6fd</a><br/>\n",
       "Run page: <a href=\"https://wandb.ai/sazio/NMAs-Small-Hidden-Dims/runs/wmg59vio\" target=\"_blank\">https://wandb.ai/sazio/NMAs-Small-Hidden-Dims/runs/wmg59vio</a><br/>\n",
       "                Run data is saved locally in <code>/home/sazeglio/NMAs/src/wandb/run-20210814_185653-wmg59vio</code><br/><br/>\n",
       "            "
      ],
      "text/plain": [
       "<IPython.core.display.HTML object>"
      ]
     },
     "metadata": {},
     "output_type": "display_data"
    },
    {
     "name": "stdout",
     "output_type": "stream",
     "text": [
      " iteration 0, train cost 3.7039, valid cost 3.8031\n",
      " iteration 50, train cost 2.9605, valid cost 3.0263\n",
      " iteration 100, train cost 2.2575, valid cost 2.3355\n",
      " iteration 150, train cost 2.1153, valid cost 2.1948\n",
      " iteration 200, train cost 2.0920, valid cost 2.1728\n",
      " iteration 250, train cost 2.0852, valid cost 2.1676\n",
      " iteration 300, train cost 2.0818, valid cost 2.1657\n",
      " iteration 350, train cost 2.0793, valid cost 2.1645\n",
      " iteration 400, train cost 2.0763, valid cost 2.1629\n",
      " iteration 450, train cost 2.0730, valid cost 2.1603\n",
      " iteration 500, train cost 2.0676, valid cost 2.1549\n",
      " iteration 550, train cost 2.0580, valid cost 2.1439\n",
      " iteration 600, train cost 2.0394, valid cost 2.1230\n",
      " iteration 650, train cost 2.0105, valid cost 2.0914\n",
      " iteration 700, train cost 1.9762, valid cost 2.0562\n",
      " iteration 750, train cost 1.9423, valid cost 2.0233\n",
      " iteration 800, train cost 1.9158, valid cost 1.9973\n",
      " iteration 850, train cost 1.8919, valid cost 1.9743\n",
      " iteration 900, train cost 1.8693, valid cost 1.9518\n",
      " iteration 950, train cost 1.8485, valid cost 1.9316\n",
      " iteration 1000, train cost 1.8290, valid cost 1.9116\n",
      " iteration 1050, train cost 1.8092, valid cost 1.8918\n",
      " iteration 1100, train cost 1.7901, valid cost 1.8730\n",
      " iteration 1150, train cost 1.7713, valid cost 1.8553\n",
      " iteration 1200, train cost 1.7539, valid cost 1.8396\n",
      " iteration 1250, train cost 1.7387, valid cost 1.8256\n",
      " iteration 1300, train cost 1.7236, valid cost 1.8133\n",
      " iteration 1350, train cost 1.7103, valid cost 1.8018\n",
      " iteration 1400, train cost 1.6970, valid cost 1.7909\n",
      " iteration 1450, train cost 1.6835, valid cost 1.7798\n",
      " iteration 1500, train cost 1.6686, valid cost 1.7667\n",
      " iteration 1550, train cost 1.6538, valid cost 1.7530\n",
      " iteration 1600, train cost 1.6393, valid cost 1.7396\n",
      " iteration 1650, train cost 1.6248, valid cost 1.7269\n",
      " iteration 1700, train cost 1.6103, valid cost 1.7147\n",
      " iteration 1750, train cost 1.5968, valid cost 1.7036\n",
      " iteration 1800, train cost 1.5847, valid cost 1.6932\n",
      " iteration 1850, train cost 1.5725, valid cost 1.6831\n",
      " iteration 1900, train cost 1.5624, valid cost 1.6739\n",
      " iteration 1950, train cost 1.5502, valid cost 1.6648\n",
      " iteration 2000, train cost 1.5406, valid cost 1.6561\n",
      " iteration 2050, train cost 1.5312, valid cost 1.6472\n",
      " iteration 2100, train cost 1.5215, valid cost 1.6391\n",
      " iteration 2150, train cost 1.5132, valid cost 1.6309\n",
      " iteration 2200, train cost 1.5046, valid cost 1.6236\n",
      " iteration 2250, train cost 1.4971, valid cost 1.6155\n",
      " iteration 2300, train cost 1.4892, valid cost 1.6077\n",
      " iteration 2350, train cost 1.4812, valid cost 1.5997\n",
      " iteration 2400, train cost 1.4723, valid cost 1.5918\n",
      " iteration 2450, train cost 1.4652, valid cost 1.5842\n",
      " iteration 2500, train cost 1.4574, valid cost 1.5766\n",
      " iteration 2550, train cost 1.4485, valid cost 1.5687\n",
      " iteration 2600, train cost 1.4403, valid cost 1.5600\n",
      " iteration 2650, train cost 1.4322, valid cost 1.5526\n",
      " iteration 2700, train cost 1.4236, valid cost 1.5451\n",
      " iteration 2750, train cost 1.4163, valid cost 1.5386\n",
      " iteration 2800, train cost 1.4085, valid cost 1.5325\n",
      " iteration 2850, train cost 1.4023, valid cost 1.5271\n",
      " iteration 2900, train cost 1.3955, valid cost 1.5221\n",
      " iteration 2950, train cost 1.3901, valid cost 1.5173\n",
      " iteration 3000, train cost 1.3831, valid cost 1.5130\n",
      " iteration 3050, train cost 1.3777, valid cost 1.5086\n",
      " iteration 3100, train cost 1.3721, valid cost 1.5043\n",
      " iteration 3150, train cost 1.3674, valid cost 1.5004\n",
      " iteration 3200, train cost 1.3622, valid cost 1.4959\n",
      " iteration 3250, train cost 1.3561, valid cost 1.4920\n",
      " iteration 3300, train cost 1.3510, valid cost 1.4873\n",
      " iteration 3350, train cost 1.3472, valid cost 1.4829\n",
      " iteration 3400, train cost 1.3407, valid cost 1.4787\n",
      " iteration 3450, train cost 1.3369, valid cost 1.4737\n",
      " iteration 3500, train cost 1.3322, valid cost 1.4695\n",
      " iteration 3550, train cost 1.3278, valid cost 1.4657\n",
      " iteration 3600, train cost 1.3213, valid cost 1.4619\n",
      " iteration 3650, train cost 1.3189, valid cost 1.4573\n",
      " iteration 3700, train cost 1.3135, valid cost 1.4533\n",
      " iteration 3750, train cost 1.3087, valid cost 1.4498\n",
      " iteration 3800, train cost 1.3038, valid cost 1.4461\n",
      " iteration 3850, train cost 1.3014, valid cost 1.4424\n",
      " iteration 3900, train cost 1.2953, valid cost 1.4388\n",
      " iteration 3950, train cost 1.2927, valid cost 1.4353\n"
     ]
    },
    {
     "data": {
      "text/html": [
       "<br/>Waiting for W&B process to finish, PID 183909<br/>Program ended successfully."
      ],
      "text/plain": [
       "<IPython.core.display.HTML object>"
      ]
     },
     "metadata": {},
     "output_type": "display_data"
    },
    {
     "name": "stderr",
     "output_type": "stream",
     "text": [
      "Widget Javascript not detected.  It may not be installed or enabled properly.\n"
     ]
    },
    {
     "data": {
      "application/vnd.jupyter.widget-view+json": {
       "model_id": "0cf6631c08504a4fb785131c2779a8b6"
      }
     },
     "metadata": {},
     "output_type": "display_data"
    },
    {
     "data": {
      "text/html": [
       "Find user logs for this run at: <code>/home/sazeglio/NMAs/src/wandb/run-20210814_185653-wmg59vio/logs/debug.log</code>"
      ],
      "text/plain": [
       "<IPython.core.display.HTML object>"
      ]
     },
     "metadata": {},
     "output_type": "display_data"
    },
    {
     "data": {
      "text/html": [
       "Find internal logs for this run at: <code>/home/sazeglio/NMAs/src/wandb/run-20210814_185653-wmg59vio/logs/debug-internal.log</code>"
      ],
      "text/plain": [
       "<IPython.core.display.HTML object>"
      ]
     },
     "metadata": {},
     "output_type": "display_data"
    },
    {
     "data": {
      "text/html": [
       "<h3>Run summary:</h3><br/><style>\n",
       "    table.wandb td:nth-child(1) { padding: 0 10px; text-align: right }\n",
       "    </style><table class=\"wandb\">\n",
       "<tr><td>train_loss</td><td>1.28751</td></tr><tr><td>valid_loss</td><td>1.432</td></tr><tr><td>epoch</td><td>3999</td></tr><tr><td>_runtime</td><td>278</td></tr><tr><td>_timestamp</td><td>1628960491</td></tr><tr><td>_step</td><td>3999</td></tr></table>"
      ],
      "text/plain": [
       "<IPython.core.display.HTML object>"
      ]
     },
     "metadata": {},
     "output_type": "display_data"
    },
    {
     "data": {
      "text/html": [
       "<h3>Run history:</h3><br/><style>\n",
       "    table.wandb td:nth-child(1) { padding: 0 10px; text-align: right }\n",
       "    </style><table class=\"wandb\">\n",
       "<tr><td>train_loss</td><td>█▄▄▄▄▃▃▃▃▃▃▃▂▂▂▂▂▂▂▂▂▂▂▂▂▁▁▁▁▁▁▁▁▁▁▁▁▁▁▁</td></tr><tr><td>valid_loss</td><td>█▄▃▃▃▃▃▃▃▃▃▂▂▂▂▂▂▂▂▂▂▂▂▂▁▁▁▁▁▁▁▁▁▁▁▁▁▁▁▁</td></tr><tr><td>epoch</td><td>▁▁▁▂▂▂▂▂▂▃▃▃▃▃▄▄▄▄▄▄▅▅▅▅▅▅▆▆▆▆▆▇▇▇▇▇▇███</td></tr><tr><td>_runtime</td><td>▁▁▁▁▂▂▂▂▂▃▃▃▃▃▃▄▄▄▄▄▅▅▅▅▅▅▆▆▆▆▆▇▇▇▇▇▇███</td></tr><tr><td>_timestamp</td><td>▁▁▁▁▂▂▂▂▂▃▃▃▃▃▃▄▄▄▄▄▅▅▅▅▅▅▆▆▆▆▆▇▇▇▇▇▇███</td></tr><tr><td>_step</td><td>▁▁▁▂▂▂▂▂▂▃▃▃▃▃▄▄▄▄▄▄▅▅▅▅▅▅▆▆▆▆▆▇▇▇▇▇▇███</td></tr></table><br/>"
      ],
      "text/plain": [
       "<IPython.core.display.HTML object>"
      ]
     },
     "metadata": {},
     "output_type": "display_data"
    },
    {
     "data": {
      "text/html": [
       "Synced 5 W&B file(s), 0 media file(s), 0 artifact file(s) and 0 other file(s)"
      ],
      "text/plain": [
       "<IPython.core.display.HTML object>"
      ]
     },
     "metadata": {},
     "output_type": "display_data"
    },
    {
     "data": {
      "text/html": [
       "\n",
       "                    <br/>Synced <strong style=\"color:#cdcd00\">elated-sweep-26</strong>: <a href=\"https://wandb.ai/sazio/NMAs-Small-Hidden-Dims/runs/wmg59vio\" target=\"_blank\">https://wandb.ai/sazio/NMAs-Small-Hidden-Dims/runs/wmg59vio</a><br/>\n",
       "                "
      ],
      "text/plain": [
       "<IPython.core.display.HTML object>"
      ]
     },
     "metadata": {},
     "output_type": "display_data"
    },
    {
     "name": "stderr",
     "output_type": "stream",
     "text": [
      "wandb: Agent Starting Run: 5p68j9ge with config:\n",
      "wandb: \tdropout: 0.1\n",
      "wandb: \tepochs: 4000\n",
      "wandb: \tlearning_rate: 8.554174629081745e-05\n",
      "wandb: \tn_comp: 75\n",
      "wandb: \tnum_layers: 1\n",
      "wandb: \toptimizer: adam\n",
      "wandb: \tweight_decay: 5e-05\n",
      "Failed to detect the name of this notebook, you can set it manually with the WANDB_NOTEBOOK_NAME environment variable to enable code saving.\n"
     ]
    },
    {
     "data": {
      "text/html": [
       "\n",
       "                Tracking run with wandb version 0.12.0<br/>\n",
       "                Syncing run <strong style=\"color:#cdcd00\">hopeful-sweep-27</strong> to <a href=\"https://wandb.ai\" target=\"_blank\">Weights & Biases</a> <a href=\"https://docs.wandb.com/integrations/jupyter.html\" target=\"_blank\">(Documentation)</a>.<br/>\n",
       "                Project page: <a href=\"https://wandb.ai/sazio/NMAs-Small-Hidden-Dims\" target=\"_blank\">https://wandb.ai/sazio/NMAs-Small-Hidden-Dims</a><br/>\n",
       "                Sweep page: <a href=\"https://wandb.ai/sazio/NMAs-Small-Hidden-Dims/sweeps/38qam6fd\" target=\"_blank\">https://wandb.ai/sazio/NMAs-Small-Hidden-Dims/sweeps/38qam6fd</a><br/>\n",
       "Run page: <a href=\"https://wandb.ai/sazio/NMAs-Small-Hidden-Dims/runs/5p68j9ge\" target=\"_blank\">https://wandb.ai/sazio/NMAs-Small-Hidden-Dims/runs/5p68j9ge</a><br/>\n",
       "                Run data is saved locally in <code>/home/sazeglio/NMAs/src/wandb/run-20210814_190135-5p68j9ge</code><br/><br/>\n",
       "            "
      ],
      "text/plain": [
       "<IPython.core.display.HTML object>"
      ]
     },
     "metadata": {},
     "output_type": "display_data"
    },
    {
     "name": "stdout",
     "output_type": "stream",
     "text": [
      " iteration 0, train cost 3.7075, valid cost 3.8077\n",
      " iteration 50, train cost 3.3471, valid cost 3.4216\n",
      " iteration 100, train cost 2.4975, valid cost 2.5711\n",
      " iteration 150, train cost 2.1907, valid cost 2.2685\n",
      " iteration 200, train cost 2.1144, valid cost 2.1902\n",
      " iteration 250, train cost 2.0949, valid cost 2.1714\n",
      " iteration 300, train cost 2.0873, valid cost 2.1666\n",
      " iteration 350, train cost 2.0837, valid cost 2.1648\n",
      " iteration 400, train cost 2.0804, valid cost 2.1639\n",
      " iteration 450, train cost 2.0778, valid cost 2.1628\n",
      " iteration 500, train cost 2.0750, valid cost 2.1610\n",
      " iteration 550, train cost 2.0714, valid cost 2.1583\n",
      " iteration 600, train cost 2.0656, valid cost 2.1528\n",
      " iteration 650, train cost 2.0547, valid cost 2.1423\n",
      " iteration 700, train cost 2.0358, valid cost 2.1231\n",
      " iteration 750, train cost 2.0089, valid cost 2.0964\n",
      " iteration 800, train cost 1.9808, valid cost 2.0685\n",
      " iteration 850, train cost 1.9546, valid cost 2.0421\n",
      " iteration 900, train cost 1.9324, valid cost 2.0184\n",
      " iteration 950, train cost 1.9124, valid cost 1.9973\n",
      " iteration 1000, train cost 1.8951, valid cost 1.9783\n",
      " iteration 1050, train cost 1.8781, valid cost 1.9606\n",
      " iteration 1100, train cost 1.8625, valid cost 1.9452\n",
      " iteration 1150, train cost 1.8482, valid cost 1.9314\n",
      " iteration 1200, train cost 1.8337, valid cost 1.9163\n",
      " iteration 1250, train cost 1.8182, valid cost 1.8997\n",
      " iteration 1300, train cost 1.8001, valid cost 1.8815\n",
      " iteration 1350, train cost 1.7814, valid cost 1.8639\n",
      " iteration 1400, train cost 1.7632, valid cost 1.8464\n",
      " iteration 1450, train cost 1.7448, valid cost 1.8309\n",
      " iteration 1500, train cost 1.7288, valid cost 1.8170\n",
      " iteration 1550, train cost 1.7141, valid cost 1.8044\n",
      " iteration 1600, train cost 1.7000, valid cost 1.7923\n",
      " iteration 1650, train cost 1.6863, valid cost 1.7805\n",
      " iteration 1700, train cost 1.6722, valid cost 1.7690\n",
      " iteration 1750, train cost 1.6577, valid cost 1.7576\n",
      " iteration 1800, train cost 1.6445, valid cost 1.7462\n",
      " iteration 1850, train cost 1.6311, valid cost 1.7351\n",
      " iteration 1900, train cost 1.6186, valid cost 1.7241\n",
      " iteration 1950, train cost 1.6064, valid cost 1.7130\n",
      " iteration 2000, train cost 1.5944, valid cost 1.7026\n",
      " iteration 2050, train cost 1.5839, valid cost 1.6924\n",
      " iteration 2100, train cost 1.5729, valid cost 1.6821\n",
      " iteration 2150, train cost 1.5623, valid cost 1.6727\n",
      " iteration 2200, train cost 1.5519, valid cost 1.6633\n",
      " iteration 2250, train cost 1.5419, valid cost 1.6540\n",
      " iteration 2300, train cost 1.5328, valid cost 1.6454\n",
      " iteration 2350, train cost 1.5224, valid cost 1.6361\n",
      " iteration 2400, train cost 1.5138, valid cost 1.6273\n",
      " iteration 2450, train cost 1.5038, valid cost 1.6188\n",
      " iteration 2500, train cost 1.4948, valid cost 1.6107\n",
      " iteration 2550, train cost 1.4866, valid cost 1.6023\n",
      " iteration 2600, train cost 1.4790, valid cost 1.5946\n",
      " iteration 2650, train cost 1.4702, valid cost 1.5868\n",
      " iteration 2700, train cost 1.4614, valid cost 1.5794\n",
      " iteration 2750, train cost 1.4538, valid cost 1.5725\n",
      " iteration 2800, train cost 1.4473, valid cost 1.5661\n",
      " iteration 2850, train cost 1.4402, valid cost 1.5603\n",
      " iteration 2900, train cost 1.4337, valid cost 1.5546\n",
      " iteration 2950, train cost 1.4279, valid cost 1.5488\n",
      " iteration 3000, train cost 1.4214, valid cost 1.5435\n",
      " iteration 3050, train cost 1.4143, valid cost 1.5390\n",
      " iteration 3100, train cost 1.4094, valid cost 1.5333\n",
      " iteration 3150, train cost 1.4035, valid cost 1.5287\n",
      " iteration 3200, train cost 1.3987, valid cost 1.5239\n",
      " iteration 3250, train cost 1.3943, valid cost 1.5188\n",
      " iteration 3300, train cost 1.3869, valid cost 1.5146\n",
      " iteration 3350, train cost 1.3821, valid cost 1.5098\n",
      " iteration 3400, train cost 1.3775, valid cost 1.5054\n",
      " iteration 3450, train cost 1.3725, valid cost 1.5008\n",
      " iteration 3500, train cost 1.3680, valid cost 1.4969\n",
      " iteration 3550, train cost 1.3637, valid cost 1.4930\n",
      " iteration 3600, train cost 1.3594, valid cost 1.4889\n",
      " iteration 3650, train cost 1.3554, valid cost 1.4851\n",
      " iteration 3700, train cost 1.3497, valid cost 1.4814\n",
      " iteration 3750, train cost 1.3463, valid cost 1.4778\n",
      " iteration 3800, train cost 1.3427, valid cost 1.4746\n",
      " iteration 3850, train cost 1.3398, valid cost 1.4715\n",
      " iteration 3900, train cost 1.3348, valid cost 1.4687\n",
      " iteration 3950, train cost 1.3324, valid cost 1.4659\n"
     ]
    },
    {
     "data": {
      "text/html": [
       "<br/>Waiting for W&B process to finish, PID 184017<br/>Program ended successfully."
      ],
      "text/plain": [
       "<IPython.core.display.HTML object>"
      ]
     },
     "metadata": {},
     "output_type": "display_data"
    },
    {
     "name": "stderr",
     "output_type": "stream",
     "text": [
      "Widget Javascript not detected.  It may not be installed or enabled properly.\n"
     ]
    },
    {
     "data": {
      "application/vnd.jupyter.widget-view+json": {
       "model_id": "dacba5bcbb86454ebed844acff7766b1"
      }
     },
     "metadata": {},
     "output_type": "display_data"
    },
    {
     "data": {
      "text/html": [
       "Find user logs for this run at: <code>/home/sazeglio/NMAs/src/wandb/run-20210814_190135-5p68j9ge/logs/debug.log</code>"
      ],
      "text/plain": [
       "<IPython.core.display.HTML object>"
      ]
     },
     "metadata": {},
     "output_type": "display_data"
    },
    {
     "data": {
      "text/html": [
       "Find internal logs for this run at: <code>/home/sazeglio/NMAs/src/wandb/run-20210814_190135-5p68j9ge/logs/debug-internal.log</code>"
      ],
      "text/plain": [
       "<IPython.core.display.HTML object>"
      ]
     },
     "metadata": {},
     "output_type": "display_data"
    },
    {
     "data": {
      "text/html": [
       "<h3>Run summary:</h3><br/><style>\n",
       "    table.wandb td:nth-child(1) { padding: 0 10px; text-align: right }\n",
       "    </style><table class=\"wandb\">\n",
       "<tr><td>train_loss</td><td>1.32917</td></tr><tr><td>valid_loss</td><td>1.46307</td></tr><tr><td>epoch</td><td>3999</td></tr><tr><td>_runtime</td><td>280</td></tr><tr><td>_timestamp</td><td>1628960775</td></tr><tr><td>_step</td><td>3999</td></tr></table>"
      ],
      "text/plain": [
       "<IPython.core.display.HTML object>"
      ]
     },
     "metadata": {},
     "output_type": "display_data"
    },
    {
     "data": {
      "text/html": [
       "<h3>Run history:</h3><br/><style>\n",
       "    table.wandb td:nth-child(1) { padding: 0 10px; text-align: right }\n",
       "    </style><table class=\"wandb\">\n",
       "<tr><td>train_loss</td><td>█▄▃▃▃▃▃▃▃▃▃▃▂▂▂▂▂▂▂▂▂▂▂▂▂▁▁▁▁▁▁▁▁▁▁▁▁▁▁▁</td></tr><tr><td>valid_loss</td><td>█▄▃▃▃▃▃▃▃▃▃▂▂▂▂▂▂▂▂▂▂▂▂▂▁▁▁▁▁▁▁▁▁▁▁▁▁▁▁▁</td></tr><tr><td>epoch</td><td>▁▁▁▂▂▂▂▂▂▃▃▃▃▃▄▄▄▄▄▄▅▅▅▅▅▅▆▆▆▆▆▇▇▇▇▇▇███</td></tr><tr><td>_runtime</td><td>▁▁▁▂▂▂▂▂▂▃▃▃▃▃▄▄▄▄▄▄▅▅▅▅▅▆▆▆▆▆▆▇▇▇▇▇▇███</td></tr><tr><td>_timestamp</td><td>▁▁▁▂▂▂▂▂▂▃▃▃▃▃▄▄▄▄▄▄▅▅▅▅▅▆▆▆▆▆▆▇▇▇▇▇▇███</td></tr><tr><td>_step</td><td>▁▁▁▂▂▂▂▂▂▃▃▃▃▃▄▄▄▄▄▄▅▅▅▅▅▅▆▆▆▆▆▇▇▇▇▇▇███</td></tr></table><br/>"
      ],
      "text/plain": [
       "<IPython.core.display.HTML object>"
      ]
     },
     "metadata": {},
     "output_type": "display_data"
    },
    {
     "data": {
      "text/html": [
       "Synced 5 W&B file(s), 0 media file(s), 0 artifact file(s) and 0 other file(s)"
      ],
      "text/plain": [
       "<IPython.core.display.HTML object>"
      ]
     },
     "metadata": {},
     "output_type": "display_data"
    },
    {
     "data": {
      "text/html": [
       "\n",
       "                    <br/>Synced <strong style=\"color:#cdcd00\">hopeful-sweep-27</strong>: <a href=\"https://wandb.ai/sazio/NMAs-Small-Hidden-Dims/runs/5p68j9ge\" target=\"_blank\">https://wandb.ai/sazio/NMAs-Small-Hidden-Dims/runs/5p68j9ge</a><br/>\n",
       "                "
      ],
      "text/plain": [
       "<IPython.core.display.HTML object>"
      ]
     },
     "metadata": {},
     "output_type": "display_data"
    },
    {
     "name": "stderr",
     "output_type": "stream",
     "text": [
      "wandb: Agent Starting Run: puqztgn4 with config:\n",
      "wandb: \tdropout: 0.3\n",
      "wandb: \tepochs: 4000\n",
      "wandb: \tlearning_rate: 0.0008067772052887274\n",
      "wandb: \tn_comp: 50\n",
      "wandb: \tnum_layers: 1\n",
      "wandb: \toptimizer: adam\n",
      "wandb: \tweight_decay: 1e-06\n",
      "Failed to detect the name of this notebook, you can set it manually with the WANDB_NOTEBOOK_NAME environment variable to enable code saving.\n"
     ]
    },
    {
     "data": {
      "text/html": [
       "\n",
       "                Tracking run with wandb version 0.12.0<br/>\n",
       "                Syncing run <strong style=\"color:#cdcd00\">astral-sweep-28</strong> to <a href=\"https://wandb.ai\" target=\"_blank\">Weights & Biases</a> <a href=\"https://docs.wandb.com/integrations/jupyter.html\" target=\"_blank\">(Documentation)</a>.<br/>\n",
       "                Project page: <a href=\"https://wandb.ai/sazio/NMAs-Small-Hidden-Dims\" target=\"_blank\">https://wandb.ai/sazio/NMAs-Small-Hidden-Dims</a><br/>\n",
       "                Sweep page: <a href=\"https://wandb.ai/sazio/NMAs-Small-Hidden-Dims/sweeps/38qam6fd\" target=\"_blank\">https://wandb.ai/sazio/NMAs-Small-Hidden-Dims/sweeps/38qam6fd</a><br/>\n",
       "Run page: <a href=\"https://wandb.ai/sazio/NMAs-Small-Hidden-Dims/runs/puqztgn4\" target=\"_blank\">https://wandb.ai/sazio/NMAs-Small-Hidden-Dims/runs/puqztgn4</a><br/>\n",
       "                Run data is saved locally in <code>/home/sazeglio/NMAs/src/wandb/run-20210814_190619-puqztgn4</code><br/><br/>\n",
       "            "
      ],
      "text/plain": [
       "<IPython.core.display.HTML object>"
      ]
     },
     "metadata": {},
     "output_type": "display_data"
    },
    {
     "name": "stdout",
     "output_type": "stream",
     "text": [
      " iteration 0, train cost 3.7065, valid cost 3.7976\n",
      " iteration 50, train cost 2.0934, valid cost 2.1814\n",
      " iteration 100, train cost 2.0786, valid cost 2.1673\n",
      " iteration 150, train cost 2.0732, valid cost 2.1637\n",
      " iteration 200, train cost 2.0610, valid cost 2.1513\n",
      " iteration 250, train cost 1.9344, valid cost 2.0207\n",
      " iteration 300, train cost 1.8671, valid cost 1.9509\n",
      " iteration 350, train cost 1.8248, valid cost 1.9113\n",
      " iteration 400, train cost 1.7867, valid cost 1.8735\n",
      " iteration 450, train cost 1.7455, valid cost 1.8370\n",
      " iteration 500, train cost 1.6997, valid cost 1.8027\n",
      " iteration 550, train cost 1.6626, valid cost 1.7743\n",
      " iteration 600, train cost 1.6235, valid cost 1.7423\n",
      " iteration 650, train cost 1.5858, valid cost 1.7117\n",
      " iteration 700, train cost 1.5560, valid cost 1.6862\n",
      " iteration 750, train cost 1.5258, valid cost 1.6602\n",
      " iteration 800, train cost 1.5000, valid cost 1.6412\n",
      " iteration 850, train cost 1.4725, valid cost 1.6193\n",
      " iteration 900, train cost 1.4476, valid cost 1.5993\n",
      " iteration 950, train cost 1.4246, valid cost 1.5805\n",
      " iteration 1000, train cost 1.4011, valid cost 1.5623\n",
      " iteration 1050, train cost 1.3844, valid cost 1.5460\n",
      " iteration 1100, train cost 1.3668, valid cost 1.5313\n",
      " iteration 1150, train cost 1.3519, valid cost 1.5192\n",
      " iteration 1200, train cost 1.3391, valid cost 1.5080\n",
      " iteration 1250, train cost 1.3211, valid cost 1.4949\n",
      " iteration 1300, train cost 1.3069, valid cost 1.4829\n",
      " iteration 1350, train cost 1.2923, valid cost 1.4732\n",
      " iteration 1400, train cost 1.2786, valid cost 1.4601\n",
      " iteration 1450, train cost 1.2673, valid cost 1.4516\n",
      " iteration 1500, train cost 1.2521, valid cost 1.4398\n",
      " iteration 1550, train cost 1.2568, valid cost 1.4416\n",
      " iteration 1600, train cost 1.2311, valid cost 1.4206\n",
      " iteration 1650, train cost 1.2176, valid cost 1.4115\n",
      " iteration 1700, train cost 1.2075, valid cost 1.4045\n",
      " iteration 1750, train cost 1.1983, valid cost 1.3960\n",
      " iteration 1800, train cost 1.1884, valid cost 1.3878\n",
      " iteration 1850, train cost 1.1759, valid cost 1.3801\n",
      " iteration 1900, train cost 1.1664, valid cost 1.3714\n",
      " iteration 1950, train cost 1.1560, valid cost 1.3639\n",
      " iteration 2000, train cost 1.1506, valid cost 1.3568\n",
      " iteration 2050, train cost 1.1503, valid cost 1.3548\n",
      " iteration 2100, train cost 1.1324, valid cost 1.3444\n",
      " iteration 2150, train cost 1.1272, valid cost 1.3404\n",
      " iteration 2200, train cost 1.1197, valid cost 1.3335\n",
      " iteration 2250, train cost 1.1196, valid cost 1.3346\n",
      " iteration 2300, train cost 1.1049, valid cost 1.3244\n",
      " iteration 2350, train cost 1.0995, valid cost 1.3214\n",
      " iteration 2400, train cost 1.0907, valid cost 1.3160\n",
      " iteration 2450, train cost 1.0926, valid cost 1.3133\n",
      " iteration 2500, train cost 1.0802, valid cost 1.3087\n",
      " iteration 2550, train cost 1.0761, valid cost 1.3048\n",
      " iteration 2600, train cost 1.0711, valid cost 1.3026\n",
      " iteration 2650, train cost 1.0673, valid cost 1.2977\n",
      " iteration 2700, train cost 1.0604, valid cost 1.2935\n",
      " iteration 2750, train cost 1.0567, valid cost 1.2917\n",
      " iteration 2800, train cost 1.0518, valid cost 1.2862\n",
      " iteration 2850, train cost 1.0588, valid cost 1.2905\n",
      " iteration 2900, train cost 1.0442, valid cost 1.2802\n",
      " iteration 2950, train cost 1.0403, valid cost 1.2778\n",
      " iteration 3000, train cost 1.0403, valid cost 1.2776\n",
      " iteration 3050, train cost 1.0321, valid cost 1.2711\n",
      " iteration 3100, train cost 1.0291, valid cost 1.2688\n",
      " iteration 3150, train cost 1.0259, valid cost 1.2668\n",
      " iteration 3200, train cost 1.0225, valid cost 1.2634\n",
      " iteration 3250, train cost 1.0188, valid cost 1.2606\n",
      " iteration 3300, train cost 1.0160, valid cost 1.2834\n",
      " iteration 3350, train cost 1.0135, valid cost 1.2541\n",
      " iteration 3400, train cost 1.0120, valid cost 1.2536\n",
      " iteration 3450, train cost 1.0093, valid cost 1.2557\n",
      " iteration 3500, train cost 1.0048, valid cost 1.2498\n",
      " iteration 3550, train cost 1.0026, valid cost 1.2503\n",
      " iteration 3600, train cost 0.9982, valid cost 1.2473\n",
      " iteration 3650, train cost 0.9977, valid cost 1.2458\n",
      " iteration 3700, train cost 0.9947, valid cost 1.2435\n",
      " iteration 3750, train cost 0.9930, valid cost 1.2417\n",
      " iteration 3800, train cost 0.9911, valid cost 1.2404\n",
      " iteration 3850, train cost 0.9897, valid cost 1.2412\n",
      " iteration 3900, train cost 0.9869, valid cost 1.2390\n",
      " iteration 3950, train cost 0.9843, valid cost 1.2360\n"
     ]
    },
    {
     "data": {
      "text/html": [
       "<br/>Waiting for W&B process to finish, PID 184109<br/>Program ended successfully."
      ],
      "text/plain": [
       "<IPython.core.display.HTML object>"
      ]
     },
     "metadata": {},
     "output_type": "display_data"
    },
    {
     "name": "stderr",
     "output_type": "stream",
     "text": [
      "Widget Javascript not detected.  It may not be installed or enabled properly.\n"
     ]
    },
    {
     "data": {
      "application/vnd.jupyter.widget-view+json": {
       "model_id": "de8d7999083f40818f76815e92c6cf11"
      }
     },
     "metadata": {},
     "output_type": "display_data"
    },
    {
     "data": {
      "text/html": [
       "Find user logs for this run at: <code>/home/sazeglio/NMAs/src/wandb/run-20210814_190619-puqztgn4/logs/debug.log</code>"
      ],
      "text/plain": [
       "<IPython.core.display.HTML object>"
      ]
     },
     "metadata": {},
     "output_type": "display_data"
    },
    {
     "data": {
      "text/html": [
       "Find internal logs for this run at: <code>/home/sazeglio/NMAs/src/wandb/run-20210814_190619-puqztgn4/logs/debug-internal.log</code>"
      ],
      "text/plain": [
       "<IPython.core.display.HTML object>"
      ]
     },
     "metadata": {},
     "output_type": "display_data"
    },
    {
     "data": {
      "text/html": [
       "<h3>Run summary:</h3><br/><style>\n",
       "    table.wandb td:nth-child(1) { padding: 0 10px; text-align: right }\n",
       "    </style><table class=\"wandb\">\n",
       "<tr><td>train_loss</td><td>0.98479</td></tr><tr><td>valid_loss</td><td>1.23716</td></tr><tr><td>epoch</td><td>3999</td></tr><tr><td>_runtime</td><td>280</td></tr><tr><td>_timestamp</td><td>1628961059</td></tr><tr><td>_step</td><td>3999</td></tr></table>"
      ],
      "text/plain": [
       "<IPython.core.display.HTML object>"
      ]
     },
     "metadata": {},
     "output_type": "display_data"
    },
    {
     "data": {
      "text/html": [
       "<h3>Run history:</h3><br/><style>\n",
       "    table.wandb td:nth-child(1) { padding: 0 10px; text-align: right }\n",
       "    </style><table class=\"wandb\">\n",
       "<tr><td>train_loss</td><td>██▇▆▆▅▅▄▄▄▄▃▃▃▃▃▂▂▂▂▂▂▂▂▂▂▂▁▁▁▁▁▁▁▁▁▁▁▁▁</td></tr><tr><td>valid_loss</td><td>█▇▇▆▅▅▄▄▄▃▄▃▃▃▃▂▂▂▂▂▂▂▂▂▂▁▁▁▁▁▁▁▁▁▁▁▁▁▁▁</td></tr><tr><td>epoch</td><td>▁▁▁▂▂▂▂▂▂▃▃▃▃▃▄▄▄▄▄▄▅▅▅▅▅▅▆▆▆▆▆▇▇▇▇▇▇███</td></tr><tr><td>_runtime</td><td>▁▁▁▂▂▂▂▂▂▃▃▃▃▃▄▄▄▄▄▄▅▅▅▅▅▆▆▆▆▆▆▇▇▇▇▇▇███</td></tr><tr><td>_timestamp</td><td>▁▁▁▂▂▂▂▂▂▃▃▃▃▃▄▄▄▄▄▄▅▅▅▅▅▆▆▆▆▆▆▇▇▇▇▇▇███</td></tr><tr><td>_step</td><td>▁▁▁▂▂▂▂▂▂▃▃▃▃▃▄▄▄▄▄▄▅▅▅▅▅▅▆▆▆▆▆▇▇▇▇▇▇███</td></tr></table><br/>"
      ],
      "text/plain": [
       "<IPython.core.display.HTML object>"
      ]
     },
     "metadata": {},
     "output_type": "display_data"
    },
    {
     "data": {
      "text/html": [
       "Synced 5 W&B file(s), 0 media file(s), 0 artifact file(s) and 0 other file(s)"
      ],
      "text/plain": [
       "<IPython.core.display.HTML object>"
      ]
     },
     "metadata": {},
     "output_type": "display_data"
    },
    {
     "data": {
      "text/html": [
       "\n",
       "                    <br/>Synced <strong style=\"color:#cdcd00\">astral-sweep-28</strong>: <a href=\"https://wandb.ai/sazio/NMAs-Small-Hidden-Dims/runs/puqztgn4\" target=\"_blank\">https://wandb.ai/sazio/NMAs-Small-Hidden-Dims/runs/puqztgn4</a><br/>\n",
       "                "
      ],
      "text/plain": [
       "<IPython.core.display.HTML object>"
      ]
     },
     "metadata": {},
     "output_type": "display_data"
    },
    {
     "name": "stderr",
     "output_type": "stream",
     "text": [
      "wandb: Agent Starting Run: 0gy0wotu with config:\n",
      "wandb: \tdropout: 0.2\n",
      "wandb: \tepochs: 4000\n",
      "wandb: \tlearning_rate: 0.00024817271477956687\n",
      "wandb: \tn_comp: 75\n",
      "wandb: \tnum_layers: 1\n",
      "wandb: \toptimizer: adam\n",
      "wandb: \tweight_decay: 1e-05\n",
      "Failed to detect the name of this notebook, you can set it manually with the WANDB_NOTEBOOK_NAME environment variable to enable code saving.\n"
     ]
    },
    {
     "data": {
      "text/html": [
       "\n",
       "                Tracking run with wandb version 0.12.0<br/>\n",
       "                Syncing run <strong style=\"color:#cdcd00\">dauntless-sweep-29</strong> to <a href=\"https://wandb.ai\" target=\"_blank\">Weights & Biases</a> <a href=\"https://docs.wandb.com/integrations/jupyter.html\" target=\"_blank\">(Documentation)</a>.<br/>\n",
       "                Project page: <a href=\"https://wandb.ai/sazio/NMAs-Small-Hidden-Dims\" target=\"_blank\">https://wandb.ai/sazio/NMAs-Small-Hidden-Dims</a><br/>\n",
       "                Sweep page: <a href=\"https://wandb.ai/sazio/NMAs-Small-Hidden-Dims/sweeps/38qam6fd\" target=\"_blank\">https://wandb.ai/sazio/NMAs-Small-Hidden-Dims/sweeps/38qam6fd</a><br/>\n",
       "Run page: <a href=\"https://wandb.ai/sazio/NMAs-Small-Hidden-Dims/runs/0gy0wotu\" target=\"_blank\">https://wandb.ai/sazio/NMAs-Small-Hidden-Dims/runs/0gy0wotu</a><br/>\n",
       "                Run data is saved locally in <code>/home/sazeglio/NMAs/src/wandb/run-20210814_191104-0gy0wotu</code><br/><br/>\n",
       "            "
      ],
      "text/plain": [
       "<IPython.core.display.HTML object>"
      ]
     },
     "metadata": {},
     "output_type": "display_data"
    },
    {
     "name": "stdout",
     "output_type": "stream",
     "text": [
      " iteration 0, train cost 3.7116, valid cost 3.8085\n",
      " iteration 50, train cost 2.3014, valid cost 2.3565\n",
      " iteration 100, train cost 2.0926, valid cost 2.1733\n",
      " iteration 150, train cost 2.0828, valid cost 2.1661\n",
      " iteration 200, train cost 2.0787, valid cost 2.1643\n",
      " iteration 250, train cost 2.0750, valid cost 2.1621\n",
      " iteration 300, train cost 2.0676, valid cost 2.1553\n",
      " iteration 350, train cost 2.0449, valid cost 2.1299\n",
      " iteration 400, train cost 1.9881, valid cost 2.0655\n",
      " iteration 450, train cost 1.9208, valid cost 1.9992\n",
      " iteration 500, train cost 1.8781, valid cost 1.9621\n",
      " iteration 550, train cost 1.8465, valid cost 1.9327\n",
      " iteration 600, train cost 1.8161, valid cost 1.9012\n",
      " iteration 650, train cost 1.7919, valid cost 1.8778\n",
      " iteration 700, train cost 1.7654, valid cost 1.8541\n",
      " iteration 750, train cost 1.7345, valid cost 1.8241\n",
      " iteration 800, train cost 1.7044, valid cost 1.7974\n",
      " iteration 850, train cost 1.6784, valid cost 1.7761\n",
      " iteration 900, train cost 1.6544, valid cost 1.7570\n",
      " iteration 950, train cost 1.6305, valid cost 1.7383\n",
      " iteration 1000, train cost 1.6080, valid cost 1.7181\n",
      " iteration 1050, train cost 1.5844, valid cost 1.6965\n",
      " iteration 1100, train cost 1.5645, valid cost 1.6767\n",
      " iteration 1150, train cost 1.5452, valid cost 1.6577\n",
      " iteration 1200, train cost 1.5260, valid cost 1.6397\n",
      " iteration 1250, train cost 1.5077, valid cost 1.6220\n",
      " iteration 1300, train cost 1.4902, valid cost 1.6047\n",
      " iteration 1350, train cost 1.4745, valid cost 1.5894\n",
      " iteration 1400, train cost 1.4593, valid cost 1.5758\n",
      " iteration 1450, train cost 1.4440, valid cost 1.5631\n",
      " iteration 1500, train cost 1.4313, valid cost 1.5519\n",
      " iteration 1550, train cost 1.4188, valid cost 1.5408\n",
      " iteration 1600, train cost 1.4062, valid cost 1.5297\n",
      " iteration 1650, train cost 1.3940, valid cost 1.5190\n",
      " iteration 1700, train cost 1.3822, valid cost 1.5087\n",
      " iteration 1750, train cost 1.3710, valid cost 1.4998\n",
      " iteration 1800, train cost 1.3605, valid cost 1.4904\n",
      " iteration 1850, train cost 1.3505, valid cost 1.4817\n",
      " iteration 1900, train cost 1.3412, valid cost 1.4734\n",
      " iteration 1950, train cost 1.3309, valid cost 1.4656\n",
      " iteration 2000, train cost 1.3228, valid cost 1.4584\n",
      " iteration 2050, train cost 1.3152, valid cost 1.4521\n",
      " iteration 2100, train cost 1.3076, valid cost 1.4456\n",
      " iteration 2150, train cost 1.3000, valid cost 1.4392\n",
      " iteration 2200, train cost 1.2911, valid cost 1.4322\n",
      " iteration 2250, train cost 1.2836, valid cost 1.4266\n",
      " iteration 2300, train cost 1.2767, valid cost 1.4212\n",
      " iteration 2350, train cost 1.2718, valid cost 1.4155\n",
      " iteration 2400, train cost 1.2644, valid cost 1.4115\n",
      " iteration 2450, train cost 1.2597, valid cost 1.4073\n",
      " iteration 2500, train cost 1.2534, valid cost 1.4033\n",
      " iteration 2550, train cost 1.2498, valid cost 1.3995\n",
      " iteration 2600, train cost 1.2439, valid cost 1.3963\n",
      " iteration 2650, train cost 1.2390, valid cost 1.3920\n",
      " iteration 2700, train cost 1.2340, valid cost 1.3887\n",
      " iteration 2750, train cost 1.2289, valid cost 1.3861\n",
      " iteration 2800, train cost 1.2247, valid cost 1.3823\n",
      " iteration 2850, train cost 1.2197, valid cost 1.3783\n",
      " iteration 2900, train cost 1.2146, valid cost 1.3753\n",
      " iteration 2950, train cost 1.2114, valid cost 1.3715\n",
      " iteration 3000, train cost 1.2066, valid cost 1.3683\n",
      " iteration 3050, train cost 1.2007, valid cost 1.3649\n",
      " iteration 3100, train cost 1.1963, valid cost 1.3614\n",
      " iteration 3150, train cost 1.1920, valid cost 1.3583\n",
      " iteration 3200, train cost 1.1886, valid cost 1.3546\n",
      " iteration 3250, train cost 1.1816, valid cost 1.3522\n",
      " iteration 3300, train cost 1.1795, valid cost 1.3492\n",
      " iteration 3350, train cost 1.1834, valid cost 1.3575\n",
      " iteration 3400, train cost 1.1712, valid cost 1.3431\n",
      " iteration 3450, train cost 1.1671, valid cost 1.3409\n",
      " iteration 3500, train cost 1.1636, valid cost 1.3379\n",
      " iteration 3550, train cost 1.1610, valid cost 1.3354\n",
      " iteration 3600, train cost 1.1571, valid cost 1.3335\n",
      " iteration 3650, train cost 1.1540, valid cost 1.3308\n",
      " iteration 3700, train cost 1.1515, valid cost 1.3282\n",
      " iteration 3750, train cost 1.1489, valid cost 1.3324\n",
      " iteration 3800, train cost 1.1434, valid cost 1.3240\n",
      " iteration 3850, train cost 1.1397, valid cost 1.3222\n",
      " iteration 3900, train cost 1.1364, valid cost 1.3192\n",
      " iteration 3950, train cost 1.1332, valid cost 1.3173\n"
     ]
    },
    {
     "data": {
      "text/html": [
       "<br/>Waiting for W&B process to finish, PID 184256<br/>Program ended successfully."
      ],
      "text/plain": [
       "<IPython.core.display.HTML object>"
      ]
     },
     "metadata": {},
     "output_type": "display_data"
    },
    {
     "name": "stderr",
     "output_type": "stream",
     "text": [
      "Widget Javascript not detected.  It may not be installed or enabled properly.\n"
     ]
    },
    {
     "data": {
      "application/vnd.jupyter.widget-view+json": {
       "model_id": "c00810a4dd77413397955cc3cda859f0"
      }
     },
     "metadata": {},
     "output_type": "display_data"
    },
    {
     "data": {
      "text/html": [
       "Find user logs for this run at: <code>/home/sazeglio/NMAs/src/wandb/run-20210814_191104-0gy0wotu/logs/debug.log</code>"
      ],
      "text/plain": [
       "<IPython.core.display.HTML object>"
      ]
     },
     "metadata": {},
     "output_type": "display_data"
    },
    {
     "data": {
      "text/html": [
       "Find internal logs for this run at: <code>/home/sazeglio/NMAs/src/wandb/run-20210814_191104-0gy0wotu/logs/debug-internal.log</code>"
      ],
      "text/plain": [
       "<IPython.core.display.HTML object>"
      ]
     },
     "metadata": {},
     "output_type": "display_data"
    },
    {
     "data": {
      "text/html": [
       "<h3>Run summary:</h3><br/><style>\n",
       "    table.wandb td:nth-child(1) { padding: 0 10px; text-align: right }\n",
       "    </style><table class=\"wandb\">\n",
       "<tr><td>train_loss</td><td>1.13018</td></tr><tr><td>valid_loss</td><td>1.31526</td></tr><tr><td>epoch</td><td>3999</td></tr><tr><td>_runtime</td><td>283</td></tr><tr><td>_timestamp</td><td>1628961347</td></tr><tr><td>_step</td><td>3999</td></tr></table>"
      ],
      "text/plain": [
       "<IPython.core.display.HTML object>"
      ]
     },
     "metadata": {},
     "output_type": "display_data"
    },
    {
     "data": {
      "text/html": [
       "<h3>Run history:</h3><br/><style>\n",
       "    table.wandb td:nth-child(1) { padding: 0 10px; text-align: right }\n",
       "    </style><table class=\"wandb\">\n",
       "<tr><td>train_loss</td><td>█▅▅▅▄▄▄▄▃▃▃▃▃▂▂▂▂▂▂▂▂▂▂▂▂▁▁▁▁▁▁▁▁▁▁▁▁▁▁▁</td></tr><tr><td>valid_loss</td><td>█▅▅▅▄▄▄▃▃▃▃▃▂▂▂▂▂▂▂▂▂▂▂▁▁▁▁▁▁▁▁▁▁▁▁▁▁▁▁▁</td></tr><tr><td>epoch</td><td>▁▁▁▂▂▂▂▂▂▃▃▃▃▃▄▄▄▄▄▄▅▅▅▅▅▅▆▆▆▆▆▇▇▇▇▇▇███</td></tr><tr><td>_runtime</td><td>▁▁▁▂▂▂▂▂▂▃▃▃▃▃▄▄▄▄▄▄▅▅▅▅▅▆▆▆▆▆▆▇▇▇▇▇▇███</td></tr><tr><td>_timestamp</td><td>▁▁▁▂▂▂▂▂▂▃▃▃▃▃▄▄▄▄▄▄▅▅▅▅▅▆▆▆▆▆▆▇▇▇▇▇▇███</td></tr><tr><td>_step</td><td>▁▁▁▂▂▂▂▂▂▃▃▃▃▃▄▄▄▄▄▄▅▅▅▅▅▅▆▆▆▆▆▇▇▇▇▇▇███</td></tr></table><br/>"
      ],
      "text/plain": [
       "<IPython.core.display.HTML object>"
      ]
     },
     "metadata": {},
     "output_type": "display_data"
    },
    {
     "data": {
      "text/html": [
       "Synced 5 W&B file(s), 0 media file(s), 0 artifact file(s) and 0 other file(s)"
      ],
      "text/plain": [
       "<IPython.core.display.HTML object>"
      ]
     },
     "metadata": {},
     "output_type": "display_data"
    },
    {
     "data": {
      "text/html": [
       "\n",
       "                    <br/>Synced <strong style=\"color:#cdcd00\">dauntless-sweep-29</strong>: <a href=\"https://wandb.ai/sazio/NMAs-Small-Hidden-Dims/runs/0gy0wotu\" target=\"_blank\">https://wandb.ai/sazio/NMAs-Small-Hidden-Dims/runs/0gy0wotu</a><br/>\n",
       "                "
      ],
      "text/plain": [
       "<IPython.core.display.HTML object>"
      ]
     },
     "metadata": {},
     "output_type": "display_data"
    },
    {
     "name": "stderr",
     "output_type": "stream",
     "text": [
      "wandb: Agent Starting Run: jq7riucb with config:\n",
      "wandb: \tdropout: 0.5\n",
      "wandb: \tepochs: 4000\n",
      "wandb: \tlearning_rate: 0.0020283604140387055\n",
      "wandb: \tn_comp: 100\n",
      "wandb: \tnum_layers: 1\n",
      "wandb: \toptimizer: adam\n",
      "wandb: \tweight_decay: 0\n",
      "Failed to detect the name of this notebook, you can set it manually with the WANDB_NOTEBOOK_NAME environment variable to enable code saving.\n"
     ]
    },
    {
     "data": {
      "text/html": [
       "\n",
       "                Tracking run with wandb version 0.12.0<br/>\n",
       "                Syncing run <strong style=\"color:#cdcd00\">worthy-sweep-30</strong> to <a href=\"https://wandb.ai\" target=\"_blank\">Weights & Biases</a> <a href=\"https://docs.wandb.com/integrations/jupyter.html\" target=\"_blank\">(Documentation)</a>.<br/>\n",
       "                Project page: <a href=\"https://wandb.ai/sazio/NMAs-Small-Hidden-Dims\" target=\"_blank\">https://wandb.ai/sazio/NMAs-Small-Hidden-Dims</a><br/>\n",
       "                Sweep page: <a href=\"https://wandb.ai/sazio/NMAs-Small-Hidden-Dims/sweeps/38qam6fd\" target=\"_blank\">https://wandb.ai/sazio/NMAs-Small-Hidden-Dims/sweeps/38qam6fd</a><br/>\n",
       "Run page: <a href=\"https://wandb.ai/sazio/NMAs-Small-Hidden-Dims/runs/jq7riucb\" target=\"_blank\">https://wandb.ai/sazio/NMAs-Small-Hidden-Dims/runs/jq7riucb</a><br/>\n",
       "                Run data is saved locally in <code>/home/sazeglio/NMAs/src/wandb/run-20210814_191552-jq7riucb</code><br/><br/>\n",
       "            "
      ],
      "text/plain": [
       "<IPython.core.display.HTML object>"
      ]
     },
     "metadata": {},
     "output_type": "display_data"
    },
    {
     "name": "stdout",
     "output_type": "stream",
     "text": [
      " iteration 0, train cost 3.7110, valid cost 3.7845\n",
      " iteration 50, train cost 2.0800, valid cost 2.1705\n",
      " iteration 100, train cost 2.0763, valid cost 2.1694\n",
      " iteration 150, train cost 2.0698, valid cost 2.1629\n",
      " iteration 200, train cost 2.0168, valid cost 2.0960\n",
      " iteration 250, train cost 1.9961, valid cost 2.0731\n",
      " iteration 300, train cost 1.9294, valid cost 2.0155\n",
      " iteration 350, train cost 1.8937, valid cost 1.9771\n",
      " iteration 400, train cost 1.8481, valid cost 1.9350\n",
      " iteration 450, train cost 1.8123, valid cost 1.9068\n",
      " iteration 500, train cost 1.7898, valid cost 1.8951\n",
      " iteration 550, train cost 1.7671, valid cost 1.8829\n",
      " iteration 600, train cost 1.7379, valid cost 1.8573\n",
      " iteration 650, train cost 1.7082, valid cost 1.8373\n",
      " iteration 700, train cost 1.6736, valid cost 1.8137\n",
      " iteration 750, train cost 1.6380, valid cost 1.7946\n",
      " iteration 800, train cost 1.6118, valid cost 1.7840\n",
      " iteration 850, train cost 1.5936, valid cost 1.7735\n",
      " iteration 900, train cost 1.5797, valid cost 1.7721\n",
      " iteration 950, train cost 1.5686, valid cost 1.7689\n",
      " iteration 1000, train cost 1.5418, valid cost 1.7596\n",
      " iteration 1050, train cost 1.5280, valid cost 1.7571\n",
      " iteration 1100, train cost 1.5145, valid cost 1.7534\n",
      " iteration 1150, train cost 1.5017, valid cost 1.7528\n",
      " iteration 1200, train cost 1.4841, valid cost 1.7396\n",
      " iteration 1250, train cost 1.4757, valid cost 1.7417\n",
      " iteration 1300, train cost 1.4598, valid cost 1.7386\n",
      " iteration 1350, train cost 1.4490, valid cost 1.7338\n",
      " iteration 1400, train cost 1.4361, valid cost 1.7365\n",
      " iteration 1450, train cost 1.4294, valid cost 1.7329\n",
      " iteration 1500, train cost 1.4227, valid cost 1.7384\n",
      " iteration 1550, train cost 1.4040, valid cost 1.7302\n",
      " iteration 1600, train cost 1.3983, valid cost 1.7311\n",
      " iteration 1650, train cost 1.3871, valid cost 1.7310\n",
      " iteration 1700, train cost 1.3803, valid cost 1.7266\n",
      " iteration 1750, train cost 1.3690, valid cost 1.7297\n",
      " iteration 1800, train cost 1.3671, valid cost 1.7395\n",
      " iteration 1850, train cost 1.3542, valid cost 1.7296\n",
      " iteration 1900, train cost 1.3504, valid cost 1.7331\n",
      " iteration 1950, train cost 1.3435, valid cost 1.7342\n",
      " iteration 2000, train cost 1.3345, valid cost 1.7284\n",
      " iteration 2050, train cost 1.3321, valid cost 1.7228\n",
      " iteration 2100, train cost 1.3251, valid cost 1.7310\n",
      " iteration 2150, train cost 1.3169, valid cost 1.7217\n",
      " iteration 2200, train cost 1.3143, valid cost 1.7222\n",
      " iteration 2250, train cost 1.3076, valid cost 1.7230\n",
      " iteration 2300, train cost 1.2991, valid cost 1.7194\n",
      " iteration 2350, train cost 1.2971, valid cost 1.7178\n",
      " iteration 2400, train cost 1.2988, valid cost 1.7179\n",
      " iteration 2450, train cost 1.2894, valid cost 1.7148\n",
      " iteration 2500, train cost 1.2842, valid cost 1.7129\n",
      " iteration 2550, train cost 1.2787, valid cost 1.7124\n",
      " iteration 2600, train cost 1.2797, valid cost 1.7104\n",
      " iteration 2650, train cost 1.2731, valid cost 1.7138\n",
      " iteration 2700, train cost 1.2682, valid cost 1.7119\n",
      " iteration 2750, train cost 1.2686, valid cost 1.7063\n",
      " iteration 2800, train cost 1.2657, valid cost 1.7066\n",
      " iteration 2850, train cost 1.2627, valid cost 1.7081\n",
      " iteration 2900, train cost 1.2558, valid cost 1.7060\n",
      " iteration 2950, train cost 1.2522, valid cost 1.7046\n",
      " iteration 3000, train cost 1.2476, valid cost 1.7009\n",
      " iteration 3050, train cost 1.2455, valid cost 1.7067\n",
      " iteration 3100, train cost 1.2403, valid cost 1.6994\n",
      " iteration 3150, train cost 1.2428, valid cost 1.7060\n",
      " iteration 3200, train cost 1.2366, valid cost 1.7004\n",
      " iteration 3250, train cost 1.2357, valid cost 1.6954\n",
      " iteration 3300, train cost 1.2297, valid cost 1.6942\n",
      " iteration 3350, train cost 1.2293, valid cost 1.7022\n",
      " iteration 3400, train cost 1.2274, valid cost 1.6918\n",
      " iteration 3450, train cost 1.2293, valid cost 1.6892\n",
      " iteration 3500, train cost 1.2217, valid cost 1.6891\n",
      " iteration 3550, train cost 1.2199, valid cost 1.6943\n",
      " iteration 3600, train cost 1.2179, valid cost 1.6905\n",
      " iteration 3650, train cost 1.2129, valid cost 1.6864\n",
      " iteration 3700, train cost 1.2103, valid cost 1.6899\n",
      " iteration 3750, train cost 1.2090, valid cost 1.6883\n",
      " iteration 3800, train cost 1.2182, valid cost 1.6860\n",
      " iteration 3850, train cost 1.2037, valid cost 1.6829\n",
      " iteration 3900, train cost 1.2036, valid cost 1.6875\n",
      " iteration 3950, train cost 1.2013, valid cost 1.6840\n"
     ]
    },
    {
     "data": {
      "text/html": [
       "<br/>Waiting for W&B process to finish, PID 184353<br/>Program ended successfully."
      ],
      "text/plain": [
       "<IPython.core.display.HTML object>"
      ]
     },
     "metadata": {},
     "output_type": "display_data"
    },
    {
     "name": "stderr",
     "output_type": "stream",
     "text": [
      "Widget Javascript not detected.  It may not be installed or enabled properly.\n"
     ]
    },
    {
     "data": {
      "application/vnd.jupyter.widget-view+json": {
       "model_id": "252e29d1efc14f0da97c6a03e93a8442"
      }
     },
     "metadata": {},
     "output_type": "display_data"
    },
    {
     "data": {
      "text/html": [
       "Find user logs for this run at: <code>/home/sazeglio/NMAs/src/wandb/run-20210814_191552-jq7riucb/logs/debug.log</code>"
      ],
      "text/plain": [
       "<IPython.core.display.HTML object>"
      ]
     },
     "metadata": {},
     "output_type": "display_data"
    },
    {
     "data": {
      "text/html": [
       "Find internal logs for this run at: <code>/home/sazeglio/NMAs/src/wandb/run-20210814_191552-jq7riucb/logs/debug-internal.log</code>"
      ],
      "text/plain": [
       "<IPython.core.display.HTML object>"
      ]
     },
     "metadata": {},
     "output_type": "display_data"
    },
    {
     "data": {
      "text/html": [
       "<h3>Run summary:</h3><br/><style>\n",
       "    table.wandb td:nth-child(1) { padding: 0 10px; text-align: right }\n",
       "    </style><table class=\"wandb\">\n",
       "<tr><td>train_loss</td><td>1.19564</td></tr><tr><td>valid_loss</td><td>1.68401</td></tr><tr><td>epoch</td><td>3999</td></tr><tr><td>_runtime</td><td>276</td></tr><tr><td>_timestamp</td><td>1628961628</td></tr><tr><td>_step</td><td>3999</td></tr></table>"
      ],
      "text/plain": [
       "<IPython.core.display.HTML object>"
      ]
     },
     "metadata": {},
     "output_type": "display_data"
    },
    {
     "data": {
      "text/html": [
       "<h3>Run history:</h3><br/><style>\n",
       "    table.wandb td:nth-child(1) { padding: 0 10px; text-align: right }\n",
       "    </style><table class=\"wandb\">\n",
       "<tr><td>train_loss</td><td>██▇▇▆▆▅▅▄▄▄▃▃▃▃▃▃▂▂▂▂▂▂▂▂▂▂▂▁▁▁▁▁▁▁▁▁▁▁▁</td></tr><tr><td>valid_loss</td><td>██▇▅▄▄▃▃▂▂▂▂▂▂▂▂▂▂▂▂▂▂▂▂▂▁▁▁▁▁▁▁▁▁▁▁▁▁▁▁</td></tr><tr><td>epoch</td><td>▁▁▁▂▂▂▂▂▂▃▃▃▃▃▄▄▄▄▄▄▅▅▅▅▅▅▆▆▆▆▆▇▇▇▇▇▇███</td></tr><tr><td>_runtime</td><td>▁▁▁▂▂▂▂▂▂▃▃▃▃▃▄▄▄▄▄▄▅▅▅▅▅▅▆▆▆▆▆▇▇▇▇▇▇███</td></tr><tr><td>_timestamp</td><td>▁▁▁▂▂▂▂▂▂▃▃▃▃▃▄▄▄▄▄▄▅▅▅▅▅▅▆▆▆▆▆▇▇▇▇▇▇███</td></tr><tr><td>_step</td><td>▁▁▁▂▂▂▂▂▂▃▃▃▃▃▄▄▄▄▄▄▅▅▅▅▅▅▆▆▆▆▆▇▇▇▇▇▇███</td></tr></table><br/>"
      ],
      "text/plain": [
       "<IPython.core.display.HTML object>"
      ]
     },
     "metadata": {},
     "output_type": "display_data"
    },
    {
     "data": {
      "text/html": [
       "Synced 5 W&B file(s), 0 media file(s), 0 artifact file(s) and 0 other file(s)"
      ],
      "text/plain": [
       "<IPython.core.display.HTML object>"
      ]
     },
     "metadata": {},
     "output_type": "display_data"
    },
    {
     "data": {
      "text/html": [
       "\n",
       "                    <br/>Synced <strong style=\"color:#cdcd00\">worthy-sweep-30</strong>: <a href=\"https://wandb.ai/sazio/NMAs-Small-Hidden-Dims/runs/jq7riucb\" target=\"_blank\">https://wandb.ai/sazio/NMAs-Small-Hidden-Dims/runs/jq7riucb</a><br/>\n",
       "                "
      ],
      "text/plain": [
       "<IPython.core.display.HTML object>"
      ]
     },
     "metadata": {},
     "output_type": "display_data"
    },
    {
     "name": "stderr",
     "output_type": "stream",
     "text": [
      "wandb: Agent Starting Run: zogqpvw9 with config:\n",
      "wandb: \tdropout: 0.5\n",
      "wandb: \tepochs: 4000\n",
      "wandb: \tlearning_rate: 0.0003740131806377295\n",
      "wandb: \tn_comp: 150\n",
      "wandb: \tnum_layers: 1\n",
      "wandb: \toptimizer: adam\n",
      "wandb: \tweight_decay: 1e-06\n",
      "Failed to detect the name of this notebook, you can set it manually with the WANDB_NOTEBOOK_NAME environment variable to enable code saving.\n"
     ]
    },
    {
     "data": {
      "text/html": [
       "\n",
       "                Tracking run with wandb version 0.12.0<br/>\n",
       "                Syncing run <strong style=\"color:#cdcd00\">lively-sweep-31</strong> to <a href=\"https://wandb.ai\" target=\"_blank\">Weights & Biases</a> <a href=\"https://docs.wandb.com/integrations/jupyter.html\" target=\"_blank\">(Documentation)</a>.<br/>\n",
       "                Project page: <a href=\"https://wandb.ai/sazio/NMAs-Small-Hidden-Dims\" target=\"_blank\">https://wandb.ai/sazio/NMAs-Small-Hidden-Dims</a><br/>\n",
       "                Sweep page: <a href=\"https://wandb.ai/sazio/NMAs-Small-Hidden-Dims/sweeps/38qam6fd\" target=\"_blank\">https://wandb.ai/sazio/NMAs-Small-Hidden-Dims/sweeps/38qam6fd</a><br/>\n",
       "Run page: <a href=\"https://wandb.ai/sazio/NMAs-Small-Hidden-Dims/runs/zogqpvw9\" target=\"_blank\">https://wandb.ai/sazio/NMAs-Small-Hidden-Dims/runs/zogqpvw9</a><br/>\n",
       "                Run data is saved locally in <code>/home/sazeglio/NMAs/src/wandb/run-20210814_192033-zogqpvw9</code><br/><br/>\n",
       "            "
      ],
      "text/plain": [
       "<IPython.core.display.HTML object>"
      ]
     },
     "metadata": {},
     "output_type": "display_data"
    },
    {
     "name": "stdout",
     "output_type": "stream",
     "text": [
      " iteration 0, train cost 3.6976, valid cost 3.7945\n",
      " iteration 50, train cost 2.1641, valid cost 2.2447\n",
      " iteration 100, train cost 2.0849, valid cost 2.1688\n",
      " iteration 150, train cost 2.0788, valid cost 2.1655\n",
      " iteration 200, train cost 2.0741, valid cost 2.1624\n",
      " iteration 250, train cost 2.0644, valid cost 2.1528\n",
      " iteration 300, train cost 2.0184, valid cost 2.1028\n",
      " iteration 350, train cost 1.9381, valid cost 2.0203\n",
      " iteration 400, train cost 1.9009, valid cost 1.9816\n",
      " iteration 450, train cost 1.8735, valid cost 1.9530\n",
      " iteration 500, train cost 1.8498, valid cost 1.9308\n",
      " iteration 550, train cost 1.8011, valid cost 1.8874\n",
      " iteration 600, train cost 1.7498, valid cost 1.8469\n",
      " iteration 650, train cost 1.7199, valid cost 1.8271\n",
      " iteration 700, train cost 1.6966, valid cost 1.8094\n",
      " iteration 750, train cost 1.6710, valid cost 1.7885\n",
      " iteration 800, train cost 1.6431, valid cost 1.7656\n",
      " iteration 850, train cost 1.6186, valid cost 1.7453\n",
      " iteration 900, train cost 1.5949, valid cost 1.7279\n",
      " iteration 950, train cost 1.5730, valid cost 1.7106\n",
      " iteration 1000, train cost 1.5526, valid cost 1.6930\n",
      " iteration 1050, train cost 1.5315, valid cost 1.6748\n",
      " iteration 1100, train cost 1.5116, valid cost 1.6582\n",
      " iteration 1150, train cost 1.4931, valid cost 1.6434\n",
      " iteration 1200, train cost 1.4765, valid cost 1.6290\n",
      " iteration 1250, train cost 1.4596, valid cost 1.6138\n",
      " iteration 1300, train cost 1.4435, valid cost 1.5982\n",
      " iteration 1350, train cost 1.4256, valid cost 1.5820\n",
      " iteration 1400, train cost 1.4083, valid cost 1.5651\n",
      " iteration 1450, train cost 1.3934, valid cost 1.5500\n",
      " iteration 1500, train cost 1.3773, valid cost 1.5351\n",
      " iteration 1550, train cost 1.3647, valid cost 1.5224\n",
      " iteration 1600, train cost 1.3498, valid cost 1.5100\n",
      " iteration 1650, train cost 1.3377, valid cost 1.4995\n",
      " iteration 1700, train cost 1.3252, valid cost 1.4894\n",
      " iteration 1750, train cost 1.3147, valid cost 1.4804\n",
      " iteration 1800, train cost 1.3025, valid cost 1.4716\n",
      " iteration 1850, train cost 1.2917, valid cost 1.4630\n",
      " iteration 1900, train cost 1.2808, valid cost 1.4554\n",
      " iteration 1950, train cost 1.2704, valid cost 1.4474\n",
      " iteration 2000, train cost 1.2621, valid cost 1.4402\n",
      " iteration 2050, train cost 1.2520, valid cost 1.4328\n",
      " iteration 2100, train cost 1.2422, valid cost 1.4260\n",
      " iteration 2150, train cost 1.2349, valid cost 1.4192\n",
      " iteration 2200, train cost 1.2253, valid cost 1.4119\n",
      " iteration 2250, train cost 1.2165, valid cost 1.4046\n",
      " iteration 2300, train cost 1.2101, valid cost 1.3979\n",
      " iteration 2350, train cost 1.2004, valid cost 1.3915\n",
      " iteration 2400, train cost 1.1942, valid cost 1.3859\n",
      " iteration 2450, train cost 1.1850, valid cost 1.3797\n",
      " iteration 2500, train cost 1.1795, valid cost 1.3741\n",
      " iteration 2550, train cost 1.1731, valid cost 1.3688\n",
      " iteration 2600, train cost 1.1667, valid cost 1.3634\n",
      " iteration 2650, train cost 1.1589, valid cost 1.3579\n",
      " iteration 2700, train cost 1.1545, valid cost 1.3533\n",
      " iteration 2750, train cost 1.1462, valid cost 1.3486\n",
      " iteration 2800, train cost 1.1422, valid cost 1.3440\n",
      " iteration 2850, train cost 1.1385, valid cost 1.3396\n",
      " iteration 2900, train cost 1.1329, valid cost 1.3352\n",
      " iteration 2950, train cost 1.1280, valid cost 1.3326\n",
      " iteration 3000, train cost 1.1218, valid cost 1.3291\n",
      " iteration 3050, train cost 1.1178, valid cost 1.3255\n",
      " iteration 3100, train cost 1.1129, valid cost 1.3220\n",
      " iteration 3150, train cost 1.1108, valid cost 1.3186\n",
      " iteration 3200, train cost 1.1050, valid cost 1.3149\n",
      " iteration 3250, train cost 1.1005, valid cost 1.3120\n",
      " iteration 3300, train cost 1.0974, valid cost 1.3098\n",
      " iteration 3350, train cost 1.0915, valid cost 1.3070\n",
      " iteration 3400, train cost 1.0904, valid cost 1.3046\n",
      " iteration 3450, train cost 1.0858, valid cost 1.3011\n",
      " iteration 3500, train cost 1.0821, valid cost 1.2984\n",
      " iteration 3550, train cost 1.0790, valid cost 1.2967\n",
      " iteration 3600, train cost 1.0737, valid cost 1.2943\n",
      " iteration 3650, train cost 1.0719, valid cost 1.2936\n",
      " iteration 3700, train cost 1.0673, valid cost 1.2902\n",
      " iteration 3750, train cost 1.0649, valid cost 1.2896\n",
      " iteration 3800, train cost 1.0617, valid cost 1.2867\n",
      " iteration 3850, train cost 1.0575, valid cost 1.2848\n",
      " iteration 3900, train cost 1.0559, valid cost 1.2837\n",
      " iteration 3950, train cost 1.0527, valid cost 1.2811\n"
     ]
    },
    {
     "data": {
      "text/html": [
       "<br/>Waiting for W&B process to finish, PID 184447<br/>Program ended successfully."
      ],
      "text/plain": [
       "<IPython.core.display.HTML object>"
      ]
     },
     "metadata": {},
     "output_type": "display_data"
    },
    {
     "name": "stderr",
     "output_type": "stream",
     "text": [
      "Widget Javascript not detected.  It may not be installed or enabled properly.\n"
     ]
    },
    {
     "data": {
      "application/vnd.jupyter.widget-view+json": {
       "model_id": "b15e42b1aefe46bfbfe54301ad6e4233"
      }
     },
     "metadata": {},
     "output_type": "display_data"
    },
    {
     "data": {
      "text/html": [
       "Find user logs for this run at: <code>/home/sazeglio/NMAs/src/wandb/run-20210814_192033-zogqpvw9/logs/debug.log</code>"
      ],
      "text/plain": [
       "<IPython.core.display.HTML object>"
      ]
     },
     "metadata": {},
     "output_type": "display_data"
    },
    {
     "data": {
      "text/html": [
       "Find internal logs for this run at: <code>/home/sazeglio/NMAs/src/wandb/run-20210814_192033-zogqpvw9/logs/debug-internal.log</code>"
      ],
      "text/plain": [
       "<IPython.core.display.HTML object>"
      ]
     },
     "metadata": {},
     "output_type": "display_data"
    },
    {
     "data": {
      "text/html": [
       "<h3>Run summary:</h3><br/><style>\n",
       "    table.wandb td:nth-child(1) { padding: 0 10px; text-align: right }\n",
       "    </style><table class=\"wandb\">\n",
       "<tr><td>train_loss</td><td>1.05052</td></tr><tr><td>valid_loss</td><td>1.27916</td></tr><tr><td>epoch</td><td>3999</td></tr><tr><td>_runtime</td><td>277</td></tr><tr><td>_timestamp</td><td>1628961910</td></tr><tr><td>_step</td><td>3999</td></tr></table>"
      ],
      "text/plain": [
       "<IPython.core.display.HTML object>"
      ]
     },
     "metadata": {},
     "output_type": "display_data"
    },
    {
     "data": {
      "text/html": [
       "<h3>Run history:</h3><br/><style>\n",
       "    table.wandb td:nth-child(1) { padding: 0 10px; text-align: right }\n",
       "    </style><table class=\"wandb\">\n",
       "<tr><td>train_loss</td><td>█▆▆▅▅▅▄▄▄▄▃▃▃▃▃▃▂▂▂▂▂▂▂▂▂▂▂▁▁▁▁▁▁▁▁▁▁▁▁▁</td></tr><tr><td>valid_loss</td><td>█▆▆▅▅▄▄▄▄▃▃▃▃▃▂▂▂▂▂▂▂▂▂▂▂▁▁▁▁▁▁▁▁▁▁▁▁▁▁▁</td></tr><tr><td>epoch</td><td>▁▁▁▂▂▂▂▂▂▃▃▃▃▃▄▄▄▄▄▄▅▅▅▅▅▅▆▆▆▆▆▇▇▇▇▇▇███</td></tr><tr><td>_runtime</td><td>▁▁▁▂▂▂▂▂▂▃▃▃▃▃▃▄▄▄▄▄▅▅▅▅▅▅▆▆▆▆▆▇▇▇▇▇▇███</td></tr><tr><td>_timestamp</td><td>▁▁▁▂▂▂▂▂▂▃▃▃▃▃▃▄▄▄▄▄▅▅▅▅▅▅▆▆▆▆▆▇▇▇▇▇▇███</td></tr><tr><td>_step</td><td>▁▁▁▂▂▂▂▂▂▃▃▃▃▃▄▄▄▄▄▄▅▅▅▅▅▅▆▆▆▆▆▇▇▇▇▇▇███</td></tr></table><br/>"
      ],
      "text/plain": [
       "<IPython.core.display.HTML object>"
      ]
     },
     "metadata": {},
     "output_type": "display_data"
    },
    {
     "data": {
      "text/html": [
       "Synced 5 W&B file(s), 0 media file(s), 0 artifact file(s) and 0 other file(s)"
      ],
      "text/plain": [
       "<IPython.core.display.HTML object>"
      ]
     },
     "metadata": {},
     "output_type": "display_data"
    },
    {
     "data": {
      "text/html": [
       "\n",
       "                    <br/>Synced <strong style=\"color:#cdcd00\">lively-sweep-31</strong>: <a href=\"https://wandb.ai/sazio/NMAs-Small-Hidden-Dims/runs/zogqpvw9\" target=\"_blank\">https://wandb.ai/sazio/NMAs-Small-Hidden-Dims/runs/zogqpvw9</a><br/>\n",
       "                "
      ],
      "text/plain": [
       "<IPython.core.display.HTML object>"
      ]
     },
     "metadata": {},
     "output_type": "display_data"
    },
    {
     "name": "stderr",
     "output_type": "stream",
     "text": [
      "wandb: Agent Starting Run: vywv28h9 with config:\n",
      "wandb: \tdropout: 0.2\n",
      "wandb: \tepochs: 4000\n",
      "wandb: \tlearning_rate: 0.0045338455864318665\n",
      "wandb: \tn_comp: 75\n",
      "wandb: \tnum_layers: 1\n",
      "wandb: \toptimizer: adam\n",
      "wandb: \tweight_decay: 0\n",
      "Failed to detect the name of this notebook, you can set it manually with the WANDB_NOTEBOOK_NAME environment variable to enable code saving.\n"
     ]
    },
    {
     "data": {
      "text/html": [
       "\n",
       "                Tracking run with wandb version 0.12.0<br/>\n",
       "                Syncing run <strong style=\"color:#cdcd00\">peachy-sweep-32</strong> to <a href=\"https://wandb.ai\" target=\"_blank\">Weights & Biases</a> <a href=\"https://docs.wandb.com/integrations/jupyter.html\" target=\"_blank\">(Documentation)</a>.<br/>\n",
       "                Project page: <a href=\"https://wandb.ai/sazio/NMAs-Small-Hidden-Dims\" target=\"_blank\">https://wandb.ai/sazio/NMAs-Small-Hidden-Dims</a><br/>\n",
       "                Sweep page: <a href=\"https://wandb.ai/sazio/NMAs-Small-Hidden-Dims/sweeps/38qam6fd\" target=\"_blank\">https://wandb.ai/sazio/NMAs-Small-Hidden-Dims/sweeps/38qam6fd</a><br/>\n",
       "Run page: <a href=\"https://wandb.ai/sazio/NMAs-Small-Hidden-Dims/runs/vywv28h9\" target=\"_blank\">https://wandb.ai/sazio/NMAs-Small-Hidden-Dims/runs/vywv28h9</a><br/>\n",
       "                Run data is saved locally in <code>/home/sazeglio/NMAs/src/wandb/run-20210814_192515-vywv28h9</code><br/><br/>\n",
       "            "
      ],
      "text/plain": [
       "<IPython.core.display.HTML object>"
      ]
     },
     "metadata": {},
     "output_type": "display_data"
    },
    {
     "name": "stdout",
     "output_type": "stream",
     "text": [
      " iteration 0, train cost 3.7040, valid cost 3.7437\n",
      " iteration 50, train cost 2.0772, valid cost 2.1712\n",
      " iteration 100, train cost 2.0751, valid cost 2.1702\n",
      " iteration 150, train cost 2.0736, valid cost 2.1694\n",
      " iteration 200, train cost 2.0671, valid cost 2.1625\n",
      " iteration 250, train cost 2.1736, valid cost 2.2725\n",
      " iteration 300, train cost 2.0791, valid cost 2.1599\n",
      " iteration 350, train cost 2.0108, valid cost 2.0949\n",
      " iteration 400, train cost 1.9996, valid cost 2.0861\n",
      " iteration 450, train cost 1.9831, valid cost 2.0728\n",
      " iteration 500, train cost 1.9850, valid cost 2.0786\n",
      " iteration 550, train cost 1.9500, valid cost 2.0508\n",
      " iteration 600, train cost 1.9389, valid cost 2.0433\n",
      " iteration 650, train cost 1.9275, valid cost 2.0261\n",
      " iteration 700, train cost 1.9210, valid cost 2.0184\n",
      " iteration 750, train cost 1.9082, valid cost 2.0141\n",
      " iteration 800, train cost 1.9064, valid cost 2.0223\n",
      " iteration 850, train cost 1.8672, valid cost 1.9874\n",
      " iteration 900, train cost 1.8349, valid cost 1.9690\n",
      " iteration 950, train cost 1.8268, valid cost 1.9597\n",
      " iteration 1000, train cost 1.8133, valid cost 1.9612\n",
      " iteration 1050, train cost 1.8106, valid cost 1.9538\n",
      " iteration 1100, train cost 1.7828, valid cost 1.9376\n",
      " iteration 1150, train cost 1.7770, valid cost 1.9423\n",
      " iteration 1200, train cost 1.7553, valid cost 1.9268\n",
      " iteration 1250, train cost 1.7309, valid cost 1.9154\n",
      " iteration 1300, train cost 1.7374, valid cost 1.9144\n",
      " iteration 1350, train cost 1.7090, valid cost 1.9090\n",
      " iteration 1400, train cost 1.6908, valid cost 1.9107\n",
      " iteration 1450, train cost 1.6719, valid cost 1.9047\n",
      " iteration 1500, train cost 1.6707, valid cost 1.9086\n",
      " iteration 1550, train cost 1.6583, valid cost 1.9079\n",
      " iteration 1600, train cost 1.6553, valid cost 1.9150\n",
      " iteration 1650, train cost 1.6315, valid cost 1.9119\n",
      " iteration 1700, train cost 1.6271, valid cost 1.9212\n",
      " iteration 1750, train cost 1.6180, valid cost 1.9409\n",
      " iteration 1800, train cost 1.6170, valid cost 1.9247\n",
      " iteration 1850, train cost 1.5990, valid cost 1.9351\n",
      " iteration 1900, train cost 1.5941, valid cost 1.9272\n",
      " iteration 1950, train cost 1.5839, valid cost 1.9377\n",
      " iteration 2000, train cost 1.5915, valid cost 1.9367\n",
      " iteration 2050, train cost 1.5800, valid cost 1.9421\n",
      " iteration 2100, train cost 1.5696, valid cost 1.9427\n",
      " iteration 2150, train cost 1.5767, valid cost 1.9523\n",
      " iteration 2200, train cost 1.5582, valid cost 1.9505\n",
      " iteration 2250, train cost 1.5597, valid cost 1.9549\n",
      " iteration 2300, train cost 1.5495, valid cost 1.9507\n",
      " iteration 2350, train cost 1.5463, valid cost 1.9520\n",
      " iteration 2400, train cost 1.5550, valid cost 1.9606\n",
      " iteration 2450, train cost 1.5342, valid cost 1.9598\n",
      " iteration 2500, train cost 1.5291, valid cost 1.9644\n",
      " iteration 2550, train cost 1.5232, valid cost 1.9619\n",
      " iteration 2600, train cost 1.5464, valid cost 1.9762\n",
      " iteration 2650, train cost 1.5526, valid cost 1.9762\n",
      " iteration 2700, train cost 1.5343, valid cost 1.9673\n",
      " iteration 2750, train cost 1.5278, valid cost 1.9851\n",
      " iteration 2800, train cost 1.5095, valid cost 1.9885\n",
      " iteration 2850, train cost 1.5053, valid cost 1.9803\n",
      " iteration 2900, train cost 1.5107, valid cost 1.9848\n",
      " iteration 2950, train cost 1.5099, valid cost 1.9829\n",
      " iteration 3000, train cost 1.4920, valid cost 1.9895\n",
      " iteration 3050, train cost 1.5015, valid cost 1.9978\n",
      " iteration 3100, train cost 1.5071, valid cost 1.9948\n",
      " iteration 3150, train cost 1.4903, valid cost 1.9999\n",
      " iteration 3200, train cost 1.4913, valid cost 2.0043\n",
      " iteration 3250, train cost 1.4843, valid cost 1.9993\n",
      " iteration 3300, train cost 1.4880, valid cost 2.0022\n",
      " iteration 3350, train cost 1.4937, valid cost 2.0086\n",
      " iteration 3400, train cost 1.4779, valid cost 2.0100\n",
      " iteration 3450, train cost 1.4786, valid cost 2.0122\n",
      " iteration 3500, train cost 1.4975, valid cost 2.0161\n",
      " iteration 3550, train cost 1.4782, valid cost 2.0117\n",
      " iteration 3600, train cost 1.4805, valid cost 2.0169\n",
      " iteration 3650, train cost 1.4708, valid cost 2.0109\n",
      " iteration 3700, train cost 1.4759, valid cost 2.0192\n",
      " iteration 3750, train cost 1.4637, valid cost 2.0177\n",
      " iteration 3800, train cost 1.4605, valid cost 2.0183\n",
      " iteration 3850, train cost 1.4553, valid cost 2.0182\n",
      " iteration 3900, train cost 1.4538, valid cost 2.0211\n",
      " iteration 3950, train cost 1.4533, valid cost 2.0233\n"
     ]
    },
    {
     "data": {
      "text/html": [
       "<br/>Waiting for W&B process to finish, PID 184533<br/>Program ended successfully."
      ],
      "text/plain": [
       "<IPython.core.display.HTML object>"
      ]
     },
     "metadata": {},
     "output_type": "display_data"
    },
    {
     "name": "stderr",
     "output_type": "stream",
     "text": [
      "Widget Javascript not detected.  It may not be installed or enabled properly.\n"
     ]
    },
    {
     "data": {
      "application/vnd.jupyter.widget-view+json": {
       "model_id": "ef35b52addc84ee080b351663ee91234"
      }
     },
     "metadata": {},
     "output_type": "display_data"
    },
    {
     "data": {
      "text/html": [
       "Find user logs for this run at: <code>/home/sazeglio/NMAs/src/wandb/run-20210814_192515-vywv28h9/logs/debug.log</code>"
      ],
      "text/plain": [
       "<IPython.core.display.HTML object>"
      ]
     },
     "metadata": {},
     "output_type": "display_data"
    },
    {
     "data": {
      "text/html": [
       "Find internal logs for this run at: <code>/home/sazeglio/NMAs/src/wandb/run-20210814_192515-vywv28h9/logs/debug-internal.log</code>"
      ],
      "text/plain": [
       "<IPython.core.display.HTML object>"
      ]
     },
     "metadata": {},
     "output_type": "display_data"
    },
    {
     "data": {
      "text/html": [
       "<h3>Run summary:</h3><br/><style>\n",
       "    table.wandb td:nth-child(1) { padding: 0 10px; text-align: right }\n",
       "    </style><table class=\"wandb\">\n",
       "<tr><td>train_loss</td><td>1.46197</td></tr><tr><td>valid_loss</td><td>2.03138</td></tr><tr><td>epoch</td><td>3999</td></tr><tr><td>_runtime</td><td>278</td></tr><tr><td>_timestamp</td><td>1628962193</td></tr><tr><td>_step</td><td>3999</td></tr></table>"
      ],
      "text/plain": [
       "<IPython.core.display.HTML object>"
      ]
     },
     "metadata": {},
     "output_type": "display_data"
    },
    {
     "data": {
      "text/html": [
       "<h3>Run history:</h3><br/><style>\n",
       "    table.wandb td:nth-child(1) { padding: 0 10px; text-align: right }\n",
       "    </style><table class=\"wandb\">\n",
       "<tr><td>train_loss</td><td>███▇▇▇▆▆▆▅▅▅▄▄▃▃▃▃▃▃▂▂▂▂▂▂▂▂▂▂▂▂▁▁▁▁▁▁▁▁</td></tr><tr><td>valid_loss</td><td>██▇▆▆▅▄▄▃▂▂▂▁▁▁▁▁▂▂▂▂▂▂▂▃▃▃▃▃▃▃▄▃▃▄▄▄▄▄▄</td></tr><tr><td>epoch</td><td>▁▁▁▂▂▂▂▂▂▃▃▃▃▃▄▄▄▄▄▄▅▅▅▅▅▅▆▆▆▆▆▇▇▇▇▇▇███</td></tr><tr><td>_runtime</td><td>▁▁▁▂▂▂▂▂▂▃▃▃▃▃▄▄▄▄▄▄▅▅▅▅▅▅▆▆▆▆▆▇▇▇▇▇▇███</td></tr><tr><td>_timestamp</td><td>▁▁▁▂▂▂▂▂▂▃▃▃▃▃▄▄▄▄▄▄▅▅▅▅▅▅▆▆▆▆▆▇▇▇▇▇▇███</td></tr><tr><td>_step</td><td>▁▁▁▂▂▂▂▂▂▃▃▃▃▃▄▄▄▄▄▄▅▅▅▅▅▅▆▆▆▆▆▇▇▇▇▇▇███</td></tr></table><br/>"
      ],
      "text/plain": [
       "<IPython.core.display.HTML object>"
      ]
     },
     "metadata": {},
     "output_type": "display_data"
    },
    {
     "data": {
      "text/html": [
       "Synced 5 W&B file(s), 0 media file(s), 0 artifact file(s) and 0 other file(s)"
      ],
      "text/plain": [
       "<IPython.core.display.HTML object>"
      ]
     },
     "metadata": {},
     "output_type": "display_data"
    },
    {
     "data": {
      "text/html": [
       "\n",
       "                    <br/>Synced <strong style=\"color:#cdcd00\">peachy-sweep-32</strong>: <a href=\"https://wandb.ai/sazio/NMAs-Small-Hidden-Dims/runs/vywv28h9\" target=\"_blank\">https://wandb.ai/sazio/NMAs-Small-Hidden-Dims/runs/vywv28h9</a><br/>\n",
       "                "
      ],
      "text/plain": [
       "<IPython.core.display.HTML object>"
      ]
     },
     "metadata": {},
     "output_type": "display_data"
    },
    {
     "name": "stderr",
     "output_type": "stream",
     "text": [
      "wandb: Agent Starting Run: 4biy8xgq with config:\n",
      "wandb: \tdropout: 0.2\n",
      "wandb: \tepochs: 4000\n",
      "wandb: \tlearning_rate: 0.00018496211451973635\n",
      "wandb: \tn_comp: 50\n",
      "wandb: \tnum_layers: 1\n",
      "wandb: \toptimizer: adam\n",
      "wandb: \tweight_decay: 5e-05\n",
      "Failed to detect the name of this notebook, you can set it manually with the WANDB_NOTEBOOK_NAME environment variable to enable code saving.\n"
     ]
    },
    {
     "data": {
      "text/html": [
       "\n",
       "                Tracking run with wandb version 0.12.0<br/>\n",
       "                Syncing run <strong style=\"color:#cdcd00\">cool-sweep-33</strong> to <a href=\"https://wandb.ai\" target=\"_blank\">Weights & Biases</a> <a href=\"https://docs.wandb.com/integrations/jupyter.html\" target=\"_blank\">(Documentation)</a>.<br/>\n",
       "                Project page: <a href=\"https://wandb.ai/sazio/NMAs-Small-Hidden-Dims\" target=\"_blank\">https://wandb.ai/sazio/NMAs-Small-Hidden-Dims</a><br/>\n",
       "                Sweep page: <a href=\"https://wandb.ai/sazio/NMAs-Small-Hidden-Dims/sweeps/38qam6fd\" target=\"_blank\">https://wandb.ai/sazio/NMAs-Small-Hidden-Dims/sweeps/38qam6fd</a><br/>\n",
       "Run page: <a href=\"https://wandb.ai/sazio/NMAs-Small-Hidden-Dims/runs/4biy8xgq\" target=\"_blank\">https://wandb.ai/sazio/NMAs-Small-Hidden-Dims/runs/4biy8xgq</a><br/>\n",
       "                Run data is saved locally in <code>/home/sazeglio/NMAs/src/wandb/run-20210814_192958-4biy8xgq</code><br/><br/>\n",
       "            "
      ],
      "text/plain": [
       "<IPython.core.display.HTML object>"
      ]
     },
     "metadata": {},
     "output_type": "display_data"
    },
    {
     "name": "stdout",
     "output_type": "stream",
     "text": [
      " iteration 0, train cost 3.6997, valid cost 3.7973\n",
      " iteration 50, train cost 2.5585, valid cost 2.6186\n",
      " iteration 100, train cost 2.1143, valid cost 2.1930\n",
      " iteration 150, train cost 2.0866, valid cost 2.1677\n",
      " iteration 200, train cost 2.0811, valid cost 2.1650\n",
      " iteration 250, train cost 2.0776, valid cost 2.1634\n",
      " iteration 300, train cost 2.0739, valid cost 2.1611\n",
      " iteration 350, train cost 2.0679, valid cost 2.1555\n",
      " iteration 400, train cost 2.0536, valid cost 2.1404\n",
      " iteration 450, train cost 2.0180, valid cost 2.1002\n",
      " iteration 500, train cost 1.9681, valid cost 2.0437\n",
      " iteration 550, train cost 1.9146, valid cost 1.9866\n",
      " iteration 600, train cost 1.8724, valid cost 1.9459\n",
      " iteration 650, train cost 1.8381, valid cost 1.9119\n",
      " iteration 700, train cost 1.8092, valid cost 1.8838\n",
      " iteration 750, train cost 1.7861, valid cost 1.8634\n",
      " iteration 800, train cost 1.7597, valid cost 1.8426\n",
      " iteration 850, train cost 1.7296, valid cost 1.8174\n",
      " iteration 900, train cost 1.6999, valid cost 1.7936\n",
      " iteration 950, train cost 1.6740, valid cost 1.7710\n",
      " iteration 1000, train cost 1.6502, valid cost 1.7495\n",
      " iteration 1050, train cost 1.6302, valid cost 1.7316\n",
      " iteration 1100, train cost 1.6114, valid cost 1.7165\n",
      " iteration 1150, train cost 1.5948, valid cost 1.7019\n",
      " iteration 1200, train cost 1.5775, valid cost 1.6871\n",
      " iteration 1250, train cost 1.5620, valid cost 1.6721\n",
      " iteration 1300, train cost 1.5461, valid cost 1.6572\n",
      " iteration 1350, train cost 1.5305, valid cost 1.6421\n",
      " iteration 1400, train cost 1.5157, valid cost 1.6272\n",
      " iteration 1450, train cost 1.5019, valid cost 1.6123\n",
      " iteration 1500, train cost 1.4874, valid cost 1.5989\n",
      " iteration 1550, train cost 1.4742, valid cost 1.5856\n",
      " iteration 1600, train cost 1.4622, valid cost 1.5725\n",
      " iteration 1650, train cost 1.4496, valid cost 1.5610\n",
      " iteration 1700, train cost 1.4385, valid cost 1.5486\n",
      " iteration 1750, train cost 1.4275, valid cost 1.5382\n",
      " iteration 1800, train cost 1.4179, valid cost 1.5288\n",
      " iteration 1850, train cost 1.4072, valid cost 1.5200\n",
      " iteration 1900, train cost 1.3981, valid cost 1.5123\n",
      " iteration 1950, train cost 1.3900, valid cost 1.5047\n",
      " iteration 2000, train cost 1.3824, valid cost 1.4976\n",
      " iteration 2050, train cost 1.3729, valid cost 1.4908\n",
      " iteration 2100, train cost 1.3648, valid cost 1.4833\n",
      " iteration 2150, train cost 1.3574, valid cost 1.4770\n",
      " iteration 2200, train cost 1.3519, valid cost 1.4706\n",
      " iteration 2250, train cost 1.3441, valid cost 1.4652\n",
      " iteration 2300, train cost 1.3369, valid cost 1.4592\n",
      " iteration 2350, train cost 1.3305, valid cost 1.4535\n",
      " iteration 2400, train cost 1.3247, valid cost 1.4488\n",
      " iteration 2450, train cost 1.3186, valid cost 1.4442\n",
      " iteration 2500, train cost 1.3132, valid cost 1.4398\n",
      " iteration 2550, train cost 1.3085, valid cost 1.4352\n",
      " iteration 2600, train cost 1.3038, valid cost 1.4309\n",
      " iteration 2650, train cost 1.2977, valid cost 1.4266\n",
      " iteration 2700, train cost 1.2934, valid cost 1.4225\n",
      " iteration 2750, train cost 1.2878, valid cost 1.4183\n",
      " iteration 2800, train cost 1.2845, valid cost 1.4147\n",
      " iteration 2850, train cost 1.2798, valid cost 1.4114\n",
      " iteration 2900, train cost 1.2750, valid cost 1.4076\n",
      " iteration 2950, train cost 1.2702, valid cost 1.4050\n",
      " iteration 3000, train cost 1.2675, valid cost 1.4019\n",
      " iteration 3050, train cost 1.2621, valid cost 1.3981\n",
      " iteration 3100, train cost 1.2590, valid cost 1.3949\n",
      " iteration 3150, train cost 1.2549, valid cost 1.3913\n",
      " iteration 3200, train cost 1.2508, valid cost 1.3886\n",
      " iteration 3250, train cost 1.2456, valid cost 1.3846\n",
      " iteration 3300, train cost 1.2413, valid cost 1.3826\n",
      " iteration 3350, train cost 1.2393, valid cost 1.3800\n",
      " iteration 3400, train cost 1.2366, valid cost 1.3774\n",
      " iteration 3450, train cost 1.2316, valid cost 1.3758\n",
      " iteration 3500, train cost 1.2278, valid cost 1.3732\n",
      " iteration 3550, train cost 1.2261, valid cost 1.3714\n",
      " iteration 3600, train cost 1.2226, valid cost 1.3686\n",
      " iteration 3650, train cost 1.2205, valid cost 1.3668\n",
      " iteration 3700, train cost 1.2170, valid cost 1.3650\n",
      " iteration 3750, train cost 1.2132, valid cost 1.3626\n",
      " iteration 3800, train cost 1.2122, valid cost 1.3605\n",
      " iteration 3850, train cost 1.2068, valid cost 1.3575\n",
      " iteration 3900, train cost 1.2034, valid cost 1.3553\n",
      " iteration 3950, train cost 1.2011, valid cost 1.3526\n"
     ]
    },
    {
     "data": {
      "text/html": [
       "<br/>Waiting for W&B process to finish, PID 184622<br/>Program ended successfully."
      ],
      "text/plain": [
       "<IPython.core.display.HTML object>"
      ]
     },
     "metadata": {},
     "output_type": "display_data"
    },
    {
     "name": "stderr",
     "output_type": "stream",
     "text": [
      "Widget Javascript not detected.  It may not be installed or enabled properly.\n"
     ]
    },
    {
     "data": {
      "application/vnd.jupyter.widget-view+json": {
       "model_id": "4ba34136877747728cab38eb37611620"
      }
     },
     "metadata": {},
     "output_type": "display_data"
    },
    {
     "data": {
      "text/html": [
       "Find user logs for this run at: <code>/home/sazeglio/NMAs/src/wandb/run-20210814_192958-4biy8xgq/logs/debug.log</code>"
      ],
      "text/plain": [
       "<IPython.core.display.HTML object>"
      ]
     },
     "metadata": {},
     "output_type": "display_data"
    },
    {
     "data": {
      "text/html": [
       "Find internal logs for this run at: <code>/home/sazeglio/NMAs/src/wandb/run-20210814_192958-4biy8xgq/logs/debug-internal.log</code>"
      ],
      "text/plain": [
       "<IPython.core.display.HTML object>"
      ]
     },
     "metadata": {},
     "output_type": "display_data"
    },
    {
     "data": {
      "text/html": [
       "<h3>Run summary:</h3><br/><style>\n",
       "    table.wandb td:nth-child(1) { padding: 0 10px; text-align: right }\n",
       "    </style><table class=\"wandb\">\n",
       "<tr><td>train_loss</td><td>1.19744</td></tr><tr><td>valid_loss</td><td>1.34959</td></tr><tr><td>epoch</td><td>3999</td></tr><tr><td>_runtime</td><td>281</td></tr><tr><td>_timestamp</td><td>1628962479</td></tr><tr><td>_step</td><td>3999</td></tr></table>"
      ],
      "text/plain": [
       "<IPython.core.display.HTML object>"
      ]
     },
     "metadata": {},
     "output_type": "display_data"
    },
    {
     "data": {
      "text/html": [
       "<h3>Run history:</h3><br/><style>\n",
       "    table.wandb td:nth-child(1) { padding: 0 10px; text-align: right }\n",
       "    </style><table class=\"wandb\">\n",
       "<tr><td>train_loss</td><td>█▄▄▄▄▄▃▃▃▃▃▂▂▂▂▂▂▂▂▂▂▂▂▁▁▁▁▁▁▁▁▁▁▁▁▁▁▁▁▁</td></tr><tr><td>valid_loss</td><td>█▄▄▄▄▄▃▃▃▃▂▂▂▂▂▂▂▂▂▂▂▁▁▁▁▁▁▁▁▁▁▁▁▁▁▁▁▁▁▁</td></tr><tr><td>epoch</td><td>▁▁▁▂▂▂▂▂▂▃▃▃▃▃▄▄▄▄▄▄▅▅▅▅▅▅▆▆▆▆▆▇▇▇▇▇▇███</td></tr><tr><td>_runtime</td><td>▁▁▁▂▂▂▂▂▂▃▃▃▃▃▄▄▄▄▄▄▅▅▅▅▅▅▆▆▆▆▆▇▇▇▇▇▇███</td></tr><tr><td>_timestamp</td><td>▁▁▁▂▂▂▂▂▂▃▃▃▃▃▄▄▄▄▄▄▅▅▅▅▅▅▆▆▆▆▆▇▇▇▇▇▇███</td></tr><tr><td>_step</td><td>▁▁▁▂▂▂▂▂▂▃▃▃▃▃▄▄▄▄▄▄▅▅▅▅▅▅▆▆▆▆▆▇▇▇▇▇▇███</td></tr></table><br/>"
      ],
      "text/plain": [
       "<IPython.core.display.HTML object>"
      ]
     },
     "metadata": {},
     "output_type": "display_data"
    },
    {
     "data": {
      "text/html": [
       "Synced 5 W&B file(s), 0 media file(s), 0 artifact file(s) and 0 other file(s)"
      ],
      "text/plain": [
       "<IPython.core.display.HTML object>"
      ]
     },
     "metadata": {},
     "output_type": "display_data"
    },
    {
     "data": {
      "text/html": [
       "\n",
       "                    <br/>Synced <strong style=\"color:#cdcd00\">cool-sweep-33</strong>: <a href=\"https://wandb.ai/sazio/NMAs-Small-Hidden-Dims/runs/4biy8xgq\" target=\"_blank\">https://wandb.ai/sazio/NMAs-Small-Hidden-Dims/runs/4biy8xgq</a><br/>\n",
       "                "
      ],
      "text/plain": [
       "<IPython.core.display.HTML object>"
      ]
     },
     "metadata": {},
     "output_type": "display_data"
    },
    {
     "name": "stderr",
     "output_type": "stream",
     "text": [
      "wandb: Agent Starting Run: 5myq4myl with config:\n",
      "wandb: \tdropout: 0.5\n",
      "wandb: \tepochs: 4000\n",
      "wandb: \tlearning_rate: 0.00010214436010842798\n",
      "wandb: \tn_comp: 75\n",
      "wandb: \tnum_layers: 1\n",
      "wandb: \toptimizer: adam\n",
      "wandb: \tweight_decay: 0\n",
      "Failed to detect the name of this notebook, you can set it manually with the WANDB_NOTEBOOK_NAME environment variable to enable code saving.\n"
     ]
    },
    {
     "data": {
      "text/html": [
       "\n",
       "                Tracking run with wandb version 0.12.0<br/>\n",
       "                Syncing run <strong style=\"color:#cdcd00\">easy-sweep-34</strong> to <a href=\"https://wandb.ai\" target=\"_blank\">Weights & Biases</a> <a href=\"https://docs.wandb.com/integrations/jupyter.html\" target=\"_blank\">(Documentation)</a>.<br/>\n",
       "                Project page: <a href=\"https://wandb.ai/sazio/NMAs-Small-Hidden-Dims\" target=\"_blank\">https://wandb.ai/sazio/NMAs-Small-Hidden-Dims</a><br/>\n",
       "                Sweep page: <a href=\"https://wandb.ai/sazio/NMAs-Small-Hidden-Dims/sweeps/38qam6fd\" target=\"_blank\">https://wandb.ai/sazio/NMAs-Small-Hidden-Dims/sweeps/38qam6fd</a><br/>\n",
       "Run page: <a href=\"https://wandb.ai/sazio/NMAs-Small-Hidden-Dims/runs/5myq4myl\" target=\"_blank\">https://wandb.ai/sazio/NMAs-Small-Hidden-Dims/runs/5myq4myl</a><br/>\n",
       "                Run data is saved locally in <code>/home/sazeglio/NMAs/src/wandb/run-20210814_193444-5myq4myl</code><br/><br/>\n",
       "            "
      ],
      "text/plain": [
       "<IPython.core.display.HTML object>"
      ]
     },
     "metadata": {},
     "output_type": "display_data"
    },
    {
     "name": "stdout",
     "output_type": "stream",
     "text": [
      " iteration 0, train cost 3.7012, valid cost 3.8010\n",
      " iteration 50, train cost 3.1125, valid cost 3.1736\n",
      " iteration 100, train cost 2.3061, valid cost 2.3707\n",
      " iteration 150, train cost 2.1287, valid cost 2.1974\n",
      " iteration 200, train cost 2.0977, valid cost 2.1720\n",
      " iteration 250, train cost 2.0888, valid cost 2.1675\n",
      " iteration 300, train cost 2.0850, valid cost 2.1661\n",
      " iteration 350, train cost 2.0823, valid cost 2.1653\n",
      " iteration 400, train cost 2.0798, valid cost 2.1646\n",
      " iteration 450, train cost 2.0785, valid cost 2.1637\n",
      " iteration 500, train cost 2.0760, valid cost 2.1625\n",
      " iteration 550, train cost 2.0732, valid cost 2.1604\n",
      " iteration 600, train cost 2.0684, valid cost 2.1561\n",
      " iteration 650, train cost 2.0607, valid cost 2.1485\n",
      " iteration 700, train cost 2.0460, valid cost 2.1340\n",
      " iteration 750, train cost 2.0216, valid cost 2.1101\n",
      " iteration 800, train cost 1.9943, valid cost 2.0811\n",
      " iteration 850, train cost 1.9681, valid cost 2.0511\n",
      " iteration 900, train cost 1.9459, valid cost 2.0253\n",
      " iteration 950, train cost 1.9314, valid cost 2.0078\n",
      " iteration 1000, train cost 1.9213, valid cost 1.9968\n",
      " iteration 1050, train cost 1.9135, valid cost 1.9889\n",
      " iteration 1100, train cost 1.9049, valid cost 1.9799\n",
      " iteration 1150, train cost 1.8916, valid cost 1.9664\n",
      " iteration 1200, train cost 1.8757, valid cost 1.9492\n",
      " iteration 1250, train cost 1.8592, valid cost 1.9320\n",
      " iteration 1300, train cost 1.8413, valid cost 1.9145\n",
      " iteration 1350, train cost 1.8215, valid cost 1.8968\n",
      " iteration 1400, train cost 1.8024, valid cost 1.8808\n",
      " iteration 1450, train cost 1.7863, valid cost 1.8682\n",
      " iteration 1500, train cost 1.7712, valid cost 1.8570\n",
      " iteration 1550, train cost 1.7568, valid cost 1.8454\n",
      " iteration 1600, train cost 1.7420, valid cost 1.8327\n",
      " iteration 1650, train cost 1.7255, valid cost 1.8191\n",
      " iteration 1700, train cost 1.7098, valid cost 1.8050\n",
      " iteration 1750, train cost 1.6934, valid cost 1.7915\n",
      " iteration 1800, train cost 1.6782, valid cost 1.7787\n",
      " iteration 1850, train cost 1.6642, valid cost 1.7669\n",
      " iteration 1900, train cost 1.6509, valid cost 1.7554\n",
      " iteration 1950, train cost 1.6381, valid cost 1.7436\n",
      " iteration 2000, train cost 1.6255, valid cost 1.7330\n",
      " iteration 2050, train cost 1.6120, valid cost 1.7229\n",
      " iteration 2100, train cost 1.6014, valid cost 1.7135\n",
      " iteration 2150, train cost 1.5893, valid cost 1.7042\n",
      " iteration 2200, train cost 1.5788, valid cost 1.6948\n",
      " iteration 2250, train cost 1.5677, valid cost 1.6860\n",
      " iteration 2300, train cost 1.5567, valid cost 1.6772\n",
      " iteration 2350, train cost 1.5461, valid cost 1.6688\n",
      " iteration 2400, train cost 1.5372, valid cost 1.6604\n",
      " iteration 2450, train cost 1.5276, valid cost 1.6525\n",
      " iteration 2500, train cost 1.5188, valid cost 1.6448\n",
      " iteration 2550, train cost 1.5110, valid cost 1.6375\n",
      " iteration 2600, train cost 1.5019, valid cost 1.6303\n",
      " iteration 2650, train cost 1.4949, valid cost 1.6235\n",
      " iteration 2700, train cost 1.4872, valid cost 1.6171\n",
      " iteration 2750, train cost 1.4799, valid cost 1.6115\n",
      " iteration 2800, train cost 1.4726, valid cost 1.6057\n",
      " iteration 2850, train cost 1.4661, valid cost 1.6001\n",
      " iteration 2900, train cost 1.4596, valid cost 1.5944\n",
      " iteration 2950, train cost 1.4523, valid cost 1.5891\n",
      " iteration 3000, train cost 1.4448, valid cost 1.5839\n",
      " iteration 3050, train cost 1.4377, valid cost 1.5785\n",
      " iteration 3100, train cost 1.4303, valid cost 1.5732\n",
      " iteration 3150, train cost 1.4255, valid cost 1.5683\n",
      " iteration 3200, train cost 1.4178, valid cost 1.5634\n",
      " iteration 3250, train cost 1.4112, valid cost 1.5585\n",
      " iteration 3300, train cost 1.4051, valid cost 1.5538\n",
      " iteration 3350, train cost 1.3993, valid cost 1.5493\n",
      " iteration 3400, train cost 1.3944, valid cost 1.5449\n",
      " iteration 3450, train cost 1.3872, valid cost 1.5409\n",
      " iteration 3500, train cost 1.3823, valid cost 1.5364\n",
      " iteration 3550, train cost 1.3764, valid cost 1.5322\n",
      " iteration 3600, train cost 1.3708, valid cost 1.5281\n",
      " iteration 3650, train cost 1.3653, valid cost 1.5243\n",
      " iteration 3700, train cost 1.3613, valid cost 1.5199\n",
      " iteration 3750, train cost 1.3560, valid cost 1.5159\n",
      " iteration 3800, train cost 1.3499, valid cost 1.5118\n",
      " iteration 3850, train cost 1.3455, valid cost 1.5078\n",
      " iteration 3900, train cost 1.3412, valid cost 1.5041\n",
      " iteration 3950, train cost 1.3368, valid cost 1.5004\n"
     ]
    },
    {
     "data": {
      "text/html": [
       "<br/>Waiting for W&B process to finish, PID 184712<br/>Program ended successfully."
      ],
      "text/plain": [
       "<IPython.core.display.HTML object>"
      ]
     },
     "metadata": {},
     "output_type": "display_data"
    },
    {
     "name": "stderr",
     "output_type": "stream",
     "text": [
      "Widget Javascript not detected.  It may not be installed or enabled properly.\n"
     ]
    },
    {
     "data": {
      "application/vnd.jupyter.widget-view+json": {
       "model_id": "8cb9700988564883ac3bb2ead145c4da"
      }
     },
     "metadata": {},
     "output_type": "display_data"
    },
    {
     "data": {
      "text/html": [
       "Find user logs for this run at: <code>/home/sazeglio/NMAs/src/wandb/run-20210814_193444-5myq4myl/logs/debug.log</code>"
      ],
      "text/plain": [
       "<IPython.core.display.HTML object>"
      ]
     },
     "metadata": {},
     "output_type": "display_data"
    },
    {
     "data": {
      "text/html": [
       "Find internal logs for this run at: <code>/home/sazeglio/NMAs/src/wandb/run-20210814_193444-5myq4myl/logs/debug-internal.log</code>"
      ],
      "text/plain": [
       "<IPython.core.display.HTML object>"
      ]
     },
     "metadata": {},
     "output_type": "display_data"
    },
    {
     "data": {
      "text/html": [
       "<h3>Run summary:</h3><br/><style>\n",
       "    table.wandb td:nth-child(1) { padding: 0 10px; text-align: right }\n",
       "    </style><table class=\"wandb\">\n",
       "<tr><td>train_loss</td><td>1.33168</td></tr><tr><td>valid_loss</td><td>1.49711</td></tr><tr><td>epoch</td><td>3999</td></tr><tr><td>_runtime</td><td>278</td></tr><tr><td>_timestamp</td><td>1628962762</td></tr><tr><td>_step</td><td>3999</td></tr></table>"
      ],
      "text/plain": [
       "<IPython.core.display.HTML object>"
      ]
     },
     "metadata": {},
     "output_type": "display_data"
    },
    {
     "data": {
      "text/html": [
       "<h3>Run history:</h3><br/><style>\n",
       "    table.wandb td:nth-child(1) { padding: 0 10px; text-align: right }\n",
       "    </style><table class=\"wandb\">\n",
       "<tr><td>train_loss</td><td>█▄▃▃▃▃▃▃▃▃▃▃▃▃▂▂▂▂▂▂▂▂▂▂▂▂▂▁▁▁▁▁▁▁▁▁▁▁▁▁</td></tr><tr><td>valid_loss</td><td>█▃▃▃▃▃▃▃▃▃▃▃▂▂▂▂▂▂▂▂▂▂▂▂▁▁▁▁▁▁▁▁▁▁▁▁▁▁▁▁</td></tr><tr><td>epoch</td><td>▁▁▁▂▂▂▂▂▂▃▃▃▃▃▄▄▄▄▄▄▅▅▅▅▅▅▆▆▆▆▆▇▇▇▇▇▇███</td></tr><tr><td>_runtime</td><td>▁▁▁▂▂▂▂▂▂▃▃▃▃▃▄▄▄▄▄▄▅▅▅▅▅▅▆▆▆▆▆▇▇▇▇▇▇███</td></tr><tr><td>_timestamp</td><td>▁▁▁▂▂▂▂▂▂▃▃▃▃▃▄▄▄▄▄▄▅▅▅▅▅▅▆▆▆▆▆▇▇▇▇▇▇███</td></tr><tr><td>_step</td><td>▁▁▁▂▂▂▂▂▂▃▃▃▃▃▄▄▄▄▄▄▅▅▅▅▅▅▆▆▆▆▆▇▇▇▇▇▇███</td></tr></table><br/>"
      ],
      "text/plain": [
       "<IPython.core.display.HTML object>"
      ]
     },
     "metadata": {},
     "output_type": "display_data"
    },
    {
     "data": {
      "text/html": [
       "Synced 5 W&B file(s), 0 media file(s), 0 artifact file(s) and 0 other file(s)"
      ],
      "text/plain": [
       "<IPython.core.display.HTML object>"
      ]
     },
     "metadata": {},
     "output_type": "display_data"
    },
    {
     "data": {
      "text/html": [
       "\n",
       "                    <br/>Synced <strong style=\"color:#cdcd00\">easy-sweep-34</strong>: <a href=\"https://wandb.ai/sazio/NMAs-Small-Hidden-Dims/runs/5myq4myl\" target=\"_blank\">https://wandb.ai/sazio/NMAs-Small-Hidden-Dims/runs/5myq4myl</a><br/>\n",
       "                "
      ],
      "text/plain": [
       "<IPython.core.display.HTML object>"
      ]
     },
     "metadata": {},
     "output_type": "display_data"
    },
    {
     "name": "stderr",
     "output_type": "stream",
     "text": [
      "wandb: Agent Starting Run: r1aa4d4c with config:\n",
      "wandb: \tdropout: 0.3\n",
      "wandb: \tepochs: 4000\n",
      "wandb: \tlearning_rate: 8.585947314500212e-05\n",
      "wandb: \tn_comp: 150\n",
      "wandb: \tnum_layers: 1\n",
      "wandb: \toptimizer: adam\n",
      "wandb: \tweight_decay: 5e-05\n",
      "Failed to detect the name of this notebook, you can set it manually with the WANDB_NOTEBOOK_NAME environment variable to enable code saving.\n"
     ]
    },
    {
     "data": {
      "text/html": [
       "\n",
       "                Tracking run with wandb version 0.12.0<br/>\n",
       "                Syncing run <strong style=\"color:#cdcd00\">major-sweep-35</strong> to <a href=\"https://wandb.ai\" target=\"_blank\">Weights & Biases</a> <a href=\"https://docs.wandb.com/integrations/jupyter.html\" target=\"_blank\">(Documentation)</a>.<br/>\n",
       "                Project page: <a href=\"https://wandb.ai/sazio/NMAs-Small-Hidden-Dims\" target=\"_blank\">https://wandb.ai/sazio/NMAs-Small-Hidden-Dims</a><br/>\n",
       "                Sweep page: <a href=\"https://wandb.ai/sazio/NMAs-Small-Hidden-Dims/sweeps/38qam6fd\" target=\"_blank\">https://wandb.ai/sazio/NMAs-Small-Hidden-Dims/sweeps/38qam6fd</a><br/>\n",
       "Run page: <a href=\"https://wandb.ai/sazio/NMAs-Small-Hidden-Dims/runs/r1aa4d4c\" target=\"_blank\">https://wandb.ai/sazio/NMAs-Small-Hidden-Dims/runs/r1aa4d4c</a><br/>\n",
       "                Run data is saved locally in <code>/home/sazeglio/NMAs/src/wandb/run-20210814_193926-r1aa4d4c</code><br/><br/>\n",
       "            "
      ],
      "text/plain": [
       "<IPython.core.display.HTML object>"
      ]
     },
     "metadata": {},
     "output_type": "display_data"
    },
    {
     "name": "stdout",
     "output_type": "stream",
     "text": [
      " iteration 0, train cost 3.7010, valid cost 3.8005\n",
      " iteration 50, train cost 3.2932, valid cost 3.3675\n",
      " iteration 100, train cost 2.4482, valid cost 2.5157\n",
      " iteration 150, train cost 2.1590, valid cost 2.2356\n",
      " iteration 200, train cost 2.1022, valid cost 2.1816\n",
      " iteration 250, train cost 2.0908, valid cost 2.1710\n",
      " iteration 300, train cost 2.0858, valid cost 2.1679\n",
      " iteration 350, train cost 2.0829, valid cost 2.1665\n",
      " iteration 400, train cost 2.0806, valid cost 2.1654\n",
      " iteration 450, train cost 2.0780, valid cost 2.1645\n",
      " iteration 500, train cost 2.0756, valid cost 2.1628\n",
      " iteration 550, train cost 2.0722, valid cost 2.1607\n",
      " iteration 600, train cost 2.0687, valid cost 2.1573\n",
      " iteration 650, train cost 2.0627, valid cost 2.1516\n",
      " iteration 700, train cost 2.0533, valid cost 2.1417\n",
      " iteration 750, train cost 2.0376, valid cost 2.1253\n",
      " iteration 800, train cost 2.0169, valid cost 2.1027\n",
      " iteration 850, train cost 1.9944, valid cost 2.0788\n",
      " iteration 900, train cost 1.9691, valid cost 2.0529\n",
      " iteration 950, train cost 1.9403, valid cost 2.0237\n",
      " iteration 1000, train cost 1.9150, valid cost 1.9982\n",
      " iteration 1050, train cost 1.8955, valid cost 1.9780\n",
      " iteration 1100, train cost 1.8750, valid cost 1.9574\n",
      " iteration 1150, train cost 1.8513, valid cost 1.9326\n",
      " iteration 1200, train cost 1.8248, valid cost 1.9063\n",
      " iteration 1250, train cost 1.8010, valid cost 1.8834\n",
      " iteration 1300, train cost 1.7809, valid cost 1.8642\n",
      " iteration 1350, train cost 1.7639, valid cost 1.8483\n",
      " iteration 1400, train cost 1.7474, valid cost 1.8335\n",
      " iteration 1450, train cost 1.7311, valid cost 1.8198\n",
      " iteration 1500, train cost 1.7161, valid cost 1.8066\n",
      " iteration 1550, train cost 1.7012, valid cost 1.7935\n",
      " iteration 1600, train cost 1.6854, valid cost 1.7809\n",
      " iteration 1650, train cost 1.6717, valid cost 1.7688\n",
      " iteration 1700, train cost 1.6583, valid cost 1.7572\n",
      " iteration 1750, train cost 1.6458, valid cost 1.7464\n",
      " iteration 1800, train cost 1.6338, valid cost 1.7356\n",
      " iteration 1850, train cost 1.6219, valid cost 1.7248\n",
      " iteration 1900, train cost 1.6114, valid cost 1.7140\n",
      " iteration 1950, train cost 1.5998, valid cost 1.7034\n",
      " iteration 2000, train cost 1.5900, valid cost 1.6933\n",
      " iteration 2050, train cost 1.5805, valid cost 1.6837\n",
      " iteration 2100, train cost 1.5702, valid cost 1.6747\n",
      " iteration 2150, train cost 1.5622, valid cost 1.6661\n",
      " iteration 2200, train cost 1.5528, valid cost 1.6579\n",
      " iteration 2250, train cost 1.5449, valid cost 1.6503\n",
      " iteration 2300, train cost 1.5357, valid cost 1.6422\n",
      " iteration 2350, train cost 1.5273, valid cost 1.6343\n",
      " iteration 2400, train cost 1.5192, valid cost 1.6272\n",
      " iteration 2450, train cost 1.5108, valid cost 1.6197\n",
      " iteration 2500, train cost 1.5027, valid cost 1.6124\n",
      " iteration 2550, train cost 1.4947, valid cost 1.6054\n",
      " iteration 2600, train cost 1.4866, valid cost 1.5981\n",
      " iteration 2650, train cost 1.4792, valid cost 1.5914\n",
      " iteration 2700, train cost 1.4720, valid cost 1.5842\n",
      " iteration 2750, train cost 1.4642, valid cost 1.5774\n",
      " iteration 2800, train cost 1.4577, valid cost 1.5707\n",
      " iteration 2850, train cost 1.4513, valid cost 1.5636\n",
      " iteration 2900, train cost 1.4428, valid cost 1.5565\n",
      " iteration 2950, train cost 1.4370, valid cost 1.5500\n",
      " iteration 3000, train cost 1.4298, valid cost 1.5431\n",
      " iteration 3050, train cost 1.4231, valid cost 1.5364\n",
      " iteration 3100, train cost 1.4167, valid cost 1.5298\n",
      " iteration 3150, train cost 1.4090, valid cost 1.5234\n",
      " iteration 3200, train cost 1.4035, valid cost 1.5181\n",
      " iteration 3250, train cost 1.3993, valid cost 1.5125\n",
      " iteration 3300, train cost 1.3915, valid cost 1.5069\n",
      " iteration 3350, train cost 1.3864, valid cost 1.5020\n",
      " iteration 3400, train cost 1.3812, valid cost 1.4973\n",
      " iteration 3450, train cost 1.3761, valid cost 1.4926\n",
      " iteration 3500, train cost 1.3710, valid cost 1.4886\n",
      " iteration 3550, train cost 1.3668, valid cost 1.4849\n",
      " iteration 3600, train cost 1.3615, valid cost 1.4813\n",
      " iteration 3650, train cost 1.3584, valid cost 1.4775\n",
      " iteration 3700, train cost 1.3550, valid cost 1.4735\n",
      " iteration 3750, train cost 1.3496, valid cost 1.4702\n",
      " iteration 3800, train cost 1.3453, valid cost 1.4665\n",
      " iteration 3850, train cost 1.3409, valid cost 1.4629\n",
      " iteration 3900, train cost 1.3368, valid cost 1.4592\n",
      " iteration 3950, train cost 1.3334, valid cost 1.4554\n"
     ]
    },
    {
     "data": {
      "text/html": [
       "<br/>Waiting for W&B process to finish, PID 184854<br/>Program ended successfully."
      ],
      "text/plain": [
       "<IPython.core.display.HTML object>"
      ]
     },
     "metadata": {},
     "output_type": "display_data"
    },
    {
     "name": "stderr",
     "output_type": "stream",
     "text": [
      "Widget Javascript not detected.  It may not be installed or enabled properly.\n"
     ]
    },
    {
     "data": {
      "application/vnd.jupyter.widget-view+json": {
       "model_id": "4fb53c2a19444d44999b3edf3a663414"
      }
     },
     "metadata": {},
     "output_type": "display_data"
    },
    {
     "data": {
      "text/html": [
       "Find user logs for this run at: <code>/home/sazeglio/NMAs/src/wandb/run-20210814_193926-r1aa4d4c/logs/debug.log</code>"
      ],
      "text/plain": [
       "<IPython.core.display.HTML object>"
      ]
     },
     "metadata": {},
     "output_type": "display_data"
    },
    {
     "data": {
      "text/html": [
       "Find internal logs for this run at: <code>/home/sazeglio/NMAs/src/wandb/run-20210814_193926-r1aa4d4c/logs/debug-internal.log</code>"
      ],
      "text/plain": [
       "<IPython.core.display.HTML object>"
      ]
     },
     "metadata": {},
     "output_type": "display_data"
    },
    {
     "data": {
      "text/html": [
       "<h3>Run summary:</h3><br/><style>\n",
       "    table.wandb td:nth-child(1) { padding: 0 10px; text-align: right }\n",
       "    </style><table class=\"wandb\">\n",
       "<tr><td>train_loss</td><td>1.3288</td></tr><tr><td>valid_loss</td><td>1.45205</td></tr><tr><td>epoch</td><td>3999</td></tr><tr><td>_runtime</td><td>280</td></tr><tr><td>_timestamp</td><td>1628963047</td></tr><tr><td>_step</td><td>3999</td></tr></table>"
      ],
      "text/plain": [
       "<IPython.core.display.HTML object>"
      ]
     },
     "metadata": {},
     "output_type": "display_data"
    },
    {
     "data": {
      "text/html": [
       "<h3>Run history:</h3><br/><style>\n",
       "    table.wandb td:nth-child(1) { padding: 0 10px; text-align: right }\n",
       "    </style><table class=\"wandb\">\n",
       "<tr><td>train_loss</td><td>█▄▃▃▃▃▃▃▃▃▃▃▂▂▂▂▂▂▂▂▂▂▂▂▂▁▁▁▁▁▁▁▁▁▁▁▁▁▁▁</td></tr><tr><td>valid_loss</td><td>█▄▃▃▃▃▃▃▃▃▃▃▂▂▂▂▂▂▂▂▂▂▂▂▂▁▁▁▁▁▁▁▁▁▁▁▁▁▁▁</td></tr><tr><td>epoch</td><td>▁▁▁▂▂▂▂▂▂▃▃▃▃▃▄▄▄▄▄▄▅▅▅▅▅▅▆▆▆▆▆▇▇▇▇▇▇███</td></tr><tr><td>_runtime</td><td>▁▁▁▂▂▂▂▂▂▃▃▃▃▃▄▄▄▄▄▄▅▅▅▅▅▆▆▆▆▆▆▇▇▇▇▇▇███</td></tr><tr><td>_timestamp</td><td>▁▁▁▂▂▂▂▂▂▃▃▃▃▃▄▄▄▄▄▄▅▅▅▅▅▆▆▆▆▆▆▇▇▇▇▇▇███</td></tr><tr><td>_step</td><td>▁▁▁▂▂▂▂▂▂▃▃▃▃▃▄▄▄▄▄▄▅▅▅▅▅▅▆▆▆▆▆▇▇▇▇▇▇███</td></tr></table><br/>"
      ],
      "text/plain": [
       "<IPython.core.display.HTML object>"
      ]
     },
     "metadata": {},
     "output_type": "display_data"
    },
    {
     "data": {
      "text/html": [
       "Synced 5 W&B file(s), 0 media file(s), 0 artifact file(s) and 0 other file(s)"
      ],
      "text/plain": [
       "<IPython.core.display.HTML object>"
      ]
     },
     "metadata": {},
     "output_type": "display_data"
    },
    {
     "data": {
      "text/html": [
       "\n",
       "                    <br/>Synced <strong style=\"color:#cdcd00\">major-sweep-35</strong>: <a href=\"https://wandb.ai/sazio/NMAs-Small-Hidden-Dims/runs/r1aa4d4c\" target=\"_blank\">https://wandb.ai/sazio/NMAs-Small-Hidden-Dims/runs/r1aa4d4c</a><br/>\n",
       "                "
      ],
      "text/plain": [
       "<IPython.core.display.HTML object>"
      ]
     },
     "metadata": {},
     "output_type": "display_data"
    },
    {
     "name": "stderr",
     "output_type": "stream",
     "text": [
      "wandb: Agent Starting Run: at76blw0 with config:\n",
      "wandb: \tdropout: 0.3\n",
      "wandb: \tepochs: 4000\n",
      "wandb: \tlearning_rate: 0.0005533561460870863\n",
      "wandb: \tn_comp: 150\n",
      "wandb: \tnum_layers: 1\n",
      "wandb: \toptimizer: adam\n",
      "wandb: \tweight_decay: 1e-05\n",
      "Failed to detect the name of this notebook, you can set it manually with the WANDB_NOTEBOOK_NAME environment variable to enable code saving.\n"
     ]
    },
    {
     "data": {
      "text/html": [
       "\n",
       "                Tracking run with wandb version 0.12.0<br/>\n",
       "                Syncing run <strong style=\"color:#cdcd00\">comfy-sweep-36</strong> to <a href=\"https://wandb.ai\" target=\"_blank\">Weights & Biases</a> <a href=\"https://docs.wandb.com/integrations/jupyter.html\" target=\"_blank\">(Documentation)</a>.<br/>\n",
       "                Project page: <a href=\"https://wandb.ai/sazio/NMAs-Small-Hidden-Dims\" target=\"_blank\">https://wandb.ai/sazio/NMAs-Small-Hidden-Dims</a><br/>\n",
       "                Sweep page: <a href=\"https://wandb.ai/sazio/NMAs-Small-Hidden-Dims/sweeps/38qam6fd\" target=\"_blank\">https://wandb.ai/sazio/NMAs-Small-Hidden-Dims/sweeps/38qam6fd</a><br/>\n",
       "Run page: <a href=\"https://wandb.ai/sazio/NMAs-Small-Hidden-Dims/runs/at76blw0\" target=\"_blank\">https://wandb.ai/sazio/NMAs-Small-Hidden-Dims/runs/at76blw0</a><br/>\n",
       "                Run data is saved locally in <code>/home/sazeglio/NMAs/src/wandb/run-20210814_194412-at76blw0</code><br/><br/>\n",
       "            "
      ],
      "text/plain": [
       "<IPython.core.display.HTML object>"
      ]
     },
     "metadata": {},
     "output_type": "display_data"
    },
    {
     "name": "stdout",
     "output_type": "stream",
     "text": [
      " iteration 0, train cost 3.7069, valid cost 3.8004\n",
      " iteration 50, train cost 2.1042, valid cost 2.1850\n",
      " iteration 100, train cost 2.0790, valid cost 2.1658\n",
      " iteration 150, train cost 2.0738, valid cost 2.1625\n",
      " iteration 200, train cost 2.0567, valid cost 2.1446\n",
      " iteration 250, train cost 1.9660, valid cost 2.0453\n",
      " iteration 300, train cost 1.8831, valid cost 1.9589\n",
      " iteration 350, train cost 1.8302, valid cost 1.9121\n",
      " iteration 400, train cost 1.7774, valid cost 1.8566\n",
      " iteration 450, train cost 1.7242, valid cost 1.8089\n",
      " iteration 500, train cost 1.6851, valid cost 1.7771\n",
      " iteration 550, train cost 1.6504, valid cost 1.7479\n",
      " iteration 600, train cost 1.6124, valid cost 1.7148\n",
      " iteration 650, train cost 1.5775, valid cost 1.6849\n",
      " iteration 700, train cost 1.5472, valid cost 1.6582\n",
      " iteration 750, train cost 1.5197, valid cost 1.6339\n",
      " iteration 800, train cost 1.4968, valid cost 1.6126\n",
      " iteration 850, train cost 1.4747, valid cost 1.5923\n",
      " iteration 900, train cost 1.4533, valid cost 1.5731\n",
      " iteration 950, train cost 1.4323, valid cost 1.5525\n",
      " iteration 1000, train cost 1.4153, valid cost 1.5361\n",
      " iteration 1050, train cost 1.4000, valid cost 1.5220\n",
      " iteration 1100, train cost 1.3869, valid cost 1.5112\n",
      " iteration 1150, train cost 1.3744, valid cost 1.4993\n",
      " iteration 1200, train cost 1.3601, valid cost 1.4874\n",
      " iteration 1250, train cost 1.3480, valid cost 1.4752\n",
      " iteration 1300, train cost 1.3341, valid cost 1.4648\n",
      " iteration 1350, train cost 1.3229, valid cost 1.4545\n",
      " iteration 1400, train cost 1.3134, valid cost 1.4489\n",
      " iteration 1450, train cost 1.3006, valid cost 1.4359\n",
      " iteration 1500, train cost 1.2904, valid cost 1.4279\n",
      " iteration 1550, train cost 1.2787, valid cost 1.4164\n",
      " iteration 1600, train cost 1.2655, valid cost 1.4066\n",
      " iteration 1650, train cost 1.2537, valid cost 1.3960\n",
      " iteration 1700, train cost 1.2440, valid cost 1.3859\n",
      " iteration 1750, train cost 1.2340, valid cost 1.3793\n",
      " iteration 1800, train cost 1.2269, valid cost 1.3720\n",
      " iteration 1850, train cost 1.2163, valid cost 1.3633\n",
      " iteration 1900, train cost 1.2079, valid cost 1.3567\n",
      " iteration 1950, train cost 1.2065, valid cost 1.3556\n",
      " iteration 2000, train cost 1.1931, valid cost 1.3448\n",
      " iteration 2050, train cost 1.1854, valid cost 1.3399\n",
      " iteration 2100, train cost 1.1799, valid cost 1.3339\n",
      " iteration 2150, train cost 1.1742, valid cost 1.3291\n",
      " iteration 2200, train cost 1.1691, valid cost 1.3246\n",
      " iteration 2250, train cost 1.2968, valid cost 1.3726\n",
      " iteration 2300, train cost 1.1608, valid cost 1.3141\n",
      " iteration 2350, train cost 1.1539, valid cost 1.3105\n",
      " iteration 2400, train cost 1.1482, valid cost 1.3068\n",
      " iteration 2450, train cost 1.1437, valid cost 1.3033\n",
      " iteration 2500, train cost 1.1382, valid cost 1.3001\n",
      " iteration 2550, train cost 1.1310, valid cost 1.2970\n",
      " iteration 2600, train cost 1.1282, valid cost 1.2935\n",
      " iteration 2650, train cost 1.1216, valid cost 1.2906\n",
      " iteration 2700, train cost 1.1180, valid cost 1.2872\n",
      " iteration 2750, train cost 1.1112, valid cost 1.2840\n",
      " iteration 2800, train cost 1.1072, valid cost 1.2806\n",
      " iteration 2850, train cost 1.1014, valid cost 1.2763\n",
      " iteration 2900, train cost 1.0973, valid cost 1.2736\n",
      " iteration 2950, train cost 1.0931, valid cost 1.2705\n",
      " iteration 3000, train cost 1.0872, valid cost 1.2674\n",
      " iteration 3050, train cost 1.0853, valid cost 1.2642\n",
      " iteration 3100, train cost 1.0794, valid cost 1.2621\n",
      " iteration 3150, train cost 1.0735, valid cost 1.2581\n",
      " iteration 3200, train cost 1.0710, valid cost 1.2556\n",
      " iteration 3250, train cost 1.0668, valid cost 1.2527\n",
      " iteration 3300, train cost 1.0626, valid cost 1.2498\n",
      " iteration 3350, train cost 1.0567, valid cost 1.2479\n",
      " iteration 3400, train cost 1.0548, valid cost 1.2463\n",
      " iteration 3450, train cost 1.0522, valid cost 1.2437\n",
      " iteration 3500, train cost 1.0476, valid cost 1.2405\n",
      " iteration 3550, train cost 1.0447, valid cost 1.2416\n",
      " iteration 3600, train cost 1.0392, valid cost 1.2378\n",
      " iteration 3650, train cost 1.0369, valid cost 1.2354\n",
      " iteration 3700, train cost 1.0386, valid cost 1.2347\n",
      " iteration 3750, train cost 1.0328, valid cost 1.2312\n",
      " iteration 3800, train cost 1.0305, valid cost 1.2293\n",
      " iteration 3850, train cost 1.0286, valid cost 1.2268\n",
      " iteration 3900, train cost 1.0221, valid cost 1.2260\n",
      " iteration 3950, train cost 1.0227, valid cost 1.2244\n"
     ]
    },
    {
     "data": {
      "text/html": [
       "<br/>Waiting for W&B process to finish, PID 184940<br/>Program ended successfully."
      ],
      "text/plain": [
       "<IPython.core.display.HTML object>"
      ]
     },
     "metadata": {},
     "output_type": "display_data"
    },
    {
     "name": "stderr",
     "output_type": "stream",
     "text": [
      "Widget Javascript not detected.  It may not be installed or enabled properly.\n"
     ]
    },
    {
     "data": {
      "application/vnd.jupyter.widget-view+json": {
       "model_id": "dd643f3b061844e09118448b99b62a32"
      }
     },
     "metadata": {},
     "output_type": "display_data"
    },
    {
     "data": {
      "text/html": [
       "Find user logs for this run at: <code>/home/sazeglio/NMAs/src/wandb/run-20210814_194412-at76blw0/logs/debug.log</code>"
      ],
      "text/plain": [
       "<IPython.core.display.HTML object>"
      ]
     },
     "metadata": {},
     "output_type": "display_data"
    },
    {
     "data": {
      "text/html": [
       "Find internal logs for this run at: <code>/home/sazeglio/NMAs/src/wandb/run-20210814_194412-at76blw0/logs/debug-internal.log</code>"
      ],
      "text/plain": [
       "<IPython.core.display.HTML object>"
      ]
     },
     "metadata": {},
     "output_type": "display_data"
    },
    {
     "data": {
      "text/html": [
       "<h3>Run summary:</h3><br/><style>\n",
       "    table.wandb td:nth-child(1) { padding: 0 10px; text-align: right }\n",
       "    </style><table class=\"wandb\">\n",
       "<tr><td>train_loss</td><td>1.0201</td></tr><tr><td>valid_loss</td><td>1.22291</td></tr><tr><td>epoch</td><td>3999</td></tr><tr><td>_runtime</td><td>279</td></tr><tr><td>_timestamp</td><td>1628963331</td></tr><tr><td>_step</td><td>3999</td></tr></table>"
      ],
      "text/plain": [
       "<IPython.core.display.HTML object>"
      ]
     },
     "metadata": {},
     "output_type": "display_data"
    },
    {
     "data": {
      "text/html": [
       "<h3>Run history:</h3><br/><style>\n",
       "    table.wandb td:nth-child(1) { padding: 0 10px; text-align: right }\n",
       "    </style><table class=\"wandb\">\n",
       "<tr><td>train_loss</td><td>█▇▇▆▅▅▄▄▄▃▃▃▃▃▃▃▂▂▂▂▂▂▂▂▂▂▂▂▁▁▁▁▁▁▁▁▁▁▁▁</td></tr><tr><td>valid_loss</td><td>█▇▇▆▅▅▄▄▃▃▃▃▃▃▂▂▂▂▂▂▂▂▂▂▂▁▁▁▁▁▁▁▁▁▁▁▁▁▁▁</td></tr><tr><td>epoch</td><td>▁▁▁▂▂▂▂▂▂▃▃▃▃▃▄▄▄▄▄▄▅▅▅▅▅▅▆▆▆▆▆▇▇▇▇▇▇███</td></tr><tr><td>_runtime</td><td>▁▁▁▂▂▂▂▂▂▃▃▃▃▃▄▄▄▄▄▄▅▅▅▅▅▆▆▆▆▆▆▇▇▇▇▇▇███</td></tr><tr><td>_timestamp</td><td>▁▁▁▂▂▂▂▂▂▃▃▃▃▃▄▄▄▄▄▄▅▅▅▅▅▆▆▆▆▆▆▇▇▇▇▇▇███</td></tr><tr><td>_step</td><td>▁▁▁▂▂▂▂▂▂▃▃▃▃▃▄▄▄▄▄▄▅▅▅▅▅▅▆▆▆▆▆▇▇▇▇▇▇███</td></tr></table><br/>"
      ],
      "text/plain": [
       "<IPython.core.display.HTML object>"
      ]
     },
     "metadata": {},
     "output_type": "display_data"
    },
    {
     "data": {
      "text/html": [
       "Synced 5 W&B file(s), 0 media file(s), 0 artifact file(s) and 0 other file(s)"
      ],
      "text/plain": [
       "<IPython.core.display.HTML object>"
      ]
     },
     "metadata": {},
     "output_type": "display_data"
    },
    {
     "data": {
      "text/html": [
       "\n",
       "                    <br/>Synced <strong style=\"color:#cdcd00\">comfy-sweep-36</strong>: <a href=\"https://wandb.ai/sazio/NMAs-Small-Hidden-Dims/runs/at76blw0\" target=\"_blank\">https://wandb.ai/sazio/NMAs-Small-Hidden-Dims/runs/at76blw0</a><br/>\n",
       "                "
      ],
      "text/plain": [
       "<IPython.core.display.HTML object>"
      ]
     },
     "metadata": {},
     "output_type": "display_data"
    },
    {
     "name": "stderr",
     "output_type": "stream",
     "text": [
      "wandb: Agent Starting Run: 6ods1dd8 with config:\n",
      "wandb: \tdropout: 0.2\n",
      "wandb: \tepochs: 4000\n",
      "wandb: \tlearning_rate: 0.0042498314608794795\n",
      "wandb: \tn_comp: 50\n",
      "wandb: \tnum_layers: 1\n",
      "wandb: \toptimizer: adam\n",
      "wandb: \tweight_decay: 5e-05\n",
      "Failed to detect the name of this notebook, you can set it manually with the WANDB_NOTEBOOK_NAME environment variable to enable code saving.\n"
     ]
    },
    {
     "data": {
      "text/html": [
       "\n",
       "                Tracking run with wandb version 0.12.0<br/>\n",
       "                Syncing run <strong style=\"color:#cdcd00\">scarlet-sweep-37</strong> to <a href=\"https://wandb.ai\" target=\"_blank\">Weights & Biases</a> <a href=\"https://docs.wandb.com/integrations/jupyter.html\" target=\"_blank\">(Documentation)</a>.<br/>\n",
       "                Project page: <a href=\"https://wandb.ai/sazio/NMAs-Small-Hidden-Dims\" target=\"_blank\">https://wandb.ai/sazio/NMAs-Small-Hidden-Dims</a><br/>\n",
       "                Sweep page: <a href=\"https://wandb.ai/sazio/NMAs-Small-Hidden-Dims/sweeps/38qam6fd\" target=\"_blank\">https://wandb.ai/sazio/NMAs-Small-Hidden-Dims/sweeps/38qam6fd</a><br/>\n",
       "Run page: <a href=\"https://wandb.ai/sazio/NMAs-Small-Hidden-Dims/runs/6ods1dd8\" target=\"_blank\">https://wandb.ai/sazio/NMAs-Small-Hidden-Dims/runs/6ods1dd8</a><br/>\n",
       "                Run data is saved locally in <code>/home/sazeglio/NMAs/src/wandb/run-20210814_194856-6ods1dd8</code><br/><br/>\n",
       "            "
      ],
      "text/plain": [
       "<IPython.core.display.HTML object>"
      ]
     },
     "metadata": {},
     "output_type": "display_data"
    },
    {
     "name": "stdout",
     "output_type": "stream",
     "text": [
      " iteration 0, train cost 3.6960, valid cost 3.7537\n",
      " iteration 50, train cost 2.0724, valid cost 2.1647\n",
      " iteration 100, train cost 2.0037, valid cost 2.0815\n",
      " iteration 150, train cost 1.9205, valid cost 2.0172\n",
      " iteration 200, train cost 1.8695, valid cost 1.9602\n",
      " iteration 250, train cost 1.7864, valid cost 1.8889\n",
      " iteration 300, train cost 1.7529, valid cost 1.8645\n",
      " iteration 350, train cost 1.7194, valid cost 1.8315\n",
      " iteration 400, train cost 1.6926, valid cost 1.8198\n",
      " iteration 450, train cost 1.6475, valid cost 1.7884\n",
      " iteration 500, train cost 1.6031, valid cost 1.7633\n",
      " iteration 550, train cost 1.5655, valid cost 1.7537\n",
      " iteration 600, train cost 1.5894, valid cost 1.7769\n",
      " iteration 650, train cost 1.5275, valid cost 1.7314\n",
      " iteration 700, train cost 1.5124, valid cost 1.7232\n",
      " iteration 750, train cost 1.4959, valid cost 1.7135\n",
      " iteration 800, train cost 1.4823, valid cost 1.7121\n",
      " iteration 850, train cost 1.4562, valid cost 1.6962\n",
      " iteration 900, train cost 1.4460, valid cost 1.6930\n",
      " iteration 950, train cost 1.4390, valid cost 1.6855\n",
      " iteration 1000, train cost 1.4046, valid cost 1.6779\n",
      " iteration 1050, train cost 1.3994, valid cost 1.6700\n",
      " iteration 1100, train cost 1.3885, valid cost 1.6665\n",
      " iteration 1150, train cost 1.3553, valid cost 1.6480\n",
      " iteration 1200, train cost 1.3721, valid cost 1.6565\n",
      " iteration 1250, train cost 1.3384, valid cost 1.6326\n",
      " iteration 1300, train cost 1.3219, valid cost 1.6195\n",
      " iteration 1350, train cost 1.3098, valid cost 1.6106\n",
      " iteration 1400, train cost 1.3022, valid cost 1.6065\n",
      " iteration 1450, train cost 1.2865, valid cost 1.6018\n",
      " iteration 1500, train cost 1.2827, valid cost 1.5940\n",
      " iteration 1550, train cost 1.4348, valid cost 1.6637\n",
      " iteration 1600, train cost 1.2934, valid cost 1.5748\n",
      " iteration 1650, train cost 1.2642, valid cost 1.5682\n",
      " iteration 1700, train cost 1.2871, valid cost 1.5693\n",
      " iteration 1750, train cost 1.3548, valid cost 1.6141\n",
      " iteration 1800, train cost 1.2582, valid cost 1.5502\n",
      " iteration 1850, train cost 1.3033, valid cost 1.5795\n",
      " iteration 1900, train cost 1.2368, valid cost 1.5425\n",
      " iteration 1950, train cost 1.2265, valid cost 1.5384\n",
      " iteration 2000, train cost 1.2160, valid cost 1.5344\n",
      " iteration 2050, train cost 1.2186, valid cost 1.5322\n",
      " iteration 2100, train cost 1.2104, valid cost 1.5264\n",
      " iteration 2150, train cost 1.2021, valid cost 1.5220\n",
      " iteration 2200, train cost 1.2031, valid cost 1.5176\n",
      " iteration 2250, train cost 1.1875, valid cost 1.5058\n",
      " iteration 2300, train cost 1.1803, valid cost 1.4978\n",
      " iteration 2350, train cost 1.1727, valid cost 1.4949\n",
      " iteration 2400, train cost 1.2184, valid cost 1.5086\n",
      " iteration 2450, train cost 1.1789, valid cost 1.5004\n",
      " iteration 2500, train cost 1.1720, valid cost 1.4886\n",
      " iteration 2550, train cost 1.2746, valid cost 1.5429\n",
      " iteration 2600, train cost 1.1782, valid cost 1.4779\n",
      " iteration 2650, train cost 1.1623, valid cost 1.4746\n",
      " iteration 2700, train cost 1.1577, valid cost 1.4722\n",
      " iteration 2750, train cost 1.1574, valid cost 1.4681\n",
      " iteration 2800, train cost 1.1509, valid cost 1.4631\n",
      " iteration 2850, train cost 1.1480, valid cost 1.4559\n",
      " iteration 2900, train cost 1.1513, valid cost 1.4581\n",
      " iteration 2950, train cost 1.1425, valid cost 1.4573\n",
      " iteration 3000, train cost 1.3267, valid cost 1.5294\n",
      " iteration 3050, train cost 1.1346, valid cost 1.4431\n",
      " iteration 3100, train cost 1.1211, valid cost 1.4396\n",
      " iteration 3150, train cost 1.1235, valid cost 1.4397\n",
      " iteration 3200, train cost 1.1192, valid cost 1.4405\n",
      " iteration 3250, train cost 1.1112, valid cost 1.4258\n",
      " iteration 3300, train cost 1.1082, valid cost 1.4222\n",
      " iteration 3350, train cost 1.1069, valid cost 1.4229\n",
      " iteration 3400, train cost 1.1167, valid cost 1.4293\n",
      " iteration 3450, train cost 1.1010, valid cost 1.4134\n",
      " iteration 3500, train cost 1.1184, valid cost 1.4333\n",
      " iteration 3550, train cost 1.0920, valid cost 1.4051\n",
      " iteration 3600, train cost 1.0897, valid cost 1.4002\n",
      " iteration 3650, train cost 1.0857, valid cost 1.3966\n",
      " iteration 3700, train cost 1.0890, valid cost 1.3993\n",
      " iteration 3750, train cost 1.0792, valid cost 1.3931\n",
      " iteration 3800, train cost 1.0760, valid cost 1.3854\n",
      " iteration 3850, train cost 1.0734, valid cost 1.3881\n",
      " iteration 3900, train cost 1.0716, valid cost 1.3838\n",
      " iteration 3950, train cost 1.0629, valid cost 1.3739\n"
     ]
    },
    {
     "data": {
      "text/html": [
       "<br/>Waiting for W&B process to finish, PID 185029<br/>Program ended successfully."
      ],
      "text/plain": [
       "<IPython.core.display.HTML object>"
      ]
     },
     "metadata": {},
     "output_type": "display_data"
    },
    {
     "name": "stderr",
     "output_type": "stream",
     "text": [
      "Widget Javascript not detected.  It may not be installed or enabled properly.\n"
     ]
    },
    {
     "data": {
      "application/vnd.jupyter.widget-view+json": {
       "model_id": "9ffd6af7095d4896a90e2ba8f31bbe1a"
      }
     },
     "metadata": {},
     "output_type": "display_data"
    },
    {
     "data": {
      "text/html": [
       "Find user logs for this run at: <code>/home/sazeglio/NMAs/src/wandb/run-20210814_194856-6ods1dd8/logs/debug.log</code>"
      ],
      "text/plain": [
       "<IPython.core.display.HTML object>"
      ]
     },
     "metadata": {},
     "output_type": "display_data"
    },
    {
     "data": {
      "text/html": [
       "Find internal logs for this run at: <code>/home/sazeglio/NMAs/src/wandb/run-20210814_194856-6ods1dd8/logs/debug-internal.log</code>"
      ],
      "text/plain": [
       "<IPython.core.display.HTML object>"
      ]
     },
     "metadata": {},
     "output_type": "display_data"
    },
    {
     "data": {
      "text/html": [
       "<h3>Run summary:</h3><br/><style>\n",
       "    table.wandb td:nth-child(1) { padding: 0 10px; text-align: right }\n",
       "    </style><table class=\"wandb\">\n",
       "<tr><td>train_loss</td><td>1.10227</td></tr><tr><td>valid_loss</td><td>1.39828</td></tr><tr><td>epoch</td><td>3999</td></tr><tr><td>_runtime</td><td>274</td></tr><tr><td>_timestamp</td><td>1628963610</td></tr><tr><td>_step</td><td>3999</td></tr></table>"
      ],
      "text/plain": [
       "<IPython.core.display.HTML object>"
      ]
     },
     "metadata": {},
     "output_type": "display_data"
    },
    {
     "data": {
      "text/html": [
       "<h3>Run history:</h3><br/><style>\n",
       "    table.wandb td:nth-child(1) { padding: 0 10px; text-align: right }\n",
       "    </style><table class=\"wandb\">\n",
       "<tr><td>train_loss</td><td>█▇▆▆▅▅▄▄▄▃▃▃▃▃▃▂▂▃▃▂▂▂▂▂▂▃▂▂▁▁▁▁▁▁▁▁▁▁▁▂</td></tr><tr><td>valid_loss</td><td>█▇▆▅▅▄▄▄▄▄▄▃▃▃▃▃▃▃▃▂▂▂▂▂▂▃▂▂▂▂▂▁▁▁▁▁▁▁▁▂</td></tr><tr><td>epoch</td><td>▁▁▁▂▂▂▂▂▂▃▃▃▃▃▄▄▄▄▄▄▅▅▅▅▅▅▆▆▆▆▆▇▇▇▇▇▇███</td></tr><tr><td>_runtime</td><td>▁▁▁▂▂▂▂▂▂▃▃▃▃▃▃▄▄▄▄▄▅▅▅▅▅▆▆▆▆▆▆▇▇▇▇▇████</td></tr><tr><td>_timestamp</td><td>▁▁▁▂▂▂▂▂▂▃▃▃▃▃▃▄▄▄▄▄▅▅▅▅▅▆▆▆▆▆▆▇▇▇▇▇████</td></tr><tr><td>_step</td><td>▁▁▁▂▂▂▂▂▂▃▃▃▃▃▄▄▄▄▄▄▅▅▅▅▅▅▆▆▆▆▆▇▇▇▇▇▇███</td></tr></table><br/>"
      ],
      "text/plain": [
       "<IPython.core.display.HTML object>"
      ]
     },
     "metadata": {},
     "output_type": "display_data"
    },
    {
     "data": {
      "text/html": [
       "Synced 5 W&B file(s), 0 media file(s), 0 artifact file(s) and 0 other file(s)"
      ],
      "text/plain": [
       "<IPython.core.display.HTML object>"
      ]
     },
     "metadata": {},
     "output_type": "display_data"
    },
    {
     "data": {
      "text/html": [
       "\n",
       "                    <br/>Synced <strong style=\"color:#cdcd00\">scarlet-sweep-37</strong>: <a href=\"https://wandb.ai/sazio/NMAs-Small-Hidden-Dims/runs/6ods1dd8\" target=\"_blank\">https://wandb.ai/sazio/NMAs-Small-Hidden-Dims/runs/6ods1dd8</a><br/>\n",
       "                "
      ],
      "text/plain": [
       "<IPython.core.display.HTML object>"
      ]
     },
     "metadata": {},
     "output_type": "display_data"
    },
    {
     "name": "stderr",
     "output_type": "stream",
     "text": [
      "wandb: Agent Starting Run: cq8tnv2s with config:\n",
      "wandb: \tdropout: 0.3\n",
      "wandb: \tepochs: 4000\n",
      "wandb: \tlearning_rate: 0.001696565227031864\n",
      "wandb: \tn_comp: 125\n",
      "wandb: \tnum_layers: 1\n",
      "wandb: \toptimizer: adam\n",
      "wandb: \tweight_decay: 1e-05\n",
      "Failed to detect the name of this notebook, you can set it manually with the WANDB_NOTEBOOK_NAME environment variable to enable code saving.\n"
     ]
    },
    {
     "data": {
      "text/html": [
       "\n",
       "                Tracking run with wandb version 0.12.0<br/>\n",
       "                Syncing run <strong style=\"color:#cdcd00\">treasured-sweep-38</strong> to <a href=\"https://wandb.ai\" target=\"_blank\">Weights & Biases</a> <a href=\"https://docs.wandb.com/integrations/jupyter.html\" target=\"_blank\">(Documentation)</a>.<br/>\n",
       "                Project page: <a href=\"https://wandb.ai/sazio/NMAs-Small-Hidden-Dims\" target=\"_blank\">https://wandb.ai/sazio/NMAs-Small-Hidden-Dims</a><br/>\n",
       "                Sweep page: <a href=\"https://wandb.ai/sazio/NMAs-Small-Hidden-Dims/sweeps/38qam6fd\" target=\"_blank\">https://wandb.ai/sazio/NMAs-Small-Hidden-Dims/sweeps/38qam6fd</a><br/>\n",
       "Run page: <a href=\"https://wandb.ai/sazio/NMAs-Small-Hidden-Dims/runs/cq8tnv2s\" target=\"_blank\">https://wandb.ai/sazio/NMAs-Small-Hidden-Dims/runs/cq8tnv2s</a><br/>\n",
       "                Run data is saved locally in <code>/home/sazeglio/NMAs/src/wandb/run-20210814_195335-cq8tnv2s</code><br/><br/>\n",
       "            "
      ],
      "text/plain": [
       "<IPython.core.display.HTML object>"
      ]
     },
     "metadata": {},
     "output_type": "display_data"
    },
    {
     "name": "stdout",
     "output_type": "stream",
     "text": [
      " iteration 0, train cost 3.7037, valid cost 3.7845\n",
      " iteration 50, train cost 2.0803, valid cost 2.1717\n",
      " iteration 100, train cost 2.0685, valid cost 2.1602\n",
      " iteration 150, train cost 1.9785, valid cost 2.0541\n",
      " iteration 200, train cost 1.8798, valid cost 1.9637\n",
      " iteration 250, train cost 1.7916, valid cost 1.8715\n",
      " iteration 300, train cost 1.7388, valid cost 1.8296\n",
      " iteration 350, train cost 1.6956, valid cost 1.8114\n",
      " iteration 400, train cost 1.6392, valid cost 1.7517\n",
      " iteration 450, train cost 1.6060, valid cost 1.7238\n",
      " iteration 500, train cost 1.5521, valid cost 1.6837\n",
      " iteration 550, train cost 1.5179, valid cost 1.6559\n",
      " iteration 600, train cost 1.4843, valid cost 1.6301\n",
      " iteration 650, train cost 1.4563, valid cost 1.6074\n",
      " iteration 700, train cost 1.4213, valid cost 1.5798\n",
      " iteration 750, train cost 1.4044, valid cost 1.5643\n",
      " iteration 800, train cost 1.3794, valid cost 1.5423\n",
      " iteration 850, train cost 1.3478, valid cost 1.5187\n",
      " iteration 900, train cost 1.3316, valid cost 1.5059\n",
      " iteration 950, train cost 1.3101, valid cost 1.4848\n",
      " iteration 1000, train cost 1.2876, valid cost 1.4679\n",
      " iteration 1050, train cost 1.2725, valid cost 1.4560\n",
      " iteration 1100, train cost 1.2539, valid cost 1.4413\n",
      " iteration 1150, train cost 1.2529, valid cost 1.4377\n",
      " iteration 1200, train cost 1.2333, valid cost 1.4212\n",
      " iteration 1250, train cost 1.2126, valid cost 1.4096\n",
      " iteration 1300, train cost 1.2001, valid cost 1.4005\n",
      " iteration 1350, train cost 1.2361, valid cost 1.4186\n",
      " iteration 1400, train cost 1.1778, valid cost 1.3830\n",
      " iteration 1450, train cost 1.1694, valid cost 1.3776\n",
      " iteration 1500, train cost 1.1571, valid cost 1.3705\n",
      " iteration 1550, train cost 1.1476, valid cost 1.3634\n",
      " iteration 1600, train cost 1.1372, valid cost 1.3585\n",
      " iteration 1650, train cost 1.1280, valid cost 1.3504\n",
      " iteration 1700, train cost 1.1611, valid cost 1.3797\n",
      " iteration 1750, train cost 1.1158, valid cost 1.3400\n",
      " iteration 1800, train cost 1.1178, valid cost 1.3389\n",
      " iteration 1850, train cost 1.1000, valid cost 1.3275\n",
      " iteration 1900, train cost 1.1572, valid cost 1.3618\n",
      " iteration 1950, train cost 1.0902, valid cost 1.3174\n",
      " iteration 2000, train cost 1.0825, valid cost 1.3135\n",
      " iteration 2050, train cost 1.0758, valid cost 1.3088\n",
      " iteration 2100, train cost 1.0703, valid cost 1.3052\n",
      " iteration 2150, train cost 1.0852, valid cost 1.3160\n",
      " iteration 2200, train cost 1.0590, valid cost 1.2981\n",
      " iteration 2250, train cost 1.0570, valid cost 1.2948\n",
      " iteration 2300, train cost 1.0503, valid cost 1.2913\n",
      " iteration 2350, train cost 1.0459, valid cost 1.2877\n",
      " iteration 2400, train cost 1.0428, valid cost 1.2848\n",
      " iteration 2450, train cost 1.0357, valid cost 1.2805\n",
      " iteration 2500, train cost 1.0442, valid cost 1.2852\n",
      " iteration 2550, train cost 1.0310, valid cost 1.2745\n",
      " iteration 2600, train cost 1.0266, valid cost 1.2719\n",
      " iteration 2650, train cost 1.0858, valid cost 1.3037\n",
      " iteration 2700, train cost 1.0375, valid cost 1.2729\n",
      " iteration 2750, train cost 1.0194, valid cost 1.2636\n",
      " iteration 2800, train cost 1.0173, valid cost 1.2629\n",
      " iteration 2850, train cost 1.0125, valid cost 1.2615\n",
      " iteration 2900, train cost 1.0089, valid cost 1.2587\n",
      " iteration 2950, train cost 1.0277, valid cost 1.2669\n",
      " iteration 3000, train cost 1.0062, valid cost 1.2539\n",
      " iteration 3050, train cost 1.0009, valid cost 1.2512\n",
      " iteration 3100, train cost 0.9986, valid cost 1.2484\n",
      " iteration 3150, train cost 0.9951, valid cost 1.2456\n",
      " iteration 3200, train cost 0.9928, valid cost 1.2446\n",
      " iteration 3250, train cost 0.9913, valid cost 1.2394\n",
      " iteration 3300, train cost 0.9892, valid cost 1.2406\n",
      " iteration 3350, train cost 0.9857, valid cost 1.2378\n",
      " iteration 3400, train cost 1.0120, valid cost 1.2462\n",
      " iteration 3450, train cost 0.9792, valid cost 1.2311\n",
      " iteration 3500, train cost 0.9792, valid cost 1.2301\n",
      " iteration 3550, train cost 0.9870, valid cost 1.2408\n",
      " iteration 3600, train cost 0.9763, valid cost 1.2259\n",
      " iteration 3650, train cost 0.9706, valid cost 1.2238\n",
      " iteration 3700, train cost 0.9706, valid cost 1.2248\n",
      " iteration 3750, train cost 0.9671, valid cost 1.2239\n",
      " iteration 3800, train cost 0.9682, valid cost 1.2212\n",
      " iteration 3850, train cost 0.9628, valid cost 1.2196\n",
      " iteration 3900, train cost 0.9633, valid cost 1.2202\n",
      " iteration 3950, train cost 0.9612, valid cost 1.2184\n"
     ]
    },
    {
     "data": {
      "text/html": [
       "<br/>Waiting for W&B process to finish, PID 185102<br/>Program ended successfully."
      ],
      "text/plain": [
       "<IPython.core.display.HTML object>"
      ]
     },
     "metadata": {},
     "output_type": "display_data"
    },
    {
     "name": "stderr",
     "output_type": "stream",
     "text": [
      "Widget Javascript not detected.  It may not be installed or enabled properly.\n"
     ]
    },
    {
     "data": {
      "application/vnd.jupyter.widget-view+json": {
       "model_id": "251405a3939c4444b486ef7f908d74ce"
      }
     },
     "metadata": {},
     "output_type": "display_data"
    },
    {
     "data": {
      "text/html": [
       "Find user logs for this run at: <code>/home/sazeglio/NMAs/src/wandb/run-20210814_195335-cq8tnv2s/logs/debug.log</code>"
      ],
      "text/plain": [
       "<IPython.core.display.HTML object>"
      ]
     },
     "metadata": {},
     "output_type": "display_data"
    },
    {
     "data": {
      "text/html": [
       "Find internal logs for this run at: <code>/home/sazeglio/NMAs/src/wandb/run-20210814_195335-cq8tnv2s/logs/debug-internal.log</code>"
      ],
      "text/plain": [
       "<IPython.core.display.HTML object>"
      ]
     },
     "metadata": {},
     "output_type": "display_data"
    },
    {
     "data": {
      "text/html": [
       "<h3>Run summary:</h3><br/><style>\n",
       "    table.wandb td:nth-child(1) { padding: 0 10px; text-align: right }\n",
       "    </style><table class=\"wandb\">\n",
       "<tr><td>train_loss</td><td>0.95917</td></tr><tr><td>valid_loss</td><td>1.21856</td></tr><tr><td>epoch</td><td>3999</td></tr><tr><td>_runtime</td><td>278</td></tr><tr><td>_timestamp</td><td>1628963893</td></tr><tr><td>_step</td><td>3999</td></tr></table>"
      ],
      "text/plain": [
       "<IPython.core.display.HTML object>"
      ]
     },
     "metadata": {},
     "output_type": "display_data"
    },
    {
     "data": {
      "text/html": [
       "<h3>Run history:</h3><br/><style>\n",
       "    table.wandb td:nth-child(1) { padding: 0 10px; text-align: right }\n",
       "    </style><table class=\"wandb\">\n",
       "<tr><td>train_loss</td><td>██▆▆▅▅▄▄▃▃▃▃▃▂▂▂▂▂▂▂▂▂▂▂▁▁▂▁▁▁▁▁▁▁▁▁▁▁▁▁</td></tr><tr><td>valid_loss</td><td>█▇▆▅▅▄▄▄▃▃▃▃▂▃▂▂▂▂▂▂▂▂▂▂▁▁▂▁▁▁▁▁▁▁▁▁▁▁▁▁</td></tr><tr><td>epoch</td><td>▁▁▁▂▂▂▂▂▂▃▃▃▃▃▄▄▄▄▄▄▅▅▅▅▅▅▆▆▆▆▆▇▇▇▇▇▇███</td></tr><tr><td>_runtime</td><td>▁▁▁▂▂▂▂▂▂▃▃▃▃▃▃▄▄▄▄▄▅▅▅▅▅▅▆▆▆▆▆▇▇▇▇▇▇███</td></tr><tr><td>_timestamp</td><td>▁▁▁▂▂▂▂▂▂▃▃▃▃▃▃▄▄▄▄▄▅▅▅▅▅▅▆▆▆▆▆▇▇▇▇▇▇███</td></tr><tr><td>_step</td><td>▁▁▁▂▂▂▂▂▂▃▃▃▃▃▄▄▄▄▄▄▅▅▅▅▅▅▆▆▆▆▆▇▇▇▇▇▇███</td></tr></table><br/>"
      ],
      "text/plain": [
       "<IPython.core.display.HTML object>"
      ]
     },
     "metadata": {},
     "output_type": "display_data"
    },
    {
     "data": {
      "text/html": [
       "Synced 5 W&B file(s), 0 media file(s), 0 artifact file(s) and 0 other file(s)"
      ],
      "text/plain": [
       "<IPython.core.display.HTML object>"
      ]
     },
     "metadata": {},
     "output_type": "display_data"
    },
    {
     "data": {
      "text/html": [
       "\n",
       "                    <br/>Synced <strong style=\"color:#cdcd00\">treasured-sweep-38</strong>: <a href=\"https://wandb.ai/sazio/NMAs-Small-Hidden-Dims/runs/cq8tnv2s\" target=\"_blank\">https://wandb.ai/sazio/NMAs-Small-Hidden-Dims/runs/cq8tnv2s</a><br/>\n",
       "                "
      ],
      "text/plain": [
       "<IPython.core.display.HTML object>"
      ]
     },
     "metadata": {},
     "output_type": "display_data"
    },
    {
     "name": "stderr",
     "output_type": "stream",
     "text": [
      "wandb: Agent Starting Run: a4wqlr3j with config:\n",
      "wandb: \tdropout: 0.2\n",
      "wandb: \tepochs: 4000\n",
      "wandb: \tlearning_rate: 0.0032411568862754357\n",
      "wandb: \tn_comp: 50\n",
      "wandb: \tnum_layers: 1\n",
      "wandb: \toptimizer: adam\n",
      "wandb: \tweight_decay: 1e-05\n",
      "Failed to detect the name of this notebook, you can set it manually with the WANDB_NOTEBOOK_NAME environment variable to enable code saving.\n"
     ]
    },
    {
     "data": {
      "text/html": [
       "\n",
       "                Tracking run with wandb version 0.12.0<br/>\n",
       "                Syncing run <strong style=\"color:#cdcd00\">youthful-sweep-39</strong> to <a href=\"https://wandb.ai\" target=\"_blank\">Weights & Biases</a> <a href=\"https://docs.wandb.com/integrations/jupyter.html\" target=\"_blank\">(Documentation)</a>.<br/>\n",
       "                Project page: <a href=\"https://wandb.ai/sazio/NMAs-Small-Hidden-Dims\" target=\"_blank\">https://wandb.ai/sazio/NMAs-Small-Hidden-Dims</a><br/>\n",
       "                Sweep page: <a href=\"https://wandb.ai/sazio/NMAs-Small-Hidden-Dims/sweeps/38qam6fd\" target=\"_blank\">https://wandb.ai/sazio/NMAs-Small-Hidden-Dims/sweeps/38qam6fd</a><br/>\n",
       "Run page: <a href=\"https://wandb.ai/sazio/NMAs-Small-Hidden-Dims/runs/a4wqlr3j\" target=\"_blank\">https://wandb.ai/sazio/NMAs-Small-Hidden-Dims/runs/a4wqlr3j</a><br/>\n",
       "                Run data is saved locally in <code>/home/sazeglio/NMAs/src/wandb/run-20210814_195817-a4wqlr3j</code><br/><br/>\n",
       "            "
      ],
      "text/plain": [
       "<IPython.core.display.HTML object>"
      ]
     },
     "metadata": {},
     "output_type": "display_data"
    },
    {
     "name": "stdout",
     "output_type": "stream",
     "text": [
      " iteration 0, train cost 3.7080, valid cost 3.7693\n",
      " iteration 50, train cost 2.0737, valid cost 2.1684\n",
      " iteration 100, train cost 2.0271, valid cost 2.1140\n",
      " iteration 150, train cost 1.9802, valid cost 2.0514\n",
      " iteration 200, train cost 1.9139, valid cost 1.9901\n",
      " iteration 250, train cost 1.8446, valid cost 1.9187\n",
      " iteration 300, train cost 1.7959, valid cost 1.8853\n",
      " iteration 350, train cost 1.7761, valid cost 1.8685\n",
      " iteration 400, train cost 1.7186, valid cost 1.8345\n",
      " iteration 450, train cost 1.6712, valid cost 1.7951\n",
      " iteration 500, train cost 1.6393, valid cost 1.7712\n",
      " iteration 550, train cost 1.6049, valid cost 1.7523\n",
      " iteration 600, train cost 1.5568, valid cost 1.7254\n",
      " iteration 650, train cost 1.5860, valid cost 1.7450\n",
      " iteration 700, train cost 1.4959, valid cost 1.6932\n",
      " iteration 750, train cost 1.4767, valid cost 1.6833\n",
      " iteration 800, train cost 1.4501, valid cost 1.6732\n",
      " iteration 850, train cost 1.4409, valid cost 1.6821\n",
      " iteration 900, train cost 1.4079, valid cost 1.6605\n",
      " iteration 950, train cost 1.4886, valid cost 1.6816\n",
      " iteration 1000, train cost 1.3768, valid cost 1.6454\n",
      " iteration 1050, train cost 1.3641, valid cost 1.6369\n",
      " iteration 1100, train cost 1.3493, valid cost 1.6315\n",
      " iteration 1150, train cost 1.3250, valid cost 1.6273\n",
      " iteration 1200, train cost 1.3123, valid cost 1.6199\n",
      " iteration 1250, train cost 1.3037, valid cost 1.6170\n",
      " iteration 1300, train cost 1.2918, valid cost 1.7318\n",
      " iteration 1350, train cost 1.3059, valid cost 1.6123\n",
      " iteration 1400, train cost 1.2871, valid cost 1.6049\n",
      " iteration 1450, train cost 1.2678, valid cost 1.6011\n",
      " iteration 1500, train cost 1.2565, valid cost 1.5984\n",
      " iteration 1550, train cost 1.2467, valid cost 1.5906\n",
      " iteration 1600, train cost 1.2362, valid cost 1.5902\n",
      " iteration 1650, train cost 1.5587, valid cost 1.7242\n",
      " iteration 1700, train cost 1.3712, valid cost 1.6199\n",
      " iteration 1750, train cost 1.2791, valid cost 1.5897\n",
      " iteration 1800, train cost 1.2514, valid cost 1.5820\n",
      " iteration 1850, train cost 1.2427, valid cost 1.5798\n",
      " iteration 1900, train cost 1.2528, valid cost 1.5802\n",
      " iteration 1950, train cost 1.2167, valid cost 1.5731\n",
      " iteration 2000, train cost 1.2104, valid cost 1.5725\n",
      " iteration 2050, train cost 1.1990, valid cost 1.5676\n",
      " iteration 2100, train cost 1.1950, valid cost 1.5663\n",
      " iteration 2150, train cost 1.2272, valid cost 1.5675\n",
      " iteration 2200, train cost 1.1828, valid cost 1.5593\n",
      " iteration 2250, train cost 1.1727, valid cost 1.5538\n",
      " iteration 2300, train cost 1.1969, valid cost 1.5648\n",
      " iteration 2350, train cost 1.1632, valid cost 1.5518\n",
      " iteration 2400, train cost 1.1613, valid cost 1.5499\n",
      " iteration 2450, train cost 1.1531, valid cost 1.5520\n",
      " iteration 2500, train cost 1.1566, valid cost 1.5428\n",
      " iteration 2550, train cost 1.1442, valid cost 1.5476\n",
      " iteration 2600, train cost 1.1358, valid cost 1.5401\n",
      " iteration 2650, train cost 1.1421, valid cost 1.5410\n",
      " iteration 2700, train cost 1.1265, valid cost 1.5355\n",
      " iteration 2750, train cost 1.1257, valid cost 1.5358\n",
      " iteration 2800, train cost 1.1206, valid cost 1.5288\n",
      " iteration 2850, train cost 1.1153, valid cost 1.5294\n",
      " iteration 2900, train cost 1.1102, valid cost 1.5273\n",
      " iteration 2950, train cost 1.1242, valid cost 1.5280\n",
      " iteration 3000, train cost 1.1140, valid cost 1.5301\n",
      " iteration 3050, train cost 1.1060, valid cost 1.5234\n",
      " iteration 3100, train cost 1.1058, valid cost 1.5281\n",
      " iteration 3150, train cost 1.0956, valid cost 1.5221\n",
      " iteration 3200, train cost 1.1282, valid cost 1.5511\n",
      " iteration 3250, train cost 1.0986, valid cost 1.5127\n",
      " iteration 3300, train cost 1.0981, valid cost 1.5074\n",
      " iteration 3350, train cost 1.1343, valid cost 1.5091\n",
      " iteration 3400, train cost 1.1016, valid cost 1.5089\n",
      " iteration 3450, train cost 1.0912, valid cost 1.5078\n",
      " iteration 3500, train cost 1.0893, valid cost 1.5059\n",
      " iteration 3550, train cost 1.0833, valid cost 1.5051\n",
      " iteration 3600, train cost 1.0795, valid cost 1.5028\n",
      " iteration 3650, train cost 1.0731, valid cost 1.5011\n",
      " iteration 3700, train cost 1.0697, valid cost 1.4945\n",
      " iteration 3750, train cost 1.0648, valid cost 1.4889\n",
      " iteration 3800, train cost 1.0747, valid cost 1.4912\n",
      " iteration 3850, train cost 1.0631, valid cost 1.4867\n",
      " iteration 3900, train cost 1.0588, valid cost 1.4838\n",
      " iteration 3950, train cost 1.0548, valid cost 1.4796\n"
     ]
    },
    {
     "data": {
      "text/html": [
       "<br/>Waiting for W&B process to finish, PID 185190<br/>Program ended successfully."
      ],
      "text/plain": [
       "<IPython.core.display.HTML object>"
      ]
     },
     "metadata": {},
     "output_type": "display_data"
    },
    {
     "name": "stderr",
     "output_type": "stream",
     "text": [
      "Widget Javascript not detected.  It may not be installed or enabled properly.\n"
     ]
    },
    {
     "data": {
      "application/vnd.jupyter.widget-view+json": {
       "model_id": "09ab15adefa94f35bf0c1e578d6157b2"
      }
     },
     "metadata": {},
     "output_type": "display_data"
    },
    {
     "data": {
      "text/html": [
       "Find user logs for this run at: <code>/home/sazeglio/NMAs/src/wandb/run-20210814_195817-a4wqlr3j/logs/debug.log</code>"
      ],
      "text/plain": [
       "<IPython.core.display.HTML object>"
      ]
     },
     "metadata": {},
     "output_type": "display_data"
    },
    {
     "data": {
      "text/html": [
       "Find internal logs for this run at: <code>/home/sazeglio/NMAs/src/wandb/run-20210814_195817-a4wqlr3j/logs/debug-internal.log</code>"
      ],
      "text/plain": [
       "<IPython.core.display.HTML object>"
      ]
     },
     "metadata": {},
     "output_type": "display_data"
    },
    {
     "data": {
      "text/html": [
       "<h3>Run summary:</h3><br/><style>\n",
       "    table.wandb td:nth-child(1) { padding: 0 10px; text-align: right }\n",
       "    </style><table class=\"wandb\">\n",
       "<tr><td>train_loss</td><td>1.10024</td></tr><tr><td>valid_loss</td><td>1.47927</td></tr><tr><td>epoch</td><td>3999</td></tr><tr><td>_runtime</td><td>279</td></tr><tr><td>_timestamp</td><td>1628964176</td></tr><tr><td>_step</td><td>3999</td></tr></table>"
      ],
      "text/plain": [
       "<IPython.core.display.HTML object>"
      ]
     },
     "metadata": {},
     "output_type": "display_data"
    },
    {
     "data": {
      "text/html": [
       "<h3>Run history:</h3><br/><style>\n",
       "    table.wandb td:nth-child(1) { padding: 0 10px; text-align: right }\n",
       "    </style><table class=\"wandb\">\n",
       "<tr><td>train_loss</td><td>█▇▇▆▅▅▄▄▄▃▄▃▃▃▂▂▂▂▂▂▂▂▂▂▂▂▁▁▁▁▁▁▂▁▁▁▁▁▁▂</td></tr><tr><td>valid_loss</td><td>█▇▆▅▄▄▃▃▃▃▃▂▂▂▂▂▂▂▂▂▂▂▂▂▂▂▁▁▁▁▁▁▂▁▁▁▁▁▁▂</td></tr><tr><td>epoch</td><td>▁▁▁▂▂▂▂▂▂▃▃▃▃▃▄▄▄▄▄▄▅▅▅▅▅▅▆▆▆▆▆▇▇▇▇▇▇███</td></tr><tr><td>_runtime</td><td>▁▁▁▂▂▂▂▂▂▃▃▃▃▃▄▄▄▄▄▄▅▅▅▅▅▅▆▆▆▆▆▇▇▇▇▇▇███</td></tr><tr><td>_timestamp</td><td>▁▁▁▂▂▂▂▂▂▃▃▃▃▃▄▄▄▄▄▄▅▅▅▅▅▅▆▆▆▆▆▇▇▇▇▇▇███</td></tr><tr><td>_step</td><td>▁▁▁▂▂▂▂▂▂▃▃▃▃▃▄▄▄▄▄▄▅▅▅▅▅▅▆▆▆▆▆▇▇▇▇▇▇███</td></tr></table><br/>"
      ],
      "text/plain": [
       "<IPython.core.display.HTML object>"
      ]
     },
     "metadata": {},
     "output_type": "display_data"
    },
    {
     "data": {
      "text/html": [
       "Synced 5 W&B file(s), 0 media file(s), 0 artifact file(s) and 0 other file(s)"
      ],
      "text/plain": [
       "<IPython.core.display.HTML object>"
      ]
     },
     "metadata": {},
     "output_type": "display_data"
    },
    {
     "data": {
      "text/html": [
       "\n",
       "                    <br/>Synced <strong style=\"color:#cdcd00\">youthful-sweep-39</strong>: <a href=\"https://wandb.ai/sazio/NMAs-Small-Hidden-Dims/runs/a4wqlr3j\" target=\"_blank\">https://wandb.ai/sazio/NMAs-Small-Hidden-Dims/runs/a4wqlr3j</a><br/>\n",
       "                "
      ],
      "text/plain": [
       "<IPython.core.display.HTML object>"
      ]
     },
     "metadata": {},
     "output_type": "display_data"
    },
    {
     "name": "stderr",
     "output_type": "stream",
     "text": [
      "wandb: Agent Starting Run: cvrw8l88 with config:\n",
      "wandb: \tdropout: 0.5\n",
      "wandb: \tepochs: 4000\n",
      "wandb: \tlearning_rate: 0.0003950886184925522\n",
      "wandb: \tn_comp: 75\n",
      "wandb: \tnum_layers: 1\n",
      "wandb: \toptimizer: adam\n",
      "wandb: \tweight_decay: 5e-05\n",
      "Failed to detect the name of this notebook, you can set it manually with the WANDB_NOTEBOOK_NAME environment variable to enable code saving.\n"
     ]
    },
    {
     "data": {
      "text/html": [
       "\n",
       "                Tracking run with wandb version 0.12.0<br/>\n",
       "                Syncing run <strong style=\"color:#cdcd00\">smart-sweep-40</strong> to <a href=\"https://wandb.ai\" target=\"_blank\">Weights & Biases</a> <a href=\"https://docs.wandb.com/integrations/jupyter.html\" target=\"_blank\">(Documentation)</a>.<br/>\n",
       "                Project page: <a href=\"https://wandb.ai/sazio/NMAs-Small-Hidden-Dims\" target=\"_blank\">https://wandb.ai/sazio/NMAs-Small-Hidden-Dims</a><br/>\n",
       "                Sweep page: <a href=\"https://wandb.ai/sazio/NMAs-Small-Hidden-Dims/sweeps/38qam6fd\" target=\"_blank\">https://wandb.ai/sazio/NMAs-Small-Hidden-Dims/sweeps/38qam6fd</a><br/>\n",
       "Run page: <a href=\"https://wandb.ai/sazio/NMAs-Small-Hidden-Dims/runs/cvrw8l88\" target=\"_blank\">https://wandb.ai/sazio/NMAs-Small-Hidden-Dims/runs/cvrw8l88</a><br/>\n",
       "                Run data is saved locally in <code>/home/sazeglio/NMAs/src/wandb/run-20210814_200301-cvrw8l88</code><br/><br/>\n",
       "            "
      ],
      "text/plain": [
       "<IPython.core.display.HTML object>"
      ]
     },
     "metadata": {},
     "output_type": "display_data"
    },
    {
     "name": "stdout",
     "output_type": "stream",
     "text": [
      " iteration 0, train cost 3.7094, valid cost 3.8050\n",
      " iteration 50, train cost 2.1504, valid cost 2.2305\n",
      " iteration 100, train cost 2.0822, valid cost 2.1664\n",
      " iteration 150, train cost 2.0763, valid cost 2.1633\n",
      " iteration 200, train cost 2.0700, valid cost 2.1582\n",
      " iteration 250, train cost 2.0493, valid cost 2.1344\n",
      " iteration 300, train cost 1.9628, valid cost 2.0342\n",
      " iteration 350, train cost 1.8762, valid cost 1.9445\n",
      " iteration 400, train cost 1.8029, valid cost 1.8732\n",
      " iteration 450, train cost 1.7523, valid cost 1.8279\n",
      " iteration 500, train cost 1.7028, valid cost 1.7853\n",
      " iteration 550, train cost 1.6607, valid cost 1.7483\n",
      " iteration 600, train cost 1.6251, valid cost 1.7168\n",
      " iteration 650, train cost 1.5933, valid cost 1.6886\n",
      " iteration 700, train cost 1.5658, valid cost 1.6651\n",
      " iteration 750, train cost 1.5468, valid cost 1.6476\n",
      " iteration 800, train cost 1.5282, valid cost 1.6292\n",
      " iteration 850, train cost 1.5096, valid cost 1.6123\n",
      " iteration 900, train cost 1.4893, valid cost 1.5935\n",
      " iteration 950, train cost 1.4691, valid cost 1.5748\n",
      " iteration 1000, train cost 1.4489, valid cost 1.5567\n",
      " iteration 1050, train cost 1.4294, valid cost 1.5415\n",
      " iteration 1100, train cost 1.4126, valid cost 1.5269\n",
      " iteration 1150, train cost 1.3965, valid cost 1.5137\n",
      " iteration 1200, train cost 1.3803, valid cost 1.5006\n",
      " iteration 1250, train cost 1.3684, valid cost 1.4901\n",
      " iteration 1300, train cost 1.3568, valid cost 1.4794\n",
      " iteration 1350, train cost 1.3455, valid cost 1.4708\n",
      " iteration 1400, train cost 1.3344, valid cost 1.4636\n",
      " iteration 1450, train cost 1.3257, valid cost 1.4555\n",
      " iteration 1500, train cost 1.3156, valid cost 1.4474\n",
      " iteration 1550, train cost 1.3070, valid cost 1.4405\n",
      " iteration 1600, train cost 1.2952, valid cost 1.4317\n",
      " iteration 1650, train cost 1.2864, valid cost 1.4236\n",
      " iteration 1700, train cost 1.2764, valid cost 1.4144\n",
      " iteration 1750, train cost 1.2677, valid cost 1.4073\n",
      " iteration 1800, train cost 1.2613, valid cost 1.3998\n",
      " iteration 1850, train cost 1.2530, valid cost 1.3928\n",
      " iteration 1900, train cost 1.2472, valid cost 1.3872\n",
      " iteration 1950, train cost 1.2427, valid cost 1.3809\n",
      " iteration 2000, train cost 1.2383, valid cost 1.3757\n",
      " iteration 2050, train cost 1.2300, valid cost 1.3704\n",
      " iteration 2100, train cost 1.2251, valid cost 1.3662\n",
      " iteration 2150, train cost 1.2216, valid cost 1.3626\n",
      " iteration 2200, train cost 1.2169, valid cost 1.3581\n",
      " iteration 2250, train cost 1.2125, valid cost 1.3558\n",
      " iteration 2300, train cost 1.2086, valid cost 1.3517\n",
      " iteration 2350, train cost 1.2032, valid cost 1.3481\n",
      " iteration 2400, train cost 1.2003, valid cost 1.3447\n",
      " iteration 2450, train cost 1.1967, valid cost 1.3428\n",
      " iteration 2500, train cost 1.1928, valid cost 1.3379\n",
      " iteration 2550, train cost 1.1882, valid cost 1.3356\n",
      " iteration 2600, train cost 1.1847, valid cost 1.3323\n",
      " iteration 2650, train cost 1.1828, valid cost 1.3283\n",
      " iteration 2700, train cost 1.1764, valid cost 1.3250\n",
      " iteration 2750, train cost 1.1731, valid cost 1.3211\n",
      " iteration 2800, train cost 1.1707, valid cost 1.3178\n",
      " iteration 2850, train cost 1.1649, valid cost 1.3144\n",
      " iteration 2900, train cost 1.1615, valid cost 1.3102\n",
      " iteration 2950, train cost 1.1585, valid cost 1.3068\n",
      " iteration 3000, train cost 1.1526, valid cost 1.3038\n",
      " iteration 3050, train cost 1.1509, valid cost 1.2990\n",
      " iteration 3100, train cost 1.1459, valid cost 1.2959\n",
      " iteration 3150, train cost 1.1423, valid cost 1.2922\n",
      " iteration 3200, train cost 1.1385, valid cost 1.2895\n",
      " iteration 3250, train cost 1.1354, valid cost 1.2854\n",
      " iteration 3300, train cost 1.1308, valid cost 1.2834\n",
      " iteration 3350, train cost 1.1265, valid cost 1.2800\n",
      " iteration 3400, train cost 1.1274, valid cost 1.2772\n",
      " iteration 3450, train cost 1.1216, valid cost 1.2735\n",
      " iteration 3500, train cost 1.1189, valid cost 1.2710\n",
      " iteration 3550, train cost 1.1145, valid cost 1.2679\n",
      " iteration 3600, train cost 1.1136, valid cost 1.2660\n",
      " iteration 3650, train cost 1.1120, valid cost 1.2636\n",
      " iteration 3700, train cost 1.1076, valid cost 1.2612\n",
      " iteration 3750, train cost 1.1057, valid cost 1.2591\n",
      " iteration 3800, train cost 1.1058, valid cost 1.2577\n",
      " iteration 3850, train cost 1.1038, valid cost 1.2546\n",
      " iteration 3900, train cost 1.0992, valid cost 1.2534\n",
      " iteration 3950, train cost 1.0976, valid cost 1.2517\n"
     ]
    },
    {
     "data": {
      "text/html": [
       "<br/>Waiting for W&B process to finish, PID 185282<br/>Program ended successfully."
      ],
      "text/plain": [
       "<IPython.core.display.HTML object>"
      ]
     },
     "metadata": {},
     "output_type": "display_data"
    },
    {
     "name": "stderr",
     "output_type": "stream",
     "text": [
      "Widget Javascript not detected.  It may not be installed or enabled properly.\n"
     ]
    },
    {
     "data": {
      "application/vnd.jupyter.widget-view+json": {
       "model_id": "14cfde091f3545f2b5188ea270bd5e4e"
      }
     },
     "metadata": {},
     "output_type": "display_data"
    },
    {
     "data": {
      "text/html": [
       "Find user logs for this run at: <code>/home/sazeglio/NMAs/src/wandb/run-20210814_200301-cvrw8l88/logs/debug.log</code>"
      ],
      "text/plain": [
       "<IPython.core.display.HTML object>"
      ]
     },
     "metadata": {},
     "output_type": "display_data"
    },
    {
     "data": {
      "text/html": [
       "Find internal logs for this run at: <code>/home/sazeglio/NMAs/src/wandb/run-20210814_200301-cvrw8l88/logs/debug-internal.log</code>"
      ],
      "text/plain": [
       "<IPython.core.display.HTML object>"
      ]
     },
     "metadata": {},
     "output_type": "display_data"
    },
    {
     "data": {
      "text/html": [
       "<h3>Run summary:</h3><br/><style>\n",
       "    table.wandb td:nth-child(1) { padding: 0 10px; text-align: right }\n",
       "    </style><table class=\"wandb\">\n",
       "<tr><td>train_loss</td><td>1.09567</td></tr><tr><td>valid_loss</td><td>1.24899</td></tr><tr><td>epoch</td><td>3999</td></tr><tr><td>_runtime</td><td>278</td></tr><tr><td>_timestamp</td><td>1628964459</td></tr><tr><td>_step</td><td>3999</td></tr></table>"
      ],
      "text/plain": [
       "<IPython.core.display.HTML object>"
      ]
     },
     "metadata": {},
     "output_type": "display_data"
    },
    {
     "data": {
      "text/html": [
       "<h3>Run history:</h3><br/><style>\n",
       "    table.wandb td:nth-child(1) { padding: 0 10px; text-align: right }\n",
       "    </style><table class=\"wandb\">\n",
       "<tr><td>train_loss</td><td>█▆▆▅▅▄▄▃▃▃▃▃▂▂▂▂▂▂▂▂▂▂▂▂▁▁▁▁▁▁▁▁▁▁▁▁▁▁▁▁</td></tr><tr><td>valid_loss</td><td>█▆▆▅▄▄▃▃▃▃▃▂▂▂▂▂▂▂▂▂▂▂▂▂▁▁▁▁▁▁▁▁▁▁▁▁▁▁▁▁</td></tr><tr><td>epoch</td><td>▁▁▁▂▂▂▂▂▂▃▃▃▃▃▄▄▄▄▄▄▅▅▅▅▅▅▆▆▆▆▆▇▇▇▇▇▇███</td></tr><tr><td>_runtime</td><td>▁▁▁▂▂▂▂▂▂▃▃▃▃▃▄▄▄▄▄▄▅▅▅▅▅▅▆▆▆▆▆▇▇▇▇▇▇███</td></tr><tr><td>_timestamp</td><td>▁▁▁▂▂▂▂▂▂▃▃▃▃▃▄▄▄▄▄▄▅▅▅▅▅▅▆▆▆▆▆▇▇▇▇▇▇███</td></tr><tr><td>_step</td><td>▁▁▁▂▂▂▂▂▂▃▃▃▃▃▄▄▄▄▄▄▅▅▅▅▅▅▆▆▆▆▆▇▇▇▇▇▇███</td></tr></table><br/>"
      ],
      "text/plain": [
       "<IPython.core.display.HTML object>"
      ]
     },
     "metadata": {},
     "output_type": "display_data"
    },
    {
     "data": {
      "text/html": [
       "Synced 5 W&B file(s), 0 media file(s), 0 artifact file(s) and 0 other file(s)"
      ],
      "text/plain": [
       "<IPython.core.display.HTML object>"
      ]
     },
     "metadata": {},
     "output_type": "display_data"
    },
    {
     "data": {
      "text/html": [
       "\n",
       "                    <br/>Synced <strong style=\"color:#cdcd00\">smart-sweep-40</strong>: <a href=\"https://wandb.ai/sazio/NMAs-Small-Hidden-Dims/runs/cvrw8l88\" target=\"_blank\">https://wandb.ai/sazio/NMAs-Small-Hidden-Dims/runs/cvrw8l88</a><br/>\n",
       "                "
      ],
      "text/plain": [
       "<IPython.core.display.HTML object>"
      ]
     },
     "metadata": {},
     "output_type": "display_data"
    },
    {
     "name": "stderr",
     "output_type": "stream",
     "text": [
      "wandb: Agent Starting Run: 0ry74t71 with config:\n",
      "wandb: \tdropout: 0.2\n",
      "wandb: \tepochs: 4000\n",
      "wandb: \tlearning_rate: 0.0002580741229419343\n",
      "wandb: \tn_comp: 75\n",
      "wandb: \tnum_layers: 1\n",
      "wandb: \toptimizer: adam\n",
      "wandb: \tweight_decay: 1e-05\n",
      "Failed to detect the name of this notebook, you can set it manually with the WANDB_NOTEBOOK_NAME environment variable to enable code saving.\n"
     ]
    },
    {
     "data": {
      "text/html": [
       "\n",
       "                Tracking run with wandb version 0.12.0<br/>\n",
       "                Syncing run <strong style=\"color:#cdcd00\">soft-sweep-41</strong> to <a href=\"https://wandb.ai\" target=\"_blank\">Weights & Biases</a> <a href=\"https://docs.wandb.com/integrations/jupyter.html\" target=\"_blank\">(Documentation)</a>.<br/>\n",
       "                Project page: <a href=\"https://wandb.ai/sazio/NMAs-Small-Hidden-Dims\" target=\"_blank\">https://wandb.ai/sazio/NMAs-Small-Hidden-Dims</a><br/>\n",
       "                Sweep page: <a href=\"https://wandb.ai/sazio/NMAs-Small-Hidden-Dims/sweeps/38qam6fd\" target=\"_blank\">https://wandb.ai/sazio/NMAs-Small-Hidden-Dims/sweeps/38qam6fd</a><br/>\n",
       "Run page: <a href=\"https://wandb.ai/sazio/NMAs-Small-Hidden-Dims/runs/0ry74t71\" target=\"_blank\">https://wandb.ai/sazio/NMAs-Small-Hidden-Dims/runs/0ry74t71</a><br/>\n",
       "                Run data is saved locally in <code>/home/sazeglio/NMAs/src/wandb/run-20210814_200743-0ry74t71</code><br/><br/>\n",
       "            "
      ],
      "text/plain": [
       "<IPython.core.display.HTML object>"
      ]
     },
     "metadata": {},
     "output_type": "display_data"
    },
    {
     "name": "stdout",
     "output_type": "stream",
     "text": [
      " iteration 0, train cost 3.7004, valid cost 3.7993\n",
      " iteration 50, train cost 2.3076, valid cost 2.3675\n",
      " iteration 100, train cost 2.0924, valid cost 2.1739\n",
      " iteration 150, train cost 2.0819, valid cost 2.1660\n",
      " iteration 200, train cost 2.0773, valid cost 2.1636\n",
      " iteration 250, train cost 2.0722, valid cost 2.1598\n",
      " iteration 300, train cost 2.0627, valid cost 2.1502\n",
      " iteration 350, train cost 2.0354, valid cost 2.1192\n",
      " iteration 400, train cost 1.9602, valid cost 2.0356\n",
      " iteration 450, train cost 1.8874, valid cost 1.9640\n",
      " iteration 500, train cost 1.8515, valid cost 1.9312\n",
      " iteration 550, train cost 1.8166, valid cost 1.8950\n",
      " iteration 600, train cost 1.7866, valid cost 1.8680\n",
      " iteration 650, train cost 1.7569, valid cost 1.8429\n",
      " iteration 700, train cost 1.7243, valid cost 1.8137\n",
      " iteration 750, train cost 1.6978, valid cost 1.7925\n",
      " iteration 800, train cost 1.6704, valid cost 1.7702\n",
      " iteration 850, train cost 1.6419, valid cost 1.7467\n",
      " iteration 900, train cost 1.6162, valid cost 1.7241\n",
      " iteration 950, train cost 1.5901, valid cost 1.7007\n",
      " iteration 1000, train cost 1.5654, valid cost 1.6760\n",
      " iteration 1050, train cost 1.5428, valid cost 1.6535\n",
      " iteration 1100, train cost 1.5218, valid cost 1.6337\n",
      " iteration 1150, train cost 1.5048, valid cost 1.6167\n",
      " iteration 1200, train cost 1.4891, valid cost 1.6026\n",
      " iteration 1250, train cost 1.4741, valid cost 1.5913\n",
      " iteration 1300, train cost 1.4626, valid cost 1.5809\n",
      " iteration 1350, train cost 1.4509, valid cost 1.5699\n",
      " iteration 1400, train cost 1.4393, valid cost 1.5599\n",
      " iteration 1450, train cost 1.4267, valid cost 1.5488\n",
      " iteration 1500, train cost 1.4140, valid cost 1.5382\n",
      " iteration 1550, train cost 1.4027, valid cost 1.5286\n",
      " iteration 1600, train cost 1.3923, valid cost 1.5193\n",
      " iteration 1650, train cost 1.3811, valid cost 1.5096\n",
      " iteration 1700, train cost 1.3701, valid cost 1.4988\n",
      " iteration 1750, train cost 1.3592, valid cost 1.4889\n",
      " iteration 1800, train cost 1.3485, valid cost 1.4797\n",
      " iteration 1850, train cost 1.3402, valid cost 1.4718\n",
      " iteration 1900, train cost 1.3302, valid cost 1.4638\n",
      " iteration 1950, train cost 1.3214, valid cost 1.4566\n",
      " iteration 2000, train cost 1.3135, valid cost 1.4499\n",
      " iteration 2050, train cost 1.3056, valid cost 1.4445\n",
      " iteration 2100, train cost 1.2969, valid cost 1.4384\n",
      " iteration 2150, train cost 1.2908, valid cost 1.4339\n",
      " iteration 2200, train cost 1.2838, valid cost 1.4293\n",
      " iteration 2250, train cost 1.2766, valid cost 1.4246\n",
      " iteration 2300, train cost 1.2698, valid cost 1.4202\n",
      " iteration 2350, train cost 1.2636, valid cost 1.4149\n",
      " iteration 2400, train cost 1.2581, valid cost 1.4115\n",
      " iteration 2450, train cost 1.2533, valid cost 1.4065\n",
      " iteration 2500, train cost 1.2461, valid cost 1.4033\n",
      " iteration 2550, train cost 1.2432, valid cost 1.3990\n",
      " iteration 2600, train cost 1.2381, valid cost 1.3952\n",
      " iteration 2650, train cost 1.2342, valid cost 1.3914\n",
      " iteration 2700, train cost 1.2262, valid cost 1.3881\n",
      " iteration 2750, train cost 1.2230, valid cost 1.3844\n",
      " iteration 2800, train cost 1.2185, valid cost 1.3803\n",
      " iteration 2850, train cost 1.2149, valid cost 1.3762\n",
      " iteration 2900, train cost 1.2095, valid cost 1.3727\n",
      " iteration 2950, train cost 1.2041, valid cost 1.3692\n",
      " iteration 3000, train cost 1.1998, valid cost 1.3657\n",
      " iteration 3050, train cost 1.1965, valid cost 1.3619\n",
      " iteration 3100, train cost 1.1922, valid cost 1.3587\n",
      " iteration 3150, train cost 1.1868, valid cost 1.3548\n",
      " iteration 3200, train cost 1.1836, valid cost 1.3511\n",
      " iteration 3250, train cost 1.1788, valid cost 1.3482\n",
      " iteration 3300, train cost 1.1755, valid cost 1.3451\n",
      " iteration 3350, train cost 1.1738, valid cost 1.3415\n",
      " iteration 3400, train cost 1.1684, valid cost 1.3388\n",
      " iteration 3450, train cost 1.1651, valid cost 1.3364\n",
      " iteration 3500, train cost 1.1612, valid cost 1.3340\n",
      " iteration 3550, train cost 1.1571, valid cost 1.3319\n",
      " iteration 3600, train cost 1.1552, valid cost 1.3285\n",
      " iteration 3650, train cost 1.1516, valid cost 1.3259\n",
      " iteration 3700, train cost 1.1473, valid cost 1.3243\n",
      " iteration 3750, train cost 1.1440, valid cost 1.3212\n",
      " iteration 3800, train cost 1.1398, valid cost 1.3184\n",
      " iteration 3850, train cost 1.1371, valid cost 1.3163\n",
      " iteration 3900, train cost 1.1338, valid cost 1.3143\n",
      " iteration 3950, train cost 1.1310, valid cost 1.3122\n"
     ]
    },
    {
     "data": {
      "text/html": [
       "<br/>Waiting for W&B process to finish, PID 185373<br/>Program ended successfully."
      ],
      "text/plain": [
       "<IPython.core.display.HTML object>"
      ]
     },
     "metadata": {},
     "output_type": "display_data"
    },
    {
     "name": "stderr",
     "output_type": "stream",
     "text": [
      "Widget Javascript not detected.  It may not be installed or enabled properly.\n"
     ]
    },
    {
     "data": {
      "application/vnd.jupyter.widget-view+json": {
       "model_id": "6089209f75714a2e878ed710da5ab74f"
      }
     },
     "metadata": {},
     "output_type": "display_data"
    },
    {
     "data": {
      "text/html": [
       "Find user logs for this run at: <code>/home/sazeglio/NMAs/src/wandb/run-20210814_200743-0ry74t71/logs/debug.log</code>"
      ],
      "text/plain": [
       "<IPython.core.display.HTML object>"
      ]
     },
     "metadata": {},
     "output_type": "display_data"
    },
    {
     "data": {
      "text/html": [
       "Find internal logs for this run at: <code>/home/sazeglio/NMAs/src/wandb/run-20210814_200743-0ry74t71/logs/debug-internal.log</code>"
      ],
      "text/plain": [
       "<IPython.core.display.HTML object>"
      ]
     },
     "metadata": {},
     "output_type": "display_data"
    },
    {
     "data": {
      "text/html": [
       "<h3>Run summary:</h3><br/><style>\n",
       "    table.wandb td:nth-child(1) { padding: 0 10px; text-align: right }\n",
       "    </style><table class=\"wandb\">\n",
       "<tr><td>train_loss</td><td>1.13075</td></tr><tr><td>valid_loss</td><td>1.31091</td></tr><tr><td>epoch</td><td>3999</td></tr><tr><td>_runtime</td><td>277</td></tr><tr><td>_timestamp</td><td>1628964740</td></tr><tr><td>_step</td><td>3999</td></tr></table>"
      ],
      "text/plain": [
       "<IPython.core.display.HTML object>"
      ]
     },
     "metadata": {},
     "output_type": "display_data"
    },
    {
     "data": {
      "text/html": [
       "<h3>Run history:</h3><br/><style>\n",
       "    table.wandb td:nth-child(1) { padding: 0 10px; text-align: right }\n",
       "    </style><table class=\"wandb\">\n",
       "<tr><td>train_loss</td><td>█▅▅▅▄▄▄▃▃▃▃▃▂▂▂▂▂▂▂▂▂▂▂▂▁▁▁▁▁▁▁▁▁▁▁▁▁▁▁▁</td></tr><tr><td>valid_loss</td><td>█▅▅▅▄▄▃▃▃▃▃▂▂▂▂▂▂▂▂▂▂▂▂▁▁▁▁▁▁▁▁▁▁▁▁▁▁▁▁▁</td></tr><tr><td>epoch</td><td>▁▁▁▂▂▂▂▂▂▃▃▃▃▃▄▄▄▄▄▄▅▅▅▅▅▅▆▆▆▆▆▇▇▇▇▇▇███</td></tr><tr><td>_runtime</td><td>▁▁▁▂▂▂▂▂▂▃▃▃▃▃▄▄▄▄▄▄▅▅▅▅▅▅▆▆▆▆▆▇▇▇▇▇▇███</td></tr><tr><td>_timestamp</td><td>▁▁▁▂▂▂▂▂▂▃▃▃▃▃▄▄▄▄▄▄▅▅▅▅▅▅▆▆▆▆▆▇▇▇▇▇▇███</td></tr><tr><td>_step</td><td>▁▁▁▂▂▂▂▂▂▃▃▃▃▃▄▄▄▄▄▄▅▅▅▅▅▅▆▆▆▆▆▇▇▇▇▇▇███</td></tr></table><br/>"
      ],
      "text/plain": [
       "<IPython.core.display.HTML object>"
      ]
     },
     "metadata": {},
     "output_type": "display_data"
    },
    {
     "data": {
      "text/html": [
       "Synced 5 W&B file(s), 0 media file(s), 0 artifact file(s) and 0 other file(s)"
      ],
      "text/plain": [
       "<IPython.core.display.HTML object>"
      ]
     },
     "metadata": {},
     "output_type": "display_data"
    },
    {
     "data": {
      "text/html": [
       "\n",
       "                    <br/>Synced <strong style=\"color:#cdcd00\">soft-sweep-41</strong>: <a href=\"https://wandb.ai/sazio/NMAs-Small-Hidden-Dims/runs/0ry74t71\" target=\"_blank\">https://wandb.ai/sazio/NMAs-Small-Hidden-Dims/runs/0ry74t71</a><br/>\n",
       "                "
      ],
      "text/plain": [
       "<IPython.core.display.HTML object>"
      ]
     },
     "metadata": {},
     "output_type": "display_data"
    },
    {
     "name": "stderr",
     "output_type": "stream",
     "text": [
      "wandb: Agent Starting Run: ja47663e with config:\n",
      "wandb: \tdropout: 0.2\n",
      "wandb: \tepochs: 4000\n",
      "wandb: \tlearning_rate: 0.0011563626675705307\n",
      "wandb: \tn_comp: 75\n",
      "wandb: \tnum_layers: 1\n",
      "wandb: \toptimizer: adam\n",
      "wandb: \tweight_decay: 1e-05\n",
      "Failed to detect the name of this notebook, you can set it manually with the WANDB_NOTEBOOK_NAME environment variable to enable code saving.\n"
     ]
    },
    {
     "data": {
      "text/html": [
       "\n",
       "                Tracking run with wandb version 0.12.0<br/>\n",
       "                Syncing run <strong style=\"color:#cdcd00\">crimson-sweep-42</strong> to <a href=\"https://wandb.ai\" target=\"_blank\">Weights & Biases</a> <a href=\"https://docs.wandb.com/integrations/jupyter.html\" target=\"_blank\">(Documentation)</a>.<br/>\n",
       "                Project page: <a href=\"https://wandb.ai/sazio/NMAs-Small-Hidden-Dims\" target=\"_blank\">https://wandb.ai/sazio/NMAs-Small-Hidden-Dims</a><br/>\n",
       "                Sweep page: <a href=\"https://wandb.ai/sazio/NMAs-Small-Hidden-Dims/sweeps/38qam6fd\" target=\"_blank\">https://wandb.ai/sazio/NMAs-Small-Hidden-Dims/sweeps/38qam6fd</a><br/>\n",
       "Run page: <a href=\"https://wandb.ai/sazio/NMAs-Small-Hidden-Dims/runs/ja47663e\" target=\"_blank\">https://wandb.ai/sazio/NMAs-Small-Hidden-Dims/runs/ja47663e</a><br/>\n",
       "                Run data is saved locally in <code>/home/sazeglio/NMAs/src/wandb/run-20210814_201224-ja47663e</code><br/><br/>\n",
       "            "
      ],
      "text/plain": [
       "<IPython.core.display.HTML object>"
      ]
     },
     "metadata": {},
     "output_type": "display_data"
    },
    {
     "name": "stdout",
     "output_type": "stream",
     "text": [
      " iteration 0, train cost 3.7087, valid cost 3.7962\n",
      " iteration 50, train cost 2.0839, valid cost 2.1728\n",
      " iteration 100, train cost 2.0719, valid cost 2.1626\n",
      " iteration 150, train cost 2.0211, valid cost 2.1018\n",
      " iteration 200, train cost 1.9072, valid cost 1.9836\n",
      " iteration 250, train cost 1.8017, valid cost 1.8754\n",
      " iteration 300, train cost 1.7479, valid cost 1.8294\n",
      " iteration 350, train cost 1.7014, valid cost 1.7910\n",
      " iteration 400, train cost 1.6436, valid cost 1.7440\n",
      " iteration 450, train cost 1.6003, valid cost 1.7059\n",
      " iteration 500, train cost 1.5559, valid cost 1.6704\n",
      " iteration 550, train cost 1.5200, valid cost 1.6396\n",
      " iteration 600, train cost 1.4812, valid cost 1.6061\n",
      " iteration 650, train cost 1.4529, valid cost 1.5817\n",
      " iteration 700, train cost 1.4256, valid cost 1.5574\n",
      " iteration 750, train cost 1.3963, valid cost 1.5325\n",
      " iteration 800, train cost 1.3701, valid cost 1.5086\n",
      " iteration 850, train cost 1.3468, valid cost 1.4886\n",
      " iteration 900, train cost 1.3245, valid cost 1.4686\n",
      " iteration 950, train cost 1.3065, valid cost 1.4524\n",
      " iteration 1000, train cost 1.2891, valid cost 1.4376\n",
      " iteration 1050, train cost 1.2696, valid cost 1.4229\n",
      " iteration 1100, train cost 1.2531, valid cost 1.4110\n",
      " iteration 1150, train cost 1.2412, valid cost 1.4000\n",
      " iteration 1200, train cost 1.2263, valid cost 1.3862\n",
      " iteration 1250, train cost 1.2111, valid cost 1.3799\n",
      " iteration 1300, train cost 1.1963, valid cost 1.3654\n",
      " iteration 1350, train cost 1.1870, valid cost 1.3645\n",
      " iteration 1400, train cost 1.1708, valid cost 1.3472\n",
      " iteration 1450, train cost 1.1598, valid cost 1.3383\n",
      " iteration 1500, train cost 1.1514, valid cost 1.3318\n",
      " iteration 1550, train cost 1.1398, valid cost 1.3230\n",
      " iteration 1600, train cost 1.1310, valid cost 1.3172\n",
      " iteration 1650, train cost 1.1263, valid cost 1.3134\n",
      " iteration 1700, train cost 1.1164, valid cost 1.3058\n",
      " iteration 1750, train cost 1.1128, valid cost 1.3012\n",
      " iteration 1800, train cost 1.1047, valid cost 1.2971\n",
      " iteration 1850, train cost 1.1024, valid cost 1.2966\n",
      " iteration 1900, train cost 1.0930, valid cost 1.2892\n",
      " iteration 1950, train cost 1.0869, valid cost 1.2868\n",
      " iteration 2000, train cost 1.0803, valid cost 1.2814\n",
      " iteration 2050, train cost 1.0752, valid cost 1.2795\n",
      " iteration 2100, train cost 1.0689, valid cost 1.2739\n",
      " iteration 2150, train cost 1.0636, valid cost 1.2699\n",
      " iteration 2200, train cost 1.0577, valid cost 1.2654\n",
      " iteration 2250, train cost 1.0550, valid cost 1.2635\n",
      " iteration 2300, train cost 1.0773, valid cost 1.2839\n",
      " iteration 2350, train cost 1.0415, valid cost 1.2525\n",
      " iteration 2400, train cost 1.0377, valid cost 1.2481\n",
      " iteration 2450, train cost 1.0336, valid cost 1.2460\n",
      " iteration 2500, train cost 1.0290, valid cost 1.2411\n",
      " iteration 2550, train cost 1.0268, valid cost 1.2385\n",
      " iteration 2600, train cost 1.0198, valid cost 1.2328\n",
      " iteration 2650, train cost 1.0161, valid cost 1.2295\n",
      " iteration 2700, train cost 1.0118, valid cost 1.2262\n",
      " iteration 2750, train cost 1.0076, valid cost 1.2223\n",
      " iteration 2800, train cost 1.0068, valid cost 1.2216\n",
      " iteration 2850, train cost 1.0017, valid cost 1.2164\n",
      " iteration 2900, train cost 0.9998, valid cost 1.2131\n",
      " iteration 2950, train cost 0.9974, valid cost 1.2112\n",
      " iteration 3000, train cost 0.9914, valid cost 1.2088\n",
      " iteration 3050, train cost 0.9897, valid cost 1.2056\n",
      " iteration 3100, train cost 0.9887, valid cost 1.2033\n",
      " iteration 3150, train cost 0.9859, valid cost 1.2027\n",
      " iteration 3200, train cost 0.9861, valid cost 1.2020\n",
      " iteration 3250, train cost 0.9793, valid cost 1.1975\n",
      " iteration 3300, train cost 0.9785, valid cost 1.1966\n",
      " iteration 3350, train cost 0.9759, valid cost 1.1934\n",
      " iteration 3400, train cost 0.9757, valid cost 1.1914\n",
      " iteration 3450, train cost 0.9714, valid cost 1.1883\n",
      " iteration 3500, train cost 1.0363, valid cost 1.2325\n",
      " iteration 3550, train cost 0.9678, valid cost 1.1850\n",
      " iteration 3600, train cost 0.9649, valid cost 1.1839\n",
      " iteration 3650, train cost 0.9659, valid cost 1.1820\n",
      " iteration 3700, train cost 0.9642, valid cost 1.1807\n",
      " iteration 3750, train cost 0.9738, valid cost 1.1895\n",
      " iteration 3800, train cost 0.9599, valid cost 1.1790\n",
      " iteration 3850, train cost 0.9643, valid cost 1.1813\n",
      " iteration 3900, train cost 0.9560, valid cost 1.1749\n",
      " iteration 3950, train cost 0.9542, valid cost 1.1741\n"
     ]
    },
    {
     "data": {
      "text/html": [
       "<br/>Waiting for W&B process to finish, PID 185514<br/>Program ended successfully."
      ],
      "text/plain": [
       "<IPython.core.display.HTML object>"
      ]
     },
     "metadata": {},
     "output_type": "display_data"
    },
    {
     "name": "stderr",
     "output_type": "stream",
     "text": [
      "Widget Javascript not detected.  It may not be installed or enabled properly.\n"
     ]
    },
    {
     "data": {
      "application/vnd.jupyter.widget-view+json": {
       "model_id": "0f19b1d5b48e46a29bd23993bccfe3ad"
      }
     },
     "metadata": {},
     "output_type": "display_data"
    },
    {
     "data": {
      "text/html": [
       "Find user logs for this run at: <code>/home/sazeglio/NMAs/src/wandb/run-20210814_201224-ja47663e/logs/debug.log</code>"
      ],
      "text/plain": [
       "<IPython.core.display.HTML object>"
      ]
     },
     "metadata": {},
     "output_type": "display_data"
    },
    {
     "data": {
      "text/html": [
       "Find internal logs for this run at: <code>/home/sazeglio/NMAs/src/wandb/run-20210814_201224-ja47663e/logs/debug-internal.log</code>"
      ],
      "text/plain": [
       "<IPython.core.display.HTML object>"
      ]
     },
     "metadata": {},
     "output_type": "display_data"
    },
    {
     "data": {
      "text/html": [
       "<h3>Run summary:</h3><br/><style>\n",
       "    table.wandb td:nth-child(1) { padding: 0 10px; text-align: right }\n",
       "    </style><table class=\"wandb\">\n",
       "<tr><td>train_loss</td><td>0.95409</td></tr><tr><td>valid_loss</td><td>1.17336</td></tr><tr><td>epoch</td><td>3999</td></tr><tr><td>_runtime</td><td>283</td></tr><tr><td>_timestamp</td><td>1628965027</td></tr><tr><td>_step</td><td>3999</td></tr></table>"
      ],
      "text/plain": [
       "<IPython.core.display.HTML object>"
      ]
     },
     "metadata": {},
     "output_type": "display_data"
    },
    {
     "data": {
      "text/html": [
       "<h3>Run history:</h3><br/><style>\n",
       "    table.wandb td:nth-child(1) { padding: 0 10px; text-align: right }\n",
       "    </style><table class=\"wandb\">\n",
       "<tr><td>train_loss</td><td>██▆▆▅▅▄▄▃▃▃▃▃▂▂▂▂▂▂▂▂▂▂▂▁▁▁▁▁▁▁▁▁▁▁▁▁▁▁▁</td></tr><tr><td>valid_loss</td><td>██▆▅▅▄▄▃▃▃▃▃▂▂▂▂▂▂▂▂▂▂▂▂▁▁▁▁▁▁▁▁▁▁▁▁▁▁▁▁</td></tr><tr><td>epoch</td><td>▁▁▁▂▂▂▂▂▂▃▃▃▃▃▄▄▄▄▄▄▅▅▅▅▅▅▆▆▆▆▆▇▇▇▇▇▇███</td></tr><tr><td>_runtime</td><td>▁▁▁▂▂▂▂▂▂▃▃▃▃▃▄▄▄▄▄▄▅▅▅▅▅▆▆▆▆▆▆▇▇▇▇▇▇███</td></tr><tr><td>_timestamp</td><td>▁▁▁▂▂▂▂▂▂▃▃▃▃▃▄▄▄▄▄▄▅▅▅▅▅▆▆▆▆▆▆▇▇▇▇▇▇███</td></tr><tr><td>_step</td><td>▁▁▁▂▂▂▂▂▂▃▃▃▃▃▄▄▄▄▄▄▅▅▅▅▅▅▆▆▆▆▆▇▇▇▇▇▇███</td></tr></table><br/>"
      ],
      "text/plain": [
       "<IPython.core.display.HTML object>"
      ]
     },
     "metadata": {},
     "output_type": "display_data"
    },
    {
     "data": {
      "text/html": [
       "Synced 5 W&B file(s), 0 media file(s), 0 artifact file(s) and 0 other file(s)"
      ],
      "text/plain": [
       "<IPython.core.display.HTML object>"
      ]
     },
     "metadata": {},
     "output_type": "display_data"
    },
    {
     "data": {
      "text/html": [
       "\n",
       "                    <br/>Synced <strong style=\"color:#cdcd00\">crimson-sweep-42</strong>: <a href=\"https://wandb.ai/sazio/NMAs-Small-Hidden-Dims/runs/ja47663e\" target=\"_blank\">https://wandb.ai/sazio/NMAs-Small-Hidden-Dims/runs/ja47663e</a><br/>\n",
       "                "
      ],
      "text/plain": [
       "<IPython.core.display.HTML object>"
      ]
     },
     "metadata": {},
     "output_type": "display_data"
    },
    {
     "name": "stderr",
     "output_type": "stream",
     "text": [
      "wandb: Agent Starting Run: mcrjgmez with config:\n",
      "wandb: \tdropout: 0.2\n",
      "wandb: \tepochs: 4000\n",
      "wandb: \tlearning_rate: 6.893447176582018e-05\n",
      "wandb: \tn_comp: 75\n",
      "wandb: \tnum_layers: 1\n",
      "wandb: \toptimizer: adam\n",
      "wandb: \tweight_decay: 1e-05\n",
      "Failed to detect the name of this notebook, you can set it manually with the WANDB_NOTEBOOK_NAME environment variable to enable code saving.\n"
     ]
    },
    {
     "data": {
      "text/html": [
       "\n",
       "                Tracking run with wandb version 0.12.0<br/>\n",
       "                Syncing run <strong style=\"color:#cdcd00\">curious-sweep-43</strong> to <a href=\"https://wandb.ai\" target=\"_blank\">Weights & Biases</a> <a href=\"https://docs.wandb.com/integrations/jupyter.html\" target=\"_blank\">(Documentation)</a>.<br/>\n",
       "                Project page: <a href=\"https://wandb.ai/sazio/NMAs-Small-Hidden-Dims\" target=\"_blank\">https://wandb.ai/sazio/NMAs-Small-Hidden-Dims</a><br/>\n",
       "                Sweep page: <a href=\"https://wandb.ai/sazio/NMAs-Small-Hidden-Dims/sweeps/38qam6fd\" target=\"_blank\">https://wandb.ai/sazio/NMAs-Small-Hidden-Dims/sweeps/38qam6fd</a><br/>\n",
       "Run page: <a href=\"https://wandb.ai/sazio/NMAs-Small-Hidden-Dims/runs/mcrjgmez\" target=\"_blank\">https://wandb.ai/sazio/NMAs-Small-Hidden-Dims/runs/mcrjgmez</a><br/>\n",
       "                Run data is saved locally in <code>/home/sazeglio/NMAs/src/wandb/run-20210814_201712-mcrjgmez</code><br/><br/>\n",
       "            "
      ],
      "text/plain": [
       "<IPython.core.display.HTML object>"
      ]
     },
     "metadata": {},
     "output_type": "display_data"
    },
    {
     "name": "stdout",
     "output_type": "stream",
     "text": [
      " iteration 0, train cost 3.6969, valid cost 3.7968\n",
      " iteration 50, train cost 3.4515, valid cost 3.5351\n",
      " iteration 100, train cost 2.5897, valid cost 2.6513\n",
      " iteration 150, train cost 2.2309, valid cost 2.2990\n",
      " iteration 200, train cost 2.1291, valid cost 2.2031\n",
      " iteration 250, train cost 2.1014, valid cost 2.1776\n",
      " iteration 300, train cost 2.0925, valid cost 2.1701\n",
      " iteration 350, train cost 2.0887, valid cost 2.1675\n",
      " iteration 400, train cost 2.0856, valid cost 2.1662\n",
      " iteration 450, train cost 2.0833, valid cost 2.1654\n",
      " iteration 500, train cost 2.0814, valid cost 2.1648\n",
      " iteration 550, train cost 2.0795, valid cost 2.1640\n",
      " iteration 600, train cost 2.0769, valid cost 2.1629\n",
      " iteration 650, train cost 2.0744, valid cost 2.1613\n",
      " iteration 700, train cost 2.0714, valid cost 2.1590\n",
      " iteration 750, train cost 2.0673, valid cost 2.1554\n",
      " iteration 800, train cost 2.0607, valid cost 2.1494\n",
      " iteration 850, train cost 2.0504, valid cost 2.1391\n",
      " iteration 900, train cost 2.0331, valid cost 2.1219\n",
      " iteration 950, train cost 2.0085, valid cost 2.0964\n",
      " iteration 1000, train cost 1.9803, valid cost 2.0675\n",
      " iteration 1050, train cost 1.9550, valid cost 2.0414\n",
      " iteration 1100, train cost 1.9346, valid cost 2.0198\n",
      " iteration 1150, train cost 1.9178, valid cost 2.0020\n",
      " iteration 1200, train cost 1.9036, valid cost 1.9860\n",
      " iteration 1250, train cost 1.8897, valid cost 1.9715\n",
      " iteration 1300, train cost 1.8764, valid cost 1.9576\n",
      " iteration 1350, train cost 1.8634, valid cost 1.9442\n",
      " iteration 1400, train cost 1.8495, valid cost 1.9313\n",
      " iteration 1450, train cost 1.8362, valid cost 1.9184\n",
      " iteration 1500, train cost 1.8228, valid cost 1.9064\n",
      " iteration 1550, train cost 1.8111, valid cost 1.8946\n",
      " iteration 1600, train cost 1.7991, valid cost 1.8836\n",
      " iteration 1650, train cost 1.7881, valid cost 1.8728\n",
      " iteration 1700, train cost 1.7764, valid cost 1.8629\n",
      " iteration 1750, train cost 1.7648, valid cost 1.8529\n",
      " iteration 1800, train cost 1.7532, valid cost 1.8434\n",
      " iteration 1850, train cost 1.7407, valid cost 1.8340\n",
      " iteration 1900, train cost 1.7278, valid cost 1.8243\n",
      " iteration 1950, train cost 1.7154, valid cost 1.8140\n",
      " iteration 2000, train cost 1.7023, valid cost 1.8038\n",
      " iteration 2050, train cost 1.6898, valid cost 1.7933\n",
      " iteration 2100, train cost 1.6777, valid cost 1.7830\n",
      " iteration 2150, train cost 1.6657, valid cost 1.7729\n",
      " iteration 2200, train cost 1.6545, valid cost 1.7628\n",
      " iteration 2250, train cost 1.6429, valid cost 1.7526\n",
      " iteration 2300, train cost 1.6321, valid cost 1.7429\n",
      " iteration 2350, train cost 1.6219, valid cost 1.7334\n",
      " iteration 2400, train cost 1.6111, valid cost 1.7243\n",
      " iteration 2450, train cost 1.6015, valid cost 1.7152\n",
      " iteration 2500, train cost 1.5925, valid cost 1.7067\n",
      " iteration 2550, train cost 1.5833, valid cost 1.6981\n",
      " iteration 2600, train cost 1.5738, valid cost 1.6900\n",
      " iteration 2650, train cost 1.5652, valid cost 1.6825\n",
      " iteration 2700, train cost 1.5571, valid cost 1.6744\n",
      " iteration 2750, train cost 1.5494, valid cost 1.6670\n",
      " iteration 2800, train cost 1.5406, valid cost 1.6596\n",
      " iteration 2850, train cost 1.5333, valid cost 1.6525\n",
      " iteration 2900, train cost 1.5246, valid cost 1.6456\n",
      " iteration 2950, train cost 1.5185, valid cost 1.6389\n",
      " iteration 3000, train cost 1.5115, valid cost 1.6320\n",
      " iteration 3050, train cost 1.5031, valid cost 1.6257\n",
      " iteration 3100, train cost 1.4967, valid cost 1.6191\n",
      " iteration 3150, train cost 1.4902, valid cost 1.6128\n",
      " iteration 3200, train cost 1.4826, valid cost 1.6067\n",
      " iteration 3250, train cost 1.4769, valid cost 1.6001\n",
      " iteration 3300, train cost 1.4694, valid cost 1.5941\n",
      " iteration 3350, train cost 1.4628, valid cost 1.5874\n",
      " iteration 3400, train cost 1.4557, valid cost 1.5814\n",
      " iteration 3450, train cost 1.4491, valid cost 1.5748\n",
      " iteration 3500, train cost 1.4424, valid cost 1.5686\n",
      " iteration 3550, train cost 1.4362, valid cost 1.5627\n",
      " iteration 3600, train cost 1.4302, valid cost 1.5574\n",
      " iteration 3650, train cost 1.4230, valid cost 1.5524\n",
      " iteration 3700, train cost 1.4186, valid cost 1.5477\n",
      " iteration 3750, train cost 1.4128, valid cost 1.5428\n",
      " iteration 3800, train cost 1.4080, valid cost 1.5381\n",
      " iteration 3850, train cost 1.4032, valid cost 1.5342\n",
      " iteration 3900, train cost 1.3973, valid cost 1.5298\n",
      " iteration 3950, train cost 1.3929, valid cost 1.5258\n"
     ]
    },
    {
     "data": {
      "text/html": [
       "<br/>Waiting for W&B process to finish, PID 185615<br/>Program ended successfully."
      ],
      "text/plain": [
       "<IPython.core.display.HTML object>"
      ]
     },
     "metadata": {},
     "output_type": "display_data"
    },
    {
     "name": "stderr",
     "output_type": "stream",
     "text": [
      "Widget Javascript not detected.  It may not be installed or enabled properly.\n"
     ]
    },
    {
     "data": {
      "application/vnd.jupyter.widget-view+json": {
       "model_id": "8b1d730c8ea646bfacff2560f15213ef"
      }
     },
     "metadata": {},
     "output_type": "display_data"
    },
    {
     "data": {
      "text/html": [
       "Find user logs for this run at: <code>/home/sazeglio/NMAs/src/wandb/run-20210814_201712-mcrjgmez/logs/debug.log</code>"
      ],
      "text/plain": [
       "<IPython.core.display.HTML object>"
      ]
     },
     "metadata": {},
     "output_type": "display_data"
    },
    {
     "data": {
      "text/html": [
       "Find internal logs for this run at: <code>/home/sazeglio/NMAs/src/wandb/run-20210814_201712-mcrjgmez/logs/debug-internal.log</code>"
      ],
      "text/plain": [
       "<IPython.core.display.HTML object>"
      ]
     },
     "metadata": {},
     "output_type": "display_data"
    },
    {
     "data": {
      "text/html": [
       "<h3>Run summary:</h3><br/><style>\n",
       "    table.wandb td:nth-child(1) { padding: 0 10px; text-align: right }\n",
       "    </style><table class=\"wandb\">\n",
       "<tr><td>train_loss</td><td>1.38885</td></tr><tr><td>valid_loss</td><td>1.52174</td></tr><tr><td>epoch</td><td>3999</td></tr><tr><td>_runtime</td><td>282</td></tr><tr><td>_timestamp</td><td>1628965314</td></tr><tr><td>_step</td><td>3999</td></tr></table>"
      ],
      "text/plain": [
       "<IPython.core.display.HTML object>"
      ]
     },
     "metadata": {},
     "output_type": "display_data"
    },
    {
     "data": {
      "text/html": [
       "<h3>Run history:</h3><br/><style>\n",
       "    table.wandb td:nth-child(1) { padding: 0 10px; text-align: right }\n",
       "    </style><table class=\"wandb\">\n",
       "<tr><td>train_loss</td><td>█▄▃▃▃▃▃▃▃▃▃▃▃▂▂▂▂▂▂▂▂▂▂▂▂▂▂▁▁▁▁▁▁▁▁▁▁▁▁▁</td></tr><tr><td>valid_loss</td><td>█▄▃▃▃▃▃▃▃▃▃▃▂▂▂▂▂▂▂▂▂▂▂▂▂▂▁▁▁▁▁▁▁▁▁▁▁▁▁▁</td></tr><tr><td>epoch</td><td>▁▁▁▂▂▂▂▂▂▃▃▃▃▃▄▄▄▄▄▄▅▅▅▅▅▅▆▆▆▆▆▇▇▇▇▇▇███</td></tr><tr><td>_runtime</td><td>▁▁▁▂▂▂▂▂▂▃▃▃▃▃▄▄▄▄▄▄▅▅▅▅▅▆▆▆▆▆▆▇▇▇▇▇▇███</td></tr><tr><td>_timestamp</td><td>▁▁▁▂▂▂▂▂▂▃▃▃▃▃▄▄▄▄▄▄▅▅▅▅▅▆▆▆▆▆▆▇▇▇▇▇▇███</td></tr><tr><td>_step</td><td>▁▁▁▂▂▂▂▂▂▃▃▃▃▃▄▄▄▄▄▄▅▅▅▅▅▅▆▆▆▆▆▇▇▇▇▇▇███</td></tr></table><br/>"
      ],
      "text/plain": [
       "<IPython.core.display.HTML object>"
      ]
     },
     "metadata": {},
     "output_type": "display_data"
    },
    {
     "data": {
      "text/html": [
       "Synced 5 W&B file(s), 0 media file(s), 0 artifact file(s) and 0 other file(s)"
      ],
      "text/plain": [
       "<IPython.core.display.HTML object>"
      ]
     },
     "metadata": {},
     "output_type": "display_data"
    },
    {
     "data": {
      "text/html": [
       "\n",
       "                    <br/>Synced <strong style=\"color:#cdcd00\">curious-sweep-43</strong>: <a href=\"https://wandb.ai/sazio/NMAs-Small-Hidden-Dims/runs/mcrjgmez\" target=\"_blank\">https://wandb.ai/sazio/NMAs-Small-Hidden-Dims/runs/mcrjgmez</a><br/>\n",
       "                "
      ],
      "text/plain": [
       "<IPython.core.display.HTML object>"
      ]
     },
     "metadata": {},
     "output_type": "display_data"
    },
    {
     "name": "stderr",
     "output_type": "stream",
     "text": [
      "wandb: Agent Starting Run: os8hcrtb with config:\n",
      "wandb: \tdropout: 0.1\n",
      "wandb: \tepochs: 4000\n",
      "wandb: \tlearning_rate: 6.866049883963343e-05\n",
      "wandb: \tn_comp: 150\n",
      "wandb: \tnum_layers: 1\n",
      "wandb: \toptimizer: adam\n",
      "wandb: \tweight_decay: 0\n",
      "Failed to detect the name of this notebook, you can set it manually with the WANDB_NOTEBOOK_NAME environment variable to enable code saving.\n"
     ]
    },
    {
     "data": {
      "text/html": [
       "\n",
       "                Tracking run with wandb version 0.12.0<br/>\n",
       "                Syncing run <strong style=\"color:#cdcd00\">crimson-sweep-44</strong> to <a href=\"https://wandb.ai\" target=\"_blank\">Weights & Biases</a> <a href=\"https://docs.wandb.com/integrations/jupyter.html\" target=\"_blank\">(Documentation)</a>.<br/>\n",
       "                Project page: <a href=\"https://wandb.ai/sazio/NMAs-Small-Hidden-Dims\" target=\"_blank\">https://wandb.ai/sazio/NMAs-Small-Hidden-Dims</a><br/>\n",
       "                Sweep page: <a href=\"https://wandb.ai/sazio/NMAs-Small-Hidden-Dims/sweeps/38qam6fd\" target=\"_blank\">https://wandb.ai/sazio/NMAs-Small-Hidden-Dims/sweeps/38qam6fd</a><br/>\n",
       "Run page: <a href=\"https://wandb.ai/sazio/NMAs-Small-Hidden-Dims/runs/os8hcrtb\" target=\"_blank\">https://wandb.ai/sazio/NMAs-Small-Hidden-Dims/runs/os8hcrtb</a><br/>\n",
       "                Run data is saved locally in <code>/home/sazeglio/NMAs/src/wandb/run-20210814_202159-os8hcrtb</code><br/><br/>\n",
       "            "
      ],
      "text/plain": [
       "<IPython.core.display.HTML object>"
      ]
     },
     "metadata": {},
     "output_type": "display_data"
    },
    {
     "name": "stdout",
     "output_type": "stream",
     "text": [
      " iteration 0, train cost 3.7083, valid cost 3.8071\n",
      " iteration 50, train cost 3.5067, valid cost 3.5902\n",
      " iteration 100, train cost 2.6494, valid cost 2.7046\n",
      " iteration 150, train cost 2.2549, valid cost 2.3119\n",
      " iteration 200, train cost 2.1424, valid cost 2.2048\n",
      " iteration 250, train cost 2.1097, valid cost 2.1789\n",
      " iteration 300, train cost 2.0973, valid cost 2.1711\n",
      " iteration 350, train cost 2.0914, valid cost 2.1682\n",
      " iteration 400, train cost 2.0882, valid cost 2.1668\n",
      " iteration 450, train cost 2.0852, valid cost 2.1659\n",
      " iteration 500, train cost 2.0835, valid cost 2.1652\n",
      " iteration 550, train cost 2.0813, valid cost 2.1646\n",
      " iteration 600, train cost 2.0801, valid cost 2.1639\n",
      " iteration 650, train cost 2.0787, valid cost 2.1632\n",
      " iteration 700, train cost 2.0769, valid cost 2.1622\n",
      " iteration 750, train cost 2.0749, valid cost 2.1607\n",
      " iteration 800, train cost 2.0719, valid cost 2.1582\n",
      " iteration 850, train cost 2.0681, valid cost 2.1543\n",
      " iteration 900, train cost 2.0621, valid cost 2.1476\n",
      " iteration 950, train cost 2.0524, valid cost 2.1366\n",
      " iteration 1000, train cost 2.0384, valid cost 2.1196\n",
      " iteration 1050, train cost 2.0185, valid cost 2.0974\n",
      " iteration 1100, train cost 1.9978, valid cost 2.0747\n",
      " iteration 1150, train cost 1.9777, valid cost 2.0541\n",
      " iteration 1200, train cost 1.9590, valid cost 2.0356\n",
      " iteration 1250, train cost 1.9425, valid cost 2.0192\n",
      " iteration 1300, train cost 1.9291, valid cost 2.0056\n",
      " iteration 1350, train cost 1.9181, valid cost 1.9938\n",
      " iteration 1400, train cost 1.9063, valid cost 1.9819\n",
      " iteration 1450, train cost 1.8946, valid cost 1.9684\n",
      " iteration 1500, train cost 1.8806, valid cost 1.9537\n",
      " iteration 1550, train cost 1.8658, valid cost 1.9387\n",
      " iteration 1600, train cost 1.8506, valid cost 1.9235\n",
      " iteration 1650, train cost 1.8353, valid cost 1.9093\n",
      " iteration 1700, train cost 1.8216, valid cost 1.8969\n",
      " iteration 1750, train cost 1.8094, valid cost 1.8860\n",
      " iteration 1800, train cost 1.7979, valid cost 1.8756\n",
      " iteration 1850, train cost 1.7862, valid cost 1.8655\n",
      " iteration 1900, train cost 1.7749, valid cost 1.8558\n",
      " iteration 1950, train cost 1.7636, valid cost 1.8467\n",
      " iteration 2000, train cost 1.7534, valid cost 1.8380\n",
      " iteration 2050, train cost 1.7432, valid cost 1.8291\n",
      " iteration 2100, train cost 1.7318, valid cost 1.8204\n",
      " iteration 2150, train cost 1.7209, valid cost 1.8117\n",
      " iteration 2200, train cost 1.7100, valid cost 1.8031\n",
      " iteration 2250, train cost 1.6992, valid cost 1.7947\n",
      " iteration 2300, train cost 1.6893, valid cost 1.7868\n",
      " iteration 2350, train cost 1.6789, valid cost 1.7790\n",
      " iteration 2400, train cost 1.6691, valid cost 1.7714\n",
      " iteration 2450, train cost 1.6592, valid cost 1.7642\n",
      " iteration 2500, train cost 1.6500, valid cost 1.7568\n",
      " iteration 2550, train cost 1.6398, valid cost 1.7491\n",
      " iteration 2600, train cost 1.6307, valid cost 1.7412\n",
      " iteration 2650, train cost 1.6203, valid cost 1.7329\n",
      " iteration 2700, train cost 1.6097, valid cost 1.7238\n",
      " iteration 2750, train cost 1.6003, valid cost 1.7145\n",
      " iteration 2800, train cost 1.5905, valid cost 1.7048\n",
      " iteration 2850, train cost 1.5812, valid cost 1.6952\n",
      " iteration 2900, train cost 1.5718, valid cost 1.6863\n",
      " iteration 2950, train cost 1.5623, valid cost 1.6776\n",
      " iteration 3000, train cost 1.5537, valid cost 1.6699\n",
      " iteration 3050, train cost 1.5449, valid cost 1.6626\n",
      " iteration 3100, train cost 1.5388, valid cost 1.6556\n",
      " iteration 3150, train cost 1.5302, valid cost 1.6490\n",
      " iteration 3200, train cost 1.5229, valid cost 1.6427\n",
      " iteration 3250, train cost 1.5159, valid cost 1.6364\n",
      " iteration 3300, train cost 1.5095, valid cost 1.6302\n",
      " iteration 3350, train cost 1.5028, valid cost 1.6245\n",
      " iteration 3400, train cost 1.4944, valid cost 1.6189\n",
      " iteration 3450, train cost 1.4895, valid cost 1.6130\n",
      " iteration 3500, train cost 1.4831, valid cost 1.6076\n",
      " iteration 3550, train cost 1.4776, valid cost 1.6026\n",
      " iteration 3600, train cost 1.4710, valid cost 1.5976\n",
      " iteration 3650, train cost 1.4667, valid cost 1.5927\n",
      " iteration 3700, train cost 1.4611, valid cost 1.5884\n",
      " iteration 3750, train cost 1.4561, valid cost 1.5841\n",
      " iteration 3800, train cost 1.4503, valid cost 1.5800\n",
      " iteration 3850, train cost 1.4462, valid cost 1.5760\n",
      " iteration 3900, train cost 1.4406, valid cost 1.5719\n",
      " iteration 3950, train cost 1.4364, valid cost 1.5683\n"
     ]
    },
    {
     "data": {
      "text/html": [
       "<br/>Waiting for W&B process to finish, PID 185704<br/>Program ended successfully."
      ],
      "text/plain": [
       "<IPython.core.display.HTML object>"
      ]
     },
     "metadata": {},
     "output_type": "display_data"
    },
    {
     "name": "stderr",
     "output_type": "stream",
     "text": [
      "Widget Javascript not detected.  It may not be installed or enabled properly.\n"
     ]
    },
    {
     "data": {
      "application/vnd.jupyter.widget-view+json": {
       "model_id": "d4e064f47f20479cbecbec8c6eec9e60"
      }
     },
     "metadata": {},
     "output_type": "display_data"
    },
    {
     "data": {
      "text/html": [
       "Find user logs for this run at: <code>/home/sazeglio/NMAs/src/wandb/run-20210814_202159-os8hcrtb/logs/debug.log</code>"
      ],
      "text/plain": [
       "<IPython.core.display.HTML object>"
      ]
     },
     "metadata": {},
     "output_type": "display_data"
    },
    {
     "data": {
      "text/html": [
       "Find internal logs for this run at: <code>/home/sazeglio/NMAs/src/wandb/run-20210814_202159-os8hcrtb/logs/debug-internal.log</code>"
      ],
      "text/plain": [
       "<IPython.core.display.HTML object>"
      ]
     },
     "metadata": {},
     "output_type": "display_data"
    },
    {
     "data": {
      "text/html": [
       "<h3>Run summary:</h3><br/><style>\n",
       "    table.wandb td:nth-child(1) { padding: 0 10px; text-align: right }\n",
       "    </style><table class=\"wandb\">\n",
       "<tr><td>train_loss</td><td>1.4317</td></tr><tr><td>valid_loss</td><td>1.56454</td></tr><tr><td>epoch</td><td>3999</td></tr><tr><td>_runtime</td><td>279</td></tr><tr><td>_timestamp</td><td>1628965598</td></tr><tr><td>_step</td><td>3999</td></tr></table>"
      ],
      "text/plain": [
       "<IPython.core.display.HTML object>"
      ]
     },
     "metadata": {},
     "output_type": "display_data"
    },
    {
     "data": {
      "text/html": [
       "<h3>Run history:</h3><br/><style>\n",
       "    table.wandb td:nth-child(1) { padding: 0 10px; text-align: right }\n",
       "    </style><table class=\"wandb\">\n",
       "<tr><td>train_loss</td><td>█▄▃▃▃▃▃▃▃▃▃▃▃▃▂▂▂▂▂▂▂▂▂▂▂▂▂▂▁▁▁▁▁▁▁▁▁▁▁▁</td></tr><tr><td>valid_loss</td><td>█▄▃▃▃▃▃▃▃▃▃▃▂▂▂▂▂▂▂▂▂▂▂▂▂▂▂▁▁▁▁▁▁▁▁▁▁▁▁▁</td></tr><tr><td>epoch</td><td>▁▁▁▂▂▂▂▂▂▃▃▃▃▃▄▄▄▄▄▄▅▅▅▅▅▅▆▆▆▆▆▇▇▇▇▇▇███</td></tr><tr><td>_runtime</td><td>▁▁▁▂▂▂▂▂▂▃▃▃▃▃▄▄▄▄▄▄▅▅▅▅▅▅▆▆▆▆▆▇▇▇▇▇▇███</td></tr><tr><td>_timestamp</td><td>▁▁▁▂▂▂▂▂▂▃▃▃▃▃▄▄▄▄▄▄▅▅▅▅▅▅▆▆▆▆▆▇▇▇▇▇▇███</td></tr><tr><td>_step</td><td>▁▁▁▂▂▂▂▂▂▃▃▃▃▃▄▄▄▄▄▄▅▅▅▅▅▅▆▆▆▆▆▇▇▇▇▇▇███</td></tr></table><br/>"
      ],
      "text/plain": [
       "<IPython.core.display.HTML object>"
      ]
     },
     "metadata": {},
     "output_type": "display_data"
    },
    {
     "data": {
      "text/html": [
       "Synced 5 W&B file(s), 0 media file(s), 0 artifact file(s) and 0 other file(s)"
      ],
      "text/plain": [
       "<IPython.core.display.HTML object>"
      ]
     },
     "metadata": {},
     "output_type": "display_data"
    },
    {
     "data": {
      "text/html": [
       "\n",
       "                    <br/>Synced <strong style=\"color:#cdcd00\">crimson-sweep-44</strong>: <a href=\"https://wandb.ai/sazio/NMAs-Small-Hidden-Dims/runs/os8hcrtb\" target=\"_blank\">https://wandb.ai/sazio/NMAs-Small-Hidden-Dims/runs/os8hcrtb</a><br/>\n",
       "                "
      ],
      "text/plain": [
       "<IPython.core.display.HTML object>"
      ]
     },
     "metadata": {},
     "output_type": "display_data"
    },
    {
     "name": "stderr",
     "output_type": "stream",
     "text": [
      "wandb: Agent Starting Run: lshr517u with config:\n",
      "wandb: \tdropout: 0.2\n",
      "wandb: \tepochs: 4000\n",
      "wandb: \tlearning_rate: 0.0005495748629911516\n",
      "wandb: \tn_comp: 125\n",
      "wandb: \tnum_layers: 1\n",
      "wandb: \toptimizer: adam\n",
      "wandb: \tweight_decay: 0\n",
      "Failed to detect the name of this notebook, you can set it manually with the WANDB_NOTEBOOK_NAME environment variable to enable code saving.\n"
     ]
    },
    {
     "data": {
      "text/html": [
       "\n",
       "                Tracking run with wandb version 0.12.0<br/>\n",
       "                Syncing run <strong style=\"color:#cdcd00\">glowing-sweep-45</strong> to <a href=\"https://wandb.ai\" target=\"_blank\">Weights & Biases</a> <a href=\"https://docs.wandb.com/integrations/jupyter.html\" target=\"_blank\">(Documentation)</a>.<br/>\n",
       "                Project page: <a href=\"https://wandb.ai/sazio/NMAs-Small-Hidden-Dims\" target=\"_blank\">https://wandb.ai/sazio/NMAs-Small-Hidden-Dims</a><br/>\n",
       "                Sweep page: <a href=\"https://wandb.ai/sazio/NMAs-Small-Hidden-Dims/sweeps/38qam6fd\" target=\"_blank\">https://wandb.ai/sazio/NMAs-Small-Hidden-Dims/sweeps/38qam6fd</a><br/>\n",
       "Run page: <a href=\"https://wandb.ai/sazio/NMAs-Small-Hidden-Dims/runs/lshr517u\" target=\"_blank\">https://wandb.ai/sazio/NMAs-Small-Hidden-Dims/runs/lshr517u</a><br/>\n",
       "                Run data is saved locally in <code>/home/sazeglio/NMAs/src/wandb/run-20210814_202643-lshr517u</code><br/><br/>\n",
       "            "
      ],
      "text/plain": [
       "<IPython.core.display.HTML object>"
      ]
     },
     "metadata": {},
     "output_type": "display_data"
    },
    {
     "name": "stdout",
     "output_type": "stream",
     "text": [
      " iteration 0, train cost 3.7051, valid cost 3.7995\n",
      " iteration 50, train cost 2.1112, valid cost 2.1927\n",
      " iteration 100, train cost 2.0812, valid cost 2.1678\n",
      " iteration 150, train cost 2.0761, valid cost 2.1650\n",
      " iteration 200, train cost 2.0687, valid cost 2.1591\n",
      " iteration 250, train cost 2.0300, valid cost 2.1226\n",
      " iteration 300, train cost 1.9908, valid cost 2.0858\n",
      " iteration 350, train cost 1.9365, valid cost 2.0299\n",
      " iteration 400, train cost 1.8743, valid cost 1.9626\n",
      " iteration 450, train cost 1.8203, valid cost 1.9048\n",
      " iteration 500, train cost 1.7896, valid cost 1.8758\n",
      " iteration 550, train cost 1.7685, valid cost 1.8601\n",
      " iteration 600, train cost 1.7410, valid cost 1.8386\n",
      " iteration 650, train cost 1.7093, valid cost 1.8153\n",
      " iteration 700, train cost 1.6830, valid cost 1.7968\n",
      " iteration 750, train cost 1.6572, valid cost 1.7787\n",
      " iteration 800, train cost 1.6305, valid cost 1.7592\n",
      " iteration 850, train cost 1.6026, valid cost 1.7364\n",
      " iteration 900, train cost 1.5803, valid cost 1.7177\n",
      " iteration 950, train cost 1.5603, valid cost 1.7022\n",
      " iteration 1000, train cost 1.5434, valid cost 1.6900\n",
      " iteration 1050, train cost 1.5287, valid cost 1.6785\n",
      " iteration 1100, train cost 1.5137, valid cost 1.6676\n",
      " iteration 1150, train cost 1.5001, valid cost 1.6559\n",
      " iteration 1200, train cost 1.4856, valid cost 1.6449\n",
      " iteration 1250, train cost 1.4700, valid cost 1.6336\n",
      " iteration 1300, train cost 1.4551, valid cost 1.6207\n",
      " iteration 1350, train cost 1.4418, valid cost 1.6090\n",
      " iteration 1400, train cost 1.4286, valid cost 1.5996\n",
      " iteration 1450, train cost 1.4160, valid cost 1.5937\n",
      " iteration 1500, train cost 1.4035, valid cost 1.5813\n",
      " iteration 1550, train cost 1.3905, valid cost 1.5726\n",
      " iteration 1600, train cost 1.3789, valid cost 1.5608\n",
      " iteration 1650, train cost 1.3670, valid cost 1.5503\n",
      " iteration 1700, train cost 1.3550, valid cost 1.5438\n",
      " iteration 1750, train cost 1.3448, valid cost 1.5356\n",
      " iteration 1800, train cost 1.3359, valid cost 1.5277\n",
      " iteration 1850, train cost 1.3251, valid cost 1.5217\n",
      " iteration 1900, train cost 1.3143, valid cost 1.5143\n",
      " iteration 1950, train cost 1.3053, valid cost 1.5067\n",
      " iteration 2000, train cost 1.2959, valid cost 1.5006\n",
      " iteration 2050, train cost 1.2854, valid cost 1.4945\n",
      " iteration 2100, train cost 1.2760, valid cost 1.4889\n",
      " iteration 2150, train cost 1.2685, valid cost 1.4825\n",
      " iteration 2200, train cost 1.2591, valid cost 1.4772\n",
      " iteration 2250, train cost 1.2506, valid cost 1.4709\n",
      " iteration 2300, train cost 1.2422, valid cost 1.4650\n",
      " iteration 2350, train cost 1.2355, valid cost 1.4603\n",
      " iteration 2400, train cost 1.2277, valid cost 1.4534\n",
      " iteration 2450, train cost 1.2193, valid cost 1.4478\n",
      " iteration 2500, train cost 1.2100, valid cost 1.4415\n",
      " iteration 2550, train cost 1.2046, valid cost 1.4359\n",
      " iteration 2600, train cost 1.1976, valid cost 1.4312\n",
      " iteration 2650, train cost 1.1909, valid cost 1.4249\n",
      " iteration 2700, train cost 1.1816, valid cost 1.4203\n",
      " iteration 2750, train cost 1.1767, valid cost 1.4166\n",
      " iteration 2800, train cost 1.1697, valid cost 1.4124\n",
      " iteration 2850, train cost 1.1655, valid cost 1.4076\n",
      " iteration 2900, train cost 1.1570, valid cost 1.4039\n",
      " iteration 2950, train cost 1.1512, valid cost 1.3991\n",
      " iteration 3000, train cost 1.1449, valid cost 1.3975\n",
      " iteration 3050, train cost 1.1387, valid cost 1.3922\n",
      " iteration 3100, train cost 1.1342, valid cost 1.3885\n",
      " iteration 3150, train cost 1.1307, valid cost 1.3867\n",
      " iteration 3200, train cost 1.1238, valid cost 1.3817\n",
      " iteration 3250, train cost 1.1183, valid cost 1.3792\n",
      " iteration 3300, train cost 1.1144, valid cost 1.3748\n",
      " iteration 3350, train cost 1.1080, valid cost 1.3732\n",
      " iteration 3400, train cost 1.1022, valid cost 1.3670\n",
      " iteration 3450, train cost 1.0986, valid cost 1.3643\n",
      " iteration 3500, train cost 1.0946, valid cost 1.3608\n",
      " iteration 3550, train cost 1.0889, valid cost 1.3582\n",
      " iteration 3600, train cost 1.0833, valid cost 1.3541\n",
      " iteration 3650, train cost 1.0819, valid cost 1.3535\n",
      " iteration 3700, train cost 1.0765, valid cost 1.3491\n",
      " iteration 3750, train cost 1.0729, valid cost 1.3475\n",
      " iteration 3800, train cost 1.0696, valid cost 1.3446\n",
      " iteration 3850, train cost 1.0660, valid cost 1.3414\n",
      " iteration 3900, train cost 1.0626, valid cost 1.3408\n",
      " iteration 3950, train cost 1.0587, valid cost 1.3373\n"
     ]
    },
    {
     "data": {
      "text/html": [
       "<br/>Waiting for W&B process to finish, PID 185805<br/>Program ended successfully."
      ],
      "text/plain": [
       "<IPython.core.display.HTML object>"
      ]
     },
     "metadata": {},
     "output_type": "display_data"
    },
    {
     "name": "stderr",
     "output_type": "stream",
     "text": [
      "Widget Javascript not detected.  It may not be installed or enabled properly.\n"
     ]
    },
    {
     "data": {
      "application/vnd.jupyter.widget-view+json": {
       "model_id": "8dd4fa5c75354f4fbf81aa4f53a10e05"
      }
     },
     "metadata": {},
     "output_type": "display_data"
    },
    {
     "data": {
      "text/html": [
       "Find user logs for this run at: <code>/home/sazeglio/NMAs/src/wandb/run-20210814_202643-lshr517u/logs/debug.log</code>"
      ],
      "text/plain": [
       "<IPython.core.display.HTML object>"
      ]
     },
     "metadata": {},
     "output_type": "display_data"
    },
    {
     "data": {
      "text/html": [
       "Find internal logs for this run at: <code>/home/sazeglio/NMAs/src/wandb/run-20210814_202643-lshr517u/logs/debug-internal.log</code>"
      ],
      "text/plain": [
       "<IPython.core.display.HTML object>"
      ]
     },
     "metadata": {},
     "output_type": "display_data"
    },
    {
     "data": {
      "text/html": [
       "<h3>Run summary:</h3><br/><style>\n",
       "    table.wandb td:nth-child(1) { padding: 0 10px; text-align: right }\n",
       "    </style><table class=\"wandb\">\n",
       "<tr><td>train_loss</td><td>1.05765</td></tr><tr><td>valid_loss</td><td>1.33672</td></tr><tr><td>epoch</td><td>3999</td></tr><tr><td>_runtime</td><td>279</td></tr><tr><td>_timestamp</td><td>1628965882</td></tr><tr><td>_step</td><td>3999</td></tr></table>"
      ],
      "text/plain": [
       "<IPython.core.display.HTML object>"
      ]
     },
     "metadata": {},
     "output_type": "display_data"
    },
    {
     "data": {
      "text/html": [
       "<h3>Run history:</h3><br/><style>\n",
       "    table.wandb td:nth-child(1) { padding: 0 10px; text-align: right }\n",
       "    </style><table class=\"wandb\">\n",
       "<tr><td>train_loss</td><td>█▇▇▆▆▅▅▅▄▄▄▄▃▃▃▃▃▃▃▂▂▂▂▂▂▂▂▂▂▂▁▁▁▁▁▁▁▁▁▁</td></tr><tr><td>valid_loss</td><td>█▇▇▆▅▅▄▄▄▄▃▃▃▃▃▃▃▂▂▂▂▂▂▂▂▂▂▂▁▁▁▁▁▁▁▁▁▁▁▁</td></tr><tr><td>epoch</td><td>▁▁▁▂▂▂▂▂▂▃▃▃▃▃▄▄▄▄▄▄▅▅▅▅▅▅▆▆▆▆▆▇▇▇▇▇▇███</td></tr><tr><td>_runtime</td><td>▁▁▁▂▂▂▂▂▂▃▃▃▃▃▃▄▄▄▄▄▅▅▅▅▅▅▆▆▆▆▆▇▇▇▇▇▇███</td></tr><tr><td>_timestamp</td><td>▁▁▁▂▂▂▂▂▂▃▃▃▃▃▃▄▄▄▄▄▅▅▅▅▅▅▆▆▆▆▆▇▇▇▇▇▇███</td></tr><tr><td>_step</td><td>▁▁▁▂▂▂▂▂▂▃▃▃▃▃▄▄▄▄▄▄▅▅▅▅▅▅▆▆▆▆▆▇▇▇▇▇▇███</td></tr></table><br/>"
      ],
      "text/plain": [
       "<IPython.core.display.HTML object>"
      ]
     },
     "metadata": {},
     "output_type": "display_data"
    },
    {
     "data": {
      "text/html": [
       "Synced 5 W&B file(s), 0 media file(s), 0 artifact file(s) and 0 other file(s)"
      ],
      "text/plain": [
       "<IPython.core.display.HTML object>"
      ]
     },
     "metadata": {},
     "output_type": "display_data"
    },
    {
     "data": {
      "text/html": [
       "\n",
       "                    <br/>Synced <strong style=\"color:#cdcd00\">glowing-sweep-45</strong>: <a href=\"https://wandb.ai/sazio/NMAs-Small-Hidden-Dims/runs/lshr517u\" target=\"_blank\">https://wandb.ai/sazio/NMAs-Small-Hidden-Dims/runs/lshr517u</a><br/>\n",
       "                "
      ],
      "text/plain": [
       "<IPython.core.display.HTML object>"
      ]
     },
     "metadata": {},
     "output_type": "display_data"
    },
    {
     "name": "stderr",
     "output_type": "stream",
     "text": [
      "wandb: Agent Starting Run: jtbo3kun with config:\n",
      "wandb: \tdropout: 0.5\n",
      "wandb: \tepochs: 4000\n",
      "wandb: \tlearning_rate: 0.00018402652085463587\n",
      "wandb: \tn_comp: 125\n",
      "wandb: \tnum_layers: 1\n",
      "wandb: \toptimizer: adam\n",
      "wandb: \tweight_decay: 1e-05\n",
      "Failed to detect the name of this notebook, you can set it manually with the WANDB_NOTEBOOK_NAME environment variable to enable code saving.\n"
     ]
    },
    {
     "data": {
      "text/html": [
       "\n",
       "                Tracking run with wandb version 0.12.0<br/>\n",
       "                Syncing run <strong style=\"color:#cdcd00\">polar-sweep-46</strong> to <a href=\"https://wandb.ai\" target=\"_blank\">Weights & Biases</a> <a href=\"https://docs.wandb.com/integrations/jupyter.html\" target=\"_blank\">(Documentation)</a>.<br/>\n",
       "                Project page: <a href=\"https://wandb.ai/sazio/NMAs-Small-Hidden-Dims\" target=\"_blank\">https://wandb.ai/sazio/NMAs-Small-Hidden-Dims</a><br/>\n",
       "                Sweep page: <a href=\"https://wandb.ai/sazio/NMAs-Small-Hidden-Dims/sweeps/38qam6fd\" target=\"_blank\">https://wandb.ai/sazio/NMAs-Small-Hidden-Dims/sweeps/38qam6fd</a><br/>\n",
       "Run page: <a href=\"https://wandb.ai/sazio/NMAs-Small-Hidden-Dims/runs/jtbo3kun\" target=\"_blank\">https://wandb.ai/sazio/NMAs-Small-Hidden-Dims/runs/jtbo3kun</a><br/>\n",
       "                Run data is saved locally in <code>/home/sazeglio/NMAs/src/wandb/run-20210814_203127-jtbo3kun</code><br/><br/>\n",
       "            "
      ],
      "text/plain": [
       "<IPython.core.display.HTML object>"
      ]
     },
     "metadata": {},
     "output_type": "display_data"
    },
    {
     "name": "stdout",
     "output_type": "stream",
     "text": [
      " iteration 0, train cost 3.7101, valid cost 3.8093\n",
      " iteration 50, train cost 2.6087, valid cost 2.6778\n",
      " iteration 100, train cost 2.1150, valid cost 2.1981\n",
      " iteration 150, train cost 2.0871, valid cost 2.1690\n",
      " iteration 200, train cost 2.0811, valid cost 2.1645\n",
      " iteration 250, train cost 2.0761, valid cost 2.1611\n",
      " iteration 300, train cost 2.0690, valid cost 2.1545\n",
      " iteration 350, train cost 2.0529, valid cost 2.1367\n",
      " iteration 400, train cost 2.0145, valid cost 2.0949\n",
      " iteration 450, train cost 1.9804, valid cost 2.0624\n",
      " iteration 500, train cost 1.9391, valid cost 2.0232\n",
      " iteration 550, train cost 1.8973, valid cost 1.9816\n",
      " iteration 600, train cost 1.8614, valid cost 1.9455\n",
      " iteration 650, train cost 1.8234, valid cost 1.9063\n",
      " iteration 700, train cost 1.7907, valid cost 1.8710\n",
      " iteration 750, train cost 1.7646, valid cost 1.8446\n",
      " iteration 800, train cost 1.7405, valid cost 1.8240\n",
      " iteration 850, train cost 1.7177, valid cost 1.8057\n",
      " iteration 900, train cost 1.6929, valid cost 1.7871\n",
      " iteration 950, train cost 1.6655, valid cost 1.7664\n",
      " iteration 1000, train cost 1.6429, valid cost 1.7467\n",
      " iteration 1050, train cost 1.6211, valid cost 1.7290\n",
      " iteration 1100, train cost 1.6030, valid cost 1.7137\n",
      " iteration 1150, train cost 1.5859, valid cost 1.6983\n",
      " iteration 1200, train cost 1.5683, valid cost 1.6818\n",
      " iteration 1250, train cost 1.5500, valid cost 1.6639\n",
      " iteration 1300, train cost 1.5315, valid cost 1.6457\n",
      " iteration 1350, train cost 1.5138, valid cost 1.6286\n",
      " iteration 1400, train cost 1.4979, valid cost 1.6130\n",
      " iteration 1450, train cost 1.4838, valid cost 1.5991\n",
      " iteration 1500, train cost 1.4705, valid cost 1.5864\n",
      " iteration 1550, train cost 1.4583, valid cost 1.5747\n",
      " iteration 1600, train cost 1.4471, valid cost 1.5645\n",
      " iteration 1650, train cost 1.4368, valid cost 1.5561\n",
      " iteration 1700, train cost 1.4276, valid cost 1.5475\n",
      " iteration 1750, train cost 1.4178, valid cost 1.5398\n",
      " iteration 1800, train cost 1.4092, valid cost 1.5326\n",
      " iteration 1850, train cost 1.3992, valid cost 1.5247\n",
      " iteration 1900, train cost 1.3893, valid cost 1.5170\n",
      " iteration 1950, train cost 1.3798, valid cost 1.5088\n",
      " iteration 2000, train cost 1.3700, valid cost 1.5013\n",
      " iteration 2050, train cost 1.3631, valid cost 1.4936\n",
      " iteration 2100, train cost 1.3523, valid cost 1.4869\n",
      " iteration 2150, train cost 1.3438, valid cost 1.4799\n",
      " iteration 2200, train cost 1.3353, valid cost 1.4744\n",
      " iteration 2250, train cost 1.3296, valid cost 1.4679\n",
      " iteration 2300, train cost 1.3220, valid cost 1.4631\n",
      " iteration 2350, train cost 1.3135, valid cost 1.4570\n",
      " iteration 2400, train cost 1.3076, valid cost 1.4519\n",
      " iteration 2450, train cost 1.3011, valid cost 1.4459\n",
      " iteration 2500, train cost 1.2949, valid cost 1.4414\n",
      " iteration 2550, train cost 1.2894, valid cost 1.4355\n",
      " iteration 2600, train cost 1.2796, valid cost 1.4311\n",
      " iteration 2650, train cost 1.2743, valid cost 1.4263\n",
      " iteration 2700, train cost 1.2683, valid cost 1.4210\n",
      " iteration 2750, train cost 1.2638, valid cost 1.4159\n",
      " iteration 2800, train cost 1.2573, valid cost 1.4107\n",
      " iteration 2850, train cost 1.2526, valid cost 1.4063\n",
      " iteration 2900, train cost 1.2463, valid cost 1.4023\n",
      " iteration 2950, train cost 1.2435, valid cost 1.3982\n",
      " iteration 3000, train cost 1.2376, valid cost 1.3944\n",
      " iteration 3050, train cost 1.2313, valid cost 1.3898\n",
      " iteration 3100, train cost 1.2283, valid cost 1.3859\n",
      " iteration 3150, train cost 1.2249, valid cost 1.3821\n",
      " iteration 3200, train cost 1.2180, valid cost 1.3787\n",
      " iteration 3250, train cost 1.2142, valid cost 1.3751\n",
      " iteration 3300, train cost 1.2111, valid cost 1.3715\n",
      " iteration 3350, train cost 1.2056, valid cost 1.3689\n",
      " iteration 3400, train cost 1.2021, valid cost 1.3651\n",
      " iteration 3450, train cost 1.1987, valid cost 1.3623\n",
      " iteration 3500, train cost 1.1951, valid cost 1.3596\n",
      " iteration 3550, train cost 1.1897, valid cost 1.3564\n",
      " iteration 3600, train cost 1.1870, valid cost 1.3537\n",
      " iteration 3650, train cost 1.1838, valid cost 1.3513\n",
      " iteration 3700, train cost 1.1810, valid cost 1.3484\n",
      " iteration 3750, train cost 1.1760, valid cost 1.3453\n",
      " iteration 3800, train cost 1.1737, valid cost 1.3422\n",
      " iteration 3850, train cost 1.1700, valid cost 1.3395\n",
      " iteration 3900, train cost 1.1665, valid cost 1.3373\n",
      " iteration 3950, train cost 1.1637, valid cost 1.3353\n"
     ]
    },
    {
     "data": {
      "text/html": [
       "<br/>Waiting for W&B process to finish, PID 185905<br/>Program ended successfully."
      ],
      "text/plain": [
       "<IPython.core.display.HTML object>"
      ]
     },
     "metadata": {},
     "output_type": "display_data"
    },
    {
     "name": "stderr",
     "output_type": "stream",
     "text": [
      "Widget Javascript not detected.  It may not be installed or enabled properly.\n"
     ]
    },
    {
     "data": {
      "application/vnd.jupyter.widget-view+json": {
       "model_id": "0e774c59f0b7462a8d38841e474a98a0"
      }
     },
     "metadata": {},
     "output_type": "display_data"
    },
    {
     "data": {
      "text/html": [
       "Find user logs for this run at: <code>/home/sazeglio/NMAs/src/wandb/run-20210814_203127-jtbo3kun/logs/debug.log</code>"
      ],
      "text/plain": [
       "<IPython.core.display.HTML object>"
      ]
     },
     "metadata": {},
     "output_type": "display_data"
    },
    {
     "data": {
      "text/html": [
       "Find internal logs for this run at: <code>/home/sazeglio/NMAs/src/wandb/run-20210814_203127-jtbo3kun/logs/debug-internal.log</code>"
      ],
      "text/plain": [
       "<IPython.core.display.HTML object>"
      ]
     },
     "metadata": {},
     "output_type": "display_data"
    },
    {
     "data": {
      "text/html": [
       "<h3>Run summary:</h3><br/><style>\n",
       "    table.wandb td:nth-child(1) { padding: 0 10px; text-align: right }\n",
       "    </style><table class=\"wandb\">\n",
       "<tr><td>train_loss</td><td>1.15957</td></tr><tr><td>valid_loss</td><td>1.33304</td></tr><tr><td>epoch</td><td>3999</td></tr><tr><td>_runtime</td><td>282</td></tr><tr><td>_timestamp</td><td>1628966169</td></tr><tr><td>_step</td><td>3999</td></tr></table>"
      ],
      "text/plain": [
       "<IPython.core.display.HTML object>"
      ]
     },
     "metadata": {},
     "output_type": "display_data"
    },
    {
     "data": {
      "text/html": [
       "<h3>Run history:</h3><br/><style>\n",
       "    table.wandb td:nth-child(1) { padding: 0 10px; text-align: right }\n",
       "    </style><table class=\"wandb\">\n",
       "<tr><td>train_loss</td><td>█▄▄▄▄▄▃▃▃▃▃▃▂▂▂▂▂▂▂▂▂▂▂▂▁▁▁▁▁▁▁▁▁▁▁▁▁▁▁▁</td></tr><tr><td>valid_loss</td><td>█▄▄▄▄▃▃▃▃▃▂▂▂▂▂▂▂▂▂▂▂▂▁▁▁▁▁▁▁▁▁▁▁▁▁▁▁▁▁▁</td></tr><tr><td>epoch</td><td>▁▁▁▂▂▂▂▂▂▃▃▃▃▃▄▄▄▄▄▄▅▅▅▅▅▅▆▆▆▆▆▇▇▇▇▇▇███</td></tr><tr><td>_runtime</td><td>▁▁▁▂▂▂▂▂▂▃▃▃▃▃▄▄▄▄▄▄▅▅▅▅▅▅▆▆▆▆▆▇▇▇▇▇▇███</td></tr><tr><td>_timestamp</td><td>▁▁▁▂▂▂▂▂▂▃▃▃▃▃▄▄▄▄▄▄▅▅▅▅▅▅▆▆▆▆▆▇▇▇▇▇▇███</td></tr><tr><td>_step</td><td>▁▁▁▂▂▂▂▂▂▃▃▃▃▃▄▄▄▄▄▄▅▅▅▅▅▅▆▆▆▆▆▇▇▇▇▇▇███</td></tr></table><br/>"
      ],
      "text/plain": [
       "<IPython.core.display.HTML object>"
      ]
     },
     "metadata": {},
     "output_type": "display_data"
    },
    {
     "data": {
      "text/html": [
       "Synced 5 W&B file(s), 0 media file(s), 0 artifact file(s) and 0 other file(s)"
      ],
      "text/plain": [
       "<IPython.core.display.HTML object>"
      ]
     },
     "metadata": {},
     "output_type": "display_data"
    },
    {
     "data": {
      "text/html": [
       "\n",
       "                    <br/>Synced <strong style=\"color:#cdcd00\">polar-sweep-46</strong>: <a href=\"https://wandb.ai/sazio/NMAs-Small-Hidden-Dims/runs/jtbo3kun\" target=\"_blank\">https://wandb.ai/sazio/NMAs-Small-Hidden-Dims/runs/jtbo3kun</a><br/>\n",
       "                "
      ],
      "text/plain": [
       "<IPython.core.display.HTML object>"
      ]
     },
     "metadata": {},
     "output_type": "display_data"
    },
    {
     "name": "stderr",
     "output_type": "stream",
     "text": [
      "wandb: Agent Starting Run: b1qrwipx with config:\n",
      "wandb: \tdropout: 0.5\n",
      "wandb: \tepochs: 4000\n",
      "wandb: \tlearning_rate: 0.00018266575907563824\n",
      "wandb: \tn_comp: 150\n",
      "wandb: \tnum_layers: 1\n",
      "wandb: \toptimizer: adam\n",
      "wandb: \tweight_decay: 1e-05\n",
      "Failed to detect the name of this notebook, you can set it manually with the WANDB_NOTEBOOK_NAME environment variable to enable code saving.\n"
     ]
    },
    {
     "data": {
      "text/html": [
       "\n",
       "                Tracking run with wandb version 0.12.0<br/>\n",
       "                Syncing run <strong style=\"color:#cdcd00\">honest-sweep-47</strong> to <a href=\"https://wandb.ai\" target=\"_blank\">Weights & Biases</a> <a href=\"https://docs.wandb.com/integrations/jupyter.html\" target=\"_blank\">(Documentation)</a>.<br/>\n",
       "                Project page: <a href=\"https://wandb.ai/sazio/NMAs-Small-Hidden-Dims\" target=\"_blank\">https://wandb.ai/sazio/NMAs-Small-Hidden-Dims</a><br/>\n",
       "                Sweep page: <a href=\"https://wandb.ai/sazio/NMAs-Small-Hidden-Dims/sweeps/38qam6fd\" target=\"_blank\">https://wandb.ai/sazio/NMAs-Small-Hidden-Dims/sweeps/38qam6fd</a><br/>\n",
       "Run page: <a href=\"https://wandb.ai/sazio/NMAs-Small-Hidden-Dims/runs/b1qrwipx\" target=\"_blank\">https://wandb.ai/sazio/NMAs-Small-Hidden-Dims/runs/b1qrwipx</a><br/>\n",
       "                Run data is saved locally in <code>/home/sazeglio/NMAs/src/wandb/run-20210814_203614-b1qrwipx</code><br/><br/>\n",
       "            "
      ],
      "text/plain": [
       "<IPython.core.display.HTML object>"
      ]
     },
     "metadata": {},
     "output_type": "display_data"
    },
    {
     "name": "stdout",
     "output_type": "stream",
     "text": [
      " iteration 0, train cost 3.7059, valid cost 3.8047\n",
      " iteration 50, train cost 2.5725, valid cost 2.6239\n",
      " iteration 100, train cost 2.1131, valid cost 2.1902\n",
      " iteration 150, train cost 2.0884, valid cost 2.1683\n",
      " iteration 200, train cost 2.0824, valid cost 2.1660\n",
      " iteration 250, train cost 2.0795, valid cost 2.1648\n",
      " iteration 300, train cost 2.0766, valid cost 2.1636\n",
      " iteration 350, train cost 2.0731, valid cost 2.1614\n",
      " iteration 400, train cost 2.0662, valid cost 2.1552\n",
      " iteration 450, train cost 2.0459, valid cost 2.1352\n",
      " iteration 500, train cost 2.0010, valid cost 2.0889\n",
      " iteration 550, train cost 1.9483, valid cost 2.0320\n",
      " iteration 600, train cost 1.9128, valid cost 1.9956\n",
      " iteration 650, train cost 1.8800, valid cost 1.9645\n",
      " iteration 700, train cost 1.8448, valid cost 1.9298\n",
      " iteration 750, train cost 1.8164, valid cost 1.8996\n",
      " iteration 800, train cost 1.7936, valid cost 1.8770\n",
      " iteration 850, train cost 1.7698, valid cost 1.8551\n",
      " iteration 900, train cost 1.7441, valid cost 1.8314\n",
      " iteration 950, train cost 1.7209, valid cost 1.8099\n",
      " iteration 1000, train cost 1.6969, valid cost 1.7895\n",
      " iteration 1050, train cost 1.6715, valid cost 1.7674\n",
      " iteration 1100, train cost 1.6470, valid cost 1.7462\n",
      " iteration 1150, train cost 1.6230, valid cost 1.7272\n",
      " iteration 1200, train cost 1.6002, valid cost 1.7094\n",
      " iteration 1250, train cost 1.5805, valid cost 1.6923\n",
      " iteration 1300, train cost 1.5619, valid cost 1.6751\n",
      " iteration 1350, train cost 1.5459, valid cost 1.6601\n",
      " iteration 1400, train cost 1.5297, valid cost 1.6468\n",
      " iteration 1450, train cost 1.5159, valid cost 1.6342\n",
      " iteration 1500, train cost 1.5028, valid cost 1.6232\n",
      " iteration 1550, train cost 1.4906, valid cost 1.6128\n",
      " iteration 1600, train cost 1.4791, valid cost 1.6021\n",
      " iteration 1650, train cost 1.4684, valid cost 1.5928\n",
      " iteration 1700, train cost 1.4575, valid cost 1.5837\n",
      " iteration 1750, train cost 1.4471, valid cost 1.5739\n",
      " iteration 1800, train cost 1.4347, valid cost 1.5641\n",
      " iteration 1850, train cost 1.4251, valid cost 1.5551\n",
      " iteration 1900, train cost 1.4161, valid cost 1.5466\n",
      " iteration 1950, train cost 1.4073, valid cost 1.5388\n",
      " iteration 2000, train cost 1.3977, valid cost 1.5316\n",
      " iteration 2050, train cost 1.3874, valid cost 1.5247\n",
      " iteration 2100, train cost 1.3797, valid cost 1.5174\n",
      " iteration 2150, train cost 1.3711, valid cost 1.5101\n",
      " iteration 2200, train cost 1.3646, valid cost 1.5029\n",
      " iteration 2250, train cost 1.3567, valid cost 1.4960\n",
      " iteration 2300, train cost 1.3484, valid cost 1.4893\n",
      " iteration 2350, train cost 1.3408, valid cost 1.4822\n",
      " iteration 2400, train cost 1.3329, valid cost 1.4755\n",
      " iteration 2450, train cost 1.3257, valid cost 1.4691\n",
      " iteration 2500, train cost 1.3196, valid cost 1.4630\n",
      " iteration 2550, train cost 1.3132, valid cost 1.4568\n",
      " iteration 2600, train cost 1.3061, valid cost 1.4517\n",
      " iteration 2650, train cost 1.3001, valid cost 1.4468\n",
      " iteration 2700, train cost 1.2927, valid cost 1.4421\n",
      " iteration 2750, train cost 1.2885, valid cost 1.4378\n",
      " iteration 2800, train cost 1.2816, valid cost 1.4333\n",
      " iteration 2850, train cost 1.2762, valid cost 1.4289\n",
      " iteration 2900, train cost 1.2707, valid cost 1.4253\n",
      " iteration 2950, train cost 1.2673, valid cost 1.4215\n",
      " iteration 3000, train cost 1.2604, valid cost 1.4183\n",
      " iteration 3050, train cost 1.2563, valid cost 1.4146\n",
      " iteration 3100, train cost 1.2522, valid cost 1.4112\n",
      " iteration 3150, train cost 1.2484, valid cost 1.4077\n",
      " iteration 3200, train cost 1.2436, valid cost 1.4044\n",
      " iteration 3250, train cost 1.2385, valid cost 1.4021\n",
      " iteration 3300, train cost 1.2353, valid cost 1.3987\n",
      " iteration 3350, train cost 1.2309, valid cost 1.3961\n",
      " iteration 3400, train cost 1.2267, valid cost 1.3937\n",
      " iteration 3450, train cost 1.2233, valid cost 1.3903\n",
      " iteration 3500, train cost 1.2202, valid cost 1.3876\n",
      " iteration 3550, train cost 1.2139, valid cost 1.3854\n",
      " iteration 3600, train cost 1.2116, valid cost 1.3828\n",
      " iteration 3650, train cost 1.2075, valid cost 1.3806\n",
      " iteration 3700, train cost 1.2038, valid cost 1.3784\n",
      " iteration 3750, train cost 1.1985, valid cost 1.3757\n",
      " iteration 3800, train cost 1.1980, valid cost 1.3736\n",
      " iteration 3850, train cost 1.1916, valid cost 1.3712\n",
      " iteration 3900, train cost 1.1895, valid cost 1.3692\n",
      " iteration 3950, train cost 1.1850, valid cost 1.3671\n"
     ]
    },
    {
     "data": {
      "text/html": [
       "<br/>Waiting for W&B process to finish, PID 186016<br/>Program ended successfully."
      ],
      "text/plain": [
       "<IPython.core.display.HTML object>"
      ]
     },
     "metadata": {},
     "output_type": "display_data"
    },
    {
     "name": "stderr",
     "output_type": "stream",
     "text": [
      "Widget Javascript not detected.  It may not be installed or enabled properly.\n"
     ]
    },
    {
     "data": {
      "application/vnd.jupyter.widget-view+json": {
       "model_id": "0ee9b068d37b4695a6a21bc2d6fc09fd"
      }
     },
     "metadata": {},
     "output_type": "display_data"
    },
    {
     "data": {
      "text/html": [
       "Find user logs for this run at: <code>/home/sazeglio/NMAs/src/wandb/run-20210814_203614-b1qrwipx/logs/debug.log</code>"
      ],
      "text/plain": [
       "<IPython.core.display.HTML object>"
      ]
     },
     "metadata": {},
     "output_type": "display_data"
    },
    {
     "data": {
      "text/html": [
       "Find internal logs for this run at: <code>/home/sazeglio/NMAs/src/wandb/run-20210814_203614-b1qrwipx/logs/debug-internal.log</code>"
      ],
      "text/plain": [
       "<IPython.core.display.HTML object>"
      ]
     },
     "metadata": {},
     "output_type": "display_data"
    },
    {
     "data": {
      "text/html": [
       "<h3>Run summary:</h3><br/><style>\n",
       "    table.wandb td:nth-child(1) { padding: 0 10px; text-align: right }\n",
       "    </style><table class=\"wandb\">\n",
       "<tr><td>train_loss</td><td>1.18379</td></tr><tr><td>valid_loss</td><td>1.3651</td></tr><tr><td>epoch</td><td>3999</td></tr><tr><td>_runtime</td><td>279</td></tr><tr><td>_timestamp</td><td>1628966453</td></tr><tr><td>_step</td><td>3999</td></tr></table>"
      ],
      "text/plain": [
       "<IPython.core.display.HTML object>"
      ]
     },
     "metadata": {},
     "output_type": "display_data"
    },
    {
     "data": {
      "text/html": [
       "<h3>Run history:</h3><br/><style>\n",
       "    table.wandb td:nth-child(1) { padding: 0 10px; text-align: right }\n",
       "    </style><table class=\"wandb\">\n",
       "<tr><td>train_loss</td><td>█▄▄▄▄▄▃▃▃▃▃▃▂▂▂▂▂▂▂▂▂▂▂▂▁▁▁▁▁▁▁▁▁▁▁▁▁▁▁▁</td></tr><tr><td>valid_loss</td><td>█▄▄▄▄▄▃▃▃▃▃▂▂▂▂▂▂▂▂▂▂▂▁▁▁▁▁▁▁▁▁▁▁▁▁▁▁▁▁▁</td></tr><tr><td>epoch</td><td>▁▁▁▂▂▂▂▂▂▃▃▃▃▃▄▄▄▄▄▄▅▅▅▅▅▅▆▆▆▆▆▇▇▇▇▇▇███</td></tr><tr><td>_runtime</td><td>▁▁▁▂▂▂▂▂▂▃▃▃▃▃▄▄▄▄▄▄▅▅▅▅▅▅▆▆▆▆▆▇▇▇▇▇▇███</td></tr><tr><td>_timestamp</td><td>▁▁▁▂▂▂▂▂▂▃▃▃▃▃▄▄▄▄▄▄▅▅▅▅▅▅▆▆▆▆▆▇▇▇▇▇▇███</td></tr><tr><td>_step</td><td>▁▁▁▂▂▂▂▂▂▃▃▃▃▃▄▄▄▄▄▄▅▅▅▅▅▅▆▆▆▆▆▇▇▇▇▇▇███</td></tr></table><br/>"
      ],
      "text/plain": [
       "<IPython.core.display.HTML object>"
      ]
     },
     "metadata": {},
     "output_type": "display_data"
    },
    {
     "data": {
      "text/html": [
       "Synced 5 W&B file(s), 0 media file(s), 0 artifact file(s) and 0 other file(s)"
      ],
      "text/plain": [
       "<IPython.core.display.HTML object>"
      ]
     },
     "metadata": {},
     "output_type": "display_data"
    },
    {
     "data": {
      "text/html": [
       "\n",
       "                    <br/>Synced <strong style=\"color:#cdcd00\">honest-sweep-47</strong>: <a href=\"https://wandb.ai/sazio/NMAs-Small-Hidden-Dims/runs/b1qrwipx\" target=\"_blank\">https://wandb.ai/sazio/NMAs-Small-Hidden-Dims/runs/b1qrwipx</a><br/>\n",
       "                "
      ],
      "text/plain": [
       "<IPython.core.display.HTML object>"
      ]
     },
     "metadata": {},
     "output_type": "display_data"
    },
    {
     "name": "stderr",
     "output_type": "stream",
     "text": [
      "wandb: Agent Starting Run: volnu1fl with config:\n",
      "wandb: \tdropout: 0.5\n",
      "wandb: \tepochs: 4000\n",
      "wandb: \tlearning_rate: 5.0658233717987335e-05\n",
      "wandb: \tn_comp: 100\n",
      "wandb: \tnum_layers: 1\n",
      "wandb: \toptimizer: adam\n",
      "wandb: \tweight_decay: 0\n",
      "Failed to detect the name of this notebook, you can set it manually with the WANDB_NOTEBOOK_NAME environment variable to enable code saving.\n"
     ]
    },
    {
     "data": {
      "text/html": [
       "\n",
       "                Tracking run with wandb version 0.12.0<br/>\n",
       "                Syncing run <strong style=\"color:#cdcd00\">youthful-sweep-48</strong> to <a href=\"https://wandb.ai\" target=\"_blank\">Weights & Biases</a> <a href=\"https://docs.wandb.com/integrations/jupyter.html\" target=\"_blank\">(Documentation)</a>.<br/>\n",
       "                Project page: <a href=\"https://wandb.ai/sazio/NMAs-Small-Hidden-Dims\" target=\"_blank\">https://wandb.ai/sazio/NMAs-Small-Hidden-Dims</a><br/>\n",
       "                Sweep page: <a href=\"https://wandb.ai/sazio/NMAs-Small-Hidden-Dims/sweeps/38qam6fd\" target=\"_blank\">https://wandb.ai/sazio/NMAs-Small-Hidden-Dims/sweeps/38qam6fd</a><br/>\n",
       "Run page: <a href=\"https://wandb.ai/sazio/NMAs-Small-Hidden-Dims/runs/volnu1fl\" target=\"_blank\">https://wandb.ai/sazio/NMAs-Small-Hidden-Dims/runs/volnu1fl</a><br/>\n",
       "                Run data is saved locally in <code>/home/sazeglio/NMAs/src/wandb/run-20210814_204058-volnu1fl</code><br/><br/>\n",
       "            "
      ],
      "text/plain": [
       "<IPython.core.display.HTML object>"
      ]
     },
     "metadata": {},
     "output_type": "display_data"
    },
    {
     "name": "stdout",
     "output_type": "stream",
     "text": [
      " iteration 0, train cost 3.7164, valid cost 3.8159\n",
      " iteration 50, train cost 3.6136, valid cost 3.7069\n",
      " iteration 100, train cost 2.9400, valid cost 3.0001\n",
      " iteration 150, train cost 2.4435, valid cost 2.4972\n",
      " iteration 200, train cost 2.2325, valid cost 2.2906\n",
      " iteration 250, train cost 2.1517, valid cost 2.2144\n",
      " iteration 300, train cost 2.1198, valid cost 2.1864\n",
      " iteration 350, train cost 2.1064, valid cost 2.1757\n",
      " iteration 400, train cost 2.0983, valid cost 2.1711\n",
      " iteration 450, train cost 2.0938, valid cost 2.1689\n",
      " iteration 500, train cost 2.0906, valid cost 2.1676\n",
      " iteration 550, train cost 2.0883, valid cost 2.1668\n",
      " iteration 600, train cost 2.0858, valid cost 2.1662\n",
      " iteration 650, train cost 2.0846, valid cost 2.1657\n",
      " iteration 700, train cost 2.0827, valid cost 2.1652\n",
      " iteration 750, train cost 2.0819, valid cost 2.1648\n",
      " iteration 800, train cost 2.0804, valid cost 2.1643\n",
      " iteration 850, train cost 2.0793, valid cost 2.1637\n",
      " iteration 900, train cost 2.0780, valid cost 2.1631\n",
      " iteration 950, train cost 2.0769, valid cost 2.1623\n",
      " iteration 1000, train cost 2.0755, valid cost 2.1612\n",
      " iteration 1050, train cost 2.0742, valid cost 2.1598\n",
      " iteration 1100, train cost 2.0717, valid cost 2.1578\n",
      " iteration 1150, train cost 2.0692, valid cost 2.1551\n",
      " iteration 1200, train cost 2.0653, valid cost 2.1513\n",
      " iteration 1250, train cost 2.0599, valid cost 2.1456\n",
      " iteration 1300, train cost 2.0525, valid cost 2.1374\n",
      " iteration 1350, train cost 2.0417, valid cost 2.1261\n",
      " iteration 1400, train cost 2.0287, valid cost 2.1124\n",
      " iteration 1450, train cost 2.0148, valid cost 2.0985\n",
      " iteration 1500, train cost 2.0017, valid cost 2.0860\n",
      " iteration 1550, train cost 1.9899, valid cost 2.0742\n",
      " iteration 1600, train cost 1.9772, valid cost 2.0604\n",
      " iteration 1650, train cost 1.9617, valid cost 2.0427\n",
      " iteration 1700, train cost 1.9436, valid cost 2.0221\n",
      " iteration 1750, train cost 1.9261, valid cost 2.0019\n",
      " iteration 1800, train cost 1.9102, valid cost 1.9844\n",
      " iteration 1850, train cost 1.8962, valid cost 1.9699\n",
      " iteration 1900, train cost 1.8837, valid cost 1.9579\n",
      " iteration 1950, train cost 1.8726, valid cost 1.9478\n",
      " iteration 2000, train cost 1.8631, valid cost 1.9386\n",
      " iteration 2050, train cost 1.8531, valid cost 1.9298\n",
      " iteration 2100, train cost 1.8439, valid cost 1.9212\n",
      " iteration 2150, train cost 1.8353, valid cost 1.9129\n",
      " iteration 2200, train cost 1.8277, valid cost 1.9053\n",
      " iteration 2250, train cost 1.8195, valid cost 1.8983\n",
      " iteration 2300, train cost 1.8131, valid cost 1.8920\n",
      " iteration 2350, train cost 1.8064, valid cost 1.8859\n",
      " iteration 2400, train cost 1.8004, valid cost 1.8798\n",
      " iteration 2450, train cost 1.7925, valid cost 1.8734\n",
      " iteration 2500, train cost 1.7837, valid cost 1.8663\n",
      " iteration 2550, train cost 1.7751, valid cost 1.8588\n",
      " iteration 2600, train cost 1.7658, valid cost 1.8510\n",
      " iteration 2650, train cost 1.7568, valid cost 1.8433\n",
      " iteration 2700, train cost 1.7478, valid cost 1.8357\n",
      " iteration 2750, train cost 1.7393, valid cost 1.8287\n",
      " iteration 2800, train cost 1.7315, valid cost 1.8223\n",
      " iteration 2850, train cost 1.7229, valid cost 1.8163\n",
      " iteration 2900, train cost 1.7161, valid cost 1.8101\n",
      " iteration 2950, train cost 1.7077, valid cost 1.8040\n",
      " iteration 3000, train cost 1.7004, valid cost 1.7974\n",
      " iteration 3050, train cost 1.6927, valid cost 1.7906\n",
      " iteration 3100, train cost 1.6843, valid cost 1.7834\n",
      " iteration 3150, train cost 1.6755, valid cost 1.7759\n",
      " iteration 3200, train cost 1.6674, valid cost 1.7682\n",
      " iteration 3250, train cost 1.6593, valid cost 1.7607\n",
      " iteration 3300, train cost 1.6516, valid cost 1.7532\n",
      " iteration 3350, train cost 1.6434, valid cost 1.7461\n",
      " iteration 3400, train cost 1.6353, valid cost 1.7391\n",
      " iteration 3450, train cost 1.6272, valid cost 1.7320\n",
      " iteration 3500, train cost 1.6194, valid cost 1.7251\n",
      " iteration 3550, train cost 1.6113, valid cost 1.7182\n",
      " iteration 3600, train cost 1.6037, valid cost 1.7113\n",
      " iteration 3650, train cost 1.5957, valid cost 1.7045\n",
      " iteration 3700, train cost 1.5881, valid cost 1.6979\n",
      " iteration 3750, train cost 1.5797, valid cost 1.6913\n",
      " iteration 3800, train cost 1.5724, valid cost 1.6847\n",
      " iteration 3850, train cost 1.5648, valid cost 1.6788\n",
      " iteration 3900, train cost 1.5585, valid cost 1.6728\n",
      " iteration 3950, train cost 1.5521, valid cost 1.6672\n"
     ]
    },
    {
     "data": {
      "text/html": [
       "<br/>Waiting for W&B process to finish, PID 186171<br/>Program ended successfully."
      ],
      "text/plain": [
       "<IPython.core.display.HTML object>"
      ]
     },
     "metadata": {},
     "output_type": "display_data"
    },
    {
     "name": "stderr",
     "output_type": "stream",
     "text": [
      "Widget Javascript not detected.  It may not be installed or enabled properly.\n"
     ]
    },
    {
     "data": {
      "application/vnd.jupyter.widget-view+json": {
       "model_id": "494634ecbcd14c03bc501294ccd65a52"
      }
     },
     "metadata": {},
     "output_type": "display_data"
    },
    {
     "data": {
      "text/html": [
       "Find user logs for this run at: <code>/home/sazeglio/NMAs/src/wandb/run-20210814_204058-volnu1fl/logs/debug.log</code>"
      ],
      "text/plain": [
       "<IPython.core.display.HTML object>"
      ]
     },
     "metadata": {},
     "output_type": "display_data"
    },
    {
     "data": {
      "text/html": [
       "Find internal logs for this run at: <code>/home/sazeglio/NMAs/src/wandb/run-20210814_204058-volnu1fl/logs/debug-internal.log</code>"
      ],
      "text/plain": [
       "<IPython.core.display.HTML object>"
      ]
     },
     "metadata": {},
     "output_type": "display_data"
    },
    {
     "data": {
      "text/html": [
       "<h3>Run summary:</h3><br/><style>\n",
       "    table.wandb td:nth-child(1) { padding: 0 10px; text-align: right }\n",
       "    </style><table class=\"wandb\">\n",
       "<tr><td>train_loss</td><td>1.54649</td></tr><tr><td>valid_loss</td><td>1.66162</td></tr><tr><td>epoch</td><td>3999</td></tr><tr><td>_runtime</td><td>279</td></tr><tr><td>_timestamp</td><td>1628966737</td></tr><tr><td>_step</td><td>3999</td></tr></table>"
      ],
      "text/plain": [
       "<IPython.core.display.HTML object>"
      ]
     },
     "metadata": {},
     "output_type": "display_data"
    },
    {
     "data": {
      "text/html": [
       "<h3>Run history:</h3><br/><style>\n",
       "    table.wandb td:nth-child(1) { padding: 0 10px; text-align: right }\n",
       "    </style><table class=\"wandb\">\n",
       "<tr><td>train_loss</td><td>█▅▃▃▃▃▃▃▃▃▃▃▃▃▃▂▂▂▂▂▂▂▂▂▂▂▂▂▂▂▁▁▁▁▁▁▁▁▁▁</td></tr><tr><td>valid_loss</td><td>█▄▃▃▃▃▃▃▃▃▃▃▃▃▂▂▂▂▂▂▂▂▂▂▂▂▂▂▁▁▁▁▁▁▁▁▁▁▁▁</td></tr><tr><td>epoch</td><td>▁▁▁▂▂▂▂▂▂▃▃▃▃▃▄▄▄▄▄▄▅▅▅▅▅▅▆▆▆▆▆▇▇▇▇▇▇███</td></tr><tr><td>_runtime</td><td>▁▁▁▂▂▂▂▂▂▃▃▃▃▃▄▄▄▄▄▄▅▅▅▅▅▅▆▆▆▆▆▇▇▇▇▇▇███</td></tr><tr><td>_timestamp</td><td>▁▁▁▂▂▂▂▂▂▃▃▃▃▃▄▄▄▄▄▄▅▅▅▅▅▅▆▆▆▆▆▇▇▇▇▇▇███</td></tr><tr><td>_step</td><td>▁▁▁▂▂▂▂▂▂▃▃▃▃▃▄▄▄▄▄▄▅▅▅▅▅▅▆▆▆▆▆▇▇▇▇▇▇███</td></tr></table><br/>"
      ],
      "text/plain": [
       "<IPython.core.display.HTML object>"
      ]
     },
     "metadata": {},
     "output_type": "display_data"
    },
    {
     "data": {
      "text/html": [
       "Synced 5 W&B file(s), 0 media file(s), 0 artifact file(s) and 0 other file(s)"
      ],
      "text/plain": [
       "<IPython.core.display.HTML object>"
      ]
     },
     "metadata": {},
     "output_type": "display_data"
    },
    {
     "data": {
      "text/html": [
       "\n",
       "                    <br/>Synced <strong style=\"color:#cdcd00\">youthful-sweep-48</strong>: <a href=\"https://wandb.ai/sazio/NMAs-Small-Hidden-Dims/runs/volnu1fl\" target=\"_blank\">https://wandb.ai/sazio/NMAs-Small-Hidden-Dims/runs/volnu1fl</a><br/>\n",
       "                "
      ],
      "text/plain": [
       "<IPython.core.display.HTML object>"
      ]
     },
     "metadata": {},
     "output_type": "display_data"
    },
    {
     "name": "stderr",
     "output_type": "stream",
     "text": [
      "wandb: Agent Starting Run: 0b8bj1vm with config:\n",
      "wandb: \tdropout: 0.3\n",
      "wandb: \tepochs: 4000\n",
      "wandb: \tlearning_rate: 9.191755935243188e-05\n",
      "wandb: \tn_comp: 50\n",
      "wandb: \tnum_layers: 1\n",
      "wandb: \toptimizer: adam\n",
      "wandb: \tweight_decay: 0\n",
      "Failed to detect the name of this notebook, you can set it manually with the WANDB_NOTEBOOK_NAME environment variable to enable code saving.\n"
     ]
    },
    {
     "data": {
      "text/html": [
       "\n",
       "                Tracking run with wandb version 0.12.0<br/>\n",
       "                Syncing run <strong style=\"color:#cdcd00\">lemon-sweep-49</strong> to <a href=\"https://wandb.ai\" target=\"_blank\">Weights & Biases</a> <a href=\"https://docs.wandb.com/integrations/jupyter.html\" target=\"_blank\">(Documentation)</a>.<br/>\n",
       "                Project page: <a href=\"https://wandb.ai/sazio/NMAs-Small-Hidden-Dims\" target=\"_blank\">https://wandb.ai/sazio/NMAs-Small-Hidden-Dims</a><br/>\n",
       "                Sweep page: <a href=\"https://wandb.ai/sazio/NMAs-Small-Hidden-Dims/sweeps/38qam6fd\" target=\"_blank\">https://wandb.ai/sazio/NMAs-Small-Hidden-Dims/sweeps/38qam6fd</a><br/>\n",
       "Run page: <a href=\"https://wandb.ai/sazio/NMAs-Small-Hidden-Dims/runs/0b8bj1vm\" target=\"_blank\">https://wandb.ai/sazio/NMAs-Small-Hidden-Dims/runs/0b8bj1vm</a><br/>\n",
       "                Run data is saved locally in <code>/home/sazeglio/NMAs/src/wandb/run-20210814_204542-0b8bj1vm</code><br/><br/>\n",
       "            "
      ],
      "text/plain": [
       "<IPython.core.display.HTML object>"
      ]
     },
     "metadata": {},
     "output_type": "display_data"
    },
    {
     "name": "stdout",
     "output_type": "stream",
     "text": [
      " iteration 0, train cost 3.7059, valid cost 3.8054\n",
      " iteration 50, train cost 3.2210, valid cost 3.2889\n",
      " iteration 100, train cost 2.3888, valid cost 2.4566\n",
      " iteration 150, train cost 2.1546, valid cost 2.2305\n",
      " iteration 200, train cost 2.1077, valid cost 2.1842\n",
      " iteration 250, train cost 2.0941, valid cost 2.1723\n",
      " iteration 300, train cost 2.0882, valid cost 2.1683\n",
      " iteration 350, train cost 2.0843, valid cost 2.1664\n",
      " iteration 400, train cost 2.0821, valid cost 2.1650\n",
      " iteration 450, train cost 2.0792, valid cost 2.1636\n",
      " iteration 500, train cost 2.0769, valid cost 2.1617\n",
      " iteration 550, train cost 2.0732, valid cost 2.1587\n",
      " iteration 600, train cost 2.0686, valid cost 2.1540\n",
      " iteration 650, train cost 2.0622, valid cost 2.1463\n",
      " iteration 700, train cost 2.0513, valid cost 2.1339\n",
      " iteration 750, train cost 2.0362, valid cost 2.1162\n",
      " iteration 800, train cost 2.0178, valid cost 2.0966\n",
      " iteration 850, train cost 1.9982, valid cost 2.0789\n",
      " iteration 900, train cost 1.9773, valid cost 2.0619\n",
      " iteration 950, train cost 1.9560, valid cost 2.0447\n",
      " iteration 1000, train cost 1.9369, valid cost 2.0286\n",
      " iteration 1050, train cost 1.9215, valid cost 2.0139\n",
      " iteration 1100, train cost 1.9061, valid cost 1.9986\n",
      " iteration 1150, train cost 1.8892, valid cost 1.9803\n",
      " iteration 1200, train cost 1.8710, valid cost 1.9609\n",
      " iteration 1250, train cost 1.8539, valid cost 1.9415\n",
      " iteration 1300, train cost 1.8376, valid cost 1.9221\n",
      " iteration 1350, train cost 1.8219, valid cost 1.9046\n",
      " iteration 1400, train cost 1.8087, valid cost 1.8905\n",
      " iteration 1450, train cost 1.7972, valid cost 1.8790\n",
      " iteration 1500, train cost 1.7851, valid cost 1.8680\n",
      " iteration 1550, train cost 1.7744, valid cost 1.8582\n",
      " iteration 1600, train cost 1.7645, valid cost 1.8484\n",
      " iteration 1650, train cost 1.7533, valid cost 1.8392\n",
      " iteration 1700, train cost 1.7408, valid cost 1.8296\n",
      " iteration 1750, train cost 1.7276, valid cost 1.8189\n",
      " iteration 1800, train cost 1.7126, valid cost 1.8070\n",
      " iteration 1850, train cost 1.6964, valid cost 1.7944\n",
      " iteration 1900, train cost 1.6803, valid cost 1.7815\n",
      " iteration 1950, train cost 1.6652, valid cost 1.7690\n",
      " iteration 2000, train cost 1.6504, valid cost 1.7573\n",
      " iteration 2050, train cost 1.6359, valid cost 1.7457\n",
      " iteration 2100, train cost 1.6235, valid cost 1.7347\n",
      " iteration 2150, train cost 1.6106, valid cost 1.7243\n",
      " iteration 2200, train cost 1.5991, valid cost 1.7147\n",
      " iteration 2250, train cost 1.5876, valid cost 1.7057\n",
      " iteration 2300, train cost 1.5782, valid cost 1.6977\n",
      " iteration 2350, train cost 1.5685, valid cost 1.6897\n",
      " iteration 2400, train cost 1.5600, valid cost 1.6820\n",
      " iteration 2450, train cost 1.5501, valid cost 1.6742\n",
      " iteration 2500, train cost 1.5425, valid cost 1.6663\n",
      " iteration 2550, train cost 1.5332, valid cost 1.6582\n",
      " iteration 2600, train cost 1.5241, valid cost 1.6504\n",
      " iteration 2650, train cost 1.5157, valid cost 1.6426\n",
      " iteration 2700, train cost 1.5069, valid cost 1.6348\n",
      " iteration 2750, train cost 1.4983, valid cost 1.6270\n",
      " iteration 2800, train cost 1.4903, valid cost 1.6198\n",
      " iteration 2850, train cost 1.4818, valid cost 1.6126\n",
      " iteration 2900, train cost 1.4742, valid cost 1.6059\n",
      " iteration 2950, train cost 1.4683, valid cost 1.6001\n",
      " iteration 3000, train cost 1.4615, valid cost 1.5936\n",
      " iteration 3050, train cost 1.4542, valid cost 1.5885\n",
      " iteration 3100, train cost 1.4484, valid cost 1.5830\n",
      " iteration 3150, train cost 1.4420, valid cost 1.5779\n",
      " iteration 3200, train cost 1.4348, valid cost 1.5728\n",
      " iteration 3250, train cost 1.4278, valid cost 1.5680\n",
      " iteration 3300, train cost 1.4230, valid cost 1.5630\n",
      " iteration 3350, train cost 1.4167, valid cost 1.5580\n",
      " iteration 3400, train cost 1.4102, valid cost 1.5535\n",
      " iteration 3450, train cost 1.4053, valid cost 1.5493\n",
      " iteration 3500, train cost 1.4012, valid cost 1.5449\n",
      " iteration 3550, train cost 1.3950, valid cost 1.5409\n",
      " iteration 3600, train cost 1.3912, valid cost 1.5372\n",
      " iteration 3650, train cost 1.3856, valid cost 1.5333\n",
      " iteration 3700, train cost 1.3815, valid cost 1.5295\n",
      " iteration 3750, train cost 1.3771, valid cost 1.5260\n",
      " iteration 3800, train cost 1.3726, valid cost 1.5223\n",
      " iteration 3850, train cost 1.3686, valid cost 1.5186\n",
      " iteration 3900, train cost 1.3635, valid cost 1.5152\n",
      " iteration 3950, train cost 1.3596, valid cost 1.5116\n"
     ]
    },
    {
     "data": {
      "text/html": [
       "<br/>Waiting for W&B process to finish, PID 186268<br/>Program ended successfully."
      ],
      "text/plain": [
       "<IPython.core.display.HTML object>"
      ]
     },
     "metadata": {},
     "output_type": "display_data"
    },
    {
     "name": "stderr",
     "output_type": "stream",
     "text": [
      "Widget Javascript not detected.  It may not be installed or enabled properly.\n"
     ]
    },
    {
     "data": {
      "application/vnd.jupyter.widget-view+json": {
       "model_id": "ddc3124deb59414ebe7f364fa5355b29"
      }
     },
     "metadata": {},
     "output_type": "display_data"
    },
    {
     "data": {
      "text/html": [
       "Find user logs for this run at: <code>/home/sazeglio/NMAs/src/wandb/run-20210814_204542-0b8bj1vm/logs/debug.log</code>"
      ],
      "text/plain": [
       "<IPython.core.display.HTML object>"
      ]
     },
     "metadata": {},
     "output_type": "display_data"
    },
    {
     "data": {
      "text/html": [
       "Find internal logs for this run at: <code>/home/sazeglio/NMAs/src/wandb/run-20210814_204542-0b8bj1vm/logs/debug-internal.log</code>"
      ],
      "text/plain": [
       "<IPython.core.display.HTML object>"
      ]
     },
     "metadata": {},
     "output_type": "display_data"
    },
    {
     "data": {
      "text/html": [
       "<h3>Run summary:</h3><br/><style>\n",
       "    table.wandb td:nth-child(1) { padding: 0 10px; text-align: right }\n",
       "    </style><table class=\"wandb\">\n",
       "<tr><td>train_loss</td><td>1.35534</td></tr><tr><td>valid_loss</td><td>1.50824</td></tr><tr><td>epoch</td><td>3999</td></tr><tr><td>_runtime</td><td>279</td></tr><tr><td>_timestamp</td><td>1628967021</td></tr><tr><td>_step</td><td>3999</td></tr></table>"
      ],
      "text/plain": [
       "<IPython.core.display.HTML object>"
      ]
     },
     "metadata": {},
     "output_type": "display_data"
    },
    {
     "data": {
      "text/html": [
       "<h3>Run history:</h3><br/><style>\n",
       "    table.wandb td:nth-child(1) { padding: 0 10px; text-align: right }\n",
       "    </style><table class=\"wandb\">\n",
       "<tr><td>train_loss</td><td>█▄▃▃▃▃▃▃▃▃▃▃▃▂▂▂▂▂▂▂▂▂▂▂▂▂▁▁▁▁▁▁▁▁▁▁▁▁▁▁</td></tr><tr><td>valid_loss</td><td>█▄▃▃▃▃▃▃▃▃▃▃▂▂▂▂▂▂▂▂▂▂▂▂▂▁▁▁▁▁▁▁▁▁▁▁▁▁▁▁</td></tr><tr><td>epoch</td><td>▁▁▁▂▂▂▂▂▂▃▃▃▃▃▄▄▄▄▄▄▅▅▅▅▅▅▆▆▆▆▆▇▇▇▇▇▇███</td></tr><tr><td>_runtime</td><td>▁▁▁▂▂▂▂▂▂▃▃▃▃▃▄▄▄▄▄▄▅▅▅▅▅▅▆▆▆▆▆▇▇▇▇▇▇███</td></tr><tr><td>_timestamp</td><td>▁▁▁▂▂▂▂▂▂▃▃▃▃▃▄▄▄▄▄▄▅▅▅▅▅▅▆▆▆▆▆▇▇▇▇▇▇███</td></tr><tr><td>_step</td><td>▁▁▁▂▂▂▂▂▂▃▃▃▃▃▄▄▄▄▄▄▅▅▅▅▅▅▆▆▆▆▆▇▇▇▇▇▇███</td></tr></table><br/>"
      ],
      "text/plain": [
       "<IPython.core.display.HTML object>"
      ]
     },
     "metadata": {},
     "output_type": "display_data"
    },
    {
     "data": {
      "text/html": [
       "Synced 5 W&B file(s), 0 media file(s), 0 artifact file(s) and 0 other file(s)"
      ],
      "text/plain": [
       "<IPython.core.display.HTML object>"
      ]
     },
     "metadata": {},
     "output_type": "display_data"
    },
    {
     "data": {
      "text/html": [
       "\n",
       "                    <br/>Synced <strong style=\"color:#cdcd00\">lemon-sweep-49</strong>: <a href=\"https://wandb.ai/sazio/NMAs-Small-Hidden-Dims/runs/0b8bj1vm\" target=\"_blank\">https://wandb.ai/sazio/NMAs-Small-Hidden-Dims/runs/0b8bj1vm</a><br/>\n",
       "                "
      ],
      "text/plain": [
       "<IPython.core.display.HTML object>"
      ]
     },
     "metadata": {},
     "output_type": "display_data"
    },
    {
     "name": "stderr",
     "output_type": "stream",
     "text": [
      "wandb: Agent Starting Run: upybfwsi with config:\n",
      "wandb: \tdropout: 0.5\n",
      "wandb: \tepochs: 4000\n",
      "wandb: \tlearning_rate: 7.396183311488674e-05\n",
      "wandb: \tn_comp: 75\n",
      "wandb: \tnum_layers: 1\n",
      "wandb: \toptimizer: adam\n",
      "wandb: \tweight_decay: 0\n",
      "Failed to detect the name of this notebook, you can set it manually with the WANDB_NOTEBOOK_NAME environment variable to enable code saving.\n"
     ]
    },
    {
     "data": {
      "text/html": [
       "\n",
       "                Tracking run with wandb version 0.12.0<br/>\n",
       "                Syncing run <strong style=\"color:#cdcd00\">legendary-sweep-50</strong> to <a href=\"https://wandb.ai\" target=\"_blank\">Weights & Biases</a> <a href=\"https://docs.wandb.com/integrations/jupyter.html\" target=\"_blank\">(Documentation)</a>.<br/>\n",
       "                Project page: <a href=\"https://wandb.ai/sazio/NMAs-Small-Hidden-Dims\" target=\"_blank\">https://wandb.ai/sazio/NMAs-Small-Hidden-Dims</a><br/>\n",
       "                Sweep page: <a href=\"https://wandb.ai/sazio/NMAs-Small-Hidden-Dims/sweeps/38qam6fd\" target=\"_blank\">https://wandb.ai/sazio/NMAs-Small-Hidden-Dims/sweeps/38qam6fd</a><br/>\n",
       "Run page: <a href=\"https://wandb.ai/sazio/NMAs-Small-Hidden-Dims/runs/upybfwsi\" target=\"_blank\">https://wandb.ai/sazio/NMAs-Small-Hidden-Dims/runs/upybfwsi</a><br/>\n",
       "                Run data is saved locally in <code>/home/sazeglio/NMAs/src/wandb/run-20210814_205026-upybfwsi</code><br/><br/>\n",
       "            "
      ],
      "text/plain": [
       "<IPython.core.display.HTML object>"
      ]
     },
     "metadata": {},
     "output_type": "display_data"
    },
    {
     "name": "stdout",
     "output_type": "stream",
     "text": [
      " iteration 0, train cost 3.7098, valid cost 3.8092\n",
      " iteration 50, train cost 3.4460, valid cost 3.5295\n",
      " iteration 100, train cost 2.6103, valid cost 2.6865\n",
      " iteration 150, train cost 2.2511, valid cost 2.3320\n",
      " iteration 200, train cost 2.1419, valid cost 2.2217\n",
      " iteration 250, train cost 2.1079, valid cost 2.1871\n",
      " iteration 300, train cost 2.0951, valid cost 2.1749\n",
      " iteration 350, train cost 2.0896, valid cost 2.1701\n",
      " iteration 400, train cost 2.0859, valid cost 2.1679\n",
      " iteration 450, train cost 2.0834, valid cost 2.1667\n",
      " iteration 500, train cost 2.0816, valid cost 2.1658\n",
      " iteration 550, train cost 2.0798, valid cost 2.1650\n",
      " iteration 600, train cost 2.0781, valid cost 2.1642\n",
      " iteration 650, train cost 2.0766, valid cost 2.1632\n",
      " iteration 700, train cost 2.0746, valid cost 2.1618\n",
      " iteration 750, train cost 2.0722, valid cost 2.1598\n",
      " iteration 800, train cost 2.0691, valid cost 2.1571\n",
      " iteration 850, train cost 2.0651, valid cost 2.1531\n",
      " iteration 900, train cost 2.0584, valid cost 2.1469\n",
      " iteration 950, train cost 2.0481, valid cost 2.1368\n",
      " iteration 1000, train cost 2.0333, valid cost 2.1219\n",
      " iteration 1050, train cost 2.0153, valid cost 2.1045\n",
      " iteration 1100, train cost 1.9989, valid cost 2.0885\n",
      " iteration 1150, train cost 1.9836, valid cost 2.0748\n",
      " iteration 1200, train cost 1.9677, valid cost 2.0600\n",
      " iteration 1250, train cost 1.9491, valid cost 2.0412\n",
      " iteration 1300, train cost 1.9256, valid cost 2.0182\n",
      " iteration 1350, train cost 1.9036, valid cost 1.9946\n",
      " iteration 1400, train cost 1.8838, valid cost 1.9735\n",
      " iteration 1450, train cost 1.8677, valid cost 1.9548\n",
      " iteration 1500, train cost 1.8523, valid cost 1.9384\n",
      " iteration 1550, train cost 1.8383, valid cost 1.9238\n",
      " iteration 1600, train cost 1.8261, valid cost 1.9108\n",
      " iteration 1650, train cost 1.8147, valid cost 1.8995\n",
      " iteration 1700, train cost 1.8046, valid cost 1.8900\n",
      " iteration 1750, train cost 1.7943, valid cost 1.8813\n",
      " iteration 1800, train cost 1.7845, valid cost 1.8733\n",
      " iteration 1850, train cost 1.7750, valid cost 1.8651\n",
      " iteration 1900, train cost 1.7650, valid cost 1.8561\n",
      " iteration 1950, train cost 1.7543, valid cost 1.8469\n",
      " iteration 2000, train cost 1.7443, valid cost 1.8385\n",
      " iteration 2050, train cost 1.7351, valid cost 1.8310\n",
      " iteration 2100, train cost 1.7263, valid cost 1.8242\n",
      " iteration 2150, train cost 1.7175, valid cost 1.8178\n",
      " iteration 2200, train cost 1.7092, valid cost 1.8115\n",
      " iteration 2250, train cost 1.7013, valid cost 1.8055\n",
      " iteration 2300, train cost 1.6936, valid cost 1.7997\n",
      " iteration 2350, train cost 1.6863, valid cost 1.7944\n",
      " iteration 2400, train cost 1.6794, valid cost 1.7887\n",
      " iteration 2450, train cost 1.6718, valid cost 1.7832\n",
      " iteration 2500, train cost 1.6642, valid cost 1.7765\n",
      " iteration 2550, train cost 1.6556, valid cost 1.7695\n",
      " iteration 2600, train cost 1.6475, valid cost 1.7617\n",
      " iteration 2650, train cost 1.6375, valid cost 1.7527\n",
      " iteration 2700, train cost 1.6277, valid cost 1.7435\n",
      " iteration 2750, train cost 1.6171, valid cost 1.7338\n",
      " iteration 2800, train cost 1.6071, valid cost 1.7243\n",
      " iteration 2850, train cost 1.5976, valid cost 1.7145\n",
      " iteration 2900, train cost 1.5878, valid cost 1.7055\n",
      " iteration 2950, train cost 1.5788, valid cost 1.6971\n",
      " iteration 3000, train cost 1.5699, valid cost 1.6893\n",
      " iteration 3050, train cost 1.5618, valid cost 1.6817\n",
      " iteration 3100, train cost 1.5541, valid cost 1.6748\n",
      " iteration 3150, train cost 1.5464, valid cost 1.6681\n",
      " iteration 3200, train cost 1.5385, valid cost 1.6614\n",
      " iteration 3250, train cost 1.5314, valid cost 1.6552\n",
      " iteration 3300, train cost 1.5246, valid cost 1.6494\n",
      " iteration 3350, train cost 1.5186, valid cost 1.6433\n",
      " iteration 3400, train cost 1.5115, valid cost 1.6375\n",
      " iteration 3450, train cost 1.5052, valid cost 1.6319\n",
      " iteration 3500, train cost 1.4995, valid cost 1.6261\n",
      " iteration 3550, train cost 1.4931, valid cost 1.6207\n",
      " iteration 3600, train cost 1.4878, valid cost 1.6148\n",
      " iteration 3650, train cost 1.4810, valid cost 1.6094\n",
      " iteration 3700, train cost 1.4757, valid cost 1.6037\n",
      " iteration 3750, train cost 1.4690, valid cost 1.5983\n",
      " iteration 3800, train cost 1.4643, valid cost 1.5931\n",
      " iteration 3850, train cost 1.4583, valid cost 1.5878\n",
      " iteration 3900, train cost 1.4523, valid cost 1.5827\n",
      " iteration 3950, train cost 1.4480, valid cost 1.5783\n"
     ]
    },
    {
     "data": {
      "text/html": [
       "<br/>Waiting for W&B process to finish, PID 186367<br/>Program ended successfully."
      ],
      "text/plain": [
       "<IPython.core.display.HTML object>"
      ]
     },
     "metadata": {},
     "output_type": "display_data"
    },
    {
     "name": "stderr",
     "output_type": "stream",
     "text": [
      "Widget Javascript not detected.  It may not be installed or enabled properly.\n"
     ]
    },
    {
     "data": {
      "application/vnd.jupyter.widget-view+json": {
       "model_id": "18875edc084941189aa51474e193ef7c"
      }
     },
     "metadata": {},
     "output_type": "display_data"
    },
    {
     "data": {
      "text/html": [
       "Find user logs for this run at: <code>/home/sazeglio/NMAs/src/wandb/run-20210814_205026-upybfwsi/logs/debug.log</code>"
      ],
      "text/plain": [
       "<IPython.core.display.HTML object>"
      ]
     },
     "metadata": {},
     "output_type": "display_data"
    },
    {
     "data": {
      "text/html": [
       "Find internal logs for this run at: <code>/home/sazeglio/NMAs/src/wandb/run-20210814_205026-upybfwsi/logs/debug-internal.log</code>"
      ],
      "text/plain": [
       "<IPython.core.display.HTML object>"
      ]
     },
     "metadata": {},
     "output_type": "display_data"
    },
    {
     "data": {
      "text/html": [
       "<h3>Run summary:</h3><br/><style>\n",
       "    table.wandb td:nth-child(1) { padding: 0 10px; text-align: right }\n",
       "    </style><table class=\"wandb\">\n",
       "<tr><td>train_loss</td><td>1.44262</td></tr><tr><td>valid_loss</td><td>1.57381</td></tr><tr><td>epoch</td><td>3999</td></tr><tr><td>_runtime</td><td>282</td></tr><tr><td>_timestamp</td><td>1628967309</td></tr><tr><td>_step</td><td>3999</td></tr></table>"
      ],
      "text/plain": [
       "<IPython.core.display.HTML object>"
      ]
     },
     "metadata": {},
     "output_type": "display_data"
    },
    {
     "data": {
      "text/html": [
       "<h3>Run history:</h3><br/><style>\n",
       "    table.wandb td:nth-child(1) { padding: 0 10px; text-align: right }\n",
       "    </style><table class=\"wandb\">\n",
       "<tr><td>train_loss</td><td>█▄▃▃▃▃▃▃▃▃▃▃▃▂▂▂▂▂▂▂▂▂▂▂▂▂▂▂▁▁▁▁▁▁▁▁▁▁▁▁</td></tr><tr><td>valid_loss</td><td>█▄▃▃▃▃▃▃▃▃▃▃▃▂▂▂▂▂▂▂▂▂▂▂▂▂▂▂▁▁▁▁▁▁▁▁▁▁▁▁</td></tr><tr><td>epoch</td><td>▁▁▁▂▂▂▂▂▂▃▃▃▃▃▄▄▄▄▄▄▅▅▅▅▅▅▆▆▆▆▆▇▇▇▇▇▇███</td></tr><tr><td>_runtime</td><td>▁▁▁▂▂▂▂▂▂▃▃▃▃▃▃▄▄▄▄▄▅▅▅▅▅▅▆▆▆▆▆▇▇▇▇▇▇███</td></tr><tr><td>_timestamp</td><td>▁▁▁▂▂▂▂▂▂▃▃▃▃▃▃▄▄▄▄▄▅▅▅▅▅▅▆▆▆▆▆▇▇▇▇▇▇███</td></tr><tr><td>_step</td><td>▁▁▁▂▂▂▂▂▂▃▃▃▃▃▄▄▄▄▄▄▅▅▅▅▅▅▆▆▆▆▆▇▇▇▇▇▇███</td></tr></table><br/>"
      ],
      "text/plain": [
       "<IPython.core.display.HTML object>"
      ]
     },
     "metadata": {},
     "output_type": "display_data"
    },
    {
     "data": {
      "text/html": [
       "Synced 5 W&B file(s), 0 media file(s), 0 artifact file(s) and 0 other file(s)"
      ],
      "text/plain": [
       "<IPython.core.display.HTML object>"
      ]
     },
     "metadata": {},
     "output_type": "display_data"
    },
    {
     "data": {
      "text/html": [
       "\n",
       "                    <br/>Synced <strong style=\"color:#cdcd00\">legendary-sweep-50</strong>: <a href=\"https://wandb.ai/sazio/NMAs-Small-Hidden-Dims/runs/upybfwsi\" target=\"_blank\">https://wandb.ai/sazio/NMAs-Small-Hidden-Dims/runs/upybfwsi</a><br/>\n",
       "                "
      ],
      "text/plain": [
       "<IPython.core.display.HTML object>"
      ]
     },
     "metadata": {},
     "output_type": "display_data"
    }
   ],
   "source": [
    "wandb.agent(sweep_id, train, count= 50)"
   ]
  }
 ],
 "metadata": {
  "accelerator": "GPU",
  "colab": {
   "collapsed_sections": [],
   "include_colab_link": true,
   "name": "Data_Loader.ipynb",
   "provenance": []
  },
  "kernelspec": {
   "display_name": "Python 3",
   "language": "python",
   "name": "python3"
  },
  "language_info": {
   "codemirror_mode": {
    "name": "ipython",
    "version": 3
   },
   "file_extension": ".py",
   "mimetype": "text/x-python",
   "name": "python",
   "nbconvert_exporter": "python",
   "pygments_lexer": "ipython3",
   "version": "3.8.10"
  },
  "widgets": {
   "application/vnd.jupyter.widget-state+json": {
    "32dcf54089bc45cbbc7ace38a12d88ff": {
     "model_module": "@jupyter-widgets/base",
     "model_module_version": "1.2.0",
     "model_name": "LayoutModel",
     "state": {
      "_model_module": "@jupyter-widgets/base",
      "_model_module_version": "1.2.0",
      "_model_name": "LayoutModel",
      "_view_count": null,
      "_view_module": "@jupyter-widgets/base",
      "_view_module_version": "1.2.0",
      "_view_name": "LayoutView",
      "align_content": null,
      "align_items": null,
      "align_self": null,
      "border": null,
      "bottom": null,
      "display": null,
      "flex": null,
      "flex_flow": null,
      "grid_area": null,
      "grid_auto_columns": null,
      "grid_auto_flow": null,
      "grid_auto_rows": null,
      "grid_column": null,
      "grid_gap": null,
      "grid_row": null,
      "grid_template_areas": null,
      "grid_template_columns": null,
      "grid_template_rows": null,
      "height": null,
      "justify_content": null,
      "justify_items": null,
      "left": null,
      "margin": null,
      "max_height": null,
      "max_width": null,
      "min_height": null,
      "min_width": null,
      "object_fit": null,
      "object_position": null,
      "order": null,
      "overflow": null,
      "overflow_x": null,
      "overflow_y": null,
      "padding": null,
      "right": null,
      "top": null,
      "visibility": null,
      "width": null
     }
    },
    "4e573a939d0c445b9e11bdcaf3c8098b": {
     "model_module": "@jupyter-widgets/controls",
     "model_module_version": "1.5.0",
     "model_name": "HBoxModel",
     "state": {
      "_dom_classes": [],
      "_model_module": "@jupyter-widgets/controls",
      "_model_module_version": "1.5.0",
      "_model_name": "HBoxModel",
      "_view_count": null,
      "_view_module": "@jupyter-widgets/controls",
      "_view_module_version": "1.5.0",
      "_view_name": "HBoxView",
      "box_style": "",
      "children": [
       "IPY_MODEL_e47ef23e2b144ea3ac0d313d52ab158d",
       "IPY_MODEL_6b88c683452f46869fa8d3431ce8c0f2"
      ],
      "layout": "IPY_MODEL_a22204bd65224165bf9a0ea65d1e5592"
     }
    },
    "5dd4e738c49542eab4ee6833cc62b146": {
     "model_module": "@jupyter-widgets/controls",
     "model_module_version": "1.5.0",
     "model_name": "DescriptionStyleModel",
     "state": {
      "_model_module": "@jupyter-widgets/controls",
      "_model_module_version": "1.5.0",
      "_model_name": "DescriptionStyleModel",
      "_view_count": null,
      "_view_module": "@jupyter-widgets/base",
      "_view_module_version": "1.2.0",
      "_view_name": "StyleView",
      "description_width": ""
     }
    },
    "6b88c683452f46869fa8d3431ce8c0f2": {
     "model_module": "@jupyter-widgets/controls",
     "model_module_version": "1.5.0",
     "model_name": "HTMLModel",
     "state": {
      "_dom_classes": [],
      "_model_module": "@jupyter-widgets/controls",
      "_model_module_version": "1.5.0",
      "_model_name": "HTMLModel",
      "_view_count": null,
      "_view_module": "@jupyter-widgets/controls",
      "_view_module_version": "1.5.0",
      "_view_name": "HTMLView",
      "description": "",
      "description_tooltip": null,
      "layout": "IPY_MODEL_8598ad26b4ee4da58c65a2b2741cd880",
      "placeholder": "​",
      "style": "IPY_MODEL_5dd4e738c49542eab4ee6833cc62b146",
      "value": " 1000/1000 [04:50&lt;00:00,  3.44it/s]"
     }
    },
    "8598ad26b4ee4da58c65a2b2741cd880": {
     "model_module": "@jupyter-widgets/base",
     "model_module_version": "1.2.0",
     "model_name": "LayoutModel",
     "state": {
      "_model_module": "@jupyter-widgets/base",
      "_model_module_version": "1.2.0",
      "_model_name": "LayoutModel",
      "_view_count": null,
      "_view_module": "@jupyter-widgets/base",
      "_view_module_version": "1.2.0",
      "_view_name": "LayoutView",
      "align_content": null,
      "align_items": null,
      "align_self": null,
      "border": null,
      "bottom": null,
      "display": null,
      "flex": null,
      "flex_flow": null,
      "grid_area": null,
      "grid_auto_columns": null,
      "grid_auto_flow": null,
      "grid_auto_rows": null,
      "grid_column": null,
      "grid_gap": null,
      "grid_row": null,
      "grid_template_areas": null,
      "grid_template_columns": null,
      "grid_template_rows": null,
      "height": null,
      "justify_content": null,
      "justify_items": null,
      "left": null,
      "margin": null,
      "max_height": null,
      "max_width": null,
      "min_height": null,
      "min_width": null,
      "object_fit": null,
      "object_position": null,
      "order": null,
      "overflow": null,
      "overflow_x": null,
      "overflow_y": null,
      "padding": null,
      "right": null,
      "top": null,
      "visibility": null,
      "width": null
     }
    },
    "a22204bd65224165bf9a0ea65d1e5592": {
     "model_module": "@jupyter-widgets/base",
     "model_module_version": "1.2.0",
     "model_name": "LayoutModel",
     "state": {
      "_model_module": "@jupyter-widgets/base",
      "_model_module_version": "1.2.0",
      "_model_name": "LayoutModel",
      "_view_count": null,
      "_view_module": "@jupyter-widgets/base",
      "_view_module_version": "1.2.0",
      "_view_name": "LayoutView",
      "align_content": null,
      "align_items": null,
      "align_self": null,
      "border": null,
      "bottom": null,
      "display": null,
      "flex": null,
      "flex_flow": null,
      "grid_area": null,
      "grid_auto_columns": null,
      "grid_auto_flow": null,
      "grid_auto_rows": null,
      "grid_column": null,
      "grid_gap": null,
      "grid_row": null,
      "grid_template_areas": null,
      "grid_template_columns": null,
      "grid_template_rows": null,
      "height": null,
      "justify_content": null,
      "justify_items": null,
      "left": null,
      "margin": null,
      "max_height": null,
      "max_width": null,
      "min_height": null,
      "min_width": null,
      "object_fit": null,
      "object_position": null,
      "order": null,
      "overflow": null,
      "overflow_x": null,
      "overflow_y": null,
      "padding": null,
      "right": null,
      "top": null,
      "visibility": null,
      "width": null
     }
    },
    "d626a6d0d4ca442da18e75016ca4603e": {
     "model_module": "@jupyter-widgets/controls",
     "model_module_version": "1.5.0",
     "model_name": "ProgressStyleModel",
     "state": {
      "_model_module": "@jupyter-widgets/controls",
      "_model_module_version": "1.5.0",
      "_model_name": "ProgressStyleModel",
      "_view_count": null,
      "_view_module": "@jupyter-widgets/base",
      "_view_module_version": "1.2.0",
      "_view_name": "StyleView",
      "bar_color": null,
      "description_width": "initial"
     }
    },
    "e47ef23e2b144ea3ac0d313d52ab158d": {
     "model_module": "@jupyter-widgets/controls",
     "model_module_version": "1.5.0",
     "model_name": "FloatProgressModel",
     "state": {
      "_dom_classes": [],
      "_model_module": "@jupyter-widgets/controls",
      "_model_module_version": "1.5.0",
      "_model_name": "FloatProgressModel",
      "_view_count": null,
      "_view_module": "@jupyter-widgets/controls",
      "_view_module_version": "1.5.0",
      "_view_name": "ProgressView",
      "bar_style": "success",
      "description": "100%",
      "description_tooltip": null,
      "layout": "IPY_MODEL_32dcf54089bc45cbbc7ace38a12d88ff",
      "max": 1000,
      "min": 0,
      "orientation": "horizontal",
      "style": "IPY_MODEL_d626a6d0d4ca442da18e75016ca4603e",
      "value": 1000
     }
    }
   }
  }
 },
 "nbformat": 4,
 "nbformat_minor": 1
}
